{
 "cells": [
  {
   "cell_type": "markdown",
   "id": "473615fe",
   "metadata": {},
   "source": [
    "# Libraries"
   ]
  },
  {
   "cell_type": "code",
   "execution_count": 1,
   "id": "1c2acc66",
   "metadata": {},
   "outputs": [],
   "source": [
    "import pandas as pd\n",
    "import numpy as np\n",
    "import pickle\n",
    "from sqlalchemy import create_engine\n",
    "from sqlalchemy import text"
   ]
  },
  {
   "cell_type": "markdown",
   "id": "45796b01",
   "metadata": {},
   "source": [
    "# 1) SQL"
   ]
  },
  {
   "cell_type": "markdown",
   "id": "02675f91",
   "metadata": {},
   "source": [
    "## Engine"
   ]
  },
  {
   "cell_type": "code",
   "execution_count": 2,
   "id": "fcecb92a",
   "metadata": {
    "tags": [
     "hide_input"
    ]
   },
   "outputs": [],
   "source": [
    "host = \"localhost\"           \n",
    "port = \"5432\"                \n",
    "database = \"AACT\"\n",
    "user = \"postgres\"\n",
    "password = \"pgAdmin4321\"\n",
    "connection_string = f\"postgresql+psycopg2://{user}:{password}@{host}:{port}/{database}\"\n",
    "engine = create_engine(connection_string)"
   ]
  },
  {
   "cell_type": "markdown",
   "id": "bd8705c8",
   "metadata": {},
   "source": [
    "# Tables"
   ]
  },
  {
   "cell_type": "markdown",
   "id": "c3ecf7c1",
   "metadata": {},
   "source": [
    "## my_studies"
   ]
  },
  {
   "cell_type": "code",
   "execution_count": 3,
   "id": "61fc071b",
   "metadata": {},
   "outputs": [
    {
     "data": {
      "application/vnd.microsoft.datawrangler.viewer.v0+json": {
       "columns": [
        {
         "name": "index",
         "rawType": "int64",
         "type": "integer"
        },
        {
         "name": "nct_id",
         "rawType": "object",
         "type": "string"
        },
        {
         "name": "brief_title",
         "rawType": "object",
         "type": "string"
        },
        {
         "name": "official_title",
         "rawType": "object",
         "type": "unknown"
        },
        {
         "name": "overall_status",
         "rawType": "object",
         "type": "string"
        },
        {
         "name": "phase",
         "rawType": "object",
         "type": "unknown"
        },
        {
         "name": "number_of_arms",
         "rawType": "float64",
         "type": "float"
        },
        {
         "name": "enrollment",
         "rawType": "float64",
         "type": "float"
        }
       ],
       "ref": "ea637fdb-c236-4e70-be0d-c7d798c79add",
       "rows": [
        [
         "0",
         "NCT00125528",
         "D-cycloserine in the Management of Chronic Low Back Pain",
         "D-Cycloserine in the Management of Chronic Low Back Pain: A Double-Blind, Randomized, Placebo-Controlled Pilot Study",
         "COMPLETED",
         "PHASE2",
         "2.0",
         "41.0"
        ],
        [
         "1",
         "NCT00170209",
         "Rifampin Versus Isoniazid for the Treatment of Latent Tuberculosis Infection in Children (P4v9)",
         "A Randomized Trial to Compare Effectiveness of 4 Months Rifampin (4 RIF) With 9 Months Isoniazid (9 INH) in the Prevention of Active TB in Children: The P4v9 Trial",
         "COMPLETED",
         "PHASE3",
         "2.0",
         "844.0"
        ],
        [
         "2",
         "NCT00183482",
         "Family Cognitive Behavioral Therapy for Preventing Depression in Children",
         "Family Cognitive Behavioral Prevention of Depression in Children of Parents With a History of Major Depressive Disorder",
         "COMPLETED",
         "NA",
         "2.0",
         "304.0"
        ],
        [
         "3",
         "NCT00194714",
         "Vaccine Therapy in Treating Patients With Stage IV HLA-A2 and HER2 Positive Breast or Ovarian Cancer Receiving Trastuzumab",
         "Phase I/II Study of Combination Immunotherapy for the Generation of HER-2/Neu (HER2) Specific Cytotoxic T Cells (CTL) in Vivo",
         "COMPLETED",
         "PHASE1/PHASE2",
         "1.0",
         "22.0"
        ],
        [
         "4",
         "NCT00258791",
         "Effects of Pretreatment With Ibuprofen in Post-Electroconvulsive Therapy (ECT) Headache",
         "Effects of Pretreatment With Ibuprofen in Post- ECT Headache",
         "WITHDRAWN",
         "NA",
         null,
         "0.0"
        ],
        [
         "5",
         "NCT00263432",
         "Reparation of Cartilage Injuries in the Human Knee by Implantation of Fresh Human Allogenic Chondrocytes",
         "Reparation of Cartilage Injuries in the Human Knee by Implantation of Fresh Human Allogenic Chondrocytes",
         "COMPLETED",
         "NA",
         "1.0",
         "10.0"
        ],
        [
         "6",
         "NCT00293735",
         "Labetalol Versus Magnesium Sulfate (MgSO4) for the Prevention of Eclampsia Trial",
         "Labetalol Versus MgSO4 for the Prevention of Eclampsia Trial (LAMPET)",
         "WITHDRAWN",
         "PHASE2/PHASE3",
         "2.0",
         "0.0"
        ],
        [
         "7",
         "NCT00306059",
         "Early Goal Directed Therapy for Acute Kidney Injury",
         "Early Goal Directed Therapy for Acute Kidney Injury",
         "WITHDRAWN",
         "PHASE2",
         "1.0",
         "0.0"
        ],
        [
         "8",
         "NCT00307905",
         "TRAUMEEL for Pain After Fracture of Neck of Femur",
         "A Randomised, Double - Blind, Placebo Controlled Clinical Trial to Assess the Efficacy of the Homeopathic Medication TRAUMEEL S in Controlling Post-operative Pain After Fracture of Neck of Femur",
         "WITHDRAWN",
         "PHASE3",
         "2.0",
         "224.0"
        ],
        [
         "9",
         "NCT00323141",
         "Intraperitoneal Mesh With 3cm Overlap Versus a Rives-Stoppa Repair With a 6cm Overlap in Hernia Umbilicalis",
         "Prospective Randomized Trial to Study the Effectiveness of an Intraperitoneal Mesh With an Overlap of 3cm Versus a Rives-Stoppa Repair With an Overlap of 6cm With Patients With a Hernia Umbilicalis",
         "COMPLETED",
         "NA",
         "2.0",
         "50.0"
        ],
        [
         "10",
         "NCT00328809",
         "Spironolactone Safety in Dialysis Patients",
         "Subjects With Severe Heart Failure and End-Stage Renal Disease on Hemodialysis: A Pilot Study to Assess Safety and Tolerability of Spironolactone",
         "WITHDRAWN",
         "PHASE4",
         "1.0",
         "0.0"
        ],
        [
         "11",
         "NCT00329641",
         "Sorafenib, Carboplatin, and Paclitaxel in Treating Patients With Stage IV Melanoma of the Eye",
         "Phase II Trial of BAY 43-9006 (Sorafenib; NSC-724772) in Combination With Carboplatin and Paclitaxel in Patients With Metastatic Uveal Melanoma",
         "COMPLETED",
         "PHASE2",
         "1.0",
         "25.0"
        ],
        [
         "12",
         "NCT00356317",
         "Culturally Based Family Therapy for Improving Treatment Outcome for People With Schizophrenia",
         "A Culturally Based Family Therapy for Schizophrenia",
         "COMPLETED",
         "PHASE2",
         "2.0",
         "400.0"
        ],
        [
         "13",
         "NCT00362219",
         "Topical Morphine for Analgesia in Patients With Skin Grafts",
         "Topical Morphine for Analgesia in Patients With Skin Grafts",
         "WITHDRAWN",
         "PHASE3",
         "4.0",
         "0.0"
        ],
        [
         "14",
         "NCT00364000",
         "Arterial Stiffness and Calcifications in Haemodialysis Patients on Sevelamer or Calcium Acetate",
         "Arterial Stiffness and Arterial Calcifications Evolution in ESRD Haemodialysis Patients Treated by Sevelamer or Calcium Acetate",
         "WITHDRAWN",
         "NA",
         "2.0",
         "0.0"
        ],
        [
         "15",
         "NCT00372762",
         "Bumetanide Versus Furosemide in Heart Failure",
         "Bumetanide Has a More Favourable Effect on Insulin Resistance Than Furosemide in Patients With Heart Failure - A Pilot Study",
         "WITHDRAWN",
         "PHASE3",
         "2.0",
         "0.0"
        ],
        [
         "16",
         "NCT00397501",
         "BBBD Followed By Methotrexate and Carboplatin With or Without Trastuzumab in Treating Women With Breast Cancer That Has Spread to the Brain",
         "A Phase I/II Pilot Study of Patients With Brain Metastasis Secondary to Breast Cancer Treated With Methotrexate and Carboplatin in Conjunction With Blood-Brain Barrier Disruption, With Concurrent Trastuzumab in HER-2 Positive Patients",
         "WITHDRAWN",
         "PHASE1/PHASE2",
         "2.0",
         "0.0"
        ],
        [
         "17",
         "NCT00397579",
         "DT388IL3 Fusion Protein in Treating Patients With Acute Myeloid Leukemia or Myelodysplastic Syndromes",
         "Therapy Targeting the Interleukin-3 Receptor (IL3R) for Patients With Relapsed or Refractory and Elderly or Poor-Risk Acute Myeloid Leukemia (AML) or High-Risk Myelodysplastic Syndrome With DTIL3 (IND# 11314): a Phase I/II Clinical Trial",
         "COMPLETED",
         "PHASE1/PHASE2",
         "1.0",
         "11.0"
        ],
        [
         "18",
         "NCT00399594",
         "Effect of Targeting Left Ventricular Lead Position on the Rate of Response to Cardiac Resynchronization Therapy.",
         "Investigating Non-response to Cardiac Resynchronization: Evaluation of Methods to Eliminate Non-response & Target Appropriate Lead Location (INCREMENTAL).",
         "COMPLETED",
         "PHASE2/PHASE3",
         "2.0",
         "96.0"
        ],
        [
         "19",
         "NCT00412048",
         "Functional Magnetic Resonance Imaging - Synthetic Aperture Magnetometry (fMRI-SAM) and Alzheimer's Disease",
         "Evaluation of fMRI-SAM in the Early Detection of Alzheimer's Disease.",
         "WITHDRAWN",
         "NA",
         "3.0",
         "0.0"
        ],
        [
         "20",
         "NCT00422422",
         "Open-label, Pharmacokinetic, Safety and Efficacy Study of Adjunctive Brivaracetam in Children With Epilepsy.",
         "Open-Label, Single-Arm, Multicenter, Pharmacokinetic, Safety, and Efficacy Study of Adjunctive Administration of Brivaracetam in Subjects From ≥1 Month to <16 Years Old With Epilepsy",
         "COMPLETED",
         "PHASE2",
         "1.0",
         "100.0"
        ],
        [
         "21",
         "NCT00442494",
         "Corticosteroids for the Prevention of Atrial Fibrillation After Cardiac Surgery",
         "Feasibility of Corticosteroid in the Prevention of Atrial Fibrillation After Cardiac Surgery: A Prospective, Double-Blind Randomized Multicenter Trial",
         "TERMINATED",
         "NA",
         "1.0",
         "1.0"
        ],
        [
         "22",
         "NCT00448201",
         "Reduced-Intensity Busulfan and Fludarabine With or Without Antithymocyte Globulin Followed by Donor Stem Cell Transplant in Treating Patients With Hematologic Cancer or Other Disease",
         "Allogeneic Hematopoietic Cell Transplantation for Patients With Hematologic Disorders Who Are Ineligible or Inappropriate for Treatment With a More Intensive Therapeutic Regimen",
         "COMPLETED",
         "PHASE2",
         "4.0",
         "71.0"
        ],
        [
         "23",
         "NCT00455039",
         "INST 0514C- Biologic Correlative Study: Trial of GW572016 in HER2 Overexpressing Breast Cancer Patients",
         "INST 0514C- A Neoadjuvant Phase II Trial of GW572016 in HER2 Overexpressing Breast Cancer Patients: Biologic Correlative Study",
         "WITHDRAWN",
         "PHASE1/PHASE2",
         "1.0",
         "0.0"
        ],
        [
         "24",
         "NCT00455052",
         "A Study of Intravenous XMT-1001 in Patients With Advanced Solid Tumors",
         "A Phase 1 Study of the Safety, Tolerability, and Pharmacokinetics of Intravenous XMT-1001 in Patients With Advanced Solid Tumors",
         "COMPLETED",
         "PHASE1",
         "1.0",
         "30.0"
        ],
        [
         "25",
         "NCT00459641",
         "Safety and Tolerability of I-040302 in Children and Young Adults With Solitary Bone Cysts",
         "A Phase 2 Randomised, Open-label, Multi-centre Ascending Dose Study of the Efficacy, Safety and Tolerability of I-040302 Versus Control Injection (Bone Marrow Aspirate or Steroids) in Children and Young Adults With Solitary Bone Cysts",
         "WITHDRAWN",
         "PHASE2",
         "2.0",
         "0.0"
        ],
        [
         "26",
         "NCT00476255",
         "Evaluating Models for Dissemination of Injury Prevention Information in the Pediatric Emergency Department Setting",
         "Evaluating Models for Dissemination of Injury Prevention Information in the PED",
         "WITHDRAWN",
         "NA",
         "2.0",
         "0.0"
        ],
        [
         "27",
         "NCT00488605",
         "H-9926-LCH III: Treatment Protocol of the Third International Study for Langerhans Cell Histiocytosis",
         "H-9926-LCH III: Treatment Protocol of the Third International Study for Langerhans Cell Histiocytosis",
         "WITHDRAWN",
         "PHASE3",
         "2.0",
         "0.0"
        ],
        [
         "28",
         "NCT00493701",
         "\"ADAPT\" The Adaptation to High Fat Diets Extention",
         "ADAPT-The Adaptation to High Fat Diets",
         "COMPLETED",
         "NA",
         "2.0",
         "72.0"
        ],
        [
         "29",
         "NCT00504322",
         "Efficacy Study on the Transfer of Adenovirus With the CD40 Ligand Gene (AdcuCD40L) to Patients With Esophageal Carcinoma",
         "Phase II, Randomized, Double-blinded, Placebo-Control, Toxicity/Efficacy Study on the Transfer of Adenovirus With the CD40 Ligand Gene (AdcuCD40L) to Patients With Stage I, II or III Esophageal Carcinoma",
         "WITHDRAWN",
         "PHASE1/PHASE2",
         "2.0",
         "0.0"
        ],
        [
         "30",
         "NCT00520624",
         "Treatment of Exercise-induced Laryngomalacia in Elite Athletes",
         "Treatment of Exercise-induced Laryngo Obstruction in Elite Athletes",
         "WITHDRAWN",
         "NA",
         "5.0",
         "0.0"
        ],
        [
         "31",
         "NCT00532584",
         "Effect of Steroids on Gene Expression in the Healthy Smokers Lungs",
         "Effect of Inhaled Steroids in Combination With a Long Acting Bronchodilator on Gene Expression in the Lungs of Healthy Smokers",
         "WITHDRAWN",
         "PHASE4",
         "3.0",
         "0.0"
        ],
        [
         "32",
         "NCT00534235",
         "Post-Approval Clinical Trial Comparing the Long Term Safety and Effectiveness Coflex vs. Fusion to Treat Lumbar Spinal Stenosis",
         "Post-Approval Study to Investigate The Long Term (5-Year) Survivorship of Coflex Compared to Control Fusion Study Patients",
         "COMPLETED",
         "NA",
         "2.0",
         "322.0"
        ],
        [
         "33",
         "NCT00534404",
         "A Randomized Trial of Internet Access to Nicotine Patches",
         "iQuit Smoking: A Randomized Trial of Internet Access to Nicotine Patches",
         "COMPLETED",
         "NA",
         "3.0",
         "2485.0"
        ],
        [
         "34",
         "NCT00534703",
         "Investigation of the Safety and Feasibility of AAV1/SERCA2a Gene Transfer in Patients With Chronic Heart Failure",
         "Investigation of the Safety and Feasibility of AAV1/SERCA2a Gene Transfer in Patients With Chronic Heart Failure and a Left Ventricular Assist Device",
         "TERMINATED",
         "PHASE2",
         "2.0",
         "5.0"
        ],
        [
         "35",
         "NCT00554996",
         "Bacterial Interference for Prevention of Catheter-Associated UTI: Geriatric Pilot Study",
         "Bacterial Interference for Prevention of Catheter-Associated UTI",
         "COMPLETED",
         "PHASE1",
         "1.0",
         "10.0"
        ],
        [
         "36",
         "NCT00570050",
         "Effect of Intranasal Insulin on Depressive Symptoms in Major Depressive Disorder",
         "A Randomized, Double-blind, Placebo-controlled Cross-over Trial Evaluating the Effect of Intranasal Insulin on Depressive Symptoms in Individuals With Major Depressive Disorder Insufficiently Responsive to Antidepressant Therapy",
         "COMPLETED",
         "PHASE3",
         "2.0",
         "35.0"
        ],
        [
         "37",
         "NCT00571246",
         "The Use of Anticonvulsants for Treatment of Patients With Alcohol Dependence and Post Traumatic Stress Disorder",
         "The Use of Anticonvulsants for Treatment of Patients With Alcohol Dependence and Post Traumatic Stress Disorder",
         "WITHDRAWN",
         "PHASE3",
         "3.0",
         "0.0"
        ],
        [
         "38",
         "NCT00572533",
         "Intelligent Control Approach to Anemia Management",
         "Intelligent Control Approach to Anemia Management (AIM 4)",
         "COMPLETED",
         "NA",
         "2.0",
         "62.0"
        ],
        [
         "39",
         "NCT00572689",
         "Pilot Study of Exenatide Pharmacokinetics and Pharmacodynamics in Gestational Diabetes",
         "Pilot Study of Exenatide Pharmacokinetics and Pharmacodynamics in Gestational Diabetes",
         "WITHDRAWN",
         "PHASE4",
         "2.0",
         "0.0"
        ],
        [
         "40",
         "NCT00576771",
         "Effects of Different Assisted Mechanical Ventilation in Acute Lung Injury/Acute Respiratory Distress Syndrome (ALI/ARDS) Patients: Pressure Support Ventilation (PSV), Neurally Adjusted Ventilatory Assist (NAVA) and Controlled by Patient",
         "Effects of Different Assisted Mechanical Ventilation in ALI/ARDS Patients: PSV, NAVA and Controlled by Patient",
         "COMPLETED",
         "NA",
         "1.0",
         "15.0"
        ],
        [
         "41",
         "NCT00580580",
         "Detection of Coronary Stenosis With Intravenous Microbubbles",
         "The Detection of Coronary Stenosis With Intravenous Mircrobubbles and Contrast Pulse Sequence Low Mechanical Index Imaging",
         "WITHDRAWN",
         "NA",
         "3.0",
         "0.0"
        ],
        [
         "42",
         "NCT00591877",
         "A Study to Evaluate the Role of Alternative Medicine in Difficult to Treat GERD Patients",
         "A Study to Evaluate the Role of Alternative Medicine in Difficult to Treat GERD Patients",
         "WITHDRAWN",
         "NA",
         "3.0",
         "0.0"
        ],
        [
         "43",
         "NCT00593164",
         "Clinical Study of the LRS ThermoSuit™ System in Post Arrest Patients With Intravenous Infusion of Magnesium Sulfate",
         "Clinical Study of the LRS ThermoSuit™ System in Post Arrest Patients With Intravenous Infusion of Magnesium Sulfate",
         "WITHDRAWN",
         "PHASE2",
         "2.0",
         "0.0"
        ],
        [
         "44",
         "NCT00596856",
         "Development and Dissemination of Oral Health Risk Assessment and Referral Guidelines",
         "Development and Dissemination of Oral Health Risk Assessment and Referral Guidelines - PORRT",
         "WITHDRAWN",
         "NA",
         "3.0",
         "0.0"
        ],
        [
         "45",
         "NCT00601952",
         "Information Processing Modification in PTSD (Oct. 18)",
         "Information Processing Modification in PTSD",
         "COMPLETED",
         "NA",
         "2.0",
         "37.0"
        ],
        [
         "46",
         "NCT00603460",
         "DCVax-L Vaccination With CD3/CD28 Costimulated Autologous T-Cells for Recurrent Ovarian or Primary Peritoneal Cancer",
         "A Phase-I/II Randomized Trial of Maintenance Vaccination Combined With Metronomic Cyclophosphamide w/wo Adoptive Transfer of CD3/CD28-CoStimulated T-Cells for Recurrent Ovarian or Primary Peritoneal Cancer Previously Vaccinated DCVax-L",
         "WITHDRAWN",
         "PHASE1/PHASE2",
         "2.0",
         "0.0"
        ],
        [
         "47",
         "NCT00613418",
         "Comparative Study Of Safety And Efficacy Of The SUPERA® Nitinol Stent - Iliac Artery",
         "Comparative Study of Safety and Efficacy of the SUPERA® Wire Interwoven Self-expanding Nitinol Stent and Currently Approved Stents for Patients With Iliac Lesions",
         "WITHDRAWN",
         "NA",
         "1.0",
         "0.0"
        ],
        [
         "48",
         "NCT00623948",
         "Implanted Gluteal Stimulation System for Pressure Sore Prevention",
         "Implanted Gluteal Stimulation System for Pressure Sore Prevention",
         "WITHDRAWN",
         "NA",
         "1.0",
         "0.0"
        ],
        [
         "49",
         "NCT00640094",
         "The Melatonin Adjunct in the Acute myocaRdial Infarction Treated With Angioplasty",
         "Randomized, Double-blind, Parallel-group, Placebo-controlled Study of Melatonin as an Adjunct in Patients With Acute myocaRdial Infarction Undergoing Primary Angioplasty",
         "TERMINATED",
         "PHASE2",
         "2.0",
         "272.0"
        ]
       ],
       "shape": {
        "columns": 7,
        "rows": 182236
       }
      },
      "text/html": [
       "<div>\n",
       "<style scoped>\n",
       "    .dataframe tbody tr th:only-of-type {\n",
       "        vertical-align: middle;\n",
       "    }\n",
       "\n",
       "    .dataframe tbody tr th {\n",
       "        vertical-align: top;\n",
       "    }\n",
       "\n",
       "    .dataframe thead th {\n",
       "        text-align: right;\n",
       "    }\n",
       "</style>\n",
       "<table border=\"1\" class=\"dataframe\">\n",
       "  <thead>\n",
       "    <tr style=\"text-align: right;\">\n",
       "      <th></th>\n",
       "      <th>nct_id</th>\n",
       "      <th>brief_title</th>\n",
       "      <th>official_title</th>\n",
       "      <th>overall_status</th>\n",
       "      <th>phase</th>\n",
       "      <th>number_of_arms</th>\n",
       "      <th>enrollment</th>\n",
       "    </tr>\n",
       "  </thead>\n",
       "  <tbody>\n",
       "    <tr>\n",
       "      <th>0</th>\n",
       "      <td>NCT00125528</td>\n",
       "      <td>D-cycloserine in the Management of Chronic Low...</td>\n",
       "      <td>D-Cycloserine in the Management of Chronic Low...</td>\n",
       "      <td>COMPLETED</td>\n",
       "      <td>PHASE2</td>\n",
       "      <td>2.0</td>\n",
       "      <td>41.0</td>\n",
       "    </tr>\n",
       "    <tr>\n",
       "      <th>1</th>\n",
       "      <td>NCT00170209</td>\n",
       "      <td>Rifampin Versus Isoniazid for the Treatment of...</td>\n",
       "      <td>A Randomized Trial to Compare Effectiveness of...</td>\n",
       "      <td>COMPLETED</td>\n",
       "      <td>PHASE3</td>\n",
       "      <td>2.0</td>\n",
       "      <td>844.0</td>\n",
       "    </tr>\n",
       "    <tr>\n",
       "      <th>2</th>\n",
       "      <td>NCT00183482</td>\n",
       "      <td>Family Cognitive Behavioral Therapy for Preven...</td>\n",
       "      <td>Family Cognitive Behavioral Prevention of Depr...</td>\n",
       "      <td>COMPLETED</td>\n",
       "      <td>NA</td>\n",
       "      <td>2.0</td>\n",
       "      <td>304.0</td>\n",
       "    </tr>\n",
       "    <tr>\n",
       "      <th>3</th>\n",
       "      <td>NCT00194714</td>\n",
       "      <td>Vaccine Therapy in Treating Patients With Stag...</td>\n",
       "      <td>Phase I/II Study of Combination Immunotherapy ...</td>\n",
       "      <td>COMPLETED</td>\n",
       "      <td>PHASE1/PHASE2</td>\n",
       "      <td>1.0</td>\n",
       "      <td>22.0</td>\n",
       "    </tr>\n",
       "    <tr>\n",
       "      <th>4</th>\n",
       "      <td>NCT00258791</td>\n",
       "      <td>Effects of Pretreatment With Ibuprofen in Post...</td>\n",
       "      <td>Effects of Pretreatment With Ibuprofen in Post...</td>\n",
       "      <td>WITHDRAWN</td>\n",
       "      <td>NA</td>\n",
       "      <td>NaN</td>\n",
       "      <td>0.0</td>\n",
       "    </tr>\n",
       "    <tr>\n",
       "      <th>...</th>\n",
       "      <td>...</td>\n",
       "      <td>...</td>\n",
       "      <td>...</td>\n",
       "      <td>...</td>\n",
       "      <td>...</td>\n",
       "      <td>...</td>\n",
       "      <td>...</td>\n",
       "    </tr>\n",
       "    <tr>\n",
       "      <th>182231</th>\n",
       "      <td>NCT06875349</td>\n",
       "      <td>Foot Reflexology and Abdominal Massage</td>\n",
       "      <td>The Effects of Foot Reflexology and Abdominal ...</td>\n",
       "      <td>COMPLETED</td>\n",
       "      <td>NA</td>\n",
       "      <td>3.0</td>\n",
       "      <td>90.0</td>\n",
       "    </tr>\n",
       "    <tr>\n",
       "      <th>182232</th>\n",
       "      <td>NCT06875557</td>\n",
       "      <td>Mind Matters; Unveiling the Impact of Digital ...</td>\n",
       "      <td>MIND MATTERS; UNVEILING THE IMPACT OF DIGITAL ...</td>\n",
       "      <td>COMPLETED</td>\n",
       "      <td>PHASE1/PHASE2</td>\n",
       "      <td>2.0</td>\n",
       "      <td>376.0</td>\n",
       "    </tr>\n",
       "    <tr>\n",
       "      <th>182233</th>\n",
       "      <td>NCT06875661</td>\n",
       "      <td>Treatment of Adolescent Idiopathic Scoliosis w...</td>\n",
       "      <td>Treatment of Adolescent Idiopathic Scoliosis w...</td>\n",
       "      <td>COMPLETED</td>\n",
       "      <td>NA</td>\n",
       "      <td>2.0</td>\n",
       "      <td>34.0</td>\n",
       "    </tr>\n",
       "    <tr>\n",
       "      <th>182234</th>\n",
       "      <td>NCT06875674</td>\n",
       "      <td>Selenium Biofortification of Strawberries</td>\n",
       "      <td>Selenium Biofortification of Strawberries and ...</td>\n",
       "      <td>COMPLETED</td>\n",
       "      <td>NA</td>\n",
       "      <td>3.0</td>\n",
       "      <td>44.0</td>\n",
       "    </tr>\n",
       "    <tr>\n",
       "      <th>182235</th>\n",
       "      <td>NCT06875687</td>\n",
       "      <td>Prostaglandin Analog Eyelash Serum and Ocular ...</td>\n",
       "      <td>Effects of a Prostaglandin Analog-Based Eyelas...</td>\n",
       "      <td>COMPLETED</td>\n",
       "      <td>NA</td>\n",
       "      <td>1.0</td>\n",
       "      <td>19.0</td>\n",
       "    </tr>\n",
       "  </tbody>\n",
       "</table>\n",
       "<p>182236 rows × 7 columns</p>\n",
       "</div>"
      ],
      "text/plain": [
       "             nct_id                                        brief_title  \\\n",
       "0       NCT00125528  D-cycloserine in the Management of Chronic Low...   \n",
       "1       NCT00170209  Rifampin Versus Isoniazid for the Treatment of...   \n",
       "2       NCT00183482  Family Cognitive Behavioral Therapy for Preven...   \n",
       "3       NCT00194714  Vaccine Therapy in Treating Patients With Stag...   \n",
       "4       NCT00258791  Effects of Pretreatment With Ibuprofen in Post...   \n",
       "...             ...                                                ...   \n",
       "182231  NCT06875349             Foot Reflexology and Abdominal Massage   \n",
       "182232  NCT06875557  Mind Matters; Unveiling the Impact of Digital ...   \n",
       "182233  NCT06875661  Treatment of Adolescent Idiopathic Scoliosis w...   \n",
       "182234  NCT06875674          Selenium Biofortification of Strawberries   \n",
       "182235  NCT06875687  Prostaglandin Analog Eyelash Serum and Ocular ...   \n",
       "\n",
       "                                           official_title overall_status  \\\n",
       "0       D-Cycloserine in the Management of Chronic Low...      COMPLETED   \n",
       "1       A Randomized Trial to Compare Effectiveness of...      COMPLETED   \n",
       "2       Family Cognitive Behavioral Prevention of Depr...      COMPLETED   \n",
       "3       Phase I/II Study of Combination Immunotherapy ...      COMPLETED   \n",
       "4       Effects of Pretreatment With Ibuprofen in Post...      WITHDRAWN   \n",
       "...                                                   ...            ...   \n",
       "182231  The Effects of Foot Reflexology and Abdominal ...      COMPLETED   \n",
       "182232  MIND MATTERS; UNVEILING THE IMPACT OF DIGITAL ...      COMPLETED   \n",
       "182233  Treatment of Adolescent Idiopathic Scoliosis w...      COMPLETED   \n",
       "182234  Selenium Biofortification of Strawberries and ...      COMPLETED   \n",
       "182235  Effects of a Prostaglandin Analog-Based Eyelas...      COMPLETED   \n",
       "\n",
       "                phase  number_of_arms  enrollment  \n",
       "0              PHASE2             2.0        41.0  \n",
       "1              PHASE3             2.0       844.0  \n",
       "2                  NA             2.0       304.0  \n",
       "3       PHASE1/PHASE2             1.0        22.0  \n",
       "4                  NA             NaN         0.0  \n",
       "...               ...             ...         ...  \n",
       "182231             NA             3.0        90.0  \n",
       "182232  PHASE1/PHASE2             2.0       376.0  \n",
       "182233             NA             2.0        34.0  \n",
       "182234             NA             3.0        44.0  \n",
       "182235             NA             1.0        19.0  \n",
       "\n",
       "[182236 rows x 7 columns]"
      ]
     },
     "execution_count": 3,
     "metadata": {},
     "output_type": "execute_result"
    }
   ],
   "source": [
    "create_table_sql = \"\"\"\n",
    "DROP TABLE IF EXISTS ctgov.my_studies;\n",
    "\n",
    "CREATE TABLE ctgov.my_studies AS\n",
    "SELECT DISTINCT ON \n",
    "    (\n",
    "studies.nct_id,\n",
    "studies.brief_title,\n",
    "studies.official_title,\n",
    "studies.source,\n",
    "studies.phase,\n",
    "studies.number_of_arms,\n",
    "studies.enrollment\n",
    "    ) \n",
    "studies.nct_id,\n",
    "studies.brief_title,\n",
    "studies.official_title,\n",
    "studies.overall_status,\n",
    "studies.phase,\n",
    "studies.number_of_arms,\n",
    "studies.enrollment\n",
    "\n",
    "from ctgov.studies\n",
    "WHERE TO_CHAR(studies.start_date, 'YYYY-MM') >= '2011-01'\n",
    "  AND studies.study_type = 'INTERVENTIONAL'\n",
    "  AND studies.overall_status in ('COMPLETED', 'WITHDRAWN', 'TERMINATED')\n",
    "\n",
    "ORDER BY \n",
    "studies.nct_id,\n",
    "studies.brief_title,\n",
    "studies.official_title,\n",
    "studies.source,\n",
    "studies.phase,\n",
    "studies.number_of_arms,\n",
    "studies.enrollment;\n",
    "\"\"\"\n",
    "\"\"\"\n",
    "with engine.connect() as conn:\n",
    "    conn.execute(text(create_table_sql))\n",
    "    conn.commit()\"\"\"\n",
    "\n",
    "my_studies = pd.read_sql(\"select * from ctgov.my_studies;\", con = engine)  # was not used anywhere a table. Only for investigational reasons\n",
    "my_studies"
   ]
  },
  {
   "cell_type": "markdown",
   "id": "3035b595",
   "metadata": {},
   "source": [
    "## my_terminations"
   ]
  },
  {
   "cell_type": "code",
   "execution_count": 4,
   "id": "4e4785f5",
   "metadata": {},
   "outputs": [
    {
     "data": {
      "application/vnd.microsoft.datawrangler.viewer.v0+json": {
       "columns": [
        {
         "name": "index",
         "rawType": "int64",
         "type": "integer"
        },
        {
         "name": "nct_id",
         "rawType": "object",
         "type": "string"
        },
        {
         "name": "why_stopped",
         "rawType": "object",
         "type": "unknown"
        },
        {
         "name": "overall_status",
         "rawType": "object",
         "type": "string"
        },
        {
         "name": "why_stopped2",
         "rawType": "object",
         "type": "unknown"
        }
       ],
       "ref": "5ae6f783-76b5-4c8a-934e-c0f919282221",
       "rows": [
        [
         "0",
         "NCT00258791",
         "first postponed then cancelled as national drug authority changed requirements",
         "WITHDRAWN",
         "Administration"
        ],
        [
         "1",
         "NCT00293735",
         "Lack of funding",
         "WITHDRAWN",
         "Fund"
        ],
        [
         "2",
         "NCT00306059",
         "Investigators decision",
         "WITHDRAWN",
         "Administration"
        ],
        [
         "3",
         "NCT00307905",
         "Anticipation of inadequate recruitment according to current format.",
         "WITHDRAWN",
         "Enrollment"
        ],
        [
         "4",
         "NCT00328809",
         "personnel shortage",
         "WITHDRAWN",
         null
        ],
        [
         "5",
         "NCT00362219",
         "no patients were recrueted",
         "WITHDRAWN",
         "Enrollment"
        ],
        [
         "6",
         "NCT00364000",
         "Limitted financial resources",
         "WITHDRAWN",
         "Fund"
        ],
        [
         "7",
         "NCT00372762",
         "Due to changes within the research program this study is not feasible at this time",
         "WITHDRAWN",
         "Administration"
        ],
        [
         "8",
         "NCT00397501",
         "after original approval, IRB closed enrollment; major revisions required to re-open.",
         "WITHDRAWN",
         "Enrollment"
        ],
        [
         "9",
         "NCT00412048",
         null,
         "WITHDRAWN",
         null
        ],
        [
         "10",
         "NCT00442494",
         "Study has been completed as planned",
         "TERMINATED",
         null
        ],
        [
         "11",
         "NCT00455039",
         "This is a duplicate record and the sponsor has submitted under NCT00206427.",
         "WITHDRAWN",
         "Fund"
        ],
        [
         "12",
         "NCT00459641",
         "Stopped before any site initiation or any recruitment due to change in overall product development plan",
         "WITHDRAWN",
         "Administration"
        ],
        [
         "13",
         "NCT00476255",
         "Unfunded",
         "WITHDRAWN",
         "Fund"
        ],
        [
         "14",
         "NCT00488605",
         "This is a duplicate record and the sponsor has registered the study.",
         "WITHDRAWN",
         "Fund"
        ],
        [
         "15",
         "NCT00504322",
         "No funding available.",
         "WITHDRAWN",
         "Fund"
        ],
        [
         "16",
         "NCT00520624",
         "No patients willing to join",
         "WITHDRAWN",
         "Enrollment"
        ],
        [
         "17",
         "NCT00532584",
         "Study not initiated due to funding.",
         "WITHDRAWN",
         "Fund"
        ],
        [
         "18",
         "NCT00534703",
         "Early termination following Trial Steering Committee recommendation",
         "TERMINATED",
         "Administration"
        ],
        [
         "19",
         "NCT00571246",
         null,
         "WITHDRAWN",
         null
        ],
        [
         "20",
         "NCT00572689",
         null,
         "WITHDRAWN",
         null
        ],
        [
         "21",
         "NCT00580580",
         null,
         "WITHDRAWN",
         null
        ],
        [
         "22",
         "NCT00591877",
         "Unable to enroll elegible subjects. No subjects enrolled, study closed.",
         "WITHDRAWN",
         "Enrollment"
        ],
        [
         "23",
         "NCT00593164",
         "Funding for study is currently unavailable.",
         "WITHDRAWN",
         "Fund"
        ],
        [
         "24",
         "NCT00596856",
         "Published study provided evidence that intervention would provide little effect; study not approved by provider community.",
         "WITHDRAWN",
         null
        ],
        [
         "25",
         "NCT00603460",
         null,
         "WITHDRAWN",
         null
        ],
        [
         "26",
         "NCT00613418",
         "study did not move forward due to change in clinical strategy",
         "WITHDRAWN",
         "Administration"
        ],
        [
         "27",
         "NCT00623948",
         "Suitable implanted technolgy was not available",
         "WITHDRAWN",
         null
        ],
        [
         "28",
         "NCT00640094",
         null,
         "TERMINATED",
         null
        ],
        [
         "29",
         "NCT00651677",
         "funding issues",
         "WITHDRAWN",
         "Fund"
        ],
        [
         "30",
         "NCT00653367",
         null,
         "WITHDRAWN",
         null
        ],
        [
         "31",
         "NCT00675532",
         "Resources",
         "WITHDRAWN",
         "Fund"
        ],
        [
         "32",
         "NCT00698139",
         "Closed by Sponsor",
         "TERMINATED",
         "Fund"
        ],
        [
         "33",
         "NCT00700154",
         "participants are no longer being examined or receiving intervention",
         "TERMINATED",
         "Enrollment"
        ],
        [
         "34",
         "NCT00701233",
         "Unable to generate MD's and patients for this study",
         "WITHDRAWN",
         "Enrollment"
        ],
        [
         "35",
         "NCT00711841",
         "The speed of recruitment was slower than anticipated.",
         "TERMINATED",
         "Enrollment"
        ],
        [
         "36",
         "NCT00721032",
         "PI left the institution",
         "WITHDRAWN",
         "Administration"
        ],
        [
         "37",
         "NCT00729274",
         "Was not approved by funding organization",
         "WITHDRAWN",
         "Administration"
        ],
        [
         "38",
         "NCT00730067",
         "As a single center, it was not possible to recruit enough patients with pulmonary hypertension",
         "WITHDRAWN",
         "Enrollment"
        ],
        [
         "39",
         "NCT00741117",
         "Study stopped due to insufficient personnel required to conduct trial.",
         "TERMINATED",
         "Efficacy"
        ],
        [
         "40",
         "NCT00747071",
         "Sponsors decision",
         "WITHDRAWN",
         "Administration"
        ],
        [
         "41",
         "NCT00756288",
         null,
         "WITHDRAWN",
         null
        ],
        [
         "42",
         "NCT00757055",
         "Difficulty recruit pts with PSHF HR \\> 70 \\& high BNP.",
         "WITHDRAWN",
         "Enrollment"
        ],
        [
         "43",
         "NCT00779142",
         "recent research indicates Lucentis to be an effictive treatment",
         "TERMINATED",
         null
        ],
        [
         "44",
         "NCT00784966",
         "University decision.",
         "WITHDRAWN",
         "Administration"
        ],
        [
         "45",
         "NCT00793013",
         "IRB approval lapsed.",
         "WITHDRAWN",
         null
        ],
        [
         "46",
         "NCT00795028",
         null,
         "WITHDRAWN",
         null
        ],
        [
         "47",
         "NCT00795470",
         "Not pursuing the study due to funding issues",
         "WITHDRAWN",
         "Fund"
        ],
        [
         "48",
         "NCT00800696",
         "this study was not initiated due to lack of funding",
         "WITHDRAWN",
         "Fund"
        ],
        [
         "49",
         "NCT00805610",
         "Investigator taking position at another university-0 enrolled under this protocol.",
         "WITHDRAWN",
         "Administration"
        ]
       ],
       "shape": {
        "columns": 4,
        "rows": 27659
       }
      },
      "text/html": [
       "<div>\n",
       "<style scoped>\n",
       "    .dataframe tbody tr th:only-of-type {\n",
       "        vertical-align: middle;\n",
       "    }\n",
       "\n",
       "    .dataframe tbody tr th {\n",
       "        vertical-align: top;\n",
       "    }\n",
       "\n",
       "    .dataframe thead th {\n",
       "        text-align: right;\n",
       "    }\n",
       "</style>\n",
       "<table border=\"1\" class=\"dataframe\">\n",
       "  <thead>\n",
       "    <tr style=\"text-align: right;\">\n",
       "      <th></th>\n",
       "      <th>nct_id</th>\n",
       "      <th>why_stopped</th>\n",
       "      <th>overall_status</th>\n",
       "      <th>why_stopped2</th>\n",
       "    </tr>\n",
       "  </thead>\n",
       "  <tbody>\n",
       "    <tr>\n",
       "      <th>0</th>\n",
       "      <td>NCT00258791</td>\n",
       "      <td>first postponed then cancelled as national dru...</td>\n",
       "      <td>WITHDRAWN</td>\n",
       "      <td>Administration</td>\n",
       "    </tr>\n",
       "    <tr>\n",
       "      <th>1</th>\n",
       "      <td>NCT00293735</td>\n",
       "      <td>Lack of funding</td>\n",
       "      <td>WITHDRAWN</td>\n",
       "      <td>Fund</td>\n",
       "    </tr>\n",
       "    <tr>\n",
       "      <th>2</th>\n",
       "      <td>NCT00306059</td>\n",
       "      <td>Investigators decision</td>\n",
       "      <td>WITHDRAWN</td>\n",
       "      <td>Administration</td>\n",
       "    </tr>\n",
       "    <tr>\n",
       "      <th>3</th>\n",
       "      <td>NCT00307905</td>\n",
       "      <td>Anticipation of inadequate recruitment accordi...</td>\n",
       "      <td>WITHDRAWN</td>\n",
       "      <td>Enrollment</td>\n",
       "    </tr>\n",
       "    <tr>\n",
       "      <th>4</th>\n",
       "      <td>NCT00328809</td>\n",
       "      <td>personnel shortage</td>\n",
       "      <td>WITHDRAWN</td>\n",
       "      <td>NaN</td>\n",
       "    </tr>\n",
       "    <tr>\n",
       "      <th>...</th>\n",
       "      <td>...</td>\n",
       "      <td>...</td>\n",
       "      <td>...</td>\n",
       "      <td>...</td>\n",
       "    </tr>\n",
       "    <tr>\n",
       "      <th>27654</th>\n",
       "      <td>NCT06841393</td>\n",
       "      <td>Lack of recruitment</td>\n",
       "      <td>TERMINATED</td>\n",
       "      <td>Enrollment</td>\n",
       "    </tr>\n",
       "    <tr>\n",
       "      <th>27655</th>\n",
       "      <td>NCT06848556</td>\n",
       "      <td>Company Operational Strategy Adjustment</td>\n",
       "      <td>TERMINATED</td>\n",
       "      <td>Administration</td>\n",
       "    </tr>\n",
       "    <tr>\n",
       "      <th>27656</th>\n",
       "      <td>NCT06854432</td>\n",
       "      <td>Lack of recruitment</td>\n",
       "      <td>TERMINATED</td>\n",
       "      <td>Enrollment</td>\n",
       "    </tr>\n",
       "    <tr>\n",
       "      <th>27657</th>\n",
       "      <td>NCT06860373</td>\n",
       "      <td>Unable to recruit</td>\n",
       "      <td>TERMINATED</td>\n",
       "      <td>Enrollment</td>\n",
       "    </tr>\n",
       "    <tr>\n",
       "      <th>27658</th>\n",
       "      <td>NCT06868043</td>\n",
       "      <td>One cohort succesfully completed; further coho...</td>\n",
       "      <td>TERMINATED</td>\n",
       "      <td>Efficacy</td>\n",
       "    </tr>\n",
       "  </tbody>\n",
       "</table>\n",
       "<p>27659 rows × 4 columns</p>\n",
       "</div>"
      ],
      "text/plain": [
       "            nct_id                                        why_stopped  \\\n",
       "0      NCT00258791  first postponed then cancelled as national dru...   \n",
       "1      NCT00293735                                    Lack of funding   \n",
       "2      NCT00306059                             Investigators decision   \n",
       "3      NCT00307905  Anticipation of inadequate recruitment accordi...   \n",
       "4      NCT00328809                                 personnel shortage   \n",
       "...            ...                                                ...   \n",
       "27654  NCT06841393                                Lack of recruitment   \n",
       "27655  NCT06848556            Company Operational Strategy Adjustment   \n",
       "27656  NCT06854432                                Lack of recruitment   \n",
       "27657  NCT06860373                                  Unable to recruit   \n",
       "27658  NCT06868043  One cohort succesfully completed; further coho...   \n",
       "\n",
       "      overall_status    why_stopped2  \n",
       "0          WITHDRAWN  Administration  \n",
       "1          WITHDRAWN            Fund  \n",
       "2          WITHDRAWN  Administration  \n",
       "3          WITHDRAWN      Enrollment  \n",
       "4          WITHDRAWN             NaN  \n",
       "...              ...             ...  \n",
       "27654     TERMINATED      Enrollment  \n",
       "27655     TERMINATED  Administration  \n",
       "27656     TERMINATED      Enrollment  \n",
       "27657     TERMINATED      Enrollment  \n",
       "27658     TERMINATED        Efficacy  \n",
       "\n",
       "[27659 rows x 4 columns]"
      ]
     },
     "execution_count": 4,
     "metadata": {},
     "output_type": "execute_result"
    }
   ],
   "source": [
    "create_table_sql = \"\"\"\n",
    "DROP TABLE IF EXISTS ctgov.my_terminations;\n",
    "\n",
    "CREATE TABLE ctgov.my_terminations AS\n",
    "SELECT DISTINCT ON \n",
    "    (\n",
    "studies.nct_id,\n",
    "studies.why_stopped,\n",
    "studies.overall_status\n",
    "    ) \n",
    "studies.nct_id,\n",
    "studies.why_stopped,\n",
    "studies.overall_status\n",
    "\n",
    "from ctgov.studies\n",
    "WHERE TO_CHAR(studies.start_date, 'YYYY-MM') >= '2011-01'\n",
    "  AND studies.study_type = 'INTERVENTIONAL'\n",
    "  AND studies.overall_status in ('WITHDRAWN', 'TERMINATED')\n",
    "\n",
    "ORDER BY studies.nct_id;\n",
    "\"\"\"\n",
    "\"\"\"\n",
    "with engine.connect() as conn:\n",
    "    conn.execute(text(create_table_sql))\n",
    "    conn.commit()\n",
    "\"\"\" \n",
    "# Enrollment \n",
    "my_terminations = pd.read_sql(\"select * from ctgov.my_terminations;\" , con = engine)  # was not used. May be used to a seperate termination ipyd file. (As the y outcome = always termination)\n",
    "my_terminations.loc[my_terminations[\"why_stopped\"].str.contains(\n",
    "    \"enrollemnt|recru|accru|enrol|participant|recruit|patient|inclusion|human|subjects\",\n",
    "      case = False) == True, \"why_stopped2\"] = \"Enrollment\"  \n",
    "# Fund\n",
    "my_terminations.loc[my_terminations[\"why_stopped\"].str.contains(\n",
    "    \"fund|sponsor|business|company|portfolio|corporate|resources|financ\",\n",
    "     case = False) == True, \"why_stopped2\"] = \"Fund\"\n",
    "# Administration\n",
    "my_terminations.loc[my_terminations[\"why_stopped\"].str.contains(\"PI\", case = True) == True, \"why_stopped2\"] = \"Administration\"\n",
    "my_terminations.loc[my_terminations[\"why_stopped\"].str.contains(\n",
    "    \"staff|revise|logistic|administrative|management|strateg|internal|organiz|policy|FDA|decide|decision|change\", \n",
    "    case = False) == True, \"why_stopped2\"] = \"Administration\"\n",
    "\n",
    "my_terminations.loc[my_terminations[\"why_stopped\"].str.contains(\n",
    "    \"recommend|researcher|Researcher|researchers|Researchers|investigator|Investigator|investigators|Investigators\", \n",
    "    case = True) == True, \"why_stopped2\"] = \"Administration\"\n",
    "# Efficacy\n",
    "my_terminations.loc[my_terminations[\"why_stopped\"].str.contains(\n",
    "    \"toxic|futility|efficacy|ethical|safety|sufficient|risk\",\n",
    "      case = False) == True, \"why_stopped2\"] = \"Efficacy\"\n",
    "# Covid\n",
    "my_terminations.loc[my_terminations[\"why_stopped\"].str.contains(\n",
    "    \"covid|pandemic\", case = False) == True, \"why_stopped2\"] = \"Covid\"\n",
    "\n",
    "my_terminations"
   ]
  },
  {
   "cell_type": "markdown",
   "id": "f55ef6e3",
   "metadata": {},
   "source": [
    "## my_conditions\n",
    "\n",
    "Source : https://meshb.nlm.nih.gov/treeView"
   ]
  },
  {
   "cell_type": "code",
   "execution_count": 5,
   "id": "6fd305bb",
   "metadata": {},
   "outputs": [
    {
     "data": {
      "application/vnd.microsoft.datawrangler.viewer.v0+json": {
       "columns": [
        {
         "name": "index",
         "rawType": "int64",
         "type": "integer"
        },
        {
         "name": "Code",
         "rawType": "object",
         "type": "string"
        },
        {
         "name": "Category",
         "rawType": "object",
         "type": "string"
        }
       ],
       "ref": "a62a6f9b-3f0b-42c6-8ece-1d212c9aabe3",
       "rows": [
        [
         "0",
         "A",
         "Anatomy"
        ],
        [
         "1",
         "B",
         "Organisms"
        ],
        [
         "2",
         "C",
         "Diseases"
        ],
        [
         "3",
         "D",
         "Chemicals, Drugs"
        ],
        [
         "4",
         "E",
         "Analytical, Diagnostic, Therapeutic Techniques, Equipment"
        ],
        [
         "5",
         "F",
         "Psychiatry, Psychology"
        ],
        [
         "6",
         "G",
         "Phenomena, Processes"
        ],
        [
         "7",
         "H",
         "Disciplines, Occupations"
        ],
        [
         "8",
         "I",
         "Anthropology, Education, Sociology, Social Phenomena"
        ],
        [
         "9",
         "J",
         "Technology, Industry, Agriculture"
        ],
        [
         "10",
         "K",
         "Humanities"
        ],
        [
         "11",
         "L",
         "Information Science"
        ],
        [
         "12",
         "M",
         "Named Groups"
        ],
        [
         "13",
         "N",
         "Health Care"
        ],
        [
         "14",
         "V",
         "Publication Characteristics"
        ],
        [
         "15",
         "Z",
         "Geographic Locations"
        ]
       ],
       "shape": {
        "columns": 2,
        "rows": 16
       }
      },
      "text/html": [
       "<div>\n",
       "<style scoped>\n",
       "    .dataframe tbody tr th:only-of-type {\n",
       "        vertical-align: middle;\n",
       "    }\n",
       "\n",
       "    .dataframe tbody tr th {\n",
       "        vertical-align: top;\n",
       "    }\n",
       "\n",
       "    .dataframe thead th {\n",
       "        text-align: right;\n",
       "    }\n",
       "</style>\n",
       "<table border=\"1\" class=\"dataframe\">\n",
       "  <thead>\n",
       "    <tr style=\"text-align: right;\">\n",
       "      <th></th>\n",
       "      <th>Code</th>\n",
       "      <th>Category</th>\n",
       "    </tr>\n",
       "  </thead>\n",
       "  <tbody>\n",
       "    <tr>\n",
       "      <th>0</th>\n",
       "      <td>A</td>\n",
       "      <td>Anatomy</td>\n",
       "    </tr>\n",
       "    <tr>\n",
       "      <th>1</th>\n",
       "      <td>B</td>\n",
       "      <td>Organisms</td>\n",
       "    </tr>\n",
       "    <tr>\n",
       "      <th>2</th>\n",
       "      <td>C</td>\n",
       "      <td>Diseases</td>\n",
       "    </tr>\n",
       "    <tr>\n",
       "      <th>3</th>\n",
       "      <td>D</td>\n",
       "      <td>Chemicals, Drugs</td>\n",
       "    </tr>\n",
       "    <tr>\n",
       "      <th>4</th>\n",
       "      <td>E</td>\n",
       "      <td>Analytical, Diagnostic, Therapeutic Techniques...</td>\n",
       "    </tr>\n",
       "    <tr>\n",
       "      <th>5</th>\n",
       "      <td>F</td>\n",
       "      <td>Psychiatry, Psychology</td>\n",
       "    </tr>\n",
       "    <tr>\n",
       "      <th>6</th>\n",
       "      <td>G</td>\n",
       "      <td>Phenomena, Processes</td>\n",
       "    </tr>\n",
       "    <tr>\n",
       "      <th>7</th>\n",
       "      <td>H</td>\n",
       "      <td>Disciplines, Occupations</td>\n",
       "    </tr>\n",
       "    <tr>\n",
       "      <th>8</th>\n",
       "      <td>I</td>\n",
       "      <td>Anthropology, Education, Sociology, Social Phe...</td>\n",
       "    </tr>\n",
       "    <tr>\n",
       "      <th>9</th>\n",
       "      <td>J</td>\n",
       "      <td>Technology, Industry, Agriculture</td>\n",
       "    </tr>\n",
       "    <tr>\n",
       "      <th>10</th>\n",
       "      <td>K</td>\n",
       "      <td>Humanities</td>\n",
       "    </tr>\n",
       "    <tr>\n",
       "      <th>11</th>\n",
       "      <td>L</td>\n",
       "      <td>Information Science</td>\n",
       "    </tr>\n",
       "    <tr>\n",
       "      <th>12</th>\n",
       "      <td>M</td>\n",
       "      <td>Named Groups</td>\n",
       "    </tr>\n",
       "    <tr>\n",
       "      <th>13</th>\n",
       "      <td>N</td>\n",
       "      <td>Health Care</td>\n",
       "    </tr>\n",
       "    <tr>\n",
       "      <th>14</th>\n",
       "      <td>V</td>\n",
       "      <td>Publication Characteristics</td>\n",
       "    </tr>\n",
       "    <tr>\n",
       "      <th>15</th>\n",
       "      <td>Z</td>\n",
       "      <td>Geographic Locations</td>\n",
       "    </tr>\n",
       "  </tbody>\n",
       "</table>\n",
       "</div>"
      ],
      "text/plain": [
       "   Code                                           Category\n",
       "0     A                                            Anatomy\n",
       "1     B                                          Organisms\n",
       "2     C                                           Diseases\n",
       "3     D                                   Chemicals, Drugs\n",
       "4     E  Analytical, Diagnostic, Therapeutic Techniques...\n",
       "5     F                             Psychiatry, Psychology\n",
       "6     G                               Phenomena, Processes\n",
       "7     H                           Disciplines, Occupations\n",
       "8     I  Anthropology, Education, Sociology, Social Phe...\n",
       "9     J                  Technology, Industry, Agriculture\n",
       "10    K                                         Humanities\n",
       "11    L                                Information Science\n",
       "12    M                                       Named Groups\n",
       "13    N                                        Health Care\n",
       "14    V                        Publication Characteristics\n",
       "15    Z                               Geographic Locations"
      ]
     },
     "execution_count": 5,
     "metadata": {},
     "output_type": "execute_result"
    }
   ],
   "source": [
    "category_map = {\n",
    "    \"A\": \"Anatomy\",\n",
    "    \"B\": \"Organisms\",\n",
    "    \"C\": \"Diseases\",\n",
    "    \"D\": \"Chemicals, Drugs\",\n",
    "    \"E\": \"Analytical, Diagnostic, Therapeutic Techniques, Equipment\",\n",
    "    \"F\": \"Psychiatry, Psychology\",\n",
    "    \"G\": \"Phenomena, Processes\",\n",
    "    \"H\": \"Disciplines, Occupations\",\n",
    "    \"I\": \"Anthropology, Education, Sociology, Social Phenomena\",\n",
    "    \"J\": \"Technology, Industry, Agriculture\",\n",
    "    \"K\": \"Humanities\",\n",
    "    \"L\": \"Information Science\",\n",
    "    \"M\": \"Named Groups\",\n",
    "    \"N\": \"Health Care\",\n",
    "    \"V\": \"Publication Characteristics\",\n",
    "    \"Z\": \"Geographic Locations\"\n",
    "}\n",
    "\n",
    "my_qualifiers = pd.DataFrame({\"Code\" : category_map.keys(), \"Category\" : category_map.values()})\n",
    "my_qualifiers"
   ]
  },
  {
   "cell_type": "code",
   "execution_count": null,
   "id": "144076a3",
   "metadata": {},
   "outputs": [
    {
     "data": {
      "application/vnd.microsoft.datawrangler.viewer.v0+json": {
       "columns": [
        {
         "name": "index",
         "rawType": "int64",
         "type": "integer"
        },
        {
         "name": "nct_id",
         "rawType": "object",
         "type": "string"
        },
        {
         "name": "qualifier",
         "rawType": "object",
         "type": "unknown"
        },
        {
         "name": "heading",
         "rawType": "object",
         "type": "unknown"
        },
        {
         "name": "Category",
         "rawType": "object",
         "type": "unknown"
        },
        {
         "name": "Code",
         "rawType": "object",
         "type": "unknown"
        },
        {
         "name": "name",
         "rawType": "object",
         "type": "unknown"
        }
       ],
       "ref": "a10c155f-2089-45a1-ba9b-898cfd0c9b55",
       "rows": [
        [
         "0",
         "NCT00125528",
         "['C10', 'C23', 'F02', 'G11']",
         "['Musculoskeletal and Neural Physiological Phenomena', 'Nervous System Diseases', 'Pathological Conditions, Signs and Symptoms', 'Psychological Phenomena and Processes']",
         "['Diseases', 'Phenomena, Processes', 'Psychiatry, Psychology']",
         "['C', 'F', 'G']",
         "['Low Back Pain', 'Pain']"
        ],
        [
         "1",
         "NCT00170209",
         "['C01']",
         "['Bacterial Infections and Mycoses']",
         "['Diseases']",
         "['C']",
         "['Latent Tuberculosis Infection']"
        ],
        [
         "2",
         "NCT00183482",
         "['F01', 'F03']",
         "['Behavior and Behavior Mechanisms', 'Mental Disorders']",
         "['Psychiatry, Psychology']",
         "['F']",
         "['Depression']"
        ],
        [
         "3",
         "NCT00194714",
         "['C04', 'C12', 'C13', 'C19']",
         "['Endocrine System Diseases', 'Female Urogenital Diseases and Pregnancy Complications', 'Male Urogenital Diseases', 'Neoplasms']",
         "['Diseases']",
         "['C']",
         "['HER2/Neu Positive', 'HLA-A2 Positive Cells Present', 'Stage IV Breast Cancer', 'Stage IV Ovarian Cancer']"
        ],
        [
         "4",
         "NCT00258791",
         "['C10', 'C23', 'F02', 'F03', 'G11']",
         "['Mental Disorders', 'Musculoskeletal and Neural Physiological Phenomena', 'Nervous System Diseases', 'Pathological Conditions, Signs and Symptoms', 'Psychological Phenomena and Processes']",
         "['Diseases', 'Phenomena, Processes', 'Psychiatry, Psychology']",
         "['C', 'F', 'G']",
         "['Mental Disorders']"
        ],
        [
         "5",
         "NCT00263432",
         "['C26']",
         "['Wounds and Injuries']",
         "['Diseases']",
         "['C']",
         "['Cartilage Injuries in the Human Knee']"
        ],
        [
         "6",
         "NCT00293735",
         "['C13', 'C14']",
         "['Cardiovascular Diseases', 'Female Urogenital Diseases and Pregnancy Complications']",
         "['Diseases']",
         "['C']",
         "['Chronic Hypertension', 'Gestational Hypertension', 'Preeclampsia', 'Pregnancy Induced Hypertension', 'Superimposed Preeclampsia']"
        ],
        [
         "7",
         "NCT00306059",
         "['C12', 'C13', 'C26']",
         "['Female Urogenital Diseases and Pregnancy Complications', 'Male Urogenital Diseases', 'Wounds and Injuries']",
         "['Diseases']",
         "['C']",
         "['Kidney Injury, Acute']"
        ],
        [
         "8",
         "NCT00307905",
         "['C26']",
         "['Wounds and Injuries']",
         "['Diseases']",
         "['C']",
         "['Fracture of Neck of Femur', 'Pain']"
        ],
        [
         "9",
         "NCT00323141",
         "['C16', 'C23']",
         "['Congenital, Hereditary, and Neonatal Diseases and Abnormalities', 'Pathological Conditions, Signs and Symptoms']",
         "['Diseases']",
         "['C']",
         "['Hernia, Umbilical']"
        ],
        [
         "10",
         "NCT00328809",
         "['C12', 'C13', 'C14', 'C23']",
         "['Cardiovascular Diseases', 'Female Urogenital Diseases and Pregnancy Complications', 'Male Urogenital Diseases', 'Pathological Conditions, Signs and Symptoms']",
         "['Diseases']",
         "['C']",
         "['Congestive Heart Failure', 'End Stage Renal Disease']"
        ],
        [
         "11",
         "NCT00329641",
         "['C04', 'C11', 'C17']",
         "['Eye Diseases', 'Neoplasms', 'Skin and Connective Tissue Diseases']",
         "['Diseases']",
         "['C']",
         "['Ciliary Body and Choroid Melanoma, Medium/Large Size', 'Extraocular Extension Melanoma', 'Iris Melanoma', 'Metastatic Intraocular Melanoma', 'Recurrent Intraocular Melanoma']"
        ],
        [
         "12",
         "NCT00356317",
         "['F03']",
         "['Mental Disorders']",
         "['Psychiatry, Psychology']",
         "['F']",
         "['Schizophrenia']"
        ],
        [
         "13",
         "NCT00362219",
         "[]",
         "[]",
         "[]",
         "[]",
         "['Pain', 'Skin Transplantation']"
        ],
        [
         "14",
         "NCT00364000",
         "['C18']",
         "['Nutritional and Metabolic Diseases']",
         "['Diseases']",
         "['C']",
         "['Haemodialyzed Patients', 'Hyperphosphatemia']"
        ],
        [
         "15",
         "NCT00372762",
         "['C14']",
         "['Cardiovascular Diseases']",
         "['Diseases']",
         "['C']",
         "['Heart Failure']"
        ],
        [
         "16",
         "NCT00397501",
         "['C04', 'C10', 'C17', 'C25']",
         "['Chemically-Induced Disorders', 'Neoplasms', 'Nervous System Diseases', 'Skin and Connective Tissue Diseases']",
         "['Diseases']",
         "['C']",
         "['Brain and Central Nervous System Tumors', 'Breast Cancer', 'Cognitive/Functional Effects', 'Drug/Agent Toxicity by Tissue/Organ', 'Psychosocial Effects of Cancer and Its Treatment']"
        ],
        [
         "17",
         "NCT00397579",
         "['C04', 'C15', 'C23']",
         "['Hemic and Lymphatic Diseases', 'Neoplasms', 'Pathological Conditions, Signs and Symptoms']",
         "['Diseases']",
         "['C']",
         "['Blastic Plasmacytoid Dendritic Cell Neoplasm', 'Leukemia', 'Myelodysplastic Syndromes']"
        ],
        [
         "18",
         "NCT00399594",
         "['C14']",
         "['Cardiovascular Diseases']",
         "['Diseases']",
         "['C']",
         "['Cardiac Pacing, Artificial', 'Defibrillators', 'Heart Failure, Congestive']"
        ],
        [
         "19",
         "NCT00412048",
         "['C10', 'F03']",
         "['Mental Disorders', 'Nervous System Diseases']",
         "['Diseases', 'Psychiatry, Psychology']",
         "['C', 'F']",
         "[\"Alzheimer's Disease\"]"
        ],
        [
         "20",
         "NCT00422422",
         "['C10']",
         "['Nervous System Diseases']",
         "['Diseases']",
         "['C']",
         "['Epilepsy']"
        ],
        [
         "21",
         "NCT00442494",
         "['C14', 'C23']",
         "['Cardiovascular Diseases', 'Pathological Conditions, Signs and Symptoms']",
         "['Diseases']",
         "['C']",
         "['Atrial Fibrillation']"
        ],
        [
         "22",
         "NCT00448201",
         "['C04', 'C14', 'C15', 'C20', 'C23']",
         "['Cardiovascular Diseases', 'Hemic and Lymphatic Diseases', 'Immune System Diseases', 'Neoplasms', 'Pathological Conditions, Signs and Symptoms']",
         "['Diseases']",
         "['C']",
         "['Chronic Myeloproliferative Disorders', 'Leukemia', 'Lymphoma', 'Multiple Myeloma and Plasma Cell Neoplasm', 'Myelodysplastic Syndromes']"
        ],
        [
         "23",
         "NCT00455039",
         "['C04', 'C17']",
         "['Neoplasms', 'Skin and Connective Tissue Diseases']",
         "['Diseases']",
         "['C']",
         "['Breast Cancer']"
        ],
        [
         "24",
         "NCT00455052",
         "['C04', 'C08']",
         "['Neoplasms', 'Respiratory Tract Diseases']",
         "['Diseases']",
         "['C']",
         "['Non-small Cell Lung Cancer', 'Small Cell Lung Cancer']"
        ],
        [
         "25",
         "NCT00459641",
         "['C04', 'C05', 'C23']",
         "['Musculoskeletal Diseases', 'Neoplasms', 'Pathological Conditions, Signs and Symptoms']",
         "['Diseases']",
         "['C']",
         "['Bone Cysts']"
        ],
        [
         "26",
         "NCT00476255",
         "['C26']",
         "['Wounds and Injuries']",
         "['Diseases']",
         "['C']",
         "['Car Seats', 'Injuries']"
        ],
        [
         "27",
         "NCT00488605",
         "['C08', 'C15']",
         "['Hemic and Lymphatic Diseases', 'Respiratory Tract Diseases']",
         "['Diseases']",
         "['C']",
         "['Leukemia']"
        ],
        [
         "28",
         "NCT00493701",
         "[]",
         "[]",
         "[]",
         "[]",
         "['Healthy']"
        ],
        [
         "29",
         "NCT00504322",
         "['C04', 'C06']",
         "['Digestive System Diseases', 'Neoplasms']",
         "['Diseases']",
         "['C']",
         "['Esophageal Neoplasms']"
        ],
        [
         "30",
         "NCT00520624",
         "['C05', 'C08', 'C09', 'C16', 'C17']",
         "['Congenital, Hereditary, and Neonatal Diseases and Abnormalities', 'Musculoskeletal Diseases', 'Otorhinolaryngologic Diseases', 'Respiratory Tract Diseases', 'Skin and Connective Tissue Diseases']",
         "['Diseases']",
         "['C']",
         "['Exercise-induced Laryngomalacia']"
        ],
        [
         "31",
         "NCT00532584",
         "['C08', 'C23']",
         "['Pathological Conditions, Signs and Symptoms', 'Respiratory Tract Diseases']",
         "['Diseases']",
         "['C']",
         "['Chronic Obstructive Pulmonary Disease (COPD)']"
        ],
        [
         "32",
         "NCT00534235",
         "['C05', 'C23']",
         "['Musculoskeletal Diseases', 'Pathological Conditions, Signs and Symptoms']",
         "['Diseases']",
         "['C']",
         "['Spinal Stenosis']"
        ],
        [
         "33",
         "NCT00534404",
         "['C25', 'F03']",
         "['Chemically-Induced Disorders', 'Mental Disorders']",
         "['Diseases', 'Psychiatry, Psychology']",
         "['C', 'F']",
         "['Smoking Cessation', 'Tobacco Use Disorder']"
        ],
        [
         "34",
         "NCT00534703",
         "['C14']",
         "['Cardiovascular Diseases']",
         "['Diseases']",
         "['C']",
         "['Chronic Heart Failure', 'Patients That Have Received a Left Ventricular Assist Device']"
        ],
        [
         "35",
         "NCT00554996",
         "['C01', 'C12', 'C13']",
         "['Bacterial Infections and Mycoses', 'Female Urogenital Diseases and Pregnancy Complications', 'Male Urogenital Diseases']",
         "['Diseases']",
         "['C']",
         "['Urinary Tract Infection']"
        ],
        [
         "36",
         "NCT00570050",
         "['F01', 'F03']",
         "['Behavior and Behavior Mechanisms', 'Mental Disorders']",
         "['Psychiatry, Psychology']",
         "['F']",
         "['Major Depressive Disorder']"
        ],
        [
         "37",
         "NCT00571246",
         "['C25', 'F03']",
         "['Chemically-Induced Disorders', 'Mental Disorders']",
         "['Diseases', 'Psychiatry, Psychology']",
         "['C', 'F']",
         "['Alcohol Dependence', 'Post Traumatic Stress Disorder']"
        ],
        [
         "38",
         "NCT00572533",
         "['C12', 'C13', 'C23']",
         "['Female Urogenital Diseases and Pregnancy Complications', 'Male Urogenital Diseases', 'Pathological Conditions, Signs and Symptoms']",
         "['Diseases']",
         "['C']",
         "['End-Stage Renal Disease']"
        ],
        [
         "39",
         "NCT00572689",
         "['C13', 'C18', 'C19']",
         "['Endocrine System Diseases', 'Female Urogenital Diseases and Pregnancy Complications', 'Nutritional and Metabolic Diseases']",
         "['Diseases']",
         "['C']",
         "['Gestational Diabetes']"
        ],
        [
         "40",
         "NCT00576771",
         "[]",
         "[]",
         "[]",
         "[]",
         "['ALI/ARDS Patients']"
        ],
        [
         "41",
         "NCT00580580",
         "['C10', 'C14', 'C23']",
         "['Cardiovascular Diseases', 'Nervous System Diseases', 'Pathological Conditions, Signs and Symptoms']",
         "['Diseases']",
         "['C']",
         "['Carotid Stenosis', 'Coronary Stenosis', 'Myocardial Reperfusion']"
        ],
        [
         "42",
         "NCT00591877",
         "['C06', 'C09']",
         "['Digestive System Diseases', 'Otorhinolaryngologic Diseases']",
         "['Diseases']",
         "['C']",
         "['Gastroesophageal Reflux Disease']"
        ],
        [
         "43",
         "NCT00593164",
         "['C14', 'C23']",
         "['Cardiovascular Diseases', 'Pathological Conditions, Signs and Symptoms']",
         "['Diseases']",
         "['C']",
         "['Coma', 'Death, Sudden, Cardiac']"
        ],
        [
         "44",
         "NCT00596856",
         "['C07']",
         "['Stomatognathic Diseases']",
         "['Diseases']",
         "['C']",
         "['Early Childhood Dental Caries']"
        ],
        [
         "45",
         "NCT00601952",
         "['F03']",
         "['Mental Disorders']",
         "['Psychiatry, Psychology']",
         "['F']",
         "['Stress Disorders, Post-traumatic']"
        ],
        [
         "46",
         "NCT00603460",
         "['C04', 'C06', 'C12', 'C13', 'C19']",
         "['Digestive System Diseases', 'Endocrine System Diseases', 'Female Urogenital Diseases and Pregnancy Complications', 'Male Urogenital Diseases', 'Neoplasms']",
         "['Diseases']",
         "['C']",
         "['Ovarian Cancer', 'Primary Peritoneal Cancer']"
        ],
        [
         "47",
         "NCT00613418",
         "[]",
         "[]",
         "[]",
         "[]",
         "['With de Novo or Restenotic Lesions in the Common and/or External Iliac Arteries']"
        ],
        [
         "48",
         "NCT00623948",
         "['C17']",
         "['Skin and Connective Tissue Diseases']",
         "['Diseases']",
         "['C']",
         "['Pressure Ulcers']"
        ],
        [
         "49",
         "NCT00640094",
         "['C14', 'C23', 'G04']",
         "['Cardiovascular Diseases', 'Cell Physiological Phenomena', 'Pathological Conditions, Signs and Symptoms']",
         "['Diseases', 'Phenomena, Processes']",
         "['C', 'G']",
         "['Acute Myocardial Infarction']"
        ]
       ],
       "shape": {
        "columns": 6,
        "rows": 182236
       }
      },
      "text/html": [
       "<div>\n",
       "<style scoped>\n",
       "    .dataframe tbody tr th:only-of-type {\n",
       "        vertical-align: middle;\n",
       "    }\n",
       "\n",
       "    .dataframe tbody tr th {\n",
       "        vertical-align: top;\n",
       "    }\n",
       "\n",
       "    .dataframe thead th {\n",
       "        text-align: right;\n",
       "    }\n",
       "</style>\n",
       "<table border=\"1\" class=\"dataframe\">\n",
       "  <thead>\n",
       "    <tr style=\"text-align: right;\">\n",
       "      <th></th>\n",
       "      <th>nct_id</th>\n",
       "      <th>qualifier</th>\n",
       "      <th>heading</th>\n",
       "      <th>Category</th>\n",
       "      <th>Code</th>\n",
       "      <th>name</th>\n",
       "    </tr>\n",
       "  </thead>\n",
       "  <tbody>\n",
       "    <tr>\n",
       "      <th>0</th>\n",
       "      <td>NCT00125528</td>\n",
       "      <td>[C10, C23, F02, G11]</td>\n",
       "      <td>[Musculoskeletal and Neural Physiological Phen...</td>\n",
       "      <td>[Diseases, Phenomena, Processes, Psychiatry, P...</td>\n",
       "      <td>[C, F, G]</td>\n",
       "      <td>[Low Back Pain, Pain]</td>\n",
       "    </tr>\n",
       "    <tr>\n",
       "      <th>1</th>\n",
       "      <td>NCT00170209</td>\n",
       "      <td>[C01]</td>\n",
       "      <td>[Bacterial Infections and Mycoses]</td>\n",
       "      <td>[Diseases]</td>\n",
       "      <td>[C]</td>\n",
       "      <td>[Latent Tuberculosis Infection]</td>\n",
       "    </tr>\n",
       "    <tr>\n",
       "      <th>2</th>\n",
       "      <td>NCT00183482</td>\n",
       "      <td>[F01, F03]</td>\n",
       "      <td>[Behavior and Behavior Mechanisms, Mental Diso...</td>\n",
       "      <td>[Psychiatry, Psychology]</td>\n",
       "      <td>[F]</td>\n",
       "      <td>[Depression]</td>\n",
       "    </tr>\n",
       "    <tr>\n",
       "      <th>3</th>\n",
       "      <td>NCT00194714</td>\n",
       "      <td>[C04, C12, C13, C19]</td>\n",
       "      <td>[Endocrine System Diseases, Female Urogenital ...</td>\n",
       "      <td>[Diseases]</td>\n",
       "      <td>[C]</td>\n",
       "      <td>[HER2/Neu Positive, HLA-A2 Positive Cells Pres...</td>\n",
       "    </tr>\n",
       "    <tr>\n",
       "      <th>4</th>\n",
       "      <td>NCT00258791</td>\n",
       "      <td>[C10, C23, F02, F03, G11]</td>\n",
       "      <td>[Mental Disorders, Musculoskeletal and Neural ...</td>\n",
       "      <td>[Diseases, Phenomena, Processes, Psychiatry, P...</td>\n",
       "      <td>[C, F, G]</td>\n",
       "      <td>[Mental Disorders]</td>\n",
       "    </tr>\n",
       "    <tr>\n",
       "      <th>...</th>\n",
       "      <td>...</td>\n",
       "      <td>...</td>\n",
       "      <td>...</td>\n",
       "      <td>...</td>\n",
       "      <td>...</td>\n",
       "      <td>...</td>\n",
       "    </tr>\n",
       "    <tr>\n",
       "      <th>182231</th>\n",
       "      <td>NCT06875349</td>\n",
       "      <td>[C23]</td>\n",
       "      <td>[Pathological Conditions, Signs and Symptoms]</td>\n",
       "      <td>[Diseases]</td>\n",
       "      <td>[C]</td>\n",
       "      <td>[Constipation]</td>\n",
       "    </tr>\n",
       "    <tr>\n",
       "      <th>182232</th>\n",
       "      <td>NCT06875557</td>\n",
       "      <td>[]</td>\n",
       "      <td>[]</td>\n",
       "      <td>[]</td>\n",
       "      <td>[]</td>\n",
       "      <td>[Psychological Distress]</td>\n",
       "    </tr>\n",
       "    <tr>\n",
       "      <th>182233</th>\n",
       "      <td>NCT06875661</td>\n",
       "      <td>[C05]</td>\n",
       "      <td>[Musculoskeletal Diseases]</td>\n",
       "      <td>[Diseases]</td>\n",
       "      <td>[C]</td>\n",
       "      <td>[Idiopathic Scoliosis]</td>\n",
       "    </tr>\n",
       "    <tr>\n",
       "      <th>182234</th>\n",
       "      <td>NCT06875674</td>\n",
       "      <td>[]</td>\n",
       "      <td>[]</td>\n",
       "      <td>[]</td>\n",
       "      <td>[]</td>\n",
       "      <td>[Nutrition, Healthy]</td>\n",
       "    </tr>\n",
       "    <tr>\n",
       "      <th>182235</th>\n",
       "      <td>NCT06875687</td>\n",
       "      <td>[C11]</td>\n",
       "      <td>[Eye Diseases]</td>\n",
       "      <td>[Diseases]</td>\n",
       "      <td>[C]</td>\n",
       "      <td>[Dry Eye]</td>\n",
       "    </tr>\n",
       "  </tbody>\n",
       "</table>\n",
       "<p>182236 rows × 6 columns</p>\n",
       "</div>"
      ],
      "text/plain": [
       "             nct_id                  qualifier  \\\n",
       "0       NCT00125528       [C10, C23, F02, G11]   \n",
       "1       NCT00170209                      [C01]   \n",
       "2       NCT00183482                 [F01, F03]   \n",
       "3       NCT00194714       [C04, C12, C13, C19]   \n",
       "4       NCT00258791  [C10, C23, F02, F03, G11]   \n",
       "...             ...                        ...   \n",
       "182231  NCT06875349                      [C23]   \n",
       "182232  NCT06875557                         []   \n",
       "182233  NCT06875661                      [C05]   \n",
       "182234  NCT06875674                         []   \n",
       "182235  NCT06875687                      [C11]   \n",
       "\n",
       "                                                  heading  \\\n",
       "0       [Musculoskeletal and Neural Physiological Phen...   \n",
       "1                      [Bacterial Infections and Mycoses]   \n",
       "2       [Behavior and Behavior Mechanisms, Mental Diso...   \n",
       "3       [Endocrine System Diseases, Female Urogenital ...   \n",
       "4       [Mental Disorders, Musculoskeletal and Neural ...   \n",
       "...                                                   ...   \n",
       "182231      [Pathological Conditions, Signs and Symptoms]   \n",
       "182232                                                 []   \n",
       "182233                         [Musculoskeletal Diseases]   \n",
       "182234                                                 []   \n",
       "182235                                     [Eye Diseases]   \n",
       "\n",
       "                                                 Category       Code  \\\n",
       "0       [Diseases, Phenomena, Processes, Psychiatry, P...  [C, F, G]   \n",
       "1                                              [Diseases]        [C]   \n",
       "2                                [Psychiatry, Psychology]        [F]   \n",
       "3                                              [Diseases]        [C]   \n",
       "4       [Diseases, Phenomena, Processes, Psychiatry, P...  [C, F, G]   \n",
       "...                                                   ...        ...   \n",
       "182231                                         [Diseases]        [C]   \n",
       "182232                                                 []         []   \n",
       "182233                                         [Diseases]        [C]   \n",
       "182234                                                 []         []   \n",
       "182235                                         [Diseases]        [C]   \n",
       "\n",
       "                                                     name  \n",
       "0                                   [Low Back Pain, Pain]  \n",
       "1                         [Latent Tuberculosis Infection]  \n",
       "2                                            [Depression]  \n",
       "3       [HER2/Neu Positive, HLA-A2 Positive Cells Pres...  \n",
       "4                                      [Mental Disorders]  \n",
       "...                                                   ...  \n",
       "182231                                     [Constipation]  \n",
       "182232                           [Psychological Distress]  \n",
       "182233                             [Idiopathic Scoliosis]  \n",
       "182234                               [Nutrition, Healthy]  \n",
       "182235                                          [Dry Eye]  \n",
       "\n",
       "[182236 rows x 6 columns]"
      ]
     },
     "execution_count": 6,
     "metadata": {},
     "output_type": "execute_result"
    }
   ],
   "source": [
    "create_table_sql =\"\"\"\n",
    "DROP TABLE IF EXISTS ctgov.my_conditions;\n",
    "\n",
    "CREATE TABLE ctgov.my_conditions AS\n",
    "SELECT DISTINCT ON \n",
    "    (\n",
    "    studies.nct_id,\n",
    "    mesh_headings.qualifier, \n",
    "    mesh_headings.heading,\n",
    "    conditions.name\n",
    "    )\n",
    "    studies.nct_id, \n",
    "    mesh_headings.qualifier, \n",
    "    mesh_headings.heading,\n",
    "    conditions.name\n",
    "    \n",
    "FROM ctgov.studies\n",
    "LEFT JOIN ctgov.conditions\n",
    "    ON studies.nct_id = conditions.nct_id\n",
    "LEFT JOIN ctgov.browse_conditions\n",
    "    ON studies.nct_id = browse_conditions.nct_id\n",
    "LEFT JOIN ctgov.mesh_terms\n",
    "    ON browse_conditions.mesh_term = mesh_terms.mesh_term\n",
    "LEFT JOIN ctgov.mesh_headings\n",
    "    ON mesh_terms.qualifier = mesh_headings.qualifier\n",
    "    \n",
    "WHERE TO_CHAR(studies.start_date, 'YYYY-MM') >= '2011-01'\n",
    "\tAND study_type = 'INTERVENTIONAL'\n",
    "  \tAND overall_status IN ('COMPLETED', 'WITHDRAWN', 'TERMINATED')\n",
    "      \n",
    "ORDER BY \n",
    "studies.nct_id, \n",
    "mesh_headings.qualifier, \n",
    "mesh_headings.heading,\n",
    "conditions.name ;  \n",
    "\"\"\"\n",
    "\"\"\"\n",
    "with engine.connect() as conn:\n",
    "    conn.execute(text(create_table_sql))\n",
    "    conn.commit()\n",
    "\"\"\"\n",
    "# Notes --> Why Columns were used or not used:\n",
    "# \tconditions.name --> use for comorbidity --> not many duplicated consition terms. Less null values than other columns!\n",
    "#   browse_conditions.mesh_term, # not needed --> more categories than main e.g pain, low back pain, myosceletal etc.\n",
    "  \n",
    "my_conditions = pd.read_sql(\"select * from ctgov.my_conditions;\", con = engine)\n",
    "\n",
    "my_conditions[\"Code\"] = my_conditions[\"qualifier\"].str[0] \n",
    "my_conditions = my_conditions.merge(my_qualifiers[[\"Code\", \"Category\"]], on = \"Code\", how = \"left\")\n",
    "\n",
    "my_conditions = my_conditions.groupby(\"nct_id\").agg({\n",
    "    \"qualifier\": lambda x: sorted(set(i for i in x if pd.notnull(i))),\n",
    "    \"heading\": lambda x: sorted(set(i for i in x if pd.notnull(i))),\n",
    "    \"Category\": lambda x: sorted(set(i for i in x if pd.notnull(i))),\n",
    "    \"Code\": lambda x: sorted(set(i for i in x if pd.notnull(i))),\n",
    "    \"name\": lambda x: sorted(set(i for i in x if pd.notnull(i))),\n",
    "}).reset_index()\n",
    "\n",
    "# C23 ('Pathological Conditions, Signs and Symptoms') has been dropped when len(row) > 1 (>1 qualifiers)\n",
    "# as it mostly corresponds to symptoms of conditioned noted in the row and thus inflates comorbidity\n",
    "\n",
    "my_conditions"
   ]
  },
  {
   "cell_type": "markdown",
   "id": "0ef06533",
   "metadata": {},
   "source": [
    "## my_covid"
   ]
  },
  {
   "cell_type": "code",
   "execution_count": 7,
   "id": "8f7f05fc",
   "metadata": {},
   "outputs": [
    {
     "data": {
      "application/vnd.microsoft.datawrangler.viewer.v0+json": {
       "columns": [
        {
         "name": "index",
         "rawType": "int64",
         "type": "integer"
        },
        {
         "name": "nct_id",
         "rawType": "object",
         "type": "string"
        },
        {
         "name": "mesh_term",
         "rawType": "object",
         "type": "string"
        }
       ],
       "ref": "a7c9b58b-d8ca-4388-b532-a8573db4e339",
       "rows": [
        [
         "0",
         "NCT03183570",
         "COVID-19"
        ],
        [
         "1",
         "NCT03376854",
         "COVID-19"
        ],
        [
         "2",
         "NCT03554265",
         "COVID-19"
        ],
        [
         "4",
         "NCT03891420",
         "COVID-19"
        ],
        [
         "5",
         "NCT03907891",
         "COVID-19"
        ],
        [
         "6",
         "NCT04244591",
         "COVID-19"
        ],
        [
         "7",
         "NCT04251767",
         "COVID-19"
        ],
        [
         "8",
         "NCT04257656",
         "COVID-19"
        ],
        [
         "9",
         "NCT04261517",
         "COVID-19"
        ],
        [
         "10",
         "NCT04273321",
         "COVID-19"
        ],
        [
         "11",
         "NCT04275245",
         "COVID-19"
        ],
        [
         "12",
         "NCT04275414",
         "COVID-19"
        ],
        [
         "13",
         "NCT04279197",
         "COVID-19"
        ],
        [
         "14",
         "NCT04280588",
         "COVID-19"
        ],
        [
         "15",
         "NCT04280705",
         "COVID-19"
        ],
        [
         "16",
         "NCT04283461",
         "COVID-19"
        ],
        [
         "17",
         "NCT04283825",
         "COVID-19"
        ],
        [
         "18",
         "NCT04283838",
         "COVID-19"
        ],
        [
         "19",
         "NCT04285190",
         "COVID-19"
        ],
        [
         "20",
         "NCT04287686",
         "COVID-19"
        ],
        [
         "21",
         "NCT04288102",
         "COVID-19"
        ],
        [
         "22",
         "NCT04290858",
         "COVID-19"
        ],
        [
         "23",
         "NCT04290871",
         "COVID-19"
        ],
        [
         "24",
         "NCT04291729",
         "COVID-19"
        ],
        [
         "25",
         "NCT04292730",
         "COVID-19"
        ],
        [
         "26",
         "NCT04292899",
         "COVID-19"
        ],
        [
         "27",
         "NCT04303299",
         "COVID-19"
        ],
        [
         "28",
         "NCT04303507",
         "COVID-19"
        ],
        [
         "29",
         "NCT04304053",
         "COVID-19"
        ],
        [
         "30",
         "NCT04307693",
         "COVID-19"
        ],
        [
         "31",
         "NCT04311177",
         "COVID-19"
        ],
        [
         "32",
         "NCT04311697",
         "COVID-19"
        ],
        [
         "33",
         "NCT04312009",
         "COVID-19"
        ],
        [
         "34",
         "NCT04312997",
         "COVID-19"
        ],
        [
         "35",
         "NCT04313023",
         "COVID-19"
        ],
        [
         "36",
         "NCT04313127",
         "COVID-19"
        ],
        [
         "37",
         "NCT04315298",
         "COVID-19"
        ],
        [
         "38",
         "NCT04315896",
         "COVID-19"
        ],
        [
         "39",
         "NCT04315948",
         "COVID-19"
        ],
        [
         "40",
         "NCT04315987",
         "COVID-19"
        ],
        [
         "41",
         "NCT04317040",
         "COVID-19"
        ],
        [
         "42",
         "NCT04318015",
         "COVID-19"
        ],
        [
         "43",
         "NCT04318444",
         "COVID-19"
        ],
        [
         "44",
         "NCT04319445",
         "COVID-19"
        ],
        [
         "45",
         "NCT04319731",
         "COVID-19"
        ],
        [
         "46",
         "NCT04320615",
         "COVID-19"
        ],
        [
         "47",
         "NCT04321278",
         "COVID-19"
        ],
        [
         "48",
         "NCT04321421",
         "COVID-19"
        ],
        [
         "49",
         "NCT04321928",
         "COVID-19"
        ],
        [
         "50",
         "NCT04322565",
         "COVID-19"
        ]
       ],
       "shape": {
        "columns": 2,
        "rows": 2855
       }
      },
      "text/html": [
       "<div>\n",
       "<style scoped>\n",
       "    .dataframe tbody tr th:only-of-type {\n",
       "        vertical-align: middle;\n",
       "    }\n",
       "\n",
       "    .dataframe tbody tr th {\n",
       "        vertical-align: top;\n",
       "    }\n",
       "\n",
       "    .dataframe thead th {\n",
       "        text-align: right;\n",
       "    }\n",
       "</style>\n",
       "<table border=\"1\" class=\"dataframe\">\n",
       "  <thead>\n",
       "    <tr style=\"text-align: right;\">\n",
       "      <th></th>\n",
       "      <th>nct_id</th>\n",
       "      <th>mesh_term</th>\n",
       "    </tr>\n",
       "  </thead>\n",
       "  <tbody>\n",
       "    <tr>\n",
       "      <th>0</th>\n",
       "      <td>NCT03183570</td>\n",
       "      <td>COVID-19</td>\n",
       "    </tr>\n",
       "    <tr>\n",
       "      <th>1</th>\n",
       "      <td>NCT03376854</td>\n",
       "      <td>COVID-19</td>\n",
       "    </tr>\n",
       "    <tr>\n",
       "      <th>2</th>\n",
       "      <td>NCT03554265</td>\n",
       "      <td>COVID-19</td>\n",
       "    </tr>\n",
       "    <tr>\n",
       "      <th>4</th>\n",
       "      <td>NCT03891420</td>\n",
       "      <td>COVID-19</td>\n",
       "    </tr>\n",
       "    <tr>\n",
       "      <th>5</th>\n",
       "      <td>NCT03907891</td>\n",
       "      <td>COVID-19</td>\n",
       "    </tr>\n",
       "    <tr>\n",
       "      <th>...</th>\n",
       "      <td>...</td>\n",
       "      <td>...</td>\n",
       "    </tr>\n",
       "    <tr>\n",
       "      <th>2946</th>\n",
       "      <td>NCT06840873</td>\n",
       "      <td>COVID-19</td>\n",
       "    </tr>\n",
       "    <tr>\n",
       "      <th>2948</th>\n",
       "      <td>NCT06850376</td>\n",
       "      <td>COVID-19</td>\n",
       "    </tr>\n",
       "    <tr>\n",
       "      <th>2949</th>\n",
       "      <td>NCT06857318</td>\n",
       "      <td>COVID-19</td>\n",
       "    </tr>\n",
       "    <tr>\n",
       "      <th>2950</th>\n",
       "      <td>NCT06862531</td>\n",
       "      <td>COVID-19</td>\n",
       "    </tr>\n",
       "    <tr>\n",
       "      <th>2951</th>\n",
       "      <td>NCT06864182</td>\n",
       "      <td>COVID-19</td>\n",
       "    </tr>\n",
       "  </tbody>\n",
       "</table>\n",
       "<p>2855 rows × 2 columns</p>\n",
       "</div>"
      ],
      "text/plain": [
       "           nct_id mesh_term\n",
       "0     NCT03183570  COVID-19\n",
       "1     NCT03376854  COVID-19\n",
       "2     NCT03554265  COVID-19\n",
       "4     NCT03891420  COVID-19\n",
       "5     NCT03907891  COVID-19\n",
       "...           ...       ...\n",
       "2946  NCT06840873  COVID-19\n",
       "2948  NCT06850376  COVID-19\n",
       "2949  NCT06857318  COVID-19\n",
       "2950  NCT06862531  COVID-19\n",
       "2951  NCT06864182  COVID-19\n",
       "\n",
       "[2855 rows x 2 columns]"
      ]
     },
     "execution_count": 7,
     "metadata": {},
     "output_type": "execute_result"
    }
   ],
   "source": [
    "create_table_sql = \"\"\"\n",
    "DROP TABLE IF EXISTS ctgov.my_covid;\n",
    "\n",
    "CREATE TABLE ctgov.my_covid AS\n",
    "SELECT DISTINCT ON \n",
    "(\n",
    "studies.nct_id, \n",
    "browse_conditions.mesh_term\n",
    ")\n",
    "    studies.nct_id,\n",
    "    browse_conditions.mesh_term\n",
    "    \n",
    "FROM ctgov.studies\n",
    "LEFT JOIN ctgov.browse_conditions\n",
    "    ON studies.nct_id = browse_conditions.nct_id\n",
    "    \n",
    "WHERE TO_CHAR(studies.start_date, 'YYYY-MM') >= '2011-01'\n",
    "  AND study_type = 'INTERVENTIONAL'\n",
    "  AND overall_status IN ('COMPLETED', 'WITHDRAWN', 'TERMINATED')\n",
    "  AND browse_conditions.mesh_term ILIKE '%covid%'\n",
    "\n",
    "ORDER BY \n",
    "studies.nct_id, \n",
    "browse_conditions.mesh_term;\n",
    "\"\"\"\n",
    "\n",
    "\"\"\"with engine.connect() as conn:\n",
    "    conn.execute(text(create_table_sql))\n",
    "    conn.commit()\"\"\"\n",
    "\n",
    "my_covid = pd.read_sql(\"select * from ctgov.my_covid;\", con = engine)\n",
    "my_covid = my_covid.drop_duplicates(subset = [\"nct_id\"])\n",
    "my_covid[\"mesh_term\"] = my_covid[\"mesh_term\"].replace(\"Post-Acute COVID-19 Syndrome\", \"COVID-19\")\n",
    "my_covid"
   ]
  },
  {
   "cell_type": "markdown",
   "id": "4b3a5e59",
   "metadata": {},
   "source": [
    "## my_placebo"
   ]
  },
  {
   "cell_type": "code",
   "execution_count": 8,
   "id": "78e042c7",
   "metadata": {},
   "outputs": [
    {
     "data": {
      "application/vnd.microsoft.datawrangler.viewer.v0+json": {
       "columns": [
        {
         "name": "index",
         "rawType": "int64",
         "type": "integer"
        },
        {
         "name": "nct_id",
         "rawType": "object",
         "type": "string"
        },
        {
         "name": "group_type",
         "rawType": "object",
         "type": "unknown"
        }
       ],
       "ref": "73ec6310-b75e-4fd9-8998-856a175e5ad3",
       "rows": [
        [
         "0",
         "NCT00125528",
         "EXPERIMENTAL"
        ],
        [
         "1",
         "NCT00125528",
         "PLACEBO_COMPARATOR"
        ],
        [
         "2",
         "NCT00170209",
         "ACTIVE_COMPARATOR"
        ],
        [
         "3",
         "NCT00183482",
         "ACTIVE_COMPARATOR"
        ],
        [
         "4",
         "NCT00183482",
         "EXPERIMENTAL"
        ],
        [
         "5",
         "NCT00194714",
         "EXPERIMENTAL"
        ],
        [
         "6",
         "NCT00258791",
         null
        ],
        [
         "7",
         "NCT00263432",
         "EXPERIMENTAL"
        ],
        [
         "8",
         "NCT00293735",
         "ACTIVE_COMPARATOR"
        ],
        [
         "9",
         "NCT00306059",
         "EXPERIMENTAL"
        ],
        [
         "10",
         "NCT00307905",
         "ACTIVE_COMPARATOR"
        ],
        [
         "11",
         "NCT00307905",
         "PLACEBO_COMPARATOR"
        ],
        [
         "12",
         "NCT00323141",
         "ACTIVE_COMPARATOR"
        ],
        [
         "13",
         "NCT00328809",
         "EXPERIMENTAL"
        ],
        [
         "14",
         "NCT00329641",
         "EXPERIMENTAL"
        ],
        [
         "15",
         "NCT00356317",
         "ACTIVE_COMPARATOR"
        ],
        [
         "16",
         "NCT00356317",
         "EXPERIMENTAL"
        ],
        [
         "17",
         "NCT00362219",
         "ACTIVE_COMPARATOR"
        ],
        [
         "18",
         "NCT00362219",
         "PLACEBO_COMPARATOR"
        ],
        [
         "19",
         "NCT00364000",
         "ACTIVE_COMPARATOR"
        ],
        [
         "20",
         "NCT00364000",
         "EXPERIMENTAL"
        ],
        [
         "21",
         "NCT00372762",
         "ACTIVE_COMPARATOR"
        ],
        [
         "22",
         "NCT00397501",
         "ACTIVE_COMPARATOR"
        ],
        [
         "23",
         "NCT00397579",
         "EXPERIMENTAL"
        ],
        [
         "24",
         "NCT00399594",
         "ACTIVE_COMPARATOR"
        ],
        [
         "25",
         "NCT00399594",
         "EXPERIMENTAL"
        ],
        [
         "26",
         "NCT00412048",
         "OTHER"
        ],
        [
         "27",
         "NCT00422422",
         "EXPERIMENTAL"
        ],
        [
         "28",
         "NCT00442494",
         "OTHER"
        ],
        [
         "29",
         "NCT00448201",
         "ACTIVE_COMPARATOR"
        ],
        [
         "30",
         "NCT00455039",
         "EXPERIMENTAL"
        ],
        [
         "31",
         "NCT00455052",
         "EXPERIMENTAL"
        ],
        [
         "32",
         "NCT00459641",
         "ACTIVE_COMPARATOR"
        ],
        [
         "33",
         "NCT00459641",
         "EXPERIMENTAL"
        ],
        [
         "34",
         "NCT00476255",
         "ACTIVE_COMPARATOR"
        ],
        [
         "35",
         "NCT00476255",
         "EXPERIMENTAL"
        ],
        [
         "36",
         "NCT00488605",
         "ACTIVE_COMPARATOR"
        ],
        [
         "37",
         "NCT00488605",
         "EXPERIMENTAL"
        ],
        [
         "38",
         "NCT00493701",
         "OTHER"
        ],
        [
         "39",
         "NCT00504322",
         "ACTIVE_COMPARATOR"
        ],
        [
         "40",
         "NCT00504322",
         "PLACEBO_COMPARATOR"
        ],
        [
         "41",
         "NCT00520624",
         "EXPERIMENTAL"
        ],
        [
         "42",
         "NCT00520624",
         "NO_INTERVENTION"
        ],
        [
         "43",
         "NCT00532584",
         "EXPERIMENTAL"
        ],
        [
         "44",
         "NCT00532584",
         "NO_INTERVENTION"
        ],
        [
         "45",
         "NCT00534235",
         "ACTIVE_COMPARATOR"
        ],
        [
         "46",
         "NCT00534404",
         "ACTIVE_COMPARATOR"
        ],
        [
         "47",
         "NCT00534404",
         "EXPERIMENTAL"
        ],
        [
         "48",
         "NCT00534404",
         "PLACEBO_COMPARATOR"
        ],
        [
         "49",
         "NCT00534703",
         "ACTIVE_COMPARATOR"
        ]
       ],
       "shape": {
        "columns": 2,
        "rows": 288238
       }
      },
      "text/html": [
       "<div>\n",
       "<style scoped>\n",
       "    .dataframe tbody tr th:only-of-type {\n",
       "        vertical-align: middle;\n",
       "    }\n",
       "\n",
       "    .dataframe tbody tr th {\n",
       "        vertical-align: top;\n",
       "    }\n",
       "\n",
       "    .dataframe thead th {\n",
       "        text-align: right;\n",
       "    }\n",
       "</style>\n",
       "<table border=\"1\" class=\"dataframe\">\n",
       "  <thead>\n",
       "    <tr style=\"text-align: right;\">\n",
       "      <th></th>\n",
       "      <th>nct_id</th>\n",
       "      <th>group_type</th>\n",
       "    </tr>\n",
       "  </thead>\n",
       "  <tbody>\n",
       "    <tr>\n",
       "      <th>0</th>\n",
       "      <td>NCT00125528</td>\n",
       "      <td>EXPERIMENTAL</td>\n",
       "    </tr>\n",
       "    <tr>\n",
       "      <th>1</th>\n",
       "      <td>NCT00125528</td>\n",
       "      <td>PLACEBO_COMPARATOR</td>\n",
       "    </tr>\n",
       "    <tr>\n",
       "      <th>2</th>\n",
       "      <td>NCT00170209</td>\n",
       "      <td>ACTIVE_COMPARATOR</td>\n",
       "    </tr>\n",
       "    <tr>\n",
       "      <th>3</th>\n",
       "      <td>NCT00183482</td>\n",
       "      <td>ACTIVE_COMPARATOR</td>\n",
       "    </tr>\n",
       "    <tr>\n",
       "      <th>4</th>\n",
       "      <td>NCT00183482</td>\n",
       "      <td>EXPERIMENTAL</td>\n",
       "    </tr>\n",
       "    <tr>\n",
       "      <th>...</th>\n",
       "      <td>...</td>\n",
       "      <td>...</td>\n",
       "    </tr>\n",
       "    <tr>\n",
       "      <th>288233</th>\n",
       "      <td>NCT06875661</td>\n",
       "      <td>EXPERIMENTAL</td>\n",
       "    </tr>\n",
       "    <tr>\n",
       "      <th>288234</th>\n",
       "      <td>NCT06875661</td>\n",
       "      <td>NO_INTERVENTION</td>\n",
       "    </tr>\n",
       "    <tr>\n",
       "      <th>288235</th>\n",
       "      <td>NCT06875674</td>\n",
       "      <td>ACTIVE_COMPARATOR</td>\n",
       "    </tr>\n",
       "    <tr>\n",
       "      <th>288236</th>\n",
       "      <td>NCT06875674</td>\n",
       "      <td>PLACEBO_COMPARATOR</td>\n",
       "    </tr>\n",
       "    <tr>\n",
       "      <th>288237</th>\n",
       "      <td>NCT06875687</td>\n",
       "      <td>EXPERIMENTAL</td>\n",
       "    </tr>\n",
       "  </tbody>\n",
       "</table>\n",
       "<p>288238 rows × 2 columns</p>\n",
       "</div>"
      ],
      "text/plain": [
       "             nct_id          group_type\n",
       "0       NCT00125528        EXPERIMENTAL\n",
       "1       NCT00125528  PLACEBO_COMPARATOR\n",
       "2       NCT00170209   ACTIVE_COMPARATOR\n",
       "3       NCT00183482   ACTIVE_COMPARATOR\n",
       "4       NCT00183482        EXPERIMENTAL\n",
       "...             ...                 ...\n",
       "288233  NCT06875661        EXPERIMENTAL\n",
       "288234  NCT06875661     NO_INTERVENTION\n",
       "288235  NCT06875674   ACTIVE_COMPARATOR\n",
       "288236  NCT06875674  PLACEBO_COMPARATOR\n",
       "288237  NCT06875687        EXPERIMENTAL\n",
       "\n",
       "[288238 rows x 2 columns]"
      ]
     },
     "execution_count": 8,
     "metadata": {},
     "output_type": "execute_result"
    }
   ],
   "source": [
    "create_table_sql =\"\"\"\n",
    "DROP TABLE IF EXISTS ctgov.my_placebo;\n",
    "\n",
    "CREATE TABLE ctgov.my_placebo AS\n",
    "SELECT DISTINCT ON (\n",
    "    studies.nct_id,\n",
    "    design_groups.group_type   \n",
    ")\n",
    "    studies.nct_id,\n",
    "    design_groups.group_type\n",
    "\n",
    "    FROM ctgov.studies\n",
    "LEFT JOIN ctgov.design_groups\n",
    "    ON studies.nct_id = design_groups.nct_id\n",
    "    \n",
    "WHERE TO_CHAR(studies.start_date, 'YYYY-MM') >= '2011-01'\n",
    "  AND studies.study_type = 'INTERVENTIONAL'\n",
    "  AND studies.overall_status IN ('COMPLETED', 'WITHDRAWN', 'TERMINATED')\n",
    "ORDER BY \n",
    "    studies.nct_id, \n",
    "    design_groups.group_type;\n",
    "\"\"\"\n",
    "\n",
    "\"\"\"with engine.connect() as conn:\n",
    "    conn.execute(text(create_table_sql))\n",
    "    conn.commit()\"\"\"\n",
    "\n",
    "\n",
    "my_placebo = pd.read_sql(\"select * from ctgov.my_placebo;\", con = engine)\n",
    "my_placebo"
   ]
  },
  {
   "cell_type": "markdown",
   "id": "3d0b781f",
   "metadata": {},
   "source": [
    "## my_interventions"
   ]
  },
  {
   "cell_type": "code",
   "execution_count": 9,
   "id": "ea6fbbc5",
   "metadata": {},
   "outputs": [
    {
     "data": {
      "application/vnd.microsoft.datawrangler.viewer.v0+json": {
       "columns": [
        {
         "name": "index",
         "rawType": "int64",
         "type": "integer"
        },
        {
         "name": "nct_id",
         "rawType": "object",
         "type": "string"
        },
        {
         "name": "mesh_term",
         "rawType": "object",
         "type": "unknown"
        }
       ],
       "ref": "93c3dd27-4910-40d0-b311-211c1eb27fbf",
       "rows": [
        [
         "0",
         "NCT00125528",
         "Anti-Bacterial Agents"
        ],
        [
         "1",
         "NCT00125528",
         "Anti-Infective Agents"
        ],
        [
         "2",
         "NCT00125528",
         "Anti-Infective Agents, Urinary"
        ],
        [
         "3",
         "NCT00125528",
         "Antibiotics, Antitubercular"
        ],
        [
         "4",
         "NCT00125528",
         "Antimetabolites"
        ],
        [
         "5",
         "NCT00125528",
         "Antitubercular Agents"
        ],
        [
         "6",
         "NCT00125528",
         "Cycloserine"
        ],
        [
         "7",
         "NCT00125528",
         "Molecular Mechanisms of Pharmacological Action"
        ],
        [
         "8",
         "NCT00170209",
         "Anti-Bacterial Agents"
        ],
        [
         "9",
         "NCT00170209",
         "Anti-Infective Agents"
        ],
        [
         "10",
         "NCT00170209",
         "Antibiotics, Antitubercular"
        ],
        [
         "11",
         "NCT00170209",
         "Antimetabolites"
        ],
        [
         "12",
         "NCT00170209",
         "Antitubercular Agents"
        ],
        [
         "13",
         "NCT00170209",
         "Cytochrome P-450 CYP2B6 Inducers"
        ],
        [
         "14",
         "NCT00170209",
         "Cytochrome P-450 CYP2C19 Inducers"
        ],
        [
         "15",
         "NCT00170209",
         "Cytochrome P-450 CYP2C8 Inducers"
        ],
        [
         "16",
         "NCT00170209",
         "Cytochrome P-450 CYP2C9 Inducers"
        ],
        [
         "17",
         "NCT00170209",
         "Cytochrome P-450 CYP3A Inducers"
        ],
        [
         "18",
         "NCT00170209",
         "Cytochrome P-450 Enzyme Inducers"
        ],
        [
         "19",
         "NCT00170209",
         "Enzyme Inhibitors"
        ],
        [
         "20",
         "NCT00170209",
         "Fatty Acid Synthesis Inhibitors"
        ],
        [
         "21",
         "NCT00170209",
         "Hypolipidemic Agents"
        ],
        [
         "22",
         "NCT00170209",
         "Isoniazid"
        ],
        [
         "23",
         "NCT00170209",
         "Leprostatic Agents"
        ],
        [
         "24",
         "NCT00170209",
         "Lipid Regulating Agents"
        ],
        [
         "25",
         "NCT00170209",
         "Molecular Mechanisms of Pharmacological Action"
        ],
        [
         "26",
         "NCT00170209",
         "Nucleic Acid Synthesis Inhibitors"
        ],
        [
         "27",
         "NCT00170209",
         "Rifampin"
        ],
        [
         "28",
         "NCT00183482",
         null
        ],
        [
         "29",
         "NCT00194714",
         "Immunologic Factors"
        ],
        [
         "30",
         "NCT00194714",
         "Physiological Effects of Drugs"
        ],
        [
         "31",
         "NCT00194714",
         "Vaccines"
        ],
        [
         "32",
         "NCT00258791",
         "Analgesics"
        ],
        [
         "33",
         "NCT00258791",
         "Analgesics, Non-Narcotic"
        ],
        [
         "34",
         "NCT00258791",
         "Anti-Inflammatory Agents"
        ],
        [
         "35",
         "NCT00258791",
         "Anti-Inflammatory Agents, Non-Steroidal"
        ],
        [
         "36",
         "NCT00258791",
         "Antirheumatic Agents"
        ],
        [
         "37",
         "NCT00258791",
         "Cyclooxygenase Inhibitors"
        ],
        [
         "38",
         "NCT00258791",
         "Enzyme Inhibitors"
        ],
        [
         "39",
         "NCT00258791",
         "Ibuprofen"
        ],
        [
         "40",
         "NCT00258791",
         "Molecular Mechanisms of Pharmacological Action"
        ],
        [
         "41",
         "NCT00258791",
         "Peripheral Nervous System Agents"
        ],
        [
         "42",
         "NCT00258791",
         "Physiological Effects of Drugs"
        ],
        [
         "43",
         "NCT00258791",
         "Sensory System Agents"
        ],
        [
         "44",
         "NCT00263432",
         null
        ],
        [
         "45",
         "NCT00293735",
         "Adrenergic Agents"
        ],
        [
         "46",
         "NCT00293735",
         "Adrenergic alpha-1 Receptor Antagonists"
        ],
        [
         "47",
         "NCT00293735",
         "Adrenergic alpha-Antagonists"
        ],
        [
         "48",
         "NCT00293735",
         "Adrenergic Antagonists"
        ],
        [
         "49",
         "NCT00293735",
         "Adrenergic beta-Antagonists"
        ]
       ],
       "shape": {
        "columns": 2,
        "rows": 706941
       }
      },
      "text/html": [
       "<div>\n",
       "<style scoped>\n",
       "    .dataframe tbody tr th:only-of-type {\n",
       "        vertical-align: middle;\n",
       "    }\n",
       "\n",
       "    .dataframe tbody tr th {\n",
       "        vertical-align: top;\n",
       "    }\n",
       "\n",
       "    .dataframe thead th {\n",
       "        text-align: right;\n",
       "    }\n",
       "</style>\n",
       "<table border=\"1\" class=\"dataframe\">\n",
       "  <thead>\n",
       "    <tr style=\"text-align: right;\">\n",
       "      <th></th>\n",
       "      <th>nct_id</th>\n",
       "      <th>mesh_term</th>\n",
       "    </tr>\n",
       "  </thead>\n",
       "  <tbody>\n",
       "    <tr>\n",
       "      <th>0</th>\n",
       "      <td>NCT00125528</td>\n",
       "      <td>Anti-Bacterial Agents</td>\n",
       "    </tr>\n",
       "    <tr>\n",
       "      <th>1</th>\n",
       "      <td>NCT00125528</td>\n",
       "      <td>Anti-Infective Agents</td>\n",
       "    </tr>\n",
       "    <tr>\n",
       "      <th>2</th>\n",
       "      <td>NCT00125528</td>\n",
       "      <td>Anti-Infective Agents, Urinary</td>\n",
       "    </tr>\n",
       "    <tr>\n",
       "      <th>3</th>\n",
       "      <td>NCT00125528</td>\n",
       "      <td>Antibiotics, Antitubercular</td>\n",
       "    </tr>\n",
       "    <tr>\n",
       "      <th>4</th>\n",
       "      <td>NCT00125528</td>\n",
       "      <td>Antimetabolites</td>\n",
       "    </tr>\n",
       "    <tr>\n",
       "      <th>...</th>\n",
       "      <td>...</td>\n",
       "      <td>...</td>\n",
       "    </tr>\n",
       "    <tr>\n",
       "      <th>706936</th>\n",
       "      <td>NCT06875674</td>\n",
       "      <td>Physiological Effects of Drugs</td>\n",
       "    </tr>\n",
       "    <tr>\n",
       "      <th>706937</th>\n",
       "      <td>NCT06875674</td>\n",
       "      <td>Protective Agents</td>\n",
       "    </tr>\n",
       "    <tr>\n",
       "      <th>706938</th>\n",
       "      <td>NCT06875674</td>\n",
       "      <td>Selenium</td>\n",
       "    </tr>\n",
       "    <tr>\n",
       "      <th>706939</th>\n",
       "      <td>NCT06875674</td>\n",
       "      <td>Trace Elements</td>\n",
       "    </tr>\n",
       "    <tr>\n",
       "      <th>706940</th>\n",
       "      <td>NCT06875687</td>\n",
       "      <td>None</td>\n",
       "    </tr>\n",
       "  </tbody>\n",
       "</table>\n",
       "<p>706941 rows × 2 columns</p>\n",
       "</div>"
      ],
      "text/plain": [
       "             nct_id                       mesh_term\n",
       "0       NCT00125528           Anti-Bacterial Agents\n",
       "1       NCT00125528           Anti-Infective Agents\n",
       "2       NCT00125528  Anti-Infective Agents, Urinary\n",
       "3       NCT00125528     Antibiotics, Antitubercular\n",
       "4       NCT00125528                 Antimetabolites\n",
       "...             ...                             ...\n",
       "706936  NCT06875674  Physiological Effects of Drugs\n",
       "706937  NCT06875674               Protective Agents\n",
       "706938  NCT06875674                        Selenium\n",
       "706939  NCT06875674                  Trace Elements\n",
       "706940  NCT06875687                            None\n",
       "\n",
       "[706941 rows x 2 columns]"
      ]
     },
     "execution_count": 9,
     "metadata": {},
     "output_type": "execute_result"
    }
   ],
   "source": [
    "create_table_sql =\"\"\"\n",
    "DROP TABLE IF EXISTS ctgov.my_interventions;\n",
    "\n",
    "CREATE TABLE ctgov.my_interventions AS\n",
    "SELECT DISTINCT ON (\n",
    "    studies.nct_id,\n",
    "    browse_interventions.mesh_term      \n",
    ")\n",
    "    studies.nct_id,\n",
    "    browse_interventions.mesh_term\n",
    "\n",
    "    FROM ctgov.studies\n",
    "LEFT JOIN ctgov.browse_interventions\n",
    "    ON studies.nct_id = browse_interventions.nct_id\n",
    "\n",
    "WHERE TO_CHAR(studies.start_date, 'YYYY-MM') >= '2011-01'\n",
    "  AND studies.study_type = 'INTERVENTIONAL'\n",
    "  AND studies.overall_status IN ('COMPLETED', 'WITHDRAWN', 'TERMINATED')\n",
    "ORDER BY \n",
    "    studies.nct_id, \n",
    "    browse_interventions.mesh_term;\n",
    "\"\"\"\n",
    "#     interventions.name\n",
    "\n",
    "\"\"\"with engine.connect() as conn:\n",
    "    conn.execute(text(create_table_sql))\n",
    "    conn.commit()\"\"\"\n",
    "\n",
    "\n",
    "my_interventions = pd.read_sql(\"select * from ctgov.my_interventions;\", con = engine)\n",
    "my_interventions"
   ]
  },
  {
   "cell_type": "markdown",
   "id": "f47c5ae3",
   "metadata": {},
   "source": [
    "## my_interventions_types"
   ]
  },
  {
   "cell_type": "code",
   "execution_count": 10,
   "id": "09cb6198",
   "metadata": {},
   "outputs": [
    {
     "data": {
      "application/vnd.microsoft.datawrangler.viewer.v0+json": {
       "columns": [
        {
         "name": "index",
         "rawType": "int64",
         "type": "integer"
        },
        {
         "name": "nct_id",
         "rawType": "object",
         "type": "string"
        },
        {
         "name": "intervention_type",
         "rawType": "object",
         "type": "unknown"
        }
       ],
       "ref": "21159bd3-c3d9-42ed-a9ee-2ef2a6cc8df6",
       "rows": [
        [
         "0",
         "NCT00125528",
         "['DRUG']"
        ],
        [
         "1",
         "NCT00170209",
         "['DRUG']"
        ],
        [
         "2",
         "NCT00183482",
         "['BEHAVIORAL']"
        ],
        [
         "3",
         "NCT00194714",
         "['BIOLOGICAL', 'OTHER']"
        ],
        [
         "4",
         "NCT00258791",
         "['DRUG']"
        ],
        [
         "5",
         "NCT00263432",
         "['PROCEDURE']"
        ],
        [
         "6",
         "NCT00293735",
         "['DRUG']"
        ],
        [
         "7",
         "NCT00306059",
         "['PROCEDURE']"
        ],
        [
         "8",
         "NCT00307905",
         "['DRUG']"
        ],
        [
         "9",
         "NCT00323141",
         "['DEVICE']"
        ],
        [
         "10",
         "NCT00328809",
         "['DRUG']"
        ],
        [
         "11",
         "NCT00329641",
         "['DRUG']"
        ],
        [
         "12",
         "NCT00356317",
         "['BEHAVIORAL']"
        ],
        [
         "13",
         "NCT00362219",
         "['DRUG', 'OTHER']"
        ],
        [
         "14",
         "NCT00364000",
         "['DRUG']"
        ],
        [
         "15",
         "NCT00372762",
         "['DRUG']"
        ],
        [
         "16",
         "NCT00397501",
         "['BIOLOGICAL', 'DRUG']"
        ],
        [
         "17",
         "NCT00397579",
         "['DRUG']"
        ],
        [
         "18",
         "NCT00399594",
         "['PROCEDURE']"
        ],
        [
         "19",
         "NCT00412048",
         "['PROCEDURE']"
        ],
        [
         "20",
         "NCT00422422",
         "['DRUG']"
        ],
        [
         "21",
         "NCT00442494",
         "['DRUG']"
        ],
        [
         "22",
         "NCT00448201",
         "['BIOLOGICAL', 'DRUG', 'PROCEDURE']"
        ],
        [
         "23",
         "NCT00455039",
         "['DRUG']"
        ],
        [
         "24",
         "NCT00455052",
         "['DRUG']"
        ],
        [
         "25",
         "NCT00459641",
         "['DRUG', 'OTHER']"
        ],
        [
         "26",
         "NCT00476255",
         "['BEHAVIORAL']"
        ],
        [
         "27",
         "NCT00488605",
         "['DRUG']"
        ],
        [
         "28",
         "NCT00493701",
         "['BEHAVIORAL']"
        ],
        [
         "29",
         "NCT00504322",
         "['GENETIC']"
        ],
        [
         "30",
         "NCT00520624",
         "['DEVICE', 'PROCEDURE']"
        ],
        [
         "31",
         "NCT00532584",
         "['DRUG']"
        ],
        [
         "32",
         "NCT00534235",
         "['DEVICE', 'PROCEDURE']"
        ],
        [
         "33",
         "NCT00534404",
         "['BEHAVIORAL', 'DRUG']"
        ],
        [
         "34",
         "NCT00534703",
         "['DRUG', 'GENETIC']"
        ],
        [
         "35",
         "NCT00554996",
         "['DEVICE']"
        ],
        [
         "36",
         "NCT00570050",
         "['DRUG']"
        ],
        [
         "37",
         "NCT00571246",
         "['DRUG', 'OTHER']"
        ],
        [
         "38",
         "NCT00572533",
         "['OTHER']"
        ],
        [
         "39",
         "NCT00572689",
         "['DRUG', 'GENETIC']"
        ],
        [
         "40",
         "NCT00576771",
         "['PROCEDURE']"
        ],
        [
         "41",
         "NCT00580580",
         "['DRUG']"
        ],
        [
         "42",
         "NCT00591877",
         "['OTHER', 'PROCEDURE']"
        ],
        [
         "43",
         "NCT00593164",
         "['DEVICE']"
        ],
        [
         "44",
         "NCT00596856",
         "['BEHAVIORAL']"
        ],
        [
         "45",
         "NCT00601952",
         "['BEHAVIORAL']"
        ],
        [
         "46",
         "NCT00603460",
         "['BIOLOGICAL']"
        ],
        [
         "47",
         "NCT00613418",
         "['DEVICE']"
        ],
        [
         "48",
         "NCT00623948",
         "['DEVICE']"
        ],
        [
         "49",
         "NCT00640094",
         "['DRUG']"
        ]
       ],
       "shape": {
        "columns": 2,
        "rows": 182236
       }
      },
      "text/html": [
       "<div>\n",
       "<style scoped>\n",
       "    .dataframe tbody tr th:only-of-type {\n",
       "        vertical-align: middle;\n",
       "    }\n",
       "\n",
       "    .dataframe tbody tr th {\n",
       "        vertical-align: top;\n",
       "    }\n",
       "\n",
       "    .dataframe thead th {\n",
       "        text-align: right;\n",
       "    }\n",
       "</style>\n",
       "<table border=\"1\" class=\"dataframe\">\n",
       "  <thead>\n",
       "    <tr style=\"text-align: right;\">\n",
       "      <th></th>\n",
       "      <th>nct_id</th>\n",
       "      <th>intervention_type</th>\n",
       "    </tr>\n",
       "  </thead>\n",
       "  <tbody>\n",
       "    <tr>\n",
       "      <th>0</th>\n",
       "      <td>NCT00125528</td>\n",
       "      <td>[DRUG]</td>\n",
       "    </tr>\n",
       "    <tr>\n",
       "      <th>1</th>\n",
       "      <td>NCT00170209</td>\n",
       "      <td>[DRUG]</td>\n",
       "    </tr>\n",
       "    <tr>\n",
       "      <th>2</th>\n",
       "      <td>NCT00183482</td>\n",
       "      <td>[BEHAVIORAL]</td>\n",
       "    </tr>\n",
       "    <tr>\n",
       "      <th>3</th>\n",
       "      <td>NCT00194714</td>\n",
       "      <td>[BIOLOGICAL, OTHER]</td>\n",
       "    </tr>\n",
       "    <tr>\n",
       "      <th>4</th>\n",
       "      <td>NCT00258791</td>\n",
       "      <td>[DRUG]</td>\n",
       "    </tr>\n",
       "    <tr>\n",
       "      <th>...</th>\n",
       "      <td>...</td>\n",
       "      <td>...</td>\n",
       "    </tr>\n",
       "    <tr>\n",
       "      <th>182231</th>\n",
       "      <td>NCT06875349</td>\n",
       "      <td>[OTHER]</td>\n",
       "    </tr>\n",
       "    <tr>\n",
       "      <th>182232</th>\n",
       "      <td>NCT06875557</td>\n",
       "      <td>[BEHAVIORAL]</td>\n",
       "    </tr>\n",
       "    <tr>\n",
       "      <th>182233</th>\n",
       "      <td>NCT06875661</td>\n",
       "      <td>[OTHER]</td>\n",
       "    </tr>\n",
       "    <tr>\n",
       "      <th>182234</th>\n",
       "      <td>NCT06875674</td>\n",
       "      <td>[DIETARY_SUPPLEMENT]</td>\n",
       "    </tr>\n",
       "    <tr>\n",
       "      <th>182235</th>\n",
       "      <td>NCT06875687</td>\n",
       "      <td>[OTHER]</td>\n",
       "    </tr>\n",
       "  </tbody>\n",
       "</table>\n",
       "<p>182236 rows × 2 columns</p>\n",
       "</div>"
      ],
      "text/plain": [
       "             nct_id     intervention_type\n",
       "0       NCT00125528                [DRUG]\n",
       "1       NCT00170209                [DRUG]\n",
       "2       NCT00183482          [BEHAVIORAL]\n",
       "3       NCT00194714   [BIOLOGICAL, OTHER]\n",
       "4       NCT00258791                [DRUG]\n",
       "...             ...                   ...\n",
       "182231  NCT06875349               [OTHER]\n",
       "182232  NCT06875557          [BEHAVIORAL]\n",
       "182233  NCT06875661               [OTHER]\n",
       "182234  NCT06875674  [DIETARY_SUPPLEMENT]\n",
       "182235  NCT06875687               [OTHER]\n",
       "\n",
       "[182236 rows x 2 columns]"
      ]
     },
     "execution_count": 10,
     "metadata": {},
     "output_type": "execute_result"
    }
   ],
   "source": [
    "create_table_sql = \"\"\"\n",
    "DROP TABLE IF EXISTS ctgov.my_interventions_types;\n",
    "\n",
    "CREATE TABLE ctgov.my_interventions_types AS\n",
    "SELECT DISTINCT ON (\n",
    "    studies.nct_id,\n",
    "    interventions.intervention_type\n",
    ")\n",
    "    studies.nct_id,\n",
    "    interventions.intervention_type\n",
    "\n",
    "FROM ctgov.studies\n",
    "\n",
    "LEFT JOIN ctgov.interventions\n",
    "    ON studies.nct_id = interventions.nct_id\n",
    "\n",
    "WHERE TO_CHAR(studies.start_date, 'YYYY-MM') >= '2011-01'\n",
    "  AND studies.study_type = 'INTERVENTIONAL'\n",
    "  AND studies.overall_status IN ('COMPLETED', 'WITHDRAWN', 'TERMINATED')\n",
    "\n",
    "ORDER BY \n",
    "    studies.nct_id,\n",
    "    interventions.intervention_type;\n",
    "\"\"\"\n",
    "\n",
    "\"\"\"with engine.connect() as conn:\n",
    "    conn.execute(text(create_table_sql))\n",
    "    conn.commit()\"\"\"\n",
    "\n",
    "my_interventions_types = pd.read_sql(\"select * from ctgov.my_interventions_types;\", con = engine)\n",
    "my_interventions_types = my_interventions_types.groupby(\"nct_id\")[\"intervention_type\"].agg(lambda x: sorted(set(i for i in x if i is not None))).reset_index()\n",
    "# my_interventions_types['intervention_type'] = my_interventions_types['intervention_type'].apply(lambda x: list(set(sorted(x))))\n",
    "my_interventions_types"
   ]
  },
  {
   "cell_type": "markdown",
   "id": "e533fdf5",
   "metadata": {},
   "source": [
    "## my_intervention_methods / my_intervention_methods2\n",
    "(?<!\\w): no word character before (start of word)\n",
    "(?!\\w): no word character after (end of word)\n",
    "\\s --> Space before/sfter (no character of world/non world) \n",
    "\\b --> word boundary. (Exception: Non letter characters could exist e.g -.,)\n",
    "\\. --> period as string e.g i.v (while str1.str2 = any character betwwen str1 and str2)\n",
    "? --> optional\n",
    "^ --> not \n",
    "[^a-zA-Z] --> non world/letter character"
   ]
  },
  {
   "cell_type": "code",
   "execution_count": 11,
   "id": "91489231",
   "metadata": {},
   "outputs": [
    {
     "data": {
      "application/vnd.microsoft.datawrangler.viewer.v0+json": {
       "columns": [
        {
         "name": "index",
         "rawType": "int64",
         "type": "integer"
        },
        {
         "name": "nct_id",
         "rawType": "object",
         "type": "string"
        },
        {
         "name": "interventions_description",
         "rawType": "object",
         "type": "unknown"
        }
       ],
       "ref": "1ab92574-5e89-4098-a74e-04810c09b689",
       "rows": [
        [
         "0",
         "NCT00125528",
         "D-cycloserine 50 mg bid; D-cycloserine 100 mg bid; D-cycloserine 200 mg bid"
        ],
        [
         "1",
         "NCT00125528",
         "placebo bid"
        ],
        [
         "4",
         "NCT00170209",
         "The dosage of the medication is determined according to the weight of the child. The dose is once per day, 10-15 mg/kg/day (max=300mg/day). Total duration of treatment is 9 months. Both a detailed dose chart calculating doses by weight and age and protocols for preparation of medications (crushing pills, mixing suspensions) are available."
        ],
        [
         "6",
         "NCT00170209",
         "The dosage of the medication is determined according to the weight of the child. The dose is once per day, 10-20 mg/kg/day (max=600mg/day). Total duration of treatment is 4 months. Both a detailed dose chart calculating doses by weight and age and protocols for preparation of medications (crushing pills, mixing suspensions) are available."
        ],
        [
         "8",
         "NCT00183482",
         "Families are mailed written materials that describe depression and stress in families with a depressed parent."
        ],
        [
         "9",
         "NCT00183482",
         "Groups of families receive training in parenting and children learn about coping in ten weekly sessions and then three monthly sessions"
        ],
        [
         "12",
         "NCT00194714",
         "Correlative studies"
        ],
        [
         "13",
         "NCT00194714",
         "Given ID"
        ],
        [
         "14",
         "NCT00258791",
         null
        ],
        [
         "15",
         "NCT00263432",
         "Implantation of fresh human allogenic chondrocytes in human knee cartilage injuries"
        ],
        [
         "16",
         "NCT00293735",
         "20mg IV (can be increased to an escalating dose of maximum of 80 mg (20mg, 40 mg, 80 mg q 20min) Cumulative max of 240 mg.\n\n20mg labetalol PO every 6 hours"
        ],
        [
         "17",
         "NCT00293735",
         "4-6g bolus over 20 minutes; 1-2 grams/hr Discontinued 24 hours after delivery."
        ],
        [
         "18",
         "NCT00306059",
         "Directed therapy during 6 hours after occurence of the early phase of acute kidney injury."
        ],
        [
         "19",
         "NCT00307905",
         "homeopathic remedy"
        ],
        [
         "20",
         "NCT00307905",
         "identical size, shape and taste of treatment medication"
        ],
        [
         "23",
         "NCT00323141",
         "Ventralex and Leight Weight Vypro II prothesis are compared."
        ],
        [
         "24",
         "NCT00328809",
         "spironolactone administered to ESRD patients at low dose"
        ],
        [
         "25",
         "NCT00329641",
         "Given IV"
        ],
        [
         "26",
         "NCT00329641",
         "Given orally"
        ],
        [
         "27",
         "NCT00356317",
         "This family therapy consists of 15 video-taped, therapy sessions, each lasting approximately 75 minutes. The 15-session treatment will be broken down into five segments (each lasting approximately three sessions) with the following goals: 1) Fortify a strong sense of family unity; 2) educate about schizophrenia; 3) foster adaptive use of cultural, spiritual and/or existential beliefs in conceptualizing and coming to terms with schizophrenia; 4) teach effective communication training techniques; and 5) and teach useful problem solving strategies."
        ],
        [
         "28",
         "NCT00356317",
         "This family therapy consists of three weekly sessions focusing on education about schizophrenia."
        ],
        [
         "31",
         "NCT00362219",
         "gel with 0.25 mg morphine per 100cm2 square of wound."
        ],
        [
         "34",
         "NCT00362219",
         "Gel with 0.75 mg morphine per 100cm2 square of wound."
        ],
        [
         "37",
         "NCT00362219",
         "Gel with 1.25 mg morphine per 100cm2 square of wound."
        ],
        [
         "40",
         "NCT00362219",
         "Gel with no active ingredient."
        ],
        [
         "47",
         "NCT00364000",
         "Calcium acetate in 240 chronic HD patients"
        ],
        [
         "48",
         "NCT00364000",
         "label sevelamer (RenagelR) 800 mg tablets"
        ],
        [
         "51",
         "NCT00372762",
         "0.5mg to 2mg orally once or twice daily"
        ],
        [
         "53",
         "NCT00372762",
         "20mg to 80mg orally once or twice daily"
        ],
        [
         "55",
         "NCT00372762",
         "Current dose of furosemide will be maintained and equivalent dose bumetanide will be used following crossover"
        ],
        [
         "57",
         "NCT00372762",
         "Equivalent dose to pre-existing furosemide will be used"
        ],
        [
         "59",
         "NCT00397501",
         "200mg/m2/day x 2 days; total dose 400mg/m2 Infused i.a. over 10 mins in 200ml of normal saline after MTX infusion"
        ],
        [
         "61",
         "NCT00397501",
         "2500 mg/day x 2 days; total dose 5000mg Infused over 10mins in 200ml saline beginning immediately after mannitol infusion"
        ],
        [
         "63",
         "NCT00397501",
         "STS dose admin i.v. over 15mins @ 4hrs post carboplatin = 20gm/m2; STS dose admin i.v. over 15mins @ 8hrs post carboplatin = 16gm/m2"
        ],
        [
         "65",
         "NCT00397501",
         "Trastuzamab, 6mg/kg, within 48 hrs before BBBD\n\nThen, Trastuzumab, 2mg/kg, weekly until next BBBD Then continue for 12 cycles"
        ],
        [
         "67",
         "NCT00397579",
         "Intravenously via a 3 cc plastic syringe as a 15 minute bolus infusion daily for five days."
        ],
        [
         "68",
         "NCT00399594",
         "LV lead placement in region of latest mechanical velocity (tissue doppler)"
        ],
        [
         "69",
         "NCT00399594",
         "LV lead placement in standard (lateral / posterolateral) position."
        ],
        [
         "72",
         "NCT00412048",
         "There is a fMRI to be realized in the 3 arms. No drug is administered"
        ],
        [
         "73",
         "NCT00422422",
         "Oral solution\n\nEvaluation period (3 weeks up-titration):\n\nFor subjects ≥8 years:\n\n* \\~0.4 mg/kg bid for Week 1\n* \\~0.8 mg/kg bid for Week 2\n* \\~1.6 mg/kg bid for Week 3\n\nFor subjects \\<8 years:\n\n* \\~0.5 mg/kg bid for Week 1\n* \\~1.0 mg/kg bid for Week 2\n* \\~2.0 mg/kg bid for Week 3\n\nDown-titration period (up to 2 weeks):\n\nFor subjects ≥8 years:\n\n* \\~0.8 mg/kg bid for Week 4\n* \\~0.4 mg/kg bid for Week 5\n\nFor subjects \\<8 years:\n\n* \\~1.0 mg/kg bid for Week 4\n* \\~0.5 mg/kg bid for Week 5"
        ],
        [
         "74",
         "NCT00442494",
         null
        ],
        [
         "75",
         "NCT00448201",
         "0.5 mg/kg on day -3, 2.5 mg/kg on day -2 (groups 2, 3 and 4) and 3 mg/kg on day -1 (group 4 only)"
        ],
        [
         "79",
         "NCT00448201",
         "6.4 mg/kg by continuous IV infusion over 48 hours on Days -6 and -5"
        ],
        [
         "83",
         "NCT00448201",
         "A minimum total cluster of differentiation 34 (CD34)+ cell dose of 3 x 10\\^6 cells/kg and a maximum 8 x 10\\^6 cells/kg will be infused on day 0"
        ],
        [
         "87",
         "NCT00448201",
         "fludarabine 30 mg/m\\^2/day x 5 days IV piggyback (IVPB) over 30 minutes on Days -7 through -3"
        ],
        [
         "91",
         "NCT00448201",
         "GM-CSF 500 ug everyday (QD) subcutaneously will be given to recipients who remain with an Absolute neutrophil count (ANC) \\< 1000/microliter (uL) past day 20"
        ],
        [
         "95",
         "NCT00448201",
         "Methotrexate 5 mg/m\\^2 per day on days +1, +3 and +6"
        ],
        [
         "99",
         "NCT00448201",
         "Minimum total CD34+ cells of 3 x 10\\^6 cells/kg and a maximum of 8 x 10\\^6 cells/kg will be infused on Day 0"
        ],
        [
         "103",
         "NCT00448201",
         "Suggested starting dose is 0.03 mg/kg po bid starting on Day -1"
        ],
        [
         "107",
         "NCT00455039",
         "Dose: 1500 mg daily"
        ]
       ],
       "shape": {
        "columns": 2,
        "rows": 324350
       }
      },
      "text/html": [
       "<div>\n",
       "<style scoped>\n",
       "    .dataframe tbody tr th:only-of-type {\n",
       "        vertical-align: middle;\n",
       "    }\n",
       "\n",
       "    .dataframe tbody tr th {\n",
       "        vertical-align: top;\n",
       "    }\n",
       "\n",
       "    .dataframe thead th {\n",
       "        text-align: right;\n",
       "    }\n",
       "</style>\n",
       "<table border=\"1\" class=\"dataframe\">\n",
       "  <thead>\n",
       "    <tr style=\"text-align: right;\">\n",
       "      <th></th>\n",
       "      <th>nct_id</th>\n",
       "      <th>interventions_description</th>\n",
       "    </tr>\n",
       "  </thead>\n",
       "  <tbody>\n",
       "    <tr>\n",
       "      <th>0</th>\n",
       "      <td>NCT00125528</td>\n",
       "      <td>D-cycloserine 50 mg bid; D-cycloserine 100 mg ...</td>\n",
       "    </tr>\n",
       "    <tr>\n",
       "      <th>1</th>\n",
       "      <td>NCT00125528</td>\n",
       "      <td>placebo bid</td>\n",
       "    </tr>\n",
       "    <tr>\n",
       "      <th>4</th>\n",
       "      <td>NCT00170209</td>\n",
       "      <td>The dosage of the medication is determined acc...</td>\n",
       "    </tr>\n",
       "    <tr>\n",
       "      <th>6</th>\n",
       "      <td>NCT00170209</td>\n",
       "      <td>The dosage of the medication is determined acc...</td>\n",
       "    </tr>\n",
       "    <tr>\n",
       "      <th>8</th>\n",
       "      <td>NCT00183482</td>\n",
       "      <td>Families are mailed written materials that des...</td>\n",
       "    </tr>\n",
       "    <tr>\n",
       "      <th>...</th>\n",
       "      <td>...</td>\n",
       "      <td>...</td>\n",
       "    </tr>\n",
       "    <tr>\n",
       "      <th>758212</th>\n",
       "      <td>NCT06875661</td>\n",
       "      <td>Patients in the experimental group exercised f...</td>\n",
       "    </tr>\n",
       "    <tr>\n",
       "      <th>758214</th>\n",
       "      <td>NCT06875674</td>\n",
       "      <td>control strawberry supplementation (100 grams/...</td>\n",
       "    </tr>\n",
       "    <tr>\n",
       "      <th>758216</th>\n",
       "      <td>NCT06875674</td>\n",
       "      <td>selenium biofortified strawberry supplementati...</td>\n",
       "    </tr>\n",
       "    <tr>\n",
       "      <th>758218</th>\n",
       "      <td>NCT06875674</td>\n",
       "      <td>selenium supplementation in tablet (100 microg...</td>\n",
       "    </tr>\n",
       "    <tr>\n",
       "      <th>758223</th>\n",
       "      <td>NCT06875687</td>\n",
       "      <td>This intervention consists of a prostaglandin ...</td>\n",
       "    </tr>\n",
       "  </tbody>\n",
       "</table>\n",
       "<p>324350 rows × 2 columns</p>\n",
       "</div>"
      ],
      "text/plain": [
       "             nct_id                          interventions_description\n",
       "0       NCT00125528  D-cycloserine 50 mg bid; D-cycloserine 100 mg ...\n",
       "1       NCT00125528                                        placebo bid\n",
       "4       NCT00170209  The dosage of the medication is determined acc...\n",
       "6       NCT00170209  The dosage of the medication is determined acc...\n",
       "8       NCT00183482  Families are mailed written materials that des...\n",
       "...             ...                                                ...\n",
       "758212  NCT06875661  Patients in the experimental group exercised f...\n",
       "758214  NCT06875674  control strawberry supplementation (100 grams/...\n",
       "758216  NCT06875674  selenium biofortified strawberry supplementati...\n",
       "758218  NCT06875674  selenium supplementation in tablet (100 microg...\n",
       "758223  NCT06875687  This intervention consists of a prostaglandin ...\n",
       "\n",
       "[324350 rows x 2 columns]"
      ]
     },
     "metadata": {},
     "output_type": "display_data"
    },
    {
     "data": {
      "application/vnd.microsoft.datawrangler.viewer.v0+json": {
       "columns": [
        {
         "name": "index",
         "rawType": "int64",
         "type": "integer"
        },
        {
         "name": "nct_id",
         "rawType": "object",
         "type": "string"
        },
        {
         "name": "intervention_type",
         "rawType": "object",
         "type": "string"
        },
        {
         "name": "description",
         "rawType": "object",
         "type": "unknown"
        }
       ],
       "ref": "1cd80816-f427-49a8-baf2-efc547bfbdd8",
       "rows": [
        [
         "0",
         "NCT00125528",
         "DRUG",
         "D-cycloserine 50 mg bid; D-cycloserine 100 mg bid; D-cycloserine 200 mg bid"
        ],
        [
         "1",
         "NCT00125528",
         "DRUG",
         "placebo bid"
        ],
        [
         "2",
         "NCT00170209",
         "DRUG",
         "The dosage of the medication is determined according to the weight of the child. The dose is once per day, 10-15 mg/kg/day (max=300mg/day). Total duration of treatment is 9 months. Both a detailed dose chart calculating doses by weight and age and protocols for preparation of medications (crushing pills, mixing suspensions) are available."
        ],
        [
         "3",
         "NCT00170209",
         "DRUG",
         "The dosage of the medication is determined according to the weight of the child. The dose is once per day, 10-20 mg/kg/day (max=600mg/day). Total duration of treatment is 4 months. Both a detailed dose chart calculating doses by weight and age and protocols for preparation of medications (crushing pills, mixing suspensions) are available."
        ],
        [
         "4",
         "NCT00183482",
         "BEHAVIORAL",
         "Families are mailed written materials that describe depression and stress in families with a depressed parent."
        ],
        [
         "5",
         "NCT00183482",
         "BEHAVIORAL",
         "Groups of families receive training in parenting and children learn about coping in ten weekly sessions and then three monthly sessions"
        ],
        [
         "6",
         "NCT00194714",
         "OTHER",
         "Correlative studies"
        ],
        [
         "7",
         "NCT00194714",
         "BIOLOGICAL",
         "Given ID"
        ],
        [
         "8",
         "NCT00258791",
         "DRUG",
         null
        ],
        [
         "9",
         "NCT00263432",
         "PROCEDURE",
         "Implantation of fresh human allogenic chondrocytes in human knee cartilage injuries"
        ],
        [
         "10",
         "NCT00293735",
         "DRUG",
         "20mg IV (can be increased to an escalating dose of maximum of 80 mg (20mg, 40 mg, 80 mg q 20min) Cumulative max of 240 mg.\n\n20mg labetalol PO every 6 hours"
        ],
        [
         "11",
         "NCT00293735",
         "DRUG",
         "4-6g bolus over 20 minutes; 1-2 grams/hr Discontinued 24 hours after delivery."
        ],
        [
         "12",
         "NCT00306059",
         "PROCEDURE",
         "Directed therapy during 6 hours after occurence of the early phase of acute kidney injury."
        ],
        [
         "13",
         "NCT00307905",
         "DRUG",
         "homeopathic remedy"
        ],
        [
         "14",
         "NCT00307905",
         "DRUG",
         "identical size, shape and taste of treatment medication"
        ],
        [
         "15",
         "NCT00323141",
         "DEVICE",
         "Ventralex and Leight Weight Vypro II prothesis are compared."
        ],
        [
         "16",
         "NCT00328809",
         "DRUG",
         "spironolactone administered to ESRD patients at low dose"
        ],
        [
         "17",
         "NCT00329641",
         "DRUG",
         "Given IV"
        ],
        [
         "18",
         "NCT00329641",
         "DRUG",
         "Given orally"
        ],
        [
         "19",
         "NCT00356317",
         "BEHAVIORAL",
         "This family therapy consists of 15 video-taped, therapy sessions, each lasting approximately 75 minutes. The 15-session treatment will be broken down into five segments (each lasting approximately three sessions) with the following goals: 1) Fortify a strong sense of family unity; 2) educate about schizophrenia; 3) foster adaptive use of cultural, spiritual and/or existential beliefs in conceptualizing and coming to terms with schizophrenia; 4) teach effective communication training techniques; and 5) and teach useful problem solving strategies."
        ],
        [
         "20",
         "NCT00356317",
         "BEHAVIORAL",
         "This family therapy consists of three weekly sessions focusing on education about schizophrenia."
        ],
        [
         "21",
         "NCT00362219",
         "DRUG",
         "gel with 0.25 mg morphine per 100cm2 square of wound."
        ],
        [
         "22",
         "NCT00362219",
         "DRUG",
         "Gel with 0.75 mg morphine per 100cm2 square of wound."
        ],
        [
         "23",
         "NCT00362219",
         "DRUG",
         "Gel with 1.25 mg morphine per 100cm2 square of wound."
        ],
        [
         "24",
         "NCT00362219",
         "OTHER",
         "Gel with no active ingredient."
        ],
        [
         "25",
         "NCT00364000",
         "DRUG",
         "Calcium acetate in 240 chronic HD patients"
        ],
        [
         "26",
         "NCT00364000",
         "DRUG",
         "label sevelamer (RenagelR) 800 mg tablets"
        ],
        [
         "27",
         "NCT00372762",
         "DRUG",
         "0.5mg to 2mg orally once or twice daily"
        ],
        [
         "28",
         "NCT00372762",
         "DRUG",
         "20mg to 80mg orally once or twice daily"
        ],
        [
         "29",
         "NCT00372762",
         "DRUG",
         "Current dose of furosemide will be maintained and equivalent dose bumetanide will be used following crossover"
        ],
        [
         "30",
         "NCT00372762",
         "DRUG",
         "Equivalent dose to pre-existing furosemide will be used"
        ],
        [
         "31",
         "NCT00397501",
         "DRUG",
         "200mg/m2/day x 2 days; total dose 400mg/m2 Infused i.a. over 10 mins in 200ml of normal saline after MTX infusion"
        ],
        [
         "32",
         "NCT00397501",
         "DRUG",
         "2500 mg/day x 2 days; total dose 5000mg Infused over 10mins in 200ml saline beginning immediately after mannitol infusion"
        ],
        [
         "33",
         "NCT00397501",
         "DRUG",
         "STS dose admin i.v. over 15mins @ 4hrs post carboplatin = 20gm/m2; STS dose admin i.v. over 15mins @ 8hrs post carboplatin = 16gm/m2"
        ],
        [
         "34",
         "NCT00397501",
         "BIOLOGICAL",
         "Trastuzamab, 6mg/kg, within 48 hrs before BBBD\n\nThen, Trastuzumab, 2mg/kg, weekly until next BBBD Then continue for 12 cycles"
        ],
        [
         "35",
         "NCT00397579",
         "DRUG",
         "Intravenously via a 3 cc plastic syringe as a 15 minute bolus infusion daily for five days."
        ],
        [
         "36",
         "NCT00399594",
         "PROCEDURE",
         "LV lead placement in region of latest mechanical velocity (tissue doppler)"
        ],
        [
         "37",
         "NCT00399594",
         "PROCEDURE",
         "LV lead placement in standard (lateral / posterolateral) position."
        ],
        [
         "38",
         "NCT00412048",
         "PROCEDURE",
         "There is a fMRI to be realized in the 3 arms. No drug is administered"
        ],
        [
         "39",
         "NCT00422422",
         "DRUG",
         "Oral solution\n\nEvaluation period (3 weeks up-titration):\n\nFor subjects ≥8 years:\n\n* \\~0.4 mg/kg bid for Week 1\n* \\~0.8 mg/kg bid for Week 2\n* \\~1.6 mg/kg bid for Week 3\n\nFor subjects \\<8 years:\n\n* \\~0.5 mg/kg bid for Week 1\n* \\~1.0 mg/kg bid for Week 2\n* \\~2.0 mg/kg bid for Week 3\n\nDown-titration period (up to 2 weeks):\n\nFor subjects ≥8 years:\n\n* \\~0.8 mg/kg bid for Week 4\n* \\~0.4 mg/kg bid for Week 5\n\nFor subjects \\<8 years:\n\n* \\~1.0 mg/kg bid for Week 4\n* \\~0.5 mg/kg bid for Week 5"
        ],
        [
         "40",
         "NCT00442494",
         "DRUG",
         null
        ],
        [
         "41",
         "NCT00448201",
         "BIOLOGICAL",
         "0.5 mg/kg on day -3, 2.5 mg/kg on day -2 (groups 2, 3 and 4) and 3 mg/kg on day -1 (group 4 only)"
        ],
        [
         "42",
         "NCT00448201",
         "DRUG",
         "6.4 mg/kg by continuous IV infusion over 48 hours on Days -6 and -5"
        ],
        [
         "43",
         "NCT00448201",
         "BIOLOGICAL",
         "A minimum total cluster of differentiation 34 (CD34)+ cell dose of 3 x 10\\^6 cells/kg and a maximum 8 x 10\\^6 cells/kg will be infused on day 0"
        ],
        [
         "44",
         "NCT00448201",
         "DRUG",
         "fludarabine 30 mg/m\\^2/day x 5 days IV piggyback (IVPB) over 30 minutes on Days -7 through -3"
        ],
        [
         "45",
         "NCT00448201",
         "BIOLOGICAL",
         "GM-CSF 500 ug everyday (QD) subcutaneously will be given to recipients who remain with an Absolute neutrophil count (ANC) \\< 1000/microliter (uL) past day 20"
        ],
        [
         "46",
         "NCT00448201",
         "DRUG",
         "Methotrexate 5 mg/m\\^2 per day on days +1, +3 and +6"
        ],
        [
         "47",
         "NCT00448201",
         "PROCEDURE",
         "Minimum total CD34+ cells of 3 x 10\\^6 cells/kg and a maximum of 8 x 10\\^6 cells/kg will be infused on Day 0"
        ],
        [
         "48",
         "NCT00448201",
         "DRUG",
         "Suggested starting dose is 0.03 mg/kg po bid starting on Day -1"
        ],
        [
         "49",
         "NCT00455039",
         "DRUG",
         "Dose: 1500 mg daily"
        ]
       ],
       "shape": {
        "columns": 3,
        "rows": 327440
       }
      },
      "text/html": [
       "<div>\n",
       "<style scoped>\n",
       "    .dataframe tbody tr th:only-of-type {\n",
       "        vertical-align: middle;\n",
       "    }\n",
       "\n",
       "    .dataframe tbody tr th {\n",
       "        vertical-align: top;\n",
       "    }\n",
       "\n",
       "    .dataframe thead th {\n",
       "        text-align: right;\n",
       "    }\n",
       "</style>\n",
       "<table border=\"1\" class=\"dataframe\">\n",
       "  <thead>\n",
       "    <tr style=\"text-align: right;\">\n",
       "      <th></th>\n",
       "      <th>nct_id</th>\n",
       "      <th>intervention_type</th>\n",
       "      <th>description</th>\n",
       "    </tr>\n",
       "  </thead>\n",
       "  <tbody>\n",
       "    <tr>\n",
       "      <th>0</th>\n",
       "      <td>NCT00125528</td>\n",
       "      <td>DRUG</td>\n",
       "      <td>D-cycloserine 50 mg bid; D-cycloserine 100 mg ...</td>\n",
       "    </tr>\n",
       "    <tr>\n",
       "      <th>1</th>\n",
       "      <td>NCT00125528</td>\n",
       "      <td>DRUG</td>\n",
       "      <td>placebo bid</td>\n",
       "    </tr>\n",
       "    <tr>\n",
       "      <th>2</th>\n",
       "      <td>NCT00170209</td>\n",
       "      <td>DRUG</td>\n",
       "      <td>The dosage of the medication is determined acc...</td>\n",
       "    </tr>\n",
       "    <tr>\n",
       "      <th>3</th>\n",
       "      <td>NCT00170209</td>\n",
       "      <td>DRUG</td>\n",
       "      <td>The dosage of the medication is determined acc...</td>\n",
       "    </tr>\n",
       "    <tr>\n",
       "      <th>4</th>\n",
       "      <td>NCT00183482</td>\n",
       "      <td>BEHAVIORAL</td>\n",
       "      <td>Families are mailed written materials that des...</td>\n",
       "    </tr>\n",
       "    <tr>\n",
       "      <th>...</th>\n",
       "      <td>...</td>\n",
       "      <td>...</td>\n",
       "      <td>...</td>\n",
       "    </tr>\n",
       "    <tr>\n",
       "      <th>327435</th>\n",
       "      <td>NCT06875661</td>\n",
       "      <td>OTHER</td>\n",
       "      <td>Patients in the experimental group exercised f...</td>\n",
       "    </tr>\n",
       "    <tr>\n",
       "      <th>327436</th>\n",
       "      <td>NCT06875674</td>\n",
       "      <td>DIETARY_SUPPLEMENT</td>\n",
       "      <td>control strawberry supplementation (100 grams/...</td>\n",
       "    </tr>\n",
       "    <tr>\n",
       "      <th>327437</th>\n",
       "      <td>NCT06875674</td>\n",
       "      <td>DIETARY_SUPPLEMENT</td>\n",
       "      <td>selenium biofortified strawberry supplementati...</td>\n",
       "    </tr>\n",
       "    <tr>\n",
       "      <th>327438</th>\n",
       "      <td>NCT06875674</td>\n",
       "      <td>DIETARY_SUPPLEMENT</td>\n",
       "      <td>selenium supplementation in tablet (100 microg...</td>\n",
       "    </tr>\n",
       "    <tr>\n",
       "      <th>327439</th>\n",
       "      <td>NCT06875687</td>\n",
       "      <td>OTHER</td>\n",
       "      <td>This intervention consists of a prostaglandin ...</td>\n",
       "    </tr>\n",
       "  </tbody>\n",
       "</table>\n",
       "<p>327440 rows × 3 columns</p>\n",
       "</div>"
      ],
      "text/plain": [
       "             nct_id   intervention_type  \\\n",
       "0       NCT00125528                DRUG   \n",
       "1       NCT00125528                DRUG   \n",
       "2       NCT00170209                DRUG   \n",
       "3       NCT00170209                DRUG   \n",
       "4       NCT00183482          BEHAVIORAL   \n",
       "...             ...                 ...   \n",
       "327435  NCT06875661               OTHER   \n",
       "327436  NCT06875674  DIETARY_SUPPLEMENT   \n",
       "327437  NCT06875674  DIETARY_SUPPLEMENT   \n",
       "327438  NCT06875674  DIETARY_SUPPLEMENT   \n",
       "327439  NCT06875687               OTHER   \n",
       "\n",
       "                                              description  \n",
       "0       D-cycloserine 50 mg bid; D-cycloserine 100 mg ...  \n",
       "1                                             placebo bid  \n",
       "2       The dosage of the medication is determined acc...  \n",
       "3       The dosage of the medication is determined acc...  \n",
       "4       Families are mailed written materials that des...  \n",
       "...                                                   ...  \n",
       "327435  Patients in the experimental group exercised f...  \n",
       "327436  control strawberry supplementation (100 grams/...  \n",
       "327437  selenium biofortified strawberry supplementati...  \n",
       "327438  selenium supplementation in tablet (100 microg...  \n",
       "327439  This intervention consists of a prostaglandin ...  \n",
       "\n",
       "[327440 rows x 3 columns]"
      ]
     },
     "metadata": {},
     "output_type": "display_data"
    }
   ],
   "source": [
    "# my_intervention_methods2\n",
    "create_table_sql =\"\"\"\n",
    "DROP TABLE IF EXISTS ctgov.my_intervention_methods2;\n",
    "\n",
    "CREATE TABLE ctgov.my_intervention_methods2 AS\n",
    "SELECT DISTINCT ON \n",
    "(\n",
    "    studies.nct_id,\n",
    "    interventions.description, \n",
    "    design_groups.description,\n",
    "    design_groups.group_type\n",
    "    \n",
    ")\n",
    "    studies.nct_id,\n",
    "    design_groups.description AS design_groups_description,\n",
    "    interventions.description AS interventions_description,\n",
    "    design_groups.group_type\n",
    "\n",
    "    FROM ctgov.studies\n",
    "\n",
    "LEFT JOIN ctgov.interventions\n",
    "    ON studies.nct_id = interventions.nct_id\n",
    "LEFT JOIN ctgov.design_groups\n",
    "    ON studies.nct_id = design_groups.nct_id\n",
    "\n",
    "WHERE TO_CHAR(studies.start_date, 'YYYY-MM') >= '2011-01'\n",
    "  AND studies.study_type = 'INTERVENTIONAL'\n",
    "  AND studies.overall_status IN ('COMPLETED', 'WITHDRAWN', 'TERMINATED')\n",
    "ORDER BY \n",
    "    studies.nct_id,\n",
    "    design_groups.group_type;\n",
    "\"\"\"\n",
    "\n",
    "\"\"\"with engine.connect() as conn:\n",
    "    conn.execute(text(create_table_sql))\n",
    "    conn.commit()\"\"\"\n",
    "\n",
    "my_intervention_methods3 = pd.read_sql(\"select * from ctgov.my_intervention_methods2;\", con = engine)\n",
    "my_intervention_methods2 = my_intervention_methods3.copy()\n",
    "my_intervention_methods2 = my_intervention_methods2.drop(columns = ['design_groups_description', 'group_type'])\n",
    "my_intervention_methods2 = my_intervention_methods2.drop_duplicates(subset = ['nct_id', 'interventions_description'])\n",
    "\n",
    "# =======================================================================================================\n",
    "# my_intervention_methods\n",
    "create_table_sql = \"\"\"\n",
    "DROP TABLE IF EXISTS ctgov.my_intervention_methods;\n",
    "\n",
    "CREATE TABLE ctgov.my_intervention_methods AS\n",
    "\n",
    "select distinct on \n",
    "(\n",
    "nct_id, \n",
    "intervention_type, \n",
    "description\n",
    ") \n",
    "studies.nct_id,\n",
    "interventions.intervention_type,\n",
    "interventions.description\n",
    "\n",
    "from ctgov.studies\n",
    "left join ctgov.interventions\n",
    "on studies.nct_id = interventions.nct_id\n",
    "\n",
    "WHERE TO_CHAR(studies.start_date, 'YYYY-MM') >= '2011-01'\n",
    "  AND studies.study_type = 'INTERVENTIONAL'\n",
    "  AND studies.overall_status IN ('COMPLETED', 'WITHDRAWN', 'TERMINATED')\n",
    "order by studies.nct_id, interventions.description, interventions.intervention_type;\n",
    "\"\"\"\n",
    "\n",
    "\"\"\"with engine.connect() as conn:\n",
    "    conn.execute(text(create_table_sql))\n",
    "    conn.commit()\"\"\"\n",
    "\n",
    "my_intervention_methods = pd.read_sql(\"select * from ctgov.my_intervention_methods;\", con = engine)\n",
    "\n",
    "display(my_intervention_methods2, my_intervention_methods)"
   ]
  },
  {
   "cell_type": "code",
   "execution_count": 12,
   "id": "1db09019",
   "metadata": {},
   "outputs": [
    {
     "data": {
      "text/plain": [
       "182236"
      ]
     },
     "metadata": {},
     "output_type": "display_data"
    },
    {
     "data": {
      "application/vnd.microsoft.datawrangler.viewer.v0+json": {
       "columns": [
        {
         "name": "index",
         "rawType": "int64",
         "type": "integer"
        },
        {
         "name": "nct_id",
         "rawType": "object",
         "type": "string"
        },
        {
         "name": "intervention_type",
         "rawType": "object",
         "type": "string"
        },
        {
         "name": "interv_desc",
         "rawType": "object",
         "type": "string"
        }
       ],
       "ref": "00573a0f-5ade-4cd1-8466-3e2a66edc1f4",
       "rows": [
        [
         "0",
         "NCT00125528",
         "DRUG",
         "D-cycloserine 50 mg bid; D-cycloserine 100 mg bid; D-cycloserine 200 mg bid | placebo bid"
        ],
        [
         "1",
         "NCT00170209",
         "DRUG",
         "The dosage of the medication is determined according to the weight of the child. The dose is once per day, 10-15 mg/kg/day (max=300mg/day). Total duration of treatment is 9 months. Both a detailed dose chart calculating doses by weight and age and protocols for preparation of medications (crushing pills, mixing suspensions) are available. | The dosage of the medication is determined according to the weight of the child. The dose is once per day, 10-20 mg/kg/day (max=600mg/day). Total duration of treatment is 4 months. Both a detailed dose chart calculating doses by weight and age and protocols for preparation of medications (crushing pills, mixing suspensions) are available."
        ],
        [
         "2",
         "NCT00183482",
         "BEHAVIORAL",
         "Families are mailed written materials that describe depression and stress in families with a depressed parent. | Groups of families receive training in parenting and children learn about coping in ten weekly sessions and then three monthly sessions"
        ],
        [
         "3",
         "NCT00194714",
         "OTHER",
         "Correlative studies | Given ID"
        ],
        [
         "4",
         "NCT00194714",
         "BIOLOGICAL",
         "Correlative studies | Given ID"
        ],
        [
         "5",
         "NCT00258791",
         "DRUG",
         ""
        ],
        [
         "6",
         "NCT00263432",
         "PROCEDURE",
         "Implantation of fresh human allogenic chondrocytes in human knee cartilage injuries"
        ],
        [
         "7",
         "NCT00293735",
         "DRUG",
         "20mg IV (can be increased to an escalating dose of maximum of 80 mg (20mg, 40 mg, 80 mg q 20min) Cumulative max of 240 mg.\n\n20mg labetalol PO every 6 hours | 4-6g bolus over 20 minutes; 1-2 grams/hr Discontinued 24 hours after delivery."
        ],
        [
         "8",
         "NCT00306059",
         "PROCEDURE",
         "Directed therapy during 6 hours after occurence of the early phase of acute kidney injury."
        ],
        [
         "9",
         "NCT00307905",
         "DRUG",
         "homeopathic remedy | identical size, shape and taste of treatment medication"
        ],
        [
         "10",
         "NCT00323141",
         "DEVICE",
         "Ventralex and Leight Weight Vypro II prothesis are compared."
        ],
        [
         "11",
         "NCT00328809",
         "DRUG",
         "spironolactone administered to ESRD patients at low dose"
        ],
        [
         "12",
         "NCT00329641",
         "DRUG",
         "Given IV | Given orally"
        ],
        [
         "13",
         "NCT00356317",
         "BEHAVIORAL",
         "This family therapy consists of 15 video-taped, therapy sessions, each lasting approximately 75 minutes. The 15-session treatment will be broken down into five segments (each lasting approximately three sessions) with the following goals: 1) Fortify a strong sense of family unity; 2) educate about schizophrenia; 3) foster adaptive use of cultural, spiritual and/or existential beliefs in conceptualizing and coming to terms with schizophrenia; 4) teach effective communication training techniques; and 5) and teach useful problem solving strategies. | This family therapy consists of three weekly sessions focusing on education about schizophrenia."
        ],
        [
         "14",
         "NCT00362219",
         "DRUG",
         "Gel with 0.75 mg morphine per 100cm2 square of wound. | Gel with 1.25 mg morphine per 100cm2 square of wound. | Gel with no active ingredient. | gel with 0.25 mg morphine per 100cm2 square of wound."
        ],
        [
         "15",
         "NCT00362219",
         "OTHER",
         "Gel with 0.75 mg morphine per 100cm2 square of wound. | Gel with 1.25 mg morphine per 100cm2 square of wound. | Gel with no active ingredient. | gel with 0.25 mg morphine per 100cm2 square of wound."
        ],
        [
         "16",
         "NCT00364000",
         "DRUG",
         "Calcium acetate in 240 chronic HD patients | label sevelamer (RenagelR) 800 mg tablets"
        ],
        [
         "17",
         "NCT00372762",
         "DRUG",
         "0.5mg to 2mg orally once or twice daily | 20mg to 80mg orally once or twice daily | Current dose of furosemide will be maintained and equivalent dose bumetanide will be used following crossover | Equivalent dose to pre-existing furosemide will be used"
        ],
        [
         "18",
         "NCT00397501",
         "DRUG",
         "200mg/m2/day x 2 days; total dose 400mg/m2 Infused i.a. over 10 mins in 200ml of normal saline after MTX infusion | 2500 mg/day x 2 days; total dose 5000mg Infused over 10mins in 200ml saline beginning immediately after mannitol infusion | STS dose admin i.v. over 15mins @ 4hrs post carboplatin = 20gm/m2; STS dose admin i.v. over 15mins @ 8hrs post carboplatin = 16gm/m2 | Trastuzamab, 6mg/kg, within 48 hrs before BBBD\n\nThen, Trastuzumab, 2mg/kg, weekly until next BBBD Then continue for 12 cycles"
        ],
        [
         "19",
         "NCT00397501",
         "BIOLOGICAL",
         "200mg/m2/day x 2 days; total dose 400mg/m2 Infused i.a. over 10 mins in 200ml of normal saline after MTX infusion | 2500 mg/day x 2 days; total dose 5000mg Infused over 10mins in 200ml saline beginning immediately after mannitol infusion | STS dose admin i.v. over 15mins @ 4hrs post carboplatin = 20gm/m2; STS dose admin i.v. over 15mins @ 8hrs post carboplatin = 16gm/m2 | Trastuzamab, 6mg/kg, within 48 hrs before BBBD\n\nThen, Trastuzumab, 2mg/kg, weekly until next BBBD Then continue for 12 cycles"
        ],
        [
         "20",
         "NCT00397579",
         "DRUG",
         "Intravenously via a 3 cc plastic syringe as a 15 minute bolus infusion daily for five days."
        ],
        [
         "21",
         "NCT00399594",
         "PROCEDURE",
         "LV lead placement in region of latest mechanical velocity (tissue doppler) | LV lead placement in standard (lateral / posterolateral) position."
        ],
        [
         "22",
         "NCT00412048",
         "PROCEDURE",
         "There is a fMRI to be realized in the 3 arms. No drug is administered"
        ],
        [
         "23",
         "NCT00422422",
         "DRUG",
         "Oral solution\n\nEvaluation period (3 weeks up-titration):\n\nFor subjects ≥8 years:\n\n* \\~0.4 mg/kg bid for Week 1\n* \\~0.8 mg/kg bid for Week 2\n* \\~1.6 mg/kg bid for Week 3\n\nFor subjects \\<8 years:\n\n* \\~0.5 mg/kg bid for Week 1\n* \\~1.0 mg/kg bid for Week 2\n* \\~2.0 mg/kg bid for Week 3\n\nDown-titration period (up to 2 weeks):\n\nFor subjects ≥8 years:\n\n* \\~0.8 mg/kg bid for Week 4\n* \\~0.4 mg/kg bid for Week 5\n\nFor subjects \\<8 years:\n\n* \\~1.0 mg/kg bid for Week 4\n* \\~0.5 mg/kg bid for Week 5"
        ],
        [
         "24",
         "NCT00442494",
         "DRUG",
         ""
        ],
        [
         "25",
         "NCT00448201",
         "BIOLOGICAL",
         "0.5 mg/kg on day -3, 2.5 mg/kg on day -2 (groups 2, 3 and 4) and 3 mg/kg on day -1 (group 4 only) | 6.4 mg/kg by continuous IV infusion over 48 hours on Days -6 and -5 | A minimum total cluster of differentiation 34 (CD34)+ cell dose of 3 x 10\\^6 cells/kg and a maximum 8 x 10\\^6 cells/kg will be infused on day 0 | GM-CSF 500 ug everyday (QD) subcutaneously will be given to recipients who remain with an Absolute neutrophil count (ANC) \\< 1000/microliter (uL) past day 20 | Methotrexate 5 mg/m\\^2 per day on days +1, +3 and +6 | Minimum total CD34+ cells of 3 x 10\\^6 cells/kg and a maximum of 8 x 10\\^6 cells/kg will be infused on Day 0 | Suggested starting dose is 0.03 mg/kg po bid starting on Day -1 | fludarabine 30 mg/m\\^2/day x 5 days IV piggyback (IVPB) over 30 minutes on Days -7 through -3"
        ],
        [
         "26",
         "NCT00448201",
         "DRUG",
         "0.5 mg/kg on day -3, 2.5 mg/kg on day -2 (groups 2, 3 and 4) and 3 mg/kg on day -1 (group 4 only) | 6.4 mg/kg by continuous IV infusion over 48 hours on Days -6 and -5 | A minimum total cluster of differentiation 34 (CD34)+ cell dose of 3 x 10\\^6 cells/kg and a maximum 8 x 10\\^6 cells/kg will be infused on day 0 | GM-CSF 500 ug everyday (QD) subcutaneously will be given to recipients who remain with an Absolute neutrophil count (ANC) \\< 1000/microliter (uL) past day 20 | Methotrexate 5 mg/m\\^2 per day on days +1, +3 and +6 | Minimum total CD34+ cells of 3 x 10\\^6 cells/kg and a maximum of 8 x 10\\^6 cells/kg will be infused on Day 0 | Suggested starting dose is 0.03 mg/kg po bid starting on Day -1 | fludarabine 30 mg/m\\^2/day x 5 days IV piggyback (IVPB) over 30 minutes on Days -7 through -3"
        ],
        [
         "27",
         "NCT00448201",
         "PROCEDURE",
         "0.5 mg/kg on day -3, 2.5 mg/kg on day -2 (groups 2, 3 and 4) and 3 mg/kg on day -1 (group 4 only) | 6.4 mg/kg by continuous IV infusion over 48 hours on Days -6 and -5 | A minimum total cluster of differentiation 34 (CD34)+ cell dose of 3 x 10\\^6 cells/kg and a maximum 8 x 10\\^6 cells/kg will be infused on day 0 | GM-CSF 500 ug everyday (QD) subcutaneously will be given to recipients who remain with an Absolute neutrophil count (ANC) \\< 1000/microliter (uL) past day 20 | Methotrexate 5 mg/m\\^2 per day on days +1, +3 and +6 | Minimum total CD34+ cells of 3 x 10\\^6 cells/kg and a maximum of 8 x 10\\^6 cells/kg will be infused on Day 0 | Suggested starting dose is 0.03 mg/kg po bid starting on Day -1 | fludarabine 30 mg/m\\^2/day x 5 days IV piggyback (IVPB) over 30 minutes on Days -7 through -3"
        ],
        [
         "28",
         "NCT00455039",
         "DRUG",
         "Dose: 1500 mg daily"
        ],
        [
         "29",
         "NCT00455052",
         "DRUG",
         "XMT-1001 is administered as an IV infusion once every 21 days. This expansion of the Phase 1 study is to confirm the MTD."
        ],
        [
         "30",
         "NCT00459641",
         "OTHER",
         "Bone marrow aspirate or steroids | doses of up to 1 mg, 2 mg or 4 mg of TGplPTH1-34"
        ],
        [
         "31",
         "NCT00459641",
         "DRUG",
         "Bone marrow aspirate or steroids | doses of up to 1 mg, 2 mg or 4 mg of TGplPTH1-34"
        ],
        [
         "32",
         "NCT00476255",
         "BEHAVIORAL",
         "Motivational interview with trained therapist | Reading material"
        ],
        [
         "33",
         "NCT00488605",
         "DRUG",
         "Initial Therapy:Prednisone- by mouth 3 times/day daily as a 4-week course, then gradually decreased over 2 more weeks. Vinblastine-IV (into a vein)1 day/week for 6 weeks. Patients w/o evidence of active disease at this time will proceed to continuation therapy. If disease is improved or unchanged, pts. will receive additional therapy with: Prednisone- 3 divided doses by mouth for 3 days every week, from week 7-12. Vinblastine- IV 1day/week for 6 more weeks. If the disease is gone or better after this additional therapy continuation will begin. Continuation Therapy: 6-MP:by mouth daily until the end of month 12. Prednisone in 3 doses daily day 1-5 every 3 weeks until the end of month 12. Vinblastine IV day 1 every 3 weeks until the end of month 12. | Initial Therapy:Prednisone-by mouth 3x/day daily as a 4-week course then gradually decreased over 2 more weeks. Vinblastine- IV 1 day/week for 6 weeks. Methotrexate-a 24 hour IV infusion day 1 of weeks 1, 3, and 5, followed by leucovorin.The drug will be given by mouth. Pts w/o evidence of active disease at this time will proceed to continuation therapy. Pts whose disease is improved or unchanged will receive additional therapy w/:Prednisone- 3 divided doses, days 1-3 weekly from week 7-12. Vinblastine IV 1day/week for 6 more weeks. Methotrexate-a 24 hour IV infusion day 1 of week 7, 9, and 11, followed by leucovorin. If the disease is gone or better after this additional therapy continuation will begin. Continuation Therapy: 6-MP by mouth daily until the end of month 12. Prednisone- 3 doses daily days 1-5 every 3 weeks until the end of month 12. Vinblastine IV day 1 every 3 weeks until the end of month 12. Methotrexate by mouth once weekly until the end of month 12."
        ],
        [
         "34",
         "NCT00493701",
         "BEHAVIORAL",
         "Daily eating | Life style eating habits"
        ],
        [
         "35",
         "NCT00504322",
         "GENETIC",
         "The placebo will be the salt water-sugar solution used as a vehicle for the vector. | Using Weill-IRB protocol #0011004683 dose escalation study to determine the highest non-toxic dose of the AdcuCD40L vector, this dose (likely 10\\^11 particle units) will be used for all individuals enrolled in this efficacy study. Since there is no evidence that delay of surgery for solid tumors for 15 days following diagnosis alters the prognosis, surgery for removal of the primary tumor will be carried out at either 5 or 15 days after administration of the vector (n= 12/group, including n=6 receiving the AdcuCD40L vector, and n=6 receiving placebo). This will permit assessment of the resulting data (in a randomized, blinded fashion) and the biologic responses to the AdCUCD40L vector over time."
        ],
        [
         "36",
         "NCT00520624",
         "DEVICE",
         ""
        ],
        [
         "37",
         "NCT00520624",
         "PROCEDURE",
         ""
        ],
        [
         "38",
         "NCT00532584",
         "DRUG",
         "The treatment with inhaled beclomethasone will be administered to Group A from Day 1 to Day 7 via a metered dose inhaler (QVAR 80 HFA) delivering 80 micrograms of beclomethasone per puff. QVAR will be purchased by the Department of Genetic Medicine. The dose will be 2 puffs twice a day for 7 days"
        ],
        [
         "39",
         "NCT00534235",
         "PROCEDURE",
         "Either microsurgical decompression or laminotomy to remove bone impinging on nerves causes the patient pain"
        ],
        [
         "40",
         "NCT00534235",
         "DEVICE",
         "Either microsurgical decompression or laminotomy to remove bone impinging on nerves causes the patient pain"
        ],
        [
         "41",
         "NCT00534404",
         "BEHAVIORAL",
         "Participants receiving telephone counseling will receive five phone calls over a 2-month period to discuss their personal smoking cessation plan. | Participants will access the Project Quit (iQuit Smoking) website. | Participants will wear nicotine patches."
        ],
        [
         "42",
         "NCT00534404",
         "DRUG",
         "Participants receiving telephone counseling will receive five phone calls over a 2-month period to discuss their personal smoking cessation plan. | Participants will access the Project Quit (iQuit Smoking) website. | Participants will wear nicotine patches."
        ],
        [
         "43",
         "NCT00534703",
         "GENETIC",
         "AAV1/SERCA2a will be delivered by a percutaneous method in the catheter laboratory. Dose: 1x 10\\^13 DRP (DNase resistant particles) | Placebo aliquots will be of the same composition as the investigational medicinal product with the absence of the active ingredient and will be visually indistinguishable from the medicinal product. Placebo is prepared and handled exactly as above in a blinded fashion."
        ],
        [
         "44",
         "NCT00534703",
         "DRUG",
         "AAV1/SERCA2a will be delivered by a percutaneous method in the catheter laboratory. Dose: 1x 10\\^13 DRP (DNase resistant particles) | Placebo aliquots will be of the same composition as the investigational medicinal product with the absence of the active ingredient and will be visually indistinguishable from the medicinal product. Placebo is prepared and handled exactly as above in a blinded fashion."
        ],
        [
         "45",
         "NCT00554996",
         "DEVICE",
         "E. coli 83972 coated urinary catheter"
        ],
        [
         "46",
         "NCT00570050",
         "DRUG",
         "Diluent (4 Weeks ) / Intranasal insulin (4 weeks) | Intranasal Insulin (4 Weeks ) / Diluent (4 Weeks)"
        ],
        [
         "47",
         "NCT00571246",
         "DRUG",
         "Participants are randomized to take Lamotrigine (250 mg/day) 2 times a day | Participants are randomized to take Topiramate (250mg/day) 2 times a day | Participants are randomized to take placebo"
        ],
        [
         "48",
         "NCT00571246",
         "OTHER",
         "Participants are randomized to take Lamotrigine (250 mg/day) 2 times a day | Participants are randomized to take Topiramate (250mg/day) 2 times a day | Participants are randomized to take placebo"
        ],
        [
         "49",
         "NCT00572533",
         "OTHER",
         "Amount of ESA dose adjustment in Units per week guided by standard Anemia Management Protocol in use at the facility | Amount of ESA dose adjustment in Units per week individualized to subject's dose-response profile guided by \"Smart Anemia Manager\" algorithm"
        ]
       ],
       "shape": {
        "columns": 3,
        "rows": 209161
       }
      },
      "text/html": [
       "<div>\n",
       "<style scoped>\n",
       "    .dataframe tbody tr th:only-of-type {\n",
       "        vertical-align: middle;\n",
       "    }\n",
       "\n",
       "    .dataframe tbody tr th {\n",
       "        vertical-align: top;\n",
       "    }\n",
       "\n",
       "    .dataframe thead th {\n",
       "        text-align: right;\n",
       "    }\n",
       "</style>\n",
       "<table border=\"1\" class=\"dataframe\">\n",
       "  <thead>\n",
       "    <tr style=\"text-align: right;\">\n",
       "      <th></th>\n",
       "      <th>nct_id</th>\n",
       "      <th>intervention_type</th>\n",
       "      <th>interv_desc</th>\n",
       "    </tr>\n",
       "  </thead>\n",
       "  <tbody>\n",
       "    <tr>\n",
       "      <th>0</th>\n",
       "      <td>NCT00125528</td>\n",
       "      <td>DRUG</td>\n",
       "      <td>D-cycloserine 50 mg bid; D-cycloserine 100 mg ...</td>\n",
       "    </tr>\n",
       "    <tr>\n",
       "      <th>1</th>\n",
       "      <td>NCT00170209</td>\n",
       "      <td>DRUG</td>\n",
       "      <td>The dosage of the medication is determined acc...</td>\n",
       "    </tr>\n",
       "    <tr>\n",
       "      <th>2</th>\n",
       "      <td>NCT00183482</td>\n",
       "      <td>BEHAVIORAL</td>\n",
       "      <td>Families are mailed written materials that des...</td>\n",
       "    </tr>\n",
       "    <tr>\n",
       "      <th>3</th>\n",
       "      <td>NCT00194714</td>\n",
       "      <td>OTHER</td>\n",
       "      <td>Correlative studies | Given ID</td>\n",
       "    </tr>\n",
       "    <tr>\n",
       "      <th>4</th>\n",
       "      <td>NCT00194714</td>\n",
       "      <td>BIOLOGICAL</td>\n",
       "      <td>Correlative studies | Given ID</td>\n",
       "    </tr>\n",
       "    <tr>\n",
       "      <th>...</th>\n",
       "      <td>...</td>\n",
       "      <td>...</td>\n",
       "      <td>...</td>\n",
       "    </tr>\n",
       "    <tr>\n",
       "      <th>209156</th>\n",
       "      <td>NCT06875349</td>\n",
       "      <td>OTHER</td>\n",
       "      <td>Abdominal massage is a therapeutic technique t...</td>\n",
       "    </tr>\n",
       "    <tr>\n",
       "      <th>209157</th>\n",
       "      <td>NCT06875557</td>\n",
       "      <td>BEHAVIORAL</td>\n",
       "      <td>Digital Mental Health Intervention (DMHI) was ...</td>\n",
       "    </tr>\n",
       "    <tr>\n",
       "      <th>209158</th>\n",
       "      <td>NCT06875661</td>\n",
       "      <td>OTHER</td>\n",
       "      <td>Patients in the experimental group exercised f...</td>\n",
       "    </tr>\n",
       "    <tr>\n",
       "      <th>209159</th>\n",
       "      <td>NCT06875674</td>\n",
       "      <td>DIETARY_SUPPLEMENT</td>\n",
       "      <td>control strawberry supplementation (100 grams/...</td>\n",
       "    </tr>\n",
       "    <tr>\n",
       "      <th>209160</th>\n",
       "      <td>NCT06875687</td>\n",
       "      <td>OTHER</td>\n",
       "      <td>This intervention consists of a prostaglandin ...</td>\n",
       "    </tr>\n",
       "  </tbody>\n",
       "</table>\n",
       "<p>209161 rows × 3 columns</p>\n",
       "</div>"
      ],
      "text/plain": [
       "             nct_id   intervention_type  \\\n",
       "0       NCT00125528                DRUG   \n",
       "1       NCT00170209                DRUG   \n",
       "2       NCT00183482          BEHAVIORAL   \n",
       "3       NCT00194714               OTHER   \n",
       "4       NCT00194714          BIOLOGICAL   \n",
       "...             ...                 ...   \n",
       "209156  NCT06875349               OTHER   \n",
       "209157  NCT06875557          BEHAVIORAL   \n",
       "209158  NCT06875661               OTHER   \n",
       "209159  NCT06875674  DIETARY_SUPPLEMENT   \n",
       "209160  NCT06875687               OTHER   \n",
       "\n",
       "                                              interv_desc  \n",
       "0       D-cycloserine 50 mg bid; D-cycloserine 100 mg ...  \n",
       "1       The dosage of the medication is determined acc...  \n",
       "2       Families are mailed written materials that des...  \n",
       "3                          Correlative studies | Given ID  \n",
       "4                          Correlative studies | Given ID  \n",
       "...                                                   ...  \n",
       "209156  Abdominal massage is a therapeutic technique t...  \n",
       "209157  Digital Mental Health Intervention (DMHI) was ...  \n",
       "209158  Patients in the experimental group exercised f...  \n",
       "209159  control strawberry supplementation (100 grams/...  \n",
       "209160  This intervention consists of a prostaglandin ...  \n",
       "\n",
       "[209161 rows x 3 columns]"
      ]
     },
     "execution_count": 12,
     "metadata": {},
     "output_type": "execute_result"
    }
   ],
   "source": [
    "# Merge all different descriptions per nct_id (intervention_type) \n",
    "my_intervention_methods['description'] = my_intervention_methods.groupby('nct_id')['description'].transform(\n",
    "    lambda x: ['|'.join(i for i in x if pd.notnull(i))] * len(x)) # same number of rows = 327k\n",
    "    # SOS tranform wont drop intervention_type column --> no need to groupby that also\n",
    "\n",
    "my_intervention_methods2['interventions_description'] = my_intervention_methods2.groupby('nct_id')\\\n",
    "    ['interventions_description'].transform(\n",
    "    lambda x: ['|'.join(i for i in x if pd.notnull(i))] * len(x))\n",
    "\n",
    "# Drop Duplicates\n",
    "my_intervention_methods = my_intervention_methods.drop_duplicates(subset=['nct_id', 'intervention_type', 'description'])\n",
    "my_intervention_methods2 = my_intervention_methods2.drop_duplicates(subset = ['nct_id', 'interventions_description'])\n",
    "\n",
    "# display(my_intervention_methods2, my_intervention_methods)\n",
    "\n",
    "# ==============================================================================\n",
    "# Merge both dfs\n",
    "my_intervention_methods = my_intervention_methods.merge(my_intervention_methods2[['nct_id', 'interventions_description']],\n",
    "                            on = \"nct_id\", how = \"outer\") \n",
    "\n",
    "my_intervention_methods['interv_desc'] = my_intervention_methods[['description', 'interventions_description']].apply(\n",
    "    lambda x: '|'.join(str(i) for i in x if pd.notnull(i)), axis = 1)\n",
    "\n",
    "# Drop intial columns\n",
    "my_intervention_methods = my_intervention_methods.drop(columns = ['description', 'interventions_description'], axis = 1)\n",
    "\n",
    "# ==============================================================================\n",
    "# Split to list\n",
    "my_intervention_methods['interv_desc'] = my_intervention_methods['interv_desc'].apply(lambda x: x.split('|') if x != '|' else [])\n",
    "# Unique list values\n",
    "my_intervention_methods['interv_desc'] =  my_intervention_methods['interv_desc'].apply(\n",
    "  lambda x: sorted(set(x))  if isinstance(x, list) else x)\n",
    "\n",
    "# ==============================================================================\n",
    "# Remake string to drop duplicates\n",
    "my_intervention_methods['interv_desc'] = my_intervention_methods['interv_desc'].apply(\n",
    "    lambda x: ' | '.join(x) if isinstance(x, list) else str(x))\n",
    "\n",
    "# Drop Dusplicated rows\n",
    "my_intervention_methods = my_intervention_methods.drop_duplicates(subset = ['nct_id', 'interv_desc', 'intervention_type'])\n",
    "\n",
    "display(my_intervention_methods['nct_id'].nunique()) # same nunique as started --> not nct_ids lost\n",
    "my_intervention_methods"
   ]
  },
  {
   "cell_type": "code",
   "execution_count": null,
   "id": "49263abd",
   "metadata": {},
   "outputs": [
    {
     "data": {
      "application/vnd.microsoft.datawrangler.viewer.v0+json": {
       "columns": [
        {
         "name": "index",
         "rawType": "int64",
         "type": "integer"
        },
        {
         "name": "nct_id",
         "rawType": "object",
         "type": "string"
        },
        {
         "name": "intervention_type",
         "rawType": "object",
         "type": "string"
        },
        {
         "name": "interv_desc",
         "rawType": "object",
         "type": "string"
        },
        {
         "name": "interv_method",
         "rawType": "object",
         "type": "unknown"
        }
       ],
       "ref": "30c30076-3259-41cc-b564-3cc4db84eb28",
       "rows": [
        [
         "0",
         "NCT00125528",
         "DRUG",
         "D-cycloserine 50 mg bid; D-cycloserine 100 mg bid; D-cycloserine 200 mg bid | placebo bid",
         "[]"
        ],
        [
         "1",
         "NCT00170209",
         "DRUG",
         "The dosage of the medication is determined according to the weight of the child. The dose is once per day, 10-15 mg/kg/day (max=300mg/day). Total duration of treatment is 9 months. Both a detailed dose chart calculating doses by weight and age and protocols for preparation of medications (crushing pills, mixing suspensions) are available. | The dosage of the medication is determined according to the weight of the child. The dose is once per day, 10-20 mg/kg/day (max=600mg/day). Total duration of treatment is 4 months. Both a detailed dose chart calculating doses by weight and age and protocols for preparation of medications (crushing pills, mixing suspensions) are available.",
         "['Oral']"
        ],
        [
         "2",
         "non_interv",
         "non_interv",
         "non_interv",
         "non_interv"
        ],
        [
         "3",
         "NCT00194714",
         "OTHER",
         "Correlative studies | Given ID",
         "['Injection']"
        ],
        [
         "4",
         "NCT00194714",
         "BIOLOGICAL",
         "Correlative studies | Given ID",
         "['Injection']"
        ],
        [
         "5",
         "NCT00258791",
         "DRUG",
         "",
         "[]"
        ],
        [
         "6",
         "NCT00263432",
         "PROCEDURE",
         "Implantation of fresh human allogenic chondrocytes in human knee cartilage injuries",
         "['Surgical']"
        ],
        [
         "7",
         "NCT00293735",
         "DRUG",
         "20mg IV (can be increased to an escalating dose of maximum of 80 mg (20mg, 40 mg, 80 mg q 20min) Cumulative max of 240 mg.\n\n20mg labetalol PO every 6 hours | 4-6g bolus over 20 minutes; 1-2 grams/hr Discontinued 24 hours after delivery.",
         "['Injection', 'Oral']"
        ],
        [
         "8",
         "NCT00306059",
         "PROCEDURE",
         "Directed therapy during 6 hours after occurence of the early phase of acute kidney injury.",
         "[]"
        ],
        [
         "9",
         "NCT00307905",
         "DRUG",
         "homeopathic remedy | identical size, shape and taste of treatment medication",
         "[]"
        ],
        [
         "10",
         "NCT00323141",
         "DEVICE",
         "Ventralex and Leight Weight Vypro II prothesis are compared.",
         "[]"
        ],
        [
         "11",
         "NCT00328809",
         "DRUG",
         "spironolactone administered to ESRD patients at low dose",
         "[]"
        ],
        [
         "12",
         "NCT00329641",
         "DRUG",
         "Given IV | Given orally",
         "['Injection', 'Oral']"
        ],
        [
         "13",
         "non_interv",
         "non_interv",
         "non_interv",
         "non_interv"
        ],
        [
         "14",
         "NCT00362219",
         "DRUG",
         "Gel with 0.75 mg morphine per 100cm2 square of wound. | Gel with 1.25 mg morphine per 100cm2 square of wound. | Gel with no active ingredient. | gel with 0.25 mg morphine per 100cm2 square of wound.",
         "['Topical']"
        ],
        [
         "15",
         "NCT00362219",
         "OTHER",
         "Gel with 0.75 mg morphine per 100cm2 square of wound. | Gel with 1.25 mg morphine per 100cm2 square of wound. | Gel with no active ingredient. | gel with 0.25 mg morphine per 100cm2 square of wound.",
         "['Topical']"
        ],
        [
         "16",
         "NCT00364000",
         "DRUG",
         "Calcium acetate in 240 chronic HD patients | label sevelamer (RenagelR) 800 mg tablets",
         "['Oral']"
        ],
        [
         "17",
         "NCT00372762",
         "DRUG",
         "0.5mg to 2mg orally once or twice daily | 20mg to 80mg orally once or twice daily | Current dose of furosemide will be maintained and equivalent dose bumetanide will be used following crossover | Equivalent dose to pre-existing furosemide will be used",
         "['Oral']"
        ],
        [
         "18",
         "NCT00397501",
         "DRUG",
         "200mg/m2/day x 2 days; total dose 400mg/m2 Infused i.a. over 10 mins in 200ml of normal saline after MTX infusion | 2500 mg/day x 2 days; total dose 5000mg Infused over 10mins in 200ml saline beginning immediately after mannitol infusion | STS dose admin i.v. over 15mins @ 4hrs post carboplatin = 20gm/m2; STS dose admin i.v. over 15mins @ 8hrs post carboplatin = 16gm/m2 | Trastuzamab, 6mg/kg, within 48 hrs before BBBD\n\nThen, Trastuzumab, 2mg/kg, weekly until next BBBD Then continue for 12 cycles",
         "['Injection']"
        ],
        [
         "19",
         "NCT00397501",
         "BIOLOGICAL",
         "200mg/m2/day x 2 days; total dose 400mg/m2 Infused i.a. over 10 mins in 200ml of normal saline after MTX infusion | 2500 mg/day x 2 days; total dose 5000mg Infused over 10mins in 200ml saline beginning immediately after mannitol infusion | STS dose admin i.v. over 15mins @ 4hrs post carboplatin = 20gm/m2; STS dose admin i.v. over 15mins @ 8hrs post carboplatin = 16gm/m2 | Trastuzamab, 6mg/kg, within 48 hrs before BBBD\n\nThen, Trastuzumab, 2mg/kg, weekly until next BBBD Then continue for 12 cycles",
         "['Injection']"
        ],
        [
         "20",
         "NCT00397579",
         "DRUG",
         "Intravenously via a 3 cc plastic syringe as a 15 minute bolus infusion daily for five days.",
         "['Injection']"
        ],
        [
         "21",
         "NCT00399594",
         "PROCEDURE",
         "LV lead placement in region of latest mechanical velocity (tissue doppler) | LV lead placement in standard (lateral / posterolateral) position.",
         "['Surgical']"
        ],
        [
         "22",
         "NCT00412048",
         "PROCEDURE",
         "There is a fMRI to be realized in the 3 arms. No drug is administered",
         "[]"
        ],
        [
         "23",
         "NCT00422422",
         "DRUG",
         "Oral solution\n\nEvaluation period (3 weeks up-titration):\n\nFor subjects ≥8 years:\n\n* \\~0.4 mg/kg bid for Week 1\n* \\~0.8 mg/kg bid for Week 2\n* \\~1.6 mg/kg bid for Week 3\n\nFor subjects \\<8 years:\n\n* \\~0.5 mg/kg bid for Week 1\n* \\~1.0 mg/kg bid for Week 2\n* \\~2.0 mg/kg bid for Week 3\n\nDown-titration period (up to 2 weeks):\n\nFor subjects ≥8 years:\n\n* \\~0.8 mg/kg bid for Week 4\n* \\~0.4 mg/kg bid for Week 5\n\nFor subjects \\<8 years:\n\n* \\~1.0 mg/kg bid for Week 4\n* \\~0.5 mg/kg bid for Week 5",
         "['Oral']"
        ],
        [
         "24",
         "NCT00442494",
         "DRUG",
         "",
         "[]"
        ],
        [
         "25",
         "NCT00448201",
         "BIOLOGICAL",
         "0.5 mg/kg on day -3, 2.5 mg/kg on day -2 (groups 2, 3 and 4) and 3 mg/kg on day -1 (group 4 only) | 6.4 mg/kg by continuous IV infusion over 48 hours on Days -6 and -5 | A minimum total cluster of differentiation 34 (CD34)+ cell dose of 3 x 10\\^6 cells/kg and a maximum 8 x 10\\^6 cells/kg will be infused on day 0 | GM-CSF 500 ug everyday (QD) subcutaneously will be given to recipients who remain with an Absolute neutrophil count (ANC) \\< 1000/microliter (uL) past day 20 | Methotrexate 5 mg/m\\^2 per day on days +1, +3 and +6 | Minimum total CD34+ cells of 3 x 10\\^6 cells/kg and a maximum of 8 x 10\\^6 cells/kg will be infused on Day 0 | Suggested starting dose is 0.03 mg/kg po bid starting on Day -1 | fludarabine 30 mg/m\\^2/day x 5 days IV piggyback (IVPB) over 30 minutes on Days -7 through -3",
         "['Injection', 'Oral']"
        ],
        [
         "26",
         "NCT00448201",
         "DRUG",
         "0.5 mg/kg on day -3, 2.5 mg/kg on day -2 (groups 2, 3 and 4) and 3 mg/kg on day -1 (group 4 only) | 6.4 mg/kg by continuous IV infusion over 48 hours on Days -6 and -5 | A minimum total cluster of differentiation 34 (CD34)+ cell dose of 3 x 10\\^6 cells/kg and a maximum 8 x 10\\^6 cells/kg will be infused on day 0 | GM-CSF 500 ug everyday (QD) subcutaneously will be given to recipients who remain with an Absolute neutrophil count (ANC) \\< 1000/microliter (uL) past day 20 | Methotrexate 5 mg/m\\^2 per day on days +1, +3 and +6 | Minimum total CD34+ cells of 3 x 10\\^6 cells/kg and a maximum of 8 x 10\\^6 cells/kg will be infused on Day 0 | Suggested starting dose is 0.03 mg/kg po bid starting on Day -1 | fludarabine 30 mg/m\\^2/day x 5 days IV piggyback (IVPB) over 30 minutes on Days -7 through -3",
         "['Injection', 'Oral']"
        ],
        [
         "27",
         "NCT00448201",
         "PROCEDURE",
         "0.5 mg/kg on day -3, 2.5 mg/kg on day -2 (groups 2, 3 and 4) and 3 mg/kg on day -1 (group 4 only) | 6.4 mg/kg by continuous IV infusion over 48 hours on Days -6 and -5 | A minimum total cluster of differentiation 34 (CD34)+ cell dose of 3 x 10\\^6 cells/kg and a maximum 8 x 10\\^6 cells/kg will be infused on day 0 | GM-CSF 500 ug everyday (QD) subcutaneously will be given to recipients who remain with an Absolute neutrophil count (ANC) \\< 1000/microliter (uL) past day 20 | Methotrexate 5 mg/m\\^2 per day on days +1, +3 and +6 | Minimum total CD34+ cells of 3 x 10\\^6 cells/kg and a maximum of 8 x 10\\^6 cells/kg will be infused on Day 0 | Suggested starting dose is 0.03 mg/kg po bid starting on Day -1 | fludarabine 30 mg/m\\^2/day x 5 days IV piggyback (IVPB) over 30 minutes on Days -7 through -3",
         "['Injection', 'Oral']"
        ],
        [
         "28",
         "NCT00455039",
         "DRUG",
         "Dose: 1500 mg daily",
         "[]"
        ],
        [
         "29",
         "NCT00455052",
         "DRUG",
         "XMT-1001 is administered as an IV infusion once every 21 days. This expansion of the Phase 1 study is to confirm the MTD.",
         "['Injection']"
        ],
        [
         "30",
         "NCT00459641",
         "OTHER",
         "Bone marrow aspirate or steroids | doses of up to 1 mg, 2 mg or 4 mg of TGplPTH1-34",
         "[]"
        ],
        [
         "31",
         "NCT00459641",
         "DRUG",
         "Bone marrow aspirate or steroids | doses of up to 1 mg, 2 mg or 4 mg of TGplPTH1-34",
         "[]"
        ],
        [
         "32",
         "non_interv",
         "non_interv",
         "non_interv",
         "non_interv"
        ],
        [
         "33",
         "NCT00488605",
         "DRUG",
         "Initial Therapy:Prednisone- by mouth 3 times/day daily as a 4-week course, then gradually decreased over 2 more weeks. Vinblastine-IV (into a vein)1 day/week for 6 weeks. Patients w/o evidence of active disease at this time will proceed to continuation therapy. If disease is improved or unchanged, pts. will receive additional therapy with: Prednisone- 3 divided doses by mouth for 3 days every week, from week 7-12. Vinblastine- IV 1day/week for 6 more weeks. If the disease is gone or better after this additional therapy continuation will begin. Continuation Therapy: 6-MP:by mouth daily until the end of month 12. Prednisone in 3 doses daily day 1-5 every 3 weeks until the end of month 12. Vinblastine IV day 1 every 3 weeks until the end of month 12. | Initial Therapy:Prednisone-by mouth 3x/day daily as a 4-week course then gradually decreased over 2 more weeks. Vinblastine- IV 1 day/week for 6 weeks. Methotrexate-a 24 hour IV infusion day 1 of weeks 1, 3, and 5, followed by leucovorin.The drug will be given by mouth. Pts w/o evidence of active disease at this time will proceed to continuation therapy. Pts whose disease is improved or unchanged will receive additional therapy w/:Prednisone- 3 divided doses, days 1-3 weekly from week 7-12. Vinblastine IV 1day/week for 6 more weeks. Methotrexate-a 24 hour IV infusion day 1 of week 7, 9, and 11, followed by leucovorin. If the disease is gone or better after this additional therapy continuation will begin. Continuation Therapy: 6-MP by mouth daily until the end of month 12. Prednisone- 3 doses daily days 1-5 every 3 weeks until the end of month 12. Vinblastine IV day 1 every 3 weeks until the end of month 12. Methotrexate by mouth once weekly until the end of month 12.",
         "['Injection', 'Oral']"
        ],
        [
         "34",
         "non_interv",
         "non_interv",
         "non_interv",
         "non_interv"
        ],
        [
         "35",
         "NCT00504322",
         "GENETIC",
         "The placebo will be the salt water-sugar solution used as a vehicle for the vector. | Using Weill-IRB protocol #0011004683 dose escalation study to determine the highest non-toxic dose of the AdcuCD40L vector, this dose (likely 10\\^11 particle units) will be used for all individuals enrolled in this efficacy study. Since there is no evidence that delay of surgery for solid tumors for 15 days following diagnosis alters the prognosis, surgery for removal of the primary tumor will be carried out at either 5 or 15 days after administration of the vector (n= 12/group, including n=6 receiving the AdcuCD40L vector, and n=6 receiving placebo). This will permit assessment of the resulting data (in a randomized, blinded fashion) and the biologic responses to the AdCUCD40L vector over time.",
         "['Oral', 'Surgical']"
        ],
        [
         "36",
         "NCT00520624",
         "DEVICE",
         "",
         "[]"
        ],
        [
         "37",
         "NCT00520624",
         "PROCEDURE",
         "",
         "[]"
        ],
        [
         "38",
         "NCT00532584",
         "DRUG",
         "The treatment with inhaled beclomethasone will be administered to Group A from Day 1 to Day 7 via a metered dose inhaler (QVAR 80 HFA) delivering 80 micrograms of beclomethasone per puff. QVAR will be purchased by the Department of Genetic Medicine. The dose will be 2 puffs twice a day for 7 days",
         "['Topical']"
        ],
        [
         "39",
         "NCT00534235",
         "PROCEDURE",
         "Either microsurgical decompression or laminotomy to remove bone impinging on nerves causes the patient pain",
         "['Surgical']"
        ],
        [
         "40",
         "NCT00534235",
         "DEVICE",
         "Either microsurgical decompression or laminotomy to remove bone impinging on nerves causes the patient pain",
         "['Surgical']"
        ],
        [
         "41",
         "NCT00534404",
         "BEHAVIORAL",
         "Participants receiving telephone counseling will receive five phone calls over a 2-month period to discuss their personal smoking cessation plan. | Participants will access the Project Quit (iQuit Smoking) website. | Participants will wear nicotine patches.",
         "['Topical']"
        ],
        [
         "42",
         "NCT00534404",
         "DRUG",
         "Participants receiving telephone counseling will receive five phone calls over a 2-month period to discuss their personal smoking cessation plan. | Participants will access the Project Quit (iQuit Smoking) website. | Participants will wear nicotine patches.",
         "['Topical']"
        ],
        [
         "43",
         "NCT00534703",
         "GENETIC",
         "AAV1/SERCA2a will be delivered by a percutaneous method in the catheter laboratory. Dose: 1x 10\\^13 DRP (DNase resistant particles) | Placebo aliquots will be of the same composition as the investigational medicinal product with the absence of the active ingredient and will be visually indistinguishable from the medicinal product. Placebo is prepared and handled exactly as above in a blinded fashion.",
         "[]"
        ],
        [
         "44",
         "NCT00534703",
         "DRUG",
         "AAV1/SERCA2a will be delivered by a percutaneous method in the catheter laboratory. Dose: 1x 10\\^13 DRP (DNase resistant particles) | Placebo aliquots will be of the same composition as the investigational medicinal product with the absence of the active ingredient and will be visually indistinguishable from the medicinal product. Placebo is prepared and handled exactly as above in a blinded fashion.",
         "[]"
        ],
        [
         "45",
         "NCT00554996",
         "DEVICE",
         "E. coli 83972 coated urinary catheter",
         "[]"
        ],
        [
         "46",
         "NCT00570050",
         "DRUG",
         "Diluent (4 Weeks ) / Intranasal insulin (4 weeks) | Intranasal Insulin (4 Weeks ) / Diluent (4 Weeks)",
         "['Injection', 'Topical']"
        ],
        [
         "47",
         "NCT00571246",
         "DRUG",
         "Participants are randomized to take Lamotrigine (250 mg/day) 2 times a day | Participants are randomized to take Topiramate (250mg/day) 2 times a day | Participants are randomized to take placebo",
         "[]"
        ],
        [
         "48",
         "NCT00571246",
         "OTHER",
         "Participants are randomized to take Lamotrigine (250 mg/day) 2 times a day | Participants are randomized to take Topiramate (250mg/day) 2 times a day | Participants are randomized to take placebo",
         "[]"
        ],
        [
         "49",
         "NCT00572533",
         "OTHER",
         "Amount of ESA dose adjustment in Units per week guided by standard Anemia Management Protocol in use at the facility | Amount of ESA dose adjustment in Units per week individualized to subject's dose-response profile guided by \"Smart Anemia Manager\" algorithm",
         "[]"
        ]
       ],
       "shape": {
        "columns": 4,
        "rows": 209161
       }
      },
      "text/html": [
       "<div>\n",
       "<style scoped>\n",
       "    .dataframe tbody tr th:only-of-type {\n",
       "        vertical-align: middle;\n",
       "    }\n",
       "\n",
       "    .dataframe tbody tr th {\n",
       "        vertical-align: top;\n",
       "    }\n",
       "\n",
       "    .dataframe thead th {\n",
       "        text-align: right;\n",
       "    }\n",
       "</style>\n",
       "<table border=\"1\" class=\"dataframe\">\n",
       "  <thead>\n",
       "    <tr style=\"text-align: right;\">\n",
       "      <th></th>\n",
       "      <th>nct_id</th>\n",
       "      <th>intervention_type</th>\n",
       "      <th>interv_desc</th>\n",
       "      <th>interv_method</th>\n",
       "    </tr>\n",
       "  </thead>\n",
       "  <tbody>\n",
       "    <tr>\n",
       "      <th>0</th>\n",
       "      <td>NCT00125528</td>\n",
       "      <td>DRUG</td>\n",
       "      <td>D-cycloserine 50 mg bid; D-cycloserine 100 mg ...</td>\n",
       "      <td>[]</td>\n",
       "    </tr>\n",
       "    <tr>\n",
       "      <th>1</th>\n",
       "      <td>NCT00170209</td>\n",
       "      <td>DRUG</td>\n",
       "      <td>The dosage of the medication is determined acc...</td>\n",
       "      <td>[Oral]</td>\n",
       "    </tr>\n",
       "    <tr>\n",
       "      <th>2</th>\n",
       "      <td>non_interv</td>\n",
       "      <td>non_interv</td>\n",
       "      <td>non_interv</td>\n",
       "      <td>non_interv</td>\n",
       "    </tr>\n",
       "    <tr>\n",
       "      <th>3</th>\n",
       "      <td>NCT00194714</td>\n",
       "      <td>OTHER</td>\n",
       "      <td>Correlative studies | Given ID</td>\n",
       "      <td>[Injection]</td>\n",
       "    </tr>\n",
       "    <tr>\n",
       "      <th>4</th>\n",
       "      <td>NCT00194714</td>\n",
       "      <td>BIOLOGICAL</td>\n",
       "      <td>Correlative studies | Given ID</td>\n",
       "      <td>[Injection]</td>\n",
       "    </tr>\n",
       "    <tr>\n",
       "      <th>...</th>\n",
       "      <td>...</td>\n",
       "      <td>...</td>\n",
       "      <td>...</td>\n",
       "      <td>...</td>\n",
       "    </tr>\n",
       "    <tr>\n",
       "      <th>209156</th>\n",
       "      <td>NCT06875349</td>\n",
       "      <td>OTHER</td>\n",
       "      <td>Abdominal massage is a therapeutic technique t...</td>\n",
       "      <td>[Injection]</td>\n",
       "    </tr>\n",
       "    <tr>\n",
       "      <th>209157</th>\n",
       "      <td>NCT06875557</td>\n",
       "      <td>BEHAVIORAL</td>\n",
       "      <td>Digital Mental Health Intervention (DMHI) was ...</td>\n",
       "      <td>[Injection]</td>\n",
       "    </tr>\n",
       "    <tr>\n",
       "      <th>209158</th>\n",
       "      <td>NCT06875661</td>\n",
       "      <td>OTHER</td>\n",
       "      <td>Patients in the experimental group exercised f...</td>\n",
       "      <td>[]</td>\n",
       "    </tr>\n",
       "    <tr>\n",
       "      <th>209159</th>\n",
       "      <td>NCT06875674</td>\n",
       "      <td>DIETARY_SUPPLEMENT</td>\n",
       "      <td>control strawberry supplementation (100 grams/...</td>\n",
       "      <td>[Oral]</td>\n",
       "    </tr>\n",
       "    <tr>\n",
       "      <th>209160</th>\n",
       "      <td>NCT06875687</td>\n",
       "      <td>OTHER</td>\n",
       "      <td>This intervention consists of a prostaglandin ...</td>\n",
       "      <td>[]</td>\n",
       "    </tr>\n",
       "  </tbody>\n",
       "</table>\n",
       "<p>209161 rows × 4 columns</p>\n",
       "</div>"
      ],
      "text/plain": [
       "             nct_id   intervention_type  \\\n",
       "0       NCT00125528                DRUG   \n",
       "1       NCT00170209                DRUG   \n",
       "2        non_interv          non_interv   \n",
       "3       NCT00194714               OTHER   \n",
       "4       NCT00194714          BIOLOGICAL   \n",
       "...             ...                 ...   \n",
       "209156  NCT06875349               OTHER   \n",
       "209157  NCT06875557          BEHAVIORAL   \n",
       "209158  NCT06875661               OTHER   \n",
       "209159  NCT06875674  DIETARY_SUPPLEMENT   \n",
       "209160  NCT06875687               OTHER   \n",
       "\n",
       "                                              interv_desc interv_method  \n",
       "0       D-cycloserine 50 mg bid; D-cycloserine 100 mg ...            []  \n",
       "1       The dosage of the medication is determined acc...        [Oral]  \n",
       "2                                              non_interv    non_interv  \n",
       "3                          Correlative studies | Given ID   [Injection]  \n",
       "4                          Correlative studies | Given ID   [Injection]  \n",
       "...                                                   ...           ...  \n",
       "209156  Abdominal massage is a therapeutic technique t...   [Injection]  \n",
       "209157  Digital Mental Health Intervention (DMHI) was ...   [Injection]  \n",
       "209158  Patients in the experimental group exercised f...            []  \n",
       "209159  control strawberry supplementation (100 grams/...        [Oral]  \n",
       "209160  This intervention consists of a prostaglandin ...            []  \n",
       "\n",
       "[209161 rows x 4 columns]"
      ]
     },
     "execution_count": 13,
     "metadata": {},
     "output_type": "execute_result"
    }
   ],
   "source": [
    "# Injection\n",
    "injection1 = (\n",
    "    r\"\\binject|\\bvaccin|\\bbolus\\b|\\bvial\\b|\"\n",
    "    r\"\\barterial|\\bepidural|\"\n",
    "    r\"\\bsyring|\\binfuse\\b|\\binfusion\\b|\\bimmunization\\b|\\biv[^a-zA-Z]?push\\b|\"\n",
    "    r\"\\bdrip\\b|\\bchemotherapy\\b|\\binsulin\\b|\\bparenteral\\b|\\bblood\\b|\"\n",
    "    r\"\\bantibod\\b|\\bgraft\\b|cells/kg|mg/m2|gm/m2|platin\\b|zamab.cyrcles\\b|\" \n",
    "\n",
    "    r\"\\bsub[^a-zA-Z]?(?:cutaneous)|\"\n",
    "    r\"\\bintra[^a-zA-Z]?(?:arterial|muscular|venous|thecal|osseous|peritoneal|dermal|ocular|urethral|uterine|articular|\\\n",
    "    tympanic|cutaneous|spinal|ventricular|lesional|lymphatic)\\b\"\n",
    ")\n",
    "\n",
    "injection2 = (\n",
    "    r\"(?<!\\w)(?:iv|i\\.v\\.|im|i\\.m\\.|i\\.a\\.|sc|sq|it|ip|ivpush|ivdrip|id|\\bcc\\b|\\bc\\.c\\b)(?!\\w)\"\n",
    ")\n",
    "\n",
    "# Surgical\n",
    "surgical1 = (\n",
    "    r\"\\bsurg|\\boperat|\\bincision|\\bresection|\\btransplant|\"\n",
    "    r\"\\bstent\\b|\\blaparoscop|\\bablation\\b|\\bimplant|micro[^a-zA-Z]?surgery|\"\n",
    "    r\"\\btrephinat|\\bamputat|\\bbiopsy\\b|bariatric surgery|\"\n",
    "    r\"\\bexcision\\b|oplasty\\b|\\bbypass\\b|anastomosis|operation|\"\n",
    "    r\"\\banastomos|\\baugmentation\\b|\\bsutur|lead placement|\"\n",
    "    r\"[a-zA-Z]*(?:ectomy|oscopy|otomy)\\b\"    # oscopy e.g colonoscopy, with the meaning of more interventional examine.\n",
    ")\n",
    "\n",
    "# Oral\n",
    "oral1 = (\n",
    "    r\"\\boral|\\borally\\b|tablet|\\btabs\\b|\\btab\\b|capsule|pill|supplement|mouth|sublingual|\"\n",
    "    r\"chew|lozenge|syrup|liquid|elixir|granule|\\blick|sublingual|buccal\"\n",
    "    )\n",
    "\n",
    "oral2 = (\n",
    "    r\"\\bpo\\b|\\bper os\\b|\\bp\\.o\\.\\b|\\bp\\.o\\.\\b|\\bperos\\b\"\n",
    "    )\n",
    "\n",
    "# Topical\n",
    "topical1 = (\n",
    "    r\"\\bgel\\b|gels|patch|patches|cream|creams|ointment|ointments|balm|balms|nebul|\" \\\n",
    "    r\"paste|eye drop|ear drop|cm2 square|\"\n",
    "    r\"nebulizer|toothpaste|intranasal|nasal|inhal|inhaler|aerosol|lotion|lotions|\"\n",
    "    r\"vaginal|rectal|spray|sprays|drops|ophthalm|\\botic|transdermal|suppository|\"\n",
    "    r\"douche|mouthwash|swish|enema|gargle|radio|radiation|photo-therpy|phototherapy|\" \\\n",
    "    r\"dermabrasion|ultrasound\"\n",
    ")\n",
    "# Save for using in Thesis file too\n",
    "interv_data = {\n",
    "    \"oral1\": oral1,\n",
    "    \"oral2\":oral2,\n",
    "    \"injection1\": injection1,\n",
    "    \"injection2\": injection2,\n",
    "    \"topical1\": topical1,\n",
    "    \"surgical1\": surgical1}\n",
    "\n",
    "with open(\"intervention_methods.pkl\", \"wb\") as f:\n",
    "    pickle.dump(interv_data, f)\n",
    "\n",
    "# ==============================================================================================================================#\n",
    "# Search intervention worlds within text\n",
    "# Injection\n",
    "my_intervention_methods.loc[\n",
    "    my_intervention_methods['interv_desc'].str.contains(injection1, case = False, na = False), \n",
    "    'Injection'] = \"Injection\"\n",
    "my_intervention_methods.loc[\n",
    "    my_intervention_methods['interv_desc'].str.lower().str.contains(injection2, case = True, na=False),\n",
    "    'Injection'] = \"Injection\"  # str.lower() --> case = True\n",
    "# Oral\n",
    "my_intervention_methods.loc[\n",
    "    my_intervention_methods['interv_desc'].str.contains(oral1, case = False, na = False), \n",
    "    'Oral'] = \"Oral\"\n",
    "my_intervention_methods.loc[\n",
    "    my_intervention_methods['interv_desc'].str.lower().str.contains(oral2.lower(), case = True, na = False), \n",
    "    'Oral'] = \"Oral\"  # str.lower() --> case = True\n",
    "# Topical\n",
    "my_intervention_methods.loc[\n",
    "    my_intervention_methods['interv_desc'].str.contains(topical1, case = False, na = False), \n",
    "    'Topical'] = \"Topical\"\n",
    "# Surgery\n",
    "my_intervention_methods.loc[\n",
    "    my_intervention_methods['interv_desc'].str.contains(surgical1, case = False, na = False),\n",
    "    'Surgical'] = \"Surgical\"\n",
    "\n",
    "# ==============================================================================================================================#\n",
    "# Merge all columns to 1\n",
    "my_intervention_methods[\"interv_method\"] = my_intervention_methods[[\"Injection\", \"Oral\", \"Topical\", \"Surgical\"]].apply(\n",
    "    lambda row: [val for val in row if pd.notna(val)], axis = 1)\n",
    "\n",
    "my_intervention_methods = my_intervention_methods.drop(columns = ['Oral', 'Topical', 'Injection', 'Surgical'])\n",
    "\n",
    "# ==============================================================================================================================#\n",
    "# Fill BEHAVIORAL nan rows\n",
    "my_intervention_methods.loc[my_intervention_methods['intervention_type'].apply(lambda x: x == 'BEHAVIORAL') &\n",
    "                            my_intervention_methods['interv_method'].apply(lambda x: x ==[])] = 'non_interv'\n",
    "\n",
    "# ==============================================================================================================================#\n",
    "# Check 'interv_desc' texts and 'interv_method' outputs\n",
    "my_intervention_methods  \n"
   ]
  },
  {
   "cell_type": "code",
   "execution_count": 14,
   "id": "49da6391",
   "metadata": {},
   "outputs": [
    {
     "data": {
      "application/vnd.microsoft.datawrangler.viewer.v0+json": {
       "columns": [
        {
         "name": "index",
         "rawType": "int64",
         "type": "integer"
        },
        {
         "name": "nct_id",
         "rawType": "object",
         "type": "string"
        },
        {
         "name": "interv_method",
         "rawType": "object",
         "type": "unknown"
        }
       ],
       "ref": "13661634-b440-4726-9b71-641a30bae2c6",
       "rows": [
        [
         "1",
         "NCT00170209",
         "['Oral']"
        ],
        [
         "2",
         "NCT00194714",
         "['Injection']"
        ],
        [
         "4",
         "NCT00263432",
         "['Surgical']"
        ],
        [
         "5",
         "NCT00293735",
         "['Injection', 'Oral']"
        ],
        [
         "10",
         "NCT00329641",
         "['Injection', 'Oral']"
        ],
        [
         "11",
         "NCT00362219",
         "['Topical']"
        ],
        [
         "12",
         "NCT00364000",
         "['Oral']"
        ],
        [
         "13",
         "NCT00372762",
         "['Oral']"
        ],
        [
         "14",
         "NCT00397501",
         "['Injection']"
        ],
        [
         "15",
         "NCT00397579",
         "['Injection']"
        ],
        [
         "16",
         "NCT00399594",
         "['Surgical']"
        ],
        [
         "18",
         "NCT00422422",
         "['Oral']"
        ],
        [
         "20",
         "NCT00448201",
         "['Injection', 'Oral']"
        ],
        [
         "22",
         "NCT00455052",
         "['Injection']"
        ],
        [
         "24",
         "NCT00488605",
         "['Injection', 'Oral']"
        ],
        [
         "25",
         "NCT00504322",
         "['Oral', 'Surgical']"
        ],
        [
         "27",
         "NCT00532584",
         "['Topical']"
        ],
        [
         "28",
         "NCT00534235",
         "['Surgical']"
        ],
        [
         "29",
         "NCT00534404",
         "['Topical']"
        ],
        [
         "32",
         "NCT00570050",
         "['Injection', 'Topical']"
        ],
        [
         "35",
         "NCT00572689",
         "['Injection', 'Oral']"
        ],
        [
         "37",
         "NCT00580580",
         "['Injection']"
        ],
        [
         "39",
         "NCT00593164",
         "['Injection', 'Oral']"
        ],
        [
         "40",
         "NCT00603460",
         "['Injection', 'Oral']"
        ],
        [
         "41",
         "NCT00613418",
         "['Surgical']"
        ],
        [
         "42",
         "NCT00623948",
         "['Surgical']"
        ],
        [
         "43",
         "NCT00640094",
         "['Injection', 'Oral']"
        ],
        [
         "44",
         "NCT00642252",
         "['Oral']"
        ],
        [
         "45",
         "NCT00651677",
         "['Surgical']"
        ],
        [
         "46",
         "NCT00653367",
         "['Surgical']"
        ],
        [
         "47",
         "NCT00653991",
         "['Injection']"
        ],
        [
         "49",
         "NCT00669162",
         "['Injection', 'Oral']"
        ],
        [
         "50",
         "NCT00683007",
         "['Oral']"
        ],
        [
         "51",
         "NCT00686556",
         "['Injection', 'Oral', 'Surgical']"
        ],
        [
         "53",
         "NCT00700154",
         "['Injection', 'Surgical']"
        ],
        [
         "54",
         "NCT00701233",
         "['Injection']"
        ],
        [
         "55",
         "NCT00711841",
         "['Injection', 'Oral']"
        ],
        [
         "56",
         "NCT00721032",
         "['Surgical']"
        ],
        [
         "57",
         "NCT00722111",
         "['Oral']"
        ],
        [
         "59",
         "NCT00729274",
         "['Topical']"
        ],
        [
         "60",
         "NCT00730067",
         "['Oral']"
        ],
        [
         "61",
         "NCT00737893",
         "['Injection', 'Oral', 'Surgical']"
        ],
        [
         "63",
         "NCT00739375",
         "['Injection']"
        ],
        [
         "64",
         "NCT00741117",
         "['Injection']"
        ],
        [
         "66",
         "NCT00753402",
         "['Injection']"
        ],
        [
         "69",
         "NCT00757107",
         "['Surgical']"
        ],
        [
         "70",
         "NCT00757354",
         "['Surgical']"
        ],
        [
         "71",
         "NCT00760825",
         "['Oral']"
        ],
        [
         "72",
         "NCT00764478",
         "['Oral']"
        ],
        [
         "73",
         "NCT00779142",
         "['Injection']"
        ]
       ],
       "shape": {
        "columns": 2,
        "rows": 90593
       }
      },
      "text/html": [
       "<div>\n",
       "<style scoped>\n",
       "    .dataframe tbody tr th:only-of-type {\n",
       "        vertical-align: middle;\n",
       "    }\n",
       "\n",
       "    .dataframe tbody tr th {\n",
       "        vertical-align: top;\n",
       "    }\n",
       "\n",
       "    .dataframe thead th {\n",
       "        text-align: right;\n",
       "    }\n",
       "</style>\n",
       "<table border=\"1\" class=\"dataframe\">\n",
       "  <thead>\n",
       "    <tr style=\"text-align: right;\">\n",
       "      <th></th>\n",
       "      <th>nct_id</th>\n",
       "      <th>interv_method</th>\n",
       "    </tr>\n",
       "  </thead>\n",
       "  <tbody>\n",
       "    <tr>\n",
       "      <th>1</th>\n",
       "      <td>NCT00170209</td>\n",
       "      <td>[Oral]</td>\n",
       "    </tr>\n",
       "    <tr>\n",
       "      <th>2</th>\n",
       "      <td>NCT00194714</td>\n",
       "      <td>[Injection]</td>\n",
       "    </tr>\n",
       "    <tr>\n",
       "      <th>4</th>\n",
       "      <td>NCT00263432</td>\n",
       "      <td>[Surgical]</td>\n",
       "    </tr>\n",
       "    <tr>\n",
       "      <th>5</th>\n",
       "      <td>NCT00293735</td>\n",
       "      <td>[Injection, Oral]</td>\n",
       "    </tr>\n",
       "    <tr>\n",
       "      <th>10</th>\n",
       "      <td>NCT00329641</td>\n",
       "      <td>[Injection, Oral]</td>\n",
       "    </tr>\n",
       "    <tr>\n",
       "      <th>...</th>\n",
       "      <td>...</td>\n",
       "      <td>...</td>\n",
       "    </tr>\n",
       "    <tr>\n",
       "      <th>164685</th>\n",
       "      <td>NCT06874777</td>\n",
       "      <td>[Injection, Surgical, Topical]</td>\n",
       "    </tr>\n",
       "    <tr>\n",
       "      <th>164688</th>\n",
       "      <td>NCT06875050</td>\n",
       "      <td>[Oral]</td>\n",
       "    </tr>\n",
       "    <tr>\n",
       "      <th>164689</th>\n",
       "      <td>NCT06875349</td>\n",
       "      <td>[Injection]</td>\n",
       "    </tr>\n",
       "    <tr>\n",
       "      <th>164690</th>\n",
       "      <td>NCT06875557</td>\n",
       "      <td>[Injection]</td>\n",
       "    </tr>\n",
       "    <tr>\n",
       "      <th>164692</th>\n",
       "      <td>NCT06875674</td>\n",
       "      <td>[Oral]</td>\n",
       "    </tr>\n",
       "  </tbody>\n",
       "</table>\n",
       "<p>90593 rows × 2 columns</p>\n",
       "</div>"
      ],
      "text/plain": [
       "             nct_id                   interv_method\n",
       "1       NCT00170209                          [Oral]\n",
       "2       NCT00194714                     [Injection]\n",
       "4       NCT00263432                      [Surgical]\n",
       "5       NCT00293735               [Injection, Oral]\n",
       "10      NCT00329641               [Injection, Oral]\n",
       "...             ...                             ...\n",
       "164685  NCT06874777  [Injection, Surgical, Topical]\n",
       "164688  NCT06875050                          [Oral]\n",
       "164689  NCT06875349                     [Injection]\n",
       "164690  NCT06875557                     [Injection]\n",
       "164692  NCT06875674                          [Oral]\n",
       "\n",
       "[90593 rows x 2 columns]"
      ]
     },
     "execution_count": 14,
     "metadata": {},
     "output_type": "execute_result"
    }
   ],
   "source": [
    "# Drop interv_desc text columns after checking\n",
    "my_intervention_methods = my_intervention_methods.drop(columns = ['interv_desc'])\n",
    "\n",
    "# groupby nct_id --> intervenion_type column dropped\n",
    "my_intervention_methods = my_intervention_methods.groupby(\"nct_id\")[\"interv_method\"].agg(\n",
    "    lambda col: sorted(set(elem for row in col if isinstance(row, list) for elem in row))\n",
    "    ).reset_index()\n",
    "\n",
    "#  Display np.nan\n",
    "my_intervention_methods['interv_method'] = my_intervention_methods['interv_method'].apply(lambda x: np.nan if x == [] else x)\n",
    "my_intervention_methods = my_intervention_methods.dropna()\n",
    "my_intervention_methods\n"
   ]
  },
  {
   "cell_type": "markdown",
   "id": "d168a007",
   "metadata": {},
   "source": [
    "## my_soc"
   ]
  },
  {
   "cell_type": "code",
   "execution_count": 61,
   "id": "a308d21e",
   "metadata": {},
   "outputs": [
    {
     "data": {
      "application/vnd.microsoft.datawrangler.viewer.v0+json": {
       "columns": [
        {
         "name": "index",
         "rawType": "int64",
         "type": "integer"
        },
        {
         "name": "nct_id",
         "rawType": "object",
         "type": "string"
        },
        {
         "name": "design_groups_description",
         "rawType": "object",
         "type": "unknown"
        },
        {
         "name": "interventions_description",
         "rawType": "object",
         "type": "unknown"
        },
        {
         "name": "group_type",
         "rawType": "object",
         "type": "unknown"
        }
       ],
       "ref": "897af693-4e37-49e7-b611-8c5c03b31c15",
       "rows": [
        [
         "0",
         "NCT00125528",
         "D-cycloserine 50mg bid/100mg bid/200 mg bid",
         "D-cycloserine 50 mg bid; D-cycloserine 100 mg bid; D-cycloserine 200 mg bid",
         "EXPERIMENTAL"
        ],
        [
         "1",
         "NCT00125528",
         "D-cycloserine 50mg bid/100mg bid/200 mg bid",
         "placebo bid",
         "EXPERIMENTAL"
        ],
        [
         "2",
         "NCT00125528",
         "placebo",
         "D-cycloserine 50 mg bid; D-cycloserine 100 mg bid; D-cycloserine 200 mg bid",
         "PLACEBO_COMPARATOR"
        ],
        [
         "3",
         "NCT00125528",
         "placebo",
         "placebo bid",
         "PLACEBO_COMPARATOR"
        ],
        [
         "4",
         "NCT00170209",
         "The experimental arm will be daily self-administered RIF 10-20 mg/kg/day for 4 months (4RIF).",
         "The dosage of the medication is determined according to the weight of the child. The dose is once per day, 10-15 mg/kg/day (max=300mg/day). Total duration of treatment is 9 months. Both a detailed dose chart calculating doses by weight and age and protocols for preparation of medications (crushing pills, mixing suspensions) are available.",
         "ACTIVE_COMPARATOR"
        ],
        [
         "5",
         "NCT00170209",
         "The standard therapy will be daily self-administered INH, 10-15 mg/kg/day (max=300mg/day) for 9 months (9INH).",
         "The dosage of the medication is determined according to the weight of the child. The dose is once per day, 10-15 mg/kg/day (max=300mg/day). Total duration of treatment is 9 months. Both a detailed dose chart calculating doses by weight and age and protocols for preparation of medications (crushing pills, mixing suspensions) are available.",
         "ACTIVE_COMPARATOR"
        ],
        [
         "6",
         "NCT00170209",
         "The experimental arm will be daily self-administered RIF 10-20 mg/kg/day for 4 months (4RIF).",
         "The dosage of the medication is determined according to the weight of the child. The dose is once per day, 10-20 mg/kg/day (max=600mg/day). Total duration of treatment is 4 months. Both a detailed dose chart calculating doses by weight and age and protocols for preparation of medications (crushing pills, mixing suspensions) are available.",
         "ACTIVE_COMPARATOR"
        ],
        [
         "7",
         "NCT00170209",
         "The standard therapy will be daily self-administered INH, 10-15 mg/kg/day (max=300mg/day) for 9 months (9INH).",
         "The dosage of the medication is determined according to the weight of the child. The dose is once per day, 10-20 mg/kg/day (max=600mg/day). Total duration of treatment is 4 months. Both a detailed dose chart calculating doses by weight and age and protocols for preparation of medications (crushing pills, mixing suspensions) are available.",
         "ACTIVE_COMPARATOR"
        ],
        [
         "8",
         "NCT00183482",
         "The comparison arm involves providing written information about depression and stress to parents with a history of depression and their children.",
         "Families are mailed written materials that describe depression and stress in families with a depressed parent.",
         "ACTIVE_COMPARATOR"
        ],
        [
         "9",
         "NCT00183482",
         "The comparison arm involves providing written information about depression and stress to parents with a history of depression and their children.",
         "Groups of families receive training in parenting and children learn about coping in ten weekly sessions and then three monthly sessions",
         "ACTIVE_COMPARATOR"
        ],
        [
         "10",
         "NCT00183482",
         "The intervention is a family group cognitive behavioral program for families of parents with a history of depression to teach parenting skills to parents and coping skills to children.",
         "Families are mailed written materials that describe depression and stress in families with a depressed parent.",
         "EXPERIMENTAL"
        ],
        [
         "11",
         "NCT00183482",
         "The intervention is a family group cognitive behavioral program for families of parents with a history of depression to teach parenting skills to parents and coping skills to children.",
         "Groups of families receive training in parenting and children learn about coping in ten weekly sessions and then three monthly sessions",
         "EXPERIMENTAL"
        ],
        [
         "12",
         "NCT00194714",
         "Patients receive HER-2/neu peptide vaccine ID once per month for 6 months in the absence of disease progression or unacceptable toxicity.",
         "Correlative studies",
         "EXPERIMENTAL"
        ],
        [
         "13",
         "NCT00194714",
         "Patients receive HER-2/neu peptide vaccine ID once per month for 6 months in the absence of disease progression or unacceptable toxicity.",
         "Given ID",
         "EXPERIMENTAL"
        ],
        [
         "14",
         "NCT00258791",
         null,
         null,
         null
        ],
        [
         "15",
         "NCT00263432",
         "Implantation of fresh human allogenic chondrocytes",
         "Implantation of fresh human allogenic chondrocytes in human knee cartilage injuries",
         "EXPERIMENTAL"
        ],
        [
         "16",
         "NCT00293735",
         null,
         "20mg IV (can be increased to an escalating dose of maximum of 80 mg (20mg, 40 mg, 80 mg q 20min) Cumulative max of 240 mg.\n\n20mg labetalol PO every 6 hours",
         "ACTIVE_COMPARATOR"
        ],
        [
         "17",
         "NCT00293735",
         null,
         "4-6g bolus over 20 minutes; 1-2 grams/hr Discontinued 24 hours after delivery.",
         "ACTIVE_COMPARATOR"
        ],
        [
         "18",
         "NCT00306059",
         null,
         "Directed therapy during 6 hours after occurence of the early phase of acute kidney injury.",
         "EXPERIMENTAL"
        ],
        [
         "19",
         "NCT00307905",
         "TRAUMEEL S",
         "homeopathic remedy",
         "ACTIVE_COMPARATOR"
        ],
        [
         "20",
         "NCT00307905",
         "TRAUMEEL S",
         "identical size, shape and taste of treatment medication",
         "ACTIVE_COMPARATOR"
        ],
        [
         "21",
         "NCT00307905",
         "placebo remedy",
         "homeopathic remedy",
         "PLACEBO_COMPARATOR"
        ],
        [
         "22",
         "NCT00307905",
         "placebo remedy",
         "identical size, shape and taste of treatment medication",
         "PLACEBO_COMPARATOR"
        ],
        [
         "23",
         "NCT00323141",
         null,
         "Ventralex and Leight Weight Vypro II prothesis are compared.",
         "ACTIVE_COMPARATOR"
        ],
        [
         "24",
         "NCT00328809",
         null,
         "spironolactone administered to ESRD patients at low dose",
         "EXPERIMENTAL"
        ],
        [
         "25",
         "NCT00329641",
         "Patients receive carboplatin IV and paclitaxel IV once on day 1 and oral sorafenib twice daily on days 2-19. Treatment repeats every 21 days for up to 6 courses.\\* After 6 courses, patients continue to receive oral sorafenib alone twice daily in the absence of disease progression or unacceptable toxicity.\n\n\\[Note: \\*If sorafenib is discontinued prior to course 6, patients may continue to receive carboplatin and paclitaxel for up to 6 courses; if carboplatin and paclitaxel are discontinued prior to course 6, patients may continue to receive sorafenib alone twice daily on days 1-21 of each course in the absence of disease progression or unacceptable toxicity. \\]",
         "Given IV",
         "EXPERIMENTAL"
        ],
        [
         "26",
         "NCT00329641",
         "Patients receive carboplatin IV and paclitaxel IV once on day 1 and oral sorafenib twice daily on days 2-19. Treatment repeats every 21 days for up to 6 courses.\\* After 6 courses, patients continue to receive oral sorafenib alone twice daily in the absence of disease progression or unacceptable toxicity.\n\n\\[Note: \\*If sorafenib is discontinued prior to course 6, patients may continue to receive carboplatin and paclitaxel for up to 6 courses; if carboplatin and paclitaxel are discontinued prior to course 6, patients may continue to receive sorafenib alone twice daily on days 1-21 of each course in the absence of disease progression or unacceptable toxicity. \\]",
         "Given orally",
         "EXPERIMENTAL"
        ],
        [
         "27",
         "NCT00356317",
         "Participants will receive a 3-week family therapy (treatment as usual)",
         "This family therapy consists of 15 video-taped, therapy sessions, each lasting approximately 75 minutes. The 15-session treatment will be broken down into five segments (each lasting approximately three sessions) with the following goals: 1) Fortify a strong sense of family unity; 2) educate about schizophrenia; 3) foster adaptive use of cultural, spiritual and/or existential beliefs in conceptualizing and coming to terms with schizophrenia; 4) teach effective communication training techniques; and 5) and teach useful problem solving strategies.",
         "ACTIVE_COMPARATOR"
        ],
        [
         "28",
         "NCT00356317",
         "Participants will receive a 3-week family therapy (treatment as usual)",
         "This family therapy consists of three weekly sessions focusing on education about schizophrenia.",
         "ACTIVE_COMPARATOR"
        ],
        [
         "29",
         "NCT00356317",
         "Participants will receive a 15-week family therapy",
         "This family therapy consists of 15 video-taped, therapy sessions, each lasting approximately 75 minutes. The 15-session treatment will be broken down into five segments (each lasting approximately three sessions) with the following goals: 1) Fortify a strong sense of family unity; 2) educate about schizophrenia; 3) foster adaptive use of cultural, spiritual and/or existential beliefs in conceptualizing and coming to terms with schizophrenia; 4) teach effective communication training techniques; and 5) and teach useful problem solving strategies.",
         "EXPERIMENTAL"
        ],
        [
         "30",
         "NCT00356317",
         "Participants will receive a 15-week family therapy",
         "This family therapy consists of three weekly sessions focusing on education about schizophrenia.",
         "EXPERIMENTAL"
        ],
        [
         "31",
         "NCT00362219",
         "Gel with 0.25 mg morphine per 100cm2 square of wound",
         "gel with 0.25 mg morphine per 100cm2 square of wound.",
         "ACTIVE_COMPARATOR"
        ],
        [
         "32",
         "NCT00362219",
         "Gel with 0.75 mg morphine per 100cm2 square of wound.",
         "gel with 0.25 mg morphine per 100cm2 square of wound.",
         "ACTIVE_COMPARATOR"
        ],
        [
         "33",
         "NCT00362219",
         "Gel with 1.25 mg morphine per 100cm2 square of wound.",
         "gel with 0.25 mg morphine per 100cm2 square of wound.",
         "ACTIVE_COMPARATOR"
        ],
        [
         "34",
         "NCT00362219",
         "Gel with 0.25 mg morphine per 100cm2 square of wound",
         "Gel with 0.75 mg morphine per 100cm2 square of wound.",
         "ACTIVE_COMPARATOR"
        ],
        [
         "35",
         "NCT00362219",
         "Gel with 0.75 mg morphine per 100cm2 square of wound.",
         "Gel with 0.75 mg morphine per 100cm2 square of wound.",
         "ACTIVE_COMPARATOR"
        ],
        [
         "36",
         "NCT00362219",
         "Gel with 1.25 mg morphine per 100cm2 square of wound.",
         "Gel with 0.75 mg morphine per 100cm2 square of wound.",
         "ACTIVE_COMPARATOR"
        ],
        [
         "37",
         "NCT00362219",
         "Gel with 0.25 mg morphine per 100cm2 square of wound",
         "Gel with 1.25 mg morphine per 100cm2 square of wound.",
         "ACTIVE_COMPARATOR"
        ],
        [
         "38",
         "NCT00362219",
         "Gel with 0.75 mg morphine per 100cm2 square of wound.",
         "Gel with 1.25 mg morphine per 100cm2 square of wound.",
         "ACTIVE_COMPARATOR"
        ],
        [
         "39",
         "NCT00362219",
         "Gel with 1.25 mg morphine per 100cm2 square of wound.",
         "Gel with 1.25 mg morphine per 100cm2 square of wound.",
         "ACTIVE_COMPARATOR"
        ],
        [
         "40",
         "NCT00362219",
         "Gel with 0.25 mg morphine per 100cm2 square of wound",
         "Gel with no active ingredient.",
         "ACTIVE_COMPARATOR"
        ],
        [
         "41",
         "NCT00362219",
         "Gel with 0.75 mg morphine per 100cm2 square of wound.",
         "Gel with no active ingredient.",
         "ACTIVE_COMPARATOR"
        ],
        [
         "42",
         "NCT00362219",
         "Gel with 1.25 mg morphine per 100cm2 square of wound.",
         "Gel with no active ingredient.",
         "ACTIVE_COMPARATOR"
        ],
        [
         "43",
         "NCT00362219",
         "Gel with no active ingredient",
         "gel with 0.25 mg morphine per 100cm2 square of wound.",
         "PLACEBO_COMPARATOR"
        ],
        [
         "44",
         "NCT00362219",
         "Gel with no active ingredient",
         "Gel with 0.75 mg morphine per 100cm2 square of wound.",
         "PLACEBO_COMPARATOR"
        ],
        [
         "45",
         "NCT00362219",
         "Gel with no active ingredient",
         "Gel with 1.25 mg morphine per 100cm2 square of wound.",
         "PLACEBO_COMPARATOR"
        ],
        [
         "46",
         "NCT00362219",
         "Gel with no active ingredient",
         "Gel with no active ingredient.",
         "PLACEBO_COMPARATOR"
        ],
        [
         "47",
         "NCT00364000",
         "Calcium acetate 670 mg tablets",
         "Calcium acetate in 240 chronic HD patients",
         "ACTIVE_COMPARATOR"
        ],
        [
         "48",
         "NCT00364000",
         "Calcium acetate 670 mg tablets",
         "label sevelamer (RenagelR) 800 mg tablets",
         "ACTIVE_COMPARATOR"
        ],
        [
         "49",
         "NCT00364000",
         "label sevelamer (RenagelR) 800 mg tablets",
         "Calcium acetate in 240 chronic HD patients",
         "EXPERIMENTAL"
        ]
       ],
       "shape": {
        "columns": 4,
        "rows": 758224
       }
      },
      "text/html": [
       "<div>\n",
       "<style scoped>\n",
       "    .dataframe tbody tr th:only-of-type {\n",
       "        vertical-align: middle;\n",
       "    }\n",
       "\n",
       "    .dataframe tbody tr th {\n",
       "        vertical-align: top;\n",
       "    }\n",
       "\n",
       "    .dataframe thead th {\n",
       "        text-align: right;\n",
       "    }\n",
       "</style>\n",
       "<table border=\"1\" class=\"dataframe\">\n",
       "  <thead>\n",
       "    <tr style=\"text-align: right;\">\n",
       "      <th></th>\n",
       "      <th>nct_id</th>\n",
       "      <th>design_groups_description</th>\n",
       "      <th>interventions_description</th>\n",
       "      <th>group_type</th>\n",
       "    </tr>\n",
       "  </thead>\n",
       "  <tbody>\n",
       "    <tr>\n",
       "      <th>0</th>\n",
       "      <td>NCT00125528</td>\n",
       "      <td>D-cycloserine 50mg bid/100mg bid/200 mg bid</td>\n",
       "      <td>D-cycloserine 50 mg bid; D-cycloserine 100 mg ...</td>\n",
       "      <td>EXPERIMENTAL</td>\n",
       "    </tr>\n",
       "    <tr>\n",
       "      <th>1</th>\n",
       "      <td>NCT00125528</td>\n",
       "      <td>D-cycloserine 50mg bid/100mg bid/200 mg bid</td>\n",
       "      <td>placebo bid</td>\n",
       "      <td>EXPERIMENTAL</td>\n",
       "    </tr>\n",
       "    <tr>\n",
       "      <th>2</th>\n",
       "      <td>NCT00125528</td>\n",
       "      <td>placebo</td>\n",
       "      <td>D-cycloserine 50 mg bid; D-cycloserine 100 mg ...</td>\n",
       "      <td>PLACEBO_COMPARATOR</td>\n",
       "    </tr>\n",
       "    <tr>\n",
       "      <th>3</th>\n",
       "      <td>NCT00125528</td>\n",
       "      <td>placebo</td>\n",
       "      <td>placebo bid</td>\n",
       "      <td>PLACEBO_COMPARATOR</td>\n",
       "    </tr>\n",
       "    <tr>\n",
       "      <th>4</th>\n",
       "      <td>NCT00170209</td>\n",
       "      <td>The experimental arm will be daily self-admini...</td>\n",
       "      <td>The dosage of the medication is determined acc...</td>\n",
       "      <td>ACTIVE_COMPARATOR</td>\n",
       "    </tr>\n",
       "    <tr>\n",
       "      <th>...</th>\n",
       "      <td>...</td>\n",
       "      <td>...</td>\n",
       "      <td>...</td>\n",
       "      <td>...</td>\n",
       "    </tr>\n",
       "    <tr>\n",
       "      <th>758219</th>\n",
       "      <td>NCT06875674</td>\n",
       "      <td>This group will received selenium in tablet (1...</td>\n",
       "      <td>selenium supplementation in tablet (100 microg...</td>\n",
       "      <td>ACTIVE_COMPARATOR</td>\n",
       "    </tr>\n",
       "    <tr>\n",
       "      <th>758220</th>\n",
       "      <td>NCT06875674</td>\n",
       "      <td>The control group received strawberries (contr...</td>\n",
       "      <td>control strawberry supplementation (100 grams/...</td>\n",
       "      <td>PLACEBO_COMPARATOR</td>\n",
       "    </tr>\n",
       "    <tr>\n",
       "      <th>758221</th>\n",
       "      <td>NCT06875674</td>\n",
       "      <td>The control group received strawberries (contr...</td>\n",
       "      <td>selenium biofortified strawberry supplementati...</td>\n",
       "      <td>PLACEBO_COMPARATOR</td>\n",
       "    </tr>\n",
       "    <tr>\n",
       "      <th>758222</th>\n",
       "      <td>NCT06875674</td>\n",
       "      <td>The control group received strawberries (contr...</td>\n",
       "      <td>selenium supplementation in tablet (100 microg...</td>\n",
       "      <td>PLACEBO_COMPARATOR</td>\n",
       "    </tr>\n",
       "    <tr>\n",
       "      <th>758223</th>\n",
       "      <td>NCT06875687</td>\n",
       "      <td>This study arm consists of healthy female part...</td>\n",
       "      <td>This intervention consists of a prostaglandin ...</td>\n",
       "      <td>EXPERIMENTAL</td>\n",
       "    </tr>\n",
       "  </tbody>\n",
       "</table>\n",
       "<p>758224 rows × 4 columns</p>\n",
       "</div>"
      ],
      "text/plain": [
       "             nct_id                          design_groups_description  \\\n",
       "0       NCT00125528        D-cycloserine 50mg bid/100mg bid/200 mg bid   \n",
       "1       NCT00125528        D-cycloserine 50mg bid/100mg bid/200 mg bid   \n",
       "2       NCT00125528                                            placebo   \n",
       "3       NCT00125528                                            placebo   \n",
       "4       NCT00170209  The experimental arm will be daily self-admini...   \n",
       "...             ...                                                ...   \n",
       "758219  NCT06875674  This group will received selenium in tablet (1...   \n",
       "758220  NCT06875674  The control group received strawberries (contr...   \n",
       "758221  NCT06875674  The control group received strawberries (contr...   \n",
       "758222  NCT06875674  The control group received strawberries (contr...   \n",
       "758223  NCT06875687  This study arm consists of healthy female part...   \n",
       "\n",
       "                                interventions_description          group_type  \n",
       "0       D-cycloserine 50 mg bid; D-cycloserine 100 mg ...        EXPERIMENTAL  \n",
       "1                                             placebo bid        EXPERIMENTAL  \n",
       "2       D-cycloserine 50 mg bid; D-cycloserine 100 mg ...  PLACEBO_COMPARATOR  \n",
       "3                                             placebo bid  PLACEBO_COMPARATOR  \n",
       "4       The dosage of the medication is determined acc...   ACTIVE_COMPARATOR  \n",
       "...                                                   ...                 ...  \n",
       "758219  selenium supplementation in tablet (100 microg...   ACTIVE_COMPARATOR  \n",
       "758220  control strawberry supplementation (100 grams/...  PLACEBO_COMPARATOR  \n",
       "758221  selenium biofortified strawberry supplementati...  PLACEBO_COMPARATOR  \n",
       "758222  selenium supplementation in tablet (100 microg...  PLACEBO_COMPARATOR  \n",
       "758223  This intervention consists of a prostaglandin ...        EXPERIMENTAL  \n",
       "\n",
       "[758224 rows x 4 columns]"
      ]
     },
     "execution_count": 61,
     "metadata": {},
     "output_type": "execute_result"
    }
   ],
   "source": [
    "my_intervention_methods3"
   ]
  },
  {
   "cell_type": "code",
   "execution_count": 62,
   "id": "5f77d7db",
   "metadata": {},
   "outputs": [
    {
     "data": {
      "application/vnd.microsoft.datawrangler.viewer.v0+json": {
       "columns": [
        {
         "name": "index",
         "rawType": "int64",
         "type": "integer"
        },
        {
         "name": "nct_id",
         "rawType": "object",
         "type": "string"
        },
        {
         "name": "Standard_Care",
         "rawType": "object",
         "type": "string"
        }
       ],
       "ref": "cdcbf199-c587-4e64-abf0-84f8aba2ea1a",
       "rows": [
        [
         "0",
         "NCT00170209",
         "Yes"
        ],
        [
         "1",
         "NCT00459641",
         "Yes"
        ],
        [
         "2",
         "NCT00700154",
         "Yes"
        ],
        [
         "3",
         "NCT00795028",
         "Yes"
        ],
        [
         "4",
         "NCT00826059",
         "Yes"
        ],
        [
         "5",
         "NCT00983476",
         "Yes"
        ],
        [
         "6",
         "NCT00984724",
         "Yes"
        ],
        [
         "7",
         "NCT01040858",
         "Yes"
        ],
        [
         "8",
         "NCT01045694",
         "Yes"
        ],
        [
         "9",
         "NCT01062022",
         "Yes"
        ],
        [
         "10",
         "NCT01079000",
         "Yes"
        ],
        [
         "11",
         "NCT01086540",
         "Yes"
        ],
        [
         "12",
         "NCT01094132",
         "Yes"
        ],
        [
         "13",
         "NCT01113190",
         "Yes"
        ],
        [
         "14",
         "NCT01116739",
         "Yes"
        ],
        [
         "15",
         "NCT01117454",
         "Yes"
        ],
        [
         "16",
         "NCT01119300",
         "Yes"
        ],
        [
         "17",
         "NCT01120080",
         "Yes"
        ],
        [
         "18",
         "NCT01123967",
         "Yes"
        ],
        [
         "19",
         "NCT01125735",
         "Yes"
        ],
        [
         "20",
         "NCT01130740",
         "Yes"
        ],
        [
         "21",
         "NCT01131611",
         "Yes"
        ],
        [
         "22",
         "NCT01134510",
         "Yes"
        ],
        [
         "23",
         "NCT01135420",
         "Yes"
        ],
        [
         "24",
         "NCT01143896",
         "Yes"
        ],
        [
         "25",
         "NCT01146821",
         "Yes"
        ],
        [
         "26",
         "NCT01151761",
         "Yes"
        ],
        [
         "27",
         "NCT01156610",
         "Yes"
        ],
        [
         "28",
         "NCT01157676",
         "Yes"
        ],
        [
         "29",
         "NCT01164722",
         "Yes"
        ],
        [
         "30",
         "NCT01167855",
         "Yes"
        ],
        [
         "31",
         "NCT01168024",
         "Yes"
        ],
        [
         "32",
         "NCT01172236",
         "Yes"
        ],
        [
         "33",
         "NCT01176396",
         "Yes"
        ],
        [
         "34",
         "NCT01177137",
         "Yes"
        ],
        [
         "35",
         "NCT01186029",
         "Yes"
        ],
        [
         "36",
         "NCT01188135",
         "Yes"
        ],
        [
         "37",
         "NCT01195220",
         "Yes"
        ],
        [
         "38",
         "NCT01197196",
         "Yes"
        ],
        [
         "39",
         "NCT01200459",
         "Yes"
        ],
        [
         "40",
         "NCT01200485",
         "Yes"
        ],
        [
         "41",
         "NCT01200914",
         "Yes"
        ],
        [
         "42",
         "NCT01204333",
         "Yes"
        ],
        [
         "43",
         "NCT01208428",
         "Yes"
        ],
        [
         "44",
         "NCT01214980",
         "Yes"
        ],
        [
         "45",
         "NCT01217151",
         "Yes"
        ],
        [
         "46",
         "NCT01221311",
         "Yes"
        ],
        [
         "47",
         "NCT01229722",
         "Yes"
        ],
        [
         "48",
         "NCT01230489",
         "Yes"
        ],
        [
         "49",
         "NCT01230502",
         "Yes"
        ]
       ],
       "shape": {
        "columns": 2,
        "rows": 10857
       }
      },
      "text/html": [
       "<div>\n",
       "<style scoped>\n",
       "    .dataframe tbody tr th:only-of-type {\n",
       "        vertical-align: middle;\n",
       "    }\n",
       "\n",
       "    .dataframe tbody tr th {\n",
       "        vertical-align: top;\n",
       "    }\n",
       "\n",
       "    .dataframe thead th {\n",
       "        text-align: right;\n",
       "    }\n",
       "</style>\n",
       "<table border=\"1\" class=\"dataframe\">\n",
       "  <thead>\n",
       "    <tr style=\"text-align: right;\">\n",
       "      <th></th>\n",
       "      <th>nct_id</th>\n",
       "      <th>Standard_Care</th>\n",
       "    </tr>\n",
       "  </thead>\n",
       "  <tbody>\n",
       "    <tr>\n",
       "      <th>0</th>\n",
       "      <td>NCT00170209</td>\n",
       "      <td>Yes</td>\n",
       "    </tr>\n",
       "    <tr>\n",
       "      <th>1</th>\n",
       "      <td>NCT00459641</td>\n",
       "      <td>Yes</td>\n",
       "    </tr>\n",
       "    <tr>\n",
       "      <th>2</th>\n",
       "      <td>NCT00700154</td>\n",
       "      <td>Yes</td>\n",
       "    </tr>\n",
       "    <tr>\n",
       "      <th>3</th>\n",
       "      <td>NCT00795028</td>\n",
       "      <td>Yes</td>\n",
       "    </tr>\n",
       "    <tr>\n",
       "      <th>4</th>\n",
       "      <td>NCT00826059</td>\n",
       "      <td>Yes</td>\n",
       "    </tr>\n",
       "    <tr>\n",
       "      <th>...</th>\n",
       "      <td>...</td>\n",
       "      <td>...</td>\n",
       "    </tr>\n",
       "    <tr>\n",
       "      <th>10852</th>\n",
       "      <td>NCT06863922</td>\n",
       "      <td>Yes</td>\n",
       "    </tr>\n",
       "    <tr>\n",
       "      <th>10853</th>\n",
       "      <td>NCT06864429</td>\n",
       "      <td>Yes</td>\n",
       "    </tr>\n",
       "    <tr>\n",
       "      <th>10854</th>\n",
       "      <td>NCT06867939</td>\n",
       "      <td>Yes</td>\n",
       "    </tr>\n",
       "    <tr>\n",
       "      <th>10855</th>\n",
       "      <td>NCT06868420</td>\n",
       "      <td>Yes</td>\n",
       "    </tr>\n",
       "    <tr>\n",
       "      <th>10856</th>\n",
       "      <td>NCT06869798</td>\n",
       "      <td>Yes</td>\n",
       "    </tr>\n",
       "  </tbody>\n",
       "</table>\n",
       "<p>10857 rows × 2 columns</p>\n",
       "</div>"
      ],
      "text/plain": [
       "            nct_id Standard_Care\n",
       "0      NCT00170209           Yes\n",
       "1      NCT00459641           Yes\n",
       "2      NCT00700154           Yes\n",
       "3      NCT00795028           Yes\n",
       "4      NCT00826059           Yes\n",
       "...            ...           ...\n",
       "10852  NCT06863922           Yes\n",
       "10853  NCT06864429           Yes\n",
       "10854  NCT06867939           Yes\n",
       "10855  NCT06868420           Yes\n",
       "10856  NCT06869798           Yes\n",
       "\n",
       "[10857 rows x 2 columns]"
      ]
     },
     "execution_count": 62,
     "metadata": {},
     "output_type": "execute_result"
    }
   ],
   "source": [
    "my_soc = my_intervention_methods3.copy()\n",
    "\n",
    "pattern = r\"(?:standard|usual)\\s*(?:of\\s*)?(?:therapy|care|treatment|CPR)\\b\"\n",
    "\n",
    "# Apply condition to create the new column\n",
    "my_soc['Standard_Care'] = (\n",
    "    my_soc[\"design_groups_description\"].str.contains(pattern, case=False, na=False) |\n",
    "    my_soc[\"interventions_description\"].str.contains(pattern, case=False, na=False)\n",
    "    ).map({True: \"Yes\", False: np.nan})\n",
    "\n",
    "my_soc = my_soc[['nct_id', 'Standard_Care']].dropna()\n",
    "my_soc = my_soc.drop_duplicates(subset = [\"nct_id\", 'Standard_Care']).reset_index(drop = True)\n",
    "my_soc"
   ]
  },
  {
   "cell_type": "markdown",
   "id": "49cf871f",
   "metadata": {},
   "source": [
    "## my_adverse"
   ]
  },
  {
   "cell_type": "markdown",
   "id": "af59ac22",
   "metadata": {},
   "source": [
    "### my_adverse"
   ]
  },
  {
   "cell_type": "code",
   "execution_count": 63,
   "id": "930ee382",
   "metadata": {},
   "outputs": [
    {
     "data": {
      "application/vnd.microsoft.datawrangler.viewer.v0+json": {
       "columns": [
        {
         "name": "index",
         "rawType": "int64",
         "type": "integer"
        },
        {
         "name": "nct_id",
         "rawType": "object",
         "type": "string"
        },
        {
         "name": "event_type",
         "rawType": "object",
         "type": "unknown"
        },
        {
         "name": "event_count",
         "rawType": "object",
         "type": "unknown"
        },
        {
         "name": "event_sum",
         "rawType": "float64",
         "type": "float"
        }
       ],
       "ref": "d0107c8a-abdf-4442-a6d7-7c81e191b6a5",
       "rows": [
        [
         "0",
         "NCT00125528",
         "['Death', 'Other']",
         "[3.0, 5.0]",
         "8.0"
        ],
        [
         "1",
         "NCT00170209",
         "[]",
         "[]",
         "0.0"
        ],
        [
         "2",
         "NCT00183482",
         "[]",
         "[]",
         "0.0"
        ],
        [
         "3",
         "NCT00194714",
         "['Death', 'Other', 'Serious']",
         "[3.0, 11.0, 21.0]",
         "35.0"
        ],
        [
         "4",
         "NCT00258791",
         "[]",
         "[]",
         "0.0"
        ],
        [
         "5",
         "NCT00263432",
         "[]",
         "[]",
         "0.0"
        ],
        [
         "6",
         "NCT00293735",
         "[]",
         "[]",
         "0.0"
        ],
        [
         "7",
         "NCT00306059",
         "[]",
         "[]",
         "0.0"
        ],
        [
         "8",
         "NCT00307905",
         "[]",
         "[]",
         "0.0"
        ],
        [
         "9",
         "NCT00323141",
         "[]",
         "[]",
         "0.0"
        ],
        [
         "10",
         "NCT00328809",
         "[]",
         "[]",
         "0.0"
        ],
        [
         "11",
         "NCT00329641",
         "['Death', 'Other', 'Serious']",
         "[2.0, 23.0]",
         "25.0"
        ],
        [
         "12",
         "NCT00356317",
         "[]",
         "[]",
         "0.0"
        ],
        [
         "13",
         "NCT00362219",
         "[]",
         "[]",
         "0.0"
        ],
        [
         "14",
         "NCT00364000",
         "[]",
         "[]",
         "0.0"
        ],
        [
         "15",
         "NCT00372762",
         "[]",
         "[]",
         "0.0"
        ],
        [
         "16",
         "NCT00397501",
         "[]",
         "[]",
         "0.0"
        ],
        [
         "17",
         "NCT00397579",
         "['Other']",
         "[11.0]",
         "11.0"
        ],
        [
         "18",
         "NCT00399594",
         "[]",
         "[]",
         "0.0"
        ],
        [
         "19",
         "NCT00412048",
         "[]",
         "[]",
         "0.0"
        ],
        [
         "20",
         "NCT00422422",
         "['Death', 'Other', 'Serious']",
         "[8.0, 33.0]",
         "41.0"
        ],
        [
         "21",
         "NCT00442494",
         "[]",
         "[]",
         "0.0"
        ],
        [
         "22",
         "NCT00448201",
         "['Death', 'Serious']",
         "[7.0, 44.0]",
         "51.0"
        ],
        [
         "23",
         "NCT00455039",
         "[]",
         "[]",
         "0.0"
        ],
        [
         "24",
         "NCT00455052",
         "[]",
         "[]",
         "0.0"
        ],
        [
         "25",
         "NCT00459641",
         "[]",
         "[]",
         "0.0"
        ],
        [
         "26",
         "NCT00476255",
         "[]",
         "[]",
         "0.0"
        ],
        [
         "27",
         "NCT00488605",
         "[]",
         "[]",
         "0.0"
        ],
        [
         "28",
         "NCT00493701",
         "[]",
         "[]",
         "0.0"
        ],
        [
         "29",
         "NCT00504322",
         "[]",
         "[]",
         "0.0"
        ],
        [
         "30",
         "NCT00520624",
         "[]",
         "[]",
         "0.0"
        ],
        [
         "31",
         "NCT00532584",
         "[]",
         "[]",
         "0.0"
        ],
        [
         "32",
         "NCT00534235",
         "['Other', 'Serious']",
         "[64.0, 101.0, 109.0, 199.0]",
         "473.0"
        ],
        [
         "33",
         "NCT00534404",
         "['Death', 'Serious']",
         "[2.0, 3.0]",
         "5.0"
        ],
        [
         "34",
         "NCT00534703",
         "['Death', 'Other', 'Serious']",
         "[1.0, 2.0, 4.0]",
         "7.0"
        ],
        [
         "35",
         "NCT00554996",
         "['Death', 'Other']",
         "[5.0]",
         "5.0"
        ],
        [
         "36",
         "NCT00570050",
         "[]",
         "[]",
         "0.0"
        ],
        [
         "37",
         "NCT00571246",
         "[]",
         "[]",
         "0.0"
        ],
        [
         "38",
         "NCT00572533",
         "['Death', 'Other', 'Serious']",
         "[16.0, 17.0, 18.0, 19.0]",
         "70.0"
        ],
        [
         "39",
         "NCT00572689",
         "[]",
         "[]",
         "0.0"
        ],
        [
         "40",
         "NCT00576771",
         "[]",
         "[]",
         "0.0"
        ],
        [
         "41",
         "NCT00580580",
         "[]",
         "[]",
         "0.0"
        ],
        [
         "42",
         "NCT00591877",
         "[]",
         "[]",
         "0.0"
        ],
        [
         "43",
         "NCT00593164",
         "[]",
         "[]",
         "0.0"
        ],
        [
         "44",
         "NCT00596856",
         "[]",
         "[]",
         "0.0"
        ],
        [
         "45",
         "NCT00601952",
         "['Death']",
         "[]",
         "0.0"
        ],
        [
         "46",
         "NCT00603460",
         "[]",
         "[]",
         "0.0"
        ],
        [
         "47",
         "NCT00613418",
         "[]",
         "[]",
         "0.0"
        ],
        [
         "48",
         "NCT00623948",
         "[]",
         "[]",
         "0.0"
        ],
        [
         "49",
         "NCT00640094",
         "[]",
         "[]",
         "0.0"
        ]
       ],
       "shape": {
        "columns": 4,
        "rows": 182236
       }
      },
      "text/html": [
       "<div>\n",
       "<style scoped>\n",
       "    .dataframe tbody tr th:only-of-type {\n",
       "        vertical-align: middle;\n",
       "    }\n",
       "\n",
       "    .dataframe tbody tr th {\n",
       "        vertical-align: top;\n",
       "    }\n",
       "\n",
       "    .dataframe thead th {\n",
       "        text-align: right;\n",
       "    }\n",
       "</style>\n",
       "<table border=\"1\" class=\"dataframe\">\n",
       "  <thead>\n",
       "    <tr style=\"text-align: right;\">\n",
       "      <th></th>\n",
       "      <th>nct_id</th>\n",
       "      <th>event_type</th>\n",
       "      <th>event_count</th>\n",
       "      <th>event_sum</th>\n",
       "    </tr>\n",
       "  </thead>\n",
       "  <tbody>\n",
       "    <tr>\n",
       "      <th>0</th>\n",
       "      <td>NCT00125528</td>\n",
       "      <td>[Death, Other]</td>\n",
       "      <td>[3.0, 5.0]</td>\n",
       "      <td>8.0</td>\n",
       "    </tr>\n",
       "    <tr>\n",
       "      <th>1</th>\n",
       "      <td>NCT00170209</td>\n",
       "      <td>[]</td>\n",
       "      <td>[]</td>\n",
       "      <td>0.0</td>\n",
       "    </tr>\n",
       "    <tr>\n",
       "      <th>2</th>\n",
       "      <td>NCT00183482</td>\n",
       "      <td>[]</td>\n",
       "      <td>[]</td>\n",
       "      <td>0.0</td>\n",
       "    </tr>\n",
       "    <tr>\n",
       "      <th>3</th>\n",
       "      <td>NCT00194714</td>\n",
       "      <td>[Death, Other, Serious]</td>\n",
       "      <td>[3.0, 11.0, 21.0]</td>\n",
       "      <td>35.0</td>\n",
       "    </tr>\n",
       "    <tr>\n",
       "      <th>4</th>\n",
       "      <td>NCT00258791</td>\n",
       "      <td>[]</td>\n",
       "      <td>[]</td>\n",
       "      <td>0.0</td>\n",
       "    </tr>\n",
       "    <tr>\n",
       "      <th>...</th>\n",
       "      <td>...</td>\n",
       "      <td>...</td>\n",
       "      <td>...</td>\n",
       "      <td>...</td>\n",
       "    </tr>\n",
       "    <tr>\n",
       "      <th>182231</th>\n",
       "      <td>NCT06875349</td>\n",
       "      <td>[]</td>\n",
       "      <td>[]</td>\n",
       "      <td>0.0</td>\n",
       "    </tr>\n",
       "    <tr>\n",
       "      <th>182232</th>\n",
       "      <td>NCT06875557</td>\n",
       "      <td>[]</td>\n",
       "      <td>[]</td>\n",
       "      <td>0.0</td>\n",
       "    </tr>\n",
       "    <tr>\n",
       "      <th>182233</th>\n",
       "      <td>NCT06875661</td>\n",
       "      <td>[]</td>\n",
       "      <td>[]</td>\n",
       "      <td>0.0</td>\n",
       "    </tr>\n",
       "    <tr>\n",
       "      <th>182234</th>\n",
       "      <td>NCT06875674</td>\n",
       "      <td>[]</td>\n",
       "      <td>[]</td>\n",
       "      <td>0.0</td>\n",
       "    </tr>\n",
       "    <tr>\n",
       "      <th>182235</th>\n",
       "      <td>NCT06875687</td>\n",
       "      <td>[]</td>\n",
       "      <td>[]</td>\n",
       "      <td>0.0</td>\n",
       "    </tr>\n",
       "  </tbody>\n",
       "</table>\n",
       "<p>182236 rows × 4 columns</p>\n",
       "</div>"
      ],
      "text/plain": [
       "             nct_id               event_type        event_count  event_sum\n",
       "0       NCT00125528           [Death, Other]         [3.0, 5.0]        8.0\n",
       "1       NCT00170209                       []                 []        0.0\n",
       "2       NCT00183482                       []                 []        0.0\n",
       "3       NCT00194714  [Death, Other, Serious]  [3.0, 11.0, 21.0]       35.0\n",
       "4       NCT00258791                       []                 []        0.0\n",
       "...             ...                      ...                ...        ...\n",
       "182231  NCT06875349                       []                 []        0.0\n",
       "182232  NCT06875557                       []                 []        0.0\n",
       "182233  NCT06875661                       []                 []        0.0\n",
       "182234  NCT06875674                       []                 []        0.0\n",
       "182235  NCT06875687                       []                 []        0.0\n",
       "\n",
       "[182236 rows x 4 columns]"
      ]
     },
     "execution_count": 63,
     "metadata": {},
     "output_type": "execute_result"
    }
   ],
   "source": [
    "create_table_sql = \"\"\"\n",
    "DROP TABLE IF EXISTS ctgov.my_adverse;\n",
    "\n",
    "CREATE TABLE ctgov.my_adverse AS\n",
    "SELECT DISTINCT ON \n",
    "(\n",
    "  studies.nct_id, \n",
    "\treported_event_totals.event_type,\n",
    "\treported_event_totals.subjects_affected\n",
    "  )\n",
    "  studies.nct_id, \n",
    "\treported_event_totals.event_type,\n",
    "\treported_event_totals.subjects_affected as event_count\n",
    "\t\n",
    "FROM ctgov.studies\n",
    "LEFT JOIN ctgov.reported_event_totals\n",
    "  ON studies.nct_id = reported_event_totals.nct_id\n",
    "\n",
    "WHERE TO_CHAR(studies.start_date, 'YYYY-MM') >= '2011-01'\n",
    "  AND studies.study_type = 'INTERVENTIONAL'\n",
    "  AND studies.overall_status IN ('COMPLETED', 'WITHDRAWN', 'TERMINATED')\n",
    "\n",
    "ORDER BY \n",
    "\tstudies.nct_id, \n",
    "    reported_event_totals.event_type;\n",
    "\"\"\"\n",
    "\n",
    "\"\"\"with engine.connect() as conn:\n",
    "    conn.execute(text(create_table_sql))\n",
    "    conn.commit()\"\"\"\n",
    "\n",
    "# drop_withdrawals.reason as withrawals_reason,\n",
    "# drop_withdrawals.count as withrawals_count,\n",
    "#\treported_event_totals.classification,\n",
    "#\treported_event_totals.classification as event_classification,\n",
    "\n",
    "# LEFT JOIN ctgov.drop_withdrawals\n",
    "# ON studies.nct_id = drop_withdrawals.nct_id\n",
    "\n",
    "my_adverse = pd.read_sql(\"select * from ctgov.my_adverse;\", con = engine)\n",
    "my_adverse = my_adverse.replace({'other':'Other', 'serious':'Serious', 'deaths': 'Death'})  # Do not replace [] --> event_count is needed as 0\n",
    "my_adverse.loc[my_adverse[\"event_count\"] == 0.0, [\"event_type\", \"event_count\"]] = np.nan    # nan = []\n",
    "my_adverse = my_adverse.groupby(\"nct_id\").agg({\n",
    "    \"event_type\": lambda x: sorted(set(i for i in x if pd.notnull(i))),\n",
    "    \"event_count\": lambda x: sorted(set(i for i in x if pd.notnull(i))),\n",
    "}).reset_index()\n",
    "my_adverse[\"event_sum\"] = my_adverse[\"event_count\"].apply(lambda x: sum(i for i in x if pd.notnull(i)))\n",
    "my_adverse"
   ]
  },
  {
   "cell_type": "markdown",
   "id": "185d4214",
   "metadata": {},
   "source": [
    "### my_adverse_system"
   ]
  },
  {
   "cell_type": "code",
   "execution_count": 64,
   "id": "6408bed9",
   "metadata": {},
   "outputs": [
    {
     "data": {
      "application/vnd.microsoft.datawrangler.viewer.v0+json": {
       "columns": [
        {
         "name": "index",
         "rawType": "int64",
         "type": "integer"
        },
        {
         "name": "nct_id",
         "rawType": "object",
         "type": "string"
        },
        {
         "name": "organ_system",
         "rawType": "object",
         "type": "unknown"
        }
       ],
       "ref": "b30aafed-8610-479d-96e7-00b836b2fc91",
       "rows": [
        [
         "0",
         "NCT00125528",
         "['General', 'Nervous System', 'Skin']"
        ],
        [
         "1",
         "NCT00194714",
         "['Blood/ Lymphatic', 'Cardio', 'Eye', 'Gastrointestinal', 'General', 'Infections', 'Injury/ Poisoning/ Procedural', 'Investigations', 'Metabolism/ Nutrition', 'Musculoskeletal', 'Nervous System', 'Psychiatric/ Social', 'Renal/ Urinary', 'Reproductive/ Breast', 'Respiratory', 'Skin', 'Surgical/ Medical', 'Vascular']"
        ],
        [
         "2",
         "NCT00329641",
         "['Blood/ Lymphatic', 'Eye', 'Gastrointestinal', 'General', 'Immune System', 'Investigations', 'Metabolism/ Nutrition', 'Musculoskeletal', 'Nervous System', 'Psychiatric/ Social', 'Respiratory', 'Skin', 'Vascular']"
        ],
        [
         "3",
         "NCT00397579",
         "['Blood/ Lymphatic', 'Hepatobiliary']"
        ],
        [
         "4",
         "NCT00422422",
         "['Gastrointestinal', 'General', 'Infections', 'Investigations', 'Metabolism/ Nutrition', 'Nervous System']"
        ],
        [
         "5",
         "NCT00448201",
         "['Blood/ Lymphatic', 'Gastrointestinal', 'General', 'Hepatobiliary', 'Infections', 'Vascular']"
        ],
        [
         "6",
         "NCT00534235",
         "['Blood/ Lymphatic', 'Cardio', 'Ear', 'Endocrine', 'Gastrointestinal', 'General', 'Immune System', 'Metabolism/ Nutrition', 'Musculoskeletal', 'Neoplasms', 'Nervous System', 'Psychiatric/ Social', 'Respiratory', 'Skin']"
        ],
        [
         "7",
         "NCT00534404",
         "['Cardio', 'General']"
        ],
        [
         "8",
         "NCT00534703",
         "['Blood/ Lymphatic', 'Cardio', 'General', 'Infections', 'Injury/ Poisoning/ Procedural', 'Metabolism/ Nutrition', 'Product Issues', 'Respiratory', 'Skin', 'Surgical/ Medical']"
        ],
        [
         "9",
         "NCT00554996",
         "['Renal/ Urinary']"
        ],
        [
         "10",
         "NCT00572533",
         "['General', 'Surgical/ Medical']"
        ],
        [
         "11",
         "NCT00669162",
         "['Blood/ Lymphatic', 'Cardio', 'Endocrine', 'Gastrointestinal', 'General', 'Immune System', 'Infections', 'Investigations', 'Metabolism/ Nutrition', 'Musculoskeletal', 'Nervous System', 'Psychiatric/ Social', 'Renal/ Urinary', 'Reproductive/ Breast', 'Respiratory', 'Skin']"
        ],
        [
         "12",
         "NCT00737893",
         "['Surgical/ Medical']"
        ],
        [
         "13",
         "NCT00764478",
         "['Gastrointestinal', 'Infections', 'Injury/ Poisoning/ Procedural', 'Metabolism/ Nutrition', 'Nervous System', 'Psychiatric/ Social']"
        ],
        [
         "14",
         "NCT00799864",
         "['Blood/ Lymphatic', 'Cardio', 'Eye', 'Gastrointestinal', 'General', 'Immune System', 'Infections', 'Investigations', 'Metabolism/ Nutrition', 'Nervous System', 'Psychiatric/ Social', 'Renal/ Urinary', 'Reproductive/ Breast', 'Respiratory', 'Skin', 'Surgical/ Medical']"
        ],
        [
         "15",
         "NCT00815516",
         "['Blood/ Lymphatic', 'Gastrointestinal', 'General', 'Hepatobiliary', 'Infections', 'Injury/ Poisoning/ Procedural', 'Investigations', 'Metabolism/ Nutrition', 'Musculoskeletal', 'Nervous System', 'Psychiatric/ Social', 'Renal/ Urinary', 'Reproductive/ Breast', 'Respiratory', 'Skin', 'Vascular']"
        ],
        [
         "16",
         "NCT00828009",
         "['Blood/ Lymphatic', 'Cardio', 'Gastrointestinal', 'General', 'Immune System', 'Infections', 'Injury/ Poisoning/ Procedural', 'Investigations', 'Metabolism/ Nutrition', 'Musculoskeletal', 'Neoplasms', 'Nervous System', 'Psychiatric/ Social', 'Renal/ Urinary', 'Respiratory', 'Skin', 'Vascular']"
        ],
        [
         "17",
         "NCT00831480",
         "['Skin', 'Surgical/ Medical']"
        ],
        [
         "18",
         "NCT00853489",
         "['Surgical/ Medical']"
        ],
        [
         "19",
         "NCT00865514",
         "['Nervous System']"
        ],
        [
         "20",
         "NCT00869024",
         "['Blood/ Lymphatic', 'Cardio', 'General', 'Hepatobiliary', 'Infections', 'Neoplasms', 'Renal/ Urinary']"
        ],
        [
         "21",
         "NCT00890916",
         "['Infections']"
        ],
        [
         "22",
         "NCT00897715",
         "['Cardio', 'Gastrointestinal', 'General', 'Infections', 'Nervous System', 'Skin']"
        ],
        [
         "23",
         "NCT00906945",
         "['Blood/ Lymphatic', 'Cardio', 'Eye', 'Gastrointestinal', 'General', 'Genetic', 'Immune System', 'Infections', 'Injury/ Poisoning/ Procedural', 'Investigations', 'Metabolism/ Nutrition', 'Musculoskeletal', 'Neoplasms', 'Nervous System', 'Psychiatric/ Social', 'Renal/ Urinary', 'Respiratory', 'Skin', 'Vascular']"
        ],
        [
         "24",
         "NCT00908947",
         "['Blood/ Lymphatic', 'Cardio', 'Eye', 'Gastrointestinal', 'General', 'Hepatobiliary', 'Infections', 'Injury/ Poisoning/ Procedural', 'Investigations', 'Metabolism/ Nutrition', 'Musculoskeletal', 'Neoplasms', 'Nervous System', 'Renal/ Urinary', 'Reproductive/ Breast', 'Respiratory', 'Skin', 'Surgical/ Medical', 'Vascular']"
        ],
        [
         "25",
         "NCT00913978",
         "['Cardio', 'Renal/ Urinary', 'Respiratory', 'Vascular']"
        ],
        [
         "26",
         "NCT00920140",
         "['Blood/ Lymphatic', 'Cardio', 'Eye', 'Gastrointestinal', 'General', 'Hepatobiliary', 'Immune System', 'Infections', 'Injury/ Poisoning/ Procedural', 'Investigations', 'Metabolism/ Nutrition', 'Musculoskeletal', 'Nervous System', 'Psychiatric/ Social', 'Renal/ Urinary', 'Respiratory', 'Skin', 'Vascular']"
        ],
        [
         "27",
         "NCT00928135",
         "['Gastrointestinal', 'Hepatobiliary', 'Respiratory', 'Vascular']"
        ],
        [
         "28",
         "NCT00934700",
         "['General', 'Skin']"
        ],
        [
         "29",
         "NCT00940992",
         "['Gastrointestinal', 'General', 'Infections', 'Injury/ Poisoning/ Procedural', 'Metabolism/ Nutrition', 'Musculoskeletal', 'Nervous System', 'Psychiatric/ Social', 'Reproductive/ Breast', 'Respiratory']"
        ],
        [
         "30",
         "NCT00942084",
         "['Blood/ Lymphatic', 'Cardio', 'Endocrine', 'General', 'Genetic', 'Hepatobiliary', 'Infections', 'Investigations', 'Metabolism/ Nutrition', 'Neoplasms', 'Nervous System', 'Renal/ Urinary', 'Respiratory', 'Skin']"
        ],
        [
         "31",
         "NCT00943319",
         "['Blood/ Lymphatic', 'Nervous System']"
        ],
        [
         "32",
         "NCT00957853",
         "['Gastrointestinal', 'General', 'Skin']"
        ],
        [
         "33",
         "NCT00961064",
         "['Blood/ Lymphatic', 'Cardio', 'Eye', 'Gastrointestinal', 'General', 'Infections', 'Injury/ Poisoning/ Procedural', 'Investigations', 'Musculoskeletal', 'Nervous System', 'Psychiatric/ Social', 'Renal/ Urinary', 'Respiratory', 'Skin', 'Surgical/ Medical']"
        ],
        [
         "34",
         "NCT00965458",
         "['Blood/ Lymphatic', 'Ear', 'Endocrine', 'Eye', 'Gastrointestinal', 'General', 'Immune System', 'Infections', 'Injury/ Poisoning/ Procedural', 'Investigations', 'Metabolism/ Nutrition', 'Musculoskeletal', 'Nervous System', 'Reproductive/ Breast', 'Respiratory', 'Skin', 'Vascular']"
        ],
        [
         "35",
         "NCT00965575",
         "['Nervous System']"
        ],
        [
         "36",
         "NCT00978432",
         "['Blood/ Lymphatic', 'Cardio', 'Eye', 'Gastrointestinal', 'General', 'Infections', 'Investigations', 'Metabolism/ Nutrition', 'Musculoskeletal', 'Nervous System', 'Psychiatric/ Social', 'Renal/ Urinary', 'Reproductive/ Breast', 'Respiratory', 'Skin', 'Vascular']"
        ],
        [
         "37",
         "NCT00979212",
         "['Blood/ Lymphatic', 'Cardio', 'Gastrointestinal', 'General', 'Immune System', 'Infections', 'Injury/ Poisoning/ Procedural', 'Investigations', 'Metabolism/ Nutrition', 'Musculoskeletal', 'Neoplasms', 'Nervous System', 'Psychiatric/ Social', 'Renal/ Urinary', 'Respiratory', 'Skin', 'Vascular']"
        ],
        [
         "38",
         "NCT00983476",
         "['Cardio', 'Psychiatric/ Social', 'Respiratory']"
        ],
        [
         "39",
         "NCT00988325",
         "['Eye', 'Gastrointestinal', 'General', 'Infections', 'Respiratory', 'Skin']"
        ],
        [
         "40",
         "NCT00992602",
         "['Blood/ Lymphatic', 'Hepatobiliary']"
        ],
        [
         "41",
         "NCT00995722",
         "['Cardio', 'Endocrine', 'Eye', 'Gastrointestinal', 'Infections', 'Musculoskeletal', 'Nervous System', 'Respiratory', 'Vascular']"
        ],
        [
         "42",
         "NCT00998010",
         "['Blood/ Lymphatic', 'Cardio', 'Endocrine', 'Eye', 'Gastrointestinal', 'General', 'Immune System', 'Infections', 'Metabolism/ Nutrition', 'Musculoskeletal', 'Nervous System', 'Psychiatric/ Social', 'Renal/ Urinary', 'Respiratory', 'Skin']"
        ],
        [
         "43",
         "NCT01003769",
         "['Blood/ Lymphatic', 'Gastrointestinal', 'General', 'Infections', 'Investigations', 'Neoplasms', 'Respiratory', 'Skin']"
        ],
        [
         "44",
         "NCT01004406",
         "['Blood/ Lymphatic', 'Cardio', 'Gastrointestinal', 'General', 'Hepatobiliary', 'Immune System', 'Infections', 'Injury/ Poisoning/ Procedural', 'Musculoskeletal', 'Nervous System', 'Respiratory', 'Vascular']"
        ],
        [
         "45",
         "NCT01009931",
         "['Gastrointestinal', 'General', 'Infections']"
        ],
        [
         "46",
         "NCT01011218",
         "['Cardio', 'Gastrointestinal', 'General', 'Infections', 'Musculoskeletal', 'Nervous System', 'Psychiatric/ Social']"
        ],
        [
         "47",
         "NCT01011413",
         "['Blood/ Lymphatic', 'Eye', 'Gastrointestinal', 'General', 'Hepatobiliary', 'Immune System', 'Infections', 'Injury/ Poisoning/ Procedural', 'Metabolism/ Nutrition', 'Neoplasms', 'Nervous System', 'Pregnancy/ Perinatal', 'Psychiatric/ Social', 'Renal/ Urinary', 'Reproductive/ Breast', 'Respiratory', 'Skin', 'Surgical/ Medical', 'Vascular']"
        ],
        [
         "48",
         "NCT01013961",
         "['Blood/ Lymphatic', 'Cardio', 'Gastrointestinal', 'General', 'Immune System', 'Infections', 'Investigations', 'Metabolism/ Nutrition', 'Musculoskeletal', 'Nervous System', 'Psychiatric/ Social', 'Renal/ Urinary', 'Respiratory', 'Skin', 'Vascular']"
        ],
        [
         "49",
         "NCT01025752",
         "['Cardio', 'General', 'Infections']"
        ]
       ],
       "shape": {
        "columns": 2,
        "rows": 30773
       }
      },
      "text/html": [
       "<div>\n",
       "<style scoped>\n",
       "    .dataframe tbody tr th:only-of-type {\n",
       "        vertical-align: middle;\n",
       "    }\n",
       "\n",
       "    .dataframe tbody tr th {\n",
       "        vertical-align: top;\n",
       "    }\n",
       "\n",
       "    .dataframe thead th {\n",
       "        text-align: right;\n",
       "    }\n",
       "</style>\n",
       "<table border=\"1\" class=\"dataframe\">\n",
       "  <thead>\n",
       "    <tr style=\"text-align: right;\">\n",
       "      <th></th>\n",
       "      <th>nct_id</th>\n",
       "      <th>organ_system</th>\n",
       "    </tr>\n",
       "  </thead>\n",
       "  <tbody>\n",
       "    <tr>\n",
       "      <th>0</th>\n",
       "      <td>NCT00125528</td>\n",
       "      <td>[General, Nervous System, Skin]</td>\n",
       "    </tr>\n",
       "    <tr>\n",
       "      <th>1</th>\n",
       "      <td>NCT00194714</td>\n",
       "      <td>[Blood/ Lymphatic, Cardio, Eye, Gastrointestin...</td>\n",
       "    </tr>\n",
       "    <tr>\n",
       "      <th>2</th>\n",
       "      <td>NCT00329641</td>\n",
       "      <td>[Blood/ Lymphatic, Eye, Gastrointestinal, Gene...</td>\n",
       "    </tr>\n",
       "    <tr>\n",
       "      <th>3</th>\n",
       "      <td>NCT00397579</td>\n",
       "      <td>[Blood/ Lymphatic, Hepatobiliary]</td>\n",
       "    </tr>\n",
       "    <tr>\n",
       "      <th>4</th>\n",
       "      <td>NCT00422422</td>\n",
       "      <td>[Gastrointestinal, General, Infections, Invest...</td>\n",
       "    </tr>\n",
       "    <tr>\n",
       "      <th>...</th>\n",
       "      <td>...</td>\n",
       "      <td>...</td>\n",
       "    </tr>\n",
       "    <tr>\n",
       "      <th>30768</th>\n",
       "      <td>NCT06469138</td>\n",
       "      <td>[Gastrointestinal, General, Infections, Nervou...</td>\n",
       "    </tr>\n",
       "    <tr>\n",
       "      <th>30769</th>\n",
       "      <td>NCT06582732</td>\n",
       "      <td>[Cardio, Eye, Infections, Injury/ Poisoning/ P...</td>\n",
       "    </tr>\n",
       "    <tr>\n",
       "      <th>30770</th>\n",
       "      <td>NCT06610279</td>\n",
       "      <td>[Cardio, Gastrointestinal, General, Infections...</td>\n",
       "    </tr>\n",
       "    <tr>\n",
       "      <th>30771</th>\n",
       "      <td>NCT06655818</td>\n",
       "      <td>[Blood/ Lymphatic, Eye, Gastrointestinal, Gene...</td>\n",
       "    </tr>\n",
       "    <tr>\n",
       "      <th>30772</th>\n",
       "      <td>NCT06688357</td>\n",
       "      <td>[Nervous System]</td>\n",
       "    </tr>\n",
       "  </tbody>\n",
       "</table>\n",
       "<p>30773 rows × 2 columns</p>\n",
       "</div>"
      ],
      "text/plain": [
       "            nct_id                                       organ_system\n",
       "0      NCT00125528                    [General, Nervous System, Skin]\n",
       "1      NCT00194714  [Blood/ Lymphatic, Cardio, Eye, Gastrointestin...\n",
       "2      NCT00329641  [Blood/ Lymphatic, Eye, Gastrointestinal, Gene...\n",
       "3      NCT00397579                  [Blood/ Lymphatic, Hepatobiliary]\n",
       "4      NCT00422422  [Gastrointestinal, General, Infections, Invest...\n",
       "...            ...                                                ...\n",
       "30768  NCT06469138  [Gastrointestinal, General, Infections, Nervou...\n",
       "30769  NCT06582732  [Cardio, Eye, Infections, Injury/ Poisoning/ P...\n",
       "30770  NCT06610279  [Cardio, Gastrointestinal, General, Infections...\n",
       "30771  NCT06655818  [Blood/ Lymphatic, Eye, Gastrointestinal, Gene...\n",
       "30772  NCT06688357                                   [Nervous System]\n",
       "\n",
       "[30773 rows x 2 columns]"
      ]
     },
     "execution_count": 64,
     "metadata": {},
     "output_type": "execute_result"
    }
   ],
   "source": [
    "create_table_sql = \"\"\"\n",
    "DROP TABLE IF EXISTS ctgov.my_adverse_system;\n",
    "\n",
    "CREATE TABLE ctgov.my_adverse_system AS\n",
    "SELECT DISTINCT ON\n",
    "(\n",
    "studies.nct_id,\n",
    "reported_events.organ_system\n",
    ")\n",
    "studies.nct_id,\n",
    "reported_events.organ_system\n",
    "\n",
    "FROM ctgov.reported_events\n",
    "LEFT JOIN ctgov.studies\n",
    "    ON studies.nct_id = reported_events.nct_id\n",
    "\n",
    "WHERE TO_CHAR(studies.start_date, 'YYYY-MM') >= '2011-01'\n",
    "  AND studies.study_type = 'INTERVENTIONAL'\n",
    "  AND studies.overall_status in ('COMPLETED','WITHDRAWN', 'TERMINATED')\n",
    "ORDER BY studies.nct_id;\n",
    "\"\"\"\n",
    "\n",
    "with engine.connect() as conn:\n",
    "    conn.execute(text(create_table_sql))\n",
    "    conn.commit()\n",
    "\n",
    "my_adverse_system = pd.read_sql(\"select * from ctgov.my_adverse_system;\", con = engine)\n",
    "\n",
    "# transformed to more general categories, as samples where to small per category as seen in thesis_vizual.ipyd\n",
    "my_adverse_system['organ_system'] = my_adverse_system['organ_system'].replace({\n",
    "    \n",
    "      'General disorders' : 'General',\n",
    "      'Infections and infestations' : 'Infections',\n",
    "      'Immune system disorders' : 'Immune System',\n",
    "\n",
    "      'Nervous system disorders' : 'Nervous System',\n",
    "      'Psychiatric disorders' : 'Psychiatric/ Social', \n",
    "      'Social circumstances' : 'Social',\n",
    "\n",
    "      'Skin and subcutaneous tissue disorders' : 'Skin',\n",
    "      'Injury, poisoning and procedural complications' : 'Injury/ Poisoning/ Procedural',\n",
    "      'Surgical and medical procedures' : 'Surgical/ Medical', \n",
    "\n",
    "      'Blood and lymphatic system disorders' : 'Blood/ Lymphatic', \n",
    "      'Hepatobiliary disorders' : 'Hepatobiliary',  \n",
    "      'Endocrine disorders' : 'Endocrine',    \n",
    "\n",
    "      'Cardiac disorders' : 'Cardio',\n",
    "      'Vascular disorders': 'Vascular',\n",
    "\n",
    "      'Renal and urinary disorders' : 'Renal/ Urinary',\n",
    "      \n",
    "      'Respiratory, thoracic and mediastinal disorders' : 'Respiratory',\n",
    "\n",
    "      'Gastrointestinal disorders' : 'Gastrointestinal',\n",
    "      'Metabolism and nutrition disorders' : 'Metabolism/ Nutrition',\n",
    "\n",
    "      'Musculoskeletal and connective tissue disorders' : 'Musculoskeletal',\n",
    "\n",
    "      'Ear and labyrinth disorders' : 'Ear', \n",
    "      'Eye disorders' : 'Eye', \n",
    "\n",
    "      'Neoplasms benign, malignant and unspecified (incl cysts and polyps)' : 'Neoplasms',\n",
    "\n",
    "      'Congenital, familial and genetic disorders' : 'Genetic',\n",
    "      'Reproductive system and breast disorders' : 'Reproductive/ Breast',\n",
    "      'Pregnancy, puerperium and perinatal conditions' : 'Pregnancy/ Perinatal'\n",
    "      # 'Investigations',\n",
    "      # 'Product Issues', \n",
    "      })\n",
    "\n",
    "my_adverse_system[\"organ_system\"] = my_adverse_system[\"organ_system\"].replace(r\"\\s*disorders$\", \"\", regex=True)\n",
    "my_adverse_system = my_adverse_system.groupby(\"nct_id\").agg({\"organ_system\": lambda x: sorted(set(i for i in x if pd.notnull(i)))}).reset_index()\n",
    "my_adverse_system"
   ]
  },
  {
   "cell_type": "markdown",
   "id": "8cbcbca0",
   "metadata": {},
   "source": [
    "## my_designs"
   ]
  },
  {
   "cell_type": "code",
   "execution_count": 65,
   "id": "3a07b9ba",
   "metadata": {},
   "outputs": [
    {
     "data": {
      "application/vnd.microsoft.datawrangler.viewer.v0+json": {
       "columns": [
        {
         "name": "index",
         "rawType": "int64",
         "type": "integer"
        },
        {
         "name": "nct_id",
         "rawType": "object",
         "type": "string"
        },
        {
         "name": "allocation",
         "rawType": "object",
         "type": "unknown"
        },
        {
         "name": "intervention_model",
         "rawType": "object",
         "type": "unknown"
        },
        {
         "name": "primary_purpose",
         "rawType": "object",
         "type": "unknown"
        },
        {
         "name": "masking",
         "rawType": "object",
         "type": "unknown"
        },
        {
         "name": "subject_masked",
         "rawType": "object",
         "type": "unknown"
        },
        {
         "name": "caregiver_masked",
         "rawType": "object",
         "type": "unknown"
        },
        {
         "name": "investigator_masked",
         "rawType": "object",
         "type": "unknown"
        },
        {
         "name": "outcomes_assessor_masked",
         "rawType": "object",
         "type": "unknown"
        },
        {
         "name": "masking_detail",
         "rawType": "object",
         "type": "unknown"
        }
       ],
       "ref": "1c551e2f-3e65-4de1-a88f-427a02ce6266",
       "rows": [
        [
         "0",
         "NCT00125528",
         "RANDOMIZED",
         "PARALLEL",
         "TREATMENT",
         "TRIPLE",
         "PARTICIPANT",
         null,
         "INVESTIGATOR",
         "OUTCOMES_ASSESSOR",
         "['OUTCOMES_ASSESSOR', 'PARTICIPANT', 'INVESTIGATOR']"
        ],
        [
         "1",
         "NCT00170209",
         "RANDOMIZED",
         "PARALLEL",
         "TREATMENT",
         "NONE",
         null,
         null,
         null,
         null,
         "[]"
        ],
        [
         "2",
         "NCT00183482",
         "RANDOMIZED",
         "PARALLEL",
         "PREVENTION",
         "DOUBLE",
         null,
         null,
         "INVESTIGATOR",
         "OUTCOMES_ASSESSOR",
         "['OUTCOMES_ASSESSOR', 'INVESTIGATOR']"
        ],
        [
         "3",
         "NCT00194714",
         "NA",
         "SINGLE_GROUP",
         "TREATMENT",
         "NONE",
         null,
         null,
         null,
         null,
         "[]"
        ],
        [
         "4",
         "NCT00258791",
         "RANDOMIZED",
         "CROSSOVER",
         "TREATMENT",
         "DOUBLE",
         "PARTICIPANT",
         null,
         null,
         "OUTCOMES_ASSESSOR",
         "['PARTICIPANT', 'OUTCOMES_ASSESSOR']"
        ],
        [
         "5",
         "NCT00263432",
         "NA",
         "SINGLE_GROUP",
         "TREATMENT",
         "NONE",
         null,
         null,
         null,
         null,
         "[]"
        ],
        [
         "6",
         "NCT00293735",
         "RANDOMIZED",
         "PARALLEL",
         "PREVENTION",
         "NONE",
         null,
         null,
         null,
         null,
         "[]"
        ],
        [
         "7",
         "NCT00306059",
         "RANDOMIZED",
         "PARALLEL",
         "TREATMENT",
         "NONE",
         null,
         null,
         null,
         null,
         "[]"
        ],
        [
         "8",
         "NCT00307905",
         "RANDOMIZED",
         "PARALLEL",
         "TREATMENT",
         "QUADRUPLE",
         "PARTICIPANT",
         "CARE_PROVIDER",
         "INVESTIGATOR",
         "OUTCOMES_ASSESSOR",
         "['CARE_PROVIDER', 'PARTICIPANT', 'OUTCOMES_ASSESSOR', 'INVESTIGATOR']"
        ],
        [
         "9",
         "NCT00323141",
         "RANDOMIZED",
         "SINGLE_GROUP",
         "TREATMENT",
         "NONE",
         null,
         null,
         null,
         null,
         "[]"
        ],
        [
         "10",
         "NCT00328809",
         "NA",
         "SINGLE_GROUP",
         "TREATMENT",
         "NONE",
         null,
         null,
         null,
         null,
         "[]"
        ],
        [
         "11",
         "NCT00329641",
         "NA",
         "SINGLE_GROUP",
         "TREATMENT",
         "NONE",
         null,
         null,
         null,
         null,
         "[]"
        ],
        [
         "12",
         "NCT00356317",
         "RANDOMIZED",
         "PARALLEL",
         "TREATMENT",
         "NONE",
         null,
         null,
         null,
         null,
         "[]"
        ],
        [
         "13",
         "NCT00362219",
         "RANDOMIZED",
         "PARALLEL",
         "TREATMENT",
         "TRIPLE",
         "PARTICIPANT",
         "CARE_PROVIDER",
         null,
         "OUTCOMES_ASSESSOR",
         "['CARE_PROVIDER', 'PARTICIPANT', 'OUTCOMES_ASSESSOR']"
        ],
        [
         "14",
         "NCT00364000",
         "RANDOMIZED",
         "PARALLEL",
         "TREATMENT",
         "NONE",
         null,
         null,
         null,
         null,
         "[]"
        ],
        [
         "15",
         "NCT00372762",
         "RANDOMIZED",
         "CROSSOVER",
         "TREATMENT",
         "QUADRUPLE",
         "PARTICIPANT",
         "CARE_PROVIDER",
         "INVESTIGATOR",
         "OUTCOMES_ASSESSOR",
         "['CARE_PROVIDER', 'PARTICIPANT', 'OUTCOMES_ASSESSOR', 'INVESTIGATOR']"
        ],
        [
         "16",
         "NCT00397501",
         "NON_RANDOMIZED",
         "PARALLEL",
         "TREATMENT",
         "NONE",
         null,
         null,
         null,
         null,
         "[]"
        ],
        [
         "17",
         "NCT00397579",
         "NA",
         "SINGLE_GROUP",
         "TREATMENT",
         "NONE",
         null,
         null,
         null,
         null,
         "[]"
        ],
        [
         "18",
         "NCT00399594",
         "RANDOMIZED",
         "PARALLEL",
         "TREATMENT",
         "TRIPLE",
         "PARTICIPANT",
         "CARE_PROVIDER",
         null,
         "OUTCOMES_ASSESSOR",
         "['CARE_PROVIDER', 'PARTICIPANT', 'OUTCOMES_ASSESSOR']"
        ],
        [
         "19",
         "NCT00412048",
         "NON_RANDOMIZED",
         "SINGLE_GROUP",
         "DIAGNOSTIC",
         "NONE",
         null,
         null,
         null,
         null,
         "[]"
        ],
        [
         "20",
         "NCT00422422",
         "NA",
         "SINGLE_GROUP",
         "TREATMENT",
         "NONE",
         null,
         null,
         null,
         null,
         "[]"
        ],
        [
         "21",
         "NCT00442494",
         "RANDOMIZED",
         "PARALLEL",
         null,
         "NONE",
         null,
         null,
         null,
         null,
         "[]"
        ],
        [
         "22",
         "NCT00448201",
         "NON_RANDOMIZED",
         "SINGLE_GROUP",
         "TREATMENT",
         "NONE",
         null,
         null,
         null,
         null,
         "[]"
        ],
        [
         "23",
         "NCT00455039",
         "NA",
         "SINGLE_GROUP",
         "TREATMENT",
         "NONE",
         null,
         null,
         null,
         null,
         "[]"
        ],
        [
         "24",
         "NCT00455052",
         "NA",
         "SINGLE_GROUP",
         "TREATMENT",
         "NONE",
         null,
         null,
         null,
         null,
         "[]"
        ],
        [
         "25",
         "NCT00459641",
         "RANDOMIZED",
         "PARALLEL",
         "TREATMENT",
         "NONE",
         null,
         null,
         null,
         null,
         "[]"
        ],
        [
         "26",
         "NCT00476255",
         "RANDOMIZED",
         "PARALLEL",
         "PREVENTION",
         "DOUBLE",
         "PARTICIPANT",
         null,
         null,
         "OUTCOMES_ASSESSOR",
         "['PARTICIPANT', 'OUTCOMES_ASSESSOR']"
        ],
        [
         "27",
         "NCT00488605",
         "RANDOMIZED",
         "SINGLE_GROUP",
         "TREATMENT",
         "NONE",
         null,
         null,
         null,
         null,
         "[]"
        ],
        [
         "28",
         "NCT00493701",
         "RANDOMIZED",
         "PARALLEL",
         "DIAGNOSTIC",
         "DOUBLE",
         "PARTICIPANT",
         null,
         "INVESTIGATOR",
         null,
         "['PARTICIPANT', 'INVESTIGATOR']"
        ],
        [
         "29",
         "NCT00504322",
         "RANDOMIZED",
         "PARALLEL",
         "TREATMENT",
         "QUADRUPLE",
         "PARTICIPANT",
         "CARE_PROVIDER",
         "INVESTIGATOR",
         "OUTCOMES_ASSESSOR",
         "['CARE_PROVIDER', 'PARTICIPANT', 'OUTCOMES_ASSESSOR', 'INVESTIGATOR']"
        ],
        [
         "30",
         "NCT00520624",
         "RANDOMIZED",
         "PARALLEL",
         "TREATMENT",
         "SINGLE",
         null,
         null,
         "INVESTIGATOR",
         null,
         "['INVESTIGATOR']"
        ],
        [
         "31",
         "NCT00532584",
         "NON_RANDOMIZED",
         "FACTORIAL",
         "TREATMENT",
         "NONE",
         null,
         null,
         null,
         null,
         "[]"
        ],
        [
         "32",
         "NCT00534235",
         "RANDOMIZED",
         "PARALLEL",
         "TREATMENT",
         "SINGLE",
         "PARTICIPANT",
         null,
         null,
         null,
         "['PARTICIPANT']"
        ],
        [
         "33",
         "NCT00534404",
         "RANDOMIZED",
         "PARALLEL",
         "TREATMENT",
         "NONE",
         null,
         null,
         null,
         null,
         "[]"
        ],
        [
         "34",
         "NCT00534703",
         "RANDOMIZED",
         "PARALLEL",
         "TREATMENT",
         "QUADRUPLE",
         "PARTICIPANT",
         "CARE_PROVIDER",
         "INVESTIGATOR",
         "OUTCOMES_ASSESSOR",
         "['CARE_PROVIDER', 'PARTICIPANT', 'OUTCOMES_ASSESSOR', 'INVESTIGATOR']"
        ],
        [
         "35",
         "NCT00554996",
         "NON_RANDOMIZED",
         "SINGLE_GROUP",
         "PREVENTION",
         "NONE",
         null,
         null,
         null,
         null,
         "[]"
        ],
        [
         "36",
         "NCT00570050",
         "RANDOMIZED",
         "CROSSOVER",
         "TREATMENT",
         "QUADRUPLE",
         "PARTICIPANT",
         "CARE_PROVIDER",
         "INVESTIGATOR",
         "OUTCOMES_ASSESSOR",
         "['CARE_PROVIDER', 'PARTICIPANT', 'OUTCOMES_ASSESSOR', 'INVESTIGATOR']"
        ],
        [
         "37",
         "NCT00571246",
         "RANDOMIZED",
         "FACTORIAL",
         "TREATMENT",
         "TRIPLE",
         "PARTICIPANT",
         "CARE_PROVIDER",
         "INVESTIGATOR",
         null,
         "['CARE_PROVIDER', 'PARTICIPANT', 'INVESTIGATOR']"
        ],
        [
         "38",
         "NCT00572533",
         "RANDOMIZED",
         "PARALLEL",
         "OTHER",
         "DOUBLE",
         "PARTICIPANT",
         "CARE_PROVIDER",
         null,
         null,
         "['CARE_PROVIDER', 'PARTICIPANT']"
        ],
        [
         "39",
         "NCT00572689",
         "NON_RANDOMIZED",
         "SINGLE_GROUP",
         null,
         "NONE",
         null,
         null,
         null,
         null,
         "[]"
        ],
        [
         "40",
         "NCT00576771",
         "NA",
         "SINGLE_GROUP",
         "TREATMENT",
         "NONE",
         null,
         null,
         null,
         null,
         "[]"
        ],
        [
         "41",
         "NCT00580580",
         "RANDOMIZED",
         "SINGLE_GROUP",
         "DIAGNOSTIC",
         "NONE",
         null,
         null,
         null,
         null,
         "[]"
        ],
        [
         "42",
         "NCT00591877",
         "RANDOMIZED",
         "CROSSOVER",
         "TREATMENT",
         "SINGLE",
         null,
         null,
         "INVESTIGATOR",
         null,
         "['INVESTIGATOR']"
        ],
        [
         "43",
         "NCT00593164",
         "RANDOMIZED",
         "PARALLEL",
         "TREATMENT",
         "TRIPLE",
         "PARTICIPANT",
         "CARE_PROVIDER",
         "INVESTIGATOR",
         null,
         "['CARE_PROVIDER', 'PARTICIPANT', 'INVESTIGATOR']"
        ],
        [
         "44",
         "NCT00596856",
         "RANDOMIZED",
         "PARALLEL",
         "HEALTH_SERVICES_RESEARCH",
         "NONE",
         null,
         null,
         null,
         null,
         "[]"
        ],
        [
         "45",
         "NCT00601952",
         "RANDOMIZED",
         "PARALLEL",
         "TREATMENT",
         "DOUBLE",
         "PARTICIPANT",
         null,
         null,
         "OUTCOMES_ASSESSOR",
         "['PARTICIPANT', 'OUTCOMES_ASSESSOR']"
        ],
        [
         "46",
         "NCT00603460",
         "RANDOMIZED",
         "SINGLE_GROUP",
         "OTHER",
         "NONE",
         null,
         null,
         null,
         null,
         "[]"
        ],
        [
         "47",
         "NCT00613418",
         "NA",
         "SINGLE_GROUP",
         "TREATMENT",
         "NONE",
         null,
         null,
         null,
         null,
         "[]"
        ],
        [
         "48",
         "NCT00623948",
         "RANDOMIZED",
         "CROSSOVER",
         "PREVENTION",
         "NONE",
         null,
         null,
         null,
         null,
         "[]"
        ],
        [
         "49",
         "NCT00640094",
         "RANDOMIZED",
         "PARALLEL",
         "TREATMENT",
         "QUADRUPLE",
         "PARTICIPANT",
         "CARE_PROVIDER",
         "INVESTIGATOR",
         "OUTCOMES_ASSESSOR",
         "['CARE_PROVIDER', 'PARTICIPANT', 'OUTCOMES_ASSESSOR', 'INVESTIGATOR']"
        ]
       ],
       "shape": {
        "columns": 10,
        "rows": 182236
       }
      },
      "text/html": [
       "<div>\n",
       "<style scoped>\n",
       "    .dataframe tbody tr th:only-of-type {\n",
       "        vertical-align: middle;\n",
       "    }\n",
       "\n",
       "    .dataframe tbody tr th {\n",
       "        vertical-align: top;\n",
       "    }\n",
       "\n",
       "    .dataframe thead th {\n",
       "        text-align: right;\n",
       "    }\n",
       "</style>\n",
       "<table border=\"1\" class=\"dataframe\">\n",
       "  <thead>\n",
       "    <tr style=\"text-align: right;\">\n",
       "      <th></th>\n",
       "      <th>nct_id</th>\n",
       "      <th>allocation</th>\n",
       "      <th>intervention_model</th>\n",
       "      <th>primary_purpose</th>\n",
       "      <th>masking</th>\n",
       "      <th>subject_masked</th>\n",
       "      <th>caregiver_masked</th>\n",
       "      <th>investigator_masked</th>\n",
       "      <th>outcomes_assessor_masked</th>\n",
       "      <th>masking_detail</th>\n",
       "    </tr>\n",
       "  </thead>\n",
       "  <tbody>\n",
       "    <tr>\n",
       "      <th>0</th>\n",
       "      <td>NCT00125528</td>\n",
       "      <td>RANDOMIZED</td>\n",
       "      <td>PARALLEL</td>\n",
       "      <td>TREATMENT</td>\n",
       "      <td>TRIPLE</td>\n",
       "      <td>PARTICIPANT</td>\n",
       "      <td>NaN</td>\n",
       "      <td>INVESTIGATOR</td>\n",
       "      <td>OUTCOMES_ASSESSOR</td>\n",
       "      <td>[OUTCOMES_ASSESSOR, PARTICIPANT, INVESTIGATOR]</td>\n",
       "    </tr>\n",
       "    <tr>\n",
       "      <th>1</th>\n",
       "      <td>NCT00170209</td>\n",
       "      <td>RANDOMIZED</td>\n",
       "      <td>PARALLEL</td>\n",
       "      <td>TREATMENT</td>\n",
       "      <td>NONE</td>\n",
       "      <td>None</td>\n",
       "      <td>None</td>\n",
       "      <td>None</td>\n",
       "      <td>None</td>\n",
       "      <td>[]</td>\n",
       "    </tr>\n",
       "    <tr>\n",
       "      <th>2</th>\n",
       "      <td>NCT00183482</td>\n",
       "      <td>RANDOMIZED</td>\n",
       "      <td>PARALLEL</td>\n",
       "      <td>PREVENTION</td>\n",
       "      <td>DOUBLE</td>\n",
       "      <td>NaN</td>\n",
       "      <td>NaN</td>\n",
       "      <td>INVESTIGATOR</td>\n",
       "      <td>OUTCOMES_ASSESSOR</td>\n",
       "      <td>[OUTCOMES_ASSESSOR, INVESTIGATOR]</td>\n",
       "    </tr>\n",
       "    <tr>\n",
       "      <th>3</th>\n",
       "      <td>NCT00194714</td>\n",
       "      <td>NA</td>\n",
       "      <td>SINGLE_GROUP</td>\n",
       "      <td>TREATMENT</td>\n",
       "      <td>NONE</td>\n",
       "      <td>None</td>\n",
       "      <td>None</td>\n",
       "      <td>None</td>\n",
       "      <td>None</td>\n",
       "      <td>[]</td>\n",
       "    </tr>\n",
       "    <tr>\n",
       "      <th>4</th>\n",
       "      <td>NCT00258791</td>\n",
       "      <td>RANDOMIZED</td>\n",
       "      <td>CROSSOVER</td>\n",
       "      <td>TREATMENT</td>\n",
       "      <td>DOUBLE</td>\n",
       "      <td>PARTICIPANT</td>\n",
       "      <td>NaN</td>\n",
       "      <td>NaN</td>\n",
       "      <td>OUTCOMES_ASSESSOR</td>\n",
       "      <td>[PARTICIPANT, OUTCOMES_ASSESSOR]</td>\n",
       "    </tr>\n",
       "    <tr>\n",
       "      <th>...</th>\n",
       "      <td>...</td>\n",
       "      <td>...</td>\n",
       "      <td>...</td>\n",
       "      <td>...</td>\n",
       "      <td>...</td>\n",
       "      <td>...</td>\n",
       "      <td>...</td>\n",
       "      <td>...</td>\n",
       "      <td>...</td>\n",
       "      <td>...</td>\n",
       "    </tr>\n",
       "    <tr>\n",
       "      <th>182231</th>\n",
       "      <td>NCT06875349</td>\n",
       "      <td>RANDOMIZED</td>\n",
       "      <td>CROSSOVER</td>\n",
       "      <td>TREATMENT</td>\n",
       "      <td>NONE</td>\n",
       "      <td>None</td>\n",
       "      <td>None</td>\n",
       "      <td>None</td>\n",
       "      <td>None</td>\n",
       "      <td>[]</td>\n",
       "    </tr>\n",
       "    <tr>\n",
       "      <th>182232</th>\n",
       "      <td>NCT06875557</td>\n",
       "      <td>NA</td>\n",
       "      <td>PARALLEL</td>\n",
       "      <td>HEALTH_SERVICES_RESEARCH</td>\n",
       "      <td>DOUBLE</td>\n",
       "      <td>PARTICIPANT</td>\n",
       "      <td>NaN</td>\n",
       "      <td>INVESTIGATOR</td>\n",
       "      <td>NaN</td>\n",
       "      <td>[PARTICIPANT, INVESTIGATOR]</td>\n",
       "    </tr>\n",
       "    <tr>\n",
       "      <th>182233</th>\n",
       "      <td>NCT06875661</td>\n",
       "      <td>RANDOMIZED</td>\n",
       "      <td>PARALLEL</td>\n",
       "      <td>TREATMENT</td>\n",
       "      <td>NONE</td>\n",
       "      <td>None</td>\n",
       "      <td>None</td>\n",
       "      <td>None</td>\n",
       "      <td>None</td>\n",
       "      <td>[]</td>\n",
       "    </tr>\n",
       "    <tr>\n",
       "      <th>182234</th>\n",
       "      <td>NCT06875674</td>\n",
       "      <td>RANDOMIZED</td>\n",
       "      <td>PARALLEL</td>\n",
       "      <td>PREVENTION</td>\n",
       "      <td>TRIPLE</td>\n",
       "      <td>PARTICIPANT</td>\n",
       "      <td>NaN</td>\n",
       "      <td>INVESTIGATOR</td>\n",
       "      <td>OUTCOMES_ASSESSOR</td>\n",
       "      <td>[OUTCOMES_ASSESSOR, PARTICIPANT, INVESTIGATOR]</td>\n",
       "    </tr>\n",
       "    <tr>\n",
       "      <th>182235</th>\n",
       "      <td>NCT06875687</td>\n",
       "      <td>NA</td>\n",
       "      <td>SINGLE_GROUP</td>\n",
       "      <td>HEALTH_SERVICES_RESEARCH</td>\n",
       "      <td>NONE</td>\n",
       "      <td>None</td>\n",
       "      <td>None</td>\n",
       "      <td>None</td>\n",
       "      <td>None</td>\n",
       "      <td>[]</td>\n",
       "    </tr>\n",
       "  </tbody>\n",
       "</table>\n",
       "<p>182236 rows × 10 columns</p>\n",
       "</div>"
      ],
      "text/plain": [
       "             nct_id  allocation intervention_model           primary_purpose  \\\n",
       "0       NCT00125528  RANDOMIZED           PARALLEL                 TREATMENT   \n",
       "1       NCT00170209  RANDOMIZED           PARALLEL                 TREATMENT   \n",
       "2       NCT00183482  RANDOMIZED           PARALLEL                PREVENTION   \n",
       "3       NCT00194714          NA       SINGLE_GROUP                 TREATMENT   \n",
       "4       NCT00258791  RANDOMIZED          CROSSOVER                 TREATMENT   \n",
       "...             ...         ...                ...                       ...   \n",
       "182231  NCT06875349  RANDOMIZED          CROSSOVER                 TREATMENT   \n",
       "182232  NCT06875557          NA           PARALLEL  HEALTH_SERVICES_RESEARCH   \n",
       "182233  NCT06875661  RANDOMIZED           PARALLEL                 TREATMENT   \n",
       "182234  NCT06875674  RANDOMIZED           PARALLEL                PREVENTION   \n",
       "182235  NCT06875687          NA       SINGLE_GROUP  HEALTH_SERVICES_RESEARCH   \n",
       "\n",
       "       masking subject_masked caregiver_masked investigator_masked  \\\n",
       "0       TRIPLE    PARTICIPANT              NaN        INVESTIGATOR   \n",
       "1         NONE           None             None                None   \n",
       "2       DOUBLE            NaN              NaN        INVESTIGATOR   \n",
       "3         NONE           None             None                None   \n",
       "4       DOUBLE    PARTICIPANT              NaN                 NaN   \n",
       "...        ...            ...              ...                 ...   \n",
       "182231    NONE           None             None                None   \n",
       "182232  DOUBLE    PARTICIPANT              NaN        INVESTIGATOR   \n",
       "182233    NONE           None             None                None   \n",
       "182234  TRIPLE    PARTICIPANT              NaN        INVESTIGATOR   \n",
       "182235    NONE           None             None                None   \n",
       "\n",
       "       outcomes_assessor_masked  \\\n",
       "0             OUTCOMES_ASSESSOR   \n",
       "1                          None   \n",
       "2             OUTCOMES_ASSESSOR   \n",
       "3                          None   \n",
       "4             OUTCOMES_ASSESSOR   \n",
       "...                         ...   \n",
       "182231                     None   \n",
       "182232                      NaN   \n",
       "182233                     None   \n",
       "182234        OUTCOMES_ASSESSOR   \n",
       "182235                     None   \n",
       "\n",
       "                                        masking_detail  \n",
       "0       [OUTCOMES_ASSESSOR, PARTICIPANT, INVESTIGATOR]  \n",
       "1                                                   []  \n",
       "2                    [OUTCOMES_ASSESSOR, INVESTIGATOR]  \n",
       "3                                                   []  \n",
       "4                     [PARTICIPANT, OUTCOMES_ASSESSOR]  \n",
       "...                                                ...  \n",
       "182231                                              []  \n",
       "182232                     [PARTICIPANT, INVESTIGATOR]  \n",
       "182233                                              []  \n",
       "182234  [OUTCOMES_ASSESSOR, PARTICIPANT, INVESTIGATOR]  \n",
       "182235                                              []  \n",
       "\n",
       "[182236 rows x 10 columns]"
      ]
     },
     "execution_count": 65,
     "metadata": {},
     "output_type": "execute_result"
    }
   ],
   "source": [
    "create_table_sql = \"\"\"\n",
    "DROP TABLE IF EXISTS ctgov.my_designs;\n",
    "\n",
    "CREATE TABLE ctgov.my_designs AS\n",
    "SELECT DISTINCT ON \n",
    "(\n",
    "studies.nct_id,\n",
    "designs.allocation,\n",
    "designs.intervention_model,\n",
    "designs.primary_purpose,\n",
    "designs.masking,\n",
    "designs.subject_masked,\n",
    "designs.caregiver_masked,\n",
    "designs.investigator_masked,\n",
    "designs.outcomes_assessor_masked\n",
    ")\n",
    "\n",
    "studies.nct_id,\n",
    "designs.allocation,\n",
    "designs.intervention_model,\n",
    "designs.primary_purpose,\n",
    "designs.masking,\n",
    "designs.subject_masked,\n",
    "designs.caregiver_masked,\n",
    "designs.investigator_masked,\n",
    "designs.outcomes_assessor_masked\n",
    "\n",
    "FROM ctgov.studies\n",
    "LEFT JOIN ctgov.designs\n",
    "  ON studies.nct_id = designs.nct_id\n",
    "WHERE TO_CHAR(studies.start_date, 'YYYY-MM') >= '2011-01'\n",
    "  AND studies.study_type = 'INTERVENTIONAL'\n",
    "  AND studies.overall_status IN ('COMPLETED', 'WITHDRAWN', 'TERMINATED')\n",
    "ORDER BY studies.nct_id;\n",
    "\n",
    "\"\"\"\n",
    "\n",
    "\"\"\"with engine.connect() as conn:\n",
    "    conn.execute(text(create_table_sql))\n",
    "    conn.commit()\"\"\"\n",
    "\n",
    "my_designs = pd.read_sql(\"select * from ctgov.my_designs;\", con = engine)\n",
    "\n",
    "my_designs[\"subject_masked\"] = my_designs[\"subject_masked\"].replace({True : \"PARTICIPANT\", False : np.NaN})\n",
    "my_designs[\"caregiver_masked\"] = my_designs[\"caregiver_masked\"].replace({True : \"CARE_PROVIDER\", False : np.NaN})\n",
    "my_designs[\"investigator_masked\"] = my_designs[\"investigator_masked\"].replace({True : \"INVESTIGATOR\", False : np.NaN})\n",
    "my_designs[\"outcomes_assessor_masked\"] = my_designs[\"outcomes_assessor_masked\"].replace({True : \"OUTCOMES_ASSESSOR\", False : np.NaN})\n",
    "\n",
    "my_designs[\"masking_detail\"] = my_designs[[\"subject_masked\", \"caregiver_masked\", \"investigator_masked\", \"outcomes_assessor_masked\"]].apply(\n",
    "    lambda row: [val for val in row if pd.notna(val) and val != \"None\"], axis=1)\n",
    "my_designs['masking_detail'] = my_designs['masking_detail'].apply(lambda x: list(set(sorted(x))))\n",
    "my_designs"
   ]
  },
  {
   "cell_type": "markdown",
   "id": "e5979b1f",
   "metadata": {},
   "source": [
    "## my_eligibilities"
   ]
  },
  {
   "cell_type": "code",
   "execution_count": 66,
   "id": "96dd3515",
   "metadata": {},
   "outputs": [
    {
     "data": {
      "application/vnd.microsoft.datawrangler.viewer.v0+json": {
       "columns": [
        {
         "name": "index",
         "rawType": "int64",
         "type": "integer"
        },
        {
         "name": "nct_id",
         "rawType": "object",
         "type": "string"
        },
        {
         "name": "gender",
         "rawType": "object",
         "type": "unknown"
        },
        {
         "name": "healthy_volunteers",
         "rawType": "object",
         "type": "unknown"
        }
       ],
       "ref": "a010c424-a527-4fda-a3d7-0f54d8bd5f88",
       "rows": [
        [
         "0",
         "NCT00125528",
         "ALL",
         "Condition"
        ],
        [
         "1",
         "NCT00170209",
         "ALL",
         "Condition"
        ],
        [
         "2",
         "NCT00183482",
         "ALL",
         "Condition"
        ],
        [
         "3",
         "NCT00194714",
         "FEMALE",
         "Condition"
        ],
        [
         "4",
         "NCT00258791",
         "ALL",
         "Condition"
        ],
        [
         "5",
         "NCT00263432",
         "ALL",
         "Condition"
        ],
        [
         "6",
         "NCT00293735",
         "FEMALE",
         "Condition"
        ],
        [
         "7",
         "NCT00306059",
         "ALL",
         "Condition"
        ],
        [
         "8",
         "NCT00307905",
         "ALL",
         "Condition"
        ],
        [
         "9",
         "NCT00323141",
         "ALL",
         "Condition"
        ],
        [
         "10",
         "NCT00328809",
         "ALL",
         "Condition"
        ],
        [
         "11",
         "NCT00329641",
         "ALL",
         "Condition"
        ],
        [
         "12",
         "NCT00356317",
         "ALL",
         "Healthy"
        ],
        [
         "13",
         "NCT00362219",
         "ALL",
         "Condition"
        ],
        [
         "14",
         "NCT00364000",
         "ALL",
         "Condition"
        ],
        [
         "15",
         "NCT00372762",
         "ALL",
         "Condition"
        ],
        [
         "16",
         "NCT00397501",
         "FEMALE",
         "Condition"
        ],
        [
         "17",
         "NCT00397579",
         "ALL",
         "Condition"
        ],
        [
         "18",
         "NCT00399594",
         "ALL",
         "Condition"
        ],
        [
         "19",
         "NCT00412048",
         "ALL",
         "Healthy"
        ],
        [
         "20",
         "NCT00422422",
         "ALL",
         "Condition"
        ],
        [
         "21",
         "NCT00442494",
         "ALL",
         "Healthy"
        ],
        [
         "22",
         "NCT00448201",
         "ALL",
         "Condition"
        ],
        [
         "23",
         "NCT00455039",
         "FEMALE",
         "Condition"
        ],
        [
         "24",
         "NCT00455052",
         "ALL",
         "Condition"
        ],
        [
         "25",
         "NCT00459641",
         "ALL",
         "Condition"
        ],
        [
         "26",
         "NCT00476255",
         "ALL",
         "Healthy"
        ],
        [
         "27",
         "NCT00488605",
         "ALL",
         "Condition"
        ],
        [
         "28",
         "NCT00493701",
         "ALL",
         "Healthy"
        ],
        [
         "29",
         "NCT00504322",
         "ALL",
         "Condition"
        ],
        [
         "30",
         "NCT00520624",
         "ALL",
         "Condition"
        ],
        [
         "31",
         "NCT00532584",
         "ALL",
         "Healthy"
        ],
        [
         "32",
         "NCT00534235",
         null,
         "Condition"
        ],
        [
         "33",
         "NCT00534404",
         "ALL",
         "Healthy"
        ],
        [
         "34",
         "NCT00534703",
         "ALL",
         "Condition"
        ],
        [
         "35",
         "NCT00554996",
         "ALL",
         "Condition"
        ],
        [
         "36",
         "NCT00570050",
         "ALL",
         "Condition"
        ],
        [
         "37",
         "NCT00571246",
         "ALL",
         "Condition"
        ],
        [
         "38",
         "NCT00572533",
         "ALL",
         "Condition"
        ],
        [
         "39",
         "NCT00572689",
         "FEMALE",
         "Condition"
        ],
        [
         "40",
         "NCT00576771",
         "ALL",
         "Condition"
        ],
        [
         "41",
         "NCT00580580",
         "ALL",
         "Condition"
        ],
        [
         "42",
         "NCT00591877",
         "ALL",
         "Condition"
        ],
        [
         "43",
         "NCT00593164",
         "ALL",
         "Condition"
        ],
        [
         "44",
         "NCT00596856",
         "ALL",
         "Condition"
        ],
        [
         "45",
         "NCT00601952",
         "MALE",
         "Condition"
        ],
        [
         "46",
         "NCT00603460",
         "FEMALE",
         "Condition"
        ],
        [
         "47",
         "NCT00613418",
         "ALL",
         "Condition"
        ],
        [
         "48",
         "NCT00623948",
         "ALL",
         "Condition"
        ],
        [
         "49",
         "NCT00640094",
         "ALL",
         "Condition"
        ]
       ],
       "shape": {
        "columns": 3,
        "rows": 182236
       }
      },
      "text/html": [
       "<div>\n",
       "<style scoped>\n",
       "    .dataframe tbody tr th:only-of-type {\n",
       "        vertical-align: middle;\n",
       "    }\n",
       "\n",
       "    .dataframe tbody tr th {\n",
       "        vertical-align: top;\n",
       "    }\n",
       "\n",
       "    .dataframe thead th {\n",
       "        text-align: right;\n",
       "    }\n",
       "</style>\n",
       "<table border=\"1\" class=\"dataframe\">\n",
       "  <thead>\n",
       "    <tr style=\"text-align: right;\">\n",
       "      <th></th>\n",
       "      <th>nct_id</th>\n",
       "      <th>gender</th>\n",
       "      <th>healthy_volunteers</th>\n",
       "    </tr>\n",
       "  </thead>\n",
       "  <tbody>\n",
       "    <tr>\n",
       "      <th>0</th>\n",
       "      <td>NCT00125528</td>\n",
       "      <td>ALL</td>\n",
       "      <td>Condition</td>\n",
       "    </tr>\n",
       "    <tr>\n",
       "      <th>1</th>\n",
       "      <td>NCT00170209</td>\n",
       "      <td>ALL</td>\n",
       "      <td>Condition</td>\n",
       "    </tr>\n",
       "    <tr>\n",
       "      <th>2</th>\n",
       "      <td>NCT00183482</td>\n",
       "      <td>ALL</td>\n",
       "      <td>Condition</td>\n",
       "    </tr>\n",
       "    <tr>\n",
       "      <th>3</th>\n",
       "      <td>NCT00194714</td>\n",
       "      <td>FEMALE</td>\n",
       "      <td>Condition</td>\n",
       "    </tr>\n",
       "    <tr>\n",
       "      <th>4</th>\n",
       "      <td>NCT00258791</td>\n",
       "      <td>ALL</td>\n",
       "      <td>Condition</td>\n",
       "    </tr>\n",
       "    <tr>\n",
       "      <th>...</th>\n",
       "      <td>...</td>\n",
       "      <td>...</td>\n",
       "      <td>...</td>\n",
       "    </tr>\n",
       "    <tr>\n",
       "      <th>182231</th>\n",
       "      <td>NCT06875349</td>\n",
       "      <td>ALL</td>\n",
       "      <td>Condition</td>\n",
       "    </tr>\n",
       "    <tr>\n",
       "      <th>182232</th>\n",
       "      <td>NCT06875557</td>\n",
       "      <td>ALL</td>\n",
       "      <td>Condition</td>\n",
       "    </tr>\n",
       "    <tr>\n",
       "      <th>182233</th>\n",
       "      <td>NCT06875661</td>\n",
       "      <td>ALL</td>\n",
       "      <td>Condition</td>\n",
       "    </tr>\n",
       "    <tr>\n",
       "      <th>182234</th>\n",
       "      <td>NCT06875674</td>\n",
       "      <td>ALL</td>\n",
       "      <td>Healthy</td>\n",
       "    </tr>\n",
       "    <tr>\n",
       "      <th>182235</th>\n",
       "      <td>NCT06875687</td>\n",
       "      <td>FEMALE</td>\n",
       "      <td>Healthy</td>\n",
       "    </tr>\n",
       "  </tbody>\n",
       "</table>\n",
       "<p>182236 rows × 3 columns</p>\n",
       "</div>"
      ],
      "text/plain": [
       "             nct_id  gender healthy_volunteers\n",
       "0       NCT00125528     ALL          Condition\n",
       "1       NCT00170209     ALL          Condition\n",
       "2       NCT00183482     ALL          Condition\n",
       "3       NCT00194714  FEMALE          Condition\n",
       "4       NCT00258791     ALL          Condition\n",
       "...             ...     ...                ...\n",
       "182231  NCT06875349     ALL          Condition\n",
       "182232  NCT06875557     ALL          Condition\n",
       "182233  NCT06875661     ALL          Condition\n",
       "182234  NCT06875674     ALL            Healthy\n",
       "182235  NCT06875687  FEMALE            Healthy\n",
       "\n",
       "[182236 rows x 3 columns]"
      ]
     },
     "execution_count": 66,
     "metadata": {},
     "output_type": "execute_result"
    }
   ],
   "source": [
    "create_table_sql = \"\"\"\n",
    "DROP TABLE IF EXISTS ctgov.my_eligibilities;\n",
    "\n",
    "CREATE TABLE ctgov.my_eligibilities AS\n",
    "SELECT DISTINCT ON \n",
    "(\n",
    "studies.nct_id, \n",
    "eligibilities.gender, \n",
    "eligibilities.healthy_volunteers\n",
    ") \n",
    "studies.nct_id, \n",
    "eligibilities.gender, \n",
    "eligibilities.healthy_volunteers\n",
    "                               \n",
    "FROM ctgov.studies\n",
    "LEFT JOIN ctgov.eligibilities\n",
    "\tON studies.nct_id = eligibilities.nct_id\n",
    "WHERE TO_CHAR(studies.start_date, 'YYYY-MM') >= '2011-01'\n",
    "  AND studies.study_type = 'INTERVENTIONAL'\n",
    "  AND studies.overall_status in ('COMPLETED', 'WITHDRAWN', 'TERMINATED')\n",
    "ORDER BY studies.nct_id;\n",
    "\"\"\"\n",
    "# eligibilities.minimum_age, \n",
    "# eligibilities.maximum_age, \n",
    "\n",
    "\"\"\"with engine.connect() as conn:\n",
    "    conn.execute(text(create_table_sql))\n",
    "    conn.commit()\"\"\"\n",
    "\n",
    "    \n",
    "my_eligibilities = pd.read_sql(\"select * from ctgov.my_eligibilities;\", con = engine)\n",
    "my_eligibilities[\"healthy_volunteers\"] = my_eligibilities[\"healthy_volunteers\"].replace({True : \"Healthy\", False : \"Condition\", None : np.NaN})\n",
    "my_eligibilities"
   ]
  },
  {
   "cell_type": "markdown",
   "id": "a809d27a",
   "metadata": {},
   "source": [
    "## my_outcomes"
   ]
  },
  {
   "cell_type": "code",
   "execution_count": 67,
   "id": "c0e6658e",
   "metadata": {},
   "outputs": [
    {
     "data": {
      "application/vnd.microsoft.datawrangler.viewer.v0+json": {
       "columns": [
        {
         "name": "index",
         "rawType": "int64",
         "type": "integer"
        },
        {
         "name": "nct_id",
         "rawType": "object",
         "type": "string"
        },
        {
         "name": "outcome_type",
         "rawType": "object",
         "type": "unknown"
        }
       ],
       "ref": "4850c88a-9b06-4c9c-9646-019b9ed1a171",
       "rows": [
        [
         "0",
         "NCT00125528",
         "['PRIMARY', 'SECONDARY']"
        ],
        [
         "1",
         "NCT00170209",
         "[]"
        ],
        [
         "2",
         "NCT00183482",
         "[]"
        ],
        [
         "3",
         "NCT00194714",
         "['PRIMARY', 'SECONDARY']"
        ],
        [
         "4",
         "NCT00258791",
         "[]"
        ],
        [
         "5",
         "NCT00263432",
         "[]"
        ],
        [
         "6",
         "NCT00293735",
         "[]"
        ],
        [
         "7",
         "NCT00306059",
         "[]"
        ],
        [
         "8",
         "NCT00307905",
         "[]"
        ],
        [
         "9",
         "NCT00323141",
         "[]"
        ],
        [
         "10",
         "NCT00328809",
         "[]"
        ],
        [
         "11",
         "NCT00329641",
         "['PRIMARY', 'SECONDARY']"
        ],
        [
         "12",
         "NCT00356317",
         "[]"
        ],
        [
         "13",
         "NCT00362219",
         "[]"
        ],
        [
         "14",
         "NCT00364000",
         "[]"
        ],
        [
         "15",
         "NCT00372762",
         "[]"
        ],
        [
         "16",
         "NCT00397501",
         "[]"
        ],
        [
         "17",
         "NCT00397579",
         "['PRIMARY']"
        ],
        [
         "18",
         "NCT00399594",
         "[]"
        ],
        [
         "19",
         "NCT00412048",
         "[]"
        ],
        [
         "20",
         "NCT00422422",
         "['PRIMARY', 'SECONDARY']"
        ],
        [
         "21",
         "NCT00442494",
         "[]"
        ],
        [
         "22",
         "NCT00448201",
         "['PRIMARY', 'SECONDARY']"
        ],
        [
         "23",
         "NCT00455039",
         "[]"
        ],
        [
         "24",
         "NCT00455052",
         "[]"
        ],
        [
         "25",
         "NCT00459641",
         "[]"
        ],
        [
         "26",
         "NCT00476255",
         "[]"
        ],
        [
         "27",
         "NCT00488605",
         "[]"
        ],
        [
         "28",
         "NCT00493701",
         "[]"
        ],
        [
         "29",
         "NCT00504322",
         "[]"
        ],
        [
         "30",
         "NCT00520624",
         "[]"
        ],
        [
         "31",
         "NCT00532584",
         "[]"
        ],
        [
         "32",
         "NCT00534235",
         "['OTHER_PRE_SPECIFIED', 'PRIMARY', 'SECONDARY']"
        ],
        [
         "33",
         "NCT00534404",
         "['PRIMARY', 'SECONDARY']"
        ],
        [
         "34",
         "NCT00534703",
         "['PRIMARY', 'SECONDARY']"
        ],
        [
         "35",
         "NCT00554996",
         "['PRIMARY']"
        ],
        [
         "36",
         "NCT00570050",
         "[]"
        ],
        [
         "37",
         "NCT00571246",
         "[]"
        ],
        [
         "38",
         "NCT00572533",
         "['POST_HOC', 'PRIMARY', 'SECONDARY']"
        ],
        [
         "39",
         "NCT00572689",
         "[]"
        ],
        [
         "40",
         "NCT00576771",
         "[]"
        ],
        [
         "41",
         "NCT00580580",
         "[]"
        ],
        [
         "42",
         "NCT00591877",
         "[]"
        ],
        [
         "43",
         "NCT00593164",
         "[]"
        ],
        [
         "44",
         "NCT00596856",
         "[]"
        ],
        [
         "45",
         "NCT00601952",
         "['PRIMARY']"
        ],
        [
         "46",
         "NCT00603460",
         "[]"
        ],
        [
         "47",
         "NCT00613418",
         "[]"
        ],
        [
         "48",
         "NCT00623948",
         "[]"
        ],
        [
         "49",
         "NCT00640094",
         "[]"
        ]
       ],
       "shape": {
        "columns": 2,
        "rows": 182236
       }
      },
      "text/html": [
       "<div>\n",
       "<style scoped>\n",
       "    .dataframe tbody tr th:only-of-type {\n",
       "        vertical-align: middle;\n",
       "    }\n",
       "\n",
       "    .dataframe tbody tr th {\n",
       "        vertical-align: top;\n",
       "    }\n",
       "\n",
       "    .dataframe thead th {\n",
       "        text-align: right;\n",
       "    }\n",
       "</style>\n",
       "<table border=\"1\" class=\"dataframe\">\n",
       "  <thead>\n",
       "    <tr style=\"text-align: right;\">\n",
       "      <th></th>\n",
       "      <th>nct_id</th>\n",
       "      <th>outcome_type</th>\n",
       "    </tr>\n",
       "  </thead>\n",
       "  <tbody>\n",
       "    <tr>\n",
       "      <th>0</th>\n",
       "      <td>NCT00125528</td>\n",
       "      <td>[PRIMARY, SECONDARY]</td>\n",
       "    </tr>\n",
       "    <tr>\n",
       "      <th>1</th>\n",
       "      <td>NCT00170209</td>\n",
       "      <td>[]</td>\n",
       "    </tr>\n",
       "    <tr>\n",
       "      <th>2</th>\n",
       "      <td>NCT00183482</td>\n",
       "      <td>[]</td>\n",
       "    </tr>\n",
       "    <tr>\n",
       "      <th>3</th>\n",
       "      <td>NCT00194714</td>\n",
       "      <td>[PRIMARY, SECONDARY]</td>\n",
       "    </tr>\n",
       "    <tr>\n",
       "      <th>4</th>\n",
       "      <td>NCT00258791</td>\n",
       "      <td>[]</td>\n",
       "    </tr>\n",
       "    <tr>\n",
       "      <th>...</th>\n",
       "      <td>...</td>\n",
       "      <td>...</td>\n",
       "    </tr>\n",
       "    <tr>\n",
       "      <th>182231</th>\n",
       "      <td>NCT06875349</td>\n",
       "      <td>[]</td>\n",
       "    </tr>\n",
       "    <tr>\n",
       "      <th>182232</th>\n",
       "      <td>NCT06875557</td>\n",
       "      <td>[]</td>\n",
       "    </tr>\n",
       "    <tr>\n",
       "      <th>182233</th>\n",
       "      <td>NCT06875661</td>\n",
       "      <td>[]</td>\n",
       "    </tr>\n",
       "    <tr>\n",
       "      <th>182234</th>\n",
       "      <td>NCT06875674</td>\n",
       "      <td>[]</td>\n",
       "    </tr>\n",
       "    <tr>\n",
       "      <th>182235</th>\n",
       "      <td>NCT06875687</td>\n",
       "      <td>[]</td>\n",
       "    </tr>\n",
       "  </tbody>\n",
       "</table>\n",
       "<p>182236 rows × 2 columns</p>\n",
       "</div>"
      ],
      "text/plain": [
       "             nct_id          outcome_type\n",
       "0       NCT00125528  [PRIMARY, SECONDARY]\n",
       "1       NCT00170209                    []\n",
       "2       NCT00183482                    []\n",
       "3       NCT00194714  [PRIMARY, SECONDARY]\n",
       "4       NCT00258791                    []\n",
       "...             ...                   ...\n",
       "182231  NCT06875349                    []\n",
       "182232  NCT06875557                    []\n",
       "182233  NCT06875661                    []\n",
       "182234  NCT06875674                    []\n",
       "182235  NCT06875687                    []\n",
       "\n",
       "[182236 rows x 2 columns]"
      ]
     },
     "execution_count": 67,
     "metadata": {},
     "output_type": "execute_result"
    }
   ],
   "source": [
    "create_table_sql =\"\"\"\n",
    "DROP TABLE IF EXISTS ctgov.my_outcomes;\n",
    "\n",
    "CREATE TABLE ctgov.my_outcomes AS\n",
    "SELECT DISTINCT ON \n",
    "( \n",
    "    studies.nct_id, \n",
    "    outcomes.outcome_type \n",
    ")\n",
    "    studies.nct_id, \n",
    "    outcomes.outcome_type \n",
    "\n",
    "FROM ctgov.studies\n",
    "\n",
    "LEFT JOIN ctgov.outcomes\n",
    "  ON studies.nct_id = outcomes.nct_id\n",
    "\n",
    "WHERE TO_CHAR(studies.start_date, 'YYYY-MM') >= '2011-01'\n",
    "  AND studies.study_type = 'INTERVENTIONAL'\n",
    "  AND studies.overall_status in ('COMPLETED', 'WITHDRAWN', 'TERMINATED')\n",
    "\n",
    "ORDER BY \n",
    "    studies.nct_id, \n",
    "    outcomes.outcome_type;\n",
    "\n",
    "\"\"\"\n",
    "\n",
    "\"\"\"with engine.connect() as conn:\n",
    "    conn.execute(text(create_table_sql))\n",
    "    conn.commit()\"\"\"\n",
    "   \n",
    "my_outcomes = pd.read_sql(\"select * from ctgov.my_outcomes;\", con = engine)\n",
    "my_outcomes = my_outcomes.groupby(\"nct_id\")[\"outcome_type\"].agg(lambda x: sorted(set(i for i in x if i is not None))).reset_index()\n",
    "my_outcomes"
   ]
  },
  {
   "cell_type": "markdown",
   "id": "5da9c8c8",
   "metadata": {},
   "source": [
    "## my_locations"
   ]
  },
  {
   "cell_type": "code",
   "execution_count": 68,
   "id": "92f1bf06",
   "metadata": {},
   "outputs": [
    {
     "data": {
      "application/vnd.microsoft.datawrangler.viewer.v0+json": {
       "columns": [
        {
         "name": "index",
         "rawType": "int64",
         "type": "integer"
        },
        {
         "name": "nct_id",
         "rawType": "object",
         "type": "string"
        },
        {
         "name": "countries_country",
         "rawType": "object",
         "type": "unknown"
        },
        {
         "name": "facilities_country",
         "rawType": "object",
         "type": "unknown"
        },
        {
         "name": "facilities_city",
         "rawType": "object",
         "type": "unknown"
        },
        {
         "name": "Country_Counts",
         "rawType": "int64",
         "type": "integer"
        },
        {
         "name": "City_Counts",
         "rawType": "int64",
         "type": "integer"
        }
       ],
       "ref": "fe8666f9-2fd2-4181-bf35-3c17896d3a0f",
       "rows": [
        [
         "0",
         "NCT00125528",
         "['United States']",
         "['United States']",
         "['Chicago']",
         "1",
         "1"
        ],
        [
         "1",
         "NCT00170209",
         "['Australia', 'Benin', 'Brazil', 'Canada', 'Ghana', 'Guinea', 'Indonesia', 'Saudi Arabia']",
         "['Australia', 'Benin', 'Brazil', 'Canada', 'Ghana', 'Guinea', 'Indonesia']",
         "['Bandung', 'Conakry', 'Cotonou', 'Edmonton', 'Kumasi', 'Montreal', 'Rio de Janeiro', 'Sydney', 'Vancouver']",
         "7",
         "9"
        ],
        [
         "2",
         "NCT00183482",
         "['United States']",
         "['United States']",
         "['Nashville']",
         "1",
         "1"
        ],
        [
         "3",
         "NCT00194714",
         "['United States']",
         "['United States']",
         "['Seattle']",
         "1",
         "1"
        ],
        [
         "4",
         "NCT00258791",
         "['Norway']",
         "['Norway']",
         "[]",
         "1",
         "0"
        ],
        [
         "5",
         "NCT00263432",
         "['Belgium']",
         "['Belgium']",
         "['Ghent']",
         "1",
         "1"
        ],
        [
         "6",
         "NCT00293735",
         "['France', 'Germany', 'India', 'United States']",
         "['India', 'United States']",
         "['Houston', 'Kerala']",
         "2",
         "2"
        ],
        [
         "7",
         "NCT00306059",
         "['Belgium']",
         "['Belgium']",
         "['Ghent']",
         "1",
         "1"
        ],
        [
         "8",
         "NCT00307905",
         "['Israel']",
         "['Israel']",
         "['Jerusalem']",
         "1",
         "1"
        ],
        [
         "9",
         "NCT00323141",
         "['Belgium']",
         "['Belgium']",
         "['Ghent']",
         "1",
         "1"
        ],
        [
         "10",
         "NCT00328809",
         "['United States']",
         "['United States']",
         "['Syracuse']",
         "1",
         "1"
        ],
        [
         "11",
         "NCT00329641",
         "['United States']",
         "['United States']",
         "['San Antonio']",
         "1",
         "1"
        ],
        [
         "12",
         "NCT00356317",
         "['United States']",
         "['United States']",
         "['Coral Gables']",
         "1",
         "1"
        ],
        [
         "13",
         "NCT00362219",
         "['Israel']",
         "['Israel']",
         "['Haifa']",
         "1",
         "1"
        ],
        [
         "14",
         "NCT00364000",
         "['Romania']",
         "['Romania']",
         "['Bucharest', 'Iasi']",
         "1",
         "2"
        ],
        [
         "15",
         "NCT00372762",
         "['Canada']",
         "['Canada']",
         "['London']",
         "1",
         "1"
        ],
        [
         "16",
         "NCT00397501",
         "['United States']",
         "['United States']",
         "[]",
         "1",
         "0"
        ],
        [
         "17",
         "NCT00397579",
         "['Canada', 'United States']",
         "['United States']",
         "['Dallas']",
         "1",
         "1"
        ],
        [
         "18",
         "NCT00399594",
         "['Canada']",
         "['Canada']",
         "['Calgary', 'London', 'Ste-Foy']",
         "1",
         "3"
        ],
        [
         "19",
         "NCT00412048",
         "['France']",
         "['France']",
         "[]",
         "1",
         "0"
        ],
        [
         "20",
         "NCT00422422",
         "['Belgium', 'Czech Republic', 'Czechia', 'Mexico', 'Poland', 'Spain', 'United States']",
         "['Belgium', 'Czechia', 'Mexico', 'Poland', 'Spain', 'United States']",
         "['Aguascalientes', 'Barcelona', 'Bialystok', 'Boston', 'Brussels', 'Buffalo', 'Chesterfield', 'Chihuahua', 'Cincinnati', 'Ciuliacan', 'Gdansk', 'Guadalajara', 'Gulf Breeze', 'Houston', 'Hradec Kralove', 'Kielce', 'Krakow', 'Leuven', 'Madrid', 'Mexico D.F.', 'Miami', 'Monterrey', 'Nashville', 'Ostrava Porubo', 'Palma de Mallorca', 'Pittsburgh', 'Poznan', 'Praha 4', 'Rochester', 'Rzeszow', 'Saint Paul', 'San Luis Potosi', 'Santander', 'Szczecin', 'Valencia', 'Wellington', 'Wroclaw', 'Zaragoza']",
         "6",
         "38"
        ],
        [
         "21",
         "NCT00442494",
         "[]",
         "[]",
         "[]",
         "0",
         "0"
        ],
        [
         "22",
         "NCT00448201",
         "['United States']",
         "['United States']",
         "['Chapel Hill']",
         "1",
         "1"
        ],
        [
         "23",
         "NCT00455039",
         "['United States']",
         "['United States']",
         "['Albuquerque']",
         "1",
         "1"
        ],
        [
         "24",
         "NCT00455052",
         "['United States']",
         "['United States']",
         "['Baltimore', 'Denver', 'Greenville', 'Indianapolis', 'Las Vegas', 'New York', 'Norfolk', 'Scottsdale', 'Spokane', 'Springfield', 'Tyler', 'Vancouver']",
         "1",
         "12"
        ],
        [
         "25",
         "NCT00459641",
         "['Italy', 'Switzerland']",
         "['Italy', 'Switzerland']",
         "[]",
         "2",
         "0"
        ],
        [
         "26",
         "NCT00476255",
         "['United States']",
         "['United States']",
         "['Providence']",
         "1",
         "1"
        ],
        [
         "27",
         "NCT00488605",
         "['United States']",
         "['United States']",
         "['Albuquerque']",
         "1",
         "1"
        ],
        [
         "28",
         "NCT00493701",
         "['United States']",
         "['United States']",
         "['Baton Rouge']",
         "1",
         "1"
        ],
        [
         "29",
         "NCT00504322",
         "['United States']",
         "['United States']",
         "[]",
         "1",
         "0"
        ],
        [
         "30",
         "NCT00520624",
         "['Denmark']",
         "['Denmark']",
         "['Copenhagen']",
         "1",
         "1"
        ],
        [
         "31",
         "NCT00532584",
         "['United States']",
         "['United States']",
         "['New York']",
         "1",
         "1"
        ],
        [
         "32",
         "NCT00534235",
         "['United States']",
         "['United States']",
         "[]",
         "1",
         "0"
        ],
        [
         "33",
         "NCT00534404",
         "['United States']",
         "['United States']",
         "['Ann Arbor']",
         "1",
         "1"
        ],
        [
         "34",
         "NCT00534703",
         "['United Kingdom']",
         "['United Kingdom']",
         "['Cambridge', 'Middlesex']",
         "1",
         "2"
        ],
        [
         "35",
         "NCT00554996",
         "['United States']",
         "['United States']",
         "['Houston']",
         "1",
         "1"
        ],
        [
         "36",
         "NCT00570050",
         "['Canada']",
         "['Canada']",
         "['Toronto']",
         "1",
         "1"
        ],
        [
         "37",
         "NCT00571246",
         "['United States']",
         "['United States']",
         "['West Haven']",
         "1",
         "1"
        ],
        [
         "38",
         "NCT00572533",
         "['United States']",
         "['United States']",
         "['Louisville']",
         "1",
         "1"
        ],
        [
         "39",
         "NCT00572689",
         "['United States']",
         "['United States']",
         "['Washington']",
         "1",
         "1"
        ],
        [
         "40",
         "NCT00576771",
         "['Italy']",
         "['Italy']",
         "['Milan']",
         "1",
         "1"
        ],
        [
         "41",
         "NCT00580580",
         "['United States']",
         "['United States']",
         "[]",
         "1",
         "0"
        ],
        [
         "42",
         "NCT00591877",
         "['United States']",
         "['United States']",
         "['Kansas city']",
         "1",
         "1"
        ],
        [
         "43",
         "NCT00593164",
         "['Austria']",
         "['Austria']",
         "['Vienna']",
         "1",
         "1"
        ],
        [
         "44",
         "NCT00596856",
         "['United States']",
         "['United States']",
         "[]",
         "1",
         "0"
        ],
        [
         "45",
         "NCT00601952",
         "['United States']",
         "['United States']",
         "['San Diego']",
         "1",
         "1"
        ],
        [
         "46",
         "NCT00603460",
         "['United States']",
         "['United States']",
         "['Philadelphia']",
         "1",
         "1"
        ],
        [
         "47",
         "NCT00613418",
         "[]",
         "[]",
         "[]",
         "0",
         "0"
        ],
        [
         "48",
         "NCT00623948",
         "['United States']",
         "['United States']",
         "['Cleveland']",
         "1",
         "1"
        ],
        [
         "49",
         "NCT00640094",
         "['Spain']",
         "['Spain']",
         "['Cartagena', 'La Laguna', 'Santander']",
         "1",
         "3"
        ]
       ],
       "shape": {
        "columns": 6,
        "rows": 182236
       }
      },
      "text/html": [
       "<div>\n",
       "<style scoped>\n",
       "    .dataframe tbody tr th:only-of-type {\n",
       "        vertical-align: middle;\n",
       "    }\n",
       "\n",
       "    .dataframe tbody tr th {\n",
       "        vertical-align: top;\n",
       "    }\n",
       "\n",
       "    .dataframe thead th {\n",
       "        text-align: right;\n",
       "    }\n",
       "</style>\n",
       "<table border=\"1\" class=\"dataframe\">\n",
       "  <thead>\n",
       "    <tr style=\"text-align: right;\">\n",
       "      <th></th>\n",
       "      <th>nct_id</th>\n",
       "      <th>countries_country</th>\n",
       "      <th>facilities_country</th>\n",
       "      <th>facilities_city</th>\n",
       "      <th>Country_Counts</th>\n",
       "      <th>City_Counts</th>\n",
       "    </tr>\n",
       "  </thead>\n",
       "  <tbody>\n",
       "    <tr>\n",
       "      <th>0</th>\n",
       "      <td>NCT00125528</td>\n",
       "      <td>[United States]</td>\n",
       "      <td>[United States]</td>\n",
       "      <td>[Chicago]</td>\n",
       "      <td>1</td>\n",
       "      <td>1</td>\n",
       "    </tr>\n",
       "    <tr>\n",
       "      <th>1</th>\n",
       "      <td>NCT00170209</td>\n",
       "      <td>[Australia, Benin, Brazil, Canada, Ghana, Guin...</td>\n",
       "      <td>[Australia, Benin, Brazil, Canada, Ghana, Guin...</td>\n",
       "      <td>[Bandung, Conakry, Cotonou, Edmonton, Kumasi, ...</td>\n",
       "      <td>7</td>\n",
       "      <td>9</td>\n",
       "    </tr>\n",
       "    <tr>\n",
       "      <th>2</th>\n",
       "      <td>NCT00183482</td>\n",
       "      <td>[United States]</td>\n",
       "      <td>[United States]</td>\n",
       "      <td>[Nashville]</td>\n",
       "      <td>1</td>\n",
       "      <td>1</td>\n",
       "    </tr>\n",
       "    <tr>\n",
       "      <th>3</th>\n",
       "      <td>NCT00194714</td>\n",
       "      <td>[United States]</td>\n",
       "      <td>[United States]</td>\n",
       "      <td>[Seattle]</td>\n",
       "      <td>1</td>\n",
       "      <td>1</td>\n",
       "    </tr>\n",
       "    <tr>\n",
       "      <th>4</th>\n",
       "      <td>NCT00258791</td>\n",
       "      <td>[Norway]</td>\n",
       "      <td>[Norway]</td>\n",
       "      <td>[]</td>\n",
       "      <td>1</td>\n",
       "      <td>0</td>\n",
       "    </tr>\n",
       "    <tr>\n",
       "      <th>...</th>\n",
       "      <td>...</td>\n",
       "      <td>...</td>\n",
       "      <td>...</td>\n",
       "      <td>...</td>\n",
       "      <td>...</td>\n",
       "      <td>...</td>\n",
       "    </tr>\n",
       "    <tr>\n",
       "      <th>182231</th>\n",
       "      <td>NCT06875349</td>\n",
       "      <td>[Turkey]</td>\n",
       "      <td>[Turkey]</td>\n",
       "      <td>[Trabzon]</td>\n",
       "      <td>1</td>\n",
       "      <td>1</td>\n",
       "    </tr>\n",
       "    <tr>\n",
       "      <th>182232</th>\n",
       "      <td>NCT06875557</td>\n",
       "      <td>[Pakistan]</td>\n",
       "      <td>[Pakistan]</td>\n",
       "      <td>[Rawalpindi]</td>\n",
       "      <td>1</td>\n",
       "      <td>1</td>\n",
       "    </tr>\n",
       "    <tr>\n",
       "      <th>182233</th>\n",
       "      <td>NCT06875661</td>\n",
       "      <td>[Serbia]</td>\n",
       "      <td>[Serbia]</td>\n",
       "      <td>[Novi Sad]</td>\n",
       "      <td>1</td>\n",
       "      <td>1</td>\n",
       "    </tr>\n",
       "    <tr>\n",
       "      <th>182234</th>\n",
       "      <td>NCT06875674</td>\n",
       "      <td>[Italy]</td>\n",
       "      <td>[Italy]</td>\n",
       "      <td>[Palermo]</td>\n",
       "      <td>1</td>\n",
       "      <td>1</td>\n",
       "    </tr>\n",
       "    <tr>\n",
       "      <th>182235</th>\n",
       "      <td>NCT06875687</td>\n",
       "      <td>[Spain]</td>\n",
       "      <td>[Spain]</td>\n",
       "      <td>[Seville]</td>\n",
       "      <td>1</td>\n",
       "      <td>1</td>\n",
       "    </tr>\n",
       "  </tbody>\n",
       "</table>\n",
       "<p>182236 rows × 6 columns</p>\n",
       "</div>"
      ],
      "text/plain": [
       "             nct_id                                  countries_country  \\\n",
       "0       NCT00125528                                    [United States]   \n",
       "1       NCT00170209  [Australia, Benin, Brazil, Canada, Ghana, Guin...   \n",
       "2       NCT00183482                                    [United States]   \n",
       "3       NCT00194714                                    [United States]   \n",
       "4       NCT00258791                                           [Norway]   \n",
       "...             ...                                                ...   \n",
       "182231  NCT06875349                                           [Turkey]   \n",
       "182232  NCT06875557                                         [Pakistan]   \n",
       "182233  NCT06875661                                           [Serbia]   \n",
       "182234  NCT06875674                                            [Italy]   \n",
       "182235  NCT06875687                                            [Spain]   \n",
       "\n",
       "                                       facilities_country  \\\n",
       "0                                         [United States]   \n",
       "1       [Australia, Benin, Brazil, Canada, Ghana, Guin...   \n",
       "2                                         [United States]   \n",
       "3                                         [United States]   \n",
       "4                                                [Norway]   \n",
       "...                                                   ...   \n",
       "182231                                           [Turkey]   \n",
       "182232                                         [Pakistan]   \n",
       "182233                                           [Serbia]   \n",
       "182234                                            [Italy]   \n",
       "182235                                            [Spain]   \n",
       "\n",
       "                                          facilities_city  Country_Counts  \\\n",
       "0                                               [Chicago]               1   \n",
       "1       [Bandung, Conakry, Cotonou, Edmonton, Kumasi, ...               7   \n",
       "2                                             [Nashville]               1   \n",
       "3                                               [Seattle]               1   \n",
       "4                                                      []               1   \n",
       "...                                                   ...             ...   \n",
       "182231                                          [Trabzon]               1   \n",
       "182232                                       [Rawalpindi]               1   \n",
       "182233                                         [Novi Sad]               1   \n",
       "182234                                          [Palermo]               1   \n",
       "182235                                          [Seville]               1   \n",
       "\n",
       "        City_Counts  \n",
       "0                 1  \n",
       "1                 9  \n",
       "2                 1  \n",
       "3                 1  \n",
       "4                 0  \n",
       "...             ...  \n",
       "182231            1  \n",
       "182232            1  \n",
       "182233            1  \n",
       "182234            1  \n",
       "182235            1  \n",
       "\n",
       "[182236 rows x 6 columns]"
      ]
     },
     "execution_count": 68,
     "metadata": {},
     "output_type": "execute_result"
    }
   ],
   "source": [
    "create_table_sql =\"\"\"\n",
    "DROP TABLE IF EXISTS ctgov.my_locations;\n",
    "\n",
    "CREATE TABLE ctgov.my_locations AS\n",
    "SELECT DISTINCT ON (\n",
    "    studies.nct_id,\n",
    "    countries.name,\n",
    "    facilities.country,\n",
    "    facilities.city\n",
    ")\n",
    "    studies.nct_id,\n",
    "    countries.name AS countries_country,\n",
    "    facilities.country AS facilities_country,\n",
    "    facilities.city AS facilities_city\n",
    "    \n",
    "FROM ctgov.studies \n",
    "LEFT JOIN ctgov.facilities\n",
    "    ON studies.nct_id = facilities.nct_id\n",
    "LEFT JOIN ctgov.countries\n",
    "    ON studies.nct_id = countries.nct_id\n",
    "WHERE TO_CHAR(studies.start_date, 'YYYY-MM') >= '2011-01'\n",
    "  AND studies.study_type = 'INTERVENTIONAL'\n",
    "  AND studies.overall_status IN ('COMPLETED', 'WITHDRAWN', 'TERMINATED')\n",
    "ORDER BY \n",
    "    studies.nct_id, \n",
    "    countries.name, \n",
    "    facilities.country, \n",
    "    facilities.city;\n",
    "\n",
    "\"\"\"\n",
    "# facilities.state, \n",
    "\"\"\"\n",
    "with engine.connect() as conn:\n",
    "    conn.execute(text(create_table_sql))\n",
    "    conn.commit()\n",
    "\"\"\"\n",
    " \n",
    "my_locations = pd.read_sql(\"select * from ctgov.my_locations;\", con = engine)\n",
    "\n",
    "# Fix Country names based on geoDict used in Thesis_Data File\n",
    "country_map = {\n",
    "    'Korea, Republic of': 'South Korea',\n",
    "    'Iran, Islamic Republic of': 'Iran',\n",
    "    'Syrian Arab Republic': 'Syria',\n",
    "    'Russian Federation': 'Russia',\n",
    "    'Czech Republic': 'Czechia',\n",
    "    'Moldova, Republic of': 'Moldova',\n",
    "    'Palestinian Territory, occupied': 'Palestinian Territory',\n",
    "    'Palestinian Territories, Occupied': 'Palestinian Territory',\n",
    "    \"Lao People's Democratic Republic\": 'Laos',\n",
    "    'Libyan Arab Jamahiriya': 'Libya',\n",
    "    'Macedonia, The Former Yugoslav Republic of': 'North Macedonia',\n",
    "    'Brunei Darussalam': 'Brunei',\n",
    "    'Federated States of Micronesia': 'Micronesia',\n",
    "    'Réunion': 'Reunion',\n",
    "    'Congo, The Democratic Republic of the': 'Republic of the Congo',\n",
    "    'Congo': 'Republic of the Congo',\n",
    "    'Timor-Leste': 'Timor Leste'\n",
    "}\n",
    "# countries_country\n",
    "my_locations['countries_country'] = my_locations['countries_country'].apply(\n",
    "    lambda x: [country_map.get(x[0], x[0])] if isinstance(x, list) and len(x) == 1 else x)\n",
    "# facilities_country\n",
    "my_locations['facilities_country'] = my_locations['facilities_country'].apply(\n",
    "    lambda x: [country_map.get(x[0], x[0])] if isinstance(x, list) and len(x) == 1 else x)\n",
    "\n",
    "my_locations = my_locations.groupby(\"nct_id\").agg({\n",
    "    \"countries_country\": lambda x: sorted(set(i for i in x if pd.notnull(i))),\n",
    "    \"facilities_country\": lambda x: sorted(set(i for i in x if pd.notnull(i))),\n",
    "    \"facilities_city\": lambda x: sorted(set(i for i in x if pd.notnull(i)))\n",
    "}).reset_index()\n",
    "\n",
    "# Fix missing facilities County --> Most cases both columns are the same\n",
    "constr = (my_locations['countries_country'] != my_locations['facilities_country']) &\\\n",
    "      (my_locations['facilities_country'].apply(lambda x: len(x) == 0))\n",
    "my_locations.loc[constr, 'facilities_country'] = my_locations.loc[constr, 'countries_country']\n",
    "\n",
    "my_locations[\"Country_Counts\"] = my_locations[\"facilities_country\"].apply(lambda x: len(x))\n",
    "my_locations[\"City_Counts\"] = my_locations[\"facilities_city\"].apply(lambda x: len(x))\n",
    "my_locations"
   ]
  },
  {
   "cell_type": "markdown",
   "id": "d732d663",
   "metadata": {},
   "source": [
    "## my_documents"
   ]
  },
  {
   "cell_type": "code",
   "execution_count": 69,
   "id": "7b1f2bb3",
   "metadata": {},
   "outputs": [
    {
     "data": {
      "application/vnd.microsoft.datawrangler.viewer.v0+json": {
       "columns": [
        {
         "name": "index",
         "rawType": "int64",
         "type": "integer"
        },
        {
         "name": "index",
         "rawType": "int64",
         "type": "integer"
        },
        {
         "name": "nct_id",
         "rawType": "object",
         "type": "string"
        },
        {
         "name": "has_protocol",
         "rawType": "object",
         "type": "unknown"
        },
        {
         "name": "has_icf",
         "rawType": "object",
         "type": "unknown"
        },
        {
         "name": "has_sap",
         "rawType": "object",
         "type": "unknown"
        },
        {
         "name": "Study_Documents",
         "rawType": "object",
         "type": "unknown"
        }
       ],
       "ref": "202f0562-b61c-46f2-aaa6-6cb5020101fc",
       "rows": [
        [
         "0",
         "0",
         "NCT00125528",
         null,
         null,
         null,
         "[]"
        ],
        [
         "1",
         "1",
         "NCT00170209",
         null,
         null,
         null,
         "[]"
        ],
        [
         "2",
         "2",
         "NCT00183482",
         null,
         null,
         null,
         "[]"
        ],
        [
         "3",
         "3",
         "NCT00194714",
         "Protocol",
         "Consent Form",
         "Analysis Plan",
         "['Protocol', 'Consent Form', 'Analysis Plan']"
        ],
        [
         "4",
         "4",
         "NCT00258791",
         null,
         null,
         null,
         "[]"
        ],
        [
         "5",
         "5",
         "NCT00263432",
         null,
         null,
         null,
         "[]"
        ],
        [
         "6",
         "6",
         "NCT00293735",
         null,
         null,
         null,
         "[]"
        ],
        [
         "7",
         "7",
         "NCT00306059",
         null,
         null,
         null,
         "[]"
        ],
        [
         "8",
         "8",
         "NCT00307905",
         null,
         null,
         null,
         "[]"
        ],
        [
         "9",
         "9",
         "NCT00323141",
         null,
         null,
         null,
         "[]"
        ],
        [
         "10",
         "10",
         "NCT00328809",
         null,
         null,
         null,
         "[]"
        ],
        [
         "11",
         "11",
         "NCT00329641",
         null,
         null,
         null,
         "[]"
        ],
        [
         "12",
         "12",
         "NCT00356317",
         null,
         null,
         null,
         "[]"
        ],
        [
         "13",
         "13",
         "NCT00362219",
         null,
         null,
         null,
         "[]"
        ],
        [
         "14",
         "14",
         "NCT00364000",
         null,
         null,
         null,
         "[]"
        ],
        [
         "15",
         "15",
         "NCT00372762",
         null,
         null,
         null,
         "[]"
        ],
        [
         "16",
         "16",
         "NCT00397501",
         null,
         null,
         null,
         "[]"
        ],
        [
         "17",
         "17",
         "NCT00397579",
         "Protocol",
         null,
         "Analysis Plan",
         "['Protocol', 'Analysis Plan']"
        ],
        [
         "18",
         "18",
         "NCT00399594",
         null,
         null,
         null,
         "[]"
        ],
        [
         "19",
         "19",
         "NCT00412048",
         null,
         null,
         null,
         "[]"
        ],
        [
         "20",
         "20",
         "NCT00422422",
         null,
         null,
         null,
         "[]"
        ],
        [
         "21",
         "21",
         "NCT00442494",
         null,
         null,
         null,
         "[]"
        ],
        [
         "22",
         "22",
         "NCT00448201",
         null,
         null,
         null,
         "[]"
        ],
        [
         "23",
         "23",
         "NCT00455039",
         null,
         null,
         null,
         "[]"
        ],
        [
         "24",
         "24",
         "NCT00455052",
         null,
         null,
         null,
         "[]"
        ],
        [
         "25",
         "25",
         "NCT00459641",
         null,
         null,
         null,
         "[]"
        ],
        [
         "26",
         "26",
         "NCT00476255",
         null,
         null,
         null,
         "[]"
        ],
        [
         "27",
         "27",
         "NCT00488605",
         null,
         null,
         null,
         "[]"
        ],
        [
         "28",
         "28",
         "NCT00493701",
         null,
         null,
         null,
         "[]"
        ],
        [
         "29",
         "29",
         "NCT00504322",
         null,
         null,
         null,
         "[]"
        ],
        [
         "30",
         "30",
         "NCT00520624",
         null,
         null,
         null,
         "[]"
        ],
        [
         "31",
         "31",
         "NCT00532584",
         null,
         null,
         null,
         "[]"
        ],
        [
         "32",
         "32",
         "NCT00534235",
         null,
         null,
         null,
         "[]"
        ],
        [
         "33",
         "33",
         "NCT00534404",
         null,
         null,
         null,
         "[]"
        ],
        [
         "34",
         "34",
         "NCT00534703",
         null,
         null,
         null,
         "[]"
        ],
        [
         "35",
         "35",
         "NCT00554996",
         null,
         null,
         null,
         "[]"
        ],
        [
         "36",
         "36",
         "NCT00570050",
         null,
         null,
         null,
         "[]"
        ],
        [
         "37",
         "37",
         "NCT00571246",
         null,
         null,
         null,
         "[]"
        ],
        [
         "38",
         "38",
         "NCT00572533",
         null,
         null,
         null,
         "[]"
        ],
        [
         "39",
         "39",
         "NCT00572689",
         null,
         null,
         null,
         "[]"
        ],
        [
         "40",
         "40",
         "NCT00576771",
         null,
         null,
         null,
         "[]"
        ],
        [
         "41",
         "41",
         "NCT00580580",
         null,
         null,
         null,
         "[]"
        ],
        [
         "42",
         "42",
         "NCT00591877",
         null,
         null,
         null,
         "[]"
        ],
        [
         "43",
         "43",
         "NCT00593164",
         null,
         null,
         null,
         "[]"
        ],
        [
         "44",
         "44",
         "NCT00596856",
         null,
         null,
         null,
         "[]"
        ],
        [
         "45",
         "45",
         "NCT00601952",
         null,
         null,
         null,
         "[]"
        ],
        [
         "46",
         "46",
         "NCT00603460",
         null,
         null,
         null,
         "[]"
        ],
        [
         "47",
         "47",
         "NCT00613418",
         null,
         null,
         null,
         "[]"
        ],
        [
         "48",
         "48",
         "NCT00623948",
         null,
         null,
         null,
         "[]"
        ],
        [
         "49",
         "49",
         "NCT00640094",
         null,
         null,
         null,
         "[]"
        ]
       ],
       "shape": {
        "columns": 6,
        "rows": 182236
       }
      },
      "text/html": [
       "<div>\n",
       "<style scoped>\n",
       "    .dataframe tbody tr th:only-of-type {\n",
       "        vertical-align: middle;\n",
       "    }\n",
       "\n",
       "    .dataframe tbody tr th {\n",
       "        vertical-align: top;\n",
       "    }\n",
       "\n",
       "    .dataframe thead th {\n",
       "        text-align: right;\n",
       "    }\n",
       "</style>\n",
       "<table border=\"1\" class=\"dataframe\">\n",
       "  <thead>\n",
       "    <tr style=\"text-align: right;\">\n",
       "      <th></th>\n",
       "      <th>index</th>\n",
       "      <th>nct_id</th>\n",
       "      <th>has_protocol</th>\n",
       "      <th>has_icf</th>\n",
       "      <th>has_sap</th>\n",
       "      <th>Study_Documents</th>\n",
       "    </tr>\n",
       "  </thead>\n",
       "  <tbody>\n",
       "    <tr>\n",
       "      <th>0</th>\n",
       "      <td>0</td>\n",
       "      <td>NCT00125528</td>\n",
       "      <td>None</td>\n",
       "      <td>None</td>\n",
       "      <td>None</td>\n",
       "      <td>[]</td>\n",
       "    </tr>\n",
       "    <tr>\n",
       "      <th>1</th>\n",
       "      <td>1</td>\n",
       "      <td>NCT00170209</td>\n",
       "      <td>None</td>\n",
       "      <td>None</td>\n",
       "      <td>None</td>\n",
       "      <td>[]</td>\n",
       "    </tr>\n",
       "    <tr>\n",
       "      <th>2</th>\n",
       "      <td>2</td>\n",
       "      <td>NCT00183482</td>\n",
       "      <td>None</td>\n",
       "      <td>None</td>\n",
       "      <td>None</td>\n",
       "      <td>[]</td>\n",
       "    </tr>\n",
       "    <tr>\n",
       "      <th>3</th>\n",
       "      <td>3</td>\n",
       "      <td>NCT00194714</td>\n",
       "      <td>Protocol</td>\n",
       "      <td>Consent Form</td>\n",
       "      <td>Analysis Plan</td>\n",
       "      <td>[Protocol, Consent Form, Analysis Plan]</td>\n",
       "    </tr>\n",
       "    <tr>\n",
       "      <th>4</th>\n",
       "      <td>4</td>\n",
       "      <td>NCT00258791</td>\n",
       "      <td>None</td>\n",
       "      <td>None</td>\n",
       "      <td>None</td>\n",
       "      <td>[]</td>\n",
       "    </tr>\n",
       "    <tr>\n",
       "      <th>...</th>\n",
       "      <td>...</td>\n",
       "      <td>...</td>\n",
       "      <td>...</td>\n",
       "      <td>...</td>\n",
       "      <td>...</td>\n",
       "      <td>...</td>\n",
       "    </tr>\n",
       "    <tr>\n",
       "      <th>182231</th>\n",
       "      <td>182231</td>\n",
       "      <td>NCT06875349</td>\n",
       "      <td>None</td>\n",
       "      <td>None</td>\n",
       "      <td>None</td>\n",
       "      <td>[]</td>\n",
       "    </tr>\n",
       "    <tr>\n",
       "      <th>182232</th>\n",
       "      <td>182232</td>\n",
       "      <td>NCT06875557</td>\n",
       "      <td>None</td>\n",
       "      <td>None</td>\n",
       "      <td>None</td>\n",
       "      <td>[]</td>\n",
       "    </tr>\n",
       "    <tr>\n",
       "      <th>182233</th>\n",
       "      <td>182233</td>\n",
       "      <td>NCT06875661</td>\n",
       "      <td>None</td>\n",
       "      <td>None</td>\n",
       "      <td>None</td>\n",
       "      <td>[]</td>\n",
       "    </tr>\n",
       "    <tr>\n",
       "      <th>182234</th>\n",
       "      <td>182234</td>\n",
       "      <td>NCT06875674</td>\n",
       "      <td>None</td>\n",
       "      <td>None</td>\n",
       "      <td>None</td>\n",
       "      <td>[]</td>\n",
       "    </tr>\n",
       "    <tr>\n",
       "      <th>182235</th>\n",
       "      <td>182235</td>\n",
       "      <td>NCT06875687</td>\n",
       "      <td>None</td>\n",
       "      <td>None</td>\n",
       "      <td>None</td>\n",
       "      <td>[]</td>\n",
       "    </tr>\n",
       "  </tbody>\n",
       "</table>\n",
       "<p>182236 rows × 6 columns</p>\n",
       "</div>"
      ],
      "text/plain": [
       "         index       nct_id has_protocol       has_icf        has_sap  \\\n",
       "0            0  NCT00125528         None          None           None   \n",
       "1            1  NCT00170209         None          None           None   \n",
       "2            2  NCT00183482         None          None           None   \n",
       "3            3  NCT00194714     Protocol  Consent Form  Analysis Plan   \n",
       "4            4  NCT00258791         None          None           None   \n",
       "...        ...          ...          ...           ...            ...   \n",
       "182231  182231  NCT06875349         None          None           None   \n",
       "182232  182232  NCT06875557         None          None           None   \n",
       "182233  182233  NCT06875661         None          None           None   \n",
       "182234  182234  NCT06875674         None          None           None   \n",
       "182235  182235  NCT06875687         None          None           None   \n",
       "\n",
       "                                Study_Documents  \n",
       "0                                            []  \n",
       "1                                            []  \n",
       "2                                            []  \n",
       "3       [Protocol, Consent Form, Analysis Plan]  \n",
       "4                                            []  \n",
       "...                                         ...  \n",
       "182231                                       []  \n",
       "182232                                       []  \n",
       "182233                                       []  \n",
       "182234                                       []  \n",
       "182235                                       []  \n",
       "\n",
       "[182236 rows x 6 columns]"
      ]
     },
     "execution_count": 69,
     "metadata": {},
     "output_type": "execute_result"
    }
   ],
   "source": [
    "create_table_sql =\"\"\"\n",
    "DROP TABLE IF EXISTS ctgov.my_documents;\n",
    "\n",
    "CREATE TABLE ctgov.my_documents AS\n",
    "SELECT DISTINCT ON \n",
    "( \n",
    "studies.nct_id, \n",
    "provided_documents.has_protocol, \n",
    "provided_documents.has_icf, \n",
    "provided_documents.has_sap\n",
    ")\n",
    "studies.nct_id, \n",
    "provided_documents.has_protocol, \n",
    "provided_documents.has_icf, \n",
    "provided_documents.has_sap \n",
    "FROM ctgov.studies\n",
    "LEFT JOIN ctgov.provided_documents\n",
    "  ON studies.nct_id = provided_documents.nct_id\n",
    "WHERE TO_CHAR(studies.start_date, 'YYYY-MM') >= '2011-01'\n",
    "  AND studies.study_type = 'INTERVENTIONAL'\n",
    "  AND studies.overall_status in ('COMPLETED', 'WITHDRAWN', 'TERMINATED')\n",
    "ORDER BY studies.nct_id;\n",
    "\n",
    "\"\"\"\n",
    "\n",
    "\"\"\"with engine.connect() as conn:\n",
    "    conn.execute(text(create_table_sql))\n",
    "    conn.commit()\"\"\"\n",
    "    \n",
    "my_documents = pd.read_sql(\"select * from ctgov.my_documents;\", con = engine)\n",
    "\n",
    "my_documents[\"has_protocol\"] = my_documents[\"has_protocol\"].replace({True : \"Protocol\", False : np.NaN})\n",
    "my_documents[\"has_icf\"] = my_documents[\"has_icf\"].replace({True : \"Consent Form\", False : np.NaN})\n",
    "my_documents[\"has_sap\"] = my_documents[\"has_sap\"].replace({True : \"Analysis Plan\", False : np.NaN})\n",
    "\n",
    "my_documents = my_documents.groupby(\"nct_id\", as_index=False).agg({\n",
    "    'has_protocol': 'first',\n",
    "    'has_icf': 'first',\n",
    "    'has_sap': 'first'\n",
    "}).reset_index()\n",
    "\n",
    "my_documents[\"Study_Documents\"] = my_documents[[\"has_protocol\", \"has_icf\", \"has_sap\"]].apply(\n",
    "    lambda row: [val for val in row if pd.notna(val) and val != \"None\"],\n",
    "    axis=1)\n",
    "my_documents['Study_Documents'] = my_documents['Study_Documents'].apply(lambda x: list(set(sorted(x))))\n",
    "my_documents"
   ]
  },
  {
   "cell_type": "markdown",
   "id": "b2afcc80",
   "metadata": {},
   "source": [
    "## my_source"
   ]
  },
  {
   "cell_type": "code",
   "execution_count": 70,
   "id": "474b583a",
   "metadata": {},
   "outputs": [
    {
     "data": {
      "application/vnd.microsoft.datawrangler.viewer.v0+json": {
       "columns": [
        {
         "name": "index",
         "rawType": "int64",
         "type": "integer"
        },
        {
         "name": "nct_id",
         "rawType": "object",
         "type": "string"
        },
        {
         "name": "source",
         "rawType": "object",
         "type": "string"
        },
        {
         "name": "source_class",
         "rawType": "object",
         "type": "string"
        }
       ],
       "ref": "a051f1bd-0c79-416c-96f3-05229f3bf3f3",
       "rows": [
        [
         "0",
         "NCT00125528",
         "Northwestern University",
         "OTHER"
        ],
        [
         "1",
         "NCT00170209",
         "McGill University",
         "OTHER"
        ],
        [
         "2",
         "NCT00183482",
         "Vanderbilt University",
         "OTHER"
        ],
        [
         "3",
         "NCT00194714",
         "University of Washington",
         "OTHER"
        ],
        [
         "4",
         "NCT00258791",
         "Norwegian University of Science and Technology",
         "OTHER"
        ],
        [
         "5",
         "NCT00263432",
         "University Hospital, Ghent",
         "OTHER"
        ],
        [
         "6",
         "NCT00293735",
         "Baylor College of Medicine",
         "OTHER"
        ],
        [
         "7",
         "NCT00306059",
         "University Hospital, Ghent",
         "OTHER"
        ],
        [
         "8",
         "NCT00307905",
         "Shaare Zedek Medical Center",
         "OTHER"
        ],
        [
         "9",
         "NCT00323141",
         "University Hospital, Ghent",
         "OTHER"
        ],
        [
         "10",
         "NCT00328809",
         "State University of New York - Upstate Medical University",
         "OTHER"
        ],
        [
         "11",
         "NCT00329641",
         "National Cancer Institute (NCI)",
         "NIH"
        ],
        [
         "12",
         "NCT00356317",
         "University of Miami",
         "OTHER"
        ],
        [
         "13",
         "NCT00362219",
         "Rambam Health Care Campus",
         "OTHER"
        ],
        [
         "14",
         "NCT00364000",
         "Romanian Society of Nephrology",
         "OTHER"
        ],
        [
         "15",
         "NCT00372762",
         "London Health Sciences Centre OR Lawson Research Institute of St. Joseph's",
         "OTHER"
        ],
        [
         "16",
         "NCT00397501",
         "OHSU Knight Cancer Institute",
         "OTHER"
        ],
        [
         "17",
         "NCT00397579",
         "University of Texas Southwestern Medical Center",
         "OTHER"
        ],
        [
         "18",
         "NCT00399594",
         "University of Calgary",
         "OTHER"
        ],
        [
         "19",
         "NCT00412048",
         "University Hospital, Strasbourg, France",
         "OTHER"
        ],
        [
         "20",
         "NCT00422422",
         "UCB Pharma",
         "INDUSTRY"
        ],
        [
         "21",
         "NCT00442494",
         "Kuopio University Hospital",
         "OTHER"
        ],
        [
         "22",
         "NCT00448201",
         "UNC Lineberger Comprehensive Cancer Center",
         "OTHER"
        ],
        [
         "23",
         "NCT00455039",
         "University of New Mexico",
         "OTHER"
        ],
        [
         "24",
         "NCT00455052",
         "Mersana Therapeutics",
         "INDUSTRY"
        ],
        [
         "25",
         "NCT00459641",
         "Kuros Biosurgery AG",
         "INDUSTRY"
        ],
        [
         "26",
         "NCT00476255",
         "Rhode Island Hospital",
         "OTHER"
        ],
        [
         "27",
         "NCT00488605",
         "University of New Mexico",
         "OTHER"
        ],
        [
         "28",
         "NCT00493701",
         "Pennington Biomedical Research Center",
         "OTHER"
        ],
        [
         "29",
         "NCT00504322",
         "Weill Medical College of Cornell University",
         "OTHER"
        ],
        [
         "30",
         "NCT00520624",
         "Bispebjerg Hospital",
         "OTHER"
        ],
        [
         "31",
         "NCT00532584",
         "Weill Medical College of Cornell University",
         "OTHER"
        ],
        [
         "32",
         "NCT00534235",
         "Paradigm Spine",
         "INDUSTRY"
        ],
        [
         "33",
         "NCT00534404",
         "University of Michigan",
         "OTHER"
        ],
        [
         "34",
         "NCT00534703",
         "Imperial College London",
         "OTHER"
        ],
        [
         "35",
         "NCT00554996",
         "VA Office of Research and Development",
         "FED"
        ],
        [
         "36",
         "NCT00570050",
         "University Health Network, Toronto",
         "OTHER"
        ],
        [
         "37",
         "NCT00571246",
         "Yale University",
         "OTHER"
        ],
        [
         "38",
         "NCT00572533",
         "University of Louisville",
         "OTHER"
        ],
        [
         "39",
         "NCT00572689",
         "Georgetown University",
         "OTHER"
        ],
        [
         "40",
         "NCT00576771",
         "Policlinico Hospital",
         "OTHER"
        ],
        [
         "41",
         "NCT00580580",
         "University of Nebraska",
         "OTHER"
        ],
        [
         "42",
         "NCT00591877",
         "Midwest Veterans' Biomedical Research Foundation",
         "OTHER"
        ],
        [
         "43",
         "NCT00593164",
         "Life Recovery Systems",
         "OTHER"
        ],
        [
         "44",
         "NCT00596856",
         "University of North Carolina, Chapel Hill",
         "OTHER"
        ],
        [
         "45",
         "NCT00601952",
         "San Diego State University",
         "OTHER"
        ],
        [
         "46",
         "NCT00603460",
         "University of Pennsylvania",
         "OTHER"
        ],
        [
         "47",
         "NCT00613418",
         "Abbott Medical Devices",
         "INDUSTRY"
        ],
        [
         "48",
         "NCT00623948",
         "VA Office of Research and Development",
         "FED"
        ],
        [
         "49",
         "NCT00640094",
         "Fundación Canaria Rafael Clavijo para la Investigación Biomédica",
         "OTHER"
        ]
       ],
       "shape": {
        "columns": 3,
        "rows": 182236
       }
      },
      "text/html": [
       "<div>\n",
       "<style scoped>\n",
       "    .dataframe tbody tr th:only-of-type {\n",
       "        vertical-align: middle;\n",
       "    }\n",
       "\n",
       "    .dataframe tbody tr th {\n",
       "        vertical-align: top;\n",
       "    }\n",
       "\n",
       "    .dataframe thead th {\n",
       "        text-align: right;\n",
       "    }\n",
       "</style>\n",
       "<table border=\"1\" class=\"dataframe\">\n",
       "  <thead>\n",
       "    <tr style=\"text-align: right;\">\n",
       "      <th></th>\n",
       "      <th>nct_id</th>\n",
       "      <th>source</th>\n",
       "      <th>source_class</th>\n",
       "    </tr>\n",
       "  </thead>\n",
       "  <tbody>\n",
       "    <tr>\n",
       "      <th>0</th>\n",
       "      <td>NCT00125528</td>\n",
       "      <td>Northwestern University</td>\n",
       "      <td>OTHER</td>\n",
       "    </tr>\n",
       "    <tr>\n",
       "      <th>1</th>\n",
       "      <td>NCT00170209</td>\n",
       "      <td>McGill University</td>\n",
       "      <td>OTHER</td>\n",
       "    </tr>\n",
       "    <tr>\n",
       "      <th>2</th>\n",
       "      <td>NCT00183482</td>\n",
       "      <td>Vanderbilt University</td>\n",
       "      <td>OTHER</td>\n",
       "    </tr>\n",
       "    <tr>\n",
       "      <th>3</th>\n",
       "      <td>NCT00194714</td>\n",
       "      <td>University of Washington</td>\n",
       "      <td>OTHER</td>\n",
       "    </tr>\n",
       "    <tr>\n",
       "      <th>4</th>\n",
       "      <td>NCT00258791</td>\n",
       "      <td>Norwegian University of Science and Technology</td>\n",
       "      <td>OTHER</td>\n",
       "    </tr>\n",
       "    <tr>\n",
       "      <th>...</th>\n",
       "      <td>...</td>\n",
       "      <td>...</td>\n",
       "      <td>...</td>\n",
       "    </tr>\n",
       "    <tr>\n",
       "      <th>182231</th>\n",
       "      <td>NCT06875349</td>\n",
       "      <td>Karadeniz Technical University</td>\n",
       "      <td>OTHER</td>\n",
       "    </tr>\n",
       "    <tr>\n",
       "      <th>182232</th>\n",
       "      <td>NCT06875557</td>\n",
       "      <td>Fatima Jinnah Women University</td>\n",
       "      <td>OTHER</td>\n",
       "    </tr>\n",
       "    <tr>\n",
       "      <th>182233</th>\n",
       "      <td>NCT06875661</td>\n",
       "      <td>University of Novi Sad</td>\n",
       "      <td>OTHER</td>\n",
       "    </tr>\n",
       "    <tr>\n",
       "      <th>182234</th>\n",
       "      <td>NCT06875674</td>\n",
       "      <td>University of Palermo</td>\n",
       "      <td>OTHER</td>\n",
       "    </tr>\n",
       "    <tr>\n",
       "      <th>182235</th>\n",
       "      <td>NCT06875687</td>\n",
       "      <td>University of Seville</td>\n",
       "      <td>OTHER</td>\n",
       "    </tr>\n",
       "  </tbody>\n",
       "</table>\n",
       "<p>182236 rows × 3 columns</p>\n",
       "</div>"
      ],
      "text/plain": [
       "             nct_id                                          source  \\\n",
       "0       NCT00125528                         Northwestern University   \n",
       "1       NCT00170209                               McGill University   \n",
       "2       NCT00183482                           Vanderbilt University   \n",
       "3       NCT00194714                        University of Washington   \n",
       "4       NCT00258791  Norwegian University of Science and Technology   \n",
       "...             ...                                             ...   \n",
       "182231  NCT06875349                  Karadeniz Technical University   \n",
       "182232  NCT06875557                  Fatima Jinnah Women University   \n",
       "182233  NCT06875661                          University of Novi Sad   \n",
       "182234  NCT06875674                           University of Palermo   \n",
       "182235  NCT06875687                           University of Seville   \n",
       "\n",
       "       source_class  \n",
       "0             OTHER  \n",
       "1             OTHER  \n",
       "2             OTHER  \n",
       "3             OTHER  \n",
       "4             OTHER  \n",
       "...             ...  \n",
       "182231        OTHER  \n",
       "182232        OTHER  \n",
       "182233        OTHER  \n",
       "182234        OTHER  \n",
       "182235        OTHER  \n",
       "\n",
       "[182236 rows x 3 columns]"
      ]
     },
     "execution_count": 70,
     "metadata": {},
     "output_type": "execute_result"
    }
   ],
   "source": [
    "create_table_sql = \"\"\"\n",
    "DROP TABLE IF EXISTS ctgov.my_source;\n",
    "\n",
    "CREATE TABLE ctgov.my_source AS\n",
    "select \n",
    "distinct on \n",
    "(\n",
    "studies.nct_id,\n",
    "studies.source,\n",
    "studies.source_class\n",
    ")\n",
    "studies.nct_id,\n",
    "studies.source,\n",
    "studies.source_class\n",
    "from ctgov.studies\n",
    "WHERE TO_CHAR(studies.start_date, 'YYYY-MM') >= '2011-01'\n",
    "  AND studies.study_type = 'INTERVENTIONAL'\n",
    "  AND studies.overall_status in ('COMPLETED', 'WITHDRAWN', 'TERMINATED')\n",
    "order by \n",
    "studies.nct_id,\n",
    "studies.source,\n",
    "studies.source_class;\n",
    "\"\"\"\n",
    "\"\"\"\n",
    "with engine.connect() as conn:\n",
    "    conn.execute(text(create_table_sql))\n",
    "    conn.commit()\"\"\"\n",
    "\n",
    "my_source = pd.read_sql(\"select * from ctgov.my_source;\", con = engine)\n",
    "my_source"
   ]
  },
  {
   "cell_type": "markdown",
   "id": "14bdd40f",
   "metadata": {},
   "source": [
    "# 2) Save Dfs"
   ]
  },
  {
   "cell_type": "code",
   "execution_count": 15,
   "id": "73bec681",
   "metadata": {},
   "outputs": [
    {
     "ename": "NameError",
     "evalue": "name 'my_soc' is not defined",
     "output_type": "error",
     "traceback": [
      "\u001b[1;31m---------------------------------------------------------------------------\u001b[0m",
      "\u001b[1;31mNameError\u001b[0m                                 Traceback (most recent call last)",
      "Cell \u001b[1;32mIn[15], line 8\u001b[0m\n\u001b[0;32m      6\u001b[0m my_interventions\u001b[38;5;241m.\u001b[39mto_pickle(\u001b[38;5;124mr\u001b[39m\u001b[38;5;124m\"\u001b[39m\u001b[38;5;124mC:\u001b[39m\u001b[38;5;124m\\\u001b[39m\u001b[38;5;124mUsers\u001b[39m\u001b[38;5;124m\\\u001b[39m\u001b[38;5;124mEugenia\u001b[39m\u001b[38;5;124m\\\u001b[39m\u001b[38;5;124mOneDrive\u001b[39m\u001b[38;5;124m\\\u001b[39m\u001b[38;5;124mDocuments\u001b[39m\u001b[38;5;124m\\\u001b[39m\u001b[38;5;124mTHESIS\u001b[39m\u001b[38;5;124m\\\u001b[39m\u001b[38;5;124mmy_interventions.pkl\u001b[39m\u001b[38;5;124m\"\u001b[39m)  \n\u001b[0;32m      7\u001b[0m my_interventions_types\u001b[38;5;241m.\u001b[39mto_pickle(\u001b[38;5;124mr\u001b[39m\u001b[38;5;124m\"\u001b[39m\u001b[38;5;124mC:\u001b[39m\u001b[38;5;124m\\\u001b[39m\u001b[38;5;124mUsers\u001b[39m\u001b[38;5;124m\\\u001b[39m\u001b[38;5;124mEugenia\u001b[39m\u001b[38;5;124m\\\u001b[39m\u001b[38;5;124mOneDrive\u001b[39m\u001b[38;5;124m\\\u001b[39m\u001b[38;5;124mDocuments\u001b[39m\u001b[38;5;124m\\\u001b[39m\u001b[38;5;124mTHESIS\u001b[39m\u001b[38;5;124m\\\u001b[39m\u001b[38;5;124mmy_interventions_types.pkl\u001b[39m\u001b[38;5;124m\"\u001b[39m)  \n\u001b[1;32m----> 8\u001b[0m \u001b[43mmy_soc\u001b[49m\u001b[38;5;241m.\u001b[39mto_pickle(\u001b[38;5;124mr\u001b[39m\u001b[38;5;124m\"\u001b[39m\u001b[38;5;124mC:\u001b[39m\u001b[38;5;124m\\\u001b[39m\u001b[38;5;124mUsers\u001b[39m\u001b[38;5;124m\\\u001b[39m\u001b[38;5;124mEugenia\u001b[39m\u001b[38;5;124m\\\u001b[39m\u001b[38;5;124mOneDrive\u001b[39m\u001b[38;5;124m\\\u001b[39m\u001b[38;5;124mDocuments\u001b[39m\u001b[38;5;124m\\\u001b[39m\u001b[38;5;124mTHESIS\u001b[39m\u001b[38;5;124m\\\u001b[39m\u001b[38;5;124mmy_soc.pkl\u001b[39m\u001b[38;5;124m\"\u001b[39m)  \n\u001b[0;32m      9\u001b[0m my_intervention_methods2\u001b[38;5;241m.\u001b[39mto_pickle(\u001b[38;5;124mr\u001b[39m\u001b[38;5;124m\"\u001b[39m\u001b[38;5;124mC:\u001b[39m\u001b[38;5;124m\\\u001b[39m\u001b[38;5;124mUsers\u001b[39m\u001b[38;5;124m\\\u001b[39m\u001b[38;5;124mEugenia\u001b[39m\u001b[38;5;124m\\\u001b[39m\u001b[38;5;124mOneDrive\u001b[39m\u001b[38;5;124m\\\u001b[39m\u001b[38;5;124mDocuments\u001b[39m\u001b[38;5;124m\\\u001b[39m\u001b[38;5;124mTHESIS\u001b[39m\u001b[38;5;124m\\\u001b[39m\u001b[38;5;124mmy_intervention_methods2.pkl\u001b[39m\u001b[38;5;124m\"\u001b[39m)  \n\u001b[0;32m     10\u001b[0m my_intervention_methods\u001b[38;5;241m.\u001b[39mto_pickle(\u001b[38;5;124mr\u001b[39m\u001b[38;5;124m\"\u001b[39m\u001b[38;5;124mC:\u001b[39m\u001b[38;5;124m\\\u001b[39m\u001b[38;5;124mUsers\u001b[39m\u001b[38;5;124m\\\u001b[39m\u001b[38;5;124mEugenia\u001b[39m\u001b[38;5;124m\\\u001b[39m\u001b[38;5;124mOneDrive\u001b[39m\u001b[38;5;124m\\\u001b[39m\u001b[38;5;124mDocuments\u001b[39m\u001b[38;5;124m\\\u001b[39m\u001b[38;5;124mTHESIS\u001b[39m\u001b[38;5;124m\\\u001b[39m\u001b[38;5;124mmy_intervention_methods.pkl\u001b[39m\u001b[38;5;124m\"\u001b[39m)  \n",
      "\u001b[1;31mNameError\u001b[0m: name 'my_soc' is not defined"
     ]
    }
   ],
   "source": [
    "my_studies.to_pickle(r\"C:\\Users\\Eugenia\\OneDrive\\Documents\\THESIS\\my_studies.pkl\")\n",
    "my_terminations.to_pickle(r\"C:\\Users\\Eugenia\\OneDrive\\Documents\\THESIS\\my_terminations.pkl\")  \n",
    "my_conditions.to_pickle(r\"C:\\Users\\Eugenia\\OneDrive\\Documents\\THESIS\\my_conditions.pkl\")  \n",
    "my_covid.to_pickle(r\"C:\\Users\\Eugenia\\OneDrive\\Documents\\THESIS\\my_covid.pkl\")  \n",
    "my_placebo.to_pickle(r\"C:\\Users\\Eugenia\\OneDrive\\Documents\\THESIS\\my_placebo.pkl\")  \n",
    "my_interventions.to_pickle(r\"C:\\Users\\Eugenia\\OneDrive\\Documents\\THESIS\\my_interventions.pkl\")  \n",
    "my_interventions_types.to_pickle(r\"C:\\Users\\Eugenia\\OneDrive\\Documents\\THESIS\\my_interventions_types.pkl\")  \n",
    "my_soc.to_pickle(r\"C:\\Users\\Eugenia\\OneDrive\\Documents\\THESIS\\my_soc.pkl\")  \n",
    "my_intervention_methods2.to_pickle(r\"C:\\Users\\Eugenia\\OneDrive\\Documents\\THESIS\\my_intervention_methods2.pkl\")  \n",
    "my_intervention_methods.to_pickle(r\"C:\\Users\\Eugenia\\OneDrive\\Documents\\THESIS\\my_intervention_methods.pkl\")  \n",
    "my_adverse.to_pickle(r\"C:\\Users\\Eugenia\\OneDrive\\Documents\\THESIS\\my_adverse.pkl\")  \n",
    "my_adverse_system.to_pickle(r\"C:\\Users\\Eugenia\\OneDrive\\Documents\\THESIS\\my_adverse_system.pkl\")  \n",
    "my_designs.to_pickle(r\"C:\\Users\\Eugenia\\OneDrive\\Documents\\THESIS\\my_designs.pkl\")  \n",
    "my_eligibilities.to_pickle(r\"C:\\Users\\Eugenia\\OneDrive\\Documents\\THESIS\\my_eligibilities.pkl\")  \n",
    "my_outcomes.to_pickle(r\"C:\\Users\\Eugenia\\OneDrive\\Documents\\THESIS\\my_outcomes.pkl\")  \n",
    "my_locations.to_pickle(r\"C:\\Users\\Eugenia\\OneDrive\\Documents\\THESIS\\my_locations.pkl\")  \n",
    "my_documents.to_pickle(r\"C:\\Users\\Eugenia\\OneDrive\\Documents\\THESIS\\my_documents.pkl\")  \n",
    "my_source.to_pickle(r\"C:\\Users\\Eugenia\\OneDrive\\Documents\\THESIS\\my_source.pkl\")  "
   ]
  }
 ],
 "metadata": {
  "kernelspec": {
   "display_name": "Python 3",
   "language": "python",
   "name": "python3"
  },
  "language_info": {
   "codemirror_mode": {
    "name": "ipython",
    "version": 3
   },
   "file_extension": ".py",
   "mimetype": "text/x-python",
   "name": "python",
   "nbconvert_exporter": "python",
   "pygments_lexer": "ipython3",
   "version": "3.12.10"
  }
 },
 "nbformat": 4,
 "nbformat_minor": 5
}
