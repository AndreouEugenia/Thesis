{
 "cells": [
  {
   "cell_type": "markdown",
   "id": "473615fe",
   "metadata": {},
   "source": [
    "# Libraries"
   ]
  },
  {
   "cell_type": "code",
   "execution_count": 193,
   "id": "1c2acc66",
   "metadata": {},
   "outputs": [],
   "source": [
    "import pandas as pd\n",
    "import numpy as np\n",
    "import pickle\n",
    "from sqlalchemy import create_engine\n",
    "from sqlalchemy import text"
   ]
  },
  {
   "cell_type": "markdown",
   "id": "45796b01",
   "metadata": {},
   "source": [
    "# 1) SQL"
   ]
  },
  {
   "cell_type": "markdown",
   "id": "02675f91",
   "metadata": {},
   "source": [
    "## Engine"
   ]
  },
  {
   "cell_type": "code",
   "execution_count": 194,
   "id": "fcecb92a",
   "metadata": {
    "tags": [
     "hide_input"
    ]
   },
   "outputs": [
    {
     "name": "stdout",
     "output_type": "stream",
     "text": [
      "5432 <class 'int'>\n"
     ]
    }
   ],
   "source": [
    "import Codes\n",
    "print(Codes.port, type(Codes.port))\n",
    "from Codes import host, port, database, user, password\n",
    "\n",
    "connection_string = f\"postgresql+psycopg2://{user}:{password}@{host}:{port}/{database}\"\n",
    "engine = create_engine(connection_string)"
   ]
  },
  {
   "cell_type": "markdown",
   "id": "bd8705c8",
   "metadata": {},
   "source": [
    "# Tables"
   ]
  },
  {
   "cell_type": "markdown",
   "id": "c3ecf7c1",
   "metadata": {},
   "source": [
    "## my_studies_withdrawn"
   ]
  },
  {
   "cell_type": "code",
   "execution_count": 195,
   "id": "61fc071b",
   "metadata": {},
   "outputs": [
    {
     "data": {
      "application/vnd.microsoft.datawrangler.viewer.v0+json": {
       "columns": [
        {
         "name": "index",
         "rawType": "int64",
         "type": "integer"
        },
        {
         "name": "nct_id",
         "rawType": "object",
         "type": "string"
        },
        {
         "name": "brief_title",
         "rawType": "object",
         "type": "string"
        },
        {
         "name": "official_title",
         "rawType": "object",
         "type": "unknown"
        },
        {
         "name": "overall_status",
         "rawType": "object",
         "type": "string"
        },
        {
         "name": "phase",
         "rawType": "object",
         "type": "string"
        },
        {
         "name": "number_of_arms",
         "rawType": "float64",
         "type": "float"
        },
        {
         "name": "enrollment",
         "rawType": "float64",
         "type": "float"
        }
       ],
       "ref": "5d12120c-ff01-4749-8632-df80ef0d96a7",
       "rows": [
        [
         "0",
         "NCT00125528",
         "D-cycloserine in the Management of Chronic Low Back Pain",
         "D-Cycloserine in the Management of Chronic Low Back Pain: A Double-Blind, Randomized, Placebo-Controlled Pilot Study",
         "COMPLETED",
         "PHASE2",
         "2.0",
         "41.0"
        ],
        [
         "1",
         "NCT00170209",
         "Rifampin Versus Isoniazid for the Treatment of Latent Tuberculosis Infection in Children (P4v9)",
         "A Randomized Trial to Compare Effectiveness of 4 Months Rifampin (4 RIF) With 9 Months Isoniazid (9 INH) in the Prevention of Active TB in Children: The P4v9 Trial",
         "COMPLETED",
         "PHASE3",
         "2.0",
         "844.0"
        ],
        [
         "2",
         "NCT00306059",
         "Early Goal Directed Therapy for Acute Kidney Injury",
         "Early Goal Directed Therapy for Acute Kidney Injury",
         "WITHDRAWN",
         "PHASE2",
         "1.0",
         "0.0"
        ],
        [
         "3",
         "NCT00307905",
         "TRAUMEEL for Pain After Fracture of Neck of Femur",
         "A Randomised, Double - Blind, Placebo Controlled Clinical Trial to Assess the Efficacy of the Homeopathic Medication TRAUMEEL S in Controlling Post-operative Pain After Fracture of Neck of Femur",
         "WITHDRAWN",
         "PHASE3",
         "2.0",
         "224.0"
        ],
        [
         "4",
         "NCT00328809",
         "Spironolactone Safety in Dialysis Patients",
         "Subjects With Severe Heart Failure and End-Stage Renal Disease on Hemodialysis: A Pilot Study to Assess Safety and Tolerability of Spironolactone",
         "WITHDRAWN",
         "PHASE4",
         "1.0",
         "0.0"
        ],
        [
         "5",
         "NCT00329641",
         "Sorafenib, Carboplatin, and Paclitaxel in Treating Patients With Stage IV Melanoma of the Eye",
         "Phase II Trial of BAY 43-9006 (Sorafenib; NSC-724772) in Combination With Carboplatin and Paclitaxel in Patients With Metastatic Uveal Melanoma",
         "COMPLETED",
         "PHASE2",
         "1.0",
         "25.0"
        ],
        [
         "6",
         "NCT00356317",
         "Culturally Based Family Therapy for Improving Treatment Outcome for People With Schizophrenia",
         "A Culturally Based Family Therapy for Schizophrenia",
         "COMPLETED",
         "PHASE2",
         "2.0",
         "400.0"
        ],
        [
         "7",
         "NCT00362219",
         "Topical Morphine for Analgesia in Patients With Skin Grafts",
         "Topical Morphine for Analgesia in Patients With Skin Grafts",
         "WITHDRAWN",
         "PHASE3",
         "4.0",
         "0.0"
        ],
        [
         "8",
         "NCT00372762",
         "Bumetanide Versus Furosemide in Heart Failure",
         "Bumetanide Has a More Favourable Effect on Insulin Resistance Than Furosemide in Patients With Heart Failure - A Pilot Study",
         "WITHDRAWN",
         "PHASE3",
         "2.0",
         "0.0"
        ],
        [
         "9",
         "NCT00422422",
         "Open-label, Pharmacokinetic, Safety and Efficacy Study of Adjunctive Brivaracetam in Children With Epilepsy.",
         "Open-Label, Single-Arm, Multicenter, Pharmacokinetic, Safety, and Efficacy Study of Adjunctive Administration of Brivaracetam in Subjects From ≥1 Month to <16 Years Old With Epilepsy",
         "COMPLETED",
         "PHASE2",
         "1.0",
         "100.0"
        ],
        [
         "10",
         "NCT00448201",
         "Reduced-Intensity Busulfan and Fludarabine With or Without Antithymocyte Globulin Followed by Donor Stem Cell Transplant in Treating Patients With Hematologic Cancer or Other Disease",
         "Allogeneic Hematopoietic Cell Transplantation for Patients With Hematologic Disorders Who Are Ineligible or Inappropriate for Treatment With a More Intensive Therapeutic Regimen",
         "COMPLETED",
         "PHASE2",
         "4.0",
         "71.0"
        ],
        [
         "11",
         "NCT00455052",
         "A Study of Intravenous XMT-1001 in Patients With Advanced Solid Tumors",
         "A Phase 1 Study of the Safety, Tolerability, and Pharmacokinetics of Intravenous XMT-1001 in Patients With Advanced Solid Tumors",
         "COMPLETED",
         "PHASE1",
         "1.0",
         "30.0"
        ],
        [
         "12",
         "NCT00459641",
         "Safety and Tolerability of I-040302 in Children and Young Adults With Solitary Bone Cysts",
         "A Phase 2 Randomised, Open-label, Multi-centre Ascending Dose Study of the Efficacy, Safety and Tolerability of I-040302 Versus Control Injection (Bone Marrow Aspirate or Steroids) in Children and Young Adults With Solitary Bone Cysts",
         "WITHDRAWN",
         "PHASE2",
         "2.0",
         "0.0"
        ],
        [
         "13",
         "NCT00488605",
         "H-9926-LCH III: Treatment Protocol of the Third International Study for Langerhans Cell Histiocytosis",
         "H-9926-LCH III: Treatment Protocol of the Third International Study for Langerhans Cell Histiocytosis",
         "WITHDRAWN",
         "PHASE3",
         "2.0",
         "0.0"
        ],
        [
         "14",
         "NCT00532584",
         "Effect of Steroids on Gene Expression in the Healthy Smokers Lungs",
         "Effect of Inhaled Steroids in Combination With a Long Acting Bronchodilator on Gene Expression in the Lungs of Healthy Smokers",
         "WITHDRAWN",
         "PHASE4",
         "3.0",
         "0.0"
        ],
        [
         "15",
         "NCT00534703",
         "Investigation of the Safety and Feasibility of AAV1/SERCA2a Gene Transfer in Patients With Chronic Heart Failure",
         "Investigation of the Safety and Feasibility of AAV1/SERCA2a Gene Transfer in Patients With Chronic Heart Failure and a Left Ventricular Assist Device",
         "TERMINATED",
         "PHASE2",
         "2.0",
         "5.0"
        ],
        [
         "16",
         "NCT00554996",
         "Bacterial Interference for Prevention of Catheter-Associated UTI: Geriatric Pilot Study",
         "Bacterial Interference for Prevention of Catheter-Associated UTI",
         "COMPLETED",
         "PHASE1",
         "1.0",
         "10.0"
        ],
        [
         "17",
         "NCT00570050",
         "Effect of Intranasal Insulin on Depressive Symptoms in Major Depressive Disorder",
         "A Randomized, Double-blind, Placebo-controlled Cross-over Trial Evaluating the Effect of Intranasal Insulin on Depressive Symptoms in Individuals With Major Depressive Disorder Insufficiently Responsive to Antidepressant Therapy",
         "COMPLETED",
         "PHASE3",
         "2.0",
         "35.0"
        ],
        [
         "18",
         "NCT00571246",
         "The Use of Anticonvulsants for Treatment of Patients With Alcohol Dependence and Post Traumatic Stress Disorder",
         "The Use of Anticonvulsants for Treatment of Patients With Alcohol Dependence and Post Traumatic Stress Disorder",
         "WITHDRAWN",
         "PHASE3",
         "3.0",
         "0.0"
        ],
        [
         "19",
         "NCT00572689",
         "Pilot Study of Exenatide Pharmacokinetics and Pharmacodynamics in Gestational Diabetes",
         "Pilot Study of Exenatide Pharmacokinetics and Pharmacodynamics in Gestational Diabetes",
         "WITHDRAWN",
         "PHASE4",
         "2.0",
         "0.0"
        ],
        [
         "20",
         "NCT00593164",
         "Clinical Study of the LRS ThermoSuit™ System in Post Arrest Patients With Intravenous Infusion of Magnesium Sulfate",
         "Clinical Study of the LRS ThermoSuit™ System in Post Arrest Patients With Intravenous Infusion of Magnesium Sulfate",
         "WITHDRAWN",
         "PHASE2",
         "2.0",
         "0.0"
        ],
        [
         "21",
         "NCT00640094",
         "The Melatonin Adjunct in the Acute myocaRdial Infarction Treated With Angioplasty",
         "Randomized, Double-blind, Parallel-group, Placebo-controlled Study of Melatonin as an Adjunct in Patients With Acute myocaRdial Infarction Undergoing Primary Angioplasty",
         "TERMINATED",
         "PHASE2",
         "2.0",
         "272.0"
        ],
        [
         "22",
         "NCT00642252",
         "Development and Validation of a Multi-Mineral Fluoride Mouthrinse",
         "Development and Validation of a Multi-Mineral Fluoride Mouthrinse",
         "COMPLETED",
         "PHASE1",
         "2.0",
         "30.0"
        ],
        [
         "23",
         "NCT00662298",
         "Prednisolone Pharmacokinetics in Severe Asthma",
         "The Pharmacokinetics and Anti-inflammatory Effects of Prednisolone in Severe Asthma",
         "COMPLETED",
         "PHASE4",
         "1.0",
         "5.0"
        ],
        [
         "24",
         "NCT00673842",
         "Efficacy of Implantable Defibrillator Therapy After a Myocardial Infarction",
         "Risk Estimation Following Infarction Noninvasive Evaluation - ICD Efficacy",
         "COMPLETED",
         "PHASE3",
         "2.0",
         "700.0"
        ],
        [
         "25",
         "NCT00686556",
         "Total Marrow Irradiation for Refractory Acute Leukemia",
         "Total Marrow Irradiation and Myeloablative Chemotherapy Followed By Double Umbilical Cord BloodTransplantation In Patients With Refractory Acute Leukemia",
         "COMPLETED",
         "PHASE1",
         "5.0",
         "12.0"
        ],
        [
         "26",
         "NCT00701233",
         "Botulinum Toxin for Carpal Tunnel Syndrome",
         "Evaluation of Intercarpal Botox Versus Steroid Injections for Carpal Tunnel Syndrome",
         "WITHDRAWN",
         "PHASE2",
         "2.0",
         "0.0"
        ],
        [
         "27",
         "NCT00711841",
         "Effectivity of Postpartum Dexamethasone for Women With Class I HELLP Syndrome",
         "Postpartum Dexamethasone for Women With Class I HELLP Syndrome: a Double-blind, Placebo-controled, Randomized Clinical Trial",
         "TERMINATED",
         "PHASE4",
         "2.0",
         "400.0"
        ],
        [
         "28",
         "NCT00724633",
         "Effect of Lowering the Dialysate Sodium on Blood Pressure in Hemodialysis Patients",
         "Effect of Lowering the Dialysate Sodium on Blood Pressure in Hemodialysis Patients: a Randomized Controlled Trial.",
         "COMPLETED",
         "PHASE3",
         "3.0",
         "35.0"
        ],
        [
         "29",
         "NCT00730067",
         "Sildenafil for Chronic Obstructive Pulmonary Disease (COPD) Associated Pulmonary Hypertension",
         "Sildenafil for COPD-associated Pulmonary Hypertension. A Randomized Double Blinded Placebo Controlled Study.",
         "WITHDRAWN",
         "PHASE4",
         "2.0",
         "0.0"
        ],
        [
         "30",
         "NCT00737893",
         "Erythropoietin to Enhance Recovery of Erectile Function in Men Following Radical Prostatectomy",
         "Erythropoietin to Enhance Recovery of Erectile Function in Men Following Radical Prostatectomy: a Prospective Randomized Controlled Trial (ERECT)",
         "COMPLETED",
         "PHASE2",
         "2.0",
         "56.0"
        ],
        [
         "31",
         "NCT00739375",
         "The Effect of Blood Flow in the Maturing Arteriovenous Access for Hemodialysis on the Development of Pulmonary Hypertension.",
         "The Effect of Blood Flow in the Maturing Arteriovenous Access for Hemodialysis on the Development of Pulmonary Hypertension.",
         "COMPLETED",
         "PHASE1",
         null,
         "50.0"
        ],
        [
         "32",
         "NCT00753402",
         "The Effects of Epinephrine in Endotoxemia in Normal Volunteers",
         "The Effects of Epinephrine in Endotoxemia in Normal Volunteers",
         "COMPLETED",
         "PHASE1",
         "2.0",
         "37.0"
        ],
        [
         "33",
         "NCT00757055",
         "If Channel Blockade With Ivabradine in Patients With Diastolic Heart Failure",
         "If Channel Blockade With Ivabradine in Patients With Diastolic Heart Failure",
         "WITHDRAWN",
         "PHASE2",
         "2.0",
         "0.0"
        ],
        [
         "34",
         "NCT00760825",
         "A Study to Evaluate Safety and Immunogenicity of the Bivalent Killed Whole Cell Oral Cholera Vaccine in Adults and Children",
         "An Open Label Post Licensure Trial to Evaluate the Safety and Immunogenicity of Indigenously Manufactured Killed Bivalent (O1 and O139) Whole Cell Oral Cholera Vaccine(Shanchol™)",
         "COMPLETED",
         "PHASE4",
         "1.0",
         "200.0"
        ],
        [
         "35",
         "NCT00764478",
         "Fixed-dose Safety and Efficacy Study of Asenapine for the Treatment of Acute Manic or Mixed Episode in Bipolar 1 Disorder (P05691)",
         "A Phase 3b, Multicenter, Double-Blind, Fixed-Dose, Parallel-Group, Three Week Placebo Controlled Trial Evaluating the Safety and Efficacy of Asenapine in Subjects With Bipolar 1 Disorder Experiencing an Acute Manic or Mixed Episode (Protocol P05691 [Formerly 041044])",
         "COMPLETED",
         "PHASE3",
         "3.0",
         "367.0"
        ],
        [
         "36",
         "NCT00793013",
         "Airway Pressure Release Ventilation (APRV) Compared to ARDSnet Ventilation",
         "Primary Resuscitation Using Airway Pressure Release Ventilation Improves Recovery From Acute Lung Injury or Adult Respiratory Distress Syndrome and Reduces All Cause Mortality Compared to ARDS Net Low Tidal Volume-Cycled Ventilation.",
         "WITHDRAWN",
         "PHASE2",
         "2.0",
         "0.0"
        ],
        [
         "37",
         "NCT00795470",
         "Factorial Trial of Antimicrobial Therapy and/or Catheter Change for Catheter Urinary Tract Infections.",
         "A Pilot Concealed Randomized Double-blinded Placebo-controlled Factorial Trial of Antimicrobial Therapy and/or Catheter Change for Catheter-associated Urinary Tract Infections in the Critically Ill",
         "WITHDRAWN",
         "PHASE3",
         "4.0",
         "0.0"
        ],
        [
         "38",
         "NCT00799864",
         "A Study to Evaluate the Pharmacokinetics, Safety, Tolerability, and Antiviral Activity of Rilpivirine (TMC278) in Human Immunodeficiency Virus Infected Adolescents and Children Aged Greater Than or Equal to 6 Years",
         "A Phase II, Open Label, Single Arm Trial to Evaluate the Pharmacokinetics,Safety, Tolerability, and Antiviral Activity of Rilpivirine (TMC278) in Antiretroviral Naive HIV-1 Infected Adolescents and Children Aged >= 6 to <18 Years",
         "COMPLETED",
         "PHASE2",
         "1.0",
         "54.0"
        ],
        [
         "39",
         "NCT00808990",
         "The Effect of Probiotics on Non Alcoholic Fatty Liver Disease",
         "Probiotics and Non Alcoholic Steatohepatitis (NASH)",
         "TERMINATED",
         "PHASE1",
         "2.0",
         "38.0"
        ],
        [
         "40",
         "NCT00813969",
         "Autologous Mesenchymal Stem Cell (MSC) Transplantation in MS",
         "A Phase I Study to Assess the Feasibility, Safety, and Tolerability of Autologous Mesenchymal Stem Cell Transplantation in Patients With Relapsing Forms of Multiple Sclerosis",
         "COMPLETED",
         "PHASE1",
         "1.0",
         "24.0"
        ],
        [
         "41",
         "NCT00815516",
         "Study to Compare the Efficacy and Safety of Micafungin Versus Conventional Amphotericin B for the Treatment of Neonatal Candidiasis",
         "A Phase 3, Randomized, Double-Blind, Multi-Center Study to Compare the Efficacy and Safety of Micafungin Versus Amphotericin B Deoxycholate for the Treatment of Neonatal Candidiasis",
         "TERMINATED",
         "PHASE3",
         "2.0",
         "30.0"
        ],
        [
         "42",
         "NCT00820768",
         "A Trial of ABI-010 & ABI-007 in Patients With Advanced Non-Hematologic Malignancies",
         "A Phase I of ABI-010 (Nab-17-AAG) and ABI-007 (Abraxane) Administered Weekly in Patients With Advanced Non-Hematologic Malignancies",
         "WITHDRAWN",
         "PHASE1",
         "1.0",
         "0.0"
        ],
        [
         "43",
         "NCT00827164",
         "Resistance Training During Radiation Therapy for Pharyngeal or Laryngeal Cancer",
         "Resistance Training During Radiation Therapy for Pharyngeal or Laryngeal Cancer",
         "COMPLETED",
         "PHASE2",
         "2.0",
         "29.0"
        ],
        [
         "44",
         "NCT00828009",
         "BLP25 Liposome Vaccine and Bevacizumab After Chemotherapy and Radiation Therapy in Treating Patients With Newly Diagnosed Stage IIIA or Stage IIIB Non-Small Cell Lung Cancer That Cannot Be Removed by Surgery",
         "A Phase II Study of L-BLP25 and Bevacizumab in Unresectable Stage IIIA and IIIB Non-Squamous Non-Small Cell Lung Cancer After Definitive Chemoradiation",
         "COMPLETED",
         "PHASE2",
         "1.0",
         "70.0"
        ],
        [
         "45",
         "NCT00831480",
         "Everolimus (RAD001) For Advanced Renal Cell Carcinoma (RCC) Before Kidney Removal",
         "Neoadjuvant Everolimus (RAD001)for Advanced RCC Before Cytoreductive Nephrectomy, With Correlative Tumor Studies (Protocol #: 06-08-20-01)",
         "TERMINATED",
         "PHASE2",
         "1.0",
         "15.0"
        ],
        [
         "46",
         "NCT00837291",
         "A Study of the Efficacy and Safety of CF101 to Patients With Osteoarthritis of the Knee",
         "A Phase 2, Multicenter, Randomized, Double-Blind, Placebo-Controlled, Parallel-Group Study of the Efficacy and Safety of Daily CF101 Administered Orally for 12 Weeks to Patients With Osteoarthritis of the Knee",
         "WITHDRAWN",
         "PHASE2",
         "2.0",
         "0.0"
        ],
        [
         "47",
         "NCT00850122",
         "An Open Label Study to Describe the Pharmacokinetics of Cefazolin in Preterm Neonates",
         "An Open Label Study to Describe the Pharmacokinetics of Cefazolin in Preterm Neonates",
         "COMPLETED",
         "PHASE1",
         "1.0",
         "9.0"
        ],
        [
         "48",
         "NCT00853489",
         "rhBMP-2 Versus Autograft in Critical Size Tibial Defects",
         "RhBMP-2 vs. Autograft for Critical Size Tibial Defects: A Multicenter Randomized Trial",
         "TERMINATED",
         "PHASE4",
         "2.0",
         "33.0"
        ],
        [
         "49",
         "NCT00854867",
         "Study to Demonstrate the Safety of WBR Administered at the Same Time as Intrathecal Liposomal Cytarabine (DepoCyte®) Versus Intrathecal Liposomal Cytarabine (DepoCyte®) Administered After WBR for the Treatment of Solid Tumour Neoplastic Meningitis in Patients With or Without Brain Metastasis.",
         "Phase I Randomised Multi-centre Study to Demonstrate the Safety of WBRT Concomitant to Intrathecal Liposomal Cytarabine (DepoCyte®) Versus WBRT & Sequential Intrathecal Liposomal Cytarabine (DepoCyte®) for Treatment of STNM With or Without Brain Metastasis.",
         "COMPLETED",
         "PHASE1",
         "2.0",
         "18.0"
        ]
       ],
       "shape": {
        "columns": 7,
        "rows": 74901
       }
      },
      "text/html": [
       "<div>\n",
       "<style scoped>\n",
       "    .dataframe tbody tr th:only-of-type {\n",
       "        vertical-align: middle;\n",
       "    }\n",
       "\n",
       "    .dataframe tbody tr th {\n",
       "        vertical-align: top;\n",
       "    }\n",
       "\n",
       "    .dataframe thead th {\n",
       "        text-align: right;\n",
       "    }\n",
       "</style>\n",
       "<table border=\"1\" class=\"dataframe\">\n",
       "  <thead>\n",
       "    <tr style=\"text-align: right;\">\n",
       "      <th></th>\n",
       "      <th>nct_id</th>\n",
       "      <th>brief_title</th>\n",
       "      <th>official_title</th>\n",
       "      <th>overall_status</th>\n",
       "      <th>phase</th>\n",
       "      <th>number_of_arms</th>\n",
       "      <th>enrollment</th>\n",
       "    </tr>\n",
       "  </thead>\n",
       "  <tbody>\n",
       "    <tr>\n",
       "      <th>0</th>\n",
       "      <td>NCT00125528</td>\n",
       "      <td>D-cycloserine in the Management of Chronic Low...</td>\n",
       "      <td>D-Cycloserine in the Management of Chronic Low...</td>\n",
       "      <td>COMPLETED</td>\n",
       "      <td>PHASE2</td>\n",
       "      <td>2.0</td>\n",
       "      <td>41.0</td>\n",
       "    </tr>\n",
       "    <tr>\n",
       "      <th>1</th>\n",
       "      <td>NCT00170209</td>\n",
       "      <td>Rifampin Versus Isoniazid for the Treatment of...</td>\n",
       "      <td>A Randomized Trial to Compare Effectiveness of...</td>\n",
       "      <td>COMPLETED</td>\n",
       "      <td>PHASE3</td>\n",
       "      <td>2.0</td>\n",
       "      <td>844.0</td>\n",
       "    </tr>\n",
       "    <tr>\n",
       "      <th>2</th>\n",
       "      <td>NCT00306059</td>\n",
       "      <td>Early Goal Directed Therapy for Acute Kidney I...</td>\n",
       "      <td>Early Goal Directed Therapy for Acute Kidney I...</td>\n",
       "      <td>WITHDRAWN</td>\n",
       "      <td>PHASE2</td>\n",
       "      <td>1.0</td>\n",
       "      <td>0.0</td>\n",
       "    </tr>\n",
       "    <tr>\n",
       "      <th>3</th>\n",
       "      <td>NCT00307905</td>\n",
       "      <td>TRAUMEEL for Pain After Fracture of Neck of Femur</td>\n",
       "      <td>A Randomised, Double - Blind, Placebo Controll...</td>\n",
       "      <td>WITHDRAWN</td>\n",
       "      <td>PHASE3</td>\n",
       "      <td>2.0</td>\n",
       "      <td>224.0</td>\n",
       "    </tr>\n",
       "    <tr>\n",
       "      <th>4</th>\n",
       "      <td>NCT00328809</td>\n",
       "      <td>Spironolactone Safety in Dialysis Patients</td>\n",
       "      <td>Subjects With Severe Heart Failure and End-Sta...</td>\n",
       "      <td>WITHDRAWN</td>\n",
       "      <td>PHASE4</td>\n",
       "      <td>1.0</td>\n",
       "      <td>0.0</td>\n",
       "    </tr>\n",
       "    <tr>\n",
       "      <th>...</th>\n",
       "      <td>...</td>\n",
       "      <td>...</td>\n",
       "      <td>...</td>\n",
       "      <td>...</td>\n",
       "      <td>...</td>\n",
       "      <td>...</td>\n",
       "      <td>...</td>\n",
       "    </tr>\n",
       "    <tr>\n",
       "      <th>74896</th>\n",
       "      <td>NCT07173179</td>\n",
       "      <td>Papillary Epinephrine Injection Combined With ...</td>\n",
       "      <td>Efficacy and Safety of Papillary Epinephrine I...</td>\n",
       "      <td>COMPLETED</td>\n",
       "      <td>PHASE4</td>\n",
       "      <td>2.0</td>\n",
       "      <td>504.0</td>\n",
       "    </tr>\n",
       "    <tr>\n",
       "      <th>74897</th>\n",
       "      <td>NCT07173738</td>\n",
       "      <td>Pharmacokinetics, Safety and Tolerability of C...</td>\n",
       "      <td>An Open Label, Three Period, Fixed Sequence St...</td>\n",
       "      <td>COMPLETED</td>\n",
       "      <td>PHASE1</td>\n",
       "      <td>3.0</td>\n",
       "      <td>44.0</td>\n",
       "    </tr>\n",
       "    <tr>\n",
       "      <th>74898</th>\n",
       "      <td>NCT07174011</td>\n",
       "      <td>Evaluation of the Efficacy and Safety of Oral ...</td>\n",
       "      <td>Evaluation of the Efficacy and Safety of Oral ...</td>\n",
       "      <td>COMPLETED</td>\n",
       "      <td>PHASE4</td>\n",
       "      <td>2.0</td>\n",
       "      <td>50.0</td>\n",
       "    </tr>\n",
       "    <tr>\n",
       "      <th>74899</th>\n",
       "      <td>NCT07174024</td>\n",
       "      <td>A Comparative Study on the Efficacy of Blue Li...</td>\n",
       "      <td>A Comparative Study on the Efficacy of Blue Li...</td>\n",
       "      <td>COMPLETED</td>\n",
       "      <td>PHASE4</td>\n",
       "      <td>2.0</td>\n",
       "      <td>30.0</td>\n",
       "    </tr>\n",
       "    <tr>\n",
       "      <th>74900</th>\n",
       "      <td>NCT07176832</td>\n",
       "      <td>Bioavailability of Stiripentol After Single Or...</td>\n",
       "      <td>Bioavailability Study of Stiripentol After Sin...</td>\n",
       "      <td>COMPLETED</td>\n",
       "      <td>PHASE1</td>\n",
       "      <td>2.0</td>\n",
       "      <td>24.0</td>\n",
       "    </tr>\n",
       "  </tbody>\n",
       "</table>\n",
       "<p>74901 rows × 7 columns</p>\n",
       "</div>"
      ],
      "text/plain": [
       "            nct_id                                        brief_title  \\\n",
       "0      NCT00125528  D-cycloserine in the Management of Chronic Low...   \n",
       "1      NCT00170209  Rifampin Versus Isoniazid for the Treatment of...   \n",
       "2      NCT00306059  Early Goal Directed Therapy for Acute Kidney I...   \n",
       "3      NCT00307905  TRAUMEEL for Pain After Fracture of Neck of Femur   \n",
       "4      NCT00328809         Spironolactone Safety in Dialysis Patients   \n",
       "...            ...                                                ...   \n",
       "74896  NCT07173179  Papillary Epinephrine Injection Combined With ...   \n",
       "74897  NCT07173738  Pharmacokinetics, Safety and Tolerability of C...   \n",
       "74898  NCT07174011  Evaluation of the Efficacy and Safety of Oral ...   \n",
       "74899  NCT07174024  A Comparative Study on the Efficacy of Blue Li...   \n",
       "74900  NCT07176832  Bioavailability of Stiripentol After Single Or...   \n",
       "\n",
       "                                          official_title overall_status  \\\n",
       "0      D-Cycloserine in the Management of Chronic Low...      COMPLETED   \n",
       "1      A Randomized Trial to Compare Effectiveness of...      COMPLETED   \n",
       "2      Early Goal Directed Therapy for Acute Kidney I...      WITHDRAWN   \n",
       "3      A Randomised, Double - Blind, Placebo Controll...      WITHDRAWN   \n",
       "4      Subjects With Severe Heart Failure and End-Sta...      WITHDRAWN   \n",
       "...                                                  ...            ...   \n",
       "74896  Efficacy and Safety of Papillary Epinephrine I...      COMPLETED   \n",
       "74897  An Open Label, Three Period, Fixed Sequence St...      COMPLETED   \n",
       "74898  Evaluation of the Efficacy and Safety of Oral ...      COMPLETED   \n",
       "74899  A Comparative Study on the Efficacy of Blue Li...      COMPLETED   \n",
       "74900  Bioavailability Study of Stiripentol After Sin...      COMPLETED   \n",
       "\n",
       "        phase  number_of_arms  enrollment  \n",
       "0      PHASE2             2.0        41.0  \n",
       "1      PHASE3             2.0       844.0  \n",
       "2      PHASE2             1.0         0.0  \n",
       "3      PHASE3             2.0       224.0  \n",
       "4      PHASE4             1.0         0.0  \n",
       "...       ...             ...         ...  \n",
       "74896  PHASE4             2.0       504.0  \n",
       "74897  PHASE1             3.0        44.0  \n",
       "74898  PHASE4             2.0        50.0  \n",
       "74899  PHASE4             2.0        30.0  \n",
       "74900  PHASE1             2.0        24.0  \n",
       "\n",
       "[74901 rows x 7 columns]"
      ]
     },
     "execution_count": 195,
     "metadata": {},
     "output_type": "execute_result"
    }
   ],
   "source": [
    "create_table_sql = \"\"\"\n",
    "DROP TABLE IF EXISTS ctgov.my_studies_withdrawn;\n",
    "\n",
    "CREATE TABLE ctgov.my_studies_withdrawn AS\n",
    "SELECT DISTINCT ON \n",
    "    (\n",
    "studies.nct_id,\n",
    "studies.brief_title,\n",
    "studies.official_title,\n",
    "studies.source,\n",
    "studies.phase,\n",
    "studies.number_of_arms,\n",
    "studies.enrollment\n",
    "    ) \n",
    "studies.nct_id,\n",
    "studies.brief_title,\n",
    "studies.official_title,\n",
    "studies.overall_status,\n",
    "studies.phase,\n",
    "studies.number_of_arms,\n",
    "studies.enrollment\n",
    "\n",
    "from ctgov.studies\n",
    "WHERE TO_CHAR(studies.start_date, 'YYYY-MM') >= '2011-01'\n",
    "  AND studies.study_type = 'INTERVENTIONAL'\n",
    "  AND studies.overall_status in ('WITHDRAWN', 'TERMINATED')  \n",
    "  AND studies.phase in ('PHASE1/PHASE2', 'PHASE2/PHASE3', 'PHASE1', 'PHASE2', 'PHASE3', 'PHASE4')\n",
    "\n",
    "ORDER BY \n",
    "studies.nct_id,\n",
    "studies.brief_title,\n",
    "studies.official_title,\n",
    "studies.source,\n",
    "studies.phase,\n",
    "studies.number_of_arms,\n",
    "studies.enrollment;\n",
    "\"\"\"\n",
    "# Keep 'Withdrawn Here for my_terminations table\n",
    "\n",
    "with engine.connect() as conn:\n",
    "    conn.execute(text(create_table_sql))\n",
    "    conn.commit()\n",
    "\n",
    "my_studies_withdrawn = pd.read_sql(\"select * from ctgov.my_studies;\", con = engine)  # was not used anywhere a table. Only for investigational reasons\n",
    "my_studies_withdrawn"
   ]
  },
  {
   "cell_type": "markdown",
   "id": "e1c4dc82",
   "metadata": {},
   "source": [
    "## my_terminations\n",
    "- This table is goind to be used a pivot table, descriptive statistics. This is because the termination reason are perfect predictor of termination outcome. Thus, they cannot be analysed in a model, but only to evaluate the  fraction of terminated trials, that belong to each of the below reasons.\n"
   ]
  },
  {
   "cell_type": "code",
   "execution_count": 196,
   "id": "4e4785f5",
   "metadata": {},
   "outputs": [
    {
     "data": {
      "application/vnd.microsoft.datawrangler.viewer.v0+json": {
       "columns": [
        {
         "name": "index",
         "rawType": "int64",
         "type": "integer"
        },
        {
         "name": "nct_id",
         "rawType": "object",
         "type": "string"
        },
        {
         "name": "why_stopped",
         "rawType": "object",
         "type": "unknown"
        },
        {
         "name": "overall_status",
         "rawType": "object",
         "type": "string"
        },
        {
         "name": "why_stopped2",
         "rawType": "object",
         "type": "unknown"
        }
       ],
       "ref": "053c9837-8ecb-4841-ad77-ddc30eefef2f",
       "rows": [
        [
         "0",
         "NCT00293735",
         "Lack of funding",
         "WITHDRAWN",
         "Fund"
        ],
        [
         "1",
         "NCT00306059",
         "Investigators decision",
         "WITHDRAWN",
         "Administration"
        ],
        [
         "2",
         "NCT00307905",
         "Anticipation of inadequate recruitment according to current format.",
         "WITHDRAWN",
         "Enrollment"
        ],
        [
         "3",
         "NCT00328809",
         "personnel shortage",
         "WITHDRAWN",
         null
        ],
        [
         "4",
         "NCT00362219",
         "no patients were recrueted",
         "WITHDRAWN",
         "Enrollment"
        ],
        [
         "5",
         "NCT00372762",
         "Due to changes within the research program this study is not feasible at this time",
         "WITHDRAWN",
         "Administration"
        ],
        [
         "6",
         "NCT00397501",
         "after original approval, IRB closed enrollment; major revisions required to re-open.",
         "WITHDRAWN",
         "Enrollment"
        ],
        [
         "7",
         "NCT00455039",
         "This is a duplicate record and the sponsor has submitted under NCT00206427.",
         "WITHDRAWN",
         "Fund"
        ],
        [
         "8",
         "NCT00459641",
         "Stopped before any site initiation or any recruitment due to change in overall product development plan",
         "WITHDRAWN",
         "Administration"
        ],
        [
         "9",
         "NCT00488605",
         "This is a duplicate record and the sponsor has registered the study.",
         "WITHDRAWN",
         "Fund"
        ],
        [
         "10",
         "NCT00504322",
         "No funding available.",
         "WITHDRAWN",
         "Fund"
        ],
        [
         "11",
         "NCT00532584",
         "Study not initiated due to funding.",
         "WITHDRAWN",
         "Fund"
        ],
        [
         "12",
         "NCT00534703",
         "Early termination following Trial Steering Committee recommendation",
         "TERMINATED",
         "Administration"
        ],
        [
         "13",
         "NCT00571246",
         null,
         "WITHDRAWN",
         null
        ],
        [
         "14",
         "NCT00572689",
         null,
         "WITHDRAWN",
         null
        ],
        [
         "15",
         "NCT00593164",
         "Funding for study is currently unavailable.",
         "WITHDRAWN",
         "Fund"
        ],
        [
         "16",
         "NCT00603460",
         null,
         "WITHDRAWN",
         null
        ],
        [
         "17",
         "NCT00640094",
         null,
         "TERMINATED",
         null
        ],
        [
         "18",
         "NCT00701233",
         "Unable to generate MD's and patients for this study",
         "WITHDRAWN",
         "Enrollment"
        ],
        [
         "19",
         "NCT00711841",
         "The speed of recruitment was slower than anticipated.",
         "TERMINATED",
         "Enrollment"
        ],
        [
         "20",
         "NCT00730067",
         "As a single center, it was not possible to recruit enough patients with pulmonary hypertension",
         "WITHDRAWN",
         "Enrollment"
        ],
        [
         "21",
         "NCT00747071",
         "Sponsors decision",
         "WITHDRAWN",
         "Administration"
        ],
        [
         "22",
         "NCT00757055",
         "Difficulty recruit pts with PSHF HR \\> 70 \\& high BNP.",
         "WITHDRAWN",
         "Enrollment"
        ],
        [
         "23",
         "NCT00784966",
         "University decision.",
         "WITHDRAWN",
         "Administration"
        ],
        [
         "24",
         "NCT00793013",
         "IRB approval lapsed.",
         "WITHDRAWN",
         null
        ],
        [
         "25",
         "NCT00795470",
         "Not pursuing the study due to funding issues",
         "WITHDRAWN",
         "Fund"
        ],
        [
         "26",
         "NCT00805610",
         "Investigator taking position at another university-0 enrolled under this protocol.",
         "WITHDRAWN",
         "Administration"
        ],
        [
         "27",
         "NCT00808990",
         "Time table was unfulfilled due to incompetent research coordinator. Inaccurate results and No conclusions can be withdrawn",
         "TERMINATED",
         null
        ],
        [
         "28",
         "NCT00815516",
         "It was decided to discontinue the study due to insufficient recruitment.",
         "TERMINATED",
         "Administration"
        ],
        [
         "29",
         "NCT00820768",
         null,
         "WITHDRAWN",
         null
        ],
        [
         "30",
         "NCT00831480",
         "Difficulty in accrual and by the order of the cancer center.",
         "TERMINATED",
         "Enrollment"
        ],
        [
         "31",
         "NCT00837291",
         "The company has decided not to conduct the study",
         "WITHDRAWN",
         "Administration"
        ],
        [
         "32",
         "NCT00853489",
         "Enrollment too slow",
         "TERMINATED",
         "Enrollment"
        ],
        [
         "33",
         "NCT00877955",
         null,
         "WITHDRAWN",
         null
        ],
        [
         "34",
         "NCT00880373",
         "The funding withdrawal and early termination of the trial is based upon lack of suitable recruitment figures in order to reach the required trial endpoints.",
         "TERMINATED",
         "Fund"
        ],
        [
         "35",
         "NCT00890149",
         "Difficulty recruiting target sample",
         "TERMINATED",
         "Enrollment"
        ],
        [
         "36",
         "NCT00895336",
         "IND for this study remained on clinical hold",
         "WITHDRAWN",
         null
        ],
        [
         "37",
         "NCT00901823",
         "Did not support the planned development of DCCR in the new indication",
         "WITHDRAWN",
         null
        ],
        [
         "38",
         "NCT00903461",
         "drug supply issues",
         "TERMINATED",
         null
        ],
        [
         "39",
         "NCT00908856",
         "Not funded",
         "WITHDRAWN",
         "Fund"
        ],
        [
         "40",
         "NCT00911573",
         null,
         "WITHDRAWN",
         null
        ],
        [
         "41",
         "NCT00914888",
         null,
         "WITHDRAWN",
         null
        ],
        [
         "42",
         "NCT00916201",
         "Lack of funding",
         "WITHDRAWN",
         "Fund"
        ],
        [
         "43",
         "NCT00925093",
         "Primary investigator left institution",
         "WITHDRAWN",
         "Administration"
        ],
        [
         "44",
         "NCT00932464",
         "Study withdrawn as it no longer is deemed necessary per project status.",
         "WITHDRAWN",
         null
        ],
        [
         "45",
         "NCT00935142",
         null,
         "WITHDRAWN",
         null
        ],
        [
         "46",
         "NCT00945360",
         "Inability to recruit patients",
         "WITHDRAWN",
         "Enrollment"
        ],
        [
         "47",
         "NCT00947037",
         "The sponsor decided to postpone the performance of this study to after phase 3",
         "WITHDRAWN",
         "Administration"
        ],
        [
         "48",
         "NCT00947245",
         null,
         "WITHDRAWN",
         null
        ],
        [
         "49",
         "NCT00953641",
         "Principle Investigator retired, Resident moved away",
         "WITHDRAWN",
         "Administration"
        ]
       ],
       "shape": {
        "columns": 4,
        "rows": 17247
       }
      },
      "text/html": [
       "<div>\n",
       "<style scoped>\n",
       "    .dataframe tbody tr th:only-of-type {\n",
       "        vertical-align: middle;\n",
       "    }\n",
       "\n",
       "    .dataframe tbody tr th {\n",
       "        vertical-align: top;\n",
       "    }\n",
       "\n",
       "    .dataframe thead th {\n",
       "        text-align: right;\n",
       "    }\n",
       "</style>\n",
       "<table border=\"1\" class=\"dataframe\">\n",
       "  <thead>\n",
       "    <tr style=\"text-align: right;\">\n",
       "      <th></th>\n",
       "      <th>nct_id</th>\n",
       "      <th>why_stopped</th>\n",
       "      <th>overall_status</th>\n",
       "      <th>why_stopped2</th>\n",
       "    </tr>\n",
       "  </thead>\n",
       "  <tbody>\n",
       "    <tr>\n",
       "      <th>0</th>\n",
       "      <td>NCT00293735</td>\n",
       "      <td>Lack of funding</td>\n",
       "      <td>WITHDRAWN</td>\n",
       "      <td>Fund</td>\n",
       "    </tr>\n",
       "    <tr>\n",
       "      <th>1</th>\n",
       "      <td>NCT00306059</td>\n",
       "      <td>Investigators decision</td>\n",
       "      <td>WITHDRAWN</td>\n",
       "      <td>Administration</td>\n",
       "    </tr>\n",
       "    <tr>\n",
       "      <th>2</th>\n",
       "      <td>NCT00307905</td>\n",
       "      <td>Anticipation of inadequate recruitment accordi...</td>\n",
       "      <td>WITHDRAWN</td>\n",
       "      <td>Enrollment</td>\n",
       "    </tr>\n",
       "    <tr>\n",
       "      <th>3</th>\n",
       "      <td>NCT00328809</td>\n",
       "      <td>personnel shortage</td>\n",
       "      <td>WITHDRAWN</td>\n",
       "      <td>NaN</td>\n",
       "    </tr>\n",
       "    <tr>\n",
       "      <th>4</th>\n",
       "      <td>NCT00362219</td>\n",
       "      <td>no patients were recrueted</td>\n",
       "      <td>WITHDRAWN</td>\n",
       "      <td>Enrollment</td>\n",
       "    </tr>\n",
       "    <tr>\n",
       "      <th>...</th>\n",
       "      <td>...</td>\n",
       "      <td>...</td>\n",
       "      <td>...</td>\n",
       "      <td>...</td>\n",
       "    </tr>\n",
       "    <tr>\n",
       "      <th>17242</th>\n",
       "      <td>NCT07077187</td>\n",
       "      <td>Funding for the study could not be obtained.</td>\n",
       "      <td>WITHDRAWN</td>\n",
       "      <td>Fund</td>\n",
       "    </tr>\n",
       "    <tr>\n",
       "      <th>17243</th>\n",
       "      <td>NCT07085468</td>\n",
       "      <td>Study terminated for strategic business reasons</td>\n",
       "      <td>TERMINATED</td>\n",
       "      <td>Administration</td>\n",
       "    </tr>\n",
       "    <tr>\n",
       "      <th>17244</th>\n",
       "      <td>NCT07121829</td>\n",
       "      <td>Sponsor decision</td>\n",
       "      <td>TERMINATED</td>\n",
       "      <td>Administration</td>\n",
       "    </tr>\n",
       "    <tr>\n",
       "      <th>17245</th>\n",
       "      <td>NCT07166367</td>\n",
       "      <td>Difficulty in enrolling patients with the illn...</td>\n",
       "      <td>TERMINATED</td>\n",
       "      <td>Enrollment</td>\n",
       "    </tr>\n",
       "    <tr>\n",
       "      <th>17246</th>\n",
       "      <td>NCT07169162</td>\n",
       "      <td>Enrollment never started</td>\n",
       "      <td>WITHDRAWN</td>\n",
       "      <td>Enrollment</td>\n",
       "    </tr>\n",
       "  </tbody>\n",
       "</table>\n",
       "<p>17247 rows × 4 columns</p>\n",
       "</div>"
      ],
      "text/plain": [
       "            nct_id                                        why_stopped  \\\n",
       "0      NCT00293735                                    Lack of funding   \n",
       "1      NCT00306059                             Investigators decision   \n",
       "2      NCT00307905  Anticipation of inadequate recruitment accordi...   \n",
       "3      NCT00328809                                 personnel shortage   \n",
       "4      NCT00362219                         no patients were recrueted   \n",
       "...            ...                                                ...   \n",
       "17242  NCT07077187       Funding for the study could not be obtained.   \n",
       "17243  NCT07085468    Study terminated for strategic business reasons   \n",
       "17244  NCT07121829                                   Sponsor decision   \n",
       "17245  NCT07166367  Difficulty in enrolling patients with the illn...   \n",
       "17246  NCT07169162                           Enrollment never started   \n",
       "\n",
       "      overall_status    why_stopped2  \n",
       "0          WITHDRAWN            Fund  \n",
       "1          WITHDRAWN  Administration  \n",
       "2          WITHDRAWN      Enrollment  \n",
       "3          WITHDRAWN             NaN  \n",
       "4          WITHDRAWN      Enrollment  \n",
       "...              ...             ...  \n",
       "17242      WITHDRAWN            Fund  \n",
       "17243     TERMINATED  Administration  \n",
       "17244     TERMINATED  Administration  \n",
       "17245     TERMINATED      Enrollment  \n",
       "17246      WITHDRAWN      Enrollment  \n",
       "\n",
       "[17247 rows x 4 columns]"
      ]
     },
     "execution_count": 196,
     "metadata": {},
     "output_type": "execute_result"
    }
   ],
   "source": [
    "create_table_sql = \"\"\"\n",
    "DROP TABLE IF EXISTS ctgov.my_terminations;\n",
    "\n",
    "CREATE TABLE ctgov.my_terminations AS\n",
    "SELECT DISTINCT ON \n",
    "    (\n",
    "studies.nct_id,\n",
    "studies.phase,\n",
    "studies.why_stopped,\n",
    "studies.overall_status\n",
    "    ) \n",
    "studies.nct_id,\n",
    "studies.why_stopped,\n",
    "studies.overall_status\n",
    "\n",
    "from ctgov.studies\n",
    "WHERE TO_CHAR(studies.start_date, 'YYYY-MM') >= '2011-01'\n",
    "  AND studies.study_type = 'INTERVENTIONAL'\n",
    "  AND studies.overall_status in ('TERMINATED', 'WITHDRAWN')\n",
    "  AND studies.phase in  ('PHASE1/PHASE2', 'PHASE2/PHASE3', 'PHASE1', 'PHASE2', 'PHASE3', 'PHASE4')\n",
    "\n",
    "ORDER BY \n",
    "    studies.nct_id,\n",
    "    studies.phase,\n",
    "    studies.why_stopped,\n",
    "    studies.overall_status;\n",
    "\"\"\"\n",
    "\n",
    "with engine.connect() as conn:\n",
    "    conn.execute(text(create_table_sql))\n",
    "    conn.commit()\n",
    " \n",
    "# Enrollment \n",
    "my_terminations = pd.read_sql(\"select * from ctgov.my_terminations;\" , con = engine)  # was not used. May be used to a seperate termination ipyd file. (As the y outcome = always termination)\n",
    "my_terminations.loc[my_terminations[\"why_stopped\"].str.contains(\n",
    "    \"enrollemnt|recru|accru|enrol|participant|recruit|patient|inclusion|human|subjects\",\n",
    "      case = False) == True, \"why_stopped2\"] = \"Enrollment\"  \n",
    "# Fund\n",
    "my_terminations.loc[my_terminations[\"why_stopped\"].str.contains(\n",
    "    \"fund|sponsor|collaborator|business|company|portfolio|corporate|resources|financ\",\n",
    "     case = False) == True, \"why_stopped2\"] = \"Fund\"\n",
    "# Administration\n",
    "my_terminations.loc[my_terminations[\"why_stopped\"].str.contains(\"PI\", case = True) == True, \"why_stopped2\"] = \"Administration\"\n",
    "my_terminations.loc[my_terminations[\"why_stopped\"].str.contains(\n",
    "    \"staff|revise|logistic|administrative|management|strateg|internal|organiz|policy|FDA|decide|decision|change\", \n",
    "    case = False) == True, \"why_stopped2\"] = \"Administration\"\n",
    "\n",
    "my_terminations.loc[my_terminations[\"why_stopped\"].str.contains(\n",
    "    \"recommend|researcher|Researcher|researchers|Researchers|investigator|Investigator|investigators|Investigators\", \n",
    "    case = True) == True, \"why_stopped2\"] = \"Administration\"\n",
    "# Efficacy\n",
    "my_terminations.loc[my_terminations[\"why_stopped\"].str.contains(\n",
    "    \"toxic|futility|efficacy|ethical|safety|risk\",\n",
    "      case = False) == True, \"why_stopped2\"] = \"Efficacy\"\n",
    "# Covid\n",
    "my_terminations.loc[my_terminations[\"why_stopped\"].str.contains(\n",
    "    \"covid|pandemic\", case = False) == True, \"why_stopped2\"] = \"Covid\"\n",
    "\n",
    "my_terminations"
   ]
  },
  {
   "cell_type": "markdown",
   "id": "d7b3deff",
   "metadata": {},
   "source": [
    "## my_studies"
   ]
  },
  {
   "cell_type": "code",
   "execution_count": 197,
   "id": "03a2038a",
   "metadata": {},
   "outputs": [
    {
     "data": {
      "application/vnd.microsoft.datawrangler.viewer.v0+json": {
       "columns": [
        {
         "name": "index",
         "rawType": "int64",
         "type": "integer"
        },
        {
         "name": "nct_id",
         "rawType": "object",
         "type": "string"
        },
        {
         "name": "brief_title",
         "rawType": "object",
         "type": "string"
        },
        {
         "name": "official_title",
         "rawType": "object",
         "type": "unknown"
        },
        {
         "name": "overall_status",
         "rawType": "object",
         "type": "string"
        },
        {
         "name": "phase",
         "rawType": "object",
         "type": "string"
        },
        {
         "name": "number_of_arms",
         "rawType": "float64",
         "type": "float"
        },
        {
         "name": "enrollment",
         "rawType": "float64",
         "type": "float"
        }
       ],
       "ref": "a4bfa816-1aa7-421d-a4fc-9948ed5660d6",
       "rows": [
        [
         "0",
         "NCT00125528",
         "D-cycloserine in the Management of Chronic Low Back Pain",
         "D-Cycloserine in the Management of Chronic Low Back Pain: A Double-Blind, Randomized, Placebo-Controlled Pilot Study",
         "COMPLETED",
         "PHASE2",
         "2.0",
         "41.0"
        ],
        [
         "1",
         "NCT00170209",
         "Rifampin Versus Isoniazid for the Treatment of Latent Tuberculosis Infection in Children (P4v9)",
         "A Randomized Trial to Compare Effectiveness of 4 Months Rifampin (4 RIF) With 9 Months Isoniazid (9 INH) in the Prevention of Active TB in Children: The P4v9 Trial",
         "COMPLETED",
         "PHASE3",
         "2.0",
         "844.0"
        ],
        [
         "2",
         "NCT00194714",
         "Vaccine Therapy in Treating Patients With Stage IV HLA-A2 and HER2 Positive Breast or Ovarian Cancer Receiving Trastuzumab",
         "Phase I/II Study of Combination Immunotherapy for the Generation of HER-2/Neu (HER2) Specific Cytotoxic T Cells (CTL) in Vivo",
         "COMPLETED",
         "PHASE1/PHASE2",
         "1.0",
         "22.0"
        ],
        [
         "3",
         "NCT00293735",
         "Labetalol Versus Magnesium Sulfate (MgSO4) for the Prevention of Eclampsia Trial",
         "Labetalol Versus MgSO4 for the Prevention of Eclampsia Trial (LAMPET)",
         "WITHDRAWN",
         "PHASE2/PHASE3",
         "2.0",
         "0.0"
        ],
        [
         "4",
         "NCT00306059",
         "Early Goal Directed Therapy for Acute Kidney Injury",
         "Early Goal Directed Therapy for Acute Kidney Injury",
         "WITHDRAWN",
         "PHASE2",
         "1.0",
         "0.0"
        ],
        [
         "5",
         "NCT00307905",
         "TRAUMEEL for Pain After Fracture of Neck of Femur",
         "A Randomised, Double - Blind, Placebo Controlled Clinical Trial to Assess the Efficacy of the Homeopathic Medication TRAUMEEL S in Controlling Post-operative Pain After Fracture of Neck of Femur",
         "WITHDRAWN",
         "PHASE3",
         "2.0",
         "224.0"
        ],
        [
         "6",
         "NCT00328809",
         "Spironolactone Safety in Dialysis Patients",
         "Subjects With Severe Heart Failure and End-Stage Renal Disease on Hemodialysis: A Pilot Study to Assess Safety and Tolerability of Spironolactone",
         "WITHDRAWN",
         "PHASE4",
         "1.0",
         "0.0"
        ],
        [
         "7",
         "NCT00329641",
         "Sorafenib, Carboplatin, and Paclitaxel in Treating Patients With Stage IV Melanoma of the Eye",
         "Phase II Trial of BAY 43-9006 (Sorafenib; NSC-724772) in Combination With Carboplatin and Paclitaxel in Patients With Metastatic Uveal Melanoma",
         "COMPLETED",
         "PHASE2",
         "1.0",
         "25.0"
        ],
        [
         "8",
         "NCT00356317",
         "Culturally Based Family Therapy for Improving Treatment Outcome for People With Schizophrenia",
         "A Culturally Based Family Therapy for Schizophrenia",
         "COMPLETED",
         "PHASE2",
         "2.0",
         "400.0"
        ],
        [
         "9",
         "NCT00362219",
         "Topical Morphine for Analgesia in Patients With Skin Grafts",
         "Topical Morphine for Analgesia in Patients With Skin Grafts",
         "WITHDRAWN",
         "PHASE3",
         "4.0",
         "0.0"
        ],
        [
         "10",
         "NCT00372762",
         "Bumetanide Versus Furosemide in Heart Failure",
         "Bumetanide Has a More Favourable Effect on Insulin Resistance Than Furosemide in Patients With Heart Failure - A Pilot Study",
         "WITHDRAWN",
         "PHASE3",
         "2.0",
         "0.0"
        ],
        [
         "11",
         "NCT00397501",
         "BBBD Followed By Methotrexate and Carboplatin With or Without Trastuzumab in Treating Women With Breast Cancer That Has Spread to the Brain",
         "A Phase I/II Pilot Study of Patients With Brain Metastasis Secondary to Breast Cancer Treated With Methotrexate and Carboplatin in Conjunction With Blood-Brain Barrier Disruption, With Concurrent Trastuzumab in HER-2 Positive Patients",
         "WITHDRAWN",
         "PHASE1/PHASE2",
         "2.0",
         "0.0"
        ],
        [
         "12",
         "NCT00397579",
         "DT388IL3 Fusion Protein in Treating Patients With Acute Myeloid Leukemia or Myelodysplastic Syndromes",
         "Therapy Targeting the Interleukin-3 Receptor (IL3R) for Patients With Relapsed or Refractory and Elderly or Poor-Risk Acute Myeloid Leukemia (AML) or High-Risk Myelodysplastic Syndrome With DTIL3 (IND# 11314): a Phase I/II Clinical Trial",
         "COMPLETED",
         "PHASE1/PHASE2",
         "1.0",
         "11.0"
        ],
        [
         "13",
         "NCT00399594",
         "Effect of Targeting Left Ventricular Lead Position on the Rate of Response to Cardiac Resynchronization Therapy.",
         "Investigating Non-response to Cardiac Resynchronization: Evaluation of Methods to Eliminate Non-response & Target Appropriate Lead Location (INCREMENTAL).",
         "COMPLETED",
         "PHASE2/PHASE3",
         "2.0",
         "96.0"
        ],
        [
         "14",
         "NCT00422422",
         "Open-label, Pharmacokinetic, Safety and Efficacy Study of Adjunctive Brivaracetam in Children With Epilepsy.",
         "Open-Label, Single-Arm, Multicenter, Pharmacokinetic, Safety, and Efficacy Study of Adjunctive Administration of Brivaracetam in Subjects From ≥1 Month to <16 Years Old With Epilepsy",
         "COMPLETED",
         "PHASE2",
         "1.0",
         "100.0"
        ],
        [
         "15",
         "NCT00448201",
         "Reduced-Intensity Busulfan and Fludarabine With or Without Antithymocyte Globulin Followed by Donor Stem Cell Transplant in Treating Patients With Hematologic Cancer or Other Disease",
         "Allogeneic Hematopoietic Cell Transplantation for Patients With Hematologic Disorders Who Are Ineligible or Inappropriate for Treatment With a More Intensive Therapeutic Regimen",
         "COMPLETED",
         "PHASE2",
         "4.0",
         "71.0"
        ],
        [
         "16",
         "NCT00455039",
         "INST 0514C- Biologic Correlative Study: Trial of GW572016 in HER2 Overexpressing Breast Cancer Patients",
         "INST 0514C- A Neoadjuvant Phase II Trial of GW572016 in HER2 Overexpressing Breast Cancer Patients: Biologic Correlative Study",
         "WITHDRAWN",
         "PHASE1/PHASE2",
         "1.0",
         "0.0"
        ],
        [
         "17",
         "NCT00455052",
         "A Study of Intravenous XMT-1001 in Patients With Advanced Solid Tumors",
         "A Phase 1 Study of the Safety, Tolerability, and Pharmacokinetics of Intravenous XMT-1001 in Patients With Advanced Solid Tumors",
         "COMPLETED",
         "PHASE1",
         "1.0",
         "30.0"
        ],
        [
         "18",
         "NCT00459641",
         "Safety and Tolerability of I-040302 in Children and Young Adults With Solitary Bone Cysts",
         "A Phase 2 Randomised, Open-label, Multi-centre Ascending Dose Study of the Efficacy, Safety and Tolerability of I-040302 Versus Control Injection (Bone Marrow Aspirate or Steroids) in Children and Young Adults With Solitary Bone Cysts",
         "WITHDRAWN",
         "PHASE2",
         "2.0",
         "0.0"
        ],
        [
         "19",
         "NCT00488605",
         "H-9926-LCH III: Treatment Protocol of the Third International Study for Langerhans Cell Histiocytosis",
         "H-9926-LCH III: Treatment Protocol of the Third International Study for Langerhans Cell Histiocytosis",
         "WITHDRAWN",
         "PHASE3",
         "2.0",
         "0.0"
        ],
        [
         "20",
         "NCT00504322",
         "Efficacy Study on the Transfer of Adenovirus With the CD40 Ligand Gene (AdcuCD40L) to Patients With Esophageal Carcinoma",
         "Phase II, Randomized, Double-blinded, Placebo-Control, Toxicity/Efficacy Study on the Transfer of Adenovirus With the CD40 Ligand Gene (AdcuCD40L) to Patients With Stage I, II or III Esophageal Carcinoma",
         "WITHDRAWN",
         "PHASE1/PHASE2",
         "2.0",
         "0.0"
        ],
        [
         "21",
         "NCT00532584",
         "Effect of Steroids on Gene Expression in the Healthy Smokers Lungs",
         "Effect of Inhaled Steroids in Combination With a Long Acting Bronchodilator on Gene Expression in the Lungs of Healthy Smokers",
         "WITHDRAWN",
         "PHASE4",
         "3.0",
         "0.0"
        ],
        [
         "22",
         "NCT00534703",
         "Investigation of the Safety and Feasibility of AAV1/SERCA2a Gene Transfer in Patients With Chronic Heart Failure",
         "Investigation of the Safety and Feasibility of AAV1/SERCA2a Gene Transfer in Patients With Chronic Heart Failure and a Left Ventricular Assist Device",
         "TERMINATED",
         "PHASE2",
         "2.0",
         "5.0"
        ],
        [
         "23",
         "NCT00554996",
         "Bacterial Interference for Prevention of Catheter-Associated UTI: Geriatric Pilot Study",
         "Bacterial Interference for Prevention of Catheter-Associated UTI",
         "COMPLETED",
         "PHASE1",
         "1.0",
         "10.0"
        ],
        [
         "24",
         "NCT00570050",
         "Effect of Intranasal Insulin on Depressive Symptoms in Major Depressive Disorder",
         "A Randomized, Double-blind, Placebo-controlled Cross-over Trial Evaluating the Effect of Intranasal Insulin on Depressive Symptoms in Individuals With Major Depressive Disorder Insufficiently Responsive to Antidepressant Therapy",
         "COMPLETED",
         "PHASE3",
         "2.0",
         "35.0"
        ],
        [
         "25",
         "NCT00571246",
         "The Use of Anticonvulsants for Treatment of Patients With Alcohol Dependence and Post Traumatic Stress Disorder",
         "The Use of Anticonvulsants for Treatment of Patients With Alcohol Dependence and Post Traumatic Stress Disorder",
         "WITHDRAWN",
         "PHASE3",
         "3.0",
         "0.0"
        ],
        [
         "26",
         "NCT00572689",
         "Pilot Study of Exenatide Pharmacokinetics and Pharmacodynamics in Gestational Diabetes",
         "Pilot Study of Exenatide Pharmacokinetics and Pharmacodynamics in Gestational Diabetes",
         "WITHDRAWN",
         "PHASE4",
         "2.0",
         "0.0"
        ],
        [
         "27",
         "NCT00593164",
         "Clinical Study of the LRS ThermoSuit™ System in Post Arrest Patients With Intravenous Infusion of Magnesium Sulfate",
         "Clinical Study of the LRS ThermoSuit™ System in Post Arrest Patients With Intravenous Infusion of Magnesium Sulfate",
         "WITHDRAWN",
         "PHASE2",
         "2.0",
         "0.0"
        ],
        [
         "28",
         "NCT00603460",
         "DCVax-L Vaccination With CD3/CD28 Costimulated Autologous T-Cells for Recurrent Ovarian or Primary Peritoneal Cancer",
         "A Phase-I/II Randomized Trial of Maintenance Vaccination Combined With Metronomic Cyclophosphamide w/wo Adoptive Transfer of CD3/CD28-CoStimulated T-Cells for Recurrent Ovarian or Primary Peritoneal Cancer Previously Vaccinated DCVax-L",
         "WITHDRAWN",
         "PHASE1/PHASE2",
         "2.0",
         "0.0"
        ],
        [
         "29",
         "NCT00640094",
         "The Melatonin Adjunct in the Acute myocaRdial Infarction Treated With Angioplasty",
         "Randomized, Double-blind, Parallel-group, Placebo-controlled Study of Melatonin as an Adjunct in Patients With Acute myocaRdial Infarction Undergoing Primary Angioplasty",
         "TERMINATED",
         "PHASE2",
         "2.0",
         "272.0"
        ],
        [
         "30",
         "NCT00640445",
         "Military to Civilian: Trial of an Intervention to Promote Postdeployment Reintegration",
         "Military to Civilian: RCT of an Intervention to Promote Postdeployment Reintegration",
         "COMPLETED",
         "PHASE2/PHASE3",
         "3.0",
         "1292.0"
        ],
        [
         "31",
         "NCT00642252",
         "Development and Validation of a Multi-Mineral Fluoride Mouthrinse",
         "Development and Validation of a Multi-Mineral Fluoride Mouthrinse",
         "COMPLETED",
         "PHASE1",
         "2.0",
         "30.0"
        ],
        [
         "32",
         "NCT00662298",
         "Prednisolone Pharmacokinetics in Severe Asthma",
         "The Pharmacokinetics and Anti-inflammatory Effects of Prednisolone in Severe Asthma",
         "COMPLETED",
         "PHASE4",
         "1.0",
         "5.0"
        ],
        [
         "33",
         "NCT00669162",
         "Postoperative Radiation Therapy, Hormonal Therapy and Concurrent Docetaxel for High Risk Pathologic Prostate Cancer",
         "A Phase I/II Trial of Post-Prostatectomy Radiation Therapy, Hormonal Therapy and Concurrent Docetaxel for High Risk Pathologic T2-T3NO (Tumor-3, Node-0) Prostate Cancer",
         "COMPLETED",
         "PHASE1/PHASE2",
         "1.0",
         "27.0"
        ],
        [
         "34",
         "NCT00673842",
         "Efficacy of Implantable Defibrillator Therapy After a Myocardial Infarction",
         "Risk Estimation Following Infarction Noninvasive Evaluation - ICD Efficacy",
         "COMPLETED",
         "PHASE3",
         "2.0",
         "700.0"
        ],
        [
         "35",
         "NCT00686556",
         "Total Marrow Irradiation for Refractory Acute Leukemia",
         "Total Marrow Irradiation and Myeloablative Chemotherapy Followed By Double Umbilical Cord BloodTransplantation In Patients With Refractory Acute Leukemia",
         "COMPLETED",
         "PHASE1",
         "5.0",
         "12.0"
        ],
        [
         "36",
         "NCT00701233",
         "Botulinum Toxin for Carpal Tunnel Syndrome",
         "Evaluation of Intercarpal Botox Versus Steroid Injections for Carpal Tunnel Syndrome",
         "WITHDRAWN",
         "PHASE2",
         "2.0",
         "0.0"
        ],
        [
         "37",
         "NCT00711841",
         "Effectivity of Postpartum Dexamethasone for Women With Class I HELLP Syndrome",
         "Postpartum Dexamethasone for Women With Class I HELLP Syndrome: a Double-blind, Placebo-controled, Randomized Clinical Trial",
         "TERMINATED",
         "PHASE4",
         "2.0",
         "400.0"
        ],
        [
         "38",
         "NCT00724633",
         "Effect of Lowering the Dialysate Sodium on Blood Pressure in Hemodialysis Patients",
         "Effect of Lowering the Dialysate Sodium on Blood Pressure in Hemodialysis Patients: a Randomized Controlled Trial.",
         "COMPLETED",
         "PHASE3",
         "3.0",
         "35.0"
        ],
        [
         "39",
         "NCT00730067",
         "Sildenafil for Chronic Obstructive Pulmonary Disease (COPD) Associated Pulmonary Hypertension",
         "Sildenafil for COPD-associated Pulmonary Hypertension. A Randomized Double Blinded Placebo Controlled Study.",
         "WITHDRAWN",
         "PHASE4",
         "2.0",
         "0.0"
        ],
        [
         "40",
         "NCT00737893",
         "Erythropoietin to Enhance Recovery of Erectile Function in Men Following Radical Prostatectomy",
         "Erythropoietin to Enhance Recovery of Erectile Function in Men Following Radical Prostatectomy: a Prospective Randomized Controlled Trial (ERECT)",
         "COMPLETED",
         "PHASE2",
         "2.0",
         "56.0"
        ],
        [
         "41",
         "NCT00739375",
         "The Effect of Blood Flow in the Maturing Arteriovenous Access for Hemodialysis on the Development of Pulmonary Hypertension.",
         "The Effect of Blood Flow in the Maturing Arteriovenous Access for Hemodialysis on the Development of Pulmonary Hypertension.",
         "COMPLETED",
         "PHASE1",
         null,
         "50.0"
        ],
        [
         "42",
         "NCT00747071",
         "Safety and Validation of Efficacy of Oral Administration of the Food Additive Colostrum Derived Anti Clostridium Difficile Antibodies",
         "Safety and Validation of Efficacy of Oral Administration of the Food Additive Colostrum Derived Anti Clostridium Difficile Antibodies",
         "WITHDRAWN",
         "PHASE2/PHASE3",
         "2.0",
         "0.0"
        ],
        [
         "43",
         "NCT00753402",
         "The Effects of Epinephrine in Endotoxemia in Normal Volunteers",
         "The Effects of Epinephrine in Endotoxemia in Normal Volunteers",
         "COMPLETED",
         "PHASE1",
         "2.0",
         "37.0"
        ],
        [
         "44",
         "NCT00757055",
         "If Channel Blockade With Ivabradine in Patients With Diastolic Heart Failure",
         "If Channel Blockade With Ivabradine in Patients With Diastolic Heart Failure",
         "WITHDRAWN",
         "PHASE2",
         "2.0",
         "0.0"
        ],
        [
         "45",
         "NCT00760825",
         "A Study to Evaluate Safety and Immunogenicity of the Bivalent Killed Whole Cell Oral Cholera Vaccine in Adults and Children",
         "An Open Label Post Licensure Trial to Evaluate the Safety and Immunogenicity of Indigenously Manufactured Killed Bivalent (O1 and O139) Whole Cell Oral Cholera Vaccine(Shanchol™)",
         "COMPLETED",
         "PHASE4",
         "1.0",
         "200.0"
        ],
        [
         "46",
         "NCT00764270",
         "The Role of R-Alpha Lipoic Acid in the Treatment of Atherosclerotic Vascular Disease",
         "The Role of R-alpha Lipoic Acid in the Treatment of Atherosclerotic Vascular Disease",
         "COMPLETED",
         "PHASE2/PHASE3",
         "2.0",
         "28.0"
        ],
        [
         "47",
         "NCT00764478",
         "Fixed-dose Safety and Efficacy Study of Asenapine for the Treatment of Acute Manic or Mixed Episode in Bipolar 1 Disorder (P05691)",
         "A Phase 3b, Multicenter, Double-Blind, Fixed-Dose, Parallel-Group, Three Week Placebo Controlled Trial Evaluating the Safety and Efficacy of Asenapine in Subjects With Bipolar 1 Disorder Experiencing an Acute Manic or Mixed Episode (Protocol P05691 [Formerly 041044])",
         "COMPLETED",
         "PHASE3",
         "3.0",
         "367.0"
        ],
        [
         "48",
         "NCT00784966",
         "Islet After Kidney Transplant for Type 1 Diabetes",
         "Pancreatic Islet Transplantation in Patients With Type 1 Diabetes Mellitus",
         "WITHDRAWN",
         "PHASE1/PHASE2",
         "2.0",
         "0.0"
        ],
        [
         "49",
         "NCT00793013",
         "Airway Pressure Release Ventilation (APRV) Compared to ARDSnet Ventilation",
         "Primary Resuscitation Using Airway Pressure Release Ventilation Improves Recovery From Acute Lung Injury or Adult Respiratory Distress Syndrome and Reduces All Cause Mortality Compared to ARDS Net Low Tidal Volume-Cycled Ventilation.",
         "WITHDRAWN",
         "PHASE2",
         "2.0",
         "0.0"
        ]
       ],
       "shape": {
        "columns": 7,
        "rows": 83519
       }
      },
      "text/html": [
       "<div>\n",
       "<style scoped>\n",
       "    .dataframe tbody tr th:only-of-type {\n",
       "        vertical-align: middle;\n",
       "    }\n",
       "\n",
       "    .dataframe tbody tr th {\n",
       "        vertical-align: top;\n",
       "    }\n",
       "\n",
       "    .dataframe thead th {\n",
       "        text-align: right;\n",
       "    }\n",
       "</style>\n",
       "<table border=\"1\" class=\"dataframe\">\n",
       "  <thead>\n",
       "    <tr style=\"text-align: right;\">\n",
       "      <th></th>\n",
       "      <th>nct_id</th>\n",
       "      <th>brief_title</th>\n",
       "      <th>official_title</th>\n",
       "      <th>overall_status</th>\n",
       "      <th>phase</th>\n",
       "      <th>number_of_arms</th>\n",
       "      <th>enrollment</th>\n",
       "    </tr>\n",
       "  </thead>\n",
       "  <tbody>\n",
       "    <tr>\n",
       "      <th>0</th>\n",
       "      <td>NCT00125528</td>\n",
       "      <td>D-cycloserine in the Management of Chronic Low...</td>\n",
       "      <td>D-Cycloserine in the Management of Chronic Low...</td>\n",
       "      <td>COMPLETED</td>\n",
       "      <td>PHASE2</td>\n",
       "      <td>2.0</td>\n",
       "      <td>41.0</td>\n",
       "    </tr>\n",
       "    <tr>\n",
       "      <th>1</th>\n",
       "      <td>NCT00170209</td>\n",
       "      <td>Rifampin Versus Isoniazid for the Treatment of...</td>\n",
       "      <td>A Randomized Trial to Compare Effectiveness of...</td>\n",
       "      <td>COMPLETED</td>\n",
       "      <td>PHASE3</td>\n",
       "      <td>2.0</td>\n",
       "      <td>844.0</td>\n",
       "    </tr>\n",
       "    <tr>\n",
       "      <th>2</th>\n",
       "      <td>NCT00194714</td>\n",
       "      <td>Vaccine Therapy in Treating Patients With Stag...</td>\n",
       "      <td>Phase I/II Study of Combination Immunotherapy ...</td>\n",
       "      <td>COMPLETED</td>\n",
       "      <td>PHASE1/PHASE2</td>\n",
       "      <td>1.0</td>\n",
       "      <td>22.0</td>\n",
       "    </tr>\n",
       "    <tr>\n",
       "      <th>3</th>\n",
       "      <td>NCT00293735</td>\n",
       "      <td>Labetalol Versus Magnesium Sulfate (MgSO4) for...</td>\n",
       "      <td>Labetalol Versus MgSO4 for the Prevention of E...</td>\n",
       "      <td>WITHDRAWN</td>\n",
       "      <td>PHASE2/PHASE3</td>\n",
       "      <td>2.0</td>\n",
       "      <td>0.0</td>\n",
       "    </tr>\n",
       "    <tr>\n",
       "      <th>4</th>\n",
       "      <td>NCT00306059</td>\n",
       "      <td>Early Goal Directed Therapy for Acute Kidney I...</td>\n",
       "      <td>Early Goal Directed Therapy for Acute Kidney I...</td>\n",
       "      <td>WITHDRAWN</td>\n",
       "      <td>PHASE2</td>\n",
       "      <td>1.0</td>\n",
       "      <td>0.0</td>\n",
       "    </tr>\n",
       "    <tr>\n",
       "      <th>...</th>\n",
       "      <td>...</td>\n",
       "      <td>...</td>\n",
       "      <td>...</td>\n",
       "      <td>...</td>\n",
       "      <td>...</td>\n",
       "      <td>...</td>\n",
       "      <td>...</td>\n",
       "    </tr>\n",
       "    <tr>\n",
       "      <th>83514</th>\n",
       "      <td>NCT07173179</td>\n",
       "      <td>Papillary Epinephrine Injection Combined With ...</td>\n",
       "      <td>Efficacy and Safety of Papillary Epinephrine I...</td>\n",
       "      <td>COMPLETED</td>\n",
       "      <td>PHASE4</td>\n",
       "      <td>2.0</td>\n",
       "      <td>504.0</td>\n",
       "    </tr>\n",
       "    <tr>\n",
       "      <th>83515</th>\n",
       "      <td>NCT07173738</td>\n",
       "      <td>Pharmacokinetics, Safety and Tolerability of C...</td>\n",
       "      <td>An Open Label, Three Period, Fixed Sequence St...</td>\n",
       "      <td>COMPLETED</td>\n",
       "      <td>PHASE1</td>\n",
       "      <td>3.0</td>\n",
       "      <td>44.0</td>\n",
       "    </tr>\n",
       "    <tr>\n",
       "      <th>83516</th>\n",
       "      <td>NCT07174011</td>\n",
       "      <td>Evaluation of the Efficacy and Safety of Oral ...</td>\n",
       "      <td>Evaluation of the Efficacy and Safety of Oral ...</td>\n",
       "      <td>COMPLETED</td>\n",
       "      <td>PHASE4</td>\n",
       "      <td>2.0</td>\n",
       "      <td>50.0</td>\n",
       "    </tr>\n",
       "    <tr>\n",
       "      <th>83517</th>\n",
       "      <td>NCT07174024</td>\n",
       "      <td>A Comparative Study on the Efficacy of Blue Li...</td>\n",
       "      <td>A Comparative Study on the Efficacy of Blue Li...</td>\n",
       "      <td>COMPLETED</td>\n",
       "      <td>PHASE4</td>\n",
       "      <td>2.0</td>\n",
       "      <td>30.0</td>\n",
       "    </tr>\n",
       "    <tr>\n",
       "      <th>83518</th>\n",
       "      <td>NCT07176832</td>\n",
       "      <td>Bioavailability of Stiripentol After Single Or...</td>\n",
       "      <td>Bioavailability Study of Stiripentol After Sin...</td>\n",
       "      <td>COMPLETED</td>\n",
       "      <td>PHASE1</td>\n",
       "      <td>2.0</td>\n",
       "      <td>24.0</td>\n",
       "    </tr>\n",
       "  </tbody>\n",
       "</table>\n",
       "<p>83519 rows × 7 columns</p>\n",
       "</div>"
      ],
      "text/plain": [
       "            nct_id                                        brief_title  \\\n",
       "0      NCT00125528  D-cycloserine in the Management of Chronic Low...   \n",
       "1      NCT00170209  Rifampin Versus Isoniazid for the Treatment of...   \n",
       "2      NCT00194714  Vaccine Therapy in Treating Patients With Stag...   \n",
       "3      NCT00293735  Labetalol Versus Magnesium Sulfate (MgSO4) for...   \n",
       "4      NCT00306059  Early Goal Directed Therapy for Acute Kidney I...   \n",
       "...            ...                                                ...   \n",
       "83514  NCT07173179  Papillary Epinephrine Injection Combined With ...   \n",
       "83515  NCT07173738  Pharmacokinetics, Safety and Tolerability of C...   \n",
       "83516  NCT07174011  Evaluation of the Efficacy and Safety of Oral ...   \n",
       "83517  NCT07174024  A Comparative Study on the Efficacy of Blue Li...   \n",
       "83518  NCT07176832  Bioavailability of Stiripentol After Single Or...   \n",
       "\n",
       "                                          official_title overall_status  \\\n",
       "0      D-Cycloserine in the Management of Chronic Low...      COMPLETED   \n",
       "1      A Randomized Trial to Compare Effectiveness of...      COMPLETED   \n",
       "2      Phase I/II Study of Combination Immunotherapy ...      COMPLETED   \n",
       "3      Labetalol Versus MgSO4 for the Prevention of E...      WITHDRAWN   \n",
       "4      Early Goal Directed Therapy for Acute Kidney I...      WITHDRAWN   \n",
       "...                                                  ...            ...   \n",
       "83514  Efficacy and Safety of Papillary Epinephrine I...      COMPLETED   \n",
       "83515  An Open Label, Three Period, Fixed Sequence St...      COMPLETED   \n",
       "83516  Evaluation of the Efficacy and Safety of Oral ...      COMPLETED   \n",
       "83517  A Comparative Study on the Efficacy of Blue Li...      COMPLETED   \n",
       "83518  Bioavailability Study of Stiripentol After Sin...      COMPLETED   \n",
       "\n",
       "               phase  number_of_arms  enrollment  \n",
       "0             PHASE2             2.0        41.0  \n",
       "1             PHASE3             2.0       844.0  \n",
       "2      PHASE1/PHASE2             1.0        22.0  \n",
       "3      PHASE2/PHASE3             2.0         0.0  \n",
       "4             PHASE2             1.0         0.0  \n",
       "...              ...             ...         ...  \n",
       "83514         PHASE4             2.0       504.0  \n",
       "83515         PHASE1             3.0        44.0  \n",
       "83516         PHASE4             2.0        50.0  \n",
       "83517         PHASE4             2.0        30.0  \n",
       "83518         PHASE1             2.0        24.0  \n",
       "\n",
       "[83519 rows x 7 columns]"
      ]
     },
     "execution_count": 197,
     "metadata": {},
     "output_type": "execute_result"
    }
   ],
   "source": [
    "create_table_sql = \"\"\"\n",
    "DROP TABLE IF EXISTS ctgov.my_studies;\n",
    "\n",
    "CREATE TABLE ctgov.my_studies AS\n",
    "SELECT DISTINCT ON \n",
    "    (\n",
    "studies.nct_id,\n",
    "studies.brief_title,\n",
    "studies.official_title,\n",
    "studies.source,\n",
    "studies.phase,\n",
    "studies.number_of_arms,\n",
    "studies.enrollment\n",
    "    ) \n",
    "studies.nct_id,\n",
    "studies.brief_title,\n",
    "studies.official_title,\n",
    "studies.overall_status,\n",
    "studies.phase,\n",
    "studies.number_of_arms,\n",
    "studies.enrollment\n",
    "\n",
    "from ctgov.studies\n",
    "WHERE TO_CHAR(studies.start_date, 'YYYY-MM') >= '2011-01'\n",
    "  AND studies.study_type = 'INTERVENTIONAL'\n",
    "  AND studies.overall_status in ('COMPLETED','WITHDRAWN', 'TERMINATED')\n",
    "  AND studies.phase in  ('PHASE1/PHASE2', 'PHASE2/PHASE3', 'PHASE1', 'PHASE2', 'PHASE3', 'PHASE4')\n",
    "\n",
    "ORDER BY \n",
    "studies.nct_id,\n",
    "studies.brief_title,\n",
    "studies.official_title,\n",
    "studies.source,\n",
    "studies.phase,\n",
    "studies.number_of_arms,\n",
    "studies.enrollment;\n",
    "\"\"\"\n",
    "\n",
    "with engine.connect() as conn:\n",
    "    conn.execute(text(create_table_sql))\n",
    "    conn.commit()\n",
    "\n",
    "my_studies = pd.read_sql(\"select * from ctgov.my_studies;\", con = engine)  # was not used anywhere a table. Only for investigational reasons\n",
    "my_studies"
   ]
  },
  {
   "cell_type": "markdown",
   "id": "f55ef6e3",
   "metadata": {},
   "source": [
    "## my_conditions\n",
    "\n",
    "Source : https://meshb.nlm.nih.gov/treeView"
   ]
  },
  {
   "cell_type": "code",
   "execution_count": 198,
   "id": "6fd305bb",
   "metadata": {},
   "outputs": [
    {
     "data": {
      "application/vnd.microsoft.datawrangler.viewer.v0+json": {
       "columns": [
        {
         "name": "index",
         "rawType": "int64",
         "type": "integer"
        },
        {
         "name": "Code",
         "rawType": "object",
         "type": "string"
        },
        {
         "name": "Category",
         "rawType": "object",
         "type": "string"
        }
       ],
       "ref": "d3005ce4-7aba-4cc9-a4fb-e4fbbbc7168b",
       "rows": [
        [
         "0",
         "A",
         "Anatomy"
        ],
        [
         "1",
         "B",
         "Organisms"
        ],
        [
         "2",
         "C",
         "Diseases"
        ],
        [
         "3",
         "D",
         "Chemicals, Drugs"
        ],
        [
         "4",
         "E",
         "Analytical, Diagnostic, Therapeutic Techniques, Equipment"
        ],
        [
         "5",
         "F",
         "Psychiatry, Psychology"
        ],
        [
         "6",
         "G",
         "Phenomena, Processes"
        ],
        [
         "7",
         "H",
         "Disciplines, Occupations"
        ],
        [
         "8",
         "I",
         "Anthropology, Education, Sociology, Social Phenomena"
        ],
        [
         "9",
         "J",
         "Technology, Industry, Agriculture"
        ],
        [
         "10",
         "K",
         "Humanities"
        ],
        [
         "11",
         "L",
         "Information Science"
        ],
        [
         "12",
         "M",
         "Named Groups"
        ],
        [
         "13",
         "N",
         "Health Care"
        ],
        [
         "14",
         "V",
         "Publication Characteristics"
        ],
        [
         "15",
         "Z",
         "Geographic Locations"
        ]
       ],
       "shape": {
        "columns": 2,
        "rows": 16
       }
      },
      "text/html": [
       "<div>\n",
       "<style scoped>\n",
       "    .dataframe tbody tr th:only-of-type {\n",
       "        vertical-align: middle;\n",
       "    }\n",
       "\n",
       "    .dataframe tbody tr th {\n",
       "        vertical-align: top;\n",
       "    }\n",
       "\n",
       "    .dataframe thead th {\n",
       "        text-align: right;\n",
       "    }\n",
       "</style>\n",
       "<table border=\"1\" class=\"dataframe\">\n",
       "  <thead>\n",
       "    <tr style=\"text-align: right;\">\n",
       "      <th></th>\n",
       "      <th>Code</th>\n",
       "      <th>Category</th>\n",
       "    </tr>\n",
       "  </thead>\n",
       "  <tbody>\n",
       "    <tr>\n",
       "      <th>0</th>\n",
       "      <td>A</td>\n",
       "      <td>Anatomy</td>\n",
       "    </tr>\n",
       "    <tr>\n",
       "      <th>1</th>\n",
       "      <td>B</td>\n",
       "      <td>Organisms</td>\n",
       "    </tr>\n",
       "    <tr>\n",
       "      <th>2</th>\n",
       "      <td>C</td>\n",
       "      <td>Diseases</td>\n",
       "    </tr>\n",
       "    <tr>\n",
       "      <th>3</th>\n",
       "      <td>D</td>\n",
       "      <td>Chemicals, Drugs</td>\n",
       "    </tr>\n",
       "    <tr>\n",
       "      <th>4</th>\n",
       "      <td>E</td>\n",
       "      <td>Analytical, Diagnostic, Therapeutic Techniques...</td>\n",
       "    </tr>\n",
       "    <tr>\n",
       "      <th>5</th>\n",
       "      <td>F</td>\n",
       "      <td>Psychiatry, Psychology</td>\n",
       "    </tr>\n",
       "    <tr>\n",
       "      <th>6</th>\n",
       "      <td>G</td>\n",
       "      <td>Phenomena, Processes</td>\n",
       "    </tr>\n",
       "    <tr>\n",
       "      <th>7</th>\n",
       "      <td>H</td>\n",
       "      <td>Disciplines, Occupations</td>\n",
       "    </tr>\n",
       "    <tr>\n",
       "      <th>8</th>\n",
       "      <td>I</td>\n",
       "      <td>Anthropology, Education, Sociology, Social Phe...</td>\n",
       "    </tr>\n",
       "    <tr>\n",
       "      <th>9</th>\n",
       "      <td>J</td>\n",
       "      <td>Technology, Industry, Agriculture</td>\n",
       "    </tr>\n",
       "    <tr>\n",
       "      <th>10</th>\n",
       "      <td>K</td>\n",
       "      <td>Humanities</td>\n",
       "    </tr>\n",
       "    <tr>\n",
       "      <th>11</th>\n",
       "      <td>L</td>\n",
       "      <td>Information Science</td>\n",
       "    </tr>\n",
       "    <tr>\n",
       "      <th>12</th>\n",
       "      <td>M</td>\n",
       "      <td>Named Groups</td>\n",
       "    </tr>\n",
       "    <tr>\n",
       "      <th>13</th>\n",
       "      <td>N</td>\n",
       "      <td>Health Care</td>\n",
       "    </tr>\n",
       "    <tr>\n",
       "      <th>14</th>\n",
       "      <td>V</td>\n",
       "      <td>Publication Characteristics</td>\n",
       "    </tr>\n",
       "    <tr>\n",
       "      <th>15</th>\n",
       "      <td>Z</td>\n",
       "      <td>Geographic Locations</td>\n",
       "    </tr>\n",
       "  </tbody>\n",
       "</table>\n",
       "</div>"
      ],
      "text/plain": [
       "   Code                                           Category\n",
       "0     A                                            Anatomy\n",
       "1     B                                          Organisms\n",
       "2     C                                           Diseases\n",
       "3     D                                   Chemicals, Drugs\n",
       "4     E  Analytical, Diagnostic, Therapeutic Techniques...\n",
       "5     F                             Psychiatry, Psychology\n",
       "6     G                               Phenomena, Processes\n",
       "7     H                           Disciplines, Occupations\n",
       "8     I  Anthropology, Education, Sociology, Social Phe...\n",
       "9     J                  Technology, Industry, Agriculture\n",
       "10    K                                         Humanities\n",
       "11    L                                Information Science\n",
       "12    M                                       Named Groups\n",
       "13    N                                        Health Care\n",
       "14    V                        Publication Characteristics\n",
       "15    Z                               Geographic Locations"
      ]
     },
     "execution_count": 198,
     "metadata": {},
     "output_type": "execute_result"
    }
   ],
   "source": [
    "category_map = {\n",
    "    \"A\": \"Anatomy\",\n",
    "    \"B\": \"Organisms\",\n",
    "    \"C\": \"Diseases\",\n",
    "    \"D\": \"Chemicals, Drugs\",\n",
    "    \"E\": \"Analytical, Diagnostic, Therapeutic Techniques, Equipment\",\n",
    "    \"F\": \"Psychiatry, Psychology\",\n",
    "    \"G\": \"Phenomena, Processes\",\n",
    "    \"H\": \"Disciplines, Occupations\",\n",
    "    \"I\": \"Anthropology, Education, Sociology, Social Phenomena\",\n",
    "    \"J\": \"Technology, Industry, Agriculture\",\n",
    "    \"K\": \"Humanities\",\n",
    "    \"L\": \"Information Science\",\n",
    "    \"M\": \"Named Groups\",\n",
    "    \"N\": \"Health Care\",\n",
    "    \"V\": \"Publication Characteristics\",\n",
    "    \"Z\": \"Geographic Locations\"\n",
    "}\n",
    "\n",
    "my_qualifiers = pd.DataFrame({\"Code\" : category_map.keys(), \"Category\" : category_map.values()})\n",
    "my_qualifiers"
   ]
  },
  {
   "cell_type": "code",
   "execution_count": 199,
   "id": "144076a3",
   "metadata": {},
   "outputs": [
    {
     "data": {
      "application/vnd.microsoft.datawrangler.viewer.v0+json": {
       "columns": [
        {
         "name": "index",
         "rawType": "int64",
         "type": "integer"
        },
        {
         "name": "nct_id",
         "rawType": "object",
         "type": "string"
        },
        {
         "name": "qualifier",
         "rawType": "object",
         "type": "unknown"
        },
        {
         "name": "heading",
         "rawType": "object",
         "type": "unknown"
        },
        {
         "name": "Category",
         "rawType": "object",
         "type": "unknown"
        },
        {
         "name": "Code",
         "rawType": "object",
         "type": "unknown"
        },
        {
         "name": "name",
         "rawType": "object",
         "type": "unknown"
        }
       ],
       "ref": "d477c312-3c85-4290-aef7-a4ba4d1d7b18",
       "rows": [
        [
         "0",
         "NCT00125528",
         "['C10', 'C23', 'F02', 'G11']",
         "['Musculoskeletal and Neural Physiological Phenomena', 'Nervous System Diseases', 'Pathological Conditions, Signs and Symptoms', 'Psychological Phenomena and Processes']",
         "['Diseases', 'Phenomena, Processes', 'Psychiatry, Psychology']",
         "['C', 'F', 'G']",
         "['Low Back Pain', 'Pain']"
        ],
        [
         "1",
         "NCT00170209",
         "['C01']",
         "['Bacterial Infections and Mycoses']",
         "['Diseases']",
         "['C']",
         "['Latent Tuberculosis Infection']"
        ],
        [
         "2",
         "NCT00194714",
         "['C04', 'C12', 'C13', 'C17', 'C19']",
         "['Endocrine System Diseases', 'Female Urogenital Diseases and Pregnancy Complications', 'Male Urogenital Diseases', 'Neoplasms', 'Skin and Connective Tissue Diseases']",
         "['Diseases']",
         "['C']",
         "['HER2/Neu Positive', 'HLA-A2 Positive Cells Present', 'Stage IV Breast Cancer', 'Stage IV Ovarian Cancer']"
        ],
        [
         "3",
         "NCT00293735",
         "['C10', 'C13', 'C14', 'C23']",
         "['Cardiovascular Diseases', 'Female Urogenital Diseases and Pregnancy Complications', 'Nervous System Diseases', 'Pathological Conditions, Signs and Symptoms']",
         "['Diseases']",
         "['C']",
         "['Chronic Hypertension', 'Gestational Hypertension', 'Preeclampsia', 'Pregnancy Induced Hypertension', 'Superimposed Preeclampsia']"
        ],
        [
         "4",
         "NCT00306059",
         "['C12', 'C13']",
         "['Female Urogenital Diseases and Pregnancy Complications', 'Male Urogenital Diseases']",
         "['Diseases']",
         "['C']",
         "['Kidney Injury, Acute']"
        ],
        [
         "5",
         "NCT00307905",
         "['C10', 'C23', 'C26', 'F02', 'G11']",
         "['Musculoskeletal and Neural Physiological Phenomena', 'Nervous System Diseases', 'Pathological Conditions, Signs and Symptoms', 'Psychological Phenomena and Processes', 'Wounds and Injuries']",
         "['Diseases', 'Phenomena, Processes', 'Psychiatry, Psychology']",
         "['C', 'F', 'G']",
         "['Fracture of Neck of Femur', 'Pain']"
        ],
        [
         "6",
         "NCT00328809",
         "['C12', 'C13', 'C14', 'C23']",
         "['Cardiovascular Diseases', 'Female Urogenital Diseases and Pregnancy Complications', 'Male Urogenital Diseases', 'Pathological Conditions, Signs and Symptoms']",
         "['Diseases']",
         "['C']",
         "['Congestive Heart Failure', 'End Stage Renal Disease']"
        ],
        [
         "7",
         "NCT00329641",
         "['C04', 'C11']",
         "['Eye Diseases', 'Neoplasms']",
         "['Diseases']",
         "['C']",
         "['Ciliary Body and Choroid Melanoma, Medium/Large Size', 'Extraocular Extension Melanoma', 'Iris Melanoma', 'Metastatic Intraocular Melanoma', 'Recurrent Intraocular Melanoma']"
        ],
        [
         "8",
         "NCT00356317",
         "['F03']",
         "['Mental Disorders']",
         "['Psychiatry, Psychology']",
         "['F']",
         "['Schizophrenia']"
        ],
        [
         "9",
         "NCT00362219",
         "['C10', 'C23', 'C26', 'F02', 'G11']",
         "['Musculoskeletal and Neural Physiological Phenomena', 'Nervous System Diseases', 'Pathological Conditions, Signs and Symptoms', 'Psychological Phenomena and Processes', 'Wounds and Injuries']",
         "['Diseases', 'Phenomena, Processes', 'Psychiatry, Psychology']",
         "['C', 'F', 'G']",
         "['Pain', 'Skin Transplantation']"
        ],
        [
         "10",
         "NCT00372762",
         "['C14', 'C18', 'G07']",
         "['Cardiovascular Diseases', 'Nutritional and Metabolic Diseases', 'Physiological Phenomena']",
         "['Diseases', 'Phenomena, Processes']",
         "['C', 'G']",
         "['Heart Failure']"
        ],
        [
         "11",
         "NCT00397501",
         "['C04', 'C10', 'C17', 'C25']",
         "['Chemically-Induced Disorders', 'Neoplasms', 'Nervous System Diseases', 'Skin and Connective Tissue Diseases']",
         "['Diseases']",
         "['C']",
         "['Brain and Central Nervous System Tumors', 'Breast Cancer', 'Cognitive/Functional Effects', 'Drug/Agent Toxicity by Tissue/Organ', 'Psychosocial Effects of Cancer and Its Treatment']"
        ],
        [
         "12",
         "NCT00397579",
         "['C04', 'C15', 'C16', 'C17', 'C20']",
         "['Congenital, Hereditary, and Neonatal Diseases and Abnormalities', 'Hemic and Lymphatic Diseases', 'Immune System Diseases', 'Neoplasms', 'Skin and Connective Tissue Diseases']",
         "['Diseases']",
         "['C']",
         "['Blastic Plasmacytoid Dendritic Cell Neoplasm', 'Leukemia', 'Myelodysplastic Syndromes']"
        ],
        [
         "13",
         "NCT00399594",
         "['C14']",
         "['Cardiovascular Diseases']",
         "['Diseases']",
         "['C']",
         "['Cardiac Pacing, Artificial', 'Defibrillators', 'Heart Failure, Congestive']"
        ],
        [
         "14",
         "NCT00422422",
         "['C10']",
         "['Nervous System Diseases']",
         "['Diseases']",
         "['C']",
         "['Epilepsy']"
        ],
        [
         "15",
         "NCT00448201",
         "['C02', 'C04', 'C14', 'C15', 'C16', 'C20', 'C23']",
         "['Cardiovascular Diseases', 'Congenital, Hereditary, and Neonatal Diseases and Abnormalities', 'Hemic and Lymphatic Diseases', 'Immune System Diseases', 'Neoplasms', 'Pathological Conditions, Signs and Symptoms', 'Virus Diseases']",
         "['Diseases']",
         "['C']",
         "['Chronic Myeloproliferative Disorders', 'Leukemia', 'Lymphoma', 'Multiple Myeloma and Plasma Cell Neoplasm', 'Myelodysplastic Syndromes']"
        ],
        [
         "16",
         "NCT00455039",
         "['C04', 'C17']",
         "['Neoplasms', 'Skin and Connective Tissue Diseases']",
         "['Diseases']",
         "['C']",
         "['Breast Cancer']"
        ],
        [
         "17",
         "NCT00455052",
         "['C04', 'C08']",
         "['Neoplasms', 'Respiratory Tract Diseases']",
         "['Diseases']",
         "['C']",
         "['Non-small Cell Lung Cancer', 'Small Cell Lung Cancer']"
        ],
        [
         "18",
         "NCT00459641",
         "['C04', 'C05', 'C23']",
         "['Musculoskeletal Diseases', 'Neoplasms', 'Pathological Conditions, Signs and Symptoms']",
         "['Diseases']",
         "['C']",
         "['Bone Cysts']"
        ],
        [
         "19",
         "NCT00488605",
         "['C04', 'C15']",
         "['Hemic and Lymphatic Diseases', 'Neoplasms']",
         "['Diseases']",
         "['C']",
         "['Leukemia']"
        ],
        [
         "20",
         "NCT00504322",
         "['C04', 'C06']",
         "['Digestive System Diseases', 'Neoplasms']",
         "['Diseases']",
         "['C']",
         "['Esophageal Neoplasms']"
        ],
        [
         "21",
         "NCT00532584",
         "['C08', 'C23']",
         "['Pathological Conditions, Signs and Symptoms', 'Respiratory Tract Diseases']",
         "['Diseases']",
         "['C']",
         "['Chronic Obstructive Pulmonary Disease (COPD)']"
        ],
        [
         "22",
         "NCT00534703",
         "[]",
         "[]",
         "[]",
         "[]",
         "['Chronic Heart Failure', 'Patients That Have Received a Left Ventricular Assist Device']"
        ],
        [
         "23",
         "NCT00554996",
         "['C01', 'C12', 'C13']",
         "['Bacterial Infections and Mycoses', 'Female Urogenital Diseases and Pregnancy Complications', 'Male Urogenital Diseases']",
         "['Diseases']",
         "['C']",
         "['Urinary Tract Infection']"
        ],
        [
         "24",
         "NCT00570050",
         "['F03']",
         "['Mental Disorders']",
         "['Psychiatry, Psychology']",
         "['F']",
         "['Major Depressive Disorder']"
        ],
        [
         "25",
         "NCT00571246",
         "['C25', 'F03']",
         "['Chemically-Induced Disorders', 'Mental Disorders']",
         "['Diseases', 'Psychiatry, Psychology']",
         "['C', 'F']",
         "['Alcohol Dependence', 'Post Traumatic Stress Disorder']"
        ],
        [
         "26",
         "NCT00572689",
         "['C13', 'C18', 'C19']",
         "['Endocrine System Diseases', 'Female Urogenital Diseases and Pregnancy Complications', 'Nutritional and Metabolic Diseases']",
         "['Diseases']",
         "['C']",
         "['Gestational Diabetes']"
        ],
        [
         "27",
         "NCT00593164",
         "['C10', 'C14', 'C23', 'F01', 'F03']",
         "['Behavior and Behavior Mechanisms', 'Cardiovascular Diseases', 'Mental Disorders', 'Nervous System Diseases', 'Pathological Conditions, Signs and Symptoms']",
         "['Diseases', 'Psychiatry, Psychology']",
         "['C', 'F']",
         "['Coma', 'Death, Sudden, Cardiac']"
        ],
        [
         "28",
         "NCT00603460",
         "['C04', 'C12', 'C13', 'C19']",
         "['Endocrine System Diseases', 'Female Urogenital Diseases and Pregnancy Complications', 'Male Urogenital Diseases', 'Neoplasms']",
         "['Diseases']",
         "['C']",
         "['Ovarian Cancer', 'Primary Peritoneal Cancer']"
        ],
        [
         "29",
         "NCT00640094",
         "[]",
         "[]",
         "[]",
         "[]",
         "['Acute Myocardial Infarction']"
        ],
        [
         "30",
         "NCT00640445",
         "['F03']",
         "['Mental Disorders']",
         "['Psychiatry, Psychology']",
         "['F']",
         "['Posttraumatic Stress Disorder']"
        ],
        [
         "31",
         "NCT00642252",
         "['C07']",
         "['Stomatognathic Diseases']",
         "['Diseases']",
         "['C']",
         "['Dental Caries']"
        ],
        [
         "32",
         "NCT00662298",
         "['C08', 'C20']",
         "['Immune System Diseases', 'Respiratory Tract Diseases']",
         "['Diseases']",
         "['C']",
         "['Asthma']"
        ],
        [
         "33",
         "NCT00669162",
         "['C04', 'C12', 'C13']",
         "['Female Urogenital Diseases and Pregnancy Complications', 'Male Urogenital Diseases', 'Neoplasms']",
         "['Diseases']",
         "['C']",
         "['Prostate Cancer']"
        ],
        [
         "34",
         "NCT00673842",
         "['C14', 'C23', 'G04']",
         "['Cardiovascular Diseases', 'Cell Physiological Phenomena', 'Pathological Conditions, Signs and Symptoms']",
         "['Diseases', 'Phenomena, Processes']",
         "['C', 'G']",
         "['Myocardial Infarction', 'Sudden Death']"
        ],
        [
         "35",
         "NCT00686556",
         "['C04', 'C14', 'C15', 'C16', 'C20']",
         "['Cardiovascular Diseases', 'Congenital, Hereditary, and Neonatal Diseases and Abnormalities', 'Hemic and Lymphatic Diseases', 'Immune System Diseases', 'Neoplasms']",
         "['Diseases']",
         "['C']",
         "['Acute Lymphoblastic Leukemia', 'Multiple Myeloma', 'Myelodysplastic Syndrome']"
        ],
        [
         "36",
         "NCT00701233",
         "['C10', 'C26']",
         "['Nervous System Diseases', 'Wounds and Injuries']",
         "['Diseases']",
         "['C']",
         "['Carpal Tunnel Syndrome']"
        ],
        [
         "37",
         "NCT00711841",
         "['C13', 'C14']",
         "['Cardiovascular Diseases', 'Female Urogenital Diseases and Pregnancy Complications']",
         "['Diseases']",
         "['C']",
         "['HELLP Syndrome']"
        ],
        [
         "38",
         "NCT00724633",
         "[]",
         "[]",
         "[]",
         "[]",
         "['Hemodialysis']"
        ],
        [
         "39",
         "NCT00730067",
         "['C08', 'C14', 'C23']",
         "['Cardiovascular Diseases', 'Pathological Conditions, Signs and Symptoms', 'Respiratory Tract Diseases']",
         "['Diseases']",
         "['C']",
         "['COPD', 'Pulmonary Hypertension']"
        ],
        [
         "40",
         "NCT00737893",
         "['C04', 'C12', 'C13', 'F03']",
         "['Female Urogenital Diseases and Pregnancy Complications', 'Male Urogenital Diseases', 'Mental Disorders', 'Neoplasms']",
         "['Diseases', 'Psychiatry, Psychology']",
         "['C', 'F']",
         "['Erectile Dysfunction', 'Prostate Cancer']"
        ],
        [
         "41",
         "NCT00739375",
         "['C08', 'C14']",
         "['Cardiovascular Diseases', 'Respiratory Tract Diseases']",
         "['Diseases']",
         "['C']",
         "['Pulmonary Hypertension']"
        ],
        [
         "42",
         "NCT00747071",
         "['C23']",
         "['Pathological Conditions, Signs and Symptoms']",
         "['Diseases']",
         "['C']",
         "['Clostridium Difficile-Associated Diarrhea']"
        ],
        [
         "43",
         "NCT00753402",
         "[]",
         "[]",
         "[]",
         "[]",
         "['Immune System']"
        ],
        [
         "44",
         "NCT00757055",
         "['C14']",
         "['Cardiovascular Diseases']",
         "['Diseases']",
         "['C']",
         "['Diastolic Heart Failure']"
        ],
        [
         "45",
         "NCT00760825",
         "['C01']",
         "['Bacterial Infections and Mycoses']",
         "['Diseases']",
         "['C']",
         "['Vibrio Cholerae']"
        ],
        [
         "46",
         "NCT00764270",
         "['C14', 'C18', 'C23', 'E01', 'E05', 'G07']",
         "['Cardiovascular Diseases', 'Diagnosis', 'Investigative Techniques', 'Nutritional and Metabolic Diseases', 'Pathological Conditions, Signs and Symptoms', 'Physiological Phenomena']",
         "['Analytical, Diagnostic, Therapeutic Techniques, Equipment', 'Diseases', 'Phenomena, Processes']",
         "['C', 'E', 'G']",
         "['Atherosclerosis']"
        ],
        [
         "47",
         "NCT00764478",
         "[]",
         "[]",
         "[]",
         "[]",
         "['Bipolar 1 Disorder']"
        ],
        [
         "48",
         "NCT00784966",
         "['C18', 'C19', 'C20']",
         "['Endocrine System Diseases', 'Immune System Diseases', 'Nutritional and Metabolic Diseases']",
         "['Diseases']",
         "['C']",
         "['Type 1 Diabetes Mellitus']"
        ],
        [
         "49",
         "NCT00793013",
         "['C08', 'C12', 'C13', 'C26']",
         "['Female Urogenital Diseases and Pregnancy Complications', 'Male Urogenital Diseases', 'Respiratory Tract Diseases', 'Wounds and Injuries']",
         "['Diseases']",
         "['C']",
         "['Acute Lung Injury', 'Adult Respiratory Distress Syndrome', 'Kidney Injury']"
        ]
       ],
       "shape": {
        "columns": 6,
        "rows": 83519
       }
      },
      "text/html": [
       "<div>\n",
       "<style scoped>\n",
       "    .dataframe tbody tr th:only-of-type {\n",
       "        vertical-align: middle;\n",
       "    }\n",
       "\n",
       "    .dataframe tbody tr th {\n",
       "        vertical-align: top;\n",
       "    }\n",
       "\n",
       "    .dataframe thead th {\n",
       "        text-align: right;\n",
       "    }\n",
       "</style>\n",
       "<table border=\"1\" class=\"dataframe\">\n",
       "  <thead>\n",
       "    <tr style=\"text-align: right;\">\n",
       "      <th></th>\n",
       "      <th>nct_id</th>\n",
       "      <th>qualifier</th>\n",
       "      <th>heading</th>\n",
       "      <th>Category</th>\n",
       "      <th>Code</th>\n",
       "      <th>name</th>\n",
       "    </tr>\n",
       "  </thead>\n",
       "  <tbody>\n",
       "    <tr>\n",
       "      <th>0</th>\n",
       "      <td>NCT00125528</td>\n",
       "      <td>[C10, C23, F02, G11]</td>\n",
       "      <td>[Musculoskeletal and Neural Physiological Phen...</td>\n",
       "      <td>[Diseases, Phenomena, Processes, Psychiatry, P...</td>\n",
       "      <td>[C, F, G]</td>\n",
       "      <td>[Low Back Pain, Pain]</td>\n",
       "    </tr>\n",
       "    <tr>\n",
       "      <th>1</th>\n",
       "      <td>NCT00170209</td>\n",
       "      <td>[C01]</td>\n",
       "      <td>[Bacterial Infections and Mycoses]</td>\n",
       "      <td>[Diseases]</td>\n",
       "      <td>[C]</td>\n",
       "      <td>[Latent Tuberculosis Infection]</td>\n",
       "    </tr>\n",
       "    <tr>\n",
       "      <th>2</th>\n",
       "      <td>NCT00194714</td>\n",
       "      <td>[C04, C12, C13, C17, C19]</td>\n",
       "      <td>[Endocrine System Diseases, Female Urogenital ...</td>\n",
       "      <td>[Diseases]</td>\n",
       "      <td>[C]</td>\n",
       "      <td>[HER2/Neu Positive, HLA-A2 Positive Cells Pres...</td>\n",
       "    </tr>\n",
       "    <tr>\n",
       "      <th>3</th>\n",
       "      <td>NCT00293735</td>\n",
       "      <td>[C10, C13, C14, C23]</td>\n",
       "      <td>[Cardiovascular Diseases, Female Urogenital Di...</td>\n",
       "      <td>[Diseases]</td>\n",
       "      <td>[C]</td>\n",
       "      <td>[Chronic Hypertension, Gestational Hypertensio...</td>\n",
       "    </tr>\n",
       "    <tr>\n",
       "      <th>4</th>\n",
       "      <td>NCT00306059</td>\n",
       "      <td>[C12, C13]</td>\n",
       "      <td>[Female Urogenital Diseases and Pregnancy Comp...</td>\n",
       "      <td>[Diseases]</td>\n",
       "      <td>[C]</td>\n",
       "      <td>[Kidney Injury, Acute]</td>\n",
       "    </tr>\n",
       "    <tr>\n",
       "      <th>...</th>\n",
       "      <td>...</td>\n",
       "      <td>...</td>\n",
       "      <td>...</td>\n",
       "      <td>...</td>\n",
       "      <td>...</td>\n",
       "      <td>...</td>\n",
       "    </tr>\n",
       "    <tr>\n",
       "      <th>83514</th>\n",
       "      <td>NCT07173179</td>\n",
       "      <td>[]</td>\n",
       "      <td>[]</td>\n",
       "      <td>[]</td>\n",
       "      <td>[]</td>\n",
       "      <td>[Post-ERCP Acute Pancreatitis]</td>\n",
       "    </tr>\n",
       "    <tr>\n",
       "      <th>83515</th>\n",
       "      <td>NCT07173738</td>\n",
       "      <td>[C08]</td>\n",
       "      <td>[Respiratory Tract Diseases]</td>\n",
       "      <td>[Diseases]</td>\n",
       "      <td>[C]</td>\n",
       "      <td>[Pulmonary Arterial Hypertension]</td>\n",
       "    </tr>\n",
       "    <tr>\n",
       "      <th>83516</th>\n",
       "      <td>NCT07174011</td>\n",
       "      <td>[C17, C23]</td>\n",
       "      <td>[Pathological Conditions, Signs and Symptoms, ...</td>\n",
       "      <td>[Diseases]</td>\n",
       "      <td>[C]</td>\n",
       "      <td>[Alopecia, Alopecia Areata]</td>\n",
       "    </tr>\n",
       "    <tr>\n",
       "      <th>83517</th>\n",
       "      <td>NCT07174024</td>\n",
       "      <td>[C17, C23]</td>\n",
       "      <td>[Pathological Conditions, Signs and Symptoms, ...</td>\n",
       "      <td>[Diseases]</td>\n",
       "      <td>[C]</td>\n",
       "      <td>[Vitiligo]</td>\n",
       "    </tr>\n",
       "    <tr>\n",
       "      <th>83518</th>\n",
       "      <td>NCT07176832</td>\n",
       "      <td>[C10]</td>\n",
       "      <td>[Nervous System Diseases]</td>\n",
       "      <td>[Diseases]</td>\n",
       "      <td>[C]</td>\n",
       "      <td>[Childhood, Dravet Syndrome, Epilepsy, Epilept...</td>\n",
       "    </tr>\n",
       "  </tbody>\n",
       "</table>\n",
       "<p>83519 rows × 6 columns</p>\n",
       "</div>"
      ],
      "text/plain": [
       "            nct_id                  qualifier  \\\n",
       "0      NCT00125528       [C10, C23, F02, G11]   \n",
       "1      NCT00170209                      [C01]   \n",
       "2      NCT00194714  [C04, C12, C13, C17, C19]   \n",
       "3      NCT00293735       [C10, C13, C14, C23]   \n",
       "4      NCT00306059                 [C12, C13]   \n",
       "...            ...                        ...   \n",
       "83514  NCT07173179                         []   \n",
       "83515  NCT07173738                      [C08]   \n",
       "83516  NCT07174011                 [C17, C23]   \n",
       "83517  NCT07174024                 [C17, C23]   \n",
       "83518  NCT07176832                      [C10]   \n",
       "\n",
       "                                                 heading  \\\n",
       "0      [Musculoskeletal and Neural Physiological Phen...   \n",
       "1                     [Bacterial Infections and Mycoses]   \n",
       "2      [Endocrine System Diseases, Female Urogenital ...   \n",
       "3      [Cardiovascular Diseases, Female Urogenital Di...   \n",
       "4      [Female Urogenital Diseases and Pregnancy Comp...   \n",
       "...                                                  ...   \n",
       "83514                                                 []   \n",
       "83515                       [Respiratory Tract Diseases]   \n",
       "83516  [Pathological Conditions, Signs and Symptoms, ...   \n",
       "83517  [Pathological Conditions, Signs and Symptoms, ...   \n",
       "83518                          [Nervous System Diseases]   \n",
       "\n",
       "                                                Category       Code  \\\n",
       "0      [Diseases, Phenomena, Processes, Psychiatry, P...  [C, F, G]   \n",
       "1                                             [Diseases]        [C]   \n",
       "2                                             [Diseases]        [C]   \n",
       "3                                             [Diseases]        [C]   \n",
       "4                                             [Diseases]        [C]   \n",
       "...                                                  ...        ...   \n",
       "83514                                                 []         []   \n",
       "83515                                         [Diseases]        [C]   \n",
       "83516                                         [Diseases]        [C]   \n",
       "83517                                         [Diseases]        [C]   \n",
       "83518                                         [Diseases]        [C]   \n",
       "\n",
       "                                                    name  \n",
       "0                                  [Low Back Pain, Pain]  \n",
       "1                        [Latent Tuberculosis Infection]  \n",
       "2      [HER2/Neu Positive, HLA-A2 Positive Cells Pres...  \n",
       "3      [Chronic Hypertension, Gestational Hypertensio...  \n",
       "4                                 [Kidney Injury, Acute]  \n",
       "...                                                  ...  \n",
       "83514                     [Post-ERCP Acute Pancreatitis]  \n",
       "83515                  [Pulmonary Arterial Hypertension]  \n",
       "83516                        [Alopecia, Alopecia Areata]  \n",
       "83517                                         [Vitiligo]  \n",
       "83518  [Childhood, Dravet Syndrome, Epilepsy, Epilept...  \n",
       "\n",
       "[83519 rows x 6 columns]"
      ]
     },
     "execution_count": 199,
     "metadata": {},
     "output_type": "execute_result"
    }
   ],
   "source": [
    "create_table_sql =\"\"\"\n",
    "DROP TABLE IF EXISTS ctgov.my_conditions;\n",
    "\n",
    "CREATE TABLE ctgov.my_conditions AS\n",
    "SELECT DISTINCT ON \n",
    "    (\n",
    "    studies.nct_id,\n",
    "    studies.phase,\n",
    "    mesh_headings.qualifier, \n",
    "    mesh_headings.heading,\n",
    "    conditions.name\n",
    "    )\n",
    "    studies.nct_id, \n",
    "    mesh_headings.qualifier, \n",
    "    mesh_headings.heading,\n",
    "    conditions.name\n",
    "    \n",
    "FROM ctgov.studies\n",
    "LEFT JOIN ctgov.conditions\n",
    "    ON studies.nct_id = conditions.nct_id\n",
    "LEFT JOIN ctgov.browse_conditions\n",
    "    ON studies.nct_id = browse_conditions.nct_id\n",
    "LEFT JOIN ctgov.mesh_terms\n",
    "    ON browse_conditions.mesh_term = mesh_terms.mesh_term\n",
    "LEFT JOIN ctgov.mesh_headings\n",
    "    ON mesh_terms.qualifier = mesh_headings.qualifier\n",
    "    \n",
    "WHERE TO_CHAR(studies.start_date, 'YYYY-MM') >= '2011-01'\n",
    "\tAND study_type = 'INTERVENTIONAL'\n",
    "    AND studies.overall_status in ('COMPLETED','WITHDRAWN', 'TERMINATED')\n",
    "    AND studies.phase in  ('PHASE1/PHASE2', 'PHASE2/PHASE3', 'PHASE1', 'PHASE2', 'PHASE3', 'PHASE4')\n",
    "      \n",
    "ORDER BY \n",
    "    studies.nct_id, \n",
    "    studies.phase,\n",
    "    mesh_headings.qualifier, \n",
    "    mesh_headings.heading,\n",
    "    conditions.name ;  \n",
    "\"\"\"\n",
    "\n",
    "with engine.connect() as conn:\n",
    "    conn.execute(text(create_table_sql))\n",
    "    conn.commit()\n",
    "\n",
    "# Notes --> Why Columns were used or not used:\n",
    "# \tconditions.name --> use for comorbidity --> not many duplicated consition terms. Less null values than other columns!\n",
    "#   browse_conditions.mesh_term, # not needed --> more categories than main e.g pain, low back pain, myosceletal etc.\n",
    "  \n",
    "my_conditions = pd.read_sql(\"select * from ctgov.my_conditions;\", con = engine)\n",
    "\n",
    "my_conditions[\"Code\"] = my_conditions[\"qualifier\"].str[0] \n",
    "my_conditions = my_conditions.merge(my_qualifiers[[\"Code\", \"Category\"]], on = \"Code\", how = \"left\")\n",
    "\n",
    "my_conditions = my_conditions.groupby(\"nct_id\").agg({\n",
    "    \"qualifier\": lambda x: sorted(set(i for i in x if pd.notnull(i))),\n",
    "    \"heading\": lambda x: sorted(set(i for i in x if pd.notnull(i))),\n",
    "    \"Category\": lambda x: sorted(set(i for i in x if pd.notnull(i))),\n",
    "    \"Code\": lambda x: sorted(set(i for i in x if pd.notnull(i))),\n",
    "    \"name\": lambda x: sorted(set(i for i in x if pd.notnull(i))),\n",
    "}).reset_index()\n",
    "\n",
    "# C23 ('Pathological Conditions, Signs and Symptoms') has been dropped when len(row) > 1 (>1 qualifiers)\n",
    "# as it mostly corresponds to symptoms of conditioned noted in the row and thus inflates comorbidity\n",
    "\n",
    "my_conditions"
   ]
  },
  {
   "cell_type": "markdown",
   "id": "0ef06533",
   "metadata": {},
   "source": [
    "## my_covid"
   ]
  },
  {
   "cell_type": "code",
   "execution_count": 200,
   "id": "8f7f05fc",
   "metadata": {},
   "outputs": [
    {
     "data": {
      "application/vnd.microsoft.datawrangler.viewer.v0+json": {
       "columns": [
        {
         "name": "index",
         "rawType": "int64",
         "type": "integer"
        },
        {
         "name": "nct_id",
         "rawType": "object",
         "type": "string"
        },
        {
         "name": "mesh_term",
         "rawType": "object",
         "type": "string"
        }
       ],
       "ref": "f1a6ddba-4820-4ad1-9437-2cd9361ae602",
       "rows": [
        [
         "0",
         "NCT02344290",
         "COVID-19"
        ],
        [
         "1",
         "NCT03331445",
         "COVID-19"
        ],
        [
         "2",
         "NCT03376854",
         "COVID-19"
        ],
        [
         "3",
         "NCT03474965",
         "COVID-19"
        ],
        [
         "4",
         "NCT03554265",
         "COVID-19"
        ],
        [
         "5",
         "NCT03680274",
         "COVID-19"
        ],
        [
         "6",
         "NCT03852537",
         "COVID-19"
        ],
        [
         "7",
         "NCT03871491",
         "COVID-19"
        ],
        [
         "8",
         "NCT03891420",
         "COVID-19"
        ],
        [
         "9",
         "NCT04025580",
         "COVID-19"
        ],
        [
         "10",
         "NCT04240886",
         "COVID-19"
        ],
        [
         "11",
         "NCT04257656",
         "COVID-19"
        ],
        [
         "12",
         "NCT04261517",
         "COVID-19"
        ],
        [
         "13",
         "NCT04275245",
         "COVID-19"
        ],
        [
         "14",
         "NCT04275414",
         "COVID-19"
        ],
        [
         "15",
         "NCT04280588",
         "COVID-19"
        ],
        [
         "16",
         "NCT04280705",
         "COVID-19"
        ],
        [
         "17",
         "NCT04283461",
         "COVID-19"
        ],
        [
         "18",
         "NCT04290858",
         "COVID-19"
        ],
        [
         "19",
         "NCT04291729",
         "COVID-19"
        ],
        [
         "20",
         "NCT04292730",
         "COVID-19"
        ],
        [
         "21",
         "NCT04292899",
         "COVID-19"
        ],
        [
         "22",
         "NCT04303299",
         "COVID-19"
        ],
        [
         "23",
         "NCT04304053",
         "COVID-19"
        ],
        [
         "24",
         "NCT04307693",
         "COVID-19"
        ],
        [
         "25",
         "NCT04308668",
         "COVID-19"
        ],
        [
         "26",
         "NCT04311177",
         "COVID-19"
        ],
        [
         "27",
         "NCT04311697",
         "COVID-19"
        ],
        [
         "28",
         "NCT04312009",
         "COVID-19"
        ],
        [
         "29",
         "NCT04312997",
         "COVID-19"
        ],
        [
         "30",
         "NCT04313023",
         "COVID-19"
        ],
        [
         "31",
         "NCT04313127",
         "COVID-19"
        ],
        [
         "32",
         "NCT04315298",
         "COVID-19"
        ],
        [
         "33",
         "NCT04315896",
         "COVID-19"
        ],
        [
         "34",
         "NCT04315948",
         "COVID-19"
        ],
        [
         "35",
         "NCT04317040",
         "COVID-19"
        ],
        [
         "36",
         "NCT04318015",
         "COVID-19"
        ],
        [
         "37",
         "NCT04318444",
         "COVID-19"
        ],
        [
         "38",
         "NCT04321096",
         "COVID-19"
        ],
        [
         "39",
         "NCT04321278",
         "COVID-19"
        ],
        [
         "40",
         "NCT04322565",
         "COVID-19"
        ],
        [
         "41",
         "NCT04323527",
         "COVID-19"
        ],
        [
         "42",
         "NCT04323800",
         "COVID-19"
        ],
        [
         "43",
         "NCT04324463",
         "COVID-19"
        ],
        [
         "44",
         "NCT04324606",
         "COVID-19"
        ],
        [
         "45",
         "NCT04325061",
         "COVID-19"
        ],
        [
         "46",
         "NCT04325633",
         "COVID-19"
        ],
        [
         "47",
         "NCT04325672",
         "COVID-19"
        ],
        [
         "48",
         "NCT04326790",
         "COVID-19"
        ],
        [
         "49",
         "NCT04326920",
         "COVID-19"
        ]
       ],
       "shape": {
        "columns": 2,
        "rows": 1873
       }
      },
      "text/html": [
       "<div>\n",
       "<style scoped>\n",
       "    .dataframe tbody tr th:only-of-type {\n",
       "        vertical-align: middle;\n",
       "    }\n",
       "\n",
       "    .dataframe tbody tr th {\n",
       "        vertical-align: top;\n",
       "    }\n",
       "\n",
       "    .dataframe thead th {\n",
       "        text-align: right;\n",
       "    }\n",
       "</style>\n",
       "<table border=\"1\" class=\"dataframe\">\n",
       "  <thead>\n",
       "    <tr style=\"text-align: right;\">\n",
       "      <th></th>\n",
       "      <th>nct_id</th>\n",
       "      <th>mesh_term</th>\n",
       "    </tr>\n",
       "  </thead>\n",
       "  <tbody>\n",
       "    <tr>\n",
       "      <th>0</th>\n",
       "      <td>NCT02344290</td>\n",
       "      <td>COVID-19</td>\n",
       "    </tr>\n",
       "    <tr>\n",
       "      <th>1</th>\n",
       "      <td>NCT03331445</td>\n",
       "      <td>COVID-19</td>\n",
       "    </tr>\n",
       "    <tr>\n",
       "      <th>2</th>\n",
       "      <td>NCT03376854</td>\n",
       "      <td>COVID-19</td>\n",
       "    </tr>\n",
       "    <tr>\n",
       "      <th>3</th>\n",
       "      <td>NCT03474965</td>\n",
       "      <td>COVID-19</td>\n",
       "    </tr>\n",
       "    <tr>\n",
       "      <th>4</th>\n",
       "      <td>NCT03554265</td>\n",
       "      <td>COVID-19</td>\n",
       "    </tr>\n",
       "    <tr>\n",
       "      <th>...</th>\n",
       "      <td>...</td>\n",
       "      <td>...</td>\n",
       "    </tr>\n",
       "    <tr>\n",
       "      <th>1919</th>\n",
       "      <td>NCT06997653</td>\n",
       "      <td>COVID-19</td>\n",
       "    </tr>\n",
       "    <tr>\n",
       "      <th>1920</th>\n",
       "      <td>NCT07068282</td>\n",
       "      <td>COVID-19</td>\n",
       "    </tr>\n",
       "    <tr>\n",
       "      <th>1921</th>\n",
       "      <td>NCT07080658</td>\n",
       "      <td>COVID-19</td>\n",
       "    </tr>\n",
       "    <tr>\n",
       "      <th>1922</th>\n",
       "      <td>NCT07123701</td>\n",
       "      <td>COVID-19</td>\n",
       "    </tr>\n",
       "    <tr>\n",
       "      <th>1923</th>\n",
       "      <td>NCT07134725</td>\n",
       "      <td>COVID-19</td>\n",
       "    </tr>\n",
       "  </tbody>\n",
       "</table>\n",
       "<p>1873 rows × 2 columns</p>\n",
       "</div>"
      ],
      "text/plain": [
       "           nct_id mesh_term\n",
       "0     NCT02344290  COVID-19\n",
       "1     NCT03331445  COVID-19\n",
       "2     NCT03376854  COVID-19\n",
       "3     NCT03474965  COVID-19\n",
       "4     NCT03554265  COVID-19\n",
       "...           ...       ...\n",
       "1919  NCT06997653  COVID-19\n",
       "1920  NCT07068282  COVID-19\n",
       "1921  NCT07080658  COVID-19\n",
       "1922  NCT07123701  COVID-19\n",
       "1923  NCT07134725  COVID-19\n",
       "\n",
       "[1873 rows x 2 columns]"
      ]
     },
     "execution_count": 200,
     "metadata": {},
     "output_type": "execute_result"
    }
   ],
   "source": [
    "create_table_sql = \"\"\"\n",
    "DROP TABLE IF EXISTS ctgov.my_covid;\n",
    "\n",
    "CREATE TABLE ctgov.my_covid AS\n",
    "SELECT DISTINCT ON \n",
    "(\n",
    "    studies.nct_id, \n",
    "    studies.phase,\n",
    "    browse_conditions.mesh_term\n",
    ")\n",
    "    studies.nct_id,\n",
    "    browse_conditions.mesh_term\n",
    "    \n",
    "FROM ctgov.studies\n",
    "LEFT JOIN ctgov.browse_conditions\n",
    "    ON studies.nct_id = browse_conditions.nct_id\n",
    "    \n",
    "WHERE TO_CHAR(studies.start_date, 'YYYY-MM') >= '2011-01'\n",
    "    AND study_type = 'INTERVENTIONAL'\n",
    "    AND studies.overall_status in ('COMPLETED','WITHDRAWN', 'TERMINATED')\n",
    "    AND studies.phase in  ('PHASE1/PHASE2', 'PHASE2/PHASE3', 'PHASE1', 'PHASE2', 'PHASE3', 'PHASE4')\n",
    "    AND browse_conditions.mesh_term ILIKE '%covid%'\n",
    "\n",
    "ORDER BY \n",
    "    studies.nct_id, \n",
    "    studies.phase,\n",
    "    browse_conditions.mesh_term;\n",
    "\"\"\"\n",
    "\n",
    "with engine.connect() as conn:\n",
    "    conn.execute(text(create_table_sql))\n",
    "    conn.commit()\n",
    "\n",
    "my_covid = pd.read_sql(\"select * from ctgov.my_covid;\", con = engine)\n",
    "my_covid = my_covid.drop_duplicates(subset = [\"nct_id\"])\n",
    "my_covid[\"mesh_term\"] = my_covid[\"mesh_term\"].replace(\"Post-Acute COVID-19 Syndrome\", \"COVID-19\")\n",
    "my_covid[\"mesh_term\"] = my_covid[\"mesh_term\"].replace('pediatric multisystem inflammatory disease, COVID-19 related', 'COVID-19')\n",
    "\n",
    "my_covid"
   ]
  },
  {
   "cell_type": "markdown",
   "id": "4b3a5e59",
   "metadata": {},
   "source": [
    "## my_placebo"
   ]
  },
  {
   "cell_type": "code",
   "execution_count": 201,
   "id": "78e042c7",
   "metadata": {},
   "outputs": [
    {
     "data": {
      "application/vnd.microsoft.datawrangler.viewer.v0+json": {
       "columns": [
        {
         "name": "index",
         "rawType": "int64",
         "type": "integer"
        },
        {
         "name": "nct_id",
         "rawType": "object",
         "type": "string"
        },
        {
         "name": "group_type",
         "rawType": "object",
         "type": "unknown"
        }
       ],
       "ref": "d34dc49e-8629-496f-958e-45b8fbcf260c",
       "rows": [
        [
         "0",
         "NCT00125528",
         "EXPERIMENTAL"
        ],
        [
         "1",
         "NCT00125528",
         "PLACEBO_COMPARATOR"
        ],
        [
         "2",
         "NCT00170209",
         "ACTIVE_COMPARATOR"
        ],
        [
         "3",
         "NCT00194714",
         "EXPERIMENTAL"
        ],
        [
         "4",
         "NCT00293735",
         "ACTIVE_COMPARATOR"
        ],
        [
         "5",
         "NCT00306059",
         "EXPERIMENTAL"
        ],
        [
         "6",
         "NCT00307905",
         "ACTIVE_COMPARATOR"
        ],
        [
         "7",
         "NCT00307905",
         "PLACEBO_COMPARATOR"
        ],
        [
         "8",
         "NCT00328809",
         "EXPERIMENTAL"
        ],
        [
         "9",
         "NCT00329641",
         "EXPERIMENTAL"
        ],
        [
         "10",
         "NCT00356317",
         "ACTIVE_COMPARATOR"
        ],
        [
         "11",
         "NCT00356317",
         "EXPERIMENTAL"
        ],
        [
         "12",
         "NCT00362219",
         "ACTIVE_COMPARATOR"
        ],
        [
         "13",
         "NCT00362219",
         "PLACEBO_COMPARATOR"
        ],
        [
         "14",
         "NCT00372762",
         "ACTIVE_COMPARATOR"
        ],
        [
         "15",
         "NCT00397501",
         "ACTIVE_COMPARATOR"
        ],
        [
         "16",
         "NCT00397579",
         "EXPERIMENTAL"
        ],
        [
         "17",
         "NCT00399594",
         "ACTIVE_COMPARATOR"
        ],
        [
         "18",
         "NCT00399594",
         "EXPERIMENTAL"
        ],
        [
         "19",
         "NCT00422422",
         "EXPERIMENTAL"
        ],
        [
         "20",
         "NCT00448201",
         "ACTIVE_COMPARATOR"
        ],
        [
         "21",
         "NCT00455039",
         "EXPERIMENTAL"
        ],
        [
         "22",
         "NCT00455052",
         "EXPERIMENTAL"
        ],
        [
         "23",
         "NCT00459641",
         "ACTIVE_COMPARATOR"
        ],
        [
         "24",
         "NCT00459641",
         "EXPERIMENTAL"
        ],
        [
         "25",
         "NCT00488605",
         "ACTIVE_COMPARATOR"
        ],
        [
         "26",
         "NCT00488605",
         "EXPERIMENTAL"
        ],
        [
         "27",
         "NCT00504322",
         "ACTIVE_COMPARATOR"
        ],
        [
         "28",
         "NCT00504322",
         "PLACEBO_COMPARATOR"
        ],
        [
         "29",
         "NCT00532584",
         "EXPERIMENTAL"
        ],
        [
         "30",
         "NCT00532584",
         "NO_INTERVENTION"
        ],
        [
         "31",
         "NCT00534703",
         "ACTIVE_COMPARATOR"
        ],
        [
         "32",
         "NCT00534703",
         "PLACEBO_COMPARATOR"
        ],
        [
         "33",
         "NCT00554996",
         "OTHER"
        ],
        [
         "34",
         "NCT00570050",
         "EXPERIMENTAL"
        ],
        [
         "35",
         "NCT00571246",
         "EXPERIMENTAL"
        ],
        [
         "36",
         "NCT00571246",
         "PLACEBO_COMPARATOR"
        ],
        [
         "37",
         "NCT00572689",
         "EXPERIMENTAL"
        ],
        [
         "38",
         "NCT00572689",
         "NO_INTERVENTION"
        ],
        [
         "39",
         "NCT00593164",
         "ACTIVE_COMPARATOR"
        ],
        [
         "40",
         "NCT00593164",
         "EXPERIMENTAL"
        ],
        [
         "41",
         "NCT00603460",
         "ACTIVE_COMPARATOR"
        ],
        [
         "42",
         "NCT00640094",
         "EXPERIMENTAL"
        ],
        [
         "43",
         "NCT00640094",
         "PLACEBO_COMPARATOR"
        ],
        [
         "44",
         "NCT00640445",
         "ACTIVE_COMPARATOR"
        ],
        [
         "45",
         "NCT00640445",
         "EXPERIMENTAL"
        ],
        [
         "46",
         "NCT00640445",
         "NO_INTERVENTION"
        ],
        [
         "47",
         "NCT00642252",
         "ACTIVE_COMPARATOR"
        ],
        [
         "48",
         "NCT00642252",
         "EXPERIMENTAL"
        ],
        [
         "49",
         "NCT00662298",
         "EXPERIMENTAL"
        ]
       ],
       "shape": {
        "columns": 2,
        "rows": 128257
       }
      },
      "text/html": [
       "<div>\n",
       "<style scoped>\n",
       "    .dataframe tbody tr th:only-of-type {\n",
       "        vertical-align: middle;\n",
       "    }\n",
       "\n",
       "    .dataframe tbody tr th {\n",
       "        vertical-align: top;\n",
       "    }\n",
       "\n",
       "    .dataframe thead th {\n",
       "        text-align: right;\n",
       "    }\n",
       "</style>\n",
       "<table border=\"1\" class=\"dataframe\">\n",
       "  <thead>\n",
       "    <tr style=\"text-align: right;\">\n",
       "      <th></th>\n",
       "      <th>nct_id</th>\n",
       "      <th>group_type</th>\n",
       "    </tr>\n",
       "  </thead>\n",
       "  <tbody>\n",
       "    <tr>\n",
       "      <th>0</th>\n",
       "      <td>NCT00125528</td>\n",
       "      <td>EXPERIMENTAL</td>\n",
       "    </tr>\n",
       "    <tr>\n",
       "      <th>1</th>\n",
       "      <td>NCT00125528</td>\n",
       "      <td>PLACEBO_COMPARATOR</td>\n",
       "    </tr>\n",
       "    <tr>\n",
       "      <th>2</th>\n",
       "      <td>NCT00170209</td>\n",
       "      <td>ACTIVE_COMPARATOR</td>\n",
       "    </tr>\n",
       "    <tr>\n",
       "      <th>3</th>\n",
       "      <td>NCT00194714</td>\n",
       "      <td>EXPERIMENTAL</td>\n",
       "    </tr>\n",
       "    <tr>\n",
       "      <th>4</th>\n",
       "      <td>NCT00293735</td>\n",
       "      <td>ACTIVE_COMPARATOR</td>\n",
       "    </tr>\n",
       "    <tr>\n",
       "      <th>...</th>\n",
       "      <td>...</td>\n",
       "      <td>...</td>\n",
       "    </tr>\n",
       "    <tr>\n",
       "      <th>128252</th>\n",
       "      <td>NCT07173179</td>\n",
       "      <td>EXPERIMENTAL</td>\n",
       "    </tr>\n",
       "    <tr>\n",
       "      <th>128253</th>\n",
       "      <td>NCT07173738</td>\n",
       "      <td>EXPERIMENTAL</td>\n",
       "    </tr>\n",
       "    <tr>\n",
       "      <th>128254</th>\n",
       "      <td>NCT07174011</td>\n",
       "      <td>ACTIVE_COMPARATOR</td>\n",
       "    </tr>\n",
       "    <tr>\n",
       "      <th>128255</th>\n",
       "      <td>NCT07174024</td>\n",
       "      <td>ACTIVE_COMPARATOR</td>\n",
       "    </tr>\n",
       "    <tr>\n",
       "      <th>128256</th>\n",
       "      <td>NCT07176832</td>\n",
       "      <td>EXPERIMENTAL</td>\n",
       "    </tr>\n",
       "  </tbody>\n",
       "</table>\n",
       "<p>128257 rows × 2 columns</p>\n",
       "</div>"
      ],
      "text/plain": [
       "             nct_id          group_type\n",
       "0       NCT00125528        EXPERIMENTAL\n",
       "1       NCT00125528  PLACEBO_COMPARATOR\n",
       "2       NCT00170209   ACTIVE_COMPARATOR\n",
       "3       NCT00194714        EXPERIMENTAL\n",
       "4       NCT00293735   ACTIVE_COMPARATOR\n",
       "...             ...                 ...\n",
       "128252  NCT07173179        EXPERIMENTAL\n",
       "128253  NCT07173738        EXPERIMENTAL\n",
       "128254  NCT07174011   ACTIVE_COMPARATOR\n",
       "128255  NCT07174024   ACTIVE_COMPARATOR\n",
       "128256  NCT07176832        EXPERIMENTAL\n",
       "\n",
       "[128257 rows x 2 columns]"
      ]
     },
     "execution_count": 201,
     "metadata": {},
     "output_type": "execute_result"
    }
   ],
   "source": [
    "create_table_sql =\"\"\"\n",
    "DROP TABLE IF EXISTS ctgov.my_placebo;\n",
    "\n",
    "CREATE TABLE ctgov.my_placebo AS\n",
    "SELECT DISTINCT ON (\n",
    "    studies.nct_id,\n",
    "    studies.phase,\n",
    "    design_groups.group_type   \n",
    ")\n",
    "    studies.nct_id,\n",
    "    design_groups.group_type\n",
    "\n",
    "    FROM ctgov.studies\n",
    "LEFT JOIN ctgov.design_groups\n",
    "    ON studies.nct_id = design_groups.nct_id\n",
    "    \n",
    "WHERE TO_CHAR(studies.start_date, 'YYYY-MM') >= '2011-01'\n",
    "    AND studies.study_type = 'INTERVENTIONAL'\n",
    "    AND studies.overall_status in ('COMPLETED','WITHDRAWN', 'TERMINATED')\n",
    "    AND studies.phase in  ('PHASE1/PHASE2', 'PHASE2/PHASE3', 'PHASE1', 'PHASE2', 'PHASE3', 'PHASE4')\n",
    "\n",
    "ORDER BY \n",
    "    studies.nct_id, \n",
    "    studies.phase,\n",
    "    design_groups.group_type;\n",
    "\"\"\"\n",
    "\n",
    "with engine.connect() as conn:\n",
    "    conn.execute(text(create_table_sql))\n",
    "    conn.commit()\n",
    "\n",
    "\n",
    "my_placebo = pd.read_sql(\"select * from ctgov.my_placebo;\", con = engine)\n",
    "my_placebo"
   ]
  },
  {
   "cell_type": "markdown",
   "id": "3d0b781f",
   "metadata": {},
   "source": [
    "## my_interventions"
   ]
  },
  {
   "cell_type": "code",
   "execution_count": 202,
   "id": "ea6fbbc5",
   "metadata": {},
   "outputs": [
    {
     "data": {
      "application/vnd.microsoft.datawrangler.viewer.v0+json": {
       "columns": [
        {
         "name": "index",
         "rawType": "int64",
         "type": "integer"
        },
        {
         "name": "nct_id",
         "rawType": "object",
         "type": "string"
        },
        {
         "name": "mesh_term",
         "rawType": "object",
         "type": "unknown"
        }
       ],
       "ref": "fa278d8b-d57a-4ea2-8b24-31e34102d703",
       "rows": [
        [
         "0",
         "NCT00125528",
         "Amino Acids"
        ],
        [
         "1",
         "NCT00125528",
         "Amino Acids, Neutral"
        ],
        [
         "2",
         "NCT00125528",
         "Amino Acids, Peptides, and Proteins"
        ],
        [
         "3",
         "NCT00125528",
         "Azoles"
        ],
        [
         "4",
         "NCT00125528",
         "Counterfeit Drugs"
        ],
        [
         "5",
         "NCT00125528",
         "Cycloserine"
        ],
        [
         "6",
         "NCT00125528",
         "Heterocyclic Compounds"
        ],
        [
         "7",
         "NCT00125528",
         "Heterocyclic Compounds, 1-Ring"
        ],
        [
         "8",
         "NCT00125528",
         "Isoxazoles"
        ],
        [
         "9",
         "NCT00125528",
         "Oxazoles"
        ],
        [
         "10",
         "NCT00125528",
         "Oxazolidinones"
        ],
        [
         "11",
         "NCT00125528",
         "Pharmaceutical Preparations"
        ],
        [
         "12",
         "NCT00125528",
         "Serine"
        ],
        [
         "13",
         "NCT00125528",
         "Substandard Drugs"
        ],
        [
         "14",
         "NCT00170209",
         "Acids, Heterocyclic"
        ],
        [
         "15",
         "NCT00170209",
         "Heterocyclic Compounds"
        ],
        [
         "16",
         "NCT00170209",
         "Heterocyclic Compounds, 1-Ring"
        ],
        [
         "17",
         "NCT00170209",
         "Heterocyclic Compounds, 4 or More Rings"
        ],
        [
         "18",
         "NCT00170209",
         "Heterocyclic Compounds, Fused-Ring"
        ],
        [
         "19",
         "NCT00170209",
         "Hydrazines"
        ],
        [
         "20",
         "NCT00170209",
         "Isoniazid"
        ],
        [
         "21",
         "NCT00170209",
         "Isonicotinic Acids"
        ],
        [
         "22",
         "NCT00170209",
         "Lactams, Macrocyclic"
        ],
        [
         "23",
         "NCT00170209",
         "Macrocyclic Compounds"
        ],
        [
         "24",
         "NCT00170209",
         "Organic Chemicals"
        ],
        [
         "25",
         "NCT00170209",
         "Polycyclic Compounds"
        ],
        [
         "26",
         "NCT00170209",
         "Pyridines"
        ],
        [
         "27",
         "NCT00170209",
         "Rifampin"
        ],
        [
         "28",
         "NCT00170209",
         "Rifamycins"
        ],
        [
         "29",
         "NCT00194714",
         null
        ],
        [
         "30",
         "NCT00293735",
         "Alcohols"
        ],
        [
         "31",
         "NCT00293735",
         "Amides"
        ],
        [
         "32",
         "NCT00293735",
         "Amines"
        ],
        [
         "33",
         "NCT00293735",
         "Amino Alcohols"
        ],
        [
         "34",
         "NCT00293735",
         "Ethanolamines"
        ],
        [
         "35",
         "NCT00293735",
         "Labetalol"
        ],
        [
         "36",
         "NCT00293735",
         "Organic Chemicals"
        ],
        [
         "37",
         "NCT00293735",
         "Salicylamides"
        ],
        [
         "38",
         "NCT00306059",
         null
        ],
        [
         "39",
         "NCT00307905",
         "Traumeel S"
        ],
        [
         "40",
         "NCT00328809",
         "Fused-Ring Compounds"
        ],
        [
         "41",
         "NCT00328809",
         "Lactones"
        ],
        [
         "42",
         "NCT00328809",
         "Organic Chemicals"
        ],
        [
         "43",
         "NCT00328809",
         "Polycyclic Compounds"
        ],
        [
         "44",
         "NCT00328809",
         "Pregnanes"
        ],
        [
         "45",
         "NCT00328809",
         "Pregnenes"
        ],
        [
         "46",
         "NCT00328809",
         "Spironolactone"
        ],
        [
         "47",
         "NCT00328809",
         "Steroids"
        ],
        [
         "48",
         "NCT00329641",
         "Acids, Heterocyclic"
        ],
        [
         "49",
         "NCT00329641",
         "Amides"
        ]
       ],
       "shape": {
        "columns": 2,
        "rows": 644398
       }
      },
      "text/html": [
       "<div>\n",
       "<style scoped>\n",
       "    .dataframe tbody tr th:only-of-type {\n",
       "        vertical-align: middle;\n",
       "    }\n",
       "\n",
       "    .dataframe tbody tr th {\n",
       "        vertical-align: top;\n",
       "    }\n",
       "\n",
       "    .dataframe thead th {\n",
       "        text-align: right;\n",
       "    }\n",
       "</style>\n",
       "<table border=\"1\" class=\"dataframe\">\n",
       "  <thead>\n",
       "    <tr style=\"text-align: right;\">\n",
       "      <th></th>\n",
       "      <th>nct_id</th>\n",
       "      <th>mesh_term</th>\n",
       "    </tr>\n",
       "  </thead>\n",
       "  <tbody>\n",
       "    <tr>\n",
       "      <th>0</th>\n",
       "      <td>NCT00125528</td>\n",
       "      <td>Amino Acids</td>\n",
       "    </tr>\n",
       "    <tr>\n",
       "      <th>1</th>\n",
       "      <td>NCT00125528</td>\n",
       "      <td>Amino Acids, Neutral</td>\n",
       "    </tr>\n",
       "    <tr>\n",
       "      <th>2</th>\n",
       "      <td>NCT00125528</td>\n",
       "      <td>Amino Acids, Peptides, and Proteins</td>\n",
       "    </tr>\n",
       "    <tr>\n",
       "      <th>3</th>\n",
       "      <td>NCT00125528</td>\n",
       "      <td>Azoles</td>\n",
       "    </tr>\n",
       "    <tr>\n",
       "      <th>4</th>\n",
       "      <td>NCT00125528</td>\n",
       "      <td>Counterfeit Drugs</td>\n",
       "    </tr>\n",
       "    <tr>\n",
       "      <th>...</th>\n",
       "      <td>...</td>\n",
       "      <td>...</td>\n",
       "    </tr>\n",
       "    <tr>\n",
       "      <th>644393</th>\n",
       "      <td>NCT07176832</td>\n",
       "      <td>Complex Mixtures</td>\n",
       "    </tr>\n",
       "    <tr>\n",
       "      <th>644394</th>\n",
       "      <td>NCT07176832</td>\n",
       "      <td>Dosage Forms</td>\n",
       "    </tr>\n",
       "    <tr>\n",
       "      <th>644395</th>\n",
       "      <td>NCT07176832</td>\n",
       "      <td>Pharmaceutical Preparations</td>\n",
       "    </tr>\n",
       "    <tr>\n",
       "      <th>644396</th>\n",
       "      <td>NCT07176832</td>\n",
       "      <td>stiripentol</td>\n",
       "    </tr>\n",
       "    <tr>\n",
       "      <th>644397</th>\n",
       "      <td>NCT07176832</td>\n",
       "      <td>Suspensions</td>\n",
       "    </tr>\n",
       "  </tbody>\n",
       "</table>\n",
       "<p>644398 rows × 2 columns</p>\n",
       "</div>"
      ],
      "text/plain": [
       "             nct_id                            mesh_term\n",
       "0       NCT00125528                          Amino Acids\n",
       "1       NCT00125528                 Amino Acids, Neutral\n",
       "2       NCT00125528  Amino Acids, Peptides, and Proteins\n",
       "3       NCT00125528                               Azoles\n",
       "4       NCT00125528                    Counterfeit Drugs\n",
       "...             ...                                  ...\n",
       "644393  NCT07176832                     Complex Mixtures\n",
       "644394  NCT07176832                         Dosage Forms\n",
       "644395  NCT07176832          Pharmaceutical Preparations\n",
       "644396  NCT07176832                          stiripentol\n",
       "644397  NCT07176832                          Suspensions\n",
       "\n",
       "[644398 rows x 2 columns]"
      ]
     },
     "execution_count": 202,
     "metadata": {},
     "output_type": "execute_result"
    }
   ],
   "source": [
    "create_table_sql =\"\"\"\n",
    "DROP TABLE IF EXISTS ctgov.my_interventions;\n",
    "\n",
    "CREATE TABLE ctgov.my_interventions AS\n",
    "SELECT DISTINCT ON (\n",
    "    studies.nct_id,\n",
    "    studies.phase,\n",
    "    browse_interventions.mesh_term      \n",
    ")\n",
    "    studies.nct_id,\n",
    "    browse_interventions.mesh_term\n",
    "\n",
    "    FROM ctgov.studies\n",
    "LEFT JOIN ctgov.browse_interventions\n",
    "    ON studies.nct_id = browse_interventions.nct_id\n",
    "\n",
    "WHERE TO_CHAR(studies.start_date, 'YYYY-MM') >= '2011-01'\n",
    "    AND studies.study_type = 'INTERVENTIONAL'\n",
    "    AND studies.overall_status in ('COMPLETED','WITHDRAWN', 'TERMINATED')\n",
    "    AND studies.phase in  ('PHASE1/PHASE2', 'PHASE2/PHASE3', 'PHASE1', 'PHASE2', 'PHASE3', 'PHASE4')\n",
    "    \n",
    "ORDER BY \n",
    "    studies.nct_id, \n",
    "    studies.phase,\n",
    "    browse_interventions.mesh_term;\n",
    "\"\"\"\n",
    "#     interventions.name\n",
    "\n",
    "with engine.connect() as conn:\n",
    "    conn.execute(text(create_table_sql))\n",
    "    conn.commit()\n",
    "\n",
    "\n",
    "my_interventions = pd.read_sql(\"select * from ctgov.my_interventions;\", con = engine)\n",
    "my_interventions"
   ]
  },
  {
   "cell_type": "markdown",
   "id": "f47c5ae3",
   "metadata": {},
   "source": [
    "## my_interventions_types"
   ]
  },
  {
   "cell_type": "code",
   "execution_count": 203,
   "id": "09cb6198",
   "metadata": {},
   "outputs": [
    {
     "data": {
      "application/vnd.microsoft.datawrangler.viewer.v0+json": {
       "columns": [
        {
         "name": "index",
         "rawType": "int64",
         "type": "integer"
        },
        {
         "name": "nct_id",
         "rawType": "object",
         "type": "string"
        },
        {
         "name": "intervention_type",
         "rawType": "object",
         "type": "unknown"
        }
       ],
       "ref": "1a6e1a58-babe-4b02-b36f-2c6af01f8994",
       "rows": [
        [
         "0",
         "NCT00125528",
         "['DRUG']"
        ],
        [
         "1",
         "NCT00170209",
         "['DRUG']"
        ],
        [
         "2",
         "NCT00194714",
         "['BIOLOGICAL', 'OTHER']"
        ],
        [
         "3",
         "NCT00293735",
         "['DRUG']"
        ],
        [
         "4",
         "NCT00306059",
         "['PROCEDURE']"
        ],
        [
         "5",
         "NCT00307905",
         "['DRUG']"
        ],
        [
         "6",
         "NCT00328809",
         "['DRUG']"
        ],
        [
         "7",
         "NCT00329641",
         "['DRUG']"
        ],
        [
         "8",
         "NCT00356317",
         "['BEHAVIORAL']"
        ],
        [
         "9",
         "NCT00362219",
         "['DRUG', 'OTHER']"
        ],
        [
         "10",
         "NCT00372762",
         "['DRUG']"
        ],
        [
         "11",
         "NCT00397501",
         "['BIOLOGICAL', 'DRUG']"
        ],
        [
         "12",
         "NCT00397579",
         "['DRUG']"
        ],
        [
         "13",
         "NCT00399594",
         "['PROCEDURE']"
        ],
        [
         "14",
         "NCT00422422",
         "['DRUG']"
        ],
        [
         "15",
         "NCT00448201",
         "['BIOLOGICAL', 'DRUG', 'PROCEDURE']"
        ],
        [
         "16",
         "NCT00455039",
         "['DRUG']"
        ],
        [
         "17",
         "NCT00455052",
         "['DRUG']"
        ],
        [
         "18",
         "NCT00459641",
         "['DRUG', 'OTHER']"
        ],
        [
         "19",
         "NCT00488605",
         "['DRUG']"
        ],
        [
         "20",
         "NCT00504322",
         "['GENETIC']"
        ],
        [
         "21",
         "NCT00532584",
         "['DRUG']"
        ],
        [
         "22",
         "NCT00534703",
         "['DRUG', 'GENETIC']"
        ],
        [
         "23",
         "NCT00554996",
         "['DEVICE']"
        ],
        [
         "24",
         "NCT00570050",
         "['DRUG']"
        ],
        [
         "25",
         "NCT00571246",
         "['DRUG', 'OTHER']"
        ],
        [
         "26",
         "NCT00572689",
         "['DRUG', 'GENETIC']"
        ],
        [
         "27",
         "NCT00593164",
         "['DEVICE']"
        ],
        [
         "28",
         "NCT00603460",
         "['BIOLOGICAL']"
        ],
        [
         "29",
         "NCT00640094",
         "['DRUG']"
        ],
        [
         "30",
         "NCT00640445",
         "['BEHAVIORAL']"
        ],
        [
         "31",
         "NCT00642252",
         "['DRUG']"
        ],
        [
         "32",
         "NCT00662298",
         "['DRUG']"
        ],
        [
         "33",
         "NCT00669162",
         "['DRUG', 'RADIATION']"
        ],
        [
         "34",
         "NCT00673842",
         "['DEVICE', 'OTHER']"
        ],
        [
         "35",
         "NCT00686556",
         "['BIOLOGICAL', 'DRUG', 'PROCEDURE', 'RADIATION']"
        ],
        [
         "36",
         "NCT00701233",
         "['DRUG']"
        ],
        [
         "37",
         "NCT00711841",
         "['DRUG']"
        ],
        [
         "38",
         "NCT00724633",
         "['OTHER']"
        ],
        [
         "39",
         "NCT00730067",
         "['DRUG']"
        ],
        [
         "40",
         "NCT00737893",
         "['DRUG']"
        ],
        [
         "41",
         "NCT00739375",
         "['PROCEDURE']"
        ],
        [
         "42",
         "NCT00747071",
         "['DRUG']"
        ],
        [
         "43",
         "NCT00753402",
         "['BIOLOGICAL']"
        ],
        [
         "44",
         "NCT00757055",
         "['DRUG']"
        ],
        [
         "45",
         "NCT00760825",
         "['BIOLOGICAL']"
        ],
        [
         "46",
         "NCT00764270",
         "['DIETARY_SUPPLEMENT']"
        ],
        [
         "47",
         "NCT00764478",
         "['DRUG']"
        ],
        [
         "48",
         "NCT00784966",
         "['DRUG']"
        ],
        [
         "49",
         "NCT00793013",
         "['DEVICE']"
        ]
       ],
       "shape": {
        "columns": 2,
        "rows": 83519
       }
      },
      "text/html": [
       "<div>\n",
       "<style scoped>\n",
       "    .dataframe tbody tr th:only-of-type {\n",
       "        vertical-align: middle;\n",
       "    }\n",
       "\n",
       "    .dataframe tbody tr th {\n",
       "        vertical-align: top;\n",
       "    }\n",
       "\n",
       "    .dataframe thead th {\n",
       "        text-align: right;\n",
       "    }\n",
       "</style>\n",
       "<table border=\"1\" class=\"dataframe\">\n",
       "  <thead>\n",
       "    <tr style=\"text-align: right;\">\n",
       "      <th></th>\n",
       "      <th>nct_id</th>\n",
       "      <th>intervention_type</th>\n",
       "    </tr>\n",
       "  </thead>\n",
       "  <tbody>\n",
       "    <tr>\n",
       "      <th>0</th>\n",
       "      <td>NCT00125528</td>\n",
       "      <td>[DRUG]</td>\n",
       "    </tr>\n",
       "    <tr>\n",
       "      <th>1</th>\n",
       "      <td>NCT00170209</td>\n",
       "      <td>[DRUG]</td>\n",
       "    </tr>\n",
       "    <tr>\n",
       "      <th>2</th>\n",
       "      <td>NCT00194714</td>\n",
       "      <td>[BIOLOGICAL, OTHER]</td>\n",
       "    </tr>\n",
       "    <tr>\n",
       "      <th>3</th>\n",
       "      <td>NCT00293735</td>\n",
       "      <td>[DRUG]</td>\n",
       "    </tr>\n",
       "    <tr>\n",
       "      <th>4</th>\n",
       "      <td>NCT00306059</td>\n",
       "      <td>[PROCEDURE]</td>\n",
       "    </tr>\n",
       "    <tr>\n",
       "      <th>...</th>\n",
       "      <td>...</td>\n",
       "      <td>...</td>\n",
       "    </tr>\n",
       "    <tr>\n",
       "      <th>83514</th>\n",
       "      <td>NCT07173179</td>\n",
       "      <td>[DRUG]</td>\n",
       "    </tr>\n",
       "    <tr>\n",
       "      <th>83515</th>\n",
       "      <td>NCT07173738</td>\n",
       "      <td>[DRUG]</td>\n",
       "    </tr>\n",
       "    <tr>\n",
       "      <th>83516</th>\n",
       "      <td>NCT07174011</td>\n",
       "      <td>[DRUG]</td>\n",
       "    </tr>\n",
       "    <tr>\n",
       "      <th>83517</th>\n",
       "      <td>NCT07174024</td>\n",
       "      <td>[DEVICE]</td>\n",
       "    </tr>\n",
       "    <tr>\n",
       "      <th>83518</th>\n",
       "      <td>NCT07176832</td>\n",
       "      <td>[DRUG]</td>\n",
       "    </tr>\n",
       "  </tbody>\n",
       "</table>\n",
       "<p>83519 rows × 2 columns</p>\n",
       "</div>"
      ],
      "text/plain": [
       "            nct_id    intervention_type\n",
       "0      NCT00125528               [DRUG]\n",
       "1      NCT00170209               [DRUG]\n",
       "2      NCT00194714  [BIOLOGICAL, OTHER]\n",
       "3      NCT00293735               [DRUG]\n",
       "4      NCT00306059          [PROCEDURE]\n",
       "...            ...                  ...\n",
       "83514  NCT07173179               [DRUG]\n",
       "83515  NCT07173738               [DRUG]\n",
       "83516  NCT07174011               [DRUG]\n",
       "83517  NCT07174024             [DEVICE]\n",
       "83518  NCT07176832               [DRUG]\n",
       "\n",
       "[83519 rows x 2 columns]"
      ]
     },
     "execution_count": 203,
     "metadata": {},
     "output_type": "execute_result"
    }
   ],
   "source": [
    "create_table_sql = \"\"\"\n",
    "DROP TABLE IF EXISTS ctgov.my_interventions_types;\n",
    "\n",
    "CREATE TABLE ctgov.my_interventions_types AS\n",
    "SELECT DISTINCT ON (\n",
    "    studies.nct_id,\n",
    "    studies.phase,\n",
    "    interventions.intervention_type\n",
    ")\n",
    "    studies.nct_id,\n",
    "    interventions.intervention_type\n",
    "\n",
    "FROM ctgov.studies\n",
    "\n",
    "LEFT JOIN ctgov.interventions\n",
    "    ON studies.nct_id = interventions.nct_id\n",
    "\n",
    "WHERE TO_CHAR(studies.start_date, 'YYYY-MM') >= '2011-01'\n",
    "    AND studies.study_type = 'INTERVENTIONAL'\n",
    "    AND studies.overall_status in ('COMPLETED','WITHDRAWN', 'TERMINATED')\n",
    "    AND studies.phase in  ('PHASE1/PHASE2', 'PHASE2/PHASE3', 'PHASE1', 'PHASE2', 'PHASE3', 'PHASE4')\n",
    "    \n",
    "ORDER BY \n",
    "    studies.nct_id,\n",
    "    studies.phase,\n",
    "    interventions.intervention_type;\n",
    "\"\"\"\n",
    "\n",
    "with engine.connect() as conn:\n",
    "    conn.execute(text(create_table_sql))\n",
    "    conn.commit()\n",
    "\n",
    "my_interventions_types = pd.read_sql(\"select * from ctgov.my_interventions_types;\", con = engine)\n",
    "my_interventions_types = my_interventions_types.groupby(\"nct_id\")[\"intervention_type\"].agg(lambda x: sorted(set(i for i in x if i is not None))).reset_index()\n",
    "# my_interventions_types['intervention_type'] = my_interventions_types['intervention_type'].apply(lambda x: list(set(sorted(x))))\n",
    "my_interventions_types"
   ]
  },
  {
   "cell_type": "markdown",
   "id": "e533fdf5",
   "metadata": {},
   "source": [
    "## my_intervention_methods / my_intervention_methods2\n",
    "(?<!\\w): no word character before (start of word)\n",
    "(?!\\w): no word character after (end of word)\n",
    "\\s --> Space before/sfter (no character of world/non world) \n",
    "\\b --> word boundary. (Exception: Non letter characters could exist e.g -.,)\n",
    "\\. --> period as string e.g i.v (while str1.str2 = any character betwwen str1 and str2)\n",
    "? --> optional\n",
    "^ --> not \n",
    "[^a-zA-Z] --> non world/letter character"
   ]
  },
  {
   "cell_type": "code",
   "execution_count": 204,
   "id": "91489231",
   "metadata": {},
   "outputs": [
    {
     "data": {
      "application/vnd.microsoft.datawrangler.viewer.v0+json": {
       "columns": [
        {
         "name": "index",
         "rawType": "int64",
         "type": "integer"
        },
        {
         "name": "nct_id",
         "rawType": "object",
         "type": "string"
        },
        {
         "name": "interventions_description",
         "rawType": "object",
         "type": "unknown"
        }
       ],
       "ref": "948f146c-292b-4366-bf4d-6c8b33a18b18",
       "rows": [
        [
         "0",
         "NCT00125528",
         "D-cycloserine 50 mg bid; D-cycloserine 100 mg bid; D-cycloserine 200 mg bid"
        ],
        [
         "2",
         "NCT00125528",
         "placebo bid"
        ],
        [
         "4",
         "NCT00170209",
         "The dosage of the medication is determined according to the weight of the child. The dose is once per day, 10-15 mg/kg/day (max=300mg/day). Total duration of treatment is 9 months. Both a detailed dose chart calculating doses by weight and age and protocols for preparation of medications (crushing pills, mixing suspensions) are available."
        ],
        [
         "6",
         "NCT00170209",
         "The dosage of the medication is determined according to the weight of the child. The dose is once per day, 10-20 mg/kg/day (max=600mg/day). Total duration of treatment is 4 months. Both a detailed dose chart calculating doses by weight and age and protocols for preparation of medications (crushing pills, mixing suspensions) are available."
        ],
        [
         "8",
         "NCT00194714",
         "Correlative studies"
        ],
        [
         "9",
         "NCT00194714",
         "Given ID"
        ],
        [
         "10",
         "NCT00293735",
         "20mg IV (can be increased to an escalating dose of maximum of 80 mg (20mg, 40 mg, 80 mg q 20min) Cumulative max of 240 mg.\n\n20mg labetalol PO every 6 hours"
        ],
        [
         "11",
         "NCT00293735",
         "4-6g bolus over 20 minutes; 1-2 grams/hr Discontinued 24 hours after delivery."
        ],
        [
         "12",
         "NCT00306059",
         "Directed therapy during 6 hours after occurence of the early phase of acute kidney injury."
        ],
        [
         "13",
         "NCT00307905",
         "homeopathic remedy"
        ],
        [
         "15",
         "NCT00307905",
         "identical size, shape and taste of treatment medication"
        ],
        [
         "17",
         "NCT00328809",
         "spironolactone administered to ESRD patients at low dose"
        ],
        [
         "18",
         "NCT00329641",
         "Given IV"
        ],
        [
         "19",
         "NCT00329641",
         "Given orally"
        ],
        [
         "20",
         "NCT00356317",
         "This family therapy consists of 15 video-taped, therapy sessions, each lasting approximately 75 minutes. The 15-session treatment will be broken down into five segments (each lasting approximately three sessions) with the following goals: 1) Fortify a strong sense of family unity; 2) educate about schizophrenia; 3) foster adaptive use of cultural, spiritual and/or existential beliefs in conceptualizing and coming to terms with schizophrenia; 4) teach effective communication training techniques; and 5) and teach useful problem solving strategies."
        ],
        [
         "22",
         "NCT00356317",
         "This family therapy consists of three weekly sessions focusing on education about schizophrenia."
        ],
        [
         "24",
         "NCT00362219",
         "gel with 0.25 mg morphine per 100cm2 square of wound."
        ],
        [
         "28",
         "NCT00362219",
         "Gel with 0.75 mg morphine per 100cm2 square of wound."
        ],
        [
         "32",
         "NCT00362219",
         "Gel with 1.25 mg morphine per 100cm2 square of wound."
        ],
        [
         "36",
         "NCT00362219",
         "Gel with no active ingredient."
        ],
        [
         "40",
         "NCT00372762",
         "0.5mg to 2mg orally once or twice daily"
        ],
        [
         "42",
         "NCT00372762",
         "20mg to 80mg orally once or twice daily"
        ],
        [
         "44",
         "NCT00372762",
         "Current dose of furosemide will be maintained and equivalent dose bumetanide will be used following crossover"
        ],
        [
         "46",
         "NCT00372762",
         "Equivalent dose to pre-existing furosemide will be used"
        ],
        [
         "48",
         "NCT00397501",
         "200mg/m2/day x 2 days; total dose 400mg/m2 Infused i.a. over 10 mins in 200ml of normal saline after MTX infusion"
        ],
        [
         "50",
         "NCT00397501",
         "2500 mg/day x 2 days; total dose 5000mg Infused over 10mins in 200ml saline beginning immediately after mannitol infusion"
        ],
        [
         "52",
         "NCT00397501",
         "STS dose admin i.v. over 15mins @ 4hrs post carboplatin = 20gm/m2; STS dose admin i.v. over 15mins @ 8hrs post carboplatin = 16gm/m2"
        ],
        [
         "54",
         "NCT00397501",
         "Trastuzamab, 6mg/kg, within 48 hrs before BBBD\n\nThen, Trastuzumab, 2mg/kg, weekly until next BBBD Then continue for 12 cycles"
        ],
        [
         "56",
         "NCT00397579",
         "Intravenously via a 3 cc plastic syringe as a 15 minute bolus infusion daily for five days."
        ],
        [
         "57",
         "NCT00399594",
         "LV lead placement in region of latest mechanical velocity (tissue doppler)"
        ],
        [
         "59",
         "NCT00399594",
         "LV lead placement in standard (lateral / posterolateral) position."
        ],
        [
         "61",
         "NCT00422422",
         "Oral solution\n\nEvaluation period (3 weeks up-titration):\n\nFor subjects ≥8 years:\n\n* \\~0.4 mg/kg bid for Week 1\n* \\~0.8 mg/kg bid for Week 2\n* \\~1.6 mg/kg bid for Week 3\n\nFor subjects \\<8 years:\n\n* \\~0.5 mg/kg bid for Week 1\n* \\~1.0 mg/kg bid for Week 2\n* \\~2.0 mg/kg bid for Week 3\n\nDown-titration period (up to 2 weeks):\n\nFor subjects ≥8 years:\n\n* \\~0.8 mg/kg bid for Week 4\n* \\~0.4 mg/kg bid for Week 5\n\nFor subjects \\<8 years:\n\n* \\~1.0 mg/kg bid for Week 4\n* \\~0.5 mg/kg bid for Week 5"
        ],
        [
         "62",
         "NCT00448201",
         "0.5 mg/kg on day -3, 2.5 mg/kg on day -2 (groups 2, 3 and 4) and 3 mg/kg on day -1 (group 4 only)"
        ],
        [
         "66",
         "NCT00448201",
         "6.4 mg/kg by continuous IV infusion over 48 hours on Days -6 and -5"
        ],
        [
         "70",
         "NCT00448201",
         "A minimum total cluster of differentiation 34 (CD34)+ cell dose of 3 x 10\\^6 cells/kg and a maximum 8 x 10\\^6 cells/kg will be infused on day 0"
        ],
        [
         "74",
         "NCT00448201",
         "fludarabine 30 mg/m\\^2/day x 5 days IV piggyback (IVPB) over 30 minutes on Days -7 through -3"
        ],
        [
         "78",
         "NCT00448201",
         "GM-CSF 500 ug everyday (QD) subcutaneously will be given to recipients who remain with an Absolute neutrophil count (ANC) \\< 1000/microliter (uL) past day 20"
        ],
        [
         "82",
         "NCT00448201",
         "Methotrexate 5 mg/m\\^2 per day on days +1, +3 and +6"
        ],
        [
         "86",
         "NCT00448201",
         "Minimum total CD34+ cells of 3 x 10\\^6 cells/kg and a maximum of 8 x 10\\^6 cells/kg will be infused on Day 0"
        ],
        [
         "90",
         "NCT00448201",
         "Suggested starting dose is 0.03 mg/kg po bid starting on Day -1"
        ],
        [
         "94",
         "NCT00455039",
         "Dose: 1500 mg daily"
        ],
        [
         "95",
         "NCT00455052",
         "XMT-1001 is administered as an IV infusion once every 21 days. This expansion of the Phase 1 study is to confirm the MTD."
        ],
        [
         "96",
         "NCT00459641",
         "Bone marrow aspirate or steroids"
        ],
        [
         "98",
         "NCT00459641",
         "doses of up to 1 mg, 2 mg or 4 mg of TGplPTH1-34"
        ],
        [
         "100",
         "NCT00488605",
         "Initial Therapy:Prednisone- by mouth 3 times/day daily as a 4-week course, then gradually decreased over 2 more weeks. Vinblastine-IV (into a vein)1 day/week for 6 weeks. Patients w/o evidence of active disease at this time will proceed to continuation therapy. If disease is improved or unchanged, pts. will receive additional therapy with: Prednisone- 3 divided doses by mouth for 3 days every week, from week 7-12. Vinblastine- IV 1day/week for 6 more weeks. If the disease is gone or better after this additional therapy continuation will begin. Continuation Therapy: 6-MP:by mouth daily until the end of month 12. Prednisone in 3 doses daily day 1-5 every 3 weeks until the end of month 12. Vinblastine IV day 1 every 3 weeks until the end of month 12."
        ],
        [
         "102",
         "NCT00488605",
         "Initial Therapy:Prednisone-by mouth 3x/day daily as a 4-week course then gradually decreased over 2 more weeks. Vinblastine- IV 1 day/week for 6 weeks. Methotrexate-a 24 hour IV infusion day 1 of weeks 1, 3, and 5, followed by leucovorin.The drug will be given by mouth. Pts w/o evidence of active disease at this time will proceed to continuation therapy. Pts whose disease is improved or unchanged will receive additional therapy w/:Prednisone- 3 divided doses, days 1-3 weekly from week 7-12. Vinblastine IV 1day/week for 6 more weeks. Methotrexate-a 24 hour IV infusion day 1 of week 7, 9, and 11, followed by leucovorin. If the disease is gone or better after this additional therapy continuation will begin. Continuation Therapy: 6-MP by mouth daily until the end of month 12. Prednisone- 3 doses daily days 1-5 every 3 weeks until the end of month 12. Vinblastine IV day 1 every 3 weeks until the end of month 12. Methotrexate by mouth once weekly until the end of month 12."
        ],
        [
         "104",
         "NCT00504322",
         "The placebo will be the salt water-sugar solution used as a vehicle for the vector."
        ],
        [
         "106",
         "NCT00504322",
         "Using Weill-IRB protocol #0011004683 dose escalation study to determine the highest non-toxic dose of the AdcuCD40L vector, this dose (likely 10\\^11 particle units) will be used for all individuals enrolled in this efficacy study. Since there is no evidence that delay of surgery for solid tumors for 15 days following diagnosis alters the prognosis, surgery for removal of the primary tumor will be carried out at either 5 or 15 days after administration of the vector (n= 12/group, including n=6 receiving the AdcuCD40L vector, and n=6 receiving placebo). This will permit assessment of the resulting data (in a randomized, blinded fashion) and the biologic responses to the AdCUCD40L vector over time."
        ],
        [
         "108",
         "NCT00532584",
         "The treatment with inhaled beclomethasone will be administered to Group A from Day 1 to Day 7 via a metered dose inhaler (QVAR 80 HFA) delivering 80 micrograms of beclomethasone per puff. QVAR will be purchased by the Department of Genetic Medicine. The dose will be 2 puffs twice a day for 7 days"
        ],
        [
         "111",
         "NCT00534703",
         "AAV1/SERCA2a will be delivered by a percutaneous method in the catheter laboratory. Dose: 1x 10\\^13 DRP (DNase resistant particles)"
        ]
       ],
       "shape": {
        "columns": 2,
        "rows": 162477
       }
      },
      "text/html": [
       "<div>\n",
       "<style scoped>\n",
       "    .dataframe tbody tr th:only-of-type {\n",
       "        vertical-align: middle;\n",
       "    }\n",
       "\n",
       "    .dataframe tbody tr th {\n",
       "        vertical-align: top;\n",
       "    }\n",
       "\n",
       "    .dataframe thead th {\n",
       "        text-align: right;\n",
       "    }\n",
       "</style>\n",
       "<table border=\"1\" class=\"dataframe\">\n",
       "  <thead>\n",
       "    <tr style=\"text-align: right;\">\n",
       "      <th></th>\n",
       "      <th>nct_id</th>\n",
       "      <th>interventions_description</th>\n",
       "    </tr>\n",
       "  </thead>\n",
       "  <tbody>\n",
       "    <tr>\n",
       "      <th>0</th>\n",
       "      <td>NCT00125528</td>\n",
       "      <td>D-cycloserine 50 mg bid; D-cycloserine 100 mg ...</td>\n",
       "    </tr>\n",
       "    <tr>\n",
       "      <th>2</th>\n",
       "      <td>NCT00125528</td>\n",
       "      <td>placebo bid</td>\n",
       "    </tr>\n",
       "    <tr>\n",
       "      <th>4</th>\n",
       "      <td>NCT00170209</td>\n",
       "      <td>The dosage of the medication is determined acc...</td>\n",
       "    </tr>\n",
       "    <tr>\n",
       "      <th>6</th>\n",
       "      <td>NCT00170209</td>\n",
       "      <td>The dosage of the medication is determined acc...</td>\n",
       "    </tr>\n",
       "    <tr>\n",
       "      <th>8</th>\n",
       "      <td>NCT00194714</td>\n",
       "      <td>Correlative studies</td>\n",
       "    </tr>\n",
       "    <tr>\n",
       "      <th>...</th>\n",
       "      <td>...</td>\n",
       "      <td>...</td>\n",
       "    </tr>\n",
       "    <tr>\n",
       "      <th>404315</th>\n",
       "      <td>NCT07174011</td>\n",
       "      <td>Phosphodiesterase-4 (PDE4) inhibitor assigned ...</td>\n",
       "    </tr>\n",
       "    <tr>\n",
       "      <th>404317</th>\n",
       "      <td>NCT07174024</td>\n",
       "      <td>type of diode</td>\n",
       "    </tr>\n",
       "    <tr>\n",
       "      <th>404319</th>\n",
       "      <td>NCT07174024</td>\n",
       "      <td>type of phototherapy</td>\n",
       "    </tr>\n",
       "    <tr>\n",
       "      <th>404321</th>\n",
       "      <td>NCT07176832</td>\n",
       "      <td>Single oral administration of 1,000 mg stiripe...</td>\n",
       "    </tr>\n",
       "    <tr>\n",
       "      <th>404323</th>\n",
       "      <td>NCT07176832</td>\n",
       "      <td>Single oral administration of 1,000 mg stiripe...</td>\n",
       "    </tr>\n",
       "  </tbody>\n",
       "</table>\n",
       "<p>162477 rows × 2 columns</p>\n",
       "</div>"
      ],
      "text/plain": [
       "             nct_id                          interventions_description\n",
       "0       NCT00125528  D-cycloserine 50 mg bid; D-cycloserine 100 mg ...\n",
       "2       NCT00125528                                        placebo bid\n",
       "4       NCT00170209  The dosage of the medication is determined acc...\n",
       "6       NCT00170209  The dosage of the medication is determined acc...\n",
       "8       NCT00194714                                Correlative studies\n",
       "...             ...                                                ...\n",
       "404315  NCT07174011  Phosphodiesterase-4 (PDE4) inhibitor assigned ...\n",
       "404317  NCT07174024                                      type of diode\n",
       "404319  NCT07174024                               type of phototherapy\n",
       "404321  NCT07176832  Single oral administration of 1,000 mg stiripe...\n",
       "404323  NCT07176832  Single oral administration of 1,000 mg stiripe...\n",
       "\n",
       "[162477 rows x 2 columns]"
      ]
     },
     "metadata": {},
     "output_type": "display_data"
    },
    {
     "data": {
      "application/vnd.microsoft.datawrangler.viewer.v0+json": {
       "columns": [
        {
         "name": "index",
         "rawType": "int64",
         "type": "integer"
        },
        {
         "name": "nct_id",
         "rawType": "object",
         "type": "string"
        },
        {
         "name": "phase",
         "rawType": "object",
         "type": "string"
        },
        {
         "name": "intervention_type",
         "rawType": "object",
         "type": "string"
        },
        {
         "name": "description",
         "rawType": "object",
         "type": "unknown"
        }
       ],
       "ref": "fa51dc10-db4d-4bd6-bb85-e1e35c093a29",
       "rows": [
        [
         "0",
         "NCT00125528",
         "PHASE2",
         "DRUG",
         "D-cycloserine 50 mg bid; D-cycloserine 100 mg bid; D-cycloserine 200 mg bid"
        ],
        [
         "1",
         "NCT00125528",
         "PHASE2",
         "DRUG",
         "placebo bid"
        ],
        [
         "2",
         "NCT00170209",
         "PHASE3",
         "DRUG",
         "The dosage of the medication is determined according to the weight of the child. The dose is once per day, 10-15 mg/kg/day (max=300mg/day). Total duration of treatment is 9 months. Both a detailed dose chart calculating doses by weight and age and protocols for preparation of medications (crushing pills, mixing suspensions) are available."
        ],
        [
         "3",
         "NCT00170209",
         "PHASE3",
         "DRUG",
         "The dosage of the medication is determined according to the weight of the child. The dose is once per day, 10-20 mg/kg/day (max=600mg/day). Total duration of treatment is 4 months. Both a detailed dose chart calculating doses by weight and age and protocols for preparation of medications (crushing pills, mixing suspensions) are available."
        ],
        [
         "4",
         "NCT00194714",
         "PHASE1/PHASE2",
         "BIOLOGICAL",
         "Given ID"
        ],
        [
         "5",
         "NCT00194714",
         "PHASE1/PHASE2",
         "OTHER",
         "Correlative studies"
        ],
        [
         "6",
         "NCT00293735",
         "PHASE2/PHASE3",
         "DRUG",
         "20mg IV (can be increased to an escalating dose of maximum of 80 mg (20mg, 40 mg, 80 mg q 20min) Cumulative max of 240 mg.\n\n20mg labetalol PO every 6 hours"
        ],
        [
         "7",
         "NCT00293735",
         "PHASE2/PHASE3",
         "DRUG",
         "4-6g bolus over 20 minutes; 1-2 grams/hr Discontinued 24 hours after delivery."
        ],
        [
         "8",
         "NCT00306059",
         "PHASE2",
         "PROCEDURE",
         "Directed therapy during 6 hours after occurence of the early phase of acute kidney injury."
        ],
        [
         "9",
         "NCT00307905",
         "PHASE3",
         "DRUG",
         "homeopathic remedy"
        ],
        [
         "10",
         "NCT00307905",
         "PHASE3",
         "DRUG",
         "identical size, shape and taste of treatment medication"
        ],
        [
         "11",
         "NCT00328809",
         "PHASE4",
         "DRUG",
         "spironolactone administered to ESRD patients at low dose"
        ],
        [
         "12",
         "NCT00329641",
         "PHASE2",
         "DRUG",
         "Given IV"
        ],
        [
         "13",
         "NCT00329641",
         "PHASE2",
         "DRUG",
         "Given orally"
        ],
        [
         "14",
         "NCT00356317",
         "PHASE2",
         "BEHAVIORAL",
         "This family therapy consists of 15 video-taped, therapy sessions, each lasting approximately 75 minutes. The 15-session treatment will be broken down into five segments (each lasting approximately three sessions) with the following goals: 1) Fortify a strong sense of family unity; 2) educate about schizophrenia; 3) foster adaptive use of cultural, spiritual and/or existential beliefs in conceptualizing and coming to terms with schizophrenia; 4) teach effective communication training techniques; and 5) and teach useful problem solving strategies."
        ],
        [
         "15",
         "NCT00356317",
         "PHASE2",
         "BEHAVIORAL",
         "This family therapy consists of three weekly sessions focusing on education about schizophrenia."
        ],
        [
         "16",
         "NCT00362219",
         "PHASE3",
         "DRUG",
         "gel with 0.25 mg morphine per 100cm2 square of wound."
        ],
        [
         "17",
         "NCT00362219",
         "PHASE3",
         "DRUG",
         "Gel with 0.75 mg morphine per 100cm2 square of wound."
        ],
        [
         "18",
         "NCT00362219",
         "PHASE3",
         "DRUG",
         "Gel with 1.25 mg morphine per 100cm2 square of wound."
        ],
        [
         "19",
         "NCT00362219",
         "PHASE3",
         "OTHER",
         "Gel with no active ingredient."
        ],
        [
         "20",
         "NCT00372762",
         "PHASE3",
         "DRUG",
         "0.5mg to 2mg orally once or twice daily"
        ],
        [
         "21",
         "NCT00372762",
         "PHASE3",
         "DRUG",
         "20mg to 80mg orally once or twice daily"
        ],
        [
         "22",
         "NCT00372762",
         "PHASE3",
         "DRUG",
         "Current dose of furosemide will be maintained and equivalent dose bumetanide will be used following crossover"
        ],
        [
         "23",
         "NCT00372762",
         "PHASE3",
         "DRUG",
         "Equivalent dose to pre-existing furosemide will be used"
        ],
        [
         "24",
         "NCT00397501",
         "PHASE1/PHASE2",
         "BIOLOGICAL",
         "Trastuzamab, 6mg/kg, within 48 hrs before BBBD\n\nThen, Trastuzumab, 2mg/kg, weekly until next BBBD Then continue for 12 cycles"
        ],
        [
         "25",
         "NCT00397501",
         "PHASE1/PHASE2",
         "DRUG",
         "200mg/m2/day x 2 days; total dose 400mg/m2 Infused i.a. over 10 mins in 200ml of normal saline after MTX infusion"
        ],
        [
         "26",
         "NCT00397501",
         "PHASE1/PHASE2",
         "DRUG",
         "2500 mg/day x 2 days; total dose 5000mg Infused over 10mins in 200ml saline beginning immediately after mannitol infusion"
        ],
        [
         "27",
         "NCT00397501",
         "PHASE1/PHASE2",
         "DRUG",
         "STS dose admin i.v. over 15mins @ 4hrs post carboplatin = 20gm/m2; STS dose admin i.v. over 15mins @ 8hrs post carboplatin = 16gm/m2"
        ],
        [
         "28",
         "NCT00397579",
         "PHASE1/PHASE2",
         "DRUG",
         "Intravenously via a 3 cc plastic syringe as a 15 minute bolus infusion daily for five days."
        ],
        [
         "29",
         "NCT00399594",
         "PHASE2/PHASE3",
         "PROCEDURE",
         "LV lead placement in region of latest mechanical velocity (tissue doppler)"
        ],
        [
         "30",
         "NCT00399594",
         "PHASE2/PHASE3",
         "PROCEDURE",
         "LV lead placement in standard (lateral / posterolateral) position."
        ],
        [
         "31",
         "NCT00422422",
         "PHASE2",
         "DRUG",
         "Oral solution\n\nEvaluation period (3 weeks up-titration):\n\nFor subjects ≥8 years:\n\n* \\~0.4 mg/kg bid for Week 1\n* \\~0.8 mg/kg bid for Week 2\n* \\~1.6 mg/kg bid for Week 3\n\nFor subjects \\<8 years:\n\n* \\~0.5 mg/kg bid for Week 1\n* \\~1.0 mg/kg bid for Week 2\n* \\~2.0 mg/kg bid for Week 3\n\nDown-titration period (up to 2 weeks):\n\nFor subjects ≥8 years:\n\n* \\~0.8 mg/kg bid for Week 4\n* \\~0.4 mg/kg bid for Week 5\n\nFor subjects \\<8 years:\n\n* \\~1.0 mg/kg bid for Week 4\n* \\~0.5 mg/kg bid for Week 5"
        ],
        [
         "32",
         "NCT00448201",
         "PHASE2",
         "BIOLOGICAL",
         "0.5 mg/kg on day -3, 2.5 mg/kg on day -2 (groups 2, 3 and 4) and 3 mg/kg on day -1 (group 4 only)"
        ],
        [
         "33",
         "NCT00448201",
         "PHASE2",
         "BIOLOGICAL",
         "A minimum total cluster of differentiation 34 (CD34)+ cell dose of 3 x 10\\^6 cells/kg and a maximum 8 x 10\\^6 cells/kg will be infused on day 0"
        ],
        [
         "34",
         "NCT00448201",
         "PHASE2",
         "BIOLOGICAL",
         "GM-CSF 500 ug everyday (QD) subcutaneously will be given to recipients who remain with an Absolute neutrophil count (ANC) \\< 1000/microliter (uL) past day 20"
        ],
        [
         "35",
         "NCT00448201",
         "PHASE2",
         "DRUG",
         "6.4 mg/kg by continuous IV infusion over 48 hours on Days -6 and -5"
        ],
        [
         "36",
         "NCT00448201",
         "PHASE2",
         "DRUG",
         "fludarabine 30 mg/m\\^2/day x 5 days IV piggyback (IVPB) over 30 minutes on Days -7 through -3"
        ],
        [
         "37",
         "NCT00448201",
         "PHASE2",
         "DRUG",
         "Methotrexate 5 mg/m\\^2 per day on days +1, +3 and +6"
        ],
        [
         "38",
         "NCT00448201",
         "PHASE2",
         "DRUG",
         "Suggested starting dose is 0.03 mg/kg po bid starting on Day -1"
        ],
        [
         "39",
         "NCT00448201",
         "PHASE2",
         "PROCEDURE",
         "Minimum total CD34+ cells of 3 x 10\\^6 cells/kg and a maximum of 8 x 10\\^6 cells/kg will be infused on Day 0"
        ],
        [
         "40",
         "NCT00455039",
         "PHASE1/PHASE2",
         "DRUG",
         "Dose: 1500 mg daily"
        ],
        [
         "41",
         "NCT00455052",
         "PHASE1",
         "DRUG",
         "XMT-1001 is administered as an IV infusion once every 21 days. This expansion of the Phase 1 study is to confirm the MTD."
        ],
        [
         "42",
         "NCT00459641",
         "PHASE2",
         "DRUG",
         "doses of up to 1 mg, 2 mg or 4 mg of TGplPTH1-34"
        ],
        [
         "43",
         "NCT00459641",
         "PHASE2",
         "OTHER",
         "Bone marrow aspirate or steroids"
        ],
        [
         "44",
         "NCT00488605",
         "PHASE3",
         "DRUG",
         "Initial Therapy:Prednisone- by mouth 3 times/day daily as a 4-week course, then gradually decreased over 2 more weeks. Vinblastine-IV (into a vein)1 day/week for 6 weeks. Patients w/o evidence of active disease at this time will proceed to continuation therapy. If disease is improved or unchanged, pts. will receive additional therapy with: Prednisone- 3 divided doses by mouth for 3 days every week, from week 7-12. Vinblastine- IV 1day/week for 6 more weeks. If the disease is gone or better after this additional therapy continuation will begin. Continuation Therapy: 6-MP:by mouth daily until the end of month 12. Prednisone in 3 doses daily day 1-5 every 3 weeks until the end of month 12. Vinblastine IV day 1 every 3 weeks until the end of month 12."
        ],
        [
         "45",
         "NCT00488605",
         "PHASE3",
         "DRUG",
         "Initial Therapy:Prednisone-by mouth 3x/day daily as a 4-week course then gradually decreased over 2 more weeks. Vinblastine- IV 1 day/week for 6 weeks. Methotrexate-a 24 hour IV infusion day 1 of weeks 1, 3, and 5, followed by leucovorin.The drug will be given by mouth. Pts w/o evidence of active disease at this time will proceed to continuation therapy. Pts whose disease is improved or unchanged will receive additional therapy w/:Prednisone- 3 divided doses, days 1-3 weekly from week 7-12. Vinblastine IV 1day/week for 6 more weeks. Methotrexate-a 24 hour IV infusion day 1 of week 7, 9, and 11, followed by leucovorin. If the disease is gone or better after this additional therapy continuation will begin. Continuation Therapy: 6-MP by mouth daily until the end of month 12. Prednisone- 3 doses daily days 1-5 every 3 weeks until the end of month 12. Vinblastine IV day 1 every 3 weeks until the end of month 12. Methotrexate by mouth once weekly until the end of month 12."
        ],
        [
         "46",
         "NCT00504322",
         "PHASE1/PHASE2",
         "GENETIC",
         "The placebo will be the salt water-sugar solution used as a vehicle for the vector."
        ],
        [
         "47",
         "NCT00504322",
         "PHASE1/PHASE2",
         "GENETIC",
         "Using Weill-IRB protocol #0011004683 dose escalation study to determine the highest non-toxic dose of the AdcuCD40L vector, this dose (likely 10\\^11 particle units) will be used for all individuals enrolled in this efficacy study. Since there is no evidence that delay of surgery for solid tumors for 15 days following diagnosis alters the prognosis, surgery for removal of the primary tumor will be carried out at either 5 or 15 days after administration of the vector (n= 12/group, including n=6 receiving the AdcuCD40L vector, and n=6 receiving placebo). This will permit assessment of the resulting data (in a randomized, blinded fashion) and the biologic responses to the AdCUCD40L vector over time."
        ],
        [
         "48",
         "NCT00532584",
         "PHASE4",
         "DRUG",
         "The treatment with inhaled beclomethasone will be administered to Group A from Day 1 to Day 7 via a metered dose inhaler (QVAR 80 HFA) delivering 80 micrograms of beclomethasone per puff. QVAR will be purchased by the Department of Genetic Medicine. The dose will be 2 puffs twice a day for 7 days"
        ],
        [
         "49",
         "NCT00534703",
         "PHASE2",
         "DRUG",
         "Placebo aliquots will be of the same composition as the investigational medicinal product with the absence of the active ingredient and will be visually indistinguishable from the medicinal product. Placebo is prepared and handled exactly as above in a blinded fashion."
        ]
       ],
       "shape": {
        "columns": 4,
        "rows": 164596
       }
      },
      "text/html": [
       "<div>\n",
       "<style scoped>\n",
       "    .dataframe tbody tr th:only-of-type {\n",
       "        vertical-align: middle;\n",
       "    }\n",
       "\n",
       "    .dataframe tbody tr th {\n",
       "        vertical-align: top;\n",
       "    }\n",
       "\n",
       "    .dataframe thead th {\n",
       "        text-align: right;\n",
       "    }\n",
       "</style>\n",
       "<table border=\"1\" class=\"dataframe\">\n",
       "  <thead>\n",
       "    <tr style=\"text-align: right;\">\n",
       "      <th></th>\n",
       "      <th>nct_id</th>\n",
       "      <th>phase</th>\n",
       "      <th>intervention_type</th>\n",
       "      <th>description</th>\n",
       "    </tr>\n",
       "  </thead>\n",
       "  <tbody>\n",
       "    <tr>\n",
       "      <th>0</th>\n",
       "      <td>NCT00125528</td>\n",
       "      <td>PHASE2</td>\n",
       "      <td>DRUG</td>\n",
       "      <td>D-cycloserine 50 mg bid; D-cycloserine 100 mg ...</td>\n",
       "    </tr>\n",
       "    <tr>\n",
       "      <th>1</th>\n",
       "      <td>NCT00125528</td>\n",
       "      <td>PHASE2</td>\n",
       "      <td>DRUG</td>\n",
       "      <td>placebo bid</td>\n",
       "    </tr>\n",
       "    <tr>\n",
       "      <th>2</th>\n",
       "      <td>NCT00170209</td>\n",
       "      <td>PHASE3</td>\n",
       "      <td>DRUG</td>\n",
       "      <td>The dosage of the medication is determined acc...</td>\n",
       "    </tr>\n",
       "    <tr>\n",
       "      <th>3</th>\n",
       "      <td>NCT00170209</td>\n",
       "      <td>PHASE3</td>\n",
       "      <td>DRUG</td>\n",
       "      <td>The dosage of the medication is determined acc...</td>\n",
       "    </tr>\n",
       "    <tr>\n",
       "      <th>4</th>\n",
       "      <td>NCT00194714</td>\n",
       "      <td>PHASE1/PHASE2</td>\n",
       "      <td>BIOLOGICAL</td>\n",
       "      <td>Given ID</td>\n",
       "    </tr>\n",
       "    <tr>\n",
       "      <th>...</th>\n",
       "      <td>...</td>\n",
       "      <td>...</td>\n",
       "      <td>...</td>\n",
       "      <td>...</td>\n",
       "    </tr>\n",
       "    <tr>\n",
       "      <th>164591</th>\n",
       "      <td>NCT07174011</td>\n",
       "      <td>PHASE4</td>\n",
       "      <td>DRUG</td>\n",
       "      <td>Phosphodiesterase-4 (PDE4) inhibitor assigned ...</td>\n",
       "    </tr>\n",
       "    <tr>\n",
       "      <th>164592</th>\n",
       "      <td>NCT07174024</td>\n",
       "      <td>PHASE4</td>\n",
       "      <td>DEVICE</td>\n",
       "      <td>type of diode</td>\n",
       "    </tr>\n",
       "    <tr>\n",
       "      <th>164593</th>\n",
       "      <td>NCT07174024</td>\n",
       "      <td>PHASE4</td>\n",
       "      <td>DEVICE</td>\n",
       "      <td>type of phototherapy</td>\n",
       "    </tr>\n",
       "    <tr>\n",
       "      <th>164594</th>\n",
       "      <td>NCT07176832</td>\n",
       "      <td>PHASE1</td>\n",
       "      <td>DRUG</td>\n",
       "      <td>Single oral administration of 1,000 mg stiripe...</td>\n",
       "    </tr>\n",
       "    <tr>\n",
       "      <th>164595</th>\n",
       "      <td>NCT07176832</td>\n",
       "      <td>PHASE1</td>\n",
       "      <td>DRUG</td>\n",
       "      <td>Single oral administration of 1,000 mg stiripe...</td>\n",
       "    </tr>\n",
       "  </tbody>\n",
       "</table>\n",
       "<p>164596 rows × 4 columns</p>\n",
       "</div>"
      ],
      "text/plain": [
       "             nct_id          phase intervention_type  \\\n",
       "0       NCT00125528         PHASE2              DRUG   \n",
       "1       NCT00125528         PHASE2              DRUG   \n",
       "2       NCT00170209         PHASE3              DRUG   \n",
       "3       NCT00170209         PHASE3              DRUG   \n",
       "4       NCT00194714  PHASE1/PHASE2        BIOLOGICAL   \n",
       "...             ...            ...               ...   \n",
       "164591  NCT07174011         PHASE4              DRUG   \n",
       "164592  NCT07174024         PHASE4            DEVICE   \n",
       "164593  NCT07174024         PHASE4            DEVICE   \n",
       "164594  NCT07176832         PHASE1              DRUG   \n",
       "164595  NCT07176832         PHASE1              DRUG   \n",
       "\n",
       "                                              description  \n",
       "0       D-cycloserine 50 mg bid; D-cycloserine 100 mg ...  \n",
       "1                                             placebo bid  \n",
       "2       The dosage of the medication is determined acc...  \n",
       "3       The dosage of the medication is determined acc...  \n",
       "4                                                Given ID  \n",
       "...                                                   ...  \n",
       "164591  Phosphodiesterase-4 (PDE4) inhibitor assigned ...  \n",
       "164592                                      type of diode  \n",
       "164593                               type of phototherapy  \n",
       "164594  Single oral administration of 1,000 mg stiripe...  \n",
       "164595  Single oral administration of 1,000 mg stiripe...  \n",
       "\n",
       "[164596 rows x 4 columns]"
      ]
     },
     "metadata": {},
     "output_type": "display_data"
    }
   ],
   "source": [
    "# my_intervention_methods2\n",
    "create_table_sql =\"\"\"\n",
    "DROP TABLE IF EXISTS ctgov.my_intervention_methods2;\n",
    "\n",
    "CREATE TABLE ctgov.my_intervention_methods2 AS\n",
    "SELECT DISTINCT ON \n",
    "(\n",
    "    studies.nct_id,\n",
    "    studies.phase,\n",
    "    interventions.description, \n",
    "    design_groups.description,\n",
    "    design_groups.group_type\n",
    "    \n",
    ")\n",
    "    studies.nct_id,\n",
    "    design_groups.description AS design_groups_description,\n",
    "    interventions.description AS interventions_description,\n",
    "    design_groups.group_type\n",
    "\n",
    "    FROM ctgov.studies\n",
    "\n",
    "LEFT JOIN ctgov.interventions\n",
    "    ON studies.nct_id = interventions.nct_id\n",
    "LEFT JOIN ctgov.design_groups\n",
    "    ON studies.nct_id = design_groups.nct_id\n",
    "\n",
    "WHERE TO_CHAR(studies.start_date, 'YYYY-MM') >= '2011-01'\n",
    "    AND studies.study_type = 'INTERVENTIONAL'\n",
    "    AND studies.overall_status in ('COMPLETED','WITHDRAWN', 'TERMINATED')\n",
    "    AND studies.phase in  ('PHASE1/PHASE2', 'PHASE2/PHASE3', 'PHASE1', 'PHASE2', 'PHASE3', 'PHASE4')\n",
    "\n",
    "ORDER BY \n",
    "    studies.nct_id,\n",
    "    studies.phase,\n",
    "    interventions.description, \n",
    "    design_groups.description,\n",
    "    design_groups.group_type;\n",
    "\"\"\"\n",
    "\n",
    "with engine.connect() as conn:\n",
    "    conn.execute(text(create_table_sql))\n",
    "    conn.commit()\n",
    "\n",
    "my_intervention_methods3 = pd.read_sql(\"select * from ctgov.my_intervention_methods2;\", con = engine)\n",
    "my_intervention_methods2 = my_intervention_methods3.copy()\n",
    "my_intervention_methods2 = my_intervention_methods2.drop(columns = ['design_groups_description', 'group_type'])\n",
    "my_intervention_methods2 = my_intervention_methods2.drop_duplicates(subset = ['nct_id', 'interventions_description'])\n",
    "\n",
    "# =======================================================================================================\n",
    "# my_intervention_methods\n",
    "create_table_sql = \"\"\"\n",
    "DROP TABLE IF EXISTS ctgov.my_intervention_methods;\n",
    "\n",
    "CREATE TABLE ctgov.my_intervention_methods AS\n",
    "\n",
    "select distinct on \n",
    "(\n",
    "    studies.nct_id, \n",
    "    studies.phase,\n",
    "    interventions.intervention_type, \n",
    "    interventions.description\n",
    ") \n",
    "    studies.nct_id,\n",
    "    studies.phase,\n",
    "    interventions.intervention_type,\n",
    "    interventions.description\n",
    "\n",
    "from ctgov.studies\n",
    "left join ctgov.interventions\n",
    "on studies.nct_id = interventions.nct_id\n",
    "\n",
    "WHERE TO_CHAR(studies.start_date, 'YYYY-MM') >= '2011-01'\n",
    "    AND studies.study_type = 'INTERVENTIONAL'\n",
    "    AND studies.overall_status in ('COMPLETED','WITHDRAWN', 'TERMINATED')\n",
    "    AND studies.phase in  ('PHASE1/PHASE2', 'PHASE2/PHASE3', 'PHASE1', 'PHASE2', 'PHASE3', 'PHASE4')\n",
    "    \n",
    "ORDER BY\n",
    "    studies.nct_id, \n",
    "    studies.phase,\n",
    "    interventions.intervention_type, \n",
    "    interventions.description;\n",
    "\"\"\"\n",
    "\n",
    "with engine.connect() as conn:\n",
    "    conn.execute(text(create_table_sql))\n",
    "    conn.commit()\n",
    "\n",
    "my_intervention_methods = pd.read_sql(\"select * from ctgov.my_intervention_methods;\", con = engine)\n",
    "\n",
    "display(my_intervention_methods2, my_intervention_methods)"
   ]
  },
  {
   "cell_type": "code",
   "execution_count": 205,
   "id": "1db09019",
   "metadata": {},
   "outputs": [
    {
     "data": {
      "text/plain": [
       "83519"
      ]
     },
     "metadata": {},
     "output_type": "display_data"
    },
    {
     "data": {
      "application/vnd.microsoft.datawrangler.viewer.v0+json": {
       "columns": [
        {
         "name": "index",
         "rawType": "int64",
         "type": "integer"
        },
        {
         "name": "nct_id",
         "rawType": "object",
         "type": "string"
        },
        {
         "name": "phase",
         "rawType": "object",
         "type": "string"
        },
        {
         "name": "intervention_type",
         "rawType": "object",
         "type": "string"
        },
        {
         "name": "interv_desc",
         "rawType": "object",
         "type": "string"
        }
       ],
       "ref": "b6468ca3-baeb-4e20-9dc7-35833bef0f80",
       "rows": [
        [
         "0",
         "NCT00125528",
         "PHASE2",
         "DRUG",
         "D-cycloserine 50 mg bid; D-cycloserine 100 mg bid; D-cycloserine 200 mg bid | placebo bid"
        ],
        [
         "1",
         "NCT00170209",
         "PHASE3",
         "DRUG",
         "The dosage of the medication is determined according to the weight of the child. The dose is once per day, 10-15 mg/kg/day (max=300mg/day). Total duration of treatment is 9 months. Both a detailed dose chart calculating doses by weight and age and protocols for preparation of medications (crushing pills, mixing suspensions) are available. | The dosage of the medication is determined according to the weight of the child. The dose is once per day, 10-20 mg/kg/day (max=600mg/day). Total duration of treatment is 4 months. Both a detailed dose chart calculating doses by weight and age and protocols for preparation of medications (crushing pills, mixing suspensions) are available."
        ],
        [
         "2",
         "NCT00194714",
         "PHASE1/PHASE2",
         "BIOLOGICAL",
         "Correlative studies | Given ID"
        ],
        [
         "3",
         "NCT00194714",
         "PHASE1/PHASE2",
         "OTHER",
         "Correlative studies | Given ID"
        ],
        [
         "4",
         "NCT00293735",
         "PHASE2/PHASE3",
         "DRUG",
         "20mg IV (can be increased to an escalating dose of maximum of 80 mg (20mg, 40 mg, 80 mg q 20min) Cumulative max of 240 mg.\n\n20mg labetalol PO every 6 hours | 4-6g bolus over 20 minutes; 1-2 grams/hr Discontinued 24 hours after delivery."
        ],
        [
         "5",
         "NCT00306059",
         "PHASE2",
         "PROCEDURE",
         "Directed therapy during 6 hours after occurence of the early phase of acute kidney injury."
        ],
        [
         "6",
         "NCT00307905",
         "PHASE3",
         "DRUG",
         "homeopathic remedy | identical size, shape and taste of treatment medication"
        ],
        [
         "7",
         "NCT00328809",
         "PHASE4",
         "DRUG",
         "spironolactone administered to ESRD patients at low dose"
        ],
        [
         "8",
         "NCT00329641",
         "PHASE2",
         "DRUG",
         "Given IV | Given orally"
        ],
        [
         "9",
         "NCT00356317",
         "PHASE2",
         "BEHAVIORAL",
         "This family therapy consists of 15 video-taped, therapy sessions, each lasting approximately 75 minutes. The 15-session treatment will be broken down into five segments (each lasting approximately three sessions) with the following goals: 1) Fortify a strong sense of family unity; 2) educate about schizophrenia; 3) foster adaptive use of cultural, spiritual and/or existential beliefs in conceptualizing and coming to terms with schizophrenia; 4) teach effective communication training techniques; and 5) and teach useful problem solving strategies. | This family therapy consists of three weekly sessions focusing on education about schizophrenia."
        ],
        [
         "10",
         "NCT00362219",
         "PHASE3",
         "DRUG",
         "Gel with 0.75 mg morphine per 100cm2 square of wound. | Gel with 1.25 mg morphine per 100cm2 square of wound. | Gel with no active ingredient. | gel with 0.25 mg morphine per 100cm2 square of wound."
        ],
        [
         "11",
         "NCT00362219",
         "PHASE3",
         "OTHER",
         "Gel with 0.75 mg morphine per 100cm2 square of wound. | Gel with 1.25 mg morphine per 100cm2 square of wound. | Gel with no active ingredient. | gel with 0.25 mg morphine per 100cm2 square of wound."
        ],
        [
         "12",
         "NCT00372762",
         "PHASE3",
         "DRUG",
         "0.5mg to 2mg orally once or twice daily | 20mg to 80mg orally once or twice daily | Current dose of furosemide will be maintained and equivalent dose bumetanide will be used following crossover | Equivalent dose to pre-existing furosemide will be used"
        ],
        [
         "13",
         "NCT00397501",
         "PHASE1/PHASE2",
         "BIOLOGICAL",
         "200mg/m2/day x 2 days; total dose 400mg/m2 Infused i.a. over 10 mins in 200ml of normal saline after MTX infusion | 2500 mg/day x 2 days; total dose 5000mg Infused over 10mins in 200ml saline beginning immediately after mannitol infusion | STS dose admin i.v. over 15mins @ 4hrs post carboplatin = 20gm/m2; STS dose admin i.v. over 15mins @ 8hrs post carboplatin = 16gm/m2 | Trastuzamab, 6mg/kg, within 48 hrs before BBBD\n\nThen, Trastuzumab, 2mg/kg, weekly until next BBBD Then continue for 12 cycles"
        ],
        [
         "14",
         "NCT00397501",
         "PHASE1/PHASE2",
         "DRUG",
         "200mg/m2/day x 2 days; total dose 400mg/m2 Infused i.a. over 10 mins in 200ml of normal saline after MTX infusion | 2500 mg/day x 2 days; total dose 5000mg Infused over 10mins in 200ml saline beginning immediately after mannitol infusion | STS dose admin i.v. over 15mins @ 4hrs post carboplatin = 20gm/m2; STS dose admin i.v. over 15mins @ 8hrs post carboplatin = 16gm/m2 | Trastuzamab, 6mg/kg, within 48 hrs before BBBD\n\nThen, Trastuzumab, 2mg/kg, weekly until next BBBD Then continue for 12 cycles"
        ],
        [
         "15",
         "NCT00397579",
         "PHASE1/PHASE2",
         "DRUG",
         "Intravenously via a 3 cc plastic syringe as a 15 minute bolus infusion daily for five days."
        ],
        [
         "16",
         "NCT00399594",
         "PHASE2/PHASE3",
         "PROCEDURE",
         "LV lead placement in region of latest mechanical velocity (tissue doppler) | LV lead placement in standard (lateral / posterolateral) position."
        ],
        [
         "17",
         "NCT00422422",
         "PHASE2",
         "DRUG",
         "Oral solution\n\nEvaluation period (3 weeks up-titration):\n\nFor subjects ≥8 years:\n\n* \\~0.4 mg/kg bid for Week 1\n* \\~0.8 mg/kg bid for Week 2\n* \\~1.6 mg/kg bid for Week 3\n\nFor subjects \\<8 years:\n\n* \\~0.5 mg/kg bid for Week 1\n* \\~1.0 mg/kg bid for Week 2\n* \\~2.0 mg/kg bid for Week 3\n\nDown-titration period (up to 2 weeks):\n\nFor subjects ≥8 years:\n\n* \\~0.8 mg/kg bid for Week 4\n* \\~0.4 mg/kg bid for Week 5\n\nFor subjects \\<8 years:\n\n* \\~1.0 mg/kg bid for Week 4\n* \\~0.5 mg/kg bid for Week 5"
        ],
        [
         "18",
         "NCT00448201",
         "PHASE2",
         "BIOLOGICAL",
         "0.5 mg/kg on day -3, 2.5 mg/kg on day -2 (groups 2, 3 and 4) and 3 mg/kg on day -1 (group 4 only) | 6.4 mg/kg by continuous IV infusion over 48 hours on Days -6 and -5 | A minimum total cluster of differentiation 34 (CD34)+ cell dose of 3 x 10\\^6 cells/kg and a maximum 8 x 10\\^6 cells/kg will be infused on day 0 | GM-CSF 500 ug everyday (QD) subcutaneously will be given to recipients who remain with an Absolute neutrophil count (ANC) \\< 1000/microliter (uL) past day 20 | Methotrexate 5 mg/m\\^2 per day on days +1, +3 and +6 | Minimum total CD34+ cells of 3 x 10\\^6 cells/kg and a maximum of 8 x 10\\^6 cells/kg will be infused on Day 0 | Suggested starting dose is 0.03 mg/kg po bid starting on Day -1 | fludarabine 30 mg/m\\^2/day x 5 days IV piggyback (IVPB) over 30 minutes on Days -7 through -3"
        ],
        [
         "19",
         "NCT00448201",
         "PHASE2",
         "DRUG",
         "0.5 mg/kg on day -3, 2.5 mg/kg on day -2 (groups 2, 3 and 4) and 3 mg/kg on day -1 (group 4 only) | 6.4 mg/kg by continuous IV infusion over 48 hours on Days -6 and -5 | A minimum total cluster of differentiation 34 (CD34)+ cell dose of 3 x 10\\^6 cells/kg and a maximum 8 x 10\\^6 cells/kg will be infused on day 0 | GM-CSF 500 ug everyday (QD) subcutaneously will be given to recipients who remain with an Absolute neutrophil count (ANC) \\< 1000/microliter (uL) past day 20 | Methotrexate 5 mg/m\\^2 per day on days +1, +3 and +6 | Minimum total CD34+ cells of 3 x 10\\^6 cells/kg and a maximum of 8 x 10\\^6 cells/kg will be infused on Day 0 | Suggested starting dose is 0.03 mg/kg po bid starting on Day -1 | fludarabine 30 mg/m\\^2/day x 5 days IV piggyback (IVPB) over 30 minutes on Days -7 through -3"
        ],
        [
         "20",
         "NCT00448201",
         "PHASE2",
         "PROCEDURE",
         "0.5 mg/kg on day -3, 2.5 mg/kg on day -2 (groups 2, 3 and 4) and 3 mg/kg on day -1 (group 4 only) | 6.4 mg/kg by continuous IV infusion over 48 hours on Days -6 and -5 | A minimum total cluster of differentiation 34 (CD34)+ cell dose of 3 x 10\\^6 cells/kg and a maximum 8 x 10\\^6 cells/kg will be infused on day 0 | GM-CSF 500 ug everyday (QD) subcutaneously will be given to recipients who remain with an Absolute neutrophil count (ANC) \\< 1000/microliter (uL) past day 20 | Methotrexate 5 mg/m\\^2 per day on days +1, +3 and +6 | Minimum total CD34+ cells of 3 x 10\\^6 cells/kg and a maximum of 8 x 10\\^6 cells/kg will be infused on Day 0 | Suggested starting dose is 0.03 mg/kg po bid starting on Day -1 | fludarabine 30 mg/m\\^2/day x 5 days IV piggyback (IVPB) over 30 minutes on Days -7 through -3"
        ],
        [
         "21",
         "NCT00455039",
         "PHASE1/PHASE2",
         "DRUG",
         "Dose: 1500 mg daily"
        ],
        [
         "22",
         "NCT00455052",
         "PHASE1",
         "DRUG",
         "XMT-1001 is administered as an IV infusion once every 21 days. This expansion of the Phase 1 study is to confirm the MTD."
        ],
        [
         "23",
         "NCT00459641",
         "PHASE2",
         "DRUG",
         "Bone marrow aspirate or steroids | doses of up to 1 mg, 2 mg or 4 mg of TGplPTH1-34"
        ],
        [
         "24",
         "NCT00459641",
         "PHASE2",
         "OTHER",
         "Bone marrow aspirate or steroids | doses of up to 1 mg, 2 mg or 4 mg of TGplPTH1-34"
        ],
        [
         "25",
         "NCT00488605",
         "PHASE3",
         "DRUG",
         "Initial Therapy:Prednisone- by mouth 3 times/day daily as a 4-week course, then gradually decreased over 2 more weeks. Vinblastine-IV (into a vein)1 day/week for 6 weeks. Patients w/o evidence of active disease at this time will proceed to continuation therapy. If disease is improved or unchanged, pts. will receive additional therapy with: Prednisone- 3 divided doses by mouth for 3 days every week, from week 7-12. Vinblastine- IV 1day/week for 6 more weeks. If the disease is gone or better after this additional therapy continuation will begin. Continuation Therapy: 6-MP:by mouth daily until the end of month 12. Prednisone in 3 doses daily day 1-5 every 3 weeks until the end of month 12. Vinblastine IV day 1 every 3 weeks until the end of month 12. | Initial Therapy:Prednisone-by mouth 3x/day daily as a 4-week course then gradually decreased over 2 more weeks. Vinblastine- IV 1 day/week for 6 weeks. Methotrexate-a 24 hour IV infusion day 1 of weeks 1, 3, and 5, followed by leucovorin.The drug will be given by mouth. Pts w/o evidence of active disease at this time will proceed to continuation therapy. Pts whose disease is improved or unchanged will receive additional therapy w/:Prednisone- 3 divided doses, days 1-3 weekly from week 7-12. Vinblastine IV 1day/week for 6 more weeks. Methotrexate-a 24 hour IV infusion day 1 of week 7, 9, and 11, followed by leucovorin. If the disease is gone or better after this additional therapy continuation will begin. Continuation Therapy: 6-MP by mouth daily until the end of month 12. Prednisone- 3 doses daily days 1-5 every 3 weeks until the end of month 12. Vinblastine IV day 1 every 3 weeks until the end of month 12. Methotrexate by mouth once weekly until the end of month 12."
        ],
        [
         "26",
         "NCT00504322",
         "PHASE1/PHASE2",
         "GENETIC",
         "The placebo will be the salt water-sugar solution used as a vehicle for the vector. | Using Weill-IRB protocol #0011004683 dose escalation study to determine the highest non-toxic dose of the AdcuCD40L vector, this dose (likely 10\\^11 particle units) will be used for all individuals enrolled in this efficacy study. Since there is no evidence that delay of surgery for solid tumors for 15 days following diagnosis alters the prognosis, surgery for removal of the primary tumor will be carried out at either 5 or 15 days after administration of the vector (n= 12/group, including n=6 receiving the AdcuCD40L vector, and n=6 receiving placebo). This will permit assessment of the resulting data (in a randomized, blinded fashion) and the biologic responses to the AdCUCD40L vector over time."
        ],
        [
         "27",
         "NCT00532584",
         "PHASE4",
         "DRUG",
         "The treatment with inhaled beclomethasone will be administered to Group A from Day 1 to Day 7 via a metered dose inhaler (QVAR 80 HFA) delivering 80 micrograms of beclomethasone per puff. QVAR will be purchased by the Department of Genetic Medicine. The dose will be 2 puffs twice a day for 7 days"
        ],
        [
         "28",
         "NCT00534703",
         "PHASE2",
         "DRUG",
         "AAV1/SERCA2a will be delivered by a percutaneous method in the catheter laboratory. Dose: 1x 10\\^13 DRP (DNase resistant particles) | Placebo aliquots will be of the same composition as the investigational medicinal product with the absence of the active ingredient and will be visually indistinguishable from the medicinal product. Placebo is prepared and handled exactly as above in a blinded fashion."
        ],
        [
         "29",
         "NCT00534703",
         "PHASE2",
         "GENETIC",
         "AAV1/SERCA2a will be delivered by a percutaneous method in the catheter laboratory. Dose: 1x 10\\^13 DRP (DNase resistant particles) | Placebo aliquots will be of the same composition as the investigational medicinal product with the absence of the active ingredient and will be visually indistinguishable from the medicinal product. Placebo is prepared and handled exactly as above in a blinded fashion."
        ],
        [
         "30",
         "NCT00554996",
         "PHASE1",
         "DEVICE",
         "E. coli 83972 coated urinary catheter"
        ],
        [
         "31",
         "NCT00570050",
         "PHASE3",
         "DRUG",
         "Diluent (4 Weeks ) / Intranasal insulin (4 weeks) | Intranasal Insulin (4 Weeks ) / Diluent (4 Weeks)"
        ],
        [
         "32",
         "NCT00571246",
         "PHASE3",
         "DRUG",
         "Participants are randomized to take Lamotrigine (250 mg/day) 2 times a day | Participants are randomized to take Topiramate (250mg/day) 2 times a day | Participants are randomized to take placebo"
        ],
        [
         "33",
         "NCT00571246",
         "PHASE3",
         "OTHER",
         "Participants are randomized to take Lamotrigine (250 mg/day) 2 times a day | Participants are randomized to take Topiramate (250mg/day) 2 times a day | Participants are randomized to take placebo"
        ],
        [
         "34",
         "NCT00572689",
         "PHASE4",
         "DRUG",
         "10 microgram injected sub-cutaneously once | Buccal/blood Sample collection for TCF7L2 polymorphism genetic testing"
        ],
        [
         "35",
         "NCT00572689",
         "PHASE4",
         "GENETIC",
         "10 microgram injected sub-cutaneously once | Buccal/blood Sample collection for TCF7L2 polymorphism genetic testing"
        ],
        [
         "36",
         "NCT00593164",
         "PHASE2",
         "DEVICE",
         "Cooling with LRS ThermoSuit within 15 minutes of intravenous Magnesium Sulfate infusion (30 mg/kg, added to 100 ml normal NaCl solution, given over 15 min). | Cooling with LRS ThermoSuit within 15 minutes of normal saline infusion (100 ml of normal NaCl solution, given over 15 min)."
        ],
        [
         "37",
         "NCT00603460",
         "PHASE1/PHASE2",
         "BIOLOGICAL",
         "Arm A\n\n* Optional DCVax-L prior to chemotherapy\n* Apheresis\n* Chemotherapy for 3 days (IV fludarabine/cyclosphosphamide)\n* Infusion of activated T cells\n* DCVax-L vaccine\n* End of study visit\n\nArm B\n\n* Optional DCVax-L prior to chemotherapy\n* Apheresis\n* Chemotherapy for 3 days (IV fludarabine/cyclosphosphamide)\n* Infusion of activated T cells\n* DCVax-L vaccine\n* Oral cyclophosphamide (one week on/one week off) for a total for a total of 6 weeks\n* End of study visit"
        ],
        [
         "38",
         "NCT00640094",
         "PHASE2",
         "DRUG",
         "Patients will receive a total intravenous melatonin dose of 12 mg + intracoronary melatonin dose of 2 mg. The intravenous dose will be distributed in a volume of 50 ml of a isotonic and sterile solution and administered by intravenous infusion during 60 minutes. The intracoronary dose will be distributed in a volume of 10 ml of a isotonic and sterile solution and administered as a bolus."
        ],
        [
         "39",
         "NCT00640445",
         "PHASE2/PHASE3",
         "BEHAVIORAL",
         "In EW, people are asked to write about their deepest thoughts and feelings surrounding a significant life event for 20 minutes a day for 4 days | Those assigned to control writing conditions are asked to describe factual information for 20 minutes a day for 4 days."
        ],
        [
         "40",
         "NCT00642252",
         "PHASE1",
         "DRUG",
         "Over-the-counter level of fluoride (226 ppm) in a fluoride mouthrinse; FDA considers fluoride in a rinse formulation as a 'drug'; dosage is 10 mL per treatment. | Over-the-counter level of fluoride (226 ppm) plus calcium (30 ppm) in a fluoride mouthrinse; FDA considers fluoride in a rinse formulation as a 'drug'; dosage is 10 mL per treatment."
        ],
        [
         "41",
         "NCT00662298",
         "PHASE4",
         "DRUG",
         "40mg of prednisolone once a day for 14 days"
        ],
        [
         "42",
         "NCT00669162",
         "PHASE1/PHASE2",
         "DRUG",
         "20mg/m2 IV weekly for 7 weeks | 66.0 Gy delivered in 33 daily fractions at 2.0 Gy/fx | Casodex 50 mg po daily for 6 months, and Zoladex 10.8 mg sc q 3 mos x 2 (or Lupron 22.5 mg im q 3 mos x 2)"
        ],
        [
         "43",
         "NCT00669162",
         "PHASE1/PHASE2",
         "RADIATION",
         "20mg/m2 IV weekly for 7 weeks | 66.0 Gy delivered in 33 daily fractions at 2.0 Gy/fx | Casodex 50 mg po daily for 6 months, and Zoladex 10.8 mg sc q 3 mos x 2 (or Lupron 22.5 mg im q 3 mos x 2)"
        ],
        [
         "44",
         "NCT00673842",
         "PHASE3",
         "DEVICE",
         "Any Medtronic approved single chamber or dual chamber implantable cardioverter defibrillator (ICD) | Usual post-MI care"
        ],
        [
         "45",
         "NCT00673842",
         "PHASE3",
         "OTHER",
         "Any Medtronic approved single chamber or dual chamber implantable cardioverter defibrillator (ICD) | Usual post-MI care"
        ],
        [
         "46",
         "NCT00686556",
         "PHASE1",
         "BIOLOGICAL",
         "25 mg/m2/day intravenous as a 1 hour infusion for consecutive 3 days pre-transplant, total dose 75 mg/m2 | 5 mcg/kg/day intravenous or subcutaneous based on body weight beginning on Day +1 after umbilical cord blood infusion until absolute neutrophil count exceeds 2.5 x 10\\^9/L for 3 consecutive days. | 60 mg/kg/day intravenous x 2 days pre-transplant, total dose 120 mg/kg | Beginning on Day -3 pre-transplant maintaining a level of \\>200 ng/mL. CSA dosing will be monitored and altered as clinically appropriate by Pharm D or physician, and discontinue at approximately day + 180 post-transplant. | Beginning on day -3, use intravenous route between days -3 and +5, followed by oral administration on Day +6 through +30, if tolerated. 15mg/kg/dose for patients \\<40 kg, 3 gm/day for patients \\>40 kg. | Dose escalating schedule per Cohort (TMI: 300 cGy) once daily. | Related donor bone marrow or mobilized stem cells will be collected (target cell dose 5x10\\^8 nucleated cells/kg recipient weight, minimum 3x10\\^8 nucleated cells/kg recipient weight) and infused without processing on day 0 according to University of Minnesota Blood and Marrow Transplant Program guidelines. | product will be infused via intravenous drip on Day 0 according to current University of Minnesota guidelines for Umbilical Cord Blood Grafts"
        ],
        [
         "47",
         "NCT00686556",
         "PHASE1",
         "DRUG",
         "25 mg/m2/day intravenous as a 1 hour infusion for consecutive 3 days pre-transplant, total dose 75 mg/m2 | 5 mcg/kg/day intravenous or subcutaneous based on body weight beginning on Day +1 after umbilical cord blood infusion until absolute neutrophil count exceeds 2.5 x 10\\^9/L for 3 consecutive days. | 60 mg/kg/day intravenous x 2 days pre-transplant, total dose 120 mg/kg | Beginning on Day -3 pre-transplant maintaining a level of \\>200 ng/mL. CSA dosing will be monitored and altered as clinically appropriate by Pharm D or physician, and discontinue at approximately day + 180 post-transplant. | Beginning on day -3, use intravenous route between days -3 and +5, followed by oral administration on Day +6 through +30, if tolerated. 15mg/kg/dose for patients \\<40 kg, 3 gm/day for patients \\>40 kg. | Dose escalating schedule per Cohort (TMI: 300 cGy) once daily. | Related donor bone marrow or mobilized stem cells will be collected (target cell dose 5x10\\^8 nucleated cells/kg recipient weight, minimum 3x10\\^8 nucleated cells/kg recipient weight) and infused without processing on day 0 according to University of Minnesota Blood and Marrow Transplant Program guidelines. | product will be infused via intravenous drip on Day 0 according to current University of Minnesota guidelines for Umbilical Cord Blood Grafts"
        ],
        [
         "48",
         "NCT00686556",
         "PHASE1",
         "PROCEDURE",
         "25 mg/m2/day intravenous as a 1 hour infusion for consecutive 3 days pre-transplant, total dose 75 mg/m2 | 5 mcg/kg/day intravenous or subcutaneous based on body weight beginning on Day +1 after umbilical cord blood infusion until absolute neutrophil count exceeds 2.5 x 10\\^9/L for 3 consecutive days. | 60 mg/kg/day intravenous x 2 days pre-transplant, total dose 120 mg/kg | Beginning on Day -3 pre-transplant maintaining a level of \\>200 ng/mL. CSA dosing will be monitored and altered as clinically appropriate by Pharm D or physician, and discontinue at approximately day + 180 post-transplant. | Beginning on day -3, use intravenous route between days -3 and +5, followed by oral administration on Day +6 through +30, if tolerated. 15mg/kg/dose for patients \\<40 kg, 3 gm/day for patients \\>40 kg. | Dose escalating schedule per Cohort (TMI: 300 cGy) once daily. | Related donor bone marrow or mobilized stem cells will be collected (target cell dose 5x10\\^8 nucleated cells/kg recipient weight, minimum 3x10\\^8 nucleated cells/kg recipient weight) and infused without processing on day 0 according to University of Minnesota Blood and Marrow Transplant Program guidelines. | product will be infused via intravenous drip on Day 0 according to current University of Minnesota guidelines for Umbilical Cord Blood Grafts"
        ],
        [
         "49",
         "NCT00686556",
         "PHASE1",
         "RADIATION",
         "25 mg/m2/day intravenous as a 1 hour infusion for consecutive 3 days pre-transplant, total dose 75 mg/m2 | 5 mcg/kg/day intravenous or subcutaneous based on body weight beginning on Day +1 after umbilical cord blood infusion until absolute neutrophil count exceeds 2.5 x 10\\^9/L for 3 consecutive days. | 60 mg/kg/day intravenous x 2 days pre-transplant, total dose 120 mg/kg | Beginning on Day -3 pre-transplant maintaining a level of \\>200 ng/mL. CSA dosing will be monitored and altered as clinically appropriate by Pharm D or physician, and discontinue at approximately day + 180 post-transplant. | Beginning on day -3, use intravenous route between days -3 and +5, followed by oral administration on Day +6 through +30, if tolerated. 15mg/kg/dose for patients \\<40 kg, 3 gm/day for patients \\>40 kg. | Dose escalating schedule per Cohort (TMI: 300 cGy) once daily. | Related donor bone marrow or mobilized stem cells will be collected (target cell dose 5x10\\^8 nucleated cells/kg recipient weight, minimum 3x10\\^8 nucleated cells/kg recipient weight) and infused without processing on day 0 according to University of Minnesota Blood and Marrow Transplant Program guidelines. | product will be infused via intravenous drip on Day 0 according to current University of Minnesota guidelines for Umbilical Cord Blood Grafts"
        ]
       ],
       "shape": {
        "columns": 4,
        "rows": 98958
       }
      },
      "text/html": [
       "<div>\n",
       "<style scoped>\n",
       "    .dataframe tbody tr th:only-of-type {\n",
       "        vertical-align: middle;\n",
       "    }\n",
       "\n",
       "    .dataframe tbody tr th {\n",
       "        vertical-align: top;\n",
       "    }\n",
       "\n",
       "    .dataframe thead th {\n",
       "        text-align: right;\n",
       "    }\n",
       "</style>\n",
       "<table border=\"1\" class=\"dataframe\">\n",
       "  <thead>\n",
       "    <tr style=\"text-align: right;\">\n",
       "      <th></th>\n",
       "      <th>nct_id</th>\n",
       "      <th>phase</th>\n",
       "      <th>intervention_type</th>\n",
       "      <th>interv_desc</th>\n",
       "    </tr>\n",
       "  </thead>\n",
       "  <tbody>\n",
       "    <tr>\n",
       "      <th>0</th>\n",
       "      <td>NCT00125528</td>\n",
       "      <td>PHASE2</td>\n",
       "      <td>DRUG</td>\n",
       "      <td>D-cycloserine 50 mg bid; D-cycloserine 100 mg ...</td>\n",
       "    </tr>\n",
       "    <tr>\n",
       "      <th>1</th>\n",
       "      <td>NCT00170209</td>\n",
       "      <td>PHASE3</td>\n",
       "      <td>DRUG</td>\n",
       "      <td>The dosage of the medication is determined acc...</td>\n",
       "    </tr>\n",
       "    <tr>\n",
       "      <th>2</th>\n",
       "      <td>NCT00194714</td>\n",
       "      <td>PHASE1/PHASE2</td>\n",
       "      <td>BIOLOGICAL</td>\n",
       "      <td>Correlative studies | Given ID</td>\n",
       "    </tr>\n",
       "    <tr>\n",
       "      <th>3</th>\n",
       "      <td>NCT00194714</td>\n",
       "      <td>PHASE1/PHASE2</td>\n",
       "      <td>OTHER</td>\n",
       "      <td>Correlative studies | Given ID</td>\n",
       "    </tr>\n",
       "    <tr>\n",
       "      <th>4</th>\n",
       "      <td>NCT00293735</td>\n",
       "      <td>PHASE2/PHASE3</td>\n",
       "      <td>DRUG</td>\n",
       "      <td>20mg IV (can be increased to an escalating dos...</td>\n",
       "    </tr>\n",
       "    <tr>\n",
       "      <th>...</th>\n",
       "      <td>...</td>\n",
       "      <td>...</td>\n",
       "      <td>...</td>\n",
       "      <td>...</td>\n",
       "    </tr>\n",
       "    <tr>\n",
       "      <th>98953</th>\n",
       "      <td>NCT07173179</td>\n",
       "      <td>PHASE4</td>\n",
       "      <td>DRUG</td>\n",
       "      <td>All patients in this group receive preprocedur...</td>\n",
       "    </tr>\n",
       "    <tr>\n",
       "      <th>98954</th>\n",
       "      <td>NCT07173738</td>\n",
       "      <td>PHASE1</td>\n",
       "      <td>DRUG</td>\n",
       "      <td>During treatment period 1, a single oral dose ...</td>\n",
       "    </tr>\n",
       "    <tr>\n",
       "      <th>98955</th>\n",
       "      <td>NCT07174011</td>\n",
       "      <td>PHASE4</td>\n",
       "      <td>DRUG</td>\n",
       "      <td>Phosphodiesterase-4 (PDE4) inhibitor assigned ...</td>\n",
       "    </tr>\n",
       "    <tr>\n",
       "      <th>98956</th>\n",
       "      <td>NCT07174024</td>\n",
       "      <td>PHASE4</td>\n",
       "      <td>DEVICE</td>\n",
       "      <td>type of diode | type of phototherapy</td>\n",
       "    </tr>\n",
       "    <tr>\n",
       "      <th>98957</th>\n",
       "      <td>NCT07176832</td>\n",
       "      <td>PHASE1</td>\n",
       "      <td>DRUG</td>\n",
       "      <td>Single oral administration of 1,000 mg stiripe...</td>\n",
       "    </tr>\n",
       "  </tbody>\n",
       "</table>\n",
       "<p>98958 rows × 4 columns</p>\n",
       "</div>"
      ],
      "text/plain": [
       "            nct_id          phase intervention_type  \\\n",
       "0      NCT00125528         PHASE2              DRUG   \n",
       "1      NCT00170209         PHASE3              DRUG   \n",
       "2      NCT00194714  PHASE1/PHASE2        BIOLOGICAL   \n",
       "3      NCT00194714  PHASE1/PHASE2             OTHER   \n",
       "4      NCT00293735  PHASE2/PHASE3              DRUG   \n",
       "...            ...            ...               ...   \n",
       "98953  NCT07173179         PHASE4              DRUG   \n",
       "98954  NCT07173738         PHASE1              DRUG   \n",
       "98955  NCT07174011         PHASE4              DRUG   \n",
       "98956  NCT07174024         PHASE4            DEVICE   \n",
       "98957  NCT07176832         PHASE1              DRUG   \n",
       "\n",
       "                                             interv_desc  \n",
       "0      D-cycloserine 50 mg bid; D-cycloserine 100 mg ...  \n",
       "1      The dosage of the medication is determined acc...  \n",
       "2                         Correlative studies | Given ID  \n",
       "3                         Correlative studies | Given ID  \n",
       "4      20mg IV (can be increased to an escalating dos...  \n",
       "...                                                  ...  \n",
       "98953  All patients in this group receive preprocedur...  \n",
       "98954  During treatment period 1, a single oral dose ...  \n",
       "98955  Phosphodiesterase-4 (PDE4) inhibitor assigned ...  \n",
       "98956               type of diode | type of phototherapy  \n",
       "98957  Single oral administration of 1,000 mg stiripe...  \n",
       "\n",
       "[98958 rows x 4 columns]"
      ]
     },
     "execution_count": 205,
     "metadata": {},
     "output_type": "execute_result"
    }
   ],
   "source": [
    "# Merge all different descriptions per nct_id (intervention_type) \n",
    "my_intervention_methods['description'] = my_intervention_methods.groupby('nct_id')['description'].transform(\n",
    "    lambda x: ['|'.join(i for i in x if pd.notnull(i))] * len(x)) # same number of rows = 327k\n",
    "    # SOS tranform wont drop intervention_type column --> no need to groupby that also\n",
    "\n",
    "my_intervention_methods2['interventions_description'] = my_intervention_methods2.groupby('nct_id')\\\n",
    "    ['interventions_description'].transform(\n",
    "    lambda x: ['|'.join(i for i in x if pd.notnull(i))] * len(x))\n",
    "\n",
    "# Drop Duplicates\n",
    "my_intervention_methods = my_intervention_methods.drop_duplicates(subset=['nct_id', 'intervention_type', 'description'])\n",
    "my_intervention_methods2 = my_intervention_methods2.drop_duplicates(subset = ['nct_id', 'interventions_description'])\n",
    "\n",
    "# display(my_intervention_methods2, my_intervention_methods)\n",
    "\n",
    "# ==============================================================================\n",
    "# Merge both dfs\n",
    "my_intervention_methods = my_intervention_methods.merge(my_intervention_methods2[['nct_id', 'interventions_description']],\n",
    "                            on = \"nct_id\", how = \"outer\") \n",
    "\n",
    "my_intervention_methods['interv_desc'] = my_intervention_methods[['description', 'interventions_description']].apply(\n",
    "    lambda x: '|'.join(str(i) for i in x if pd.notnull(i)), axis = 1)\n",
    "\n",
    "# Drop intial columns\n",
    "my_intervention_methods = my_intervention_methods.drop(columns = ['description', 'interventions_description'], axis = 1)\n",
    "\n",
    "# ==============================================================================\n",
    "# Split to list\n",
    "my_intervention_methods['interv_desc'] = my_intervention_methods['interv_desc'].apply(lambda x: x.split('|') if x != '|' else [])\n",
    "# Unique list values\n",
    "my_intervention_methods['interv_desc'] =  my_intervention_methods['interv_desc'].apply(\n",
    "  lambda x: sorted(set(x))  if isinstance(x, list) else x)\n",
    "\n",
    "# ==============================================================================\n",
    "# Remake string to drop duplicates\n",
    "my_intervention_methods['interv_desc'] = my_intervention_methods['interv_desc'].apply(\n",
    "    lambda x: ' | '.join(x) if isinstance(x, list) else str(x))\n",
    "\n",
    "# Drop Dusplicated rows\n",
    "my_intervention_methods = my_intervention_methods.drop_duplicates(subset = ['nct_id', 'interv_desc', 'intervention_type'])\n",
    "\n",
    "display(my_intervention_methods['nct_id'].nunique()) # same nunique as started --> not nct_ids lost\n",
    "my_intervention_methods"
   ]
  },
  {
   "cell_type": "code",
   "execution_count": 206,
   "id": "49263abd",
   "metadata": {},
   "outputs": [
    {
     "data": {
      "application/vnd.microsoft.datawrangler.viewer.v0+json": {
       "columns": [
        {
         "name": "index",
         "rawType": "int64",
         "type": "integer"
        },
        {
         "name": "nct_id",
         "rawType": "object",
         "type": "string"
        },
        {
         "name": "phase",
         "rawType": "object",
         "type": "string"
        },
        {
         "name": "intervention_type",
         "rawType": "object",
         "type": "string"
        },
        {
         "name": "interv_desc",
         "rawType": "object",
         "type": "string"
        },
        {
         "name": "interv_method",
         "rawType": "object",
         "type": "unknown"
        }
       ],
       "ref": "4fbe30ac-4cc2-4198-b084-618d6a57549b",
       "rows": [
        [
         "0",
         "NCT00125528",
         "PHASE2",
         "DRUG",
         "D-cycloserine 50 mg bid; D-cycloserine 100 mg bid; D-cycloserine 200 mg bid | placebo bid",
         "[]"
        ],
        [
         "1",
         "NCT00170209",
         "PHASE3",
         "DRUG",
         "The dosage of the medication is determined according to the weight of the child. The dose is once per day, 10-15 mg/kg/day (max=300mg/day). Total duration of treatment is 9 months. Both a detailed dose chart calculating doses by weight and age and protocols for preparation of medications (crushing pills, mixing suspensions) are available. | The dosage of the medication is determined according to the weight of the child. The dose is once per day, 10-20 mg/kg/day (max=600mg/day). Total duration of treatment is 4 months. Both a detailed dose chart calculating doses by weight and age and protocols for preparation of medications (crushing pills, mixing suspensions) are available.",
         "['Oral']"
        ],
        [
         "2",
         "NCT00194714",
         "PHASE1/PHASE2",
         "BIOLOGICAL",
         "Correlative studies | Given ID",
         "['Injection']"
        ],
        [
         "3",
         "NCT00194714",
         "PHASE1/PHASE2",
         "OTHER",
         "Correlative studies | Given ID",
         "['Injection']"
        ],
        [
         "4",
         "NCT00293735",
         "PHASE2/PHASE3",
         "DRUG",
         "20mg IV (can be increased to an escalating dose of maximum of 80 mg (20mg, 40 mg, 80 mg q 20min) Cumulative max of 240 mg.\n\n20mg labetalol PO every 6 hours | 4-6g bolus over 20 minutes; 1-2 grams/hr Discontinued 24 hours after delivery.",
         "['Injection', 'Oral']"
        ],
        [
         "5",
         "NCT00306059",
         "PHASE2",
         "PROCEDURE",
         "Directed therapy during 6 hours after occurence of the early phase of acute kidney injury.",
         "[]"
        ],
        [
         "6",
         "NCT00307905",
         "PHASE3",
         "DRUG",
         "homeopathic remedy | identical size, shape and taste of treatment medication",
         "[]"
        ],
        [
         "7",
         "NCT00328809",
         "PHASE4",
         "DRUG",
         "spironolactone administered to ESRD patients at low dose",
         "[]"
        ],
        [
         "8",
         "NCT00329641",
         "PHASE2",
         "DRUG",
         "Given IV | Given orally",
         "['Injection', 'Oral']"
        ],
        [
         "9",
         "non_interv",
         "non_interv",
         "non_interv",
         "non_interv",
         "non_interv"
        ],
        [
         "10",
         "NCT00362219",
         "PHASE3",
         "DRUG",
         "Gel with 0.75 mg morphine per 100cm2 square of wound. | Gel with 1.25 mg morphine per 100cm2 square of wound. | Gel with no active ingredient. | gel with 0.25 mg morphine per 100cm2 square of wound.",
         "['Topical']"
        ],
        [
         "11",
         "NCT00362219",
         "PHASE3",
         "OTHER",
         "Gel with 0.75 mg morphine per 100cm2 square of wound. | Gel with 1.25 mg morphine per 100cm2 square of wound. | Gel with no active ingredient. | gel with 0.25 mg morphine per 100cm2 square of wound.",
         "['Topical']"
        ],
        [
         "12",
         "NCT00372762",
         "PHASE3",
         "DRUG",
         "0.5mg to 2mg orally once or twice daily | 20mg to 80mg orally once or twice daily | Current dose of furosemide will be maintained and equivalent dose bumetanide will be used following crossover | Equivalent dose to pre-existing furosemide will be used",
         "['Oral']"
        ],
        [
         "13",
         "NCT00397501",
         "PHASE1/PHASE2",
         "BIOLOGICAL",
         "200mg/m2/day x 2 days; total dose 400mg/m2 Infused i.a. over 10 mins in 200ml of normal saline after MTX infusion | 2500 mg/day x 2 days; total dose 5000mg Infused over 10mins in 200ml saline beginning immediately after mannitol infusion | STS dose admin i.v. over 15mins @ 4hrs post carboplatin = 20gm/m2; STS dose admin i.v. over 15mins @ 8hrs post carboplatin = 16gm/m2 | Trastuzamab, 6mg/kg, within 48 hrs before BBBD\n\nThen, Trastuzumab, 2mg/kg, weekly until next BBBD Then continue for 12 cycles",
         "['Injection']"
        ],
        [
         "14",
         "NCT00397501",
         "PHASE1/PHASE2",
         "DRUG",
         "200mg/m2/day x 2 days; total dose 400mg/m2 Infused i.a. over 10 mins in 200ml of normal saline after MTX infusion | 2500 mg/day x 2 days; total dose 5000mg Infused over 10mins in 200ml saline beginning immediately after mannitol infusion | STS dose admin i.v. over 15mins @ 4hrs post carboplatin = 20gm/m2; STS dose admin i.v. over 15mins @ 8hrs post carboplatin = 16gm/m2 | Trastuzamab, 6mg/kg, within 48 hrs before BBBD\n\nThen, Trastuzumab, 2mg/kg, weekly until next BBBD Then continue for 12 cycles",
         "['Injection']"
        ],
        [
         "15",
         "NCT00397579",
         "PHASE1/PHASE2",
         "DRUG",
         "Intravenously via a 3 cc plastic syringe as a 15 minute bolus infusion daily for five days.",
         "['Injection']"
        ],
        [
         "16",
         "NCT00399594",
         "PHASE2/PHASE3",
         "PROCEDURE",
         "LV lead placement in region of latest mechanical velocity (tissue doppler) | LV lead placement in standard (lateral / posterolateral) position.",
         "['Surgical']"
        ],
        [
         "17",
         "NCT00422422",
         "PHASE2",
         "DRUG",
         "Oral solution\n\nEvaluation period (3 weeks up-titration):\n\nFor subjects ≥8 years:\n\n* \\~0.4 mg/kg bid for Week 1\n* \\~0.8 mg/kg bid for Week 2\n* \\~1.6 mg/kg bid for Week 3\n\nFor subjects \\<8 years:\n\n* \\~0.5 mg/kg bid for Week 1\n* \\~1.0 mg/kg bid for Week 2\n* \\~2.0 mg/kg bid for Week 3\n\nDown-titration period (up to 2 weeks):\n\nFor subjects ≥8 years:\n\n* \\~0.8 mg/kg bid for Week 4\n* \\~0.4 mg/kg bid for Week 5\n\nFor subjects \\<8 years:\n\n* \\~1.0 mg/kg bid for Week 4\n* \\~0.5 mg/kg bid for Week 5",
         "['Oral']"
        ],
        [
         "18",
         "NCT00448201",
         "PHASE2",
         "BIOLOGICAL",
         "0.5 mg/kg on day -3, 2.5 mg/kg on day -2 (groups 2, 3 and 4) and 3 mg/kg on day -1 (group 4 only) | 6.4 mg/kg by continuous IV infusion over 48 hours on Days -6 and -5 | A minimum total cluster of differentiation 34 (CD34)+ cell dose of 3 x 10\\^6 cells/kg and a maximum 8 x 10\\^6 cells/kg will be infused on day 0 | GM-CSF 500 ug everyday (QD) subcutaneously will be given to recipients who remain with an Absolute neutrophil count (ANC) \\< 1000/microliter (uL) past day 20 | Methotrexate 5 mg/m\\^2 per day on days +1, +3 and +6 | Minimum total CD34+ cells of 3 x 10\\^6 cells/kg and a maximum of 8 x 10\\^6 cells/kg will be infused on Day 0 | Suggested starting dose is 0.03 mg/kg po bid starting on Day -1 | fludarabine 30 mg/m\\^2/day x 5 days IV piggyback (IVPB) over 30 minutes on Days -7 through -3",
         "['Injection', 'Oral']"
        ],
        [
         "19",
         "NCT00448201",
         "PHASE2",
         "DRUG",
         "0.5 mg/kg on day -3, 2.5 mg/kg on day -2 (groups 2, 3 and 4) and 3 mg/kg on day -1 (group 4 only) | 6.4 mg/kg by continuous IV infusion over 48 hours on Days -6 and -5 | A minimum total cluster of differentiation 34 (CD34)+ cell dose of 3 x 10\\^6 cells/kg and a maximum 8 x 10\\^6 cells/kg will be infused on day 0 | GM-CSF 500 ug everyday (QD) subcutaneously will be given to recipients who remain with an Absolute neutrophil count (ANC) \\< 1000/microliter (uL) past day 20 | Methotrexate 5 mg/m\\^2 per day on days +1, +3 and +6 | Minimum total CD34+ cells of 3 x 10\\^6 cells/kg and a maximum of 8 x 10\\^6 cells/kg will be infused on Day 0 | Suggested starting dose is 0.03 mg/kg po bid starting on Day -1 | fludarabine 30 mg/m\\^2/day x 5 days IV piggyback (IVPB) over 30 minutes on Days -7 through -3",
         "['Injection', 'Oral']"
        ],
        [
         "20",
         "NCT00448201",
         "PHASE2",
         "PROCEDURE",
         "0.5 mg/kg on day -3, 2.5 mg/kg on day -2 (groups 2, 3 and 4) and 3 mg/kg on day -1 (group 4 only) | 6.4 mg/kg by continuous IV infusion over 48 hours on Days -6 and -5 | A minimum total cluster of differentiation 34 (CD34)+ cell dose of 3 x 10\\^6 cells/kg and a maximum 8 x 10\\^6 cells/kg will be infused on day 0 | GM-CSF 500 ug everyday (QD) subcutaneously will be given to recipients who remain with an Absolute neutrophil count (ANC) \\< 1000/microliter (uL) past day 20 | Methotrexate 5 mg/m\\^2 per day on days +1, +3 and +6 | Minimum total CD34+ cells of 3 x 10\\^6 cells/kg and a maximum of 8 x 10\\^6 cells/kg will be infused on Day 0 | Suggested starting dose is 0.03 mg/kg po bid starting on Day -1 | fludarabine 30 mg/m\\^2/day x 5 days IV piggyback (IVPB) over 30 minutes on Days -7 through -3",
         "['Injection', 'Oral']"
        ],
        [
         "21",
         "NCT00455039",
         "PHASE1/PHASE2",
         "DRUG",
         "Dose: 1500 mg daily",
         "[]"
        ],
        [
         "22",
         "NCT00455052",
         "PHASE1",
         "DRUG",
         "XMT-1001 is administered as an IV infusion once every 21 days. This expansion of the Phase 1 study is to confirm the MTD.",
         "['Injection']"
        ],
        [
         "23",
         "NCT00459641",
         "PHASE2",
         "DRUG",
         "Bone marrow aspirate or steroids | doses of up to 1 mg, 2 mg or 4 mg of TGplPTH1-34",
         "[]"
        ],
        [
         "24",
         "NCT00459641",
         "PHASE2",
         "OTHER",
         "Bone marrow aspirate or steroids | doses of up to 1 mg, 2 mg or 4 mg of TGplPTH1-34",
         "[]"
        ],
        [
         "25",
         "NCT00488605",
         "PHASE3",
         "DRUG",
         "Initial Therapy:Prednisone- by mouth 3 times/day daily as a 4-week course, then gradually decreased over 2 more weeks. Vinblastine-IV (into a vein)1 day/week for 6 weeks. Patients w/o evidence of active disease at this time will proceed to continuation therapy. If disease is improved or unchanged, pts. will receive additional therapy with: Prednisone- 3 divided doses by mouth for 3 days every week, from week 7-12. Vinblastine- IV 1day/week for 6 more weeks. If the disease is gone or better after this additional therapy continuation will begin. Continuation Therapy: 6-MP:by mouth daily until the end of month 12. Prednisone in 3 doses daily day 1-5 every 3 weeks until the end of month 12. Vinblastine IV day 1 every 3 weeks until the end of month 12. | Initial Therapy:Prednisone-by mouth 3x/day daily as a 4-week course then gradually decreased over 2 more weeks. Vinblastine- IV 1 day/week for 6 weeks. Methotrexate-a 24 hour IV infusion day 1 of weeks 1, 3, and 5, followed by leucovorin.The drug will be given by mouth. Pts w/o evidence of active disease at this time will proceed to continuation therapy. Pts whose disease is improved or unchanged will receive additional therapy w/:Prednisone- 3 divided doses, days 1-3 weekly from week 7-12. Vinblastine IV 1day/week for 6 more weeks. Methotrexate-a 24 hour IV infusion day 1 of week 7, 9, and 11, followed by leucovorin. If the disease is gone or better after this additional therapy continuation will begin. Continuation Therapy: 6-MP by mouth daily until the end of month 12. Prednisone- 3 doses daily days 1-5 every 3 weeks until the end of month 12. Vinblastine IV day 1 every 3 weeks until the end of month 12. Methotrexate by mouth once weekly until the end of month 12.",
         "['Injection', 'Oral']"
        ],
        [
         "26",
         "NCT00504322",
         "PHASE1/PHASE2",
         "GENETIC",
         "The placebo will be the salt water-sugar solution used as a vehicle for the vector. | Using Weill-IRB protocol #0011004683 dose escalation study to determine the highest non-toxic dose of the AdcuCD40L vector, this dose (likely 10\\^11 particle units) will be used for all individuals enrolled in this efficacy study. Since there is no evidence that delay of surgery for solid tumors for 15 days following diagnosis alters the prognosis, surgery for removal of the primary tumor will be carried out at either 5 or 15 days after administration of the vector (n= 12/group, including n=6 receiving the AdcuCD40L vector, and n=6 receiving placebo). This will permit assessment of the resulting data (in a randomized, blinded fashion) and the biologic responses to the AdCUCD40L vector over time.",
         "['Surgical']"
        ],
        [
         "27",
         "NCT00532584",
         "PHASE4",
         "DRUG",
         "The treatment with inhaled beclomethasone will be administered to Group A from Day 1 to Day 7 via a metered dose inhaler (QVAR 80 HFA) delivering 80 micrograms of beclomethasone per puff. QVAR will be purchased by the Department of Genetic Medicine. The dose will be 2 puffs twice a day for 7 days",
         "['Topical']"
        ],
        [
         "28",
         "NCT00534703",
         "PHASE2",
         "DRUG",
         "AAV1/SERCA2a will be delivered by a percutaneous method in the catheter laboratory. Dose: 1x 10\\^13 DRP (DNase resistant particles) | Placebo aliquots will be of the same composition as the investigational medicinal product with the absence of the active ingredient and will be visually indistinguishable from the medicinal product. Placebo is prepared and handled exactly as above in a blinded fashion.",
         "[]"
        ],
        [
         "29",
         "NCT00534703",
         "PHASE2",
         "GENETIC",
         "AAV1/SERCA2a will be delivered by a percutaneous method in the catheter laboratory. Dose: 1x 10\\^13 DRP (DNase resistant particles) | Placebo aliquots will be of the same composition as the investigational medicinal product with the absence of the active ingredient and will be visually indistinguishable from the medicinal product. Placebo is prepared and handled exactly as above in a blinded fashion.",
         "[]"
        ],
        [
         "30",
         "NCT00554996",
         "PHASE1",
         "DEVICE",
         "E. coli 83972 coated urinary catheter",
         "[]"
        ],
        [
         "31",
         "NCT00570050",
         "PHASE3",
         "DRUG",
         "Diluent (4 Weeks ) / Intranasal insulin (4 weeks) | Intranasal Insulin (4 Weeks ) / Diluent (4 Weeks)",
         "['Injection', 'Topical']"
        ],
        [
         "32",
         "NCT00571246",
         "PHASE3",
         "DRUG",
         "Participants are randomized to take Lamotrigine (250 mg/day) 2 times a day | Participants are randomized to take Topiramate (250mg/day) 2 times a day | Participants are randomized to take placebo",
         "[]"
        ],
        [
         "33",
         "NCT00571246",
         "PHASE3",
         "OTHER",
         "Participants are randomized to take Lamotrigine (250 mg/day) 2 times a day | Participants are randomized to take Topiramate (250mg/day) 2 times a day | Participants are randomized to take placebo",
         "[]"
        ],
        [
         "34",
         "NCT00572689",
         "PHASE4",
         "DRUG",
         "10 microgram injected sub-cutaneously once | Buccal/blood Sample collection for TCF7L2 polymorphism genetic testing",
         "['Injection', 'Oral']"
        ],
        [
         "35",
         "NCT00572689",
         "PHASE4",
         "GENETIC",
         "10 microgram injected sub-cutaneously once | Buccal/blood Sample collection for TCF7L2 polymorphism genetic testing",
         "['Injection', 'Oral']"
        ],
        [
         "36",
         "NCT00593164",
         "PHASE2",
         "DEVICE",
         "Cooling with LRS ThermoSuit within 15 minutes of intravenous Magnesium Sulfate infusion (30 mg/kg, added to 100 ml normal NaCl solution, given over 15 min). | Cooling with LRS ThermoSuit within 15 minutes of normal saline infusion (100 ml of normal NaCl solution, given over 15 min).",
         "['Injection']"
        ],
        [
         "37",
         "NCT00603460",
         "PHASE1/PHASE2",
         "BIOLOGICAL",
         "Arm A\n\n* Optional DCVax-L prior to chemotherapy\n* Apheresis\n* Chemotherapy for 3 days (IV fludarabine/cyclosphosphamide)\n* Infusion of activated T cells\n* DCVax-L vaccine\n* End of study visit\n\nArm B\n\n* Optional DCVax-L prior to chemotherapy\n* Apheresis\n* Chemotherapy for 3 days (IV fludarabine/cyclosphosphamide)\n* Infusion of activated T cells\n* DCVax-L vaccine\n* Oral cyclophosphamide (one week on/one week off) for a total for a total of 6 weeks\n* End of study visit",
         "['Injection', 'Oral']"
        ],
        [
         "38",
         "NCT00640094",
         "PHASE2",
         "DRUG",
         "Patients will receive a total intravenous melatonin dose of 12 mg + intracoronary melatonin dose of 2 mg. The intravenous dose will be distributed in a volume of 50 ml of a isotonic and sterile solution and administered by intravenous infusion during 60 minutes. The intracoronary dose will be distributed in a volume of 10 ml of a isotonic and sterile solution and administered as a bolus.",
         "['Injection']"
        ],
        [
         "39",
         "non_interv",
         "non_interv",
         "non_interv",
         "non_interv",
         "non_interv"
        ],
        [
         "40",
         "NCT00642252",
         "PHASE1",
         "DRUG",
         "Over-the-counter level of fluoride (226 ppm) in a fluoride mouthrinse; FDA considers fluoride in a rinse formulation as a 'drug'; dosage is 10 mL per treatment. | Over-the-counter level of fluoride (226 ppm) plus calcium (30 ppm) in a fluoride mouthrinse; FDA considers fluoride in a rinse formulation as a 'drug'; dosage is 10 mL per treatment.",
         "['Oral']"
        ],
        [
         "41",
         "NCT00662298",
         "PHASE4",
         "DRUG",
         "40mg of prednisolone once a day for 14 days",
         "[]"
        ],
        [
         "42",
         "NCT00669162",
         "PHASE1/PHASE2",
         "DRUG",
         "20mg/m2 IV weekly for 7 weeks | 66.0 Gy delivered in 33 daily fractions at 2.0 Gy/fx | Casodex 50 mg po daily for 6 months, and Zoladex 10.8 mg sc q 3 mos x 2 (or Lupron 22.5 mg im q 3 mos x 2)",
         "['Injection', 'Oral']"
        ],
        [
         "43",
         "NCT00669162",
         "PHASE1/PHASE2",
         "RADIATION",
         "20mg/m2 IV weekly for 7 weeks | 66.0 Gy delivered in 33 daily fractions at 2.0 Gy/fx | Casodex 50 mg po daily for 6 months, and Zoladex 10.8 mg sc q 3 mos x 2 (or Lupron 22.5 mg im q 3 mos x 2)",
         "['Injection', 'Oral']"
        ],
        [
         "44",
         "NCT00673842",
         "PHASE3",
         "DEVICE",
         "Any Medtronic approved single chamber or dual chamber implantable cardioverter defibrillator (ICD) | Usual post-MI care",
         "['Surgical']"
        ],
        [
         "45",
         "NCT00673842",
         "PHASE3",
         "OTHER",
         "Any Medtronic approved single chamber or dual chamber implantable cardioverter defibrillator (ICD) | Usual post-MI care",
         "['Surgical']"
        ],
        [
         "46",
         "NCT00686556",
         "PHASE1",
         "BIOLOGICAL",
         "25 mg/m2/day intravenous as a 1 hour infusion for consecutive 3 days pre-transplant, total dose 75 mg/m2 | 5 mcg/kg/day intravenous or subcutaneous based on body weight beginning on Day +1 after umbilical cord blood infusion until absolute neutrophil count exceeds 2.5 x 10\\^9/L for 3 consecutive days. | 60 mg/kg/day intravenous x 2 days pre-transplant, total dose 120 mg/kg | Beginning on Day -3 pre-transplant maintaining a level of \\>200 ng/mL. CSA dosing will be monitored and altered as clinically appropriate by Pharm D or physician, and discontinue at approximately day + 180 post-transplant. | Beginning on day -3, use intravenous route between days -3 and +5, followed by oral administration on Day +6 through +30, if tolerated. 15mg/kg/dose for patients \\<40 kg, 3 gm/day for patients \\>40 kg. | Dose escalating schedule per Cohort (TMI: 300 cGy) once daily. | Related donor bone marrow or mobilized stem cells will be collected (target cell dose 5x10\\^8 nucleated cells/kg recipient weight, minimum 3x10\\^8 nucleated cells/kg recipient weight) and infused without processing on day 0 according to University of Minnesota Blood and Marrow Transplant Program guidelines. | product will be infused via intravenous drip on Day 0 according to current University of Minnesota guidelines for Umbilical Cord Blood Grafts",
         "['Injection', 'Oral', 'Surgical']"
        ],
        [
         "47",
         "NCT00686556",
         "PHASE1",
         "DRUG",
         "25 mg/m2/day intravenous as a 1 hour infusion for consecutive 3 days pre-transplant, total dose 75 mg/m2 | 5 mcg/kg/day intravenous or subcutaneous based on body weight beginning on Day +1 after umbilical cord blood infusion until absolute neutrophil count exceeds 2.5 x 10\\^9/L for 3 consecutive days. | 60 mg/kg/day intravenous x 2 days pre-transplant, total dose 120 mg/kg | Beginning on Day -3 pre-transplant maintaining a level of \\>200 ng/mL. CSA dosing will be monitored and altered as clinically appropriate by Pharm D or physician, and discontinue at approximately day + 180 post-transplant. | Beginning on day -3, use intravenous route between days -3 and +5, followed by oral administration on Day +6 through +30, if tolerated. 15mg/kg/dose for patients \\<40 kg, 3 gm/day for patients \\>40 kg. | Dose escalating schedule per Cohort (TMI: 300 cGy) once daily. | Related donor bone marrow or mobilized stem cells will be collected (target cell dose 5x10\\^8 nucleated cells/kg recipient weight, minimum 3x10\\^8 nucleated cells/kg recipient weight) and infused without processing on day 0 according to University of Minnesota Blood and Marrow Transplant Program guidelines. | product will be infused via intravenous drip on Day 0 according to current University of Minnesota guidelines for Umbilical Cord Blood Grafts",
         "['Injection', 'Oral', 'Surgical']"
        ],
        [
         "48",
         "NCT00686556",
         "PHASE1",
         "PROCEDURE",
         "25 mg/m2/day intravenous as a 1 hour infusion for consecutive 3 days pre-transplant, total dose 75 mg/m2 | 5 mcg/kg/day intravenous or subcutaneous based on body weight beginning on Day +1 after umbilical cord blood infusion until absolute neutrophil count exceeds 2.5 x 10\\^9/L for 3 consecutive days. | 60 mg/kg/day intravenous x 2 days pre-transplant, total dose 120 mg/kg | Beginning on Day -3 pre-transplant maintaining a level of \\>200 ng/mL. CSA dosing will be monitored and altered as clinically appropriate by Pharm D or physician, and discontinue at approximately day + 180 post-transplant. | Beginning on day -3, use intravenous route between days -3 and +5, followed by oral administration on Day +6 through +30, if tolerated. 15mg/kg/dose for patients \\<40 kg, 3 gm/day for patients \\>40 kg. | Dose escalating schedule per Cohort (TMI: 300 cGy) once daily. | Related donor bone marrow or mobilized stem cells will be collected (target cell dose 5x10\\^8 nucleated cells/kg recipient weight, minimum 3x10\\^8 nucleated cells/kg recipient weight) and infused without processing on day 0 according to University of Minnesota Blood and Marrow Transplant Program guidelines. | product will be infused via intravenous drip on Day 0 according to current University of Minnesota guidelines for Umbilical Cord Blood Grafts",
         "['Injection', 'Oral', 'Surgical']"
        ],
        [
         "49",
         "NCT00686556",
         "PHASE1",
         "RADIATION",
         "25 mg/m2/day intravenous as a 1 hour infusion for consecutive 3 days pre-transplant, total dose 75 mg/m2 | 5 mcg/kg/day intravenous or subcutaneous based on body weight beginning on Day +1 after umbilical cord blood infusion until absolute neutrophil count exceeds 2.5 x 10\\^9/L for 3 consecutive days. | 60 mg/kg/day intravenous x 2 days pre-transplant, total dose 120 mg/kg | Beginning on Day -3 pre-transplant maintaining a level of \\>200 ng/mL. CSA dosing will be monitored and altered as clinically appropriate by Pharm D or physician, and discontinue at approximately day + 180 post-transplant. | Beginning on day -3, use intravenous route between days -3 and +5, followed by oral administration on Day +6 through +30, if tolerated. 15mg/kg/dose for patients \\<40 kg, 3 gm/day for patients \\>40 kg. | Dose escalating schedule per Cohort (TMI: 300 cGy) once daily. | Related donor bone marrow or mobilized stem cells will be collected (target cell dose 5x10\\^8 nucleated cells/kg recipient weight, minimum 3x10\\^8 nucleated cells/kg recipient weight) and infused without processing on day 0 according to University of Minnesota Blood and Marrow Transplant Program guidelines. | product will be infused via intravenous drip on Day 0 according to current University of Minnesota guidelines for Umbilical Cord Blood Grafts",
         "['Injection', 'Oral', 'Surgical']"
        ]
       ],
       "shape": {
        "columns": 5,
        "rows": 98958
       }
      },
      "text/html": [
       "<div>\n",
       "<style scoped>\n",
       "    .dataframe tbody tr th:only-of-type {\n",
       "        vertical-align: middle;\n",
       "    }\n",
       "\n",
       "    .dataframe tbody tr th {\n",
       "        vertical-align: top;\n",
       "    }\n",
       "\n",
       "    .dataframe thead th {\n",
       "        text-align: right;\n",
       "    }\n",
       "</style>\n",
       "<table border=\"1\" class=\"dataframe\">\n",
       "  <thead>\n",
       "    <tr style=\"text-align: right;\">\n",
       "      <th></th>\n",
       "      <th>nct_id</th>\n",
       "      <th>phase</th>\n",
       "      <th>intervention_type</th>\n",
       "      <th>interv_desc</th>\n",
       "      <th>interv_method</th>\n",
       "    </tr>\n",
       "  </thead>\n",
       "  <tbody>\n",
       "    <tr>\n",
       "      <th>0</th>\n",
       "      <td>NCT00125528</td>\n",
       "      <td>PHASE2</td>\n",
       "      <td>DRUG</td>\n",
       "      <td>D-cycloserine 50 mg bid; D-cycloserine 100 mg ...</td>\n",
       "      <td>[]</td>\n",
       "    </tr>\n",
       "    <tr>\n",
       "      <th>1</th>\n",
       "      <td>NCT00170209</td>\n",
       "      <td>PHASE3</td>\n",
       "      <td>DRUG</td>\n",
       "      <td>The dosage of the medication is determined acc...</td>\n",
       "      <td>[Oral]</td>\n",
       "    </tr>\n",
       "    <tr>\n",
       "      <th>2</th>\n",
       "      <td>NCT00194714</td>\n",
       "      <td>PHASE1/PHASE2</td>\n",
       "      <td>BIOLOGICAL</td>\n",
       "      <td>Correlative studies | Given ID</td>\n",
       "      <td>[Injection]</td>\n",
       "    </tr>\n",
       "    <tr>\n",
       "      <th>3</th>\n",
       "      <td>NCT00194714</td>\n",
       "      <td>PHASE1/PHASE2</td>\n",
       "      <td>OTHER</td>\n",
       "      <td>Correlative studies | Given ID</td>\n",
       "      <td>[Injection]</td>\n",
       "    </tr>\n",
       "    <tr>\n",
       "      <th>4</th>\n",
       "      <td>NCT00293735</td>\n",
       "      <td>PHASE2/PHASE3</td>\n",
       "      <td>DRUG</td>\n",
       "      <td>20mg IV (can be increased to an escalating dos...</td>\n",
       "      <td>[Injection, Oral]</td>\n",
       "    </tr>\n",
       "    <tr>\n",
       "      <th>...</th>\n",
       "      <td>...</td>\n",
       "      <td>...</td>\n",
       "      <td>...</td>\n",
       "      <td>...</td>\n",
       "      <td>...</td>\n",
       "    </tr>\n",
       "    <tr>\n",
       "      <th>98953</th>\n",
       "      <td>NCT07173179</td>\n",
       "      <td>PHASE4</td>\n",
       "      <td>DRUG</td>\n",
       "      <td>All patients in this group receive preprocedur...</td>\n",
       "      <td>[Injection, Oral]</td>\n",
       "    </tr>\n",
       "    <tr>\n",
       "      <th>98954</th>\n",
       "      <td>NCT07173738</td>\n",
       "      <td>PHASE1</td>\n",
       "      <td>DRUG</td>\n",
       "      <td>During treatment period 1, a single oral dose ...</td>\n",
       "      <td>[Oral]</td>\n",
       "    </tr>\n",
       "    <tr>\n",
       "      <th>98955</th>\n",
       "      <td>NCT07174011</td>\n",
       "      <td>PHASE4</td>\n",
       "      <td>DRUG</td>\n",
       "      <td>Phosphodiesterase-4 (PDE4) inhibitor assigned ...</td>\n",
       "      <td>[Injection]</td>\n",
       "    </tr>\n",
       "    <tr>\n",
       "      <th>98956</th>\n",
       "      <td>NCT07174024</td>\n",
       "      <td>PHASE4</td>\n",
       "      <td>DEVICE</td>\n",
       "      <td>type of diode | type of phototherapy</td>\n",
       "      <td>[Topical]</td>\n",
       "    </tr>\n",
       "    <tr>\n",
       "      <th>98957</th>\n",
       "      <td>NCT07176832</td>\n",
       "      <td>PHASE1</td>\n",
       "      <td>DRUG</td>\n",
       "      <td>Single oral administration of 1,000 mg stiripe...</td>\n",
       "      <td>[Oral]</td>\n",
       "    </tr>\n",
       "  </tbody>\n",
       "</table>\n",
       "<p>98958 rows × 5 columns</p>\n",
       "</div>"
      ],
      "text/plain": [
       "            nct_id          phase intervention_type  \\\n",
       "0      NCT00125528         PHASE2              DRUG   \n",
       "1      NCT00170209         PHASE3              DRUG   \n",
       "2      NCT00194714  PHASE1/PHASE2        BIOLOGICAL   \n",
       "3      NCT00194714  PHASE1/PHASE2             OTHER   \n",
       "4      NCT00293735  PHASE2/PHASE3              DRUG   \n",
       "...            ...            ...               ...   \n",
       "98953  NCT07173179         PHASE4              DRUG   \n",
       "98954  NCT07173738         PHASE1              DRUG   \n",
       "98955  NCT07174011         PHASE4              DRUG   \n",
       "98956  NCT07174024         PHASE4            DEVICE   \n",
       "98957  NCT07176832         PHASE1              DRUG   \n",
       "\n",
       "                                             interv_desc      interv_method  \n",
       "0      D-cycloserine 50 mg bid; D-cycloserine 100 mg ...                 []  \n",
       "1      The dosage of the medication is determined acc...             [Oral]  \n",
       "2                         Correlative studies | Given ID        [Injection]  \n",
       "3                         Correlative studies | Given ID        [Injection]  \n",
       "4      20mg IV (can be increased to an escalating dos...  [Injection, Oral]  \n",
       "...                                                  ...                ...  \n",
       "98953  All patients in this group receive preprocedur...  [Injection, Oral]  \n",
       "98954  During treatment period 1, a single oral dose ...             [Oral]  \n",
       "98955  Phosphodiesterase-4 (PDE4) inhibitor assigned ...        [Injection]  \n",
       "98956               type of diode | type of phototherapy          [Topical]  \n",
       "98957  Single oral administration of 1,000 mg stiripe...             [Oral]  \n",
       "\n",
       "[98958 rows x 5 columns]"
      ]
     },
     "execution_count": 206,
     "metadata": {},
     "output_type": "execute_result"
    }
   ],
   "source": [
    "# Injection\n",
    "injection1 = (\n",
    "    r\"\\binject|\\bvaccin|\\bbolus\\b|\\bvial\\b|\"\n",
    "    r\"\\barterial|\\bepidural|\"\n",
    "    r\"\\bsyring|\\binfuse\\b|\\binfusion\\b|\\bimmunization\\b|\\biv[^a-zA-Z]?push\\b|\"\n",
    "    r\"\\bdrip\\b|\\bchemotherapy\\b|\\binsulin\\b|\\bparenteral\\b|\\bblood\\b|\"\n",
    "    r\"\\bantibod\\b|\\bgraft\\b|cells/kg|mg/m2|gm/m2|platin\\b|zamab.cyrcles\\b|\" \n",
    "\n",
    "    r\"\\bsub[^a-zA-Z]?(?:cutaneous)|\"\n",
    "    r\"\\bintra[^a-zA-Z]?(?:arterial|muscular|venous|thecal|osseous|peritoneal|dermal|ocular|urethral|uterine|articular|\\\n",
    "    tympanic|cutaneous|spinal|ventricular|lesional|lymphatic)\\b\"\n",
    ")\n",
    "\n",
    "injection2 = (\n",
    "    r\"(?<!\\w)(?:iv|i\\.v\\.|im|i\\.m\\.|i\\.a\\.|sc|sq|it|ip|ivpush|ivdrip|id|\\bcc\\b|\\bc\\.c\\b)(?!\\w)\"\n",
    ")\n",
    "\n",
    "# Surgical\n",
    "surgical1 = (\n",
    "    r\"\\bsurg|\\boperat|\\bincision|\\bresection|\\btransplant|\"\n",
    "    r\"\\bstent\\b|\\blaparoscop|\\bablation\\b|\\bimplant|micro[^a-zA-Z]?surgery|\"\n",
    "    r\"\\btrephinat|\\bamputat|\\bbiopsy\\b|bariatric surgery|\"\n",
    "    r\"\\bexcision\\b|oplasty\\b|\\bbypass\\b|anastomosis|operation|\"\n",
    "    r\"\\banastomos|\\baugmentation\\b|\\bsutur|lead placement|\"\n",
    "    r\"[a-zA-Z]*(?:ectomy|oscopy|otomy)\\b\"    # oscopy e.g colonoscopy, with the meaning of more interventional examine.\n",
    ")\n",
    "\n",
    "# Oral\n",
    "oral1 = (\n",
    "    r\"\\boral|\\borally\\b|tablet|\\btabs\\b|\\btab\\b|capsule|pill|supplement|mouth|sublingual|\"\n",
    "    r\"chew|lozenge|syrup|liquid|elixir|granule|\\blick|sublingual|buccal\"\n",
    "    )\n",
    "\n",
    "oral2 = (\n",
    "    r\"\\bpo\\b|\\bper os\\b|\\bp\\.o\\.\\b|\\bp\\.o\\.\\b|\\bperos\\b\"\n",
    "    )\n",
    "\n",
    "# Topical\n",
    "topical1 = (\n",
    "    r\"\\bgel\\b|gels|patch|patches|cream|creams|ointment|ointments|balm|balms|nebul|\" \\\n",
    "    r\"paste|eye drop|ear drop|cm2 square|\"\n",
    "    r\"nebulizer|toothpaste|intranasal|nasal|inhal|inhaler|aerosol|lotion|lotions|\"\n",
    "    r\"vaginal|rectal|spray|sprays|drops|ophthalm|\\botic|transdermal|suppository|\"\n",
    "    r\"douche|mouthwash|swish|enema|gargle|radio|radiation|photo-therpy|phototherapy|\" \\\n",
    "    r\"dermabrasion|ultrasound\"\n",
    ")\n",
    "# Save for using in Thesis file too\n",
    "interv_data = {\n",
    "    \"oral1\": oral1,\n",
    "    \"oral2\":oral2,\n",
    "    \"injection1\": injection1,\n",
    "    \"injection2\": injection2,\n",
    "    \"topical1\": topical1,\n",
    "    \"surgical1\": surgical1}\n",
    "\n",
    "with open(r\".\\thesis_data\\str_oral_injection_surgical_topical.pkl\", \"wb\") as f:\n",
    "    pickle.dump(interv_data, f)\n",
    "\n",
    "# ==============================================================================================================================#\n",
    "# Search intervention worlds within text\n",
    "# Injection\n",
    "my_intervention_methods.loc[\n",
    "    my_intervention_methods['interv_desc'].str.contains(injection1, case = False, na = False), \n",
    "    'Injection'] = \"Injection\"\n",
    "my_intervention_methods.loc[\n",
    "    my_intervention_methods['interv_desc'].str.lower().str.contains(injection2, case = True, na=False),\n",
    "    'Injection'] = \"Injection\"  # str.lower() --> case = True\n",
    "# Oral\n",
    "my_intervention_methods.loc[\n",
    "    my_intervention_methods['interv_desc'].str.contains(oral1, case = False, na = False), \n",
    "    'Oral'] = \"Oral\"\n",
    "my_intervention_methods.loc[\n",
    "    my_intervention_methods['interv_desc'].str.lower().str.contains(oral2.lower(), case = True, na = False), \n",
    "    'Oral'] = \"Oral\"  # str.lower() --> case = True\n",
    "# Topical\n",
    "my_intervention_methods.loc[\n",
    "    my_intervention_methods['interv_desc'].str.contains(topical1, case = False, na = False), \n",
    "    'Topical'] = \"Topical\"\n",
    "# Surgery\n",
    "my_intervention_methods.loc[\n",
    "    my_intervention_methods['interv_desc'].str.contains(surgical1, case = False, na = False),\n",
    "    'Surgical'] = \"Surgical\"\n",
    "\n",
    "# ==============================================================================================================================#\n",
    "# Merge all columns to 1\n",
    "my_intervention_methods[\"interv_method\"] = my_intervention_methods[[\"Injection\", \"Oral\", \"Topical\", \"Surgical\"]].apply(\n",
    "    lambda row: [val for val in row if pd.notna(val)], axis = 1)\n",
    "\n",
    "my_intervention_methods = my_intervention_methods.drop(columns = ['Oral', 'Topical', 'Injection', 'Surgical'])\n",
    "\n",
    "# ==============================================================================================================================#\n",
    "# Fill BEHAVIORAL nan rows\n",
    "my_intervention_methods.loc[my_intervention_methods['intervention_type'].apply(lambda x: x == 'BEHAVIORAL') &\n",
    "                            my_intervention_methods['interv_method'].apply(lambda x: x ==[])] = 'non_interv'\n",
    "\n",
    "# ==============================================================================================================================#\n",
    "# Check 'interv_desc' texts and 'interv_method' outputs\n",
    "my_intervention_methods  \n"
   ]
  },
  {
   "cell_type": "code",
   "execution_count": 207,
   "id": "49da6391",
   "metadata": {},
   "outputs": [
    {
     "data": {
      "application/vnd.microsoft.datawrangler.viewer.v0+json": {
       "columns": [
        {
         "name": "index",
         "rawType": "int64",
         "type": "integer"
        },
        {
         "name": "nct_id",
         "rawType": "object",
         "type": "string"
        },
        {
         "name": "interv_method",
         "rawType": "object",
         "type": "unknown"
        }
       ],
       "ref": "cf93dbc8-37c5-49e1-bbcd-3d7e6c8433f8",
       "rows": [
        [
         "1",
         "NCT00170209",
         "['Oral']"
        ],
        [
         "2",
         "NCT00194714",
         "['Injection']"
        ],
        [
         "3",
         "NCT00293735",
         "['Injection', 'Oral']"
        ],
        [
         "7",
         "NCT00329641",
         "['Injection', 'Oral']"
        ],
        [
         "8",
         "NCT00362219",
         "['Topical']"
        ],
        [
         "9",
         "NCT00372762",
         "['Oral']"
        ],
        [
         "10",
         "NCT00397501",
         "['Injection']"
        ],
        [
         "11",
         "NCT00397579",
         "['Injection']"
        ],
        [
         "12",
         "NCT00399594",
         "['Surgical']"
        ],
        [
         "13",
         "NCT00422422",
         "['Oral']"
        ],
        [
         "14",
         "NCT00448201",
         "['Injection', 'Oral']"
        ],
        [
         "16",
         "NCT00455052",
         "['Injection']"
        ],
        [
         "18",
         "NCT00488605",
         "['Injection', 'Oral']"
        ],
        [
         "19",
         "NCT00504322",
         "['Surgical']"
        ],
        [
         "20",
         "NCT00532584",
         "['Topical']"
        ],
        [
         "23",
         "NCT00570050",
         "['Injection', 'Topical']"
        ],
        [
         "25",
         "NCT00572689",
         "['Injection', 'Oral']"
        ],
        [
         "26",
         "NCT00593164",
         "['Injection']"
        ],
        [
         "27",
         "NCT00603460",
         "['Injection', 'Oral']"
        ],
        [
         "28",
         "NCT00640094",
         "['Injection']"
        ],
        [
         "29",
         "NCT00642252",
         "['Oral']"
        ],
        [
         "31",
         "NCT00669162",
         "['Injection', 'Oral']"
        ],
        [
         "32",
         "NCT00673842",
         "['Surgical']"
        ],
        [
         "33",
         "NCT00686556",
         "['Injection', 'Oral', 'Surgical']"
        ],
        [
         "34",
         "NCT00701233",
         "['Injection']"
        ],
        [
         "35",
         "NCT00711841",
         "['Injection']"
        ],
        [
         "37",
         "NCT00730067",
         "['Oral']"
        ],
        [
         "38",
         "NCT00737893",
         "['Injection', 'Surgical']"
        ],
        [
         "39",
         "NCT00739375",
         "['Injection']"
        ],
        [
         "41",
         "NCT00753402",
         "['Injection']"
        ],
        [
         "43",
         "NCT00760825",
         "['Oral']"
        ],
        [
         "45",
         "NCT00764478",
         "['Oral']"
        ],
        [
         "46",
         "NCT00784966",
         "['Injection', 'Surgical']"
        ],
        [
         "49",
         "NCT00799214",
         "['Topical']"
        ],
        [
         "50",
         "NCT00799864",
         "['Oral']"
        ],
        [
         "51",
         "NCT00805610",
         "['Surgical']"
        ],
        [
         "53",
         "NCT00813969",
         "['Injection']"
        ],
        [
         "54",
         "NCT00815516",
         "['Injection']"
        ],
        [
         "56",
         "NCT00826085",
         "['Injection']"
        ],
        [
         "57",
         "NCT00828009",
         "['Injection', 'Topical']"
        ],
        [
         "58",
         "NCT00831480",
         "['Oral', 'Surgical']"
        ],
        [
         "59",
         "NCT00837291",
         "['Oral']"
        ],
        [
         "60",
         "NCT00850122",
         "['Injection']"
        ],
        [
         "61",
         "NCT00853489",
         "['Injection', 'Surgical']"
        ],
        [
         "63",
         "NCT00855283",
         "['Oral', 'Topical']"
        ],
        [
         "65",
         "NCT00860366",
         "['Injection']"
        ],
        [
         "66",
         "NCT00862433",
         "['Injection', 'Oral']"
        ],
        [
         "68",
         "NCT00867672",
         "['Injection']"
        ],
        [
         "69",
         "NCT00869024",
         "['Injection']"
        ],
        [
         "70",
         "NCT00876772",
         "['Oral']"
        ]
       ],
       "shape": {
        "columns": 2,
        "rows": 54476
       }
      },
      "text/html": [
       "<div>\n",
       "<style scoped>\n",
       "    .dataframe tbody tr th:only-of-type {\n",
       "        vertical-align: middle;\n",
       "    }\n",
       "\n",
       "    .dataframe tbody tr th {\n",
       "        vertical-align: top;\n",
       "    }\n",
       "\n",
       "    .dataframe thead th {\n",
       "        text-align: right;\n",
       "    }\n",
       "</style>\n",
       "<table border=\"1\" class=\"dataframe\">\n",
       "  <thead>\n",
       "    <tr style=\"text-align: right;\">\n",
       "      <th></th>\n",
       "      <th>nct_id</th>\n",
       "      <th>interv_method</th>\n",
       "    </tr>\n",
       "  </thead>\n",
       "  <tbody>\n",
       "    <tr>\n",
       "      <th>1</th>\n",
       "      <td>NCT00170209</td>\n",
       "      <td>[Oral]</td>\n",
       "    </tr>\n",
       "    <tr>\n",
       "      <th>2</th>\n",
       "      <td>NCT00194714</td>\n",
       "      <td>[Injection]</td>\n",
       "    </tr>\n",
       "    <tr>\n",
       "      <th>3</th>\n",
       "      <td>NCT00293735</td>\n",
       "      <td>[Injection, Oral]</td>\n",
       "    </tr>\n",
       "    <tr>\n",
       "      <th>7</th>\n",
       "      <td>NCT00329641</td>\n",
       "      <td>[Injection, Oral]</td>\n",
       "    </tr>\n",
       "    <tr>\n",
       "      <th>8</th>\n",
       "      <td>NCT00362219</td>\n",
       "      <td>[Topical]</td>\n",
       "    </tr>\n",
       "    <tr>\n",
       "      <th>...</th>\n",
       "      <td>...</td>\n",
       "      <td>...</td>\n",
       "    </tr>\n",
       "    <tr>\n",
       "      <th>82837</th>\n",
       "      <td>NCT07173179</td>\n",
       "      <td>[Injection, Oral]</td>\n",
       "    </tr>\n",
       "    <tr>\n",
       "      <th>82838</th>\n",
       "      <td>NCT07173738</td>\n",
       "      <td>[Oral]</td>\n",
       "    </tr>\n",
       "    <tr>\n",
       "      <th>82839</th>\n",
       "      <td>NCT07174011</td>\n",
       "      <td>[Injection]</td>\n",
       "    </tr>\n",
       "    <tr>\n",
       "      <th>82840</th>\n",
       "      <td>NCT07174024</td>\n",
       "      <td>[Topical]</td>\n",
       "    </tr>\n",
       "    <tr>\n",
       "      <th>82841</th>\n",
       "      <td>NCT07176832</td>\n",
       "      <td>[Oral]</td>\n",
       "    </tr>\n",
       "  </tbody>\n",
       "</table>\n",
       "<p>54476 rows × 2 columns</p>\n",
       "</div>"
      ],
      "text/plain": [
       "            nct_id      interv_method\n",
       "1      NCT00170209             [Oral]\n",
       "2      NCT00194714        [Injection]\n",
       "3      NCT00293735  [Injection, Oral]\n",
       "7      NCT00329641  [Injection, Oral]\n",
       "8      NCT00362219          [Topical]\n",
       "...            ...                ...\n",
       "82837  NCT07173179  [Injection, Oral]\n",
       "82838  NCT07173738             [Oral]\n",
       "82839  NCT07174011        [Injection]\n",
       "82840  NCT07174024          [Topical]\n",
       "82841  NCT07176832             [Oral]\n",
       "\n",
       "[54476 rows x 2 columns]"
      ]
     },
     "execution_count": 207,
     "metadata": {},
     "output_type": "execute_result"
    }
   ],
   "source": [
    "# Drop interv_desc text columns after checking\n",
    "my_intervention_methods = my_intervention_methods.drop(columns = ['interv_desc'])\n",
    "\n",
    "# groupby nct_id --> intervenion_type column dropped\n",
    "my_intervention_methods = my_intervention_methods.groupby(\"nct_id\")[\"interv_method\"].agg(\n",
    "    lambda col: sorted(set(elem for row in col if isinstance(row, list) for elem in row))\n",
    "    ).reset_index()\n",
    "\n",
    "#  Display np.nan\n",
    "my_intervention_methods['interv_method'] = my_intervention_methods['interv_method'].apply(lambda x: np.nan if x == [] else x)\n",
    "my_intervention_methods = my_intervention_methods.dropna()\n",
    "my_intervention_methods\n"
   ]
  },
  {
   "cell_type": "markdown",
   "id": "d168a007",
   "metadata": {},
   "source": [
    "## my_soc"
   ]
  },
  {
   "cell_type": "code",
   "execution_count": 208,
   "id": "5f77d7db",
   "metadata": {},
   "outputs": [
    {
     "data": {
      "application/vnd.microsoft.datawrangler.viewer.v0+json": {
       "columns": [
        {
         "name": "index",
         "rawType": "int64",
         "type": "integer"
        },
        {
         "name": "nct_id",
         "rawType": "object",
         "type": "string"
        },
        {
         "name": "Standard_Care",
         "rawType": "object",
         "type": "string"
        }
       ],
       "ref": "8ddc1a96-63e5-4e68-8d5d-ffe98878e02f",
       "rows": [
        [
         "0",
         "NCT00170209",
         "Yes"
        ],
        [
         "1",
         "NCT00459641",
         "Yes"
        ],
        [
         "2",
         "NCT00673842",
         "Yes"
        ],
        [
         "3",
         "NCT01045694",
         "Yes"
        ],
        [
         "4",
         "NCT01086540",
         "Yes"
        ],
        [
         "5",
         "NCT01094132",
         "Yes"
        ],
        [
         "6",
         "NCT01116739",
         "Yes"
        ],
        [
         "7",
         "NCT01119300",
         "Yes"
        ],
        [
         "8",
         "NCT01120080",
         "Yes"
        ],
        [
         "9",
         "NCT01125735",
         "Yes"
        ],
        [
         "10",
         "NCT01131611",
         "Yes"
        ],
        [
         "11",
         "NCT01134510",
         "Yes"
        ],
        [
         "12",
         "NCT01135420",
         "Yes"
        ],
        [
         "13",
         "NCT01146821",
         "Yes"
        ],
        [
         "14",
         "NCT01151761",
         "Yes"
        ],
        [
         "15",
         "NCT01164722",
         "Yes"
        ],
        [
         "16",
         "NCT01172236",
         "Yes"
        ],
        [
         "17",
         "NCT01177137",
         "Yes"
        ],
        [
         "18",
         "NCT01188135",
         "Yes"
        ],
        [
         "19",
         "NCT01200485",
         "Yes"
        ],
        [
         "20",
         "NCT01204333",
         "Yes"
        ],
        [
         "21",
         "NCT01234883",
         "Yes"
        ],
        [
         "22",
         "NCT01241318",
         "Yes"
        ],
        [
         "23",
         "NCT01241552",
         "Yes"
        ],
        [
         "24",
         "NCT01241903",
         "Yes"
        ],
        [
         "25",
         "NCT01242852",
         "Yes"
        ],
        [
         "26",
         "NCT01243086",
         "Yes"
        ],
        [
         "27",
         "NCT01253356",
         "Yes"
        ],
        [
         "28",
         "NCT01259388",
         "Yes"
        ],
        [
         "29",
         "NCT01259440",
         "Yes"
        ],
        [
         "30",
         "NCT01260831",
         "Yes"
        ],
        [
         "31",
         "NCT01262560",
         "Yes"
        ],
        [
         "32",
         "NCT01263041",
         "Yes"
        ],
        [
         "33",
         "NCT01270230",
         "Yes"
        ],
        [
         "34",
         "NCT01270594",
         "Yes"
        ],
        [
         "35",
         "NCT01270945",
         "Yes"
        ],
        [
         "36",
         "NCT01273064",
         "Yes"
        ],
        [
         "37",
         "NCT01273272",
         "Yes"
        ],
        [
         "38",
         "NCT01275261",
         "Yes"
        ],
        [
         "39",
         "NCT01275274",
         "Yes"
        ],
        [
         "40",
         "NCT01275287",
         "Yes"
        ],
        [
         "41",
         "NCT01277510",
         "Yes"
        ],
        [
         "42",
         "NCT01281904",
         "Yes"
        ],
        [
         "43",
         "NCT01287390",
         "Yes"
        ],
        [
         "44",
         "NCT01288001",
         "Yes"
        ],
        [
         "45",
         "NCT01288352",
         "Yes"
        ],
        [
         "46",
         "NCT01288820",
         "Yes"
        ],
        [
         "47",
         "NCT01290614",
         "Yes"
        ],
        [
         "48",
         "NCT01292824",
         "Yes"
        ],
        [
         "49",
         "NCT01299324",
         "Yes"
        ]
       ],
       "shape": {
        "columns": 2,
        "rows": 3164
       }
      },
      "text/html": [
       "<div>\n",
       "<style scoped>\n",
       "    .dataframe tbody tr th:only-of-type {\n",
       "        vertical-align: middle;\n",
       "    }\n",
       "\n",
       "    .dataframe tbody tr th {\n",
       "        vertical-align: top;\n",
       "    }\n",
       "\n",
       "    .dataframe thead th {\n",
       "        text-align: right;\n",
       "    }\n",
       "</style>\n",
       "<table border=\"1\" class=\"dataframe\">\n",
       "  <thead>\n",
       "    <tr style=\"text-align: right;\">\n",
       "      <th></th>\n",
       "      <th>nct_id</th>\n",
       "      <th>Standard_Care</th>\n",
       "    </tr>\n",
       "  </thead>\n",
       "  <tbody>\n",
       "    <tr>\n",
       "      <th>0</th>\n",
       "      <td>NCT00170209</td>\n",
       "      <td>Yes</td>\n",
       "    </tr>\n",
       "    <tr>\n",
       "      <th>1</th>\n",
       "      <td>NCT00459641</td>\n",
       "      <td>Yes</td>\n",
       "    </tr>\n",
       "    <tr>\n",
       "      <th>2</th>\n",
       "      <td>NCT00673842</td>\n",
       "      <td>Yes</td>\n",
       "    </tr>\n",
       "    <tr>\n",
       "      <th>3</th>\n",
       "      <td>NCT01045694</td>\n",
       "      <td>Yes</td>\n",
       "    </tr>\n",
       "    <tr>\n",
       "      <th>4</th>\n",
       "      <td>NCT01086540</td>\n",
       "      <td>Yes</td>\n",
       "    </tr>\n",
       "    <tr>\n",
       "      <th>...</th>\n",
       "      <td>...</td>\n",
       "      <td>...</td>\n",
       "    </tr>\n",
       "    <tr>\n",
       "      <th>3159</th>\n",
       "      <td>NCT07015450</td>\n",
       "      <td>Yes</td>\n",
       "    </tr>\n",
       "    <tr>\n",
       "      <th>3160</th>\n",
       "      <td>NCT07035561</td>\n",
       "      <td>Yes</td>\n",
       "    </tr>\n",
       "    <tr>\n",
       "      <th>3161</th>\n",
       "      <td>NCT07077525</td>\n",
       "      <td>Yes</td>\n",
       "    </tr>\n",
       "    <tr>\n",
       "      <th>3162</th>\n",
       "      <td>NCT07090044</td>\n",
       "      <td>Yes</td>\n",
       "    </tr>\n",
       "    <tr>\n",
       "      <th>3163</th>\n",
       "      <td>NCT07108881</td>\n",
       "      <td>Yes</td>\n",
       "    </tr>\n",
       "  </tbody>\n",
       "</table>\n",
       "<p>3164 rows × 2 columns</p>\n",
       "</div>"
      ],
      "text/plain": [
       "           nct_id Standard_Care\n",
       "0     NCT00170209           Yes\n",
       "1     NCT00459641           Yes\n",
       "2     NCT00673842           Yes\n",
       "3     NCT01045694           Yes\n",
       "4     NCT01086540           Yes\n",
       "...           ...           ...\n",
       "3159  NCT07015450           Yes\n",
       "3160  NCT07035561           Yes\n",
       "3161  NCT07077525           Yes\n",
       "3162  NCT07090044           Yes\n",
       "3163  NCT07108881           Yes\n",
       "\n",
       "[3164 rows x 2 columns]"
      ]
     },
     "execution_count": 208,
     "metadata": {},
     "output_type": "execute_result"
    }
   ],
   "source": [
    "my_soc = my_intervention_methods3.copy()\n",
    "\n",
    "pattern = r\"(?:standard|usual)\\s*(?:of\\s*)?(?:therapy|care|treatment|CPR)\\b\"\n",
    "\n",
    "# Apply condition to create the new column\n",
    "my_soc['Standard_Care'] = (\n",
    "    my_soc[\"design_groups_description\"].str.contains(pattern, case=False, na=False) |\n",
    "    my_soc[\"interventions_description\"].str.contains(pattern, case=False, na=False)\n",
    "    ).map({True: \"Yes\", False: np.nan})\n",
    "\n",
    "my_soc = my_soc[['nct_id', 'Standard_Care']].dropna()\n",
    "my_soc = my_soc.drop_duplicates(subset = [\"nct_id\", 'Standard_Care']).reset_index(drop = True)\n",
    "my_soc"
   ]
  },
  {
   "cell_type": "markdown",
   "id": "49cf871f",
   "metadata": {},
   "source": [
    "## my_adverse"
   ]
  },
  {
   "cell_type": "markdown",
   "id": "af59ac22",
   "metadata": {},
   "source": [
    "### my_adverse"
   ]
  },
  {
   "cell_type": "code",
   "execution_count": 209,
   "id": "930ee382",
   "metadata": {},
   "outputs": [
    {
     "data": {
      "application/vnd.microsoft.datawrangler.viewer.v0+json": {
       "columns": [
        {
         "name": "index",
         "rawType": "int64",
         "type": "integer"
        },
        {
         "name": "nct_id",
         "rawType": "object",
         "type": "string"
        },
        {
         "name": "event_type",
         "rawType": "object",
         "type": "unknown"
        },
        {
         "name": "event_count",
         "rawType": "object",
         "type": "unknown"
        },
        {
         "name": "event_sum",
         "rawType": "float64",
         "type": "float"
        }
       ],
       "ref": "9af9e377-1674-4eac-95f1-04ef12d91707",
       "rows": [
        [
         "0",
         "NCT00125528",
         "['Death', 'Other']",
         "[3.0, 5.0]",
         "8.0"
        ],
        [
         "1",
         "NCT00170209",
         "[]",
         "[]",
         "0.0"
        ],
        [
         "2",
         "NCT00194714",
         "['Death', 'Other', 'Serious']",
         "[3.0, 11.0, 21.0]",
         "35.0"
        ],
        [
         "3",
         "NCT00293735",
         "[]",
         "[]",
         "0.0"
        ],
        [
         "4",
         "NCT00306059",
         "[]",
         "[]",
         "0.0"
        ],
        [
         "5",
         "NCT00307905",
         "[]",
         "[]",
         "0.0"
        ],
        [
         "6",
         "NCT00328809",
         "[]",
         "[]",
         "0.0"
        ],
        [
         "7",
         "NCT00329641",
         "['Death', 'Other', 'Serious']",
         "[2.0, 23.0]",
         "25.0"
        ],
        [
         "8",
         "NCT00356317",
         "[]",
         "[]",
         "0.0"
        ],
        [
         "9",
         "NCT00362219",
         "[]",
         "[]",
         "0.0"
        ],
        [
         "10",
         "NCT00372762",
         "[]",
         "[]",
         "0.0"
        ],
        [
         "11",
         "NCT00397501",
         "[]",
         "[]",
         "0.0"
        ],
        [
         "12",
         "NCT00397579",
         "['Other']",
         "[11.0]",
         "11.0"
        ],
        [
         "13",
         "NCT00399594",
         "[]",
         "[]",
         "0.0"
        ],
        [
         "14",
         "NCT00422422",
         "['Death', 'Other', 'Serious']",
         "[8.0, 33.0]",
         "41.0"
        ],
        [
         "15",
         "NCT00448201",
         "['Death', 'Serious']",
         "[7.0, 44.0]",
         "51.0"
        ],
        [
         "16",
         "NCT00455039",
         "[]",
         "[]",
         "0.0"
        ],
        [
         "17",
         "NCT00455052",
         "[]",
         "[]",
         "0.0"
        ],
        [
         "18",
         "NCT00459641",
         "[]",
         "[]",
         "0.0"
        ],
        [
         "19",
         "NCT00488605",
         "[]",
         "[]",
         "0.0"
        ],
        [
         "20",
         "NCT00504322",
         "[]",
         "[]",
         "0.0"
        ],
        [
         "21",
         "NCT00532584",
         "[]",
         "[]",
         "0.0"
        ],
        [
         "22",
         "NCT00534703",
         "['Death', 'Other', 'Serious']",
         "[1.0, 2.0, 4.0]",
         "7.0"
        ],
        [
         "23",
         "NCT00554996",
         "['Death', 'Other']",
         "[5.0]",
         "5.0"
        ],
        [
         "24",
         "NCT00570050",
         "[]",
         "[]",
         "0.0"
        ],
        [
         "25",
         "NCT00571246",
         "[]",
         "[]",
         "0.0"
        ],
        [
         "26",
         "NCT00572689",
         "[]",
         "[]",
         "0.0"
        ],
        [
         "27",
         "NCT00593164",
         "[]",
         "[]",
         "0.0"
        ],
        [
         "28",
         "NCT00603460",
         "[]",
         "[]",
         "0.0"
        ],
        [
         "29",
         "NCT00640094",
         "[]",
         "[]",
         "0.0"
        ],
        [
         "30",
         "NCT00640445",
         "[]",
         "[]",
         "0.0"
        ],
        [
         "31",
         "NCT00642252",
         "[]",
         "[]",
         "0.0"
        ],
        [
         "32",
         "NCT00662298",
         "[]",
         "[]",
         "0.0"
        ],
        [
         "33",
         "NCT00669162",
         "['Other', 'Serious']",
         "[3.0, 27.0]",
         "30.0"
        ],
        [
         "34",
         "NCT00673842",
         "[]",
         "[]",
         "0.0"
        ],
        [
         "35",
         "NCT00686556",
         "[]",
         "[]",
         "0.0"
        ],
        [
         "36",
         "NCT00701233",
         "[]",
         "[]",
         "0.0"
        ],
        [
         "37",
         "NCT00711841",
         "[]",
         "[]",
         "0.0"
        ],
        [
         "38",
         "NCT00724633",
         "[]",
         "[]",
         "0.0"
        ],
        [
         "39",
         "NCT00730067",
         "[]",
         "[]",
         "0.0"
        ],
        [
         "40",
         "NCT00737893",
         "['Other', 'Serious']",
         "[1.0, 3.0]",
         "4.0"
        ],
        [
         "41",
         "NCT00739375",
         "[]",
         "[]",
         "0.0"
        ],
        [
         "42",
         "NCT00747071",
         "[]",
         "[]",
         "0.0"
        ],
        [
         "43",
         "NCT00753402",
         "[]",
         "[]",
         "0.0"
        ],
        [
         "44",
         "NCT00757055",
         "[]",
         "[]",
         "0.0"
        ],
        [
         "45",
         "NCT00760825",
         "[]",
         "[]",
         "0.0"
        ],
        [
         "46",
         "NCT00764270",
         "[]",
         "[]",
         "0.0"
        ],
        [
         "47",
         "NCT00764478",
         "['Death', 'Other', 'Serious']",
         "[1.0, 2.0, 3.0, 24.0, 43.0, 67.0]",
         "140.0"
        ],
        [
         "48",
         "NCT00784966",
         "[]",
         "[]",
         "0.0"
        ],
        [
         "49",
         "NCT00793013",
         "[]",
         "[]",
         "0.0"
        ]
       ],
       "shape": {
        "columns": 4,
        "rows": 83519
       }
      },
      "text/html": [
       "<div>\n",
       "<style scoped>\n",
       "    .dataframe tbody tr th:only-of-type {\n",
       "        vertical-align: middle;\n",
       "    }\n",
       "\n",
       "    .dataframe tbody tr th {\n",
       "        vertical-align: top;\n",
       "    }\n",
       "\n",
       "    .dataframe thead th {\n",
       "        text-align: right;\n",
       "    }\n",
       "</style>\n",
       "<table border=\"1\" class=\"dataframe\">\n",
       "  <thead>\n",
       "    <tr style=\"text-align: right;\">\n",
       "      <th></th>\n",
       "      <th>nct_id</th>\n",
       "      <th>event_type</th>\n",
       "      <th>event_count</th>\n",
       "      <th>event_sum</th>\n",
       "    </tr>\n",
       "  </thead>\n",
       "  <tbody>\n",
       "    <tr>\n",
       "      <th>0</th>\n",
       "      <td>NCT00125528</td>\n",
       "      <td>[Death, Other]</td>\n",
       "      <td>[3.0, 5.0]</td>\n",
       "      <td>8.0</td>\n",
       "    </tr>\n",
       "    <tr>\n",
       "      <th>1</th>\n",
       "      <td>NCT00170209</td>\n",
       "      <td>[]</td>\n",
       "      <td>[]</td>\n",
       "      <td>0.0</td>\n",
       "    </tr>\n",
       "    <tr>\n",
       "      <th>2</th>\n",
       "      <td>NCT00194714</td>\n",
       "      <td>[Death, Other, Serious]</td>\n",
       "      <td>[3.0, 11.0, 21.0]</td>\n",
       "      <td>35.0</td>\n",
       "    </tr>\n",
       "    <tr>\n",
       "      <th>3</th>\n",
       "      <td>NCT00293735</td>\n",
       "      <td>[]</td>\n",
       "      <td>[]</td>\n",
       "      <td>0.0</td>\n",
       "    </tr>\n",
       "    <tr>\n",
       "      <th>4</th>\n",
       "      <td>NCT00306059</td>\n",
       "      <td>[]</td>\n",
       "      <td>[]</td>\n",
       "      <td>0.0</td>\n",
       "    </tr>\n",
       "    <tr>\n",
       "      <th>...</th>\n",
       "      <td>...</td>\n",
       "      <td>...</td>\n",
       "      <td>...</td>\n",
       "      <td>...</td>\n",
       "    </tr>\n",
       "    <tr>\n",
       "      <th>83514</th>\n",
       "      <td>NCT07173179</td>\n",
       "      <td>[]</td>\n",
       "      <td>[]</td>\n",
       "      <td>0.0</td>\n",
       "    </tr>\n",
       "    <tr>\n",
       "      <th>83515</th>\n",
       "      <td>NCT07173738</td>\n",
       "      <td>[]</td>\n",
       "      <td>[]</td>\n",
       "      <td>0.0</td>\n",
       "    </tr>\n",
       "    <tr>\n",
       "      <th>83516</th>\n",
       "      <td>NCT07174011</td>\n",
       "      <td>[]</td>\n",
       "      <td>[]</td>\n",
       "      <td>0.0</td>\n",
       "    </tr>\n",
       "    <tr>\n",
       "      <th>83517</th>\n",
       "      <td>NCT07174024</td>\n",
       "      <td>[]</td>\n",
       "      <td>[]</td>\n",
       "      <td>0.0</td>\n",
       "    </tr>\n",
       "    <tr>\n",
       "      <th>83518</th>\n",
       "      <td>NCT07176832</td>\n",
       "      <td>[]</td>\n",
       "      <td>[]</td>\n",
       "      <td>0.0</td>\n",
       "    </tr>\n",
       "  </tbody>\n",
       "</table>\n",
       "<p>83519 rows × 4 columns</p>\n",
       "</div>"
      ],
      "text/plain": [
       "            nct_id               event_type        event_count  event_sum\n",
       "0      NCT00125528           [Death, Other]         [3.0, 5.0]        8.0\n",
       "1      NCT00170209                       []                 []        0.0\n",
       "2      NCT00194714  [Death, Other, Serious]  [3.0, 11.0, 21.0]       35.0\n",
       "3      NCT00293735                       []                 []        0.0\n",
       "4      NCT00306059                       []                 []        0.0\n",
       "...            ...                      ...                ...        ...\n",
       "83514  NCT07173179                       []                 []        0.0\n",
       "83515  NCT07173738                       []                 []        0.0\n",
       "83516  NCT07174011                       []                 []        0.0\n",
       "83517  NCT07174024                       []                 []        0.0\n",
       "83518  NCT07176832                       []                 []        0.0\n",
       "\n",
       "[83519 rows x 4 columns]"
      ]
     },
     "execution_count": 209,
     "metadata": {},
     "output_type": "execute_result"
    }
   ],
   "source": [
    "create_table_sql = \"\"\"\n",
    "DROP TABLE IF EXISTS ctgov.my_adverse;\n",
    "\n",
    "CREATE TABLE ctgov.my_adverse AS\n",
    "SELECT DISTINCT ON \n",
    "(\n",
    "  studies.nct_id, \n",
    "  studies.phase,\n",
    "\treported_event_totals.event_type,\n",
    "\treported_event_totals.subjects_affected\n",
    "  )\n",
    "  studies.nct_id, \n",
    "\treported_event_totals.event_type,\n",
    "\treported_event_totals.subjects_affected as event_count\n",
    "\t\n",
    "FROM ctgov.studies\n",
    "LEFT JOIN ctgov.reported_event_totals\n",
    "  ON studies.nct_id = reported_event_totals.nct_id\n",
    "\n",
    "WHERE TO_CHAR(studies.start_date, 'YYYY-MM') >= '2011-01'\n",
    "    AND studies.study_type = 'INTERVENTIONAL'\n",
    "    AND studies.overall_status in ('COMPLETED','WITHDRAWN', 'TERMINATED')\n",
    "    AND studies.phase in  ('PHASE1/PHASE2', 'PHASE2/PHASE3', 'PHASE1', 'PHASE2', 'PHASE3', 'PHASE4')\n",
    "\n",
    "ORDER BY \n",
    "  studies.nct_id, \n",
    "  studies.phase,\n",
    "\treported_event_totals.event_type,\n",
    "\treported_event_totals.subjects_affected;\n",
    "\"\"\"\n",
    "\n",
    "with engine.connect() as conn:\n",
    "    conn.execute(text(create_table_sql))\n",
    "    conn.commit()\n",
    "\n",
    "# drop_withdrawals.reason as withrawals_reason,\n",
    "# drop_withdrawals.count as withrawals_count,\n",
    "#\treported_event_totals.classification,\n",
    "#\treported_event_totals.classification as event_classification,\n",
    "\n",
    "# LEFT JOIN ctgov.drop_withdrawals\n",
    "# ON studies.nct_id = drop_withdrawals.nct_id\n",
    "\n",
    "my_adverse = pd.read_sql(\"select * from ctgov.my_adverse;\", con = engine)\n",
    "my_adverse = my_adverse.replace({'other':'Other', 'serious':'Serious', 'deaths': 'Death'})  # Do not replace [] --> event_count is needed as 0\n",
    "my_adverse.loc[my_adverse[\"event_count\"] == 0.0, [\"event_type\", \"event_count\"]] = np.nan    # nan = []\n",
    "\n",
    "my_adverse = my_adverse.groupby(\"nct_id\").agg({\n",
    "    \"event_type\": lambda x: sorted(set(i for i in x if pd.notnull(i))),\n",
    "    \"event_count\": lambda x: sorted(set(i for i in x if pd.notnull(i))),\n",
    "}).reset_index()\n",
    "\n",
    "my_adverse[\"event_sum\"] = my_adverse[\"event_count\"].apply(lambda x: sum(i for i in x if pd.notnull(i)))\n",
    "my_adverse"
   ]
  },
  {
   "cell_type": "markdown",
   "id": "185d4214",
   "metadata": {},
   "source": [
    "### my_adverse_system"
   ]
  },
  {
   "cell_type": "code",
   "execution_count": 210,
   "id": "6408bed9",
   "metadata": {},
   "outputs": [
    {
     "data": {
      "application/vnd.microsoft.datawrangler.viewer.v0+json": {
       "columns": [
        {
         "name": "index",
         "rawType": "int64",
         "type": "integer"
        },
        {
         "name": "nct_id",
         "rawType": "object",
         "type": "string"
        },
        {
         "name": "organ_system",
         "rawType": "object",
         "type": "unknown"
        }
       ],
       "ref": "7f7d183d-2fbd-408f-a571-41323fbe3464",
       "rows": [
        [
         "0",
         "NCT00125528",
         "['General', 'Nervous System', 'Skin']"
        ],
        [
         "1",
         "NCT00194714",
         "['Blood/ Lymphatic', 'Cardio', 'Eye', 'Gastrointestinal', 'General', 'Infections', 'Injury/ Poisoning/ Procedural', 'Investigations', 'Metabolism/ Nutrition', 'Musculoskeletal', 'Nervous System', 'Psychiatric/ Social', 'Renal/ Urinary', 'Reproductive/ Breast', 'Respiratory', 'Skin', 'Surgical/ Medical', 'Vascular']"
        ],
        [
         "2",
         "NCT00329641",
         "['Blood/ Lymphatic', 'Eye', 'Gastrointestinal', 'General', 'Immune System', 'Investigations', 'Metabolism/ Nutrition', 'Musculoskeletal', 'Nervous System', 'Psychiatric/ Social', 'Respiratory', 'Skin', 'Vascular']"
        ],
        [
         "3",
         "NCT00397579",
         "['Blood/ Lymphatic', 'Hepatobiliary']"
        ],
        [
         "4",
         "NCT00422422",
         "['Gastrointestinal', 'General', 'Infections', 'Investigations', 'Metabolism/ Nutrition', 'Nervous System']"
        ],
        [
         "5",
         "NCT00448201",
         "['Blood/ Lymphatic', 'Gastrointestinal', 'General', 'Hepatobiliary', 'Infections', 'Vascular']"
        ],
        [
         "6",
         "NCT00534703",
         "['Blood/ Lymphatic', 'Cardio', 'General', 'Infections', 'Injury/ Poisoning/ Procedural', 'Metabolism/ Nutrition', 'Product Issues', 'Respiratory', 'Skin', 'Surgical/ Medical']"
        ],
        [
         "7",
         "NCT00554996",
         "['Renal/ Urinary']"
        ],
        [
         "8",
         "NCT00669162",
         "['Blood/ Lymphatic', 'Cardio', 'Endocrine', 'Gastrointestinal', 'General', 'Immune System', 'Infections', 'Investigations', 'Metabolism/ Nutrition', 'Musculoskeletal', 'Nervous System', 'Psychiatric/ Social', 'Renal/ Urinary', 'Reproductive/ Breast', 'Respiratory', 'Skin']"
        ],
        [
         "9",
         "NCT00737893",
         "['Surgical/ Medical']"
        ],
        [
         "10",
         "NCT00764478",
         "['Gastrointestinal', 'Infections', 'Injury/ Poisoning/ Procedural', 'Metabolism/ Nutrition', 'Nervous System', 'Psychiatric/ Social']"
        ],
        [
         "11",
         "NCT00799864",
         "['Blood/ Lymphatic', 'Cardio', 'Eye', 'Gastrointestinal', 'General', 'Immune System', 'Infections', 'Investigations', 'Metabolism/ Nutrition', 'Nervous System', 'Psychiatric/ Social', 'Renal/ Urinary', 'Reproductive/ Breast', 'Respiratory', 'Skin', 'Surgical/ Medical']"
        ],
        [
         "12",
         "NCT00815516",
         "['Blood/ Lymphatic', 'Gastrointestinal', 'General', 'Hepatobiliary', 'Infections', 'Injury/ Poisoning/ Procedural', 'Investigations', 'Metabolism/ Nutrition', 'Musculoskeletal', 'Nervous System', 'Psychiatric/ Social', 'Renal/ Urinary', 'Reproductive/ Breast', 'Respiratory', 'Skin', 'Vascular']"
        ],
        [
         "13",
         "NCT00828009",
         "['Blood/ Lymphatic', 'Cardio', 'Gastrointestinal', 'General', 'Immune System', 'Infections', 'Injury/ Poisoning/ Procedural', 'Investigations', 'Metabolism/ Nutrition', 'Musculoskeletal', 'Neoplasms', 'Nervous System', 'Psychiatric/ Social', 'Renal/ Urinary', 'Respiratory', 'Skin', 'Vascular']"
        ],
        [
         "14",
         "NCT00831480",
         "['Skin', 'Surgical/ Medical']"
        ],
        [
         "15",
         "NCT00853489",
         "['Surgical/ Medical']"
        ],
        [
         "16",
         "NCT00869024",
         "['Blood/ Lymphatic', 'Cardio', 'General', 'Hepatobiliary', 'Infections', 'Neoplasms', 'Renal/ Urinary']"
        ],
        [
         "17",
         "NCT00897715",
         "['Cardio', 'Gastrointestinal', 'General', 'Infections', 'Nervous System', 'Skin']"
        ],
        [
         "18",
         "NCT00906945",
         "['Blood/ Lymphatic', 'Cardio', 'Eye', 'Gastrointestinal', 'General', 'Genetic', 'Immune System', 'Infections', 'Injury/ Poisoning/ Procedural', 'Investigations', 'Metabolism/ Nutrition', 'Musculoskeletal', 'Neoplasms', 'Nervous System', 'Psychiatric/ Social', 'Renal/ Urinary', 'Respiratory', 'Skin', 'Vascular']"
        ],
        [
         "19",
         "NCT00920140",
         "['Blood/ Lymphatic', 'Cardio', 'Eye', 'Gastrointestinal', 'General', 'Hepatobiliary', 'Immune System', 'Infections', 'Injury/ Poisoning/ Procedural', 'Investigations', 'Metabolism/ Nutrition', 'Musculoskeletal', 'Nervous System', 'Psychiatric/ Social', 'Renal/ Urinary', 'Respiratory', 'Skin', 'Vascular']"
        ],
        [
         "20",
         "NCT00928135",
         "['Gastrointestinal', 'Hepatobiliary', 'Respiratory', 'Vascular']"
        ],
        [
         "21",
         "NCT00940992",
         "['Gastrointestinal', 'General', 'Infections', 'Injury/ Poisoning/ Procedural', 'Metabolism/ Nutrition', 'Musculoskeletal', 'Nervous System', 'Psychiatric/ Social', 'Reproductive/ Breast', 'Respiratory']"
        ],
        [
         "22",
         "NCT00942084",
         "['Blood/ Lymphatic', 'Cardio', 'Endocrine', 'General', 'Genetic', 'Hepatobiliary', 'Infections', 'Investigations', 'Metabolism/ Nutrition', 'Neoplasms', 'Nervous System', 'Renal/ Urinary', 'Respiratory', 'Skin']"
        ],
        [
         "23",
         "NCT00943319",
         "['Blood/ Lymphatic', 'Nervous System']"
        ],
        [
         "24",
         "NCT00957853",
         "['Gastrointestinal', 'General', 'Skin']"
        ],
        [
         "25",
         "NCT00961064",
         "['Blood/ Lymphatic', 'Cardio', 'Eye', 'Gastrointestinal', 'General', 'Infections', 'Injury/ Poisoning/ Procedural', 'Investigations', 'Musculoskeletal', 'Nervous System', 'Psychiatric/ Social', 'Renal/ Urinary', 'Respiratory', 'Skin', 'Surgical/ Medical']"
        ],
        [
         "26",
         "NCT00965458",
         "['Blood/ Lymphatic', 'Ear', 'Endocrine', 'Eye', 'Gastrointestinal', 'General', 'Immune System', 'Infections', 'Injury/ Poisoning/ Procedural', 'Investigations', 'Metabolism/ Nutrition', 'Musculoskeletal', 'Nervous System', 'Reproductive/ Breast', 'Respiratory', 'Skin', 'Vascular']"
        ],
        [
         "27",
         "NCT00965575",
         "['Nervous System']"
        ],
        [
         "28",
         "NCT00978432",
         "['Blood/ Lymphatic', 'Cardio', 'Eye', 'Gastrointestinal', 'General', 'Infections', 'Investigations', 'Metabolism/ Nutrition', 'Musculoskeletal', 'Nervous System', 'Psychiatric/ Social', 'Renal/ Urinary', 'Reproductive/ Breast', 'Respiratory', 'Skin', 'Vascular']"
        ],
        [
         "29",
         "NCT00979212",
         "['Blood/ Lymphatic', 'Cardio', 'Gastrointestinal', 'General', 'Immune System', 'Infections', 'Injury/ Poisoning/ Procedural', 'Investigations', 'Metabolism/ Nutrition', 'Musculoskeletal', 'Neoplasms', 'Nervous System', 'Psychiatric/ Social', 'Renal/ Urinary', 'Respiratory', 'Skin', 'Vascular']"
        ],
        [
         "30",
         "NCT00988325",
         "['Eye', 'Gastrointestinal', 'General', 'Infections', 'Respiratory', 'Skin']"
        ],
        [
         "31",
         "NCT00992602",
         "['Blood/ Lymphatic', 'Hepatobiliary']"
        ],
        [
         "32",
         "NCT00995722",
         "['Cardio', 'Endocrine', 'Eye', 'Gastrointestinal', 'Infections', 'Musculoskeletal', 'Nervous System', 'Respiratory', 'Vascular']"
        ],
        [
         "33",
         "NCT00998010",
         "['Blood/ Lymphatic', 'Cardio', 'Endocrine', 'Eye', 'Gastrointestinal', 'General', 'Immune System', 'Infections', 'Metabolism/ Nutrition', 'Musculoskeletal', 'Nervous System', 'Psychiatric/ Social', 'Renal/ Urinary', 'Respiratory', 'Skin']"
        ],
        [
         "34",
         "NCT01003769",
         "['Blood/ Lymphatic', 'Gastrointestinal', 'General', 'Infections', 'Investigations', 'Neoplasms', 'Respiratory', 'Skin']"
        ],
        [
         "35",
         "NCT01004406",
         "['Blood/ Lymphatic', 'Cardio', 'Gastrointestinal', 'General', 'Hepatobiliary', 'Immune System', 'Infections', 'Injury/ Poisoning/ Procedural', 'Musculoskeletal', 'Nervous System', 'Respiratory', 'Vascular']"
        ],
        [
         "36",
         "NCT01009931",
         "['Gastrointestinal', 'General', 'Infections']"
        ],
        [
         "37",
         "NCT01011218",
         "['Cardio', 'Gastrointestinal', 'General', 'Infections', 'Musculoskeletal', 'Nervous System', 'Psychiatric/ Social']"
        ],
        [
         "38",
         "NCT01011413",
         "['Blood/ Lymphatic', 'Eye', 'Gastrointestinal', 'General', 'Hepatobiliary', 'Immune System', 'Infections', 'Injury/ Poisoning/ Procedural', 'Metabolism/ Nutrition', 'Neoplasms', 'Nervous System', 'Pregnancy/ Perinatal', 'Psychiatric/ Social', 'Renal/ Urinary', 'Reproductive/ Breast', 'Respiratory', 'Skin', 'Surgical/ Medical', 'Vascular']"
        ],
        [
         "39",
         "NCT01013961",
         "['Blood/ Lymphatic', 'Cardio', 'Gastrointestinal', 'General', 'Immune System', 'Infections', 'Investigations', 'Metabolism/ Nutrition', 'Musculoskeletal', 'Nervous System', 'Psychiatric/ Social', 'Renal/ Urinary', 'Respiratory', 'Skin', 'Vascular']"
        ],
        [
         "40",
         "NCT01032083",
         "['Gastrointestinal', 'Nervous System', 'Respiratory']"
        ],
        [
         "41",
         "NCT01041976",
         "['General', 'Psychiatric/ Social', 'Social']"
        ],
        [
         "42",
         "NCT01053663",
         "['Blood/ Lymphatic', 'Cardio', 'Gastrointestinal', 'General', 'Metabolism/ Nutrition', 'Nervous System', 'Renal/ Urinary', 'Respiratory', 'Skin', 'Vascular']"
        ],
        [
         "43",
         "NCT01054079",
         "['Cardio', 'Gastrointestinal', 'General', 'Investigations']"
        ],
        [
         "44",
         "NCT01058239",
         "['Blood/ Lymphatic', 'Cardio', 'Gastrointestinal', 'Infections', 'Investigations', 'Metabolism/ Nutrition', 'Nervous System', 'Renal/ Urinary']"
        ],
        [
         "45",
         "NCT01059305",
         "['Blood/ Lymphatic', 'Cardio', 'Endocrine', 'Eye', 'Gastrointestinal', 'General', 'Infections', 'Investigations', 'Metabolism/ Nutrition', 'Musculoskeletal', 'Nervous System', 'Psychiatric/ Social', 'Renal/ Urinary', 'Skin', 'Vascular']"
        ],
        [
         "46",
         "NCT01059643",
         "['Blood/ Lymphatic', 'Cardio', 'Gastrointestinal', 'General', 'Infections', 'Investigations', 'Metabolism/ Nutrition', 'Musculoskeletal', 'Neoplasms', 'Nervous System', 'Psychiatric/ Social', 'Renal/ Urinary', 'Respiratory', 'Skin', 'Vascular']"
        ],
        [
         "47",
         "NCT01061151",
         "['Blood/ Lymphatic', 'Cardio', 'Eye', 'Gastrointestinal', 'General', 'Genetic', 'Hepatobiliary', 'Infections', 'Injury/ Poisoning/ Procedural', 'Investigations', 'Metabolism/ Nutrition', 'Musculoskeletal', 'Nervous System', 'Pregnancy/ Perinatal', 'Psychiatric/ Social', 'Renal/ Urinary', 'Reproductive/ Breast', 'Respiratory', 'Skin', 'Surgical/ Medical', 'Vascular']"
        ],
        [
         "48",
         "NCT01063348",
         "['Gastrointestinal', 'General']"
        ],
        [
         "49",
         "NCT01074099",
         "['Cardio']"
        ]
       ],
       "shape": {
        "columns": 2,
        "rows": 26006
       }
      },
      "text/html": [
       "<div>\n",
       "<style scoped>\n",
       "    .dataframe tbody tr th:only-of-type {\n",
       "        vertical-align: middle;\n",
       "    }\n",
       "\n",
       "    .dataframe tbody tr th {\n",
       "        vertical-align: top;\n",
       "    }\n",
       "\n",
       "    .dataframe thead th {\n",
       "        text-align: right;\n",
       "    }\n",
       "</style>\n",
       "<table border=\"1\" class=\"dataframe\">\n",
       "  <thead>\n",
       "    <tr style=\"text-align: right;\">\n",
       "      <th></th>\n",
       "      <th>nct_id</th>\n",
       "      <th>organ_system</th>\n",
       "    </tr>\n",
       "  </thead>\n",
       "  <tbody>\n",
       "    <tr>\n",
       "      <th>0</th>\n",
       "      <td>NCT00125528</td>\n",
       "      <td>[General, Nervous System, Skin]</td>\n",
       "    </tr>\n",
       "    <tr>\n",
       "      <th>1</th>\n",
       "      <td>NCT00194714</td>\n",
       "      <td>[Blood/ Lymphatic, Cardio, Eye, Gastrointestin...</td>\n",
       "    </tr>\n",
       "    <tr>\n",
       "      <th>2</th>\n",
       "      <td>NCT00329641</td>\n",
       "      <td>[Blood/ Lymphatic, Eye, Gastrointestinal, Gene...</td>\n",
       "    </tr>\n",
       "    <tr>\n",
       "      <th>3</th>\n",
       "      <td>NCT00397579</td>\n",
       "      <td>[Blood/ Lymphatic, Hepatobiliary]</td>\n",
       "    </tr>\n",
       "    <tr>\n",
       "      <th>4</th>\n",
       "      <td>NCT00422422</td>\n",
       "      <td>[Gastrointestinal, General, Infections, Invest...</td>\n",
       "    </tr>\n",
       "    <tr>\n",
       "      <th>...</th>\n",
       "      <td>...</td>\n",
       "      <td>...</td>\n",
       "    </tr>\n",
       "    <tr>\n",
       "      <th>26001</th>\n",
       "      <td>NCT06922643</td>\n",
       "      <td>[Endocrine, Gastrointestinal, General, Metabol...</td>\n",
       "    </tr>\n",
       "    <tr>\n",
       "      <th>26002</th>\n",
       "      <td>NCT06926673</td>\n",
       "      <td>[Blood/ Lymphatic, Cardio, Endocrine, Gastroin...</td>\n",
       "    </tr>\n",
       "    <tr>\n",
       "      <th>26003</th>\n",
       "      <td>NCT06954493</td>\n",
       "      <td>[Gastrointestinal]</td>\n",
       "    </tr>\n",
       "    <tr>\n",
       "      <th>26004</th>\n",
       "      <td>NCT06964165</td>\n",
       "      <td>[Blood/ Lymphatic, Cardio, Ear, Endocrine, Eye...</td>\n",
       "    </tr>\n",
       "    <tr>\n",
       "      <th>26005</th>\n",
       "      <td>NCT07052682</td>\n",
       "      <td>[Gastrointestinal, Infections, Injury/ Poisoni...</td>\n",
       "    </tr>\n",
       "  </tbody>\n",
       "</table>\n",
       "<p>26006 rows × 2 columns</p>\n",
       "</div>"
      ],
      "text/plain": [
       "            nct_id                                       organ_system\n",
       "0      NCT00125528                    [General, Nervous System, Skin]\n",
       "1      NCT00194714  [Blood/ Lymphatic, Cardio, Eye, Gastrointestin...\n",
       "2      NCT00329641  [Blood/ Lymphatic, Eye, Gastrointestinal, Gene...\n",
       "3      NCT00397579                  [Blood/ Lymphatic, Hepatobiliary]\n",
       "4      NCT00422422  [Gastrointestinal, General, Infections, Invest...\n",
       "...            ...                                                ...\n",
       "26001  NCT06922643  [Endocrine, Gastrointestinal, General, Metabol...\n",
       "26002  NCT06926673  [Blood/ Lymphatic, Cardio, Endocrine, Gastroin...\n",
       "26003  NCT06954493                                 [Gastrointestinal]\n",
       "26004  NCT06964165  [Blood/ Lymphatic, Cardio, Ear, Endocrine, Eye...\n",
       "26005  NCT07052682  [Gastrointestinal, Infections, Injury/ Poisoni...\n",
       "\n",
       "[26006 rows x 2 columns]"
      ]
     },
     "execution_count": 210,
     "metadata": {},
     "output_type": "execute_result"
    }
   ],
   "source": [
    "create_table_sql = \"\"\"\n",
    "DROP TABLE IF EXISTS ctgov.my_adverse_system;\n",
    "\n",
    "CREATE TABLE ctgov.my_adverse_system AS\n",
    "SELECT DISTINCT ON\n",
    "(\n",
    "    studies.nct_id,\n",
    "    studies.phase,\n",
    "    reported_events.organ_system\n",
    ")\n",
    "    studies.nct_id,\n",
    "    studies.phase,\n",
    "    reported_events.organ_system\n",
    "\n",
    "FROM ctgov.reported_events\n",
    "LEFT JOIN ctgov.studies\n",
    "    ON studies.nct_id = reported_events.nct_id\n",
    "\n",
    "WHERE TO_CHAR(studies.start_date, 'YYYY-MM') >= '2011-01'\n",
    "    AND studies.study_type = 'INTERVENTIONAL'\n",
    "    AND studies.overall_status in ('COMPLETED','WITHDRAWN', 'TERMINATED')\n",
    "    AND studies.phase in  ('PHASE1/PHASE2', 'PHASE2/PHASE3', 'PHASE1', 'PHASE2', 'PHASE3', 'PHASE4')\n",
    "\n",
    "ORDER BY \n",
    "    studies.nct_id,\n",
    "    studies.phase,\n",
    "    reported_events.organ_system;\n",
    "\"\"\"\n",
    "\n",
    "with engine.connect() as conn:\n",
    "    conn.execute(text(create_table_sql))\n",
    "    conn.commit()\n",
    "\n",
    "my_adverse_system = pd.read_sql(\"select * from ctgov.my_adverse_system;\", con = engine)\n",
    "\n",
    "# transformed to more general categories, as samples where to small per category as seen in thesis_vizual.ipyd\n",
    "my_adverse_system['organ_system'] = my_adverse_system['organ_system'].replace({\n",
    "    \n",
    "      'General disorders' : 'General',\n",
    "      'Infections and infestations' : 'Infections',\n",
    "      'Immune system disorders' : 'Immune System',\n",
    "\n",
    "      'Nervous system disorders' : 'Nervous System',\n",
    "      'Psychiatric disorders' : 'Psychiatric/ Social', \n",
    "      'Social circumstances' : 'Social',\n",
    "\n",
    "      'Skin and subcutaneous tissue disorders' : 'Skin',\n",
    "      'Injury, poisoning and procedural complications' : 'Injury/ Poisoning/ Procedural',\n",
    "      'Surgical and medical procedures' : 'Surgical/ Medical', \n",
    "\n",
    "      'Blood and lymphatic system disorders' : 'Blood/ Lymphatic', \n",
    "      'Hepatobiliary disorders' : 'Hepatobiliary',  \n",
    "      'Endocrine disorders' : 'Endocrine',    \n",
    "\n",
    "      'Cardiac disorders' : 'Cardio',\n",
    "      'Vascular disorders': 'Vascular',\n",
    "\n",
    "      'Renal and urinary disorders' : 'Renal/ Urinary',\n",
    "      \n",
    "      'Respiratory, thoracic and mediastinal disorders' : 'Respiratory',\n",
    "\n",
    "      'Gastrointestinal disorders' : 'Gastrointestinal',\n",
    "      'Metabolism and nutrition disorders' : 'Metabolism/ Nutrition',\n",
    "\n",
    "      'Musculoskeletal and connective tissue disorders' : 'Musculoskeletal',\n",
    "\n",
    "      'Ear and labyrinth disorders' : 'Ear', \n",
    "      'Eye disorders' : 'Eye', \n",
    "\n",
    "      'Neoplasms benign, malignant and unspecified (incl cysts and polyps)' : 'Neoplasms',\n",
    "\n",
    "      'Congenital, familial and genetic disorders' : 'Genetic',\n",
    "      'Reproductive system and breast disorders' : 'Reproductive/ Breast',\n",
    "      'Pregnancy, puerperium and perinatal conditions' : 'Pregnancy/ Perinatal'\n",
    "      # 'Investigations',\n",
    "      # 'Product Issues', \n",
    "      })\n",
    "\n",
    "my_adverse_system[\"organ_system\"] = my_adverse_system[\"organ_system\"].replace(r\"\\s*disorders$\", \"\", regex=True)\n",
    "my_adverse_system = my_adverse_system.groupby(\"nct_id\").agg({\"organ_system\": lambda x: sorted(set(i for i in x if pd.notnull(i)))}).reset_index()\n",
    "my_adverse_system"
   ]
  },
  {
   "cell_type": "markdown",
   "id": "8cbcbca0",
   "metadata": {},
   "source": [
    "## my_designs"
   ]
  },
  {
   "cell_type": "code",
   "execution_count": 211,
   "id": "3a07b9ba",
   "metadata": {},
   "outputs": [
    {
     "data": {
      "application/vnd.microsoft.datawrangler.viewer.v0+json": {
       "columns": [
        {
         "name": "index",
         "rawType": "int64",
         "type": "integer"
        },
        {
         "name": "nct_id",
         "rawType": "object",
         "type": "string"
        },
        {
         "name": "allocation",
         "rawType": "object",
         "type": "unknown"
        },
        {
         "name": "intervention_model",
         "rawType": "object",
         "type": "unknown"
        },
        {
         "name": "primary_purpose",
         "rawType": "object",
         "type": "unknown"
        },
        {
         "name": "masking",
         "rawType": "object",
         "type": "unknown"
        },
        {
         "name": "subject_masked",
         "rawType": "object",
         "type": "unknown"
        },
        {
         "name": "caregiver_masked",
         "rawType": "object",
         "type": "unknown"
        },
        {
         "name": "investigator_masked",
         "rawType": "object",
         "type": "unknown"
        },
        {
         "name": "outcomes_assessor_masked",
         "rawType": "object",
         "type": "unknown"
        },
        {
         "name": "masking_detail",
         "rawType": "object",
         "type": "unknown"
        }
       ],
       "ref": "7bfbc150-0d8c-40c5-bf4a-b423dee6dc3d",
       "rows": [
        [
         "0",
         "NCT00125528",
         "RANDOMIZED",
         "PARALLEL",
         "TREATMENT",
         "TRIPLE",
         "PARTICIPANT",
         null,
         "INVESTIGATOR",
         "OUTCOMES_ASSESSOR",
         "['OUTCOMES_ASSESSOR', 'PARTICIPANT', 'INVESTIGATOR']"
        ],
        [
         "1",
         "NCT00170209",
         "RANDOMIZED",
         "PARALLEL",
         "TREATMENT",
         "NONE",
         null,
         null,
         null,
         null,
         "[]"
        ],
        [
         "2",
         "NCT00194714",
         "NA",
         "SINGLE_GROUP",
         "TREATMENT",
         "NONE",
         null,
         null,
         null,
         null,
         "[]"
        ],
        [
         "3",
         "NCT00293735",
         "RANDOMIZED",
         "PARALLEL",
         "PREVENTION",
         "NONE",
         null,
         null,
         null,
         null,
         "[]"
        ],
        [
         "4",
         "NCT00306059",
         "RANDOMIZED",
         "PARALLEL",
         "TREATMENT",
         "NONE",
         null,
         null,
         null,
         null,
         "[]"
        ],
        [
         "5",
         "NCT00307905",
         "RANDOMIZED",
         "PARALLEL",
         "TREATMENT",
         "QUADRUPLE",
         "PARTICIPANT",
         "CARE_PROVIDER",
         "INVESTIGATOR",
         "OUTCOMES_ASSESSOR",
         "['CARE_PROVIDER', 'OUTCOMES_ASSESSOR', 'PARTICIPANT', 'INVESTIGATOR']"
        ],
        [
         "6",
         "NCT00328809",
         "NA",
         "SINGLE_GROUP",
         "TREATMENT",
         "NONE",
         null,
         null,
         null,
         null,
         "[]"
        ],
        [
         "7",
         "NCT00329641",
         "NA",
         "SINGLE_GROUP",
         "TREATMENT",
         "NONE",
         null,
         null,
         null,
         null,
         "[]"
        ],
        [
         "8",
         "NCT00356317",
         "RANDOMIZED",
         "PARALLEL",
         "TREATMENT",
         "NONE",
         null,
         null,
         null,
         null,
         "[]"
        ],
        [
         "9",
         "NCT00362219",
         "RANDOMIZED",
         "PARALLEL",
         "TREATMENT",
         "TRIPLE",
         "PARTICIPANT",
         "CARE_PROVIDER",
         null,
         "OUTCOMES_ASSESSOR",
         "['CARE_PROVIDER', 'OUTCOMES_ASSESSOR', 'PARTICIPANT']"
        ],
        [
         "10",
         "NCT00372762",
         "RANDOMIZED",
         "CROSSOVER",
         "TREATMENT",
         "QUADRUPLE",
         "PARTICIPANT",
         "CARE_PROVIDER",
         "INVESTIGATOR",
         "OUTCOMES_ASSESSOR",
         "['CARE_PROVIDER', 'OUTCOMES_ASSESSOR', 'PARTICIPANT', 'INVESTIGATOR']"
        ],
        [
         "11",
         "NCT00397501",
         "NON_RANDOMIZED",
         "PARALLEL",
         "TREATMENT",
         "NONE",
         null,
         null,
         null,
         null,
         "[]"
        ],
        [
         "12",
         "NCT00397579",
         "NA",
         "SINGLE_GROUP",
         "TREATMENT",
         "NONE",
         null,
         null,
         null,
         null,
         "[]"
        ],
        [
         "13",
         "NCT00399594",
         "RANDOMIZED",
         "PARALLEL",
         "TREATMENT",
         "TRIPLE",
         "PARTICIPANT",
         "CARE_PROVIDER",
         null,
         "OUTCOMES_ASSESSOR",
         "['CARE_PROVIDER', 'OUTCOMES_ASSESSOR', 'PARTICIPANT']"
        ],
        [
         "14",
         "NCT00422422",
         "NA",
         "SINGLE_GROUP",
         "TREATMENT",
         "NONE",
         null,
         null,
         null,
         null,
         "[]"
        ],
        [
         "15",
         "NCT00448201",
         "NON_RANDOMIZED",
         "SINGLE_GROUP",
         "TREATMENT",
         "NONE",
         null,
         null,
         null,
         null,
         "[]"
        ],
        [
         "16",
         "NCT00455039",
         "NA",
         "SINGLE_GROUP",
         "TREATMENT",
         "NONE",
         null,
         null,
         null,
         null,
         "[]"
        ],
        [
         "17",
         "NCT00455052",
         "NA",
         "SINGLE_GROUP",
         "TREATMENT",
         "NONE",
         null,
         null,
         null,
         null,
         "[]"
        ],
        [
         "18",
         "NCT00459641",
         "RANDOMIZED",
         "PARALLEL",
         "TREATMENT",
         "NONE",
         null,
         null,
         null,
         null,
         "[]"
        ],
        [
         "19",
         "NCT00488605",
         "RANDOMIZED",
         "SINGLE_GROUP",
         "TREATMENT",
         "NONE",
         null,
         null,
         null,
         null,
         "[]"
        ],
        [
         "20",
         "NCT00504322",
         "RANDOMIZED",
         "PARALLEL",
         "TREATMENT",
         "QUADRUPLE",
         "PARTICIPANT",
         "CARE_PROVIDER",
         "INVESTIGATOR",
         "OUTCOMES_ASSESSOR",
         "['CARE_PROVIDER', 'OUTCOMES_ASSESSOR', 'PARTICIPANT', 'INVESTIGATOR']"
        ],
        [
         "21",
         "NCT00532584",
         "NON_RANDOMIZED",
         "FACTORIAL",
         "TREATMENT",
         "NONE",
         null,
         null,
         null,
         null,
         "[]"
        ],
        [
         "22",
         "NCT00534703",
         "RANDOMIZED",
         "PARALLEL",
         "TREATMENT",
         "QUADRUPLE",
         "PARTICIPANT",
         "CARE_PROVIDER",
         "INVESTIGATOR",
         "OUTCOMES_ASSESSOR",
         "['CARE_PROVIDER', 'OUTCOMES_ASSESSOR', 'PARTICIPANT', 'INVESTIGATOR']"
        ],
        [
         "23",
         "NCT00554996",
         "NON_RANDOMIZED",
         "SINGLE_GROUP",
         "PREVENTION",
         "NONE",
         null,
         null,
         null,
         null,
         "[]"
        ],
        [
         "24",
         "NCT00570050",
         "RANDOMIZED",
         "CROSSOVER",
         "TREATMENT",
         "QUADRUPLE",
         "PARTICIPANT",
         "CARE_PROVIDER",
         "INVESTIGATOR",
         "OUTCOMES_ASSESSOR",
         "['CARE_PROVIDER', 'OUTCOMES_ASSESSOR', 'PARTICIPANT', 'INVESTIGATOR']"
        ],
        [
         "25",
         "NCT00571246",
         "RANDOMIZED",
         "FACTORIAL",
         "TREATMENT",
         "TRIPLE",
         "PARTICIPANT",
         "CARE_PROVIDER",
         "INVESTIGATOR",
         null,
         "['CARE_PROVIDER', 'PARTICIPANT', 'INVESTIGATOR']"
        ],
        [
         "26",
         "NCT00572689",
         "NON_RANDOMIZED",
         "SINGLE_GROUP",
         null,
         "NONE",
         null,
         null,
         null,
         null,
         "[]"
        ],
        [
         "27",
         "NCT00593164",
         "RANDOMIZED",
         "PARALLEL",
         "TREATMENT",
         "TRIPLE",
         "PARTICIPANT",
         "CARE_PROVIDER",
         "INVESTIGATOR",
         null,
         "['CARE_PROVIDER', 'PARTICIPANT', 'INVESTIGATOR']"
        ],
        [
         "28",
         "NCT00603460",
         "RANDOMIZED",
         "SINGLE_GROUP",
         "OTHER",
         "NONE",
         null,
         null,
         null,
         null,
         "[]"
        ],
        [
         "29",
         "NCT00640094",
         "RANDOMIZED",
         "PARALLEL",
         "TREATMENT",
         "QUADRUPLE",
         "PARTICIPANT",
         "CARE_PROVIDER",
         "INVESTIGATOR",
         "OUTCOMES_ASSESSOR",
         "['CARE_PROVIDER', 'OUTCOMES_ASSESSOR', 'PARTICIPANT', 'INVESTIGATOR']"
        ],
        [
         "30",
         "NCT00640445",
         "RANDOMIZED",
         "FACTORIAL",
         "TREATMENT",
         "SINGLE",
         null,
         null,
         "INVESTIGATOR",
         null,
         "['INVESTIGATOR']"
        ],
        [
         "31",
         "NCT00642252",
         "RANDOMIZED",
         "CROSSOVER",
         "PREVENTION",
         "DOUBLE",
         "PARTICIPANT",
         null,
         null,
         "OUTCOMES_ASSESSOR",
         "['OUTCOMES_ASSESSOR', 'PARTICIPANT']"
        ],
        [
         "32",
         "NCT00662298",
         "NA",
         "SINGLE_GROUP",
         "OTHER",
         "NONE",
         null,
         null,
         null,
         null,
         "[]"
        ],
        [
         "33",
         "NCT00669162",
         "NA",
         "SINGLE_GROUP",
         "TREATMENT",
         "NONE",
         null,
         null,
         null,
         null,
         "[]"
        ],
        [
         "34",
         "NCT00673842",
         "RANDOMIZED",
         "PARALLEL",
         "TREATMENT",
         "NONE",
         null,
         null,
         null,
         null,
         "[]"
        ],
        [
         "35",
         "NCT00686556",
         "NON_RANDOMIZED",
         "SINGLE_GROUP",
         "TREATMENT",
         "NONE",
         null,
         null,
         null,
         null,
         "[]"
        ],
        [
         "36",
         "NCT00701233",
         "RANDOMIZED",
         "PARALLEL",
         "TREATMENT",
         "QUADRUPLE",
         "PARTICIPANT",
         "CARE_PROVIDER",
         "INVESTIGATOR",
         "OUTCOMES_ASSESSOR",
         "['CARE_PROVIDER', 'OUTCOMES_ASSESSOR', 'PARTICIPANT', 'INVESTIGATOR']"
        ],
        [
         "37",
         "NCT00711841",
         "RANDOMIZED",
         "PARALLEL",
         "TREATMENT",
         "QUADRUPLE",
         "PARTICIPANT",
         "CARE_PROVIDER",
         "INVESTIGATOR",
         "OUTCOMES_ASSESSOR",
         "['CARE_PROVIDER', 'OUTCOMES_ASSESSOR', 'PARTICIPANT', 'INVESTIGATOR']"
        ],
        [
         "38",
         "NCT00724633",
         "RANDOMIZED",
         "PARALLEL",
         "TREATMENT",
         "QUADRUPLE",
         "PARTICIPANT",
         "CARE_PROVIDER",
         "INVESTIGATOR",
         "OUTCOMES_ASSESSOR",
         "['CARE_PROVIDER', 'OUTCOMES_ASSESSOR', 'PARTICIPANT', 'INVESTIGATOR']"
        ],
        [
         "39",
         "NCT00730067",
         "RANDOMIZED",
         "PARALLEL",
         "TREATMENT",
         "DOUBLE",
         "PARTICIPANT",
         null,
         "INVESTIGATOR",
         null,
         "['PARTICIPANT', 'INVESTIGATOR']"
        ],
        [
         "40",
         "NCT00737893",
         "RANDOMIZED",
         "PARALLEL",
         "TREATMENT",
         "TRIPLE",
         "PARTICIPANT",
         null,
         "INVESTIGATOR",
         "OUTCOMES_ASSESSOR",
         "['OUTCOMES_ASSESSOR', 'PARTICIPANT', 'INVESTIGATOR']"
        ],
        [
         "41",
         "NCT00739375",
         "NA",
         "SINGLE_GROUP",
         "BASIC_SCIENCE",
         "NONE",
         null,
         null,
         null,
         null,
         "[]"
        ],
        [
         "42",
         "NCT00747071",
         "RANDOMIZED",
         "SINGLE_GROUP",
         "PREVENTION",
         "QUADRUPLE",
         "PARTICIPANT",
         "CARE_PROVIDER",
         "INVESTIGATOR",
         "OUTCOMES_ASSESSOR",
         "['CARE_PROVIDER', 'OUTCOMES_ASSESSOR', 'PARTICIPANT', 'INVESTIGATOR']"
        ],
        [
         "43",
         "NCT00753402",
         "RANDOMIZED",
         "PARALLEL",
         null,
         "DOUBLE",
         "PARTICIPANT",
         null,
         "INVESTIGATOR",
         null,
         "['PARTICIPANT', 'INVESTIGATOR']"
        ],
        [
         "44",
         "NCT00757055",
         "RANDOMIZED",
         "CROSSOVER",
         "TREATMENT",
         "NONE",
         null,
         null,
         null,
         null,
         "[]"
        ],
        [
         "45",
         "NCT00760825",
         "NA",
         "SINGLE_GROUP",
         "PREVENTION",
         "NONE",
         null,
         null,
         null,
         null,
         "[]"
        ],
        [
         "46",
         "NCT00764270",
         "RANDOMIZED",
         "CROSSOVER",
         "TREATMENT",
         "QUADRUPLE",
         "PARTICIPANT",
         "CARE_PROVIDER",
         "INVESTIGATOR",
         "OUTCOMES_ASSESSOR",
         "['CARE_PROVIDER', 'OUTCOMES_ASSESSOR', 'PARTICIPANT', 'INVESTIGATOR']"
        ],
        [
         "47",
         "NCT00764478",
         "RANDOMIZED",
         "PARALLEL",
         "TREATMENT",
         "QUADRUPLE",
         "PARTICIPANT",
         "CARE_PROVIDER",
         "INVESTIGATOR",
         "OUTCOMES_ASSESSOR",
         "['CARE_PROVIDER', 'OUTCOMES_ASSESSOR', 'PARTICIPANT', 'INVESTIGATOR']"
        ],
        [
         "48",
         "NCT00784966",
         "RANDOMIZED",
         "PARALLEL",
         "TREATMENT",
         "NONE",
         null,
         null,
         null,
         null,
         "[]"
        ],
        [
         "49",
         "NCT00793013",
         "RANDOMIZED",
         "PARALLEL",
         "TREATMENT",
         "NONE",
         null,
         null,
         null,
         null,
         "[]"
        ]
       ],
       "shape": {
        "columns": 10,
        "rows": 83519
       }
      },
      "text/html": [
       "<div>\n",
       "<style scoped>\n",
       "    .dataframe tbody tr th:only-of-type {\n",
       "        vertical-align: middle;\n",
       "    }\n",
       "\n",
       "    .dataframe tbody tr th {\n",
       "        vertical-align: top;\n",
       "    }\n",
       "\n",
       "    .dataframe thead th {\n",
       "        text-align: right;\n",
       "    }\n",
       "</style>\n",
       "<table border=\"1\" class=\"dataframe\">\n",
       "  <thead>\n",
       "    <tr style=\"text-align: right;\">\n",
       "      <th></th>\n",
       "      <th>nct_id</th>\n",
       "      <th>allocation</th>\n",
       "      <th>intervention_model</th>\n",
       "      <th>primary_purpose</th>\n",
       "      <th>masking</th>\n",
       "      <th>subject_masked</th>\n",
       "      <th>caregiver_masked</th>\n",
       "      <th>investigator_masked</th>\n",
       "      <th>outcomes_assessor_masked</th>\n",
       "      <th>masking_detail</th>\n",
       "    </tr>\n",
       "  </thead>\n",
       "  <tbody>\n",
       "    <tr>\n",
       "      <th>0</th>\n",
       "      <td>NCT00125528</td>\n",
       "      <td>RANDOMIZED</td>\n",
       "      <td>PARALLEL</td>\n",
       "      <td>TREATMENT</td>\n",
       "      <td>TRIPLE</td>\n",
       "      <td>PARTICIPANT</td>\n",
       "      <td>NaN</td>\n",
       "      <td>INVESTIGATOR</td>\n",
       "      <td>OUTCOMES_ASSESSOR</td>\n",
       "      <td>[OUTCOMES_ASSESSOR, PARTICIPANT, INVESTIGATOR]</td>\n",
       "    </tr>\n",
       "    <tr>\n",
       "      <th>1</th>\n",
       "      <td>NCT00170209</td>\n",
       "      <td>RANDOMIZED</td>\n",
       "      <td>PARALLEL</td>\n",
       "      <td>TREATMENT</td>\n",
       "      <td>NONE</td>\n",
       "      <td>None</td>\n",
       "      <td>None</td>\n",
       "      <td>None</td>\n",
       "      <td>None</td>\n",
       "      <td>[]</td>\n",
       "    </tr>\n",
       "    <tr>\n",
       "      <th>2</th>\n",
       "      <td>NCT00194714</td>\n",
       "      <td>NA</td>\n",
       "      <td>SINGLE_GROUP</td>\n",
       "      <td>TREATMENT</td>\n",
       "      <td>NONE</td>\n",
       "      <td>None</td>\n",
       "      <td>None</td>\n",
       "      <td>None</td>\n",
       "      <td>None</td>\n",
       "      <td>[]</td>\n",
       "    </tr>\n",
       "    <tr>\n",
       "      <th>3</th>\n",
       "      <td>NCT00293735</td>\n",
       "      <td>RANDOMIZED</td>\n",
       "      <td>PARALLEL</td>\n",
       "      <td>PREVENTION</td>\n",
       "      <td>NONE</td>\n",
       "      <td>None</td>\n",
       "      <td>None</td>\n",
       "      <td>None</td>\n",
       "      <td>None</td>\n",
       "      <td>[]</td>\n",
       "    </tr>\n",
       "    <tr>\n",
       "      <th>4</th>\n",
       "      <td>NCT00306059</td>\n",
       "      <td>RANDOMIZED</td>\n",
       "      <td>PARALLEL</td>\n",
       "      <td>TREATMENT</td>\n",
       "      <td>NONE</td>\n",
       "      <td>None</td>\n",
       "      <td>None</td>\n",
       "      <td>None</td>\n",
       "      <td>None</td>\n",
       "      <td>[]</td>\n",
       "    </tr>\n",
       "    <tr>\n",
       "      <th>...</th>\n",
       "      <td>...</td>\n",
       "      <td>...</td>\n",
       "      <td>...</td>\n",
       "      <td>...</td>\n",
       "      <td>...</td>\n",
       "      <td>...</td>\n",
       "      <td>...</td>\n",
       "      <td>...</td>\n",
       "      <td>...</td>\n",
       "      <td>...</td>\n",
       "    </tr>\n",
       "    <tr>\n",
       "      <th>83514</th>\n",
       "      <td>NCT07173179</td>\n",
       "      <td>RANDOMIZED</td>\n",
       "      <td>PARALLEL</td>\n",
       "      <td>PREVENTION</td>\n",
       "      <td>DOUBLE</td>\n",
       "      <td>PARTICIPANT</td>\n",
       "      <td>CARE_PROVIDER</td>\n",
       "      <td>NaN</td>\n",
       "      <td>NaN</td>\n",
       "      <td>[CARE_PROVIDER, PARTICIPANT]</td>\n",
       "    </tr>\n",
       "    <tr>\n",
       "      <th>83515</th>\n",
       "      <td>NCT07173738</td>\n",
       "      <td>RANDOMIZED</td>\n",
       "      <td>SEQUENTIAL</td>\n",
       "      <td>TREATMENT</td>\n",
       "      <td>NONE</td>\n",
       "      <td>None</td>\n",
       "      <td>None</td>\n",
       "      <td>None</td>\n",
       "      <td>None</td>\n",
       "      <td>[]</td>\n",
       "    </tr>\n",
       "    <tr>\n",
       "      <th>83516</th>\n",
       "      <td>NCT07174011</td>\n",
       "      <td>RANDOMIZED</td>\n",
       "      <td>PARALLEL</td>\n",
       "      <td>TREATMENT</td>\n",
       "      <td>DOUBLE</td>\n",
       "      <td>PARTICIPANT</td>\n",
       "      <td>NaN</td>\n",
       "      <td>NaN</td>\n",
       "      <td>OUTCOMES_ASSESSOR</td>\n",
       "      <td>[OUTCOMES_ASSESSOR, PARTICIPANT]</td>\n",
       "    </tr>\n",
       "    <tr>\n",
       "      <th>83517</th>\n",
       "      <td>NCT07174024</td>\n",
       "      <td>RANDOMIZED</td>\n",
       "      <td>PARALLEL</td>\n",
       "      <td>TREATMENT</td>\n",
       "      <td>DOUBLE</td>\n",
       "      <td>PARTICIPANT</td>\n",
       "      <td>NaN</td>\n",
       "      <td>NaN</td>\n",
       "      <td>OUTCOMES_ASSESSOR</td>\n",
       "      <td>[OUTCOMES_ASSESSOR, PARTICIPANT]</td>\n",
       "    </tr>\n",
       "    <tr>\n",
       "      <th>83518</th>\n",
       "      <td>NCT07176832</td>\n",
       "      <td>RANDOMIZED</td>\n",
       "      <td>PARALLEL</td>\n",
       "      <td>TREATMENT</td>\n",
       "      <td>NONE</td>\n",
       "      <td>None</td>\n",
       "      <td>None</td>\n",
       "      <td>None</td>\n",
       "      <td>None</td>\n",
       "      <td>[]</td>\n",
       "    </tr>\n",
       "  </tbody>\n",
       "</table>\n",
       "<p>83519 rows × 10 columns</p>\n",
       "</div>"
      ],
      "text/plain": [
       "            nct_id  allocation intervention_model primary_purpose masking  \\\n",
       "0      NCT00125528  RANDOMIZED           PARALLEL       TREATMENT  TRIPLE   \n",
       "1      NCT00170209  RANDOMIZED           PARALLEL       TREATMENT    NONE   \n",
       "2      NCT00194714          NA       SINGLE_GROUP       TREATMENT    NONE   \n",
       "3      NCT00293735  RANDOMIZED           PARALLEL      PREVENTION    NONE   \n",
       "4      NCT00306059  RANDOMIZED           PARALLEL       TREATMENT    NONE   \n",
       "...            ...         ...                ...             ...     ...   \n",
       "83514  NCT07173179  RANDOMIZED           PARALLEL      PREVENTION  DOUBLE   \n",
       "83515  NCT07173738  RANDOMIZED         SEQUENTIAL       TREATMENT    NONE   \n",
       "83516  NCT07174011  RANDOMIZED           PARALLEL       TREATMENT  DOUBLE   \n",
       "83517  NCT07174024  RANDOMIZED           PARALLEL       TREATMENT  DOUBLE   \n",
       "83518  NCT07176832  RANDOMIZED           PARALLEL       TREATMENT    NONE   \n",
       "\n",
       "      subject_masked caregiver_masked investigator_masked  \\\n",
       "0        PARTICIPANT              NaN        INVESTIGATOR   \n",
       "1               None             None                None   \n",
       "2               None             None                None   \n",
       "3               None             None                None   \n",
       "4               None             None                None   \n",
       "...              ...              ...                 ...   \n",
       "83514    PARTICIPANT    CARE_PROVIDER                 NaN   \n",
       "83515           None             None                None   \n",
       "83516    PARTICIPANT              NaN                 NaN   \n",
       "83517    PARTICIPANT              NaN                 NaN   \n",
       "83518           None             None                None   \n",
       "\n",
       "      outcomes_assessor_masked                                  masking_detail  \n",
       "0            OUTCOMES_ASSESSOR  [OUTCOMES_ASSESSOR, PARTICIPANT, INVESTIGATOR]  \n",
       "1                         None                                              []  \n",
       "2                         None                                              []  \n",
       "3                         None                                              []  \n",
       "4                         None                                              []  \n",
       "...                        ...                                             ...  \n",
       "83514                      NaN                    [CARE_PROVIDER, PARTICIPANT]  \n",
       "83515                     None                                              []  \n",
       "83516        OUTCOMES_ASSESSOR                [OUTCOMES_ASSESSOR, PARTICIPANT]  \n",
       "83517        OUTCOMES_ASSESSOR                [OUTCOMES_ASSESSOR, PARTICIPANT]  \n",
       "83518                     None                                              []  \n",
       "\n",
       "[83519 rows x 10 columns]"
      ]
     },
     "execution_count": 211,
     "metadata": {},
     "output_type": "execute_result"
    }
   ],
   "source": [
    "create_table_sql = \"\"\"\n",
    "DROP TABLE IF EXISTS ctgov.my_designs;\n",
    "\n",
    "CREATE TABLE ctgov.my_designs AS\n",
    "SELECT DISTINCT ON \n",
    "(\n",
    "  studies.nct_id,\n",
    "  studies.phase,\n",
    "  designs.allocation,\n",
    "  designs.intervention_model,\n",
    "  designs.primary_purpose,\n",
    "  designs.masking,\n",
    "  designs.subject_masked,\n",
    "  designs.caregiver_masked,\n",
    "  designs.investigator_masked,\n",
    "  designs.outcomes_assessor_masked\n",
    ")\n",
    "\n",
    "  studies.nct_id,\n",
    "  designs.allocation,\n",
    "  designs.intervention_model,\n",
    "  designs.primary_purpose,\n",
    "  designs.masking,\n",
    "  designs.subject_masked,\n",
    "  designs.caregiver_masked,\n",
    "  designs.investigator_masked,\n",
    "  designs.outcomes_assessor_masked\n",
    "\n",
    "FROM ctgov.studies\n",
    "\n",
    "LEFT JOIN ctgov.designs\n",
    "  ON studies.nct_id = designs.nct_id\n",
    "\n",
    "WHERE TO_CHAR(studies.start_date, 'YYYY-MM') >= '2011-01'\n",
    "    AND studies.study_type = 'INTERVENTIONAL'\n",
    "    AND studies.overall_status in ('COMPLETED','WITHDRAWN', 'TERMINATED')\n",
    "    AND studies.phase in  ('PHASE1/PHASE2', 'PHASE2/PHASE3', 'PHASE1', 'PHASE2', 'PHASE3', 'PHASE4')\n",
    "\n",
    "ORDER BY \n",
    "  studies.nct_id,\n",
    "  studies.phase,\n",
    "  designs.allocation,\n",
    "  designs.intervention_model,\n",
    "  designs.primary_purpose,\n",
    "  designs.masking,\n",
    "  designs.subject_masked,\n",
    "  designs.caregiver_masked,\n",
    "  designs.investigator_masked,\n",
    "  designs.outcomes_assessor_masked;\n",
    "\n",
    "\"\"\"\n",
    "\n",
    "with engine.connect() as conn:\n",
    "    conn.execute(text(create_table_sql))\n",
    "    conn.commit()\n",
    "\n",
    "my_designs = pd.read_sql(\"select * from ctgov.my_designs;\", con = engine)\n",
    "\n",
    "my_designs[\"subject_masked\"] = my_designs[\"subject_masked\"].replace({True : \"PARTICIPANT\", False : np.NaN})\n",
    "my_designs[\"caregiver_masked\"] = my_designs[\"caregiver_masked\"].replace({True : \"CARE_PROVIDER\", False : np.NaN})\n",
    "my_designs[\"investigator_masked\"] = my_designs[\"investigator_masked\"].replace({True : \"INVESTIGATOR\", False : np.NaN})\n",
    "my_designs[\"outcomes_assessor_masked\"] = my_designs[\"outcomes_assessor_masked\"].replace({True : \"OUTCOMES_ASSESSOR\", False : np.NaN})\n",
    "\n",
    "my_designs[\"masking_detail\"] = my_designs[[\"subject_masked\", \"caregiver_masked\", \"investigator_masked\", \"outcomes_assessor_masked\"]].apply(\n",
    "    lambda row: [val for val in row if pd.notna(val) and val != \"None\"], axis=1)\n",
    "my_designs['masking_detail'] = my_designs['masking_detail'].apply(lambda x: list(set(sorted(x))))\n",
    "my_designs"
   ]
  },
  {
   "cell_type": "markdown",
   "id": "e5979b1f",
   "metadata": {},
   "source": [
    "## my_eligibilities"
   ]
  },
  {
   "cell_type": "code",
   "execution_count": 212,
   "id": "96dd3515",
   "metadata": {},
   "outputs": [
    {
     "data": {
      "application/vnd.microsoft.datawrangler.viewer.v0+json": {
       "columns": [
        {
         "name": "index",
         "rawType": "int64",
         "type": "integer"
        },
        {
         "name": "nct_id",
         "rawType": "object",
         "type": "string"
        },
        {
         "name": "gender",
         "rawType": "object",
         "type": "unknown"
        },
        {
         "name": "healthy_volunteers",
         "rawType": "object",
         "type": "unknown"
        }
       ],
       "ref": "4a54c252-62e9-4124-a939-cb9dc6c2024e",
       "rows": [
        [
         "0",
         "NCT00125528",
         "ALL",
         "Condition"
        ],
        [
         "1",
         "NCT00170209",
         "ALL",
         "Condition"
        ],
        [
         "2",
         "NCT00194714",
         "FEMALE",
         "Condition"
        ],
        [
         "3",
         "NCT00293735",
         "FEMALE",
         "Condition"
        ],
        [
         "4",
         "NCT00306059",
         "ALL",
         "Condition"
        ],
        [
         "5",
         "NCT00307905",
         "ALL",
         "Condition"
        ],
        [
         "6",
         "NCT00328809",
         "ALL",
         "Condition"
        ],
        [
         "7",
         "NCT00329641",
         "ALL",
         "Condition"
        ],
        [
         "8",
         "NCT00356317",
         "ALL",
         "Healthy"
        ],
        [
         "9",
         "NCT00362219",
         "ALL",
         "Condition"
        ],
        [
         "10",
         "NCT00372762",
         "ALL",
         "Condition"
        ],
        [
         "11",
         "NCT00397501",
         "FEMALE",
         "Condition"
        ],
        [
         "12",
         "NCT00397579",
         "ALL",
         "Condition"
        ],
        [
         "13",
         "NCT00399594",
         "ALL",
         "Condition"
        ],
        [
         "14",
         "NCT00422422",
         "ALL",
         "Condition"
        ],
        [
         "15",
         "NCT00448201",
         "ALL",
         "Condition"
        ],
        [
         "16",
         "NCT00455039",
         "FEMALE",
         "Condition"
        ],
        [
         "17",
         "NCT00455052",
         "ALL",
         "Condition"
        ],
        [
         "18",
         "NCT00459641",
         "ALL",
         "Condition"
        ],
        [
         "19",
         "NCT00488605",
         "ALL",
         "Condition"
        ],
        [
         "20",
         "NCT00504322",
         "ALL",
         "Condition"
        ],
        [
         "21",
         "NCT00532584",
         "ALL",
         "Healthy"
        ],
        [
         "22",
         "NCT00534703",
         "ALL",
         "Condition"
        ],
        [
         "23",
         "NCT00554996",
         "ALL",
         "Condition"
        ],
        [
         "24",
         "NCT00570050",
         "ALL",
         "Condition"
        ],
        [
         "25",
         "NCT00571246",
         "ALL",
         "Condition"
        ],
        [
         "26",
         "NCT00572689",
         "FEMALE",
         "Condition"
        ],
        [
         "27",
         "NCT00593164",
         "ALL",
         "Condition"
        ],
        [
         "28",
         "NCT00603460",
         "FEMALE",
         "Condition"
        ],
        [
         "29",
         "NCT00640094",
         "ALL",
         "Condition"
        ],
        [
         "30",
         "NCT00640445",
         "ALL",
         "Healthy"
        ],
        [
         "31",
         "NCT00642252",
         "ALL",
         "Healthy"
        ],
        [
         "32",
         "NCT00662298",
         "ALL",
         "Condition"
        ],
        [
         "33",
         "NCT00669162",
         "MALE",
         "Condition"
        ],
        [
         "34",
         "NCT00673842",
         "ALL",
         "Condition"
        ],
        [
         "35",
         "NCT00686556",
         "ALL",
         "Condition"
        ],
        [
         "36",
         "NCT00701233",
         "ALL",
         "Condition"
        ],
        [
         "37",
         "NCT00711841",
         "FEMALE",
         "Condition"
        ],
        [
         "38",
         "NCT00724633",
         "ALL",
         "Condition"
        ],
        [
         "39",
         "NCT00730067",
         "ALL",
         "Condition"
        ],
        [
         "40",
         "NCT00737893",
         "MALE",
         "Condition"
        ],
        [
         "41",
         "NCT00739375",
         "ALL",
         "Condition"
        ],
        [
         "42",
         "NCT00747071",
         "ALL",
         "Condition"
        ],
        [
         "43",
         "NCT00753402",
         "ALL",
         "Healthy"
        ],
        [
         "44",
         "NCT00757055",
         "ALL",
         "Condition"
        ],
        [
         "45",
         "NCT00760825",
         "ALL",
         "Healthy"
        ],
        [
         "46",
         "NCT00764270",
         "ALL",
         "Condition"
        ],
        [
         "47",
         "NCT00764478",
         "ALL",
         "Condition"
        ],
        [
         "48",
         "NCT00784966",
         "ALL",
         "Condition"
        ],
        [
         "49",
         "NCT00793013",
         "ALL",
         "Condition"
        ]
       ],
       "shape": {
        "columns": 3,
        "rows": 83519
       }
      },
      "text/html": [
       "<div>\n",
       "<style scoped>\n",
       "    .dataframe tbody tr th:only-of-type {\n",
       "        vertical-align: middle;\n",
       "    }\n",
       "\n",
       "    .dataframe tbody tr th {\n",
       "        vertical-align: top;\n",
       "    }\n",
       "\n",
       "    .dataframe thead th {\n",
       "        text-align: right;\n",
       "    }\n",
       "</style>\n",
       "<table border=\"1\" class=\"dataframe\">\n",
       "  <thead>\n",
       "    <tr style=\"text-align: right;\">\n",
       "      <th></th>\n",
       "      <th>nct_id</th>\n",
       "      <th>gender</th>\n",
       "      <th>healthy_volunteers</th>\n",
       "    </tr>\n",
       "  </thead>\n",
       "  <tbody>\n",
       "    <tr>\n",
       "      <th>0</th>\n",
       "      <td>NCT00125528</td>\n",
       "      <td>ALL</td>\n",
       "      <td>Condition</td>\n",
       "    </tr>\n",
       "    <tr>\n",
       "      <th>1</th>\n",
       "      <td>NCT00170209</td>\n",
       "      <td>ALL</td>\n",
       "      <td>Condition</td>\n",
       "    </tr>\n",
       "    <tr>\n",
       "      <th>2</th>\n",
       "      <td>NCT00194714</td>\n",
       "      <td>FEMALE</td>\n",
       "      <td>Condition</td>\n",
       "    </tr>\n",
       "    <tr>\n",
       "      <th>3</th>\n",
       "      <td>NCT00293735</td>\n",
       "      <td>FEMALE</td>\n",
       "      <td>Condition</td>\n",
       "    </tr>\n",
       "    <tr>\n",
       "      <th>4</th>\n",
       "      <td>NCT00306059</td>\n",
       "      <td>ALL</td>\n",
       "      <td>Condition</td>\n",
       "    </tr>\n",
       "    <tr>\n",
       "      <th>...</th>\n",
       "      <td>...</td>\n",
       "      <td>...</td>\n",
       "      <td>...</td>\n",
       "    </tr>\n",
       "    <tr>\n",
       "      <th>83514</th>\n",
       "      <td>NCT07173179</td>\n",
       "      <td>ALL</td>\n",
       "      <td>Condition</td>\n",
       "    </tr>\n",
       "    <tr>\n",
       "      <th>83515</th>\n",
       "      <td>NCT07173738</td>\n",
       "      <td>ALL</td>\n",
       "      <td>Healthy</td>\n",
       "    </tr>\n",
       "    <tr>\n",
       "      <th>83516</th>\n",
       "      <td>NCT07174011</td>\n",
       "      <td>ALL</td>\n",
       "      <td>Condition</td>\n",
       "    </tr>\n",
       "    <tr>\n",
       "      <th>83517</th>\n",
       "      <td>NCT07174024</td>\n",
       "      <td>ALL</td>\n",
       "      <td>Condition</td>\n",
       "    </tr>\n",
       "    <tr>\n",
       "      <th>83518</th>\n",
       "      <td>NCT07176832</td>\n",
       "      <td>ALL</td>\n",
       "      <td>Healthy</td>\n",
       "    </tr>\n",
       "  </tbody>\n",
       "</table>\n",
       "<p>83519 rows × 3 columns</p>\n",
       "</div>"
      ],
      "text/plain": [
       "            nct_id  gender healthy_volunteers\n",
       "0      NCT00125528     ALL          Condition\n",
       "1      NCT00170209     ALL          Condition\n",
       "2      NCT00194714  FEMALE          Condition\n",
       "3      NCT00293735  FEMALE          Condition\n",
       "4      NCT00306059     ALL          Condition\n",
       "...            ...     ...                ...\n",
       "83514  NCT07173179     ALL          Condition\n",
       "83515  NCT07173738     ALL            Healthy\n",
       "83516  NCT07174011     ALL          Condition\n",
       "83517  NCT07174024     ALL          Condition\n",
       "83518  NCT07176832     ALL            Healthy\n",
       "\n",
       "[83519 rows x 3 columns]"
      ]
     },
     "execution_count": 212,
     "metadata": {},
     "output_type": "execute_result"
    }
   ],
   "source": [
    "create_table_sql = \"\"\"\n",
    "DROP TABLE IF EXISTS ctgov.my_eligibilities;\n",
    "\n",
    "CREATE TABLE ctgov.my_eligibilities AS\n",
    "SELECT DISTINCT ON \n",
    "(\n",
    "  studies.nct_id, \n",
    "  studies.phase,\n",
    "  eligibilities.gender, \n",
    "  eligibilities.healthy_volunteers\n",
    ") \n",
    "studies.nct_id, \n",
    "eligibilities.gender, \n",
    "eligibilities.healthy_volunteers\n",
    "                               \n",
    "FROM ctgov.studies\n",
    "LEFT JOIN ctgov.eligibilities\n",
    "\tON studies.nct_id = eligibilities.nct_id\n",
    "    \n",
    "WHERE TO_CHAR(studies.start_date, 'YYYY-MM') >= '2011-01'\n",
    "    AND studies.study_type = 'INTERVENTIONAL'\n",
    "    AND studies.overall_status in ('COMPLETED','WITHDRAWN', 'TERMINATED')\n",
    "    AND studies.phase in  ('PHASE1/PHASE2', 'PHASE2/PHASE3', 'PHASE1', 'PHASE2', 'PHASE3', 'PHASE4')\n",
    "    \n",
    "ORDER BY \n",
    "  studies.nct_id, \n",
    "  studies.phase,\n",
    "  eligibilities.gender, \n",
    "  eligibilities.healthy_volunteers;\n",
    "\"\"\"\n",
    "# eligibilities.minimum_age, \n",
    "\n",
    "with engine.connect() as conn:\n",
    "    conn.execute(text(create_table_sql))\n",
    "    conn.commit()\n",
    "\n",
    "    \n",
    "my_eligibilities = pd.read_sql(\"select * from ctgov.my_eligibilities;\", con = engine)\n",
    "my_eligibilities[\"healthy_volunteers\"] = my_eligibilities[\"healthy_volunteers\"].replace({True : \"Healthy\", False : \"Condition\", None : np.NaN})\n",
    "my_eligibilities"
   ]
  },
  {
   "cell_type": "markdown",
   "id": "5da9c8c8",
   "metadata": {},
   "source": [
    "## my_locations"
   ]
  },
  {
   "cell_type": "code",
   "execution_count": 213,
   "id": "92f1bf06",
   "metadata": {},
   "outputs": [
    {
     "data": {
      "application/vnd.microsoft.datawrangler.viewer.v0+json": {
       "columns": [
        {
         "name": "index",
         "rawType": "int64",
         "type": "integer"
        },
        {
         "name": "nct_id",
         "rawType": "object",
         "type": "string"
        },
        {
         "name": "phase",
         "rawType": "object",
         "type": "string"
        },
        {
         "name": "countries_country",
         "rawType": "object",
         "type": "unknown"
        },
        {
         "name": "facilities_country",
         "rawType": "object",
         "type": "unknown"
        },
        {
         "name": "facilities_city",
         "rawType": "object",
         "type": "unknown"
        },
        {
         "name": "Country_Counts",
         "rawType": "int64",
         "type": "integer"
        },
        {
         "name": "City_Counts",
         "rawType": "int64",
         "type": "integer"
        }
       ],
       "ref": "71705285-4842-4475-ba07-60e8fb079401",
       "rows": [
        [
         "0",
         "NCT00125528",
         "PHASE2",
         "['United States']",
         "['United States']",
         "['Chicago']",
         "1",
         "1"
        ],
        [
         "1",
         "NCT00170209",
         "PHASE3",
         "['Australia', 'Benin', 'Brazil', 'Canada', 'Ghana', 'Guinea', 'Indonesia', 'Saudi Arabia']",
         "['Australia', 'Benin', 'Brazil', 'Canada', 'Ghana', 'Guinea', 'Indonesia']",
         "['Bandung', 'Conakry', 'Cotonou', 'Edmonton', 'Kumasi', 'Montreal', 'Rio de Janeiro', 'Sydney', 'Vancouver']",
         "7",
         "9"
        ],
        [
         "2",
         "NCT00194714",
         "PHASE1/PHASE2",
         "['United States']",
         "['United States']",
         "['Seattle']",
         "1",
         "1"
        ],
        [
         "3",
         "NCT00293735",
         "PHASE2/PHASE3",
         "['France', 'Germany', 'India', 'United States']",
         "['India', 'United States']",
         "['Houston', 'Kerala']",
         "2",
         "2"
        ],
        [
         "4",
         "NCT00306059",
         "PHASE2",
         "['Belgium']",
         "['Belgium']",
         "['Ghent']",
         "1",
         "1"
        ],
        [
         "5",
         "NCT00307905",
         "PHASE3",
         "['Israel']",
         "['Israel']",
         "['Jerusalem']",
         "1",
         "1"
        ],
        [
         "6",
         "NCT00328809",
         "PHASE4",
         "['United States']",
         "['United States']",
         "['Syracuse']",
         "1",
         "1"
        ],
        [
         "7",
         "NCT00329641",
         "PHASE2",
         "['United States']",
         "['United States']",
         "['San Antonio']",
         "1",
         "1"
        ],
        [
         "8",
         "NCT00356317",
         "PHASE2",
         "['United States']",
         "['United States']",
         "['Coral Gables']",
         "1",
         "1"
        ],
        [
         "9",
         "NCT00362219",
         "PHASE3",
         "['Israel']",
         "['Israel']",
         "['Haifa']",
         "1",
         "1"
        ],
        [
         "10",
         "NCT00372762",
         "PHASE3",
         "['Canada']",
         "['Canada']",
         "['London']",
         "1",
         "1"
        ],
        [
         "11",
         "NCT00397501",
         "PHASE1/PHASE2",
         "['United States']",
         "[]",
         "[]",
         "0",
         "0"
        ],
        [
         "12",
         "NCT00397579",
         "PHASE1/PHASE2",
         "['Canada', 'United States']",
         "['United States']",
         "['Dallas']",
         "1",
         "1"
        ],
        [
         "13",
         "NCT00399594",
         "PHASE2/PHASE3",
         "['Canada']",
         "['Canada']",
         "['Calgary', 'London', 'Ste-Foy']",
         "1",
         "3"
        ],
        [
         "14",
         "NCT00422422",
         "PHASE2",
         "['Belgium', 'Czechia', 'Mexico', 'Poland', 'Spain', 'United States']",
         "['Belgium', 'Czechia', 'Mexico', 'Poland', 'Spain', 'United States']",
         "['Aguascalientes', 'Barcelona', 'Bialystok', 'Boston', 'Brussels', 'Buffalo', 'Chesterfield', 'Chihuahua City', 'Cincinnati', 'Ciuliacan', 'Gdansk', 'Guadalajara', 'Gulf Breeze', 'Houston', 'Hradec Králové', 'Kielce', 'Krakow', 'Leuven', 'Madrid', 'Mexico City', 'Miami', 'Monterrey', 'Nashville', 'Ostrava Porubo', 'Palma de Mallorca', 'Pittsburgh', 'Poznan', 'Prague', 'Rochester', 'Rzeszów', 'Saint Paul', 'San Luis Potosí City', 'Santander', 'Szczecin', 'Valencia', 'Wellington', 'Wroclaw', 'Zaragoza']",
         "6",
         "38"
        ],
        [
         "15",
         "NCT00448201",
         "PHASE2",
         "['United States']",
         "['United States']",
         "['Chapel Hill']",
         "1",
         "1"
        ],
        [
         "16",
         "NCT00455039",
         "PHASE1/PHASE2",
         "['United States']",
         "['United States']",
         "['Albuquerque']",
         "1",
         "1"
        ],
        [
         "17",
         "NCT00455052",
         "PHASE1",
         "['United States']",
         "['United States']",
         "['Baltimore', 'Denver', 'Greenville', 'Indianapolis', 'Las Vegas', 'New York', 'Norfolk', 'Scottsdale', 'Spokane', 'Springfield', 'Tyler', 'Vancouver']",
         "1",
         "12"
        ],
        [
         "18",
         "NCT00459641",
         "PHASE2",
         "['Italy', 'Switzerland']",
         "[]",
         "[]",
         "0",
         "0"
        ],
        [
         "19",
         "NCT00488605",
         "PHASE3",
         "['United States']",
         "['United States']",
         "['Albuquerque']",
         "1",
         "1"
        ],
        [
         "20",
         "NCT00504322",
         "PHASE1/PHASE2",
         "['United States']",
         "[]",
         "[]",
         "0",
         "0"
        ],
        [
         "21",
         "NCT00532584",
         "PHASE4",
         "['United States']",
         "['United States']",
         "['New York']",
         "1",
         "1"
        ],
        [
         "22",
         "NCT00534703",
         "PHASE2",
         "['United Kingdom']",
         "['United Kingdom']",
         "['Cambridge', 'Middlesex']",
         "1",
         "2"
        ],
        [
         "23",
         "NCT00554996",
         "PHASE1",
         "['United States']",
         "['United States']",
         "['Houston']",
         "1",
         "1"
        ],
        [
         "24",
         "NCT00570050",
         "PHASE3",
         "['Canada']",
         "['Canada']",
         "['Toronto']",
         "1",
         "1"
        ],
        [
         "25",
         "NCT00571246",
         "PHASE3",
         "['United States']",
         "['United States']",
         "['West Haven']",
         "1",
         "1"
        ],
        [
         "26",
         "NCT00572689",
         "PHASE4",
         "['United States']",
         "['United States']",
         "['Washington D.C.']",
         "1",
         "1"
        ],
        [
         "27",
         "NCT00593164",
         "PHASE2",
         "['Austria']",
         "['Austria']",
         "['Vienna']",
         "1",
         "1"
        ],
        [
         "28",
         "NCT00603460",
         "PHASE1/PHASE2",
         "['United States']",
         "['United States']",
         "['Philadelphia']",
         "1",
         "1"
        ],
        [
         "29",
         "NCT00640094",
         "PHASE2",
         "['Spain']",
         "['Spain']",
         "['Cartagena', 'San Cristóbal de La Laguna', 'Santander']",
         "1",
         "3"
        ],
        [
         "30",
         "NCT00640445",
         "PHASE2/PHASE3",
         "['United States']",
         "['United States']",
         "['Minneapolis']",
         "1",
         "1"
        ],
        [
         "31",
         "NCT00642252",
         "PHASE1",
         "['United States']",
         "['United States']",
         "['Indianapolis']",
         "1",
         "1"
        ],
        [
         "32",
         "NCT00662298",
         "PHASE4",
         "['United Kingdom']",
         "['United Kingdom']",
         "['London']",
         "1",
         "1"
        ],
        [
         "33",
         "NCT00669162",
         "PHASE1/PHASE2",
         "['United States']",
         "['United States']",
         "['Kansas City']",
         "1",
         "1"
        ],
        [
         "34",
         "NCT00673842",
         "PHASE3",
         "['Belgium', 'Canada', 'Finland', 'France', 'Germany', 'Hungary', 'Italy', 'Norway', 'Saudi Arabia', 'Slovakia', 'South Africa', 'Spain', 'Sweden', 'United Kingdom', 'United States']",
         "['Belgium', 'Canada', 'Finland', 'France', 'Germany', 'Hungary', 'Italy', 'Norway', 'Saudi Arabia', 'Slovakia', 'South Africa', 'Spain', 'Sweden', 'United Kingdom', 'United States']",
         "['Akron', 'Alicante', 'Amarillo', 'Barcelona', 'Bergamo', 'Bologna', 'Boston', 'Bratislava', 'Brest', 'Calgary', 'Cambridge', 'Centurion', 'Charlottesville', 'Cincinnati', 'Cleveland', 'Columbus', 'Doylestown', 'Edmonton', 'Evansville', 'Greenville', 'Göttingen', 'Halifax', 'Hamilton', 'Helsinki', 'Huntsville', 'Lakewood', 'Laval', 'Leuven', 'Liverpool', 'London', 'Lynchburg', 'Madrid', 'Montreal', 'Nantes', 'Nashville', 'New Westminster', 'New York', 'Newmarket', 'Oslo', 'Ottawa', 'Oulu', 'Pavia', 'Pittsburgh', 'Regina', 'Ridgewood', 'Riyadh', 'Saint John', 'Saint Louis', 'Salisbury', 'Saskatoon', 'Sherbrooke', 'Southfield', 'Spokane', 'Springfield', 'Swindon', 'Tampa', 'Toronto', 'Toulouse', 'Trois-Rivières', 'Vancouver', 'Victoria', 'Voorhees Township', 'West Des Moines', 'Wilkes-Barre', 'Winnipeg', 'Zalaegerszeg', 'Örebro']",
         "15",
         "67"
        ],
        [
         "35",
         "NCT00686556",
         "PHASE1",
         "['United States']",
         "['United States']",
         "['Minneapolis']",
         "1",
         "1"
        ],
        [
         "36",
         "NCT00701233",
         "PHASE2",
         "['United States']",
         "['United States']",
         "['Minneapolis']",
         "1",
         "1"
        ],
        [
         "37",
         "NCT00711841",
         "PHASE4",
         "['Brazil']",
         "['Brazil']",
         "['Recife']",
         "1",
         "1"
        ],
        [
         "38",
         "NCT00724633",
         "PHASE3",
         "['Canada']",
         "['Canada']",
         "['London']",
         "1",
         "1"
        ],
        [
         "39",
         "NCT00730067",
         "PHASE4",
         "['Denmark']",
         "['Denmark']",
         "['Aarhus', 'Århus N']",
         "1",
         "2"
        ],
        [
         "40",
         "NCT00737893",
         "PHASE2",
         "['United States']",
         "['United States']",
         "['Baltimore']",
         "1",
         "1"
        ],
        [
         "41",
         "NCT00739375",
         "PHASE1",
         "['Israel']",
         "['Israel']",
         "['Jerusalem']",
         "1",
         "1"
        ],
        [
         "42",
         "NCT00747071",
         "PHASE2/PHASE3",
         "['Israel']",
         "['Israel']",
         "['Jerusalem']",
         "1",
         "1"
        ],
        [
         "43",
         "NCT00753402",
         "PHASE1",
         "['United States']",
         "['United States']",
         "['New Brunswick']",
         "1",
         "1"
        ],
        [
         "44",
         "NCT00757055",
         "PHASE2",
         "['Ireland']",
         "['Ireland']",
         "['Dublin']",
         "1",
         "1"
        ],
        [
         "45",
         "NCT00760825",
         "PHASE4",
         "['India']",
         "['India']",
         "['Vellore']",
         "1",
         "1"
        ],
        [
         "46",
         "NCT00764270",
         "PHASE2/PHASE3",
         "['United States']",
         "['United States']",
         "['Portland']",
         "1",
         "1"
        ],
        [
         "47",
         "NCT00764478",
         "PHASE3",
         "['Bulgaria', 'Croatia', 'Romania', 'Russia', 'Ukraine', 'United States']",
         "[]",
         "[]",
         "0",
         "0"
        ],
        [
         "48",
         "NCT00784966",
         "PHASE1/PHASE2",
         "['United States']",
         "['United States']",
         "['Richmond']",
         "1",
         "1"
        ],
        [
         "49",
         "NCT00793013",
         "PHASE2",
         "['United States']",
         "['United States']",
         "['Chattanooga']",
         "1",
         "1"
        ]
       ],
       "shape": {
        "columns": 7,
        "rows": 83519
       }
      },
      "text/html": [
       "<div>\n",
       "<style scoped>\n",
       "    .dataframe tbody tr th:only-of-type {\n",
       "        vertical-align: middle;\n",
       "    }\n",
       "\n",
       "    .dataframe tbody tr th {\n",
       "        vertical-align: top;\n",
       "    }\n",
       "\n",
       "    .dataframe thead th {\n",
       "        text-align: right;\n",
       "    }\n",
       "</style>\n",
       "<table border=\"1\" class=\"dataframe\">\n",
       "  <thead>\n",
       "    <tr style=\"text-align: right;\">\n",
       "      <th></th>\n",
       "      <th>nct_id</th>\n",
       "      <th>phase</th>\n",
       "      <th>countries_country</th>\n",
       "      <th>facilities_country</th>\n",
       "      <th>facilities_city</th>\n",
       "      <th>Country_Counts</th>\n",
       "      <th>City_Counts</th>\n",
       "    </tr>\n",
       "  </thead>\n",
       "  <tbody>\n",
       "    <tr>\n",
       "      <th>0</th>\n",
       "      <td>NCT00125528</td>\n",
       "      <td>PHASE2</td>\n",
       "      <td>[United States]</td>\n",
       "      <td>[United States]</td>\n",
       "      <td>[Chicago]</td>\n",
       "      <td>1</td>\n",
       "      <td>1</td>\n",
       "    </tr>\n",
       "    <tr>\n",
       "      <th>1</th>\n",
       "      <td>NCT00170209</td>\n",
       "      <td>PHASE3</td>\n",
       "      <td>[Australia, Benin, Brazil, Canada, Ghana, Guin...</td>\n",
       "      <td>[Australia, Benin, Brazil, Canada, Ghana, Guin...</td>\n",
       "      <td>[Bandung, Conakry, Cotonou, Edmonton, Kumasi, ...</td>\n",
       "      <td>7</td>\n",
       "      <td>9</td>\n",
       "    </tr>\n",
       "    <tr>\n",
       "      <th>2</th>\n",
       "      <td>NCT00194714</td>\n",
       "      <td>PHASE1/PHASE2</td>\n",
       "      <td>[United States]</td>\n",
       "      <td>[United States]</td>\n",
       "      <td>[Seattle]</td>\n",
       "      <td>1</td>\n",
       "      <td>1</td>\n",
       "    </tr>\n",
       "    <tr>\n",
       "      <th>3</th>\n",
       "      <td>NCT00293735</td>\n",
       "      <td>PHASE2/PHASE3</td>\n",
       "      <td>[France, Germany, India, United States]</td>\n",
       "      <td>[India, United States]</td>\n",
       "      <td>[Houston, Kerala]</td>\n",
       "      <td>2</td>\n",
       "      <td>2</td>\n",
       "    </tr>\n",
       "    <tr>\n",
       "      <th>4</th>\n",
       "      <td>NCT00306059</td>\n",
       "      <td>PHASE2</td>\n",
       "      <td>[Belgium]</td>\n",
       "      <td>[Belgium]</td>\n",
       "      <td>[Ghent]</td>\n",
       "      <td>1</td>\n",
       "      <td>1</td>\n",
       "    </tr>\n",
       "    <tr>\n",
       "      <th>...</th>\n",
       "      <td>...</td>\n",
       "      <td>...</td>\n",
       "      <td>...</td>\n",
       "      <td>...</td>\n",
       "      <td>...</td>\n",
       "      <td>...</td>\n",
       "      <td>...</td>\n",
       "    </tr>\n",
       "    <tr>\n",
       "      <th>83514</th>\n",
       "      <td>NCT07173179</td>\n",
       "      <td>PHASE4</td>\n",
       "      <td>[Turkey (Türkiye)]</td>\n",
       "      <td>[Turkey (Türkiye)]</td>\n",
       "      <td>[Düzce]</td>\n",
       "      <td>1</td>\n",
       "      <td>1</td>\n",
       "    </tr>\n",
       "    <tr>\n",
       "      <th>83515</th>\n",
       "      <td>NCT07173738</td>\n",
       "      <td>PHASE1</td>\n",
       "      <td>[United Kingdom]</td>\n",
       "      <td>[United Kingdom]</td>\n",
       "      <td>[Merthyr Tydfil]</td>\n",
       "      <td>1</td>\n",
       "      <td>1</td>\n",
       "    </tr>\n",
       "    <tr>\n",
       "      <th>83516</th>\n",
       "      <td>NCT07174011</td>\n",
       "      <td>PHASE4</td>\n",
       "      <td>[Egypt]</td>\n",
       "      <td>[Egypt]</td>\n",
       "      <td>[Giza]</td>\n",
       "      <td>1</td>\n",
       "      <td>1</td>\n",
       "    </tr>\n",
       "    <tr>\n",
       "      <th>83517</th>\n",
       "      <td>NCT07174024</td>\n",
       "      <td>PHASE4</td>\n",
       "      <td>[Egypt]</td>\n",
       "      <td>[Egypt]</td>\n",
       "      <td>[Giza]</td>\n",
       "      <td>1</td>\n",
       "      <td>1</td>\n",
       "    </tr>\n",
       "    <tr>\n",
       "      <th>83518</th>\n",
       "      <td>NCT07176832</td>\n",
       "      <td>PHASE1</td>\n",
       "      <td>[France]</td>\n",
       "      <td>[France]</td>\n",
       "      <td>[Compiègne, Gières]</td>\n",
       "      <td>1</td>\n",
       "      <td>2</td>\n",
       "    </tr>\n",
       "  </tbody>\n",
       "</table>\n",
       "<p>83519 rows × 7 columns</p>\n",
       "</div>"
      ],
      "text/plain": [
       "            nct_id          phase  \\\n",
       "0      NCT00125528         PHASE2   \n",
       "1      NCT00170209         PHASE3   \n",
       "2      NCT00194714  PHASE1/PHASE2   \n",
       "3      NCT00293735  PHASE2/PHASE3   \n",
       "4      NCT00306059         PHASE2   \n",
       "...            ...            ...   \n",
       "83514  NCT07173179         PHASE4   \n",
       "83515  NCT07173738         PHASE1   \n",
       "83516  NCT07174011         PHASE4   \n",
       "83517  NCT07174024         PHASE4   \n",
       "83518  NCT07176832         PHASE1   \n",
       "\n",
       "                                       countries_country  \\\n",
       "0                                        [United States]   \n",
       "1      [Australia, Benin, Brazil, Canada, Ghana, Guin...   \n",
       "2                                        [United States]   \n",
       "3                [France, Germany, India, United States]   \n",
       "4                                              [Belgium]   \n",
       "...                                                  ...   \n",
       "83514                                 [Turkey (Türkiye)]   \n",
       "83515                                   [United Kingdom]   \n",
       "83516                                            [Egypt]   \n",
       "83517                                            [Egypt]   \n",
       "83518                                           [France]   \n",
       "\n",
       "                                      facilities_country  \\\n",
       "0                                        [United States]   \n",
       "1      [Australia, Benin, Brazil, Canada, Ghana, Guin...   \n",
       "2                                        [United States]   \n",
       "3                                 [India, United States]   \n",
       "4                                              [Belgium]   \n",
       "...                                                  ...   \n",
       "83514                                 [Turkey (Türkiye)]   \n",
       "83515                                   [United Kingdom]   \n",
       "83516                                            [Egypt]   \n",
       "83517                                            [Egypt]   \n",
       "83518                                           [France]   \n",
       "\n",
       "                                         facilities_city  Country_Counts  \\\n",
       "0                                              [Chicago]               1   \n",
       "1      [Bandung, Conakry, Cotonou, Edmonton, Kumasi, ...               7   \n",
       "2                                              [Seattle]               1   \n",
       "3                                      [Houston, Kerala]               2   \n",
       "4                                                [Ghent]               1   \n",
       "...                                                  ...             ...   \n",
       "83514                                            [Düzce]               1   \n",
       "83515                                   [Merthyr Tydfil]               1   \n",
       "83516                                             [Giza]               1   \n",
       "83517                                             [Giza]               1   \n",
       "83518                                [Compiègne, Gières]               1   \n",
       "\n",
       "       City_Counts  \n",
       "0                1  \n",
       "1                9  \n",
       "2                1  \n",
       "3                2  \n",
       "4                1  \n",
       "...            ...  \n",
       "83514            1  \n",
       "83515            1  \n",
       "83516            1  \n",
       "83517            1  \n",
       "83518            2  \n",
       "\n",
       "[83519 rows x 7 columns]"
      ]
     },
     "execution_count": 213,
     "metadata": {},
     "output_type": "execute_result"
    }
   ],
   "source": [
    "create_table_sql =\"\"\"\n",
    "DROP TABLE IF EXISTS ctgov.my_locations;\n",
    "\n",
    "CREATE TABLE ctgov.my_locations AS\n",
    "SELECT DISTINCT ON (\n",
    "    studies.nct_id,\n",
    "    studies.phase,\n",
    "    countries.name,\n",
    "    facilities.country,\n",
    "    facilities.city\n",
    ")\n",
    "    studies.nct_id,\n",
    "    studies.phase,\n",
    "    countries.name AS countries_country,\n",
    "    facilities.country AS facilities_country,\n",
    "    facilities.city AS facilities_city\n",
    "    \n",
    "FROM ctgov.studies \n",
    "LEFT JOIN ctgov.facilities\n",
    "    ON studies.nct_id = facilities.nct_id\n",
    "LEFT JOIN ctgov.countries\n",
    "    ON studies.nct_id = countries.nct_id\n",
    "\n",
    "WHERE TO_CHAR(studies.start_date, 'YYYY-MM') >= '2011-01'\n",
    "    AND studies.study_type = 'INTERVENTIONAL'\n",
    "    AND studies.overall_status in ('COMPLETED','WITHDRAWN', 'TERMINATED')\n",
    "    AND studies.phase in  ('PHASE1/PHASE2', 'PHASE2/PHASE3', 'PHASE1', 'PHASE2', 'PHASE3', 'PHASE4')  \n",
    "ORDER BY \n",
    "    studies.nct_id,\n",
    "    studies.phase,\n",
    "    countries.name,\n",
    "    facilities.country,\n",
    "    facilities.city;\n",
    "\n",
    "\"\"\"\n",
    "# facilities.state, \n",
    "with engine.connect() as conn:\n",
    "    conn.execute(text(create_table_sql))\n",
    "    conn.commit()\n",
    " \n",
    "my_locations = pd.read_sql(\"select * from ctgov.my_locations;\", con = engine)\n",
    "\n",
    "my_locations = my_locations.groupby(\"nct_id\").agg({\n",
    "    \"phase\": 'first', # only one phase per nct_id # else \"phase\": lambda x: \", \".join(sorted(x.unique()))\n",
    "    \"countries_country\": lambda x: sorted(set(i for i in x if pd.notnull(i))),\n",
    "    \"facilities_country\": lambda x: sorted(set(i for i in x if pd.notnull(i))),\n",
    "    \"facilities_city\": lambda x: sorted(set(i for i in x if pd.notnull(i)))\n",
    "}).reset_index()\n",
    "\n",
    "my_locations[\"Country_Counts\"] = my_locations[\"facilities_country\"].apply(lambda x: len(x))\n",
    "my_locations[\"City_Counts\"] = my_locations[\"facilities_city\"].apply(lambda x: len(x))\n",
    "\n",
    "my_locations"
   ]
  },
  {
   "cell_type": "code",
   "execution_count": 214,
   "id": "1639b47d",
   "metadata": {},
   "outputs": [
    {
     "data": {
      "application/vnd.microsoft.datawrangler.viewer.v0+json": {
       "columns": [
        {
         "name": "facilities_country",
         "rawType": "object",
         "type": "unknown"
        },
        {
         "name": "count",
         "rawType": "int64",
         "type": "integer"
        }
       ],
       "ref": "c19122e4-f9dd-49cf-b975-b2fa5f6a7383",
       "rows": [
        [
         "('United States',)",
         "29203"
        ],
        [
         "('China',)",
         "5430"
        ],
        [
         "()",
         "5060"
        ],
        [
         "('South Korea',)",
         "2569"
        ],
        [
         "('United Kingdom',)",
         "2360"
        ],
        [
         "('Canada',)",
         "2113"
        ],
        [
         "('Germany',)",
         "2074"
        ],
        [
         "('France',)",
         "1987"
        ],
        [
         "('Japan',)",
         "1706"
        ],
        [
         "('Egypt',)",
         "1654"
        ],
        [
         "('Spain',)",
         "1089"
        ],
        [
         "('Netherlands',)",
         "989"
        ],
        [
         "('Italy',)",
         "960"
        ],
        [
         "('Belgium',)",
         "931"
        ],
        [
         "('Australia',)",
         "891"
        ],
        [
         "('Brazil',)",
         "874"
        ],
        [
         "('Canada', 'United States')",
         "840"
        ],
        [
         "('Denmark',)",
         "743"
        ],
        [
         "('India',)",
         "598"
        ],
        [
         "('Taiwan',)",
         "552"
        ],
        [
         "('Switzerland',)",
         "540"
        ],
        [
         "('Russia',)",
         "506"
        ],
        [
         "('Turkey (Türkiye)',)",
         "424"
        ],
        [
         "('Israel',)",
         "397"
        ],
        [
         "('Sweden',)",
         "390"
        ],
        [
         "('Mexico',)",
         "358"
        ],
        [
         "('Thailand',)",
         "332"
        ],
        [
         "('Pakistan',)",
         "305"
        ],
        [
         "('Austria',)",
         "304"
        ],
        [
         "('Iran',)",
         "272"
        ],
        [
         "('Puerto Rico', 'United States')",
         "256"
        ],
        [
         "('Singapore',)",
         "247"
        ],
        [
         "('Indonesia',)",
         "239"
        ],
        [
         "('Norway',)",
         "220"
        ],
        [
         "('South Africa',)",
         "204"
        ],
        [
         "('Poland',)",
         "186"
        ],
        [
         "('Finland',)",
         "184"
        ],
        [
         "('Australia', 'United States')",
         "175"
        ],
        [
         "('United Kingdom', 'United States')",
         "168"
        ],
        [
         "('Greece',)",
         "161"
        ],
        [
         "('Hong Kong',)",
         "143"
        ],
        [
         "('Bangladesh',)",
         "136"
        ],
        [
         "('New Zealand',)",
         "123"
        ],
        [
         "('Vietnam',)",
         "114"
        ],
        [
         "('Saudi Arabia',)",
         "104"
        ],
        [
         "('Czechia',)",
         "101"
        ],
        [
         "('Malaysia',)",
         "96"
        ],
        [
         "('Argentina',)",
         "95"
        ],
        [
         "('Germany', 'United States')",
         "90"
        ],
        [
         "('Spain', 'United States')",
         "80"
        ]
       ],
       "shape": {
        "columns": 1,
        "rows": 9014
       }
      },
      "text/plain": [
       "facilities_country\n",
       "(United States,)                                                                                                                                                                                                                  29203\n",
       "(China,)                                                                                                                                                                                                                           5430\n",
       "()                                                                                                                                                                                                                                 5060\n",
       "(South Korea,)                                                                                                                                                                                                                     2569\n",
       "(United Kingdom,)                                                                                                                                                                                                                  2360\n",
       "                                                                                                                                                                                                                                  ...  \n",
       "(Australia, Austria, Belgium, Brazil, Denmark, Hong Kong, Hungary, Israel, Peru, Philippines, Poland, Spain, Taiwan, United States)                                                                                                   1\n",
       "(Canada, Czechia, Italy, North Macedonia, Romania, Serbia, United States)                                                                                                                                                             1\n",
       "(Argentina, Australia, Austria, Belgium, Denmark, France, Germany, Hungary, Italy, Mexico, Netherlands, Peru, Poland, Portugal, Russia, Slovakia, Spain, Sweden, Switzerland, Turkey (Türkiye), United Kingdom, United States)        1\n",
       "(Argentina, Australia, Austria, Belgium, Canada, Denmark, France, Germany, Hungary, Italy, Mexico, Netherlands, Peru, Poland, Slovakia, Spain, Switzerland, United Kingdom, United States)                                            1\n",
       "(Australia, Italy, Malaysia, Netherlands, Poland, Spain)                                                                                                                                                                              1\n",
       "Name: count, Length: 9014, dtype: int64"
      ]
     },
     "execution_count": 214,
     "metadata": {},
     "output_type": "execute_result"
    }
   ],
   "source": [
    "# Fix Country names based on geoDict used in Thesis_Data File\n",
    "country_map = {\n",
    "    'Korea, Republic of': 'South Korea',\n",
    "    'Iran, Islamic Republic of': 'Iran',\n",
    "    'Syrian Arab Republic': 'Syria',\n",
    "    'Russian Federation': 'Russia',\n",
    "    'Czech Republic': 'Czechia',\n",
    "    'Moldova, Republic of': 'Moldova',\n",
    "    'Palestinian Territory, occupied': 'Palestinian Territory',\n",
    "    'Palestinian Territories, Occupied': 'Palestinian Territory',\n",
    "    \"Lao People's Democratic Republic\": 'Laos',\n",
    "    'Libyan Arab Jamahiriya': 'Libya',\n",
    "    'Macedonia, The Former Yugoslav Republic of': 'North Macedonia',\n",
    "    'Brunei Darussalam': 'Brunei',\n",
    "    'Federated States of Micronesia': 'Micronesia',\n",
    "    'Réunion': 'Reunion',\n",
    "    'Congo, The Democratic Republic of the': 'Republic of the Congo',\n",
    "    'Congo': 'Republic of the Congo',\n",
    "    'Timor-Leste': 'Timor Leste'\n",
    "}\n",
    "\n",
    "my_locations['countries_country'] = my_locations['countries_country'].apply(\n",
    "    lambda lst: [country_map.get(country, country) for country in lst] if isinstance(lst, list) else lst)\n",
    "\n",
    "my_locations['facilities_country'] = my_locations['facilities_country'].apply(\n",
    "    lambda lst: [country_map.get(country, country) for country in lst] if isinstance(lst, list) else lst)\n",
    "\n",
    "my_locations['facilities_country'].apply(tuple).value_counts()"
   ]
  },
  {
   "cell_type": "code",
   "execution_count": 215,
   "id": "a07d2323",
   "metadata": {},
   "outputs": [
    {
     "data": {
      "application/vnd.microsoft.datawrangler.viewer.v0+json": {
       "columns": [
        {
         "name": "phase",
         "rawType": "object",
         "type": "string"
        },
        {
         "name": "count",
         "rawType": "int64",
         "type": "integer"
        }
       ],
       "ref": "f17f08f1-0f57-4b3c-ac1e-a76099505ad6",
       "rows": [
        [
         "PHASE4",
         "890"
        ],
        [
         "PHASE2",
         "775"
        ],
        [
         "PHASE1",
         "760"
        ],
        [
         "PHASE3",
         "603"
        ],
        [
         "PHASE1/PHASE2",
         "224"
        ],
        [
         "PHASE2/PHASE3",
         "197"
        ]
       ],
       "shape": {
        "columns": 1,
        "rows": 6
       }
      },
      "text/plain": [
       "phase\n",
       "PHASE4           890\n",
       "PHASE2           775\n",
       "PHASE1           760\n",
       "PHASE3           603\n",
       "PHASE1/PHASE2    224\n",
       "PHASE2/PHASE3    197\n",
       "Name: count, dtype: int64"
      ]
     },
     "execution_count": 215,
     "metadata": {},
     "output_type": "execute_result"
    }
   ],
   "source": [
    "my_locations[(my_locations['countries_country'] != my_locations['facilities_country']) & \\\n",
    "             (my_locations['facilities_country'].apply(lambda x: len(x) != 0))] \n",
    "# Almost 4000 countries have more elements than countries facilities. Thus, missing values can not be filled.\n",
    "# However, in most cases both columns are the same\n",
    "'''constr = (my_locations['countries_country'] != my_locations['facilities_country']) &\\\n",
    "      (my_locations['facilities_country'].apply(lambda x: len(x) == 0))\n",
    "my_locations.loc[constr, 'facilities_country'] = my_locations.loc[constr, 'countries_country']'''\n",
    "\n",
    "my_locations[\n",
    "    my_locations[['countries_country', 'facilities_country', 'facilities_city']].map(lambda x: len(x) == 0).any(axis=1)\n",
    "].count()  \n",
    "# 3027 have missing values in all location columns\n",
    "\n",
    "my_locations[\n",
    "    my_locations[['countries_country']].map(lambda x: len(x) == 0).any(axis=1)\n",
    "]['phase'].value_counts() \n",
    "# phases seem to have equaly distributed missing values in locations"
   ]
  },
  {
   "cell_type": "markdown",
   "id": "14bdd40f",
   "metadata": {},
   "source": [
    "# 2) Save Dfs"
   ]
  },
  {
   "cell_type": "code",
   "execution_count": 216,
   "id": "73bec681",
   "metadata": {},
   "outputs": [],
   "source": [
    "my_studies.to_pickle(r\".\\df_sql\\my_studies.pkl\")\n",
    "my_studies_withdrawn.to_pickle(r\".\\df_sql\\my_studies_withdrawn.pkl\")\n",
    "my_terminations.to_pickle(r\".\\df_sql\\my_terminations.pkl\")  \n",
    "my_conditions.to_pickle(r\".\\df_sql\\my_conditions.pkl\")  \n",
    "my_covid.to_pickle(r\".\\df_sql\\my_covid.pkl\")  \n",
    "my_placebo.to_pickle(r\".\\df_sql\\my_placebo.pkl\")  \n",
    "my_interventions.to_pickle(r\".\\df_sql\\my_interventions.pkl\")  \n",
    "my_interventions_types.to_pickle(r\".\\df_sql\\my_interventions_types.pkl\")  \n",
    "my_soc.to_pickle(r\".\\df_sql\\my_soc.pkl\")  \n",
    "my_intervention_methods2.to_pickle(r\".\\df_sql\\my_intervention_methods2.pkl\")  \n",
    "my_intervention_methods.to_pickle(r\".\\df_sql\\my_intervention_methods.pkl\")  \n",
    "my_adverse.to_pickle(r\".\\df_sql\\my_adverse.pkl\")  \n",
    "my_adverse_system.to_pickle(r\".\\df_sql\\my_adverse_system.pkl\")  \n",
    "my_designs.to_pickle(r\".\\df_sql\\my_designs.pkl\")  \n",
    "my_eligibilities.to_pickle(r\".\\df_sql\\my_eligibilities.pkl\")  \n",
    "my_locations.to_pickle(r\".\\df_sql\\my_locations.pkl\")  \n"
   ]
  }
 ],
 "metadata": {
  "kernelspec": {
   "display_name": "Python 3",
   "language": "python",
   "name": "python3"
  },
  "language_info": {
   "codemirror_mode": {
    "name": "ipython",
    "version": 3
   },
   "file_extension": ".py",
   "mimetype": "text/x-python",
   "name": "python",
   "nbconvert_exporter": "python",
   "pygments_lexer": "ipython3",
   "version": "3.12.10"
  }
 },
 "nbformat": 4,
 "nbformat_minor": 5
}
