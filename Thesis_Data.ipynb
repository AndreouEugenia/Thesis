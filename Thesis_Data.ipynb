{
 "cells": [
  {
   "cell_type": "markdown",
   "metadata": {},
   "source": [
    "# Libraries"
   ]
  },
  {
   "cell_type": "code",
   "execution_count": 398,
   "metadata": {},
   "outputs": [],
   "source": [
    "import pandas as pd\n",
    "import numpy as np\n",
    "import geonamescache \n",
    "from collections import Counter\n",
    "from sklearn.preprocessing import MultiLabelBinarizer\n",
    "import pickle\n",
    "import re\n"
   ]
  },
  {
   "cell_type": "markdown",
   "metadata": {},
   "source": [
    "# 1) Load Sql Tables"
   ]
  },
  {
   "cell_type": "code",
   "execution_count": 399,
   "metadata": {},
   "outputs": [],
   "source": [
    "my_studies = pd.read_pickle(r\"C:\\Users\\Eugenia\\OneDrive\\Documents\\THESIS\\my_studies.pkl\")\n",
    "my_terminations = pd.read_pickle(r\"C:\\Users\\Eugenia\\OneDrive\\Documents\\THESIS\\my_terminations.pkl\")  # not used \n",
    "my_terminations2 = pd.read_pickle(r\"C:\\Users\\Eugenia\\OneDrive\\Documents\\THESIS\\my_terminations2.pkl\")  # not used\n",
    "my_conditions = pd.read_pickle(r\"C:\\Users\\Eugenia\\OneDrive\\Documents\\THESIS\\my_conditions.pkl\")  \n",
    "my_covid = pd.read_pickle(r\"C:\\Users\\Eugenia\\OneDrive\\Documents\\THESIS\\my_covid.pkl\")  \n",
    "my_placebo = pd.read_pickle(r\"C:\\Users\\Eugenia\\OneDrive\\Documents\\THESIS\\my_placebo.pkl\")  \n",
    "my_interventions = pd.read_pickle(r\"C:\\Users\\Eugenia\\OneDrive\\Documents\\THESIS\\my_interventions.pkl\")  \n",
    "my_interventions_types = pd.read_pickle(r\"C:\\Users\\Eugenia\\OneDrive\\Documents\\THESIS\\my_interventions_types.pkl\")  \n",
    "my_soc = pd.read_pickle(r\"C:\\Users\\Eugenia\\OneDrive\\Documents\\THESIS\\my_soc.pkl\")  \n",
    "my_intervention_methods2 = pd.read_pickle(r\"C:\\Users\\Eugenia\\OneDrive\\Documents\\THESIS\\my_intervention_methods2.pkl\")  \n",
    "my_intervention_methods = pd.read_pickle(r\"C:\\Users\\Eugenia\\OneDrive\\Documents\\THESIS\\my_intervention_methods.pkl\")  \n",
    "my_adverse = pd.read_pickle(r\"C:\\Users\\Eugenia\\OneDrive\\Documents\\THESIS\\my_adverse.pkl\")  \n",
    "my_adverse_system = pd.read_pickle(r\"C:\\Users\\Eugenia\\OneDrive\\Documents\\THESIS\\my_adverse_system.pkl\")  \n",
    "my_designs = pd.read_pickle(r\"C:\\Users\\Eugenia\\OneDrive\\Documents\\THESIS\\my_designs.pkl\")  \n",
    "my_eligibilities = pd.read_pickle(r\"C:\\Users\\Eugenia\\OneDrive\\Documents\\THESIS\\my_eligibilities.pkl\")  \n",
    "my_outcomes = pd.read_pickle(r\"C:\\Users\\Eugenia\\OneDrive\\Documents\\THESIS\\my_outcomes.pkl\")  \n",
    "my_locations = pd.read_pickle(r\"C:\\Users\\Eugenia\\OneDrive\\Documents\\THESIS\\my_locations.pkl\")  \n",
    "my_documents = pd.read_pickle(r\"C:\\Users\\Eugenia\\OneDrive\\Documents\\THESIS\\my_documents.pkl\")  \n",
    "my_source = pd.read_pickle(r\"C:\\Users\\Eugenia\\OneDrive\\Documents\\THESIS\\my_source.pkl\")  "
   ]
  },
  {
   "cell_type": "markdown",
   "metadata": {},
   "source": [
    "# 2) Load Data"
   ]
  },
  {
   "cell_type": "markdown",
   "metadata": {},
   "source": [
    "### Load Data"
   ]
  },
  {
   "cell_type": "code",
   "execution_count": 400,
   "metadata": {},
   "outputs": [
    {
     "data": {
      "application/vnd.microsoft.datawrangler.viewer.v0+json": {
       "columns": [
        {
         "name": "index",
         "rawType": "int64",
         "type": "integer"
        },
        {
         "name": "nct_id",
         "rawType": "object",
         "type": "string"
        },
        {
         "name": "Study Title",
         "rawType": "object",
         "type": "string"
        },
        {
         "name": "Study URL",
         "rawType": "object",
         "type": "string"
        },
        {
         "name": "Acronym",
         "rawType": "object",
         "type": "unknown"
        },
        {
         "name": "Study Status",
         "rawType": "object",
         "type": "string"
        },
        {
         "name": "Brief Summary",
         "rawType": "object",
         "type": "string"
        },
        {
         "name": "Study Results",
         "rawType": "object",
         "type": "string"
        },
        {
         "name": "Conditions",
         "rawType": "object",
         "type": "string"
        },
        {
         "name": "Interventions",
         "rawType": "object",
         "type": "string"
        },
        {
         "name": "Primary Outcome Measures",
         "rawType": "object",
         "type": "string"
        },
        {
         "name": "Secondary Outcome Measures",
         "rawType": "object",
         "type": "string"
        },
        {
         "name": "Other Outcome Measures",
         "rawType": "object",
         "type": "unknown"
        },
        {
         "name": "Sponsor",
         "rawType": "object",
         "type": "string"
        },
        {
         "name": "Collaborators",
         "rawType": "object",
         "type": "unknown"
        },
        {
         "name": "Sex",
         "rawType": "object",
         "type": "string"
        },
        {
         "name": "Age",
         "rawType": "object",
         "type": "string"
        },
        {
         "name": "Phases",
         "rawType": "object",
         "type": "unknown"
        },
        {
         "name": "Enrollment",
         "rawType": "float64",
         "type": "float"
        },
        {
         "name": "Funder Type",
         "rawType": "object",
         "type": "string"
        },
        {
         "name": "Study Type",
         "rawType": "object",
         "type": "string"
        },
        {
         "name": "Study Design",
         "rawType": "object",
         "type": "string"
        },
        {
         "name": "Other IDs",
         "rawType": "object",
         "type": "string"
        },
        {
         "name": "Start Date",
         "rawType": "object",
         "type": "string"
        },
        {
         "name": "Primary Completion Date",
         "rawType": "object",
         "type": "string"
        },
        {
         "name": "Completion Date",
         "rawType": "object",
         "type": "string"
        },
        {
         "name": "First Posted",
         "rawType": "object",
         "type": "string"
        },
        {
         "name": "Results First Posted",
         "rawType": "object",
         "type": "unknown"
        },
        {
         "name": "Last Update Posted",
         "rawType": "object",
         "type": "string"
        },
        {
         "name": "Locations",
         "rawType": "object",
         "type": "string"
        },
        {
         "name": "Study Documents",
         "rawType": "object",
         "type": "unknown"
        }
       ],
       "ref": "2ceae736-4efb-413e-a6af-6ce783e0bd7a",
       "rows": [
        [
         "0",
         "NCT04385680",
         "Chlorhexidine Vaginal Preparation for Reduction of Post-cesarean Endometritis and Sepsis",
         "https://clinicaltrials.gov/study/NCT04385680",
         null,
         "COMPLETED",
         "The study aims to assess the beneficial value of vaginal preparation with chlorhexidine gluconate 0.05% before cesarean delivery of cases in labor in reduction of postoperative endometritis, fever and wound complications compared to no preparation or using saline only.",
         "NO",
         "Postpartum Endometritis|Wound Infection|Chlorhexidine Adverse Reaction|Postoperative Fever",
         "DRUG: Chlorhexidine Gluconate vaginal solution 0.05%",
         "post-cesarean endometritis, uterine fundal tenderness on bimanual examination ( physical examination: suprapubic tenderness, pain elicited by cervical motion, tenderness in parametrium, all during bimanual examination) + with fever (An oral temperature of 38°C or higher within the first 10 days postpartum or 38.7°C within the first 24 hours postpartum) ± purulent lochia requiring antibiotic therapy ( initial antibiotic will be started then waiting for proper therapy according to culture and sensitivity, First 10 days post-cesarean|Postoperative wound infection, erythema, warmth, tenderness, purulent drainage from the incision site, with or without fever, requiring antibiotic therapy., First month after cesarean",
         "Significant leukocytosis, increase of WBCs count \\> 50% from preoperative count, First 10 days postcesarean|Chlorhexidine adverse drug reaction, maternal or neonatal allergy or irritation, First 10 days|incidence of hospital readmission, percent of cases needed readmission in both arms, One month|length of hospital stay, duration of hospitalization due to endometritis, One month",
         null,
         "Zagazig University",
         null,
         "FEMALE",
         "ADULT, OLDER_ADULT",
         "PHASE1|PHASE2",
         "840.0",
         "OTHER_GOV",
         "INTERVENTIONAL",
         "Allocation: RANDOMIZED|Intervention Model: PARALLEL|Masking: SINGLE (PARTICIPANT)|Primary Purpose: PREVENTION",
         "chlorhex. post cs endometritis",
         "2020-05-15",
         "2022-03-10",
         "2022-08-30",
         "2020-05-13",
         null,
         "2022-09-23",
         "Armed Forces Hospitals Southern Region, Khamis Mushait, 62411, Saudi Arabia",
         null
        ],
        [
         "1",
         "NCT05017480",
         "A Study to Evaluate the Efficacy and Safety of CBP-201 in Moderate to Severe Atopic Dermatitis in China",
         "https://clinicaltrials.gov/study/NCT05017480",
         null,
         "COMPLETED",
         "This study will evaluate the efficacy and safety of CBP-201 in Chinese subjects with moderate to severe atopic dermatitis.",
         "YES",
         "Moderate-to-severe Atopic Dermatitis",
         "DRUG: CBP-201|DRUG: Placebo",
         "Investigator Global Assessment (IGA) (0-1), The percentage of subjects whose IGA score is 0-1 and decreased by ≥2 points\n\nThe Validated Investigator Global Assessment for AD (vIGA-AD™) Scale is a 5-point classification scale based on the overall appearance of the skin lesions at a specific time point (0=clear; 1=almost clear; 2=mild; 3=moderate; 4=severe)., Baseline to Week16",
         "Eczema Area and Severity Index (EASI)-75, The percentage of subjects achieving EASI-75 (EASI score is decreased by ≥75% from baseline)\n\nThe total EASI score ranges from 0 (lowest) to 72 (highest); the higher the score, the higher the severity of AD (more severe)., Baseline to Week16|Change in Peak Pruritus Numerical Rating Scale(PP-NRS) (Decreased by ≥ 4 Points), The percentage of subjects whose weekly average PP-NRS is decreased by ≥ 4 points\n\nThe score ranges from 0 to 10, in which 0 represents \"no pruritus\" and 10 \"worst imaginable pruritus\"., Baseline to Week16|Change in Peak Pruritus Numerical Rating Scale(PP-NRS) (Decreased by ≥ 3 Points), The percentage of subjects whose weekly average PP-NRS is decreased by ≥ 3 points\n\nThe score ranges from 0 to 10, in which 0 represents \"no pruritus\" and 10 \"worst imaginable pruritus\"., Baseline to Week16|Change in the Weekly Average Peak Pruritus Numerical Rating Scale(PP-NRS), Change in the weekly average PP-NRS\n\nThe score ranges from 0 to 10, in which 0 represents \"no pruritus\" and 10 \"worst imaginable pruritus\"., Baseline to Week16|Eczema Area and Severity Index (EASI)-90, The percentage of subjects achieving EASI-90 (EASI score is decreased by ≥90% from baseline)\n\nThe total EASI score ranges from 0 (lowest) to 72 (highest); the higher the score, the higher the severity of AD (more severe)., Baseline to Week16|Percentage Change in the Weekly Average Peak Pruritus Numerical Rating Scale(PP-NRS), Percentage change in the weekly average PP-NRS\n\nThe score ranges from 0 to 10, in which 0 represents \"no pruritus\" and 10 \"worst imaginable pruritus\"., Baseline to Week16",
         null,
         "Suzhou Connect Biopharmaceuticals, Ltd.",
         null,
         "ALL",
         "CHILD, ADULT, OLDER_ADULT",
         "PHASE2",
         "330.0",
         "INDUSTRY",
         "INTERVENTIONAL",
         "Allocation: RANDOMIZED|Intervention Model: PARALLEL|Masking: QUADRUPLE (PARTICIPANT, CARE_PROVIDER, INVESTIGATOR, OUTCOMES_ASSESSOR)|Primary Purpose: TREATMENT",
         "CBP-201-CN002",
         "2021-08-31",
         "2022-12-01",
         "2023-09-28",
         "2021-08-23",
         "2024-05-01",
         "2024-05-01",
         "Connect Investigative Site 33, Hefei, Anhui, China|Connect Investigative Site 01, Beijing, Beijing, China|Connect Investigative Site 02, Beijing, Beijing, China|Connect Investigative Site 03, Beijing, Beijing, China|Connect Investigative Site 17, Beijing, Beijing, China|Connect Investigative Site 47, Beijing, Beijing, China|Connect Investigative Site 28, Chongqing, Chongqing, China|Connect Investigative Site 29, Chongqing, Chongqing, China|Connect Investigative Site 30, Chongqing, Chongqing, China|Connect Investigative Site 36, Chongqing, Chongqing, China|Connect Investigative Site 38, Fuzhou, Fujian, China|Connect Investigative Site 07, Guangzhou, Guangdong, China|Connect Investigative Site 25, Guangzhou, Guangdong, China|Connect Investigative Site 37, Guangzhou, Guangdong, China|Connect Investigative Site 46, Guangzhou, Guangdong, China|Connect Investigative Site 48, Guangzhou, Guangdong, China|Connect Investigative Site 43, Shaoguan, Guangdong, China|Connect Investigative Site 52, Shenzhen, Guangdong, China|Connect Investigative Site 41, Haikou, Hainan, China|Connect Investigative Site 42, Haikou, Hainan, China|Connect Investigative Site 20, Zhengzhou, He'an, China|Connect Investigative Site 32, Shijiazhuang, Hebei, China|Connect Investigative Site 45, Nanyang, Henan, China|Connect Investigative Site 54, Xinxiang, Henan, China|Connect Investigative Site 49, Wuhan, Hubei, China|Connect Investigative Site 35, Baotou, Inner Mongolia, China|Connect Investigative Site 26, Nanjing, Jiangsu, China|Connect Investigative Site 18, Suzhou, Jiangsu, China|Connect Investigative Site 55, Wuxi, Jiangsu, China|Connect Investigative Site 10, Zhenjiang, Jiangsu, China|Connect Investigative Site 34, Nanchang, Jiangxi, China|Connect Investigative Site 44, Yinchuan, Ningxia, China|Connect Investigative Site 11, Jinan, Shandong, China|Connect Investigative Site 50, Jinan, Shandong, China|Connect Investigative Site 51, Jinan, Shandong, China|Connect Investigative Site 12, Yantai, Shandong, China|Connect Investigative Site 08, Taiyuan, Shanxi, China|Connect Investigative Site 24, Taiyuan, Shanxi, China|Connect Investigative Site 39, Yuncheng, Shanxi, China|Connect Investigative Site 05, Tianjin, Tianjin, China|Connect Investigative Site 06, Tianjin, Tianjin, China|Connect Investigative Site 13, Shanxi, Xi'an, China|Connect Investigative Site 22, Ürümqi, Xinjiang, China|Connect Investigative Site 53, Qujing, Yunnan, China|Connect Investigative Site 14, Hangzhou, Zhejiang, China|Connect Investigative Site 15, Hangzhou, Zhejiang, China|Connect Investigative Site 16, Hangzhou, Zhejiang, China|Connect Investigative Site 19, Jinhua, Zhejiang, China",
         "Study Protocol, https://cdn.clinicaltrials.gov/large-docs/80/NCT05017480/Prot_000.pdf|Statistical Analysis Plan, https://cdn.clinicaltrials.gov/large-docs/80/NCT05017480/SAP_001.pdf"
        ],
        [
         "2",
         "NCT01136980",
         "Randomized EsophyX Versus Sham / Placebo Controlled TIF Trial: The RESPECT Study",
         "https://clinicaltrials.gov/study/NCT01136980",
         "RESPECT",
         "COMPLETED",
         "The objective of the study is to evaluate the relative merits, safety and effectiveness of the EsophyX transoral device in performing an advanced TIF procedure in patients with \"troublesome symptoms\" as defined by the Montreal consensus definition while on PPIs compared with sham and placebo controls.",
         "YES",
         "Gastroesophageal Reflux Disease|Hiatal Hernia",
         "DEVICE: TIF Transoral Fundoplication|OTHER: Sham placebo procedure",
         "Number of Participants With a Clinically Significant Reduction in Gastroesophageal Reflux Disease (GERD) Symptoms (Specifically \"Troublesome\" Regurgitation With or Without Heartburn as Assessed by the RDQ Per the Montreal Consensus Definition,, Primary efficacy Hypothesis 1: At 6-month follow-up, the proportion of Transesophageal Incisionless Fundoplication (TIF)2+Placebo pts who are free of \"troublesome\" symptoms will be statistically significantly larger than those randomized to the Sham+PPI (Proton Pump Inhibitor) treatment group., 6 month follow up",
         "Normalization of Esophageal Acid Exposure - as Measured by DeMeester Score, DeMeester Score is a composite score taking into consideration reflux episodes, percentage of time pH is \\< 4 and others. DMS was first reported in 1974 by Johnson and DeMeester. It is a composite score that measures acid exposure during prolonged ambulatory pH monitoring. The parameters that constitute the score are:\n\n1. total number of episodes of reflux, - reflux is undesirable, therefore lower numbers are better, higher numbers are worse. Ideally there would be zero reflux episodes.\n2. % total time esophageal pH \\< 4, upright position and supine position, respectively - pH \\< 4 is undesirable, therefor lower percentages are better\n3. number of episodes longer than 5 minutes, - lower is better\n4. maximal reflux duration, (reflux is undesirable - lower is better\n5. total percentage of time with pH below 4 - below 4 is undesirable - lower is better\n\nThe composite score can be obtained by adding the scores calculated for each of the six components., 6 months post procedure",
         null,
         "EndoGastric Solutions",
         null,
         "ALL",
         "ADULT, OLDER_ADULT",
         null,
         "129.0",
         "INDUSTRY",
         "INTERVENTIONAL",
         "Allocation: RANDOMIZED|Intervention Model: PARALLEL|Masking: SINGLE (PARTICIPANT)|Primary Purpose: TREATMENT",
         "D01010",
         "2011-04",
         "2015-04",
         "2018-03",
         "2010-06-04",
         "2021-12-03",
         "2021-12-03",
         "Cedars Sinai Medical Center, Los Angeles, California, 90048, United States|SurgOne PC, Englewood, Colorado, 80110, United States|Northwestern University, Chicago, Illinois, 60611, United States|Ohio State University Hospital, Columbus, Ohio, 43211, United States|The Oregon Clinic, Portland, Oregon, 97210, United States|Oregon Health and Science University, Portland, Oregon, 97239, United States|University of Texas, Health Science Center at Houston, Houston, Texas, 77401, United States|Reston Surgical Associates, Reston, Virginia, 20190, United States|University of Washington, Seattle, Washington, 98195, United States",
         null
        ],
        [
         "3",
         "NCT01560780",
         "Prasugrel for Prevention of Early Saphenous Vein Graft Thrombosis",
         "https://clinicaltrials.gov/study/NCT01560780",
         null,
         "COMPLETED",
         "This is a randomized-controlled clinical trial that will randomize 120 patients undergoing clinically-indicated coronary artery bypass graft surgery to prasugrel at a dose of 10 mg daily or matching placebo for 12 months, starting at the time of hospital dismissal from surgery. The primary goal of the study is to determine whether prasugrel administration will prevent thrombus (clot) formation within a saphenous vein graft at 12 months, as examined by optical coherence tomography.",
         "YES",
         "Coronary Artery Bypass",
         "DRUG: Prasugrel|DRUG: Placebo",
         "Prevalence of Intragraft Thrombus at 12-month Follow-up Optical Coherence Tomography Imaging, Number of patients with intragraft thrombus seen at 12 month follow-up by optical coherence tomography in imaged saphenous vein graft, 12 months",
         "Number of Patients With Severe Bleeding Using the Global Utilization of Streptokinase and t-PA for Occluded Coronary Arteries (GUSTO) Criteria, Number of patients with major bleeding defined by the Global Utilization of Streptokinase and t-PA for Occluded Coronary Arteries criteria., 12 months|Number of Patients With Angiographic Saphenous Vein Graft Failure, Number of patients with angiographic saphenous vein graft failure (defined as =75% SVG diameter stenosis in at least one saphenous vein graft), 12 months|Total Target Saphenous Vein Graft Atheroma Volume, as Assessed by Intravascular Ultrasonography, Total target saphenous vein graft atheroma volume (mm3) as assessed by Intravascular ultrasound imaging in imaged saphenous vein grafts., 12 months|Saphenous Vein Graft Lipid Core Burden Index, as Assessed at Near-infrared Intracoronary Spectroscopy, Lipid core burden as measured by Lipid Core Burden Index on near infrared intracoronary spectroscopy imaging of saphenous vein graft. Lipid Core Burden Index is defined as the fraction of pixels within the scanned region with a probability \\>0.60 that a lipid core plaque is present (calculated by an algorithm developed to identify the NIRS signals associated with the molecular structure of lipids), multiplied by 1000 using EchoPlaque software (INDEC Medical Systems; Los Altos, CA) . Thus, the lipid core burden index (LCBI) is a quantitative summary metric of the probability of the presence of lipid within the scanned region, with a range of 0-1000, with higher indices indicating a higher proportion of pixels with a \\>0.6 probability of lipid being present in the pullback of the catheter along the length of the entire vessel., 12 months|Major Adverse Cardiac Events, Defined as the Composite of Death, Acute Coronary Syndrome, or Coronary Revascularization) During Follow-up, Number of patients with the composite outcome of death, acute coronary syndrome, or coronary revascularization., 12 months|Normalized Total Target Saphenous Vein Graft Atheroma Volume, as Assessed by Intravascular Ultrasonography, On IVUS images, atheroma volume was defined as the sum of the cross-sectional areas between the leading edges of the lumen and external elastic membrane. Total Target SVG atheroma volume was calculated as:\n\n∑(EEM area - Lumen area).\n\nNormalized atheroma volume represents the atheroma volume corrected for pullback length, and this parameter was calculated as:\n\n∑(EEM area - Lumen area)/number of frames in pullback, 12 months",
         null,
         "VA Office of Research and Development",
         null,
         "ALL",
         "ADULT, OLDER_ADULT",
         "PHASE3",
         "84.0",
         "FED",
         "INTERVENTIONAL",
         "Allocation: RANDOMIZED|Intervention Model: PARALLEL|Masking: QUADRUPLE (PARTICIPANT, CARE_PROVIDER, INVESTIGATOR, OUTCOMES_ASSESSOR)|Primary Purpose: TREATMENT",
         "CLIN-007-11F",
         "2013-02-01",
         "2018-04-30",
         "2018-05-31",
         "2012-03-22",
         "2019-10-09",
         "2019-10-30",
         "San Francisco VA Medical Center, San Francisco, CA, San Francisco, California, 94121, United States|North Florida/South Georgia Veterans Health System, Gainesville, FL, Gainesville, Florida, 32608, United States|Jesse Brown VA Medical Center Community-Based Outpatient Clinic Lake Side Divison, Chicago, IL, Chicago, Illinois, 60611, United States|VA North Texas Health Care System Dallas VA Medical Center, Dallas, TX, Dallas, Texas, 75216, United States",
         "Study Protocol and Statistical Analysis Plan, https://cdn.clinicaltrials.gov/large-docs/80/NCT01560780/Prot_SAP_000.pdf"
        ],
        [
         "4",
         "NCT03447080",
         "Co-ingestion of Rice Bran Soymilk or Plain Soymilk With White Bread: Effects on the Glycaemic and Insulinaemic Response",
         "https://clinicaltrials.gov/study/NCT03447080",
         null,
         "COMPLETED",
         "bread and that rice-bran soymilk will have an additional beneficial effect on the glucose and insulin The proposed research project is important because it will provide, for the first time, evidence on the benefits of the addition of rice-bran to soymilk by measuring the acute effect on the glycaemic and insulinaemic response in co-consumption with a high GI meal in Asians. Investigators hypothesize that soymilk will lower the glycaemic and insulinaemic response of white response. This will have an important implication for public health as investigators will understand better how additional dietary fibre can improve the local diet which is typically of high GI values. Ultimately, results from this project will enable the development of dietary recommendations for better glycaemic control in Asian people.",
         "NO",
         "Diabetes Mellitus, Type 2",
         "OTHER: Control|OTHER: Control|OTHER: Ricebran soybean milk|OTHER: Soybean milk",
         "Change in postprandial blood glucose over 180 minutes period, Blood obtained through fingerprick, analysed using Hemocue analyser., 180 minutes",
         "Change in postprandial plasma insulin over 180 minutes period, Venous blood obtain through cannula, analysed using Cobas analyser., 180 minutes",
         null,
         "Singapore Institute of Food and Biotechnology Innovation",
         null,
         "MALE",
         "ADULT",
         null,
         "17.0",
         "OTHER_GOV",
         "INTERVENTIONAL",
         "Allocation: RANDOMIZED|Intervention Model: CROSSOVER|Masking: NONE|Primary Purpose: OTHER",
         "2017/00286",
         "2017-06-02",
         "2019-01-18",
         "2019-01-18",
         "2018-02-27",
         null,
         "2019-05-13",
         "Clinical Nutrition Reseach Centre, Singapore, 117599, Singapore",
         null
        ]
       ],
       "shape": {
        "columns": 30,
        "rows": 5
       }
      },
      "text/html": [
       "<div>\n",
       "<style scoped>\n",
       "    .dataframe tbody tr th:only-of-type {\n",
       "        vertical-align: middle;\n",
       "    }\n",
       "\n",
       "    .dataframe tbody tr th {\n",
       "        vertical-align: top;\n",
       "    }\n",
       "\n",
       "    .dataframe thead th {\n",
       "        text-align: right;\n",
       "    }\n",
       "</style>\n",
       "<table border=\"1\" class=\"dataframe\">\n",
       "  <thead>\n",
       "    <tr style=\"text-align: right;\">\n",
       "      <th></th>\n",
       "      <th>nct_id</th>\n",
       "      <th>Study Title</th>\n",
       "      <th>Study URL</th>\n",
       "      <th>Acronym</th>\n",
       "      <th>Study Status</th>\n",
       "      <th>Brief Summary</th>\n",
       "      <th>Study Results</th>\n",
       "      <th>Conditions</th>\n",
       "      <th>Interventions</th>\n",
       "      <th>Primary Outcome Measures</th>\n",
       "      <th>Secondary Outcome Measures</th>\n",
       "      <th>Other Outcome Measures</th>\n",
       "      <th>Sponsor</th>\n",
       "      <th>Collaborators</th>\n",
       "      <th>Sex</th>\n",
       "      <th>Age</th>\n",
       "      <th>Phases</th>\n",
       "      <th>Enrollment</th>\n",
       "      <th>Funder Type</th>\n",
       "      <th>Study Type</th>\n",
       "      <th>Study Design</th>\n",
       "      <th>Other IDs</th>\n",
       "      <th>Start Date</th>\n",
       "      <th>Primary Completion Date</th>\n",
       "      <th>Completion Date</th>\n",
       "      <th>First Posted</th>\n",
       "      <th>Results First Posted</th>\n",
       "      <th>Last Update Posted</th>\n",
       "      <th>Locations</th>\n",
       "      <th>Study Documents</th>\n",
       "    </tr>\n",
       "  </thead>\n",
       "  <tbody>\n",
       "    <tr>\n",
       "      <th>0</th>\n",
       "      <td>NCT04385680</td>\n",
       "      <td>Chlorhexidine Vaginal Preparation for Reductio...</td>\n",
       "      <td>https://clinicaltrials.gov/study/NCT04385680</td>\n",
       "      <td>NaN</td>\n",
       "      <td>COMPLETED</td>\n",
       "      <td>The study aims to assess the beneficial value ...</td>\n",
       "      <td>NO</td>\n",
       "      <td>Postpartum Endometritis|Wound Infection|Chlorh...</td>\n",
       "      <td>DRUG: Chlorhexidine Gluconate vaginal solution...</td>\n",
       "      <td>post-cesarean endometritis, uterine fundal ten...</td>\n",
       "      <td>Significant leukocytosis, increase of WBCs cou...</td>\n",
       "      <td>NaN</td>\n",
       "      <td>Zagazig University</td>\n",
       "      <td>NaN</td>\n",
       "      <td>FEMALE</td>\n",
       "      <td>ADULT, OLDER_ADULT</td>\n",
       "      <td>PHASE1|PHASE2</td>\n",
       "      <td>840.0</td>\n",
       "      <td>OTHER_GOV</td>\n",
       "      <td>INTERVENTIONAL</td>\n",
       "      <td>Allocation: RANDOMIZED|Intervention Model: PAR...</td>\n",
       "      <td>chlorhex. post cs endometritis</td>\n",
       "      <td>2020-05-15</td>\n",
       "      <td>2022-03-10</td>\n",
       "      <td>2022-08-30</td>\n",
       "      <td>2020-05-13</td>\n",
       "      <td>NaN</td>\n",
       "      <td>2022-09-23</td>\n",
       "      <td>Armed Forces Hospitals Southern Region, Khamis...</td>\n",
       "      <td>NaN</td>\n",
       "    </tr>\n",
       "    <tr>\n",
       "      <th>1</th>\n",
       "      <td>NCT05017480</td>\n",
       "      <td>A Study to Evaluate the Efficacy and Safety of...</td>\n",
       "      <td>https://clinicaltrials.gov/study/NCT05017480</td>\n",
       "      <td>NaN</td>\n",
       "      <td>COMPLETED</td>\n",
       "      <td>This study will evaluate the efficacy and safe...</td>\n",
       "      <td>YES</td>\n",
       "      <td>Moderate-to-severe Atopic Dermatitis</td>\n",
       "      <td>DRUG: CBP-201|DRUG: Placebo</td>\n",
       "      <td>Investigator Global Assessment (IGA) (0-1), Th...</td>\n",
       "      <td>Eczema Area and Severity Index (EASI)-75, The ...</td>\n",
       "      <td>NaN</td>\n",
       "      <td>Suzhou Connect Biopharmaceuticals, Ltd.</td>\n",
       "      <td>NaN</td>\n",
       "      <td>ALL</td>\n",
       "      <td>CHILD, ADULT, OLDER_ADULT</td>\n",
       "      <td>PHASE2</td>\n",
       "      <td>330.0</td>\n",
       "      <td>INDUSTRY</td>\n",
       "      <td>INTERVENTIONAL</td>\n",
       "      <td>Allocation: RANDOMIZED|Intervention Model: PAR...</td>\n",
       "      <td>CBP-201-CN002</td>\n",
       "      <td>2021-08-31</td>\n",
       "      <td>2022-12-01</td>\n",
       "      <td>2023-09-28</td>\n",
       "      <td>2021-08-23</td>\n",
       "      <td>2024-05-01</td>\n",
       "      <td>2024-05-01</td>\n",
       "      <td>Connect Investigative Site 33, Hefei, Anhui, C...</td>\n",
       "      <td>Study Protocol, https://cdn.clinicaltrials.gov...</td>\n",
       "    </tr>\n",
       "    <tr>\n",
       "      <th>2</th>\n",
       "      <td>NCT01136980</td>\n",
       "      <td>Randomized EsophyX Versus Sham / Placebo Contr...</td>\n",
       "      <td>https://clinicaltrials.gov/study/NCT01136980</td>\n",
       "      <td>RESPECT</td>\n",
       "      <td>COMPLETED</td>\n",
       "      <td>The objective of the study is to evaluate the ...</td>\n",
       "      <td>YES</td>\n",
       "      <td>Gastroesophageal Reflux Disease|Hiatal Hernia</td>\n",
       "      <td>DEVICE: TIF Transoral Fundoplication|OTHER: Sh...</td>\n",
       "      <td>Number of Participants With a Clinically Signi...</td>\n",
       "      <td>Normalization of Esophageal Acid Exposure - as...</td>\n",
       "      <td>NaN</td>\n",
       "      <td>EndoGastric Solutions</td>\n",
       "      <td>NaN</td>\n",
       "      <td>ALL</td>\n",
       "      <td>ADULT, OLDER_ADULT</td>\n",
       "      <td>NaN</td>\n",
       "      <td>129.0</td>\n",
       "      <td>INDUSTRY</td>\n",
       "      <td>INTERVENTIONAL</td>\n",
       "      <td>Allocation: RANDOMIZED|Intervention Model: PAR...</td>\n",
       "      <td>D01010</td>\n",
       "      <td>2011-04</td>\n",
       "      <td>2015-04</td>\n",
       "      <td>2018-03</td>\n",
       "      <td>2010-06-04</td>\n",
       "      <td>2021-12-03</td>\n",
       "      <td>2021-12-03</td>\n",
       "      <td>Cedars Sinai Medical Center, Los Angeles, Cali...</td>\n",
       "      <td>NaN</td>\n",
       "    </tr>\n",
       "    <tr>\n",
       "      <th>3</th>\n",
       "      <td>NCT01560780</td>\n",
       "      <td>Prasugrel for Prevention of Early Saphenous Ve...</td>\n",
       "      <td>https://clinicaltrials.gov/study/NCT01560780</td>\n",
       "      <td>NaN</td>\n",
       "      <td>COMPLETED</td>\n",
       "      <td>This is a randomized-controlled clinical trial...</td>\n",
       "      <td>YES</td>\n",
       "      <td>Coronary Artery Bypass</td>\n",
       "      <td>DRUG: Prasugrel|DRUG: Placebo</td>\n",
       "      <td>Prevalence of Intragraft Thrombus at 12-month ...</td>\n",
       "      <td>Number of Patients With Severe Bleeding Using ...</td>\n",
       "      <td>NaN</td>\n",
       "      <td>VA Office of Research and Development</td>\n",
       "      <td>NaN</td>\n",
       "      <td>ALL</td>\n",
       "      <td>ADULT, OLDER_ADULT</td>\n",
       "      <td>PHASE3</td>\n",
       "      <td>84.0</td>\n",
       "      <td>FED</td>\n",
       "      <td>INTERVENTIONAL</td>\n",
       "      <td>Allocation: RANDOMIZED|Intervention Model: PAR...</td>\n",
       "      <td>CLIN-007-11F</td>\n",
       "      <td>2013-02-01</td>\n",
       "      <td>2018-04-30</td>\n",
       "      <td>2018-05-31</td>\n",
       "      <td>2012-03-22</td>\n",
       "      <td>2019-10-09</td>\n",
       "      <td>2019-10-30</td>\n",
       "      <td>San Francisco VA Medical Center, San Francisco...</td>\n",
       "      <td>Study Protocol and Statistical Analysis Plan, ...</td>\n",
       "    </tr>\n",
       "    <tr>\n",
       "      <th>4</th>\n",
       "      <td>NCT03447080</td>\n",
       "      <td>Co-ingestion of Rice Bran Soymilk or Plain Soy...</td>\n",
       "      <td>https://clinicaltrials.gov/study/NCT03447080</td>\n",
       "      <td>NaN</td>\n",
       "      <td>COMPLETED</td>\n",
       "      <td>bread and that rice-bran soymilk will have an ...</td>\n",
       "      <td>NO</td>\n",
       "      <td>Diabetes Mellitus, Type 2</td>\n",
       "      <td>OTHER: Control|OTHER: Control|OTHER: Ricebran ...</td>\n",
       "      <td>Change in postprandial blood glucose over 180 ...</td>\n",
       "      <td>Change in postprandial plasma insulin over 180...</td>\n",
       "      <td>NaN</td>\n",
       "      <td>Singapore Institute of Food and Biotechnology ...</td>\n",
       "      <td>NaN</td>\n",
       "      <td>MALE</td>\n",
       "      <td>ADULT</td>\n",
       "      <td>NaN</td>\n",
       "      <td>17.0</td>\n",
       "      <td>OTHER_GOV</td>\n",
       "      <td>INTERVENTIONAL</td>\n",
       "      <td>Allocation: RANDOMIZED|Intervention Model: CRO...</td>\n",
       "      <td>2017/00286</td>\n",
       "      <td>2017-06-02</td>\n",
       "      <td>2019-01-18</td>\n",
       "      <td>2019-01-18</td>\n",
       "      <td>2018-02-27</td>\n",
       "      <td>NaN</td>\n",
       "      <td>2019-05-13</td>\n",
       "      <td>Clinical Nutrition Reseach Centre, Singapore, ...</td>\n",
       "      <td>NaN</td>\n",
       "    </tr>\n",
       "  </tbody>\n",
       "</table>\n",
       "</div>"
      ],
      "text/plain": [
       "        nct_id                                        Study Title  \\\n",
       "0  NCT04385680  Chlorhexidine Vaginal Preparation for Reductio...   \n",
       "1  NCT05017480  A Study to Evaluate the Efficacy and Safety of...   \n",
       "2  NCT01136980  Randomized EsophyX Versus Sham / Placebo Contr...   \n",
       "3  NCT01560780  Prasugrel for Prevention of Early Saphenous Ve...   \n",
       "4  NCT03447080  Co-ingestion of Rice Bran Soymilk or Plain Soy...   \n",
       "\n",
       "                                      Study URL  Acronym Study Status  \\\n",
       "0  https://clinicaltrials.gov/study/NCT04385680      NaN    COMPLETED   \n",
       "1  https://clinicaltrials.gov/study/NCT05017480      NaN    COMPLETED   \n",
       "2  https://clinicaltrials.gov/study/NCT01136980  RESPECT    COMPLETED   \n",
       "3  https://clinicaltrials.gov/study/NCT01560780      NaN    COMPLETED   \n",
       "4  https://clinicaltrials.gov/study/NCT03447080      NaN    COMPLETED   \n",
       "\n",
       "                                       Brief Summary Study Results  \\\n",
       "0  The study aims to assess the beneficial value ...            NO   \n",
       "1  This study will evaluate the efficacy and safe...           YES   \n",
       "2  The objective of the study is to evaluate the ...           YES   \n",
       "3  This is a randomized-controlled clinical trial...           YES   \n",
       "4  bread and that rice-bran soymilk will have an ...            NO   \n",
       "\n",
       "                                          Conditions  \\\n",
       "0  Postpartum Endometritis|Wound Infection|Chlorh...   \n",
       "1               Moderate-to-severe Atopic Dermatitis   \n",
       "2      Gastroesophageal Reflux Disease|Hiatal Hernia   \n",
       "3                             Coronary Artery Bypass   \n",
       "4                          Diabetes Mellitus, Type 2   \n",
       "\n",
       "                                       Interventions  \\\n",
       "0  DRUG: Chlorhexidine Gluconate vaginal solution...   \n",
       "1                        DRUG: CBP-201|DRUG: Placebo   \n",
       "2  DEVICE: TIF Transoral Fundoplication|OTHER: Sh...   \n",
       "3                      DRUG: Prasugrel|DRUG: Placebo   \n",
       "4  OTHER: Control|OTHER: Control|OTHER: Ricebran ...   \n",
       "\n",
       "                            Primary Outcome Measures  \\\n",
       "0  post-cesarean endometritis, uterine fundal ten...   \n",
       "1  Investigator Global Assessment (IGA) (0-1), Th...   \n",
       "2  Number of Participants With a Clinically Signi...   \n",
       "3  Prevalence of Intragraft Thrombus at 12-month ...   \n",
       "4  Change in postprandial blood glucose over 180 ...   \n",
       "\n",
       "                          Secondary Outcome Measures Other Outcome Measures  \\\n",
       "0  Significant leukocytosis, increase of WBCs cou...                    NaN   \n",
       "1  Eczema Area and Severity Index (EASI)-75, The ...                    NaN   \n",
       "2  Normalization of Esophageal Acid Exposure - as...                    NaN   \n",
       "3  Number of Patients With Severe Bleeding Using ...                    NaN   \n",
       "4  Change in postprandial plasma insulin over 180...                    NaN   \n",
       "\n",
       "                                             Sponsor Collaborators     Sex  \\\n",
       "0                                 Zagazig University           NaN  FEMALE   \n",
       "1            Suzhou Connect Biopharmaceuticals, Ltd.           NaN     ALL   \n",
       "2                              EndoGastric Solutions           NaN     ALL   \n",
       "3              VA Office of Research and Development           NaN     ALL   \n",
       "4  Singapore Institute of Food and Biotechnology ...           NaN    MALE   \n",
       "\n",
       "                         Age         Phases  Enrollment Funder Type  \\\n",
       "0         ADULT, OLDER_ADULT  PHASE1|PHASE2       840.0   OTHER_GOV   \n",
       "1  CHILD, ADULT, OLDER_ADULT         PHASE2       330.0    INDUSTRY   \n",
       "2         ADULT, OLDER_ADULT            NaN       129.0    INDUSTRY   \n",
       "3         ADULT, OLDER_ADULT         PHASE3        84.0         FED   \n",
       "4                      ADULT            NaN        17.0   OTHER_GOV   \n",
       "\n",
       "       Study Type                                       Study Design  \\\n",
       "0  INTERVENTIONAL  Allocation: RANDOMIZED|Intervention Model: PAR...   \n",
       "1  INTERVENTIONAL  Allocation: RANDOMIZED|Intervention Model: PAR...   \n",
       "2  INTERVENTIONAL  Allocation: RANDOMIZED|Intervention Model: PAR...   \n",
       "3  INTERVENTIONAL  Allocation: RANDOMIZED|Intervention Model: PAR...   \n",
       "4  INTERVENTIONAL  Allocation: RANDOMIZED|Intervention Model: CRO...   \n",
       "\n",
       "                        Other IDs  Start Date Primary Completion Date  \\\n",
       "0  chlorhex. post cs endometritis  2020-05-15              2022-03-10   \n",
       "1                   CBP-201-CN002  2021-08-31              2022-12-01   \n",
       "2                          D01010     2011-04                 2015-04   \n",
       "3                    CLIN-007-11F  2013-02-01              2018-04-30   \n",
       "4                      2017/00286  2017-06-02              2019-01-18   \n",
       "\n",
       "  Completion Date First Posted Results First Posted Last Update Posted  \\\n",
       "0      2022-08-30   2020-05-13                  NaN         2022-09-23   \n",
       "1      2023-09-28   2021-08-23           2024-05-01         2024-05-01   \n",
       "2         2018-03   2010-06-04           2021-12-03         2021-12-03   \n",
       "3      2018-05-31   2012-03-22           2019-10-09         2019-10-30   \n",
       "4      2019-01-18   2018-02-27                  NaN         2019-05-13   \n",
       "\n",
       "                                           Locations  \\\n",
       "0  Armed Forces Hospitals Southern Region, Khamis...   \n",
       "1  Connect Investigative Site 33, Hefei, Anhui, C...   \n",
       "2  Cedars Sinai Medical Center, Los Angeles, Cali...   \n",
       "3  San Francisco VA Medical Center, San Francisco...   \n",
       "4  Clinical Nutrition Reseach Centre, Singapore, ...   \n",
       "\n",
       "                                     Study Documents  \n",
       "0                                                NaN  \n",
       "1  Study Protocol, https://cdn.clinicaltrials.gov...  \n",
       "2                                                NaN  \n",
       "3  Study Protocol and Statistical Analysis Plan, ...  \n",
       "4                                                NaN  "
      ]
     },
     "execution_count": 400,
     "metadata": {},
     "output_type": "execute_result"
    }
   ],
   "source": [
    "df = pd.read_csv(r\"C:\\Users\\Eugenia\\OneDrive\\Documents\\THESIS\\ctg-studies.csv\")\n",
    "pd.set_option('display.max.columns', 35)  # Number of Columns : 35 > 30\n",
    "df = df.rename(columns={'NCT Number': 'nct_id'})\n",
    "\n",
    "df.head()"
   ]
  },
  {
   "cell_type": "markdown",
   "metadata": {},
   "source": [
    "### Duplicated Studies\n",
    "\n",
    "- nct_id always unique --> given from Site page"
   ]
  },
  {
   "cell_type": "code",
   "execution_count": 401,
   "metadata": {},
   "outputs": [
    {
     "data": {
      "text/plain": [
       "(177601, 31)"
      ]
     },
     "metadata": {},
     "output_type": "display_data"
    },
    {
     "data": {
      "text/plain": [
       "(177601, 31)"
      ]
     },
     "metadata": {},
     "output_type": "display_data"
    },
    {
     "data": {
      "application/vnd.microsoft.datawrangler.viewer.v0+json": {
       "columns": [
        {
         "name": "index",
         "rawType": "object",
         "type": "string"
        },
        {
         "name": "nct_id",
         "rawType": "object",
         "type": "unknown"
        },
        {
         "name": "Study Title",
         "rawType": "object",
         "type": "unknown"
        },
        {
         "name": "official_title",
         "rawType": "object",
         "type": "unknown"
        },
        {
         "name": "Acronym",
         "rawType": "object",
         "type": "unknown"
        },
        {
         "name": "Other IDs",
         "rawType": "object",
         "type": "unknown"
        }
       ],
       "ref": "9ec5f59d-f05e-47fb-be16-e4b1cf554874",
       "rows": [
        [
         "count",
         "177601",
         "177601",
         "175206",
         "48070",
         "177585"
        ],
        [
         "unique",
         "177601",
         "177257",
         "174270",
         "40297",
         "175579"
        ],
        [
         "top",
         "NCT04385680",
         "Sun Protection Factor Assay",
         "Sun Protection Factor (SPF) Assay: UVA Protection Factor Assay Minimal Persistent Pigment-Darkening Dose",
         "RCT",
         "1"
        ],
        [
         "freq",
         "1",
         "14",
         "23",
         "70",
         "90"
        ]
       ],
       "shape": {
        "columns": 5,
        "rows": 4
       }
      },
      "text/html": [
       "<div>\n",
       "<style scoped>\n",
       "    .dataframe tbody tr th:only-of-type {\n",
       "        vertical-align: middle;\n",
       "    }\n",
       "\n",
       "    .dataframe tbody tr th {\n",
       "        vertical-align: top;\n",
       "    }\n",
       "\n",
       "    .dataframe thead th {\n",
       "        text-align: right;\n",
       "    }\n",
       "</style>\n",
       "<table border=\"1\" class=\"dataframe\">\n",
       "  <thead>\n",
       "    <tr style=\"text-align: right;\">\n",
       "      <th></th>\n",
       "      <th>nct_id</th>\n",
       "      <th>Study Title</th>\n",
       "      <th>official_title</th>\n",
       "      <th>Acronym</th>\n",
       "      <th>Other IDs</th>\n",
       "    </tr>\n",
       "  </thead>\n",
       "  <tbody>\n",
       "    <tr>\n",
       "      <th>count</th>\n",
       "      <td>177601</td>\n",
       "      <td>177601</td>\n",
       "      <td>175206</td>\n",
       "      <td>48070</td>\n",
       "      <td>177585</td>\n",
       "    </tr>\n",
       "    <tr>\n",
       "      <th>unique</th>\n",
       "      <td>177601</td>\n",
       "      <td>177257</td>\n",
       "      <td>174270</td>\n",
       "      <td>40297</td>\n",
       "      <td>175579</td>\n",
       "    </tr>\n",
       "    <tr>\n",
       "      <th>top</th>\n",
       "      <td>NCT04385680</td>\n",
       "      <td>Sun Protection Factor Assay</td>\n",
       "      <td>Sun Protection Factor (SPF) Assay: UVA Protect...</td>\n",
       "      <td>RCT</td>\n",
       "      <td>1</td>\n",
       "    </tr>\n",
       "    <tr>\n",
       "      <th>freq</th>\n",
       "      <td>1</td>\n",
       "      <td>14</td>\n",
       "      <td>23</td>\n",
       "      <td>70</td>\n",
       "      <td>90</td>\n",
       "    </tr>\n",
       "  </tbody>\n",
       "</table>\n",
       "</div>"
      ],
      "text/plain": [
       "             nct_id                  Study Title  \\\n",
       "count        177601                       177601   \n",
       "unique       177601                       177257   \n",
       "top     NCT04385680  Sun Protection Factor Assay   \n",
       "freq              1                           14   \n",
       "\n",
       "                                           official_title Acronym Other IDs  \n",
       "count                                              175206   48070    177585  \n",
       "unique                                             174270   40297    175579  \n",
       "top     Sun Protection Factor (SPF) Assay: UVA Protect...     RCT         1  \n",
       "freq                                                   23      70        90  "
      ]
     },
     "metadata": {},
     "output_type": "display_data"
    },
    {
     "data": {
      "application/vnd.microsoft.datawrangler.viewer.v0+json": {
       "columns": [
        {
         "name": "index",
         "rawType": "int64",
         "type": "integer"
        },
        {
         "name": "nct_id",
         "rawType": "object",
         "type": "string"
        },
        {
         "name": "Study Title",
         "rawType": "object",
         "type": "string"
        },
        {
         "name": "Study URL",
         "rawType": "object",
         "type": "string"
        },
        {
         "name": "Acronym",
         "rawType": "object",
         "type": "unknown"
        },
        {
         "name": "Study Status",
         "rawType": "object",
         "type": "string"
        },
        {
         "name": "Brief Summary",
         "rawType": "object",
         "type": "string"
        },
        {
         "name": "Study Results",
         "rawType": "object",
         "type": "string"
        },
        {
         "name": "Conditions",
         "rawType": "object",
         "type": "string"
        },
        {
         "name": "Interventions",
         "rawType": "object",
         "type": "string"
        },
        {
         "name": "Primary Outcome Measures",
         "rawType": "object",
         "type": "string"
        },
        {
         "name": "Secondary Outcome Measures",
         "rawType": "object",
         "type": "string"
        },
        {
         "name": "Other Outcome Measures",
         "rawType": "object",
         "type": "unknown"
        },
        {
         "name": "Sponsor",
         "rawType": "object",
         "type": "string"
        },
        {
         "name": "Collaborators",
         "rawType": "object",
         "type": "unknown"
        },
        {
         "name": "Sex",
         "rawType": "object",
         "type": "string"
        },
        {
         "name": "Age",
         "rawType": "object",
         "type": "string"
        },
        {
         "name": "Phases",
         "rawType": "object",
         "type": "unknown"
        },
        {
         "name": "Enrollment",
         "rawType": "float64",
         "type": "float"
        },
        {
         "name": "Funder Type",
         "rawType": "object",
         "type": "string"
        },
        {
         "name": "Study Type",
         "rawType": "object",
         "type": "string"
        },
        {
         "name": "Study Design",
         "rawType": "object",
         "type": "string"
        },
        {
         "name": "Other IDs",
         "rawType": "object",
         "type": "string"
        },
        {
         "name": "Start Date",
         "rawType": "object",
         "type": "string"
        },
        {
         "name": "Primary Completion Date",
         "rawType": "object",
         "type": "string"
        },
        {
         "name": "Completion Date",
         "rawType": "object",
         "type": "string"
        },
        {
         "name": "First Posted",
         "rawType": "object",
         "type": "string"
        },
        {
         "name": "Results First Posted",
         "rawType": "object",
         "type": "unknown"
        },
        {
         "name": "Last Update Posted",
         "rawType": "object",
         "type": "string"
        },
        {
         "name": "Locations",
         "rawType": "object",
         "type": "unknown"
        },
        {
         "name": "Study Documents",
         "rawType": "object",
         "type": "unknown"
        },
        {
         "name": "official_title",
         "rawType": "object",
         "type": "string"
        }
       ],
       "ref": "4360a5ec-2975-4b74-b6bc-e8ca5eda6651",
       "rows": [
        [
         "94774",
         "NCT02692599",
         "Safety and Immunogenicity Study of Live Attenuated Mumps Vaccines in Healthy Infants",
         "https://clinicaltrials.gov/study/NCT02692599",
         null,
         "COMPLETED",
         "The purpose of this study is to evaluate the immunogenicity and safety of a live attenuated mumps vaccine in healthy infants between 8 - 18 months old with a commercialized live attenuated mumps vaccine as the control vaccine.",
         "NO",
         "Mumps",
         "BIOLOGICAL: investigational live attenuated mumps vaccine|BIOLOGICAL: control live attenuated mumps vaccine",
         "The seroconversion rates (SCRs) of susceptible subjects in each group, Subjects whose pre-immune HI antibody level \\< 1:2 are considered susceptible; among these subjects, those with post-immune HI antibody level ≥ 1:2 are considered seroconverted., 28 days",
         "The incidences of adverse events (AEs) of each group, AEs occurred within 28 days after injection will be collected., 28 days|The incidences of serious adverse events (SAEs) of each group, SAEs occurred within 28 days after injection will be collected., 28 days|The post-immune geometric mean titers (GMTs) of susceptible subjects in each group, Subjects whose pre-immune HI antibody level \\< 1:2 are considered susceptible., 28 days|The overall SCRs of each group, Subjects whose pre-immune HI antibody level \\< 1:2 and post-immune antibody level ≥ 1:2, or those whose pre-immune antibody level ≥ 1:2 and the increase of post-immune HI antibody level ≥ 4 folds are considered seroconverted., 28 days|The overall post-immune GMTs of each group, The GMTs of all the subjects in each group., 28 days",
         null,
         "Sinovac (Dalian) Vaccine Technology Co., Ltd.",
         null,
         "ALL",
         "CHILD",
         "PHASE3",
         "1150.0",
         "INDUSTRY",
         "INTERVENTIONAL",
         "Allocation: RANDOMIZED|Intervention Model: PARALLEL|Masking: DOUBLE (PARTICIPANT, OUTCOMES_ASSESSOR)|Primary Purpose: PREVENTION",
         "PRO-MUMPS-3001",
         "2016-01",
         "2016-03",
         "2016-07-15",
         "2016-02-26",
         null,
         "2017-10-26",
         "Dingxing County Center for Disease Control and Prevention, Baoding, Hebei, 072650, China",
         null,
         "A Blind, Randomized and Controlled Clinical Trial With Live Attenuated Mumps Vaccines in Healthy Infants"
        ],
        [
         "170597",
         "NCT05065177",
         "Safety and Immunogenicity Study of Live Attenuated Mumps Vaccines in Healthy Infants",
         "https://clinicaltrials.gov/study/NCT05065177",
         null,
         "COMPLETED",
         "The purpose of this study is to evaluate the immunogenicity and safety of a live attenuated mumps vaccine in healthy infants between 8 - 18 months old with a commercialized live attenuated mumps vaccine as the control vaccine.",
         "NO",
         "Mumps",
         "BIOLOGICAL: Investigational live attenuated mumps vaccine|BIOLOGICAL: control live attenuated mumps vaccine",
         "The seroconversion rates (SCRs) of susceptible subjects in each group, Subjects whose pre-immune HI antibody level \\< 1:2 are considered susceptible; among these subjects, those with post-immune HI antibody level ≥ 1:2 are considered seroconverted., 28 days",
         "The incidences of adverse events (AEs) of each group, AEs occurred within 28 days after injection will be collected., 28 days|The incidences of serious adverse events (SAEs) of each group, SAEs occurred within 28 days after injection will be collected., 28 days|The post-immune geometric mean titers (GMTs) of susceptible subjects in each group, Subjects whose pre-immune HI antibody level \\< 1:2 are considered susceptible., 28 days|The overall SCRs of each group, Subjects whose pre-immune HI antibody level \\< 1:2 and post-immune antibody level ≥ 1:2, or those whose pre-immune antibody level ≥ 1:2 and the increase of post-immune HI antibody level ≥ 4 folds are considered seroconverted., 28 days|The overall post-immune GMTs of each group, The GMTs of all the subjects in each group., 28 days",
         null,
         "Sinovac Research and Development Co., Ltd.",
         null,
         "ALL",
         "CHILD",
         "PHASE3",
         "1140.0",
         "INDUSTRY",
         "INTERVENTIONAL",
         "Allocation: RANDOMIZED|Intervention Model: PARALLEL|Masking: SINGLE (OUTCOMES_ASSESSOR)|Primary Purpose: PREVENTION",
         "PRO-MUMPS-3001",
         "2016-01",
         "2016-03",
         "2016-04",
         "2021-10-01",
         null,
         "2021-10-01",
         "Dingxing County Center for Disease Control and Prevention, Dingxing, Hebei, 072650, China",
         null,
         "A Blind, Randomized and Controlled Clinical Trial With Live Attenuated Mumps Vaccines in Healthy Infants"
        ],
        [
         "2866",
         "NCT01602874",
         "Study Evaluating Tigecycline Versus Ceftriaxone In Complicated Intra-Abdominal Infections & Community Acquired Pneumonia",
         "https://clinicaltrials.gov/study/NCT01602874",
         null,
         "WITHDRAWN",
         "The main purpose of this study is to compare the safety of tigecycline versus a ceftriaxone regimen in pediatric subjects (aged 8 to 17 years) with complicated intra-abdominal infections (cIAI) and community acquired pneumonia (CAP).",
         "NO",
         "Community Acquired Bacterial Pneumonia|Complicated Intra-Abdominal Infection",
         "DRUG: Tigecycline|DRUG: Tigecycline|DRUG: cIAI: Ceftriaxone with metronidazole, plus if applicable aminoglycoside|DRUG: CAP: Ceftriaxone, plus if applicable oral clarithromycin",
         "Clinical efficacy response (cure, failure, or indeterminate) at the test of cure (TOC) visit for 2 co-primary populations: the clinically evaluable (CE) and clinical modified Intent-to-Treat (c-mITT) populations, 2 to 7 weeks for cIAI and 2 to 5 weeks for CAP",
         "Clinical response at the IV last day of therapy (LDOT) for co-primary populations: the CE and c-mITT populations, 5 days to 4 weeks for cIAI and 5 days to 2 weeks for CAP|Clinical response at follow up (FUP) visits for co-primary populations: the CE and c-mITT populations, 5 to 9 weeks for cIAI and 5 to 7 weeks for CAP|Microbiological response at the subject and the pathogen level, 5 to 9 weeks for cIAI and 5 to 7 weeks for CAP|Response rate by pathogen and minimum inhibitory concentration (MIC) value, 5 to 9 weeks for cIAI and 5 to 7 weeks for CAP|Response rates for polymicrobial/monomicrobial infections, and susceptibility evaluations, 5 to 9 weeks for cIAI and 5 to 7 weeks for CAP",
         null,
         "Pfizer",
         null,
         "ALL",
         "CHILD",
         "PHASE3",
         "0.0",
         "INDUSTRY",
         "INTERVENTIONAL",
         "Allocation: RANDOMIZED|Intervention Model: PARALLEL|Masking: QUADRUPLE (PARTICIPANT, CARE_PROVIDER, INVESTIGATOR, OUTCOMES_ASSESSOR)|Primary Purpose: TREATMENT",
         "3074K4-3340|B1811003",
         "2011-01",
         "2014-05",
         "2014-05",
         "2012-05-21",
         null,
         "2013-02-22",
         null,
         null,
         "Multicenter, Randomized, And Double-Blind Study To Evaluate The Safety Of Tigecycline Versus A Ceftriaxone Regimen In The Treatment Of Complicated Intra-Abdominal Infections And Community-Acquired Pneumonia In Subjects Of 8-17 Years"
        ],
        [
         "140890",
         "NCT00914888",
         "Study Evaluating Tigecycline Versus Ceftriaxone In Complicated Intra-Abdominal Infections & Community Acquired Pneumonia",
         "https://clinicaltrials.gov/study/NCT00914888",
         null,
         "WITHDRAWN",
         "The main purpose of this study is to compare the safety of tigecycline versus a ceftriaxone regimen in pediatric subjects (aged 8 to 17 years) with complicated intra-abdominal infections (cIAI) and community acquired pneumonia (CAP).",
         "NO",
         "Community Acquired Bacterial Pneumonia|Complicated Intra-Abdominal Infection",
         "DRUG: Tigecycline|DRUG: Tigecycline|DRUG: cIAI: Ceftriaxone with metronidazole, plus if applicable aminoglycoside|DRUG: CAP: Ceftriaxone, plus if applicable oral clarithromycin",
         "Clinical efficacy response (cure, failure, or indeterminate) at the test of cure (TOC) visit for 2 co-primary populations: the clinically evaluable (CE) and clinical modified Intent-to-Treat (c-mITT) populations, 2 to 7 weeks for cIAI and 2 to 5 weeks for CAP",
         "Clinical response at the IV last day of therapy (LDOT) for co-primary populations: the CE and c-mITT populations, 5 days to 4 weeks for cIAI and 5 days to 2 weeks for CAP|Clinical response at follow up (FUP) visits for co-primary populations: the CE and c-mITT populations, 5 to 9 weeks for cIAI and 5 to 7 weeks for CAP|Microbiological response at the subject and the pathogen level, 5 to 9 weeks for cIAI and 5 to 7 weeks for CAP|Response rate by pathogen and minimum inhibitory concentration (MIC) value, 5 to 9 weeks for cIAI and 5 to 7 weeks for CAP|Response rates for polymicrobial/monomicrobial infections, and susceptibility evaluations, 5 to 9 weeks for cIAI and 5 to 7 weeks for CAP",
         null,
         "Wyeth is now a wholly owned subsidiary of Pfizer",
         null,
         "ALL",
         "CHILD",
         "PHASE3",
         "0.0",
         "INDUSTRY",
         "INTERVENTIONAL",
         "Allocation: RANDOMIZED|Intervention Model: PARALLEL|Masking: QUADRUPLE (PARTICIPANT, CARE_PROVIDER, INVESTIGATOR, OUTCOMES_ASSESSOR)|Primary Purpose: TREATMENT",
         "3074K4-3340|B1811003",
         "2011-01",
         "2014-05",
         "2014-05",
         "2009-06-05",
         null,
         "2012-06-07",
         null,
         null,
         "Multicenter, Randomized, And Double-Blind Study To Evaluate The Safety Of Tigecycline Versus A Ceftriaxone Regimen In The Treatment Of Complicated Intra-Abdominal Infections And Community-Acquired Pneumonia In Subjects Of 8-17 Years"
        ],
        [
         "15703",
         "NCT04043130",
         "The Evaluation of Pulse: A Mobile Health App and Teen Pregnancy Prevention Program",
         "https://clinicaltrials.gov/study/NCT04043130",
         null,
         "COMPLETED",
         "This study used a randomized controlled design to evaluate the efficacy of a new mobile app, Pulse, in reducing the incidence of unprotected sex among young women. Pulse is a web-based mobile health application that can be accessed through mobile smartphones and computers. Pulse was designed to increase highly effective birth control use and reproductive and sexual health care utilization, and ultimately decrease teen pregnancy. The sample was comprised of 2,317 women aged 18-20 who, at enrollment, were not pregnant or trying to become pregnant, had daily access to a smartphone, were currently living in the United States or a U.S. territory, and spoke English. Most of the sample (86%) identified as Black and/or Latinx. The evaluation team enrolled participants over a two and a half year enrollment period using social media, including Facebook and Instagram.\n\nUsers accessed Pulse autonomously, on their own terms, and in their own time and place. The app consists of 6 sections and includes 3 hours of unique content. It does not require the user to follow a specific sequence of content viewed; however, all users received a monetary incentive after registering with the app. Young women randomized to the intervention condition were given access to Pulse indefinitely and received daily text messages related to sexual health for 6 weeks. Control participants were directed to a free general health/fitness web-based mobile application, also called Pulse, and received text messages related to general health for 6 weeks. The control and treatment apps look and feel similar aesthetically but contain different content. Participants in both the intervention and comparison groups received a baseline survey, a 6-week follow-up survey, and a 6-month follow-up survey (the 6-month follow-up survey was only administered to participants recruited between November 2018 and March 2019). Participants also received incentives for completing the baseline and post-intervention surveys. Both surveys were conducted online via an electronic survey platform. This study was conducted as a Rigorous Evaluation of New or Innovative Approaches to Prevent Teen Pregnancy funded by the U.S. Department of Health and Human Services' Office of Adolescent Health.",
         "NO",
         "Unprotected Sex|Contraceptive Usage",
         "BEHAVIORAL: Pulse",
         "Unprotected sex, no contraceptive, Ever having sexual intercourse without using any method of contraception (among full sample), Baseline (unprotected sex in the past 3 months)|Unprotected sex, no contraceptive, Ever having sexual intercourse without using any method of contraception (among full sample), 6-week post-baseline (in the past 6 weeks)|Unprotected sex, no contraceptive, Ever having sexual intercourse without using any method of contraception (among full sample), 6-months post-baseline (in the past 3 months)|Unprotected sex, no highly effective contraceptive, Ever having sexual intercourse without using a hormonal or LARC method of contraception (among full sample), Baseline (unprotected sex in the past 3 months)|Unprotected sex, no highly effective contraceptive, Ever having sexual intercourse without using a hormonal or LARC method of contraception (among full sample), 6-week post-baseline (in the past 6 weeks)|Unprotected sex, no highly effective contraceptive, Ever having sexual intercourse without using a hormonal or LARC method of contraception (among full sample), 6-months post-baseline (in the past 3 months)",
         "Reproductive and sexual health care utilization (among full sample), Visiting a health care provider for reproductive or sexual health services within the past 6 weeks for the 1st follow-up survey, 6-week post-baseline (in the past 6 weeks)|Reproductive and sexual health care utilization (among full sample), Visiting a health care provider for reproductive or sexual health services within the past 6 months for the 1st follow up survey, 6-months post-baseline (in the past 6 months)",
         null,
         "Child Trends",
         "Healthy Teen Network|Ewald and Wasserman|MetaMedia Training International, Inc.",
         "FEMALE",
         "ADULT",
         null,
         "2317.0",
         "OTHER",
         "INTERVENTIONAL",
         "Allocation: RANDOMIZED|Intervention Model: PARALLEL|Masking: NONE|Primary Purpose: PREVENTION",
         "TP2AH000038",
         "2016-11",
         "2019-11",
         "2020-06",
         "2019-08-02",
         null,
         "2020-06-16",
         "Healthy Teen Network, Baltimore, Maryland, 21202, United States",
         null,
         "The Evaluation of Pulse: A Mobile Health App and Teen Pregnancy Prevention Program"
        ],
        [
         "157402",
         "NCT03253783",
         "The Evaluation of Pulse: A Mobile Health App and Teen Pregnancy Prevention Program",
         "https://clinicaltrials.gov/study/NCT03253783",
         null,
         "COMPLETED",
         "This study uses a randomized controlled design to evaluate the efficacy of a new mobile app, Pulse, in reducing the incidence of unprotected sex among young women. Pulse is a web-based mobile health application that can be accessed through mobile smartphones and computers. Pulse was designed to increase highly effective birth control use and reproductive and sexual health care utilization, and ultimately decrease teen pregnancy. The sample is comprised of women with the following characteristics at study enrollment: aged 18-20, not pregnant or trying to become pregnant, has daily access to a smartphone, currently living in the United States or a U.S. territory, and speaks either English or Spanish. Most of the sample (at least 70%) will be women who identify as Black and/or Latina. The evaluation team plans to enroll up to 1,300 participants over a one-year enrollment period using social media, including Facebook, Instagram, and Twitter.\n\nUsers access Pulse autonomously, on their own terms, and in their own time and place. The app consists of 6 sections and includes 3 hours of unique content. It does not require the user to follow a specific sequence of content viewed; however, all users will receive a monetary incentive after registering with the apps. Youth randomized to the intervention condition are given access to Pulse indefinitely and receive daily text messages related to sexual health for 6 weeks. Control participants are directed to a free general health/fitness web-based mobile application, also called Pulse, and receive text messages related to general health for 6 weeks. The control and treatment apps look and feel similar aesthetically but contain different content. Participants in both the intervention and comparison groups receive a baseline survey and a 6-week follow-up survey. Participants will also receive incentives once they complete the baseline and post-intervention survey. Both surveys are conducted online via an electronic survey platform. This study is being conducted as a Rigorous Evaluation of New or Innovative Approaches to Prevent Teen Pregnancy funded by the U.S. Department of Health and Human Services' Office of Adolescent Health.",
         "NO",
         "Unprotected Sex|Contraceptive Usage|Reproductive and Sexual Health Care Utilization",
         "BEHAVIORAL: Pulse",
         "Unprotected sex, no contraceptive, Ever having sexual intercourse without using any method of contraception (among full sample), 6-week post-baseline (in the past 6 weeks)|Unprotected sex, no highly effective contraceptive, Ever having sexual intercourse without using a hormonal or LARC method of contraception (among full sample), 6-week post-baseline (in the past 6 weeks)",
         "Reproductive and sexual health care utilization (among full sample), Visiting a health care provider for reproductive or sexual health services within the past 6 weeks for the 1st follow-up survey, 6-weeks post-baseline",
         null,
         "Healthy Teen Network",
         "Child Trends|Ewald and Wasserman|Meta Media",
         "FEMALE",
         "ADULT",
         null,
         "1304.0",
         "OTHER",
         "INTERVENTIONAL",
         "Allocation: |Intervention Model: |Masking: NONE|Primary Purpose: PREVENTION",
         "TP2AH000038",
         "2016-11",
         "2017-12",
         "2018-01",
         "2017-08-18",
         null,
         "2018-01-23",
         "Healthy Teen Network, Baltimore, Maryland, 21202, United States",
         null,
         "The Evaluation of Pulse: A Mobile Health App and Teen Pregnancy Prevention Program"
        ],
        [
         "11512",
         "NCT04761731",
         "To Evaluate the Efficacy and Safety of ADVAGRAF® After Treatment With a Tacrolimus in New Liver Transplant Recipients",
         "https://clinicaltrials.gov/study/NCT04761731",
         "Assign",
         "COMPLETED",
         "This study's objective is to evaluate the incidence rate of acute rejection reactions after 24 weeks treatment with ADVAGRAF® following 3 months treatment with tacrolimus in new liver transplant recipients.\n\nTreatment conversion will take place from twice daily tacrolimus to once daily tacrolimus (ADVAGRAF) 3 months after transplant in new liver transplant recipients.",
         "NO",
         "Liver Transplantation",
         "DRUG: ADVAGRAF®",
         "Incidence rate of biopsy confirmed acute rejection, Incidence rate of acute rejection reactions (%) = number of subjects with at least one acute rejection reaction 1)/total number of subjects in the relevant analysis set \\* 100, 24 weeks within",
         "Severity of biopsy confirmed acute rejection, Severity of acute rejection reactions is defined as the highest severity in a subject who had at least one acute rejection reaction., within 24 weeks|Survival rates of subjects and transplanted organs, The survival rate of transplant organs is determined by the loss of transplant organs in the 24th week. Transplant organ loss is defined as re-transplant surgery or death. The date of the transplant's disappearance is the first time one of these events has occurred., at 24 weeks|compliance, The dosage compliance level is checked by the questionnaire at each visit based on the total amount of the IPs that should have been taken., at 24 weeks",
         null,
         "Linical Korea",
         "Astellas Pharma Korea, Inc.|National Cancer Center, Korea",
         "ALL",
         "ADULT, OLDER_ADULT",
         "PHASE4",
         "31.0",
         "INDUSTRY",
         "INTERVENTIONAL",
         "Allocation: NA|Intervention Model: SINGLE_GROUP|Masking: NONE|Primary Purpose: SCREENING",
         "Assign",
         "2015-07",
         "2017-12-14",
         "2017-12-14",
         "2021-02-21",
         null,
         "2021-02-21",
         null,
         null,
         "A Single Center, Single Arm, Open-label Study to Evaluate the Efficacy and Safety of Tacrolimus Modified Release, ADVAGRAF® After Treatment With a Tacrolimus in New Liver Transplant Recipients"
        ],
        [
         "20192",
         "NCT03423225",
         "To Evaluate the Efficacy and Safety of ADVAGRAF® After Treatment With a Tacrolimus in New Liver Transplant Recipients",
         "https://clinicaltrials.gov/study/NCT03423225",
         null,
         "COMPLETED",
         "This study's objective is to evaluate the incidence rate of acute rejection reactions after 24 weeks treatment with ADVAGRAF® following 3 months treatment with tacrolimus in new liver transplant recipients.\n\nTreatment conversion will take place from twice daily tacrolimus to once daily tacrolimus (ADVAGRAF) 3 months after transplant in new liver transplant recipients.",
         "NO",
         "Liver Transplantation",
         "DRUG: ADVAGRAF®",
         "Incidence rate of acute rejection reaction confirmed by biopsy within 24 weeks after conversion, Incidence rate of acute rejection reaction (%) = The number of subjects with at least one acute rejection reaction / Total number of subjects included in the analysis group \\* 100 number of subjects in the relevant analysis set \\* 100, within 24 weeks",
         "Severity of acute rejection reaction confirmed by biopsy within 24 weeks after conversion, Severity of acute rejection reactions is defined as the highest severity in a subject who had at least one acute rejection reaction., within 24 weeks|Survival rates of subjects after conversion, at week 24|Survival rate of transplanted organs after conversion, at week 24|Blood concentration of tacrolimus, at week -4, week 0, week 2, week 4, week 8, week 16 and week 24",
         null,
         "Kim, Seoung-Hoon",
         "Astellas Pharma Korea, Inc.|Linical Korea",
         "ALL",
         "ADULT, OLDER_ADULT",
         "PHASE4",
         "31.0",
         "OTHER_GOV",
         "INTERVENTIONAL",
         "Allocation: NA|Intervention Model: SINGLE_GROUP|Masking: NONE|Primary Purpose: SCREENING",
         "Assign",
         "2016-03-22",
         "2017-07-18",
         "2017-12-14",
         "2018-02-06",
         null,
         "2018-02-06",
         null,
         null,
         "A Single Center, Single Arm, Open-label Study to Evaluate the Efficacy and Safety of Tacrolimus Modified Release, ADVAGRAF® After Treatment With a Tacrolimus in New Liver Transplant Recipients"
        ]
       ],
       "shape": {
        "columns": 31,
        "rows": 8
       }
      },
      "text/html": [
       "<div>\n",
       "<style scoped>\n",
       "    .dataframe tbody tr th:only-of-type {\n",
       "        vertical-align: middle;\n",
       "    }\n",
       "\n",
       "    .dataframe tbody tr th {\n",
       "        vertical-align: top;\n",
       "    }\n",
       "\n",
       "    .dataframe thead th {\n",
       "        text-align: right;\n",
       "    }\n",
       "</style>\n",
       "<table border=\"1\" class=\"dataframe\">\n",
       "  <thead>\n",
       "    <tr style=\"text-align: right;\">\n",
       "      <th></th>\n",
       "      <th>nct_id</th>\n",
       "      <th>Study Title</th>\n",
       "      <th>Study URL</th>\n",
       "      <th>Acronym</th>\n",
       "      <th>Study Status</th>\n",
       "      <th>Brief Summary</th>\n",
       "      <th>Study Results</th>\n",
       "      <th>Conditions</th>\n",
       "      <th>Interventions</th>\n",
       "      <th>Primary Outcome Measures</th>\n",
       "      <th>Secondary Outcome Measures</th>\n",
       "      <th>Other Outcome Measures</th>\n",
       "      <th>Sponsor</th>\n",
       "      <th>Collaborators</th>\n",
       "      <th>Sex</th>\n",
       "      <th>Age</th>\n",
       "      <th>Phases</th>\n",
       "      <th>Enrollment</th>\n",
       "      <th>Funder Type</th>\n",
       "      <th>Study Type</th>\n",
       "      <th>Study Design</th>\n",
       "      <th>Other IDs</th>\n",
       "      <th>Start Date</th>\n",
       "      <th>Primary Completion Date</th>\n",
       "      <th>Completion Date</th>\n",
       "      <th>First Posted</th>\n",
       "      <th>Results First Posted</th>\n",
       "      <th>Last Update Posted</th>\n",
       "      <th>Locations</th>\n",
       "      <th>Study Documents</th>\n",
       "      <th>official_title</th>\n",
       "    </tr>\n",
       "  </thead>\n",
       "  <tbody>\n",
       "    <tr>\n",
       "      <th>94774</th>\n",
       "      <td>NCT02692599</td>\n",
       "      <td>Safety and Immunogenicity Study of Live Attenu...</td>\n",
       "      <td>https://clinicaltrials.gov/study/NCT02692599</td>\n",
       "      <td>NaN</td>\n",
       "      <td>COMPLETED</td>\n",
       "      <td>The purpose of this study is to evaluate the i...</td>\n",
       "      <td>NO</td>\n",
       "      <td>Mumps</td>\n",
       "      <td>BIOLOGICAL: investigational live attenuated mu...</td>\n",
       "      <td>The seroconversion rates (SCRs) of susceptible...</td>\n",
       "      <td>The incidences of adverse events (AEs) of each...</td>\n",
       "      <td>NaN</td>\n",
       "      <td>Sinovac (Dalian) Vaccine Technology Co., Ltd.</td>\n",
       "      <td>NaN</td>\n",
       "      <td>ALL</td>\n",
       "      <td>CHILD</td>\n",
       "      <td>PHASE3</td>\n",
       "      <td>1150.0</td>\n",
       "      <td>INDUSTRY</td>\n",
       "      <td>INTERVENTIONAL</td>\n",
       "      <td>Allocation: RANDOMIZED|Intervention Model: PAR...</td>\n",
       "      <td>PRO-MUMPS-3001</td>\n",
       "      <td>2016-01</td>\n",
       "      <td>2016-03</td>\n",
       "      <td>2016-07-15</td>\n",
       "      <td>2016-02-26</td>\n",
       "      <td>NaN</td>\n",
       "      <td>2017-10-26</td>\n",
       "      <td>Dingxing County Center for Disease Control and...</td>\n",
       "      <td>NaN</td>\n",
       "      <td>A Blind, Randomized and Controlled Clinical Tr...</td>\n",
       "    </tr>\n",
       "    <tr>\n",
       "      <th>170597</th>\n",
       "      <td>NCT05065177</td>\n",
       "      <td>Safety and Immunogenicity Study of Live Attenu...</td>\n",
       "      <td>https://clinicaltrials.gov/study/NCT05065177</td>\n",
       "      <td>NaN</td>\n",
       "      <td>COMPLETED</td>\n",
       "      <td>The purpose of this study is to evaluate the i...</td>\n",
       "      <td>NO</td>\n",
       "      <td>Mumps</td>\n",
       "      <td>BIOLOGICAL: Investigational live attenuated mu...</td>\n",
       "      <td>The seroconversion rates (SCRs) of susceptible...</td>\n",
       "      <td>The incidences of adverse events (AEs) of each...</td>\n",
       "      <td>NaN</td>\n",
       "      <td>Sinovac Research and Development Co., Ltd.</td>\n",
       "      <td>NaN</td>\n",
       "      <td>ALL</td>\n",
       "      <td>CHILD</td>\n",
       "      <td>PHASE3</td>\n",
       "      <td>1140.0</td>\n",
       "      <td>INDUSTRY</td>\n",
       "      <td>INTERVENTIONAL</td>\n",
       "      <td>Allocation: RANDOMIZED|Intervention Model: PAR...</td>\n",
       "      <td>PRO-MUMPS-3001</td>\n",
       "      <td>2016-01</td>\n",
       "      <td>2016-03</td>\n",
       "      <td>2016-04</td>\n",
       "      <td>2021-10-01</td>\n",
       "      <td>NaN</td>\n",
       "      <td>2021-10-01</td>\n",
       "      <td>Dingxing County Center for Disease Control and...</td>\n",
       "      <td>NaN</td>\n",
       "      <td>A Blind, Randomized and Controlled Clinical Tr...</td>\n",
       "    </tr>\n",
       "    <tr>\n",
       "      <th>2866</th>\n",
       "      <td>NCT01602874</td>\n",
       "      <td>Study Evaluating Tigecycline Versus Ceftriaxon...</td>\n",
       "      <td>https://clinicaltrials.gov/study/NCT01602874</td>\n",
       "      <td>NaN</td>\n",
       "      <td>WITHDRAWN</td>\n",
       "      <td>The main purpose of this study is to compare t...</td>\n",
       "      <td>NO</td>\n",
       "      <td>Community Acquired Bacterial Pneumonia|Complic...</td>\n",
       "      <td>DRUG: Tigecycline|DRUG: Tigecycline|DRUG: cIAI...</td>\n",
       "      <td>Clinical efficacy response (cure, failure, or ...</td>\n",
       "      <td>Clinical response at the IV last day of therap...</td>\n",
       "      <td>NaN</td>\n",
       "      <td>Pfizer</td>\n",
       "      <td>NaN</td>\n",
       "      <td>ALL</td>\n",
       "      <td>CHILD</td>\n",
       "      <td>PHASE3</td>\n",
       "      <td>0.0</td>\n",
       "      <td>INDUSTRY</td>\n",
       "      <td>INTERVENTIONAL</td>\n",
       "      <td>Allocation: RANDOMIZED|Intervention Model: PAR...</td>\n",
       "      <td>3074K4-3340|B1811003</td>\n",
       "      <td>2011-01</td>\n",
       "      <td>2014-05</td>\n",
       "      <td>2014-05</td>\n",
       "      <td>2012-05-21</td>\n",
       "      <td>NaN</td>\n",
       "      <td>2013-02-22</td>\n",
       "      <td>NaN</td>\n",
       "      <td>NaN</td>\n",
       "      <td>Multicenter, Randomized, And Double-Blind Stud...</td>\n",
       "    </tr>\n",
       "    <tr>\n",
       "      <th>140890</th>\n",
       "      <td>NCT00914888</td>\n",
       "      <td>Study Evaluating Tigecycline Versus Ceftriaxon...</td>\n",
       "      <td>https://clinicaltrials.gov/study/NCT00914888</td>\n",
       "      <td>NaN</td>\n",
       "      <td>WITHDRAWN</td>\n",
       "      <td>The main purpose of this study is to compare t...</td>\n",
       "      <td>NO</td>\n",
       "      <td>Community Acquired Bacterial Pneumonia|Complic...</td>\n",
       "      <td>DRUG: Tigecycline|DRUG: Tigecycline|DRUG: cIAI...</td>\n",
       "      <td>Clinical efficacy response (cure, failure, or ...</td>\n",
       "      <td>Clinical response at the IV last day of therap...</td>\n",
       "      <td>NaN</td>\n",
       "      <td>Wyeth is now a wholly owned subsidiary of Pfizer</td>\n",
       "      <td>NaN</td>\n",
       "      <td>ALL</td>\n",
       "      <td>CHILD</td>\n",
       "      <td>PHASE3</td>\n",
       "      <td>0.0</td>\n",
       "      <td>INDUSTRY</td>\n",
       "      <td>INTERVENTIONAL</td>\n",
       "      <td>Allocation: RANDOMIZED|Intervention Model: PAR...</td>\n",
       "      <td>3074K4-3340|B1811003</td>\n",
       "      <td>2011-01</td>\n",
       "      <td>2014-05</td>\n",
       "      <td>2014-05</td>\n",
       "      <td>2009-06-05</td>\n",
       "      <td>NaN</td>\n",
       "      <td>2012-06-07</td>\n",
       "      <td>NaN</td>\n",
       "      <td>NaN</td>\n",
       "      <td>Multicenter, Randomized, And Double-Blind Stud...</td>\n",
       "    </tr>\n",
       "    <tr>\n",
       "      <th>15703</th>\n",
       "      <td>NCT04043130</td>\n",
       "      <td>The Evaluation of Pulse: A Mobile Health App a...</td>\n",
       "      <td>https://clinicaltrials.gov/study/NCT04043130</td>\n",
       "      <td>NaN</td>\n",
       "      <td>COMPLETED</td>\n",
       "      <td>This study used a randomized controlled design...</td>\n",
       "      <td>NO</td>\n",
       "      <td>Unprotected Sex|Contraceptive Usage</td>\n",
       "      <td>BEHAVIORAL: Pulse</td>\n",
       "      <td>Unprotected sex, no contraceptive, Ever having...</td>\n",
       "      <td>Reproductive and sexual health care utilizatio...</td>\n",
       "      <td>NaN</td>\n",
       "      <td>Child Trends</td>\n",
       "      <td>Healthy Teen Network|Ewald and Wasserman|MetaM...</td>\n",
       "      <td>FEMALE</td>\n",
       "      <td>ADULT</td>\n",
       "      <td>NaN</td>\n",
       "      <td>2317.0</td>\n",
       "      <td>OTHER</td>\n",
       "      <td>INTERVENTIONAL</td>\n",
       "      <td>Allocation: RANDOMIZED|Intervention Model: PAR...</td>\n",
       "      <td>TP2AH000038</td>\n",
       "      <td>2016-11</td>\n",
       "      <td>2019-11</td>\n",
       "      <td>2020-06</td>\n",
       "      <td>2019-08-02</td>\n",
       "      <td>NaN</td>\n",
       "      <td>2020-06-16</td>\n",
       "      <td>Healthy Teen Network, Baltimore, Maryland, 212...</td>\n",
       "      <td>NaN</td>\n",
       "      <td>The Evaluation of Pulse: A Mobile Health App a...</td>\n",
       "    </tr>\n",
       "    <tr>\n",
       "      <th>157402</th>\n",
       "      <td>NCT03253783</td>\n",
       "      <td>The Evaluation of Pulse: A Mobile Health App a...</td>\n",
       "      <td>https://clinicaltrials.gov/study/NCT03253783</td>\n",
       "      <td>NaN</td>\n",
       "      <td>COMPLETED</td>\n",
       "      <td>This study uses a randomized controlled design...</td>\n",
       "      <td>NO</td>\n",
       "      <td>Unprotected Sex|Contraceptive Usage|Reproducti...</td>\n",
       "      <td>BEHAVIORAL: Pulse</td>\n",
       "      <td>Unprotected sex, no contraceptive, Ever having...</td>\n",
       "      <td>Reproductive and sexual health care utilizatio...</td>\n",
       "      <td>NaN</td>\n",
       "      <td>Healthy Teen Network</td>\n",
       "      <td>Child Trends|Ewald and Wasserman|Meta Media</td>\n",
       "      <td>FEMALE</td>\n",
       "      <td>ADULT</td>\n",
       "      <td>NaN</td>\n",
       "      <td>1304.0</td>\n",
       "      <td>OTHER</td>\n",
       "      <td>INTERVENTIONAL</td>\n",
       "      <td>Allocation: |Intervention Model: |Masking: NON...</td>\n",
       "      <td>TP2AH000038</td>\n",
       "      <td>2016-11</td>\n",
       "      <td>2017-12</td>\n",
       "      <td>2018-01</td>\n",
       "      <td>2017-08-18</td>\n",
       "      <td>NaN</td>\n",
       "      <td>2018-01-23</td>\n",
       "      <td>Healthy Teen Network, Baltimore, Maryland, 212...</td>\n",
       "      <td>NaN</td>\n",
       "      <td>The Evaluation of Pulse: A Mobile Health App a...</td>\n",
       "    </tr>\n",
       "    <tr>\n",
       "      <th>11512</th>\n",
       "      <td>NCT04761731</td>\n",
       "      <td>To Evaluate the Efficacy and Safety of ADVAGRA...</td>\n",
       "      <td>https://clinicaltrials.gov/study/NCT04761731</td>\n",
       "      <td>Assign</td>\n",
       "      <td>COMPLETED</td>\n",
       "      <td>This study's objective is to evaluate the inci...</td>\n",
       "      <td>NO</td>\n",
       "      <td>Liver Transplantation</td>\n",
       "      <td>DRUG: ADVAGRAF®</td>\n",
       "      <td>Incidence rate of biopsy confirmed acute rejec...</td>\n",
       "      <td>Severity of biopsy confirmed acute rejection, ...</td>\n",
       "      <td>NaN</td>\n",
       "      <td>Linical Korea</td>\n",
       "      <td>Astellas Pharma Korea, Inc.|National Cancer Ce...</td>\n",
       "      <td>ALL</td>\n",
       "      <td>ADULT, OLDER_ADULT</td>\n",
       "      <td>PHASE4</td>\n",
       "      <td>31.0</td>\n",
       "      <td>INDUSTRY</td>\n",
       "      <td>INTERVENTIONAL</td>\n",
       "      <td>Allocation: NA|Intervention Model: SINGLE_GROU...</td>\n",
       "      <td>Assign</td>\n",
       "      <td>2015-07</td>\n",
       "      <td>2017-12-14</td>\n",
       "      <td>2017-12-14</td>\n",
       "      <td>2021-02-21</td>\n",
       "      <td>NaN</td>\n",
       "      <td>2021-02-21</td>\n",
       "      <td>NaN</td>\n",
       "      <td>NaN</td>\n",
       "      <td>A Single Center, Single Arm, Open-label Study ...</td>\n",
       "    </tr>\n",
       "    <tr>\n",
       "      <th>20192</th>\n",
       "      <td>NCT03423225</td>\n",
       "      <td>To Evaluate the Efficacy and Safety of ADVAGRA...</td>\n",
       "      <td>https://clinicaltrials.gov/study/NCT03423225</td>\n",
       "      <td>NaN</td>\n",
       "      <td>COMPLETED</td>\n",
       "      <td>This study's objective is to evaluate the inci...</td>\n",
       "      <td>NO</td>\n",
       "      <td>Liver Transplantation</td>\n",
       "      <td>DRUG: ADVAGRAF®</td>\n",
       "      <td>Incidence rate of acute rejection reaction con...</td>\n",
       "      <td>Severity of acute rejection reaction confirmed...</td>\n",
       "      <td>NaN</td>\n",
       "      <td>Kim, Seoung-Hoon</td>\n",
       "      <td>Astellas Pharma Korea, Inc.|Linical Korea</td>\n",
       "      <td>ALL</td>\n",
       "      <td>ADULT, OLDER_ADULT</td>\n",
       "      <td>PHASE4</td>\n",
       "      <td>31.0</td>\n",
       "      <td>OTHER_GOV</td>\n",
       "      <td>INTERVENTIONAL</td>\n",
       "      <td>Allocation: NA|Intervention Model: SINGLE_GROU...</td>\n",
       "      <td>Assign</td>\n",
       "      <td>2016-03-22</td>\n",
       "      <td>2017-07-18</td>\n",
       "      <td>2017-12-14</td>\n",
       "      <td>2018-02-06</td>\n",
       "      <td>NaN</td>\n",
       "      <td>2018-02-06</td>\n",
       "      <td>NaN</td>\n",
       "      <td>NaN</td>\n",
       "      <td>A Single Center, Single Arm, Open-label Study ...</td>\n",
       "    </tr>\n",
       "  </tbody>\n",
       "</table>\n",
       "</div>"
      ],
      "text/plain": [
       "             nct_id                                        Study Title  \\\n",
       "94774   NCT02692599  Safety and Immunogenicity Study of Live Attenu...   \n",
       "170597  NCT05065177  Safety and Immunogenicity Study of Live Attenu...   \n",
       "2866    NCT01602874  Study Evaluating Tigecycline Versus Ceftriaxon...   \n",
       "140890  NCT00914888  Study Evaluating Tigecycline Versus Ceftriaxon...   \n",
       "15703   NCT04043130  The Evaluation of Pulse: A Mobile Health App a...   \n",
       "157402  NCT03253783  The Evaluation of Pulse: A Mobile Health App a...   \n",
       "11512   NCT04761731  To Evaluate the Efficacy and Safety of ADVAGRA...   \n",
       "20192   NCT03423225  To Evaluate the Efficacy and Safety of ADVAGRA...   \n",
       "\n",
       "                                           Study URL Acronym Study Status  \\\n",
       "94774   https://clinicaltrials.gov/study/NCT02692599     NaN    COMPLETED   \n",
       "170597  https://clinicaltrials.gov/study/NCT05065177     NaN    COMPLETED   \n",
       "2866    https://clinicaltrials.gov/study/NCT01602874     NaN    WITHDRAWN   \n",
       "140890  https://clinicaltrials.gov/study/NCT00914888     NaN    WITHDRAWN   \n",
       "15703   https://clinicaltrials.gov/study/NCT04043130     NaN    COMPLETED   \n",
       "157402  https://clinicaltrials.gov/study/NCT03253783     NaN    COMPLETED   \n",
       "11512   https://clinicaltrials.gov/study/NCT04761731  Assign    COMPLETED   \n",
       "20192   https://clinicaltrials.gov/study/NCT03423225     NaN    COMPLETED   \n",
       "\n",
       "                                            Brief Summary Study Results  \\\n",
       "94774   The purpose of this study is to evaluate the i...            NO   \n",
       "170597  The purpose of this study is to evaluate the i...            NO   \n",
       "2866    The main purpose of this study is to compare t...            NO   \n",
       "140890  The main purpose of this study is to compare t...            NO   \n",
       "15703   This study used a randomized controlled design...            NO   \n",
       "157402  This study uses a randomized controlled design...            NO   \n",
       "11512   This study's objective is to evaluate the inci...            NO   \n",
       "20192   This study's objective is to evaluate the inci...            NO   \n",
       "\n",
       "                                               Conditions  \\\n",
       "94774                                               Mumps   \n",
       "170597                                              Mumps   \n",
       "2866    Community Acquired Bacterial Pneumonia|Complic...   \n",
       "140890  Community Acquired Bacterial Pneumonia|Complic...   \n",
       "15703                 Unprotected Sex|Contraceptive Usage   \n",
       "157402  Unprotected Sex|Contraceptive Usage|Reproducti...   \n",
       "11512                               Liver Transplantation   \n",
       "20192                               Liver Transplantation   \n",
       "\n",
       "                                            Interventions  \\\n",
       "94774   BIOLOGICAL: investigational live attenuated mu...   \n",
       "170597  BIOLOGICAL: Investigational live attenuated mu...   \n",
       "2866    DRUG: Tigecycline|DRUG: Tigecycline|DRUG: cIAI...   \n",
       "140890  DRUG: Tigecycline|DRUG: Tigecycline|DRUG: cIAI...   \n",
       "15703                                   BEHAVIORAL: Pulse   \n",
       "157402                                  BEHAVIORAL: Pulse   \n",
       "11512                                     DRUG: ADVAGRAF®   \n",
       "20192                                     DRUG: ADVAGRAF®   \n",
       "\n",
       "                                 Primary Outcome Measures  \\\n",
       "94774   The seroconversion rates (SCRs) of susceptible...   \n",
       "170597  The seroconversion rates (SCRs) of susceptible...   \n",
       "2866    Clinical efficacy response (cure, failure, or ...   \n",
       "140890  Clinical efficacy response (cure, failure, or ...   \n",
       "15703   Unprotected sex, no contraceptive, Ever having...   \n",
       "157402  Unprotected sex, no contraceptive, Ever having...   \n",
       "11512   Incidence rate of biopsy confirmed acute rejec...   \n",
       "20192   Incidence rate of acute rejection reaction con...   \n",
       "\n",
       "                               Secondary Outcome Measures  \\\n",
       "94774   The incidences of adverse events (AEs) of each...   \n",
       "170597  The incidences of adverse events (AEs) of each...   \n",
       "2866    Clinical response at the IV last day of therap...   \n",
       "140890  Clinical response at the IV last day of therap...   \n",
       "15703   Reproductive and sexual health care utilizatio...   \n",
       "157402  Reproductive and sexual health care utilizatio...   \n",
       "11512   Severity of biopsy confirmed acute rejection, ...   \n",
       "20192   Severity of acute rejection reaction confirmed...   \n",
       "\n",
       "       Other Outcome Measures  \\\n",
       "94774                     NaN   \n",
       "170597                    NaN   \n",
       "2866                      NaN   \n",
       "140890                    NaN   \n",
       "15703                     NaN   \n",
       "157402                    NaN   \n",
       "11512                     NaN   \n",
       "20192                     NaN   \n",
       "\n",
       "                                                 Sponsor  \\\n",
       "94774      Sinovac (Dalian) Vaccine Technology Co., Ltd.   \n",
       "170597        Sinovac Research and Development Co., Ltd.   \n",
       "2866                                              Pfizer   \n",
       "140890  Wyeth is now a wholly owned subsidiary of Pfizer   \n",
       "15703                                       Child Trends   \n",
       "157402                              Healthy Teen Network   \n",
       "11512                                      Linical Korea   \n",
       "20192                                   Kim, Seoung-Hoon   \n",
       "\n",
       "                                            Collaborators     Sex  \\\n",
       "94774                                                 NaN     ALL   \n",
       "170597                                                NaN     ALL   \n",
       "2866                                                  NaN     ALL   \n",
       "140890                                                NaN     ALL   \n",
       "15703   Healthy Teen Network|Ewald and Wasserman|MetaM...  FEMALE   \n",
       "157402        Child Trends|Ewald and Wasserman|Meta Media  FEMALE   \n",
       "11512   Astellas Pharma Korea, Inc.|National Cancer Ce...     ALL   \n",
       "20192           Astellas Pharma Korea, Inc.|Linical Korea     ALL   \n",
       "\n",
       "                       Age  Phases  Enrollment Funder Type      Study Type  \\\n",
       "94774                CHILD  PHASE3      1150.0    INDUSTRY  INTERVENTIONAL   \n",
       "170597               CHILD  PHASE3      1140.0    INDUSTRY  INTERVENTIONAL   \n",
       "2866                 CHILD  PHASE3         0.0    INDUSTRY  INTERVENTIONAL   \n",
       "140890               CHILD  PHASE3         0.0    INDUSTRY  INTERVENTIONAL   \n",
       "15703                ADULT     NaN      2317.0       OTHER  INTERVENTIONAL   \n",
       "157402               ADULT     NaN      1304.0       OTHER  INTERVENTIONAL   \n",
       "11512   ADULT, OLDER_ADULT  PHASE4        31.0    INDUSTRY  INTERVENTIONAL   \n",
       "20192   ADULT, OLDER_ADULT  PHASE4        31.0   OTHER_GOV  INTERVENTIONAL   \n",
       "\n",
       "                                             Study Design  \\\n",
       "94774   Allocation: RANDOMIZED|Intervention Model: PAR...   \n",
       "170597  Allocation: RANDOMIZED|Intervention Model: PAR...   \n",
       "2866    Allocation: RANDOMIZED|Intervention Model: PAR...   \n",
       "140890  Allocation: RANDOMIZED|Intervention Model: PAR...   \n",
       "15703   Allocation: RANDOMIZED|Intervention Model: PAR...   \n",
       "157402  Allocation: |Intervention Model: |Masking: NON...   \n",
       "11512   Allocation: NA|Intervention Model: SINGLE_GROU...   \n",
       "20192   Allocation: NA|Intervention Model: SINGLE_GROU...   \n",
       "\n",
       "                   Other IDs  Start Date Primary Completion Date  \\\n",
       "94774         PRO-MUMPS-3001     2016-01                 2016-03   \n",
       "170597        PRO-MUMPS-3001     2016-01                 2016-03   \n",
       "2866    3074K4-3340|B1811003     2011-01                 2014-05   \n",
       "140890  3074K4-3340|B1811003     2011-01                 2014-05   \n",
       "15703            TP2AH000038     2016-11                 2019-11   \n",
       "157402           TP2AH000038     2016-11                 2017-12   \n",
       "11512                 Assign     2015-07              2017-12-14   \n",
       "20192                 Assign  2016-03-22              2017-07-18   \n",
       "\n",
       "       Completion Date First Posted Results First Posted Last Update Posted  \\\n",
       "94774       2016-07-15   2016-02-26                  NaN         2017-10-26   \n",
       "170597         2016-04   2021-10-01                  NaN         2021-10-01   \n",
       "2866           2014-05   2012-05-21                  NaN         2013-02-22   \n",
       "140890         2014-05   2009-06-05                  NaN         2012-06-07   \n",
       "15703          2020-06   2019-08-02                  NaN         2020-06-16   \n",
       "157402         2018-01   2017-08-18                  NaN         2018-01-23   \n",
       "11512       2017-12-14   2021-02-21                  NaN         2021-02-21   \n",
       "20192       2017-12-14   2018-02-06                  NaN         2018-02-06   \n",
       "\n",
       "                                                Locations Study Documents  \\\n",
       "94774   Dingxing County Center for Disease Control and...             NaN   \n",
       "170597  Dingxing County Center for Disease Control and...             NaN   \n",
       "2866                                                  NaN             NaN   \n",
       "140890                                                NaN             NaN   \n",
       "15703   Healthy Teen Network, Baltimore, Maryland, 212...             NaN   \n",
       "157402  Healthy Teen Network, Baltimore, Maryland, 212...             NaN   \n",
       "11512                                                 NaN             NaN   \n",
       "20192                                                 NaN             NaN   \n",
       "\n",
       "                                           official_title  \n",
       "94774   A Blind, Randomized and Controlled Clinical Tr...  \n",
       "170597  A Blind, Randomized and Controlled Clinical Tr...  \n",
       "2866    Multicenter, Randomized, And Double-Blind Stud...  \n",
       "140890  Multicenter, Randomized, And Double-Blind Stud...  \n",
       "15703   The Evaluation of Pulse: A Mobile Health App a...  \n",
       "157402  The Evaluation of Pulse: A Mobile Health App a...  \n",
       "11512   A Single Center, Single Arm, Open-label Study ...  \n",
       "20192   A Single Center, Single Arm, Open-label Study ...  "
      ]
     },
     "metadata": {},
     "output_type": "display_data"
    }
   ],
   "source": [
    "df = df.merge(my_studies[['nct_id', 'official_title']], on = 'nct_id', how = 'left')\n",
    "\n",
    "# Shape before\n",
    "display(df.shape)  \n",
    "df.drop_duplicates()  \n",
    "display(df.shape)  # Shape after --> Same --> No duplicate rows in all columns\n",
    "\n",
    "# Non Unique Study Title or IDs (But not in all columns) --> # Some Studies have Same Study Title but Different nct_id\n",
    "display(df.describe(include = ['object'])[[\"nct_id\", \"Study Title\", \"official_title\", \"Acronym\", \"Other IDs\"]])\n",
    "display(df[df.duplicated(subset = [\"Study Title\", \"Other IDs\"], keep = False)].sort_values(by = \"Study Title\"))  # Some even have Same Other IDs which is given by Sponsors, Study itself etc.\n",
    "\n"
   ]
  },
  {
   "cell_type": "markdown",
   "metadata": {},
   "source": [
    "##  Drop Rows\n",
    "15 clinical trials missing fro db that exist in csv. --> They are about Devise/ Diagnostics/ etc. "
   ]
  },
  {
   "cell_type": "code",
   "execution_count": 402,
   "metadata": {},
   "outputs": [
    {
     "data": {
      "text/plain": [
       "(177586, 31)"
      ]
     },
     "metadata": {},
     "output_type": "display_data"
    }
   ],
   "source": [
    "df = df.drop(df[~df[\"nct_id\"].isin(my_studies[\"nct_id\"])].index)  \n",
    "display(df.shape)"
   ]
  },
  {
   "cell_type": "markdown",
   "metadata": {},
   "source": [
    "# 3) Columns Format Dtypes"
   ]
  },
  {
   "cell_type": "markdown",
   "metadata": {},
   "source": [
    "## Study Status\n",
    "Information Source: https://clinicaltrials.gov/policy/protocol-definitions#study-status\n",
    "- Withdrawn Studies = Permenantely Stopped as Noted in Data Source. Withdrawn is Replaced as Terminated. "
   ]
  },
  {
   "cell_type": "code",
   "execution_count": 403,
   "metadata": {},
   "outputs": [
    {
     "data": {
      "application/vnd.microsoft.datawrangler.viewer.v0+json": {
       "columns": [
        {
         "name": "Study Status",
         "rawType": "object",
         "type": "string"
        },
        {
         "name": "count",
         "rawType": "int64",
         "type": "integer"
        }
       ],
       "ref": "f7ca40fe-4777-454b-84eb-33507a834acd",
       "rows": [
        [
         "COMPLETED",
         "151707"
        ],
        [
         "TERMINATED",
         "17478"
        ],
        [
         "WITHDRAWN",
         "8401"
        ]
       ],
       "shape": {
        "columns": 1,
        "rows": 3
       }
      },
      "text/plain": [
       "Study Status\n",
       "COMPLETED     151707\n",
       "TERMINATED     17478\n",
       "WITHDRAWN       8401\n",
       "Name: count, dtype: int64"
      ]
     },
     "metadata": {},
     "output_type": "display_data"
    },
    {
     "data": {
      "application/vnd.microsoft.datawrangler.viewer.v0+json": {
       "columns": [
        {
         "name": "Study Status",
         "rawType": "category",
         "type": "unknown"
        },
        {
         "name": "count",
         "rawType": "int64",
         "type": "integer"
        }
       ],
       "ref": "28579d1a-ac87-4b0d-a6ac-b908586dac8f",
       "rows": [
        [
         "COMPLETED",
         "151707"
        ],
        [
         "TERMINATED",
         "25879"
        ]
       ],
       "shape": {
        "columns": 1,
        "rows": 2
       }
      },
      "text/plain": [
       "Study Status\n",
       "COMPLETED     151707\n",
       "TERMINATED     25879\n",
       "Name: count, dtype: int64"
      ]
     },
     "metadata": {},
     "output_type": "display_data"
    },
    {
     "data": {
      "text/plain": [
       "(177586, 31)"
      ]
     },
     "metadata": {},
     "output_type": "display_data"
    }
   ],
   "source": [
    "display(df['Study Status'].value_counts(dropna=False))  # No null values\n",
    "\n",
    "df[\"Study Status\"] = df[\"Study Status\"].replace(\"WITHDRAWN\", \"TERMINATED\") # Replace \"WITHDRAWN\" with \"TERMINATED\" : withdrawn studies are permanently stopped based on Source\n",
    "df[\"Study Status\"] = df[\"Study Status\"].astype(\"category\")\n",
    "display(df['Study Status'].value_counts(dropna = False))  # No null values\n",
    "display(df.shape)"
   ]
  },
  {
   "cell_type": "markdown",
   "metadata": {},
   "source": [
    "## Study Results\n",
    "- Will not be used for analysis, as they are a result of a Study (like Study Status).\n",
    "- They do not belong to a pre-Designed Study characteristic.\n",
    "- Even if stat.sig in some dfi in Theis_Vizual"
   ]
  },
  {
   "cell_type": "code",
   "execution_count": 404,
   "metadata": {},
   "outputs": [
    {
     "data": {
      "application/vnd.microsoft.datawrangler.viewer.v0+json": {
       "columns": [
        {
         "name": "Study Status",
         "rawType": "category",
         "type": "unknown"
        },
        {
         "name": "NO",
         "rawType": "float64",
         "type": "float"
        },
        {
         "name": "YES",
         "rawType": "float64",
         "type": "float"
        }
       ],
       "ref": "ab7dee79-0737-45fc-a180-043a5e8fd6f6",
       "rows": [
        [
         "COMPLETED",
         "77.0",
         "23.0"
        ],
        [
         "TERMINATED",
         "74.0",
         "26.0"
        ]
       ],
       "shape": {
        "columns": 2,
        "rows": 2
       }
      },
      "text/html": [
       "<div>\n",
       "<style scoped>\n",
       "    .dataframe tbody tr th:only-of-type {\n",
       "        vertical-align: middle;\n",
       "    }\n",
       "\n",
       "    .dataframe tbody tr th {\n",
       "        vertical-align: top;\n",
       "    }\n",
       "\n",
       "    .dataframe thead th {\n",
       "        text-align: right;\n",
       "    }\n",
       "</style>\n",
       "<table border=\"1\" class=\"dataframe\">\n",
       "  <thead>\n",
       "    <tr style=\"text-align: right;\">\n",
       "      <th>Study Results</th>\n",
       "      <th>NO</th>\n",
       "      <th>YES</th>\n",
       "    </tr>\n",
       "    <tr>\n",
       "      <th>Study Status</th>\n",
       "      <th></th>\n",
       "      <th></th>\n",
       "    </tr>\n",
       "  </thead>\n",
       "  <tbody>\n",
       "    <tr>\n",
       "      <th>COMPLETED</th>\n",
       "      <td>77.0</td>\n",
       "      <td>23.0</td>\n",
       "    </tr>\n",
       "    <tr>\n",
       "      <th>TERMINATED</th>\n",
       "      <td>74.0</td>\n",
       "      <td>26.0</td>\n",
       "    </tr>\n",
       "  </tbody>\n",
       "</table>\n",
       "</div>"
      ],
      "text/plain": [
       "Study Results    NO   YES\n",
       "Study Status             \n",
       "COMPLETED      77.0  23.0\n",
       "TERMINATED     74.0  26.0"
      ]
     },
     "execution_count": 404,
     "metadata": {},
     "output_type": "execute_result"
    }
   ],
   "source": [
    "res_piv = pd.pivot_table(df, \n",
    "                index = 'Study Status', \n",
    "                columns = 'Study Results', \n",
    "                aggfunc = 'size',\n",
    "                observed = True, \n",
    "                )\n",
    "res_piv = res_piv.div(res_piv.sum(axis = 1), axis = 0).round(2) * 100\n",
    "res_piv"
   ]
  },
  {
   "cell_type": "markdown",
   "metadata": {},
   "source": [
    "## Primary Outcome Measures/Secondary Outcome Measures/Other Outcome Measures\n",
    "- Will not be used for analysis, as they are a result of a Study (like Study Status).\n",
    "- They do not belong to a pre-Designed Study characteristic.\n",
    "- Even if stat.sig in some dfi in Theis_Vizual"
   ]
  },
  {
   "cell_type": "markdown",
   "metadata": {},
   "source": [
    "## Age_List"
   ]
  },
  {
   "cell_type": "code",
   "execution_count": 405,
   "metadata": {},
   "outputs": [
    {
     "data": {
      "application/vnd.microsoft.datawrangler.viewer.v0+json": {
       "columns": [
        {
         "name": "Age",
         "rawType": "object",
         "type": "string"
        },
        {
         "name": "count",
         "rawType": "int64",
         "type": "integer"
        }
       ],
       "ref": "fb266dae-7136-4cab-9aa1-6b8357008e16",
       "rows": [
        [
         "ADULT, OLDER_ADULT",
         "113474"
        ],
        [
         "ADULT",
         "32525"
        ],
        [
         "CHILD",
         "11733"
        ],
        [
         "CHILD, ADULT, OLDER_ADULT",
         "10558"
        ],
        [
         "CHILD, ADULT",
         "6475"
        ],
        [
         "OLDER_ADULT",
         "2821"
        ]
       ],
       "shape": {
        "columns": 1,
        "rows": 6
       }
      },
      "text/plain": [
       "Age\n",
       "ADULT, OLDER_ADULT           113474\n",
       "ADULT                         32525\n",
       "CHILD                         11733\n",
       "CHILD, ADULT, OLDER_ADULT     10558\n",
       "CHILD, ADULT                   6475\n",
       "OLDER_ADULT                    2821\n",
       "Name: count, dtype: int64"
      ]
     },
     "metadata": {},
     "output_type": "display_data"
    },
    {
     "data": {
      "text/plain": [
       "Counter({'ADULT': 163032, 'OLDER_ADULT': 126853, 'CHILD': 28766})"
      ]
     },
     "metadata": {},
     "output_type": "display_data"
    },
    {
     "data": {
      "application/vnd.microsoft.datawrangler.viewer.v0+json": {
       "columns": [
        {
         "name": "Age_List",
         "rawType": "object",
         "type": "unknown"
        },
        {
         "name": "count",
         "rawType": "int64",
         "type": "integer"
        }
       ],
       "ref": "dfb5f841-45c4-4ebf-9033-adfc41dcd059",
       "rows": [
        [
         "['ADULT', 'OLDER_ADULT']",
         "113474"
        ],
        [
         "['ADULT']",
         "32525"
        ],
        [
         "['CHILD']",
         "11733"
        ],
        [
         "['CHILD', 'ADULT', 'OLDER_ADULT']",
         "10558"
        ],
        [
         "['CHILD', 'ADULT']",
         "6475"
        ],
        [
         "['OLDER_ADULT']",
         "2821"
        ]
       ],
       "shape": {
        "columns": 1,
        "rows": 6
       }
      },
      "text/plain": [
       "Age_List\n",
       "[ADULT, OLDER_ADULT]           113474\n",
       "[ADULT]                         32525\n",
       "[CHILD]                         11733\n",
       "[CHILD, ADULT, OLDER_ADULT]     10558\n",
       "[CHILD, ADULT]                   6475\n",
       "[OLDER_ADULT]                    2821\n",
       "Name: count, dtype: int64"
      ]
     },
     "metadata": {},
     "output_type": "display_data"
    },
    {
     "data": {
      "text/plain": [
       "(177586, 31)"
      ]
     },
     "metadata": {},
     "output_type": "display_data"
    }
   ],
   "source": [
    "display(df[\"Age\"].value_counts(dropna=False))  \n",
    " \n",
    "df[\"Age\"] = df[\"Age\"].str.replace(', ', ',').str.split(\",\")   # No apply sort(list(x)) needed here - No duplicated elements with diff list-elem order\n",
    "\n",
    "display(Counter([elem for row_list in df[\"Age\"].dropna() for elem in row_list]))  \n",
    "# display(set(elem for row_list in df[\"Age\"].dropna() for elem in row_list)) # Unique values in list-type element column\n",
    "df = df.rename(columns = {\"Age\": \"Age_List\"})\n",
    "\n",
    "display(df[\"Age_List\"].value_counts(dropna = False))  \n",
    "display(df.shape)"
   ]
  },
  {
   "cell_type": "markdown",
   "metadata": {},
   "source": [
    "## Sex_Dum"
   ]
  },
  {
   "cell_type": "code",
   "execution_count": 406,
   "metadata": {},
   "outputs": [
    {
     "data": {
      "application/vnd.microsoft.datawrangler.viewer.v0+json": {
       "columns": [
        {
         "name": "Sex",
         "rawType": "object",
         "type": "unknown"
        },
        {
         "name": "count",
         "rawType": "int64",
         "type": "integer"
        }
       ],
       "ref": "ce2359da-e3a9-4ca5-983b-38d1e0cf1b52",
       "rows": [
        [
         "ALL",
         "151315"
        ],
        [
         "FEMALE",
         "17076"
        ],
        [
         "MALE",
         "9100"
        ],
        [
         null,
         "95"
        ]
       ],
       "shape": {
        "columns": 1,
        "rows": 4
       }
      },
      "text/plain": [
       "Sex\n",
       "ALL       151315\n",
       "FEMALE     17076\n",
       "MALE        9100\n",
       "NaN           95\n",
       "Name: count, dtype: int64"
      ]
     },
     "metadata": {},
     "output_type": "display_data"
    },
    {
     "data": {
      "application/vnd.microsoft.datawrangler.viewer.v0+json": {
       "columns": [
        {
         "name": "Sex",
         "rawType": "object",
         "type": "unknown"
        },
        {
         "name": "count",
         "rawType": "int64",
         "type": "integer"
        }
       ],
       "ref": "a91385a5-5dad-4533-ade6-f42ba007ac25",
       "rows": [
        [
         "ALL",
         "151321"
        ],
        [
         "FEMALE",
         "17080"
        ],
        [
         "MALE",
         "9100"
        ],
        [
         null,
         "85"
        ]
       ],
       "shape": {
        "columns": 1,
        "rows": 4
       }
      },
      "text/plain": [
       "Sex\n",
       "ALL       151321\n",
       "FEMALE     17080\n",
       "MALE        9100\n",
       "None          85\n",
       "Name: count, dtype: int64"
      ]
     },
     "metadata": {},
     "output_type": "display_data"
    },
    {
     "data": {
      "text/plain": [
       "(177586, 31)"
      ]
     },
     "metadata": {},
     "output_type": "display_data"
    }
   ],
   "source": [
    "display(df[\"Sex\"].value_counts(dropna=False))  \n",
    "\n",
    "# Fillna from my_eligibilities df\n",
    "df = df.merge(my_eligibilities[[\"nct_id\", \"gender\"]], on = \"nct_id\", how = \"left\")\n",
    "df['Sex'] = df['Sex'].fillna(df['gender'])\n",
    "df = df.drop(columns = ['gender'])\n",
    "df[\"Sex\"].isnull().sum()  # Just 1 row/point filled\n",
    "\n",
    "# Fillna from Brief Summary\n",
    "df.loc[ df[\"Sex\"].isnull() & df[\"Brief Summary\"].str.contains(r\"(?i)\\bmale\\b|\\bmen\\b\", na=False) & \\\n",
    "                 df[\"Brief Summary\"].str.contains(r\"(?i)\\bfemale\\b|\\bwomen\\b\", na=False), \"Sex\"] = \"ALL\"\n",
    "\n",
    "df.loc[ df[\"Sex\"].isnull() & ~ df[\"Brief Summary\"].str.contains(r\"(?i)\\bmale\\b|\\bmen\\b\", na=False) & \\\n",
    "                 df[\"Brief Summary\"].str.contains(r\"(?i)\\bfemale\\b|\\bwomen\\b\", na=False), \"Sex\"] = \"FEMALE\"\n",
    "\n",
    "df.loc[ df[\"Sex\"].isnull() & df[\"Brief Summary\"].str.contains(r\"(?i)\\bmale\\b|\\bmen\\b\", na=False) & \\\n",
    "                ~ df[\"Brief Summary\"].str.contains(r\"(?i)\\bfemale\\b|\\bwomen\\b\", na=False), \"Sex\"] = \"MALE\"\n",
    "\n",
    "display(df[\"Sex\"].value_counts(dropna=False))\n",
    "df = df.rename(columns = {\"Sex\": \"Sex_Dum\"})\n",
    "display(df.shape)"
   ]
  },
  {
   "cell_type": "markdown",
   "metadata": {},
   "source": [
    "### NaNs (85) --> Drop"
   ]
  },
  {
   "cell_type": "markdown",
   "metadata": {},
   "source": [
    "## Funder"
   ]
  },
  {
   "cell_type": "markdown",
   "metadata": {},
   "source": [
    "### Funder_Type_Dum\n",
    "\n",
    "PRS Source: https://register.clinicaltrials.gov/prs/html/account-organizations.html#page-top\n",
    "Companies Source : https://companiesmarketcap.com/pharmaceuticals/largest-pharmaceutical-companies-by-market-cap/\n",
    "1. U.S. National Institutes of Health\n",
    "2. Other U.S. Federal agencies (for example, Food and Drug Administration, Centers for Disease Control and Prevention, or U.S. Department of Veterans Affairs)\n",
    "3. Industry (for example: pharmaceutical and device companies)\n",
    "4. All others (including individuals, universities, and community-based organizations)\n",
    "\n",
    "Notes: for my_source from db vs df\n",
    "- 268 rows diferrence in columns my_source['source_class', 'source'] and df['Funder Type', 'Sponsor'] e.g INDUSTRY\n",
    "source not excact same as Sponsor"
   ]
  },
  {
   "cell_type": "code",
   "execution_count": 407,
   "metadata": {},
   "outputs": [
    {
     "data": {
      "application/vnd.microsoft.datawrangler.viewer.v0+json": {
       "columns": [
        {
         "name": "Funder_Type",
         "rawType": "object",
         "type": "string"
        },
        {
         "name": "count",
         "rawType": "int64",
         "type": "integer"
        }
       ],
       "ref": "e6a400bc-93c1-4e10-8ed0-11903679e9b0",
       "rows": [
        [
         "OTHER",
         "120444"
        ],
        [
         "INDUSTRY",
         "49624"
        ],
        [
         "OTHER_GOV",
         "3443"
        ],
        [
         "FED",
         "1628"
        ],
        [
         "NIH",
         "1391"
        ],
        [
         "NETWORK",
         "871"
        ],
        [
         "INDIV",
         "170"
        ],
        [
         "UNKNOWN",
         "13"
        ],
        [
         "AMBIG",
         "2"
        ]
       ],
       "shape": {
        "columns": 1,
        "rows": 9
       }
      },
      "text/plain": [
       "Funder_Type\n",
       "OTHER        120444\n",
       "INDUSTRY      49624\n",
       "OTHER_GOV      3443\n",
       "FED            1628\n",
       "NIH            1391\n",
       "NETWORK         871\n",
       "INDIV           170\n",
       "UNKNOWN          13\n",
       "AMBIG             2\n",
       "Name: count, dtype: int64"
      ]
     },
     "metadata": {},
     "output_type": "display_data"
    },
    {
     "data": {
      "application/vnd.microsoft.datawrangler.viewer.v0+json": {
       "columns": [
        {
         "name": "Funder_Type_Dum",
         "rawType": "object",
         "type": "string"
        },
        {
         "name": "count",
         "rawType": "int64",
         "type": "integer"
        }
       ],
       "ref": "c44589d8-44ba-4273-a5ab-01d692d12388",
       "rows": [
        [
         "FUNDER_OTHER",
         "121500"
        ],
        [
         "INDUSTRY",
         "49624"
        ],
        [
         "GOVERM",
         "6462"
        ]
       ],
       "shape": {
        "columns": 1,
        "rows": 3
       }
      },
      "text/plain": [
       "Funder_Type_Dum\n",
       "FUNDER_OTHER    121500\n",
       "INDUSTRY         49624\n",
       "GOVERM            6462\n",
       "Name: count, dtype: int64"
      ]
     },
     "metadata": {},
     "output_type": "display_data"
    },
    {
     "data": {
      "text/plain": [
       "(177586, 31)"
      ]
     },
     "metadata": {},
     "output_type": "display_data"
    }
   ],
   "source": [
    "df = df.rename(columns = {\"Funder Type\": \"Funder_Type\"})\n",
    "display(df[\"Funder_Type\"].value_counts(dropna = False))  \n",
    "\n",
    "# Merging Categories into more general \n",
    "# Some categories have too little samples (e.g., Thesis Vizual File)\n",
    "funder_map = {\n",
    "    'OTHER': 'FUNDER_OTHER',\n",
    "    'INDUSTRY': 'INDUSTRY',\n",
    "    'OTHER_GOV': 'GOVERM',\n",
    "    'FED': 'GOVERM',\n",
    "    'NIH': 'GOVERM',\n",
    "    'NETWORK': 'FUNDER_OTHER',\n",
    "    'INDIV': 'FUNDER_OTHER',\n",
    "    'UNKNOWN': 'FUNDER_OTHER',\n",
    "    'AMBIG': 'FUNDER_OTHER'\n",
    "}\n",
    "df['Funder_Type'] = df['Funder_Type'].map(funder_map)\n",
    "\n",
    "df = df.rename(columns = {\"Funder_Type\": \"Funder_Type_Dum\"})\n",
    "display(df[\"Funder_Type_Dum\"].value_counts(dropna=False))  \n",
    "display(df.shape)"
   ]
  },
  {
   "cell_type": "markdown",
   "metadata": {},
   "source": [
    "### Sponsor_Collab_List"
   ]
  },
  {
   "cell_type": "code",
   "execution_count": 408,
   "metadata": {},
   "outputs": [
    {
     "name": "stderr",
     "output_type": "stream",
     "text": [
      "C:\\Users\\Eugenia\\AppData\\Local\\Temp\\ipykernel_22932\\1998527034.py:20: UserWarning: This pattern is interpreted as a regular expression, and has match groups. To actually get the groups, use str.extract.\n",
      "  mask = (df[\"Sponsor\"].str.contains(pattern, case = False, na = False))\n",
      "C:\\Users\\Eugenia\\AppData\\Local\\Temp\\ipykernel_22932\\1998527034.py:42: UserWarning: This pattern is interpreted as a regular expression, and has match groups. To actually get the groups, use str.extract.\n",
      "  mask = (df[\"Collaborators\"].str.contains(pattern, case = False, na = False)) # Funder_Type_Dum --> applies only on Funder Type not collaborator as seen from data --> wont mask for collaborator\n"
     ]
    },
    {
     "data": {
      "application/vnd.microsoft.datawrangler.viewer.v0+json": {
       "columns": [
        {
         "name": "Sponsor_Collab_List",
         "rawType": "object",
         "type": "unknown"
        },
        {
         "name": "count",
         "rawType": "int64",
         "type": "integer"
        }
       ],
       "ref": "8c1dcab3-5aa9-42da-a3e2-cab6efff6ef0",
       "rows": [
        [
         "['University']",
         "53064"
        ],
        [
         "['Pharmaceutical']",
         "46300"
        ],
        [
         "[]",
         "19062"
        ],
        [
         "['Pharmaceutical', 'University']",
         "19059"
        ],
        [
         "['Hospital', 'University']",
         "14578"
        ],
        [
         "['Hospital', 'Pharmaceutical', 'University']",
         "9565"
        ],
        [
         "['Hospital']",
         "9385"
        ],
        [
         "['Hospital', 'Pharmaceutical']",
         "6573"
        ]
       ],
       "shape": {
        "columns": 1,
        "rows": 8
       }
      },
      "text/plain": [
       "Sponsor_Collab_List\n",
       "[University]                              53064\n",
       "[Pharmaceutical]                          46300\n",
       "[]                                        19062\n",
       "[Pharmaceutical, University]              19059\n",
       "[Hospital, University]                    14578\n",
       "[Hospital, Pharmaceutical, University]     9565\n",
       "[Hospital]                                 9385\n",
       "[Hospital, Pharmaceutical]                 6573\n",
       "Name: count, dtype: int64"
      ]
     },
     "metadata": {},
     "output_type": "display_data"
    }
   ],
   "source": [
    "# pharmaceutical companies pattern\n",
    "pharma = pd.read_csv(r\"C:\\Users\\Eugenia\\OneDrive\\Documents\\THESIS\\Pharmaceuticals.csv\")\n",
    "pharma = pharma.rename(columns = {pharma.columns[0]: 'Pharma'})\n",
    "pharma[\"Pharma\"] = pharma[\"Pharma\"].apply(lambda x: x.rstrip(\"\\xa0\")).str.lower()\n",
    "pharma = pharma.drop_duplicates(subset = [\"Pharma\"]) \n",
    "pharma = pharma[\"Pharma\"]\n",
    "\n",
    "pharma_pat1 = '|'.join(pharma.unique()).lower()  # Create a regex pattern from the pharma list\n",
    "\n",
    "# Text_patterns\n",
    "pharma_pat2 = r'pharm|pharmaceutical|therapeutics|biotech|biosciences|laboratories|\\binc\\b|\\bltd|farmaceut|\\\n",
    "    Farmacéutica|laborator|\\blabs\\b'\n",
    "hospital_pat = r'hospital|medical center|clinic|health system|healthcare|urgent|facility|hopital|public health|Hôpital|Hopital'\n",
    "university_pat = r'academic|university|univers|college|school|institut'\n",
    "\n",
    "# Sponsor\n",
    "df[\"Sponsor_Type\"] = [[] for _ in range(len(df))]\n",
    "#\n",
    "pattern = pharma_pat1\n",
    "mask = (df[\"Sponsor\"].str.contains(pattern, case = False, na = False))\n",
    "      # &((df['Funder_Type_Dum'] == 'INDUSTRY') | (df['Funder_Type_Dum'] == 'FUNDER_OTHER'))\n",
    "df.loc[mask, \"Sponsor_Type\"] = df.loc[mask, \"Sponsor_Type\"].apply(lambda x : x + ['Pharmaceutical'])\n",
    "#\n",
    "pattern = pharma_pat2\n",
    "mask = (df[\"Sponsor\"].str.contains(pattern, case = False, na = False))\n",
    "      # &((df['Funder_Type_Dum'] == 'INDUSTRY') | (df['Funder_Type_Dum'] == 'FUNDER_OTHER'))\n",
    "mask = (df[\"Sponsor\"].str.contains(pattern, case = False, na = False)) & (df['Funder_Type_Dum'] == 'INDUSTRY')\n",
    "df.loc[mask, \"Sponsor_Type\"] = df.loc[mask, \"Sponsor_Type\"].apply(lambda x : x + ['Pharmaceutical'])\n",
    "#\n",
    "pattern = hospital_pat\n",
    "mask = df[\"Sponsor\"].str.contains(pattern, case = False, na = False)\n",
    "df.loc[mask, \"Sponsor_Type\"] = df.loc[mask, \"Sponsor_Type\"].apply(lambda x : x + [\"Hospital\"])\n",
    "#\n",
    "pattern = university_pat\n",
    "mask = df[\"Sponsor\"].str.contains(pattern, case = False, na = False)\n",
    "df.loc[mask, \"Sponsor_Type\"] = df.loc[mask, \"Sponsor_Type\"].apply(lambda x : x + [\"University\"])\n",
    "\n",
    "# Collaborators\n",
    "df[\"Collaborator_Type\"] = [[] for _ in range(len(df))]\n",
    "#\n",
    "pattern = pharma_pat1\n",
    "mask = (df[\"Collaborators\"].str.contains(pattern, case = False, na = False)) # Funder_Type_Dum --> applies only on Funder Type not collaborator as seen from data --> wont mask for collaborator\n",
    "df.loc[mask, \"Collaborator_Type\"] = df.loc[mask, \"Collaborator_Type\"].apply(lambda x : x + ['Pharmaceutical'])\n",
    "#\n",
    "pattern = pharma_pat2\n",
    "mask = df[\"Collaborators\"].str.contains(pattern, case = False, na = False)\n",
    "df.loc[mask, \"Collaborator_Type\"] = df.loc[mask, \"Collaborator_Type\"].apply(lambda x : x + ['Pharmaceutical'])\n",
    "#\n",
    "pattern = hospital_pat\n",
    "mask = df[\"Collaborators\"].str.contains(pattern, case = False, na = False)\n",
    "df.loc[mask, \"Collaborator_Type\"] = df.loc[mask, \"Collaborator_Type\"].apply(lambda x : x + [\"Hospital\"])\n",
    "#\n",
    "pattern = university_pat\n",
    "mask = df[\"Collaborators\"].str.contains(pattern, case = False, na = False)\n",
    "df.loc[mask, \"Collaborator_Type\"] = df.loc[mask, \"Collaborator_Type\"].apply(lambda x : x + [\"University\"])\n",
    "\n",
    "# =============================================================================================================\n",
    "df[\"Sponsor_Collab_List\"] = df['Sponsor_Type'] + df['Collaborator_Type']\n",
    "df[\"Sponsor_Collab_List\"] = df[\"Sponsor_Collab_List\"].apply(lambda x: sorted(set(x)))\n",
    "display(df[\"Sponsor_Collab_List\"].value_counts(dropna=False))\n",
    "\n"
   ]
  },
  {
   "cell_type": "markdown",
   "metadata": {},
   "source": [
    "#### NaNs (19k) --> Sponsor_Collab_Other"
   ]
  },
  {
   "cell_type": "code",
   "execution_count": 409,
   "metadata": {},
   "outputs": [
    {
     "data": {
      "application/vnd.microsoft.datawrangler.viewer.v0+json": {
       "columns": [
        {
         "name": "Sponsor_Collab_List",
         "rawType": "object",
         "type": "unknown"
        },
        {
         "name": "count",
         "rawType": "int64",
         "type": "integer"
        }
       ],
       "ref": "aa7281a0-6035-4ba8-9af9-ad922de5965c",
       "rows": [
        [
         "['University']",
         "53064"
        ],
        [
         "['Pharmaceutical']",
         "46300"
        ],
        [
         "['Spon_coll_Other']",
         "19062"
        ],
        [
         "['Pharmaceutical', 'University']",
         "19059"
        ],
        [
         "['Hospital', 'University']",
         "14578"
        ],
        [
         "['Hospital', 'Pharmaceutical', 'University']",
         "9565"
        ],
        [
         "['Hospital']",
         "9385"
        ],
        [
         "['Hospital', 'Pharmaceutical']",
         "6573"
        ]
       ],
       "shape": {
        "columns": 1,
        "rows": 8
       }
      },
      "text/plain": [
       "Sponsor_Collab_List\n",
       "[University]                              53064\n",
       "[Pharmaceutical]                          46300\n",
       "[Spon_coll_Other]                         19062\n",
       "[Pharmaceutical, University]              19059\n",
       "[Hospital, University]                    14578\n",
       "[Hospital, Pharmaceutical, University]     9565\n",
       "[Hospital]                                 9385\n",
       "[Hospital, Pharmaceutical]                 6573\n",
       "Name: count, dtype: int64"
      ]
     },
     "metadata": {},
     "output_type": "display_data"
    }
   ],
   "source": [
    "df[\"Sponsor_Collab_List\"] = df[\"Sponsor_Collab_List\"].apply(lambda x: ['Spon_coll_Other'] if isinstance(x, list) and len(x) == 0 else x)\n",
    "display(df[\"Sponsor_Collab_List\"].value_counts(dropna = False))"
   ]
  },
  {
   "cell_type": "code",
   "execution_count": 410,
   "metadata": {},
   "outputs": [
    {
     "data": {
      "application/vnd.microsoft.datawrangler.viewer.v0+json": {
       "columns": [
        {
         "name": "index",
         "rawType": "int64",
         "type": "integer"
        },
        {
         "name": "Sponsor",
         "rawType": "object",
         "type": "string"
        },
        {
         "name": "Collaborators",
         "rawType": "object",
         "type": "unknown"
        },
        {
         "name": "Funder_Type_Dum",
         "rawType": "object",
         "type": "string"
        },
        {
         "name": "Sponsor_Collab_List",
         "rawType": "object",
         "type": "unknown"
        }
       ],
       "ref": "981e0eab-4021-4bac-95c5-5667ff4b4456",
       "rows": [
        [
         "3",
         "VA Office of Research and Development",
         null,
         "GOVERM",
         "['Spon_coll_Other']"
        ],
        [
         "22",
         "Terumo BCT",
         null,
         "INDUSTRY",
         "['Spon_coll_Other']"
        ],
        [
         "24",
         "Boston Scientific Corporation",
         null,
         "INDUSTRY",
         "['Spon_coll_Other']"
        ],
        [
         "33",
         "Peyman Sarsangi",
         null,
         "FUNDER_OTHER",
         "['Spon_coll_Other']"
        ],
        [
         "35",
         "Egymedicalpedia",
         null,
         "INDUSTRY",
         "['Spon_coll_Other']"
        ],
        [
         "45",
         "Gruppo Italiano Malattie EMatologiche dell'Adulto",
         null,
         "FUNDER_OTHER",
         "['Spon_coll_Other']"
        ],
        [
         "52",
         "ResMed",
         null,
         "INDUSTRY",
         "['Spon_coll_Other']"
        ],
        [
         "60",
         "Peemongkon Wattananon",
         null,
         "FUNDER_OTHER",
         "['Spon_coll_Other']"
        ],
        [
         "76",
         "Magneto Thrombectomy Solutions",
         null,
         "INDUSTRY",
         "['Spon_coll_Other']"
        ],
        [
         "100",
         "Istituto Oncologico Veneto IRCCS",
         "Ministry of Health, Italy",
         "FUNDER_OTHER",
         "['Spon_coll_Other']"
        ],
        [
         "104",
         "RTI International",
         "FHI 360",
         "FUNDER_OTHER",
         "['Spon_coll_Other']"
        ],
        [
         "106",
         "Eva Szigethy",
         "Crohn's and Colitis Foundation",
         "FUNDER_OTHER",
         "['Spon_coll_Other']"
        ],
        [
         "119",
         "NHS Lothian",
         null,
         "GOVERM",
         "['Spon_coll_Other']"
        ],
        [
         "121",
         "Société des Produits Nestlé (SPN)",
         null,
         "INDUSTRY",
         "['Spon_coll_Other']"
        ],
        [
         "126",
         "Minervax ApS",
         null,
         "FUNDER_OTHER",
         "['Spon_coll_Other']"
        ],
        [
         "142",
         "Belal Alshaikh",
         null,
         "FUNDER_OTHER",
         "['Spon_coll_Other']"
        ],
        [
         "145",
         "PepsiCo Global R&D",
         null,
         "INDUSTRY",
         "['Spon_coll_Other']"
        ],
        [
         "169",
         "Lycera Corp.",
         null,
         "INDUSTRY",
         "['Spon_coll_Other']"
        ],
        [
         "171",
         "Boston Scientific Corporation",
         null,
         "INDUSTRY",
         "['Spon_coll_Other']"
        ],
        [
         "173",
         "Ahmad Elheeny",
         null,
         "FUNDER_OTHER",
         "['Spon_coll_Other']"
        ],
        [
         "190",
         "Fondazione Melanoma Onlus",
         null,
         "FUNDER_OTHER",
         "['Spon_coll_Other']"
        ],
        [
         "202",
         "Kevin Boehnke",
         null,
         "FUNDER_OTHER",
         "['Spon_coll_Other']"
        ],
        [
         "210",
         "Seqirus",
         null,
         "INDUSTRY",
         "['Spon_coll_Other']"
        ],
        [
         "220",
         "VA Office of Research and Development",
         null,
         "GOVERM",
         "['Spon_coll_Other']"
        ],
        [
         "226",
         "BenQ Materials Corporation",
         null,
         "INDUSTRY",
         "['Spon_coll_Other']"
        ],
        [
         "228",
         "BioSerenity",
         null,
         "INDUSTRY",
         "['Spon_coll_Other']"
        ],
        [
         "245",
         "Lazaros Lazarou",
         null,
         "FUNDER_OTHER",
         "['Spon_coll_Other']"
        ],
        [
         "246",
         "HeadSense Medical",
         "Elisabeth-TweeSteden Ziekenhuis",
         "INDUSTRY",
         "['Spon_coll_Other']"
        ],
        [
         "250",
         "Spine Centre of Southern Denmark",
         null,
         "FUNDER_OTHER",
         "['Spon_coll_Other']"
        ],
        [
         "258",
         "Zuyderland Medisch Centrum",
         null,
         "FUNDER_OTHER",
         "['Spon_coll_Other']"
        ],
        [
         "259",
         "Melvin McInnis, MD",
         null,
         "FUNDER_OTHER",
         "['Spon_coll_Other']"
        ],
        [
         "278",
         "Nextrasearch S.r.l.s.",
         null,
         "FUNDER_OTHER",
         "['Spon_coll_Other']"
        ],
        [
         "291",
         "Jing Chang",
         null,
         "FUNDER_OTHER",
         "['Spon_coll_Other']"
        ],
        [
         "297",
         "Danisco",
         "BioFortis",
         "INDUSTRY",
         "['Spon_coll_Other']"
        ],
        [
         "308",
         "Rousselot BVBA",
         "BioTeSys GmbH",
         "INDUSTRY",
         "['Spon_coll_Other']"
        ],
        [
         "312",
         "NYU Langone Health",
         null,
         "FUNDER_OTHER",
         "['Spon_coll_Other']"
        ],
        [
         "314",
         "Piotr Fudalej",
         null,
         "FUNDER_OTHER",
         "['Spon_coll_Other']"
        ],
        [
         "326",
         "GLWL Research Inc.",
         null,
         "FUNDER_OTHER",
         "['Spon_coll_Other']"
        ],
        [
         "327",
         "CONRAD",
         null,
         "FUNDER_OTHER",
         "['Spon_coll_Other']"
        ],
        [
         "363",
         "AB Science",
         null,
         "INDUSTRY",
         "['Spon_coll_Other']"
        ],
        [
         "366",
         "MicroPort CRM",
         null,
         "INDUSTRY",
         "['Spon_coll_Other']"
        ],
        [
         "383",
         "Neurocore",
         null,
         "FUNDER_OTHER",
         "['Spon_coll_Other']"
        ],
        [
         "388",
         "Dr Meru S",
         null,
         "FUNDER_OTHER",
         "['Spon_coll_Other']"
        ],
        [
         "414",
         "Suzanne C. Cannegieter, MD PhD",
         "ZonMw: The Netherlands Organisation for Health Research and Development",
         "FUNDER_OTHER",
         "['Spon_coll_Other']"
        ],
        [
         "415",
         "UNICANCER",
         null,
         "FUNDER_OTHER",
         "['Spon_coll_Other']"
        ],
        [
         "418",
         "Hebrew SeniorLife",
         null,
         "FUNDER_OTHER",
         "['Spon_coll_Other']"
        ],
        [
         "429",
         "Ospedale Sandro Pertini, Roma",
         null,
         "FUNDER_OTHER",
         "['Spon_coll_Other']"
        ],
        [
         "430",
         "Cefaly Technology",
         null,
         "INDUSTRY",
         "['Spon_coll_Other']"
        ],
        [
         "434",
         "Dr. Bruce B. Allan",
         null,
         "FUNDER_OTHER",
         "['Spon_coll_Other']"
        ],
        [
         "446",
         "Case Comprehensive Cancer Center",
         null,
         "FUNDER_OTHER",
         "['Spon_coll_Other']"
        ]
       ],
       "shape": {
        "columns": 4,
        "rows": 19062
       }
      },
      "text/html": [
       "<div>\n",
       "<style scoped>\n",
       "    .dataframe tbody tr th:only-of-type {\n",
       "        vertical-align: middle;\n",
       "    }\n",
       "\n",
       "    .dataframe tbody tr th {\n",
       "        vertical-align: top;\n",
       "    }\n",
       "\n",
       "    .dataframe thead th {\n",
       "        text-align: right;\n",
       "    }\n",
       "</style>\n",
       "<table border=\"1\" class=\"dataframe\">\n",
       "  <thead>\n",
       "    <tr style=\"text-align: right;\">\n",
       "      <th></th>\n",
       "      <th>Sponsor</th>\n",
       "      <th>Collaborators</th>\n",
       "      <th>Funder_Type_Dum</th>\n",
       "      <th>Sponsor_Collab_List</th>\n",
       "    </tr>\n",
       "  </thead>\n",
       "  <tbody>\n",
       "    <tr>\n",
       "      <th>3</th>\n",
       "      <td>VA Office of Research and Development</td>\n",
       "      <td>NaN</td>\n",
       "      <td>GOVERM</td>\n",
       "      <td>[Spon_coll_Other]</td>\n",
       "    </tr>\n",
       "    <tr>\n",
       "      <th>22</th>\n",
       "      <td>Terumo BCT</td>\n",
       "      <td>NaN</td>\n",
       "      <td>INDUSTRY</td>\n",
       "      <td>[Spon_coll_Other]</td>\n",
       "    </tr>\n",
       "    <tr>\n",
       "      <th>24</th>\n",
       "      <td>Boston Scientific Corporation</td>\n",
       "      <td>NaN</td>\n",
       "      <td>INDUSTRY</td>\n",
       "      <td>[Spon_coll_Other]</td>\n",
       "    </tr>\n",
       "    <tr>\n",
       "      <th>33</th>\n",
       "      <td>Peyman Sarsangi</td>\n",
       "      <td>NaN</td>\n",
       "      <td>FUNDER_OTHER</td>\n",
       "      <td>[Spon_coll_Other]</td>\n",
       "    </tr>\n",
       "    <tr>\n",
       "      <th>35</th>\n",
       "      <td>Egymedicalpedia</td>\n",
       "      <td>NaN</td>\n",
       "      <td>INDUSTRY</td>\n",
       "      <td>[Spon_coll_Other]</td>\n",
       "    </tr>\n",
       "    <tr>\n",
       "      <th>...</th>\n",
       "      <td>...</td>\n",
       "      <td>...</td>\n",
       "      <td>...</td>\n",
       "      <td>...</td>\n",
       "    </tr>\n",
       "    <tr>\n",
       "      <th>177564</th>\n",
       "      <td>LUCIANA MARIA MALOSA SAMPAIO</td>\n",
       "      <td>NaN</td>\n",
       "      <td>FUNDER_OTHER</td>\n",
       "      <td>[Spon_coll_Other]</td>\n",
       "    </tr>\n",
       "    <tr>\n",
       "      <th>177565</th>\n",
       "      <td>Sidney Kimmel Comprehensive Cancer Center at J...</td>\n",
       "      <td>NaN</td>\n",
       "      <td>FUNDER_OTHER</td>\n",
       "      <td>[Spon_coll_Other]</td>\n",
       "    </tr>\n",
       "    <tr>\n",
       "      <th>177575</th>\n",
       "      <td>Dr. Mohammad Abu Shaphe</td>\n",
       "      <td>NaN</td>\n",
       "      <td>GOVERM</td>\n",
       "      <td>[Spon_coll_Other]</td>\n",
       "    </tr>\n",
       "    <tr>\n",
       "      <th>177576</th>\n",
       "      <td>UMC Utrecht</td>\n",
       "      <td>Apifix</td>\n",
       "      <td>FUNDER_OTHER</td>\n",
       "      <td>[Spon_coll_Other]</td>\n",
       "    </tr>\n",
       "    <tr>\n",
       "      <th>177578</th>\n",
       "      <td>MedtronicNeuro</td>\n",
       "      <td>NaN</td>\n",
       "      <td>INDUSTRY</td>\n",
       "      <td>[Spon_coll_Other]</td>\n",
       "    </tr>\n",
       "  </tbody>\n",
       "</table>\n",
       "<p>19062 rows × 4 columns</p>\n",
       "</div>"
      ],
      "text/plain": [
       "                                                  Sponsor Collaborators  \\\n",
       "3                   VA Office of Research and Development           NaN   \n",
       "22                                             Terumo BCT           NaN   \n",
       "24                          Boston Scientific Corporation           NaN   \n",
       "33                                        Peyman Sarsangi           NaN   \n",
       "35                                        Egymedicalpedia           NaN   \n",
       "...                                                   ...           ...   \n",
       "177564                       LUCIANA MARIA MALOSA SAMPAIO           NaN   \n",
       "177565  Sidney Kimmel Comprehensive Cancer Center at J...           NaN   \n",
       "177575                            Dr. Mohammad Abu Shaphe           NaN   \n",
       "177576                                        UMC Utrecht        Apifix   \n",
       "177578                                     MedtronicNeuro           NaN   \n",
       "\n",
       "       Funder_Type_Dum Sponsor_Collab_List  \n",
       "3               GOVERM   [Spon_coll_Other]  \n",
       "22            INDUSTRY   [Spon_coll_Other]  \n",
       "24            INDUSTRY   [Spon_coll_Other]  \n",
       "33        FUNDER_OTHER   [Spon_coll_Other]  \n",
       "35            INDUSTRY   [Spon_coll_Other]  \n",
       "...                ...                 ...  \n",
       "177564    FUNDER_OTHER   [Spon_coll_Other]  \n",
       "177565    FUNDER_OTHER   [Spon_coll_Other]  \n",
       "177575          GOVERM   [Spon_coll_Other]  \n",
       "177576    FUNDER_OTHER   [Spon_coll_Other]  \n",
       "177578        INDUSTRY   [Spon_coll_Other]  \n",
       "\n",
       "[19062 rows x 4 columns]"
      ]
     },
     "execution_count": 410,
     "metadata": {},
     "output_type": "execute_result"
    }
   ],
   "source": [
    "df.loc[(df[\"Sponsor_Collab_List\"].apply(lambda x: x == ['Spon_coll_Other']))]\\\n",
    "            [['Sponsor', 'Collaborators', 'Funder_Type_Dum', 'Sponsor_Collab_List']]"
   ]
  },
  {
   "cell_type": "markdown",
   "metadata": {},
   "source": [
    "## Study_Documents\n",
    "\n",
    "Source of unique values: https://clinicaltrials.gov/policy/protocol-definitions#a1-upload\n",
    "\n",
    "These include : \n",
    "- ICF (Informed Consent Form)\n",
    "- SAP (Statistical Analysis Plan)\n",
    "- CSR (Clinical Study Report)  --> did not use because its table has less information for documents\n",
    "- STUDY_PROTOCOL\n",
    "- ANALYTIC_CODE --> did not use because its table has less information for documents"
   ]
  },
  {
   "cell_type": "markdown",
   "metadata": {},
   "source": [
    "### Study_Documents_List\n",
    "- Will not be used for analysis because:\n",
    "- Not possible all 145k studies not to have at least protocol/consent forms. \n",
    "- Seems data where just not uploaded to clinical trials.gov/db.\n",
    "- Feature not able to be used correctly even if stat.sig reasult in thesis_vizual file.\n",
    "- feature won't be used for stat analysis."
   ]
  },
  {
   "cell_type": "code",
   "execution_count": 411,
   "metadata": {},
   "outputs": [
    {
     "data": {
      "text/plain": [
       "Counter({'Doc_None': 145696,\n",
       "         'Protocol': 30401,\n",
       "         'Analysis Plan': 29512,\n",
       "         'Consent Form': 7460})"
      ]
     },
     "metadata": {},
     "output_type": "display_data"
    }
   ],
   "source": [
    "df = df.merge(my_documents[[\"nct_id\", \"Study_Documents\"]], on = \"nct_id\", how = \"left\")\n",
    "df[\"Study_Documents\"] = df[\"Study_Documents\"].apply(lambda x: ['Doc_None'] if (isinstance(x, list) and len(x) == 0) else x)\n",
    "display(Counter([elem for row_list in df[\"Study_Documents\"].dropna() for elem in row_list]))\n",
    "\n",
    "df = df.rename(columns = {\"Study_Documents\": \"Study_Documents_List\"})"
   ]
  },
  {
   "cell_type": "markdown",
   "metadata": {},
   "source": [
    "#### NaNs (145k) --> Doc_None\n"
   ]
  },
  {
   "cell_type": "markdown",
   "metadata": {},
   "source": [
    "### Document_Counts"
   ]
  },
  {
   "cell_type": "code",
   "execution_count": 412,
   "metadata": {},
   "outputs": [
    {
     "data": {
      "application/vnd.microsoft.datawrangler.viewer.v0+json": {
       "columns": [
        {
         "name": "Document_Counts",
         "rawType": "int64",
         "type": "integer"
        },
        {
         "name": "count",
         "rawType": "int64",
         "type": "integer"
        }
       ],
       "ref": "b6f958d4-44ad-4410-be67-57938aa706c8",
       "rows": [
        [
         "0",
         "145696"
        ],
        [
         "2",
         "23627"
        ],
        [
         "3",
         "5928"
        ],
        [
         "1",
         "2335"
        ]
       ],
       "shape": {
        "columns": 1,
        "rows": 4
       }
      },
      "text/plain": [
       "Document_Counts\n",
       "0    145696\n",
       "2     23627\n",
       "3      5928\n",
       "1      2335\n",
       "Name: count, dtype: int64"
      ]
     },
     "metadata": {},
     "output_type": "display_data"
    },
    {
     "data": {
      "text/plain": [
       "(177586, 36)"
      ]
     },
     "metadata": {},
     "output_type": "display_data"
    }
   ],
   "source": [
    "# \" Document_Counts\" Column\n",
    "df[\"Document_Counts\"] = df[\"Study_Documents_List\"].apply(lambda x: len(x) if x != [\"Doc_None\"] else 0) # x != [\"Doc_None\"] --> Avoid counting [Doc_None]\n",
    "display(df[\"Document_Counts\"].value_counts(dropna=False))\n",
    "display(df.shape)"
   ]
  },
  {
   "cell_type": "markdown",
   "metadata": {},
   "source": [
    "### Document_Bin\n"
   ]
  },
  {
   "cell_type": "code",
   "execution_count": 413,
   "metadata": {},
   "outputs": [
    {
     "data": {
      "application/vnd.microsoft.datawrangler.viewer.v0+json": {
       "columns": [
        {
         "name": "Document_Bin",
         "rawType": "object",
         "type": "string"
        },
        {
         "name": "count",
         "rawType": "int64",
         "type": "integer"
        }
       ],
       "ref": "3bd0c8be-0f74-413b-96a6-8518aa00a716",
       "rows": [
        [
         "No",
         "145696"
        ],
        [
         "Yes",
         "31890"
        ]
       ],
       "shape": {
        "columns": 1,
        "rows": 2
       }
      },
      "text/plain": [
       "Document_Bin\n",
       "No     145696\n",
       "Yes     31890\n",
       "Name: count, dtype: int64"
      ]
     },
     "metadata": {},
     "output_type": "display_data"
    },
    {
     "data": {
      "text/plain": [
       "(177586, 37)"
      ]
     },
     "metadata": {},
     "output_type": "display_data"
    }
   ],
   "source": [
    "df[\"Document_Bin\"] = \"No\"\n",
    "df.loc[df[\"Document_Counts\"] != 0, \"Document_Bin\"] = \"Yes\"\n",
    "display(df[\"Document_Bin\"].value_counts(dropna=False))\n",
    "display(df.shape)"
   ]
  },
  {
   "cell_type": "markdown",
   "metadata": {},
   "source": [
    "## Datetime\n",
    "\n",
    "- Source Date input : Filter dates have the format of mm/dd/yyyy. Dates Displayed in Outputs (after filtering choices menu) have the Format of yyyyy-mm-dd (or at least yyyy-mm).\n",
    "- All Datetimes converted to same format : Year-Month is Chosen as Many Dates Include only until Month.\n"
   ]
  },
  {
   "cell_type": "code",
   "execution_count": 414,
   "metadata": {},
   "outputs": [
    {
     "data": {
      "application/vnd.microsoft.datawrangler.viewer.v0+json": {
       "columns": [
        {
         "name": "index",
         "rawType": "object",
         "type": "string"
        },
        {
         "name": "0",
         "rawType": "int64",
         "type": "integer"
        }
       ],
       "ref": "766185c8-3654-4a4f-8bd1-e22fccbb50c9",
       "rows": [
        [
         "Start Date",
         "2"
        ],
        [
         "Completion Date",
         "2"
        ]
       ],
       "shape": {
        "columns": 1,
        "rows": 2
       }
      },
      "text/plain": [
       "Start Date         2\n",
       "Completion Date    2\n",
       "dtype: int64"
      ]
     },
     "metadata": {},
     "output_type": "display_data"
    },
    {
     "data": {
      "application/vnd.microsoft.datawrangler.viewer.v0+json": {
       "columns": [
        {
         "name": "index",
         "rawType": "int64",
         "type": "integer"
        },
        {
         "name": "Start Date",
         "rawType": "object",
         "type": "string"
        },
        {
         "name": "Completion Date",
         "rawType": "object",
         "type": "string"
        }
       ],
       "ref": "39171bf0-1917-4a92-8c58-70d9628749e3",
       "rows": [
        [
         "0",
         "2020-05-15",
         "2022-08-30"
        ],
        [
         "1",
         "2021-08-31",
         "2023-09-28"
        ]
       ],
       "shape": {
        "columns": 2,
        "rows": 2
       }
      },
      "text/html": [
       "<div>\n",
       "<style scoped>\n",
       "    .dataframe tbody tr th:only-of-type {\n",
       "        vertical-align: middle;\n",
       "    }\n",
       "\n",
       "    .dataframe tbody tr th {\n",
       "        vertical-align: top;\n",
       "    }\n",
       "\n",
       "    .dataframe thead th {\n",
       "        text-align: right;\n",
       "    }\n",
       "</style>\n",
       "<table border=\"1\" class=\"dataframe\">\n",
       "  <thead>\n",
       "    <tr style=\"text-align: right;\">\n",
       "      <th></th>\n",
       "      <th>Start Date</th>\n",
       "      <th>Completion Date</th>\n",
       "    </tr>\n",
       "  </thead>\n",
       "  <tbody>\n",
       "    <tr>\n",
       "      <th>0</th>\n",
       "      <td>2020-05-15</td>\n",
       "      <td>2022-08-30</td>\n",
       "    </tr>\n",
       "    <tr>\n",
       "      <th>1</th>\n",
       "      <td>2021-08-31</td>\n",
       "      <td>2023-09-28</td>\n",
       "    </tr>\n",
       "  </tbody>\n",
       "</table>\n",
       "</div>"
      ],
      "text/plain": [
       "   Start Date Completion Date\n",
       "0  2020-05-15      2022-08-30\n",
       "1  2021-08-31      2023-09-28"
      ]
     },
     "execution_count": 414,
     "metadata": {},
     "output_type": "execute_result"
    }
   ],
   "source": [
    "display(df[[\"Start Date\",\"Completion Date\"]].map(len , na_action = 'ignore').nunique()) # Dates are in yyyy-mm-dd (len=10) and yyyy-mm (len=7) format\n",
    "df[[\"Start Date\",\"Completion Date\"]].head(2)"
   ]
  },
  {
   "cell_type": "code",
   "execution_count": 415,
   "metadata": {},
   "outputs": [
    {
     "data": {
      "application/vnd.microsoft.datawrangler.viewer.v0+json": {
       "columns": [
        {
         "name": "index",
         "rawType": "int64",
         "type": "integer"
        },
        {
         "name": "Start Date",
         "rawType": "period[M]",
         "type": "unknown"
        },
        {
         "name": "Completion Date",
         "rawType": "period[M]",
         "type": "unknown"
        }
       ],
       "ref": "b24b6b04-f6c6-4af0-b71f-faa08837403f",
       "rows": [
        [
         "0",
         "2020-05",
         "2022-08"
        ],
        [
         "1",
         "2021-08",
         "2023-09"
        ]
       ],
       "shape": {
        "columns": 2,
        "rows": 2
       }
      },
      "text/html": [
       "<div>\n",
       "<style scoped>\n",
       "    .dataframe tbody tr th:only-of-type {\n",
       "        vertical-align: middle;\n",
       "    }\n",
       "\n",
       "    .dataframe tbody tr th {\n",
       "        vertical-align: top;\n",
       "    }\n",
       "\n",
       "    .dataframe thead th {\n",
       "        text-align: right;\n",
       "    }\n",
       "</style>\n",
       "<table border=\"1\" class=\"dataframe\">\n",
       "  <thead>\n",
       "    <tr style=\"text-align: right;\">\n",
       "      <th></th>\n",
       "      <th>Start Date</th>\n",
       "      <th>Completion Date</th>\n",
       "    </tr>\n",
       "  </thead>\n",
       "  <tbody>\n",
       "    <tr>\n",
       "      <th>0</th>\n",
       "      <td>2020-05</td>\n",
       "      <td>2022-08</td>\n",
       "    </tr>\n",
       "    <tr>\n",
       "      <th>1</th>\n",
       "      <td>2021-08</td>\n",
       "      <td>2023-09</td>\n",
       "    </tr>\n",
       "  </tbody>\n",
       "</table>\n",
       "</div>"
      ],
      "text/plain": [
       "  Start Date Completion Date\n",
       "0    2020-05         2022-08\n",
       "1    2021-08         2023-09"
      ]
     },
     "metadata": {},
     "output_type": "display_data"
    }
   ],
   "source": [
    "df[[\"Start Date\",\"Completion Date\"]] = df[[\"Start Date\",\"Completion Date\"]].apply(pd.to_datetime, format='%Y-%m', exact=False, errors='coerce')\n",
    "df[[\"Start Date\",\"Completion Date\"]] = df[[\"Start Date\",\"Completion Date\"]].apply(lambda col: col.dt.to_period('M'))\n",
    "\n",
    "display(df[[\"Start Date\",\"Completion Date\"]].head(2))\n"
   ]
  },
  {
   "cell_type": "markdown",
   "metadata": {},
   "source": [
    "### Datetime_Year"
   ]
  },
  {
   "cell_type": "code",
   "execution_count": 416,
   "metadata": {},
   "outputs": [
    {
     "data": {
      "application/vnd.microsoft.datawrangler.viewer.v0+json": {
       "columns": [
        {
         "name": "index",
         "rawType": "int64",
         "type": "integer"
        },
        {
         "name": "Start_Date_Year_Counts",
         "rawType": "Int64",
         "type": "integer"
        },
        {
         "name": "Completion_Date_Year_Counts",
         "rawType": "Int64",
         "type": "integer"
        }
       ],
       "ref": "1063c8cb-a16d-49ff-b17c-219e10023177",
       "rows": [
        [
         "0",
         "2020",
         "2022"
        ],
        [
         "1",
         "2021",
         "2023"
        ],
        [
         "2",
         "2011",
         "2018"
        ],
        [
         "3",
         "2013",
         "2018"
        ],
        [
         "4",
         "2017",
         "2019"
        ],
        [
         "5",
         "2015",
         "2015"
        ],
        [
         "6",
         "2015",
         "2020"
        ],
        [
         "7",
         "2016",
         "2020"
        ],
        [
         "8",
         "2016",
         "2017"
        ],
        [
         "9",
         "2014",
         "2017"
        ],
        [
         "10",
         "2015",
         "2016"
        ],
        [
         "11",
         "2015",
         "2018"
        ],
        [
         "12",
         "2013",
         "2016"
        ],
        [
         "13",
         "2014",
         "2016"
        ],
        [
         "14",
         "2019",
         "2019"
        ],
        [
         "15",
         "2016",
         "2020"
        ],
        [
         "16",
         "2024",
         "2024"
        ],
        [
         "17",
         "2017",
         "2018"
        ],
        [
         "18",
         "2015",
         "2021"
        ],
        [
         "19",
         "2012",
         "2021"
        ],
        [
         "20",
         "2022",
         "2023"
        ],
        [
         "21",
         "2020",
         "2022"
        ],
        [
         "22",
         "2013",
         "2013"
        ],
        [
         "23",
         "2015",
         "2017"
        ],
        [
         "24",
         "2013",
         "2016"
        ],
        [
         "25",
         "2018",
         "2019"
        ],
        [
         "26",
         "2012",
         "2014"
        ],
        [
         "27",
         "2021",
         "2024"
        ],
        [
         "28",
         "2017",
         "2020"
        ],
        [
         "29",
         "2012",
         "2014"
        ],
        [
         "30",
         "2014",
         "2014"
        ],
        [
         "31",
         "2012",
         "2019"
        ],
        [
         "32",
         "2018",
         "2020"
        ],
        [
         "33",
         "2023",
         "2024"
        ],
        [
         "34",
         "2022",
         "2023"
        ],
        [
         "35",
         "2021",
         "2022"
        ],
        [
         "36",
         "2011",
         "2012"
        ],
        [
         "37",
         "2015",
         "2016"
        ],
        [
         "38",
         "2020",
         "2022"
        ],
        [
         "39",
         "2011",
         "2015"
        ],
        [
         "40",
         "2022",
         "2024"
        ],
        [
         "41",
         "2015",
         "2016"
        ],
        [
         "42",
         "2014",
         "2014"
        ],
        [
         "43",
         "2015",
         "2017"
        ],
        [
         "44",
         "2014",
         "2015"
        ],
        [
         "45",
         "2021",
         "2024"
        ],
        [
         "46",
         "2018",
         "2018"
        ],
        [
         "47",
         "2015",
         "2016"
        ],
        [
         "48",
         "2015",
         "2020"
        ],
        [
         "49",
         "2018",
         "2020"
        ]
       ],
       "shape": {
        "columns": 2,
        "rows": 177586
       }
      },
      "text/html": [
       "<div>\n",
       "<style scoped>\n",
       "    .dataframe tbody tr th:only-of-type {\n",
       "        vertical-align: middle;\n",
       "    }\n",
       "\n",
       "    .dataframe tbody tr th {\n",
       "        vertical-align: top;\n",
       "    }\n",
       "\n",
       "    .dataframe thead th {\n",
       "        text-align: right;\n",
       "    }\n",
       "</style>\n",
       "<table border=\"1\" class=\"dataframe\">\n",
       "  <thead>\n",
       "    <tr style=\"text-align: right;\">\n",
       "      <th></th>\n",
       "      <th>Start_Date_Year_Counts</th>\n",
       "      <th>Completion_Date_Year_Counts</th>\n",
       "    </tr>\n",
       "  </thead>\n",
       "  <tbody>\n",
       "    <tr>\n",
       "      <th>0</th>\n",
       "      <td>2020</td>\n",
       "      <td>2022</td>\n",
       "    </tr>\n",
       "    <tr>\n",
       "      <th>1</th>\n",
       "      <td>2021</td>\n",
       "      <td>2023</td>\n",
       "    </tr>\n",
       "    <tr>\n",
       "      <th>2</th>\n",
       "      <td>2011</td>\n",
       "      <td>2018</td>\n",
       "    </tr>\n",
       "    <tr>\n",
       "      <th>3</th>\n",
       "      <td>2013</td>\n",
       "      <td>2018</td>\n",
       "    </tr>\n",
       "    <tr>\n",
       "      <th>4</th>\n",
       "      <td>2017</td>\n",
       "      <td>2019</td>\n",
       "    </tr>\n",
       "    <tr>\n",
       "      <th>...</th>\n",
       "      <td>...</td>\n",
       "      <td>...</td>\n",
       "    </tr>\n",
       "    <tr>\n",
       "      <th>177581</th>\n",
       "      <td>2021</td>\n",
       "      <td>2023</td>\n",
       "    </tr>\n",
       "    <tr>\n",
       "      <th>177582</th>\n",
       "      <td>2020</td>\n",
       "      <td>2023</td>\n",
       "    </tr>\n",
       "    <tr>\n",
       "      <th>177583</th>\n",
       "      <td>2019</td>\n",
       "      <td>2022</td>\n",
       "    </tr>\n",
       "    <tr>\n",
       "      <th>177584</th>\n",
       "      <td>2020</td>\n",
       "      <td>2024</td>\n",
       "    </tr>\n",
       "    <tr>\n",
       "      <th>177585</th>\n",
       "      <td>2023</td>\n",
       "      <td>2023</td>\n",
       "    </tr>\n",
       "  </tbody>\n",
       "</table>\n",
       "<p>177586 rows × 2 columns</p>\n",
       "</div>"
      ],
      "text/plain": [
       "        Start_Date_Year_Counts  Completion_Date_Year_Counts\n",
       "0                         2020                         2022\n",
       "1                         2021                         2023\n",
       "2                         2011                         2018\n",
       "3                         2013                         2018\n",
       "4                         2017                         2019\n",
       "...                        ...                          ...\n",
       "177581                    2021                         2023\n",
       "177582                    2020                         2023\n",
       "177583                    2019                         2022\n",
       "177584                    2020                         2024\n",
       "177585                    2023                         2023\n",
       "\n",
       "[177586 rows x 2 columns]"
      ]
     },
     "metadata": {},
     "output_type": "display_data"
    }
   ],
   "source": [
    "# df[[\"Start_Date_Year_Counts\",\"Completion_Date_Year_Counts\"]] = df[[\"Start Date\",\"Completion Date\"]].apply(\n",
    "#     lambda x: x.dt.year.mask(x.isna(), np.NaN))  # in case needed as NaNs.\n",
    "df[[\"Start_Date_Year_Counts\", \"Completion_Date_Year_Counts\"]] = df[[\"Start Date\", \"Completion Date\"]].apply(\n",
    "    lambda x: x.dt.year) # dt.year already handles NaT.\n",
    "\n",
    "df[\"Start_Date_Year_Counts\"] = pd.to_numeric(df[\"Start_Date_Year_Counts\"], errors=\"coerce\").astype(\"Int64\")\n",
    "df[\"Completion_Date_Year_Counts\"] = pd.to_numeric(df[\"Completion_Date_Year_Counts\"], errors=\"coerce\").astype(\"Int64\")\n",
    "\n",
    "display(df[[\"Start_Date_Year_Counts\",\"Completion_Date_Year_Counts\"]])\n"
   ]
  },
  {
   "cell_type": "markdown",
   "metadata": {},
   "source": [
    "### Datetime_Gaps"
   ]
  },
  {
   "cell_type": "code",
   "execution_count": 417,
   "metadata": {},
   "outputs": [
    {
     "data": {
      "application/vnd.microsoft.datawrangler.viewer.v0+json": {
       "columns": [
        {
         "name": "index",
         "rawType": "int64",
         "type": "integer"
        },
        {
         "name": "Completion_Gap_Counts",
         "rawType": "Int64",
         "type": "integer"
        }
       ],
       "ref": "30441992-b208-444b-9e8b-7e48710539df",
       "rows": [
        [
         "0",
         "27"
        ],
        [
         "1",
         "25"
        ],
        [
         "2",
         "83"
        ],
        [
         "3",
         "63"
        ],
        [
         "4",
         "19"
        ]
       ],
       "shape": {
        "columns": 1,
        "rows": 5
       }
      },
      "text/html": [
       "<div>\n",
       "<style scoped>\n",
       "    .dataframe tbody tr th:only-of-type {\n",
       "        vertical-align: middle;\n",
       "    }\n",
       "\n",
       "    .dataframe tbody tr th {\n",
       "        vertical-align: top;\n",
       "    }\n",
       "\n",
       "    .dataframe thead th {\n",
       "        text-align: right;\n",
       "    }\n",
       "</style>\n",
       "<table border=\"1\" class=\"dataframe\">\n",
       "  <thead>\n",
       "    <tr style=\"text-align: right;\">\n",
       "      <th></th>\n",
       "      <th>Completion_Gap_Counts</th>\n",
       "    </tr>\n",
       "  </thead>\n",
       "  <tbody>\n",
       "    <tr>\n",
       "      <th>0</th>\n",
       "      <td>27</td>\n",
       "    </tr>\n",
       "    <tr>\n",
       "      <th>1</th>\n",
       "      <td>25</td>\n",
       "    </tr>\n",
       "    <tr>\n",
       "      <th>2</th>\n",
       "      <td>83</td>\n",
       "    </tr>\n",
       "    <tr>\n",
       "      <th>3</th>\n",
       "      <td>63</td>\n",
       "    </tr>\n",
       "    <tr>\n",
       "      <th>4</th>\n",
       "      <td>19</td>\n",
       "    </tr>\n",
       "  </tbody>\n",
       "</table>\n",
       "</div>"
      ],
      "text/plain": [
       "   Completion_Gap_Counts\n",
       "0                     27\n",
       "1                     25\n",
       "2                     83\n",
       "3                     63\n",
       "4                     19"
      ]
     },
     "metadata": {},
     "output_type": "display_data"
    },
    {
     "data": {
      "application/vnd.microsoft.datawrangler.viewer.v0+json": {
       "columns": [
        {
         "name": "index",
         "rawType": "object",
         "type": "string"
        },
        {
         "name": "Completion_Gap_Counts",
         "rawType": "Float64",
         "type": "float"
        }
       ],
       "ref": "edfee7a1-1709-419c-aa3e-8612131daab1",
       "rows": [
        [
         "count",
         "177586.0"
        ],
        [
         "mean",
         "24.60597682249727"
        ],
        [
         "std",
         "21.61230729331168"
        ],
        [
         "min",
         "0.0"
        ],
        [
         "25%",
         "9.0"
        ],
        [
         "50%",
         "19.0"
        ],
        [
         "75%",
         "35.0"
        ],
        [
         "max",
         "163.0"
        ]
       ],
       "shape": {
        "columns": 1,
        "rows": 8
       }
      },
      "text/html": [
       "<div>\n",
       "<style scoped>\n",
       "    .dataframe tbody tr th:only-of-type {\n",
       "        vertical-align: middle;\n",
       "    }\n",
       "\n",
       "    .dataframe tbody tr th {\n",
       "        vertical-align: top;\n",
       "    }\n",
       "\n",
       "    .dataframe thead th {\n",
       "        text-align: right;\n",
       "    }\n",
       "</style>\n",
       "<table border=\"1\" class=\"dataframe\">\n",
       "  <thead>\n",
       "    <tr style=\"text-align: right;\">\n",
       "      <th></th>\n",
       "      <th>Completion_Gap_Counts</th>\n",
       "    </tr>\n",
       "  </thead>\n",
       "  <tbody>\n",
       "    <tr>\n",
       "      <th>count</th>\n",
       "      <td>177586.0</td>\n",
       "    </tr>\n",
       "    <tr>\n",
       "      <th>mean</th>\n",
       "      <td>24.605977</td>\n",
       "    </tr>\n",
       "    <tr>\n",
       "      <th>std</th>\n",
       "      <td>21.612307</td>\n",
       "    </tr>\n",
       "    <tr>\n",
       "      <th>min</th>\n",
       "      <td>0.0</td>\n",
       "    </tr>\n",
       "    <tr>\n",
       "      <th>25%</th>\n",
       "      <td>9.0</td>\n",
       "    </tr>\n",
       "    <tr>\n",
       "      <th>50%</th>\n",
       "      <td>19.0</td>\n",
       "    </tr>\n",
       "    <tr>\n",
       "      <th>75%</th>\n",
       "      <td>35.0</td>\n",
       "    </tr>\n",
       "    <tr>\n",
       "      <th>max</th>\n",
       "      <td>163.0</td>\n",
       "    </tr>\n",
       "  </tbody>\n",
       "</table>\n",
       "</div>"
      ],
      "text/plain": [
       "       Completion_Gap_Counts\n",
       "count               177586.0\n",
       "mean               24.605977\n",
       "std                21.612307\n",
       "min                      0.0\n",
       "25%                      9.0\n",
       "50%                     19.0\n",
       "75%                     35.0\n",
       "max                    163.0"
      ]
     },
     "execution_count": 417,
     "metadata": {},
     "output_type": "execute_result"
    }
   ],
   "source": [
    "df[\"Completion_Gap_Counts\"] = df[\"Completion Date\"] - df[\"Start Date\"]\n",
    "\n",
    "df[[\"Completion_Gap_Counts\"]] = df[[\"Completion_Gap_Counts\"]].apply(lambda col: col.astype('str').str.strip('< *MonthEnds>').replace(\"NaT\", np.NaN).replace(\"\", '0').astype('float'))\n",
    "df[[\"Completion_Gap_Counts\",]] = df[[\"Completion_Gap_Counts\"]].convert_dtypes(convert_integer = True)\n",
    "\n",
    "display(df[[\"Completion_Gap_Counts\"]].head())\n",
    "df[[\"Completion_Gap_Counts\"]].describe()"
   ]
  },
  {
   "cell_type": "markdown",
   "metadata": {},
   "source": [
    "## Interventions\n",
    "\n",
    "- Source of unique values: https://clinicaltrials.gov/policy/protocol-definitions#arms-groups-interventions"
   ]
  },
  {
   "cell_type": "markdown",
   "metadata": {},
   "source": [
    "### Intervention_Type_List"
   ]
  },
  {
   "cell_type": "code",
   "execution_count": 418,
   "metadata": {},
   "outputs": [
    {
     "data": {
      "application/vnd.microsoft.datawrangler.viewer.v0+json": {
       "columns": [
        {
         "name": "Intervention_Type_List",
         "rawType": "object",
         "type": "unknown"
        },
        {
         "name": "count",
         "rawType": "int64",
         "type": "integer"
        }
       ],
       "ref": "17632726-cc19-4516-8e12-78f2596c7ea9",
       "rows": [
        [
         "['DRUG']",
         "59601"
        ],
        [
         "['INTERV_OTHER']",
         "40309"
        ],
        [
         "['BEHAVIORAL']",
         "20997"
        ],
        [
         "['DEVICE']",
         "20567"
        ],
        [
         "['PROCEDURE']",
         "10267"
        ],
        [
         "['BIOLOGICAL']",
         "6203"
        ],
        [
         "['DIETARY_SUPPLEMENT']",
         "5972"
        ],
        [
         "['DIAGNOSTIC_TEST']",
         "1940"
        ],
        [
         "['BIOLOGICAL', 'DRUG']",
         "1636"
        ],
        [
         "['DRUG', 'PROCEDURE']",
         "1550"
        ],
        [
         "['DEVICE', 'DRUG']",
         "1441"
        ],
        [
         "['DEVICE', 'PROCEDURE']",
         "1014"
        ],
        [
         "['RADIATION']",
         "764"
        ],
        [
         "['DRUG', 'RADIATION']",
         "619"
        ],
        [
         "['COMBINATION_PRODUCT']",
         "611"
        ],
        [
         "['BEHAVIORAL', 'DRUG']",
         "599"
        ],
        [
         "['BEHAVIORAL', 'DEVICE']",
         "566"
        ],
        [
         "['DIETARY_SUPPLEMENT', 'DRUG']",
         "440"
        ],
        [
         "['GENETIC']",
         "213"
        ],
        [
         "['BIOLOGICAL', 'PROCEDURE']",
         "179"
        ],
        [
         "['DEVICE', 'DRUG', 'PROCEDURE']",
         "158"
        ],
        [
         "['BEHAVIORAL', 'DIETARY_SUPPLEMENT']",
         "155"
        ],
        [
         "['COMBINATION_PRODUCT', 'DRUG']",
         "155"
        ],
        [
         "['DRUG', 'PROCEDURE', 'RADIATION']",
         "137"
        ],
        [
         "['BEHAVIORAL', 'PROCEDURE']",
         "124"
        ],
        [
         "['DIAGNOSTIC_TEST', 'DRUG']",
         "123"
        ],
        [
         "['BIOLOGICAL', 'DEVICE']",
         "117"
        ],
        [
         "['PROCEDURE', 'RADIATION']",
         "92"
        ],
        [
         "['BIOLOGICAL', 'DRUG', 'PROCEDURE']",
         "83"
        ],
        [
         "['DEVICE', 'DIAGNOSTIC_TEST']",
         "71"
        ],
        [
         "['BIOLOGICAL', 'DRUG', 'RADIATION']",
         "63"
        ],
        [
         "['DEVICE', 'RADIATION']",
         "42"
        ],
        [
         "['COMBINATION_PRODUCT', 'DEVICE']",
         "42"
        ],
        [
         "['DRUG', 'GENETIC']",
         "41"
        ],
        [
         "['DIAGNOSTIC_TEST', 'PROCEDURE']",
         "41"
        ],
        [
         "['DIETARY_SUPPLEMENT', 'PROCEDURE']",
         "38"
        ],
        [
         "['BIOLOGICAL', 'RADIATION']",
         "31"
        ],
        [
         "['DEVICE', 'DIETARY_SUPPLEMENT']",
         "29"
        ],
        [
         "['BEHAVIORAL', 'DRUG', 'PROCEDURE']",
         "29"
        ],
        [
         "['BEHAVIORAL', 'DEVICE', 'DRUG']",
         "29"
        ],
        [
         "['BEHAVIORAL', 'DIAGNOSTIC_TEST']",
         "25"
        ],
        [
         "['COMBINATION_PRODUCT', 'DIETARY_SUPPLEMENT']",
         "20"
        ],
        [
         "['BEHAVIORAL', 'BIOLOGICAL']",
         "19"
        ],
        [
         "['BIOLOGICAL', 'COMBINATION_PRODUCT']",
         "19"
        ],
        [
         "['COMBINATION_PRODUCT', 'PROCEDURE']",
         "18"
        ],
        [
         "['BIOLOGICAL', 'DIETARY_SUPPLEMENT']",
         "18"
        ],
        [
         "['DIAGNOSTIC_TEST', 'DRUG', 'PROCEDURE']",
         "17"
        ],
        [
         "['BEHAVIORAL', 'COMBINATION_PRODUCT']",
         "16"
        ],
        [
         "['BIOLOGICAL', 'DEVICE', 'DRUG']",
         "16"
        ],
        [
         "['BIOLOGICAL', 'DRUG', 'PROCEDURE', 'RADIATION']",
         "15"
        ]
       ],
       "shape": {
        "columns": 1,
        "rows": 141
       }
      },
      "text/plain": [
       "Intervention_Type_List\n",
       "[DRUG]                                                59601\n",
       "[INTERV_OTHER]                                        40309\n",
       "[BEHAVIORAL]                                          20997\n",
       "[DEVICE]                                              20567\n",
       "[PROCEDURE]                                           10267\n",
       "                                                      ...  \n",
       "[BIOLOGICAL, DRUG, GENETIC, PROCEDURE]                    1\n",
       "[BIOLOGICAL, DIETARY_SUPPLEMENT, DRUG, RADIATION]         1\n",
       "[BIOLOGICAL, DEVICE, DRUG, PROCEDURE, RADIATION]          1\n",
       "[BEHAVIORAL, DIAGNOSTIC_TEST, DIETARY_SUPPLEMENT]         1\n",
       "[BEHAVIORAL, BIOLOGICAL, DIETARY_SUPPLEMENT, DRUG]        1\n",
       "Name: count, Length: 141, dtype: int64"
      ]
     },
     "metadata": {},
     "output_type": "display_data"
    },
    {
     "data": {
      "text/plain": [
       "{'BEHAVIORAL',\n",
       " 'BIOLOGICAL',\n",
       " 'COMBINATION_PRODUCT',\n",
       " 'DEVICE',\n",
       " 'DIAGNOSTIC_TEST',\n",
       " 'DIETARY_SUPPLEMENT',\n",
       " 'DRUG',\n",
       " 'GENETIC',\n",
       " 'INTERV_OTHER',\n",
       " 'PROCEDURE',\n",
       " 'RADIATION'}"
      ]
     },
     "metadata": {},
     "output_type": "display_data"
    },
    {
     "data": {
      "text/plain": [
       "0"
      ]
     },
     "metadata": {},
     "output_type": "display_data"
    },
    {
     "data": {
      "text/plain": [
       "(177586, 41)"
      ]
     },
     "metadata": {},
     "output_type": "display_data"
    }
   ],
   "source": [
    "df = df.merge(my_interventions_types[[\"nct_id\", \"intervention_type\"]], on = \"nct_id\", how = \"left\")\n",
    "df = df.rename({\"intervention_type\" : \"Intervention_Type_List\"}, axis = 1)\n",
    "df['Intervention_Type_List'] = df['Intervention_Type_List'].apply(lambda x: ['INTERV_OTHER'] if 'OTHER' in x else x)\n",
    "display(df[\"Intervention_Type_List\"].value_counts(dropna=False))\n",
    "display(set(elem for row_list in df[\"Intervention_Type_List\"] for elem in row_list))\n",
    "display(df[\"Intervention_Type_List\"].isnull().sum())  # No Null Values\n",
    "display(df.shape)\n"
   ]
  },
  {
   "cell_type": "markdown",
   "metadata": {},
   "source": [
    "### Intervention_Type_Counts"
   ]
  },
  {
   "cell_type": "code",
   "execution_count": 419,
   "metadata": {},
   "outputs": [
    {
     "data": {
      "application/vnd.microsoft.datawrangler.viewer.v0+json": {
       "columns": [
        {
         "name": "Intervention_Type_Counts",
         "rawType": "int64",
         "type": "integer"
        },
        {
         "name": "count",
         "rawType": "int64",
         "type": "integer"
        }
       ],
       "ref": "236f0ad2-e1ef-43cb-8d30-4cd4da2a341f",
       "rows": [
        [
         "1",
         "167444"
        ],
        [
         "2",
         "9347"
        ],
        [
         "3",
         "736"
        ],
        [
         "4",
         "57"
        ],
        [
         "5",
         "2"
        ]
       ],
       "shape": {
        "columns": 1,
        "rows": 5
       }
      },
      "text/plain": [
       "Intervention_Type_Counts\n",
       "1    167444\n",
       "2      9347\n",
       "3       736\n",
       "4        57\n",
       "5         2\n",
       "Name: count, dtype: int64"
      ]
     },
     "metadata": {},
     "output_type": "display_data"
    },
    {
     "data": {
      "text/plain": [
       "0"
      ]
     },
     "metadata": {},
     "output_type": "display_data"
    },
    {
     "data": {
      "text/plain": [
       "(177586, 42)"
      ]
     },
     "metadata": {},
     "output_type": "display_data"
    }
   ],
   "source": [
    "df[\"Intervention_Type_Counts\"] = df[\"Intervention_Type_List\"].apply(lambda x: len(x)) # no null in Intervention_Type_List\n",
    "display(df[\"Intervention_Type_Counts\"].value_counts(dropna=False))  \n",
    "display(df[\"Intervention_Type_Counts\"].isnull().sum())\n",
    "display(df.shape)"
   ]
  },
  {
   "cell_type": "markdown",
   "metadata": {},
   "source": [
    "### Intervention_Method_List"
   ]
  },
  {
   "cell_type": "code",
   "execution_count": 420,
   "metadata": {},
   "outputs": [],
   "source": [
    "with open(\"intervention_methods.pkl\", \"rb\") as f:\n",
    "    data = pickle.load(f)\n",
    "\n",
    "oral1 = data[\"oral1\"]\n",
    "oral2 = data[\"oral2\"]\n",
    "injection1 = data[\"injection1\"]\n",
    "injection2 = data[\"injection2\"]\n",
    "topical1 = data[\"topical1\"]\n",
    "surgical1 = data[\"surgical1\"]"
   ]
  },
  {
   "cell_type": "code",
   "execution_count": 421,
   "metadata": {},
   "outputs": [
    {
     "data": {
      "text/plain": [
       "'\\n# Injection\\ndf.loc[df[\\'Conditions\\'].str.contains(injection1, case = False, na = False) & df[\\'Injection\\'].isnull(),\\n        \\'Injection\\'] = \"Injection\"\\ndf.loc[df[\\'Conditions\\'].str.lower().str.lower().str.contains(injection2, case = True, na = False) & df[\\'Injection\\'].isnull(),\\n        \\'Injection\\'] = \"Injection\"\\n# Oral\\ndf.loc[df[\\'Conditions\\'].str.contains(oral1, case = False, na = False) & df[\\'Oral\\'].isnull(), \\n       \\'Oral\\'] = \"Oral\"\\ndf.loc[df[\\'Conditions\\'].str.lower().str.lower().str.contains(oral2, case = True, na = False) & df[\\'Oral\\'].isnull(), \\n       \\'Oral\\'] = \"Oral\"\\n# Topical\\ndf.loc[df[\\'Conditions\\'].str.contains(topical1, case = False, na = False) & df[\\'Topical\\'].isnull(),\\n        \\'Topical\\'] = \"Topical\"\\n# Surgical\\ndf.loc[df[\\'Conditions\\'].str.contains(surgical1, case = False, na = False) & df[\\'Surgical\\'].isnull(),\\n        \\'Surgical\\'] = \"Surgical\"\\n'"
      ]
     },
     "execution_count": 421,
     "metadata": {},
     "output_type": "execute_result"
    }
   ],
   "source": [
    "## Interventions column\n",
    "# Injection\n",
    "df.loc[df['Interventions'].str.contains(injection1, case = False, na = False), 'Injection'] = \"Injection\"\n",
    "df.loc[df['Interventions'].str.lower().str.lower().str.contains(injection2, case = True, na = False), 'Injection'] = \"Injection\"\n",
    "# Oral\n",
    "df.loc[df['Interventions'].str.contains(oral1, case = False, na = False), 'Oral'] = \"Oral\"\n",
    "df.loc[df['Interventions'].str.lower().str.lower().str.contains(oral2, case = True, na = False), 'Oral'] = \"Oral\"\n",
    "# Topical\n",
    "df.loc[df['Interventions'].str.contains(topical1, case = False, na = False), 'Topical'] = \"Topical\"\n",
    "# Surgical\n",
    "df.loc[df['Interventions'].str.contains(surgical1, case = False, na = False), 'Surgical'] = \"Surgical\"\n",
    "\n",
    "## Brief Summary Column --> 71k null left\n",
    "# Injection\n",
    "df.loc[df['Brief Summary'].str.contains(injection1, case = False, na = False) & df['Injection'].isnull(),\n",
    "        'Injection'] = \"Injection\"\n",
    "df.loc[df['Brief Summary'].str.lower().str.lower().str.contains(injection2, case = True, na = False) & df['Injection'].isnull(),\n",
    "        'Injection'] = \"Injection\"\n",
    "# Oral\n",
    "df.loc[df['Brief Summary'].str.contains(oral1, case = False, na = False) & df['Oral'].isnull() , 'Oral'] = \"Oral\"\n",
    "df.loc[df['Brief Summary'].str.lower().str.lower().str.contains(oral2, case = True, na = False) & df['Oral'].isnull(),\n",
    "        'Oral'] = \"Oral\"\n",
    "# Topical\n",
    "df.loc[df['Brief Summary'].str.contains(topical1, case = False, na = False) & df['Topical'].isnull()\n",
    "       , 'Topical'] = \"Topical\"\n",
    "# Surgical\n",
    "df.loc[df['Brief Summary'].str.contains(surgical1, case = False, na = False) & df['Topical'].isnull(),\n",
    "        'Surgical'] = \"Surgical\"\n",
    "\n",
    "## Conditions Column --> null left?\n",
    "\"\"\"\n",
    "# Injection\n",
    "df.loc[df['Conditions'].str.contains(injection1, case = False, na = False) & df['Injection'].isnull(),\n",
    "        'Injection'] = \"Injection\"\n",
    "df.loc[df['Conditions'].str.lower().str.lower().str.contains(injection2, case = True, na = False) & df['Injection'].isnull(),\n",
    "        'Injection'] = \"Injection\"\n",
    "# Oral\n",
    "df.loc[df['Conditions'].str.contains(oral1, case = False, na = False) & df['Oral'].isnull(), \n",
    "       'Oral'] = \"Oral\"\n",
    "df.loc[df['Conditions'].str.lower().str.lower().str.contains(oral2, case = True, na = False) & df['Oral'].isnull(), \n",
    "       'Oral'] = \"Oral\"\n",
    "# Topical\n",
    "df.loc[df['Conditions'].str.contains(topical1, case = False, na = False) & df['Topical'].isnull(),\n",
    "        'Topical'] = \"Topical\"\n",
    "# Surgical\n",
    "df.loc[df['Conditions'].str.contains(surgical1, case = False, na = False) & df['Surgical'].isnull(),\n",
    "        'Surgical'] = \"Surgical\"\n",
    "\"\"\"\n"
   ]
  },
  {
   "cell_type": "code",
   "execution_count": 422,
   "metadata": {},
   "outputs": [
    {
     "data": {
      "application/vnd.microsoft.datawrangler.viewer.v0+json": {
       "columns": [
        {
         "name": "Intervention_Method_List",
         "rawType": "object",
         "type": "unknown"
        },
        {
         "name": "count",
         "rawType": "int64",
         "type": "integer"
        }
       ],
       "ref": "4ba06005-2fcb-4d92-a9d1-e54687ae978e",
       "rows": [
        [
         "[]",
         "71327"
        ],
        [
         "['Injection']",
         "33777"
        ],
        [
         "['Oral']",
         "15204"
        ],
        [
         "['Surgical']",
         "13398"
        ],
        [
         "['Topical']",
         "10842"
        ],
        [
         "['Injection', 'Surgical']",
         "8936"
        ],
        [
         "['Injection', 'Oral']",
         "8121"
        ],
        [
         "['Injection', 'Topical']",
         "6616"
        ],
        [
         "['Oral', 'Topical']",
         "2470"
        ],
        [
         "['Injection', 'Oral', 'Topical']",
         "1825"
        ],
        [
         "['Injection', 'Oral', 'Surgical']",
         "1802"
        ],
        [
         "['Oral', 'Surgical']",
         "1679"
        ],
        [
         "['Surgical', 'Topical']",
         "834"
        ],
        [
         "['Injection', 'Surgical', 'Topical']",
         "581"
        ],
        [
         "['Injection', 'Oral', 'Surgical', 'Topical']",
         "92"
        ],
        [
         "['Oral', 'Surgical', 'Topical']",
         "82"
        ]
       ],
       "shape": {
        "columns": 1,
        "rows": 16
       }
      },
      "text/plain": [
       "Intervention_Method_List\n",
       "[]                                      71327\n",
       "[Injection]                             33777\n",
       "[Oral]                                  15204\n",
       "[Surgical]                              13398\n",
       "[Topical]                               10842\n",
       "[Injection, Surgical]                    8936\n",
       "[Injection, Oral]                        8121\n",
       "[Injection, Topical]                     6616\n",
       "[Oral, Topical]                          2470\n",
       "[Injection, Oral, Topical]               1825\n",
       "[Injection, Oral, Surgical]              1802\n",
       "[Oral, Surgical]                         1679\n",
       "[Surgical, Topical]                       834\n",
       "[Injection, Surgical, Topical]            581\n",
       "[Injection, Oral, Surgical, Topical]       92\n",
       "[Oral, Surgical, Topical]                  82\n",
       "Name: count, dtype: int64"
      ]
     },
     "metadata": {},
     "output_type": "display_data"
    },
    {
     "data": {
      "text/plain": [
       "(177586, 47)"
      ]
     },
     "metadata": {},
     "output_type": "display_data"
    }
   ],
   "source": [
    "df = df.merge(my_intervention_methods[['nct_id', 'interv_method']], on = \"nct_id\", how = \"left\")\n",
    "df = df.rename({\"interv_method\" : \"Intervention_Method_List\"}, axis = 1)\n",
    "\n",
    "df[\"Intervention_Method_List\"] = df[['Injection', 'Oral', 'Topical', 'Surgical']].apply(lambda row: [val for val in row if pd.notna(val) and val != \"None\"], axis=1)\n",
    "df[\"Intervention_Method_List\"] = df['Intervention_Method_List'].apply(lambda x: sorted(set(x)))\n",
    "display(df['Intervention_Method_List'].value_counts(dropna = False))\n",
    "display(df.shape)"
   ]
  },
  {
   "cell_type": "markdown",
   "metadata": {},
   "source": [
    "#### NaNs SOS (71k)"
   ]
  },
  {
   "cell_type": "code",
   "execution_count": 423,
   "metadata": {},
   "outputs": [
    {
     "data": {
      "application/vnd.microsoft.datawrangler.viewer.v0+json": {
       "columns": [
        {
         "name": "Intervention_Method_List",
         "rawType": "object",
         "type": "unknown"
        },
        {
         "name": "count",
         "rawType": "int64",
         "type": "integer"
        }
       ],
       "ref": "9edcca67-1f8f-46ec-aaa3-b013c9a5e7e2",
       "rows": [
        [
         "['Inter_Meth_Other']",
         "71327"
        ],
        [
         "['Injection']",
         "33777"
        ],
        [
         "['Oral']",
         "15204"
        ],
        [
         "['Surgical']",
         "13398"
        ],
        [
         "['Topical']",
         "10842"
        ],
        [
         "['Injection', 'Surgical']",
         "8936"
        ],
        [
         "['Injection', 'Oral']",
         "8121"
        ],
        [
         "['Injection', 'Topical']",
         "6616"
        ],
        [
         "['Oral', 'Topical']",
         "2470"
        ],
        [
         "['Injection', 'Oral', 'Topical']",
         "1825"
        ],
        [
         "['Injection', 'Oral', 'Surgical']",
         "1802"
        ],
        [
         "['Oral', 'Surgical']",
         "1679"
        ],
        [
         "['Surgical', 'Topical']",
         "834"
        ],
        [
         "['Injection', 'Surgical', 'Topical']",
         "581"
        ],
        [
         "['Injection', 'Oral', 'Surgical', 'Topical']",
         "92"
        ],
        [
         "['Oral', 'Surgical', 'Topical']",
         "82"
        ]
       ],
       "shape": {
        "columns": 1,
        "rows": 16
       }
      },
      "text/plain": [
       "Intervention_Method_List\n",
       "[Inter_Meth_Other]                      71327\n",
       "[Injection]                             33777\n",
       "[Oral]                                  15204\n",
       "[Surgical]                              13398\n",
       "[Topical]                               10842\n",
       "[Injection, Surgical]                    8936\n",
       "[Injection, Oral]                        8121\n",
       "[Injection, Topical]                     6616\n",
       "[Oral, Topical]                          2470\n",
       "[Injection, Oral, Topical]               1825\n",
       "[Injection, Oral, Surgical]              1802\n",
       "[Oral, Surgical]                         1679\n",
       "[Surgical, Topical]                       834\n",
       "[Injection, Surgical, Topical]            581\n",
       "[Injection, Oral, Surgical, Topical]       92\n",
       "[Oral, Surgical, Topical]                  82\n",
       "Name: count, dtype: int64"
      ]
     },
     "metadata": {},
     "output_type": "display_data"
    }
   ],
   "source": [
    "# Fillna Intervention_Method_List\n",
    "# Intervenion_Type_List\n",
    "condition = (df['Intervention_Type_List'].apply(lambda x: 'RADIATION' in x)) & \\\n",
    "            (df['Intervention_Method_List'].isnull())\n",
    "df.loc[condition, 'Intervention_Method_List'] = [['Topical']] * condition.sum()\n",
    "\n",
    "cond = (df['Intervention_Method_List'].apply(lambda x: isinstance(x, list) and len(x) == 0))\n",
    "df.loc[cond, 'Intervention_Method_List'] = df.loc[cond, 'Intervention_Method_List'].apply(lambda x: ['Inter_Meth_Other'])\n",
    "display(df['Intervention_Method_List'].value_counts(dropna = False))"
   ]
  },
  {
   "cell_type": "markdown",
   "metadata": {},
   "source": [
    "### Intervention_Method_Counts"
   ]
  },
  {
   "cell_type": "code",
   "execution_count": 424,
   "metadata": {},
   "outputs": [
    {
     "data": {
      "application/vnd.microsoft.datawrangler.viewer.v0+json": {
       "columns": [
        {
         "name": "Intervention_Method_Counts",
         "rawType": "int64",
         "type": "integer"
        },
        {
         "name": "count",
         "rawType": "int64",
         "type": "integer"
        }
       ],
       "ref": "3106a2c1-a755-4ac3-92c4-dce71a8e4bbf",
       "rows": [
        [
         "1",
         "144548"
        ],
        [
         "2",
         "28656"
        ],
        [
         "3",
         "4290"
        ],
        [
         "4",
         "92"
        ]
       ],
       "shape": {
        "columns": 1,
        "rows": 4
       }
      },
      "text/plain": [
       "Intervention_Method_Counts\n",
       "1    144548\n",
       "2     28656\n",
       "3      4290\n",
       "4        92\n",
       "Name: count, dtype: int64"
      ]
     },
     "execution_count": 424,
     "metadata": {},
     "output_type": "execute_result"
    }
   ],
   "source": [
    "df['Intervention_Method_Counts'] = df['Intervention_Method_List'].apply(lambda x: len(x))  \n",
    "# Inter_Meth_Other is a form of 'intervention' other than inj/oral/topical and must be counted.\n",
    "df['Intervention_Method_Counts'].value_counts(dropna = False)"
   ]
  },
  {
   "cell_type": "markdown",
   "metadata": {},
   "source": [
    "## Placebo_Bin"
   ]
  },
  {
   "cell_type": "code",
   "execution_count": 425,
   "metadata": {},
   "outputs": [
    {
     "data": {
      "application/vnd.microsoft.datawrangler.viewer.v0+json": {
       "columns": [
        {
         "name": "Placebo_Bin",
         "rawType": "object",
         "type": "unknown"
        },
        {
         "name": "count",
         "rawType": "int64",
         "type": "integer"
        }
       ],
       "ref": "fd23e9c5-2fcc-4275-b949-469c837aa637",
       "rows": [
        [
         null,
         "144416"
        ],
        [
         "PLACEBO_COMPARATOR",
         "33170"
        ]
       ],
       "shape": {
        "columns": 1,
        "rows": 2
       }
      },
      "text/plain": [
       "Placebo_Bin\n",
       "NaN                   144416\n",
       "PLACEBO_COMPARATOR     33170\n",
       "Name: count, dtype: int64"
      ]
     },
     "metadata": {},
     "output_type": "display_data"
    },
    {
     "data": {
      "application/vnd.microsoft.datawrangler.viewer.v0+json": {
       "columns": [
        {
         "name": "Placebo_Bin",
         "rawType": "object",
         "type": "string"
        },
        {
         "name": "count",
         "rawType": "int64",
         "type": "integer"
        }
       ],
       "ref": "38a55c2e-b46c-4dd1-bb49-3b9ef6aa3a15",
       "rows": [
        [
         "No",
         "144416"
        ],
        [
         "Yes",
         "33170"
        ]
       ],
       "shape": {
        "columns": 1,
        "rows": 2
       }
      },
      "text/plain": [
       "Placebo_Bin\n",
       "No     144416\n",
       "Yes     33170\n",
       "Name: count, dtype: int64"
      ]
     },
     "metadata": {},
     "output_type": "display_data"
    },
    {
     "data": {
      "text/plain": [
       "(177586, 49)"
      ]
     },
     "metadata": {},
     "output_type": "display_data"
    }
   ],
   "source": [
    "my_placebo2 = my_placebo[my_placebo[\"group_type\"] == \"PLACEBO_COMPARATOR\"]\n",
    "df = df.merge(my_placebo2[[\"nct_id\", \"group_type\"]], on = \"nct_id\", how = \"left\")\n",
    "df = df.rename(columns = {\"group_type\" : \"Placebo_Bin\"})\n",
    "display(df[\"Placebo_Bin\"].value_counts(dropna = False))\n",
    "\n",
    "df[\"Placebo_Bin\"] = df[\"Placebo_Bin\"].replace({np.NaN : \"No\", \"PLACEBO_COMPARATOR\" : \"Yes\"})\n",
    "display(df[\"Placebo_Bin\"].value_counts(dropna = False)) \n",
    "display(df.shape)\n"
   ]
  },
  {
   "cell_type": "markdown",
   "metadata": {},
   "source": [
    "## Standard_Care_Bin"
   ]
  },
  {
   "cell_type": "code",
   "execution_count": 426,
   "metadata": {},
   "outputs": [
    {
     "data": {
      "application/vnd.microsoft.datawrangler.viewer.v0+json": {
       "columns": [
        {
         "name": "Standard_Care_Bin",
         "rawType": "object",
         "type": "unknown"
        },
        {
         "name": "count",
         "rawType": "int64",
         "type": "integer"
        }
       ],
       "ref": "2d2f9440-0e92-45f6-906a-08fdc77b6549",
       "rows": [
        [
         null,
         "167038"
        ],
        [
         "Yes",
         "10548"
        ]
       ],
       "shape": {
        "columns": 1,
        "rows": 2
       }
      },
      "text/plain": [
       "Standard_Care_Bin\n",
       "NaN    167038\n",
       "Yes     10548\n",
       "Name: count, dtype: int64"
      ]
     },
     "metadata": {},
     "output_type": "display_data"
    },
    {
     "data": {
      "application/vnd.microsoft.datawrangler.viewer.v0+json": {
       "columns": [
        {
         "name": "Standard_Care_Bin",
         "rawType": "object",
         "type": "string"
        },
        {
         "name": "count",
         "rawType": "int64",
         "type": "integer"
        }
       ],
       "ref": "4750e781-c4b7-409f-8393-11b28ca6aa32",
       "rows": [
        [
         "No",
         "167038"
        ],
        [
         "Yes",
         "10548"
        ]
       ],
       "shape": {
        "columns": 1,
        "rows": 2
       }
      },
      "text/plain": [
       "Standard_Care_Bin\n",
       "No     167038\n",
       "Yes     10548\n",
       "Name: count, dtype: int64"
      ]
     },
     "metadata": {},
     "output_type": "display_data"
    },
    {
     "data": {
      "text/plain": [
       "(177586, 50)"
      ]
     },
     "metadata": {},
     "output_type": "display_data"
    }
   ],
   "source": [
    "df = df.merge(my_soc[[\"nct_id\", \"Standard_Care\"]], on = \"nct_id\", how = \"left\")\n",
    "df = df.rename(columns={\"Standard_Care\" : \"Standard_Care_Bin\"})\n",
    "display(df[\"Standard_Care_Bin\"].value_counts(dropna=False))\n",
    "\n",
    "df[\"Standard_Care_Bin\"] = df[\"Standard_Care_Bin\"].replace({np.NaN : \"No\"})\n",
    "display(df[\"Standard_Care_Bin\"].value_counts(dropna=False))\n",
    "display(df.shape)\n"
   ]
  },
  {
   "cell_type": "markdown",
   "metadata": {},
   "source": [
    "## Healthy_Bin\n"
   ]
  },
  {
   "cell_type": "code",
   "execution_count": 427,
   "metadata": {},
   "outputs": [
    {
     "data": {
      "application/vnd.microsoft.datawrangler.viewer.v0+json": {
       "columns": [
        {
         "name": "Healthy_Bin",
         "rawType": "object",
         "type": "unknown"
        },
        {
         "name": "count",
         "rawType": "int64",
         "type": "integer"
        }
       ],
       "ref": "d8dd6a41-d79b-43e8-bc8a-dc0477c38c1d",
       "rows": [
        [
         "No",
         "118750"
        ],
        [
         "Yes",
         "58770"
        ],
        [
         null,
         "66"
        ]
       ],
       "shape": {
        "columns": 1,
        "rows": 3
       }
      },
      "text/plain": [
       "Healthy_Bin\n",
       "No     118750\n",
       "Yes     58770\n",
       "NaN        66\n",
       "Name: count, dtype: int64"
      ]
     },
     "metadata": {},
     "output_type": "display_data"
    },
    {
     "data": {
      "text/plain": [
       "(177586, 51)"
      ]
     },
     "metadata": {},
     "output_type": "display_data"
    }
   ],
   "source": [
    "df = df.merge(my_eligibilities[[\"nct_id\", \"healthy_volunteers\"]], on = \"nct_id\", how = \"left\")\n",
    "df = df.rename(columns={\"healthy_volunteers\" : \"Healthy_Bin\"})\n",
    "df['Healthy_Bin'] = df['Healthy_Bin'].replace({'Condition' : \"No\", \"Healthy\" : \"Yes\"})\n",
    "\n",
    "display(df[\"Healthy_Bin\"].value_counts(dropna = False))\n",
    "display(df.shape)"
   ]
  },
  {
   "cell_type": "markdown",
   "metadata": {},
   "source": [
    "## Conditions\n",
    "- Source MEsH Ontologies and Drugs : https://meshb.nlm.nih.gov/treeView  "
   ]
  },
  {
   "cell_type": "markdown",
   "metadata": {},
   "source": [
    "### Covid_19_Bin"
   ]
  },
  {
   "cell_type": "code",
   "execution_count": 428,
   "metadata": {},
   "outputs": [
    {
     "data": {
      "application/vnd.microsoft.datawrangler.viewer.v0+json": {
       "columns": [
        {
         "name": "Covid_19_Bin",
         "rawType": "object",
         "type": "unknown"
        },
        {
         "name": "count",
         "rawType": "int64",
         "type": "integer"
        }
       ],
       "ref": "9257c92d-7822-4ebd-bf7e-b472ef6e14c3",
       "rows": [
        [
         null,
         "174786"
        ],
        [
         "COVID-19",
         "2800"
        ]
       ],
       "shape": {
        "columns": 1,
        "rows": 2
       }
      },
      "text/plain": [
       "Covid_19_Bin\n",
       "NaN         174786\n",
       "COVID-19      2800\n",
       "Name: count, dtype: int64"
      ]
     },
     "metadata": {},
     "output_type": "display_data"
    },
    {
     "data": {
      "application/vnd.microsoft.datawrangler.viewer.v0+json": {
       "columns": [
        {
         "name": "Covid_19_Bin",
         "rawType": "object",
         "type": "string"
        },
        {
         "name": "count",
         "rawType": "int64",
         "type": "integer"
        }
       ],
       "ref": "3dcfa6ed-4765-4ac2-b053-219ee64dd901",
       "rows": [
        [
         "No",
         "174786"
        ],
        [
         "Yes",
         "2800"
        ]
       ],
       "shape": {
        "columns": 1,
        "rows": 2
       }
      },
      "text/plain": [
       "Covid_19_Bin\n",
       "No     174786\n",
       "Yes      2800\n",
       "Name: count, dtype: int64"
      ]
     },
     "metadata": {},
     "output_type": "display_data"
    },
    {
     "data": {
      "text/plain": [
       "(177586, 52)"
      ]
     },
     "metadata": {},
     "output_type": "display_data"
    }
   ],
   "source": [
    "df = df.merge(my_covid[[\"nct_id\", \"mesh_term\"]], on = \"nct_id\", how = \"left\")\n",
    "df = df.rename(columns={\"mesh_term\" : \"Covid_19_Bin\"})\n",
    "display(df[\"Covid_19_Bin\"].value_counts(dropna=False))\n",
    "df[\"Covid_19_Bin\"] = df[\"Covid_19_Bin\"].replace({np.NaN : \"No\", \"COVID-19\": \"Yes\"})\n",
    "display(df[\"Covid_19_Bin\"].value_counts(dropna=False))\n",
    "display(df.shape)"
   ]
  },
  {
   "cell_type": "markdown",
   "metadata": {},
   "source": [
    "### Conditions_List\n",
    "- Columns: my_conditions['name'] (list like) = df['Conditions'] (text like | seperated)\n",
    "### Conditions_Spec_List"
   ]
  },
  {
   "cell_type": "code",
   "execution_count": 429,
   "metadata": {},
   "outputs": [
    {
     "data": {
      "text/plain": [
       "Counter({'Diseases': 130078,\n",
       "         'Cond_Other': 39471,\n",
       "         'Psychiatry, Psychology': 25798,\n",
       "         'Phenomena, Processes': 14366,\n",
       "         'Analytical, Diagnostic, Therapeutic Techniques, Equipment': 4332,\n",
       "         'Health Care': 607,\n",
       "         'Anthropology, Education, Sociology, Social Phenomena': 412,\n",
       "         'Anatomy': 310,\n",
       "         'Chemicals, Drugs': 3})"
      ]
     },
     "metadata": {},
     "output_type": "display_data"
    },
    {
     "data": {
      "text/plain": [
       "Counter({'Pathological Conditions, Signs and Symptoms': 49671,\n",
       "         'Cond_Spec_Other': 39471,\n",
       "         'Nervous System Diseases': 27975,\n",
       "         'Neoplasms': 24203,\n",
       "         'Cardiovascular Diseases': 16518,\n",
       "         'Mental Disorders': 16166,\n",
       "         'Nutritional and Metabolic Diseases': 15289,\n",
       "         'Respiratory Tract Diseases': 14793,\n",
       "         'Skin and Connective Tissue Diseases': 14064,\n",
       "         'Female Urogenital Diseases and Pregnancy Complications': 13578,\n",
       "         'Bacterial Infections and Mycoses': 12933,\n",
       "         'Immune System Diseases': 12155,\n",
       "         'Digestive System Diseases': 11910,\n",
       "         'Male Urogenital Diseases': 10936,\n",
       "         'Musculoskeletal Diseases': 9509,\n",
       "         'Endocrine System Diseases': 9172,\n",
       "         'Psychological Phenomena and Processes': 8265,\n",
       "         'Virus Diseases': 8181,\n",
       "         'Musculoskeletal and Neural Physiological Phenomena': 7637,\n",
       "         'Behavior and Behavior Mechanisms': 6957,\n",
       "         'Congenital, Hereditary, and Neonatal Diseases and Abnormalities': 6889,\n",
       "         'Hemic and Lymphatic Diseases': 6883,\n",
       "         'Wounds and Injuries': 6461,\n",
       "         'Physiological Phenomena': 4965,\n",
       "         'Eye Diseases': 4843,\n",
       "         'Stomatognathic Diseases': 4408,\n",
       "         'Diagnosis': 4180,\n",
       "         'Investigative Techniques': 3978,\n",
       "         'Chemically-Induced Disorders': 2923,\n",
       "         'Otorhinolaryngologic Diseases': 2597,\n",
       "         'Cell Physiological Phenomena': 1088,\n",
       "         'Environment and Public Health': 603,\n",
       "         'Social Sciences': 409,\n",
       "         'Tissues': 236,\n",
       "         'Biological Phenomena': 234,\n",
       "         'Reproductive and Urinary Physiological Phenomena': 226,\n",
       "         'Physical Phenomena': 132,\n",
       "         'Therapeutics': 117,\n",
       "         'Circulatory and Respiratory Physiological Phenomena': 106,\n",
       "         'Genetic Phenomena': 100,\n",
       "         'Cells': 72,\n",
       "         'Immune System Phenomena': 58,\n",
       "         'Chemical Actions and Uses': 3,\n",
       "         'Health Care Quality, Access, and Evaluation': 3,\n",
       "         'Health Services Administration': 3,\n",
       "         'Human Activities': 3,\n",
       "         'Fluids and Secretions': 2,\n",
       "         'Health Care Facilities, Manpower, and Services': 1,\n",
       "         'Hemic and Immune Systems': 1})"
      ]
     },
     "metadata": {},
     "output_type": "display_data"
    }
   ],
   "source": [
    "df = df.merge(my_conditions[[\"nct_id\", \"Category\", \"heading\"]], on = \"nct_id\", how = \"left\") # my_conditions['name'] = df['Conditions]\n",
    "df = df.rename(columns = {\"Category\" : \"Conditions_List\", \"heading\" : \"Conditions_Spec_List\"})\n",
    "\n",
    "df[\"Conditions_List\"] = df[\"Conditions_List\"].apply(lambda x: [\"Cond_Other\"] if isinstance(x, list) and len(x) == 0 else x)\n",
    "df[\"Conditions_Spec_List\"] = df[\"Conditions_Spec_List\"].apply(lambda x: [\"Cond_Spec_Other\"] if isinstance(x, list)\\\n",
    "                                                               and len(x) == 0 else x)\n",
    "\n",
    "display(Counter([elem for row_list in df[\"Conditions_List\"] for elem in row_list]))\n",
    "display(Counter([elem for row_list in df[\"Conditions_Spec_List\"] for elem in row_list]))"
   ]
  },
  {
   "cell_type": "code",
   "execution_count": 430,
   "metadata": {},
   "outputs": [
    {
     "data": {
      "text/plain": [
       "Counter({'Diseases': 130078,\n",
       "         'Cond_Other': 39471,\n",
       "         'Psychiatry, Psychology': 25798,\n",
       "         'Phenomena, Processes': 14366,\n",
       "         'Analytical, Diagnostic, Therapeutic Techniques, Equipment': 4332,\n",
       "         'Health Care': 607,\n",
       "         'Anthropology, Education, Sociology, Social Phenomena': 412,\n",
       "         'Anatomy': 310,\n",
       "         'Chemicals, Drugs': 3})"
      ]
     },
     "metadata": {},
     "output_type": "display_data"
    },
    {
     "data": {
      "text/plain": [
       "Counter({'Cond_Diseases': 130078,\n",
       "         'Cond_Other': 39471,\n",
       "         'Cond_Psychiatry, Psychology, Anthropology, Sociology': 26210,\n",
       "         'Cond_Phenomena, Processes': 14679,\n",
       "         'Cond_Therapeutic, Diagnostic, Equipment': 4332,\n",
       "         'Cond_Health Care': 607})"
      ]
     },
     "metadata": {},
     "output_type": "display_data"
    }
   ],
   "source": [
    "# Merge categories with small samples into larger associated ones.\n",
    "# Source Mesh : https://meshb.nlm.nih.gov/treeView\n",
    "display(Counter([elem for row_list in df[\"Conditions_List\"] for elem in row_list]))\n",
    "\n",
    "cond_map = {\n",
    "    'Diseases' : 'Cond_Diseases',\n",
    "    'Anthropology, Sociology': 'Cond_Psychiatry, Psychology, Anthropology, Sociology',\n",
    "    'Psychiatry, Psychology': 'Cond_Psychiatry, Psychology, Anthropology, Sociology',\n",
    "    'Anthropology, Education, Sociology, Social Phenomena' : 'Cond_Psychiatry, Psychology, Anthropology, Sociology',\n",
    "      \n",
    "    'Anatomy': 'Cond_Phenomena, Processes', # Anatomy ~ Phenomena, Processes as phenomena, processes ~ human systems (Mesh)\n",
    "    'Phenomena, Processes': 'Cond_Phenomena, Processes',\n",
    "    'Chemicals, Drugs': 'Cond_Phenomena, Processes',  # Chemicals ~ Phenomena, Processes e.g substance absorption (Mesh)\n",
    "\n",
    "    'Analytical, Diagnostic, Therapeutic Techniques, Equipment' : 'Cond_Therapeutic, Diagnostic, Equipment',\n",
    "\n",
    "    'Health Care': 'Cond_Health Care', \n",
    "\n",
    "    'Cond_Other' : 'Cond_Other',\n",
    "}\n",
    "\n",
    "df['Conditions_List'] = df['Conditions_List'].apply(lambda row: [cond_map.get(val, val) for val in row])\n",
    "\n",
    "# Display\n",
    "display(Counter([elem for row_list in df[\"Conditions_List\"] for elem in row_list]))\n"
   ]
  },
  {
   "cell_type": "code",
   "execution_count": 431,
   "metadata": {},
   "outputs": [
    {
     "data": {
      "text/plain": [
       "Counter({'Pathological Conditions, Signs and Symptoms': 49671,\n",
       "         'Cond_Spec_Other': 39471,\n",
       "         'Nervous System Diseases': 27975,\n",
       "         'Neoplasms': 24203,\n",
       "         'Cardiovascular Diseases': 16518,\n",
       "         'Mental Disorders': 16166,\n",
       "         'Nutritional and Metabolic Diseases': 15289,\n",
       "         'Respiratory Tract Diseases': 14793,\n",
       "         'Skin and Connective Tissue Diseases': 14064,\n",
       "         'Female Urogenital Diseases and Pregnancy Complications': 13578,\n",
       "         'Bacterial Infections and Mycoses': 12933,\n",
       "         'Immune System Diseases': 12155,\n",
       "         'Digestive System Diseases': 11910,\n",
       "         'Male Urogenital Diseases': 10936,\n",
       "         'Musculoskeletal Diseases': 9509,\n",
       "         'Endocrine System Diseases': 9172,\n",
       "         'Psychological Phenomena and Processes': 8265,\n",
       "         'Virus Diseases': 8181,\n",
       "         'Musculoskeletal and Neural Physiological Phenomena': 7637,\n",
       "         'Behavior and Behavior Mechanisms': 6957,\n",
       "         'Congenital, Hereditary, and Neonatal Diseases and Abnormalities': 6889,\n",
       "         'Hemic and Lymphatic Diseases': 6883,\n",
       "         'Wounds and Injuries': 6461,\n",
       "         'Physiological Phenomena': 4965,\n",
       "         'Eye Diseases': 4843,\n",
       "         'Stomatognathic Diseases': 4408,\n",
       "         'Diagnosis': 4180,\n",
       "         'Investigative Techniques': 3978,\n",
       "         'Chemically-Induced Disorders': 2923,\n",
       "         'Otorhinolaryngologic Diseases': 2597,\n",
       "         'Cell Physiological Phenomena': 1088,\n",
       "         'Environment and Public Health': 603,\n",
       "         'Social Sciences': 409,\n",
       "         'Tissues': 236,\n",
       "         'Biological Phenomena': 234,\n",
       "         'Reproductive and Urinary Physiological Phenomena': 226,\n",
       "         'Physical Phenomena': 132,\n",
       "         'Therapeutics': 117,\n",
       "         'Circulatory and Respiratory Physiological Phenomena': 106,\n",
       "         'Genetic Phenomena': 100,\n",
       "         'Cells': 72,\n",
       "         'Immune System Phenomena': 58,\n",
       "         'Chemical Actions and Uses': 3,\n",
       "         'Health Care Quality, Access, and Evaluation': 3,\n",
       "         'Health Services Administration': 3,\n",
       "         'Human Activities': 3,\n",
       "         'Fluids and Secretions': 2,\n",
       "         'Health Care Facilities, Manpower, and Services': 1,\n",
       "         'Hemic and Immune Systems': 1})"
      ]
     },
     "metadata": {},
     "output_type": "display_data"
    },
    {
     "data": {
      "text/plain": [
       "Counter({'Pathological Conditions, Signs, Symptoms': 49671,\n",
       "         'Cond_Spec_Other': 39471,\n",
       "         'Psychiatry, Psychology, Anthropology, Sociology': 31800,\n",
       "         'Nervous System': 27975,\n",
       "         'Digestive System, Nutritional, Metabolic': 27199,\n",
       "         'Urogenital, Pregnancy': 24740,\n",
       "         'Neoplasms': 24203,\n",
       "         'Hemic, Lymphatic, Immune System': 19097,\n",
       "         'Musculoskeletal, Neural': 17146,\n",
       "         'Cardiovascular': 16518,\n",
       "         'Respiratory, Circulatory': 14899,\n",
       "         'Skin, Tissue': 14300,\n",
       "         'Bacterial Infections and Mycoses': 12933,\n",
       "         'Endocrine System': 9172,\n",
       "         'Therapeutics, Diagnosis, Equipment': 8275,\n",
       "         'Virus Diseases': 8181,\n",
       "         'Hereditary, Neonatal, Abnormalities': 6889,\n",
       "         'Phenomena, Processes': 6593,\n",
       "         'Wounds, Injuries': 6461,\n",
       "         'Eye': 4843,\n",
       "         'Stomatognathic': 4408,\n",
       "         'Chemical Disorders': 2923,\n",
       "         'Otorhinolaryngologic': 2597,\n",
       "         'Health Care': 610,\n",
       "         'Chemicals': 3})"
      ]
     },
     "metadata": {},
     "output_type": "display_data"
    }
   ],
   "source": [
    "# Merge low sample categries into more general ones based on the subject studyed.\n",
    "cond_map = {\n",
    "         'Pathological Conditions, Signs and Symptoms': 'Pathological Conditions, Signs, Symptoms',  # 49671 # Diseases\n",
    "\n",
    "         'Nervous System Diseases': 'Nervous System', # 27975\n",
    "\n",
    "         'Cond_Spec_Other': 'Cond_Spec_Other', # 39471\n",
    "\n",
    "         'Neoplasms': 'Neoplasms', # 24203\n",
    "\n",
    "         'Cardiovascular Diseases': 'Cardiovascular', # 16518\n",
    "\n",
    "         'Skin and Connective Tissue Diseases': 'Skin, Tissue', # 14064\n",
    "         'Tissues': 'Skin, Tissue', # 236\n",
    "\n",
    "         'Respiratory Tract Diseases': 'Respiratory, Circulatory', # 14793\n",
    "         'Circulatory and Respiratory Physiological Phenomena': 'Respiratory, Circulatory', # 106\n",
    "\n",
    "         'Female Urogenital Diseases and Pregnancy Complications': 'Urogenital, Pregnancy', # 13578 # Reproductive System has 291 females, 14 all and only 1 male\n",
    "         'Male Urogenital Diseases': 'Urogenital, Pregnancy', # 10936\n",
    "         'Reproductive and Urinary Physiological Phenomena': 'Urogenital, Pregnancy', # 226 \n",
    "         \n",
    "         'Bacterial Infections and Mycoses': 'Bacterial Infections and Mycoses', # 12933\n",
    "         'Virus Diseases': 'Virus Diseases', # 8181\n",
    "\n",
    "         'Immune System Diseases': 'Hemic, Lymphatic, Immune System', # 12155\n",
    "         'Immune System Phenomena': 'Hemic, Lymphatic, Immune System', # 58\n",
    "         'Hemic and Immune Systems': 'Hemic, Lymphatic, Immune System', # 1\n",
    "         'Hemic and Lymphatic Diseases': 'Hemic, Lymphatic, Immune System', # 6883\n",
    "         \n",
    "         'Digestive System Diseases': 'Digestive System, Nutritional, Metabolic', # 11910\n",
    "         'Nutritional and Metabolic Diseases': 'Digestive System, Nutritional, Metabolic', # 15289\n",
    "                  \n",
    "         'Musculoskeletal Diseases': 'Musculoskeletal, Neural', # 9509\n",
    "         'Musculoskeletal and Neural Physiological Phenomena': 'Musculoskeletal, Neural', # 7637\n",
    "\n",
    "         'Endocrine System Diseases': 'Endocrine System', # 9172\n",
    "\n",
    "         'Congenital, Hereditary, and Neonatal Diseases and Abnormalities': 'Hereditary, Neonatal, Abnormalities', # 6889\n",
    "\n",
    "         'Wounds and Injuries': 'Wounds, Injuries', # 6461\n",
    "\n",
    "         'Eye Diseases': 'Eye', # 4843\n",
    "\n",
    "         'Stomatognathic Diseases': 'Stomatognathic', # 4408\n",
    "\n",
    "         'Otorhinolaryngologic Diseases': 'Otorhinolaryngologic', # 2597\n",
    "\n",
    "         'Chemically-Induced Disorders': 'Chemical Disorders', # 2923\n",
    "\n",
    "# 'Psychiatry, Psychology, Anthropology, Sociology'\n",
    "         'Psychological Phenomena and Processes': 'Psychiatry, Psychology, Anthropology, Sociology', # 8265\n",
    "         'Behavior and Behavior Mechanisms': 'Psychiatry, Psychology, Anthropology, Sociology', # 6957\n",
    "         'Mental Disorders': 'Psychiatry, Psychology, Anthropology, Sociology', # 16166\n",
    "         'Social Sciences': 'Psychiatry, Psychology, Anthropology, Sociology',  # 409 # Anthropology, Sociology\n",
    "         'Human Activities': 'Psychiatry, Psychology, Anthropology, Sociology', # 3 # Anthropology, Sociology\n",
    "\n",
    "# 'Phenomena, Processes'\n",
    "         'Physiological Phenomena': 'Phenomena, Processes', # 132\n",
    "         'Biological Phenomena': 'Phenomena, Processes', # 234\n",
    "         'Physical Phenomena': 'Phenomena, Processes', # 4965\n",
    "         'Genetic Phenomena': 'Phenomena, Processes', # 100\n",
    "         'Cell Physiological Phenomena': 'Phenomena, Processes', # 1088\n",
    "         'Cells': 'Phenomena, Processes', # 72 # Anatomy\n",
    "         'Fluids and Secretions': 'Phenomena, Processes', # 2 # Anatomy \n",
    "         'Chemical Actions and Uses': 'Chemicals', # 3\n",
    "\n",
    "# 'Diagnostic, Equipment'\n",
    "         'Diagnosis': 'Therapeutics, Diagnosis, Equipment', # 4180  \n",
    "         'Investigative Techniques': 'Therapeutics, Diagnosis, Equipment', # 3978\n",
    "         'Therapeutics': 'Therapeutics, Diagnosis, Equipment', # 117\n",
    "\n",
    "# Health Care, Environment, Other\n",
    "         'Health Care Quality, Access, and Evaluation': 'Health Care', # 3\n",
    "         'Health Services Administration': 'Health Care', # 3\n",
    "         'Health Care Facilities, Manpower, and Services': 'Health Care', # 1\n",
    "         'Environment and Public Health': 'Health Care',  # 603\n",
    "}\n",
    "\n",
    "display(Counter([elem for row_list in df[\"Conditions_Spec_List\"] for elem in row_list]))\n",
    "df['Conditions_Spec_List'] = df['Conditions_Spec_List'].apply(lambda row: [cond_map.get(val, val) for val in row])\n",
    "\n",
    "display(Counter([elem for row_list in df[\"Conditions_Spec_List\"] for elem in row_list]))"
   ]
  },
  {
   "cell_type": "markdown",
   "metadata": {},
   "source": [
    "#### NaNs (17k) --> cond_none"
   ]
  },
  {
   "cell_type": "code",
   "execution_count": 432,
   "metadata": {},
   "outputs": [],
   "source": [
    "# Search for Condition/body part worlds in 'Conditions' Column if \n",
    "Conditions2 = pd.DataFrame(sorted(set('|'.join(df.loc[\n",
    "        df['Conditions_Spec_List'].apply(lambda row: (\n",
    "            'Phenomena, Processes' in row or 'Pathological Conditions, Signs, Symptoms' in row or 'Cond_Spec_Other' in row)), \n",
    "            'Conditions'].dropna().astype(str)).replace(', ', '|').split('|'))), columns = ['Conditions2'])\n",
    "\n",
    "# Split Conditions2 into 4 columns --> Keep only the first 4 columns\n",
    "Conditions2 = Conditions2['Conditions2'].str.split(' ', expand = True)\n",
    "Conditions2 = Conditions2.iloc[:, 0:4]\n",
    "Conditions2 = Conditions2.drop_duplicates(keep = 'first').dropna()\n",
    "# Keep worlds of Conditions/Body parts as a list.\n",
    "cond2 = sorted(set(Conditions2[0].tolist())) + sorted(set(Conditions2[1].tolist())) +\\\n",
    "     sorted(set(Conditions2[2].tolist())) + sorted(set(Conditions2[3].tolist()))\n",
    "\n",
    "# Create list of key worlds to search in 'Conditions' to fill Conditions_List/Conditions_Spec_List columns\n",
    "texts = [\n",
    " # a   \n",
    " 'abdominal','abdominis','abnormality','abortion','accident','acne','activities','adrenal','aging','airway','allergy',\n",
    " 'alveolar','alzheimer','anaesthesia','analgesi','analgesia','anemia','anesthesia','anorexia','antibiotic','antibody mediated rejection',\n",
    " 'anticalculus','anticoag','antimicrobial resistance','anxiety','aortic','apnoea','appetite','arthritis','asthma','atheroscler',\n",
    " 'atherosclerotic','attention deficit hyperactivity disorder','autism','avascular','axillary',\n",
    " # b\n",
    " 'bacteria','bacterial','behavior',\"bichat's\",\n",
    " 'bilateral','bile','bioavailability','bioequivalence','bipolar','bladder','bleeding','blood pressure','blood vessels','bone','bones',\n",
    " 'botulinum','bowel','bradycardia','brain','breast','bronchitis','bronchoscopic','buprenorphine','bypass', 'blood sugar',\n",
    " # c\n",
    " 'cancer','cannabis','carcinoma',\n",
    " 'cardiac','cardiovascular','health care','caregiver','carotid','cartilage','cell','cellulite','cerebral','cervical','cervix','cesarean',\n",
    " 'changas','cheek','chemical','chemotherapy','chest','cholesterol','chromosome-negative','cigar','clostridium','coagulation','cocaine',\n",
    " 'coffee','colitis','colon','colonoscopy','connective tissue','constipation','contraception','corneae','coronary','covid','critical ill',\n",
    " 'critically ill','cruciate ligament','cystic fibrosis',\n",
    " # d\n",
    " 'defecation','dementia','dental','depression','dermatitis','dexamethasone-induced','diabet',\n",
    " 'diabetes','diabetic','diaphragm','diarrhea','diet','digestive','donor','drug effect','drug-induced','dyslipidemia','dyspepsia',\n",
    " # e\n",
    " 'ear','eczema','education','encephalitis','endocrine','endometriosis','epilepsy','epithelial','esophageal','esophagus','eustachian',\n",
    " 'exercise','extracorporeal','eye','fat','fever','fevers','fibrosclerotic','fibrosis/tubular','food','foot',\n",
    " # g\n",
    " 'gallbladder','gastric','gastritis','gastro','gastroesophageal','gastrointestinal','gastroretentive','genetic','genitourinary','gingival',\n",
    " 'glaucoma','gout',\n",
    " # h\n",
    " 'haemopoietic','hamstring','hand','healthcare','heart','heart failure','helicobacter pylori','helminth','hematopoietic','hemmorhagic',\n",
    " 'hemodialysis','hemorrhage','hepatic','hepatics','hepatitis','hernia','heroin','hiccup','hip','hormones','hypertension','hypertensive',\n",
    " 'hypothermia','hypovolaemia','hypovolemia','hypoxia','hysterectomy',\n",
    " # i\n",
    " 'ileostomy','immun','immune','incisional','incretin',\n",
    " 'infant','infected','infection','inflammation','inflammatory bowel','inguinal','insomnia','integumentary','interstitial','intestinal',\n",
    " 'intestine','intra-cytoplasmic','intracellular','iris','ischemia','ischemic','jaw',\n",
    " # k\n",
    " 'kidney','knee',\n",
    " # l\n",
    " 'labour','laryngeal','leg','leukemia','ligament','limb','limbus','lipid','liver','lumbar','lung','lupus','lymph nodes','lymphatic','lymphoid',\n",
    " # m\n",
    " 'malaria','masseter','melatonin','menopausal','menopause','menstrual','mental','metabolism','metastatic','methamphetamin',\n",
    " 'migraine','mouth','mucous','muscle','muscles','muscular','musculoskeletal system','mutations','myalgia','myomectomy',\n",
    " # n\n",
    " 'nasal','nausea','neck','neoplasm','nephritis','nerve','nerves','nervous system','neuromuscular','neuropsychiatric','neurotrophic',\n",
    " 'nicotin','nurse','nutri','nutrient',\n",
    " # o\n",
    " 'obese','obesity','occlusive','ocular','oocyte','opioid','osteo','ovaries','oxygen','oxygenation',\n",
    " # p\n",
    " 'pain','pancrea','pancreas','panniculopathy','papillomavirus','papiloma','parathyroid','parkinson','pelvic','pelvis','penis','perianal',\n",
    " 'pghysical activity','pharmacokinetic','pharmacokinetics','phycolog','physical','physical activity','plasma','polyp','popliteal',\n",
    " 'post-lung','postoperative','postprandial','pregnan','prenatal','prolapse','prostate','psoriasis','pulmonary',\n",
    " #r\n",
    " 'radio','radiotherapy-induced',\n",
    " 'rectal','rectum','renal','reproductive','respiratory', r'\\brib\\b', r'\\bsars\\b',\n",
    " # s\n",
    " 'scalp','schizophrenia','scoliosis','sedation','sepsis','shoulder','skeletal','skin','sleep','smok','social','spinal',\n",
    " 'spine','spleen','staphylococcus','stoma','stomach','streptococcus','stress','stroke','sympathetic',\n",
    " # t\n",
    " 'tachycardia','teeth',\n",
    " 'temporomandibular','tendon','tendons','testes','testicles','tetrahydrocannabinol','thoracic','thymus','thyroid','tissue',\n",
    " 'tobacco','tongue','tonsillitis','tooth','toxin-induced','trachea','tracheo','tuberculosis','tumor',\n",
    " # u\n",
    " 'ulceration','unilateral','ureter','urethra','urin','urinary','urine','uter','uterovaginal','uterus','vagina','vaginal','valgus',\n",
    " # v\n",
    " 'vaping','vascular','vasomotor','ventral','verrucous','violence','vision','visual','vitamin','vomiting','vulvar',\n",
    " # w\n",
    " 'white spot lesion','wound','wrinkle', 'weight gain']\n",
    "\n",
    "texts = sorted(set([t.lower() for t in texts]))\n"
   ]
  },
  {
   "cell_type": "code",
   "execution_count": 433,
   "metadata": {},
   "outputs": [
    {
     "data": {
      "text/plain": [
       "39471"
      ]
     },
     "metadata": {},
     "output_type": "display_data"
    },
    {
     "data": {
      "text/plain": [
       "39471"
      ]
     },
     "metadata": {},
     "output_type": "display_data"
    },
    {
     "data": {
      "text/plain": [
       "17565"
      ]
     },
     "metadata": {},
     "output_type": "display_data"
    },
    {
     "data": {
      "text/plain": [
       "17565"
      ]
     },
     "metadata": {},
     "output_type": "display_data"
    }
   ],
   "source": [
    "display(df[\"Conditions_List\"].apply(lambda x : x == ['Cond_Other']).sum())\n",
    "display(df[\"Conditions_Spec_List\"].apply(lambda x : x == ['Cond_Spec_Other']).sum())\n",
    "\n",
    "# ===============================================================================================================================\n",
    "# Covid-19 Column\n",
    "df.loc[(df['Covid_19_Bin'] == 'Yes') & (df['Conditions_List'].apply(lambda x: x == ['Cond_Other'])),'Conditions_List'] = df.loc[df['Covid_19_Bin'] == 'Yes','Conditions_List'].apply(\n",
    "    lambda x: ['Diseases'])\n",
    "\n",
    "df.loc[(df['Covid_19_Bin'] == 'Yes') & (df['Conditions_Spec_List'].apply(lambda x: x == ['Cond_Spec_Other'])),'Conditions_Spec_List'] = df.loc[df['Covid_19_Bin'] == 'Yes','Conditions_Spec_List'].apply(\n",
    "    lambda x: ['Respiratory, Circulatory', 'Virus Diseases']) # Top list element.\n",
    "\n",
    "# ===============================================================================================================================\n",
    "# Conditions Column\n",
    "for text in texts:\n",
    "    case = False\n",
    "    try:\n",
    "        # Constraints\n",
    "        constr1 = ((df[\"Conditions\"].str.contains(text, case = case)) & (df['Conditions_List'].apply(lambda x: x == ['Cond_Other'])))\n",
    "        constr2 = ((df[\"Conditions\"].str.contains(text, case = case)) & (df['Conditions_Spec_List'].apply(lambda x: x == ['Cond_Spec_Other'])))\n",
    "        # text_new\n",
    "        text_new1 = df.loc[df['Conditions'].str.contains(text, case = case) & df['Conditions_List'].apply(\n",
    "            lambda x: x != ['Cond_Other'])]['Conditions_List'].value_counts(ascending = False).index[0]\n",
    "        \n",
    "        text_new2 = df.loc[df['Conditions'].str.contains(text, case = case) & df['Conditions_Spec_List'].apply(\n",
    "            lambda x: x != ['Cond_Spec_Other'])]['Conditions_Spec_List'].value_counts(ascending = False).index[0] \n",
    "        # Applying the changes\n",
    "        df.loc[constr1, 'Conditions_List'] = df.loc[constr1, 'Conditions_List'].apply(lambda x: text_new1)\n",
    "        df.loc[constr2, 'Conditions_Spec_List'] = df.loc[constr2, 'Conditions_Spec_List'].apply(lambda x: text_new2)\n",
    "    except IndexError:\n",
    "        continue\n",
    "\n",
    "# ===============================================================================================================================\n",
    "texts = r'\\bALS\\b|\\bBPH\\b|\\bACL\\b|\\bALL\\b|\\bAML\\b|\\bARDS\\b|\\bAccidental Falls\\b|\\bAlcohol\\b|\\bHPV\\b|\\\n",
    "    \\bCOPD\\b|\\bPTSD\\b|\\bNSCLC\\b|\\bPCOS\\b|\\bOHSS\\b|\\bOSA\\b|\\bNAFLD\\b|\\bPOH\\b|\\bABPA\\b|\\bIBD\\b|\\\n",
    "    \\bPACU\\b|\\bPIK3CA\\b|\\bAOD\\b|\\bBPF\\b\\bNYHA\\b|\\bIPOM\\b|\\bHIV\\b|\\baids\\b|\\bAIDS\\b|\\badhd\\b'\n",
    "\n",
    "case = True\n",
    "try:\n",
    "# Constraints\n",
    "    constr1 = ((df[\"Conditions\"].str.contains(texts, case = case)) & (df['Conditions_List'].apply(lambda x: x == ['Cond_Other'])))\n",
    "    constr2 = ((df[\"Conditions\"].str.contains(texts, case = case)) & (df['Conditions_Spec_List'].apply(lambda x: x == ['Cond_Spec_Other'])))\n",
    "# text_new - 1st choice as comments = for most common list description\n",
    "    # text_new1 = df.loc[df['Conditions'].str.contains(texts, case = case) & df['Conditions_List'].apply(lambda x: x != ['Cond_Other'])]\\\n",
    "    # ['Conditions_List'].value_counts(ascending = False).index[0]\n",
    "    # text_new2 = df.loc[df['Conditions'].str.contains(texts, case = case) & df['Conditions_Spec_List'].apply(lambda x: x != ['Cond_Spec_Other'])]\\\n",
    "    # ['Conditions_Spec_List'].value_counts(ascending = False).index[0]\n",
    "    \n",
    "# text_new - 1st choice as comments = for most common element description\n",
    "    all_elements1 = [elem for sublist in df.loc[df['Conditions'].str.contains(texts, case=case) & df['Conditions_List'].apply(lambda x: x != ['Cond_Other']), 'Conditions_List'] for elem in sublist]\n",
    "    text_new1 = [Counter(all_elements1).most_common(1)[0][0]]\n",
    "    all_elements2 = [elem for sublist in df.loc[df['Conditions'].str.contains(texts, case=case) & df['Conditions_Spec_List'].apply(lambda x: x != ['Cond_Spec_Other']), 'Conditions_Spec_List'] for elem in sublist]\n",
    "    text_new2 = [Counter(all_elements2).most_common(1)[0][0]]\n",
    "    # Applying the changes\n",
    "    df.loc[constr1, 'Conditions_List'] = df.loc[constr1, 'Conditions_List'].apply(lambda x: text_new1)\n",
    "    df.loc[constr2, 'Conditions_Spec_List'] = df.loc[constr2, 'Conditions_Spec_List'].apply(lambda x: text_new2)\n",
    "except IndexError:\n",
    "    pass\n",
    "\n",
    "# ===============================================================================================================================\n",
    "display(df[\"Conditions_List\"].apply(lambda x : x == ['Cond_Other']).sum())\n",
    "display(df[\"Conditions_Spec_List\"].apply(lambda x : x == ['Cond_Spec_Other']).sum())"
   ]
  },
  {
   "cell_type": "code",
   "execution_count": 434,
   "metadata": {},
   "outputs": [
    {
     "data": {
      "text/plain": [
       "17565"
      ]
     },
     "metadata": {},
     "output_type": "display_data"
    },
    {
     "data": {
      "text/plain": [
       "17565"
      ]
     },
     "metadata": {},
     "output_type": "display_data"
    },
    {
     "data": {
      "application/vnd.microsoft.datawrangler.viewer.v0+json": {
       "columns": [
        {
         "name": "Conditions_List",
         "rawType": "object",
         "type": "unknown"
        },
        {
         "name": "count",
         "rawType": "int64",
         "type": "integer"
        }
       ],
       "ref": "d5db6290-32ce-4c3d-b5f3-ccd5d3517beb",
       "rows": [
        [
         "['Cond_Diseases']",
         "122320"
        ],
        [
         "['Cond_Other']",
         "17565"
        ],
        [
         "['Cond_Diseases', 'Cond_Psychiatry, Psychology, Anthropology, Sociology']",
         "11003"
        ],
        [
         "['Cond_Psychiatry, Psychology, Anthropology, Sociology']",
         "9798"
        ],
        [
         "['Cond_Diseases', 'Cond_Phenomena, Processes', 'Cond_Psychiatry, Psychology, Anthropology, Sociology']",
         "8731"
        ],
        [
         "['Cond_Diseases', 'Cond_Phenomena, Processes', 'Cond_Therapeutic, Diagnostic, Equipment']",
         "4264"
        ],
        [
         "['Cond_Diseases', 'Cond_Phenomena, Processes']",
         "2790"
        ],
        [
         "['Cond_Diseases', 'Cond_Health Care']",
         "374"
        ],
        [
         "['Cond_Diseases', 'Cond_Phenomena, Processes', 'Cond_Psychiatry, Psychology, Anthropology, Sociology', 'Cond_Therapeutic, Diagnostic, Equipment']",
         "282"
        ],
        [
         "['Cond_Diseases', 'Cond_Health Care', 'Cond_Phenomena, Processes']",
         "130"
        ],
        [
         "['Cond_Diseases', 'Cond_Therapeutic, Diagnostic, Equipment']",
         "120"
        ],
        [
         "['Cond_Diseases', 'Cond_Psychiatry, Psychology, Anthropology, Sociology', 'Cond_Therapeutic, Diagnostic, Equipment']",
         "106"
        ],
        [
         "['Cond_Diseases', 'Cond_Health Care', 'Cond_Psychiatry, Psychology, Anthropology, Sociology']",
         "54"
        ],
        [
         "['Cond_Diseases', 'Cond_Health Care', 'Cond_Phenomena, Processes', 'Cond_Psychiatry, Psychology, Anthropology, Sociology']",
         "45"
        ],
        [
         "['Cond_Diseases', 'Cond_Health Care', 'Cond_Phenomena, Processes', 'Cond_Therapeutic, Diagnostic, Equipment']",
         "2"
        ],
        [
         "['Cond_Diseases', 'Cond_Health Care', 'Cond_Psychiatry, Psychology, Anthropology, Sociology', 'Cond_Therapeutic, Diagnostic, Equipment']",
         "2"
        ]
       ],
       "shape": {
        "columns": 1,
        "rows": 16
       }
      },
      "text/plain": [
       "Conditions_List\n",
       "[Cond_Diseases]                                                                                                                              122320\n",
       "[Cond_Other]                                                                                                                                  17565\n",
       "[Cond_Diseases, Cond_Psychiatry, Psychology, Anthropology, Sociology]                                                                         11003\n",
       "[Cond_Psychiatry, Psychology, Anthropology, Sociology]                                                                                         9798\n",
       "[Cond_Diseases, Cond_Phenomena, Processes, Cond_Psychiatry, Psychology, Anthropology, Sociology]                                               8731\n",
       "[Cond_Diseases, Cond_Phenomena, Processes, Cond_Therapeutic, Diagnostic, Equipment]                                                            4264\n",
       "[Cond_Diseases, Cond_Phenomena, Processes]                                                                                                     2790\n",
       "[Cond_Diseases, Cond_Health Care]                                                                                                               374\n",
       "[Cond_Diseases, Cond_Phenomena, Processes, Cond_Psychiatry, Psychology, Anthropology, Sociology, Cond_Therapeutic, Diagnostic, Equipment]       282\n",
       "[Cond_Diseases, Cond_Health Care, Cond_Phenomena, Processes]                                                                                    130\n",
       "[Cond_Diseases, Cond_Therapeutic, Diagnostic, Equipment]                                                                                        120\n",
       "[Cond_Diseases, Cond_Psychiatry, Psychology, Anthropology, Sociology, Cond_Therapeutic, Diagnostic, Equipment]                                  106\n",
       "[Cond_Diseases, Cond_Health Care, Cond_Psychiatry, Psychology, Anthropology, Sociology]                                                          54\n",
       "[Cond_Diseases, Cond_Health Care, Cond_Phenomena, Processes, Cond_Psychiatry, Psychology, Anthropology, Sociology]                               45\n",
       "[Cond_Diseases, Cond_Health Care, Cond_Phenomena, Processes, Cond_Therapeutic, Diagnostic, Equipment]                                             2\n",
       "[Cond_Diseases, Cond_Health Care, Cond_Psychiatry, Psychology, Anthropology, Sociology, Cond_Therapeutic, Diagnostic, Equipment]                  2\n",
       "Name: count, dtype: int64"
      ]
     },
     "metadata": {},
     "output_type": "display_data"
    },
    {
     "data": {
      "application/vnd.microsoft.datawrangler.viewer.v0+json": {
       "columns": [
        {
         "name": "Conditions_Spec_List",
         "rawType": "object",
         "type": "unknown"
        },
        {
         "name": "count",
         "rawType": "int64",
         "type": "integer"
        }
       ],
       "ref": "79e54816-e008-464d-b27e-bfb5695c6864",
       "rows": [
        [
         "['Cond_Spec_Other']",
         "17565"
        ],
        [
         "['Psychiatry, Psychology, Anthropology, Sociology']",
         "11351"
        ],
        [
         "['Cardiovascular']",
         "9007"
        ],
        [
         "['Musculoskeletal, Neural', 'Nervous System', 'Psychiatry, Psychology, Anthropology, Sociology']",
         "8537"
        ],
        [
         "['Digestive System, Nutritional, Metabolic']",
         "6775"
        ],
        [
         "['Urogenital, Pregnancy']",
         "6051"
        ],
        [
         "['Pathological Conditions, Signs, Symptoms']",
         "6036"
        ],
        [
         "['Neoplasms', 'Skin, Tissue']",
         "5204"
        ],
        [
         "['Neoplasms']",
         "4337"
        ],
        [
         "['Digestive System, Nutritional, Metabolic', 'Neoplasms']",
         "3786"
        ],
        [
         "['Digestive System, Nutritional, Metabolic', 'Endocrine System']",
         "3723"
        ],
        [
         "['Nervous System']",
         "3596"
        ],
        [
         "['Bacterial Infections and Mycoses', 'Respiratory, Circulatory', 'Virus Diseases']",
         "3527"
        ],
        [
         "['Nervous System', 'Psychiatry, Psychology, Anthropology, Sociology']",
         "3520"
        ],
        [
         "['Digestive System, Nutritional, Metabolic', 'Therapeutics, Diagnosis, Equipment']",
         "3176"
        ],
        [
         "['Eye']",
         "3085"
        ],
        [
         "['Hemic, Lymphatic, Immune System', 'Neoplasms']",
         "3063"
        ],
        [
         "['Chemical Disorders', 'Psychiatry, Psychology, Anthropology, Sociology']",
         "3030"
        ],
        [
         "['Respiratory, Circulatory']",
         "3012"
        ],
        [
         "['Wounds, Injuries']",
         "2880"
        ],
        [
         "['Bacterial Infections and Mycoses']",
         "2860"
        ],
        [
         "['Neoplasms', 'Urogenital, Pregnancy']",
         "2760"
        ],
        [
         "['Skin, Tissue']",
         "2592"
        ],
        [
         "['Cardiovascular', 'Nervous System']",
         "2587"
        ],
        [
         "['Stomatognathic']",
         "2458"
        ],
        [
         "['Musculoskeletal, Neural', 'Skin, Tissue']",
         "2354"
        ],
        [
         "['Neoplasms', 'Respiratory, Circulatory']",
         "2160"
        ],
        [
         "['Hemic, Lymphatic, Immune System']",
         "1499"
        ],
        [
         "['Nervous System', 'Wounds, Injuries']",
         "1338"
        ],
        [
         "['Digestive System, Nutritional, Metabolic', 'Endocrine System', 'Hemic, Lymphatic, Immune System']",
         "1284"
        ],
        [
         "['Hemic, Lymphatic, Immune System', 'Respiratory, Circulatory']",
         "1262"
        ],
        [
         "['Bacterial Infections and Mycoses', 'Hemic, Lymphatic, Immune System', 'Urogenital, Pregnancy', 'Virus Diseases']",
         "1197"
        ],
        [
         "['Bacterial Infections and Mycoses', 'Digestive System, Nutritional, Metabolic', 'Virus Diseases']",
         "1121"
        ],
        [
         "['Musculoskeletal, Neural']",
         "1106"
        ],
        [
         "['Hemic, Lymphatic, Immune System', 'Nervous System']",
         "906"
        ],
        [
         "['Cardiovascular', 'Hemic, Lymphatic, Immune System', 'Neoplasms']",
         "894"
        ],
        [
         "['Bacterial Infections and Mycoses', 'Respiratory, Circulatory']",
         "850"
        ],
        [
         "['Nervous System', 'Psychiatry, Psychology, Anthropology, Sociology', 'Respiratory, Circulatory']",
         "836"
        ],
        [
         "['Hemic, Lymphatic, Immune System', 'Musculoskeletal, Neural', 'Skin, Tissue']",
         "818"
        ],
        [
         "['Psychiatry, Psychology, Anthropology, Sociology', 'Urogenital, Pregnancy']",
         "781"
        ],
        [
         "['Virus Diseases']",
         "712"
        ],
        [
         "['Digestive System, Nutritional, Metabolic', 'Endocrine System', 'Neoplasms']",
         "711"
        ],
        [
         "['Endocrine System', 'Neoplasms', 'Urogenital, Pregnancy']",
         "675"
        ],
        [
         "['Musculoskeletal, Neural', 'Nervous System']",
         "674"
        ],
        [
         "['Nervous System', 'Otorhinolaryngologic']",
         "647"
        ],
        [
         "['Therapeutics, Diagnosis, Equipment']",
         "644"
        ],
        [
         "['Hemic, Lymphatic, Immune System', 'Hereditary, Neonatal, Abnormalities']",
         "607"
        ],
        [
         "['Cardiovascular', 'Respiratory, Circulatory']",
         "570"
        ],
        [
         "['Hemic, Lymphatic, Immune System', 'Hereditary, Neonatal, Abnormalities', 'Skin, Tissue']",
         "563"
        ],
        [
         "['Digestive System, Nutritional, Metabolic', 'Hereditary, Neonatal, Abnormalities', 'Respiratory, Circulatory']",
         "499"
        ]
       ],
       "shape": {
        "columns": 1,
        "rows": 1957
       }
      },
      "text/plain": [
       "Conditions_Spec_List\n",
       "[Cond_Spec_Other]                                                                                                                           17565\n",
       "[Psychiatry, Psychology, Anthropology, Sociology]                                                                                           11351\n",
       "[Cardiovascular]                                                                                                                             9007\n",
       "[Musculoskeletal, Neural, Nervous System, Psychiatry, Psychology, Anthropology, Sociology]                                                   8537\n",
       "[Digestive System, Nutritional, Metabolic]                                                                                                   6775\n",
       "                                                                                                                                            ...  \n",
       "[Endocrine System, Hemic, Lymphatic, Immune System, Hereditary, Neonatal, Abnormalities, Urogenital, Pregnancy]                                 1\n",
       "[Eye, Hereditary, Neonatal, Abnormalities, Psychiatry, Psychology, Anthropology, Sociology]                                                     1\n",
       "[Cardiovascular, Eye, Hereditary, Neonatal, Abnormalities, Musculoskeletal, Neural, Skin, Tissue, Stomatognathic]                               1\n",
       "[Cardiovascular, Chemical Disorders, Health Care, Hemic, Lymphatic, Immune System, Musculoskeletal, Neural, Neoplasms, Wounds, Injuries]        1\n",
       "[Neoplasms, Respiratory, Circulatory, Skin, Tissue, Virus Diseases]                                                                             1\n",
       "Name: count, Length: 1957, dtype: int64"
      ]
     },
     "metadata": {},
     "output_type": "display_data"
    }
   ],
   "source": [
    "# ===============================================================================================================================\n",
    "# Sort/Set\n",
    "df[\"Conditions_List\"] = df[\"Conditions_List\"].apply(lambda x: sorted(set(x)))\n",
    "df[\"Conditions_Spec_List\"] = df[\"Conditions_Spec_List\"].apply(lambda x: sorted(set(x)))\n",
    "\n",
    "# ===============================================================================================================================\n",
    "# Erase 'Phenomena, Processes' if len_list > 1. They are mostly phenomena due to Conditions. \n",
    "df['Conditions_List'] = df['Conditions_List'].apply(\n",
    "    lambda row: [elem for elem in row if elem != 'Cond_Phenomena, Processes'] if \n",
    "    ('Phenomena, Processes' in row and len(row) >= 2) else row)\n",
    "\n",
    "df['Conditions_Spec_List'] = df['Conditions_Spec_List'].apply(\n",
    "    lambda row: [elem for elem in row if elem != 'Phenomena, Processes'] if \n",
    "    ('Phenomena, Processes' in row and len(row) >= 2) else row)\n",
    "\n",
    "# Erase 'Pathological Conditions, Signs, Symptoms' if len_list > 1. They are mostly symptoms due to Conditions. \n",
    "df['Conditions_Spec_List'] = df['Conditions_Spec_List'].apply(\n",
    "    lambda row: [elem for elem in row if elem != 'Pathological Conditions, Signs, Symptoms'] if \n",
    "    ('Pathological Conditions, Signs, Symptoms' in row and len(row) >= 2) else row)\n",
    "\n",
    "# ===============================================================================================================================\n",
    "# Display\n",
    "display(df[\"Conditions_List\"].apply(lambda x: x == ['Cond_Other']).sum())\n",
    "display(df[\"Conditions_Spec_List\"].apply(lambda x: x == ['Cond_Spec_Other']).sum())\n",
    "\n",
    "display(df[\"Conditions_List\"].value_counts(dropna = False))\n",
    "display(df[\"Conditions_Spec_List\"].value_counts(dropna = False))"
   ]
  },
  {
   "cell_type": "markdown",
   "metadata": {},
   "source": [
    "## Adverse"
   ]
  },
  {
   "cell_type": "markdown",
   "metadata": {},
   "source": [
    "### Adverse_List"
   ]
  },
  {
   "cell_type": "code",
   "execution_count": 435,
   "metadata": {},
   "outputs": [
    {
     "data": {
      "application/vnd.microsoft.datawrangler.viewer.v0+json": {
       "columns": [
        {
         "name": "Adverse_List",
         "rawType": "object",
         "type": "unknown"
        },
        {
         "name": "count",
         "rawType": "int64",
         "type": "integer"
        }
       ],
       "ref": "e6c04051-ecee-4af2-ab3a-0c8184b86c2f",
       "rows": [
        [
         "['Adv_None']",
         "144050"
        ],
        [
         "['Adv_Death', 'Adv_Other', 'Adv_Serious']",
         "12233"
        ],
        [
         "['Adv_Other', 'Adv_Serious']",
         "6847"
        ],
        [
         "['Adv_Other']",
         "6822"
        ],
        [
         "['Adv_Death']",
         "3070"
        ],
        [
         "['Adv_Death', 'Adv_Other']",
         "2827"
        ],
        [
         "['Adv_Death', 'Adv_Serious']",
         "1038"
        ],
        [
         "['Adv_Serious']",
         "699"
        ]
       ],
       "shape": {
        "columns": 1,
        "rows": 8
       }
      },
      "text/plain": [
       "Adverse_List\n",
       "[Adv_None]                             144050\n",
       "[Adv_Death, Adv_Other, Adv_Serious]     12233\n",
       "[Adv_Other, Adv_Serious]                 6847\n",
       "[Adv_Other]                              6822\n",
       "[Adv_Death]                              3070\n",
       "[Adv_Death, Adv_Other]                   2827\n",
       "[Adv_Death, Adv_Serious]                 1038\n",
       "[Adv_Serious]                             699\n",
       "Name: count, dtype: int64"
      ]
     },
     "metadata": {},
     "output_type": "display_data"
    },
    {
     "data": {
      "text/plain": [
       "(177586, 55)"
      ]
     },
     "metadata": {},
     "output_type": "display_data"
    }
   ],
   "source": [
    "df = df.merge(my_adverse[[\"nct_id\", \"event_type\"]], on = \"nct_id\", how = \"left\")\n",
    "df = df.rename(columns={\"event_type\" : \"Adverse_List\"})\n",
    "df[\"Adverse_List\"] = df[\"Adverse_List\"].apply(lambda x: ['None'] if (isinstance(x, list) and len(x) == 0) else x) \n",
    "df[\"Adverse_List\"] = df[\"Adverse_List\"].replace('Other', 'Unspecified')\n",
    "df['Adverse_List'] = df['Adverse_List'].apply(lambda lst: ['Adv_' + elem for elem in lst])\n",
    "\n",
    "# if nan here means no adverse recorded!\n",
    "\n",
    "display(df[\"Adverse_List\"].value_counts(dropna=False))\n",
    "display(df.shape)"
   ]
  },
  {
   "cell_type": "markdown",
   "metadata": {},
   "source": [
    "#### NaNs (144k) --> Adve_None"
   ]
  },
  {
   "cell_type": "markdown",
   "metadata": {},
   "source": [
    "### Adverse_Counts\n",
    "- number of adverse noticed at the participants "
   ]
  },
  {
   "cell_type": "code",
   "execution_count": 436,
   "metadata": {},
   "outputs": [
    {
     "data": {
      "application/vnd.microsoft.datawrangler.viewer.v0+json": {
       "columns": [
        {
         "name": "Adverse_Counts",
         "rawType": "int32",
         "type": "integer"
        },
        {
         "name": "count",
         "rawType": "int64",
         "type": "integer"
        }
       ],
       "ref": "29e88b1e-15b4-4200-b8e2-a47bbb93d926",
       "rows": [
        [
         "0",
         "146459"
        ],
        [
         "1",
         "2494"
        ],
        [
         "3",
         "1401"
        ],
        [
         "2",
         "856"
        ],
        [
         "6",
         "855"
        ],
        [
         "4",
         "756"
        ],
        [
         "5",
         "724"
        ],
        [
         "7",
         "641"
        ],
        [
         "10",
         "618"
        ],
        [
         "8",
         "581"
        ],
        [
         "9",
         "544"
        ],
        [
         "13",
         "470"
        ],
        [
         "11",
         "470"
        ],
        [
         "12",
         "466"
        ],
        [
         "15",
         "455"
        ],
        [
         "14",
         "432"
        ],
        [
         "16",
         "399"
        ],
        [
         "17",
         "363"
        ],
        [
         "19",
         "355"
        ],
        [
         "21",
         "349"
        ],
        [
         "18",
         "348"
        ],
        [
         "20",
         "327"
        ],
        [
         "22",
         "324"
        ],
        [
         "23",
         "287"
        ],
        [
         "25",
         "283"
        ],
        [
         "24",
         "280"
        ],
        [
         "28",
         "277"
        ],
        [
         "27",
         "264"
        ],
        [
         "31",
         "246"
        ],
        [
         "26",
         "245"
        ],
        [
         "29",
         "237"
        ],
        [
         "30",
         "227"
        ],
        [
         "33",
         "214"
        ],
        [
         "32",
         "198"
        ],
        [
         "36",
         "198"
        ],
        [
         "35",
         "193"
        ],
        [
         "37",
         "192"
        ],
        [
         "34",
         "191"
        ],
        [
         "39",
         "182"
        ],
        [
         "42",
         "169"
        ],
        [
         "40",
         "169"
        ],
        [
         "41",
         "162"
        ],
        [
         "38",
         "158"
        ],
        [
         "44",
         "157"
        ],
        [
         "43",
         "153"
        ],
        [
         "48",
         "149"
        ],
        [
         "46",
         "140"
        ],
        [
         "50",
         "139"
        ],
        [
         "45",
         "136"
        ],
        [
         "55",
         "135"
        ]
       ],
       "shape": {
        "columns": 1,
        "rows": 1542
       }
      },
      "text/plain": [
       "Adverse_Counts\n",
       "0       146459\n",
       "1         2494\n",
       "3         1401\n",
       "2          856\n",
       "6          855\n",
       "         ...  \n",
       "846          1\n",
       "3960         1\n",
       "4298         1\n",
       "1301         1\n",
       "1144         1\n",
       "Name: count, Length: 1542, dtype: int64"
      ]
     },
     "metadata": {},
     "output_type": "display_data"
    }
   ],
   "source": [
    "df = df.merge(my_adverse[[\"nct_id\",\"event_sum\"]], on = \"nct_id\", how = \"left\")\n",
    "df = df.rename(columns={\"event_sum\" : \"Adverse_Counts\"}) \n",
    "df[\"Adverse_Counts\"] = df[\"Adverse_Counts\"].astype(int)\n",
    "display(df[\"Adverse_Counts\"].value_counts(dropna = False))\n"
   ]
  },
  {
   "cell_type": "markdown",
   "metadata": {},
   "source": [
    "#### NaNs (661)\n",
    "661 rows have Adverse_Counts == 0 however adverse_list == ['Adv_Death'] "
   ]
  },
  {
   "cell_type": "code",
   "execution_count": 437,
   "metadata": {},
   "outputs": [
    {
     "data": {
      "application/vnd.microsoft.datawrangler.viewer.v0+json": {
       "columns": [
        {
         "name": "index",
         "rawType": "int64",
         "type": "integer"
        },
        {
         "name": "Adverse_Counts",
         "rawType": "int32",
         "type": "integer"
        }
       ],
       "ref": "96afdd67-c41c-4ebe-a84c-eb1bb3a2ac99",
       "rows": [
        [
         "301",
         "13"
        ],
        [
         "857",
         "1"
        ],
        [
         "1377",
         "7"
        ],
        [
         "1605",
         "1"
        ],
        [
         "1826",
         "1"
        ],
        [
         "1938",
         "7"
        ],
        [
         "2133",
         "1"
        ],
        [
         "2204",
         "1"
        ],
        [
         "3010",
         "1"
        ],
        [
         "3123",
         "3"
        ],
        [
         "3248",
         "77"
        ],
        [
         "3269",
         "2"
        ],
        [
         "4356",
         "2"
        ],
        [
         "4614",
         "4"
        ],
        [
         "4631",
         "7"
        ],
        [
         "4681",
         "1"
        ],
        [
         "4722",
         "4"
        ],
        [
         "5269",
         "11"
        ],
        [
         "5281",
         "2"
        ],
        [
         "5303",
         "1"
        ],
        [
         "5467",
         "9"
        ],
        [
         "5838",
         "2"
        ],
        [
         "5969",
         "3"
        ],
        [
         "6117",
         "2"
        ],
        [
         "6318",
         "1"
        ],
        [
         "6532",
         "6"
        ],
        [
         "6974",
         "6"
        ],
        [
         "7397",
         "5"
        ],
        [
         "8574",
         "4"
        ],
        [
         "8608",
         "3"
        ],
        [
         "9204",
         "17"
        ],
        [
         "9566",
         "8"
        ],
        [
         "9806",
         "5"
        ],
        [
         "11118",
         "1"
        ],
        [
         "11243",
         "24"
        ],
        [
         "11656",
         "1"
        ],
        [
         "11825",
         "1"
        ],
        [
         "12038",
         "65"
        ],
        [
         "12133",
         "2"
        ],
        [
         "12915",
         "1"
        ],
        [
         "13046",
         "4"
        ],
        [
         "13095",
         "4"
        ],
        [
         "13224",
         "1"
        ],
        [
         "13467",
         "3"
        ],
        [
         "13501",
         "3"
        ],
        [
         "13537",
         "4"
        ],
        [
         "14095",
         "4"
        ],
        [
         "14505",
         "44"
        ],
        [
         "14530",
         "5"
        ],
        [
         "14688",
         "3"
        ]
       ],
       "shape": {
        "columns": 1,
        "rows": 661
       }
      },
      "text/plain": [
       "301         13\n",
       "857          1\n",
       "1377         7\n",
       "1605         1\n",
       "1826         1\n",
       "          ... \n",
       "176457      10\n",
       "176546       3\n",
       "176563       3\n",
       "176767       6\n",
       "176991    3559\n",
       "Name: Adverse_Counts, Length: 661, dtype: int32"
      ]
     },
     "execution_count": 437,
     "metadata": {},
     "output_type": "execute_result"
    }
   ],
   "source": [
    "df.loc[(df['Adverse_Counts'] != 0) & (df['Adverse_List'].apply(lambda x: x == ['Adv_Death'])), 'Adverse_Counts']"
   ]
  },
  {
   "cell_type": "markdown",
   "metadata": {},
   "source": [
    "### Adverse_Counts_Log\n"
   ]
  },
  {
   "cell_type": "code",
   "execution_count": 438,
   "metadata": {},
   "outputs": [
    {
     "data": {
      "application/vnd.microsoft.datawrangler.viewer.v0+json": {
       "columns": [
        {
         "name": "index",
         "rawType": "object",
         "type": "string"
        },
        {
         "name": "Adverse_Counts_Log",
         "rawType": "float64",
         "type": "float"
        }
       ],
       "ref": "18d393a9-9625-483d-8237-4ce47726081a",
       "rows": [
        [
         "count",
         "177586.0"
        ],
        [
         "mean",
         "0.5979273988820768"
        ],
        [
         "std",
         "1.4751139882399233"
        ],
        [
         "min",
         "0.0"
        ],
        [
         "25%",
         "0.0"
        ],
        [
         "50%",
         "0.0"
        ],
        [
         "75%",
         "0.0"
        ],
        [
         "max",
         "11.159758646073097"
        ]
       ],
       "shape": {
        "columns": 1,
        "rows": 8
       }
      },
      "text/plain": [
       "count    177586.000000\n",
       "mean          0.597927\n",
       "std           1.475114\n",
       "min           0.000000\n",
       "25%           0.000000\n",
       "50%           0.000000\n",
       "75%           0.000000\n",
       "max          11.159759\n",
       "Name: Adverse_Counts_Log, dtype: float64"
      ]
     },
     "metadata": {},
     "output_type": "display_data"
    }
   ],
   "source": [
    "df['Adverse_Counts_Log'] = np.log1p(df['Adverse_Counts'])\n",
    "display(df['Adverse_Counts_Log'].describe())"
   ]
  },
  {
   "cell_type": "markdown",
   "metadata": {},
   "source": [
    "### Adverse_Counts_Sqrt"
   ]
  },
  {
   "cell_type": "code",
   "execution_count": 439,
   "metadata": {},
   "outputs": [
    {
     "data": {
      "application/vnd.microsoft.datawrangler.viewer.v0+json": {
       "columns": [
        {
         "name": "index",
         "rawType": "object",
         "type": "string"
        },
        {
         "name": "Adverse_Counts_Sqrt",
         "rawType": "float64",
         "type": "float"
        }
       ],
       "ref": "abdf5e32-5b6b-4681-9496-86e279ee4c35",
       "rows": [
        [
         "count",
         "177586.0"
        ],
        [
         "mean",
         "1.3840751220803587"
        ],
        [
         "std",
         "4.834861055432509"
        ],
        [
         "min",
         "0.0"
        ],
        [
         "25%",
         "0.0"
        ],
        [
         "50%",
         "0.0"
        ],
        [
         "75%",
         "0.0"
        ],
        [
         "max",
         "265.03773316265745"
        ]
       ],
       "shape": {
        "columns": 1,
        "rows": 8
       }
      },
      "text/plain": [
       "count    177586.000000\n",
       "mean          1.384075\n",
       "std           4.834861\n",
       "min           0.000000\n",
       "25%           0.000000\n",
       "50%           0.000000\n",
       "75%           0.000000\n",
       "max         265.037733\n",
       "Name: Adverse_Counts_Sqrt, dtype: float64"
      ]
     },
     "metadata": {},
     "output_type": "display_data"
    }
   ],
   "source": [
    "df['Adverse_Counts_Sqrt'] = np.sqrt(df['Adverse_Counts'])\n",
    "display(df['Adverse_Counts_Sqrt'].describe())"
   ]
  },
  {
   "cell_type": "markdown",
   "metadata": {},
   "source": [
    "### Adverse_Bin"
   ]
  },
  {
   "cell_type": "code",
   "execution_count": 440,
   "metadata": {},
   "outputs": [],
   "source": [
    "df.loc[df[\"Adverse_Counts\"] == 0, \"Adverse_Bin\"] = 'No'\n",
    "df.loc[df[\"Adverse_Counts\"] >= 1, \"Adverse_Bin\"] = 'Yes'"
   ]
  },
  {
   "cell_type": "markdown",
   "metadata": {},
   "source": [
    "### Adverse_System_List"
   ]
  },
  {
   "cell_type": "code",
   "execution_count": 441,
   "metadata": {},
   "outputs": [
    {
     "data": {
      "application/vnd.microsoft.datawrangler.viewer.v0+json": {
       "columns": [
        {
         "name": "Adverse_System_List",
         "rawType": "object",
         "type": "unknown"
        },
        {
         "name": "count",
         "rawType": "int64",
         "type": "integer"
        }
       ],
       "ref": "495081e4-92f0-4a8f-a3a9-187c747e8fb3",
       "rows": [
        [
         null,
         "147041"
        ],
        [
         "['General']",
         "551"
        ],
        [
         "['Skin']",
         "485"
        ],
        [
         "['Gastrointestinal']",
         "452"
        ],
        [
         "['Nervous System']",
         "297"
        ],
        [
         "['Cardio']",
         "221"
        ],
        [
         "['Eye']",
         "221"
        ],
        [
         "['Respiratory']",
         "218"
        ],
        [
         "['Musculoskeletal']",
         "199"
        ],
        [
         "['Blood/ Lymphatic', 'Cardio', 'Ear', 'Endocrine', 'Eye', 'Gastrointestinal', 'General', 'Hepatobiliary', 'Immune System', 'Infections', 'Injury/ Poisoning/ Procedural', 'Investigations', 'Metabolism/ Nutrition', 'Musculoskeletal', 'Neoplasms', 'Nervous System', 'Psychiatric/ Social', 'Renal/ Urinary', 'Reproductive/ Breast', 'Respiratory', 'Skin', 'Vascular']",
         "187"
        ],
        [
         "['Infections']",
         "171"
        ],
        [
         "['Psychiatric/ Social']",
         "165"
        ],
        [
         "['Gastrointestinal', 'Nervous System']",
         "161"
        ],
        [
         "['Surgical/ Medical']",
         "153"
        ],
        [
         "['Injury/ Poisoning/ Procedural']",
         "135"
        ],
        [
         "['Gastrointestinal', 'General']",
         "131"
        ],
        [
         "['Blood/ Lymphatic', 'Cardio', 'Ear', 'Eye', 'Gastrointestinal', 'General', 'Hepatobiliary', 'Immune System', 'Infections', 'Injury/ Poisoning/ Procedural', 'Investigations', 'Metabolism/ Nutrition', 'Musculoskeletal', 'Neoplasms', 'Nervous System', 'Psychiatric/ Social', 'Renal/ Urinary', 'Reproductive/ Breast', 'Respiratory', 'Skin', 'Vascular']",
         "107"
        ],
        [
         "['Investigations']",
         "96"
        ],
        [
         "['Blood/ Lymphatic']",
         "87"
        ],
        [
         "['Blood/ Lymphatic', 'Cardio', 'Ear', 'Endocrine', 'Eye', 'Gastrointestinal', 'General', 'Hepatobiliary', 'Immune System', 'Infections', 'Injury/ Poisoning/ Procedural', 'Investigations', 'Metabolism/ Nutrition', 'Musculoskeletal', 'Neoplasms', 'Nervous System', 'Psychiatric/ Social', 'Renal/ Urinary', 'Reproductive/ Breast', 'Respiratory', 'Skin', 'Surgical/ Medical', 'Vascular']",
         "85"
        ],
        [
         "['Blood/ Lymphatic', 'Cardio', 'Ear', 'Endocrine', 'Eye', 'Gastrointestinal', 'General', 'Hepatobiliary', 'Infections', 'Injury/ Poisoning/ Procedural', 'Investigations', 'Metabolism/ Nutrition', 'Musculoskeletal', 'Neoplasms', 'Nervous System', 'Psychiatric/ Social', 'Renal/ Urinary', 'Reproductive/ Breast', 'Respiratory', 'Skin', 'Vascular']",
         "84"
        ],
        [
         "['Gastrointestinal', 'General', 'Nervous System']",
         "77"
        ],
        [
         "['Renal/ Urinary']",
         "77"
        ],
        [
         "['Pregnancy/ Perinatal']",
         "73"
        ],
        [
         "['Endocrine']",
         "71"
        ],
        [
         "['Blood/ Lymphatic', 'Cardio', 'Ear', 'Eye', 'Gastrointestinal', 'General', 'Hepatobiliary', 'Infections', 'Injury/ Poisoning/ Procedural', 'Investigations', 'Metabolism/ Nutrition', 'Musculoskeletal', 'Neoplasms', 'Nervous System', 'Psychiatric/ Social', 'Renal/ Urinary', 'Reproductive/ Breast', 'Respiratory', 'Skin', 'Vascular']",
         "66"
        ],
        [
         "['Vascular']",
         "63"
        ],
        [
         "['General', 'Nervous System']",
         "62"
        ],
        [
         "['Gastrointestinal', 'Infections']",
         "62"
        ],
        [
         "['Blood/ Lymphatic', 'Cardio', 'Ear', 'Endocrine', 'Eye', 'Gastrointestinal', 'General', 'Immune System', 'Infections', 'Injury/ Poisoning/ Procedural', 'Investigations', 'Metabolism/ Nutrition', 'Musculoskeletal', 'Neoplasms', 'Nervous System', 'Psychiatric/ Social', 'Renal/ Urinary', 'Reproductive/ Breast', 'Respiratory', 'Skin', 'Vascular']",
         "60"
        ],
        [
         "['Gastrointestinal', 'Skin']",
         "57"
        ],
        [
         "['General', 'Infections']",
         "56"
        ],
        [
         "['General', 'Skin']",
         "54"
        ],
        [
         "['Blood/ Lymphatic', 'Cardio', 'Eye', 'Gastrointestinal', 'General', 'Hepatobiliary', 'Infections', 'Injury/ Poisoning/ Procedural', 'Investigations', 'Metabolism/ Nutrition', 'Musculoskeletal', 'Neoplasms', 'Nervous System', 'Psychiatric/ Social', 'Renal/ Urinary', 'Respiratory', 'Skin', 'Vascular']",
         "54"
        ],
        [
         "['Blood/ Lymphatic', 'Cardio', 'Endocrine', 'Eye', 'Gastrointestinal', 'General', 'Hepatobiliary', 'Immune System', 'Infections', 'Injury/ Poisoning/ Procedural', 'Investigations', 'Metabolism/ Nutrition', 'Musculoskeletal', 'Neoplasms', 'Nervous System', 'Psychiatric/ Social', 'Renal/ Urinary', 'Reproductive/ Breast', 'Respiratory', 'Skin', 'Vascular']",
         "50"
        ],
        [
         "['Reproductive/ Breast']",
         "49"
        ],
        [
         "['Product Issues']",
         "49"
        ],
        [
         "['Nervous System', 'Skin']",
         "47"
        ],
        [
         "['Blood/ Lymphatic', 'Cardio', 'Ear', 'Endocrine', 'Eye', 'Gastrointestinal', 'General', 'Hepatobiliary', 'Immune System', 'Infections', 'Injury/ Poisoning/ Procedural', 'Investigations', 'Metabolism/ Nutrition', 'Musculoskeletal', 'Neoplasms', 'Nervous System', 'Product Issues', 'Psychiatric/ Social', 'Renal/ Urinary', 'Reproductive/ Breast', 'Respiratory', 'Skin', 'Vascular']",
         "47"
        ],
        [
         "['Blood/ Lymphatic', 'Cardio', 'Ear', 'Endocrine', 'Eye', 'Gastrointestinal', 'General', 'Hepatobiliary', 'Immune System', 'Infections', 'Injury/ Poisoning/ Procedural', 'Investigations', 'Metabolism/ Nutrition', 'Musculoskeletal', 'Neoplasms', 'Nervous System', 'Psychiatric/ Social', 'Renal/ Urinary', 'Respiratory', 'Skin', 'Vascular']",
         "46"
        ],
        [
         "['Blood/ Lymphatic', 'Cardio', 'Eye', 'Gastrointestinal', 'General', 'Hepatobiliary', 'Immune System', 'Infections', 'Injury/ Poisoning/ Procedural', 'Investigations', 'Metabolism/ Nutrition', 'Musculoskeletal', 'Neoplasms', 'Nervous System', 'Psychiatric/ Social', 'Renal/ Urinary', 'Reproductive/ Breast', 'Respiratory', 'Skin', 'Vascular']",
         "45"
        ],
        [
         "['Blood/ Lymphatic', 'Cardio', 'Ear', 'Eye', 'Gastrointestinal', 'General', 'Infections', 'Injury/ Poisoning/ Procedural', 'Investigations', 'Metabolism/ Nutrition', 'Musculoskeletal', 'Neoplasms', 'Nervous System', 'Psychiatric/ Social', 'Renal/ Urinary', 'Reproductive/ Breast', 'Respiratory', 'Skin', 'Vascular']",
         "45"
        ],
        [
         "['Blood/ Lymphatic', 'Cardio', 'Eye', 'Gastrointestinal', 'General', 'Hepatobiliary', 'Infections', 'Injury/ Poisoning/ Procedural', 'Investigations', 'Metabolism/ Nutrition', 'Musculoskeletal', 'Neoplasms', 'Nervous System', 'Psychiatric/ Social', 'Renal/ Urinary', 'Reproductive/ Breast', 'Respiratory', 'Skin', 'Vascular']",
         "44"
        ],
        [
         "['Blood/ Lymphatic', 'Cardio', 'Ear', 'Endocrine', 'Eye', 'Gastrointestinal', 'General', 'Genetic', 'Hepatobiliary', 'Immune System', 'Infections', 'Injury/ Poisoning/ Procedural', 'Investigations', 'Metabolism/ Nutrition', 'Musculoskeletal', 'Neoplasms', 'Nervous System', 'Psychiatric/ Social', 'Renal/ Urinary', 'Reproductive/ Breast', 'Respiratory', 'Skin', 'Surgical/ Medical', 'Vascular']",
         "44"
        ],
        [
         "['Infections', 'Nervous System']",
         "44"
        ],
        [
         "['Blood/ Lymphatic', 'Cardio', 'Ear', 'Endocrine', 'Eye', 'Gastrointestinal', 'General', 'Genetic', 'Hepatobiliary', 'Immune System', 'Infections', 'Injury/ Poisoning/ Procedural', 'Investigations', 'Metabolism/ Nutrition', 'Musculoskeletal', 'Neoplasms', 'Nervous System', 'Psychiatric/ Social', 'Renal/ Urinary', 'Reproductive/ Breast', 'Respiratory', 'Skin', 'Vascular']",
         "43"
        ],
        [
         "['Social']",
         "43"
        ],
        [
         "['Blood/ Lymphatic', 'Cardio', 'Ear', 'Endocrine', 'Eye', 'Gastrointestinal', 'General', 'Genetic', 'Hepatobiliary', 'Immune System', 'Infections', 'Injury/ Poisoning/ Procedural', 'Investigations', 'Metabolism/ Nutrition', 'Musculoskeletal', 'Neoplasms', 'Nervous System', 'Product Issues', 'Psychiatric/ Social', 'Renal/ Urinary', 'Reproductive/ Breast', 'Respiratory', 'Skin', 'Surgical/ Medical', 'Vascular']",
         "42"
        ],
        [
         "['General', 'Respiratory']",
         "41"
        ],
        [
         "['Blood/ Lymphatic', 'Cardio', 'Endocrine', 'Eye', 'Gastrointestinal', 'General', 'Hepatobiliary', 'Infections', 'Injury/ Poisoning/ Procedural', 'Investigations', 'Metabolism/ Nutrition', 'Musculoskeletal', 'Neoplasms', 'Nervous System', 'Psychiatric/ Social', 'Renal/ Urinary', 'Reproductive/ Breast', 'Respiratory', 'Skin', 'Vascular']",
         "40"
        ]
       ],
       "shape": {
        "columns": 1,
        "rows": 16193
       }
      },
      "text/plain": [
       "Adverse_System_List\n",
       "NaN                                                                                                                                                                                                                                                                                147041\n",
       "[General]                                                                                                                                                                                                                                                                             551\n",
       "[Skin]                                                                                                                                                                                                                                                                                485\n",
       "[Gastrointestinal]                                                                                                                                                                                                                                                                    452\n",
       "[Nervous System]                                                                                                                                                                                                                                                                      297\n",
       "                                                                                                                                                                                                                                                                                    ...  \n",
       "[Ear, Immune System, Musculoskeletal]                                                                                                                                                                                                                                                   1\n",
       "[Ear, Eye, Gastrointestinal, General, Infections, Injury/ Poisoning/ Procedural, Metabolism/ Nutrition, Musculoskeletal, Nervous System, Psychiatric/ Social, Reproductive/ Breast, Respiratory, Skin, Vascular]                                                                        1\n",
       "[Blood/ Lymphatic, Cardio, Ear, Endocrine, Gastrointestinal, General, Immune System, Infections, Injury/ Poisoning/ Procedural, Psychiatric/ Social, Surgical/ Medical]                                                                                                                 1\n",
       "[Blood/ Lymphatic, Cardio, Ear, Endocrine, Eye, Gastrointestinal, General, Hepatobiliary, Immune System, Infections, Injury/ Poisoning/ Procedural, Investigations, Metabolism/ Nutrition, Musculoskeletal, Neoplasms, Nervous System, Reproductive/ Breast, Respiratory, Skin]         1\n",
       "[Blood/ Lymphatic, Cardio, Gastrointestinal, General, Renal/ Urinary, Respiratory, Vascular]                                                                                                                                                                                            1\n",
       "Name: count, Length: 16193, dtype: int64"
      ]
     },
     "execution_count": 441,
     "metadata": {},
     "output_type": "execute_result"
    }
   ],
   "source": [
    "df = df.merge(my_adverse_system[[\"nct_id\", \"organ_system\"]], on = \"nct_id\", how = \"left\")\n",
    "df = df.rename(columns={\"organ_system\" : \"Adverse_System_List\"})\n",
    "df[\"Adverse_System_List\"].value_counts(dropna = False)"
   ]
  },
  {
   "cell_type": "markdown",
   "metadata": {},
   "source": [
    "#### NaNs (143k) --> ['Adve_Syst_None']"
   ]
  },
  {
   "cell_type": "code",
   "execution_count": 442,
   "metadata": {},
   "outputs": [
    {
     "data": {
      "application/vnd.microsoft.datawrangler.viewer.v0+json": {
       "columns": [
        {
         "name": "Adverse_System_List",
         "rawType": "object",
         "type": "string"
        },
        {
         "name": "count",
         "rawType": "int64",
         "type": "integer"
        }
       ],
       "ref": "62a22058-0a4c-4a55-b889-6c3a905dd692",
       "rows": [
        [
         "Adv_Sy_None",
         "143998"
        ],
        [
         "Adv_Sy_Gastrointestinal",
         "21793"
        ],
        [
         "Adv_Sy_Nervous System",
         "20325"
        ],
        [
         "Adv_Sy_General",
         "20257"
        ],
        [
         "Adv_Sy_Infections",
         "19280"
        ],
        [
         "Adv_Sy_Respiratory",
         "17454"
        ],
        [
         "Adv_Sy_Musculoskeletal",
         "16648"
        ],
        [
         "Adv_Sy_Skin",
         "15624"
        ],
        [
         "Adv_Sy_Injury/ Poisoning/ Procedural",
         "14151"
        ],
        [
         "Adv_Sy_Cardio",
         "13736"
        ],
        [
         "Adv_Sy_Investigations",
         "12859"
        ],
        [
         "Adv_Sy_Metabolism/ Nutrition",
         "12833"
        ],
        [
         "Adv_Sy_Vascular",
         "12596"
        ],
        [
         "Adv_Sy_Psychiatric/ Social",
         "12580"
        ],
        [
         "Adv_Sy_Renal/ Urinary",
         "11927"
        ],
        [
         "Adv_Sy_Blood/ Lymphatic",
         "11736"
        ],
        [
         "Adv_Sy_Eye",
         "9128"
        ],
        [
         "Adv_Sy_Neoplasms",
         "8350"
        ],
        [
         "Adv_Sy_Hepatobiliary",
         "7182"
        ],
        [
         "Adv_Sy_Reproductive/ Breast",
         "6820"
        ],
        [
         "Adv_Sy_Ear",
         "5926"
        ],
        [
         "Adv_Sy_Immune System",
         "5489"
        ],
        [
         "Adv_Sy_Endocrine",
         "4220"
        ],
        [
         "Adv_Sy_Surgical/ Medical",
         "3490"
        ],
        [
         "Adv_Sy_Death",
         "3043"
        ],
        [
         "Adv_Sy_Genetic",
         "1370"
        ],
        [
         "Adv_Sy_Product Issues",
         "1320"
        ],
        [
         "Adv_Sy_Pregnancy/ Perinatal",
         "1283"
        ],
        [
         "Adv_Sy_Social",
         "720"
        ]
       ],
       "shape": {
        "columns": 1,
        "rows": 29
       }
      },
      "text/plain": [
       "Adverse_System_List\n",
       "Adv_Sy_None                             143998\n",
       "Adv_Sy_Gastrointestinal                  21793\n",
       "Adv_Sy_Nervous System                    20325\n",
       "Adv_Sy_General                           20257\n",
       "Adv_Sy_Infections                        19280\n",
       "Adv_Sy_Respiratory                       17454\n",
       "Adv_Sy_Musculoskeletal                   16648\n",
       "Adv_Sy_Skin                              15624\n",
       "Adv_Sy_Injury/ Poisoning/ Procedural     14151\n",
       "Adv_Sy_Cardio                            13736\n",
       "Adv_Sy_Investigations                    12859\n",
       "Adv_Sy_Metabolism/ Nutrition             12833\n",
       "Adv_Sy_Vascular                          12596\n",
       "Adv_Sy_Psychiatric/ Social               12580\n",
       "Adv_Sy_Renal/ Urinary                    11927\n",
       "Adv_Sy_Blood/ Lymphatic                  11736\n",
       "Adv_Sy_Eye                                9128\n",
       "Adv_Sy_Neoplasms                          8350\n",
       "Adv_Sy_Hepatobiliary                      7182\n",
       "Adv_Sy_Reproductive/ Breast               6820\n",
       "Adv_Sy_Ear                                5926\n",
       "Adv_Sy_Immune System                      5489\n",
       "Adv_Sy_Endocrine                          4220\n",
       "Adv_Sy_Surgical/ Medical                  3490\n",
       "Adv_Sy_Death                              3043\n",
       "Adv_Sy_Genetic                            1370\n",
       "Adv_Sy_Product Issues                     1320\n",
       "Adv_Sy_Pregnancy/ Perinatal               1283\n",
       "Adv_Sy_Social                              720\n",
       "Name: count, dtype: int64"
      ]
     },
     "metadata": {},
     "output_type": "display_data"
    },
    {
     "data": {
      "text/plain": [
       "(177586, 60)"
      ]
     },
     "metadata": {},
     "output_type": "display_data"
    }
   ],
   "source": [
    "# Checked: Only None and Death at Adv_List col for nan in Adverse_System_List col\n",
    "cond1 = (df['Adverse_System_List'].isnull()) & (df['Adverse_List'].apply(lambda x: x == ['Adv_None'])) \n",
    "cond2 = (df['Adverse_System_List'].isnull()) & (df['Adverse_List'].apply(lambda x: x == ['Adv_Death']))\n",
    "\n",
    "df['Adverse_System_List'] = np.where(cond1, 'None', df['Adverse_System_List'])\n",
    "df['Adverse_System_List'] = np.where(cond2, 'Death', df['Adverse_System_List'])\n",
    "df['Adverse_System_List'] = df['Adverse_System_List'].apply(lambda x: [x] if isinstance(x, str) else x)\n",
    "\n",
    "df[\"Adverse_System_List\"] = df[\"Adverse_System_List\"].apply(lambda x: sorted(set(x)) if isinstance(x, str) else x)\n",
    "df['Adverse_System_List'] = df['Adverse_System_List'].apply(lambda lst: ['Adv_Sy_' + elem for elem in lst])\n",
    "\n",
    "display(df[\"Adverse_System_List\"].explode().value_counts(dropna=False))\n",
    "display(df.shape)"
   ]
  },
  {
   "cell_type": "markdown",
   "metadata": {},
   "source": [
    "### Adverse_System_Counts"
   ]
  },
  {
   "cell_type": "code",
   "execution_count": 443,
   "metadata": {},
   "outputs": [
    {
     "data": {
      "application/vnd.microsoft.datawrangler.viewer.v0+json": {
       "columns": [
        {
         "name": "Adverse_System_Counts",
         "rawType": "int64",
         "type": "integer"
        },
        {
         "name": "count",
         "rawType": "int64",
         "type": "integer"
        }
       ],
       "ref": "66b4ef57-afd5-4c9d-a5cb-759be377822d",
       "rows": [
        [
         "0",
         "143998"
        ],
        [
         "1",
         "7065"
        ],
        [
         "2",
         "2336"
        ],
        [
         "3",
         "1892"
        ],
        [
         "4",
         "1661"
        ],
        [
         "5",
         "1475"
        ],
        [
         "6",
         "1416"
        ],
        [
         "7",
         "1319"
        ],
        [
         "8",
         "1303"
        ],
        [
         "9",
         "1239"
        ],
        [
         "12",
         "1165"
        ],
        [
         "10",
         "1164"
        ],
        [
         "11",
         "1151"
        ],
        [
         "17",
         "1099"
        ],
        [
         "14",
         "1074"
        ],
        [
         "13",
         "1074"
        ],
        [
         "18",
         "1059"
        ],
        [
         "16",
         "1032"
        ],
        [
         "15",
         "1027"
        ],
        [
         "19",
         "1021"
        ],
        [
         "20",
         "919"
        ],
        [
         "21",
         "784"
        ],
        [
         "22",
         "583"
        ],
        [
         "23",
         "362"
        ],
        [
         "24",
         "205"
        ],
        [
         "25",
         "107"
        ],
        [
         "26",
         "39"
        ],
        [
         "27",
         "17"
        ]
       ],
       "shape": {
        "columns": 1,
        "rows": 28
       }
      },
      "text/plain": [
       "Adverse_System_Counts\n",
       "0     143998\n",
       "1       7065\n",
       "2       2336\n",
       "3       1892\n",
       "4       1661\n",
       "5       1475\n",
       "6       1416\n",
       "7       1319\n",
       "8       1303\n",
       "9       1239\n",
       "12      1165\n",
       "10      1164\n",
       "11      1151\n",
       "17      1099\n",
       "14      1074\n",
       "13      1074\n",
       "18      1059\n",
       "16      1032\n",
       "15      1027\n",
       "19      1021\n",
       "20       919\n",
       "21       784\n",
       "22       583\n",
       "23       362\n",
       "24       205\n",
       "25       107\n",
       "26        39\n",
       "27        17\n",
       "Name: count, dtype: int64"
      ]
     },
     "metadata": {},
     "output_type": "display_data"
    }
   ],
   "source": [
    "df['Adverse_System_Counts'] = df['Adverse_System_List'].apply(lambda x: len(x) if isinstance(x, list) and x != ['Adv_Sy_None'] else 0)\n",
    "display(df['Adverse_System_Counts'].value_counts(dropna = False))"
   ]
  },
  {
   "cell_type": "markdown",
   "metadata": {},
   "source": [
    "### Adverse_System_Counts_Log\n"
   ]
  },
  {
   "cell_type": "code",
   "execution_count": 444,
   "metadata": {},
   "outputs": [
    {
     "data": {
      "application/vnd.microsoft.datawrangler.viewer.v0+json": {
       "columns": [
        {
         "name": "index",
         "rawType": "object",
         "type": "string"
        },
        {
         "name": "Adverse_System_Counts_Log",
         "rawType": "float64",
         "type": "float"
        }
       ],
       "ref": "766e4216-2e8b-4f6b-9e54-06ef83decab8",
       "rows": [
        [
         "count",
         "177586.0"
        ],
        [
         "mean",
         "0.36893003617992476"
        ],
        [
         "std",
         "0.8504321848780866"
        ],
        [
         "min",
         "0.0"
        ],
        [
         "25%",
         "0.0"
        ],
        [
         "50%",
         "0.0"
        ],
        [
         "75%",
         "0.0"
        ],
        [
         "max",
         "3.332204510175204"
        ]
       ],
       "shape": {
        "columns": 1,
        "rows": 8
       }
      },
      "text/plain": [
       "count    177586.000000\n",
       "mean          0.368930\n",
       "std           0.850432\n",
       "min           0.000000\n",
       "25%           0.000000\n",
       "50%           0.000000\n",
       "75%           0.000000\n",
       "max           3.332205\n",
       "Name: Adverse_System_Counts_Log, dtype: float64"
      ]
     },
     "execution_count": 444,
     "metadata": {},
     "output_type": "execute_result"
    }
   ],
   "source": [
    "df['Adverse_System_Counts_Log'] = np.log1p(df[\"Adverse_System_Counts\"]) \n",
    "df['Adverse_System_Counts_Log'].describe()"
   ]
  },
  {
   "cell_type": "markdown",
   "metadata": {},
   "source": [
    "### Adverse_System_Counts_Sqrt"
   ]
  },
  {
   "cell_type": "code",
   "execution_count": 445,
   "metadata": {},
   "outputs": [
    {
     "data": {
      "application/vnd.microsoft.datawrangler.viewer.v0+json": {
       "columns": [
        {
         "name": "index",
         "rawType": "object",
         "type": "string"
        },
        {
         "name": "Adverse_System_Counts_Sqrt",
         "rawType": "float64",
         "type": "float"
        }
       ],
       "ref": "80f62642-5ea1-4e2d-9155-c35c4627b5b8",
       "rows": [
        [
         "count",
         "177586.0"
        ],
        [
         "mean",
         "0.504720958926133"
        ],
        [
         "std",
         "1.1791211529804213"
        ],
        [
         "min",
         "0.0"
        ],
        [
         "25%",
         "0.0"
        ],
        [
         "50%",
         "0.0"
        ],
        [
         "75%",
         "0.0"
        ],
        [
         "max",
         "5.196152422706632"
        ]
       ],
       "shape": {
        "columns": 1,
        "rows": 8
       }
      },
      "text/plain": [
       "count    177586.000000\n",
       "mean          0.504721\n",
       "std           1.179121\n",
       "min           0.000000\n",
       "25%           0.000000\n",
       "50%           0.000000\n",
       "75%           0.000000\n",
       "max           5.196152\n",
       "Name: Adverse_System_Counts_Sqrt, dtype: float64"
      ]
     },
     "metadata": {},
     "output_type": "display_data"
    }
   ],
   "source": [
    "df['Adverse_System_Counts_Sqrt'] = np.sqrt(df['Adverse_System_Counts'])\n",
    "display(df['Adverse_System_Counts_Sqrt'].describe())"
   ]
  },
  {
   "cell_type": "markdown",
   "metadata": {},
   "source": [
    "## Study Design\n",
    "\n",
    "Source of Unique Values: \n",
    "https://clinicaltrials.gov/policy/protocol-definitions#study-design\n",
    "\n",
    "Split Study Design into 4 columns --> \n",
    "1. Allocation (Randomized-Non Randomized) --> N/A (not applicable): For a single-arm trial --> https://clinicaltrials.gov/policy/protocol-definitions#study-sponsor-collaborators\n",
    "2. Intervention_model (Single Grup, Crossover etc.)\n",
    "3. Masking  (Blindness, None, Double etc.)\n",
    "4. Primary purpose (Treatment, Screening etc.)\n"
   ]
  },
  {
   "cell_type": "markdown",
   "metadata": {},
   "source": [
    "### Allocation_Dum\n"
   ]
  },
  {
   "cell_type": "code",
   "execution_count": 446,
   "metadata": {},
   "outputs": [
    {
     "data": {
      "application/vnd.microsoft.datawrangler.viewer.v0+json": {
       "columns": [
        {
         "name": "Allocation_Dum",
         "rawType": "object",
         "type": "unknown"
        },
        {
         "name": "count",
         "rawType": "int64",
         "type": "integer"
        }
       ],
       "ref": "c3db23f9-0060-4184-9848-2306db39c920",
       "rows": [
        [
         "RANDOMIZED",
         "120394"
        ],
        [
         "NA",
         "40258"
        ],
        [
         "NON_RANDOMIZED",
         "16531"
        ],
        [
         null,
         "403"
        ]
       ],
       "shape": {
        "columns": 1,
        "rows": 4
       }
      },
      "text/plain": [
       "Allocation_Dum\n",
       "RANDOMIZED        120394\n",
       "NA                 40258\n",
       "NON_RANDOMIZED     16531\n",
       "None                 403\n",
       "Name: count, dtype: int64"
      ]
     },
     "metadata": {},
     "output_type": "display_data"
    },
    {
     "data": {
      "text/plain": [
       "(177586, 64)"
      ]
     },
     "metadata": {},
     "output_type": "display_data"
    }
   ],
   "source": [
    "df = df.merge(my_designs[[\"nct_id\", \"allocation\"]], on = \"nct_id\", how = \"left\")\n",
    "df = df.rename(columns = {\"allocation\" : \"Allocation_Dum\"})\n",
    "display(df[\"Allocation_Dum\"].value_counts(dropna=False))\n",
    "display(df.shape)"
   ]
  },
  {
   "cell_type": "code",
   "execution_count": 447,
   "metadata": {},
   "outputs": [
    {
     "data": {
      "application/vnd.microsoft.datawrangler.viewer.v0+json": {
       "columns": [
        {
         "name": "Allocation_Dum",
         "rawType": "object",
         "type": "unknown"
        },
        {
         "name": "count",
         "rawType": "int64",
         "type": "integer"
        }
       ],
       "ref": "9617edf1-7122-40d6-8b3d-b6f54b57514c",
       "rows": [
        [
         "RANDOMIZED",
         "120407"
        ],
        [
         "NOT_APPLICABLE",
         "40258"
        ],
        [
         "NON_RANDOMIZED",
         "16549"
        ],
        [
         null,
         "372"
        ]
       ],
       "shape": {
        "columns": 1,
        "rows": 4
       }
      },
      "text/plain": [
       "Allocation_Dum\n",
       "RANDOMIZED        120407\n",
       "NOT_APPLICABLE     40258\n",
       "NON_RANDOMIZED     16549\n",
       "None                 372\n",
       "Name: count, dtype: int64"
      ]
     },
     "metadata": {},
     "output_type": "display_data"
    },
    {
     "data": {
      "text/plain": [
       "(177586, 64)"
      ]
     },
     "metadata": {},
     "output_type": "display_data"
    }
   ],
   "source": [
    "# Allocation Fillna\n",
    "df.loc[(df[\"Allocation_Dum\"].isnull()) & (df[\"Brief Summary\"].str.contains(r\"(?i)\\snon.randomized\\s|open label\" , case = False , na = False) ) , \"Allocation_Dum\"] = \"NON_RANDOMIZED\"\n",
    "df.loc[(df[\"Allocation_Dum\"].isnull()) & (df[\"Brief Summary\"].str.contains(r\"(?i)\\srandomized\\s\")) & ~(df[\"Brief Summary\"].str.contains(r\"(?i)\\snon.randomized\\s\", case = False , na = False)) , \"Allocation_Dum\"] = \"RANDOMIZED\"\n",
    "\n",
    "df[\"Allocation_Dum\"] = df[\"Allocation_Dum\"].replace({\"NA\" : \"NOT_APPLICABLE\"})\n",
    "display(df[\"Allocation_Dum\"].value_counts(dropna=False))\n",
    "display(df.shape)"
   ]
  },
  {
   "cell_type": "markdown",
   "metadata": {},
   "source": [
    "#### NaNs (372) --> Drop"
   ]
  },
  {
   "cell_type": "markdown",
   "metadata": {},
   "source": [
    "### Intervention_Model_Dum"
   ]
  },
  {
   "cell_type": "code",
   "execution_count": 448,
   "metadata": {},
   "outputs": [
    {
     "data": {
      "application/vnd.microsoft.datawrangler.viewer.v0+json": {
       "columns": [
        {
         "name": "Intervention_Model_Dum",
         "rawType": "object",
         "type": "unknown"
        },
        {
         "name": "count",
         "rawType": "int64",
         "type": "integer"
        }
       ],
       "ref": "5ab93d18-fb0f-4d60-affc-6339ce623131",
       "rows": [
        [
         "PARALLEL",
         "107157"
        ],
        [
         "SINGLE_GROUP",
         "45310"
        ],
        [
         "CROSSOVER",
         "17496"
        ],
        [
         "SEQUENTIAL",
         "5076"
        ],
        [
         "FACTORIAL",
         "2338"
        ],
        [
         null,
         "209"
        ]
       ],
       "shape": {
        "columns": 1,
        "rows": 6
       }
      },
      "text/plain": [
       "Intervention_Model_Dum\n",
       "PARALLEL        107157\n",
       "SINGLE_GROUP     45310\n",
       "CROSSOVER        17496\n",
       "SEQUENTIAL        5076\n",
       "FACTORIAL         2338\n",
       "None               209\n",
       "Name: count, dtype: int64"
      ]
     },
     "metadata": {},
     "output_type": "display_data"
    },
    {
     "data": {
      "text/plain": [
       "(177586, 65)"
      ]
     },
     "metadata": {},
     "output_type": "display_data"
    }
   ],
   "source": [
    "df = df.merge(my_designs[[\"nct_id\", \"intervention_model\"]], on = \"nct_id\", how = \"left\")\n",
    "df = df.rename(columns={\"intervention_model\" : \"Intervention_Model_Dum\"})\n",
    "display(df[\"Intervention_Model_Dum\"].value_counts(dropna=False))\n",
    "display(df.shape)"
   ]
  },
  {
   "cell_type": "code",
   "execution_count": 449,
   "metadata": {},
   "outputs": [
    {
     "data": {
      "application/vnd.microsoft.datawrangler.viewer.v0+json": {
       "columns": [
        {
         "name": "Intervention_Model_Dum",
         "rawType": "object",
         "type": "unknown"
        },
        {
         "name": "count",
         "rawType": "int64",
         "type": "integer"
        }
       ],
       "ref": "081ffc45-aaf0-4c79-94b7-3c96ec974832",
       "rows": [
        [
         "PARALLEL",
         "107159"
        ],
        [
         "SINGLE_GROUP",
         "45310"
        ],
        [
         "CROSSOVER",
         "17498"
        ],
        [
         "SEQUENTIAL",
         "5082"
        ],
        [
         "FACTORIAL",
         "2338"
        ],
        [
         null,
         "199"
        ]
       ],
       "shape": {
        "columns": 1,
        "rows": 6
       }
      },
      "text/plain": [
       "Intervention_Model_Dum\n",
       "PARALLEL        107159\n",
       "SINGLE_GROUP     45310\n",
       "CROSSOVER        17498\n",
       "SEQUENTIAL        5082\n",
       "FACTORIAL         2338\n",
       "None               199\n",
       "Name: count, dtype: int64"
      ]
     },
     "metadata": {},
     "output_type": "display_data"
    },
    {
     "data": {
      "text/plain": [
       "(177586, 65)"
      ]
     },
     "metadata": {},
     "output_type": "display_data"
    }
   ],
   "source": [
    "# Fillna Intervention model\n",
    "# display(df.loc[df[\"Intervention_Model\"].isnull() & df[\"Brief Summary\"].str.contains(r\"(?i)PARALLEL|SINGLE GROUP|CROSSOVER|SEQUENTIAL|FACTORIAL\"), \"Brief Summary\"].values[0:2])\n",
    "\n",
    "df.loc[df[\"Intervention_Model_Dum\"].isnull() & df[\"Brief Summary\"].str.contains(r\"PARALLEL\", case = False), \"Intervention_Model_Dum\"] = \"PARALLEL\"\n",
    "df.loc[df[\"Intervention_Model_Dum\"].isnull() & df[\"Brief Summary\"].str.contains(r\"SINGLE GROUP\", case = False), \"Intervention_Model_Dum\"] = \"SINGLE_GROUP\"\n",
    "df.loc[df[\"Intervention_Model_Dum\"].isnull() & df[\"Brief Summary\"].str.contains(r\"CROSSOVER\", case = False), \"Intervention_Model_Dum\"] = \"CROSSOVER\"\n",
    "df.loc[df[\"Intervention_Model_Dum\"].isnull() & df[\"Brief Summary\"].str.contains(r\"SEQUENTIAL\", case = False), \"Intervention_Model_Dum\"] = \"SEQUENTIAL\"\n",
    "df.loc[df[\"Intervention_Model_Dum\"].isnull() & df[\"Brief Summary\"].str.contains(r\"FACTORIAL\", case = False), \"Intervention_Model_Dum\"] = \"FACTORIAL\"\n",
    "\n",
    "display(df[\"Intervention_Model_Dum\"].value_counts(dropna=False))\n",
    "display(df.shape)"
   ]
  },
  {
   "cell_type": "markdown",
   "metadata": {},
   "source": [
    "#### NaNs (199) --> Drop"
   ]
  },
  {
   "cell_type": "markdown",
   "metadata": {},
   "source": [
    "### Masking_Dum"
   ]
  },
  {
   "cell_type": "code",
   "execution_count": 450,
   "metadata": {},
   "outputs": [
    {
     "data": {
      "application/vnd.microsoft.datawrangler.viewer.v0+json": {
       "columns": [
        {
         "name": "Masking_Dum",
         "rawType": "object",
         "type": "unknown"
        },
        {
         "name": "count",
         "rawType": "int64",
         "type": "integer"
        }
       ],
       "ref": "e16cd876-c902-4a70-9912-9ec75c47c994",
       "rows": [
        [
         "MASK_NONE",
         "93879"
        ],
        [
         "SINGLE",
         "28519"
        ],
        [
         "DOUBLE",
         "24101"
        ],
        [
         "QUADRUPLE",
         "17726"
        ],
        [
         "TRIPLE",
         "13100"
        ],
        [
         null,
         "261"
        ]
       ],
       "shape": {
        "columns": 1,
        "rows": 6
       }
      },
      "text/plain": [
       "Masking_Dum\n",
       "MASK_NONE    93879\n",
       "SINGLE       28519\n",
       "DOUBLE       24101\n",
       "QUADRUPLE    17726\n",
       "TRIPLE       13100\n",
       "None           261\n",
       "Name: count, dtype: int64"
      ]
     },
     "metadata": {},
     "output_type": "display_data"
    },
    {
     "data": {
      "text/plain": [
       "(177586, 66)"
      ]
     },
     "metadata": {},
     "output_type": "display_data"
    }
   ],
   "source": [
    "df = df.merge(my_designs[[\"nct_id\", \"masking\"]], on = \"nct_id\", how = \"left\")\n",
    "df = df.rename(columns = {\"masking\" : \"Masking_Dum\"})\n",
    "df['Masking_Dum'] = df['Masking_Dum'].replace('NONE', 'MASK_NONE')\n",
    "display(df[\"Masking_Dum\"].value_counts(dropna=False))\n",
    "display(df.shape)"
   ]
  },
  {
   "cell_type": "code",
   "execution_count": 451,
   "metadata": {},
   "outputs": [
    {
     "data": {
      "application/vnd.microsoft.datawrangler.viewer.v0+json": {
       "columns": [
        {
         "name": "Masking_Dum",
         "rawType": "object",
         "type": "unknown"
        },
        {
         "name": "count",
         "rawType": "int64",
         "type": "integer"
        }
       ],
       "ref": "b770f66f-bf21-4145-b5e5-af7f2043e184",
       "rows": [
        [
         "MASK_NONE",
         "93890"
        ],
        [
         "SINGLE",
         "28519"
        ],
        [
         "DOUBLE",
         "24105"
        ],
        [
         "QUADRUPLE",
         "17726"
        ],
        [
         "TRIPLE",
         "13100"
        ],
        [
         null,
         "246"
        ]
       ],
       "shape": {
        "columns": 1,
        "rows": 6
       }
      },
      "text/plain": [
       "Masking_Dum\n",
       "MASK_NONE    93890\n",
       "SINGLE       28519\n",
       "DOUBLE       24105\n",
       "QUADRUPLE    17726\n",
       "TRIPLE       13100\n",
       "None           246\n",
       "Name: count, dtype: int64"
      ]
     },
     "metadata": {},
     "output_type": "display_data"
    },
    {
     "data": {
      "text/plain": [
       "(177586, 66)"
      ]
     },
     "metadata": {},
     "output_type": "display_data"
    }
   ],
   "source": [
    "# Fillna Masking \n",
    "df.loc[df[\"Masking_Dum\"].isnull() & df[\"Brief Summary\"].str.contains(r\"(?i)OPEN.LABEL\") , \"Masking_Dum\"] = \"MASK_NONE\"\n",
    "df.loc[df[\"Masking_Dum\"].isnull() & df[\"Brief Summary\"].str.contains(r\"(?i)SINGLE.BLIND\") , \"Masking_Dum\"] = \"SINGLE\"\n",
    "df.loc[df[\"Masking_Dum\"].isnull() & df[\"Brief Summary\"].str.contains(r\"(?i)DOUBLE.BLIND\") , \"Masking_Dum\"] = \"DOUBLE\"\n",
    "df.loc[df[\"Masking_Dum\"].isnull() & df[\"Brief Summary\"].str.contains(r\"(?i)TRIPLE.BLIND\") , \"Masking_Dum\"] = \"TRIPLE\"\n",
    "df.loc[df[\"Masking_Dum\"].isnull() & df[\"Brief Summary\"].str.contains(r\"(?i)QUADRUPLE.BLIND\") , \"Masking_Dum\"] = \"QUADRUPLE\"\n",
    "\n",
    "display(df[\"Masking_Dum\"].value_counts(dropna = False))\n",
    "display(df.shape)"
   ]
  },
  {
   "cell_type": "markdown",
   "metadata": {},
   "source": [
    "#### NaN (246) --> Drop"
   ]
  },
  {
   "cell_type": "markdown",
   "metadata": {},
   "source": [
    "### Masking_Detail_List"
   ]
  },
  {
   "cell_type": "code",
   "execution_count": 452,
   "metadata": {},
   "outputs": [],
   "source": [
    "df = df.merge(my_designs[[\"nct_id\", \"masking_detail\"]], on = \"nct_id\", how = \"left\")\n",
    "df = df.rename(columns = {\"masking_detail\" : \"Masking_Detail_List\"})"
   ]
  },
  {
   "cell_type": "code",
   "execution_count": 453,
   "metadata": {},
   "outputs": [
    {
     "data": {
      "application/vnd.microsoft.datawrangler.viewer.v0+json": {
       "columns": [
        {
         "name": "Masking_Detail_List",
         "rawType": "object",
         "type": "unknown"
        },
        {
         "name": "count",
         "rawType": "int64",
         "type": "integer"
        }
       ],
       "ref": "6affc143-4c7a-426d-b1db-ff29cec74795",
       "rows": [
        [
         "['MASK_DET_NONE']",
         "93890"
        ],
        [
         "['CARE_PROVIDER', 'PARTICIPANT', 'OUTCOMES_ASSESSOR', 'INVESTIGATOR']",
         "17726"
        ],
        [
         "['PARTICIPANT', 'INVESTIGATOR']",
         "13168"
        ],
        [
         "['OUTCOMES_ASSESSOR']",
         "12450"
        ],
        [
         "['PARTICIPANT']",
         "12017"
        ],
        [
         "['OUTCOMES_ASSESSOR', 'PARTICIPANT', 'INVESTIGATOR']",
         "5776"
        ],
        [
         "['PARTICIPANT', 'OUTCOMES_ASSESSOR']",
         "5618"
        ],
        [
         "['CARE_PROVIDER', 'PARTICIPANT', 'INVESTIGATOR']",
         "5238"
        ],
        [
         "['INVESTIGATOR']",
         "3378"
        ],
        [
         "['OUTCOMES_ASSESSOR', 'INVESTIGATOR']",
         "2609"
        ],
        [
         "['CARE_PROVIDER', 'PARTICIPANT']",
         "1866"
        ],
        [
         "['CARE_PROVIDER', 'PARTICIPANT', 'OUTCOMES_ASSESSOR']",
         "1591"
        ],
        [
         "['CARE_PROVIDER']",
         "639"
        ],
        [
         "['CARE_PROVIDER', 'OUTCOMES_ASSESSOR', 'INVESTIGATOR']",
         "495"
        ],
        [
         null,
         "452"
        ],
        [
         "['CARE_PROVIDER', 'OUTCOMES_ASSESSOR']",
         "439"
        ],
        [
         "['CARE_PROVIDER', 'INVESTIGATOR']",
         "234"
        ]
       ],
       "shape": {
        "columns": 1,
        "rows": 17
       }
      },
      "text/plain": [
       "Masking_Detail_List\n",
       "[MASK_DET_NONE]                                                  93890\n",
       "[CARE_PROVIDER, PARTICIPANT, OUTCOMES_ASSESSOR, INVESTIGATOR]    17726\n",
       "[PARTICIPANT, INVESTIGATOR]                                      13168\n",
       "[OUTCOMES_ASSESSOR]                                              12450\n",
       "[PARTICIPANT]                                                    12017\n",
       "[OUTCOMES_ASSESSOR, PARTICIPANT, INVESTIGATOR]                    5776\n",
       "[PARTICIPANT, OUTCOMES_ASSESSOR]                                  5618\n",
       "[CARE_PROVIDER, PARTICIPANT, INVESTIGATOR]                        5238\n",
       "[INVESTIGATOR]                                                    3378\n",
       "[OUTCOMES_ASSESSOR, INVESTIGATOR]                                 2609\n",
       "[CARE_PROVIDER, PARTICIPANT]                                      1866\n",
       "[CARE_PROVIDER, PARTICIPANT, OUTCOMES_ASSESSOR]                   1591\n",
       "[CARE_PROVIDER]                                                    639\n",
       "[CARE_PROVIDER, OUTCOMES_ASSESSOR, INVESTIGATOR]                   495\n",
       "NaN                                                                452\n",
       "[CARE_PROVIDER, OUTCOMES_ASSESSOR]                                 439\n",
       "[CARE_PROVIDER, INVESTIGATOR]                                      234\n",
       "Name: count, dtype: int64"
      ]
     },
     "metadata": {},
     "output_type": "display_data"
    },
    {
     "data": {
      "text/plain": [
       "(177586, 67)"
      ]
     },
     "metadata": {},
     "output_type": "display_data"
    }
   ],
   "source": [
    "# Fillna Masking_Detail\n",
    "df.loc[df[\"Masking_Detail_List\"].apply(lambda x: isinstance(x, list) and len(x) == 0)][\"Masking_Dum\"].value_counts(dropna=False)  # Masking = 'NONE' --> Masking_Details = ['NONE']\n",
    "df.loc[(df[\"Masking_Detail_List\"].apply(lambda x: isinstance(x, list) and len(x) == 0)) & (df[\"Masking_Dum\"] == \"MASK_NONE\"), \"Masking_Detail_List\"] = \"MASK_DET_NONE\"\n",
    "df[\"Masking_Detail_List\"] = df[\"Masking_Detail_List\"].apply(lambda x: [\"MASK_DET_NONE\"] if x == \"MASK_DET_NONE\" else x)\n",
    "df[\"Masking_Detail_List\"] = df[\"Masking_Detail_List\"].apply(lambda x: np.NaN if isinstance(x, list) and len(x) == 0 else x)\n",
    "\n",
    "display(df[\"Masking_Detail_List\"].value_counts(dropna=False))\n",
    "display(df.shape)"
   ]
  },
  {
   "cell_type": "markdown",
   "metadata": {},
   "source": [
    "#### NaN (452) --> Drop"
   ]
  },
  {
   "cell_type": "markdown",
   "metadata": {},
   "source": [
    "### Primary Purpose_Dum"
   ]
  },
  {
   "cell_type": "code",
   "execution_count": 454,
   "metadata": {},
   "outputs": [
    {
     "data": {
      "application/vnd.microsoft.datawrangler.viewer.v0+json": {
       "columns": [
        {
         "name": "Primary_Purpose_Dum",
         "rawType": "object",
         "type": "unknown"
        },
        {
         "name": "count",
         "rawType": "int64",
         "type": "integer"
        }
       ],
       "ref": "399ccc61-db47-4b48-a704-53f8f2fb82ea",
       "rows": [
        [
         "TREATMENT",
         "103582"
        ],
        [
         "PREVENTION",
         "19900"
        ],
        [
         "PRIM_PURP_OTHER",
         "13198"
        ],
        [
         "SUPPORTIVE_CARE",
         "11431"
        ],
        [
         "BASIC_SCIENCE",
         "11308"
        ],
        [
         "DIAGNOSTIC",
         "7819"
        ],
        [
         "HEALTH_SERVICES_RESEARCH",
         "5448"
        ],
        [
         null,
         "2352"
        ],
        [
         "SCREENING",
         "1760"
        ],
        [
         "DEVICE_FEASIBILITY",
         "788"
        ]
       ],
       "shape": {
        "columns": 1,
        "rows": 10
       }
      },
      "text/plain": [
       "Primary_Purpose_Dum\n",
       "TREATMENT                   103582\n",
       "PREVENTION                   19900\n",
       "PRIM_PURP_OTHER              13198\n",
       "SUPPORTIVE_CARE              11431\n",
       "BASIC_SCIENCE                11308\n",
       "DIAGNOSTIC                    7819\n",
       "HEALTH_SERVICES_RESEARCH      5448\n",
       "None                          2352\n",
       "SCREENING                     1760\n",
       "DEVICE_FEASIBILITY             788\n",
       "Name: count, dtype: int64"
      ]
     },
     "metadata": {},
     "output_type": "display_data"
    },
    {
     "data": {
      "text/plain": [
       "(177586, 68)"
      ]
     },
     "metadata": {},
     "output_type": "display_data"
    }
   ],
   "source": [
    "df = df.merge(my_designs[[\"nct_id\", \"primary_purpose\"]], on = \"nct_id\", how = \"left\")\n",
    "df = df.rename(columns={\"primary_purpose\" : \"Primary_Purpose_Dum\"})\n",
    "df[\"Primary_Purpose_Dum\"] = df[\"Primary_Purpose_Dum\"].replace({\"OTHER\" : \"PRIM_PURP_OTHER\"})\n",
    "display(df[\"Primary_Purpose_Dum\"].value_counts(dropna=False))\n",
    "display(df.shape)"
   ]
  },
  {
   "cell_type": "markdown",
   "metadata": {},
   "source": [
    "#### NaN (2k) --> Drop"
   ]
  },
  {
   "cell_type": "markdown",
   "metadata": {},
   "source": [
    "## Arm_Counts\n"
   ]
  },
  {
   "cell_type": "code",
   "execution_count": 455,
   "metadata": {},
   "outputs": [
    {
     "data": {
      "application/vnd.microsoft.datawrangler.viewer.v0+json": {
       "columns": [
        {
         "name": "Arm_Counts",
         "rawType": "float64",
         "type": "float"
        },
        {
         "name": "count",
         "rawType": "int64",
         "type": "integer"
        }
       ],
       "ref": "d45214e9-80ef-4d3c-b848-a0f7c0afbad5",
       "rows": [
        [
         "2.0",
         "98050"
        ],
        [
         "1.0",
         "40766"
        ],
        [
         "3.0",
         "20491"
        ],
        [
         "4.0",
         "9911"
        ],
        [
         "5.0",
         "2529"
        ],
        [
         "6.0",
         "2254"
        ],
        [
         null,
         "910"
        ],
        [
         "8.0",
         "682"
        ],
        [
         "7.0",
         "635"
        ],
        [
         "9.0",
         "348"
        ],
        [
         "10.0",
         "269"
        ],
        [
         "12.0",
         "174"
        ],
        [
         "11.0",
         "127"
        ],
        [
         "13.0",
         "80"
        ],
        [
         "16.0",
         "77"
        ],
        [
         "14.0",
         "74"
        ],
        [
         "15.0",
         "50"
        ],
        [
         "18.0",
         "43"
        ],
        [
         "17.0",
         "21"
        ],
        [
         "20.0",
         "15"
        ],
        [
         "32.0",
         "13"
        ],
        [
         "19.0",
         "12"
        ],
        [
         "24.0",
         "11"
        ],
        [
         "22.0",
         "9"
        ],
        [
         "21.0",
         "7"
        ],
        [
         "23.0",
         "6"
        ],
        [
         "25.0",
         "4"
        ],
        [
         "27.0",
         "4"
        ],
        [
         "30.0",
         "3"
        ],
        [
         "26.0",
         "3"
        ],
        [
         "40.0",
         "1"
        ],
        [
         "37.0",
         "1"
        ],
        [
         "29.0",
         "1"
        ],
        [
         "43.0",
         "1"
        ],
        [
         "44.0",
         "1"
        ],
        [
         "31.0",
         "1"
        ],
        [
         "34.0",
         "1"
        ],
        [
         "28.0",
         "1"
        ]
       ],
       "shape": {
        "columns": 1,
        "rows": 38
       }
      },
      "text/plain": [
       "Arm_Counts\n",
       "2.0     98050\n",
       "1.0     40766\n",
       "3.0     20491\n",
       "4.0      9911\n",
       "5.0      2529\n",
       "6.0      2254\n",
       "NaN       910\n",
       "8.0       682\n",
       "7.0       635\n",
       "9.0       348\n",
       "10.0      269\n",
       "12.0      174\n",
       "11.0      127\n",
       "13.0       80\n",
       "16.0       77\n",
       "14.0       74\n",
       "15.0       50\n",
       "18.0       43\n",
       "17.0       21\n",
       "20.0       15\n",
       "32.0       13\n",
       "19.0       12\n",
       "24.0       11\n",
       "22.0        9\n",
       "21.0        7\n",
       "23.0        6\n",
       "25.0        4\n",
       "27.0        4\n",
       "30.0        3\n",
       "26.0        3\n",
       "40.0        1\n",
       "37.0        1\n",
       "29.0        1\n",
       "43.0        1\n",
       "44.0        1\n",
       "31.0        1\n",
       "34.0        1\n",
       "28.0        1\n",
       "Name: count, dtype: int64"
      ]
     },
     "metadata": {},
     "output_type": "display_data"
    },
    {
     "data": {
      "text/plain": [
       "(177586, 69)"
      ]
     },
     "metadata": {},
     "output_type": "display_data"
    }
   ],
   "source": [
    "df = df.merge(my_studies[[\"nct_id\", \"number_of_arms\"]], on = \"nct_id\", how = \"left\")\n",
    "df = df.rename(columns = {\"number_of_arms\" : \"Arm_Counts\"})\n",
    "display(df['Arm_Counts'].value_counts(dropna = False))\n",
    "display(df.shape)"
   ]
  },
  {
   "cell_type": "markdown",
   "metadata": {},
   "source": [
    "#### NaN (910) --> Drop"
   ]
  },
  {
   "cell_type": "code",
   "execution_count": 456,
   "metadata": {},
   "outputs": [],
   "source": [
    "# other lines will be dropped in Dummies file"
   ]
  },
  {
   "cell_type": "markdown",
   "metadata": {},
   "source": [
    "### Arm_Counts_Log"
   ]
  },
  {
   "cell_type": "code",
   "execution_count": 457,
   "metadata": {},
   "outputs": [
    {
     "data": {
      "application/vnd.microsoft.datawrangler.viewer.v0+json": {
       "columns": [
        {
         "name": "index",
         "rawType": "object",
         "type": "string"
        },
        {
         "name": "Arm_Counts_Log",
         "rawType": "float64",
         "type": "float"
        }
       ],
       "ref": "e48bec2c-7128-48fd-b59b-4ec6d279a9cc",
       "rows": [
        [
         "count",
         "176676.0"
        ],
        [
         "mean",
         "1.106773887196942"
        ],
        [
         "std",
         "0.32111823121423855"
        ],
        [
         "min",
         "0.6931471805599453"
        ],
        [
         "25%",
         "1.0986122886681098"
        ],
        [
         "50%",
         "1.0986122886681098"
        ],
        [
         "75%",
         "1.0986122886681098"
        ],
        [
         "max",
         "3.8066624897703196"
        ]
       ],
       "shape": {
        "columns": 1,
        "rows": 8
       }
      },
      "text/plain": [
       "count    176676.000000\n",
       "mean          1.106774\n",
       "std           0.321118\n",
       "min           0.693147\n",
       "25%           1.098612\n",
       "50%           1.098612\n",
       "75%           1.098612\n",
       "max           3.806662\n",
       "Name: Arm_Counts_Log, dtype: float64"
      ]
     },
     "execution_count": 457,
     "metadata": {},
     "output_type": "execute_result"
    }
   ],
   "source": [
    "df['Arm_Counts_Log'] = np.log1p(df[\"Arm_Counts\"]) \n",
    "df['Arm_Counts_Log'].describe()"
   ]
  },
  {
   "cell_type": "markdown",
   "metadata": {},
   "source": [
    "### Arm_Counts_Sqrt"
   ]
  },
  {
   "cell_type": "code",
   "execution_count": 458,
   "metadata": {},
   "outputs": [
    {
     "data": {
      "application/vnd.microsoft.datawrangler.viewer.v0+json": {
       "columns": [
        {
         "name": "index",
         "rawType": "object",
         "type": "string"
        },
        {
         "name": "Arm_Counts_Log",
         "rawType": "float64",
         "type": "float"
        }
       ],
       "ref": "631688dc-5e79-4298-8904-0a75bd831e38",
       "rows": [
        [
         "count",
         "176676.0"
        ],
        [
         "mean",
         "1.106773887196942"
        ],
        [
         "std",
         "0.32111823121423855"
        ],
        [
         "min",
         "0.6931471805599453"
        ],
        [
         "25%",
         "1.0986122886681098"
        ],
        [
         "50%",
         "1.0986122886681098"
        ],
        [
         "75%",
         "1.0986122886681098"
        ],
        [
         "max",
         "3.8066624897703196"
        ]
       ],
       "shape": {
        "columns": 1,
        "rows": 8
       }
      },
      "text/plain": [
       "count    176676.000000\n",
       "mean          1.106774\n",
       "std           0.321118\n",
       "min           0.693147\n",
       "25%           1.098612\n",
       "50%           1.098612\n",
       "75%           1.098612\n",
       "max           3.806662\n",
       "Name: Arm_Counts_Log, dtype: float64"
      ]
     },
     "execution_count": 458,
     "metadata": {},
     "output_type": "execute_result"
    }
   ],
   "source": [
    "df['Arm_Counts_Sqrt'] = np.sqrt(df[\"Arm_Counts\"]) \n",
    "df['Arm_Counts_Log'].describe()"
   ]
  },
  {
   "cell_type": "markdown",
   "metadata": {},
   "source": [
    "## Outcomes"
   ]
  },
  {
   "cell_type": "markdown",
   "metadata": {},
   "source": [
    "### Outcomes_List\n",
    "- Wont be used for analysis. \n",
    "- They are a result of Completion/Termination not a pre-Designed characteristic of a clinical trial.\n",
    "- Also did not give significant results when used in Vizual.file"
   ]
  },
  {
   "cell_type": "code",
   "execution_count": 459,
   "metadata": {},
   "outputs": [
    {
     "data": {
      "application/vnd.microsoft.datawrangler.viewer.v0+json": {
       "columns": [
        {
         "name": "Outcomes_List",
         "rawType": "object",
         "type": "unknown"
        },
        {
         "name": "count",
         "rawType": "int64",
         "type": "integer"
        }
       ],
       "ref": "7179a341-15c6-4736-bdc2-c21d03f03458",
       "rows": [
        [
         "[]",
         "135774"
        ],
        [
         "['PRIMARY', 'SECONDARY']",
         "29859"
        ],
        [
         "['PRIMARY']",
         "7551"
        ],
        [
         "['OTHER_PRE_SPECIFIED', 'PRIMARY', 'SECONDARY']",
         "3395"
        ],
        [
         "['OTHER_PRE_SPECIFIED', 'PRIMARY']",
         "464"
        ],
        [
         "['POST_HOC', 'PRIMARY', 'SECONDARY']",
         "381"
        ],
        [
         "['OTHER_PRE_SPECIFIED', 'POST_HOC', 'PRIMARY', 'SECONDARY']",
         "110"
        ],
        [
         "['POST_HOC', 'PRIMARY']",
         "42"
        ],
        [
         "['OTHER_PRE_SPECIFIED', 'POST_HOC', 'PRIMARY']",
         "10"
        ]
       ],
       "shape": {
        "columns": 1,
        "rows": 9
       }
      },
      "text/plain": [
       "Outcomes_List\n",
       "[]                                                     135774\n",
       "[PRIMARY, SECONDARY]                                    29859\n",
       "[PRIMARY]                                                7551\n",
       "[OTHER_PRE_SPECIFIED, PRIMARY, SECONDARY]                3395\n",
       "[OTHER_PRE_SPECIFIED, PRIMARY]                            464\n",
       "[POST_HOC, PRIMARY, SECONDARY]                            381\n",
       "[OTHER_PRE_SPECIFIED, POST_HOC, PRIMARY, SECONDARY]       110\n",
       "[POST_HOC, PRIMARY]                                        42\n",
       "[OTHER_PRE_SPECIFIED, POST_HOC, PRIMARY]                   10\n",
       "Name: count, dtype: int64"
      ]
     },
     "metadata": {},
     "output_type": "display_data"
    },
    {
     "data": {
      "application/vnd.microsoft.datawrangler.viewer.v0+json": {
       "columns": [
        {
         "name": "Outcomes_List",
         "rawType": "object",
         "type": "unknown"
        },
        {
         "name": "count",
         "rawType": "int64",
         "type": "integer"
        }
       ],
       "ref": "6b25209a-cce2-47fe-b666-30aa6535fbb5",
       "rows": [
        [
         "['OUTC_NONE']",
         "135774"
        ],
        [
         "['PRIMARY', 'SECONDARY']",
         "29859"
        ],
        [
         "['PRIMARY']",
         "7551"
        ],
        [
         "['OTHER_PRE_SPECIFIED', 'PRIMARY', 'SECONDARY']",
         "3395"
        ],
        [
         "['OTHER_PRE_SPECIFIED', 'PRIMARY']",
         "464"
        ],
        [
         "['POST_HOC', 'PRIMARY', 'SECONDARY']",
         "381"
        ],
        [
         "['OTHER_PRE_SPECIFIED', 'POST_HOC', 'PRIMARY', 'SECONDARY']",
         "110"
        ],
        [
         "['POST_HOC', 'PRIMARY']",
         "42"
        ],
        [
         "['OTHER_PRE_SPECIFIED', 'POST_HOC', 'PRIMARY']",
         "10"
        ]
       ],
       "shape": {
        "columns": 1,
        "rows": 9
       }
      },
      "text/plain": [
       "Outcomes_List\n",
       "[OUTC_NONE]                                            135774\n",
       "[PRIMARY, SECONDARY]                                    29859\n",
       "[PRIMARY]                                                7551\n",
       "[OTHER_PRE_SPECIFIED, PRIMARY, SECONDARY]                3395\n",
       "[OTHER_PRE_SPECIFIED, PRIMARY]                            464\n",
       "[POST_HOC, PRIMARY, SECONDARY]                            381\n",
       "[OTHER_PRE_SPECIFIED, POST_HOC, PRIMARY, SECONDARY]       110\n",
       "[POST_HOC, PRIMARY]                                        42\n",
       "[OTHER_PRE_SPECIFIED, POST_HOC, PRIMARY]                   10\n",
       "Name: count, dtype: int64"
      ]
     },
     "metadata": {},
     "output_type": "display_data"
    },
    {
     "data": {
      "text/plain": [
       "(177586, 72)"
      ]
     },
     "metadata": {},
     "output_type": "display_data"
    }
   ],
   "source": [
    "df = df.merge(my_outcomes[[\"nct_id\", \"outcome_type\"]], on = \"nct_id\", how = \"left\")\n",
    "df = df.rename(columns={\"outcome_type\" : \"Outcomes_List\"})\n",
    "display(df[\"Outcomes_List\"].value_counts(dropna=False))\n",
    "df[\"Outcomes_List\"] = df[\"Outcomes_List\"].apply(lambda x: ['OUTC_NONE'] if (isinstance(x, list) and len(x) == 0) else x)\n",
    "display(df[\"Outcomes_List\"].value_counts(dropna=False))\n",
    "display(df.shape)"
   ]
  },
  {
   "cell_type": "markdown",
   "metadata": {},
   "source": [
    "#### NaNs (135k) --> ['OUTC_NONE']"
   ]
  },
  {
   "cell_type": "markdown",
   "metadata": {},
   "source": [
    "### Outcomes_Counts"
   ]
  },
  {
   "cell_type": "code",
   "execution_count": 460,
   "metadata": {},
   "outputs": [
    {
     "data": {
      "application/vnd.microsoft.datawrangler.viewer.v0+json": {
       "columns": [
        {
         "name": "Outcomes_Counts",
         "rawType": "int64",
         "type": "integer"
        },
        {
         "name": "count",
         "rawType": "int64",
         "type": "integer"
        }
       ],
       "ref": "ec44f9aa-1683-4d58-8f70-40960f2bafd2",
       "rows": [
        [
         "0",
         "135774"
        ],
        [
         "2",
         "30365"
        ],
        [
         "1",
         "7551"
        ],
        [
         "3",
         "3786"
        ],
        [
         "4",
         "110"
        ]
       ],
       "shape": {
        "columns": 1,
        "rows": 5
       }
      },
      "text/plain": [
       "Outcomes_Counts\n",
       "0    135774\n",
       "2     30365\n",
       "1      7551\n",
       "3      3786\n",
       "4       110\n",
       "Name: count, dtype: int64"
      ]
     },
     "metadata": {},
     "output_type": "display_data"
    },
    {
     "data": {
      "text/plain": [
       "(177586, 73)"
      ]
     },
     "metadata": {},
     "output_type": "display_data"
    }
   ],
   "source": [
    "df[\"Outcomes_Counts\"] = df[\"Outcomes_List\"].apply(lambda x: len(x) if x != [\"OUTC_NONE\"] else 0)\n",
    "display(df[\"Outcomes_Counts\"].value_counts(dropna=False))\n",
    "display(df.shape)"
   ]
  },
  {
   "cell_type": "markdown",
   "metadata": {},
   "source": [
    "### Outcomes_Bin \n"
   ]
  },
  {
   "cell_type": "code",
   "execution_count": 461,
   "metadata": {},
   "outputs": [
    {
     "data": {
      "application/vnd.microsoft.datawrangler.viewer.v0+json": {
       "columns": [
        {
         "name": "Outcomes_Bin",
         "rawType": "object",
         "type": "string"
        },
        {
         "name": "count",
         "rawType": "int64",
         "type": "integer"
        }
       ],
       "ref": "8fcc6c06-a1ba-4575-8ecc-a6af78d0f278",
       "rows": [
        [
         "No",
         "135774"
        ],
        [
         "Yes",
         "41812"
        ]
       ],
       "shape": {
        "columns": 1,
        "rows": 2
       }
      },
      "text/plain": [
       "Outcomes_Bin\n",
       "No     135774\n",
       "Yes     41812\n",
       "Name: count, dtype: int64"
      ]
     },
     "metadata": {},
     "output_type": "display_data"
    }
   ],
   "source": [
    "df[\"Outcomes_Bin\"] = \"No\"\n",
    "df.loc[df[\"Outcomes_Counts\"] != 0, \"Outcomes_Bin\"] = \"Yes\"\n",
    "display(df[\"Outcomes_Bin\"].value_counts(dropna=False))"
   ]
  },
  {
   "cell_type": "markdown",
   "metadata": {},
   "source": [
    "## Locations"
   ]
  },
  {
   "cell_type": "code",
   "execution_count": 462,
   "metadata": {},
   "outputs": [
    {
     "data": {
      "application/vnd.microsoft.datawrangler.viewer.v0+json": {
       "columns": [
        {
         "name": "Countries_List",
         "rawType": "object",
         "type": "unknown"
        },
        {
         "name": "count",
         "rawType": "int64",
         "type": "integer"
        }
       ],
       "ref": "c1156beb-b5b3-4547-9307-5e1d558494b2",
       "rows": [
        [
         "['United States']",
         "60325"
        ],
        [
         "[]",
         "9621"
        ],
        [
         "['China']",
         "7874"
        ],
        [
         "['France']",
         "7174"
        ],
        [
         "['Turkey']",
         "6574"
        ],
        [
         "['Canada']",
         "6233"
        ],
        [
         "['United Kingdom']",
         "5543"
        ],
        [
         "['Egypt']",
         "5022"
        ],
        [
         "['Korea, Republic of']",
         "4305"
        ],
        [
         "['Germany']",
         "3905"
        ],
        [
         "['Spain']",
         "3857"
        ],
        [
         "['Italy']",
         "2765"
        ],
        [
         "['Denmark']",
         "2694"
        ],
        [
         "['Brazil']",
         "2561"
        ],
        [
         "['Belgium']",
         "2174"
        ],
        [
         "['Netherlands']",
         "2126"
        ],
        [
         "['Taiwan']",
         "2064"
        ],
        [
         "['Switzerland']",
         "1977"
        ],
        [
         "['Pakistan']",
         "1951"
        ],
        [
         "['Japan']",
         "1875"
        ],
        [
         "['Sweden']",
         "1592"
        ],
        [
         "['India']",
         "1275"
        ],
        [
         "['Israel']",
         "1189"
        ],
        [
         "['Australia']",
         "1154"
        ],
        [
         "['Norway']",
         "1021"
        ],
        [
         "['Canada', 'United States']",
         "991"
        ],
        [
         "['Thailand']",
         "776"
        ],
        [
         "['Hong Kong']",
         "771"
        ],
        [
         "['Mexico']",
         "713"
        ],
        [
         "['Russian Federation']",
         "703"
        ],
        [
         "['Austria']",
         "689"
        ],
        [
         "['Singapore']",
         "649"
        ],
        [
         "['Poland']",
         "618"
        ],
        [
         "['Finland']",
         "532"
        ],
        [
         "['Greece']",
         "526"
        ],
        [
         "['Indonesia']",
         "520"
        ],
        [
         "['Iran, Islamic Republic of']",
         "476"
        ],
        [
         "['Saudi Arabia']",
         "473"
        ],
        [
         "['Malaysia']",
         "397"
        ],
        [
         "['Portugal']",
         "374"
        ],
        [
         "['South Africa']",
         "364"
        ],
        [
         "['Ireland']",
         "325"
        ],
        [
         "['Vietnam']",
         "281"
        ],
        [
         "['Chile']",
         "277"
        ],
        [
         "['Puerto Rico', 'United States']",
         "263"
        ],
        [
         "['Czechia']",
         "250"
        ],
        [
         "['Colombia']",
         "245"
        ],
        [
         "['Kenya']",
         "231"
        ],
        [
         "['Bangladesh']",
         "229"
        ],
        [
         "['Uganda']",
         "226"
        ]
       ],
       "shape": {
        "columns": 1,
        "rows": 9784
       }
      },
      "text/plain": [
       "Countries_List\n",
       "[United States]                                                                                                                                                                                                  60325\n",
       "[]                                                                                                                                                                                                                9621\n",
       "[China]                                                                                                                                                                                                           7874\n",
       "[France]                                                                                                                                                                                                          7174\n",
       "[Turkey]                                                                                                                                                                                                          6574\n",
       "                                                                                                                                                                                                                 ...  \n",
       "[Argentina, Australia, Belgium, Brazil, Canada, Czechia, Denmark, Finland, France, Germany, Israel, Italy, Japan, Netherlands, Russian Federation, Spain, Sweden, Switzerland, United Kingdom, United States]        1\n",
       "[Australia, Austria, Belgium, Germany, Hungary, Russian Federation, Spain, United Kingdom, United States]                                                                                                            1\n",
       "[Bulgaria, Canada, Georgia, Germany, Poland, Ukraine, United States]                                                                                                                                                 1\n",
       "[Australia, Belgium, France, Germany, United States]                                                                                                                                                                 1\n",
       "[Australia, Canada, Denmark, France, Greece, Netherlands, Puerto Rico, Sweden, Switzerland, Turkey, United States]                                                                                                   1\n",
       "Name: count, Length: 9784, dtype: int64"
      ]
     },
     "execution_count": 462,
     "metadata": {},
     "output_type": "execute_result"
    }
   ],
   "source": [
    "df = df.merge(my_locations[[\"nct_id\", \"facilities_country\"]], on = \"nct_id\", how = \"left\")\n",
    "df = df.rename(columns = {\"facilities_country\": \"Countries_List\"})\n",
    "df['Countries_List'].value_counts(dropna = False)"
   ]
  },
  {
   "cell_type": "markdown",
   "metadata": {},
   "source": [
    "### Country_Counts"
   ]
  },
  {
   "cell_type": "code",
   "execution_count": 463,
   "metadata": {},
   "outputs": [
    {
     "data": {
      "application/vnd.microsoft.datawrangler.viewer.v0+json": {
       "columns": [
        {
         "name": "Country_Counts",
         "rawType": "int64",
         "type": "integer"
        },
        {
         "name": "count",
         "rawType": "int64",
         "type": "integer"
        }
       ],
       "ref": "9c3d17b7-3834-4ad9-984c-cc1636ac482d",
       "rows": [
        [
         "1",
         "152499"
        ],
        [
         "0",
         "9621"
        ],
        [
         "2",
         "4750"
        ],
        [
         "3",
         "1953"
        ],
        [
         "4",
         "1428"
        ],
        [
         "5",
         "1083"
        ],
        [
         "6",
         "905"
        ],
        [
         "7",
         "764"
        ],
        [
         "8",
         "644"
        ],
        [
         "9",
         "496"
        ],
        [
         "10",
         "468"
        ],
        [
         "11",
         "388"
        ],
        [
         "12",
         "321"
        ],
        [
         "13",
         "270"
        ],
        [
         "14",
         "249"
        ],
        [
         "15",
         "216"
        ],
        [
         "16",
         "191"
        ],
        [
         "18",
         "159"
        ],
        [
         "17",
         "154"
        ],
        [
         "19",
         "140"
        ],
        [
         "20",
         "104"
        ],
        [
         "21",
         "96"
        ],
        [
         "22",
         "89"
        ],
        [
         "23",
         "73"
        ],
        [
         "24",
         "68"
        ],
        [
         "26",
         "55"
        ],
        [
         "25",
         "55"
        ],
        [
         "28",
         "41"
        ],
        [
         "27",
         "40"
        ],
        [
         "29",
         "38"
        ],
        [
         "31",
         "37"
        ],
        [
         "30",
         "29"
        ],
        [
         "32",
         "24"
        ],
        [
         "33",
         "19"
        ],
        [
         "34",
         "18"
        ],
        [
         "37",
         "15"
        ],
        [
         "35",
         "13"
        ],
        [
         "42",
         "10"
        ],
        [
         "41",
         "9"
        ],
        [
         "36",
         "9"
        ],
        [
         "38",
         "7"
        ],
        [
         "49",
         "7"
        ],
        [
         "43",
         "7"
        ],
        [
         "40",
         "6"
        ],
        [
         "44",
         "5"
        ],
        [
         "45",
         "3"
        ],
        [
         "48",
         "3"
        ],
        [
         "39",
         "2"
        ],
        [
         "46",
         "2"
        ],
        [
         "51",
         "1"
        ]
       ],
       "shape": {
        "columns": 1,
        "rows": 52
       }
      },
      "text/plain": [
       "Country_Counts\n",
       "1     152499\n",
       "0       9621\n",
       "2       4750\n",
       "3       1953\n",
       "4       1428\n",
       "5       1083\n",
       "6        905\n",
       "7        764\n",
       "8        644\n",
       "9        496\n",
       "10       468\n",
       "11       388\n",
       "12       321\n",
       "13       270\n",
       "14       249\n",
       "15       216\n",
       "16       191\n",
       "18       159\n",
       "17       154\n",
       "19       140\n",
       "20       104\n",
       "21        96\n",
       "22        89\n",
       "23        73\n",
       "24        68\n",
       "26        55\n",
       "25        55\n",
       "28        41\n",
       "27        40\n",
       "29        38\n",
       "31        37\n",
       "30        29\n",
       "32        24\n",
       "33        19\n",
       "34        18\n",
       "37        15\n",
       "35        13\n",
       "42        10\n",
       "41         9\n",
       "36         9\n",
       "38         7\n",
       "49         7\n",
       "43         7\n",
       "40         6\n",
       "44         5\n",
       "45         3\n",
       "48         3\n",
       "39         2\n",
       "46         2\n",
       "51         1\n",
       "57         1\n",
       "59         1\n",
       "Name: count, dtype: int64"
      ]
     },
     "metadata": {},
     "output_type": "display_data"
    },
    {
     "data": {
      "text/plain": [
       "(177586, 76)"
      ]
     },
     "metadata": {},
     "output_type": "display_data"
    }
   ],
   "source": [
    "df = df.merge(my_locations[[\"nct_id\", \"Country_Counts\"]], on = \"nct_id\", how = \"left\")\n",
    "display(df[\"Country_Counts\"].value_counts(dropna=False))\n",
    "display(df.shape) "
   ]
  },
  {
   "cell_type": "markdown",
   "metadata": {},
   "source": [
    "#### NaNs (9K) --> 0"
   ]
  },
  {
   "cell_type": "markdown",
   "metadata": {},
   "source": [
    "### Continents_List\n"
   ]
  },
  {
   "cell_type": "code",
   "execution_count": 464,
   "metadata": {},
   "outputs": [],
   "source": [
    "Countries = pd.DataFrame(geonamescache.GeonamesCache().get_countries()).transpose().reset_index()\n",
    "Countries = Countries[[\"name\", \"continentcode\"]]\n",
    "Countries = Countries.replace({\"NA\": \"North America\", \"OC\": \"Oceania\", \"EU\": \"Europe\", \"AS\": \"Asia\", \"AF\": \"Africa\", \"SA\": \"South America\"})\n",
    "geo_dict = dict(zip( Countries['name'], Countries['continentcode']))"
   ]
  },
  {
   "cell_type": "code",
   "execution_count": 465,
   "metadata": {},
   "outputs": [
    {
     "data": {
      "application/vnd.microsoft.datawrangler.viewer.v0+json": {
       "columns": [
        {
         "name": "Continents_List",
         "rawType": "object",
         "type": "unknown"
        },
        {
         "name": "count",
         "rawType": "int64",
         "type": "integer"
        }
       ],
       "ref": "61640c9c-9c32-47be-ac55-d0d6fd0c7774",
       "rows": [
        [
         "['North America']",
         "68975"
        ],
        [
         "['Europe']",
         "42087"
        ],
        [
         "['Asia']",
         "28352"
        ],
        [
         "['Cont_None']",
         "15478"
        ],
        [
         "['Africa']",
         "7231"
        ],
        [
         "['South America']",
         "3431"
        ],
        [
         "['Europe', 'North America']",
         "3114"
        ],
        [
         "['Oceania']",
         "1446"
        ],
        [
         "['Asia', 'Europe', 'North America']",
         "1171"
        ],
        [
         "['Asia', 'Europe', 'North America', 'Oceania']",
         "777"
        ],
        [
         "['Europe', 'North America', 'Oceania']",
         "701"
        ],
        [
         "['Asia', 'Europe', 'North America', 'Oceania', 'South America']",
         "539"
        ],
        [
         "['Asia', 'Europe']",
         "489"
        ],
        [
         "['Asia', 'North America']",
         "445"
        ],
        [
         "['Asia', 'Europe', 'North America', 'South America']",
         "413"
        ],
        [
         "['North America', 'Oceania']",
         "359"
        ],
        [
         "['Africa', 'Asia', 'Europe', 'North America', 'Oceania', 'South America']",
         "318"
        ],
        [
         "['Europe', 'North America', 'South America']",
         "251"
        ],
        [
         "['Africa', 'Asia', 'Europe', 'North America', 'South America']",
         "237"
        ],
        [
         "['Europe', 'Oceania']",
         "208"
        ],
        [
         "['Africa', 'Asia', 'Europe', 'North America']",
         "133"
        ],
        [
         "['North America', 'South America']",
         "116"
        ],
        [
         "['Europe', 'North America', 'Oceania', 'South America']",
         "108"
        ],
        [
         "['Africa', 'North America']",
         "102"
        ],
        [
         "['Africa', 'Europe', 'North America']",
         "98"
        ],
        [
         "['Africa', 'Asia', 'Europe', 'North America', 'Oceania']",
         "96"
        ],
        [
         "['Africa', 'Asia']",
         "82"
        ],
        [
         "['Asia', 'North America', 'Oceania']",
         "80"
        ],
        [
         "['Asia', 'Oceania']",
         "80"
        ],
        [
         "['Asia', 'Europe', 'Oceania']",
         "74"
        ],
        [
         "['Africa', 'Europe']",
         "69"
        ],
        [
         "['Africa', 'Europe', 'North America', 'South America']",
         "69"
        ],
        [
         "['Europe', 'South America']",
         "55"
        ],
        [
         "['Africa', 'Asia', 'Europe']",
         "37"
        ],
        [
         "['Asia', 'North America', 'South America']",
         "34"
        ],
        [
         "['Asia', 'Europe', 'South America']",
         "34"
        ],
        [
         "['Africa', 'Europe', 'North America', 'Oceania', 'South America']",
         "33"
        ],
        [
         "['Africa', 'Asia', 'North America', 'South America']",
         "31"
        ],
        [
         "['Africa', 'Europe', 'North America', 'Oceania']",
         "27"
        ],
        [
         "['Africa', 'Asia', 'North America']",
         "27"
        ],
        [
         "['Africa', 'Asia', 'Europe', 'South America']",
         "23"
        ],
        [
         "['Asia', 'South America']",
         "21"
        ],
        [
         "['Africa', 'Asia', 'South America']",
         "14"
        ],
        [
         "['Africa', 'North America', 'South America']",
         "13"
        ],
        [
         "['Europe', 'Oceania', 'South America']",
         "12"
        ],
        [
         "['Africa', 'South America']",
         "12"
        ],
        [
         "['North America', 'Oceania', 'South America']",
         "11"
        ],
        [
         "['Asia', 'North America', 'Oceania', 'South America']",
         "10"
        ],
        [
         "['Africa', 'Europe', 'Oceania']",
         "8"
        ],
        [
         "['Asia', 'Europe', 'Oceania', 'South America']",
         "8"
        ]
       ],
       "shape": {
        "columns": 1,
        "rows": 62
       }
      },
      "text/plain": [
       "Continents_List\n",
       "[North America]                                    68975\n",
       "[Europe]                                           42087\n",
       "[Asia]                                             28352\n",
       "[Cont_None]                                        15478\n",
       "[Africa]                                            7231\n",
       "                                                   ...  \n",
       "[Africa, Asia, Oceania]                                3\n",
       "[Africa, Asia, Oceania, South America]                 3\n",
       "[Asia, Oceania, South America]                         2\n",
       "[Africa, North America, Oceania, South America]        2\n",
       "[]                                                     1\n",
       "Name: count, Length: 62, dtype: int64"
      ]
     },
     "metadata": {},
     "output_type": "display_data"
    },
    {
     "data": {
      "text/plain": [
       "(177586, 77)"
      ]
     },
     "metadata": {},
     "output_type": "display_data"
    }
   ],
   "source": [
    "df['Continents_List'] = df['Countries_List'].apply(lambda x: [geo_dict.get(item, \"None\") for item in x] if isinstance(x, list) else ['Cont_None'])\n",
    "df['Continents_List'] = df['Continents_List'].apply(lambda x: [\"Cont_None\"] if len(x) == 0 or x == ['None'] else x)\n",
    "df['Continents_List'] = df['Continents_List'].apply(lambda x: [i for i in x if i != 'None'] if isinstance(x, list) else x)\n",
    "                                                    \n",
    "df['Continents_List'] = df['Continents_List'].apply(lambda x: sorted(set(x)))\n",
    "\n",
    "display(df['Continents_List'].value_counts(dropna = False))\n",
    "display(df.shape)"
   ]
  },
  {
   "cell_type": "markdown",
   "metadata": {},
   "source": [
    "### Continent_Counts"
   ]
  },
  {
   "cell_type": "code",
   "execution_count": 466,
   "metadata": {},
   "outputs": [
    {
     "data": {
      "application/vnd.microsoft.datawrangler.viewer.v0+json": {
       "columns": [
        {
         "name": "Continent_Counts",
         "rawType": "int64",
         "type": "integer"
        },
        {
         "name": "count",
         "rawType": "int64",
         "type": "integer"
        }
       ],
       "ref": "7bb89940-0f5d-4929-a1be-b76190e4c35b",
       "rows": [
        [
         "1",
         "151522"
        ],
        [
         "0",
         "15479"
        ],
        [
         "2",
         "5162"
        ],
        [
         "3",
         "2581"
        ],
        [
         "4",
         "1610"
        ],
        [
         "5",
         "914"
        ],
        [
         "6",
         "318"
        ]
       ],
       "shape": {
        "columns": 1,
        "rows": 7
       }
      },
      "text/plain": [
       "Continent_Counts\n",
       "1    151522\n",
       "0     15479\n",
       "2      5162\n",
       "3      2581\n",
       "4      1610\n",
       "5       914\n",
       "6       318\n",
       "Name: count, dtype: int64"
      ]
     },
     "metadata": {},
     "output_type": "display_data"
    },
    {
     "data": {
      "text/plain": [
       "(177586, 78)"
      ]
     },
     "metadata": {},
     "output_type": "display_data"
    }
   ],
   "source": [
    "df[\"Continent_Counts\"] = df[\"Continents_List\"].apply(lambda x: len(x) if isinstance(x, list) and x != ['Cont_None'] else 0)\n",
    "display(df[\"Continent_Counts\"].value_counts(dropna = False))\n",
    "display(df.shape)"
   ]
  },
  {
   "cell_type": "markdown",
   "metadata": {},
   "source": [
    "####  NaNs (9K) --> 0"
   ]
  },
  {
   "cell_type": "markdown",
   "metadata": {},
   "source": [
    "### City_Counts"
   ]
  },
  {
   "cell_type": "code",
   "execution_count": 467,
   "metadata": {},
   "outputs": [
    {
     "data": {
      "application/vnd.microsoft.datawrangler.viewer.v0+json": {
       "columns": [
        {
         "name": "City_Counts",
         "rawType": "int64",
         "type": "integer"
        },
        {
         "name": "count",
         "rawType": "int64",
         "type": "integer"
        }
       ],
       "ref": "96f61b2a-a055-4dc9-847b-778a33593903",
       "rows": [
        [
         "1",
         "124904"
        ],
        [
         "0",
         "11520"
        ],
        [
         "2",
         "9011"
        ],
        [
         "3",
         "4379"
        ],
        [
         "4",
         "3085"
        ],
        [
         "5",
         "2307"
        ],
        [
         "6",
         "1862"
        ],
        [
         "7",
         "1560"
        ],
        [
         "8",
         "1307"
        ],
        [
         "10",
         "1133"
        ],
        [
         "9",
         "1092"
        ],
        [
         "11",
         "856"
        ],
        [
         "12",
         "790"
        ],
        [
         "13",
         "715"
        ],
        [
         "14",
         "641"
        ],
        [
         "15",
         "614"
        ],
        [
         "16",
         "526"
        ],
        [
         "17",
         "466"
        ],
        [
         "18",
         "430"
        ],
        [
         "20",
         "413"
        ],
        [
         "19",
         "376"
        ],
        [
         "22",
         "364"
        ],
        [
         "21",
         "360"
        ],
        [
         "23",
         "304"
        ],
        [
         "24",
         "279"
        ],
        [
         "25",
         "249"
        ],
        [
         "26",
         "247"
        ],
        [
         "28",
         "245"
        ],
        [
         "27",
         "242"
        ],
        [
         "30",
         "238"
        ],
        [
         "29",
         "225"
        ],
        [
         "31",
         "220"
        ],
        [
         "32",
         "185"
        ],
        [
         "36",
         "184"
        ],
        [
         "33",
         "180"
        ],
        [
         "35",
         "176"
        ],
        [
         "34",
         "170"
        ],
        [
         "38",
         "158"
        ],
        [
         "37",
         "140"
        ],
        [
         "41",
         "132"
        ],
        [
         "40",
         "131"
        ],
        [
         "43",
         "127"
        ],
        [
         "48",
         "118"
        ],
        [
         "47",
         "117"
        ],
        [
         "49",
         "115"
        ],
        [
         "44",
         "113"
        ],
        [
         "42",
         "110"
        ],
        [
         "39",
         "109"
        ],
        [
         "46",
         "101"
        ],
        [
         "45",
         "101"
        ]
       ],
       "shape": {
        "columns": 1,
        "rows": 398
       }
      },
      "text/plain": [
       "City_Counts\n",
       "1      124904\n",
       "0       11520\n",
       "2        9011\n",
       "3        4379\n",
       "4        3085\n",
       "        ...  \n",
       "313         1\n",
       "242         1\n",
       "306         1\n",
       "232         1\n",
       "342         1\n",
       "Name: count, Length: 398, dtype: int64"
      ]
     },
     "metadata": {},
     "output_type": "display_data"
    },
    {
     "data": {
      "text/plain": [
       "(177586, 79)"
      ]
     },
     "metadata": {},
     "output_type": "display_data"
    }
   ],
   "source": [
    "df = df.merge(my_locations[[ \"nct_id\",\"City_Counts\"]], on = \"nct_id\", how = \"left\") # Cities already sorted(set(x)) in df_locations --> correct counts\n",
    "display(df[\"City_Counts\"].value_counts(dropna=False))\n",
    "display(df.shape) "
   ]
  },
  {
   "cell_type": "markdown",
   "metadata": {},
   "source": [
    "#### NaNs (11k) --> 0"
   ]
  },
  {
   "cell_type": "markdown",
   "metadata": {},
   "source": [
    "## Enrollment\n"
   ]
  },
  {
   "cell_type": "markdown",
   "metadata": {},
   "source": [
    "### Enrollment_Counts"
   ]
  },
  {
   "cell_type": "code",
   "execution_count": 468,
   "metadata": {},
   "outputs": [
    {
     "data": {
      "application/vnd.microsoft.datawrangler.viewer.v0+json": {
       "columns": [
        {
         "name": "Enrollment_Counts",
         "rawType": "float64",
         "type": "float"
        },
        {
         "name": "count",
         "rawType": "int64",
         "type": "integer"
        }
       ],
       "ref": "e2753e6b-1eab-4e1e-b680-5d7a133f1c01",
       "rows": [
        [
         "0.0",
         "8396"
        ],
        [
         "60.0",
         "5056"
        ],
        [
         "30.0",
         "4996"
        ],
        [
         "20.0",
         "4781"
        ],
        [
         "40.0",
         "4606"
        ],
        [
         "50.0",
         "3199"
        ],
        [
         "10.0",
         "3167"
        ],
        [
         "24.0",
         "3116"
        ],
        [
         "12.0",
         "2829"
        ],
        [
         "100.0",
         "2516"
        ],
        [
         "15.0",
         "2201"
        ],
        [
         "80.0",
         "2142"
        ],
        [
         "16.0",
         "2127"
        ],
        [
         "32.0",
         "1985"
        ],
        [
         "18.0",
         "1916"
        ],
        [
         "36.0",
         "1891"
        ],
        [
         "6.0",
         "1765"
        ],
        [
         "25.0",
         "1728"
        ],
        [
         "14.0",
         "1630"
        ],
        [
         "120.0",
         "1614"
        ],
        [
         "8.0",
         "1612"
        ],
        [
         "48.0",
         "1597"
        ],
        [
         "22.0",
         "1585"
        ],
        [
         "28.0",
         "1571"
        ],
        [
         "21.0",
         "1471"
        ],
        [
         "26.0",
         "1426"
        ],
        [
         "5.0",
         "1410"
        ],
        [
         "90.0",
         "1409"
        ],
        [
         "70.0",
         "1390"
        ],
        [
         "34.0",
         "1375"
        ],
        [
         "9.0",
         "1337"
        ],
        [
         "42.0",
         "1333"
        ],
        [
         "45.0",
         "1309"
        ],
        [
         "11.0",
         "1276"
        ],
        [
         "13.0",
         "1275"
        ],
        [
         "1.0",
         "1267"
        ],
        [
         "2.0",
         "1226"
        ],
        [
         "3.0",
         "1223"
        ],
        [
         "44.0",
         "1202"
        ],
        [
         "19.0",
         "1193"
        ],
        [
         "23.0",
         "1192"
        ],
        [
         "4.0",
         "1185"
        ],
        [
         "17.0",
         "1174"
        ],
        [
         "31.0",
         "1140"
        ],
        [
         "7.0",
         "1136"
        ],
        [
         "38.0",
         "1109"
        ],
        [
         "35.0",
         "1107"
        ],
        [
         "33.0",
         "1069"
        ],
        [
         "27.0",
         "1052"
        ],
        [
         "52.0",
         "1048"
        ]
       ],
       "shape": {
        "columns": 1,
        "rows": 3907
       }
      },
      "text/plain": [
       "Enrollment_Counts\n",
       "0.0        8396\n",
       "60.0       5056\n",
       "30.0       4996\n",
       "20.0       4781\n",
       "40.0       4606\n",
       "           ... \n",
       "4485.0        1\n",
       "2164.0        1\n",
       "27395.0       1\n",
       "5219.0        1\n",
       "2367.0        1\n",
       "Name: count, Length: 3907, dtype: int64"
      ]
     },
     "metadata": {},
     "output_type": "display_data"
    },
    {
     "data": {
      "text/plain": [
       "54"
      ]
     },
     "metadata": {},
     "output_type": "display_data"
    },
    {
     "data": {
      "text/plain": [
       "(177586, 79)"
      ]
     },
     "metadata": {},
     "output_type": "display_data"
    }
   ],
   "source": [
    "df = df.rename(columns={\"Enrollment\": \"Enrollment_Counts\"})\n",
    "display(df[\"Enrollment_Counts\"].value_counts(dropna=False)) \n",
    "display(df[\"Enrollment_Counts\"].isnull().sum()) \n",
    "display(df.shape)"
   ]
  },
  {
   "cell_type": "markdown",
   "metadata": {},
   "source": [
    "#### NaNs (54) --> Drop\n",
    "- No values could be filled from my_terminations table. "
   ]
  },
  {
   "cell_type": "markdown",
   "metadata": {},
   "source": [
    "### Enrollment_Log\n"
   ]
  },
  {
   "cell_type": "code",
   "execution_count": 469,
   "metadata": {},
   "outputs": [
    {
     "data": {
      "application/vnd.microsoft.datawrangler.viewer.v0+json": {
       "columns": [
        {
         "name": "index",
         "rawType": "object",
         "type": "string"
        },
        {
         "name": "Enrollment_Counts_Log",
         "rawType": "float64",
         "type": "float"
        }
       ],
       "ref": "9a07a6f8-798a-438a-be67-3f18d372a1d9",
       "rows": [
        [
         "count",
         "177532.0"
        ],
        [
         "mean",
         "3.8928189138178744"
        ],
        [
         "std",
         "1.5878539006746468"
        ],
        [
         "min",
         "0.0"
        ],
        [
         "25%",
         "3.091042453358316"
        ],
        [
         "50%",
         "3.9318256327243257"
        ],
        [
         "75%",
         "4.74493212836325"
        ],
        [
         "max",
         "16.817285189648924"
        ]
       ],
       "shape": {
        "columns": 1,
        "rows": 8
       }
      },
      "text/plain": [
       "count    177532.000000\n",
       "mean          3.892819\n",
       "std           1.587854\n",
       "min           0.000000\n",
       "25%           3.091042\n",
       "50%           3.931826\n",
       "75%           4.744932\n",
       "max          16.817285\n",
       "Name: Enrollment_Counts_Log, dtype: float64"
      ]
     },
     "execution_count": 469,
     "metadata": {},
     "output_type": "execute_result"
    }
   ],
   "source": [
    "df['Enrollment_Counts_Log'] = np.log1p(df['Enrollment_Counts'])\n",
    "df['Enrollment_Counts_Log'].describe()  "
   ]
  },
  {
   "cell_type": "markdown",
   "metadata": {},
   "source": [
    "### Enrollment_Sqrt"
   ]
  },
  {
   "cell_type": "code",
   "execution_count": 470,
   "metadata": {},
   "outputs": [
    {
     "data": {
      "application/vnd.microsoft.datawrangler.viewer.v0+json": {
       "columns": [
        {
         "name": "index",
         "rawType": "object",
         "type": "string"
        },
        {
         "name": "Enrollment_Counts_Sqrt",
         "rawType": "float64",
         "type": "float"
        }
       ],
       "ref": "e7138fff-db05-43c3-8764-4c13d22d22ee",
       "rows": [
        [
         "count",
         "177532.0"
        ],
        [
         "mean",
         "9.995025695088552"
        ],
        [
         "std",
         "24.241113951234084"
        ],
        [
         "min",
         "0.0"
        ],
        [
         "25%",
         "4.58257569495584"
        ],
        [
         "50%",
         "7.0710678118654755"
        ],
        [
         "75%",
         "10.677078252031311"
        ],
        [
         "max",
         "4485.667397389156"
        ]
       ],
       "shape": {
        "columns": 1,
        "rows": 8
       }
      },
      "text/plain": [
       "count    177532.000000\n",
       "mean          9.995026\n",
       "std          24.241114\n",
       "min           0.000000\n",
       "25%           4.582576\n",
       "50%           7.071068\n",
       "75%          10.677078\n",
       "max        4485.667397\n",
       "Name: Enrollment_Counts_Sqrt, dtype: float64"
      ]
     },
     "metadata": {},
     "output_type": "display_data"
    }
   ],
   "source": [
    "df['Enrollment_Counts_Sqrt'] = np.sqrt(df['Enrollment_Counts'])\n",
    "display(df['Enrollment_Counts_Sqrt'].describe())"
   ]
  },
  {
   "cell_type": "markdown",
   "metadata": {},
   "source": [
    "## Phases\n",
    "\n",
    "- 5 phases and NA: \n",
    "1. Early Phase 1 --> formerly listed as Phase 0, \n",
    "2. Phase 1, \n",
    "3. Phase 2, \n",
    "4. Phase 3,  \n",
    "5. Phase 4. \n",
    "6. Not Applicable --> used to describe trials without FDA-defined phases, including trials of devices or behavioral interventions.\n",
    "\n"
   ]
  },
  {
   "cell_type": "markdown",
   "metadata": {},
   "source": [
    "### Phases"
   ]
  },
  {
   "cell_type": "code",
   "execution_count": 471,
   "metadata": {},
   "outputs": [
    {
     "data": {
      "application/vnd.microsoft.datawrangler.viewer.v0+json": {
       "columns": [
        {
         "name": "Phases",
         "rawType": "object",
         "type": "unknown"
        },
        {
         "name": "count",
         "rawType": "int64",
         "type": "integer"
        }
       ],
       "ref": "866ffa86-4fad-47a2-969a-ff39a3acab9d",
       "rows": [
        [
         "['NOT_APPLICABLE']",
         "97831"
        ],
        [
         "['PHASE1']",
         "21764"
        ],
        [
         "['PHASE2']",
         "20896"
        ],
        [
         "['PHASE3']",
         "13817"
        ],
        [
         "['PHASE4']",
         "13073"
        ],
        [
         "['PHASE1', 'PHASE2']",
         "5411"
        ],
        [
         "['PHASE2', 'PHASE3']",
         "2490"
        ],
        [
         "['PHASE0']",
         "2304"
        ]
       ],
       "shape": {
        "columns": 1,
        "rows": 8
       }
      },
      "text/plain": [
       "Phases\n",
       "[NOT_APPLICABLE]    97831\n",
       "[PHASE1]            21764\n",
       "[PHASE2]            20896\n",
       "[PHASE3]            13817\n",
       "[PHASE4]            13073\n",
       "[PHASE1, PHASE2]     5411\n",
       "[PHASE2, PHASE3]     2490\n",
       "[PHASE0]             2304\n",
       "Name: count, dtype: int64"
      ]
     },
     "metadata": {},
     "output_type": "display_data"
    },
    {
     "data": {
      "text/plain": [
       "(177586, 81)"
      ]
     },
     "metadata": {},
     "output_type": "display_data"
    }
   ],
   "source": [
    "# Same with db and csv\n",
    "df[\"Phases\"] = df[\"Phases\"].replace({np.NaN : \"NOT_APPLICABLE\", \"EARLY_PHASE1\" : \"PHASE0\"})  \n",
    "df[\"Phases\"] = df[\"Phases\"].str.split( \"|\" )  # No apply sort(list(x)) needed here - No duplicated elements with diff list-elem order\n",
    "\n",
    "display(df[\"Phases\"].value_counts(dropna=False))  \n",
    "display(df.shape)"
   ]
  },
  {
   "cell_type": "markdown",
   "metadata": {},
   "source": [
    "# 4) Dfs Split"
   ]
  },
  {
   "cell_type": "code",
   "execution_count": 472,
   "metadata": {},
   "outputs": [
    {
     "data": {
      "application/vnd.microsoft.datawrangler.viewer.v0+json": {
       "columns": [
        {
         "name": "index",
         "rawType": "int64",
         "type": "integer"
        },
        {
         "name": "nct_id",
         "rawType": "object",
         "type": "string"
        },
        {
         "name": "Study Title",
         "rawType": "object",
         "type": "string"
        },
        {
         "name": "Study URL",
         "rawType": "object",
         "type": "string"
        },
        {
         "name": "Acronym",
         "rawType": "object",
         "type": "unknown"
        },
        {
         "name": "Study Status",
         "rawType": "category",
         "type": "unknown"
        },
        {
         "name": "Brief Summary",
         "rawType": "object",
         "type": "string"
        },
        {
         "name": "Study Results",
         "rawType": "object",
         "type": "string"
        },
        {
         "name": "Conditions",
         "rawType": "object",
         "type": "string"
        },
        {
         "name": "Interventions",
         "rawType": "object",
         "type": "string"
        },
        {
         "name": "Primary Outcome Measures",
         "rawType": "object",
         "type": "string"
        },
        {
         "name": "Secondary Outcome Measures",
         "rawType": "object",
         "type": "string"
        },
        {
         "name": "Other Outcome Measures",
         "rawType": "object",
         "type": "unknown"
        },
        {
         "name": "Sponsor",
         "rawType": "object",
         "type": "string"
        },
        {
         "name": "Collaborators",
         "rawType": "object",
         "type": "unknown"
        },
        {
         "name": "Sex_Dum",
         "rawType": "object",
         "type": "string"
        },
        {
         "name": "Age_List",
         "rawType": "object",
         "type": "unknown"
        },
        {
         "name": "Phases",
         "rawType": "object",
         "type": "unknown"
        },
        {
         "name": "Enrollment_Counts",
         "rawType": "float64",
         "type": "float"
        },
        {
         "name": "Funder_Type_Dum",
         "rawType": "object",
         "type": "string"
        },
        {
         "name": "Study Type",
         "rawType": "object",
         "type": "string"
        },
        {
         "name": "Study Design",
         "rawType": "object",
         "type": "string"
        },
        {
         "name": "Other IDs",
         "rawType": "object",
         "type": "string"
        },
        {
         "name": "Start Date",
         "rawType": "period[M]",
         "type": "unknown"
        },
        {
         "name": "Primary Completion Date",
         "rawType": "object",
         "type": "string"
        },
        {
         "name": "Completion Date",
         "rawType": "period[M]",
         "type": "unknown"
        },
        {
         "name": "First Posted",
         "rawType": "object",
         "type": "string"
        },
        {
         "name": "Results First Posted",
         "rawType": "object",
         "type": "unknown"
        },
        {
         "name": "Last Update Posted",
         "rawType": "object",
         "type": "string"
        },
        {
         "name": "Locations",
         "rawType": "object",
         "type": "string"
        },
        {
         "name": "Study Documents",
         "rawType": "object",
         "type": "unknown"
        },
        {
         "name": "official_title",
         "rawType": "object",
         "type": "string"
        },
        {
         "name": "Sponsor_Type",
         "rawType": "object",
         "type": "unknown"
        },
        {
         "name": "Collaborator_Type",
         "rawType": "object",
         "type": "unknown"
        },
        {
         "name": "Sponsor_Collab_List",
         "rawType": "object",
         "type": "unknown"
        },
        {
         "name": "Study_Documents_List",
         "rawType": "object",
         "type": "unknown"
        },
        {
         "name": "Document_Counts",
         "rawType": "int64",
         "type": "integer"
        },
        {
         "name": "Document_Bin",
         "rawType": "object",
         "type": "string"
        },
        {
         "name": "Start_Date_Year_Counts",
         "rawType": "Int64",
         "type": "integer"
        },
        {
         "name": "Completion_Date_Year_Counts",
         "rawType": "Int64",
         "type": "integer"
        },
        {
         "name": "Completion_Gap_Counts",
         "rawType": "Int64",
         "type": "integer"
        },
        {
         "name": "Intervention_Type_List",
         "rawType": "object",
         "type": "unknown"
        },
        {
         "name": "Intervention_Type_Counts",
         "rawType": "int64",
         "type": "integer"
        },
        {
         "name": "Injection",
         "rawType": "object",
         "type": "unknown"
        },
        {
         "name": "Oral",
         "rawType": "object",
         "type": "unknown"
        },
        {
         "name": "Topical",
         "rawType": "object",
         "type": "unknown"
        },
        {
         "name": "Surgical",
         "rawType": "object",
         "type": "unknown"
        },
        {
         "name": "Intervention_Method_List",
         "rawType": "object",
         "type": "unknown"
        },
        {
         "name": "Intervention_Method_Counts",
         "rawType": "int64",
         "type": "integer"
        },
        {
         "name": "Placebo_Bin",
         "rawType": "object",
         "type": "string"
        },
        {
         "name": "Standard_Care_Bin",
         "rawType": "object",
         "type": "string"
        },
        {
         "name": "Healthy_Bin",
         "rawType": "object",
         "type": "string"
        },
        {
         "name": "Covid_19_Bin",
         "rawType": "object",
         "type": "string"
        },
        {
         "name": "Conditions_List",
         "rawType": "object",
         "type": "unknown"
        },
        {
         "name": "Conditions_Spec_List",
         "rawType": "object",
         "type": "unknown"
        },
        {
         "name": "Adverse_List",
         "rawType": "object",
         "type": "unknown"
        },
        {
         "name": "Adverse_Counts",
         "rawType": "int32",
         "type": "integer"
        },
        {
         "name": "Adverse_Counts_Log",
         "rawType": "float64",
         "type": "float"
        },
        {
         "name": "Adverse_Counts_Sqrt",
         "rawType": "float64",
         "type": "float"
        },
        {
         "name": "Adverse_Bin",
         "rawType": "object",
         "type": "string"
        },
        {
         "name": "Adverse_System_List",
         "rawType": "object",
         "type": "unknown"
        },
        {
         "name": "Adverse_System_Counts",
         "rawType": "int64",
         "type": "integer"
        },
        {
         "name": "Adverse_System_Counts_Log",
         "rawType": "float64",
         "type": "float"
        },
        {
         "name": "Adverse_System_Counts_Sqrt",
         "rawType": "float64",
         "type": "float"
        },
        {
         "name": "Allocation_Dum",
         "rawType": "object",
         "type": "string"
        },
        {
         "name": "Intervention_Model_Dum",
         "rawType": "object",
         "type": "string"
        },
        {
         "name": "Masking_Dum",
         "rawType": "object",
         "type": "string"
        },
        {
         "name": "Masking_Detail_List",
         "rawType": "object",
         "type": "unknown"
        },
        {
         "name": "Primary_Purpose_Dum",
         "rawType": "object",
         "type": "string"
        },
        {
         "name": "Arm_Counts",
         "rawType": "float64",
         "type": "float"
        },
        {
         "name": "Arm_Counts_Log",
         "rawType": "float64",
         "type": "float"
        },
        {
         "name": "Arm_Counts_Sqrt",
         "rawType": "float64",
         "type": "float"
        },
        {
         "name": "Outcomes_List",
         "rawType": "object",
         "type": "unknown"
        },
        {
         "name": "Outcomes_Counts",
         "rawType": "int64",
         "type": "integer"
        },
        {
         "name": "Outcomes_Bin",
         "rawType": "object",
         "type": "string"
        },
        {
         "name": "Countries_List",
         "rawType": "object",
         "type": "unknown"
        },
        {
         "name": "Country_Counts",
         "rawType": "int64",
         "type": "integer"
        },
        {
         "name": "Continents_List",
         "rawType": "object",
         "type": "unknown"
        },
        {
         "name": "Continent_Counts",
         "rawType": "int64",
         "type": "integer"
        },
        {
         "name": "City_Counts",
         "rawType": "int64",
         "type": "integer"
        },
        {
         "name": "Enrollment_Counts_Log",
         "rawType": "float64",
         "type": "float"
        },
        {
         "name": "Enrollment_Counts_Sqrt",
         "rawType": "float64",
         "type": "float"
        },
        {
         "name": "NOT_APPLICABLE",
         "rawType": "int32",
         "type": "integer"
        },
        {
         "name": "PHASE0",
         "rawType": "int32",
         "type": "integer"
        },
        {
         "name": "PHASE1",
         "rawType": "int32",
         "type": "integer"
        },
        {
         "name": "PHASE2",
         "rawType": "int32",
         "type": "integer"
        },
        {
         "name": "PHASE3",
         "rawType": "int32",
         "type": "integer"
        },
        {
         "name": "PHASE4",
         "rawType": "int32",
         "type": "integer"
        }
       ],
       "ref": "3bb8057e-58b4-4058-b8a9-95d22ed1e2ef",
       "rows": [
        [
         "0",
         "NCT04385680",
         "Chlorhexidine Vaginal Preparation for Reduction of Post-cesarean Endometritis and Sepsis",
         "https://clinicaltrials.gov/study/NCT04385680",
         null,
         "COMPLETED",
         "The study aims to assess the beneficial value of vaginal preparation with chlorhexidine gluconate 0.05% before cesarean delivery of cases in labor in reduction of postoperative endometritis, fever and wound complications compared to no preparation or using saline only.",
         "NO",
         "Postpartum Endometritis|Wound Infection|Chlorhexidine Adverse Reaction|Postoperative Fever",
         "DRUG: Chlorhexidine Gluconate vaginal solution 0.05%",
         "post-cesarean endometritis, uterine fundal tenderness on bimanual examination ( physical examination: suprapubic tenderness, pain elicited by cervical motion, tenderness in parametrium, all during bimanual examination) + with fever (An oral temperature of 38°C or higher within the first 10 days postpartum or 38.7°C within the first 24 hours postpartum) ± purulent lochia requiring antibiotic therapy ( initial antibiotic will be started then waiting for proper therapy according to culture and sensitivity, First 10 days post-cesarean|Postoperative wound infection, erythema, warmth, tenderness, purulent drainage from the incision site, with or without fever, requiring antibiotic therapy., First month after cesarean",
         "Significant leukocytosis, increase of WBCs count \\> 50% from preoperative count, First 10 days postcesarean|Chlorhexidine adverse drug reaction, maternal or neonatal allergy or irritation, First 10 days|incidence of hospital readmission, percent of cases needed readmission in both arms, One month|length of hospital stay, duration of hospitalization due to endometritis, One month",
         null,
         "Zagazig University",
         null,
         "FEMALE",
         "['ADULT', 'OLDER_ADULT']",
         "['PHASE1', 'PHASE2']",
         "840.0",
         "GOVERM",
         "INTERVENTIONAL",
         "Allocation: RANDOMIZED|Intervention Model: PARALLEL|Masking: SINGLE (PARTICIPANT)|Primary Purpose: PREVENTION",
         "chlorhex. post cs endometritis",
         "2020-05",
         "2022-03-10",
         "2022-08",
         "2020-05-13",
         null,
         "2022-09-23",
         "Armed Forces Hospitals Southern Region, Khamis Mushait, 62411, Saudi Arabia",
         null,
         "The Impact of Chlorhexidine Preoperative Vaginal Preparation in Reducing the Post-cesarean Endometritis and Sepsis for Cases in Labor. A Randomized Controlled Trial",
         "['University']",
         "[]",
         "['University']",
         "['Doc_None']",
         "0",
         "No",
         "2020",
         "2022",
         "27",
         "['DRUG']",
         "1",
         null,
         "Oral",
         "Topical",
         null,
         "['Oral', 'Topical']",
         "2",
         "No",
         "No",
         "No",
         "No",
         "['Cond_Diseases']",
         "['Bacterial Infections and Mycoses', 'Urogenital, Pregnancy']",
         "['Adv_None']",
         "0",
         "0.0",
         "0.0",
         "No",
         "['Adv_Sy_None']",
         "0",
         "0.0",
         "0.0",
         "RANDOMIZED",
         "PARALLEL",
         "SINGLE",
         "['PARTICIPANT']",
         "PREVENTION",
         "2.0",
         "1.0986122886681098",
         "1.4142135623730951",
         "['OUTC_NONE']",
         "0",
         "No",
         "['Saudi Arabia']",
         "1",
         "['Asia']",
         "1",
         "1",
         "6.734591659972948",
         "28.982753492378876",
         "0",
         "0",
         "1",
         "1",
         "0",
         "0"
        ],
        [
         "1",
         "NCT05017480",
         "A Study to Evaluate the Efficacy and Safety of CBP-201 in Moderate to Severe Atopic Dermatitis in China",
         "https://clinicaltrials.gov/study/NCT05017480",
         null,
         "COMPLETED",
         "This study will evaluate the efficacy and safety of CBP-201 in Chinese subjects with moderate to severe atopic dermatitis.",
         "YES",
         "Moderate-to-severe Atopic Dermatitis",
         "DRUG: CBP-201|DRUG: Placebo",
         "Investigator Global Assessment (IGA) (0-1), The percentage of subjects whose IGA score is 0-1 and decreased by ≥2 points\n\nThe Validated Investigator Global Assessment for AD (vIGA-AD™) Scale is a 5-point classification scale based on the overall appearance of the skin lesions at a specific time point (0=clear; 1=almost clear; 2=mild; 3=moderate; 4=severe)., Baseline to Week16",
         "Eczema Area and Severity Index (EASI)-75, The percentage of subjects achieving EASI-75 (EASI score is decreased by ≥75% from baseline)\n\nThe total EASI score ranges from 0 (lowest) to 72 (highest); the higher the score, the higher the severity of AD (more severe)., Baseline to Week16|Change in Peak Pruritus Numerical Rating Scale(PP-NRS) (Decreased by ≥ 4 Points), The percentage of subjects whose weekly average PP-NRS is decreased by ≥ 4 points\n\nThe score ranges from 0 to 10, in which 0 represents \"no pruritus\" and 10 \"worst imaginable pruritus\"., Baseline to Week16|Change in Peak Pruritus Numerical Rating Scale(PP-NRS) (Decreased by ≥ 3 Points), The percentage of subjects whose weekly average PP-NRS is decreased by ≥ 3 points\n\nThe score ranges from 0 to 10, in which 0 represents \"no pruritus\" and 10 \"worst imaginable pruritus\"., Baseline to Week16|Change in the Weekly Average Peak Pruritus Numerical Rating Scale(PP-NRS), Change in the weekly average PP-NRS\n\nThe score ranges from 0 to 10, in which 0 represents \"no pruritus\" and 10 \"worst imaginable pruritus\"., Baseline to Week16|Eczema Area and Severity Index (EASI)-90, The percentage of subjects achieving EASI-90 (EASI score is decreased by ≥90% from baseline)\n\nThe total EASI score ranges from 0 (lowest) to 72 (highest); the higher the score, the higher the severity of AD (more severe)., Baseline to Week16|Percentage Change in the Weekly Average Peak Pruritus Numerical Rating Scale(PP-NRS), Percentage change in the weekly average PP-NRS\n\nThe score ranges from 0 to 10, in which 0 represents \"no pruritus\" and 10 \"worst imaginable pruritus\"., Baseline to Week16",
         null,
         "Suzhou Connect Biopharmaceuticals, Ltd.",
         null,
         "ALL",
         "['CHILD', 'ADULT', 'OLDER_ADULT']",
         "['PHASE2']",
         "330.0",
         "INDUSTRY",
         "INTERVENTIONAL",
         "Allocation: RANDOMIZED|Intervention Model: PARALLEL|Masking: QUADRUPLE (PARTICIPANT, CARE_PROVIDER, INVESTIGATOR, OUTCOMES_ASSESSOR)|Primary Purpose: TREATMENT",
         "CBP-201-CN002",
         "2021-08",
         "2022-12-01",
         "2023-09",
         "2021-08-23",
         "2024-05-01",
         "2024-05-01",
         "Connect Investigative Site 33, Hefei, Anhui, China|Connect Investigative Site 01, Beijing, Beijing, China|Connect Investigative Site 02, Beijing, Beijing, China|Connect Investigative Site 03, Beijing, Beijing, China|Connect Investigative Site 17, Beijing, Beijing, China|Connect Investigative Site 47, Beijing, Beijing, China|Connect Investigative Site 28, Chongqing, Chongqing, China|Connect Investigative Site 29, Chongqing, Chongqing, China|Connect Investigative Site 30, Chongqing, Chongqing, China|Connect Investigative Site 36, Chongqing, Chongqing, China|Connect Investigative Site 38, Fuzhou, Fujian, China|Connect Investigative Site 07, Guangzhou, Guangdong, China|Connect Investigative Site 25, Guangzhou, Guangdong, China|Connect Investigative Site 37, Guangzhou, Guangdong, China|Connect Investigative Site 46, Guangzhou, Guangdong, China|Connect Investigative Site 48, Guangzhou, Guangdong, China|Connect Investigative Site 43, Shaoguan, Guangdong, China|Connect Investigative Site 52, Shenzhen, Guangdong, China|Connect Investigative Site 41, Haikou, Hainan, China|Connect Investigative Site 42, Haikou, Hainan, China|Connect Investigative Site 20, Zhengzhou, He'an, China|Connect Investigative Site 32, Shijiazhuang, Hebei, China|Connect Investigative Site 45, Nanyang, Henan, China|Connect Investigative Site 54, Xinxiang, Henan, China|Connect Investigative Site 49, Wuhan, Hubei, China|Connect Investigative Site 35, Baotou, Inner Mongolia, China|Connect Investigative Site 26, Nanjing, Jiangsu, China|Connect Investigative Site 18, Suzhou, Jiangsu, China|Connect Investigative Site 55, Wuxi, Jiangsu, China|Connect Investigative Site 10, Zhenjiang, Jiangsu, China|Connect Investigative Site 34, Nanchang, Jiangxi, China|Connect Investigative Site 44, Yinchuan, Ningxia, China|Connect Investigative Site 11, Jinan, Shandong, China|Connect Investigative Site 50, Jinan, Shandong, China|Connect Investigative Site 51, Jinan, Shandong, China|Connect Investigative Site 12, Yantai, Shandong, China|Connect Investigative Site 08, Taiyuan, Shanxi, China|Connect Investigative Site 24, Taiyuan, Shanxi, China|Connect Investigative Site 39, Yuncheng, Shanxi, China|Connect Investigative Site 05, Tianjin, Tianjin, China|Connect Investigative Site 06, Tianjin, Tianjin, China|Connect Investigative Site 13, Shanxi, Xi'an, China|Connect Investigative Site 22, Ürümqi, Xinjiang, China|Connect Investigative Site 53, Qujing, Yunnan, China|Connect Investigative Site 14, Hangzhou, Zhejiang, China|Connect Investigative Site 15, Hangzhou, Zhejiang, China|Connect Investigative Site 16, Hangzhou, Zhejiang, China|Connect Investigative Site 19, Jinhua, Zhejiang, China",
         "Study Protocol, https://cdn.clinicaltrials.gov/large-docs/80/NCT05017480/Prot_000.pdf|Statistical Analysis Plan, https://cdn.clinicaltrials.gov/large-docs/80/NCT05017480/SAP_001.pdf",
         "A Double-blind, Multi-center, Randomized Controlled Clinical Study to Evaluate the Efficacy and Safety of CBP-201 in Chinese Subjects With Moderate to Severe Atopic Dermatitis",
         "['Pharmaceutical', 'Pharmaceutical']",
         "[]",
         "['Pharmaceutical']",
         "['Protocol', 'Analysis Plan']",
         "2",
         "Yes",
         "2021",
         "2023",
         "25",
         "['DRUG']",
         "1",
         null,
         null,
         null,
         null,
         "['Inter_Meth_Other']",
         "1",
         "Yes",
         "No",
         "No",
         "No",
         "['Cond_Diseases']",
         "['Hemic, Lymphatic, Immune System', 'Hereditary, Neonatal, Abnormalities', 'Skin, Tissue']",
         "['Adv_Other', 'Adv_Serious']",
         "314",
         "5.752572638825633",
         "17.72004514666935",
         "Yes",
         "['Adv_Sy_Cardio', 'Adv_Sy_Endocrine', 'Adv_Sy_Eye', 'Adv_Sy_Gastrointestinal', 'Adv_Sy_General', 'Adv_Sy_Infections', 'Adv_Sy_Injury/ Poisoning/ Procedural', 'Adv_Sy_Metabolism/ Nutrition', 'Adv_Sy_Musculoskeletal', 'Adv_Sy_Skin', 'Adv_Sy_Vascular']",
         "11",
         "2.4849066497880004",
         "3.3166247903554",
         "RANDOMIZED",
         "PARALLEL",
         "QUADRUPLE",
         "['CARE_PROVIDER', 'PARTICIPANT', 'OUTCOMES_ASSESSOR', 'INVESTIGATOR']",
         "TREATMENT",
         "2.0",
         "1.0986122886681098",
         "1.4142135623730951",
         "['PRIMARY', 'SECONDARY']",
         "2",
         "Yes",
         "['China']",
         "1",
         "['Asia']",
         "1",
         "30",
         "5.802118375377063",
         "18.16590212458495",
         "0",
         "0",
         "0",
         "1",
         "0",
         "0"
        ]
       ],
       "shape": {
        "columns": 87,
        "rows": 2
       }
      },
      "text/html": [
       "<div>\n",
       "<style scoped>\n",
       "    .dataframe tbody tr th:only-of-type {\n",
       "        vertical-align: middle;\n",
       "    }\n",
       "\n",
       "    .dataframe tbody tr th {\n",
       "        vertical-align: top;\n",
       "    }\n",
       "\n",
       "    .dataframe thead th {\n",
       "        text-align: right;\n",
       "    }\n",
       "</style>\n",
       "<table border=\"1\" class=\"dataframe\">\n",
       "  <thead>\n",
       "    <tr style=\"text-align: right;\">\n",
       "      <th></th>\n",
       "      <th>nct_id</th>\n",
       "      <th>Study Title</th>\n",
       "      <th>Study URL</th>\n",
       "      <th>Acronym</th>\n",
       "      <th>Study Status</th>\n",
       "      <th>Brief Summary</th>\n",
       "      <th>Study Results</th>\n",
       "      <th>Conditions</th>\n",
       "      <th>Interventions</th>\n",
       "      <th>Primary Outcome Measures</th>\n",
       "      <th>Secondary Outcome Measures</th>\n",
       "      <th>Other Outcome Measures</th>\n",
       "      <th>Sponsor</th>\n",
       "      <th>Collaborators</th>\n",
       "      <th>Sex_Dum</th>\n",
       "      <th>Age_List</th>\n",
       "      <th>Phases</th>\n",
       "      <th>...</th>\n",
       "      <th>Arm_Counts_Sqrt</th>\n",
       "      <th>Outcomes_List</th>\n",
       "      <th>Outcomes_Counts</th>\n",
       "      <th>Outcomes_Bin</th>\n",
       "      <th>Countries_List</th>\n",
       "      <th>Country_Counts</th>\n",
       "      <th>Continents_List</th>\n",
       "      <th>Continent_Counts</th>\n",
       "      <th>City_Counts</th>\n",
       "      <th>Enrollment_Counts_Log</th>\n",
       "      <th>Enrollment_Counts_Sqrt</th>\n",
       "      <th>NOT_APPLICABLE</th>\n",
       "      <th>PHASE0</th>\n",
       "      <th>PHASE1</th>\n",
       "      <th>PHASE2</th>\n",
       "      <th>PHASE3</th>\n",
       "      <th>PHASE4</th>\n",
       "    </tr>\n",
       "  </thead>\n",
       "  <tbody>\n",
       "    <tr>\n",
       "      <th>0</th>\n",
       "      <td>NCT04385680</td>\n",
       "      <td>Chlorhexidine Vaginal Preparation for Reductio...</td>\n",
       "      <td>https://clinicaltrials.gov/study/NCT04385680</td>\n",
       "      <td>NaN</td>\n",
       "      <td>COMPLETED</td>\n",
       "      <td>The study aims to assess the beneficial value ...</td>\n",
       "      <td>NO</td>\n",
       "      <td>Postpartum Endometritis|Wound Infection|Chlorh...</td>\n",
       "      <td>DRUG: Chlorhexidine Gluconate vaginal solution...</td>\n",
       "      <td>post-cesarean endometritis, uterine fundal ten...</td>\n",
       "      <td>Significant leukocytosis, increase of WBCs cou...</td>\n",
       "      <td>NaN</td>\n",
       "      <td>Zagazig University</td>\n",
       "      <td>NaN</td>\n",
       "      <td>FEMALE</td>\n",
       "      <td>[ADULT, OLDER_ADULT]</td>\n",
       "      <td>[PHASE1, PHASE2]</td>\n",
       "      <td>...</td>\n",
       "      <td>1.414214</td>\n",
       "      <td>[OUTC_NONE]</td>\n",
       "      <td>0</td>\n",
       "      <td>No</td>\n",
       "      <td>[Saudi Arabia]</td>\n",
       "      <td>1</td>\n",
       "      <td>[Asia]</td>\n",
       "      <td>1</td>\n",
       "      <td>1</td>\n",
       "      <td>6.734592</td>\n",
       "      <td>28.982753</td>\n",
       "      <td>0</td>\n",
       "      <td>0</td>\n",
       "      <td>1</td>\n",
       "      <td>1</td>\n",
       "      <td>0</td>\n",
       "      <td>0</td>\n",
       "    </tr>\n",
       "    <tr>\n",
       "      <th>1</th>\n",
       "      <td>NCT05017480</td>\n",
       "      <td>A Study to Evaluate the Efficacy and Safety of...</td>\n",
       "      <td>https://clinicaltrials.gov/study/NCT05017480</td>\n",
       "      <td>NaN</td>\n",
       "      <td>COMPLETED</td>\n",
       "      <td>This study will evaluate the efficacy and safe...</td>\n",
       "      <td>YES</td>\n",
       "      <td>Moderate-to-severe Atopic Dermatitis</td>\n",
       "      <td>DRUG: CBP-201|DRUG: Placebo</td>\n",
       "      <td>Investigator Global Assessment (IGA) (0-1), Th...</td>\n",
       "      <td>Eczema Area and Severity Index (EASI)-75, The ...</td>\n",
       "      <td>NaN</td>\n",
       "      <td>Suzhou Connect Biopharmaceuticals, Ltd.</td>\n",
       "      <td>NaN</td>\n",
       "      <td>ALL</td>\n",
       "      <td>[CHILD, ADULT, OLDER_ADULT]</td>\n",
       "      <td>[PHASE2]</td>\n",
       "      <td>...</td>\n",
       "      <td>1.414214</td>\n",
       "      <td>[PRIMARY, SECONDARY]</td>\n",
       "      <td>2</td>\n",
       "      <td>Yes</td>\n",
       "      <td>[China]</td>\n",
       "      <td>1</td>\n",
       "      <td>[Asia]</td>\n",
       "      <td>1</td>\n",
       "      <td>30</td>\n",
       "      <td>5.802118</td>\n",
       "      <td>18.165902</td>\n",
       "      <td>0</td>\n",
       "      <td>0</td>\n",
       "      <td>0</td>\n",
       "      <td>1</td>\n",
       "      <td>0</td>\n",
       "      <td>0</td>\n",
       "    </tr>\n",
       "  </tbody>\n",
       "</table>\n",
       "<p>2 rows × 87 columns</p>\n",
       "</div>"
      ],
      "text/plain": [
       "        nct_id                                        Study Title  \\\n",
       "0  NCT04385680  Chlorhexidine Vaginal Preparation for Reductio...   \n",
       "1  NCT05017480  A Study to Evaluate the Efficacy and Safety of...   \n",
       "\n",
       "                                      Study URL Acronym Study Status  \\\n",
       "0  https://clinicaltrials.gov/study/NCT04385680     NaN    COMPLETED   \n",
       "1  https://clinicaltrials.gov/study/NCT05017480     NaN    COMPLETED   \n",
       "\n",
       "                                       Brief Summary Study Results  \\\n",
       "0  The study aims to assess the beneficial value ...            NO   \n",
       "1  This study will evaluate the efficacy and safe...           YES   \n",
       "\n",
       "                                          Conditions  \\\n",
       "0  Postpartum Endometritis|Wound Infection|Chlorh...   \n",
       "1               Moderate-to-severe Atopic Dermatitis   \n",
       "\n",
       "                                       Interventions  \\\n",
       "0  DRUG: Chlorhexidine Gluconate vaginal solution...   \n",
       "1                        DRUG: CBP-201|DRUG: Placebo   \n",
       "\n",
       "                            Primary Outcome Measures  \\\n",
       "0  post-cesarean endometritis, uterine fundal ten...   \n",
       "1  Investigator Global Assessment (IGA) (0-1), Th...   \n",
       "\n",
       "                          Secondary Outcome Measures Other Outcome Measures  \\\n",
       "0  Significant leukocytosis, increase of WBCs cou...                    NaN   \n",
       "1  Eczema Area and Severity Index (EASI)-75, The ...                    NaN   \n",
       "\n",
       "                                   Sponsor Collaborators Sex_Dum  \\\n",
       "0                       Zagazig University           NaN  FEMALE   \n",
       "1  Suzhou Connect Biopharmaceuticals, Ltd.           NaN     ALL   \n",
       "\n",
       "                      Age_List            Phases  ...  Arm_Counts_Sqrt  \\\n",
       "0         [ADULT, OLDER_ADULT]  [PHASE1, PHASE2]  ...         1.414214   \n",
       "1  [CHILD, ADULT, OLDER_ADULT]          [PHASE2]  ...         1.414214   \n",
       "\n",
       "          Outcomes_List Outcomes_Counts Outcomes_Bin  Countries_List  \\\n",
       "0           [OUTC_NONE]               0           No  [Saudi Arabia]   \n",
       "1  [PRIMARY, SECONDARY]               2          Yes         [China]   \n",
       "\n",
       "  Country_Counts Continents_List Continent_Counts City_Counts  \\\n",
       "0              1          [Asia]                1           1   \n",
       "1              1          [Asia]                1          30   \n",
       "\n",
       "  Enrollment_Counts_Log Enrollment_Counts_Sqrt NOT_APPLICABLE PHASE0 PHASE1  \\\n",
       "0              6.734592              28.982753              0      0      1   \n",
       "1              5.802118              18.165902              0      0      0   \n",
       "\n",
       "  PHASE2 PHASE3 PHASE4  \n",
       "0      1      0      0  \n",
       "1      1      0      0  \n",
       "\n",
       "[2 rows x 87 columns]"
      ]
     },
     "execution_count": 472,
     "metadata": {},
     "output_type": "execute_result"
    }
   ],
   "source": [
    "mlb = MultiLabelBinarizer()\n",
    "dummies = pd.DataFrame(mlb.fit_transform(df['Phases']), columns = mlb.classes_, index = df.index)\n",
    "df = pd.concat([df, dummies] , axis = 1)\n",
    "df.head(2)"
   ]
  },
  {
   "cell_type": "code",
   "execution_count": 473,
   "metadata": {},
   "outputs": [
    {
     "data": {
      "text/plain": [
       "(2304, 81)"
      ]
     },
     "metadata": {},
     "output_type": "display_data"
    },
    {
     "data": {
      "text/plain": [
       "(27175, 81)"
      ]
     },
     "metadata": {},
     "output_type": "display_data"
    },
    {
     "data": {
      "text/plain": [
       "(28797, 81)"
      ]
     },
     "metadata": {},
     "output_type": "display_data"
    },
    {
     "data": {
      "text/plain": [
       "(16307, 81)"
      ]
     },
     "metadata": {},
     "output_type": "display_data"
    },
    {
     "data": {
      "text/plain": [
       "(13073, 81)"
      ]
     },
     "metadata": {},
     "output_type": "display_data"
    },
    {
     "data": {
      "text/plain": [
       "(97831, 81)"
      ]
     },
     "metadata": {},
     "output_type": "display_data"
    }
   ],
   "source": [
    "df0 = df[df[\"PHASE0\"] == 1].reset_index(drop = True).drop(columns = ['NOT_APPLICABLE', 'PHASE0', 'PHASE1','PHASE2', 'PHASE3', 'PHASE4'])\n",
    "df1 = df[df[\"PHASE1\"] == 1].reset_index(drop = True).drop(columns = ['NOT_APPLICABLE', 'PHASE0', 'PHASE1','PHASE2', 'PHASE3', 'PHASE4'])\n",
    "df2 = df[df[\"PHASE2\"] == 1].reset_index(drop = True).drop(columns = ['NOT_APPLICABLE', 'PHASE0', 'PHASE1','PHASE2', 'PHASE3', 'PHASE4'])\n",
    "df3 = df[df[\"PHASE3\"] == 1].reset_index(drop = True).drop(columns = ['NOT_APPLICABLE', 'PHASE0', 'PHASE1','PHASE2', 'PHASE3', 'PHASE4'])\n",
    "df4 = df[df[\"PHASE4\"] == 1].reset_index(drop = True).drop(columns = ['NOT_APPLICABLE', 'PHASE0', 'PHASE1','PHASE2', 'PHASE3', 'PHASE4'])\n",
    "df5 = df[df[\"NOT_APPLICABLE\"] == 1].reset_index(drop = True).drop(columns = ['NOT_APPLICABLE', 'PHASE0', 'PHASE1','PHASE2', 'PHASE3', 'PHASE4'])\n",
    "\n",
    "display(df0.shape)\n",
    "display(df1.shape)\n",
    "display(df2.shape)\n",
    "display(df3.shape)\n",
    "display(df4.shape)\n",
    "display(df5.shape)"
   ]
  },
  {
   "cell_type": "markdown",
   "metadata": {},
   "source": [
    "## Count_Categ_Columns"
   ]
  },
  {
   "cell_type": "markdown",
   "metadata": {},
   "source": [
    "### Function"
   ]
  },
  {
   "cell_type": "code",
   "execution_count": 474,
   "metadata": {},
   "outputs": [],
   "source": [
    "# dfis\n",
    "dfis = [df0, df1, df2, df3, df4, df5, df]"
   ]
  },
  {
   "cell_type": "code",
   "execution_count": 475,
   "metadata": {},
   "outputs": [],
   "source": [
    "# def_describe\n",
    "def def_describe(col):\n",
    "    describes = pd.concat([\n",
    "        df0[col].describe(include = 'all'),\n",
    "        df1[col].describe(include = 'all'),\n",
    "        df2[col].describe(include = 'all'),\n",
    "        df3[col].describe(include = 'all'),\n",
    "        df4[col].describe(include = 'all'),\n",
    "        df5[col].describe(include = 'all'),\n",
    "        df[col].describe(include = 'all')\n",
    "    ], axis=1)\n",
    "\n",
    "    describes.columns = ['df0', 'df1', 'df2', 'df3', 'df4', 'df5', 'df']\n",
    "    describes.index.name = col\n",
    "    return describes\n"
   ]
  },
  {
   "cell_type": "code",
   "execution_count": 476,
   "metadata": {},
   "outputs": [],
   "source": [
    "# fun_bins\n",
    "def fun_bins(dfis, col, bin2_val, use_quantile=False):\n",
    "    bins = []\n",
    "    labels = []\n",
    "\n",
    "    for dfi in dfis:\n",
    "        bin1 = dfi[col].min()\n",
    "        bin2 = dfi[col].quantile(bin2_val) if use_quantile else bin2_val\n",
    "        bin3 = dfi[col].max()\n",
    "\n",
    "        bins.append([bin1, bin2, bin3])\n",
    "        labels.append([f\"{int(bin1)}–{int(bin2)}\", f\"{int(bin2)+1}–{int(bin3)}\"])\n",
    "\n",
    "    return bins, labels"
   ]
  },
  {
   "cell_type": "code",
   "execution_count": 477,
   "metadata": {},
   "outputs": [],
   "source": [
    "def fun_bins2(dfis, col, bin1_val, bin2_val):\n",
    "   \n",
    "    bins = []\n",
    "    labels = []\n",
    "\n",
    "    for dfi in dfis:\n",
    "        bin1 = bin1_val\n",
    "        bin2 = bin2_val\n",
    "        bin3 = dfi[col].max()\n",
    "\n",
    "        bins.append([bin1, bin2, bin3])\n",
    "        labels.append([f\"{int(bin2_val)}\", f\"{int(bin2_val)+1}–{int(bin3)}\"])\n",
    "\n",
    "    return bins, labels"
   ]
  },
  {
   "cell_type": "markdown",
   "metadata": {},
   "source": [
    "### Enrollment_Categ"
   ]
  },
  {
   "cell_type": "code",
   "execution_count": 478,
   "metadata": {},
   "outputs": [
    {
     "data": {
      "application/vnd.microsoft.datawrangler.viewer.v0+json": {
       "columns": [
        {
         "name": "Enrollment_Counts",
         "rawType": "object",
         "type": "string"
        },
        {
         "name": "df0",
         "rawType": "float64",
         "type": "float"
        },
        {
         "name": "df1",
         "rawType": "float64",
         "type": "float"
        },
        {
         "name": "df2",
         "rawType": "float64",
         "type": "float"
        },
        {
         "name": "df3",
         "rawType": "float64",
         "type": "float"
        },
        {
         "name": "df4",
         "rawType": "float64",
         "type": "float"
        },
        {
         "name": "df5",
         "rawType": "float64",
         "type": "float"
        },
        {
         "name": "df",
         "rawType": "float64",
         "type": "float"
        }
       ],
       "ref": "124e26af-5c10-436d-9c7e-ec873c837a03",
       "rows": [
        [
         "count",
         "2304.0",
         "27167.0",
         "28791.0",
         "16299.0",
         "13070.0",
         "97801.0",
         "177532.0"
        ],
        [
         "mean",
         "49.03125",
         "46.90996429491663",
         "111.0113577159529",
         "568.0066261733849",
         "390.85998469778116",
         "1065.2572161838837",
         "687.5288342383345"
        ],
        [
         "std",
         "207.34201698179515",
         "107.31639163379673",
         "1093.74062028884",
         "4944.84530564686",
         "5927.643854819752",
         "78888.49264842864",
         "58596.55183542979"
        ],
        [
         "min",
         "0.0",
         "0.0",
         "0.0",
         "0.0",
         "0.0",
         "0.0",
         "0.0"
        ],
        [
         "25%",
         "7.0",
         "14.0",
         "15.0",
         "52.0",
         "25.0",
         "24.0",
         "21.0"
        ],
        [
         "50%",
         "20.0",
         "28.0",
         "41.0",
         "159.0",
         "60.0",
         "52.0",
         "50.0"
        ],
        [
         "75%",
         "43.0",
         "51.0",
         "100.0",
         "419.0",
         "139.75",
         "112.0",
         "114.0"
        ],
        [
         "max",
         "5998.0",
         "8231.0",
         "144539.0",
         "477102.0",
         "393387.0",
         "20121212.0",
         "20121212.0"
        ]
       ],
       "shape": {
        "columns": 7,
        "rows": 8
       }
      },
      "text/html": [
       "<div>\n",
       "<style scoped>\n",
       "    .dataframe tbody tr th:only-of-type {\n",
       "        vertical-align: middle;\n",
       "    }\n",
       "\n",
       "    .dataframe tbody tr th {\n",
       "        vertical-align: top;\n",
       "    }\n",
       "\n",
       "    .dataframe thead th {\n",
       "        text-align: right;\n",
       "    }\n",
       "</style>\n",
       "<table border=\"1\" class=\"dataframe\">\n",
       "  <thead>\n",
       "    <tr style=\"text-align: right;\">\n",
       "      <th></th>\n",
       "      <th>df0</th>\n",
       "      <th>df1</th>\n",
       "      <th>df2</th>\n",
       "      <th>df3</th>\n",
       "      <th>df4</th>\n",
       "      <th>df5</th>\n",
       "      <th>df</th>\n",
       "    </tr>\n",
       "    <tr>\n",
       "      <th>Enrollment_Counts</th>\n",
       "      <th></th>\n",
       "      <th></th>\n",
       "      <th></th>\n",
       "      <th></th>\n",
       "      <th></th>\n",
       "      <th></th>\n",
       "      <th></th>\n",
       "    </tr>\n",
       "  </thead>\n",
       "  <tbody>\n",
       "    <tr>\n",
       "      <th>count</th>\n",
       "      <td>2304.000000</td>\n",
       "      <td>27167.000000</td>\n",
       "      <td>28791.000000</td>\n",
       "      <td>16299.000000</td>\n",
       "      <td>13070.000000</td>\n",
       "      <td>9.780100e+04</td>\n",
       "      <td>1.775320e+05</td>\n",
       "    </tr>\n",
       "    <tr>\n",
       "      <th>mean</th>\n",
       "      <td>49.031250</td>\n",
       "      <td>46.909964</td>\n",
       "      <td>111.011358</td>\n",
       "      <td>568.006626</td>\n",
       "      <td>390.859985</td>\n",
       "      <td>1.065257e+03</td>\n",
       "      <td>6.875288e+02</td>\n",
       "    </tr>\n",
       "    <tr>\n",
       "      <th>std</th>\n",
       "      <td>207.342017</td>\n",
       "      <td>107.316392</td>\n",
       "      <td>1093.740620</td>\n",
       "      <td>4944.845306</td>\n",
       "      <td>5927.643855</td>\n",
       "      <td>7.888849e+04</td>\n",
       "      <td>5.859655e+04</td>\n",
       "    </tr>\n",
       "    <tr>\n",
       "      <th>min</th>\n",
       "      <td>0.000000</td>\n",
       "      <td>0.000000</td>\n",
       "      <td>0.000000</td>\n",
       "      <td>0.000000</td>\n",
       "      <td>0.000000</td>\n",
       "      <td>0.000000e+00</td>\n",
       "      <td>0.000000e+00</td>\n",
       "    </tr>\n",
       "    <tr>\n",
       "      <th>25%</th>\n",
       "      <td>7.000000</td>\n",
       "      <td>14.000000</td>\n",
       "      <td>15.000000</td>\n",
       "      <td>52.000000</td>\n",
       "      <td>25.000000</td>\n",
       "      <td>2.400000e+01</td>\n",
       "      <td>2.100000e+01</td>\n",
       "    </tr>\n",
       "    <tr>\n",
       "      <th>50%</th>\n",
       "      <td>20.000000</td>\n",
       "      <td>28.000000</td>\n",
       "      <td>41.000000</td>\n",
       "      <td>159.000000</td>\n",
       "      <td>60.000000</td>\n",
       "      <td>5.200000e+01</td>\n",
       "      <td>5.000000e+01</td>\n",
       "    </tr>\n",
       "    <tr>\n",
       "      <th>75%</th>\n",
       "      <td>43.000000</td>\n",
       "      <td>51.000000</td>\n",
       "      <td>100.000000</td>\n",
       "      <td>419.000000</td>\n",
       "      <td>139.750000</td>\n",
       "      <td>1.120000e+02</td>\n",
       "      <td>1.140000e+02</td>\n",
       "    </tr>\n",
       "    <tr>\n",
       "      <th>max</th>\n",
       "      <td>5998.000000</td>\n",
       "      <td>8231.000000</td>\n",
       "      <td>144539.000000</td>\n",
       "      <td>477102.000000</td>\n",
       "      <td>393387.000000</td>\n",
       "      <td>2.012121e+07</td>\n",
       "      <td>2.012121e+07</td>\n",
       "    </tr>\n",
       "  </tbody>\n",
       "</table>\n",
       "</div>"
      ],
      "text/plain": [
       "                           df0           df1            df2            df3  \\\n",
       "Enrollment_Counts                                                            \n",
       "count              2304.000000  27167.000000   28791.000000   16299.000000   \n",
       "mean                 49.031250     46.909964     111.011358     568.006626   \n",
       "std                 207.342017    107.316392    1093.740620    4944.845306   \n",
       "min                   0.000000      0.000000       0.000000       0.000000   \n",
       "25%                   7.000000     14.000000      15.000000      52.000000   \n",
       "50%                  20.000000     28.000000      41.000000     159.000000   \n",
       "75%                  43.000000     51.000000     100.000000     419.000000   \n",
       "max                5998.000000   8231.000000  144539.000000  477102.000000   \n",
       "\n",
       "                             df4           df5            df  \n",
       "Enrollment_Counts                                             \n",
       "count               13070.000000  9.780100e+04  1.775320e+05  \n",
       "mean                  390.859985  1.065257e+03  6.875288e+02  \n",
       "std                  5927.643855  7.888849e+04  5.859655e+04  \n",
       "min                     0.000000  0.000000e+00  0.000000e+00  \n",
       "25%                    25.000000  2.400000e+01  2.100000e+01  \n",
       "50%                    60.000000  5.200000e+01  5.000000e+01  \n",
       "75%                   139.750000  1.120000e+02  1.140000e+02  \n",
       "max                393387.000000  2.012121e+07  2.012121e+07  "
      ]
     },
     "metadata": {},
     "output_type": "display_data"
    },
    {
     "data": {
      "application/vnd.microsoft.datawrangler.viewer.v0+json": {
       "columns": [
        {
         "name": "Enrollment_Categ",
         "rawType": "category",
         "type": "unknown"
        },
        {
         "name": "count",
         "rawType": "int64",
         "type": "integer"
        }
       ],
       "ref": "63e4206c-c588-4fe8-b688-a3a903cffe28",
       "rows": [
        [
         "0–20",
         "1241"
        ],
        [
         "21–5998",
         "1063"
        ]
       ],
       "shape": {
        "columns": 1,
        "rows": 2
       }
      },
      "text/plain": [
       "Enrollment_Categ\n",
       "0–20       1241\n",
       "21–5998    1063\n",
       "Name: count, dtype: int64"
      ]
     },
     "metadata": {},
     "output_type": "display_data"
    }
   ],
   "source": [
    "describes = def_describe('Enrollment_Counts')\n",
    "display(describes)\n",
    "\n",
    "col = 'Enrollment_Counts'\n",
    "col_categ = 'Enrollment_Categ'\n",
    "bins, labels = fun_bins(dfis, col, bin2_val = 0.5, use_quantile = True)\n",
    "\n",
    "df0[col_categ] = pd.cut(df0[col], bins = bins[0], labels = labels[0], ordered = True, include_lowest = True, right = True)\n",
    "df1[col_categ] = pd.cut(df1[col], bins = bins[1], labels = labels[1], ordered = True, include_lowest = True, right = True)\n",
    "df2[col_categ] = pd.cut(df2[col], bins = bins[2], labels = labels[2], ordered = True, include_lowest = True, right = True)\n",
    "df3[col_categ] = pd.cut(df3[col], bins = bins[3], labels = labels[3], ordered = True, include_lowest = True, right = True)\n",
    "df4[col_categ] = pd.cut(df4[col], bins = bins[4], labels = labels[4], ordered = True, include_lowest = True, right = True)\n",
    "df5[col_categ] = pd.cut(df5[col], bins = bins[5], labels = labels[5], ordered = True, include_lowest = True, right = True)\n",
    "df[col_categ] = pd.cut(df[col], bins = bins[6], labels = labels[6], ordered = True, include_lowest = True, right = True)\n",
    "\n",
    "display(df0[\"Enrollment_Categ\"].value_counts(dropna = False))\n"
   ]
  },
  {
   "cell_type": "markdown",
   "metadata": {},
   "source": [
    "### Adverse_Categ"
   ]
  },
  {
   "cell_type": "code",
   "execution_count": 479,
   "metadata": {},
   "outputs": [
    {
     "data": {
      "application/vnd.microsoft.datawrangler.viewer.v0+json": {
       "columns": [
        {
         "name": "Adverse_Counts",
         "rawType": "object",
         "type": "string"
        },
        {
         "name": "df0",
         "rawType": "float64",
         "type": "float"
        },
        {
         "name": "df1",
         "rawType": "float64",
         "type": "float"
        },
        {
         "name": "df2",
         "rawType": "float64",
         "type": "float"
        },
        {
         "name": "df3",
         "rawType": "float64",
         "type": "float"
        },
        {
         "name": "df4",
         "rawType": "float64",
         "type": "float"
        },
        {
         "name": "df5",
         "rawType": "float64",
         "type": "float"
        },
        {
         "name": "df",
         "rawType": "float64",
         "type": "float"
        }
       ],
       "ref": "483becf8-6fb1-449f-80b9-7987e8f92d54",
       "rows": [
        [
         "count",
         "2304.0",
         "27175.0",
         "28797.0",
         "16307.0",
         "13073.0",
         "97831.0",
         "177586.0"
        ],
        [
         "mean",
         "0.98046875",
         "9.194921803127874",
         "32.399242976698964",
         "162.88888207518244",
         "28.14388434177312",
         "5.300630679436988",
         "25.291413737569403"
        ],
        [
         "std",
         "6.281295804515613",
         "58.66726419100898",
         "123.02192138610893",
         "738.4284130489451",
         "655.3970646085841",
         "158.29616966168948",
         "315.4604750455696"
        ],
        [
         "min",
         "0.0",
         "0.0",
         "0.0",
         "0.0",
         "0.0",
         "0.0",
         "0.0"
        ],
        [
         "25%",
         "0.0",
         "0.0",
         "0.0",
         "0.0",
         "0.0",
         "0.0",
         "0.0"
        ],
        [
         "50%",
         "0.0",
         "0.0",
         "0.0",
         "0.0",
         "0.0",
         "0.0",
         "0.0"
        ],
        [
         "75%",
         "0.0",
         "0.0",
         "19.0",
         "87.0",
         "0.0",
         "0.0",
         "0.0"
        ],
        [
         "max",
         "130.0",
         "3385.0",
         "5288.0",
         "47910.0",
         "70245.0",
         "28085.0",
         "70245.0"
        ]
       ],
       "shape": {
        "columns": 7,
        "rows": 8
       }
      },
      "text/html": [
       "<div>\n",
       "<style scoped>\n",
       "    .dataframe tbody tr th:only-of-type {\n",
       "        vertical-align: middle;\n",
       "    }\n",
       "\n",
       "    .dataframe tbody tr th {\n",
       "        vertical-align: top;\n",
       "    }\n",
       "\n",
       "    .dataframe thead th {\n",
       "        text-align: right;\n",
       "    }\n",
       "</style>\n",
       "<table border=\"1\" class=\"dataframe\">\n",
       "  <thead>\n",
       "    <tr style=\"text-align: right;\">\n",
       "      <th></th>\n",
       "      <th>df0</th>\n",
       "      <th>df1</th>\n",
       "      <th>df2</th>\n",
       "      <th>df3</th>\n",
       "      <th>df4</th>\n",
       "      <th>df5</th>\n",
       "      <th>df</th>\n",
       "    </tr>\n",
       "    <tr>\n",
       "      <th>Adverse_Counts</th>\n",
       "      <th></th>\n",
       "      <th></th>\n",
       "      <th></th>\n",
       "      <th></th>\n",
       "      <th></th>\n",
       "      <th></th>\n",
       "      <th></th>\n",
       "    </tr>\n",
       "  </thead>\n",
       "  <tbody>\n",
       "    <tr>\n",
       "      <th>count</th>\n",
       "      <td>2304.000000</td>\n",
       "      <td>27175.000000</td>\n",
       "      <td>28797.000000</td>\n",
       "      <td>16307.000000</td>\n",
       "      <td>13073.000000</td>\n",
       "      <td>97831.000000</td>\n",
       "      <td>177586.000000</td>\n",
       "    </tr>\n",
       "    <tr>\n",
       "      <th>mean</th>\n",
       "      <td>0.980469</td>\n",
       "      <td>9.194922</td>\n",
       "      <td>32.399243</td>\n",
       "      <td>162.888882</td>\n",
       "      <td>28.143884</td>\n",
       "      <td>5.300631</td>\n",
       "      <td>25.291414</td>\n",
       "    </tr>\n",
       "    <tr>\n",
       "      <th>std</th>\n",
       "      <td>6.281296</td>\n",
       "      <td>58.667264</td>\n",
       "      <td>123.021921</td>\n",
       "      <td>738.428413</td>\n",
       "      <td>655.397065</td>\n",
       "      <td>158.296170</td>\n",
       "      <td>315.460475</td>\n",
       "    </tr>\n",
       "    <tr>\n",
       "      <th>min</th>\n",
       "      <td>0.000000</td>\n",
       "      <td>0.000000</td>\n",
       "      <td>0.000000</td>\n",
       "      <td>0.000000</td>\n",
       "      <td>0.000000</td>\n",
       "      <td>0.000000</td>\n",
       "      <td>0.000000</td>\n",
       "    </tr>\n",
       "    <tr>\n",
       "      <th>25%</th>\n",
       "      <td>0.000000</td>\n",
       "      <td>0.000000</td>\n",
       "      <td>0.000000</td>\n",
       "      <td>0.000000</td>\n",
       "      <td>0.000000</td>\n",
       "      <td>0.000000</td>\n",
       "      <td>0.000000</td>\n",
       "    </tr>\n",
       "    <tr>\n",
       "      <th>50%</th>\n",
       "      <td>0.000000</td>\n",
       "      <td>0.000000</td>\n",
       "      <td>0.000000</td>\n",
       "      <td>0.000000</td>\n",
       "      <td>0.000000</td>\n",
       "      <td>0.000000</td>\n",
       "      <td>0.000000</td>\n",
       "    </tr>\n",
       "    <tr>\n",
       "      <th>75%</th>\n",
       "      <td>0.000000</td>\n",
       "      <td>0.000000</td>\n",
       "      <td>19.000000</td>\n",
       "      <td>87.000000</td>\n",
       "      <td>0.000000</td>\n",
       "      <td>0.000000</td>\n",
       "      <td>0.000000</td>\n",
       "    </tr>\n",
       "    <tr>\n",
       "      <th>max</th>\n",
       "      <td>130.000000</td>\n",
       "      <td>3385.000000</td>\n",
       "      <td>5288.000000</td>\n",
       "      <td>47910.000000</td>\n",
       "      <td>70245.000000</td>\n",
       "      <td>28085.000000</td>\n",
       "      <td>70245.000000</td>\n",
       "    </tr>\n",
       "  </tbody>\n",
       "</table>\n",
       "</div>"
      ],
      "text/plain": [
       "                        df0           df1           df2           df3  \\\n",
       "Adverse_Counts                                                          \n",
       "count           2304.000000  27175.000000  28797.000000  16307.000000   \n",
       "mean               0.980469      9.194922     32.399243    162.888882   \n",
       "std                6.281296     58.667264    123.021921    738.428413   \n",
       "min                0.000000      0.000000      0.000000      0.000000   \n",
       "25%                0.000000      0.000000      0.000000      0.000000   \n",
       "50%                0.000000      0.000000      0.000000      0.000000   \n",
       "75%                0.000000      0.000000     19.000000     87.000000   \n",
       "max              130.000000   3385.000000   5288.000000  47910.000000   \n",
       "\n",
       "                         df4           df5             df  \n",
       "Adverse_Counts                                             \n",
       "count           13073.000000  97831.000000  177586.000000  \n",
       "mean               28.143884      5.300631      25.291414  \n",
       "std               655.397065    158.296170     315.460475  \n",
       "min                 0.000000      0.000000       0.000000  \n",
       "25%                 0.000000      0.000000       0.000000  \n",
       "50%                 0.000000      0.000000       0.000000  \n",
       "75%                 0.000000      0.000000       0.000000  \n",
       "max             70245.000000  28085.000000   70245.000000  "
      ]
     },
     "metadata": {},
     "output_type": "display_data"
    },
    {
     "data": {
      "application/vnd.microsoft.datawrangler.viewer.v0+json": {
       "columns": [
        {
         "name": "Adverse_Categ",
         "rawType": "category",
         "type": "unknown"
        },
        {
         "name": "count",
         "rawType": "int64",
         "type": "integer"
        }
       ],
       "ref": "7b9812f9-1b31-4ec1-902a-7c71c8d76092",
       "rows": [
        [
         "0–1",
         "2163"
        ],
        [
         "2–130",
         "141"
        ]
       ],
       "shape": {
        "columns": 1,
        "rows": 2
       }
      },
      "text/plain": [
       "Adverse_Categ\n",
       "0–1      2163\n",
       "2–130     141\n",
       "Name: count, dtype: int64"
      ]
     },
     "execution_count": 479,
     "metadata": {},
     "output_type": "execute_result"
    }
   ],
   "source": [
    "describes = def_describe('Adverse_Counts')\n",
    "display(describes)\n",
    "\n",
    "col = 'Adverse_Counts'\n",
    "col_categ = 'Adverse_Categ'\n",
    "\n",
    "bins, labels = fun_bins(dfis, col, bin2_val = 1, use_quantile = False)\n",
    "\n",
    "df0[col_categ] = pd.cut(df0[col], bins = bins[0], labels = labels[0], ordered = True, include_lowest = True, right = True)\n",
    "df1[col_categ] = pd.cut(df1[col], bins = bins[1], labels = labels[1], ordered = True, include_lowest = True, right = True)\n",
    "df2[col_categ] = pd.cut(df2[col], bins = bins[2], labels = labels[2], ordered = True, include_lowest = True, right = True)\n",
    "df3[col_categ] = pd.cut(df3[col], bins = bins[3], labels = labels[3], ordered = True, include_lowest = True, right = True)\n",
    "df4[col_categ] = pd.cut(df4[col], bins = bins[4], labels = labels[4], ordered = True, include_lowest = True, right = True)\n",
    "df5[col_categ] = pd.cut(df5[col], bins = bins[5], labels = labels[5], ordered = True, include_lowest = True, right = True)\n",
    "df[col_categ] = pd.cut(df[col], bins = bins[6], labels = labels[6], ordered = True, include_lowest = True, right = True)\n",
    "\n",
    "df0[\"Adverse_Categ\"].value_counts()"
   ]
  },
  {
   "cell_type": "markdown",
   "metadata": {},
   "source": [
    "### Adverse_System_Categ"
   ]
  },
  {
   "cell_type": "code",
   "execution_count": 480,
   "metadata": {},
   "outputs": [
    {
     "data": {
      "application/vnd.microsoft.datawrangler.viewer.v0+json": {
       "columns": [
        {
         "name": "Adverse_System_Counts",
         "rawType": "object",
         "type": "string"
        },
        {
         "name": "df0",
         "rawType": "float64",
         "type": "float"
        },
        {
         "name": "df1",
         "rawType": "float64",
         "type": "float"
        },
        {
         "name": "df2",
         "rawType": "float64",
         "type": "float"
        },
        {
         "name": "df3",
         "rawType": "float64",
         "type": "float"
        },
        {
         "name": "df4",
         "rawType": "float64",
         "type": "float"
        },
        {
         "name": "df5",
         "rawType": "float64",
         "type": "float"
        },
        {
         "name": "df",
         "rawType": "float64",
         "type": "float"
        }
       ],
       "ref": "236f8d74-78c9-49fb-b32d-8a74fd4ec914",
       "rows": [
        [
         "count",
         "2304.0",
         "27175.0",
         "28797.0",
         "16307.0",
         "13073.0",
         "97831.0",
         "177586.0"
        ],
        [
         "mean",
         "0.3932291666666667",
         "2.0821343146274147",
         "4.487863319095739",
         "5.228490832157969",
         "1.506234223208139",
         "0.3140824483037074",
         "1.6450621107519736"
        ],
        [
         "std",
         "1.8695789340904052",
         "5.120196108745509",
         "6.858169161074217",
         "7.4143568533018245",
         "3.857523585445869",
         "1.6961278019975699",
         "4.543774353842313"
        ],
        [
         "min",
         "0.0",
         "0.0",
         "0.0",
         "0.0",
         "0.0",
         "0.0",
         "0.0"
        ],
        [
         "25%",
         "0.0",
         "0.0",
         "0.0",
         "0.0",
         "0.0",
         "0.0",
         "0.0"
        ],
        [
         "50%",
         "0.0",
         "0.0",
         "0.0",
         "0.0",
         "0.0",
         "0.0",
         "0.0"
        ],
        [
         "75%",
         "0.0",
         "0.0",
         "8.0",
         "10.0",
         "1.0",
         "0.0",
         "0.0"
        ],
        [
         "max",
         "21.0",
         "26.0",
         "27.0",
         "27.0",
         "27.0",
         "27.0",
         "27.0"
        ]
       ],
       "shape": {
        "columns": 7,
        "rows": 8
       }
      },
      "text/html": [
       "<div>\n",
       "<style scoped>\n",
       "    .dataframe tbody tr th:only-of-type {\n",
       "        vertical-align: middle;\n",
       "    }\n",
       "\n",
       "    .dataframe tbody tr th {\n",
       "        vertical-align: top;\n",
       "    }\n",
       "\n",
       "    .dataframe thead th {\n",
       "        text-align: right;\n",
       "    }\n",
       "</style>\n",
       "<table border=\"1\" class=\"dataframe\">\n",
       "  <thead>\n",
       "    <tr style=\"text-align: right;\">\n",
       "      <th></th>\n",
       "      <th>df0</th>\n",
       "      <th>df1</th>\n",
       "      <th>df2</th>\n",
       "      <th>df3</th>\n",
       "      <th>df4</th>\n",
       "      <th>df5</th>\n",
       "      <th>df</th>\n",
       "    </tr>\n",
       "    <tr>\n",
       "      <th>Adverse_System_Counts</th>\n",
       "      <th></th>\n",
       "      <th></th>\n",
       "      <th></th>\n",
       "      <th></th>\n",
       "      <th></th>\n",
       "      <th></th>\n",
       "      <th></th>\n",
       "    </tr>\n",
       "  </thead>\n",
       "  <tbody>\n",
       "    <tr>\n",
       "      <th>count</th>\n",
       "      <td>2304.000000</td>\n",
       "      <td>27175.000000</td>\n",
       "      <td>28797.000000</td>\n",
       "      <td>16307.000000</td>\n",
       "      <td>13073.000000</td>\n",
       "      <td>97831.000000</td>\n",
       "      <td>177586.000000</td>\n",
       "    </tr>\n",
       "    <tr>\n",
       "      <th>mean</th>\n",
       "      <td>0.393229</td>\n",
       "      <td>2.082134</td>\n",
       "      <td>4.487863</td>\n",
       "      <td>5.228491</td>\n",
       "      <td>1.506234</td>\n",
       "      <td>0.314082</td>\n",
       "      <td>1.645062</td>\n",
       "    </tr>\n",
       "    <tr>\n",
       "      <th>std</th>\n",
       "      <td>1.869579</td>\n",
       "      <td>5.120196</td>\n",
       "      <td>6.858169</td>\n",
       "      <td>7.414357</td>\n",
       "      <td>3.857524</td>\n",
       "      <td>1.696128</td>\n",
       "      <td>4.543774</td>\n",
       "    </tr>\n",
       "    <tr>\n",
       "      <th>min</th>\n",
       "      <td>0.000000</td>\n",
       "      <td>0.000000</td>\n",
       "      <td>0.000000</td>\n",
       "      <td>0.000000</td>\n",
       "      <td>0.000000</td>\n",
       "      <td>0.000000</td>\n",
       "      <td>0.000000</td>\n",
       "    </tr>\n",
       "    <tr>\n",
       "      <th>25%</th>\n",
       "      <td>0.000000</td>\n",
       "      <td>0.000000</td>\n",
       "      <td>0.000000</td>\n",
       "      <td>0.000000</td>\n",
       "      <td>0.000000</td>\n",
       "      <td>0.000000</td>\n",
       "      <td>0.000000</td>\n",
       "    </tr>\n",
       "    <tr>\n",
       "      <th>50%</th>\n",
       "      <td>0.000000</td>\n",
       "      <td>0.000000</td>\n",
       "      <td>0.000000</td>\n",
       "      <td>0.000000</td>\n",
       "      <td>0.000000</td>\n",
       "      <td>0.000000</td>\n",
       "      <td>0.000000</td>\n",
       "    </tr>\n",
       "    <tr>\n",
       "      <th>75%</th>\n",
       "      <td>0.000000</td>\n",
       "      <td>0.000000</td>\n",
       "      <td>8.000000</td>\n",
       "      <td>10.000000</td>\n",
       "      <td>1.000000</td>\n",
       "      <td>0.000000</td>\n",
       "      <td>0.000000</td>\n",
       "    </tr>\n",
       "    <tr>\n",
       "      <th>max</th>\n",
       "      <td>21.000000</td>\n",
       "      <td>26.000000</td>\n",
       "      <td>27.000000</td>\n",
       "      <td>27.000000</td>\n",
       "      <td>27.000000</td>\n",
       "      <td>27.000000</td>\n",
       "      <td>27.000000</td>\n",
       "    </tr>\n",
       "  </tbody>\n",
       "</table>\n",
       "</div>"
      ],
      "text/plain": [
       "                               df0           df1           df2           df3  \\\n",
       "Adverse_System_Counts                                                          \n",
       "count                  2304.000000  27175.000000  28797.000000  16307.000000   \n",
       "mean                      0.393229      2.082134      4.487863      5.228491   \n",
       "std                       1.869579      5.120196      6.858169      7.414357   \n",
       "min                       0.000000      0.000000      0.000000      0.000000   \n",
       "25%                       0.000000      0.000000      0.000000      0.000000   \n",
       "50%                       0.000000      0.000000      0.000000      0.000000   \n",
       "75%                       0.000000      0.000000      8.000000     10.000000   \n",
       "max                      21.000000     26.000000     27.000000     27.000000   \n",
       "\n",
       "                                df4           df5             df  \n",
       "Adverse_System_Counts                                             \n",
       "count                  13073.000000  97831.000000  177586.000000  \n",
       "mean                       1.506234      0.314082       1.645062  \n",
       "std                        3.857524      1.696128       4.543774  \n",
       "min                        0.000000      0.000000       0.000000  \n",
       "25%                        0.000000      0.000000       0.000000  \n",
       "50%                        0.000000      0.000000       0.000000  \n",
       "75%                        1.000000      0.000000       0.000000  \n",
       "max                       27.000000     27.000000      27.000000  "
      ]
     },
     "metadata": {},
     "output_type": "display_data"
    },
    {
     "data": {
      "application/vnd.microsoft.datawrangler.viewer.v0+json": {
       "columns": [
        {
         "name": "Adverse_System_Categ",
         "rawType": "category",
         "type": "unknown"
        },
        {
         "name": "count",
         "rawType": "int64",
         "type": "integer"
        }
       ],
       "ref": "a208bb1f-f10b-4986-84f9-4f1a0bc224e8",
       "rows": [
        [
         "0–1",
         "2174"
        ],
        [
         "2–21",
         "130"
        ]
       ],
       "shape": {
        "columns": 1,
        "rows": 2
       }
      },
      "text/plain": [
       "Adverse_System_Categ\n",
       "0–1     2174\n",
       "2–21     130\n",
       "Name: count, dtype: int64"
      ]
     },
     "execution_count": 480,
     "metadata": {},
     "output_type": "execute_result"
    }
   ],
   "source": [
    "describes = def_describe('Adverse_System_Counts')\n",
    "display(describes)\n",
    "\n",
    "col = 'Adverse_System_Counts'\n",
    "col_categ = 'Adverse_System_Categ'\n",
    "\n",
    "bins, labels = fun_bins(dfis, col, bin2_val = 1, use_quantile = False)\n",
    "\n",
    "df0[col_categ] = pd.cut(df0[col], bins = bins[0], labels = labels[0], ordered = True, include_lowest = True, right = True)\n",
    "df1[col_categ] = pd.cut(df1[col], bins = bins[1], labels = labels[1], ordered = True, include_lowest = True, right = True)\n",
    "df2[col_categ] = pd.cut(df2[col], bins = bins[2], labels = labels[2], ordered = True, include_lowest = True, right = True)\n",
    "df3[col_categ] = pd.cut(df3[col], bins = bins[3], labels = labels[3], ordered = True, include_lowest = True, right = True)\n",
    "df4[col_categ] = pd.cut(df4[col], bins = bins[4], labels = labels[4], ordered = True, include_lowest = True, right = True)\n",
    "df5[col_categ] = pd.cut(df5[col], bins = bins[5], labels = labels[5], ordered = True, include_lowest = True, right = True)\n",
    "df[col_categ] = pd.cut(df[col], bins = bins[6], labels = labels[6], ordered = True, include_lowest = True, right = True)\n",
    "\n",
    "df0[\"Adverse_System_Categ\"].value_counts()\n",
    "\n",
    "### Adverse_Categ \n",
    "# All distribution are == 0 until 0.5 - 0.75 quantile at all dfis --> Adv_bin will be used instead. "
   ]
  },
  {
   "cell_type": "markdown",
   "metadata": {},
   "source": [
    "### Arm_Categ\n",
    "- See thsesis_Vizual --> Many data points in specific values. 1-2 many data points and less in >=3. + Skewed --> Visible change after 2 (=median in all dfs) --> Better categorical.\n"
   ]
  },
  {
   "cell_type": "code",
   "execution_count": 481,
   "metadata": {},
   "outputs": [
    {
     "data": {
      "application/vnd.microsoft.datawrangler.viewer.v0+json": {
       "columns": [
        {
         "name": "Arm_Counts",
         "rawType": "object",
         "type": "string"
        },
        {
         "name": "df0",
         "rawType": "float64",
         "type": "float"
        },
        {
         "name": "df1",
         "rawType": "float64",
         "type": "float"
        },
        {
         "name": "df2",
         "rawType": "float64",
         "type": "float"
        },
        {
         "name": "df3",
         "rawType": "float64",
         "type": "float"
        },
        {
         "name": "df4",
         "rawType": "float64",
         "type": "float"
        },
        {
         "name": "df5",
         "rawType": "float64",
         "type": "float"
        },
        {
         "name": "df",
         "rawType": "float64",
         "type": "float"
        }
       ],
       "ref": "7b0cfdaf-4be0-4eae-98f3-9e535a280785",
       "rows": [
        [
         "count",
         "2281.0",
         "26980.0",
         "28674.0",
         "16281.0",
         "13030.0",
         "97286.0",
         "176676.0"
        ],
        [
         "mean",
         "1.9351161771153003",
         "2.7543365455893256",
         "2.3365418148845642",
         "2.264848596523555",
         "2.085111281657713",
         "2.0648603087802972",
         "2.21253594149743"
        ],
        [
         "std",
         "1.4099267733587444",
         "2.402644911250985",
         "1.7536761462796377",
         "1.1670636848342388",
         "0.9867730499784423",
         "1.0634529240252664",
         "1.4391939857755924"
        ],
        [
         "min",
         "1.0",
         "1.0",
         "1.0",
         "1.0",
         "1.0",
         "1.0",
         "1.0"
        ],
        [
         "25%",
         "1.0",
         "1.0",
         "1.0",
         "2.0",
         "2.0",
         "2.0",
         "2.0"
        ],
        [
         "50%",
         "2.0",
         "2.0",
         "2.0",
         "2.0",
         "2.0",
         "2.0",
         "2.0"
        ],
        [
         "75%",
         "2.0",
         "3.0",
         "3.0",
         "2.0",
         "2.0",
         "2.0",
         "2.0"
        ],
        [
         "max",
         "40.0",
         "44.0",
         "43.0",
         "32.0",
         "32.0",
         "32.0",
         "44.0"
        ]
       ],
       "shape": {
        "columns": 7,
        "rows": 8
       }
      },
      "text/html": [
       "<div>\n",
       "<style scoped>\n",
       "    .dataframe tbody tr th:only-of-type {\n",
       "        vertical-align: middle;\n",
       "    }\n",
       "\n",
       "    .dataframe tbody tr th {\n",
       "        vertical-align: top;\n",
       "    }\n",
       "\n",
       "    .dataframe thead th {\n",
       "        text-align: right;\n",
       "    }\n",
       "</style>\n",
       "<table border=\"1\" class=\"dataframe\">\n",
       "  <thead>\n",
       "    <tr style=\"text-align: right;\">\n",
       "      <th></th>\n",
       "      <th>df0</th>\n",
       "      <th>df1</th>\n",
       "      <th>df2</th>\n",
       "      <th>df3</th>\n",
       "      <th>df4</th>\n",
       "      <th>df5</th>\n",
       "      <th>df</th>\n",
       "    </tr>\n",
       "    <tr>\n",
       "      <th>Arm_Counts</th>\n",
       "      <th></th>\n",
       "      <th></th>\n",
       "      <th></th>\n",
       "      <th></th>\n",
       "      <th></th>\n",
       "      <th></th>\n",
       "      <th></th>\n",
       "    </tr>\n",
       "  </thead>\n",
       "  <tbody>\n",
       "    <tr>\n",
       "      <th>count</th>\n",
       "      <td>2281.000000</td>\n",
       "      <td>26980.000000</td>\n",
       "      <td>28674.000000</td>\n",
       "      <td>16281.000000</td>\n",
       "      <td>13030.000000</td>\n",
       "      <td>97286.000000</td>\n",
       "      <td>176676.000000</td>\n",
       "    </tr>\n",
       "    <tr>\n",
       "      <th>mean</th>\n",
       "      <td>1.935116</td>\n",
       "      <td>2.754337</td>\n",
       "      <td>2.336542</td>\n",
       "      <td>2.264849</td>\n",
       "      <td>2.085111</td>\n",
       "      <td>2.064860</td>\n",
       "      <td>2.212536</td>\n",
       "    </tr>\n",
       "    <tr>\n",
       "      <th>std</th>\n",
       "      <td>1.409927</td>\n",
       "      <td>2.402645</td>\n",
       "      <td>1.753676</td>\n",
       "      <td>1.167064</td>\n",
       "      <td>0.986773</td>\n",
       "      <td>1.063453</td>\n",
       "      <td>1.439194</td>\n",
       "    </tr>\n",
       "    <tr>\n",
       "      <th>min</th>\n",
       "      <td>1.000000</td>\n",
       "      <td>1.000000</td>\n",
       "      <td>1.000000</td>\n",
       "      <td>1.000000</td>\n",
       "      <td>1.000000</td>\n",
       "      <td>1.000000</td>\n",
       "      <td>1.000000</td>\n",
       "    </tr>\n",
       "    <tr>\n",
       "      <th>25%</th>\n",
       "      <td>1.000000</td>\n",
       "      <td>1.000000</td>\n",
       "      <td>1.000000</td>\n",
       "      <td>2.000000</td>\n",
       "      <td>2.000000</td>\n",
       "      <td>2.000000</td>\n",
       "      <td>2.000000</td>\n",
       "    </tr>\n",
       "    <tr>\n",
       "      <th>50%</th>\n",
       "      <td>2.000000</td>\n",
       "      <td>2.000000</td>\n",
       "      <td>2.000000</td>\n",
       "      <td>2.000000</td>\n",
       "      <td>2.000000</td>\n",
       "      <td>2.000000</td>\n",
       "      <td>2.000000</td>\n",
       "    </tr>\n",
       "    <tr>\n",
       "      <th>75%</th>\n",
       "      <td>2.000000</td>\n",
       "      <td>3.000000</td>\n",
       "      <td>3.000000</td>\n",
       "      <td>2.000000</td>\n",
       "      <td>2.000000</td>\n",
       "      <td>2.000000</td>\n",
       "      <td>2.000000</td>\n",
       "    </tr>\n",
       "    <tr>\n",
       "      <th>max</th>\n",
       "      <td>40.000000</td>\n",
       "      <td>44.000000</td>\n",
       "      <td>43.000000</td>\n",
       "      <td>32.000000</td>\n",
       "      <td>32.000000</td>\n",
       "      <td>32.000000</td>\n",
       "      <td>44.000000</td>\n",
       "    </tr>\n",
       "  </tbody>\n",
       "</table>\n",
       "</div>"
      ],
      "text/plain": [
       "                    df0           df1           df2           df3  \\\n",
       "Arm_Counts                                                          \n",
       "count       2281.000000  26980.000000  28674.000000  16281.000000   \n",
       "mean           1.935116      2.754337      2.336542      2.264849   \n",
       "std            1.409927      2.402645      1.753676      1.167064   \n",
       "min            1.000000      1.000000      1.000000      1.000000   \n",
       "25%            1.000000      1.000000      1.000000      2.000000   \n",
       "50%            2.000000      2.000000      2.000000      2.000000   \n",
       "75%            2.000000      3.000000      3.000000      2.000000   \n",
       "max           40.000000     44.000000     43.000000     32.000000   \n",
       "\n",
       "                     df4           df5             df  \n",
       "Arm_Counts                                             \n",
       "count       13030.000000  97286.000000  176676.000000  \n",
       "mean            2.085111      2.064860       2.212536  \n",
       "std             0.986773      1.063453       1.439194  \n",
       "min             1.000000      1.000000       1.000000  \n",
       "25%             2.000000      2.000000       2.000000  \n",
       "50%             2.000000      2.000000       2.000000  \n",
       "75%             2.000000      2.000000       2.000000  \n",
       "max            32.000000     32.000000      44.000000  "
      ]
     },
     "metadata": {},
     "output_type": "display_data"
    },
    {
     "data": {
      "application/vnd.microsoft.datawrangler.viewer.v0+json": {
       "columns": [
        {
         "name": "Arm_Categ",
         "rawType": "category",
         "type": "unknown"
        },
        {
         "name": "count",
         "rawType": "int64",
         "type": "integer"
        }
       ],
       "ref": "187a817f-a261-4434-833a-ab0aed3caeec",
       "rows": [
        [
         "1–2",
         "1893"
        ],
        [
         "3–40",
         "388"
        ],
        [
         null,
         "23"
        ]
       ],
       "shape": {
        "columns": 1,
        "rows": 3
       }
      },
      "text/plain": [
       "Arm_Categ\n",
       "1–2     1893\n",
       "3–40     388\n",
       "NaN       23\n",
       "Name: count, dtype: int64"
      ]
     },
     "execution_count": 481,
     "metadata": {},
     "output_type": "execute_result"
    }
   ],
   "source": [
    "describes = def_describe('Arm_Counts')\n",
    "display(describes)\n",
    "\n",
    "col = 'Arm_Counts'\n",
    "col_categ = 'Arm_Categ'\n",
    "bins, labels = fun_bins(dfis, col, bin2_val = 2, use_quantile = False)\n",
    "\n",
    "df0[col_categ] = pd.cut(df0[col], bins = bins[0], labels = labels[0], ordered = True, include_lowest = True, right = True)\n",
    "df1[col_categ] = pd.cut(df1[col], bins = bins[1], labels = labels[1], ordered = True, include_lowest = True, right = True)\n",
    "df2[col_categ] = pd.cut(df2[col], bins = bins[2], labels = labels[2], ordered = True, include_lowest = True, right = True)\n",
    "df3[col_categ] = pd.cut(df3[col], bins = bins[3], labels = labels[3], ordered = True, include_lowest = True, right = True)\n",
    "df4[col_categ] = pd.cut(df4[col], bins = bins[4], labels = labels[4], ordered = True, include_lowest = True, right = True)\n",
    "df5[col_categ] = pd.cut(df5[col], bins = bins[5], labels = labels[5], ordered = True, include_lowest = True, right = True)\n",
    "df[col_categ] = pd.cut(df[col], bins = bins[6], labels = labels[6], ordered = True, include_lowest = True, right = True)\n",
    "\n",
    "df0['Arm_Categ'].value_counts(dropna = False)"
   ]
  },
  {
   "cell_type": "markdown",
   "metadata": {},
   "source": [
    "### Completion_Gap_Categ"
   ]
  },
  {
   "cell_type": "code",
   "execution_count": 482,
   "metadata": {},
   "outputs": [
    {
     "data": {
      "application/vnd.microsoft.datawrangler.viewer.v0+json": {
       "columns": [
        {
         "name": "Completion_Gap_Counts",
         "rawType": "object",
         "type": "string"
        },
        {
         "name": "df0",
         "rawType": "Float64",
         "type": "float"
        },
        {
         "name": "df1",
         "rawType": "Float64",
         "type": "float"
        },
        {
         "name": "df2",
         "rawType": "Float64",
         "type": "float"
        },
        {
         "name": "df3",
         "rawType": "Float64",
         "type": "float"
        },
        {
         "name": "df4",
         "rawType": "Float64",
         "type": "float"
        },
        {
         "name": "df5",
         "rawType": "Float64",
         "type": "float"
        },
        {
         "name": "df",
         "rawType": "Float64",
         "type": "float"
        }
       ],
       "ref": "bec65bdb-271a-4d3d-a046-d20bf9be41b4",
       "rows": [
        [
         "count",
         "2304.0",
         "27175.0",
         "28797.0",
         "16307.0",
         "13073.0",
         "97831.0",
         "177586.0"
        ],
        [
         "mean",
         "24.924913194444443",
         "22.270542778288867",
         "31.597353891030316",
         "29.56055681609125",
         "25.4288227644764",
         "22.925442855536588",
         "24.60597682249727"
        ],
        [
         "std",
         "20.113227145382556",
         "23.265676683559047",
         "24.07006972664585",
         "22.722841923585836",
         "19.978733375761113",
         "20.21751244003296",
         "21.61230729331168"
        ],
        [
         "min",
         "0.0",
         "0.0",
         "0.0",
         "0.0",
         "0.0",
         "0.0",
         "0.0"
        ],
        [
         "25%",
         "10.0",
         "5.0",
         "13.0",
         "13.0",
         "11.0",
         "8.0",
         "9.0"
        ],
        [
         "50%",
         "20.0",
         "14.0",
         "25.0",
         "24.0",
         "21.0",
         "17.0",
         "19.0"
        ],
        [
         "75%",
         "35.0",
         "33.0",
         "44.0",
         "40.0",
         "35.0",
         "32.0",
         "35.0"
        ],
        [
         "max",
         "128.0",
         "150.0",
         "163.0",
         "160.0",
         "149.0",
         "157.0",
         "163.0"
        ]
       ],
       "shape": {
        "columns": 7,
        "rows": 8
       }
      },
      "text/html": [
       "<div>\n",
       "<style scoped>\n",
       "    .dataframe tbody tr th:only-of-type {\n",
       "        vertical-align: middle;\n",
       "    }\n",
       "\n",
       "    .dataframe tbody tr th {\n",
       "        vertical-align: top;\n",
       "    }\n",
       "\n",
       "    .dataframe thead th {\n",
       "        text-align: right;\n",
       "    }\n",
       "</style>\n",
       "<table border=\"1\" class=\"dataframe\">\n",
       "  <thead>\n",
       "    <tr style=\"text-align: right;\">\n",
       "      <th></th>\n",
       "      <th>df0</th>\n",
       "      <th>df1</th>\n",
       "      <th>df2</th>\n",
       "      <th>df3</th>\n",
       "      <th>df4</th>\n",
       "      <th>df5</th>\n",
       "      <th>df</th>\n",
       "    </tr>\n",
       "    <tr>\n",
       "      <th>Completion_Gap_Counts</th>\n",
       "      <th></th>\n",
       "      <th></th>\n",
       "      <th></th>\n",
       "      <th></th>\n",
       "      <th></th>\n",
       "      <th></th>\n",
       "      <th></th>\n",
       "    </tr>\n",
       "  </thead>\n",
       "  <tbody>\n",
       "    <tr>\n",
       "      <th>count</th>\n",
       "      <td>2304.0</td>\n",
       "      <td>27175.0</td>\n",
       "      <td>28797.0</td>\n",
       "      <td>16307.0</td>\n",
       "      <td>13073.0</td>\n",
       "      <td>97831.0</td>\n",
       "      <td>177586.0</td>\n",
       "    </tr>\n",
       "    <tr>\n",
       "      <th>mean</th>\n",
       "      <td>24.924913</td>\n",
       "      <td>22.270543</td>\n",
       "      <td>31.597354</td>\n",
       "      <td>29.560557</td>\n",
       "      <td>25.428823</td>\n",
       "      <td>22.925443</td>\n",
       "      <td>24.605977</td>\n",
       "    </tr>\n",
       "    <tr>\n",
       "      <th>std</th>\n",
       "      <td>20.113227</td>\n",
       "      <td>23.265677</td>\n",
       "      <td>24.07007</td>\n",
       "      <td>22.722842</td>\n",
       "      <td>19.978733</td>\n",
       "      <td>20.217512</td>\n",
       "      <td>21.612307</td>\n",
       "    </tr>\n",
       "    <tr>\n",
       "      <th>min</th>\n",
       "      <td>0.0</td>\n",
       "      <td>0.0</td>\n",
       "      <td>0.0</td>\n",
       "      <td>0.0</td>\n",
       "      <td>0.0</td>\n",
       "      <td>0.0</td>\n",
       "      <td>0.0</td>\n",
       "    </tr>\n",
       "    <tr>\n",
       "      <th>25%</th>\n",
       "      <td>10.0</td>\n",
       "      <td>5.0</td>\n",
       "      <td>13.0</td>\n",
       "      <td>13.0</td>\n",
       "      <td>11.0</td>\n",
       "      <td>8.0</td>\n",
       "      <td>9.0</td>\n",
       "    </tr>\n",
       "    <tr>\n",
       "      <th>50%</th>\n",
       "      <td>20.0</td>\n",
       "      <td>14.0</td>\n",
       "      <td>25.0</td>\n",
       "      <td>24.0</td>\n",
       "      <td>21.0</td>\n",
       "      <td>17.0</td>\n",
       "      <td>19.0</td>\n",
       "    </tr>\n",
       "    <tr>\n",
       "      <th>75%</th>\n",
       "      <td>35.0</td>\n",
       "      <td>33.0</td>\n",
       "      <td>44.0</td>\n",
       "      <td>40.0</td>\n",
       "      <td>35.0</td>\n",
       "      <td>32.0</td>\n",
       "      <td>35.0</td>\n",
       "    </tr>\n",
       "    <tr>\n",
       "      <th>max</th>\n",
       "      <td>128.0</td>\n",
       "      <td>150.0</td>\n",
       "      <td>163.0</td>\n",
       "      <td>160.0</td>\n",
       "      <td>149.0</td>\n",
       "      <td>157.0</td>\n",
       "      <td>163.0</td>\n",
       "    </tr>\n",
       "  </tbody>\n",
       "</table>\n",
       "</div>"
      ],
      "text/plain": [
       "                             df0        df1        df2        df3        df4  \\\n",
       "Completion_Gap_Counts                                                          \n",
       "count                     2304.0    27175.0    28797.0    16307.0    13073.0   \n",
       "mean                   24.924913  22.270543  31.597354  29.560557  25.428823   \n",
       "std                    20.113227  23.265677   24.07007  22.722842  19.978733   \n",
       "min                          0.0        0.0        0.0        0.0        0.0   \n",
       "25%                         10.0        5.0       13.0       13.0       11.0   \n",
       "50%                         20.0       14.0       25.0       24.0       21.0   \n",
       "75%                         35.0       33.0       44.0       40.0       35.0   \n",
       "max                        128.0      150.0      163.0      160.0      149.0   \n",
       "\n",
       "                             df5         df  \n",
       "Completion_Gap_Counts                        \n",
       "count                    97831.0   177586.0  \n",
       "mean                   22.925443  24.605977  \n",
       "std                    20.217512  21.612307  \n",
       "min                          0.0        0.0  \n",
       "25%                          8.0        9.0  \n",
       "50%                         17.0       19.0  \n",
       "75%                         32.0       35.0  \n",
       "max                        157.0      163.0  "
      ]
     },
     "metadata": {},
     "output_type": "display_data"
    },
    {
     "data": {
      "application/vnd.microsoft.datawrangler.viewer.v0+json": {
       "columns": [
        {
         "name": "Completion_Gap_Categ",
         "rawType": "category",
         "type": "unknown"
        },
        {
         "name": "count",
         "rawType": "int64",
         "type": "integer"
        }
       ],
       "ref": "428b3088-b2f7-427c-9933-2835ab578767",
       "rows": [
        [
         "0–19",
         "92253"
        ],
        [
         "20–163",
         "85333"
        ]
       ],
       "shape": {
        "columns": 1,
        "rows": 2
       }
      },
      "text/plain": [
       "Completion_Gap_Categ\n",
       "0–19      92253\n",
       "20–163    85333\n",
       "Name: count, dtype: int64"
      ]
     },
     "metadata": {},
     "output_type": "display_data"
    }
   ],
   "source": [
    "describes = def_describe('Completion_Gap_Counts')\n",
    "display(describes)\n",
    "\n",
    "col = 'Completion_Gap_Counts'\n",
    "col_categ = 'Completion_Gap_Categ'\n",
    "\n",
    "bins, labels = fun_bins(dfis, col, bin2_val = 0.5, use_quantile = True)\n",
    "\n",
    "df0[col_categ] = pd.cut(df0[col], bins = bins[0], labels = labels[0], ordered = True, include_lowest = True, right = True)\n",
    "df1[col_categ] = pd.cut(df1[col], bins = bins[1], labels = labels[1], ordered = True, include_lowest = True, right = True)\n",
    "df2[col_categ] = pd.cut(df2[col], bins = bins[2], labels = labels[2], ordered = True, include_lowest = True, right = True)\n",
    "df3[col_categ] = pd.cut(df3[col], bins = bins[3], labels = labels[3], ordered = True, include_lowest = True, right = True)\n",
    "df4[col_categ] = pd.cut(df4[col], bins = bins[4], labels = labels[4], ordered = True, include_lowest = True, right = True)\n",
    "df5[col_categ] = pd.cut(df5[col], bins = bins[5], labels = labels[5], ordered = True, include_lowest = True, right = True)\n",
    "df[col_categ] = pd.cut(df[col], bins = bins[6], labels = labels[6], ordered = True, include_lowest = True, right = True)\n",
    "\n",
    "display(df['Completion_Gap_Categ'].value_counts())"
   ]
  },
  {
   "cell_type": "markdown",
   "metadata": {},
   "source": [
    "### Intervention_Type_Categ"
   ]
  },
  {
   "cell_type": "code",
   "execution_count": 483,
   "metadata": {},
   "outputs": [
    {
     "data": {
      "application/vnd.microsoft.datawrangler.viewer.v0+json": {
       "columns": [
        {
         "name": "Intervention_Type_Counts",
         "rawType": "object",
         "type": "string"
        },
        {
         "name": "df0",
         "rawType": "float64",
         "type": "float"
        },
        {
         "name": "df1",
         "rawType": "float64",
         "type": "float"
        },
        {
         "name": "df2",
         "rawType": "float64",
         "type": "float"
        },
        {
         "name": "df3",
         "rawType": "float64",
         "type": "float"
        },
        {
         "name": "df4",
         "rawType": "float64",
         "type": "float"
        },
        {
         "name": "df5",
         "rawType": "float64",
         "type": "float"
        },
        {
         "name": "df",
         "rawType": "float64",
         "type": "float"
        }
       ],
       "ref": "82fdccee-b6eb-47a1-90f4-4002eb48030d",
       "rows": [
        [
         "count",
         "2304.0",
         "27175.0",
         "28797.0",
         "16307.0",
         "13073.0",
         "97831.0",
         "177586.0"
        ],
        [
         "mean",
         "1.1414930555555556",
         "1.0751057957681693",
         "1.1061568913428481",
         "1.0764702275096585",
         "1.088656008567276",
         "1.041796567550163",
         "1.0619305575889992"
        ],
        [
         "std",
         "0.3985826298874251",
         "0.29027749511722467",
         "0.3438422246521009",
         "0.2803558245184787",
         "0.3032675587904146",
         "0.21428332817462212",
         "0.2616208401828839"
        ],
        [
         "min",
         "1.0",
         "1.0",
         "1.0",
         "1.0",
         "1.0",
         "1.0",
         "1.0"
        ],
        [
         "25%",
         "1.0",
         "1.0",
         "1.0",
         "1.0",
         "1.0",
         "1.0",
         "1.0"
        ],
        [
         "50%",
         "1.0",
         "1.0",
         "1.0",
         "1.0",
         "1.0",
         "1.0",
         "1.0"
        ],
        [
         "75%",
         "1.0",
         "1.0",
         "1.0",
         "1.0",
         "1.0",
         "1.0",
         "1.0"
        ],
        [
         "max",
         "4.0",
         "4.0",
         "5.0",
         "4.0",
         "4.0",
         "5.0",
         "5.0"
        ]
       ],
       "shape": {
        "columns": 7,
        "rows": 8
       }
      },
      "text/html": [
       "<div>\n",
       "<style scoped>\n",
       "    .dataframe tbody tr th:only-of-type {\n",
       "        vertical-align: middle;\n",
       "    }\n",
       "\n",
       "    .dataframe tbody tr th {\n",
       "        vertical-align: top;\n",
       "    }\n",
       "\n",
       "    .dataframe thead th {\n",
       "        text-align: right;\n",
       "    }\n",
       "</style>\n",
       "<table border=\"1\" class=\"dataframe\">\n",
       "  <thead>\n",
       "    <tr style=\"text-align: right;\">\n",
       "      <th></th>\n",
       "      <th>df0</th>\n",
       "      <th>df1</th>\n",
       "      <th>df2</th>\n",
       "      <th>df3</th>\n",
       "      <th>df4</th>\n",
       "      <th>df5</th>\n",
       "      <th>df</th>\n",
       "    </tr>\n",
       "    <tr>\n",
       "      <th>Intervention_Type_Counts</th>\n",
       "      <th></th>\n",
       "      <th></th>\n",
       "      <th></th>\n",
       "      <th></th>\n",
       "      <th></th>\n",
       "      <th></th>\n",
       "      <th></th>\n",
       "    </tr>\n",
       "  </thead>\n",
       "  <tbody>\n",
       "    <tr>\n",
       "      <th>count</th>\n",
       "      <td>2304.000000</td>\n",
       "      <td>27175.000000</td>\n",
       "      <td>28797.000000</td>\n",
       "      <td>16307.000000</td>\n",
       "      <td>13073.000000</td>\n",
       "      <td>97831.000000</td>\n",
       "      <td>177586.000000</td>\n",
       "    </tr>\n",
       "    <tr>\n",
       "      <th>mean</th>\n",
       "      <td>1.141493</td>\n",
       "      <td>1.075106</td>\n",
       "      <td>1.106157</td>\n",
       "      <td>1.076470</td>\n",
       "      <td>1.088656</td>\n",
       "      <td>1.041797</td>\n",
       "      <td>1.061931</td>\n",
       "    </tr>\n",
       "    <tr>\n",
       "      <th>std</th>\n",
       "      <td>0.398583</td>\n",
       "      <td>0.290277</td>\n",
       "      <td>0.343842</td>\n",
       "      <td>0.280356</td>\n",
       "      <td>0.303268</td>\n",
       "      <td>0.214283</td>\n",
       "      <td>0.261621</td>\n",
       "    </tr>\n",
       "    <tr>\n",
       "      <th>min</th>\n",
       "      <td>1.000000</td>\n",
       "      <td>1.000000</td>\n",
       "      <td>1.000000</td>\n",
       "      <td>1.000000</td>\n",
       "      <td>1.000000</td>\n",
       "      <td>1.000000</td>\n",
       "      <td>1.000000</td>\n",
       "    </tr>\n",
       "    <tr>\n",
       "      <th>25%</th>\n",
       "      <td>1.000000</td>\n",
       "      <td>1.000000</td>\n",
       "      <td>1.000000</td>\n",
       "      <td>1.000000</td>\n",
       "      <td>1.000000</td>\n",
       "      <td>1.000000</td>\n",
       "      <td>1.000000</td>\n",
       "    </tr>\n",
       "    <tr>\n",
       "      <th>50%</th>\n",
       "      <td>1.000000</td>\n",
       "      <td>1.000000</td>\n",
       "      <td>1.000000</td>\n",
       "      <td>1.000000</td>\n",
       "      <td>1.000000</td>\n",
       "      <td>1.000000</td>\n",
       "      <td>1.000000</td>\n",
       "    </tr>\n",
       "    <tr>\n",
       "      <th>75%</th>\n",
       "      <td>1.000000</td>\n",
       "      <td>1.000000</td>\n",
       "      <td>1.000000</td>\n",
       "      <td>1.000000</td>\n",
       "      <td>1.000000</td>\n",
       "      <td>1.000000</td>\n",
       "      <td>1.000000</td>\n",
       "    </tr>\n",
       "    <tr>\n",
       "      <th>max</th>\n",
       "      <td>4.000000</td>\n",
       "      <td>4.000000</td>\n",
       "      <td>5.000000</td>\n",
       "      <td>4.000000</td>\n",
       "      <td>4.000000</td>\n",
       "      <td>5.000000</td>\n",
       "      <td>5.000000</td>\n",
       "    </tr>\n",
       "  </tbody>\n",
       "</table>\n",
       "</div>"
      ],
      "text/plain": [
       "                                  df0           df1           df2  \\\n",
       "Intervention_Type_Counts                                            \n",
       "count                     2304.000000  27175.000000  28797.000000   \n",
       "mean                         1.141493      1.075106      1.106157   \n",
       "std                          0.398583      0.290277      0.343842   \n",
       "min                          1.000000      1.000000      1.000000   \n",
       "25%                          1.000000      1.000000      1.000000   \n",
       "50%                          1.000000      1.000000      1.000000   \n",
       "75%                          1.000000      1.000000      1.000000   \n",
       "max                          4.000000      4.000000      5.000000   \n",
       "\n",
       "                                   df3           df4           df5  \\\n",
       "Intervention_Type_Counts                                             \n",
       "count                     16307.000000  13073.000000  97831.000000   \n",
       "mean                          1.076470      1.088656      1.041797   \n",
       "std                           0.280356      0.303268      0.214283   \n",
       "min                           1.000000      1.000000      1.000000   \n",
       "25%                           1.000000      1.000000      1.000000   \n",
       "50%                           1.000000      1.000000      1.000000   \n",
       "75%                           1.000000      1.000000      1.000000   \n",
       "max                           4.000000      4.000000      5.000000   \n",
       "\n",
       "                                     df  \n",
       "Intervention_Type_Counts                 \n",
       "count                     177586.000000  \n",
       "mean                           1.061931  \n",
       "std                            0.261621  \n",
       "min                            1.000000  \n",
       "25%                            1.000000  \n",
       "50%                            1.000000  \n",
       "75%                            1.000000  \n",
       "max                            5.000000  "
      ]
     },
     "metadata": {},
     "output_type": "display_data"
    },
    {
     "data": {
      "application/vnd.microsoft.datawrangler.viewer.v0+json": {
       "columns": [
        {
         "name": "Intervention_Type_Categ",
         "rawType": "category",
         "type": "unknown"
        },
        {
         "name": "count",
         "rawType": "int64",
         "type": "integer"
        }
       ],
       "ref": "cde27f63-1e6e-41c1-8f2c-e4dc0bc39cd0",
       "rows": [
        [
         "1",
         "2018"
        ],
        [
         "2–4",
         "286"
        ]
       ],
       "shape": {
        "columns": 1,
        "rows": 2
       }
      },
      "text/plain": [
       "Intervention_Type_Categ\n",
       "1      2018\n",
       "2–4     286\n",
       "Name: count, dtype: int64"
      ]
     },
     "metadata": {},
     "output_type": "display_data"
    }
   ],
   "source": [
    "describes = def_describe('Intervention_Type_Counts')\n",
    "display(describes)\n",
    "\n",
    "col = 'Intervention_Type_Counts'\n",
    "col_categ = 'Intervention_Type_Categ'\n",
    "\n",
    "bins, labels = fun_bins2(dfis, col, bin1_val = 0, bin2_val = 1)\n",
    "\n",
    "df0[col_categ] = pd.cut(df0[col], bins = bins[0], labels = labels[0], ordered = True, include_lowest = True, right = True)\n",
    "df1[col_categ] = pd.cut(df1[col], bins = bins[1], labels = labels[1], ordered = True, include_lowest = True, right = True)\n",
    "df2[col_categ] = pd.cut(df2[col], bins = bins[2], labels = labels[2], ordered = True, include_lowest = True, right = True)\n",
    "df3[col_categ] = pd.cut(df3[col], bins = bins[3], labels = labels[3], ordered = True, include_lowest = True, right = True)\n",
    "df4[col_categ] = pd.cut(df4[col], bins = bins[4], labels = labels[4], ordered = True, include_lowest = True, right = True)\n",
    "df5[col_categ] = pd.cut(df5[col], bins = bins[5], labels = labels[5], ordered = True, include_lowest = True, right = True)\n",
    "df[col_categ] = pd.cut(df[col], bins = bins[6], labels = labels[6], ordered = True, include_lowest = True, right = True)\n",
    "\n",
    "display(df0['Intervention_Type_Categ'].value_counts())"
   ]
  },
  {
   "cell_type": "markdown",
   "metadata": {},
   "source": [
    "### Intervention_Method_Counts"
   ]
  },
  {
   "cell_type": "code",
   "execution_count": 484,
   "metadata": {},
   "outputs": [
    {
     "data": {
      "application/vnd.microsoft.datawrangler.viewer.v0+json": {
       "columns": [
        {
         "name": "Intervention_Method_Counts",
         "rawType": "object",
         "type": "string"
        },
        {
         "name": "df0",
         "rawType": "float64",
         "type": "float"
        },
        {
         "name": "df1",
         "rawType": "float64",
         "type": "float"
        },
        {
         "name": "df2",
         "rawType": "float64",
         "type": "float"
        },
        {
         "name": "df3",
         "rawType": "float64",
         "type": "float"
        },
        {
         "name": "df4",
         "rawType": "float64",
         "type": "float"
        },
        {
         "name": "df5",
         "rawType": "float64",
         "type": "float"
        },
        {
         "name": "df",
         "rawType": "float64",
         "type": "float"
        }
       ],
       "ref": "bfb563f6-1331-456e-8933-2fde3aae0ef8",
       "rows": [
        [
         "count",
         "2304.0",
         "27175.0",
         "28797.0",
         "16307.0",
         "13073.0",
         "97831.0",
         "177586.0"
        ],
        [
         "mean",
         "1.3094618055555556",
         "1.18524379024839",
         "1.23509393339584",
         "1.2072116269086894",
         "1.3146179147862005",
         "1.1988837893919106",
         "1.211232867455768"
        ],
        [
         "std",
         "0.5490898531200006",
         "0.4403593362603243",
         "0.48923734170078653",
         "0.461629104042654",
         "0.5482374476416777",
         "0.45461862673714",
         "0.4669451182747095"
        ],
        [
         "min",
         "1.0",
         "1.0",
         "1.0",
         "1.0",
         "1.0",
         "1.0",
         "1.0"
        ],
        [
         "25%",
         "1.0",
         "1.0",
         "1.0",
         "1.0",
         "1.0",
         "1.0",
         "1.0"
        ],
        [
         "50%",
         "1.0",
         "1.0",
         "1.0",
         "1.0",
         "1.0",
         "1.0",
         "1.0"
        ],
        [
         "75%",
         "2.0",
         "1.0",
         "1.0",
         "1.0",
         "2.0",
         "1.0",
         "1.0"
        ],
        [
         "max",
         "4.0",
         "4.0",
         "4.0",
         "4.0",
         "4.0",
         "4.0",
         "4.0"
        ]
       ],
       "shape": {
        "columns": 7,
        "rows": 8
       }
      },
      "text/html": [
       "<div>\n",
       "<style scoped>\n",
       "    .dataframe tbody tr th:only-of-type {\n",
       "        vertical-align: middle;\n",
       "    }\n",
       "\n",
       "    .dataframe tbody tr th {\n",
       "        vertical-align: top;\n",
       "    }\n",
       "\n",
       "    .dataframe thead th {\n",
       "        text-align: right;\n",
       "    }\n",
       "</style>\n",
       "<table border=\"1\" class=\"dataframe\">\n",
       "  <thead>\n",
       "    <tr style=\"text-align: right;\">\n",
       "      <th></th>\n",
       "      <th>df0</th>\n",
       "      <th>df1</th>\n",
       "      <th>df2</th>\n",
       "      <th>df3</th>\n",
       "      <th>df4</th>\n",
       "      <th>df5</th>\n",
       "      <th>df</th>\n",
       "    </tr>\n",
       "    <tr>\n",
       "      <th>Intervention_Method_Counts</th>\n",
       "      <th></th>\n",
       "      <th></th>\n",
       "      <th></th>\n",
       "      <th></th>\n",
       "      <th></th>\n",
       "      <th></th>\n",
       "      <th></th>\n",
       "    </tr>\n",
       "  </thead>\n",
       "  <tbody>\n",
       "    <tr>\n",
       "      <th>count</th>\n",
       "      <td>2304.000000</td>\n",
       "      <td>27175.000000</td>\n",
       "      <td>28797.000000</td>\n",
       "      <td>16307.000000</td>\n",
       "      <td>13073.000000</td>\n",
       "      <td>97831.000000</td>\n",
       "      <td>177586.000000</td>\n",
       "    </tr>\n",
       "    <tr>\n",
       "      <th>mean</th>\n",
       "      <td>1.309462</td>\n",
       "      <td>1.185244</td>\n",
       "      <td>1.235094</td>\n",
       "      <td>1.207212</td>\n",
       "      <td>1.314618</td>\n",
       "      <td>1.198884</td>\n",
       "      <td>1.211233</td>\n",
       "    </tr>\n",
       "    <tr>\n",
       "      <th>std</th>\n",
       "      <td>0.549090</td>\n",
       "      <td>0.440359</td>\n",
       "      <td>0.489237</td>\n",
       "      <td>0.461629</td>\n",
       "      <td>0.548237</td>\n",
       "      <td>0.454619</td>\n",
       "      <td>0.466945</td>\n",
       "    </tr>\n",
       "    <tr>\n",
       "      <th>min</th>\n",
       "      <td>1.000000</td>\n",
       "      <td>1.000000</td>\n",
       "      <td>1.000000</td>\n",
       "      <td>1.000000</td>\n",
       "      <td>1.000000</td>\n",
       "      <td>1.000000</td>\n",
       "      <td>1.000000</td>\n",
       "    </tr>\n",
       "    <tr>\n",
       "      <th>25%</th>\n",
       "      <td>1.000000</td>\n",
       "      <td>1.000000</td>\n",
       "      <td>1.000000</td>\n",
       "      <td>1.000000</td>\n",
       "      <td>1.000000</td>\n",
       "      <td>1.000000</td>\n",
       "      <td>1.000000</td>\n",
       "    </tr>\n",
       "    <tr>\n",
       "      <th>50%</th>\n",
       "      <td>1.000000</td>\n",
       "      <td>1.000000</td>\n",
       "      <td>1.000000</td>\n",
       "      <td>1.000000</td>\n",
       "      <td>1.000000</td>\n",
       "      <td>1.000000</td>\n",
       "      <td>1.000000</td>\n",
       "    </tr>\n",
       "    <tr>\n",
       "      <th>75%</th>\n",
       "      <td>2.000000</td>\n",
       "      <td>1.000000</td>\n",
       "      <td>1.000000</td>\n",
       "      <td>1.000000</td>\n",
       "      <td>2.000000</td>\n",
       "      <td>1.000000</td>\n",
       "      <td>1.000000</td>\n",
       "    </tr>\n",
       "    <tr>\n",
       "      <th>max</th>\n",
       "      <td>4.000000</td>\n",
       "      <td>4.000000</td>\n",
       "      <td>4.000000</td>\n",
       "      <td>4.000000</td>\n",
       "      <td>4.000000</td>\n",
       "      <td>4.000000</td>\n",
       "      <td>4.000000</td>\n",
       "    </tr>\n",
       "  </tbody>\n",
       "</table>\n",
       "</div>"
      ],
      "text/plain": [
       "                                    df0           df1           df2  \\\n",
       "Intervention_Method_Counts                                            \n",
       "count                       2304.000000  27175.000000  28797.000000   \n",
       "mean                           1.309462      1.185244      1.235094   \n",
       "std                            0.549090      0.440359      0.489237   \n",
       "min                            1.000000      1.000000      1.000000   \n",
       "25%                            1.000000      1.000000      1.000000   \n",
       "50%                            1.000000      1.000000      1.000000   \n",
       "75%                            2.000000      1.000000      1.000000   \n",
       "max                            4.000000      4.000000      4.000000   \n",
       "\n",
       "                                     df3           df4           df5  \\\n",
       "Intervention_Method_Counts                                             \n",
       "count                       16307.000000  13073.000000  97831.000000   \n",
       "mean                            1.207212      1.314618      1.198884   \n",
       "std                             0.461629      0.548237      0.454619   \n",
       "min                             1.000000      1.000000      1.000000   \n",
       "25%                             1.000000      1.000000      1.000000   \n",
       "50%                             1.000000      1.000000      1.000000   \n",
       "75%                             1.000000      2.000000      1.000000   \n",
       "max                             4.000000      4.000000      4.000000   \n",
       "\n",
       "                                       df  \n",
       "Intervention_Method_Counts                 \n",
       "count                       177586.000000  \n",
       "mean                             1.211233  \n",
       "std                              0.466945  \n",
       "min                              1.000000  \n",
       "25%                              1.000000  \n",
       "50%                              1.000000  \n",
       "75%                              1.000000  \n",
       "max                              4.000000  "
      ]
     },
     "metadata": {},
     "output_type": "display_data"
    },
    {
     "data": {
      "application/vnd.microsoft.datawrangler.viewer.v0+json": {
       "columns": [
        {
         "name": "Intervention_Method_Categ",
         "rawType": "category",
         "type": "unknown"
        },
        {
         "name": "count",
         "rawType": "int64",
         "type": "integer"
        }
       ],
       "ref": "ea44b9d0-ac6b-4442-bad3-245575e391d5",
       "rows": [
        [
         "1",
         "1689"
        ],
        [
         "2–4",
         "615"
        ]
       ],
       "shape": {
        "columns": 1,
        "rows": 2
       }
      },
      "text/plain": [
       "Intervention_Method_Categ\n",
       "1      1689\n",
       "2–4     615\n",
       "Name: count, dtype: int64"
      ]
     },
     "metadata": {},
     "output_type": "display_data"
    }
   ],
   "source": [
    "describes = def_describe('Intervention_Method_Counts')\n",
    "display(describes)\n",
    "\n",
    "col = 'Intervention_Method_Counts'\n",
    "col_categ = 'Intervention_Method_Categ'\n",
    "\n",
    "bins, labels = fun_bins2(dfis, col, bin1_val = 0, bin2_val = 1)\n",
    "\n",
    "df0[col_categ] = pd.cut(df0[col], bins = bins[0], labels = labels[0], ordered = True, include_lowest = True, right = True)\n",
    "df1[col_categ] = pd.cut(df1[col], bins = bins[1], labels = labels[1], ordered = True, include_lowest = True, right = True)\n",
    "df2[col_categ] = pd.cut(df2[col], bins = bins[2], labels = labels[2], ordered = True, include_lowest = True, right = True)\n",
    "df3[col_categ] = pd.cut(df3[col], bins = bins[3], labels = labels[3], ordered = True, include_lowest = True, right = True)\n",
    "df4[col_categ] = pd.cut(df4[col], bins = bins[4], labels = labels[4], ordered = True, include_lowest = True, right = True)\n",
    "df5[col_categ] = pd.cut(df5[col], bins = bins[5], labels = labels[5], ordered = True, include_lowest = True, right = True)\n",
    "df[col_categ] = pd.cut(df[col], bins = bins[6], labels = labels[6], ordered = True, include_lowest = True, right = True)\n",
    "\n",
    "display(df0['Intervention_Method_Categ'].value_counts())"
   ]
  },
  {
   "cell_type": "markdown",
   "metadata": {},
   "source": [
    "### City_Categ"
   ]
  },
  {
   "cell_type": "code",
   "execution_count": 485,
   "metadata": {},
   "outputs": [
    {
     "data": {
      "application/vnd.microsoft.datawrangler.viewer.v0+json": {
       "columns": [
        {
         "name": "City_Counts",
         "rawType": "object",
         "type": "string"
        },
        {
         "name": "df0",
         "rawType": "float64",
         "type": "float"
        },
        {
         "name": "df1",
         "rawType": "float64",
         "type": "float"
        },
        {
         "name": "df2",
         "rawType": "float64",
         "type": "float"
        },
        {
         "name": "df3",
         "rawType": "float64",
         "type": "float"
        },
        {
         "name": "df4",
         "rawType": "float64",
         "type": "float"
        },
        {
         "name": "df5",
         "rawType": "float64",
         "type": "float"
        },
        {
         "name": "df",
         "rawType": "float64",
         "type": "float"
        }
       ],
       "ref": "42219a16-d385-40d1-9c57-f466b089c58d",
       "rows": [
        [
         "count",
         "2304.0",
         "27175.0",
         "28797.0",
         "16307.0",
         "13073.0",
         "97831.0",
         "177586.0"
        ],
        [
         "mean",
         "1.2282986111111112",
         "2.8654277828886845",
         "9.132513803521201",
         "27.06359232231557",
         "4.422397307427523",
         "1.5819627725363126",
         "5.3434504972238805"
        ],
        [
         "std",
         "3.785609044276428",
         "6.149534013267592",
         "22.76980989183421",
         "58.38947982112477",
         "18.304550608677822",
         "4.980604856015326",
         "21.85341983754522"
        ],
        [
         "min",
         "0.0",
         "0.0",
         "0.0",
         "0.0",
         "0.0",
         "0.0",
         "0.0"
        ],
        [
         "25%",
         "1.0",
         "1.0",
         "1.0",
         "1.0",
         "1.0",
         "1.0",
         "1.0"
        ],
        [
         "50%",
         "1.0",
         "1.0",
         "1.0",
         "3.0",
         "1.0",
         "1.0",
         "1.0"
        ],
        [
         "75%",
         "1.0",
         "2.0",
         "8.0",
         "29.0",
         "1.0",
         "1.0",
         "1.0"
        ],
        [
         "max",
         "156.0",
         "282.0",
         "666.0",
         "1087.0",
         "617.0",
         "691.0",
         "1087.0"
        ]
       ],
       "shape": {
        "columns": 7,
        "rows": 8
       }
      },
      "text/html": [
       "<div>\n",
       "<style scoped>\n",
       "    .dataframe tbody tr th:only-of-type {\n",
       "        vertical-align: middle;\n",
       "    }\n",
       "\n",
       "    .dataframe tbody tr th {\n",
       "        vertical-align: top;\n",
       "    }\n",
       "\n",
       "    .dataframe thead th {\n",
       "        text-align: right;\n",
       "    }\n",
       "</style>\n",
       "<table border=\"1\" class=\"dataframe\">\n",
       "  <thead>\n",
       "    <tr style=\"text-align: right;\">\n",
       "      <th></th>\n",
       "      <th>df0</th>\n",
       "      <th>df1</th>\n",
       "      <th>df2</th>\n",
       "      <th>df3</th>\n",
       "      <th>df4</th>\n",
       "      <th>df5</th>\n",
       "      <th>df</th>\n",
       "    </tr>\n",
       "    <tr>\n",
       "      <th>City_Counts</th>\n",
       "      <th></th>\n",
       "      <th></th>\n",
       "      <th></th>\n",
       "      <th></th>\n",
       "      <th></th>\n",
       "      <th></th>\n",
       "      <th></th>\n",
       "    </tr>\n",
       "  </thead>\n",
       "  <tbody>\n",
       "    <tr>\n",
       "      <th>count</th>\n",
       "      <td>2304.000000</td>\n",
       "      <td>27175.000000</td>\n",
       "      <td>28797.000000</td>\n",
       "      <td>16307.000000</td>\n",
       "      <td>13073.000000</td>\n",
       "      <td>97831.000000</td>\n",
       "      <td>177586.00000</td>\n",
       "    </tr>\n",
       "    <tr>\n",
       "      <th>mean</th>\n",
       "      <td>1.228299</td>\n",
       "      <td>2.865428</td>\n",
       "      <td>9.132514</td>\n",
       "      <td>27.063592</td>\n",
       "      <td>4.422397</td>\n",
       "      <td>1.581963</td>\n",
       "      <td>5.34345</td>\n",
       "    </tr>\n",
       "    <tr>\n",
       "      <th>std</th>\n",
       "      <td>3.785609</td>\n",
       "      <td>6.149534</td>\n",
       "      <td>22.769810</td>\n",
       "      <td>58.389480</td>\n",
       "      <td>18.304551</td>\n",
       "      <td>4.980605</td>\n",
       "      <td>21.85342</td>\n",
       "    </tr>\n",
       "    <tr>\n",
       "      <th>min</th>\n",
       "      <td>0.000000</td>\n",
       "      <td>0.000000</td>\n",
       "      <td>0.000000</td>\n",
       "      <td>0.000000</td>\n",
       "      <td>0.000000</td>\n",
       "      <td>0.000000</td>\n",
       "      <td>0.00000</td>\n",
       "    </tr>\n",
       "    <tr>\n",
       "      <th>25%</th>\n",
       "      <td>1.000000</td>\n",
       "      <td>1.000000</td>\n",
       "      <td>1.000000</td>\n",
       "      <td>1.000000</td>\n",
       "      <td>1.000000</td>\n",
       "      <td>1.000000</td>\n",
       "      <td>1.00000</td>\n",
       "    </tr>\n",
       "    <tr>\n",
       "      <th>50%</th>\n",
       "      <td>1.000000</td>\n",
       "      <td>1.000000</td>\n",
       "      <td>1.000000</td>\n",
       "      <td>3.000000</td>\n",
       "      <td>1.000000</td>\n",
       "      <td>1.000000</td>\n",
       "      <td>1.00000</td>\n",
       "    </tr>\n",
       "    <tr>\n",
       "      <th>75%</th>\n",
       "      <td>1.000000</td>\n",
       "      <td>2.000000</td>\n",
       "      <td>8.000000</td>\n",
       "      <td>29.000000</td>\n",
       "      <td>1.000000</td>\n",
       "      <td>1.000000</td>\n",
       "      <td>1.00000</td>\n",
       "    </tr>\n",
       "    <tr>\n",
       "      <th>max</th>\n",
       "      <td>156.000000</td>\n",
       "      <td>282.000000</td>\n",
       "      <td>666.000000</td>\n",
       "      <td>1087.000000</td>\n",
       "      <td>617.000000</td>\n",
       "      <td>691.000000</td>\n",
       "      <td>1087.00000</td>\n",
       "    </tr>\n",
       "  </tbody>\n",
       "</table>\n",
       "</div>"
      ],
      "text/plain": [
       "                     df0           df1           df2           df3  \\\n",
       "City_Counts                                                          \n",
       "count        2304.000000  27175.000000  28797.000000  16307.000000   \n",
       "mean            1.228299      2.865428      9.132514     27.063592   \n",
       "std             3.785609      6.149534     22.769810     58.389480   \n",
       "min             0.000000      0.000000      0.000000      0.000000   \n",
       "25%             1.000000      1.000000      1.000000      1.000000   \n",
       "50%             1.000000      1.000000      1.000000      3.000000   \n",
       "75%             1.000000      2.000000      8.000000     29.000000   \n",
       "max           156.000000    282.000000    666.000000   1087.000000   \n",
       "\n",
       "                      df4           df5            df  \n",
       "City_Counts                                            \n",
       "count        13073.000000  97831.000000  177586.00000  \n",
       "mean             4.422397      1.581963       5.34345  \n",
       "std             18.304551      4.980605      21.85342  \n",
       "min              0.000000      0.000000       0.00000  \n",
       "25%              1.000000      1.000000       1.00000  \n",
       "50%              1.000000      1.000000       1.00000  \n",
       "75%              1.000000      1.000000       1.00000  \n",
       "max            617.000000    691.000000    1087.00000  "
      ]
     },
     "metadata": {},
     "output_type": "display_data"
    },
    {
     "data": {
      "application/vnd.microsoft.datawrangler.viewer.v0+json": {
       "columns": [
        {
         "name": "City_Categ",
         "rawType": "category",
         "type": "unknown"
        },
        {
         "name": "count",
         "rawType": "int64",
         "type": "integer"
        }
       ],
       "ref": "b55acb37-3ed1-4f2e-bccb-4d7696a1b444",
       "rows": [
        [
         "0–1",
         "2151"
        ],
        [
         "2–156",
         "153"
        ]
       ],
       "shape": {
        "columns": 1,
        "rows": 2
       }
      },
      "text/plain": [
       "City_Categ\n",
       "0–1      2151\n",
       "2–156     153\n",
       "Name: count, dtype: int64"
      ]
     },
     "execution_count": 485,
     "metadata": {},
     "output_type": "execute_result"
    }
   ],
   "source": [
    "describes = def_describe('City_Counts')\n",
    "display(describes)\n",
    "\n",
    "col = 'City_Counts'\n",
    "col_categ = 'City_Categ'\n",
    "\n",
    "bins, labels = fun_bins(dfis, col, bin2_val = 1, use_quantile = False)\n",
    "\n",
    "df0[col_categ] = pd.cut(df0[col], bins = bins[0], labels = labels[0], ordered = True, include_lowest = True, right = True)\n",
    "df1[col_categ] = pd.cut(df1[col], bins = bins[1], labels = labels[1], ordered = True, include_lowest = True, right = True)\n",
    "df2[col_categ] = pd.cut(df2[col], bins = bins[2], labels = labels[2], ordered = True, include_lowest = True, right = True)\n",
    "df3[col_categ] = pd.cut(df3[col], bins = bins[3], labels = labels[3], ordered = True, include_lowest = True, right = True)\n",
    "df4[col_categ] = pd.cut(df4[col], bins = bins[4], labels = labels[4], ordered = True, include_lowest = True, right = True)\n",
    "df5[col_categ] = pd.cut(df5[col], bins = bins[5], labels = labels[5], ordered = True, include_lowest = True, right = True)\n",
    "df[col_categ] = pd.cut(df[col], bins = bins[6], labels = labels[6], ordered = True, include_lowest = True, right = True)\n",
    "\n",
    "df0['City_Categ'].value_counts(dropna = False)"
   ]
  },
  {
   "cell_type": "markdown",
   "metadata": {},
   "source": [
    "### Country_Categ"
   ]
  },
  {
   "cell_type": "code",
   "execution_count": 486,
   "metadata": {},
   "outputs": [
    {
     "data": {
      "application/vnd.microsoft.datawrangler.viewer.v0+json": {
       "columns": [
        {
         "name": "Country_Counts",
         "rawType": "object",
         "type": "string"
        },
        {
         "name": "df0",
         "rawType": "float64",
         "type": "float"
        },
        {
         "name": "df1",
         "rawType": "float64",
         "type": "float"
        },
        {
         "name": "df2",
         "rawType": "float64",
         "type": "float"
        },
        {
         "name": "df3",
         "rawType": "float64",
         "type": "float"
        },
        {
         "name": "df4",
         "rawType": "float64",
         "type": "float"
        },
        {
         "name": "df5",
         "rawType": "float64",
         "type": "float"
        },
        {
         "name": "df",
         "rawType": "float64",
         "type": "float"
        }
       ],
       "ref": "b5d94d2b-1398-42c8-a9c5-cd08ec14820c",
       "rows": [
        [
         "count",
         "2304.0",
         "27175.0",
         "28797.0",
         "16307.0",
         "13073.0",
         "97831.0",
         "177586.0"
        ],
        [
         "mean",
         "0.9778645833333334",
         "1.2638454461821527",
         "1.9060666041601555",
         "3.970196847979395",
         "1.253805553430735",
         "0.9936932056301172",
         "1.4485601342448167"
        ],
        [
         "std",
         "0.439017126356185",
         "1.2242223654413775",
         "2.86237374113828",
         "6.571645714192813",
         "1.9991176368635062",
         "0.6537315240438623",
         "2.5593241129482887"
        ],
        [
         "min",
         "0.0",
         "0.0",
         "0.0",
         "0.0",
         "0.0",
         "0.0",
         "0.0"
        ],
        [
         "25%",
         "1.0",
         "1.0",
         "1.0",
         "1.0",
         "1.0",
         "1.0",
         "1.0"
        ],
        [
         "50%",
         "1.0",
         "1.0",
         "1.0",
         "1.0",
         "1.0",
         "1.0",
         "1.0"
        ],
        [
         "75%",
         "1.0",
         "1.0",
         "1.0",
         "3.0",
         "1.0",
         "1.0",
         "1.0"
        ],
        [
         "max",
         "10.0",
         "33.0",
         "46.0",
         "59.0",
         "42.0",
         "49.0",
         "59.0"
        ]
       ],
       "shape": {
        "columns": 7,
        "rows": 8
       }
      },
      "text/html": [
       "<div>\n",
       "<style scoped>\n",
       "    .dataframe tbody tr th:only-of-type {\n",
       "        vertical-align: middle;\n",
       "    }\n",
       "\n",
       "    .dataframe tbody tr th {\n",
       "        vertical-align: top;\n",
       "    }\n",
       "\n",
       "    .dataframe thead th {\n",
       "        text-align: right;\n",
       "    }\n",
       "</style>\n",
       "<table border=\"1\" class=\"dataframe\">\n",
       "  <thead>\n",
       "    <tr style=\"text-align: right;\">\n",
       "      <th></th>\n",
       "      <th>df0</th>\n",
       "      <th>df1</th>\n",
       "      <th>df2</th>\n",
       "      <th>df3</th>\n",
       "      <th>df4</th>\n",
       "      <th>df5</th>\n",
       "      <th>df</th>\n",
       "    </tr>\n",
       "    <tr>\n",
       "      <th>Country_Counts</th>\n",
       "      <th></th>\n",
       "      <th></th>\n",
       "      <th></th>\n",
       "      <th></th>\n",
       "      <th></th>\n",
       "      <th></th>\n",
       "      <th></th>\n",
       "    </tr>\n",
       "  </thead>\n",
       "  <tbody>\n",
       "    <tr>\n",
       "      <th>count</th>\n",
       "      <td>2304.000000</td>\n",
       "      <td>27175.000000</td>\n",
       "      <td>28797.000000</td>\n",
       "      <td>16307.000000</td>\n",
       "      <td>13073.000000</td>\n",
       "      <td>97831.000000</td>\n",
       "      <td>177586.000000</td>\n",
       "    </tr>\n",
       "    <tr>\n",
       "      <th>mean</th>\n",
       "      <td>0.977865</td>\n",
       "      <td>1.263845</td>\n",
       "      <td>1.906067</td>\n",
       "      <td>3.970197</td>\n",
       "      <td>1.253806</td>\n",
       "      <td>0.993693</td>\n",
       "      <td>1.448560</td>\n",
       "    </tr>\n",
       "    <tr>\n",
       "      <th>std</th>\n",
       "      <td>0.439017</td>\n",
       "      <td>1.224222</td>\n",
       "      <td>2.862374</td>\n",
       "      <td>6.571646</td>\n",
       "      <td>1.999118</td>\n",
       "      <td>0.653732</td>\n",
       "      <td>2.559324</td>\n",
       "    </tr>\n",
       "    <tr>\n",
       "      <th>min</th>\n",
       "      <td>0.000000</td>\n",
       "      <td>0.000000</td>\n",
       "      <td>0.000000</td>\n",
       "      <td>0.000000</td>\n",
       "      <td>0.000000</td>\n",
       "      <td>0.000000</td>\n",
       "      <td>0.000000</td>\n",
       "    </tr>\n",
       "    <tr>\n",
       "      <th>25%</th>\n",
       "      <td>1.000000</td>\n",
       "      <td>1.000000</td>\n",
       "      <td>1.000000</td>\n",
       "      <td>1.000000</td>\n",
       "      <td>1.000000</td>\n",
       "      <td>1.000000</td>\n",
       "      <td>1.000000</td>\n",
       "    </tr>\n",
       "    <tr>\n",
       "      <th>50%</th>\n",
       "      <td>1.000000</td>\n",
       "      <td>1.000000</td>\n",
       "      <td>1.000000</td>\n",
       "      <td>1.000000</td>\n",
       "      <td>1.000000</td>\n",
       "      <td>1.000000</td>\n",
       "      <td>1.000000</td>\n",
       "    </tr>\n",
       "    <tr>\n",
       "      <th>75%</th>\n",
       "      <td>1.000000</td>\n",
       "      <td>1.000000</td>\n",
       "      <td>1.000000</td>\n",
       "      <td>3.000000</td>\n",
       "      <td>1.000000</td>\n",
       "      <td>1.000000</td>\n",
       "      <td>1.000000</td>\n",
       "    </tr>\n",
       "    <tr>\n",
       "      <th>max</th>\n",
       "      <td>10.000000</td>\n",
       "      <td>33.000000</td>\n",
       "      <td>46.000000</td>\n",
       "      <td>59.000000</td>\n",
       "      <td>42.000000</td>\n",
       "      <td>49.000000</td>\n",
       "      <td>59.000000</td>\n",
       "    </tr>\n",
       "  </tbody>\n",
       "</table>\n",
       "</div>"
      ],
      "text/plain": [
       "                        df0           df1           df2           df3  \\\n",
       "Country_Counts                                                          \n",
       "count           2304.000000  27175.000000  28797.000000  16307.000000   \n",
       "mean               0.977865      1.263845      1.906067      3.970197   \n",
       "std                0.439017      1.224222      2.862374      6.571646   \n",
       "min                0.000000      0.000000      0.000000      0.000000   \n",
       "25%                1.000000      1.000000      1.000000      1.000000   \n",
       "50%                1.000000      1.000000      1.000000      1.000000   \n",
       "75%                1.000000      1.000000      1.000000      3.000000   \n",
       "max               10.000000     33.000000     46.000000     59.000000   \n",
       "\n",
       "                         df4           df5             df  \n",
       "Country_Counts                                             \n",
       "count           13073.000000  97831.000000  177586.000000  \n",
       "mean                1.253806      0.993693       1.448560  \n",
       "std                 1.999118      0.653732       2.559324  \n",
       "min                 0.000000      0.000000       0.000000  \n",
       "25%                 1.000000      1.000000       1.000000  \n",
       "50%                 1.000000      1.000000       1.000000  \n",
       "75%                 1.000000      1.000000       1.000000  \n",
       "max                42.000000     49.000000      59.000000  "
      ]
     },
     "metadata": {},
     "output_type": "display_data"
    },
    {
     "data": {
      "application/vnd.microsoft.datawrangler.viewer.v0+json": {
       "columns": [
        {
         "name": "Country_Categ",
         "rawType": "category",
         "type": "unknown"
        },
        {
         "name": "count",
         "rawType": "int64",
         "type": "integer"
        }
       ],
       "ref": "17502aac-f2a2-48cb-b059-8cd6a34e4b6d",
       "rows": [
        [
         "0–1",
         "2277"
        ],
        [
         "2–10",
         "27"
        ]
       ],
       "shape": {
        "columns": 1,
        "rows": 2
       }
      },
      "text/plain": [
       "Country_Categ\n",
       "0–1     2277\n",
       "2–10      27\n",
       "Name: count, dtype: int64"
      ]
     },
     "execution_count": 486,
     "metadata": {},
     "output_type": "execute_result"
    }
   ],
   "source": [
    "describes = def_describe('Country_Counts')\n",
    "display(describes)\n",
    "\n",
    "col = 'Country_Counts'\n",
    "col_categ = 'Country_Categ'\n",
    "\n",
    "bins, labels = fun_bins(dfis, col, bin2_val = 1, use_quantile = False)\n",
    "\n",
    "df0[col_categ] = pd.cut(df0[col], bins = bins[0], labels = labels[0], ordered = True, include_lowest = True, right = True)\n",
    "df1[col_categ] = pd.cut(df1[col], bins = bins[1], labels = labels[1], ordered = True, include_lowest = True, right = True)\n",
    "df2[col_categ] = pd.cut(df2[col], bins = bins[2], labels = labels[2], ordered = True, include_lowest = True, right = True)\n",
    "df3[col_categ] = pd.cut(df3[col], bins = bins[3], labels = labels[3], ordered = True, include_lowest = True, right = True)\n",
    "df4[col_categ] = pd.cut(df4[col], bins = bins[4], labels = labels[4], ordered = True, include_lowest = True, right = True)\n",
    "df5[col_categ] = pd.cut(df5[col], bins = bins[5], labels = labels[5], ordered = True, include_lowest = True, right = True)\n",
    "df[col_categ] = pd.cut(df[col], bins = bins[6], labels = labels[6], ordered = True, include_lowest = True, right = True)\n",
    "\n",
    "df0['Country_Categ'].value_counts(dropna = False)"
   ]
  },
  {
   "cell_type": "markdown",
   "metadata": {},
   "source": [
    "### Continent_Categ"
   ]
  },
  {
   "cell_type": "code",
   "execution_count": 487,
   "metadata": {},
   "outputs": [
    {
     "data": {
      "application/vnd.microsoft.datawrangler.viewer.v0+json": {
       "columns": [
        {
         "name": "Continent_Counts",
         "rawType": "object",
         "type": "string"
        },
        {
         "name": "df0",
         "rawType": "float64",
         "type": "float"
        },
        {
         "name": "df1",
         "rawType": "float64",
         "type": "float"
        },
        {
         "name": "df2",
         "rawType": "float64",
         "type": "float"
        },
        {
         "name": "df3",
         "rawType": "float64",
         "type": "float"
        },
        {
         "name": "df4",
         "rawType": "float64",
         "type": "float"
        },
        {
         "name": "df5",
         "rawType": "float64",
         "type": "float"
        },
        {
         "name": "df",
         "rawType": "float64",
         "type": "float"
        }
       ],
       "ref": "857bb52e-1a87-4a6f-94e9-9a6e641b1d90",
       "rows": [
        [
         "count",
         "2304.0",
         "27175.0",
         "28797.0",
         "16307.0",
         "13073.0",
         "97831.0",
         "177586.0"
        ],
        [
         "mean",
         "0.9457465277777778",
         "1.0244342226310947",
         "1.1726568739799286",
         "1.5169559085055497",
         "0.9445421861852673",
         "0.9235620611053756",
         "1.0277105177209915"
        ],
        [
         "std",
         "0.2604467886762109",
         "0.5017733942709988",
         "0.7642145140842406",
         "1.3048246077222754",
         "0.5167625515195767",
         "0.3341663478598208",
         "0.6183127434074525"
        ],
        [
         "min",
         "0.0",
         "0.0",
         "0.0",
         "0.0",
         "0.0",
         "0.0",
         "0.0"
        ],
        [
         "25%",
         "1.0",
         "1.0",
         "1.0",
         "1.0",
         "1.0",
         "1.0",
         "1.0"
        ],
        [
         "50%",
         "1.0",
         "1.0",
         "1.0",
         "1.0",
         "1.0",
         "1.0",
         "1.0"
        ],
        [
         "75%",
         "1.0",
         "1.0",
         "1.0",
         "2.0",
         "1.0",
         "1.0",
         "1.0"
        ],
        [
         "max",
         "3.0",
         "6.0",
         "6.0",
         "6.0",
         "6.0",
         "6.0",
         "6.0"
        ]
       ],
       "shape": {
        "columns": 7,
        "rows": 8
       }
      },
      "text/html": [
       "<div>\n",
       "<style scoped>\n",
       "    .dataframe tbody tr th:only-of-type {\n",
       "        vertical-align: middle;\n",
       "    }\n",
       "\n",
       "    .dataframe tbody tr th {\n",
       "        vertical-align: top;\n",
       "    }\n",
       "\n",
       "    .dataframe thead th {\n",
       "        text-align: right;\n",
       "    }\n",
       "</style>\n",
       "<table border=\"1\" class=\"dataframe\">\n",
       "  <thead>\n",
       "    <tr style=\"text-align: right;\">\n",
       "      <th></th>\n",
       "      <th>df0</th>\n",
       "      <th>df1</th>\n",
       "      <th>df2</th>\n",
       "      <th>df3</th>\n",
       "      <th>df4</th>\n",
       "      <th>df5</th>\n",
       "      <th>df</th>\n",
       "    </tr>\n",
       "    <tr>\n",
       "      <th>Continent_Counts</th>\n",
       "      <th></th>\n",
       "      <th></th>\n",
       "      <th></th>\n",
       "      <th></th>\n",
       "      <th></th>\n",
       "      <th></th>\n",
       "      <th></th>\n",
       "    </tr>\n",
       "  </thead>\n",
       "  <tbody>\n",
       "    <tr>\n",
       "      <th>count</th>\n",
       "      <td>2304.000000</td>\n",
       "      <td>27175.000000</td>\n",
       "      <td>28797.000000</td>\n",
       "      <td>16307.000000</td>\n",
       "      <td>13073.000000</td>\n",
       "      <td>97831.000000</td>\n",
       "      <td>177586.000000</td>\n",
       "    </tr>\n",
       "    <tr>\n",
       "      <th>mean</th>\n",
       "      <td>0.945747</td>\n",
       "      <td>1.024434</td>\n",
       "      <td>1.172657</td>\n",
       "      <td>1.516956</td>\n",
       "      <td>0.944542</td>\n",
       "      <td>0.923562</td>\n",
       "      <td>1.027711</td>\n",
       "    </tr>\n",
       "    <tr>\n",
       "      <th>std</th>\n",
       "      <td>0.260447</td>\n",
       "      <td>0.501773</td>\n",
       "      <td>0.764215</td>\n",
       "      <td>1.304825</td>\n",
       "      <td>0.516763</td>\n",
       "      <td>0.334166</td>\n",
       "      <td>0.618313</td>\n",
       "    </tr>\n",
       "    <tr>\n",
       "      <th>min</th>\n",
       "      <td>0.000000</td>\n",
       "      <td>0.000000</td>\n",
       "      <td>0.000000</td>\n",
       "      <td>0.000000</td>\n",
       "      <td>0.000000</td>\n",
       "      <td>0.000000</td>\n",
       "      <td>0.000000</td>\n",
       "    </tr>\n",
       "    <tr>\n",
       "      <th>25%</th>\n",
       "      <td>1.000000</td>\n",
       "      <td>1.000000</td>\n",
       "      <td>1.000000</td>\n",
       "      <td>1.000000</td>\n",
       "      <td>1.000000</td>\n",
       "      <td>1.000000</td>\n",
       "      <td>1.000000</td>\n",
       "    </tr>\n",
       "    <tr>\n",
       "      <th>50%</th>\n",
       "      <td>1.000000</td>\n",
       "      <td>1.000000</td>\n",
       "      <td>1.000000</td>\n",
       "      <td>1.000000</td>\n",
       "      <td>1.000000</td>\n",
       "      <td>1.000000</td>\n",
       "      <td>1.000000</td>\n",
       "    </tr>\n",
       "    <tr>\n",
       "      <th>75%</th>\n",
       "      <td>1.000000</td>\n",
       "      <td>1.000000</td>\n",
       "      <td>1.000000</td>\n",
       "      <td>2.000000</td>\n",
       "      <td>1.000000</td>\n",
       "      <td>1.000000</td>\n",
       "      <td>1.000000</td>\n",
       "    </tr>\n",
       "    <tr>\n",
       "      <th>max</th>\n",
       "      <td>3.000000</td>\n",
       "      <td>6.000000</td>\n",
       "      <td>6.000000</td>\n",
       "      <td>6.000000</td>\n",
       "      <td>6.000000</td>\n",
       "      <td>6.000000</td>\n",
       "      <td>6.000000</td>\n",
       "    </tr>\n",
       "  </tbody>\n",
       "</table>\n",
       "</div>"
      ],
      "text/plain": [
       "                          df0           df1           df2           df3  \\\n",
       "Continent_Counts                                                          \n",
       "count             2304.000000  27175.000000  28797.000000  16307.000000   \n",
       "mean                 0.945747      1.024434      1.172657      1.516956   \n",
       "std                  0.260447      0.501773      0.764215      1.304825   \n",
       "min                  0.000000      0.000000      0.000000      0.000000   \n",
       "25%                  1.000000      1.000000      1.000000      1.000000   \n",
       "50%                  1.000000      1.000000      1.000000      1.000000   \n",
       "75%                  1.000000      1.000000      1.000000      2.000000   \n",
       "max                  3.000000      6.000000      6.000000      6.000000   \n",
       "\n",
       "                           df4           df5             df  \n",
       "Continent_Counts                                             \n",
       "count             13073.000000  97831.000000  177586.000000  \n",
       "mean                  0.944542      0.923562       1.027711  \n",
       "std                   0.516763      0.334166       0.618313  \n",
       "min                   0.000000      0.000000       0.000000  \n",
       "25%                   1.000000      1.000000       1.000000  \n",
       "50%                   1.000000      1.000000       1.000000  \n",
       "75%                   1.000000      1.000000       1.000000  \n",
       "max                   6.000000      6.000000       6.000000  "
      ]
     },
     "metadata": {},
     "output_type": "display_data"
    },
    {
     "data": {
      "application/vnd.microsoft.datawrangler.viewer.v0+json": {
       "columns": [
        {
         "name": "Continent_Categ",
         "rawType": "category",
         "type": "unknown"
        },
        {
         "name": "count",
         "rawType": "int64",
         "type": "integer"
        }
       ],
       "ref": "21b99700-2e65-4faa-90af-90b8b9d32b56",
       "rows": [
        [
         "0–1",
         "2291"
        ],
        [
         "2–3",
         "13"
        ]
       ],
       "shape": {
        "columns": 1,
        "rows": 2
       }
      },
      "text/plain": [
       "Continent_Categ\n",
       "0–1    2291\n",
       "2–3      13\n",
       "Name: count, dtype: int64"
      ]
     },
     "execution_count": 487,
     "metadata": {},
     "output_type": "execute_result"
    }
   ],
   "source": [
    "describes = def_describe('Continent_Counts')\n",
    "display(describes)\n",
    "\n",
    "col = 'Continent_Counts'\n",
    "col_categ = 'Continent_Categ'\n",
    "\n",
    "bins, labels = fun_bins(dfis, col, bin2_val = 1, use_quantile = False)\n",
    "\n",
    "for dfi in dfis:\n",
    "    dfi[col_categ] = pd.cut(dfi[col], bins = bins[0], labels = labels[0], ordered = True, include_lowest = True, right = True)\n",
    "  \n",
    "'''df0[col_categ] = pd.cut(df0[col], bins = bins[0], labels = labels[0], ordered = True, include_lowest = True, right = True)\n",
    "df1[col_categ] = pd.cut(df1[col], bins = bins[1], labels = labels[1], ordered = True, include_lowest = True, right = True)\n",
    "df2[col_categ] = pd.cut(df2[col], bins = bins[2], labels = labels[2], ordered = True, include_lowest = True, right = True)\n",
    "df3[col_categ] = pd.cut(df3[col], bins = bins[3], labels = labels[3], ordered = True, include_lowest = True, right = True)\n",
    "df4[col_categ] = pd.cut(df4[col], bins = bins[4], labels = labels[4], ordered = True, include_lowest = True, right = True)\n",
    "df5[col_categ] = pd.cut(df5[col], bins = bins[5], labels = labels[5], ordered = True, include_lowest = True, right = True)\n",
    "df[col_categ] = pd.cut(df[col], bins = bins[6], labels = labels[6], ordered = True, include_lowest = True, right = True)'''\n",
    "\n",
    "df0['Continent_Categ'].value_counts(dropna = False)"
   ]
  },
  {
   "cell_type": "markdown",
   "metadata": {},
   "source": [
    "### Start_Date_Year_Categ"
   ]
  },
  {
   "cell_type": "code",
   "execution_count": 488,
   "metadata": {},
   "outputs": [
    {
     "data": {
      "application/vnd.microsoft.datawrangler.viewer.v0+json": {
       "columns": [
        {
         "name": "Start_Date_Year_Counts",
         "rawType": "object",
         "type": "string"
        },
        {
         "name": "df0",
         "rawType": "Float64",
         "type": "float"
        },
        {
         "name": "df1",
         "rawType": "Float64",
         "type": "float"
        },
        {
         "name": "df2",
         "rawType": "Float64",
         "type": "float"
        },
        {
         "name": "df3",
         "rawType": "Float64",
         "type": "float"
        },
        {
         "name": "df4",
         "rawType": "Float64",
         "type": "float"
        },
        {
         "name": "df5",
         "rawType": "Float64",
         "type": "float"
        },
        {
         "name": "df",
         "rawType": "Float64",
         "type": "float"
        }
       ],
       "ref": "e18aa2c6-e643-4887-bdb3-823ae5dd1efb",
       "rows": [
        [
         "count",
         "2304.0",
         "27175.0",
         "28797.0",
         "16307.0",
         "13073.0",
         "97831.0",
         "177586.0"
        ],
        [
         "mean",
         "2017.2235243055557",
         "2016.596945722171",
         "2016.1325832552002",
         "2015.8981419022505",
         "2015.9453071215482",
         "2017.4549171530496",
         "2016.9065748426115"
        ],
        [
         "std",
         "3.4360281743160073",
         "3.63649887031701",
         "3.4326603798454025",
         "3.4461551242532473",
         "3.4028065333695445",
         "3.4886022445975695",
         "3.5550042083495224"
        ],
        [
         "min",
         "2011.0",
         "2011.0",
         "2011.0",
         "2011.0",
         "2011.0",
         "2011.0",
         "2011.0"
        ],
        [
         "25%",
         "2014.0",
         "2014.0",
         "2013.0",
         "2013.0",
         "2013.0",
         "2015.0",
         "2014.0"
        ],
        [
         "50%",
         "2017.5",
         "2016.0",
         "2016.0",
         "2016.0",
         "2016.0",
         "2018.0",
         "2017.0"
        ],
        [
         "75%",
         "2020.0",
         "2020.0",
         "2019.0",
         "2019.0",
         "2019.0",
         "2020.0",
         "2020.0"
        ],
        [
         "max",
         "2024.0",
         "2024.0",
         "2024.0",
         "2024.0",
         "2024.0",
         "2024.0",
         "2024.0"
        ]
       ],
       "shape": {
        "columns": 7,
        "rows": 8
       }
      },
      "text/html": [
       "<div>\n",
       "<style scoped>\n",
       "    .dataframe tbody tr th:only-of-type {\n",
       "        vertical-align: middle;\n",
       "    }\n",
       "\n",
       "    .dataframe tbody tr th {\n",
       "        vertical-align: top;\n",
       "    }\n",
       "\n",
       "    .dataframe thead th {\n",
       "        text-align: right;\n",
       "    }\n",
       "</style>\n",
       "<table border=\"1\" class=\"dataframe\">\n",
       "  <thead>\n",
       "    <tr style=\"text-align: right;\">\n",
       "      <th></th>\n",
       "      <th>df0</th>\n",
       "      <th>df1</th>\n",
       "      <th>df2</th>\n",
       "      <th>df3</th>\n",
       "      <th>df4</th>\n",
       "      <th>df5</th>\n",
       "      <th>df</th>\n",
       "    </tr>\n",
       "    <tr>\n",
       "      <th>Start_Date_Year_Counts</th>\n",
       "      <th></th>\n",
       "      <th></th>\n",
       "      <th></th>\n",
       "      <th></th>\n",
       "      <th></th>\n",
       "      <th></th>\n",
       "      <th></th>\n",
       "    </tr>\n",
       "  </thead>\n",
       "  <tbody>\n",
       "    <tr>\n",
       "      <th>count</th>\n",
       "      <td>2304.0</td>\n",
       "      <td>27175.0</td>\n",
       "      <td>28797.0</td>\n",
       "      <td>16307.0</td>\n",
       "      <td>13073.0</td>\n",
       "      <td>97831.0</td>\n",
       "      <td>177586.0</td>\n",
       "    </tr>\n",
       "    <tr>\n",
       "      <th>mean</th>\n",
       "      <td>2017.223524</td>\n",
       "      <td>2016.596946</td>\n",
       "      <td>2016.132583</td>\n",
       "      <td>2015.898142</td>\n",
       "      <td>2015.945307</td>\n",
       "      <td>2017.454917</td>\n",
       "      <td>2016.906575</td>\n",
       "    </tr>\n",
       "    <tr>\n",
       "      <th>std</th>\n",
       "      <td>3.436028</td>\n",
       "      <td>3.636499</td>\n",
       "      <td>3.43266</td>\n",
       "      <td>3.446155</td>\n",
       "      <td>3.402807</td>\n",
       "      <td>3.488602</td>\n",
       "      <td>3.555004</td>\n",
       "    </tr>\n",
       "    <tr>\n",
       "      <th>min</th>\n",
       "      <td>2011.0</td>\n",
       "      <td>2011.0</td>\n",
       "      <td>2011.0</td>\n",
       "      <td>2011.0</td>\n",
       "      <td>2011.0</td>\n",
       "      <td>2011.0</td>\n",
       "      <td>2011.0</td>\n",
       "    </tr>\n",
       "    <tr>\n",
       "      <th>25%</th>\n",
       "      <td>2014.0</td>\n",
       "      <td>2014.0</td>\n",
       "      <td>2013.0</td>\n",
       "      <td>2013.0</td>\n",
       "      <td>2013.0</td>\n",
       "      <td>2015.0</td>\n",
       "      <td>2014.0</td>\n",
       "    </tr>\n",
       "    <tr>\n",
       "      <th>50%</th>\n",
       "      <td>2017.5</td>\n",
       "      <td>2016.0</td>\n",
       "      <td>2016.0</td>\n",
       "      <td>2016.0</td>\n",
       "      <td>2016.0</td>\n",
       "      <td>2018.0</td>\n",
       "      <td>2017.0</td>\n",
       "    </tr>\n",
       "    <tr>\n",
       "      <th>75%</th>\n",
       "      <td>2020.0</td>\n",
       "      <td>2020.0</td>\n",
       "      <td>2019.0</td>\n",
       "      <td>2019.0</td>\n",
       "      <td>2019.0</td>\n",
       "      <td>2020.0</td>\n",
       "      <td>2020.0</td>\n",
       "    </tr>\n",
       "    <tr>\n",
       "      <th>max</th>\n",
       "      <td>2024.0</td>\n",
       "      <td>2024.0</td>\n",
       "      <td>2024.0</td>\n",
       "      <td>2024.0</td>\n",
       "      <td>2024.0</td>\n",
       "      <td>2024.0</td>\n",
       "      <td>2024.0</td>\n",
       "    </tr>\n",
       "  </tbody>\n",
       "</table>\n",
       "</div>"
      ],
      "text/plain": [
       "                                df0          df1          df2          df3  \\\n",
       "Start_Date_Year_Counts                                                       \n",
       "count                        2304.0      27175.0      28797.0      16307.0   \n",
       "mean                    2017.223524  2016.596946  2016.132583  2015.898142   \n",
       "std                        3.436028     3.636499      3.43266     3.446155   \n",
       "min                          2011.0       2011.0       2011.0       2011.0   \n",
       "25%                          2014.0       2014.0       2013.0       2013.0   \n",
       "50%                          2017.5       2016.0       2016.0       2016.0   \n",
       "75%                          2020.0       2020.0       2019.0       2019.0   \n",
       "max                          2024.0       2024.0       2024.0       2024.0   \n",
       "\n",
       "                                df4          df5           df  \n",
       "Start_Date_Year_Counts                                         \n",
       "count                       13073.0      97831.0     177586.0  \n",
       "mean                    2015.945307  2017.454917  2016.906575  \n",
       "std                        3.402807     3.488602     3.555004  \n",
       "min                          2011.0       2011.0       2011.0  \n",
       "25%                          2013.0       2015.0       2014.0  \n",
       "50%                          2016.0       2018.0       2017.0  \n",
       "75%                          2019.0       2020.0       2020.0  \n",
       "max                          2024.0       2024.0       2024.0  "
      ]
     },
     "metadata": {},
     "output_type": "display_data"
    },
    {
     "data": {
      "application/vnd.microsoft.datawrangler.viewer.v0+json": {
       "columns": [
        {
         "name": "Start_Date_Year_Categ",
         "rawType": "category",
         "type": "unknown"
        },
        {
         "name": "count",
         "rawType": "int64",
         "type": "integer"
        }
       ],
       "ref": "785b6639-5c16-4ae8-867e-4f8be6158e4a",
       "rows": [
        [
         "2011-2018",
         "1400"
        ],
        [
         "2019-2024",
         "904"
        ]
       ],
       "shape": {
        "columns": 1,
        "rows": 2
       }
      },
      "text/plain": [
       "Start_Date_Year_Categ\n",
       "2011-2018    1400\n",
       "2019-2024     904\n",
       "Name: count, dtype: int64"
      ]
     },
     "execution_count": 488,
     "metadata": {},
     "output_type": "execute_result"
    }
   ],
   "source": [
    "describes = def_describe('Start_Date_Year_Counts')\n",
    "display(describes)\n",
    "\n",
    "col = 'Start_Date_Year_Counts'\n",
    "col_categ = 'Start_Date_Year_Categ'\n",
    "\n",
    "bins = [2011, 2018, 2024] # Covid oriented dates\n",
    "labels = ['2011-2018', '2019-2024']\n",
    "\n",
    "df0[col_categ] = pd.cut(df0[col], bins = bins, labels = labels, ordered = True, include_lowest = True, right = True)\n",
    "df1[col_categ] = pd.cut(df1[col], bins = bins, labels = labels, ordered = True, include_lowest = True, right = True)\n",
    "df2[col_categ] = pd.cut(df2[col], bins = bins, labels = labels, ordered = True, include_lowest = True, right = True)\n",
    "df3[col_categ] = pd.cut(df3[col], bins = bins, labels = labels, ordered = True, include_lowest = True, right = True)\n",
    "df4[col_categ] = pd.cut(df4[col], bins = bins, labels = labels, ordered = True, include_lowest = True, right = True)\n",
    "df5[col_categ] = pd.cut(df5[col], bins = bins, labels = labels, ordered = True, include_lowest = True, right = True)\n",
    "df[col_categ] = pd.cut(df[col], bins = bins, labels = labels, ordered = True, include_lowest = True, right = True)\n",
    "\n",
    "df0['Start_Date_Year_Categ'].value_counts(dropna = False)"
   ]
  },
  {
   "cell_type": "markdown",
   "metadata": {},
   "source": [
    "### Completion_Date_Year_Categ"
   ]
  },
  {
   "cell_type": "code",
   "execution_count": 489,
   "metadata": {},
   "outputs": [
    {
     "data": {
      "application/vnd.microsoft.datawrangler.viewer.v0+json": {
       "columns": [
        {
         "name": "Completion_Date_Year_Counts",
         "rawType": "object",
         "type": "string"
        },
        {
         "name": "df0",
         "rawType": "Float64",
         "type": "float"
        },
        {
         "name": "df1",
         "rawType": "Float64",
         "type": "float"
        },
        {
         "name": "df2",
         "rawType": "Float64",
         "type": "float"
        },
        {
         "name": "df3",
         "rawType": "Float64",
         "type": "float"
        },
        {
         "name": "df4",
         "rawType": "Float64",
         "type": "float"
        },
        {
         "name": "df5",
         "rawType": "Float64",
         "type": "float"
        },
        {
         "name": "df",
         "rawType": "Float64",
         "type": "float"
        }
       ],
       "ref": "14e8bec4-e36c-447f-b90e-a6347608ad09",
       "rows": [
        [
         "count",
         "2304.0",
         "27175.0",
         "28797.0",
         "16307.0",
         "13073.0",
         "97831.0",
         "177586.0"
        ],
        [
         "mean",
         "2019.2578125",
         "2018.428150873965",
         "2018.7346945862416",
         "2018.3310848102042",
         "2018.0186644228563",
         "2019.3088489333647",
         "2018.912183392835"
        ],
        [
         "std",
         "3.3662561021797557",
         "3.6841091276024827",
         "3.4644477886534544",
         "3.5435081436055795",
         "3.4250526655800306",
         "3.23207616862464",
         "3.412087792447032"
        ],
        [
         "min",
         "2011.0",
         "2011.0",
         "2011.0",
         "2011.0",
         "2011.0",
         "2011.0",
         "2011.0"
        ],
        [
         "25%",
         "2017.0",
         "2015.0",
         "2016.0",
         "2015.0",
         "2015.0",
         "2017.0",
         "2016.0"
        ],
        [
         "50%",
         "2020.0",
         "2019.0",
         "2019.0",
         "2018.0",
         "2018.0",
         "2020.0",
         "2019.0"
        ],
        [
         "75%",
         "2022.0",
         "2022.0",
         "2022.0",
         "2021.0",
         "2021.0",
         "2022.0",
         "2022.0"
        ],
        [
         "max",
         "2024.0",
         "2024.0",
         "2024.0",
         "2024.0",
         "2024.0",
         "2024.0",
         "2024.0"
        ]
       ],
       "shape": {
        "columns": 7,
        "rows": 8
       }
      },
      "text/html": [
       "<div>\n",
       "<style scoped>\n",
       "    .dataframe tbody tr th:only-of-type {\n",
       "        vertical-align: middle;\n",
       "    }\n",
       "\n",
       "    .dataframe tbody tr th {\n",
       "        vertical-align: top;\n",
       "    }\n",
       "\n",
       "    .dataframe thead th {\n",
       "        text-align: right;\n",
       "    }\n",
       "</style>\n",
       "<table border=\"1\" class=\"dataframe\">\n",
       "  <thead>\n",
       "    <tr style=\"text-align: right;\">\n",
       "      <th></th>\n",
       "      <th>df0</th>\n",
       "      <th>df1</th>\n",
       "      <th>df2</th>\n",
       "      <th>df3</th>\n",
       "      <th>df4</th>\n",
       "      <th>df5</th>\n",
       "      <th>df</th>\n",
       "    </tr>\n",
       "    <tr>\n",
       "      <th>Completion_Date_Year_Counts</th>\n",
       "      <th></th>\n",
       "      <th></th>\n",
       "      <th></th>\n",
       "      <th></th>\n",
       "      <th></th>\n",
       "      <th></th>\n",
       "      <th></th>\n",
       "    </tr>\n",
       "  </thead>\n",
       "  <tbody>\n",
       "    <tr>\n",
       "      <th>count</th>\n",
       "      <td>2304.0</td>\n",
       "      <td>27175.0</td>\n",
       "      <td>28797.0</td>\n",
       "      <td>16307.0</td>\n",
       "      <td>13073.0</td>\n",
       "      <td>97831.0</td>\n",
       "      <td>177586.0</td>\n",
       "    </tr>\n",
       "    <tr>\n",
       "      <th>mean</th>\n",
       "      <td>2019.257812</td>\n",
       "      <td>2018.428151</td>\n",
       "      <td>2018.734695</td>\n",
       "      <td>2018.331085</td>\n",
       "      <td>2018.018664</td>\n",
       "      <td>2019.308849</td>\n",
       "      <td>2018.912183</td>\n",
       "    </tr>\n",
       "    <tr>\n",
       "      <th>std</th>\n",
       "      <td>3.366256</td>\n",
       "      <td>3.684109</td>\n",
       "      <td>3.464448</td>\n",
       "      <td>3.543508</td>\n",
       "      <td>3.425053</td>\n",
       "      <td>3.232076</td>\n",
       "      <td>3.412088</td>\n",
       "    </tr>\n",
       "    <tr>\n",
       "      <th>min</th>\n",
       "      <td>2011.0</td>\n",
       "      <td>2011.0</td>\n",
       "      <td>2011.0</td>\n",
       "      <td>2011.0</td>\n",
       "      <td>2011.0</td>\n",
       "      <td>2011.0</td>\n",
       "      <td>2011.0</td>\n",
       "    </tr>\n",
       "    <tr>\n",
       "      <th>25%</th>\n",
       "      <td>2017.0</td>\n",
       "      <td>2015.0</td>\n",
       "      <td>2016.0</td>\n",
       "      <td>2015.0</td>\n",
       "      <td>2015.0</td>\n",
       "      <td>2017.0</td>\n",
       "      <td>2016.0</td>\n",
       "    </tr>\n",
       "    <tr>\n",
       "      <th>50%</th>\n",
       "      <td>2020.0</td>\n",
       "      <td>2019.0</td>\n",
       "      <td>2019.0</td>\n",
       "      <td>2018.0</td>\n",
       "      <td>2018.0</td>\n",
       "      <td>2020.0</td>\n",
       "      <td>2019.0</td>\n",
       "    </tr>\n",
       "    <tr>\n",
       "      <th>75%</th>\n",
       "      <td>2022.0</td>\n",
       "      <td>2022.0</td>\n",
       "      <td>2022.0</td>\n",
       "      <td>2021.0</td>\n",
       "      <td>2021.0</td>\n",
       "      <td>2022.0</td>\n",
       "      <td>2022.0</td>\n",
       "    </tr>\n",
       "    <tr>\n",
       "      <th>max</th>\n",
       "      <td>2024.0</td>\n",
       "      <td>2024.0</td>\n",
       "      <td>2024.0</td>\n",
       "      <td>2024.0</td>\n",
       "      <td>2024.0</td>\n",
       "      <td>2024.0</td>\n",
       "      <td>2024.0</td>\n",
       "    </tr>\n",
       "  </tbody>\n",
       "</table>\n",
       "</div>"
      ],
      "text/plain": [
       "                                     df0          df1          df2  \\\n",
       "Completion_Date_Year_Counts                                          \n",
       "count                             2304.0      27175.0      28797.0   \n",
       "mean                         2019.257812  2018.428151  2018.734695   \n",
       "std                             3.366256     3.684109     3.464448   \n",
       "min                               2011.0       2011.0       2011.0   \n",
       "25%                               2017.0       2015.0       2016.0   \n",
       "50%                               2020.0       2019.0       2019.0   \n",
       "75%                               2022.0       2022.0       2022.0   \n",
       "max                               2024.0       2024.0       2024.0   \n",
       "\n",
       "                                     df3          df4          df5  \\\n",
       "Completion_Date_Year_Counts                                          \n",
       "count                            16307.0      13073.0      97831.0   \n",
       "mean                         2018.331085  2018.018664  2019.308849   \n",
       "std                             3.543508     3.425053     3.232076   \n",
       "min                               2011.0       2011.0       2011.0   \n",
       "25%                               2015.0       2015.0       2017.0   \n",
       "50%                               2018.0       2018.0       2020.0   \n",
       "75%                               2021.0       2021.0       2022.0   \n",
       "max                               2024.0       2024.0       2024.0   \n",
       "\n",
       "                                      df  \n",
       "Completion_Date_Year_Counts               \n",
       "count                           177586.0  \n",
       "mean                         2018.912183  \n",
       "std                             3.412088  \n",
       "min                               2011.0  \n",
       "25%                               2016.0  \n",
       "50%                               2019.0  \n",
       "75%                               2022.0  \n",
       "max                               2024.0  "
      ]
     },
     "metadata": {},
     "output_type": "display_data"
    },
    {
     "data": {
      "application/vnd.microsoft.datawrangler.viewer.v0+json": {
       "columns": [
        {
         "name": "Completion_Date_Year_Categ",
         "rawType": "category",
         "type": "unknown"
        },
        {
         "name": "count",
         "rawType": "int64",
         "type": "integer"
        }
       ],
       "ref": "4196d8da-8f85-4167-b841-f52414d9df03",
       "rows": [
        [
         "2019-2024",
         "1418"
        ],
        [
         "2011-2018",
         "886"
        ]
       ],
       "shape": {
        "columns": 1,
        "rows": 2
       }
      },
      "text/plain": [
       "Completion_Date_Year_Categ\n",
       "2019-2024    1418\n",
       "2011-2018     886\n",
       "Name: count, dtype: int64"
      ]
     },
     "execution_count": 489,
     "metadata": {},
     "output_type": "execute_result"
    }
   ],
   "source": [
    "describes = def_describe('Completion_Date_Year_Counts')\n",
    "display(describes)\n",
    "\n",
    "col = 'Completion_Date_Year_Counts'\n",
    "col_categ = 'Completion_Date_Year_Categ'\n",
    "\n",
    "bins = [2011, 2018, 2024] # Covid oriented dates\n",
    "labels = ['2011-2018', '2019-2024']\n",
    "\n",
    "df0[col_categ] = pd.cut(df0[col], bins = bins, labels = labels, ordered = True, include_lowest = True, right = True)\n",
    "df1[col_categ] = pd.cut(df1[col], bins = bins, labels = labels, ordered = True, include_lowest = True, right = True)\n",
    "df2[col_categ] = pd.cut(df2[col], bins = bins, labels = labels, ordered = True, include_lowest = True, right = True)\n",
    "df3[col_categ] = pd.cut(df3[col], bins = bins, labels = labels, ordered = True, include_lowest = True, right = True)\n",
    "df4[col_categ] = pd.cut(df4[col], bins = bins, labels = labels, ordered = True, include_lowest = True, right = True)\n",
    "df5[col_categ] = pd.cut(df5[col], bins = bins, labels = labels, ordered = True, include_lowest = True, right = True)\n",
    "df[col_categ] = pd.cut(df[col], bins = bins, labels = labels, ordered = True, include_lowest = True, right = True)\n",
    "\n",
    "df0['Completion_Date_Year_Categ'].value_counts(dropna = False)\n"
   ]
  },
  {
   "cell_type": "markdown",
   "metadata": {},
   "source": [
    "## Dfis Shape "
   ]
  },
  {
   "cell_type": "code",
   "execution_count": 490,
   "metadata": {},
   "outputs": [
    {
     "data": {
      "text/plain": [
       "(2304, 93)"
      ]
     },
     "metadata": {},
     "output_type": "display_data"
    },
    {
     "data": {
      "text/plain": [
       "(27175, 93)"
      ]
     },
     "metadata": {},
     "output_type": "display_data"
    },
    {
     "data": {
      "text/plain": [
       "(28797, 93)"
      ]
     },
     "metadata": {},
     "output_type": "display_data"
    },
    {
     "data": {
      "text/plain": [
       "(16307, 93)"
      ]
     },
     "metadata": {},
     "output_type": "display_data"
    },
    {
     "data": {
      "text/plain": [
       "(13073, 93)"
      ]
     },
     "metadata": {},
     "output_type": "display_data"
    },
    {
     "data": {
      "text/plain": [
       "(97831, 93)"
      ]
     },
     "metadata": {},
     "output_type": "display_data"
    },
    {
     "data": {
      "text/plain": [
       "(177586, 99)"
      ]
     },
     "metadata": {},
     "output_type": "display_data"
    }
   ],
   "source": [
    "display(df0.shape)\n",
    "display(df1.shape)\n",
    "display(df2.shape)\n",
    "display(df3.shape)\n",
    "display(df4.shape)\n",
    "display(df5.shape)\n",
    "display(df.shape)"
   ]
  },
  {
   "cell_type": "markdown",
   "metadata": {},
   "source": [
    "# 5) Save Dfs"
   ]
  },
  {
   "cell_type": "code",
   "execution_count": 491,
   "metadata": {},
   "outputs": [],
   "source": [
    "df.to_pickle(r\"C:\\Users\\Eugenia\\OneDrive\\Documents\\THESIS\\df.pkl\")  # pickle better to save dtypes e.g category, period etc. --> csv does not save dtypes\n",
    "df0.to_pickle(r\"C:\\Users\\Eugenia\\OneDrive\\Documents\\THESIS\\df0.pkl\")\n",
    "df1.to_pickle(r\"C:\\Users\\Eugenia\\OneDrive\\Documents\\THESIS\\df1.pkl\")\n",
    "df2.to_pickle(r\"C:\\Users\\Eugenia\\OneDrive\\Documents\\THESIS\\df2.pkl\")\n",
    "df3.to_pickle(r\"C:\\Users\\Eugenia\\OneDrive\\Documents\\THESIS\\df3.pkl\")\n",
    "df4.to_pickle(r\"C:\\Users\\Eugenia\\OneDrive\\Documents\\THESIS\\df4.pkl\")\n",
    "df5.to_pickle(r\"C:\\Users\\Eugenia\\OneDrive\\Documents\\THESIS\\df5.pkl\")\n"
   ]
  }
 ],
 "metadata": {
  "kernelspec": {
   "display_name": "Python 3",
   "language": "python",
   "name": "python3"
  },
  "language_info": {
   "codemirror_mode": {
    "name": "ipython",
    "version": 3
   },
   "file_extension": ".py",
   "mimetype": "text/x-python",
   "name": "python",
   "nbconvert_exporter": "python",
   "pygments_lexer": "ipython3",
   "version": "3.12.10"
  }
 },
 "nbformat": 4,
 "nbformat_minor": 2
}
