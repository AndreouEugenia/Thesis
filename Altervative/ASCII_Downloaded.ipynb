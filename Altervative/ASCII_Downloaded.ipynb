{
 "cells": [
  {
   "cell_type": "code",
   "execution_count": 1,
   "id": "ea52f5ba",
   "metadata": {},
   "outputs": [],
   "source": [
    "import numpy as np\n",
    "import pandas as pd\n",
    "import gzip\n",
    "import xml.etree.ElementTree as ET"
   ]
  },
  {
   "cell_type": "code",
   "execution_count": 2,
   "id": "9907ba6f",
   "metadata": {},
   "outputs": [
    {
     "data": {
      "text/plain": [
       "<Element 'DescriptorRecordSet' at 0x000002601FA751C0>"
      ]
     },
     "execution_count": 2,
     "metadata": {},
     "output_type": "execute_result"
    }
   ],
   "source": [
    "file_path = r\"C:\\Users\\Eugenia\\Downloads\\desc2025\\desc2025\"  # or .xml if it's named like that\n",
    "tree = ET.parse(file_path)\n",
    "root = tree.getroot()\n",
    "root"
   ]
  },
  {
   "cell_type": "code",
   "execution_count": 7,
   "id": "610bab24",
   "metadata": {},
   "outputs": [
    {
     "name": "stdout",
     "output_type": "stream",
     "text": [
      "['Abbreviation', 'AllowableQualifier', 'AllowableQualifiersList', 'Annotation', 'CASN1Name', 'Concept', 'Concept1UI', 'Concept2UI', 'ConceptList', 'ConceptName', 'ConceptRelation', 'ConceptRelationList', 'ConceptUI', 'ConsiderAlso', 'DateCreated', 'DateEstablished', 'DateRevised', 'Day', 'DescriptorName', 'DescriptorRecord', 'DescriptorRecordSet', 'DescriptorReferredTo', 'DescriptorUI', 'ECIN', 'ECOUT', 'EntryCombination', 'EntryCombinationList', 'EntryVersion', 'HistoryNote', 'Month', 'NLMClassificationNumber', 'OnlineNote', 'PharmacologicalAction', 'PharmacologicalActionList', 'PreviousIndexing', 'PreviousIndexingList', 'PublicMeSHNote', 'QualifierName', 'QualifierReferredTo', 'QualifierUI', 'RegistryNumber', 'RegistryNumberList', 'RelatedRegistryNumber', 'RelatedRegistryNumberList', 'ScopeNote', 'SeeRelatedDescriptor', 'SeeRelatedList', 'String', 'Term', 'TermList', 'TermUI', 'ThesaurusID', 'ThesaurusIDlist', 'TreeNumber', 'TreeNumberList', 'Year']\n"
     ]
    }
   ],
   "source": [
    "tags = set()\n",
    "\n",
    "for elem in root.iter():\n",
    "    tags.add(elem.tag)\n",
    "\n",
    "print(sorted(tags))"
   ]
  },
  {
   "cell_type": "code",
   "execution_count": 9,
   "id": "634ccbc5",
   "metadata": {},
   "outputs": [
    {
     "name": "stdout",
     "output_type": "stream",
     "text": [
      "DescriptorRecordSet\n"
     ]
    }
   ],
   "source": [
    "for child in root.iter():\n",
    "    print(child.tag)\n",
    "    break"
   ]
  },
  {
   "cell_type": "code",
   "execution_count": 19,
   "id": "2adf905e",
   "metadata": {},
   "outputs": [
    {
     "data": {
      "application/vnd.microsoft.datawrangler.viewer.v0+json": {
       "columns": [
        {
         "name": "index",
         "rawType": "int64",
         "type": "integer"
        },
        {
         "name": "DescriptorUI",
         "rawType": "object",
         "type": "string"
        },
        {
         "name": "DescriptorName",
         "rawType": "object",
         "type": "string"
        },
        {
         "name": "TreeNumber",
         "rawType": "object",
         "type": "string"
        },
        {
         "name": "TopCategory",
         "rawType": "object",
         "type": "string"
        },
        {
         "name": "TopLetter",
         "rawType": "object",
         "type": "string"
        },
        {
         "name": "TopLetterName",
         "rawType": "object",
         "type": "string"
        }
       ],
       "conversionMethod": "pd.DataFrame",
       "ref": "83bd077b-d4a2-4a0f-a069-3bdd8e5e7be5",
       "rows": [
        [
         "0",
         "D000006",
         "Abdomen, Acute",
         "C23.888.592.612.054.200",
         "C23",
         "C",
         "Diseases"
        ],
        [
         "1",
         "D000006",
         "Abdomen, Acute",
         "C23.888.821.030.249",
         "C23",
         "C",
         "Diseases"
        ],
        [
         "2",
         "D000007",
         "Abdominal Injuries",
         "C26.017",
         "C26",
         "C",
         "Diseases"
        ],
        [
         "3",
         "D000008",
         "Abdominal Neoplasms",
         "C04.588.033",
         "C04",
         "C",
         "Diseases"
        ],
        [
         "4",
         "D000012",
         "Abetalipoproteinemia",
         "C16.320.565.398.500.440.500",
         "C16",
         "C",
         "Diseases"
        ]
       ],
       "shape": {
        "columns": 6,
        "rows": 5
       }
      },
      "text/html": [
       "<div>\n",
       "<style scoped>\n",
       "    .dataframe tbody tr th:only-of-type {\n",
       "        vertical-align: middle;\n",
       "    }\n",
       "\n",
       "    .dataframe tbody tr th {\n",
       "        vertical-align: top;\n",
       "    }\n",
       "\n",
       "    .dataframe thead th {\n",
       "        text-align: right;\n",
       "    }\n",
       "</style>\n",
       "<table border=\"1\" class=\"dataframe\">\n",
       "  <thead>\n",
       "    <tr style=\"text-align: right;\">\n",
       "      <th></th>\n",
       "      <th>DescriptorUI</th>\n",
       "      <th>DescriptorName</th>\n",
       "      <th>TreeNumber</th>\n",
       "      <th>TopCategory</th>\n",
       "      <th>TopLetter</th>\n",
       "      <th>TopLetterName</th>\n",
       "    </tr>\n",
       "  </thead>\n",
       "  <tbody>\n",
       "    <tr>\n",
       "      <th>0</th>\n",
       "      <td>D000006</td>\n",
       "      <td>Abdomen, Acute</td>\n",
       "      <td>C23.888.592.612.054.200</td>\n",
       "      <td>C23</td>\n",
       "      <td>C</td>\n",
       "      <td>Diseases</td>\n",
       "    </tr>\n",
       "    <tr>\n",
       "      <th>1</th>\n",
       "      <td>D000006</td>\n",
       "      <td>Abdomen, Acute</td>\n",
       "      <td>C23.888.821.030.249</td>\n",
       "      <td>C23</td>\n",
       "      <td>C</td>\n",
       "      <td>Diseases</td>\n",
       "    </tr>\n",
       "    <tr>\n",
       "      <th>2</th>\n",
       "      <td>D000007</td>\n",
       "      <td>Abdominal Injuries</td>\n",
       "      <td>C26.017</td>\n",
       "      <td>C26</td>\n",
       "      <td>C</td>\n",
       "      <td>Diseases</td>\n",
       "    </tr>\n",
       "    <tr>\n",
       "      <th>3</th>\n",
       "      <td>D000008</td>\n",
       "      <td>Abdominal Neoplasms</td>\n",
       "      <td>C04.588.033</td>\n",
       "      <td>C04</td>\n",
       "      <td>C</td>\n",
       "      <td>Diseases</td>\n",
       "    </tr>\n",
       "    <tr>\n",
       "      <th>4</th>\n",
       "      <td>D000012</td>\n",
       "      <td>Abetalipoproteinemia</td>\n",
       "      <td>C16.320.565.398.500.440.500</td>\n",
       "      <td>C16</td>\n",
       "      <td>C</td>\n",
       "      <td>Diseases</td>\n",
       "    </tr>\n",
       "  </tbody>\n",
       "</table>\n",
       "</div>"
      ],
      "text/plain": [
       "  DescriptorUI        DescriptorName                   TreeNumber TopCategory  \\\n",
       "0      D000006        Abdomen, Acute      C23.888.592.612.054.200         C23   \n",
       "1      D000006        Abdomen, Acute          C23.888.821.030.249         C23   \n",
       "2      D000007    Abdominal Injuries                      C26.017         C26   \n",
       "3      D000008   Abdominal Neoplasms                  C04.588.033         C04   \n",
       "4      D000012  Abetalipoproteinemia  C16.320.565.398.500.440.500         C16   \n",
       "\n",
       "  TopLetter TopLetterName  \n",
       "0         C      Diseases  \n",
       "1         C      Diseases  \n",
       "2         C      Diseases  \n",
       "3         C      Diseases  \n",
       "4         C      Diseases  "
      ]
     },
     "execution_count": 19,
     "metadata": {},
     "output_type": "execute_result"
    }
   ],
   "source": [
    "category_map = {\n",
    "    \"A\": \"Anatomy\",\n",
    "    \"B\": \"Organisms\",\n",
    "    \"C\": \"Diseases\",\n",
    "    \"D\": \"Chemicals and Drugs\",\n",
    "    \"E\": \"Analytical, Diagnostic and Therapeutic Techniques and Equipment\",\n",
    "    \"F\": \"Psychiatry and Psychology\",\n",
    "    \"G\": \"Phenomena and Processes\",\n",
    "    \"H\": \"Disciplines and Occupations\",\n",
    "    \"I\": \"Anthropology, Education, Sociology and Social Phenomena\",\n",
    "    \"J\": \"Technology, Industry, and Agriculture\",\n",
    "    \"K\": \"Humanities\",\n",
    "    \"L\": \"Information Science\",\n",
    "    \"M\": \"Named Groups\",\n",
    "    \"N\": \"Health Care\",\n",
    "    \"V\": \"Publication Characteristics\",\n",
    "    \"Z\": \"Geographic Locations\"\n",
    "}\n",
    "\n",
    "# Extract disease records with extra category info\n",
    "records = []\n",
    "\n",
    "for descriptor in root.findall('DescriptorRecord'):\n",
    "    name = descriptor.find('DescriptorName/String').text\n",
    "    ui = descriptor.find('DescriptorUI').text\n",
    "    tree_numbers = [t.text for t in descriptor.findall('TreeNumberList/TreeNumber')]\n",
    "\n",
    "    for tn in tree_numbers:\n",
    "        if tn.startswith(\"C\"):  # filter only diseases\n",
    "            top_code = tn.split('.')[0]\n",
    "            top_letter = tn[0]\n",
    "            category_name = category_map.get(top_letter, \"Unknown\")\n",
    "            records.append({\n",
    "                'DescriptorUI': ui,\n",
    "                'DescriptorName': name,\n",
    "                'TreeNumber': tn,\n",
    "                'TopCategory': top_code,\n",
    "                'TopLetter': top_letter,\n",
    "                'TopLetterName': category_name\n",
    "            })\n",
    "\n",
    "# Convert to DataFrame\n",
    "df_diseases_full = pd.DataFrame(records)\n",
    "df_diseases_full.head()"
   ]
  },
  {
   "cell_type": "code",
   "execution_count": 18,
   "id": "d9f7e73e",
   "metadata": {},
   "outputs": [
    {
     "data": {
      "application/vnd.microsoft.datawrangler.viewer.v0+json": {
       "columns": [
        {
         "name": "index",
         "rawType": "int64",
         "type": "integer"
        },
        {
         "name": "TopCategory",
         "rawType": "object",
         "type": "string"
        },
        {
         "name": "TopLetter",
         "rawType": "object",
         "type": "string"
        },
        {
         "name": "TopLetterName",
         "rawType": "object",
         "type": "string"
        }
       ],
       "conversionMethod": "pd.DataFrame",
       "ref": "dd954707-236f-4c1d-8dde-5109de5be9ed",
       "rows": [
        [
         "0",
         "C23",
         "C",
         "Diseases"
        ],
        [
         "1",
         "C26",
         "C",
         "Diseases"
        ],
        [
         "2",
         "C04",
         "C",
         "Diseases"
        ],
        [
         "3",
         "C16",
         "C",
         "Diseases"
        ],
        [
         "4",
         "C18",
         "C",
         "Diseases"
        ],
        [
         "5",
         "C12",
         "C",
         "Diseases"
        ],
        [
         "6",
         "C01",
         "C",
         "Diseases"
        ],
        [
         "7",
         "C22",
         "C",
         "Diseases"
        ],
        [
         "8",
         "C07",
         "C",
         "Diseases"
        ],
        [
         "9",
         "C08",
         "C",
         "Diseases"
        ],
        [
         "10",
         "C09",
         "C",
         "Diseases"
        ],
        [
         "11",
         "C17",
         "C",
         "Diseases"
        ],
        [
         "12",
         "C06",
         "C",
         "Diseases"
        ],
        [
         "13",
         "C05",
         "C",
         "Diseases"
        ],
        [
         "14",
         "C10",
         "C",
         "Diseases"
        ],
        [
         "15",
         "C20",
         "C",
         "Diseases"
        ],
        [
         "16",
         "C25",
         "C",
         "Diseases"
        ],
        [
         "17",
         "C19",
         "C",
         "Diseases"
        ],
        [
         "18",
         "C14",
         "C",
         "Diseases"
        ],
        [
         "19",
         "C11",
         "C",
         "Diseases"
        ],
        [
         "20",
         "C15",
         "C",
         "Diseases"
        ],
        [
         "21",
         "C24",
         "C",
         "Diseases"
        ],
        [
         "22",
         "C21",
         "C",
         "Diseases"
        ]
       ],
       "shape": {
        "columns": 3,
        "rows": 23
       }
      },
      "text/html": [
       "<div>\n",
       "<style scoped>\n",
       "    .dataframe tbody tr th:only-of-type {\n",
       "        vertical-align: middle;\n",
       "    }\n",
       "\n",
       "    .dataframe tbody tr th {\n",
       "        vertical-align: top;\n",
       "    }\n",
       "\n",
       "    .dataframe thead th {\n",
       "        text-align: right;\n",
       "    }\n",
       "</style>\n",
       "<table border=\"1\" class=\"dataframe\">\n",
       "  <thead>\n",
       "    <tr style=\"text-align: right;\">\n",
       "      <th></th>\n",
       "      <th>TopCategory</th>\n",
       "      <th>TopLetter</th>\n",
       "      <th>TopLetterName</th>\n",
       "    </tr>\n",
       "  </thead>\n",
       "  <tbody>\n",
       "    <tr>\n",
       "      <th>0</th>\n",
       "      <td>C23</td>\n",
       "      <td>C</td>\n",
       "      <td>Diseases</td>\n",
       "    </tr>\n",
       "    <tr>\n",
       "      <th>1</th>\n",
       "      <td>C26</td>\n",
       "      <td>C</td>\n",
       "      <td>Diseases</td>\n",
       "    </tr>\n",
       "    <tr>\n",
       "      <th>2</th>\n",
       "      <td>C04</td>\n",
       "      <td>C</td>\n",
       "      <td>Diseases</td>\n",
       "    </tr>\n",
       "    <tr>\n",
       "      <th>3</th>\n",
       "      <td>C16</td>\n",
       "      <td>C</td>\n",
       "      <td>Diseases</td>\n",
       "    </tr>\n",
       "    <tr>\n",
       "      <th>4</th>\n",
       "      <td>C18</td>\n",
       "      <td>C</td>\n",
       "      <td>Diseases</td>\n",
       "    </tr>\n",
       "    <tr>\n",
       "      <th>5</th>\n",
       "      <td>C12</td>\n",
       "      <td>C</td>\n",
       "      <td>Diseases</td>\n",
       "    </tr>\n",
       "    <tr>\n",
       "      <th>6</th>\n",
       "      <td>C01</td>\n",
       "      <td>C</td>\n",
       "      <td>Diseases</td>\n",
       "    </tr>\n",
       "    <tr>\n",
       "      <th>7</th>\n",
       "      <td>C22</td>\n",
       "      <td>C</td>\n",
       "      <td>Diseases</td>\n",
       "    </tr>\n",
       "    <tr>\n",
       "      <th>8</th>\n",
       "      <td>C07</td>\n",
       "      <td>C</td>\n",
       "      <td>Diseases</td>\n",
       "    </tr>\n",
       "    <tr>\n",
       "      <th>9</th>\n",
       "      <td>C08</td>\n",
       "      <td>C</td>\n",
       "      <td>Diseases</td>\n",
       "    </tr>\n",
       "    <tr>\n",
       "      <th>10</th>\n",
       "      <td>C09</td>\n",
       "      <td>C</td>\n",
       "      <td>Diseases</td>\n",
       "    </tr>\n",
       "    <tr>\n",
       "      <th>11</th>\n",
       "      <td>C17</td>\n",
       "      <td>C</td>\n",
       "      <td>Diseases</td>\n",
       "    </tr>\n",
       "    <tr>\n",
       "      <th>12</th>\n",
       "      <td>C06</td>\n",
       "      <td>C</td>\n",
       "      <td>Diseases</td>\n",
       "    </tr>\n",
       "    <tr>\n",
       "      <th>13</th>\n",
       "      <td>C05</td>\n",
       "      <td>C</td>\n",
       "      <td>Diseases</td>\n",
       "    </tr>\n",
       "    <tr>\n",
       "      <th>14</th>\n",
       "      <td>C10</td>\n",
       "      <td>C</td>\n",
       "      <td>Diseases</td>\n",
       "    </tr>\n",
       "    <tr>\n",
       "      <th>15</th>\n",
       "      <td>C20</td>\n",
       "      <td>C</td>\n",
       "      <td>Diseases</td>\n",
       "    </tr>\n",
       "    <tr>\n",
       "      <th>16</th>\n",
       "      <td>C25</td>\n",
       "      <td>C</td>\n",
       "      <td>Diseases</td>\n",
       "    </tr>\n",
       "    <tr>\n",
       "      <th>17</th>\n",
       "      <td>C19</td>\n",
       "      <td>C</td>\n",
       "      <td>Diseases</td>\n",
       "    </tr>\n",
       "    <tr>\n",
       "      <th>18</th>\n",
       "      <td>C14</td>\n",
       "      <td>C</td>\n",
       "      <td>Diseases</td>\n",
       "    </tr>\n",
       "    <tr>\n",
       "      <th>19</th>\n",
       "      <td>C11</td>\n",
       "      <td>C</td>\n",
       "      <td>Diseases</td>\n",
       "    </tr>\n",
       "    <tr>\n",
       "      <th>20</th>\n",
       "      <td>C15</td>\n",
       "      <td>C</td>\n",
       "      <td>Diseases</td>\n",
       "    </tr>\n",
       "    <tr>\n",
       "      <th>21</th>\n",
       "      <td>C24</td>\n",
       "      <td>C</td>\n",
       "      <td>Diseases</td>\n",
       "    </tr>\n",
       "    <tr>\n",
       "      <th>22</th>\n",
       "      <td>C21</td>\n",
       "      <td>C</td>\n",
       "      <td>Diseases</td>\n",
       "    </tr>\n",
       "  </tbody>\n",
       "</table>\n",
       "</div>"
      ],
      "text/plain": [
       "   TopCategory TopLetter TopLetterName\n",
       "0          C23         C      Diseases\n",
       "1          C26         C      Diseases\n",
       "2          C04         C      Diseases\n",
       "3          C16         C      Diseases\n",
       "4          C18         C      Diseases\n",
       "5          C12         C      Diseases\n",
       "6          C01         C      Diseases\n",
       "7          C22         C      Diseases\n",
       "8          C07         C      Diseases\n",
       "9          C08         C      Diseases\n",
       "10         C09         C      Diseases\n",
       "11         C17         C      Diseases\n",
       "12         C06         C      Diseases\n",
       "13         C05         C      Diseases\n",
       "14         C10         C      Diseases\n",
       "15         C20         C      Diseases\n",
       "16         C25         C      Diseases\n",
       "17         C19         C      Diseases\n",
       "18         C14         C      Diseases\n",
       "19         C11         C      Diseases\n",
       "20         C15         C      Diseases\n",
       "21         C24         C      Diseases\n",
       "22         C21         C      Diseases"
      ]
     },
     "execution_count": 18,
     "metadata": {},
     "output_type": "execute_result"
    }
   ],
   "source": [
    "df_categories"
   ]
  },
  {
   "cell_type": "code",
   "execution_count": 20,
   "id": "8451792a",
   "metadata": {},
   "outputs": [
    {
     "data": {
      "application/vnd.microsoft.datawrangler.viewer.v0+json": {
       "columns": [
        {
         "name": "index",
         "rawType": "int64",
         "type": "integer"
        },
        {
         "name": "TopCategory",
         "rawType": "object",
         "type": "string"
        }
       ],
       "conversionMethod": "pd.DataFrame",
       "ref": "a20ea6ed-5834-4797-848f-0617d5dfb88f",
       "rows": [
        [
         "0",
         "C23"
        ],
        [
         "1",
         "C23"
        ],
        [
         "2",
         "C26"
        ],
        [
         "3",
         "C04"
        ],
        [
         "4",
         "C16"
        ],
        [
         "5",
         "C18"
        ],
        [
         "6",
         "C18"
        ],
        [
         "7",
         "C18"
        ],
        [
         "8",
         "C16"
        ],
        [
         "9",
         "C16"
        ],
        [
         "10",
         "C16"
        ],
        [
         "11",
         "C16"
        ],
        [
         "12",
         "C26"
        ],
        [
         "13",
         "C12"
        ],
        [
         "14",
         "C12"
        ],
        [
         "15",
         "C12"
        ],
        [
         "16",
         "C12"
        ],
        [
         "17",
         "C01"
        ],
        [
         "18",
         "C12"
        ],
        [
         "19",
         "C12"
        ],
        [
         "20",
         "C12"
        ],
        [
         "21",
         "C12"
        ],
        [
         "22",
         "C22"
        ],
        [
         "23",
         "C12"
        ],
        [
         "24",
         "C12"
        ],
        [
         "25",
         "C01"
        ],
        [
         "26",
         "C23"
        ],
        [
         "27",
         "C01"
        ],
        [
         "28",
         "C01"
        ],
        [
         "29",
         "C07"
        ],
        [
         "30",
         "C08"
        ],
        [
         "31",
         "C09"
        ],
        [
         "32",
         "C17"
        ],
        [
         "33",
         "C23"
        ],
        [
         "34",
         "C17"
        ],
        [
         "35",
         "C06"
        ],
        [
         "36",
         "C18"
        ],
        [
         "37",
         "C05"
        ],
        [
         "38",
         "C05"
        ],
        [
         "39",
         "C16"
        ],
        [
         "40",
         "C18"
        ],
        [
         "41",
         "C18"
        ],
        [
         "42",
         "C18"
        ],
        [
         "43",
         "C12"
        ],
        [
         "44",
         "C12"
        ],
        [
         "45",
         "C12"
        ],
        [
         "46",
         "C16"
        ],
        [
         "47",
         "C18"
        ],
        [
         "48",
         "C08"
        ],
        [
         "49",
         "C18"
        ]
       ],
       "shape": {
        "columns": 1,
        "rows": 13180
       }
      },
      "text/html": [
       "<div>\n",
       "<style scoped>\n",
       "    .dataframe tbody tr th:only-of-type {\n",
       "        vertical-align: middle;\n",
       "    }\n",
       "\n",
       "    .dataframe tbody tr th {\n",
       "        vertical-align: top;\n",
       "    }\n",
       "\n",
       "    .dataframe thead th {\n",
       "        text-align: right;\n",
       "    }\n",
       "</style>\n",
       "<table border=\"1\" class=\"dataframe\">\n",
       "  <thead>\n",
       "    <tr style=\"text-align: right;\">\n",
       "      <th></th>\n",
       "      <th>TopCategory</th>\n",
       "    </tr>\n",
       "  </thead>\n",
       "  <tbody>\n",
       "    <tr>\n",
       "      <th>0</th>\n",
       "      <td>C23</td>\n",
       "    </tr>\n",
       "    <tr>\n",
       "      <th>1</th>\n",
       "      <td>C23</td>\n",
       "    </tr>\n",
       "    <tr>\n",
       "      <th>2</th>\n",
       "      <td>C26</td>\n",
       "    </tr>\n",
       "    <tr>\n",
       "      <th>3</th>\n",
       "      <td>C04</td>\n",
       "    </tr>\n",
       "    <tr>\n",
       "      <th>4</th>\n",
       "      <td>C16</td>\n",
       "    </tr>\n",
       "    <tr>\n",
       "      <th>...</th>\n",
       "      <td>...</td>\n",
       "    </tr>\n",
       "    <tr>\n",
       "      <th>13175</th>\n",
       "      <td>C19</td>\n",
       "    </tr>\n",
       "    <tr>\n",
       "      <th>13176</th>\n",
       "      <td>C23</td>\n",
       "    </tr>\n",
       "    <tr>\n",
       "      <th>13177</th>\n",
       "      <td>C12</td>\n",
       "    </tr>\n",
       "    <tr>\n",
       "      <th>13178</th>\n",
       "      <td>C14</td>\n",
       "    </tr>\n",
       "    <tr>\n",
       "      <th>13179</th>\n",
       "      <td>C14</td>\n",
       "    </tr>\n",
       "  </tbody>\n",
       "</table>\n",
       "<p>13180 rows × 1 columns</p>\n",
       "</div>"
      ],
      "text/plain": [
       "      TopCategory\n",
       "0             C23\n",
       "1             C23\n",
       "2             C26\n",
       "3             C04\n",
       "4             C16\n",
       "...           ...\n",
       "13175         C19\n",
       "13176         C23\n",
       "13177         C12\n",
       "13178         C14\n",
       "13179         C14\n",
       "\n",
       "[13180 rows x 1 columns]"
      ]
     },
     "execution_count": 20,
     "metadata": {},
     "output_type": "execute_result"
    }
   ],
   "source": [
    "records = []\n",
    "\n",
    "for descriptor in root.findall('DescriptorRecord'):\n",
    "    name = descriptor.find('DescriptorName/String').text\n",
    "    ui = descriptor.find('DescriptorUI').text\n",
    "    tree_numbers = [t.text for t in descriptor.findall('TreeNumberList/TreeNumber')]\n",
    "\n",
    "    # Filter only diseases (TreeNumbers starting with \"C\")\n",
    "    for tn in tree_numbers:\n",
    "        if tn.startswith(\"C\"):\n",
    "            # Extract top-level category code, e.g., C14\n",
    "            top_code = tn.split('.')[0]\n",
    "            records.append({\n",
    "                #'DescriptorUI': ui,\n",
    "                #'DescriptorName': name,\n",
    "                #'TreeNumber': tn,\n",
    "                'TopCategory': top_code\n",
    "            })\n",
    "\n",
    "df_diseases_full = pd.DataFrame(records)\n",
    "df_diseases_full\n"
   ]
  }
 ],
 "metadata": {
  "kernelspec": {
   "display_name": "Python 3",
   "language": "python",
   "name": "python3"
  },
  "language_info": {
   "codemirror_mode": {
    "name": "ipython",
    "version": 3
   },
   "file_extension": ".py",
   "mimetype": "text/x-python",
   "name": "python",
   "nbconvert_exporter": "python",
   "pygments_lexer": "ipython3",
   "version": "3.12.10"
  }
 },
 "nbformat": 4,
 "nbformat_minor": 5
}
