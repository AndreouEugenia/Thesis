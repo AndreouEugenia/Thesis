{
 "cells": [
  {
   "cell_type": "markdown",
   "id": "74fbd4e5",
   "metadata": {},
   "source": [
    "# Libraries"
   ]
  },
  {
   "cell_type": "code",
   "execution_count": 24,
   "id": "ff4fb25d",
   "metadata": {},
   "outputs": [],
   "source": [
    "# Stat Libs\n",
    "import pandas as pd\n",
    "from pandas.api.types import CategoricalDtype\n",
    "from scipy import stats\n",
    "import statsmodels.api as sm\n",
    "from sklearn.feature_selection import mutual_info_classif\n",
    "from sklearn.feature_selection import SelectKBest\n",
    "\n",
    "# Plotting Libs\n",
    "import seaborn as sns\n",
    "import matplotlib.pyplot as plt \n",
    "\n",
    "# Statistical libs\n",
    "from sklearn.preprocessing import MultiLabelBinarizer\n",
    "from sklearn.preprocessing import OrdinalEncoder"
   ]
  },
  {
   "cell_type": "markdown",
   "id": "53a91b9e",
   "metadata": {},
   "source": [
    "# Load Data"
   ]
  },
  {
   "cell_type": "code",
   "execution_count": 25,
   "id": "6489d57b",
   "metadata": {},
   "outputs": [],
   "source": [
    "df0 = pd.read_pickle(r\".\\df_vizual\\df0_vizual.pkl\")\n",
    "df1 = pd.read_pickle(r\".\\df_vizual\\df1_vizual.pkl\")\n",
    "df2 = pd.read_pickle(r\".\\df_vizual\\df2_vizual.pkl\")\n",
    "df3 = pd.read_pickle(r\".\\df_vizual\\df3_vizual.pkl\")\n",
    "df4 = pd.read_pickle(r\".\\df_vizual\\df4_vizual.pkl\")\n",
    "df5 = pd.read_pickle(r\".\\df_vizual\\df5_vizual.pkl\")\n",
    "df = pd.read_pickle(r\".\\df_vizual\\df_vizual.pkl\")"
   ]
  },
  {
   "cell_type": "code",
   "execution_count": 26,
   "id": "e02f5de7",
   "metadata": {},
   "outputs": [
    {
     "data": {
      "text/plain": [
       "(2304, 26)"
      ]
     },
     "execution_count": 26,
     "metadata": {},
     "output_type": "execute_result"
    }
   ],
   "source": [
    "df0.shape"
   ]
  },
  {
   "cell_type": "code",
   "execution_count": 27,
   "id": "8b3b5702",
   "metadata": {},
   "outputs": [],
   "source": [
    "dfis = [df0, df1, df2, df3, df4, df5, df]\n",
    "iss = [0, 1, 2, 3, 4, 5, '']"
   ]
  },
  {
   "cell_type": "markdown",
   "id": "d405c21f",
   "metadata": {},
   "source": [
    "## Dropna"
   ]
  },
  {
   "cell_type": "code",
   "execution_count": 28,
   "id": "ae489b3c",
   "metadata": {},
   "outputs": [],
   "source": [
    "df0 = df0.dropna()\n",
    "df1 = df1.dropna()\n",
    "df2 = df2.dropna()\n",
    "df3 = df3.dropna()\n",
    "df4 = df4.dropna()\n",
    "df5 = df5.dropna()\n",
    "df = df.dropna()"
   ]
  },
  {
   "cell_type": "markdown",
   "id": "31475df7",
   "metadata": {},
   "source": [
    "# Encode"
   ]
  },
  {
   "cell_type": "markdown",
   "id": "83863d19",
   "metadata": {},
   "source": [
    "## Dummies"
   ]
  },
  {
   "cell_type": "code",
   "execution_count": 29,
   "id": "b3c0e579",
   "metadata": {},
   "outputs": [
    {
     "data": {
      "text/plain": [
       "['Age_List',\n",
       " 'Masking_List',\n",
       " 'Masking_Detail_List',\n",
       " 'Primary_Purpose_List',\n",
       " 'Adverse_List',\n",
       " 'Sex_List',\n",
       " 'Intervention_Model_List',\n",
       " 'Conditions_Detail_List',\n",
       " 'Intervention_Method_List',\n",
       " 'Intervention_Type_List',\n",
       " 'Allocation_List',\n",
       " 'Funder_Type_List',\n",
       " 'Continents_List']"
      ]
     },
     "metadata": {},
     "output_type": "display_data"
    },
    {
     "data": {
      "application/vnd.microsoft.datawrangler.viewer.v0+json": {
       "columns": [
        {
         "name": "index",
         "rawType": "int64",
         "type": "integer"
        },
        {
         "name": "Age_List_ADULT",
         "rawType": "int32",
         "type": "integer"
        },
        {
         "name": "Age_List_CHILD",
         "rawType": "int32",
         "type": "integer"
        },
        {
         "name": "Age_List_OLDER_ADULT",
         "rawType": "int32",
         "type": "integer"
        },
        {
         "name": "Masking_List_DOUBLE",
         "rawType": "int32",
         "type": "integer"
        },
        {
         "name": "Masking_List_MASK_NONE",
         "rawType": "int32",
         "type": "integer"
        },
        {
         "name": "Masking_List_QUADRUPLE",
         "rawType": "int32",
         "type": "integer"
        },
        {
         "name": "Masking_List_SINGLE",
         "rawType": "int32",
         "type": "integer"
        },
        {
         "name": "Masking_List_TRIPLE",
         "rawType": "int32",
         "type": "integer"
        },
        {
         "name": "Masking_Detail_List_CARE_PROVIDER",
         "rawType": "int32",
         "type": "integer"
        },
        {
         "name": "Masking_Detail_List_INVESTIGATOR",
         "rawType": "int32",
         "type": "integer"
        },
        {
         "name": "Masking_Detail_List_MASK_DET_NONE",
         "rawType": "int32",
         "type": "integer"
        },
        {
         "name": "Masking_Detail_List_OUTCOMES_ASSESSOR",
         "rawType": "int32",
         "type": "integer"
        },
        {
         "name": "Masking_Detail_List_PARTICIPANT",
         "rawType": "int32",
         "type": "integer"
        },
        {
         "name": "Primary_Purpose_List_BASIC_SCIENCE",
         "rawType": "int32",
         "type": "integer"
        },
        {
         "name": "Primary_Purpose_List_DEVICE_FEASIBILITY",
         "rawType": "int32",
         "type": "integer"
        },
        {
         "name": "Primary_Purpose_List_DIAGNOSTIC",
         "rawType": "int32",
         "type": "integer"
        },
        {
         "name": "Primary_Purpose_List_HEALTH_SERVICES_RESEARCH",
         "rawType": "int32",
         "type": "integer"
        },
        {
         "name": "Primary_Purpose_List_PREVENTION",
         "rawType": "int32",
         "type": "integer"
        },
        {
         "name": "Primary_Purpose_List_PRIM_PURP_OTHER",
         "rawType": "int32",
         "type": "integer"
        },
        {
         "name": "Primary_Purpose_List_SCREENING",
         "rawType": "int32",
         "type": "integer"
        },
        {
         "name": "Primary_Purpose_List_SUPPORTIVE_CARE",
         "rawType": "int32",
         "type": "integer"
        },
        {
         "name": "Primary_Purpose_List_TREATMENT",
         "rawType": "int32",
         "type": "integer"
        },
        {
         "name": "Adverse_List_Adv_Death",
         "rawType": "int32",
         "type": "integer"
        },
        {
         "name": "Adverse_List_Adv_None",
         "rawType": "int32",
         "type": "integer"
        },
        {
         "name": "Adverse_List_Adv_Serious",
         "rawType": "int32",
         "type": "integer"
        },
        {
         "name": "Adverse_List_Adv_Unspecified",
         "rawType": "int32",
         "type": "integer"
        },
        {
         "name": "Sex_List_ALL",
         "rawType": "int32",
         "type": "integer"
        },
        {
         "name": "Sex_List_FEMALE",
         "rawType": "int32",
         "type": "integer"
        },
        {
         "name": "Sex_List_MALE",
         "rawType": "int32",
         "type": "integer"
        },
        {
         "name": "Intervention_Model_List_CROSSOVER",
         "rawType": "int32",
         "type": "integer"
        },
        {
         "name": "Intervention_Model_List_FACTORIAL",
         "rawType": "int32",
         "type": "integer"
        },
        {
         "name": "Intervention_Model_List_PARALLEL",
         "rawType": "int32",
         "type": "integer"
        },
        {
         "name": "Intervention_Model_List_SEQUENTIAL",
         "rawType": "int32",
         "type": "integer"
        },
        {
         "name": "Intervention_Model_List_SINGLE_GROUP",
         "rawType": "int32",
         "type": "integer"
        },
        {
         "name": "Conditions_Detail_List_Bacterial Infections and Mycoses",
         "rawType": "int32",
         "type": "integer"
        },
        {
         "name": "Conditions_Detail_List_Cardiovascular",
         "rawType": "int32",
         "type": "integer"
        },
        {
         "name": "Conditions_Detail_List_Chemical Disorders",
         "rawType": "int32",
         "type": "integer"
        },
        {
         "name": "Conditions_Detail_List_Cond_Detail_Other",
         "rawType": "int32",
         "type": "integer"
        },
        {
         "name": "Conditions_Detail_List_Digestive System, Nutritional, Metabolic",
         "rawType": "int32",
         "type": "integer"
        },
        {
         "name": "Conditions_Detail_List_Endocrine System",
         "rawType": "int32",
         "type": "integer"
        },
        {
         "name": "Conditions_Detail_List_Eye",
         "rawType": "int32",
         "type": "integer"
        },
        {
         "name": "Conditions_Detail_List_Health Care",
         "rawType": "int32",
         "type": "integer"
        },
        {
         "name": "Conditions_Detail_List_Hemic, Lymphatic, Immune System",
         "rawType": "int32",
         "type": "integer"
        },
        {
         "name": "Conditions_Detail_List_Hereditary, Neonatal, Abnormalities",
         "rawType": "int32",
         "type": "integer"
        },
        {
         "name": "Conditions_Detail_List_Musculoskeletal, Neural",
         "rawType": "int32",
         "type": "integer"
        },
        {
         "name": "Conditions_Detail_List_Neoplasms",
         "rawType": "int32",
         "type": "integer"
        },
        {
         "name": "Conditions_Detail_List_Nervous System",
         "rawType": "int32",
         "type": "integer"
        },
        {
         "name": "Conditions_Detail_List_Otorhinolaryngologic",
         "rawType": "int32",
         "type": "integer"
        },
        {
         "name": "Conditions_Detail_List_Pathological Conditions, Signs, Symptoms",
         "rawType": "int32",
         "type": "integer"
        },
        {
         "name": "Conditions_Detail_List_Psychiatry, Psychology, Anthropology, Sociology",
         "rawType": "int32",
         "type": "integer"
        },
        {
         "name": "Conditions_Detail_List_Respiratory, Circulatory",
         "rawType": "int32",
         "type": "integer"
        },
        {
         "name": "Conditions_Detail_List_Skin, Tissue",
         "rawType": "int32",
         "type": "integer"
        },
        {
         "name": "Conditions_Detail_List_Stomatognathic",
         "rawType": "int32",
         "type": "integer"
        },
        {
         "name": "Conditions_Detail_List_Therapeutics, Diagnosis, Equipment",
         "rawType": "int32",
         "type": "integer"
        },
        {
         "name": "Conditions_Detail_List_Urogenital, Pregnancy",
         "rawType": "int32",
         "type": "integer"
        },
        {
         "name": "Conditions_Detail_List_Virus Diseases",
         "rawType": "int32",
         "type": "integer"
        },
        {
         "name": "Conditions_Detail_List_Wounds, Injuries",
         "rawType": "int32",
         "type": "integer"
        },
        {
         "name": "Intervention_Method_List_Injection",
         "rawType": "int32",
         "type": "integer"
        },
        {
         "name": "Intervention_Method_List_Inter_Meth_Other",
         "rawType": "int32",
         "type": "integer"
        },
        {
         "name": "Intervention_Method_List_Oral",
         "rawType": "int32",
         "type": "integer"
        },
        {
         "name": "Intervention_Method_List_Surgical",
         "rawType": "int32",
         "type": "integer"
        },
        {
         "name": "Intervention_Method_List_Topical",
         "rawType": "int32",
         "type": "integer"
        },
        {
         "name": "Intervention_Type_List_BEHAVIORAL",
         "rawType": "int32",
         "type": "integer"
        },
        {
         "name": "Intervention_Type_List_BIOLOGICAL",
         "rawType": "int32",
         "type": "integer"
        },
        {
         "name": "Intervention_Type_List_COMBINATION_PRODUCT",
         "rawType": "int32",
         "type": "integer"
        },
        {
         "name": "Intervention_Type_List_DEVICE",
         "rawType": "int32",
         "type": "integer"
        },
        {
         "name": "Intervention_Type_List_DIAGNOSTIC_TEST",
         "rawType": "int32",
         "type": "integer"
        },
        {
         "name": "Intervention_Type_List_DIETARY_SUPPLEMENT",
         "rawType": "int32",
         "type": "integer"
        },
        {
         "name": "Intervention_Type_List_DRUG",
         "rawType": "int32",
         "type": "integer"
        },
        {
         "name": "Intervention_Type_List_GENETIC",
         "rawType": "int32",
         "type": "integer"
        },
        {
         "name": "Intervention_Type_List_INTERV_OTHER",
         "rawType": "int32",
         "type": "integer"
        },
        {
         "name": "Intervention_Type_List_PROCEDURE",
         "rawType": "int32",
         "type": "integer"
        },
        {
         "name": "Intervention_Type_List_RADIATION",
         "rawType": "int32",
         "type": "integer"
        },
        {
         "name": "Allocation_List_NA_RANDOMIZED",
         "rawType": "int32",
         "type": "integer"
        },
        {
         "name": "Allocation_List_NON_RANDOMIZED",
         "rawType": "int32",
         "type": "integer"
        },
        {
         "name": "Allocation_List_RANDOMIZED",
         "rawType": "int32",
         "type": "integer"
        },
        {
         "name": "Funder_Type_List_EDU_UNIV",
         "rawType": "int32",
         "type": "integer"
        },
        {
         "name": "Funder_Type_List_FUNDER_OTHER",
         "rawType": "int32",
         "type": "integer"
        },
        {
         "name": "Funder_Type_List_GOVERM",
         "rawType": "int32",
         "type": "integer"
        },
        {
         "name": "Funder_Type_List_HEALTH",
         "rawType": "int32",
         "type": "integer"
        },
        {
         "name": "Funder_Type_List_INDUSTRY",
         "rawType": "int32",
         "type": "integer"
        },
        {
         "name": "Continents_List_Africa",
         "rawType": "int32",
         "type": "integer"
        },
        {
         "name": "Continents_List_Asia",
         "rawType": "int32",
         "type": "integer"
        },
        {
         "name": "Continents_List_Cont_None",
         "rawType": "int32",
         "type": "integer"
        },
        {
         "name": "Continents_List_Europe",
         "rawType": "int32",
         "type": "integer"
        },
        {
         "name": "Continents_List_North America",
         "rawType": "int32",
         "type": "integer"
        },
        {
         "name": "Continents_List_Oceania",
         "rawType": "int32",
         "type": "integer"
        },
        {
         "name": "Continents_List_South America",
         "rawType": "int32",
         "type": "integer"
        }
       ],
       "ref": "7095b1ea-9e4e-43d3-b33e-6b625291540f",
       "rows": [
        [
         "0",
         "1",
         "0",
         "1",
         "0",
         "1",
         "0",
         "0",
         "0",
         "0",
         "0",
         "1",
         "0",
         "0",
         "0",
         "0",
         "0",
         "0",
         "0",
         "0",
         "0",
         "0",
         "1",
         "0",
         "1",
         "0",
         "0",
         "1",
         "0",
         "0",
         "0",
         "0",
         "0",
         "0",
         "1",
         "1",
         "0",
         "0",
         "0",
         "0",
         "0",
         "0",
         "0",
         "0",
         "0",
         "0",
         "0",
         "0",
         "0",
         "0",
         "0",
         "0",
         "1",
         "0",
         "0",
         "0",
         "0",
         "0",
         "0",
         "1",
         "0",
         "0",
         "0",
         "0",
         "1",
         "0",
         "0",
         "0",
         "0",
         "0",
         "0",
         "0",
         "0",
         "0",
         "1",
         "0",
         "0",
         "0",
         "0",
         "0",
         "1",
         "0",
         "0",
         "0",
         "0",
         "0",
         "1",
         "0",
         "0"
        ],
        [
         "1",
         "1",
         "0",
         "1",
         "0",
         "1",
         "0",
         "0",
         "0",
         "0",
         "0",
         "1",
         "0",
         "0",
         "0",
         "0",
         "0",
         "0",
         "0",
         "0",
         "0",
         "0",
         "1",
         "0",
         "1",
         "0",
         "0",
         "1",
         "0",
         "0",
         "0",
         "0",
         "1",
         "0",
         "0",
         "0",
         "0",
         "0",
         "0",
         "0",
         "0",
         "0",
         "0",
         "0",
         "0",
         "0",
         "1",
         "0",
         "0",
         "0",
         "0",
         "1",
         "0",
         "0",
         "0",
         "0",
         "0",
         "0",
         "1",
         "0",
         "0",
         "0",
         "1",
         "0",
         "0",
         "0",
         "0",
         "0",
         "0",
         "1",
         "0",
         "0",
         "0",
         "0",
         "0",
         "1",
         "0",
         "1",
         "0",
         "0",
         "0",
         "0",
         "0",
         "0",
         "0",
         "1",
         "0",
         "0",
         "0"
        ],
        [
         "2",
         "1",
         "0",
         "1",
         "0",
         "1",
         "0",
         "0",
         "0",
         "0",
         "0",
         "1",
         "0",
         "0",
         "0",
         "0",
         "0",
         "0",
         "0",
         "0",
         "0",
         "0",
         "1",
         "0",
         "1",
         "0",
         "0",
         "1",
         "0",
         "0",
         "0",
         "0",
         "0",
         "0",
         "1",
         "0",
         "0",
         "0",
         "0",
         "1",
         "0",
         "0",
         "0",
         "0",
         "0",
         "0",
         "0",
         "1",
         "0",
         "0",
         "0",
         "0",
         "0",
         "0",
         "0",
         "0",
         "0",
         "1",
         "1",
         "0",
         "0",
         "0",
         "0",
         "0",
         "0",
         "0",
         "0",
         "0",
         "0",
         "1",
         "0",
         "0",
         "0",
         "0",
         "1",
         "0",
         "0",
         "0",
         "0",
         "1",
         "0",
         "0",
         "0",
         "0",
         "0",
         "0",
         "1",
         "0",
         "0"
        ],
        [
         "3",
         "1",
         "1",
         "0",
         "0",
         "1",
         "0",
         "0",
         "0",
         "0",
         "0",
         "1",
         "0",
         "0",
         "0",
         "0",
         "0",
         "0",
         "0",
         "0",
         "0",
         "0",
         "1",
         "0",
         "1",
         "0",
         "0",
         "1",
         "0",
         "0",
         "0",
         "0",
         "0",
         "0",
         "1",
         "0",
         "0",
         "0",
         "0",
         "1",
         "0",
         "0",
         "0",
         "0",
         "0",
         "0",
         "0",
         "1",
         "0",
         "0",
         "0",
         "0",
         "0",
         "0",
         "0",
         "0",
         "0",
         "0",
         "1",
         "0",
         "0",
         "0",
         "0",
         "0",
         "0",
         "0",
         "0",
         "0",
         "0",
         "0",
         "0",
         "1",
         "0",
         "0",
         "1",
         "0",
         "0",
         "0",
         "0",
         "0",
         "1",
         "0",
         "0",
         "0",
         "0",
         "1",
         "0",
         "0",
         "0"
        ],
        [
         "4",
         "1",
         "1",
         "1",
         "0",
         "1",
         "0",
         "0",
         "0",
         "0",
         "0",
         "1",
         "0",
         "0",
         "0",
         "0",
         "0",
         "0",
         "0",
         "0",
         "1",
         "0",
         "0",
         "0",
         "1",
         "0",
         "0",
         "1",
         "0",
         "0",
         "0",
         "0",
         "0",
         "0",
         "1",
         "0",
         "0",
         "0",
         "0",
         "1",
         "1",
         "0",
         "0",
         "0",
         "0",
         "0",
         "1",
         "1",
         "0",
         "0",
         "0",
         "0",
         "1",
         "0",
         "0",
         "1",
         "0",
         "0",
         "1",
         "0",
         "0",
         "0",
         "0",
         "0",
         "0",
         "0",
         "0",
         "0",
         "0",
         "0",
         "0",
         "1",
         "0",
         "0",
         "1",
         "0",
         "0",
         "0",
         "0",
         "0",
         "1",
         "0",
         "0",
         "0",
         "0",
         "0",
         "1",
         "0",
         "0"
        ]
       ],
       "shape": {
        "columns": 88,
        "rows": 5
       }
      },
      "text/html": [
       "<div>\n",
       "<style scoped>\n",
       "    .dataframe tbody tr th:only-of-type {\n",
       "        vertical-align: middle;\n",
       "    }\n",
       "\n",
       "    .dataframe tbody tr th {\n",
       "        vertical-align: top;\n",
       "    }\n",
       "\n",
       "    .dataframe thead th {\n",
       "        text-align: right;\n",
       "    }\n",
       "</style>\n",
       "<table border=\"1\" class=\"dataframe\">\n",
       "  <thead>\n",
       "    <tr style=\"text-align: right;\">\n",
       "      <th></th>\n",
       "      <th>Age_List_ADULT</th>\n",
       "      <th>Age_List_CHILD</th>\n",
       "      <th>Age_List_OLDER_ADULT</th>\n",
       "      <th>Masking_List_DOUBLE</th>\n",
       "      <th>Masking_List_MASK_NONE</th>\n",
       "      <th>Masking_List_QUADRUPLE</th>\n",
       "      <th>Masking_List_SINGLE</th>\n",
       "      <th>Masking_List_TRIPLE</th>\n",
       "      <th>Masking_Detail_List_CARE_PROVIDER</th>\n",
       "      <th>Masking_Detail_List_INVESTIGATOR</th>\n",
       "      <th>...</th>\n",
       "      <th>Funder_Type_List_GOVERM</th>\n",
       "      <th>Funder_Type_List_HEALTH</th>\n",
       "      <th>Funder_Type_List_INDUSTRY</th>\n",
       "      <th>Continents_List_Africa</th>\n",
       "      <th>Continents_List_Asia</th>\n",
       "      <th>Continents_List_Cont_None</th>\n",
       "      <th>Continents_List_Europe</th>\n",
       "      <th>Continents_List_North America</th>\n",
       "      <th>Continents_List_Oceania</th>\n",
       "      <th>Continents_List_South America</th>\n",
       "    </tr>\n",
       "  </thead>\n",
       "  <tbody>\n",
       "    <tr>\n",
       "      <th>0</th>\n",
       "      <td>1</td>\n",
       "      <td>0</td>\n",
       "      <td>1</td>\n",
       "      <td>0</td>\n",
       "      <td>1</td>\n",
       "      <td>0</td>\n",
       "      <td>0</td>\n",
       "      <td>0</td>\n",
       "      <td>0</td>\n",
       "      <td>0</td>\n",
       "      <td>...</td>\n",
       "      <td>0</td>\n",
       "      <td>1</td>\n",
       "      <td>0</td>\n",
       "      <td>0</td>\n",
       "      <td>0</td>\n",
       "      <td>0</td>\n",
       "      <td>0</td>\n",
       "      <td>1</td>\n",
       "      <td>0</td>\n",
       "      <td>0</td>\n",
       "    </tr>\n",
       "    <tr>\n",
       "      <th>1</th>\n",
       "      <td>1</td>\n",
       "      <td>0</td>\n",
       "      <td>1</td>\n",
       "      <td>0</td>\n",
       "      <td>1</td>\n",
       "      <td>0</td>\n",
       "      <td>0</td>\n",
       "      <td>0</td>\n",
       "      <td>0</td>\n",
       "      <td>0</td>\n",
       "      <td>...</td>\n",
       "      <td>0</td>\n",
       "      <td>0</td>\n",
       "      <td>0</td>\n",
       "      <td>0</td>\n",
       "      <td>0</td>\n",
       "      <td>0</td>\n",
       "      <td>1</td>\n",
       "      <td>0</td>\n",
       "      <td>0</td>\n",
       "      <td>0</td>\n",
       "    </tr>\n",
       "    <tr>\n",
       "      <th>2</th>\n",
       "      <td>1</td>\n",
       "      <td>0</td>\n",
       "      <td>1</td>\n",
       "      <td>0</td>\n",
       "      <td>1</td>\n",
       "      <td>0</td>\n",
       "      <td>0</td>\n",
       "      <td>0</td>\n",
       "      <td>0</td>\n",
       "      <td>0</td>\n",
       "      <td>...</td>\n",
       "      <td>1</td>\n",
       "      <td>0</td>\n",
       "      <td>0</td>\n",
       "      <td>0</td>\n",
       "      <td>0</td>\n",
       "      <td>0</td>\n",
       "      <td>0</td>\n",
       "      <td>1</td>\n",
       "      <td>0</td>\n",
       "      <td>0</td>\n",
       "    </tr>\n",
       "    <tr>\n",
       "      <th>3</th>\n",
       "      <td>1</td>\n",
       "      <td>1</td>\n",
       "      <td>0</td>\n",
       "      <td>0</td>\n",
       "      <td>1</td>\n",
       "      <td>0</td>\n",
       "      <td>0</td>\n",
       "      <td>0</td>\n",
       "      <td>0</td>\n",
       "      <td>0</td>\n",
       "      <td>...</td>\n",
       "      <td>0</td>\n",
       "      <td>1</td>\n",
       "      <td>0</td>\n",
       "      <td>0</td>\n",
       "      <td>0</td>\n",
       "      <td>0</td>\n",
       "      <td>1</td>\n",
       "      <td>0</td>\n",
       "      <td>0</td>\n",
       "      <td>0</td>\n",
       "    </tr>\n",
       "    <tr>\n",
       "      <th>4</th>\n",
       "      <td>1</td>\n",
       "      <td>1</td>\n",
       "      <td>1</td>\n",
       "      <td>0</td>\n",
       "      <td>1</td>\n",
       "      <td>0</td>\n",
       "      <td>0</td>\n",
       "      <td>0</td>\n",
       "      <td>0</td>\n",
       "      <td>0</td>\n",
       "      <td>...</td>\n",
       "      <td>0</td>\n",
       "      <td>1</td>\n",
       "      <td>0</td>\n",
       "      <td>0</td>\n",
       "      <td>0</td>\n",
       "      <td>0</td>\n",
       "      <td>0</td>\n",
       "      <td>1</td>\n",
       "      <td>0</td>\n",
       "      <td>0</td>\n",
       "    </tr>\n",
       "  </tbody>\n",
       "</table>\n",
       "<p>5 rows × 88 columns</p>\n",
       "</div>"
      ],
      "text/plain": [
       "   Age_List_ADULT  Age_List_CHILD  Age_List_OLDER_ADULT  Masking_List_DOUBLE  \\\n",
       "0               1               0                     1                    0   \n",
       "1               1               0                     1                    0   \n",
       "2               1               0                     1                    0   \n",
       "3               1               1                     0                    0   \n",
       "4               1               1                     1                    0   \n",
       "\n",
       "   Masking_List_MASK_NONE  Masking_List_QUADRUPLE  Masking_List_SINGLE  \\\n",
       "0                       1                       0                    0   \n",
       "1                       1                       0                    0   \n",
       "2                       1                       0                    0   \n",
       "3                       1                       0                    0   \n",
       "4                       1                       0                    0   \n",
       "\n",
       "   Masking_List_TRIPLE  Masking_Detail_List_CARE_PROVIDER  \\\n",
       "0                    0                                  0   \n",
       "1                    0                                  0   \n",
       "2                    0                                  0   \n",
       "3                    0                                  0   \n",
       "4                    0                                  0   \n",
       "\n",
       "   Masking_Detail_List_INVESTIGATOR  ...  Funder_Type_List_GOVERM  \\\n",
       "0                                 0  ...                        0   \n",
       "1                                 0  ...                        0   \n",
       "2                                 0  ...                        1   \n",
       "3                                 0  ...                        0   \n",
       "4                                 0  ...                        0   \n",
       "\n",
       "   Funder_Type_List_HEALTH  Funder_Type_List_INDUSTRY  Continents_List_Africa  \\\n",
       "0                        1                          0                       0   \n",
       "1                        0                          0                       0   \n",
       "2                        0                          0                       0   \n",
       "3                        1                          0                       0   \n",
       "4                        1                          0                       0   \n",
       "\n",
       "   Continents_List_Asia  Continents_List_Cont_None  Continents_List_Europe  \\\n",
       "0                     0                          0                       0   \n",
       "1                     0                          0                       1   \n",
       "2                     0                          0                       0   \n",
       "3                     0                          0                       1   \n",
       "4                     0                          0                       0   \n",
       "\n",
       "   Continents_List_North America  Continents_List_Oceania  \\\n",
       "0                              1                        0   \n",
       "1                              0                        0   \n",
       "2                              1                        0   \n",
       "3                              0                        0   \n",
       "4                              1                        0   \n",
       "\n",
       "   Continents_List_South America  \n",
       "0                              0  \n",
       "1                              0  \n",
       "2                              0  \n",
       "3                              0  \n",
       "4                              0  \n",
       "\n",
       "[5 rows x 88 columns]"
      ]
     },
     "execution_count": 29,
     "metadata": {},
     "output_type": "execute_result"
    }
   ],
   "source": [
    "## Dummies\n",
    "def fun_dum_enc(dfi, cols):\n",
    "    for col in cols:  \n",
    "        df_expl = dfi.copy()\n",
    "        df_expl = df_expl.explode(col)\n",
    "\n",
    "        df_expl[col] = df_expl[col].astype('category') \n",
    "        df_expl[col] = df_expl[col].cat.remove_unused_categories()\n",
    "        df_expl[col] = df_expl[col].astype('str') #str cause of error in encoding. After astype(cat) so to drop unused categories\n",
    "\n",
    "        dummies = pd.get_dummies(df_expl[col], drop_first = False, dtype = int, prefix = col , prefix_sep='_')\n",
    "        \n",
    "        dummies.index = df_expl.index # ensure same indexing with df_expl\n",
    "        dummies = dummies.groupby(dummies.index).sum()\n",
    "\n",
    "        dfi = pd.concat([dfi.drop(columns = [col], axis = 1), dummies], axis = 1)  \n",
    "    return dfi\n",
    "\n",
    "### Cols\n",
    "def fun_dum_cols(dfis):\n",
    "    dum_cols = []\n",
    "    for dfi in dfis: # loop inputed in case dfis have not all the same columns. # * Plus not to run function into funtion.\n",
    "        dum_cols = dum_cols + [[col for col in dfi.columns if 'list' in col.lower()]]\n",
    "    return dum_cols\n",
    "\n",
    "dum_cols = fun_dum_cols(dfis) \n",
    "\n",
    "# Apply\n",
    "df0 = fun_dum_enc(df0, dum_cols[0]) # * loop so not to run function into function\n",
    "df1 = fun_dum_enc(df1, dum_cols[1])\n",
    "df2 = fun_dum_enc(df2, dum_cols[2])\n",
    "df3 = fun_dum_enc(df3, dum_cols[3])\n",
    "df4 = fun_dum_enc(df4, dum_cols[4])\n",
    "df5 = fun_dum_enc(df5, dum_cols[5])\n",
    "df = fun_dum_enc(df, dum_cols[6])\n",
    "\n",
    "# Example\n",
    "display(dum_cols[0])\n",
    "df0[[col for col in df0.columns if 'list' in col.lower()]].head()\n"
   ]
  },
  {
   "cell_type": "markdown",
   "id": "a12fe358",
   "metadata": {},
   "source": [
    "### Drop First"
   ]
  },
  {
   "cell_type": "code",
   "execution_count": 30,
   "id": "8adfcdda",
   "metadata": {},
   "outputs": [
    {
     "data": {
      "text/plain": [
       "['Placebo_Bin',\n",
       " 'Covid_19_Bin',\n",
       " 'Healthy_Bin',\n",
       " 'Intervention_Method_Counts',\n",
       " 'Enrollment_Counts_Log',\n",
       " 'City_Categ',\n",
       " 'Adverse_Detail_Counts',\n",
       " 'Standard_Care_Bin',\n",
       " 'Completion_Gap_Categ',\n",
       " 'Arm_Counts',\n",
       " 'Adverse_Bin',\n",
       " 'Study_Status_Bin',\n",
       " 'Intervention_Type_Counts',\n",
       " 'Age_List_ADULT',\n",
       " 'Age_List_CHILD',\n",
       " 'Age_List_OLDER_ADULT',\n",
       " 'Masking_List_DOUBLE',\n",
       " 'Masking_List_QUADRUPLE',\n",
       " 'Masking_List_SINGLE',\n",
       " 'Masking_List_TRIPLE',\n",
       " 'Masking_Detail_List_CARE_PROVIDER',\n",
       " 'Masking_Detail_List_INVESTIGATOR',\n",
       " 'Masking_Detail_List_OUTCOMES_ASSESSOR',\n",
       " 'Masking_Detail_List_PARTICIPANT',\n",
       " 'Primary_Purpose_List_BASIC_SCIENCE',\n",
       " 'Primary_Purpose_List_DEVICE_FEASIBILITY',\n",
       " 'Primary_Purpose_List_DIAGNOSTIC',\n",
       " 'Primary_Purpose_List_HEALTH_SERVICES_RESEARCH',\n",
       " 'Primary_Purpose_List_PREVENTION',\n",
       " 'Primary_Purpose_List_SCREENING',\n",
       " 'Primary_Purpose_List_SUPPORTIVE_CARE',\n",
       " 'Primary_Purpose_List_TREATMENT',\n",
       " 'Sex_List_ALL',\n",
       " 'Sex_List_FEMALE',\n",
       " 'Sex_List_MALE',\n",
       " 'Intervention_Model_List_CROSSOVER',\n",
       " 'Intervention_Model_List_FACTORIAL',\n",
       " 'Intervention_Model_List_PARALLEL',\n",
       " 'Intervention_Model_List_SEQUENTIAL',\n",
       " 'Conditions_Detail_List_Bacterial Infections and Mycoses',\n",
       " 'Conditions_Detail_List_Cardiovascular',\n",
       " 'Conditions_Detail_List_Chemical Disorders',\n",
       " 'Conditions_Detail_List_Digestive System, Nutritional, Metabolic',\n",
       " 'Conditions_Detail_List_Endocrine System',\n",
       " 'Conditions_Detail_List_Eye',\n",
       " 'Conditions_Detail_List_Health Care',\n",
       " 'Conditions_Detail_List_Hemic, Lymphatic, Immune System',\n",
       " 'Conditions_Detail_List_Hereditary, Neonatal, Abnormalities',\n",
       " 'Conditions_Detail_List_Musculoskeletal, Neural',\n",
       " 'Conditions_Detail_List_Neoplasms',\n",
       " 'Conditions_Detail_List_Nervous System',\n",
       " 'Conditions_Detail_List_Otorhinolaryngologic',\n",
       " 'Conditions_Detail_List_Pathological Conditions, Signs, Symptoms',\n",
       " 'Conditions_Detail_List_Psychiatry, Psychology, Anthropology, Sociology',\n",
       " 'Conditions_Detail_List_Respiratory, Circulatory',\n",
       " 'Conditions_Detail_List_Skin, Tissue',\n",
       " 'Conditions_Detail_List_Stomatognathic',\n",
       " 'Conditions_Detail_List_Therapeutics, Diagnosis, Equipment',\n",
       " 'Conditions_Detail_List_Urogenital, Pregnancy',\n",
       " 'Conditions_Detail_List_Virus Diseases',\n",
       " 'Conditions_Detail_List_Wounds, Injuries',\n",
       " 'Intervention_Method_List_Injection',\n",
       " 'Intervention_Method_List_Oral',\n",
       " 'Intervention_Method_List_Surgical',\n",
       " 'Intervention_Method_List_Topical',\n",
       " 'Intervention_Type_List_BEHAVIORAL',\n",
       " 'Intervention_Type_List_BIOLOGICAL',\n",
       " 'Intervention_Type_List_COMBINATION_PRODUCT',\n",
       " 'Intervention_Type_List_DEVICE',\n",
       " 'Intervention_Type_List_DIAGNOSTIC_TEST',\n",
       " 'Intervention_Type_List_DIETARY_SUPPLEMENT',\n",
       " 'Intervention_Type_List_DRUG',\n",
       " 'Intervention_Type_List_GENETIC',\n",
       " 'Intervention_Type_List_PROCEDURE',\n",
       " 'Intervention_Type_List_RADIATION',\n",
       " 'Phases_List_PHASE1',\n",
       " 'Phases_List_PHASE2',\n",
       " 'Phases_List_PHASE3',\n",
       " 'Phases_List_PHASE4',\n",
       " 'Phases_List_PHASE_NA',\n",
       " 'Adverse_Detail_List_Adv_Det_Blood/ Lymphatic',\n",
       " 'Adverse_Detail_List_Adv_Det_Cardio',\n",
       " 'Adverse_Detail_List_Adv_Det_Death',\n",
       " 'Adverse_Detail_List_Adv_Det_Ear',\n",
       " 'Adverse_Detail_List_Adv_Det_Endocrine',\n",
       " 'Adverse_Detail_List_Adv_Det_Eye',\n",
       " 'Adverse_Detail_List_Adv_Det_Gastrointestinal',\n",
       " 'Adverse_Detail_List_Adv_Det_General',\n",
       " 'Adverse_Detail_List_Adv_Det_Genetic',\n",
       " 'Adverse_Detail_List_Adv_Det_Hepatobiliary',\n",
       " 'Adverse_Detail_List_Adv_Det_Immune System',\n",
       " 'Adverse_Detail_List_Adv_Det_Infections',\n",
       " 'Adverse_Detail_List_Adv_Det_Injury/ Poisoning/ Procedural',\n",
       " 'Adverse_Detail_List_Adv_Det_Investigations',\n",
       " 'Adverse_Detail_List_Adv_Det_Metabolism/ Nutrition',\n",
       " 'Adverse_Detail_List_Adv_Det_Musculoskeletal',\n",
       " 'Adverse_Detail_List_Adv_Det_Neoplasms',\n",
       " 'Adverse_Detail_List_Adv_Det_Nervous System',\n",
       " 'Adverse_Detail_List_Adv_Det_Pregnancy/ Perinatal',\n",
       " 'Adverse_Detail_List_Adv_Det_Product Issues',\n",
       " 'Adverse_Detail_List_Adv_Det_Psychiatric/ Social',\n",
       " 'Adverse_Detail_List_Adv_Det_Renal/ Urinary',\n",
       " 'Adverse_Detail_List_Adv_Det_Reproductive/ Breast',\n",
       " 'Adverse_Detail_List_Adv_Det_Respiratory',\n",
       " 'Adverse_Detail_List_Adv_Det_Skin',\n",
       " 'Adverse_Detail_List_Adv_Det_Social',\n",
       " 'Adverse_Detail_List_Adv_Det_Surgical/ Medical',\n",
       " 'Adverse_Detail_List_Adv_Det_Vascular',\n",
       " 'Allocation_List_NON_RANDOMIZED',\n",
       " 'Allocation_List_RANDOMIZED',\n",
       " 'Funder_Type_List_EDU_UNIV',\n",
       " 'Funder_Type_List_GOVERM',\n",
       " 'Funder_Type_List_HEALTH',\n",
       " 'Funder_Type_List_INDUSTRY',\n",
       " 'Continents_List_Africa',\n",
       " 'Continents_List_Asia',\n",
       " 'Continents_List_Europe',\n",
       " 'Continents_List_North America',\n",
       " 'Continents_List_Oceania',\n",
       " 'Continents_List_South America']"
      ]
     },
     "execution_count": 30,
     "metadata": {},
     "output_type": "execute_result"
    }
   ],
   "source": [
    "# Checking the keywords of col names / Check which col names to drop if no kewwords (e.g 'none', 'other', etc.)\n",
    "df0[[col for col in df0.columns if 'list' in col.lower()]].columns.tolist()\n",
    "def fun_drop_first(dfi):\n",
    "    dum_cols = [col for col in dfi.columns if 'list' in col.lower()]\n",
    "    keywords = ['other', 'none', \n",
    "                'Sex_List_ALL', 'Age_List_CHILD', 'phase0', 'na_randomized', 'single_group']\n",
    "    drop_cols = [col for col in dum_cols if any(key in col.lower() for key in keywords)]\n",
    "\n",
    "    dfi = dfi.drop(columns = drop_cols, axis = 1)\n",
    "    return dfi\n",
    "\n",
    "df0 = fun_drop_first(df0)\n",
    "df1 = fun_drop_first(df1)\n",
    "df2 = fun_drop_first(df2)\n",
    "df3 = fun_drop_first(df3)\n",
    "df4 = fun_drop_first(df4)\n",
    "df5 = fun_drop_first(df5)\n",
    "df = fun_drop_first(df)\n",
    "\n",
    "# Example Check\n",
    "df.columns.values.tolist()"
   ]
  },
  {
   "cell_type": "markdown",
   "id": "969e1089",
   "metadata": {},
   "source": [
    "## Binary"
   ]
  },
  {
   "cell_type": "code",
   "execution_count": 31,
   "id": "881a7953",
   "metadata": {},
   "outputs": [
    {
     "data": {
      "application/vnd.microsoft.datawrangler.viewer.v0+json": {
       "columns": [
        {
         "name": "Study_Status_Bin",
         "rawType": "category",
         "type": "unknown"
        },
        {
         "name": "count",
         "rawType": "int64",
         "type": "integer"
        }
       ],
       "ref": "00ea384f-24af-4523-a030-82be1d831bf5",
       "rows": [
        [
         "COMPLETED",
         "148180"
        ],
        [
         "TERMINATED",
         "25361"
        ]
       ],
       "shape": {
        "columns": 1,
        "rows": 2
       }
      },
      "text/plain": [
       "Study_Status_Bin\n",
       "COMPLETED     148180\n",
       "TERMINATED     25361\n",
       "Name: count, dtype: int64"
      ]
     },
     "metadata": {},
     "output_type": "display_data"
    },
    {
     "data": {
      "text/plain": [
       "['Placebo_Bin',\n",
       " 'Intervention_Type_Categ',\n",
       " 'Covid_19_Bin',\n",
       " 'Healthy_Bin',\n",
       " 'Standard_Care_Bin',\n",
       " 'Completion_Gap_Categ',\n",
       " 'Adverse_Bin',\n",
       " 'Study_Status_Bin']"
      ]
     },
     "metadata": {},
     "output_type": "display_data"
    },
    {
     "data": {
      "application/vnd.microsoft.datawrangler.viewer.v0+json": {
       "columns": [
        {
         "name": "index",
         "rawType": "int64",
         "type": "integer"
        },
        {
         "name": "Placebo_Bin",
         "rawType": "int8",
         "type": "integer"
        },
        {
         "name": "Intervention_Type_Categ",
         "rawType": "int8",
         "type": "integer"
        },
        {
         "name": "Covid_19_Bin",
         "rawType": "int8",
         "type": "integer"
        },
        {
         "name": "Healthy_Bin",
         "rawType": "int8",
         "type": "integer"
        },
        {
         "name": "Standard_Care_Bin",
         "rawType": "int8",
         "type": "integer"
        },
        {
         "name": "Completion_Gap_Categ",
         "rawType": "int8",
         "type": "integer"
        },
        {
         "name": "Adverse_Bin",
         "rawType": "int8",
         "type": "integer"
        },
        {
         "name": "Study_Status_Bin",
         "rawType": "int8",
         "type": "integer"
        }
       ],
       "ref": "99771cb0-0dd8-49ce-a1d9-c878ece8c377",
       "rows": [
        [
         "0",
         "0",
         "0",
         "0",
         "0",
         "0",
         "1",
         "0",
         "0"
        ],
        [
         "1",
         "0",
         "0",
         "0",
         "0",
         "0",
         "1",
         "0",
         "0"
        ],
        [
         "2",
         "0",
         "0",
         "0",
         "0",
         "0",
         "1",
         "0",
         "0"
        ],
        [
         "3",
         "0",
         "0",
         "0",
         "0",
         "0",
         "0",
         "0",
         "0"
        ],
        [
         "4",
         "0",
         "0",
         "0",
         "1",
         "0",
         "1",
         "0",
         "0"
        ],
        [
         "5",
         "1",
         "0",
         "0",
         "1",
         "0",
         "1",
         "1",
         "0"
        ],
        [
         "6",
         "0",
         "0",
         "0",
         "0",
         "0",
         "0",
         "0",
         "0"
        ],
        [
         "7",
         "0",
         "0",
         "0",
         "0",
         "0",
         "1",
         "0",
         "0"
        ],
        [
         "8",
         "0",
         "0",
         "0",
         "1",
         "0",
         "1",
         "0",
         "0"
        ],
        [
         "9",
         "0",
         "0",
         "0",
         "0",
         "0",
         "0",
         "1",
         "0"
        ],
        [
         "10",
         "1",
         "0",
         "0",
         "1",
         "0",
         "0",
         "0",
         "1"
        ],
        [
         "11",
         "1",
         "0",
         "0",
         "1",
         "0",
         "0",
         "0",
         "0"
        ],
        [
         "12",
         "0",
         "1",
         "0",
         "0",
         "0",
         "0",
         "0",
         "1"
        ],
        [
         "13",
         "0",
         "0",
         "0",
         "0",
         "0",
         "1",
         "0",
         "1"
        ],
        [
         "14",
         "0",
         "0",
         "0",
         "1",
         "0",
         "1",
         "0",
         "0"
        ],
        [
         "15",
         "1",
         "0",
         "0",
         "0",
         "0",
         "0",
         "0",
         "1"
        ],
        [
         "16",
         "0",
         "1",
         "0",
         "0",
         "1",
         "1",
         "0",
         "0"
        ],
        [
         "17",
         "0",
         "0",
         "0",
         "1",
         "0",
         "0",
         "0",
         "0"
        ],
        [
         "18",
         "0",
         "0",
         "0",
         "0",
         "0",
         "1",
         "0",
         "0"
        ],
        [
         "19",
         "0",
         "0",
         "0",
         "1",
         "0",
         "0",
         "0",
         "0"
        ],
        [
         "20",
         "0",
         "0",
         "0",
         "0",
         "0",
         "0",
         "0",
         "0"
        ],
        [
         "21",
         "0",
         "0",
         "0",
         "0",
         "0",
         "0",
         "0",
         "0"
        ],
        [
         "22",
         "0",
         "0",
         "0",
         "1",
         "0",
         "0",
         "0",
         "0"
        ],
        [
         "23",
         "0",
         "0",
         "0",
         "0",
         "0",
         "0",
         "0",
         "1"
        ],
        [
         "24",
         "0",
         "0",
         "0",
         "1",
         "0",
         "1",
         "1",
         "0"
        ],
        [
         "25",
         "0",
         "0",
         "0",
         "1",
         "0",
         "0",
         "0",
         "0"
        ],
        [
         "26",
         "0",
         "0",
         "0",
         "0",
         "0",
         "0",
         "0",
         "0"
        ],
        [
         "27",
         "0",
         "0",
         "0",
         "0",
         "0",
         "0",
         "0",
         "0"
        ],
        [
         "28",
         "0",
         "0",
         "0",
         "0",
         "0",
         "0",
         "0",
         "0"
        ],
        [
         "30",
         "0",
         "0",
         "0",
         "1",
         "0",
         "0",
         "0",
         "0"
        ],
        [
         "31",
         "1",
         "1",
         "0",
         "0",
         "0",
         "1",
         "0",
         "1"
        ],
        [
         "32",
         "1",
         "0",
         "0",
         "0",
         "0",
         "0",
         "0",
         "0"
        ],
        [
         "33",
         "0",
         "0",
         "0",
         "0",
         "0",
         "0",
         "0",
         "0"
        ],
        [
         "34",
         "0",
         "0",
         "0",
         "1",
         "0",
         "0",
         "0",
         "0"
        ],
        [
         "35",
         "0",
         "1",
         "0",
         "0",
         "0",
         "1",
         "0",
         "0"
        ],
        [
         "36",
         "0",
         "0",
         "0",
         "1",
         "0",
         "1",
         "0",
         "0"
        ],
        [
         "37",
         "0",
         "0",
         "0",
         "1",
         "0",
         "1",
         "0",
         "0"
        ],
        [
         "38",
         "0",
         "0",
         "0",
         "0",
         "0",
         "1",
         "0",
         "1"
        ],
        [
         "39",
         "0",
         "0",
         "0",
         "0",
         "0",
         "1",
         "0",
         "0"
        ],
        [
         "40",
         "0",
         "0",
         "0",
         "0",
         "0",
         "0",
         "0",
         "0"
        ],
        [
         "41",
         "1",
         "0",
         "0",
         "0",
         "0",
         "0",
         "0",
         "0"
        ],
        [
         "42",
         "1",
         "0",
         "0",
         "0",
         "0",
         "1",
         "0",
         "1"
        ],
        [
         "44",
         "1",
         "0",
         "0",
         "1",
         "0",
         "0",
         "0",
         "0"
        ],
        [
         "45",
         "1",
         "0",
         "0",
         "1",
         "0",
         "0",
         "0",
         "0"
        ],
        [
         "46",
         "1",
         "0",
         "0",
         "0",
         "0",
         "1",
         "0",
         "0"
        ],
        [
         "47",
         "0",
         "1",
         "0",
         "0",
         "0",
         "1",
         "0",
         "0"
        ],
        [
         "49",
         "1",
         "0",
         "0",
         "1",
         "0",
         "0",
         "0",
         "0"
        ],
        [
         "50",
         "0",
         "1",
         "0",
         "0",
         "0",
         "1",
         "1",
         "0"
        ],
        [
         "51",
         "1",
         "0",
         "0",
         "1",
         "0",
         "0",
         "0",
         "0"
        ],
        [
         "52",
         "0",
         "0",
         "0",
         "0",
         "0",
         "1",
         "0",
         "0"
        ]
       ],
       "shape": {
        "columns": 8,
        "rows": 2236
       }
      },
      "text/html": [
       "<div>\n",
       "<style scoped>\n",
       "    .dataframe tbody tr th:only-of-type {\n",
       "        vertical-align: middle;\n",
       "    }\n",
       "\n",
       "    .dataframe tbody tr th {\n",
       "        vertical-align: top;\n",
       "    }\n",
       "\n",
       "    .dataframe thead th {\n",
       "        text-align: right;\n",
       "    }\n",
       "</style>\n",
       "<table border=\"1\" class=\"dataframe\">\n",
       "  <thead>\n",
       "    <tr style=\"text-align: right;\">\n",
       "      <th></th>\n",
       "      <th>Placebo_Bin</th>\n",
       "      <th>Intervention_Type_Categ</th>\n",
       "      <th>Covid_19_Bin</th>\n",
       "      <th>Healthy_Bin</th>\n",
       "      <th>Standard_Care_Bin</th>\n",
       "      <th>Completion_Gap_Categ</th>\n",
       "      <th>Adverse_Bin</th>\n",
       "      <th>Study_Status_Bin</th>\n",
       "    </tr>\n",
       "  </thead>\n",
       "  <tbody>\n",
       "    <tr>\n",
       "      <th>0</th>\n",
       "      <td>0</td>\n",
       "      <td>0</td>\n",
       "      <td>0</td>\n",
       "      <td>0</td>\n",
       "      <td>0</td>\n",
       "      <td>1</td>\n",
       "      <td>0</td>\n",
       "      <td>0</td>\n",
       "    </tr>\n",
       "    <tr>\n",
       "      <th>1</th>\n",
       "      <td>0</td>\n",
       "      <td>0</td>\n",
       "      <td>0</td>\n",
       "      <td>0</td>\n",
       "      <td>0</td>\n",
       "      <td>1</td>\n",
       "      <td>0</td>\n",
       "      <td>0</td>\n",
       "    </tr>\n",
       "    <tr>\n",
       "      <th>2</th>\n",
       "      <td>0</td>\n",
       "      <td>0</td>\n",
       "      <td>0</td>\n",
       "      <td>0</td>\n",
       "      <td>0</td>\n",
       "      <td>1</td>\n",
       "      <td>0</td>\n",
       "      <td>0</td>\n",
       "    </tr>\n",
       "    <tr>\n",
       "      <th>3</th>\n",
       "      <td>0</td>\n",
       "      <td>0</td>\n",
       "      <td>0</td>\n",
       "      <td>0</td>\n",
       "      <td>0</td>\n",
       "      <td>0</td>\n",
       "      <td>0</td>\n",
       "      <td>0</td>\n",
       "    </tr>\n",
       "    <tr>\n",
       "      <th>4</th>\n",
       "      <td>0</td>\n",
       "      <td>0</td>\n",
       "      <td>0</td>\n",
       "      <td>1</td>\n",
       "      <td>0</td>\n",
       "      <td>1</td>\n",
       "      <td>0</td>\n",
       "      <td>0</td>\n",
       "    </tr>\n",
       "    <tr>\n",
       "      <th>...</th>\n",
       "      <td>...</td>\n",
       "      <td>...</td>\n",
       "      <td>...</td>\n",
       "      <td>...</td>\n",
       "      <td>...</td>\n",
       "      <td>...</td>\n",
       "      <td>...</td>\n",
       "      <td>...</td>\n",
       "    </tr>\n",
       "    <tr>\n",
       "      <th>2299</th>\n",
       "      <td>0</td>\n",
       "      <td>0</td>\n",
       "      <td>0</td>\n",
       "      <td>0</td>\n",
       "      <td>0</td>\n",
       "      <td>0</td>\n",
       "      <td>0</td>\n",
       "      <td>0</td>\n",
       "    </tr>\n",
       "    <tr>\n",
       "      <th>2300</th>\n",
       "      <td>0</td>\n",
       "      <td>0</td>\n",
       "      <td>0</td>\n",
       "      <td>1</td>\n",
       "      <td>0</td>\n",
       "      <td>0</td>\n",
       "      <td>0</td>\n",
       "      <td>0</td>\n",
       "    </tr>\n",
       "    <tr>\n",
       "      <th>2301</th>\n",
       "      <td>0</td>\n",
       "      <td>0</td>\n",
       "      <td>0</td>\n",
       "      <td>0</td>\n",
       "      <td>1</td>\n",
       "      <td>1</td>\n",
       "      <td>0</td>\n",
       "      <td>0</td>\n",
       "    </tr>\n",
       "    <tr>\n",
       "      <th>2302</th>\n",
       "      <td>0</td>\n",
       "      <td>0</td>\n",
       "      <td>0</td>\n",
       "      <td>0</td>\n",
       "      <td>0</td>\n",
       "      <td>0</td>\n",
       "      <td>0</td>\n",
       "      <td>0</td>\n",
       "    </tr>\n",
       "    <tr>\n",
       "      <th>2303</th>\n",
       "      <td>0</td>\n",
       "      <td>0</td>\n",
       "      <td>0</td>\n",
       "      <td>1</td>\n",
       "      <td>0</td>\n",
       "      <td>0</td>\n",
       "      <td>1</td>\n",
       "      <td>0</td>\n",
       "    </tr>\n",
       "  </tbody>\n",
       "</table>\n",
       "<p>2236 rows × 8 columns</p>\n",
       "</div>"
      ],
      "text/plain": [
       "      Placebo_Bin  Intervention_Type_Categ  Covid_19_Bin  Healthy_Bin  \\\n",
       "0               0                        0             0            0   \n",
       "1               0                        0             0            0   \n",
       "2               0                        0             0            0   \n",
       "3               0                        0             0            0   \n",
       "4               0                        0             0            1   \n",
       "...           ...                      ...           ...          ...   \n",
       "2299            0                        0             0            0   \n",
       "2300            0                        0             0            1   \n",
       "2301            0                        0             0            0   \n",
       "2302            0                        0             0            0   \n",
       "2303            0                        0             0            1   \n",
       "\n",
       "      Standard_Care_Bin  Completion_Gap_Categ  Adverse_Bin  Study_Status_Bin  \n",
       "0                     0                     1            0                 0  \n",
       "1                     0                     1            0                 0  \n",
       "2                     0                     1            0                 0  \n",
       "3                     0                     0            0                 0  \n",
       "4                     0                     1            0                 0  \n",
       "...                 ...                   ...          ...               ...  \n",
       "2299                  0                     0            0                 0  \n",
       "2300                  0                     0            0                 0  \n",
       "2301                  1                     1            0                 0  \n",
       "2302                  0                     0            0                 0  \n",
       "2303                  0                     0            1                 0  \n",
       "\n",
       "[2236 rows x 8 columns]"
      ]
     },
     "metadata": {},
     "output_type": "display_data"
    },
    {
     "data": {
      "application/vnd.microsoft.datawrangler.viewer.v0+json": {
       "columns": [
        {
         "name": "Study_Status_Bin",
         "rawType": "int8",
         "type": "integer"
        },
        {
         "name": "count",
         "rawType": "int64",
         "type": "integer"
        }
       ],
       "ref": "08512c5f-bd42-4f83-a925-6ac58a6ea38e",
       "rows": [
        [
         "0",
         "148180"
        ],
        [
         "1",
         "25361"
        ]
       ],
       "shape": {
        "columns": 1,
        "rows": 2
       }
      },
      "text/plain": [
       "Study_Status_Bin\n",
       "0    148180\n",
       "1     25361\n",
       "Name: count, dtype: int64"
      ]
     },
     "metadata": {},
     "output_type": "display_data"
    }
   ],
   "source": [
    "display(df['Study_Status_Bin'].value_counts())\n",
    "\n",
    "# Binary Encoding\n",
    "def fun_bin_enc(dfi, cols):\n",
    "    dfi = dfi.copy()\n",
    "    for col in cols:\n",
    "        cats = CategoricalDtype(categories = sorted(dfi[col].dropna().unique()), ordered = False)\n",
    "        dfi[col] = dfi[col].astype(cats).cat.codes\n",
    "    return dfi\n",
    "\n",
    "\n",
    "### Cols\n",
    "def fun_bin_cols(dfis):\n",
    "    bin_cols = []\n",
    "    for dfi in dfis:\n",
    "        bin_cols = bin_cols + [[col for col in dfi.columns if 'categ' in col.lower() or 'bin' in col.lower()]]\n",
    "    return bin_cols\n",
    "\n",
    "bin_cols = fun_bin_cols(dfis)\n",
    "\n",
    "# Apply\n",
    "df0 = fun_bin_enc(df0, bin_cols[0])\n",
    "df1 = fun_bin_enc(df1, bin_cols[1])\n",
    "df2 = fun_bin_enc(df2, bin_cols[2])\n",
    "df3 = fun_bin_enc(df3, bin_cols[3])\n",
    "df4 = fun_bin_enc(df4, bin_cols[4])\n",
    "df5 = fun_bin_enc(df5, bin_cols[5])\n",
    "df = fun_bin_enc(df, bin_cols[6])\n",
    "\n",
    "# Example\n",
    "display(bin_cols[0])  # bin_cols[0] --> bin_cols of df0\n",
    "display(df0[bin_cols[0]]) \n",
    "display(df['Study_Status_Bin'].value_counts())  # Completed = 0, Terminated = 1"
   ]
  },
  {
   "cell_type": "markdown",
   "id": "c64d94c7",
   "metadata": {},
   "source": [
    "# Save Dfs"
   ]
  },
  {
   "cell_type": "code",
   "execution_count": 32,
   "id": "17663c4c",
   "metadata": {},
   "outputs": [],
   "source": [
    "df0.to_pickle(r\".\\df_dummies\\df0_dummies.pkl\")\n",
    "df1.to_pickle(r\".\\df_dummies\\df1_dummies.pkl\")\n",
    "df2.to_pickle(r\".\\df_dummies\\df2_dummies.pkl\")\n",
    "df3.to_pickle(r\".\\df_dummies\\df3_dummies.pkl\")\n",
    "df4.to_pickle(r\".\\df_dummies\\df4_dummies.pkl\")\n",
    "df5.to_pickle(r\".\\df_dummies\\df5_dummies.pkl\")\n",
    "df.to_pickle(r\".\\df_dummies\\df_dummies.pkl\")"
   ]
  },
  {
   "cell_type": "code",
   "execution_count": 33,
   "id": "26eb39c8",
   "metadata": {},
   "outputs": [
    {
     "data": {
      "text/plain": [
       "(2236, 90)"
      ]
     },
     "metadata": {},
     "output_type": "display_data"
    },
    {
     "data": {
      "text/plain": [
       "(26045, 115)"
      ]
     },
     "metadata": {},
     "output_type": "display_data"
    },
    {
     "data": {
      "text/plain": [
       "(28409, 115)"
      ]
     },
     "metadata": {},
     "output_type": "display_data"
    },
    {
     "data": {
      "text/plain": [
       "(16093, 115)"
      ]
     },
     "metadata": {},
     "output_type": "display_data"
    },
    {
     "data": {
      "text/plain": [
       "(12813, 90)"
      ]
     },
     "metadata": {},
     "output_type": "display_data"
    },
    {
     "data": {
      "text/plain": [
       "(95731, 115)"
      ]
     },
     "metadata": {},
     "output_type": "display_data"
    },
    {
     "data": {
      "text/plain": [
       "(173541, 120)"
      ]
     },
     "metadata": {},
     "output_type": "display_data"
    }
   ],
   "source": [
    "display(df0.shape)\n",
    "display(df1.shape)\n",
    "display(df2.shape)\n",
    "display(df3.shape)\n",
    "display(df4.shape)\n",
    "display(df5.shape)\n",
    "display(df.shape)"
   ]
  }
 ],
 "metadata": {
  "kernelspec": {
   "display_name": "Python 3",
   "language": "python",
   "name": "python3"
  },
  "language_info": {
   "codemirror_mode": {
    "name": "ipython",
    "version": 3
   },
   "file_extension": ".py",
   "mimetype": "text/x-python",
   "name": "python",
   "nbconvert_exporter": "python",
   "pygments_lexer": "ipython3",
   "version": "3.12.10"
  }
 },
 "nbformat": 4,
 "nbformat_minor": 5
}
