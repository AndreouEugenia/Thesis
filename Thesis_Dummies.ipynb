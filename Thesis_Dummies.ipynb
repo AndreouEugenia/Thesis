{
 "cells": [
  {
   "cell_type": "markdown",
   "id": "74fbd4e5",
   "metadata": {},
   "source": [
    "# Libraries"
   ]
  },
  {
   "cell_type": "code",
   "execution_count": 1,
   "id": "ff4fb25d",
   "metadata": {},
   "outputs": [],
   "source": [
    "import pandas as pd\n",
    "import numpy as np\n",
    "import datetime as dt\n",
    "import time\n",
    "import re\n",
    "from collections import Counter\n",
    "import matplotlib.pyplot as plt \n",
    "import seaborn as sns\n",
    "\n",
    "# Plotting Libs\n",
    "import matplotlib.pyplot as plt \n",
    "import matplotlib.ticker as ticker\n",
    "from matplotlib.ticker import MaxNLocator\n",
    "import seaborn as sns\n",
    "from mpl_toolkits.mplot3d import Axes3D\n",
    "\n",
    "# Statistical libs\n",
    "import scipy\n",
    "import pymannkendall as mk\n",
    "import statsmodels.api as sm\n",
    "from scipy import stats\n",
    "from scipy.stats import norm, skew, chi2_contingency, chi2, chisquare, chi, ttest_rel, ttest_ind, ttest_1samp, ttest_ind_from_stats, ttest_ind_from_stats, ttest_1samp\n",
    "from ISLP import load_data\n",
    "from ISLP.models import (ModelSpec as MS,summarize)\n",
    "from ISLP import confusion_table\n",
    "from ISLP.models import contrast\n",
    "from sklearn.model_selection import train_test_split\n",
    "from statsmodels.stats.outliers_influence import variance_inflation_factor\n",
    "from sklearn.preprocessing import StandardScaler\n",
    "from sklearn.preprocessing import MultiLabelBinarizer\n",
    "from sklearn.preprocessing import OrdinalEncoder\n",
    "from collections import Counter\n",
    "from sklearn.utils import resample\n",
    "from imblearn.under_sampling import RandomUnderSampler"
   ]
  },
  {
   "cell_type": "markdown",
   "id": "53a91b9e",
   "metadata": {},
   "source": [
    "# Load Data"
   ]
  },
  {
   "cell_type": "code",
   "execution_count": 31,
   "id": "6489d57b",
   "metadata": {},
   "outputs": [],
   "source": [
    "df0 = pd.read_pickle(\"df0_vizual.pkl\")\n",
    "df1 = pd.read_pickle(\"df1_vizual.pkl\")\n",
    "df2 = pd.read_pickle(\"df2_vizual.pkl\")\n",
    "df3 = pd.read_pickle(\"df3_vizual.pkl\")\n",
    "df4 = pd.read_pickle(\"df4_vizual.pkl\")\n",
    "df5 = pd.read_pickle(\"df5_vizual.pkl\")"
   ]
  },
  {
   "cell_type": "code",
   "execution_count": 32,
   "id": "8b3b5702",
   "metadata": {},
   "outputs": [],
   "source": [
    "dfis = [df0, df1, df2, df3, df4, df5]\n",
    "iss = [0, 1, 2, 3, 4, 5]"
   ]
  },
  {
   "cell_type": "markdown",
   "id": "05cce9a0",
   "metadata": {},
   "source": [
    "# Dummies"
   ]
  },
  {
   "cell_type": "code",
   "execution_count": 21,
   "id": "9e9c4850",
   "metadata": {},
   "outputs": [
    {
     "data": {
      "text/plain": [
       "Index(['Study Status', 'Sex', 'Age_List', 'Funder_Type', 'Sponsor_Collab_List',\n",
       "       'Study_Documents_List', 'Document_Counts', 'Document_Counts_Bin',\n",
       "       'Intervention_Method_List', 'Intervention_Type_List', 'Placebo_Bin',\n",
       "       'Standard_Care_Bin', 'Healthy_Bin', 'Covid_19_Bin', 'Conditions_List',\n",
       "       'Adverse_List', 'Adverse_System_List', 'Termination', 'Allocation',\n",
       "       'Intervention_Model', 'Masking', 'Masking_Detail_List',\n",
       "       'Primary_Purpose', 'Outcomes_List', 'Continents_List', 'Enrollment_Log',\n",
       "       'Document_Counts_Categ', 'Adverse_Counts_Log', 'Completion_Gap_Categ',\n",
       "       'Intervention_Counts_Categ', 'Comorbidity_Counts_Categ',\n",
       "       'Adverse_System_Counts_Categ', 'City_Counts_Categ',\n",
       "       'Country_Counts_Categ', 'Continent_Counts_Categ', 'Arm_Counts_Categ'],\n",
       "      dtype='object')"
      ]
     },
     "execution_count": 21,
     "metadata": {},
     "output_type": "execute_result"
    }
   ],
   "source": [
    "df0.columns"
   ]
  },
  {
   "cell_type": "markdown",
   "id": "a6c4fed8",
   "metadata": {},
   "source": [
    "## Binary"
   ]
  },
  {
   "cell_type": "code",
   "execution_count": 24,
   "id": "175300f5",
   "metadata": {},
   "outputs": [],
   "source": [
    "def bin_enc(dfi, cols):\n",
    "    for col in cols:\n",
    "        cats = sorted(dfi[col].dropna().unique())\n",
    "        dfi[col] = dfi[col].map({cats[0]: 0, cats[1]: 1, 'No':0, 'Yes':1})\n",
    "    return dfi"
   ]
  },
  {
   "cell_type": "code",
   "execution_count": 35,
   "id": "4c87d11c",
   "metadata": {},
   "outputs": [
    {
     "data": {
      "application/vnd.microsoft.datawrangler.viewer.v0+json": {
       "columns": [
        {
         "name": "index",
         "rawType": "int64",
         "type": "integer"
        },
        {
         "name": "Study Status",
         "rawType": "category",
         "type": "unknown"
        },
        {
         "name": "Document_Counts_Bin",
         "rawType": "int64",
         "type": "integer"
        },
        {
         "name": "Placebo_Bin",
         "rawType": "int64",
         "type": "integer"
        },
        {
         "name": "Standard_Care_Bin",
         "rawType": "int64",
         "type": "integer"
        },
        {
         "name": "Healthy_Bin",
         "rawType": "int64",
         "type": "integer"
        },
        {
         "name": "Covid_19_Bin",
         "rawType": "int64",
         "type": "integer"
        },
        {
         "name": "Enrollment_Log",
         "rawType": "float64",
         "type": "float"
        },
        {
         "name": "Document_Counts_Categ",
         "rawType": "category",
         "type": "unknown"
        },
        {
         "name": "Adverse_Counts_Log",
         "rawType": "float64",
         "type": "float"
        },
        {
         "name": "Completion_Gap_Categ",
         "rawType": "category",
         "type": "unknown"
        },
        {
         "name": "Intervention_Counts_Categ",
         "rawType": "category",
         "type": "unknown"
        },
        {
         "name": "Comorbidity_Counts_Categ",
         "rawType": "category",
         "type": "unknown"
        },
        {
         "name": "Adverse_System_Counts_Categ",
         "rawType": "category",
         "type": "unknown"
        },
        {
         "name": "City_Counts_Categ",
         "rawType": "category",
         "type": "unknown"
        },
        {
         "name": "Country_Counts_Categ",
         "rawType": "category",
         "type": "unknown"
        },
        {
         "name": "Continent_Counts_Categ",
         "rawType": "category",
         "type": "unknown"
        },
        {
         "name": "Arm_Counts_Categ",
         "rawType": "category",
         "type": "unknown"
        },
        {
         "name": "Outcomes_Counts_Categ",
         "rawType": "category",
         "type": "unknown"
        },
        {
         "name": "Sex_FEMALE",
         "rawType": "int32",
         "type": "integer"
        },
        {
         "name": "Sex_MALE",
         "rawType": "int32",
         "type": "integer"
        },
        {
         "name": "Age_List_CHILD",
         "rawType": "int32",
         "type": "integer"
        },
        {
         "name": "Age_List_OLDER_ADULT",
         "rawType": "int32",
         "type": "integer"
        },
        {
         "name": "Funder_Type_INDIV",
         "rawType": "int32",
         "type": "integer"
        },
        {
         "name": "Funder_Type_INDUSTRY",
         "rawType": "int32",
         "type": "integer"
        },
        {
         "name": "Funder_Type_NIH",
         "rawType": "int32",
         "type": "integer"
        },
        {
         "name": "Funder_Type_OTHER",
         "rawType": "int32",
         "type": "integer"
        },
        {
         "name": "Funder_Type_OTHER_GOV",
         "rawType": "int32",
         "type": "integer"
        },
        {
         "name": "Sponsor_Collab_List_Other",
         "rawType": "int32",
         "type": "integer"
        },
        {
         "name": "Sponsor_Collab_List_Pharmaceutical",
         "rawType": "int32",
         "type": "integer"
        },
        {
         "name": "Sponsor_Collab_List_University",
         "rawType": "int32",
         "type": "integer"
        },
        {
         "name": "Study_Documents_List_Consent Form",
         "rawType": "int32",
         "type": "integer"
        },
        {
         "name": "Study_Documents_List_None",
         "rawType": "int32",
         "type": "integer"
        },
        {
         "name": "Study_Documents_List_Protocol",
         "rawType": "int32",
         "type": "integer"
        },
        {
         "name": "Document_Counts_1",
         "rawType": "int32",
         "type": "integer"
        },
        {
         "name": "Document_Counts_2",
         "rawType": "int32",
         "type": "integer"
        },
        {
         "name": "Document_Counts_3",
         "rawType": "int32",
         "type": "integer"
        },
        {
         "name": "Intervention_Method_List_Oral",
         "rawType": "int32",
         "type": "integer"
        },
        {
         "name": "Intervention_Method_List_Topical",
         "rawType": "int32",
         "type": "integer"
        },
        {
         "name": "Intervention_Method_List_Unknown",
         "rawType": "int32",
         "type": "integer"
        },
        {
         "name": "Intervention_Type_List_BIOLOGICAL",
         "rawType": "int32",
         "type": "integer"
        },
        {
         "name": "Intervention_Type_List_COMBINATION_PRODUCT",
         "rawType": "int32",
         "type": "integer"
        },
        {
         "name": "Intervention_Type_List_DEVICE",
         "rawType": "int32",
         "type": "integer"
        },
        {
         "name": "Intervention_Type_List_DIAGNOSTIC_TEST",
         "rawType": "int32",
         "type": "integer"
        },
        {
         "name": "Intervention_Type_List_DIETARY_SUPPLEMENT",
         "rawType": "int32",
         "type": "integer"
        },
        {
         "name": "Intervention_Type_List_DRUG",
         "rawType": "int32",
         "type": "integer"
        },
        {
         "name": "Intervention_Type_List_GENETIC",
         "rawType": "int32",
         "type": "integer"
        },
        {
         "name": "Intervention_Type_List_OTHER",
         "rawType": "int32",
         "type": "integer"
        },
        {
         "name": "Intervention_Type_List_PROCEDURE",
         "rawType": "int32",
         "type": "integer"
        },
        {
         "name": "Intervention_Type_List_RADIATION",
         "rawType": "int32",
         "type": "integer"
        },
        {
         "name": "Conditions_List_Anthropology, Sociology",
         "rawType": "int32",
         "type": "integer"
        },
        {
         "name": "Conditions_List_Chemicals, Drugs",
         "rawType": "int32",
         "type": "integer"
        },
        {
         "name": "Conditions_List_Diagnostic, Equipment",
         "rawType": "int32",
         "type": "integer"
        },
        {
         "name": "Conditions_List_Diseases",
         "rawType": "int32",
         "type": "integer"
        },
        {
         "name": "Conditions_List_Health Care",
         "rawType": "int32",
         "type": "integer"
        },
        {
         "name": "Conditions_List_None",
         "rawType": "int32",
         "type": "integer"
        },
        {
         "name": "Conditions_List_Phenomena, Processes",
         "rawType": "int32",
         "type": "integer"
        },
        {
         "name": "Conditions_List_Psychiatry, Psychology",
         "rawType": "int32",
         "type": "integer"
        },
        {
         "name": "Adverse_List_None",
         "rawType": "int32",
         "type": "integer"
        },
        {
         "name": "Adverse_List_Other",
         "rawType": "int32",
         "type": "integer"
        },
        {
         "name": "Adverse_List_Serious",
         "rawType": "int32",
         "type": "integer"
        },
        {
         "name": "Adverse_System_List_Cardiac",
         "rawType": "int32",
         "type": "integer"
        },
        {
         "name": "Adverse_System_List_Death",
         "rawType": "int32",
         "type": "integer"
        },
        {
         "name": "Adverse_System_List_Ear",
         "rawType": "int32",
         "type": "integer"
        },
        {
         "name": "Adverse_System_List_Endocrine",
         "rawType": "int32",
         "type": "integer"
        },
        {
         "name": "Adverse_System_List_Eye",
         "rawType": "int32",
         "type": "integer"
        },
        {
         "name": "Adverse_System_List_Gastrointestinal",
         "rawType": "int32",
         "type": "integer"
        },
        {
         "name": "Adverse_System_List_General",
         "rawType": "int32",
         "type": "integer"
        },
        {
         "name": "Adverse_System_List_Hepatobiliary",
         "rawType": "int32",
         "type": "integer"
        },
        {
         "name": "Adverse_System_List_Immune System",
         "rawType": "int32",
         "type": "integer"
        },
        {
         "name": "Adverse_System_List_Infection",
         "rawType": "int32",
         "type": "integer"
        },
        {
         "name": "Adverse_System_List_Injury, Poisoning, Procedural",
         "rawType": "int32",
         "type": "integer"
        },
        {
         "name": "Adverse_System_List_Investigations",
         "rawType": "int32",
         "type": "integer"
        },
        {
         "name": "Adverse_System_List_Metabolism, Nutrition",
         "rawType": "int32",
         "type": "integer"
        },
        {
         "name": "Adverse_System_List_Musculoskeletal",
         "rawType": "int32",
         "type": "integer"
        },
        {
         "name": "Adverse_System_List_Neoplasms",
         "rawType": "int32",
         "type": "integer"
        },
        {
         "name": "Adverse_System_List_Nervous System",
         "rawType": "int32",
         "type": "integer"
        },
        {
         "name": "Adverse_System_List_None",
         "rawType": "int32",
         "type": "integer"
        },
        {
         "name": "Adverse_System_List_Psychiatric",
         "rawType": "int32",
         "type": "integer"
        },
        {
         "name": "Adverse_System_List_Renal, Urinary",
         "rawType": "int32",
         "type": "integer"
        },
        {
         "name": "Adverse_System_List_Reproductive, Breast",
         "rawType": "int32",
         "type": "integer"
        },
        {
         "name": "Adverse_System_List_Respiratory",
         "rawType": "int32",
         "type": "integer"
        },
        {
         "name": "Adverse_System_List_Skin, Subcutaneous",
         "rawType": "int32",
         "type": "integer"
        },
        {
         "name": "Adverse_System_List_Surgical, Medical",
         "rawType": "int32",
         "type": "integer"
        },
        {
         "name": "Adverse_System_List_Vascular",
         "rawType": "int32",
         "type": "integer"
        },
        {
         "name": "Allocation_NOT_APPLICABLE",
         "rawType": "int32",
         "type": "integer"
        },
        {
         "name": "Allocation_RANDOMIZED",
         "rawType": "int32",
         "type": "integer"
        },
        {
         "name": "Intervention_Model_FACTORIAL",
         "rawType": "int32",
         "type": "integer"
        },
        {
         "name": "Intervention_Model_PARALLEL",
         "rawType": "int32",
         "type": "integer"
        },
        {
         "name": "Intervention_Model_SEQUENTIAL",
         "rawType": "int32",
         "type": "integer"
        },
        {
         "name": "Intervention_Model_SINGLE_GROUP",
         "rawType": "int32",
         "type": "integer"
        },
        {
         "name": "Masking_NONE",
         "rawType": "int32",
         "type": "integer"
        },
        {
         "name": "Masking_QUADRUPLE",
         "rawType": "int32",
         "type": "integer"
        },
        {
         "name": "Masking_SINGLE",
         "rawType": "int32",
         "type": "integer"
        },
        {
         "name": "Masking_TRIPLE",
         "rawType": "int32",
         "type": "integer"
        },
        {
         "name": "Masking_Detail_List_INVESTIGATOR",
         "rawType": "int32",
         "type": "integer"
        },
        {
         "name": "Masking_Detail_List_NONE",
         "rawType": "int32",
         "type": "integer"
        },
        {
         "name": "Masking_Detail_List_OUTCOMES_ASSESSOR",
         "rawType": "int32",
         "type": "integer"
        },
        {
         "name": "Masking_Detail_List_PARTICIPANT",
         "rawType": "int32",
         "type": "integer"
        },
        {
         "name": "Primary_Purpose_DEVICE_FEASIBILITY",
         "rawType": "int32",
         "type": "integer"
        },
        {
         "name": "Primary_Purpose_DIAGNOSTIC",
         "rawType": "int32",
         "type": "integer"
        },
        {
         "name": "Primary_Purpose_HEALTH_SERVICES_RESEARCH",
         "rawType": "int32",
         "type": "integer"
        },
        {
         "name": "Primary_Purpose_OTHER",
         "rawType": "int32",
         "type": "integer"
        },
        {
         "name": "Primary_Purpose_PREVENTION",
         "rawType": "int32",
         "type": "integer"
        },
        {
         "name": "Primary_Purpose_SCREENING",
         "rawType": "int32",
         "type": "integer"
        },
        {
         "name": "Primary_Purpose_SUPPORTIVE_CARE",
         "rawType": "int32",
         "type": "integer"
        },
        {
         "name": "Primary_Purpose_TREATMENT",
         "rawType": "int32",
         "type": "integer"
        },
        {
         "name": "Primary_Purpose_UNKNOWN",
         "rawType": "int32",
         "type": "integer"
        },
        {
         "name": "Outcomes_List_OTHER_PRE_SPECIFIED",
         "rawType": "int32",
         "type": "integer"
        },
        {
         "name": "Outcomes_List_POST_HOC",
         "rawType": "int32",
         "type": "integer"
        },
        {
         "name": "Outcomes_List_PRIMARY",
         "rawType": "int32",
         "type": "integer"
        },
        {
         "name": "Outcomes_List_SECONDARY",
         "rawType": "int32",
         "type": "integer"
        },
        {
         "name": "Continents_List_Asia",
         "rawType": "int32",
         "type": "integer"
        },
        {
         "name": "Continents_List_Europe",
         "rawType": "int32",
         "type": "integer"
        },
        {
         "name": "Continents_List_None",
         "rawType": "int32",
         "type": "integer"
        },
        {
         "name": "Continents_List_North America",
         "rawType": "int32",
         "type": "integer"
        },
        {
         "name": "Continents_List_Oceania",
         "rawType": "int32",
         "type": "integer"
        },
        {
         "name": "Continents_List_South America",
         "rawType": "int32",
         "type": "integer"
        }
       ],
       "ref": "974b12f6-a08d-4b0a-ae29-38e70b27d37f",
       "rows": [
        [
         "0",
         "COMPLETED",
         "0",
         "0",
         "0",
         "0",
         "0",
         "3.8501476017100584",
         null,
         "0.0",
         "1",
         "0",
         "0",
         null,
         "0",
         "0",
         "0",
         "0",
         null,
         "0",
         "0",
         "0",
         "1",
         "0",
         "0",
         "0",
         "1",
         "0",
         "0",
         "0",
         "1",
         "0",
         "1",
         "0",
         "0",
         "0",
         "0",
         "0",
         "0",
         "0",
         "0",
         "0",
         "0",
         "0",
         "0",
         "1",
         "0",
         "0",
         "0",
         "0",
         "0",
         "0",
         "0",
         "1",
         "0",
         "0",
         "0",
         "0",
         "1",
         "0",
         "0",
         "0",
         "0",
         "0",
         "0",
         "0",
         "0",
         "0",
         "0",
         "0",
         "0",
         "0",
         "0",
         "0",
         "0",
         "0",
         "0",
         "1",
         "0",
         "0",
         "0",
         "0",
         "0",
         "0",
         "0",
         "0",
         "0",
         "0",
         "1",
         "0",
         "0",
         "1",
         "0",
         "0",
         "0",
         "0",
         "1",
         "0",
         "0",
         "0",
         "0",
         "0",
         "0",
         "0",
         "0",
         "0",
         "1",
         "0",
         "0",
         "0",
         "0",
         "0",
         "0",
         "1",
         "0",
         "0",
         "0",
         "0"
        ],
        [
         "1",
         "COMPLETED",
         "0",
         "0",
         "0",
         "1",
         "0",
         "5.288267030694535",
         null,
         "0.0",
         "1",
         "1",
         "1",
         null,
         "0",
         "0",
         "0",
         "0",
         null,
         "0",
         "0",
         "1",
         "1",
         "0",
         "0",
         "0",
         "1",
         "0",
         "0",
         "0",
         "0",
         "0",
         "1",
         "0",
         "0",
         "0",
         "0",
         "0",
         "0",
         "0",
         "0",
         "0",
         "0",
         "0",
         "0",
         "0",
         "0",
         "1",
         "1",
         "0",
         "0",
         "0",
         "0",
         "1",
         "0",
         "0",
         "0",
         "0",
         "1",
         "0",
         "0",
         "0",
         "0",
         "0",
         "0",
         "0",
         "0",
         "0",
         "0",
         "0",
         "0",
         "0",
         "0",
         "0",
         "0",
         "0",
         "0",
         "1",
         "0",
         "0",
         "0",
         "0",
         "0",
         "0",
         "0",
         "1",
         "0",
         "0",
         "0",
         "0",
         "1",
         "1",
         "0",
         "0",
         "0",
         "0",
         "1",
         "0",
         "0",
         "0",
         "0",
         "0",
         "0",
         "0",
         "1",
         "0",
         "0",
         "0",
         "0",
         "0",
         "0",
         "0",
         "0",
         "0",
         "0",
         "1",
         "0",
         "0"
        ],
        [
         "2",
         "COMPLETED",
         "0",
         "0",
         "0",
         "1",
         "0",
         "2.9444389791664403",
         null,
         "0.0",
         "1",
         "0",
         "0",
         null,
         "0",
         "0",
         "0",
         "0",
         null,
         "0",
         "0",
         "0",
         "1",
         "0",
         "0",
         "0",
         "1",
         "0",
         "0",
         "0",
         "1",
         "0",
         "1",
         "0",
         "0",
         "0",
         "0",
         "0",
         "0",
         "1",
         "0",
         "0",
         "1",
         "0",
         "0",
         "0",
         "0",
         "0",
         "0",
         "0",
         "0",
         "0",
         "0",
         "1",
         "0",
         "0",
         "0",
         "0",
         "1",
         "0",
         "0",
         "0",
         "0",
         "0",
         "0",
         "0",
         "0",
         "0",
         "0",
         "0",
         "0",
         "0",
         "0",
         "0",
         "0",
         "0",
         "0",
         "1",
         "0",
         "0",
         "0",
         "0",
         "0",
         "0",
         "0",
         "0",
         "1",
         "0",
         "1",
         "0",
         "0",
         "1",
         "0",
         "0",
         "0",
         "0",
         "1",
         "0",
         "0",
         "0",
         "0",
         "0",
         "0",
         "0",
         "0",
         "0",
         "1",
         "0",
         "0",
         "0",
         "0",
         "0",
         "0",
         "1",
         "0",
         "0",
         "0",
         "0"
        ],
        [
         "3",
         "TERMINATED",
         "0",
         "1",
         "0",
         "1",
         "0",
         "1.3862943611198906",
         null,
         "0.0",
         "0",
         "0",
         null,
         null,
         "1",
         "0",
         "0",
         "0",
         "(1, 4]",
         "0",
         "0",
         "0",
         "1",
         "0",
         "0",
         "0",
         "1",
         "0",
         "0",
         "0",
         "1",
         "0",
         "1",
         "0",
         "0",
         "0",
         "0",
         "0",
         "0",
         "0",
         "0",
         "0",
         "0",
         "0",
         "0",
         "1",
         "0",
         "0",
         "0",
         "0",
         "0",
         "0",
         "0",
         "0",
         "0",
         "1",
         "0",
         "0",
         "1",
         "0",
         "0",
         "0",
         "0",
         "0",
         "0",
         "0",
         "0",
         "0",
         "0",
         "0",
         "0",
         "0",
         "0",
         "0",
         "0",
         "0",
         "0",
         "1",
         "0",
         "0",
         "0",
         "0",
         "0",
         "0",
         "0",
         "0",
         "1",
         "0",
         "1",
         "0",
         "0",
         "0",
         "1",
         "0",
         "0",
         "1",
         "0",
         "1",
         "1",
         "0",
         "0",
         "0",
         "0",
         "0",
         "0",
         "1",
         "0",
         "0",
         "0",
         "0",
         "1",
         "1",
         "0",
         "0",
         "0",
         "1",
         "0",
         "0"
        ],
        [
         "4",
         "TERMINATED",
         "0",
         "0",
         "0",
         "0",
         "0",
         "0.0",
         null,
         "0.0",
         "0",
         "1",
         "0",
         null,
         null,
         null,
         null,
         "0",
         null,
         "0",
         "0",
         "0",
         "1",
         "0",
         "0",
         "0",
         "1",
         "0",
         "1",
         "0",
         "0",
         "0",
         "1",
         "0",
         "0",
         "0",
         "0",
         "0",
         "1",
         "0",
         "0",
         "0",
         "0",
         "0",
         "0",
         "1",
         "0",
         "0",
         "0",
         "1",
         "0",
         "0",
         "0",
         "1",
         "0",
         "0",
         "0",
         "0",
         "1",
         "0",
         "0",
         "0",
         "0",
         "0",
         "0",
         "0",
         "0",
         "0",
         "0",
         "0",
         "0",
         "0",
         "0",
         "0",
         "0",
         "0",
         "0",
         "1",
         "0",
         "0",
         "0",
         "0",
         "0",
         "0",
         "0",
         "1",
         "0",
         "0",
         "0",
         "0",
         "1",
         "1",
         "0",
         "0",
         "0",
         "0",
         "1",
         "0",
         "0",
         "0",
         "0",
         "0",
         "0",
         "0",
         "0",
         "0",
         "1",
         "0",
         "0",
         "0",
         "0",
         "0",
         "0",
         "0",
         "1",
         "0",
         "0",
         "0"
        ]
       ],
       "shape": {
        "columns": 117,
        "rows": 5
       }
      },
      "text/html": [
       "<div>\n",
       "<style scoped>\n",
       "    .dataframe tbody tr th:only-of-type {\n",
       "        vertical-align: middle;\n",
       "    }\n",
       "\n",
       "    .dataframe tbody tr th {\n",
       "        vertical-align: top;\n",
       "    }\n",
       "\n",
       "    .dataframe thead th {\n",
       "        text-align: right;\n",
       "    }\n",
       "</style>\n",
       "<table border=\"1\" class=\"dataframe\">\n",
       "  <thead>\n",
       "    <tr style=\"text-align: right;\">\n",
       "      <th></th>\n",
       "      <th>Study Status</th>\n",
       "      <th>Document_Counts_Bin</th>\n",
       "      <th>Placebo_Bin</th>\n",
       "      <th>Standard_Care_Bin</th>\n",
       "      <th>Healthy_Bin</th>\n",
       "      <th>Covid_19_Bin</th>\n",
       "      <th>Enrollment_Log</th>\n",
       "      <th>Document_Counts_Categ</th>\n",
       "      <th>Adverse_Counts_Log</th>\n",
       "      <th>Completion_Gap_Categ</th>\n",
       "      <th>...</th>\n",
       "      <th>Outcomes_List_OTHER_PRE_SPECIFIED</th>\n",
       "      <th>Outcomes_List_POST_HOC</th>\n",
       "      <th>Outcomes_List_PRIMARY</th>\n",
       "      <th>Outcomes_List_SECONDARY</th>\n",
       "      <th>Continents_List_Asia</th>\n",
       "      <th>Continents_List_Europe</th>\n",
       "      <th>Continents_List_None</th>\n",
       "      <th>Continents_List_North America</th>\n",
       "      <th>Continents_List_Oceania</th>\n",
       "      <th>Continents_List_South America</th>\n",
       "    </tr>\n",
       "  </thead>\n",
       "  <tbody>\n",
       "    <tr>\n",
       "      <th>0</th>\n",
       "      <td>COMPLETED</td>\n",
       "      <td>0</td>\n",
       "      <td>0</td>\n",
       "      <td>0</td>\n",
       "      <td>0</td>\n",
       "      <td>0</td>\n",
       "      <td>3.850148</td>\n",
       "      <td>NaN</td>\n",
       "      <td>0.0</td>\n",
       "      <td>1</td>\n",
       "      <td>...</td>\n",
       "      <td>0</td>\n",
       "      <td>0</td>\n",
       "      <td>0</td>\n",
       "      <td>0</td>\n",
       "      <td>0</td>\n",
       "      <td>1</td>\n",
       "      <td>0</td>\n",
       "      <td>0</td>\n",
       "      <td>0</td>\n",
       "      <td>0</td>\n",
       "    </tr>\n",
       "    <tr>\n",
       "      <th>1</th>\n",
       "      <td>COMPLETED</td>\n",
       "      <td>0</td>\n",
       "      <td>0</td>\n",
       "      <td>0</td>\n",
       "      <td>1</td>\n",
       "      <td>0</td>\n",
       "      <td>5.288267</td>\n",
       "      <td>NaN</td>\n",
       "      <td>0.0</td>\n",
       "      <td>1</td>\n",
       "      <td>...</td>\n",
       "      <td>0</td>\n",
       "      <td>0</td>\n",
       "      <td>0</td>\n",
       "      <td>0</td>\n",
       "      <td>0</td>\n",
       "      <td>0</td>\n",
       "      <td>0</td>\n",
       "      <td>1</td>\n",
       "      <td>0</td>\n",
       "      <td>0</td>\n",
       "    </tr>\n",
       "    <tr>\n",
       "      <th>2</th>\n",
       "      <td>COMPLETED</td>\n",
       "      <td>0</td>\n",
       "      <td>0</td>\n",
       "      <td>0</td>\n",
       "      <td>1</td>\n",
       "      <td>0</td>\n",
       "      <td>2.944439</td>\n",
       "      <td>NaN</td>\n",
       "      <td>0.0</td>\n",
       "      <td>1</td>\n",
       "      <td>...</td>\n",
       "      <td>0</td>\n",
       "      <td>0</td>\n",
       "      <td>0</td>\n",
       "      <td>0</td>\n",
       "      <td>0</td>\n",
       "      <td>1</td>\n",
       "      <td>0</td>\n",
       "      <td>0</td>\n",
       "      <td>0</td>\n",
       "      <td>0</td>\n",
       "    </tr>\n",
       "    <tr>\n",
       "      <th>3</th>\n",
       "      <td>TERMINATED</td>\n",
       "      <td>0</td>\n",
       "      <td>1</td>\n",
       "      <td>0</td>\n",
       "      <td>1</td>\n",
       "      <td>0</td>\n",
       "      <td>1.386294</td>\n",
       "      <td>NaN</td>\n",
       "      <td>0.0</td>\n",
       "      <td>0</td>\n",
       "      <td>...</td>\n",
       "      <td>0</td>\n",
       "      <td>0</td>\n",
       "      <td>1</td>\n",
       "      <td>1</td>\n",
       "      <td>0</td>\n",
       "      <td>0</td>\n",
       "      <td>0</td>\n",
       "      <td>1</td>\n",
       "      <td>0</td>\n",
       "      <td>0</td>\n",
       "    </tr>\n",
       "    <tr>\n",
       "      <th>4</th>\n",
       "      <td>TERMINATED</td>\n",
       "      <td>0</td>\n",
       "      <td>0</td>\n",
       "      <td>0</td>\n",
       "      <td>0</td>\n",
       "      <td>0</td>\n",
       "      <td>0.000000</td>\n",
       "      <td>NaN</td>\n",
       "      <td>0.0</td>\n",
       "      <td>0</td>\n",
       "      <td>...</td>\n",
       "      <td>0</td>\n",
       "      <td>0</td>\n",
       "      <td>0</td>\n",
       "      <td>0</td>\n",
       "      <td>0</td>\n",
       "      <td>0</td>\n",
       "      <td>1</td>\n",
       "      <td>0</td>\n",
       "      <td>0</td>\n",
       "      <td>0</td>\n",
       "    </tr>\n",
       "  </tbody>\n",
       "</table>\n",
       "<p>5 rows × 117 columns</p>\n",
       "</div>"
      ],
      "text/plain": [
       "  Study Status  Document_Counts_Bin  Placebo_Bin  Standard_Care_Bin  \\\n",
       "0    COMPLETED                    0            0                  0   \n",
       "1    COMPLETED                    0            0                  0   \n",
       "2    COMPLETED                    0            0                  0   \n",
       "3   TERMINATED                    0            1                  0   \n",
       "4   TERMINATED                    0            0                  0   \n",
       "\n",
       "   Healthy_Bin  Covid_19_Bin  Enrollment_Log Document_Counts_Categ  \\\n",
       "0            0             0        3.850148                   NaN   \n",
       "1            1             0        5.288267                   NaN   \n",
       "2            1             0        2.944439                   NaN   \n",
       "3            1             0        1.386294                   NaN   \n",
       "4            0             0        0.000000                   NaN   \n",
       "\n",
       "   Adverse_Counts_Log Completion_Gap_Categ  ...  \\\n",
       "0                 0.0                    1  ...   \n",
       "1                 0.0                    1  ...   \n",
       "2                 0.0                    1  ...   \n",
       "3                 0.0                    0  ...   \n",
       "4                 0.0                    0  ...   \n",
       "\n",
       "  Outcomes_List_OTHER_PRE_SPECIFIED Outcomes_List_POST_HOC  \\\n",
       "0                                 0                      0   \n",
       "1                                 0                      0   \n",
       "2                                 0                      0   \n",
       "3                                 0                      0   \n",
       "4                                 0                      0   \n",
       "\n",
       "  Outcomes_List_PRIMARY Outcomes_List_SECONDARY Continents_List_Asia  \\\n",
       "0                     0                       0                    0   \n",
       "1                     0                       0                    0   \n",
       "2                     0                       0                    0   \n",
       "3                     1                       1                    0   \n",
       "4                     0                       0                    0   \n",
       "\n",
       "  Continents_List_Europe Continents_List_None Continents_List_North America  \\\n",
       "0                      1                    0                             0   \n",
       "1                      0                    0                             1   \n",
       "2                      1                    0                             0   \n",
       "3                      0                    0                             1   \n",
       "4                      0                    1                             0   \n",
       "\n",
       "   Continents_List_Oceania  Continents_List_South America  \n",
       "0                        0                              0  \n",
       "1                        0                              0  \n",
       "2                        0                              0  \n",
       "3                        0                              0  \n",
       "4                        0                              0  \n",
       "\n",
       "[5 rows x 117 columns]"
      ]
     },
     "execution_count": 35,
     "metadata": {},
     "output_type": "execute_result"
    }
   ],
   "source": [
    "cols = [\n",
    "       'Document_Counts_Bin', 'Placebo_Bin', 'Standard_Care_Bin',\n",
    "       'Healthy_Bin', 'Covid_19_Bin',\n",
    "       'Document_Counts_Categ',\n",
    "       'Completion_Gap_Categ',\n",
    "       'Intervention_Counts_Categ', 'Comorbidity_Counts_Categ',\n",
    "       'Adverse_System_Counts_Categ', 'City_Counts_Categ',\n",
    "       'Country_Counts_Categ', 'Continent_Counts_Categ', 'Arm_Counts_Categ'\n",
    "       ]\n",
    "\n",
    "df0 = bin_enc(df0, cols)\n",
    "df1 = bin_enc(df1, cols)\n",
    "df2 = bin_enc(df2, cols)\n",
    "df3 = bin_enc(df3, cols)\n",
    "df4 = bin_enc(df4, cols)\n",
    "df5 = bin_enc(df5, cols)\n",
    "\n",
    "df0.head()"
   ]
  },
  {
   "cell_type": "markdown",
   "id": "a91cab2b",
   "metadata": {},
   "source": [
    "## Dummies"
   ]
  },
  {
   "cell_type": "code",
   "execution_count": 33,
   "id": "b3c0e579",
   "metadata": {},
   "outputs": [],
   "source": [
    "def dum_enc(dfi, cols):\n",
    "    for col in cols:\n",
    "        df_exp = dfi.explode(col)\n",
    "        dummies = pd.get_dummies(df_exp[col], drop_first = True, dtype = int, prefix = col , prefix_sep='_')\n",
    "        dummies = dummies.groupby(dummies.index).sum()\n",
    "        dfi = pd.concat([dfi.drop(columns = [col], axis = 1), dummies], axis = 1)  \n",
    "    return dfi\n"
   ]
  },
  {
   "cell_type": "code",
   "execution_count": 34,
   "id": "0c306d24",
   "metadata": {},
   "outputs": [
    {
     "data": {
      "application/vnd.microsoft.datawrangler.viewer.v0+json": {
       "columns": [
        {
         "name": "index",
         "rawType": "int64",
         "type": "integer"
        },
        {
         "name": "Study Status",
         "rawType": "category",
         "type": "unknown"
        },
        {
         "name": "Document_Counts_Bin",
         "rawType": "object",
         "type": "string"
        },
        {
         "name": "Placebo_Bin",
         "rawType": "object",
         "type": "string"
        },
        {
         "name": "Standard_Care_Bin",
         "rawType": "object",
         "type": "string"
        },
        {
         "name": "Healthy_Bin",
         "rawType": "object",
         "type": "string"
        },
        {
         "name": "Covid_19_Bin",
         "rawType": "object",
         "type": "string"
        },
        {
         "name": "Enrollment_Log",
         "rawType": "float64",
         "type": "float"
        },
        {
         "name": "Document_Counts_Categ",
         "rawType": "category",
         "type": "unknown"
        },
        {
         "name": "Adverse_Counts_Log",
         "rawType": "float64",
         "type": "float"
        },
        {
         "name": "Completion_Gap_Categ",
         "rawType": "category",
         "type": "unknown"
        },
        {
         "name": "Intervention_Counts_Categ",
         "rawType": "category",
         "type": "unknown"
        },
        {
         "name": "Comorbidity_Counts_Categ",
         "rawType": "category",
         "type": "unknown"
        },
        {
         "name": "Adverse_System_Counts_Categ",
         "rawType": "category",
         "type": "unknown"
        },
        {
         "name": "City_Counts_Categ",
         "rawType": "category",
         "type": "unknown"
        },
        {
         "name": "Country_Counts_Categ",
         "rawType": "category",
         "type": "unknown"
        },
        {
         "name": "Continent_Counts_Categ",
         "rawType": "category",
         "type": "unknown"
        },
        {
         "name": "Arm_Counts_Categ",
         "rawType": "category",
         "type": "unknown"
        },
        {
         "name": "Outcomes_Counts_Categ",
         "rawType": "category",
         "type": "unknown"
        },
        {
         "name": "Sex_FEMALE",
         "rawType": "int32",
         "type": "integer"
        },
        {
         "name": "Sex_MALE",
         "rawType": "int32",
         "type": "integer"
        },
        {
         "name": "Age_List_CHILD",
         "rawType": "int32",
         "type": "integer"
        },
        {
         "name": "Age_List_OLDER_ADULT",
         "rawType": "int32",
         "type": "integer"
        },
        {
         "name": "Funder_Type_INDIV",
         "rawType": "int32",
         "type": "integer"
        },
        {
         "name": "Funder_Type_INDUSTRY",
         "rawType": "int32",
         "type": "integer"
        },
        {
         "name": "Funder_Type_NIH",
         "rawType": "int32",
         "type": "integer"
        },
        {
         "name": "Funder_Type_OTHER",
         "rawType": "int32",
         "type": "integer"
        },
        {
         "name": "Funder_Type_OTHER_GOV",
         "rawType": "int32",
         "type": "integer"
        },
        {
         "name": "Sponsor_Collab_List_Other",
         "rawType": "int32",
         "type": "integer"
        },
        {
         "name": "Sponsor_Collab_List_Pharmaceutical",
         "rawType": "int32",
         "type": "integer"
        },
        {
         "name": "Sponsor_Collab_List_University",
         "rawType": "int32",
         "type": "integer"
        },
        {
         "name": "Study_Documents_List_Consent Form",
         "rawType": "int32",
         "type": "integer"
        },
        {
         "name": "Study_Documents_List_None",
         "rawType": "int32",
         "type": "integer"
        },
        {
         "name": "Study_Documents_List_Protocol",
         "rawType": "int32",
         "type": "integer"
        },
        {
         "name": "Document_Counts_1",
         "rawType": "int32",
         "type": "integer"
        },
        {
         "name": "Document_Counts_2",
         "rawType": "int32",
         "type": "integer"
        },
        {
         "name": "Document_Counts_3",
         "rawType": "int32",
         "type": "integer"
        },
        {
         "name": "Intervention_Method_List_Oral",
         "rawType": "int32",
         "type": "integer"
        },
        {
         "name": "Intervention_Method_List_Topical",
         "rawType": "int32",
         "type": "integer"
        },
        {
         "name": "Intervention_Method_List_Unknown",
         "rawType": "int32",
         "type": "integer"
        },
        {
         "name": "Intervention_Type_List_BIOLOGICAL",
         "rawType": "int32",
         "type": "integer"
        },
        {
         "name": "Intervention_Type_List_COMBINATION_PRODUCT",
         "rawType": "int32",
         "type": "integer"
        },
        {
         "name": "Intervention_Type_List_DEVICE",
         "rawType": "int32",
         "type": "integer"
        },
        {
         "name": "Intervention_Type_List_DIAGNOSTIC_TEST",
         "rawType": "int32",
         "type": "integer"
        },
        {
         "name": "Intervention_Type_List_DIETARY_SUPPLEMENT",
         "rawType": "int32",
         "type": "integer"
        },
        {
         "name": "Intervention_Type_List_DRUG",
         "rawType": "int32",
         "type": "integer"
        },
        {
         "name": "Intervention_Type_List_GENETIC",
         "rawType": "int32",
         "type": "integer"
        },
        {
         "name": "Intervention_Type_List_OTHER",
         "rawType": "int32",
         "type": "integer"
        },
        {
         "name": "Intervention_Type_List_PROCEDURE",
         "rawType": "int32",
         "type": "integer"
        },
        {
         "name": "Intervention_Type_List_RADIATION",
         "rawType": "int32",
         "type": "integer"
        },
        {
         "name": "Conditions_List_Anthropology, Sociology",
         "rawType": "int32",
         "type": "integer"
        },
        {
         "name": "Conditions_List_Chemicals, Drugs",
         "rawType": "int32",
         "type": "integer"
        },
        {
         "name": "Conditions_List_Diagnostic, Equipment",
         "rawType": "int32",
         "type": "integer"
        },
        {
         "name": "Conditions_List_Diseases",
         "rawType": "int32",
         "type": "integer"
        },
        {
         "name": "Conditions_List_Health Care",
         "rawType": "int32",
         "type": "integer"
        },
        {
         "name": "Conditions_List_None",
         "rawType": "int32",
         "type": "integer"
        },
        {
         "name": "Conditions_List_Phenomena, Processes",
         "rawType": "int32",
         "type": "integer"
        },
        {
         "name": "Conditions_List_Psychiatry, Psychology",
         "rawType": "int32",
         "type": "integer"
        },
        {
         "name": "Adverse_List_None",
         "rawType": "int32",
         "type": "integer"
        },
        {
         "name": "Adverse_List_Other",
         "rawType": "int32",
         "type": "integer"
        },
        {
         "name": "Adverse_List_Serious",
         "rawType": "int32",
         "type": "integer"
        },
        {
         "name": "Adverse_System_List_Cardiac",
         "rawType": "int32",
         "type": "integer"
        },
        {
         "name": "Adverse_System_List_Death",
         "rawType": "int32",
         "type": "integer"
        },
        {
         "name": "Adverse_System_List_Ear",
         "rawType": "int32",
         "type": "integer"
        },
        {
         "name": "Adverse_System_List_Endocrine",
         "rawType": "int32",
         "type": "integer"
        },
        {
         "name": "Adverse_System_List_Eye",
         "rawType": "int32",
         "type": "integer"
        },
        {
         "name": "Adverse_System_List_Gastrointestinal",
         "rawType": "int32",
         "type": "integer"
        },
        {
         "name": "Adverse_System_List_General",
         "rawType": "int32",
         "type": "integer"
        },
        {
         "name": "Adverse_System_List_Hepatobiliary",
         "rawType": "int32",
         "type": "integer"
        },
        {
         "name": "Adverse_System_List_Immune System",
         "rawType": "int32",
         "type": "integer"
        },
        {
         "name": "Adverse_System_List_Infection",
         "rawType": "int32",
         "type": "integer"
        },
        {
         "name": "Adverse_System_List_Injury, Poisoning, Procedural",
         "rawType": "int32",
         "type": "integer"
        },
        {
         "name": "Adverse_System_List_Investigations",
         "rawType": "int32",
         "type": "integer"
        },
        {
         "name": "Adverse_System_List_Metabolism, Nutrition",
         "rawType": "int32",
         "type": "integer"
        },
        {
         "name": "Adverse_System_List_Musculoskeletal",
         "rawType": "int32",
         "type": "integer"
        },
        {
         "name": "Adverse_System_List_Neoplasms",
         "rawType": "int32",
         "type": "integer"
        },
        {
         "name": "Adverse_System_List_Nervous System",
         "rawType": "int32",
         "type": "integer"
        },
        {
         "name": "Adverse_System_List_None",
         "rawType": "int32",
         "type": "integer"
        },
        {
         "name": "Adverse_System_List_Psychiatric",
         "rawType": "int32",
         "type": "integer"
        },
        {
         "name": "Adverse_System_List_Renal, Urinary",
         "rawType": "int32",
         "type": "integer"
        },
        {
         "name": "Adverse_System_List_Reproductive, Breast",
         "rawType": "int32",
         "type": "integer"
        },
        {
         "name": "Adverse_System_List_Respiratory",
         "rawType": "int32",
         "type": "integer"
        },
        {
         "name": "Adverse_System_List_Skin, Subcutaneous",
         "rawType": "int32",
         "type": "integer"
        },
        {
         "name": "Adverse_System_List_Surgical, Medical",
         "rawType": "int32",
         "type": "integer"
        },
        {
         "name": "Adverse_System_List_Vascular",
         "rawType": "int32",
         "type": "integer"
        },
        {
         "name": "Allocation_NOT_APPLICABLE",
         "rawType": "int32",
         "type": "integer"
        },
        {
         "name": "Allocation_RANDOMIZED",
         "rawType": "int32",
         "type": "integer"
        },
        {
         "name": "Intervention_Model_FACTORIAL",
         "rawType": "int32",
         "type": "integer"
        },
        {
         "name": "Intervention_Model_PARALLEL",
         "rawType": "int32",
         "type": "integer"
        },
        {
         "name": "Intervention_Model_SEQUENTIAL",
         "rawType": "int32",
         "type": "integer"
        },
        {
         "name": "Intervention_Model_SINGLE_GROUP",
         "rawType": "int32",
         "type": "integer"
        },
        {
         "name": "Masking_NONE",
         "rawType": "int32",
         "type": "integer"
        },
        {
         "name": "Masking_QUADRUPLE",
         "rawType": "int32",
         "type": "integer"
        },
        {
         "name": "Masking_SINGLE",
         "rawType": "int32",
         "type": "integer"
        },
        {
         "name": "Masking_TRIPLE",
         "rawType": "int32",
         "type": "integer"
        },
        {
         "name": "Masking_Detail_List_INVESTIGATOR",
         "rawType": "int32",
         "type": "integer"
        },
        {
         "name": "Masking_Detail_List_NONE",
         "rawType": "int32",
         "type": "integer"
        },
        {
         "name": "Masking_Detail_List_OUTCOMES_ASSESSOR",
         "rawType": "int32",
         "type": "integer"
        },
        {
         "name": "Masking_Detail_List_PARTICIPANT",
         "rawType": "int32",
         "type": "integer"
        },
        {
         "name": "Primary_Purpose_DEVICE_FEASIBILITY",
         "rawType": "int32",
         "type": "integer"
        },
        {
         "name": "Primary_Purpose_DIAGNOSTIC",
         "rawType": "int32",
         "type": "integer"
        },
        {
         "name": "Primary_Purpose_HEALTH_SERVICES_RESEARCH",
         "rawType": "int32",
         "type": "integer"
        },
        {
         "name": "Primary_Purpose_OTHER",
         "rawType": "int32",
         "type": "integer"
        },
        {
         "name": "Primary_Purpose_PREVENTION",
         "rawType": "int32",
         "type": "integer"
        },
        {
         "name": "Primary_Purpose_SCREENING",
         "rawType": "int32",
         "type": "integer"
        },
        {
         "name": "Primary_Purpose_SUPPORTIVE_CARE",
         "rawType": "int32",
         "type": "integer"
        },
        {
         "name": "Primary_Purpose_TREATMENT",
         "rawType": "int32",
         "type": "integer"
        },
        {
         "name": "Primary_Purpose_UNKNOWN",
         "rawType": "int32",
         "type": "integer"
        },
        {
         "name": "Outcomes_List_OTHER_PRE_SPECIFIED",
         "rawType": "int32",
         "type": "integer"
        },
        {
         "name": "Outcomes_List_POST_HOC",
         "rawType": "int32",
         "type": "integer"
        },
        {
         "name": "Outcomes_List_PRIMARY",
         "rawType": "int32",
         "type": "integer"
        },
        {
         "name": "Outcomes_List_SECONDARY",
         "rawType": "int32",
         "type": "integer"
        },
        {
         "name": "Continents_List_Asia",
         "rawType": "int32",
         "type": "integer"
        },
        {
         "name": "Continents_List_Europe",
         "rawType": "int32",
         "type": "integer"
        },
        {
         "name": "Continents_List_None",
         "rawType": "int32",
         "type": "integer"
        },
        {
         "name": "Continents_List_North America",
         "rawType": "int32",
         "type": "integer"
        },
        {
         "name": "Continents_List_Oceania",
         "rawType": "int32",
         "type": "integer"
        },
        {
         "name": "Continents_List_South America",
         "rawType": "int32",
         "type": "integer"
        }
       ],
       "ref": "e662b66d-cb1f-4432-b9e9-989ca69fda77",
       "rows": [
        [
         "0",
         "COMPLETED",
         "No",
         "No",
         "No",
         "No",
         "No",
         "3.8501476017100584",
         null,
         "0.0",
         "(20.0, 128.0]",
         "(0, 1]",
         "(0.0, 3.0]",
         null,
         "(0, 1]",
         "(0, 1]",
         "(0, 1]",
         "(0.0, 2.0]",
         null,
         "0",
         "0",
         "0",
         "1",
         "0",
         "0",
         "0",
         "1",
         "0",
         "0",
         "0",
         "1",
         "0",
         "1",
         "0",
         "0",
         "0",
         "0",
         "0",
         "0",
         "0",
         "0",
         "0",
         "0",
         "0",
         "0",
         "1",
         "0",
         "0",
         "0",
         "0",
         "0",
         "0",
         "0",
         "1",
         "0",
         "0",
         "0",
         "0",
         "1",
         "0",
         "0",
         "0",
         "0",
         "0",
         "0",
         "0",
         "0",
         "0",
         "0",
         "0",
         "0",
         "0",
         "0",
         "0",
         "0",
         "0",
         "0",
         "1",
         "0",
         "0",
         "0",
         "0",
         "0",
         "0",
         "0",
         "0",
         "0",
         "0",
         "1",
         "0",
         "0",
         "1",
         "0",
         "0",
         "0",
         "0",
         "1",
         "0",
         "0",
         "0",
         "0",
         "0",
         "0",
         "0",
         "0",
         "0",
         "1",
         "0",
         "0",
         "0",
         "0",
         "0",
         "0",
         "1",
         "0",
         "0",
         "0",
         "0"
        ],
        [
         "1",
         "COMPLETED",
         "No",
         "No",
         "No",
         "Yes",
         "No",
         "5.288267030694535",
         null,
         "0.0",
         "(20.0, 128.0]",
         "(1, 4]",
         "(3.0, 10.0]",
         null,
         "(0, 1]",
         "(0, 1]",
         "(0, 1]",
         "(0.0, 2.0]",
         null,
         "0",
         "0",
         "1",
         "1",
         "0",
         "0",
         "0",
         "1",
         "0",
         "0",
         "0",
         "0",
         "0",
         "1",
         "0",
         "0",
         "0",
         "0",
         "0",
         "0",
         "0",
         "0",
         "0",
         "0",
         "0",
         "0",
         "0",
         "0",
         "1",
         "1",
         "0",
         "0",
         "0",
         "0",
         "1",
         "0",
         "0",
         "0",
         "0",
         "1",
         "0",
         "0",
         "0",
         "0",
         "0",
         "0",
         "0",
         "0",
         "0",
         "0",
         "0",
         "0",
         "0",
         "0",
         "0",
         "0",
         "0",
         "0",
         "1",
         "0",
         "0",
         "0",
         "0",
         "0",
         "0",
         "0",
         "1",
         "0",
         "0",
         "0",
         "0",
         "1",
         "1",
         "0",
         "0",
         "0",
         "0",
         "1",
         "0",
         "0",
         "0",
         "0",
         "0",
         "0",
         "0",
         "1",
         "0",
         "0",
         "0",
         "0",
         "0",
         "0",
         "0",
         "0",
         "0",
         "0",
         "1",
         "0",
         "0"
        ],
        [
         "2",
         "COMPLETED",
         "No",
         "No",
         "No",
         "Yes",
         "No",
         "2.9444389791664403",
         null,
         "0.0",
         "(20.0, 128.0]",
         "(0, 1]",
         "(0.0, 3.0]",
         null,
         "(0, 1]",
         "(0, 1]",
         "(0, 1]",
         "(0.0, 2.0]",
         null,
         "0",
         "0",
         "0",
         "1",
         "0",
         "0",
         "0",
         "1",
         "0",
         "0",
         "0",
         "1",
         "0",
         "1",
         "0",
         "0",
         "0",
         "0",
         "0",
         "0",
         "1",
         "0",
         "0",
         "1",
         "0",
         "0",
         "0",
         "0",
         "0",
         "0",
         "0",
         "0",
         "0",
         "0",
         "1",
         "0",
         "0",
         "0",
         "0",
         "1",
         "0",
         "0",
         "0",
         "0",
         "0",
         "0",
         "0",
         "0",
         "0",
         "0",
         "0",
         "0",
         "0",
         "0",
         "0",
         "0",
         "0",
         "0",
         "1",
         "0",
         "0",
         "0",
         "0",
         "0",
         "0",
         "0",
         "0",
         "1",
         "0",
         "1",
         "0",
         "0",
         "1",
         "0",
         "0",
         "0",
         "0",
         "1",
         "0",
         "0",
         "0",
         "0",
         "0",
         "0",
         "0",
         "0",
         "0",
         "1",
         "0",
         "0",
         "0",
         "0",
         "0",
         "0",
         "1",
         "0",
         "0",
         "0",
         "0"
        ],
        [
         "3",
         "TERMINATED",
         "No",
         "Yes",
         "No",
         "Yes",
         "No",
         "1.3862943611198906",
         null,
         "0.0",
         "(0.0, 20.0]",
         "(0, 1]",
         null,
         null,
         "(1, 156]",
         "(0, 1]",
         "(0, 1]",
         "(0.0, 2.0]",
         "(1, 4]",
         "0",
         "0",
         "0",
         "1",
         "0",
         "0",
         "0",
         "1",
         "0",
         "0",
         "0",
         "1",
         "0",
         "1",
         "0",
         "0",
         "0",
         "0",
         "0",
         "0",
         "0",
         "0",
         "0",
         "0",
         "0",
         "0",
         "1",
         "0",
         "0",
         "0",
         "0",
         "0",
         "0",
         "0",
         "0",
         "0",
         "1",
         "0",
         "0",
         "1",
         "0",
         "0",
         "0",
         "0",
         "0",
         "0",
         "0",
         "0",
         "0",
         "0",
         "0",
         "0",
         "0",
         "0",
         "0",
         "0",
         "0",
         "0",
         "1",
         "0",
         "0",
         "0",
         "0",
         "0",
         "0",
         "0",
         "0",
         "1",
         "0",
         "1",
         "0",
         "0",
         "0",
         "1",
         "0",
         "0",
         "1",
         "0",
         "1",
         "1",
         "0",
         "0",
         "0",
         "0",
         "0",
         "0",
         "1",
         "0",
         "0",
         "0",
         "0",
         "1",
         "1",
         "0",
         "0",
         "0",
         "1",
         "0",
         "0"
        ],
        [
         "4",
         "TERMINATED",
         "No",
         "No",
         "No",
         "No",
         "No",
         "0.0",
         null,
         "0.0",
         "(0.0, 20.0]",
         "(1, 4]",
         "(0.0, 3.0]",
         null,
         null,
         null,
         null,
         "(0.0, 2.0]",
         null,
         "0",
         "0",
         "0",
         "1",
         "0",
         "0",
         "0",
         "1",
         "0",
         "1",
         "0",
         "0",
         "0",
         "1",
         "0",
         "0",
         "0",
         "0",
         "0",
         "1",
         "0",
         "0",
         "0",
         "0",
         "0",
         "0",
         "1",
         "0",
         "0",
         "0",
         "1",
         "0",
         "0",
         "0",
         "1",
         "0",
         "0",
         "0",
         "0",
         "1",
         "0",
         "0",
         "0",
         "0",
         "0",
         "0",
         "0",
         "0",
         "0",
         "0",
         "0",
         "0",
         "0",
         "0",
         "0",
         "0",
         "0",
         "0",
         "1",
         "0",
         "0",
         "0",
         "0",
         "0",
         "0",
         "0",
         "1",
         "0",
         "0",
         "0",
         "0",
         "1",
         "1",
         "0",
         "0",
         "0",
         "0",
         "1",
         "0",
         "0",
         "0",
         "0",
         "0",
         "0",
         "0",
         "0",
         "0",
         "1",
         "0",
         "0",
         "0",
         "0",
         "0",
         "0",
         "0",
         "1",
         "0",
         "0",
         "0"
        ]
       ],
       "shape": {
        "columns": 117,
        "rows": 5
       }
      },
      "text/html": [
       "<div>\n",
       "<style scoped>\n",
       "    .dataframe tbody tr th:only-of-type {\n",
       "        vertical-align: middle;\n",
       "    }\n",
       "\n",
       "    .dataframe tbody tr th {\n",
       "        vertical-align: top;\n",
       "    }\n",
       "\n",
       "    .dataframe thead th {\n",
       "        text-align: right;\n",
       "    }\n",
       "</style>\n",
       "<table border=\"1\" class=\"dataframe\">\n",
       "  <thead>\n",
       "    <tr style=\"text-align: right;\">\n",
       "      <th></th>\n",
       "      <th>Study Status</th>\n",
       "      <th>Document_Counts_Bin</th>\n",
       "      <th>Placebo_Bin</th>\n",
       "      <th>Standard_Care_Bin</th>\n",
       "      <th>Healthy_Bin</th>\n",
       "      <th>Covid_19_Bin</th>\n",
       "      <th>Enrollment_Log</th>\n",
       "      <th>Document_Counts_Categ</th>\n",
       "      <th>Adverse_Counts_Log</th>\n",
       "      <th>Completion_Gap_Categ</th>\n",
       "      <th>...</th>\n",
       "      <th>Outcomes_List_OTHER_PRE_SPECIFIED</th>\n",
       "      <th>Outcomes_List_POST_HOC</th>\n",
       "      <th>Outcomes_List_PRIMARY</th>\n",
       "      <th>Outcomes_List_SECONDARY</th>\n",
       "      <th>Continents_List_Asia</th>\n",
       "      <th>Continents_List_Europe</th>\n",
       "      <th>Continents_List_None</th>\n",
       "      <th>Continents_List_North America</th>\n",
       "      <th>Continents_List_Oceania</th>\n",
       "      <th>Continents_List_South America</th>\n",
       "    </tr>\n",
       "  </thead>\n",
       "  <tbody>\n",
       "    <tr>\n",
       "      <th>0</th>\n",
       "      <td>COMPLETED</td>\n",
       "      <td>No</td>\n",
       "      <td>No</td>\n",
       "      <td>No</td>\n",
       "      <td>No</td>\n",
       "      <td>No</td>\n",
       "      <td>3.850148</td>\n",
       "      <td>NaN</td>\n",
       "      <td>0.0</td>\n",
       "      <td>(20.0, 128.0]</td>\n",
       "      <td>...</td>\n",
       "      <td>0</td>\n",
       "      <td>0</td>\n",
       "      <td>0</td>\n",
       "      <td>0</td>\n",
       "      <td>0</td>\n",
       "      <td>1</td>\n",
       "      <td>0</td>\n",
       "      <td>0</td>\n",
       "      <td>0</td>\n",
       "      <td>0</td>\n",
       "    </tr>\n",
       "    <tr>\n",
       "      <th>1</th>\n",
       "      <td>COMPLETED</td>\n",
       "      <td>No</td>\n",
       "      <td>No</td>\n",
       "      <td>No</td>\n",
       "      <td>Yes</td>\n",
       "      <td>No</td>\n",
       "      <td>5.288267</td>\n",
       "      <td>NaN</td>\n",
       "      <td>0.0</td>\n",
       "      <td>(20.0, 128.0]</td>\n",
       "      <td>...</td>\n",
       "      <td>0</td>\n",
       "      <td>0</td>\n",
       "      <td>0</td>\n",
       "      <td>0</td>\n",
       "      <td>0</td>\n",
       "      <td>0</td>\n",
       "      <td>0</td>\n",
       "      <td>1</td>\n",
       "      <td>0</td>\n",
       "      <td>0</td>\n",
       "    </tr>\n",
       "    <tr>\n",
       "      <th>2</th>\n",
       "      <td>COMPLETED</td>\n",
       "      <td>No</td>\n",
       "      <td>No</td>\n",
       "      <td>No</td>\n",
       "      <td>Yes</td>\n",
       "      <td>No</td>\n",
       "      <td>2.944439</td>\n",
       "      <td>NaN</td>\n",
       "      <td>0.0</td>\n",
       "      <td>(20.0, 128.0]</td>\n",
       "      <td>...</td>\n",
       "      <td>0</td>\n",
       "      <td>0</td>\n",
       "      <td>0</td>\n",
       "      <td>0</td>\n",
       "      <td>0</td>\n",
       "      <td>1</td>\n",
       "      <td>0</td>\n",
       "      <td>0</td>\n",
       "      <td>0</td>\n",
       "      <td>0</td>\n",
       "    </tr>\n",
       "    <tr>\n",
       "      <th>3</th>\n",
       "      <td>TERMINATED</td>\n",
       "      <td>No</td>\n",
       "      <td>Yes</td>\n",
       "      <td>No</td>\n",
       "      <td>Yes</td>\n",
       "      <td>No</td>\n",
       "      <td>1.386294</td>\n",
       "      <td>NaN</td>\n",
       "      <td>0.0</td>\n",
       "      <td>(0.0, 20.0]</td>\n",
       "      <td>...</td>\n",
       "      <td>0</td>\n",
       "      <td>0</td>\n",
       "      <td>1</td>\n",
       "      <td>1</td>\n",
       "      <td>0</td>\n",
       "      <td>0</td>\n",
       "      <td>0</td>\n",
       "      <td>1</td>\n",
       "      <td>0</td>\n",
       "      <td>0</td>\n",
       "    </tr>\n",
       "    <tr>\n",
       "      <th>4</th>\n",
       "      <td>TERMINATED</td>\n",
       "      <td>No</td>\n",
       "      <td>No</td>\n",
       "      <td>No</td>\n",
       "      <td>No</td>\n",
       "      <td>No</td>\n",
       "      <td>0.000000</td>\n",
       "      <td>NaN</td>\n",
       "      <td>0.0</td>\n",
       "      <td>(0.0, 20.0]</td>\n",
       "      <td>...</td>\n",
       "      <td>0</td>\n",
       "      <td>0</td>\n",
       "      <td>0</td>\n",
       "      <td>0</td>\n",
       "      <td>0</td>\n",
       "      <td>0</td>\n",
       "      <td>1</td>\n",
       "      <td>0</td>\n",
       "      <td>0</td>\n",
       "      <td>0</td>\n",
       "    </tr>\n",
       "  </tbody>\n",
       "</table>\n",
       "<p>5 rows × 117 columns</p>\n",
       "</div>"
      ],
      "text/plain": [
       "  Study Status Document_Counts_Bin Placebo_Bin Standard_Care_Bin Healthy_Bin  \\\n",
       "0    COMPLETED                  No          No                No          No   \n",
       "1    COMPLETED                  No          No                No         Yes   \n",
       "2    COMPLETED                  No          No                No         Yes   \n",
       "3   TERMINATED                  No         Yes                No         Yes   \n",
       "4   TERMINATED                  No          No                No          No   \n",
       "\n",
       "  Covid_19_Bin  Enrollment_Log Document_Counts_Categ  Adverse_Counts_Log  \\\n",
       "0           No        3.850148                   NaN                 0.0   \n",
       "1           No        5.288267                   NaN                 0.0   \n",
       "2           No        2.944439                   NaN                 0.0   \n",
       "3           No        1.386294                   NaN                 0.0   \n",
       "4           No        0.000000                   NaN                 0.0   \n",
       "\n",
       "  Completion_Gap_Categ  ... Outcomes_List_OTHER_PRE_SPECIFIED  \\\n",
       "0        (20.0, 128.0]  ...                                 0   \n",
       "1        (20.0, 128.0]  ...                                 0   \n",
       "2        (20.0, 128.0]  ...                                 0   \n",
       "3          (0.0, 20.0]  ...                                 0   \n",
       "4          (0.0, 20.0]  ...                                 0   \n",
       "\n",
       "  Outcomes_List_POST_HOC Outcomes_List_PRIMARY Outcomes_List_SECONDARY  \\\n",
       "0                      0                     0                       0   \n",
       "1                      0                     0                       0   \n",
       "2                      0                     0                       0   \n",
       "3                      0                     1                       1   \n",
       "4                      0                     0                       0   \n",
       "\n",
       "  Continents_List_Asia Continents_List_Europe Continents_List_None  \\\n",
       "0                    0                      1                    0   \n",
       "1                    0                      0                    0   \n",
       "2                    0                      1                    0   \n",
       "3                    0                      0                    0   \n",
       "4                    0                      0                    1   \n",
       "\n",
       "  Continents_List_North America  Continents_List_Oceania  \\\n",
       "0                             0                        0   \n",
       "1                             1                        0   \n",
       "2                             0                        0   \n",
       "3                             1                        0   \n",
       "4                             0                        0   \n",
       "\n",
       "   Continents_List_South America  \n",
       "0                              0  \n",
       "1                              0  \n",
       "2                              0  \n",
       "3                              0  \n",
       "4                              0  \n",
       "\n",
       "[5 rows x 117 columns]"
      ]
     },
     "execution_count": 34,
     "metadata": {},
     "output_type": "execute_result"
    }
   ],
   "source": [
    "cols = ['Sex', 'Age_List', 'Funder_Type', 'Sponsor_Collab_List',\n",
    "       'Study_Documents_List', 'Document_Counts', \n",
    "       'Intervention_Method_List', 'Intervention_Type_List', \n",
    "       'Conditions_List',\n",
    "       'Adverse_List', 'Adverse_System_List', 'Allocation',\n",
    "       'Intervention_Model', 'Masking', 'Masking_Detail_List',\n",
    "       'Primary_Purpose', 'Outcomes_List', 'Continents_List',\n",
    "       ]\n",
    "\n",
    "df0 = dum_enc(df0, cols)\n",
    "df1 = dum_enc(df1, cols)\n",
    "df2 = dum_enc(df2, cols)\n",
    "df3 = dum_enc(df3, cols)\n",
    "df4 = dum_enc(df4, cols)\n",
    "df5 = dum_enc(df5, cols)\n",
    "\n",
    "df0.head()\n"
   ]
  },
  {
   "cell_type": "markdown",
   "id": "b30b7163",
   "metadata": {},
   "source": [
    "## Multi Label Binazer"
   ]
  },
  {
   "cell_type": "code",
   "execution_count": null,
   "id": "d27d50b4",
   "metadata": {},
   "outputs": [],
   "source": [
    "def mlb_enc(dfis, cols):\n",
    "    for dfi, col in zip(dfis, cols):\n",
    "        mlb = MultiLabelBinarizer()\n",
    "        dummies = pd.DataFrame(mlb.fit_transform(df[col]), columns = mlb.classes_, index = dfi.index)\n",
    "        dfi = pd.concat([dfi.drop(columns = [col], axis = 1), dummies], axis=1)\n",
    "    return dfi\n"
   ]
  },
  {
   "cell_type": "markdown",
   "id": "9f1e3cd8",
   "metadata": {},
   "source": [
    "## Ordinal"
   ]
  },
  {
   "cell_type": "code",
   "execution_count": 51,
   "id": "d41bec95",
   "metadata": {},
   "outputs": [],
   "source": [
    "def ord_encod(dfis, cols):\n",
    "    for dfi, col in zip(dfis, cols):\n",
    "        categories_list = [[x for x in sorted(dfi[col].dropna().unique())]]\n",
    "        encoder = OrdinalEncoder(categories = categories_list, dtype = int)\n",
    "        dfi[col] = encoder.fit_transform(dfi[[col]])\n",
    "    return dfi\n"
   ]
  },
  {
   "cell_type": "code",
   "execution_count": 37,
   "id": "eb511eed",
   "metadata": {},
   "outputs": [
    {
     "data": {
      "application/vnd.microsoft.datawrangler.viewer.v0+json": {
       "columns": [
        {
         "name": "index",
         "rawType": "object",
         "type": "string"
        },
        {
         "name": "0",
         "rawType": "int64",
         "type": "integer"
        }
       ],
       "ref": "948f99f4-6b34-4e80-bc23-b2111cab9e06",
       "rows": [
        [
         "Study Status",
         "0"
        ],
        [
         "Document_Counts_Bin",
         "0"
        ],
        [
         "Placebo_Bin",
         "0"
        ],
        [
         "Standard_Care_Bin",
         "0"
        ],
        [
         "Healthy_Bin",
         "0"
        ],
        [
         "Covid_19_Bin",
         "0"
        ],
        [
         "Enrollment_Log",
         "0"
        ],
        [
         "Document_Counts_Categ",
         "865"
        ],
        [
         "Adverse_Counts_Log",
         "0"
        ],
        [
         "Completion_Gap_Categ",
         "50"
        ],
        [
         "Intervention_Counts_Categ",
         "0"
        ],
        [
         "Comorbidity_Counts_Categ",
         "166"
        ],
        [
         "Adverse_System_Counts_Categ",
         "917"
        ],
        [
         "City_Counts_Categ",
         "95"
        ],
        [
         "Country_Counts_Categ",
         "95"
        ],
        [
         "Continent_Counts_Categ",
         "98"
        ],
        [
         "Arm_Counts_Categ",
         "12"
        ],
        [
         "Outcomes_Counts_Categ",
         "877"
        ],
        [
         "Sex_FEMALE",
         "0"
        ],
        [
         "Sex_MALE",
         "0"
        ],
        [
         "Age_List_CHILD",
         "0"
        ],
        [
         "Age_List_OLDER_ADULT",
         "0"
        ],
        [
         "Funder_Type_INDIV",
         "0"
        ],
        [
         "Funder_Type_INDUSTRY",
         "0"
        ],
        [
         "Funder_Type_NIH",
         "0"
        ],
        [
         "Funder_Type_OTHER",
         "0"
        ],
        [
         "Funder_Type_OTHER_GOV",
         "0"
        ],
        [
         "Sponsor_Collab_List_Other",
         "0"
        ],
        [
         "Sponsor_Collab_List_Pharmaceutical",
         "0"
        ],
        [
         "Sponsor_Collab_List_University",
         "0"
        ],
        [
         "Study_Documents_List_Consent Form",
         "0"
        ],
        [
         "Study_Documents_List_None",
         "0"
        ],
        [
         "Study_Documents_List_Protocol",
         "0"
        ],
        [
         "Document_Counts_1",
         "0"
        ],
        [
         "Document_Counts_2",
         "0"
        ],
        [
         "Document_Counts_3",
         "0"
        ],
        [
         "Intervention_Method_List_Oral",
         "0"
        ],
        [
         "Intervention_Method_List_Topical",
         "0"
        ],
        [
         "Intervention_Method_List_Unknown",
         "0"
        ],
        [
         "Intervention_Type_List_BIOLOGICAL",
         "0"
        ],
        [
         "Intervention_Type_List_COMBINATION_PRODUCT",
         "0"
        ],
        [
         "Intervention_Type_List_DEVICE",
         "0"
        ],
        [
         "Intervention_Type_List_DIAGNOSTIC_TEST",
         "0"
        ],
        [
         "Intervention_Type_List_DIETARY_SUPPLEMENT",
         "0"
        ],
        [
         "Intervention_Type_List_DRUG",
         "0"
        ],
        [
         "Intervention_Type_List_GENETIC",
         "0"
        ],
        [
         "Intervention_Type_List_OTHER",
         "0"
        ],
        [
         "Intervention_Type_List_PROCEDURE",
         "0"
        ],
        [
         "Intervention_Type_List_RADIATION",
         "0"
        ],
        [
         "Conditions_List_Anthropology, Sociology",
         "0"
        ]
       ],
       "shape": {
        "columns": 1,
        "rows": 117
       }
      },
      "text/plain": [
       "Study Status                     0\n",
       "Document_Counts_Bin              0\n",
       "Placebo_Bin                      0\n",
       "Standard_Care_Bin                0\n",
       "Healthy_Bin                      0\n",
       "                                ..\n",
       "Continents_List_Europe           0\n",
       "Continents_List_None             0\n",
       "Continents_List_North America    0\n",
       "Continents_List_Oceania          0\n",
       "Continents_List_South America    0\n",
       "Length: 117, dtype: int64"
      ]
     },
     "execution_count": 37,
     "metadata": {},
     "output_type": "execute_result"
    }
   ],
   "source": [
    "df0.isnull().sum()"
   ]
  }
 ],
 "metadata": {
  "kernelspec": {
   "display_name": "Python 3",
   "language": "python",
   "name": "python3"
  },
  "language_info": {
   "codemirror_mode": {
    "name": "ipython",
    "version": 3
   },
   "file_extension": ".py",
   "mimetype": "text/x-python",
   "name": "python",
   "nbconvert_exporter": "python",
   "pygments_lexer": "ipython3",
   "version": "3.12.10"
  }
 },
 "nbformat": 4,
 "nbformat_minor": 5
}
