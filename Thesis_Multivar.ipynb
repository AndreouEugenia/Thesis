{
 "cells": [
  {
   "cell_type": "markdown",
   "id": "2ea07166",
   "metadata": {},
   "source": [
    "# Libraries"
   ]
  },
  {
   "cell_type": "code",
   "execution_count": 21,
   "id": "c8660526",
   "metadata": {},
   "outputs": [],
   "source": [
    "import pandas as pd\n",
    "from pandas.api.types import CategoricalDtype\n",
    "import pickle\n",
    "# Stat Libs\n",
    "import statsmodels.api as sm\n",
    "from sklearn.feature_selection import mutual_info_classif\n",
    "from statsmodels.stats.outliers_influence import variance_inflation_factor\n",
    "from sklearn.feature_selection import SelectKBest\n",
    "\n",
    "# Plotting Libs\n",
    "import seaborn as sns\n",
    "\n",
    "# Statistical libs\n",
    "from sklearn.preprocessing import MultiLabelBinarizer\n",
    "from sklearn.preprocessing import OrdinalEncoder"
   ]
  },
  {
   "cell_type": "markdown",
   "id": "f23a396c",
   "metadata": {},
   "source": [
    "# Load Data"
   ]
  },
  {
   "cell_type": "code",
   "execution_count": 22,
   "id": "e870fafd",
   "metadata": {},
   "outputs": [],
   "source": [
    "df = pd.read_pickle(r\".\\df_dummies\\df_dummies.pkl\")\n",
    "df0 = pd.read_pickle(r\".\\df_dummies\\df0_dummies.pkl\")\n",
    "df1 = pd.read_pickle(r\".\\df_dummies\\df1_dummies.pkl\")\n",
    "df2 = pd.read_pickle(r\".\\df_dummies\\df2_dummies.pkl\")\n",
    "df3 = pd.read_pickle(r\".\\df_dummies\\df3_dummies.pkl\")\n",
    "df4 = pd.read_pickle(r\".\\df_dummies\\df4_dummies.pkl\")\n",
    "df5 = pd.read_pickle(r\".\\df_dummies\\df5_dummies.pkl\")\n"
   ]
  },
  {
   "cell_type": "code",
   "execution_count": 23,
   "id": "cf0632c4",
   "metadata": {},
   "outputs": [],
   "source": [
    "i = 0\n",
    "dfi = df0\n"
   ]
  },
  {
   "cell_type": "markdown",
   "id": "e4e8f002",
   "metadata": {},
   "source": [
    "# Input Df"
   ]
  },
  {
   "cell_type": "code",
   "execution_count": 24,
   "id": "85989dc5",
   "metadata": {},
   "outputs": [],
   "source": [
    "dfis = [df0, df1, df2, df3, df4, df5, df]\n",
    "iss = [0, 1, 2, 3, 4, 5, '']"
   ]
  },
  {
   "cell_type": "code",
   "execution_count": 25,
   "id": "ec2fb794",
   "metadata": {},
   "outputs": [],
   "source": [
    "if i == '':        \n",
    "    AIC_Total = pd.read_pickle(r\".\\aics\\aic_vizual.pkl\")\n",
    "elif i == 0:    \n",
    "    AIC_Total = pd.read_pickle(r\".\\aics\\aic0_vizual.pkl\")\n",
    "elif i == 1:    \n",
    "    AIC_Total = pd.read_pickle(r\".\\aics\\aic1_vizual.pkl\")\n",
    "elif i == 2:    \n",
    "    AIC_Total = pd.read_pickle(r\".\\aics\\aic2_vizual.pkl\")\n",
    "elif i == 3:    \n",
    "    AIC_Total = pd.read_pickle(r\".\\aics\\aic3_vizual.pkl\")\n",
    "elif i == 4:    \n",
    "    AIC_Total = pd.read_pickle(r\".\\aics\\aic4_vizual.pkl\")\n",
    "elif i == 5:    \n",
    "    AIC_Total = pd.read_pickle(r\".\\aics\\aic5_vizual.pkl\")\n"
   ]
  },
  {
   "cell_type": "code",
   "execution_count": null,
   "id": "5fa39950",
   "metadata": {},
   "outputs": [
    {
     "data": {
      "text/plain": [
       "[                Conditions_List Conditions_Spec_List               AIC_min\n",
       " df0                                                                       \n",
       " Conditions_List        [2399.0]             [2338.0]  Conditions_Spec_List,\n",
       "              Adverse_List Adverse_System_List       AIC_min\n",
       " df0                                                        \n",
       " Adverse_List     [2419.0]            [2444.0]  Adverse_List,\n",
       "             Masking_Dum Masking_Detail_List      AIC_min\n",
       " df0                                                     \n",
       " Masking_Dum    [2361.0]            [2369.0]  Masking_Dum,\n",
       "             City_Counts Country_Counts Continent_Counts         AIC_min\n",
       " df0                                                                    \n",
       " City_Counts    [2417.0]       [2414.0]         [2415.0]  Country_Counts,\n",
       "                       Start_Date_Year_Categ Completion_Date_Year_Categ  \\\n",
       " df0                                                                      \n",
       " Start_Date_Year_Categ              [2409.0]                   [2411.0]   \n",
       " \n",
       "                                      AIC_min  \n",
       " df0                                           \n",
       " Start_Date_Year_Categ  Start_Date_Year_Categ  ]"
      ]
     },
     "execution_count": 26,
     "metadata": {},
     "output_type": "execute_result"
    }
   ],
   "source": [
    "if i == '':        \n",
    "    path = r\".\\aics\\aic_all_vizual.pkl\"\n",
    "elif i == 0:    \n",
    "    path = r\".\\aics\\aic0_all_vizual.pkl\"\n",
    "elif i == 1:    \n",
    "    path = r\".\\aics\\aic1_all_vizual.pkl\"\n",
    "elif i == 2:    \n",
    "    path = r\".\\aics\\aic2_all_vizual.pkl\"\n",
    "elif i == 3:    \n",
    "    path = r\".\\aics\\aic3_all_vizual.pkl\"\n",
    "elif i == 4:    \n",
    "    path = r\".\\aics\\aic4_all_vizual.pkl\"\n",
    "elif i == 5: \n",
    "    path = r\".\\aics\\aic5_all_vizual.pkl\"\n",
    "\n",
    "with open(path, 'rb') as f:\n",
    "    aic_all = pickle.load(f)   \n",
    "\n"
   ]
  },
  {
   "cell_type": "code",
   "execution_count": 27,
   "id": "ced094de",
   "metadata": {},
   "outputs": [],
   "source": [
    "if i == '':        \n",
    "    p_values = pd.read_pickle(r\".\\p_values\\p_cl_vizual.pkl\")\n",
    "elif i == 0:    \n",
    "    p_values = pd.read_pickle(r\".\\p_values\\p_cl0_vizual.pkl\")\n",
    "elif i == 1:    \n",
    "    p_values = pd.read_pickle(r\".\\p_values\\p_cl1_vizual.pkl\")\n",
    "elif i == 2:    \n",
    "    p_values = pd.read_pickle(r\".\\p_values\\p_cl2_vizual.pkl\")\n",
    "elif i == 3:    \n",
    "    p_values = pd.read_pickle(r\".\\p_values\\p_cl3_vizual.pkl\")\n",
    "elif i == 4:    \n",
    "    p_values = pd.read_pickle(r\".\\p_values\\p_cl4_vizual.pkl\")\n",
    "elif i == 5:    \n",
    "    p_values = pd.read_pickle(r\".\\p_values\\p_cl5_vizual.pkl\")\n"
   ]
  },
  {
   "cell_type": "code",
   "execution_count": 35,
   "id": "70bf4039",
   "metadata": {},
   "outputs": [
    {
     "data": {
      "application/vnd.microsoft.datawrangler.viewer.v0+json": {
       "columns": [
        {
         "name": "df0",
         "rawType": "object",
         "type": "string"
        },
        {
         "name": "Conditions_List",
         "rawType": "object",
         "type": "unknown"
        },
        {
         "name": "Conditions_Spec_List",
         "rawType": "object",
         "type": "unknown"
        },
        {
         "name": "AIC_min",
         "rawType": "object",
         "type": "string"
        }
       ],
       "ref": "d3dca3a9-8fce-4a39-ac32-8e0007fc8369",
       "rows": [
        [
         "Conditions_List",
         "[2399.0]",
         "[2338.0]",
         "Conditions_Spec_List"
        ]
       ],
       "shape": {
        "columns": 3,
        "rows": 1
       }
      },
      "text/html": [
       "<div>\n",
       "<style scoped>\n",
       "    .dataframe tbody tr th:only-of-type {\n",
       "        vertical-align: middle;\n",
       "    }\n",
       "\n",
       "    .dataframe tbody tr th {\n",
       "        vertical-align: top;\n",
       "    }\n",
       "\n",
       "    .dataframe thead th {\n",
       "        text-align: right;\n",
       "    }\n",
       "</style>\n",
       "<table border=\"1\" class=\"dataframe\">\n",
       "  <thead>\n",
       "    <tr style=\"text-align: right;\">\n",
       "      <th></th>\n",
       "      <th>Conditions_List</th>\n",
       "      <th>Conditions_Spec_List</th>\n",
       "      <th>AIC_min</th>\n",
       "    </tr>\n",
       "    <tr>\n",
       "      <th>df0</th>\n",
       "      <th></th>\n",
       "      <th></th>\n",
       "      <th></th>\n",
       "    </tr>\n",
       "  </thead>\n",
       "  <tbody>\n",
       "    <tr>\n",
       "      <th>Conditions_List</th>\n",
       "      <td>[2399.0]</td>\n",
       "      <td>[2338.0]</td>\n",
       "      <td>Conditions_Spec_List</td>\n",
       "    </tr>\n",
       "  </tbody>\n",
       "</table>\n",
       "</div>"
      ],
      "text/plain": [
       "                Conditions_List Conditions_Spec_List               AIC_min\n",
       "df0                                                                       \n",
       "Conditions_List        [2399.0]             [2338.0]  Conditions_Spec_List"
      ]
     },
     "metadata": {},
     "output_type": "display_data"
    },
    {
     "data": {
      "application/vnd.microsoft.datawrangler.viewer.v0+json": {
       "columns": [
        {
         "name": "df0",
         "rawType": "object",
         "type": "string"
        },
        {
         "name": "Adverse_List",
         "rawType": "object",
         "type": "unknown"
        },
        {
         "name": "Adverse_System_List",
         "rawType": "object",
         "type": "unknown"
        },
        {
         "name": "AIC_min",
         "rawType": "object",
         "type": "string"
        }
       ],
       "ref": "34e947ae-7fcb-434c-ae96-90466e9e6933",
       "rows": [
        [
         "Adverse_List",
         "[2419.0]",
         "[2444.0]",
         "Adverse_List"
        ]
       ],
       "shape": {
        "columns": 3,
        "rows": 1
       }
      },
      "text/html": [
       "<div>\n",
       "<style scoped>\n",
       "    .dataframe tbody tr th:only-of-type {\n",
       "        vertical-align: middle;\n",
       "    }\n",
       "\n",
       "    .dataframe tbody tr th {\n",
       "        vertical-align: top;\n",
       "    }\n",
       "\n",
       "    .dataframe thead th {\n",
       "        text-align: right;\n",
       "    }\n",
       "</style>\n",
       "<table border=\"1\" class=\"dataframe\">\n",
       "  <thead>\n",
       "    <tr style=\"text-align: right;\">\n",
       "      <th></th>\n",
       "      <th>Adverse_List</th>\n",
       "      <th>Adverse_System_List</th>\n",
       "      <th>AIC_min</th>\n",
       "    </tr>\n",
       "    <tr>\n",
       "      <th>df0</th>\n",
       "      <th></th>\n",
       "      <th></th>\n",
       "      <th></th>\n",
       "    </tr>\n",
       "  </thead>\n",
       "  <tbody>\n",
       "    <tr>\n",
       "      <th>Adverse_List</th>\n",
       "      <td>[2419.0]</td>\n",
       "      <td>[2444.0]</td>\n",
       "      <td>Adverse_List</td>\n",
       "    </tr>\n",
       "  </tbody>\n",
       "</table>\n",
       "</div>"
      ],
      "text/plain": [
       "             Adverse_List Adverse_System_List       AIC_min\n",
       "df0                                                        \n",
       "Adverse_List     [2419.0]            [2444.0]  Adverse_List"
      ]
     },
     "metadata": {},
     "output_type": "display_data"
    },
    {
     "data": {
      "application/vnd.microsoft.datawrangler.viewer.v0+json": {
       "columns": [
        {
         "name": "df0",
         "rawType": "object",
         "type": "string"
        },
        {
         "name": "Masking_Dum",
         "rawType": "object",
         "type": "unknown"
        },
        {
         "name": "Masking_Detail_List",
         "rawType": "object",
         "type": "unknown"
        },
        {
         "name": "AIC_min",
         "rawType": "object",
         "type": "string"
        }
       ],
       "ref": "5d560a8a-3568-45a5-891e-aabd1f030474",
       "rows": [
        [
         "Masking_Dum",
         "[2361.0]",
         "[2369.0]",
         "Masking_Dum"
        ]
       ],
       "shape": {
        "columns": 3,
        "rows": 1
       }
      },
      "text/html": [
       "<div>\n",
       "<style scoped>\n",
       "    .dataframe tbody tr th:only-of-type {\n",
       "        vertical-align: middle;\n",
       "    }\n",
       "\n",
       "    .dataframe tbody tr th {\n",
       "        vertical-align: top;\n",
       "    }\n",
       "\n",
       "    .dataframe thead th {\n",
       "        text-align: right;\n",
       "    }\n",
       "</style>\n",
       "<table border=\"1\" class=\"dataframe\">\n",
       "  <thead>\n",
       "    <tr style=\"text-align: right;\">\n",
       "      <th></th>\n",
       "      <th>Masking_Dum</th>\n",
       "      <th>Masking_Detail_List</th>\n",
       "      <th>AIC_min</th>\n",
       "    </tr>\n",
       "    <tr>\n",
       "      <th>df0</th>\n",
       "      <th></th>\n",
       "      <th></th>\n",
       "      <th></th>\n",
       "    </tr>\n",
       "  </thead>\n",
       "  <tbody>\n",
       "    <tr>\n",
       "      <th>Masking_Dum</th>\n",
       "      <td>[2361.0]</td>\n",
       "      <td>[2369.0]</td>\n",
       "      <td>Masking_Dum</td>\n",
       "    </tr>\n",
       "  </tbody>\n",
       "</table>\n",
       "</div>"
      ],
      "text/plain": [
       "            Masking_Dum Masking_Detail_List      AIC_min\n",
       "df0                                                     \n",
       "Masking_Dum    [2361.0]            [2369.0]  Masking_Dum"
      ]
     },
     "metadata": {},
     "output_type": "display_data"
    },
    {
     "data": {
      "application/vnd.microsoft.datawrangler.viewer.v0+json": {
       "columns": [
        {
         "name": "df0",
         "rawType": "object",
         "type": "string"
        },
        {
         "name": "City_Counts",
         "rawType": "object",
         "type": "unknown"
        },
        {
         "name": "Country_Counts",
         "rawType": "object",
         "type": "unknown"
        },
        {
         "name": "Continent_Counts",
         "rawType": "object",
         "type": "unknown"
        },
        {
         "name": "AIC_min",
         "rawType": "object",
         "type": "string"
        }
       ],
       "ref": "752bb79c-4d5c-4605-9b18-de98b60594f3",
       "rows": [
        [
         "City_Counts",
         "[2417.0]",
         "[2414.0]",
         "[2415.0]",
         "Country_Counts"
        ]
       ],
       "shape": {
        "columns": 4,
        "rows": 1
       }
      },
      "text/html": [
       "<div>\n",
       "<style scoped>\n",
       "    .dataframe tbody tr th:only-of-type {\n",
       "        vertical-align: middle;\n",
       "    }\n",
       "\n",
       "    .dataframe tbody tr th {\n",
       "        vertical-align: top;\n",
       "    }\n",
       "\n",
       "    .dataframe thead th {\n",
       "        text-align: right;\n",
       "    }\n",
       "</style>\n",
       "<table border=\"1\" class=\"dataframe\">\n",
       "  <thead>\n",
       "    <tr style=\"text-align: right;\">\n",
       "      <th></th>\n",
       "      <th>City_Counts</th>\n",
       "      <th>Country_Counts</th>\n",
       "      <th>Continent_Counts</th>\n",
       "      <th>AIC_min</th>\n",
       "    </tr>\n",
       "    <tr>\n",
       "      <th>df0</th>\n",
       "      <th></th>\n",
       "      <th></th>\n",
       "      <th></th>\n",
       "      <th></th>\n",
       "    </tr>\n",
       "  </thead>\n",
       "  <tbody>\n",
       "    <tr>\n",
       "      <th>City_Counts</th>\n",
       "      <td>[2417.0]</td>\n",
       "      <td>[2414.0]</td>\n",
       "      <td>[2415.0]</td>\n",
       "      <td>Country_Counts</td>\n",
       "    </tr>\n",
       "  </tbody>\n",
       "</table>\n",
       "</div>"
      ],
      "text/plain": [
       "            City_Counts Country_Counts Continent_Counts         AIC_min\n",
       "df0                                                                    \n",
       "City_Counts    [2417.0]       [2414.0]         [2415.0]  Country_Counts"
      ]
     },
     "metadata": {},
     "output_type": "display_data"
    },
    {
     "data": {
      "application/vnd.microsoft.datawrangler.viewer.v0+json": {
       "columns": [
        {
         "name": "df0",
         "rawType": "object",
         "type": "string"
        },
        {
         "name": "Start_Date_Year_Categ",
         "rawType": "object",
         "type": "unknown"
        },
        {
         "name": "Completion_Date_Year_Categ",
         "rawType": "object",
         "type": "unknown"
        },
        {
         "name": "AIC_min",
         "rawType": "object",
         "type": "string"
        }
       ],
       "ref": "a5316fee-37e9-4db2-adb7-30d23d08703b",
       "rows": [
        [
         "Start_Date_Year_Categ",
         "[2409.0]",
         "[2411.0]",
         "Start_Date_Year_Categ"
        ]
       ],
       "shape": {
        "columns": 3,
        "rows": 1
       }
      },
      "text/html": [
       "<div>\n",
       "<style scoped>\n",
       "    .dataframe tbody tr th:only-of-type {\n",
       "        vertical-align: middle;\n",
       "    }\n",
       "\n",
       "    .dataframe tbody tr th {\n",
       "        vertical-align: top;\n",
       "    }\n",
       "\n",
       "    .dataframe thead th {\n",
       "        text-align: right;\n",
       "    }\n",
       "</style>\n",
       "<table border=\"1\" class=\"dataframe\">\n",
       "  <thead>\n",
       "    <tr style=\"text-align: right;\">\n",
       "      <th></th>\n",
       "      <th>Start_Date_Year_Categ</th>\n",
       "      <th>Completion_Date_Year_Categ</th>\n",
       "      <th>AIC_min</th>\n",
       "    </tr>\n",
       "    <tr>\n",
       "      <th>df0</th>\n",
       "      <th></th>\n",
       "      <th></th>\n",
       "      <th></th>\n",
       "    </tr>\n",
       "  </thead>\n",
       "  <tbody>\n",
       "    <tr>\n",
       "      <th>Start_Date_Year_Categ</th>\n",
       "      <td>[2409.0]</td>\n",
       "      <td>[2411.0]</td>\n",
       "      <td>Start_Date_Year_Categ</td>\n",
       "    </tr>\n",
       "  </tbody>\n",
       "</table>\n",
       "</div>"
      ],
      "text/plain": [
       "                      Start_Date_Year_Categ Completion_Date_Year_Categ  \\\n",
       "df0                                                                      \n",
       "Start_Date_Year_Categ              [2409.0]                   [2411.0]   \n",
       "\n",
       "                                     AIC_min  \n",
       "df0                                           \n",
       "Start_Date_Year_Categ  Start_Date_Year_Categ  "
      ]
     },
     "metadata": {},
     "output_type": "display_data"
    }
   ],
   "source": [
    "display(aic_all[0], aic_all[1], aic_all[2], aic_all[3], aic_all[4])\n"
   ]
  },
  {
   "cell_type": "markdown",
   "id": "0c8a4996",
   "metadata": {},
   "source": [
    "# Data Preperation"
   ]
  },
  {
   "cell_type": "code",
   "execution_count": 28,
   "id": "de6ed1aa",
   "metadata": {},
   "outputs": [],
   "source": [
    "X = dfi.drop(columns = ['Study Status'], axis = 1)\n",
    "y = dfi['Study Status']"
   ]
  },
  {
   "cell_type": "markdown",
   "id": "bc8a3546",
   "metadata": {},
   "source": [
    "# Check Associations"
   ]
  },
  {
   "cell_type": "markdown",
   "id": "325b15c9",
   "metadata": {},
   "source": [
    "## P_values"
   ]
  },
  {
   "cell_type": "code",
   "execution_count": 16,
   "id": "7a6ee277",
   "metadata": {},
   "outputs": [
    {
     "data": {
      "application/vnd.microsoft.datawrangler.viewer.v0+json": {
       "columns": [
        {
         "name": "df0",
         "rawType": "int64",
         "type": "integer"
        },
        {
         "name": "Variable",
         "rawType": "object",
         "type": "string"
        },
        {
         "name": "p-value",
         "rawType": "float64",
         "type": "float"
        },
        {
         "name": "Lower_CL",
         "rawType": "float64",
         "type": "float"
        },
        {
         "name": "Upper_CL",
         "rawType": "float64",
         "type": "float"
        },
        {
         "name": "Stat_Sig",
         "rawType": "object",
         "type": "string"
        }
       ],
       "ref": "3d34b802-b4dc-481b-9456-d2060e767b16",
       "rows": [
        [
         "14",
         "ADULT",
         "0.757",
         "-0.421",
         "0.578",
         "-"
        ],
        [
         "66",
         "Adv_Death",
         "0.969",
         "-0.659",
         "0.686",
         "-"
        ],
        [
         "67",
         "Adv_Other",
         "0.186",
         "-0.156",
         "0.805",
         "-"
        ],
        [
         "68",
         "Adv_Serious",
         "0.443",
         "-0.498",
         "1.138",
         "-"
        ],
        [
         "70",
         "Adv_Sy_Blood/ Lymphatic",
         "0.395",
         "-2.038",
         "0.804",
         "-"
        ],
        [
         "71",
         "Adv_Sy_Cardio",
         "0.675",
         "-1.194",
         "0.773",
         "-"
        ],
        [
         "72",
         "Adv_Sy_Death",
         "0.231",
         "-0.472",
         "1.951",
         "-"
        ],
        [
         "73",
         "Adv_Sy_Ear",
         "0.735",
         "-2.909",
         "2.053",
         "-"
        ],
        [
         "74",
         "Adv_Sy_Endocrine",
         "0.889",
         "-2.466",
         "2.139",
         "-"
        ],
        [
         "75",
         "Adv_Sy_Eye",
         "0.918",
         "-1.627",
         "1.464",
         "-"
        ],
        [
         "76",
         "Adv_Sy_Gastrointestinal",
         "0.221",
         "-0.369",
         "1.599",
         "-"
        ],
        [
         "77",
         "Adv_Sy_General",
         "0.33",
         "-0.539",
         "1.607",
         "-"
        ],
        [
         "78",
         "Adv_Sy_Genetic",
         "0.844",
         "-39.676",
         "48.529",
         "-"
        ],
        [
         "79",
         "Adv_Sy_Hepatobiliary",
         "0.332",
         "-1.352",
         "4.002",
         "-"
        ],
        [
         "80",
         "Adv_Sy_Immune System",
         "0.033",
         "-3.444",
         "-0.144",
         "Stat_Sig"
        ],
        [
         "81",
         "Adv_Sy_Infections",
         "0.694",
         "-1.462",
         "0.973",
         "-"
        ],
        [
         "82",
         "Adv_Sy_Injury/ Poisoning/ Procedural",
         "0.847",
         "-1.655",
         "1.359",
         "-"
        ],
        [
         "83",
         "Adv_Sy_Investigations",
         "0.451",
         "-2.123",
         "0.944",
         "-"
        ],
        [
         "84",
         "Adv_Sy_Metabolism/ Nutrition",
         "0.037",
         "-3.685",
         "-0.116",
         "Stat_Sig"
        ],
        [
         "85",
         "Adv_Sy_Musculoskeletal",
         "0.846",
         "-1.133",
         "0.929",
         "-"
        ],
        [
         "86",
         "Adv_Sy_Neoplasms",
         "0.816",
         "-3.311",
         "2.609",
         "-"
        ],
        [
         "87",
         "Adv_Sy_Nervous System",
         "0.902",
         "-0.904",
         "1.026",
         "-"
        ],
        [
         "88",
         "Adv_Sy_Pregnancy/ Perinatal",
         "0.928",
         "-171.067",
         "187.487",
         "-"
        ],
        [
         "89",
         "Adv_Sy_Psychiatric/ Social",
         "0.204",
         "-1.952",
         "0.416",
         "-"
        ],
        [
         "90",
         "Adv_Sy_Renal/ Urinary",
         "0.527",
         "-1.077",
         "2.102",
         "-"
        ],
        [
         "91",
         "Adv_Sy_Reproductive/ Breast",
         "0.656",
         "-1.528",
         "2.427",
         "-"
        ],
        [
         "92",
         "Adv_Sy_Respiratory",
         "0.777",
         "-1.45",
         "1.084",
         "-"
        ],
        [
         "93",
         "Adv_Sy_Skin",
         "0.139",
         "-0.325",
         "2.326",
         "-"
        ],
        [
         "94",
         "Adv_Sy_Social",
         "0.995",
         "-786.384",
         "791.829",
         "-"
        ],
        [
         "95",
         "Adv_Sy_Surgical/ Medical",
         "0.722",
         "-1.94",
         "2.799",
         "-"
        ],
        [
         "96",
         "Adv_Sy_Vascular",
         "0.028",
         "0.295",
         "5.026",
         "Stat_Sig"
        ],
        [
         "69",
         "Adverse_Bin",
         "0.013",
         "0.112",
         "0.953",
         "Stat_Sig"
        ],
        [
         "0",
         "Adverse_Counts_Log",
         "0.003",
         "0.066",
         "0.333",
         "Stat_Sig"
        ],
        [
         "1",
         "Adverse_System_Counts_Log",
         "0.077",
         "-0.011",
         "0.215",
         "-"
        ],
        [
         "119",
         "Africa",
         "0.0",
         "1.472",
         "4.363",
         "Stat_Sig"
        ],
        [
         "2",
         "Arm_Counts",
         "0.0",
         "0.29",
         "0.625",
         "Stat_Sig"
        ],
        [
         "120",
         "Asia",
         "0.0",
         "0.846",
         "2.062",
         "Stat_Sig"
        ],
        [
         "111",
         "BASIC_SCIENCE",
         "0.313",
         "-0.221",
         "0.69",
         "-"
        ],
        [
         "21",
         "BEHAVIORAL",
         "0.016",
         "0.152",
         "1.489",
         "Stat_Sig"
        ],
        [
         "22",
         "BIOLOGICAL",
         "0.002",
         "-0.97",
         "-0.226",
         "Stat_Sig"
        ],
        [
         "44",
         "Bacterial Infections and Mycoses",
         "0.3",
         "-0.866",
         "0.267",
         "-"
        ],
        [
         "107",
         "CARE_PROVIDER",
         "0.454",
         "-0.603",
         "0.269",
         "-"
        ],
        [
         "23",
         "COMBINATION_PRODUCT",
         "0.336",
         "-0.488",
         "1.43",
         "-"
        ],
        [
         "99",
         "CROSSOVER",
         "0.0",
         "0.824",
         "1.617",
         "Stat_Sig"
        ],
        [
         "45",
         "Cardiovascular",
         "0.008",
         "-0.867",
         "-0.13",
         "Stat_Sig"
        ],
        [
         "46",
         "Chemical Disorders",
         "0.653",
         "-0.736",
         "0.461",
         "-"
        ],
        [
         "5",
         "City_Counts",
         "0.242",
         "-0.148",
         "0.586",
         "-"
        ],
        [
         "10",
         "Completion_Date_Year_Categ",
         "0.004",
         "-0.518",
         "-0.1",
         "Stat_Sig"
        ],
        [
         "8",
         "Completion_Gap_Categ",
         "0.087",
         "-0.371",
         "0.025",
         "-"
        ],
        [
         "39",
         "Cond_Diseases",
         "0.0",
         "-1.137",
         "-0.439",
         "Stat_Sig"
        ]
       ],
       "shape": {
        "columns": 5,
        "rows": 125
       }
      },
      "text/html": [
       "<div>\n",
       "<style scoped>\n",
       "    .dataframe tbody tr th:only-of-type {\n",
       "        vertical-align: middle;\n",
       "    }\n",
       "\n",
       "    .dataframe tbody tr th {\n",
       "        vertical-align: top;\n",
       "    }\n",
       "\n",
       "    .dataframe thead th {\n",
       "        text-align: right;\n",
       "    }\n",
       "</style>\n",
       "<table border=\"1\" class=\"dataframe\">\n",
       "  <thead>\n",
       "    <tr style=\"text-align: right;\">\n",
       "      <th></th>\n",
       "      <th>Variable</th>\n",
       "      <th>p-value</th>\n",
       "      <th>Lower_CL</th>\n",
       "      <th>Upper_CL</th>\n",
       "      <th>Stat_Sig</th>\n",
       "    </tr>\n",
       "    <tr>\n",
       "      <th>df0</th>\n",
       "      <th></th>\n",
       "      <th></th>\n",
       "      <th></th>\n",
       "      <th></th>\n",
       "      <th></th>\n",
       "    </tr>\n",
       "  </thead>\n",
       "  <tbody>\n",
       "    <tr>\n",
       "      <th>14</th>\n",
       "      <td>ADULT</td>\n",
       "      <td>0.757</td>\n",
       "      <td>-0.421</td>\n",
       "      <td>0.578</td>\n",
       "      <td>-</td>\n",
       "    </tr>\n",
       "    <tr>\n",
       "      <th>66</th>\n",
       "      <td>Adv_Death</td>\n",
       "      <td>0.969</td>\n",
       "      <td>-0.659</td>\n",
       "      <td>0.686</td>\n",
       "      <td>-</td>\n",
       "    </tr>\n",
       "    <tr>\n",
       "      <th>67</th>\n",
       "      <td>Adv_Other</td>\n",
       "      <td>0.186</td>\n",
       "      <td>-0.156</td>\n",
       "      <td>0.805</td>\n",
       "      <td>-</td>\n",
       "    </tr>\n",
       "    <tr>\n",
       "      <th>68</th>\n",
       "      <td>Adv_Serious</td>\n",
       "      <td>0.443</td>\n",
       "      <td>-0.498</td>\n",
       "      <td>1.138</td>\n",
       "      <td>-</td>\n",
       "    </tr>\n",
       "    <tr>\n",
       "      <th>70</th>\n",
       "      <td>Adv_Sy_Blood/ Lymphatic</td>\n",
       "      <td>0.395</td>\n",
       "      <td>-2.038</td>\n",
       "      <td>0.804</td>\n",
       "      <td>-</td>\n",
       "    </tr>\n",
       "    <tr>\n",
       "      <th>...</th>\n",
       "      <td>...</td>\n",
       "      <td>...</td>\n",
       "      <td>...</td>\n",
       "      <td>...</td>\n",
       "      <td>...</td>\n",
       "    </tr>\n",
       "    <tr>\n",
       "      <th>34</th>\n",
       "      <td>Topical</td>\n",
       "      <td>0.127</td>\n",
       "      <td>-0.431</td>\n",
       "      <td>0.054</td>\n",
       "      <td>-</td>\n",
       "    </tr>\n",
       "    <tr>\n",
       "      <th>20</th>\n",
       "      <td>University</td>\n",
       "      <td>0.898</td>\n",
       "      <td>-0.203</td>\n",
       "      <td>0.231</td>\n",
       "      <td>-</td>\n",
       "    </tr>\n",
       "    <tr>\n",
       "      <th>63</th>\n",
       "      <td>Urogenital, Pregnancy</td>\n",
       "      <td>0.907</td>\n",
       "      <td>-0.334</td>\n",
       "      <td>0.376</td>\n",
       "      <td>-</td>\n",
       "    </tr>\n",
       "    <tr>\n",
       "      <th>64</th>\n",
       "      <td>Virus Diseases</td>\n",
       "      <td>0.984</td>\n",
       "      <td>-0.771</td>\n",
       "      <td>0.787</td>\n",
       "      <td>-</td>\n",
       "    </tr>\n",
       "    <tr>\n",
       "      <th>65</th>\n",
       "      <td>Wounds, Injuries</td>\n",
       "      <td>0.062</td>\n",
       "      <td>-1.053</td>\n",
       "      <td>0.026</td>\n",
       "      <td>-</td>\n",
       "    </tr>\n",
       "  </tbody>\n",
       "</table>\n",
       "<p>125 rows × 5 columns</p>\n",
       "</div>"
      ],
      "text/plain": [
       "                    Variable  p-value  Lower_CL  Upper_CL Stat_Sig\n",
       "df0                                                               \n",
       "14                     ADULT    0.757    -0.421     0.578        -\n",
       "66                 Adv_Death    0.969    -0.659     0.686        -\n",
       "67                 Adv_Other    0.186    -0.156     0.805        -\n",
       "68               Adv_Serious    0.443    -0.498     1.138        -\n",
       "70   Adv_Sy_Blood/ Lymphatic    0.395    -2.038     0.804        -\n",
       "..                       ...      ...       ...       ...      ...\n",
       "34                   Topical    0.127    -0.431     0.054        -\n",
       "20                University    0.898    -0.203     0.231        -\n",
       "63     Urogenital, Pregnancy    0.907    -0.334     0.376        -\n",
       "64            Virus Diseases    0.984    -0.771     0.787        -\n",
       "65          Wounds, Injuries    0.062    -1.053     0.026        -\n",
       "\n",
       "[125 rows x 5 columns]"
      ]
     },
     "execution_count": 16,
     "metadata": {},
     "output_type": "execute_result"
    }
   ],
   "source": [
    "p_values.sort_values(by = 'Variable', ascending = True)"
   ]
  },
  {
   "cell_type": "code",
   "execution_count": 17,
   "id": "38e66907",
   "metadata": {},
   "outputs": [
    {
     "data": {
      "application/vnd.microsoft.datawrangler.viewer.v0+json": {
       "columns": [
        {
         "name": "df0",
         "rawType": "object",
         "type": "string"
        },
        {
         "name": "Counts",
         "rawType": "object",
         "type": "unknown"
        },
        {
         "name": "Log",
         "rawType": "object",
         "type": "unknown"
        },
        {
         "name": "Sqrt",
         "rawType": "object",
         "type": "unknown"
        },
        {
         "name": "Categ",
         "rawType": "object",
         "type": "unknown"
        },
        {
         "name": "Bin",
         "rawType": "object",
         "type": "unknown"
        },
        {
         "name": "AIC_Min",
         "rawType": "object",
         "type": "string"
        }
       ],
       "ref": "aa3883a2-315a-4f88-8a2a-fecacf9835cc",
       "rows": [
        [
         "Adverse_Counts",
         "[2412.0]",
         "[2409.0]",
         "[2409.0]",
         "[2413.0]",
         "[2413.0]",
         "Adverse_Counts_Log"
        ],
        [
         "Adverse_System_Counts",
         "[2419.0]",
         "[2416.0]",
         "[2416.0]",
         "[2417.0]",
         null,
         "Adverse_System_Counts_Log"
        ],
        [
         "Arm_Counts",
         "[2350.0]",
         null,
         null,
         "[2370.0]",
         null,
         "Arm_Counts"
        ],
        [
         "City_Counts",
         "[2417.0]",
         null,
         null,
         "[2419.0]",
         null,
         "City_Counts"
        ],
        [
         "Completion_Date_Year_Categ",
         null,
         null,
         null,
         "[2411.0]",
         null,
         "Completion_Date_Year_Categ"
        ],
        [
         "Completion_Gap_Counts",
         "[2420.0]",
         null,
         null,
         "[2417.0]",
         null,
         "Completion_Gap_Categ"
        ],
        [
         "Continent_Counts",
         "[2415.0]",
         null,
         null,
         "[2420.0]",
         null,
         "Continent_Counts"
        ],
        [
         "Country_Counts",
         "[2414.0]",
         null,
         null,
         "[2420.0]",
         null,
         "Country_Counts"
        ],
        [
         "Enrollment_Counts",
         "[2302.0]",
         "[1382.0]",
         "[1608.0]",
         "[2005.0]",
         null,
         "Enrollment_Counts_Log"
        ],
        [
         "Intervention_Method_Counts",
         "[2418.0]",
         null,
         null,
         "[2418.0]",
         null,
         "Intervention_Method_Counts"
        ],
        [
         "Intervention_Type_Counts",
         "[2410.0]",
         null,
         null,
         "[2406.0]",
         null,
         "Intervention_Type_Categ"
        ],
        [
         "Start_Date_Year_Categ",
         null,
         null,
         null,
         "[2409.0]",
         null,
         "Start_Date_Year_Categ"
        ]
       ],
       "shape": {
        "columns": 6,
        "rows": 12
       }
      },
      "text/html": [
       "<div>\n",
       "<style scoped>\n",
       "    .dataframe tbody tr th:only-of-type {\n",
       "        vertical-align: middle;\n",
       "    }\n",
       "\n",
       "    .dataframe tbody tr th {\n",
       "        vertical-align: top;\n",
       "    }\n",
       "\n",
       "    .dataframe thead th {\n",
       "        text-align: right;\n",
       "    }\n",
       "</style>\n",
       "<table border=\"1\" class=\"dataframe\">\n",
       "  <thead>\n",
       "    <tr style=\"text-align: right;\">\n",
       "      <th></th>\n",
       "      <th>Counts</th>\n",
       "      <th>Log</th>\n",
       "      <th>Sqrt</th>\n",
       "      <th>Categ</th>\n",
       "      <th>Bin</th>\n",
       "      <th>AIC_Min</th>\n",
       "    </tr>\n",
       "    <tr>\n",
       "      <th>df0</th>\n",
       "      <th></th>\n",
       "      <th></th>\n",
       "      <th></th>\n",
       "      <th></th>\n",
       "      <th></th>\n",
       "      <th></th>\n",
       "    </tr>\n",
       "  </thead>\n",
       "  <tbody>\n",
       "    <tr>\n",
       "      <th>Adverse_Counts</th>\n",
       "      <td>[2412.0]</td>\n",
       "      <td>[2409.0]</td>\n",
       "      <td>[2409.0]</td>\n",
       "      <td>[2413.0]</td>\n",
       "      <td>[2413.0]</td>\n",
       "      <td>Adverse_Counts_Log</td>\n",
       "    </tr>\n",
       "    <tr>\n",
       "      <th>Adverse_System_Counts</th>\n",
       "      <td>[2419.0]</td>\n",
       "      <td>[2416.0]</td>\n",
       "      <td>[2416.0]</td>\n",
       "      <td>[2417.0]</td>\n",
       "      <td>NaN</td>\n",
       "      <td>Adverse_System_Counts_Log</td>\n",
       "    </tr>\n",
       "    <tr>\n",
       "      <th>Arm_Counts</th>\n",
       "      <td>[2350.0]</td>\n",
       "      <td>NaN</td>\n",
       "      <td>NaN</td>\n",
       "      <td>[2370.0]</td>\n",
       "      <td>NaN</td>\n",
       "      <td>Arm_Counts</td>\n",
       "    </tr>\n",
       "    <tr>\n",
       "      <th>City_Counts</th>\n",
       "      <td>[2417.0]</td>\n",
       "      <td>NaN</td>\n",
       "      <td>NaN</td>\n",
       "      <td>[2419.0]</td>\n",
       "      <td>NaN</td>\n",
       "      <td>City_Counts</td>\n",
       "    </tr>\n",
       "    <tr>\n",
       "      <th>Completion_Date_Year_Categ</th>\n",
       "      <td>NaN</td>\n",
       "      <td>NaN</td>\n",
       "      <td>NaN</td>\n",
       "      <td>[2411.0]</td>\n",
       "      <td>NaN</td>\n",
       "      <td>Completion_Date_Year_Categ</td>\n",
       "    </tr>\n",
       "    <tr>\n",
       "      <th>Completion_Gap_Counts</th>\n",
       "      <td>[2420.0]</td>\n",
       "      <td>NaN</td>\n",
       "      <td>NaN</td>\n",
       "      <td>[2417.0]</td>\n",
       "      <td>NaN</td>\n",
       "      <td>Completion_Gap_Categ</td>\n",
       "    </tr>\n",
       "    <tr>\n",
       "      <th>Continent_Counts</th>\n",
       "      <td>[2415.0]</td>\n",
       "      <td>NaN</td>\n",
       "      <td>NaN</td>\n",
       "      <td>[2420.0]</td>\n",
       "      <td>NaN</td>\n",
       "      <td>Continent_Counts</td>\n",
       "    </tr>\n",
       "    <tr>\n",
       "      <th>Country_Counts</th>\n",
       "      <td>[2414.0]</td>\n",
       "      <td>NaN</td>\n",
       "      <td>NaN</td>\n",
       "      <td>[2420.0]</td>\n",
       "      <td>NaN</td>\n",
       "      <td>Country_Counts</td>\n",
       "    </tr>\n",
       "    <tr>\n",
       "      <th>Enrollment_Counts</th>\n",
       "      <td>[2302.0]</td>\n",
       "      <td>[1382.0]</td>\n",
       "      <td>[1608.0]</td>\n",
       "      <td>[2005.0]</td>\n",
       "      <td>NaN</td>\n",
       "      <td>Enrollment_Counts_Log</td>\n",
       "    </tr>\n",
       "    <tr>\n",
       "      <th>Intervention_Method_Counts</th>\n",
       "      <td>[2418.0]</td>\n",
       "      <td>NaN</td>\n",
       "      <td>NaN</td>\n",
       "      <td>[2418.0]</td>\n",
       "      <td>NaN</td>\n",
       "      <td>Intervention_Method_Counts</td>\n",
       "    </tr>\n",
       "    <tr>\n",
       "      <th>Intervention_Type_Counts</th>\n",
       "      <td>[2410.0]</td>\n",
       "      <td>NaN</td>\n",
       "      <td>NaN</td>\n",
       "      <td>[2406.0]</td>\n",
       "      <td>NaN</td>\n",
       "      <td>Intervention_Type_Categ</td>\n",
       "    </tr>\n",
       "    <tr>\n",
       "      <th>Start_Date_Year_Categ</th>\n",
       "      <td>NaN</td>\n",
       "      <td>NaN</td>\n",
       "      <td>NaN</td>\n",
       "      <td>[2409.0]</td>\n",
       "      <td>NaN</td>\n",
       "      <td>Start_Date_Year_Categ</td>\n",
       "    </tr>\n",
       "  </tbody>\n",
       "</table>\n",
       "</div>"
      ],
      "text/plain": [
       "                              Counts       Log      Sqrt     Categ       Bin  \\\n",
       "df0                                                                            \n",
       "Adverse_Counts              [2412.0]  [2409.0]  [2409.0]  [2413.0]  [2413.0]   \n",
       "Adverse_System_Counts       [2419.0]  [2416.0]  [2416.0]  [2417.0]       NaN   \n",
       "Arm_Counts                  [2350.0]       NaN       NaN  [2370.0]       NaN   \n",
       "City_Counts                 [2417.0]       NaN       NaN  [2419.0]       NaN   \n",
       "Completion_Date_Year_Categ       NaN       NaN       NaN  [2411.0]       NaN   \n",
       "Completion_Gap_Counts       [2420.0]       NaN       NaN  [2417.0]       NaN   \n",
       "Continent_Counts            [2415.0]       NaN       NaN  [2420.0]       NaN   \n",
       "Country_Counts              [2414.0]       NaN       NaN  [2420.0]       NaN   \n",
       "Enrollment_Counts           [2302.0]  [1382.0]  [1608.0]  [2005.0]       NaN   \n",
       "Intervention_Method_Counts  [2418.0]       NaN       NaN  [2418.0]       NaN   \n",
       "Intervention_Type_Counts    [2410.0]       NaN       NaN  [2406.0]       NaN   \n",
       "Start_Date_Year_Categ            NaN       NaN       NaN  [2409.0]       NaN   \n",
       "\n",
       "                                               AIC_Min  \n",
       "df0                                                     \n",
       "Adverse_Counts                      Adverse_Counts_Log  \n",
       "Adverse_System_Counts        Adverse_System_Counts_Log  \n",
       "Arm_Counts                                  Arm_Counts  \n",
       "City_Counts                                City_Counts  \n",
       "Completion_Date_Year_Categ  Completion_Date_Year_Categ  \n",
       "Completion_Gap_Counts             Completion_Gap_Categ  \n",
       "Continent_Counts                      Continent_Counts  \n",
       "Country_Counts                          Country_Counts  \n",
       "Enrollment_Counts                Enrollment_Counts_Log  \n",
       "Intervention_Method_Counts  Intervention_Method_Counts  \n",
       "Intervention_Type_Counts       Intervention_Type_Categ  \n",
       "Start_Date_Year_Categ            Start_Date_Year_Categ  "
      ]
     },
     "execution_count": 17,
     "metadata": {},
     "output_type": "execute_result"
    }
   ],
   "source": [
    "AIC_Total.sort_index(ascending = True)"
   ]
  },
  {
   "cell_type": "code",
   "execution_count": 18,
   "id": "46507ad1",
   "metadata": {},
   "outputs": [
    {
     "ename": "NameError",
     "evalue": "name 'aic_all' is not defined",
     "output_type": "error",
     "traceback": [
      "\u001b[1;31m---------------------------------------------------------------------------\u001b[0m",
      "\u001b[1;31mNameError\u001b[0m                                 Traceback (most recent call last)",
      "Cell \u001b[1;32mIn[18], line 1\u001b[0m\n\u001b[1;32m----> 1\u001b[0m \u001b[43maic_all\u001b[49m\n",
      "\u001b[1;31mNameError\u001b[0m: name 'aic_all' is not defined"
     ]
    }
   ],
   "source": [
    "aic_all"
   ]
  },
  {
   "cell_type": "markdown",
   "id": "a9d059d0",
   "metadata": {},
   "source": [
    "##  mutual_info_classif (X-y)"
   ]
  },
  {
   "cell_type": "code",
   "execution_count": 29,
   "id": "db043ced",
   "metadata": {},
   "outputs": [],
   "source": [
    "selector = SelectKBest(score_func = mutual_info_classif, k = 'all')\n",
    "X_kept = selector.fit_transform(X, y)\n",
    "\n",
    "mask = selector.get_support()\n",
    "X_kept_names  = X.columns[mask].tolist()\n",
    "\n",
    "mi_scores = pd.DataFrame(selector.scores_, index = X.columns)\n",
    "\n",
    "X_mi = pd.DataFrame(X_kept, columns = X.columns[mask], index = X.index)\n",
    "\n",
    "mi_scores = pd.DataFrame(mi_scores)\n",
    "mi_scores = mi_scores.sort_values(by = 0)"
   ]
  },
  {
   "cell_type": "code",
   "execution_count": 30,
   "id": "bffe5cf1",
   "metadata": {},
   "outputs": [
    {
     "data": {
      "application/vnd.microsoft.datawrangler.viewer.v0+json": {
       "columns": [
        {
         "name": "index",
         "rawType": "object",
         "type": "string"
        },
        {
         "name": "0",
         "rawType": "float64",
         "type": "float"
        }
       ],
       "ref": "b0e61116-43fa-4b68-9031-99b0bd1a1a97",
       "rows": [
        [
         "Continents_List_South America",
         "0.0"
        ],
        [
         "Intervention_Type_List_BEHAVIORAL",
         "0.0"
        ],
        [
         "Adverse_System_List_Adv_Sy_Pregnancy/ Perinatal",
         "0.0"
        ],
        [
         "Intervention_Type_List_DEVICE",
         "0.0"
        ],
        [
         "Intervention_Type_List_DIAGNOSTIC_TEST",
         "0.0"
        ],
        [
         "Adverse_System_List_Adv_Sy_Neoplasms",
         "0.0"
        ],
        [
         "Intervention_Type_List_GENETIC",
         "0.0"
        ],
        [
         "Intervention_Type_List_RADIATION",
         "0.0"
        ],
        [
         "Adverse_System_List_Adv_Sy_Injury/ Poisoning/ Procedural",
         "0.0"
        ],
        [
         "Adverse_System_List_Adv_Sy_Infections",
         "0.0"
        ],
        [
         "Adverse_System_List_Adv_Sy_Immune System",
         "0.0"
        ],
        [
         "Conditions_List_Cond_Phenomena, Processes",
         "0.0"
        ],
        [
         "Conditions_List_Cond_Psychiatry, Psychology, Anthropology, Sociology",
         "0.0"
        ],
        [
         "Adverse_System_List_Adv_Sy_Hepatobiliary",
         "0.0"
        ],
        [
         "Conditions_Spec_List_Chemical Disorders",
         "0.0"
        ],
        [
         "Adverse_System_List_Adv_Sy_Endocrine",
         "0.0"
        ],
        [
         "Conditions_Spec_List_Health Care",
         "0.0"
        ],
        [
         "Adverse_System_List_Adv_Sy_Death",
         "0.0"
        ],
        [
         "Conditions_Spec_List_Hereditary, Neonatal, Abnormalities",
         "0.0"
        ],
        [
         "Conditions_Spec_List_Nervous System",
         "0.0"
        ],
        [
         "Conditions_Spec_List_Pathological Conditions, Signs, Symptoms",
         "0.0"
        ],
        [
         "Conditions_Spec_List_Urogenital, Pregnancy",
         "0.0"
        ],
        [
         "Adverse_System_List_Adv_Sy_Product Issues",
         "0.0"
        ],
        [
         "Sponsor_Collab_List_Pharmaceutical",
         "0.0"
        ],
        [
         "Adverse_System_List_Adv_Sy_Nervous System",
         "0.0"
        ],
        [
         "Adverse_System_List_Adv_Sy_Psychiatric/ Social",
         "0.0"
        ],
        [
         "Continents_List_Africa",
         "0.0"
        ],
        [
         "Primary_Purpose_Dum_SUPPORTIVE_CARE",
         "0.0"
        ],
        [
         "Primary_Purpose_Dum_HEALTH_SERVICES_RESEARCH",
         "0.0"
        ],
        [
         "Primary_Purpose_Dum_DIAGNOSTIC",
         "0.0"
        ],
        [
         "Primary_Purpose_Dum_DEVICE_FEASIBILITY",
         "0.0"
        ],
        [
         "Masking_Dum_TRIPLE",
         "0.0"
        ],
        [
         "Sponsor_Collab_List_Hospital",
         "0.0"
        ],
        [
         "Standard_Care_Bin",
         "0.0"
        ],
        [
         "Adverse_System_List_Adv_Sy_Surgical/ Medical",
         "0.0"
        ],
        [
         "Masking_Dum_DOUBLE",
         "0.0"
        ],
        [
         "Conditions_Spec_List_Stomatognathic",
         "0.0"
        ],
        [
         "Adverse_System_List_Adv_Sy_Reproductive/ Breast",
         "0.0"
        ],
        [
         "Funder_Type_Dum_GOVERM",
         "0.0"
        ],
        [
         "Sex_Dum_FEMALE",
         "0.0"
        ],
        [
         "Adverse_System_List_Adv_Sy_Skin",
         "0.0"
        ],
        [
         "Conditions_Spec_List_Bacterial Infections and Mycoses",
         "2.641081321241856e-05"
        ],
        [
         "Conditions_Spec_List_Eye",
         "5.200336073984957e-05"
        ],
        [
         "Conditions_Spec_List_Psychiatry, Psychology, Anthropology, Sociology",
         "8.099244609360845e-05"
        ],
        [
         "Conditions_Spec_List_Otorhinolaryngologic",
         "0.0002639098189509692"
        ],
        [
         "Adverse_System_List_Adv_Sy_General",
         "0.00030714128753528414"
        ],
        [
         "Intervention_Type_List_PROCEDURE",
         "0.0004036438148791177"
        ],
        [
         "Adverse_List_Adv_Death",
         "0.0004916278173165978"
        ],
        [
         "Intervention_Model_Dum_FACTORIAL",
         "0.0005147986977647179"
        ],
        [
         "Intervention_Method_List_Topical",
         "0.0005570458700545622"
        ]
       ],
       "shape": {
        "columns": 1,
        "rows": 127
       }
      },
      "text/html": [
       "<div>\n",
       "<style scoped>\n",
       "    .dataframe tbody tr th:only-of-type {\n",
       "        vertical-align: middle;\n",
       "    }\n",
       "\n",
       "    .dataframe tbody tr th {\n",
       "        vertical-align: top;\n",
       "    }\n",
       "\n",
       "    .dataframe thead th {\n",
       "        text-align: right;\n",
       "    }\n",
       "</style>\n",
       "<table border=\"1\" class=\"dataframe\">\n",
       "  <thead>\n",
       "    <tr style=\"text-align: right;\">\n",
       "      <th></th>\n",
       "      <th>0</th>\n",
       "    </tr>\n",
       "  </thead>\n",
       "  <tbody>\n",
       "    <tr>\n",
       "      <th>Continents_List_South America</th>\n",
       "      <td>0.000000</td>\n",
       "    </tr>\n",
       "    <tr>\n",
       "      <th>Intervention_Type_List_BEHAVIORAL</th>\n",
       "      <td>0.000000</td>\n",
       "    </tr>\n",
       "    <tr>\n",
       "      <th>Adverse_System_List_Adv_Sy_Pregnancy/ Perinatal</th>\n",
       "      <td>0.000000</td>\n",
       "    </tr>\n",
       "    <tr>\n",
       "      <th>Intervention_Type_List_DEVICE</th>\n",
       "      <td>0.000000</td>\n",
       "    </tr>\n",
       "    <tr>\n",
       "      <th>Intervention_Type_List_DIAGNOSTIC_TEST</th>\n",
       "      <td>0.000000</td>\n",
       "    </tr>\n",
       "    <tr>\n",
       "      <th>...</th>\n",
       "      <td>...</td>\n",
       "    </tr>\n",
       "    <tr>\n",
       "      <th>Conditions_List_Cond_Diseases</th>\n",
       "      <td>0.020414</td>\n",
       "    </tr>\n",
       "    <tr>\n",
       "      <th>Age_List_OLDER_ADULT</th>\n",
       "      <td>0.026070</td>\n",
       "    </tr>\n",
       "    <tr>\n",
       "      <th>Conditions_Spec_List_Neoplasms</th>\n",
       "      <td>0.035846</td>\n",
       "    </tr>\n",
       "    <tr>\n",
       "      <th>Healthy_Bin</th>\n",
       "      <td>0.044358</td>\n",
       "    </tr>\n",
       "    <tr>\n",
       "      <th>Enrollment_Counts_Log</th>\n",
       "      <td>0.144706</td>\n",
       "    </tr>\n",
       "  </tbody>\n",
       "</table>\n",
       "<p>127 rows × 1 columns</p>\n",
       "</div>"
      ],
      "text/plain": [
       "                                                        0\n",
       "Continents_List_South America                    0.000000\n",
       "Intervention_Type_List_BEHAVIORAL                0.000000\n",
       "Adverse_System_List_Adv_Sy_Pregnancy/ Perinatal  0.000000\n",
       "Intervention_Type_List_DEVICE                    0.000000\n",
       "Intervention_Type_List_DIAGNOSTIC_TEST           0.000000\n",
       "...                                                   ...\n",
       "Conditions_List_Cond_Diseases                    0.020414\n",
       "Age_List_OLDER_ADULT                             0.026070\n",
       "Conditions_Spec_List_Neoplasms                   0.035846\n",
       "Healthy_Bin                                      0.044358\n",
       "Enrollment_Counts_Log                            0.144706\n",
       "\n",
       "[127 rows x 1 columns]"
      ]
     },
     "execution_count": 30,
     "metadata": {},
     "output_type": "execute_result"
    }
   ],
   "source": [
    "mi_scores"
   ]
  },
  {
   "cell_type": "markdown",
   "id": "edd76048",
   "metadata": {},
   "source": [
    "## VIF - Collinearity"
   ]
  },
  {
   "cell_type": "code",
   "execution_count": 61,
   "id": "70864b56",
   "metadata": {},
   "outputs": [
    {
     "name": "stderr",
     "output_type": "stream",
     "text": [
      "C:\\Users\\Eugenia\\AppData\\Local\\Packages\\PythonSoftwareFoundation.Python.3.12_qbz5n2kfra8p0\\LocalCache\\local-packages\\Python312\\site-packages\\statsmodels\\stats\\outliers_influence.py:197: RuntimeWarning: divide by zero encountered in scalar divide\n",
      "  vif = 1. / (1. - r_squared_i)\n"
     ]
    },
    {
     "ename": "KeyboardInterrupt",
     "evalue": "",
     "output_type": "error",
     "traceback": [
      "\u001b[1;31m---------------------------------------------------------------------------\u001b[0m",
      "\u001b[1;31mKeyboardInterrupt\u001b[0m                         Traceback (most recent call last)",
      "Cell \u001b[1;32mIn[61], line 20\u001b[0m\n\u001b[0;32m     17\u001b[0m     X_vif \u001b[38;5;241m=\u001b[39m X[X_kept_vif\u001b[38;5;241m.\u001b[39mcolumns]\n\u001b[0;32m     18\u001b[0m     \u001b[38;5;28;01mreturn\u001b[39;00m X_vif, X_vhigh_inf\n\u001b[1;32m---> 20\u001b[0m X_vif, X_vhigh_inf \u001b[38;5;241m=\u001b[39m \u001b[43mfun_vif\u001b[49m\u001b[43m(\u001b[49m\u001b[43mX\u001b[49m\u001b[43m)\u001b[49m\n",
      "Cell \u001b[1;32mIn[61], line 14\u001b[0m, in \u001b[0;36mfun_vif\u001b[1;34m(X)\u001b[0m\n\u001b[0;32m     12\u001b[0m vif \u001b[38;5;241m=\u001b[39m pd\u001b[38;5;241m.\u001b[39mDataFrame()\n\u001b[0;32m     13\u001b[0m vif[\u001b[38;5;124m\"\u001b[39m\u001b[38;5;124mFeatures\u001b[39m\u001b[38;5;124m\"\u001b[39m] \u001b[38;5;241m=\u001b[39m X_kept_vif\u001b[38;5;241m.\u001b[39mcolumns\n\u001b[1;32m---> 14\u001b[0m vif[\u001b[38;5;124m\"\u001b[39m\u001b[38;5;124mVIF\u001b[39m\u001b[38;5;124m\"\u001b[39m] \u001b[38;5;241m=\u001b[39m [\u001b[43mvariance_inflation_factor\u001b[49m\u001b[43m(\u001b[49m\u001b[43mX_kept_vif\u001b[49m\u001b[38;5;241;43m.\u001b[39;49m\u001b[43mvalues\u001b[49m\u001b[43m,\u001b[49m\u001b[43m \u001b[49m\u001b[43mi\u001b[49m\u001b[43m)\u001b[49m \u001b[38;5;28;01mfor\u001b[39;00m i \u001b[38;5;129;01min\u001b[39;00m \u001b[38;5;28mrange\u001b[39m(X_kept_vif\u001b[38;5;241m.\u001b[39mshape[\u001b[38;5;241m1\u001b[39m])]\n\u001b[0;32m     15\u001b[0m vif \u001b[38;5;241m=\u001b[39m vif\u001b[38;5;241m.\u001b[39msort_values(by\u001b[38;5;241m=\u001b[39m\u001b[38;5;124m\"\u001b[39m\u001b[38;5;124mVIF\u001b[39m\u001b[38;5;124m\"\u001b[39m, ascending\u001b[38;5;241m=\u001b[39m\u001b[38;5;28;01mFalse\u001b[39;00m)\n\u001b[0;32m     17\u001b[0m X_vif \u001b[38;5;241m=\u001b[39m X[X_kept_vif\u001b[38;5;241m.\u001b[39mcolumns]\n",
      "File \u001b[1;32m~\\AppData\\Local\\Packages\\PythonSoftwareFoundation.Python.3.12_qbz5n2kfra8p0\\LocalCache\\local-packages\\Python312\\site-packages\\statsmodels\\stats\\outliers_influence.py:196\u001b[0m, in \u001b[0;36mvariance_inflation_factor\u001b[1;34m(exog, exog_idx)\u001b[0m\n\u001b[0;32m    194\u001b[0m mask \u001b[38;5;241m=\u001b[39m np\u001b[38;5;241m.\u001b[39marange(k_vars) \u001b[38;5;241m!=\u001b[39m exog_idx\n\u001b[0;32m    195\u001b[0m x_noti \u001b[38;5;241m=\u001b[39m exog[:, mask]\n\u001b[1;32m--> 196\u001b[0m r_squared_i \u001b[38;5;241m=\u001b[39m \u001b[43mOLS\u001b[49m\u001b[43m(\u001b[49m\u001b[43mx_i\u001b[49m\u001b[43m,\u001b[49m\u001b[43m \u001b[49m\u001b[43mx_noti\u001b[49m\u001b[43m)\u001b[49m\u001b[38;5;241;43m.\u001b[39;49m\u001b[43mfit\u001b[49m\u001b[43m(\u001b[49m\u001b[43m)\u001b[49m\u001b[38;5;241m.\u001b[39mrsquared\n\u001b[0;32m    197\u001b[0m vif \u001b[38;5;241m=\u001b[39m \u001b[38;5;241m1.\u001b[39m \u001b[38;5;241m/\u001b[39m (\u001b[38;5;241m1.\u001b[39m \u001b[38;5;241m-\u001b[39m r_squared_i)\n\u001b[0;32m    198\u001b[0m \u001b[38;5;28;01mreturn\u001b[39;00m vif\n",
      "File \u001b[1;32m~\\AppData\\Local\\Packages\\PythonSoftwareFoundation.Python.3.12_qbz5n2kfra8p0\\LocalCache\\local-packages\\Python312\\site-packages\\statsmodels\\regression\\linear_model.py:336\u001b[0m, in \u001b[0;36mRegressionModel.fit\u001b[1;34m(self, method, cov_type, cov_kwds, use_t, **kwargs)\u001b[0m\n\u001b[0;32m    331\u001b[0m \u001b[38;5;28;01mif\u001b[39;00m method \u001b[38;5;241m==\u001b[39m \u001b[38;5;124m\"\u001b[39m\u001b[38;5;124mpinv\u001b[39m\u001b[38;5;124m\"\u001b[39m:\n\u001b[0;32m    332\u001b[0m     \u001b[38;5;28;01mif\u001b[39;00m \u001b[38;5;129;01mnot\u001b[39;00m (\u001b[38;5;28mhasattr\u001b[39m(\u001b[38;5;28mself\u001b[39m, \u001b[38;5;124m'\u001b[39m\u001b[38;5;124mpinv_wexog\u001b[39m\u001b[38;5;124m'\u001b[39m) \u001b[38;5;129;01mand\u001b[39;00m\n\u001b[0;32m    333\u001b[0m             \u001b[38;5;28mhasattr\u001b[39m(\u001b[38;5;28mself\u001b[39m, \u001b[38;5;124m'\u001b[39m\u001b[38;5;124mnormalized_cov_params\u001b[39m\u001b[38;5;124m'\u001b[39m) \u001b[38;5;129;01mand\u001b[39;00m\n\u001b[0;32m    334\u001b[0m             \u001b[38;5;28mhasattr\u001b[39m(\u001b[38;5;28mself\u001b[39m, \u001b[38;5;124m'\u001b[39m\u001b[38;5;124mrank\u001b[39m\u001b[38;5;124m'\u001b[39m)):\n\u001b[1;32m--> 336\u001b[0m         \u001b[38;5;28mself\u001b[39m\u001b[38;5;241m.\u001b[39mpinv_wexog, singular_values \u001b[38;5;241m=\u001b[39m \u001b[43mpinv_extended\u001b[49m\u001b[43m(\u001b[49m\u001b[38;5;28;43mself\u001b[39;49m\u001b[38;5;241;43m.\u001b[39;49m\u001b[43mwexog\u001b[49m\u001b[43m)\u001b[49m\n\u001b[0;32m    337\u001b[0m         \u001b[38;5;28mself\u001b[39m\u001b[38;5;241m.\u001b[39mnormalized_cov_params \u001b[38;5;241m=\u001b[39m np\u001b[38;5;241m.\u001b[39mdot(\n\u001b[0;32m    338\u001b[0m             \u001b[38;5;28mself\u001b[39m\u001b[38;5;241m.\u001b[39mpinv_wexog, np\u001b[38;5;241m.\u001b[39mtranspose(\u001b[38;5;28mself\u001b[39m\u001b[38;5;241m.\u001b[39mpinv_wexog))\n\u001b[0;32m    340\u001b[0m         \u001b[38;5;66;03m# Cache these singular values for use later.\u001b[39;00m\n",
      "File \u001b[1;32m~\\AppData\\Local\\Packages\\PythonSoftwareFoundation.Python.3.12_qbz5n2kfra8p0\\LocalCache\\local-packages\\Python312\\site-packages\\statsmodels\\tools\\tools.py:264\u001b[0m, in \u001b[0;36mpinv_extended\u001b[1;34m(x, rcond)\u001b[0m\n\u001b[0;32m    262\u001b[0m x \u001b[38;5;241m=\u001b[39m np\u001b[38;5;241m.\u001b[39masarray(x)\n\u001b[0;32m    263\u001b[0m x \u001b[38;5;241m=\u001b[39m x\u001b[38;5;241m.\u001b[39mconjugate()\n\u001b[1;32m--> 264\u001b[0m u, s, vt \u001b[38;5;241m=\u001b[39m \u001b[43mnp\u001b[49m\u001b[38;5;241;43m.\u001b[39;49m\u001b[43mlinalg\u001b[49m\u001b[38;5;241;43m.\u001b[39;49m\u001b[43msvd\u001b[49m\u001b[43m(\u001b[49m\u001b[43mx\u001b[49m\u001b[43m,\u001b[49m\u001b[43m \u001b[49m\u001b[38;5;28;43;01mFalse\u001b[39;49;00m\u001b[43m)\u001b[49m\n\u001b[0;32m    265\u001b[0m s_orig \u001b[38;5;241m=\u001b[39m np\u001b[38;5;241m.\u001b[39mcopy(s)\n\u001b[0;32m    266\u001b[0m m \u001b[38;5;241m=\u001b[39m u\u001b[38;5;241m.\u001b[39mshape[\u001b[38;5;241m0\u001b[39m]\n",
      "File \u001b[1;32m~\\AppData\\Local\\Packages\\PythonSoftwareFoundation.Python.3.12_qbz5n2kfra8p0\\LocalCache\\local-packages\\Python312\\site-packages\\numpy\\linalg\\linalg.py:1681\u001b[0m, in \u001b[0;36msvd\u001b[1;34m(a, full_matrices, compute_uv, hermitian)\u001b[0m\n\u001b[0;32m   1678\u001b[0m         gufunc \u001b[38;5;241m=\u001b[39m _umath_linalg\u001b[38;5;241m.\u001b[39msvd_n_s\n\u001b[0;32m   1680\u001b[0m signature \u001b[38;5;241m=\u001b[39m \u001b[38;5;124m'\u001b[39m\u001b[38;5;124mD->DdD\u001b[39m\u001b[38;5;124m'\u001b[39m \u001b[38;5;28;01mif\u001b[39;00m isComplexType(t) \u001b[38;5;28;01melse\u001b[39;00m \u001b[38;5;124m'\u001b[39m\u001b[38;5;124md->ddd\u001b[39m\u001b[38;5;124m'\u001b[39m\n\u001b[1;32m-> 1681\u001b[0m u, s, vh \u001b[38;5;241m=\u001b[39m \u001b[43mgufunc\u001b[49m\u001b[43m(\u001b[49m\u001b[43ma\u001b[49m\u001b[43m,\u001b[49m\u001b[43m \u001b[49m\u001b[43msignature\u001b[49m\u001b[38;5;241;43m=\u001b[39;49m\u001b[43msignature\u001b[49m\u001b[43m,\u001b[49m\u001b[43m \u001b[49m\u001b[43mextobj\u001b[49m\u001b[38;5;241;43m=\u001b[39;49m\u001b[43mextobj\u001b[49m\u001b[43m)\u001b[49m\n\u001b[0;32m   1682\u001b[0m u \u001b[38;5;241m=\u001b[39m u\u001b[38;5;241m.\u001b[39mastype(result_t, copy\u001b[38;5;241m=\u001b[39m\u001b[38;5;28;01mFalse\u001b[39;00m)\n\u001b[0;32m   1683\u001b[0m s \u001b[38;5;241m=\u001b[39m s\u001b[38;5;241m.\u001b[39mastype(_realType(result_t), copy\u001b[38;5;241m=\u001b[39m\u001b[38;5;28;01mFalse\u001b[39;00m)\n",
      "\u001b[1;31mKeyboardInterrupt\u001b[0m: "
     ]
    }
   ],
   "source": [
    "# VIF --> good for multicoll sensitive models (QDA, LDA) Function\n",
    "def fun_vif(X):  # apply only on X_train\n",
    "    X = X.astype(float)\n",
    "    \n",
    "    vif = pd.DataFrame()\n",
    "    vif[\"Features\"] = X.columns\n",
    "    vif[\"VIF\"] = [variance_inflation_factor(X.values, i) for i in range(X.shape[1])]\n",
    "\n",
    "    X_vhigh_inf = vif[(vif['VIF'] == float('inf')) | (vif['VIF'] >= 5)]['Features'].tolist()  # Serious Correlation\n",
    "    X_kept_vif = X.drop(columns = X_vhigh_inf)\n",
    "\n",
    "    vif = pd.DataFrame()\n",
    "    vif[\"Features\"] = X_kept_vif.columns\n",
    "    vif[\"VIF\"] = [variance_inflation_factor(X_kept_vif.values, i) for i in range(X_kept_vif.shape[1])]\n",
    "    vif = vif.sort_values(by=\"VIF\", ascending=False)\n",
    "\n",
    "    X_vif = X[X_kept_vif.columns]\n",
    "    return X_vif, X_vhigh_inf\n",
    "\n",
    "X_vif, X_vhigh_inf = fun_vif(X)\n"
   ]
  },
  {
   "cell_type": "code",
   "execution_count": null,
   "id": "29cd7886",
   "metadata": {},
   "outputs": [
    {
     "data": {
      "text/plain": [
       "['Adverse_System_Counts',\n",
       " 'Adverse_System_List_Adv_Sy_Blood/ Lymphatic',\n",
       " 'Adverse_System_List_Adv_Sy_Cardio',\n",
       " 'Adverse_System_List_Adv_Sy_Death',\n",
       " 'Adverse_System_List_Adv_Sy_Ear',\n",
       " 'Adverse_System_List_Adv_Sy_Endocrine',\n",
       " 'Adverse_System_List_Adv_Sy_Eye',\n",
       " 'Adverse_System_List_Adv_Sy_Gastrointestinal',\n",
       " 'Adverse_System_List_Adv_Sy_General',\n",
       " 'Adverse_System_List_Adv_Sy_Genetic',\n",
       " 'Adverse_System_List_Adv_Sy_Hepatobiliary',\n",
       " 'Adverse_System_List_Adv_Sy_Immune System',\n",
       " 'Adverse_System_List_Adv_Sy_Infections',\n",
       " 'Adverse_System_List_Adv_Sy_Injury/ Poisoning/ Procedural',\n",
       " 'Adverse_System_List_Adv_Sy_Investigations',\n",
       " 'Adverse_System_List_Adv_Sy_Metabolism/ Nutrition',\n",
       " 'Adverse_System_List_Adv_Sy_Musculoskeletal',\n",
       " 'Adverse_System_List_Adv_Sy_Neoplasms',\n",
       " 'Adverse_System_List_Adv_Sy_Nervous System',\n",
       " 'Adverse_System_List_Adv_Sy_Pregnancy/ Perinatal',\n",
       " 'Adverse_System_List_Adv_Sy_Product Issues',\n",
       " 'Adverse_System_List_Adv_Sy_Psychiatric/ Social',\n",
       " 'Adverse_System_List_Adv_Sy_Renal/ Urinary',\n",
       " 'Adverse_System_List_Adv_Sy_Reproductive/ Breast',\n",
       " 'Adverse_System_List_Adv_Sy_Respiratory',\n",
       " 'Adverse_System_List_Adv_Sy_Skin',\n",
       " 'Adverse_System_List_Adv_Sy_Social',\n",
       " 'Adverse_System_List_Adv_Sy_Surgical/ Medical',\n",
       " 'Adverse_System_List_Adv_Sy_Vascular']"
      ]
     },
     "execution_count": 51,
     "metadata": {},
     "output_type": "execute_result"
    }
   ],
   "source": [
    "X_adv = sorted(X_vhigh_inf)\n",
    "X_adv"
   ]
  },
  {
   "cell_type": "markdown",
   "id": "037decb6",
   "metadata": {},
   "source": [
    "# Multivariable Logistic"
   ]
  },
  {
   "cell_type": "code",
   "execution_count": 52,
   "id": "c03a4151",
   "metadata": {},
   "outputs": [],
   "source": [
    "X_adv = dfi[X_adv].copy()\n",
    "y = dfi['Study Status']"
   ]
  },
  {
   "cell_type": "code",
   "execution_count": 53,
   "id": "3f44df1f",
   "metadata": {},
   "outputs": [
    {
     "name": "stdout",
     "output_type": "stream",
     "text": [
      "                           Logit Regression Results                           \n",
      "==============================================================================\n",
      "Dep. Variable:           Study Status   No. Observations:                25892\n",
      "Model:                          Logit   Df Residuals:                    25862\n",
      "Method:                           MLE   Df Model:                           29\n",
      "Date:                Fri, 01 Aug 2025   Pseudo R-squ.:                 0.01572\n",
      "Time:                        19:28:28   Log-Likelihood:                -11850.\n",
      "converged:                       True   LL-Null:                       -12039.\n",
      "Covariance Type:            nonrobust   LLR p-value:                 1.654e-62\n",
      "============================================================================================================================\n",
      "                                                               coef    std err          z      P>|z|      [0.025      0.975]\n",
      "----------------------------------------------------------------------------------------------------------------------------\n",
      "const                                                       -1.5647        nan        nan        nan         nan         nan\n",
      "Adverse_System_Counts                                       -0.0455        nan        nan        nan         nan         nan\n",
      "Adverse_System_List_Adv_Sy_Blood/ Lymphatic                  0.6740        nan        nan        nan         nan         nan\n",
      "Adverse_System_List_Adv_Sy_Cardio                           -0.1017        nan        nan        nan         nan         nan\n",
      "Adverse_System_List_Adv_Sy_Death                            -0.0353        nan        nan        nan         nan         nan\n",
      "Adverse_System_List_Adv_Sy_Ear                              -0.0974        nan        nan        nan         nan         nan\n",
      "Adverse_System_List_Adv_Sy_Endocrine                         0.2728        nan        nan        nan         nan         nan\n",
      "Adverse_System_List_Adv_Sy_Eye                              -0.0716        nan        nan        nan         nan         nan\n",
      "Adverse_System_List_Adv_Sy_Gastrointestinal                 -0.4647        nan        nan        nan         nan         nan\n",
      "Adverse_System_List_Adv_Sy_General                           0.2726        nan        nan        nan         nan         nan\n",
      "Adverse_System_List_Adv_Sy_Genetic                           0.2902        nan        nan        nan         nan         nan\n",
      "Adverse_System_List_Adv_Sy_Hepatobiliary                    -0.0804        nan        nan        nan         nan         nan\n",
      "Adverse_System_List_Adv_Sy_Immune System                     0.0903        nan        nan        nan         nan         nan\n",
      "Adverse_System_List_Adv_Sy_Infections                       -0.1122        nan        nan        nan         nan         nan\n",
      "Adverse_System_List_Adv_Sy_Injury/ Poisoning/ Procedural    -0.3065        nan        nan        nan         nan         nan\n",
      "Adverse_System_List_Adv_Sy_Investigations                    0.4893        nan        nan        nan         nan         nan\n",
      "Adverse_System_List_Adv_Sy_Metabolism/ Nutrition             0.8013        nan        nan        nan         nan         nan\n",
      "Adverse_System_List_Adv_Sy_Musculoskeletal                  -0.0683        nan        nan        nan         nan         nan\n",
      "Adverse_System_List_Adv_Sy_Neoplasms                         0.0835        nan        nan        nan         nan         nan\n",
      "Adverse_System_List_Adv_Sy_Nervous System                   -0.4852        nan        nan        nan         nan         nan\n",
      "Adverse_System_List_Adv_Sy_Pregnancy/ Perinatal             -1.1552        nan        nan        nan         nan         nan\n",
      "Adverse_System_List_Adv_Sy_Product Issues                    0.0623        nan        nan        nan         nan         nan\n",
      "Adverse_System_List_Adv_Sy_Psychiatric/ Social               0.3609        nan        nan        nan         nan         nan\n",
      "Adverse_System_List_Adv_Sy_Renal/ Urinary                    0.1142        nan        nan        nan         nan         nan\n",
      "Adverse_System_List_Adv_Sy_Reproductive/ Breast             -0.1423        nan        nan        nan         nan         nan\n",
      "Adverse_System_List_Adv_Sy_Respiratory                       0.0357        nan        nan        nan         nan         nan\n",
      "Adverse_System_List_Adv_Sy_Skin                              0.0462        nan        nan        nan         nan         nan\n",
      "Adverse_System_List_Adv_Sy_Social                           -0.3613        nan        nan        nan         nan         nan\n",
      "Adverse_System_List_Adv_Sy_Surgical/ Medical                -0.4619        nan        nan        nan         nan         nan\n",
      "Adverse_System_List_Adv_Sy_Vascular                          0.3050        nan        nan        nan         nan         nan\n",
      "============================================================================================================================\n"
     ]
    },
    {
     "name": "stderr",
     "output_type": "stream",
     "text": [
      "C:\\Users\\Eugenia\\AppData\\Local\\Packages\\PythonSoftwareFoundation.Python.3.12_qbz5n2kfra8p0\\LocalCache\\local-packages\\Python312\\site-packages\\statsmodels\\base\\model.py:595: HessianInversionWarning: Inverting hessian failed, no bse or cov_params available\n",
      "  warnings.warn('Inverting hessian failed, no bse or cov_params '\n"
     ]
    }
   ],
   "source": [
    "X = sm.add_constant(X_adv)\n",
    "y = dfi['Study Status']\n",
    "\n",
    "model = sm.Logit(y, X)\n",
    "results = model.fit(method = 'lbfgs', maxiter = 2000)\n",
    "print(results.summary())"
   ]
  },
  {
   "cell_type": "code",
   "execution_count": null,
   "id": "0ad3673a",
   "metadata": {},
   "outputs": [],
   "source": []
  }
 ],
 "metadata": {
  "kernelspec": {
   "display_name": "Python 3",
   "language": "python",
   "name": "python3"
  },
  "language_info": {
   "codemirror_mode": {
    "name": "ipython",
    "version": 3
   },
   "file_extension": ".py",
   "mimetype": "text/x-python",
   "name": "python",
   "nbconvert_exporter": "python",
   "pygments_lexer": "ipython3",
   "version": "3.12.10"
  }
 },
 "nbformat": 4,
 "nbformat_minor": 5
}
