{
 "cells": [
  {
   "cell_type": "markdown",
   "metadata": {},
   "source": [
    "# Libraries"
   ]
  },
  {
   "cell_type": "code",
   "execution_count": 227,
   "metadata": {},
   "outputs": [],
   "source": [
    "import pandas as pd\n",
    "import numpy as np\n",
    "import re\n",
    "import geonamescache \n",
    "from collections import Counter\n",
    "from sklearn.preprocessing import MultiLabelBinarizer\n",
    "import pickle\n",
    "\n",
    "import matplotlib.pyplot as plt\n",
    "import seaborn as sns\n"
   ]
  },
  {
   "cell_type": "markdown",
   "metadata": {},
   "source": [
    "# Load Data"
   ]
  },
  {
   "cell_type": "markdown",
   "metadata": {},
   "source": [
    "## Load SQL"
   ]
  },
  {
   "cell_type": "code",
   "execution_count": 228,
   "metadata": {},
   "outputs": [],
   "source": [
    "my_studies = pd.read_pickle(r\".\\df_sql\\my_studies.pkl\")\n",
    "my_conditions = pd.read_pickle(r\".\\df_sql\\my_conditions.pkl\")  \n",
    "my_covid = pd.read_pickle(r\".\\df_sql\\my_covid.pkl\")  \n",
    "my_placebo = pd.read_pickle(r\".\\df_sql\\my_placebo.pkl\")  \n",
    "my_interventions = pd.read_pickle(r\".\\df_sql\\my_interventions.pkl\")  \n",
    "my_interventions_types = pd.read_pickle(r\".\\df_sql\\my_interventions_types.pkl\")  \n",
    "my_soc = pd.read_pickle(r\".\\df_sql\\my_soc.pkl\")  \n",
    "my_intervention_methods2 = pd.read_pickle(r\".\\df_sql\\my_intervention_methods2.pkl\")  \n",
    "my_intervention_methods = pd.read_pickle(r\".\\df_sql\\my_intervention_methods.pkl\")  \n",
    "my_adverse = pd.read_pickle(r\".\\df_sql\\my_adverse.pkl\")  \n",
    "my_adverse_system = pd.read_pickle(r\".\\df_sql\\my_adverse_system.pkl\")  \n",
    "my_designs = pd.read_pickle(r\".\\df_sql\\my_designs.pkl\")  \n",
    "my_eligibilities = pd.read_pickle(r\".\\df_sql\\my_eligibilities.pkl\")  \n",
    "my_locations = pd.read_pickle(r\".\\df_sql\\my_locations.pkl\")  \n"
   ]
  },
  {
   "cell_type": "markdown",
   "metadata": {},
   "source": [
    "## Load Data"
   ]
  },
  {
   "cell_type": "code",
   "execution_count": 229,
   "metadata": {},
   "outputs": [
    {
     "data": {
      "text/plain": [
       "(79217, 31)"
      ]
     },
     "metadata": {},
     "output_type": "display_data"
    },
    {
     "data": {
      "application/vnd.microsoft.datawrangler.viewer.v0+json": {
       "columns": [
        {
         "name": "index",
         "rawType": "int64",
         "type": "integer"
        },
        {
         "name": "nct_id",
         "rawType": "object",
         "type": "string"
        },
        {
         "name": "Study Title",
         "rawType": "object",
         "type": "string"
        },
        {
         "name": "Study URL",
         "rawType": "object",
         "type": "string"
        },
        {
         "name": "Acronym",
         "rawType": "object",
         "type": "unknown"
        },
        {
         "name": "Study Status",
         "rawType": "object",
         "type": "string"
        },
        {
         "name": "Brief Summary",
         "rawType": "object",
         "type": "string"
        },
        {
         "name": "Study Results",
         "rawType": "object",
         "type": "string"
        },
        {
         "name": "Conditions",
         "rawType": "object",
         "type": "string"
        },
        {
         "name": "Interventions",
         "rawType": "object",
         "type": "string"
        },
        {
         "name": "Primary Outcome Measures",
         "rawType": "object",
         "type": "string"
        },
        {
         "name": "Secondary Outcome Measures",
         "rawType": "object",
         "type": "unknown"
        },
        {
         "name": "Other Outcome Measures",
         "rawType": "object",
         "type": "unknown"
        },
        {
         "name": "Sponsor",
         "rawType": "object",
         "type": "string"
        },
        {
         "name": "Collaborators",
         "rawType": "object",
         "type": "unknown"
        },
        {
         "name": "Sex",
         "rawType": "object",
         "type": "string"
        },
        {
         "name": "Age",
         "rawType": "object",
         "type": "string"
        },
        {
         "name": "Phases",
         "rawType": "object",
         "type": "string"
        },
        {
         "name": "Enrollment",
         "rawType": "float64",
         "type": "float"
        },
        {
         "name": "Funder Type",
         "rawType": "object",
         "type": "string"
        },
        {
         "name": "Study Type",
         "rawType": "object",
         "type": "string"
        },
        {
         "name": "Study Design",
         "rawType": "object",
         "type": "string"
        },
        {
         "name": "Other IDs",
         "rawType": "object",
         "type": "string"
        },
        {
         "name": "Start Date",
         "rawType": "object",
         "type": "string"
        },
        {
         "name": "Primary Completion Date",
         "rawType": "object",
         "type": "string"
        },
        {
         "name": "Completion Date",
         "rawType": "object",
         "type": "string"
        },
        {
         "name": "First Posted",
         "rawType": "object",
         "type": "string"
        },
        {
         "name": "Results First Posted",
         "rawType": "object",
         "type": "unknown"
        },
        {
         "name": "Last Update Posted",
         "rawType": "object",
         "type": "string"
        },
        {
         "name": "Locations",
         "rawType": "object",
         "type": "unknown"
        },
        {
         "name": "Study Documents",
         "rawType": "object",
         "type": "unknown"
        },
        {
         "name": "official_title",
         "rawType": "object",
         "type": "string"
        }
       ],
       "ref": "65340b32-3da1-4310-8d75-c606949e1e75",
       "rows": [
        [
         "0",
         "NCT02064621",
         "CKD-330 Drug-Drug Interaction Study (Candesartan)",
         "https://clinicaltrials.gov/study/NCT02064621",
         "CKD-330(C)",
         "COMPLETED",
         "The purpose of this study is to evaluate a pharmacokinetic drug interaction and safety of Candesartan between free combination of Candesartan and Amlodipine and Candesartan monotherapy.",
         "NO",
         "Hypertension",
         "DRUG: Candesartan 32mg|DRUG: Candesartan 32mg/Amlodipine 10mg",
         "AUCτ,ss of Candesartan, 1D 0h, 8D 0h, 9D 0h, 1h, 2h, 2.5h, 3h, 3.5h, 4h, 5h, 6h, 8h, 10h, 12h, 10D 0h, 11D 0h|Cmax,ss of Candesartan, 1D 0h, 8D 0h, 9D 0h, 1h, 2h, 2.5h, 3h, 3.5h, 4h, 5h, 6h, 8h, 10h, 12h, 10D 0h, 11D 0h",
         "Tmax,ss of Candesartan, 1D 0h, 8D 0h, 9D 0h, 1h, 2h, 2.5h, 3h, 3.5h, 4h, 5h, 6h, 8h, 10h, 12h, 10D 0h, 11D 0h",
         null,
         "Chong Kun Dang Pharmaceutical",
         null,
         "MALE",
         "ADULT",
         "PHASE1",
         "24.0",
         "INDUSTRY",
         "INTERVENTIONAL",
         "Allocation: RANDOMIZED|Intervention Model: CROSSOVER|Masking: NONE|Primary Purpose: TREATMENT",
         "144HPS13013",
         "2014-06",
         "2014-08",
         "2014-08",
         "2014-02-17",
         null,
         "2014-09-03",
         "Asan Medical Center, Seoul, Songpa-gu, South Korea",
         null,
         "A Randomized, Open-label, Multiple Doses, Crossover Study to Evaluate a Pharmacokinetic Drug Interaction and Safety of Candesartan Between Free Combination of Candesartan and Amlodipine and Candesartan Monotherapy in Healthy Male Volunteers"
        ],
        [
         "1",
         "NCT01756521",
         "A Study Study to Investigate the Effect on QT/QTc Interval of Moxifloxacin After a Single Dose in Healthy Male Subjects",
         "https://clinicaltrials.gov/study/NCT01756521",
         null,
         "COMPLETED",
         "The purpose of this study is to evaluate effect of moxifloxacin on QT/QTc interval in healthy male subjects. Moxifloxacin is a positive control drug used in QT study. In this study, moxifloxacin 400mg and 800mg will be used, to get information on effect of moxifloxacin on QT/QTc interval.",
         "NO",
         "the Effect of Moxifloxacin on QT/QTc Interval",
         "DRUG: Moxifloxacin",
         "QTc (QTcF, QTcB, QTcI), QTc (QTcF, QTcB, QTcI)\n\n* QTcF (Fridericia-corrected QTc)\n* QTcB (Bazett-corrected QTc)\n* QTcI (Individual-corrected QTc)\n\nQTc change: the largest time-matched, baseline-adjusted least squares mean difference time-matched, baseline-adjusted least squares mean difference, Day1 and Day2 of each periods(3 periods)",
         null,
         null,
         "Seoul National University Hospital",
         "Korea National Enterprise for Clinical Trials|The Catholic University of Korea|Seoul National University Bundang Hospital",
         "MALE",
         "ADULT",
         "PHASE1",
         "39.0",
         "OTHER",
         "INTERVENTIONAL",
         "Allocation: RANDOMIZED|Intervention Model: CROSSOVER|Masking: NONE|Primary Purpose: DIAGNOSTIC",
         "MOXI036",
         "2013-01",
         "2013-08",
         "2013-10",
         "2012-12-27",
         null,
         "2016-04-26",
         "Seoul National University Hospital, Seoul, South Korea",
         null,
         "A Multi-center, Randomized, Open-label, Placebo-controlled, 3-way Crossover Study to Investigate the Effect on QT/QTc Interval of Moxifloxacin After a Single Dose in Healthy Male Subjects"
        ],
        [
         "2",
         "NCT03318614",
         "Bifidobacterium Infantis M-63 Improves Mental Health in Irritable Bowel Syndrome Developed After a Major Flood Disaster",
         "https://clinicaltrials.gov/study/NCT03318614",
         null,
         "COMPLETED",
         "A 3-month study was conducted in flood victims from affected villages in the Tumpat district, Kelantan. Participants were given either probiotic, Bifidobacterium infantis M63 (M-63 group) or no probiotics (control group) for three months. At baseline and 3-month, participants were assessed for thewater, sanitation and hygiene (WaSH) practices, abdominal symptoms, breath testing for hydrogen and methane to detect the presence of SIBO and also fecal samples for gut microbiota profiling.",
         "NO",
         "Irritable Bowel Syndrome|Abdominal Pain|Small Intestinal Bacterial Overgrowth",
         "DIETARY_SUPPLEMENT: Probiotics M-63|OTHER: Control group",
         "IBS Symptom Severity Scale (IBS-SSS) scores, IBS-SSS contains five questions that determine severity of abdominal pain, severity of abdominal distension, dissatisfaction with bowel habits and interference with quality of life (QOL) on a 100-point visual analogue scale. Since each question contributes to the score equally, therefore 500 is the maximum score, and higher the score, the severity is worse. For those participants with scores below 175, they have mild IBS, and in general, if scores are below 75, they are considered in remission. No units of measure are used., Three months",
         "36-Item Short Form Survey (SF-36) scores, SF-36 measures four physical components (i.e. physical functioning, role limitations in physical health, bodily pain and general health perception) and four mental components (i.e. social functioning, role limitations due to emotional problems, vitality or energy and mental well-being). Total physical component and total mental component were calculated as the sum of all items in the physical and mental components, respectively. Participants with a higher score in each domain of SF-36 have a better quality of life (QOL) in that domain. No units of measure are used., Three months|Hospital Anxiety and Depression Scale (HADS) scores, The Malay-translated version of 14-item HADS contains four-point Likert responses Participants with higher scores had worse anxiety and depression. No units of measure are used., Three months|Breath-testing for small intestinal bacterial overgrowth (SIBO), Participants were asked to exhale end-expiratory breath samples into a collection bag at baseline. Then they were asked to drink 75 g of glucose in cold water. At intervals of 15 mins for the next 2 hours, breath samples were collected and symptoms recorded. Forty mL of exhaled breath were syringed into the machine (Quintron, Milwaukee, US), and levels of H2 and CH4 (in parts per million or ppm) were determined. For a positive test, the following criteria were applied: a rise in H2 value (≥ 20 ppm) or CH4 values (≥ 10 ppm) above fasting baseline value or a sustained rise in H2 or CH4 of 5 ppm over 3 consecutive breath samples. A rise in breath values as above and reproduction of symptoms were required to diagnose SIBO., Three months|Changes in gut microbiota at the phylum level, Fresh fecal specimens were collected and gut microbial analysis was performed. Changes in gut microbiota at the phylum level were reported in terms of relative abundance., Three months",
         null,
         "Universiti Sains Malaysia",
         "Morinaga Milk Industry Co., LTD",
         "ALL",
         "ADULT, OLDER_ADULT",
         "PHASE2|PHASE3",
         "53.0",
         "OTHER",
         "INTERVENTIONAL",
         "Allocation: NON_RANDOMIZED|Intervention Model: PARALLEL|Masking: NONE|Primary Purpose: TREATMENT",
         "USM/JEPeM/15040133",
         "2015-09",
         "2015-12",
         "2015-12",
         "2017-10-24",
         null,
         "2017-10-24",
         null,
         null,
         "Bifidobacterium Infantis M-63 Improves Mental Health in Irritable Bowel Syndrome Developed After a Major Flood Disaster"
        ],
        [
         "3",
         "NCT03761914",
         "Galinpepimut-S in Combination With Pembrolizumab in Patients With Selected Advanced Cancers",
         "https://clinicaltrials.gov/study/NCT03761914",
         null,
         "COMPLETED",
         "To evaluate the safety, tolerability, and anti-tumor activity of galinpepimut-S in combination with pembrolizumab in patients with selected advanced cancers.",
         "YES",
         "Acute Myelogenous Leukemia|Ovarian Cancer|Colorectal Cancer|Triple-negative Breast Cancer|Small-cell Lung Cancer",
         "BIOLOGICAL: galinpepimut-S|BIOLOGICAL: pembrolizumab|OTHER: Montanide|BIOLOGICAL: GM-CSF",
         "Overall Response Rate (ORR) - Best Overall Response, Percentage of patients who have received at least one dose of pembrolizumab and have responded (and have completed imaging requirements). Best overall response is defined as the best overall visit response in the following order: CR, PR, SD, PD, or UE as measured by RECIST 1.1, 33 months|Overall Response Rate (ORR) - Overall Response Rate, Percentage of patients who have received at least one dose of pembrolizumab and have responded (and have completed imaging requirement). Overall response rate is defined as the proportion of participants with a best overall response of CR or PR as defined by RECIST 1.1, 33 months",
         null,
         "Progression-free Survival (PFS) - Kaplan Meier Estimate, Time from enrollment to date of first confirmed disease progression or death whichever occurred earlier, 33 months|Overall Survival (OS) - Kaplan Meier Estimate, Time from enrollment to date of death from any cause, 33 months",
         "Sellas Life Sciences Group",
         "Merck Sharp & Dohme LLC|LumaBridge",
         "ALL",
         "ADULT, OLDER_ADULT",
         "PHASE1|PHASE2",
         "26.0",
         "INDUSTRY",
         "INTERVENTIONAL",
         "Allocation: NON_RANDOMIZED|Intervention Model: PARALLEL|Masking: NONE|Primary Purpose: TREATMENT",
         "SLS17-201/MK3475-770",
         "2019-09-30",
         "2022-07-05",
         "2022-10-27",
         "2018-12-03",
         "2024-11-19",
         "2024-11-19",
         "St. Joseph Heritage Healthcare, Santa Rosa, California, 95403, United States|Innovative Clinical Research Institute (ICRI), Whittier, California, 90603, United States|Miami Cancer Institute at Baptist Health, Inc., Miami, Florida, 33176, United States|Memorial Sloan Kettering Cancer Center, Basking Ridge, New Jersey, 07920, United States|Memorial Sloan Kettering Cancer Center, Middletown, New Jersey, 07748, United States|Memorial Sloan Kettering Cancer Center, Montvale, New Jersey, 07645, United States|Memorial Sloan Kettering Cancer Center, Commack, New York, 11725, United States|Memorial Sloan Kettering Cancer Center, Harrison, New York, 10604, United States|Memorial Sloan Kettering Cancer Center, Nassau, New York, 11553, United States|Memorial Sloan Kettering Cancer Center, New York, New York, 10065, United States|Oncology Hematology Care, Inc., Cincinnati, Ohio, 45242, United States|MD Anderson Cancer Center, Houston, Texas, 77054, United States",
         "Study Protocol and Statistical Analysis Plan, https://cdn.clinicaltrials.gov/large-docs/14/NCT03761914/Prot_SAP_001.pdf",
         "A Phase 1/2 Study of Galinpepimut-S in Combination With Pembrolizumab (MK 3475) in Patients With Selected Advanced Cancers"
        ],
        [
         "4",
         "NCT05340504",
         "Evaluating the Hypothesized Mechanism of Action of N-acetylcysteine for Bipolar Disorder",
         "https://clinicaltrials.gov/study/NCT05340504",
         null,
         "COMPLETED",
         "This research study evaluates the effects of anFDA-approved medication NAC in individuals with Bipolar Disorder. Participants in the study will will be assigned to two medication conditions and will take both NAC and a matched placebo. The order in which they take each medication will be random. Study medication will be taken for 14 days. There will be 5 study visits, with 2 MRI brain imaging scans completed. Questionnaires and clinical interview measures will be completed at study visits along with consistent assessment of potential side effects from study medication.",
         "YES",
         "Bipolar Disorder|Bipolar I Disorder|Bipolar II Disorder",
         "DRUG: N-Acetyl cysteine|DRUG: Placebo",
         "Change in dACC GSH Levels Through Proton Magnetic Resonance Spectroscopy, Brain GSH levels, balanced with water and CSF-corrected, in dorsal anterior cingulate measured via Proton Magnetic Resonance Spectroscopy, Day 14 of each experimental condition",
         null,
         null,
         "Medical University of South Carolina",
         "Milken Institute",
         "ALL",
         "ADULT",
         "PHASE2",
         "12.0",
         "OTHER",
         "INTERVENTIONAL",
         "Allocation: RANDOMIZED|Intervention Model: CROSSOVER|Masking: TRIPLE (PARTICIPANT, CARE_PROVIDER, INVESTIGATOR)|Primary Purpose: TREATMENT",
         "00117736",
         "2022-05-13",
         "2023-06-21",
         "2023-06-21",
         "2022-04-22",
         "2024-06-26",
         "2024-06-26",
         "Medical University Of South Carolina, Charleston, South Carolina, 29425, United States",
         "Study Protocol and Statistical Analysis Plan, https://cdn.clinicaltrials.gov/large-docs/04/NCT05340504/Prot_SAP_000.pdf",
         "Experimentally Evaluating the Hypothesized Mechanism of Action of N-acetylcysteine for Bipolar Disorder"
        ]
       ],
       "shape": {
        "columns": 31,
        "rows": 5
       }
      },
      "text/html": [
       "<div>\n",
       "<style scoped>\n",
       "    .dataframe tbody tr th:only-of-type {\n",
       "        vertical-align: middle;\n",
       "    }\n",
       "\n",
       "    .dataframe tbody tr th {\n",
       "        vertical-align: top;\n",
       "    }\n",
       "\n",
       "    .dataframe thead th {\n",
       "        text-align: right;\n",
       "    }\n",
       "</style>\n",
       "<table border=\"1\" class=\"dataframe\">\n",
       "  <thead>\n",
       "    <tr style=\"text-align: right;\">\n",
       "      <th></th>\n",
       "      <th>nct_id</th>\n",
       "      <th>Study Title</th>\n",
       "      <th>Study URL</th>\n",
       "      <th>Acronym</th>\n",
       "      <th>Study Status</th>\n",
       "      <th>Brief Summary</th>\n",
       "      <th>Study Results</th>\n",
       "      <th>Conditions</th>\n",
       "      <th>Interventions</th>\n",
       "      <th>Primary Outcome Measures</th>\n",
       "      <th>Secondary Outcome Measures</th>\n",
       "      <th>Other Outcome Measures</th>\n",
       "      <th>Sponsor</th>\n",
       "      <th>Collaborators</th>\n",
       "      <th>Sex</th>\n",
       "      <th>Age</th>\n",
       "      <th>Phases</th>\n",
       "      <th>Enrollment</th>\n",
       "      <th>Funder Type</th>\n",
       "      <th>Study Type</th>\n",
       "      <th>Study Design</th>\n",
       "      <th>Other IDs</th>\n",
       "      <th>Start Date</th>\n",
       "      <th>Primary Completion Date</th>\n",
       "      <th>Completion Date</th>\n",
       "      <th>First Posted</th>\n",
       "      <th>Results First Posted</th>\n",
       "      <th>Last Update Posted</th>\n",
       "      <th>Locations</th>\n",
       "      <th>Study Documents</th>\n",
       "      <th>official_title</th>\n",
       "    </tr>\n",
       "  </thead>\n",
       "  <tbody>\n",
       "    <tr>\n",
       "      <th>0</th>\n",
       "      <td>NCT02064621</td>\n",
       "      <td>CKD-330 Drug-Drug Interaction Study (Candesartan)</td>\n",
       "      <td>https://clinicaltrials.gov/study/NCT02064621</td>\n",
       "      <td>CKD-330(C)</td>\n",
       "      <td>COMPLETED</td>\n",
       "      <td>The purpose of this study is to evaluate a pha...</td>\n",
       "      <td>NO</td>\n",
       "      <td>Hypertension</td>\n",
       "      <td>DRUG: Candesartan 32mg|DRUG: Candesartan 32mg/...</td>\n",
       "      <td>AUCτ,ss of Candesartan, 1D 0h, 8D 0h, 9D 0h, 1...</td>\n",
       "      <td>Tmax,ss of Candesartan, 1D 0h, 8D 0h, 9D 0h, 1...</td>\n",
       "      <td>NaN</td>\n",
       "      <td>Chong Kun Dang Pharmaceutical</td>\n",
       "      <td>NaN</td>\n",
       "      <td>MALE</td>\n",
       "      <td>ADULT</td>\n",
       "      <td>PHASE1</td>\n",
       "      <td>24.0</td>\n",
       "      <td>INDUSTRY</td>\n",
       "      <td>INTERVENTIONAL</td>\n",
       "      <td>Allocation: RANDOMIZED|Intervention Model: CRO...</td>\n",
       "      <td>144HPS13013</td>\n",
       "      <td>2014-06</td>\n",
       "      <td>2014-08</td>\n",
       "      <td>2014-08</td>\n",
       "      <td>2014-02-17</td>\n",
       "      <td>NaN</td>\n",
       "      <td>2014-09-03</td>\n",
       "      <td>Asan Medical Center, Seoul, Songpa-gu, South K...</td>\n",
       "      <td>NaN</td>\n",
       "      <td>A Randomized, Open-label, Multiple Doses, Cros...</td>\n",
       "    </tr>\n",
       "    <tr>\n",
       "      <th>1</th>\n",
       "      <td>NCT01756521</td>\n",
       "      <td>A Study Study to Investigate the Effect on QT/...</td>\n",
       "      <td>https://clinicaltrials.gov/study/NCT01756521</td>\n",
       "      <td>NaN</td>\n",
       "      <td>COMPLETED</td>\n",
       "      <td>The purpose of this study is to evaluate effec...</td>\n",
       "      <td>NO</td>\n",
       "      <td>the Effect of Moxifloxacin on QT/QTc Interval</td>\n",
       "      <td>DRUG: Moxifloxacin</td>\n",
       "      <td>QTc (QTcF, QTcB, QTcI), QTc (QTcF, QTcB, QTcI)...</td>\n",
       "      <td>NaN</td>\n",
       "      <td>NaN</td>\n",
       "      <td>Seoul National University Hospital</td>\n",
       "      <td>Korea National Enterprise for Clinical Trials|...</td>\n",
       "      <td>MALE</td>\n",
       "      <td>ADULT</td>\n",
       "      <td>PHASE1</td>\n",
       "      <td>39.0</td>\n",
       "      <td>OTHER</td>\n",
       "      <td>INTERVENTIONAL</td>\n",
       "      <td>Allocation: RANDOMIZED|Intervention Model: CRO...</td>\n",
       "      <td>MOXI036</td>\n",
       "      <td>2013-01</td>\n",
       "      <td>2013-08</td>\n",
       "      <td>2013-10</td>\n",
       "      <td>2012-12-27</td>\n",
       "      <td>NaN</td>\n",
       "      <td>2016-04-26</td>\n",
       "      <td>Seoul National University Hospital, Seoul, Sou...</td>\n",
       "      <td>NaN</td>\n",
       "      <td>A Multi-center, Randomized, Open-label, Placeb...</td>\n",
       "    </tr>\n",
       "    <tr>\n",
       "      <th>2</th>\n",
       "      <td>NCT03318614</td>\n",
       "      <td>Bifidobacterium Infantis M-63 Improves Mental ...</td>\n",
       "      <td>https://clinicaltrials.gov/study/NCT03318614</td>\n",
       "      <td>NaN</td>\n",
       "      <td>COMPLETED</td>\n",
       "      <td>A 3-month study was conducted in flood victims...</td>\n",
       "      <td>NO</td>\n",
       "      <td>Irritable Bowel Syndrome|Abdominal Pain|Small ...</td>\n",
       "      <td>DIETARY_SUPPLEMENT: Probiotics M-63|OTHER: Con...</td>\n",
       "      <td>IBS Symptom Severity Scale (IBS-SSS) scores, I...</td>\n",
       "      <td>36-Item Short Form Survey (SF-36) scores, SF-3...</td>\n",
       "      <td>NaN</td>\n",
       "      <td>Universiti Sains Malaysia</td>\n",
       "      <td>Morinaga Milk Industry Co., LTD</td>\n",
       "      <td>ALL</td>\n",
       "      <td>ADULT, OLDER_ADULT</td>\n",
       "      <td>PHASE2|PHASE3</td>\n",
       "      <td>53.0</td>\n",
       "      <td>OTHER</td>\n",
       "      <td>INTERVENTIONAL</td>\n",
       "      <td>Allocation: NON_RANDOMIZED|Intervention Model:...</td>\n",
       "      <td>USM/JEPeM/15040133</td>\n",
       "      <td>2015-09</td>\n",
       "      <td>2015-12</td>\n",
       "      <td>2015-12</td>\n",
       "      <td>2017-10-24</td>\n",
       "      <td>NaN</td>\n",
       "      <td>2017-10-24</td>\n",
       "      <td>NaN</td>\n",
       "      <td>NaN</td>\n",
       "      <td>Bifidobacterium Infantis M-63 Improves Mental ...</td>\n",
       "    </tr>\n",
       "    <tr>\n",
       "      <th>3</th>\n",
       "      <td>NCT03761914</td>\n",
       "      <td>Galinpepimut-S in Combination With Pembrolizum...</td>\n",
       "      <td>https://clinicaltrials.gov/study/NCT03761914</td>\n",
       "      <td>NaN</td>\n",
       "      <td>COMPLETED</td>\n",
       "      <td>To evaluate the safety, tolerability, and anti...</td>\n",
       "      <td>YES</td>\n",
       "      <td>Acute Myelogenous Leukemia|Ovarian Cancer|Colo...</td>\n",
       "      <td>BIOLOGICAL: galinpepimut-S|BIOLOGICAL: pembrol...</td>\n",
       "      <td>Overall Response Rate (ORR) - Best Overall Res...</td>\n",
       "      <td>NaN</td>\n",
       "      <td>Progression-free Survival (PFS) - Kaplan Meier...</td>\n",
       "      <td>Sellas Life Sciences Group</td>\n",
       "      <td>Merck Sharp &amp; Dohme LLC|LumaBridge</td>\n",
       "      <td>ALL</td>\n",
       "      <td>ADULT, OLDER_ADULT</td>\n",
       "      <td>PHASE1|PHASE2</td>\n",
       "      <td>26.0</td>\n",
       "      <td>INDUSTRY</td>\n",
       "      <td>INTERVENTIONAL</td>\n",
       "      <td>Allocation: NON_RANDOMIZED|Intervention Model:...</td>\n",
       "      <td>SLS17-201/MK3475-770</td>\n",
       "      <td>2019-09-30</td>\n",
       "      <td>2022-07-05</td>\n",
       "      <td>2022-10-27</td>\n",
       "      <td>2018-12-03</td>\n",
       "      <td>2024-11-19</td>\n",
       "      <td>2024-11-19</td>\n",
       "      <td>St. Joseph Heritage Healthcare, Santa Rosa, Ca...</td>\n",
       "      <td>Study Protocol and Statistical Analysis Plan, ...</td>\n",
       "      <td>A Phase 1/2 Study of Galinpepimut-S in Combina...</td>\n",
       "    </tr>\n",
       "    <tr>\n",
       "      <th>4</th>\n",
       "      <td>NCT05340504</td>\n",
       "      <td>Evaluating the Hypothesized Mechanism of Actio...</td>\n",
       "      <td>https://clinicaltrials.gov/study/NCT05340504</td>\n",
       "      <td>NaN</td>\n",
       "      <td>COMPLETED</td>\n",
       "      <td>This research study evaluates the effects of a...</td>\n",
       "      <td>YES</td>\n",
       "      <td>Bipolar Disorder|Bipolar I Disorder|Bipolar II...</td>\n",
       "      <td>DRUG: N-Acetyl cysteine|DRUG: Placebo</td>\n",
       "      <td>Change in dACC GSH Levels Through Proton Magne...</td>\n",
       "      <td>NaN</td>\n",
       "      <td>NaN</td>\n",
       "      <td>Medical University of South Carolina</td>\n",
       "      <td>Milken Institute</td>\n",
       "      <td>ALL</td>\n",
       "      <td>ADULT</td>\n",
       "      <td>PHASE2</td>\n",
       "      <td>12.0</td>\n",
       "      <td>OTHER</td>\n",
       "      <td>INTERVENTIONAL</td>\n",
       "      <td>Allocation: RANDOMIZED|Intervention Model: CRO...</td>\n",
       "      <td>00117736</td>\n",
       "      <td>2022-05-13</td>\n",
       "      <td>2023-06-21</td>\n",
       "      <td>2023-06-21</td>\n",
       "      <td>2022-04-22</td>\n",
       "      <td>2024-06-26</td>\n",
       "      <td>2024-06-26</td>\n",
       "      <td>Medical University Of South Carolina, Charlest...</td>\n",
       "      <td>Study Protocol and Statistical Analysis Plan, ...</td>\n",
       "      <td>Experimentally Evaluating the Hypothesized Mec...</td>\n",
       "    </tr>\n",
       "  </tbody>\n",
       "</table>\n",
       "</div>"
      ],
      "text/plain": [
       "        nct_id                                        Study Title  \\\n",
       "0  NCT02064621  CKD-330 Drug-Drug Interaction Study (Candesartan)   \n",
       "1  NCT01756521  A Study Study to Investigate the Effect on QT/...   \n",
       "2  NCT03318614  Bifidobacterium Infantis M-63 Improves Mental ...   \n",
       "3  NCT03761914  Galinpepimut-S in Combination With Pembrolizum...   \n",
       "4  NCT05340504  Evaluating the Hypothesized Mechanism of Actio...   \n",
       "\n",
       "                                      Study URL     Acronym Study Status  \\\n",
       "0  https://clinicaltrials.gov/study/NCT02064621  CKD-330(C)    COMPLETED   \n",
       "1  https://clinicaltrials.gov/study/NCT01756521         NaN    COMPLETED   \n",
       "2  https://clinicaltrials.gov/study/NCT03318614         NaN    COMPLETED   \n",
       "3  https://clinicaltrials.gov/study/NCT03761914         NaN    COMPLETED   \n",
       "4  https://clinicaltrials.gov/study/NCT05340504         NaN    COMPLETED   \n",
       "\n",
       "                                       Brief Summary Study Results  \\\n",
       "0  The purpose of this study is to evaluate a pha...            NO   \n",
       "1  The purpose of this study is to evaluate effec...            NO   \n",
       "2  A 3-month study was conducted in flood victims...            NO   \n",
       "3  To evaluate the safety, tolerability, and anti...           YES   \n",
       "4  This research study evaluates the effects of a...           YES   \n",
       "\n",
       "                                          Conditions  \\\n",
       "0                                       Hypertension   \n",
       "1      the Effect of Moxifloxacin on QT/QTc Interval   \n",
       "2  Irritable Bowel Syndrome|Abdominal Pain|Small ...   \n",
       "3  Acute Myelogenous Leukemia|Ovarian Cancer|Colo...   \n",
       "4  Bipolar Disorder|Bipolar I Disorder|Bipolar II...   \n",
       "\n",
       "                                       Interventions  \\\n",
       "0  DRUG: Candesartan 32mg|DRUG: Candesartan 32mg/...   \n",
       "1                                 DRUG: Moxifloxacin   \n",
       "2  DIETARY_SUPPLEMENT: Probiotics M-63|OTHER: Con...   \n",
       "3  BIOLOGICAL: galinpepimut-S|BIOLOGICAL: pembrol...   \n",
       "4              DRUG: N-Acetyl cysteine|DRUG: Placebo   \n",
       "\n",
       "                            Primary Outcome Measures  \\\n",
       "0  AUCτ,ss of Candesartan, 1D 0h, 8D 0h, 9D 0h, 1...   \n",
       "1  QTc (QTcF, QTcB, QTcI), QTc (QTcF, QTcB, QTcI)...   \n",
       "2  IBS Symptom Severity Scale (IBS-SSS) scores, I...   \n",
       "3  Overall Response Rate (ORR) - Best Overall Res...   \n",
       "4  Change in dACC GSH Levels Through Proton Magne...   \n",
       "\n",
       "                          Secondary Outcome Measures  \\\n",
       "0  Tmax,ss of Candesartan, 1D 0h, 8D 0h, 9D 0h, 1...   \n",
       "1                                                NaN   \n",
       "2  36-Item Short Form Survey (SF-36) scores, SF-3...   \n",
       "3                                                NaN   \n",
       "4                                                NaN   \n",
       "\n",
       "                              Other Outcome Measures  \\\n",
       "0                                                NaN   \n",
       "1                                                NaN   \n",
       "2                                                NaN   \n",
       "3  Progression-free Survival (PFS) - Kaplan Meier...   \n",
       "4                                                NaN   \n",
       "\n",
       "                                Sponsor  \\\n",
       "0         Chong Kun Dang Pharmaceutical   \n",
       "1    Seoul National University Hospital   \n",
       "2             Universiti Sains Malaysia   \n",
       "3            Sellas Life Sciences Group   \n",
       "4  Medical University of South Carolina   \n",
       "\n",
       "                                       Collaborators   Sex  \\\n",
       "0                                                NaN  MALE   \n",
       "1  Korea National Enterprise for Clinical Trials|...  MALE   \n",
       "2                    Morinaga Milk Industry Co., LTD   ALL   \n",
       "3                 Merck Sharp & Dohme LLC|LumaBridge   ALL   \n",
       "4                                   Milken Institute   ALL   \n",
       "\n",
       "                  Age         Phases  Enrollment Funder Type      Study Type  \\\n",
       "0               ADULT         PHASE1        24.0    INDUSTRY  INTERVENTIONAL   \n",
       "1               ADULT         PHASE1        39.0       OTHER  INTERVENTIONAL   \n",
       "2  ADULT, OLDER_ADULT  PHASE2|PHASE3        53.0       OTHER  INTERVENTIONAL   \n",
       "3  ADULT, OLDER_ADULT  PHASE1|PHASE2        26.0    INDUSTRY  INTERVENTIONAL   \n",
       "4               ADULT         PHASE2        12.0       OTHER  INTERVENTIONAL   \n",
       "\n",
       "                                        Study Design             Other IDs  \\\n",
       "0  Allocation: RANDOMIZED|Intervention Model: CRO...           144HPS13013   \n",
       "1  Allocation: RANDOMIZED|Intervention Model: CRO...               MOXI036   \n",
       "2  Allocation: NON_RANDOMIZED|Intervention Model:...    USM/JEPeM/15040133   \n",
       "3  Allocation: NON_RANDOMIZED|Intervention Model:...  SLS17-201/MK3475-770   \n",
       "4  Allocation: RANDOMIZED|Intervention Model: CRO...              00117736   \n",
       "\n",
       "   Start Date Primary Completion Date Completion Date First Posted  \\\n",
       "0     2014-06                 2014-08         2014-08   2014-02-17   \n",
       "1     2013-01                 2013-08         2013-10   2012-12-27   \n",
       "2     2015-09                 2015-12         2015-12   2017-10-24   \n",
       "3  2019-09-30              2022-07-05      2022-10-27   2018-12-03   \n",
       "4  2022-05-13              2023-06-21      2023-06-21   2022-04-22   \n",
       "\n",
       "  Results First Posted Last Update Posted  \\\n",
       "0                  NaN         2014-09-03   \n",
       "1                  NaN         2016-04-26   \n",
       "2                  NaN         2017-10-24   \n",
       "3           2024-11-19         2024-11-19   \n",
       "4           2024-06-26         2024-06-26   \n",
       "\n",
       "                                           Locations  \\\n",
       "0  Asan Medical Center, Seoul, Songpa-gu, South K...   \n",
       "1  Seoul National University Hospital, Seoul, Sou...   \n",
       "2                                                NaN   \n",
       "3  St. Joseph Heritage Healthcare, Santa Rosa, Ca...   \n",
       "4  Medical University Of South Carolina, Charlest...   \n",
       "\n",
       "                                     Study Documents  \\\n",
       "0                                                NaN   \n",
       "1                                                NaN   \n",
       "2                                                NaN   \n",
       "3  Study Protocol and Statistical Analysis Plan, ...   \n",
       "4  Study Protocol and Statistical Analysis Plan, ...   \n",
       "\n",
       "                                      official_title  \n",
       "0  A Randomized, Open-label, Multiple Doses, Cros...  \n",
       "1  A Multi-center, Randomized, Open-label, Placeb...  \n",
       "2  Bifidobacterium Infantis M-63 Improves Mental ...  \n",
       "3  A Phase 1/2 Study of Galinpepimut-S in Combina...  \n",
       "4  Experimentally Evaluating the Hypothesized Mec...  "
      ]
     },
     "execution_count": 229,
     "metadata": {},
     "output_type": "execute_result"
    }
   ],
   "source": [
    "df = pd.read_csv(r\".\\thesis_data\\ctg-studies.csv\")\n",
    "pd.set_option('display.max.columns', 35)  # Number of Columns : 35 > 30\n",
    "df = df.rename(columns = {'NCT Number': 'nct_id'})\n",
    "df = df.merge(my_studies[['nct_id', 'official_title']], on = 'nct_id', how = 'left')\n",
    "\n",
    "display(df.shape)\n",
    "df.head()"
   ]
  },
  {
   "cell_type": "markdown",
   "metadata": {},
   "source": [
    "##  Drop Rows\n",
    "Exclude: \n",
    "- clinical trials missing from db but exist in csv.\n",
    "\n"
   ]
  },
  {
   "cell_type": "code",
   "execution_count": 230,
   "metadata": {},
   "outputs": [
    {
     "data": {
      "text/plain": [
       "(79217, 31)"
      ]
     },
     "metadata": {},
     "output_type": "display_data"
    },
    {
     "data": {
      "text/plain": [
       "1"
      ]
     },
     "metadata": {},
     "output_type": "display_data"
    },
    {
     "data": {
      "text/plain": [
       "0"
      ]
     },
     "metadata": {},
     "output_type": "display_data"
    },
    {
     "data": {
      "text/plain": [
       "(79216, 31)"
      ]
     },
     "metadata": {},
     "output_type": "display_data"
    }
   ],
   "source": [
    "display(df.shape)\n",
    "\n",
    "# Drop studies that are not in my_studies table of db and via versa.\n",
    "display(df.loc[~df[\"nct_id\"].isin(my_studies[\"nct_id\"])].shape[0])\n",
    "df = df.drop(df.loc[~df[\"nct_id\"].isin(my_studies[\"nct_id\"])].index)  # Those not in PHASE1|2, 2|3 will also going to be dropped\n",
    "\n",
    "display(df['nct_id'].shape[0] - df[\"nct_id\"].isin(my_studies[\"nct_id\"]).shape[0])\n",
    "df = df[df[\"nct_id\"].isin(my_studies[\"nct_id\"])]\n",
    "\n",
    "display(df.shape)\n"
   ]
  },
  {
   "cell_type": "markdown",
   "metadata": {},
   "source": [
    "### Duplicated Studies\n",
    "\n",
    "- nct_id always unique --> given from Site page\n",
    "\n",
    "ClinicalTrials.gov Documentation:\n",
    "•\tNCT number\n",
    "A unique identification code given to each clinical study record registered on ClinicalTrials.gov. The format is \"NCT\" followed by an 8-digit number (for example, NCT00000419). Also called the ClinicalTrials.gov identifier.\n",
    "\n",
    "ClinicalTrials.gov Documentation:\n",
    "•\tOther study IDs\n",
    "Identifiers or ID numbers other than the NCT number that are assigned to a clinical study by the study's sponsor, funders, or others. These numbers may include unique identifiers from other trial registries and National Institutes of Health grant numbers."
   ]
  },
  {
   "cell_type": "code",
   "execution_count": 231,
   "metadata": {},
   "outputs": [
    {
     "data": {
      "application/vnd.microsoft.datawrangler.viewer.v0+json": {
       "columns": [
        {
         "name": "index",
         "rawType": "bool",
         "type": "boolean"
        },
        {
         "name": "count",
         "rawType": "int64",
         "type": "integer"
        }
       ],
       "ref": "8766a364-791c-427a-a95c-8bad5ceba747",
       "rows": [
        [
         "False",
         "79216"
        ]
       ],
       "shape": {
        "columns": 1,
        "rows": 1
       }
      },
      "text/plain": [
       "False    79216\n",
       "Name: count, dtype: int64"
      ]
     },
     "metadata": {},
     "output_type": "display_data"
    },
    {
     "data": {
      "application/vnd.microsoft.datawrangler.viewer.v0+json": {
       "columns": [
        {
         "name": "index",
         "rawType": "object",
         "type": "string"
        },
        {
         "name": "nct_id",
         "rawType": "object",
         "type": "unknown"
        },
        {
         "name": "Study Status",
         "rawType": "object",
         "type": "unknown"
        },
        {
         "name": "Phases",
         "rawType": "object",
         "type": "unknown"
        },
        {
         "name": "Study Title",
         "rawType": "object",
         "type": "unknown"
        },
        {
         "name": "official_title",
         "rawType": "object",
         "type": "unknown"
        },
        {
         "name": "Start Date",
         "rawType": "object",
         "type": "unknown"
        },
        {
         "name": "Completion Date",
         "rawType": "object",
         "type": "unknown"
        }
       ],
       "ref": "140f0d60-fa1d-49f1-985e-bd2a561a4961",
       "rows": [
        [
         "count",
         "79216",
         "79216",
         "79216",
         "79216",
         "78268",
         "79216",
         "79216"
        ],
        [
         "unique",
         "79216",
         "3",
         "6",
         "78998",
         "77819",
         "4738",
         "4456"
        ],
        [
         "top",
         "NCT02064621",
         "COMPLETED",
         "PHASE1",
         "Multi-Center Study of New Medications to Treat Vaginal Infections",
         "ACTIV-6: COVID-19 Outpatient Randomized Trial to Evaluate Efficacy of Repurposed Medications",
         "2012-01",
         "2014-12"
        ],
        [
         "freq",
         "1",
         "63543",
         "22233",
         "3",
         "8",
         "653",
         "659"
        ]
       ],
       "shape": {
        "columns": 7,
        "rows": 4
       }
      },
      "text/html": [
       "<div>\n",
       "<style scoped>\n",
       "    .dataframe tbody tr th:only-of-type {\n",
       "        vertical-align: middle;\n",
       "    }\n",
       "\n",
       "    .dataframe tbody tr th {\n",
       "        vertical-align: top;\n",
       "    }\n",
       "\n",
       "    .dataframe thead th {\n",
       "        text-align: right;\n",
       "    }\n",
       "</style>\n",
       "<table border=\"1\" class=\"dataframe\">\n",
       "  <thead>\n",
       "    <tr style=\"text-align: right;\">\n",
       "      <th></th>\n",
       "      <th>nct_id</th>\n",
       "      <th>Study Status</th>\n",
       "      <th>Phases</th>\n",
       "      <th>Study Title</th>\n",
       "      <th>official_title</th>\n",
       "      <th>Start Date</th>\n",
       "      <th>Completion Date</th>\n",
       "    </tr>\n",
       "  </thead>\n",
       "  <tbody>\n",
       "    <tr>\n",
       "      <th>count</th>\n",
       "      <td>79216</td>\n",
       "      <td>79216</td>\n",
       "      <td>79216</td>\n",
       "      <td>79216</td>\n",
       "      <td>78268</td>\n",
       "      <td>79216</td>\n",
       "      <td>79216</td>\n",
       "    </tr>\n",
       "    <tr>\n",
       "      <th>unique</th>\n",
       "      <td>79216</td>\n",
       "      <td>3</td>\n",
       "      <td>6</td>\n",
       "      <td>78998</td>\n",
       "      <td>77819</td>\n",
       "      <td>4738</td>\n",
       "      <td>4456</td>\n",
       "    </tr>\n",
       "    <tr>\n",
       "      <th>top</th>\n",
       "      <td>NCT02064621</td>\n",
       "      <td>COMPLETED</td>\n",
       "      <td>PHASE1</td>\n",
       "      <td>Multi-Center Study of New Medications to Treat...</td>\n",
       "      <td>ACTIV-6: COVID-19 Outpatient Randomized Trial ...</td>\n",
       "      <td>2012-01</td>\n",
       "      <td>2014-12</td>\n",
       "    </tr>\n",
       "    <tr>\n",
       "      <th>freq</th>\n",
       "      <td>1</td>\n",
       "      <td>63543</td>\n",
       "      <td>22233</td>\n",
       "      <td>3</td>\n",
       "      <td>8</td>\n",
       "      <td>653</td>\n",
       "      <td>659</td>\n",
       "    </tr>\n",
       "  </tbody>\n",
       "</table>\n",
       "</div>"
      ],
      "text/plain": [
       "             nct_id Study Status  Phases  \\\n",
       "count         79216        79216   79216   \n",
       "unique        79216            3       6   \n",
       "top     NCT02064621    COMPLETED  PHASE1   \n",
       "freq              1        63543   22233   \n",
       "\n",
       "                                              Study Title  \\\n",
       "count                                               79216   \n",
       "unique                                              78998   \n",
       "top     Multi-Center Study of New Medications to Treat...   \n",
       "freq                                                    3   \n",
       "\n",
       "                                           official_title Start Date  \\\n",
       "count                                               78268      79216   \n",
       "unique                                              77819       4738   \n",
       "top     ACTIV-6: COVID-19 Outpatient Randomized Trial ...    2012-01   \n",
       "freq                                                    8        653   \n",
       "\n",
       "       Completion Date  \n",
       "count            79216  \n",
       "unique            4456  \n",
       "top            2014-12  \n",
       "freq               659  "
      ]
     },
     "metadata": {},
     "output_type": "display_data"
    },
    {
     "data": {
      "application/vnd.microsoft.datawrangler.viewer.v0+json": {
       "columns": [
        {
         "name": "index",
         "rawType": "int64",
         "type": "integer"
        },
        {
         "name": "Study Status",
         "rawType": "object",
         "type": "string"
        },
        {
         "name": "Phases",
         "rawType": "object",
         "type": "string"
        },
        {
         "name": "Study Title",
         "rawType": "object",
         "type": "string"
        },
        {
         "name": "official_title",
         "rawType": "object",
         "type": "string"
        },
        {
         "name": "Brief Summary",
         "rawType": "object",
         "type": "string"
        },
        {
         "name": "Start Date",
         "rawType": "object",
         "type": "string"
        },
        {
         "name": "Completion Date",
         "rawType": "object",
         "type": "string"
        }
       ],
       "ref": "e0eb0123-4e65-4958-ba8e-0736738ffb53",
       "rows": [
        [
         "2648",
         "TERMINATED",
         "PHASE3",
         "A Phase 3 Safety and Efficacy Study of Fovista® (E10030) Intravitreous Administration in Combination With Lucentis® Compared to Lucentis® Monotherapy",
         "A Phase 3 Randomized, Double-masked, Controlled Trial to Establish the Safety and Efficacy of Intravitreous Administration of Fovista® (Anti PDGF-B Pegylated Aptamer) Administered in Combination With Lucentis® Compared to Lucentis® Monotherapy in Subjects With Subfoveal Neovascular Age-related Macular Degeneration.",
         "The objectives of this study are to evaluate the safety and efficacy of intravitreal administration of Fovista® administered in combination with Lucentis® compared to Lucentis® monotherapy in subjects with subfoveal choroidal neovascularization secondary to age-related macular degeneration (AMD).",
         "2013-08",
         "2016-12"
        ],
        [
         "71430",
         "TERMINATED",
         "PHASE3",
         "A Phase 3 Safety and Efficacy Study of Fovista® (E10030) Intravitreous Administration in Combination With Lucentis® Compared to Lucentis® Monotherapy",
         "A Phase 3 Randomized, Double-masked, Controlled Trial to Establish the Safety and Efficacy of Intravitreous Administration of Fovista® (Anti PDGF-B Pegylated Aptamer) Administered in Combination With Lucentis® Compared to Lucentis® Monotherapy in Subjects With Subfoveal Neovascular Age-related Macular Degeneration.",
         "The objectives of this study are to evaluate the safety and efficacy of intravitreal administration of Fovista® administered in combination with Lucentis® compared to Lucentis® monotherapy in subjects with subfoveal choroidal neovascularization secondary to age-related macular degeneration (AMD).",
         "2013-08",
         "2016-12"
        ],
        [
         "3538",
         "COMPLETED",
         "PHASE3",
         "A Study of the Efficacy and Safety of DFD-06 Cream in the Treatment of Moderate to Severe Plaque Psoriasis",
         "A Randomized, Double-Blind, Vehicle-Controlled, Multicenter, Parallel Group Study of the Efficacy and Safety of DFD-06 Cream in the Treatment of Moderate to Severe Plaque Psoriasis for 14 Days",
         "This study will compare the efficacy and safety of DFD-06 Cream to Vehicle Cream for topical treatment of moderate to severe plaque psoriasis after 3, 7, and 14 days of treatment.",
         "2015-12",
         "2016-07"
        ],
        [
         "49258",
         "COMPLETED",
         "PHASE3",
         "A Study of the Efficacy and Safety of DFD-06 Cream in the Treatment of Moderate to Severe Plaque Psoriasis",
         "A Randomized, Double-Blind, Vehicle-Controlled, Multicenter, Parallel Group Study of the Efficacy and Safety of DFD-06 Cream in the Treatment of Moderate to Severe Plaque Psoriasis for 14 Days",
         "This study will compare the efficacy and safety of DFD-06 Cream to Vehicle Cream for topical treatment of moderate to severe plaque psoriasis after 3, 7, and 14 days of treatment.",
         "2015-12",
         "2016-07"
        ],
        [
         "53348",
         "COMPLETED",
         "PHASE3",
         "Ceftazidime-Avibactam Compared With Doripenem Followed by Oral Therapy for Hospitalized Adults With Complicated UTIs (Urinary Tract Infections)",
         "A Phase III, Randomized, Multicenter, Double-Blind, Double Dummy, Parallel Group, Comparative Study to Determine the Efficacy, Safety, and Tolerability of Ceftazidime Avibactam (CAZ-AVI, Formerly CAZ104) Versus Doripenem Followed by Appropriate Oral Therapy in the Treatment of Complicated Urinary Tract Infections, Including Acute Pyelonephritis, With a Gram Negative Pathogen in Hospitalized Adults",
         "The purpose of this study is to evaluate the effects of Ceftazidime Avibactam compared to Doripenem for treating hospitalized patients with complicated urinary tract infections, including acute pyelonephritis",
         "2012-10",
         "2014-08"
        ],
        [
         "23595",
         "COMPLETED",
         "PHASE3",
         "Ceftazidime-Avibactam Compared With Doripenem Followed by Oral Therapy for Hospitalized Adults With Complicated UTIs (Urinary Tract Infections)",
         "A Phase III, Randomized, Multicenter, Double-Blind, Double Dummy, Parallel Group, Comparative Study to Determine the Efficacy, Safety, and Tolerability of Ceftazidime Avibactam (CAZ-AVI, Formerly CAZ104) Versus Doripenem Followed by Appropriate Oral Therapy in the Treatment of Complicated Urinary Tract Infections, Including Acute Pyelonephritis, With a Gram Negative Pathogen in Hospitalized Adults",
         "The purpose of this study is to evaluate the effects of Ceftazidime Avibactam compared to Doripenem for treating hospitalized patients with complicated urinary tract infections, including acute pyelonephritis",
         "2012-10",
         "2014-08"
        ],
        [
         "44741",
         "COMPLETED",
         "PHASE1|PHASE2",
         "Effect of Bronchoscopy on the Outcome of Patients With Severe Sepsis With ARDS and Complicated by VAP From Prolonged Ventilation",
         "Effect of Bronchoscopy on the Outcome of Patients With Severe Sepsis With ARDS and Complicated by VAP From Prolonged Ventilation",
         "to evaluate the effect of use of bronchoscopy in the course of sepsis, weaning from the ventilator, duration of ICU stays and mortality rate in septic patients with ARDS due to VAP.",
         "2020-07-02",
         "2021-12-01"
        ],
        [
         "75572",
         "COMPLETED",
         "PHASE1|PHASE2",
         "Effect of Bronchoscopy on the Outcome of Patients With Severe Sepsis With ARDS and Complicated by VAP From Prolonged Ventilation",
         "Effect of Bronchoscopy on the Outcome of Patients With Severe Sepsis With ARDS and Complicated by VAP From Prolonged Ventilation",
         "to evaluate the effect of use of bronchoscopy in the course of sepsis, weaning from the ventilator, duration of ICU stays and mortality rate in septic patients with ARDS due to VAP.",
         "2020-07-02",
         "2021-12-01"
        ],
        [
         "2905",
         "COMPLETED",
         "PHASE1|PHASE2",
         "Effect of Bronchoscopy on the Outcome of Patients With Severe Sepsis With ARDS and Complicated by VAP From Prolonged Ventilation",
         "Effect of Bronchoscopy on the Outcome of Patients With Severe Sepsis With ARDS and Complicated by VAP From Prolonged Ventilation",
         "to evaluate the effect of use of bronchoscopy in the course of sepsis, weaning from the ventilator, duration of ICU stays and mortality rate in septic patients with ARDS due to VAP.",
         "2020-07-02",
         "2021-12-01"
        ],
        [
         "73332",
         "COMPLETED",
         "PHASE3",
         "Efficacy Study of Nebulized TD-4208 for Chronic Obstructive Pulmonary Disease (COPD)",
         "A Phase 3, 12-week, Randomized, Double-blind Placebo-controlled Parallel Group Study of Nebulized TD-4208 in Subjects With Chronic Obstructive Pulmonary Disease",
         "The purpose of this study is to measure the effectiveness and safety of TD 4208, an investigational drug being developed to treat people with moderate to very severe COPD, compared to placebo, a treatment without activity.",
         "2015-09",
         "2016-09"
        ],
        [
         "46978",
         "COMPLETED",
         "PHASE3",
         "Efficacy Study of Nebulized TD-4208 for Chronic Obstructive Pulmonary Disease (COPD)",
         "A Phase 3, 12-week, Randomized, Double-blind Placebo-controlled Parallel Group Study of Nebulized TD-4208 in Subjects With Chronic Obstructive Pulmonary Disease",
         "The purpose of this study is to measure the effectiveness and safety of TD 4208, an investigational drug being developed to treat people with moderate to very severe COPD, compared to placebo, a treatment without activity.",
         "2015-09",
         "2016-09"
        ],
        [
         "33567",
         "COMPLETED",
         "PHASE3",
         "Efficacy of Esomeprazole in Patients With Frequent Heartburn",
         "A Phase III Multi-Center, Randomized, Double-Blind, Placebo-Controlled, Parallel Group Trial of 14 Day Treatment With Esomeprazole 20 mg Once Daily in Subjects With Frequent Heartburn",
         "This study will investigate the efficacy of esomeprazole 20 mg once a day in the treatment of frequent heartburn",
         "2011-08",
         "2011-10"
        ],
        [
         "20171",
         "COMPLETED",
         "PHASE3",
         "Efficacy of Esomeprazole in Patients With Frequent Heartburn",
         "A Phase III Multi-Center, Randomized, Double-Blind, Placebo-Controlled, Parallel Group Trial of 14 Day Treatment With Esomeprazole 20 mg Once Daily in Subjects With Frequent Heartburn",
         "This study will investigate the efficacy of esomeprazole 20 mg once a day in the treatment of frequent heartburn",
         "2011-08",
         "2011-10"
        ],
        [
         "15822",
         "COMPLETED",
         "PHASE3",
         "Phase 3 Papulopustular Rosacea Study",
         "A Phase 3 Randomized, Double Blind, 12 Week Vehicle Controlled, Parallel Group Study Assessing the Efficacy and Safety of CD5024 1 % Cream Versus Vehicle Cream in Subjects With Papulopustular Rosacea, Followed by a 40 Week Investigator Blinded Extension Comparing the Long Term Safety of CD5024 1% Cream Versus Azelaic Acid 15 % Gel.",
         "The purpose of this study is to demonstrate that CD5024 1% cream is more effective than its vehicle when applied once daily, at bed time, during a 12 week period in subjects with Papulopustular Rosacea (PPR) and continues to be safe up to 12 months.",
         "2011-12",
         "2013-08"
        ],
        [
         "72025",
         "COMPLETED",
         "PHASE3",
         "Phase 3 Papulopustular Rosacea Study",
         "A Phase 3 Randomized, Double Blind, 12 Week Vehicle Controlled, Parallel Group Study Assessing the Efficacy and Safety of CD5024 1 % Cream Versus Vehicle Cream in Subjects With Papulopustular Rosacea, Followed by a 40 Week Investigator Blinded Extension Comparing the Long Term Safety of CD5024 1% Cream Versus Azelaic Acid 15 % Gel.",
         "The purpose of this study is to demonstrate that CD5024 1% cream is more effective than its vehicle when applied once daily, at bed time, during a 12 week period in subjects with Papulopustular Rosacea (PPR) and continues to be safe up to 12 months.",
         "2011-12",
         "2013-08"
        ],
        [
         "34082",
         "WITHDRAWN",
         "PHASE3",
         "Study Comparing Product 0405 to a Vehicle Control in the Treatment of Mild to Moderate Atopic Dermatitis in Pediatric Subjects",
         "A Multi-Center, Double-Blind, Randomized, Vehicle-Controlled, Parallel-Group Study Comparing Product 0405 To A Vehicle Control In The Treatment Of Mild To Moderate Atopic Dermatitis In Pediatric Subjects",
         "The purpose of this study is to evaluate the safety and efficacy of product 0405 in pediatric subjects with Mild to Moderate Atopic Dermatitis.",
         "2012-06",
         "2013-05"
        ],
        [
         "69914",
         "WITHDRAWN",
         "PHASE3",
         "Study Comparing Product 0405 to a Vehicle Control in the Treatment of Mild to Moderate Atopic Dermatitis in Pediatric Subjects",
         "A Multi-Center, Double-Blind, Randomized, Vehicle-Controlled, Parallel-Group Study Comparing Product 0405 To A Vehicle Control In The Treatment Of Mild To Moderate Atopic Dermatitis In Pediatric Subjects",
         "The purpose of this study is to evaluate the safety and efficacy of product 0405 in pediatric subjects with Mild to Moderate Atopic Dermatitis.",
         "2012-06",
         "2013-05"
        ],
        [
         "25832",
         "WITHDRAWN",
         "PHASE3",
         "Study Evaluating Tigecycline Versus Ceftriaxone In Complicated Intra-Abdominal Infections & Community Acquired Pneumonia",
         "Multicenter, Randomized, And Double-Blind Study To Evaluate The Safety Of Tigecycline Versus A Ceftriaxone Regimen In The Treatment Of Complicated Intra-Abdominal Infections And Community-Acquired Pneumonia In Subjects Of 8-17 Years",
         "The main purpose of this study is to compare the safety of tigecycline versus a ceftriaxone regimen in pediatric subjects (aged 8 to 17 years) with complicated intra-abdominal infections (cIAI) and community acquired pneumonia (CAP).",
         "2011-01",
         "2014-05"
        ],
        [
         "61675",
         "WITHDRAWN",
         "PHASE3",
         "Study Evaluating Tigecycline Versus Ceftriaxone In Complicated Intra-Abdominal Infections & Community Acquired Pneumonia",
         "Multicenter, Randomized, And Double-Blind Study To Evaluate The Safety Of Tigecycline Versus A Ceftriaxone Regimen In The Treatment Of Complicated Intra-Abdominal Infections And Community-Acquired Pneumonia In Subjects Of 8-17 Years",
         "The main purpose of this study is to compare the safety of tigecycline versus a ceftriaxone regimen in pediatric subjects (aged 8 to 17 years) with complicated intra-abdominal infections (cIAI) and community acquired pneumonia (CAP).",
         "2011-01",
         "2014-05"
        ],
        [
         "8070",
         "TERMINATED",
         "PHASE3",
         "Study of the Safety and Effectiveness of Two Doses of Investigational Study Drug EVP-6124 in Subjects With Alzheimer's Disease",
         "A Randomized, Double-blind, Placebo-controlled, Parallel-Group, 26-Week, Phase 3 Study of 2 Doses of EVP-6124 or Placebo in Subjects With Mild to Moderate Alzheimer's Disease Currently or Previously Receiving an Acetylcholinesterase Inhibitor Medication",
         "The purpose of this study is to evaluate the safety and efficacy of 2 fixed doses of EVP-6124 compared to placebo for 26 weeks in subjects with mild to moderate Alzheimer's disease currently receiving stable treatment or previously treated with an acetylcholinesterase inhibitor.",
         "2013-10",
         "2017-01"
        ],
        [
         "44040",
         "TERMINATED",
         "PHASE3",
         "Study of the Safety and Effectiveness of Two Doses of Investigational Study Drug EVP-6124 in Subjects With Alzheimer's Disease",
         "A Randomized, Double-blind, Placebo-controlled, Parallel-Group, 26-Week, Phase 3 Study of 2 Doses of EVP-6124 or Placebo in Subjects With Mild to Moderate Alzheimer's Disease Currently or Previously Receiving an Acetylcholinesterase Inhibitor Medication",
         "The purpose of this study is to evaluate the safety and efficacy of 2 fixed doses of EVP-6124 compared to placebo for 26 weeks in subjects with mild to moderate Alzheimer's disease currently receiving stable treatment or previously treated with an acetylcholinesterase inhibitor.",
         "2013-10",
         "2017-01"
        ],
        [
         "57075",
         "COMPLETED",
         "PHASE3",
         "Topical Antifungal Treatment for Tinea Pedis",
         "A Randomized, Multi-Center, Double-Blind, Vehicle-Controlled Study Evaluating the Efficacy and Safety of Product 33525 in Subjects With Tinea Pedis",
         "The purpose of this study is to determine if a topical antifungal cream is safe and effective for the treatment of tinea pedis.",
         "2011-07",
         "2012-03"
        ],
        [
         "23549",
         "COMPLETED",
         "PHASE3",
         "Topical Antifungal Treatment for Tinea Pedis",
         "A Randomized, Multi-Center, Double-Blind, Vehicle-Controlled Study Evaluating the Efficacy and Safety of Product 33525 in Subjects With Tinea Pedis",
         "The purpose of this study is to determine if a topical antifungal cream is safe and effective for the treatment of tinea pedis.",
         "2011-07",
         "2012-03"
        ]
       ],
       "shape": {
        "columns": 7,
        "rows": 23
       }
      },
      "text/html": [
       "<div>\n",
       "<style scoped>\n",
       "    .dataframe tbody tr th:only-of-type {\n",
       "        vertical-align: middle;\n",
       "    }\n",
       "\n",
       "    .dataframe tbody tr th {\n",
       "        vertical-align: top;\n",
       "    }\n",
       "\n",
       "    .dataframe thead th {\n",
       "        text-align: right;\n",
       "    }\n",
       "</style>\n",
       "<table border=\"1\" class=\"dataframe\">\n",
       "  <thead>\n",
       "    <tr style=\"text-align: right;\">\n",
       "      <th></th>\n",
       "      <th>Study Status</th>\n",
       "      <th>Phases</th>\n",
       "      <th>Study Title</th>\n",
       "      <th>official_title</th>\n",
       "      <th>Brief Summary</th>\n",
       "      <th>Start Date</th>\n",
       "      <th>Completion Date</th>\n",
       "    </tr>\n",
       "  </thead>\n",
       "  <tbody>\n",
       "    <tr>\n",
       "      <th>2648</th>\n",
       "      <td>TERMINATED</td>\n",
       "      <td>PHASE3</td>\n",
       "      <td>A Phase 3 Safety and Efficacy Study of Fovista...</td>\n",
       "      <td>A Phase 3 Randomized, Double-masked, Controlle...</td>\n",
       "      <td>The objectives of this study are to evaluate t...</td>\n",
       "      <td>2013-08</td>\n",
       "      <td>2016-12</td>\n",
       "    </tr>\n",
       "    <tr>\n",
       "      <th>71430</th>\n",
       "      <td>TERMINATED</td>\n",
       "      <td>PHASE3</td>\n",
       "      <td>A Phase 3 Safety and Efficacy Study of Fovista...</td>\n",
       "      <td>A Phase 3 Randomized, Double-masked, Controlle...</td>\n",
       "      <td>The objectives of this study are to evaluate t...</td>\n",
       "      <td>2013-08</td>\n",
       "      <td>2016-12</td>\n",
       "    </tr>\n",
       "    <tr>\n",
       "      <th>3538</th>\n",
       "      <td>COMPLETED</td>\n",
       "      <td>PHASE3</td>\n",
       "      <td>A Study of the Efficacy and Safety of DFD-06 C...</td>\n",
       "      <td>A Randomized, Double-Blind, Vehicle-Controlled...</td>\n",
       "      <td>This study will compare the efficacy and safet...</td>\n",
       "      <td>2015-12</td>\n",
       "      <td>2016-07</td>\n",
       "    </tr>\n",
       "    <tr>\n",
       "      <th>49258</th>\n",
       "      <td>COMPLETED</td>\n",
       "      <td>PHASE3</td>\n",
       "      <td>A Study of the Efficacy and Safety of DFD-06 C...</td>\n",
       "      <td>A Randomized, Double-Blind, Vehicle-Controlled...</td>\n",
       "      <td>This study will compare the efficacy and safet...</td>\n",
       "      <td>2015-12</td>\n",
       "      <td>2016-07</td>\n",
       "    </tr>\n",
       "    <tr>\n",
       "      <th>53348</th>\n",
       "      <td>COMPLETED</td>\n",
       "      <td>PHASE3</td>\n",
       "      <td>Ceftazidime-Avibactam Compared With Doripenem ...</td>\n",
       "      <td>A Phase III, Randomized, Multicenter, Double-B...</td>\n",
       "      <td>The purpose of this study is to evaluate the e...</td>\n",
       "      <td>2012-10</td>\n",
       "      <td>2014-08</td>\n",
       "    </tr>\n",
       "    <tr>\n",
       "      <th>23595</th>\n",
       "      <td>COMPLETED</td>\n",
       "      <td>PHASE3</td>\n",
       "      <td>Ceftazidime-Avibactam Compared With Doripenem ...</td>\n",
       "      <td>A Phase III, Randomized, Multicenter, Double-B...</td>\n",
       "      <td>The purpose of this study is to evaluate the e...</td>\n",
       "      <td>2012-10</td>\n",
       "      <td>2014-08</td>\n",
       "    </tr>\n",
       "    <tr>\n",
       "      <th>44741</th>\n",
       "      <td>COMPLETED</td>\n",
       "      <td>PHASE1|PHASE2</td>\n",
       "      <td>Effect of Bronchoscopy on the Outcome of Patie...</td>\n",
       "      <td>Effect of Bronchoscopy on the Outcome of Patie...</td>\n",
       "      <td>to evaluate the effect of use of bronchoscopy ...</td>\n",
       "      <td>2020-07-02</td>\n",
       "      <td>2021-12-01</td>\n",
       "    </tr>\n",
       "    <tr>\n",
       "      <th>75572</th>\n",
       "      <td>COMPLETED</td>\n",
       "      <td>PHASE1|PHASE2</td>\n",
       "      <td>Effect of Bronchoscopy on the Outcome of Patie...</td>\n",
       "      <td>Effect of Bronchoscopy on the Outcome of Patie...</td>\n",
       "      <td>to evaluate the effect of use of bronchoscopy ...</td>\n",
       "      <td>2020-07-02</td>\n",
       "      <td>2021-12-01</td>\n",
       "    </tr>\n",
       "    <tr>\n",
       "      <th>2905</th>\n",
       "      <td>COMPLETED</td>\n",
       "      <td>PHASE1|PHASE2</td>\n",
       "      <td>Effect of Bronchoscopy on the Outcome of Patie...</td>\n",
       "      <td>Effect of Bronchoscopy on the Outcome of Patie...</td>\n",
       "      <td>to evaluate the effect of use of bronchoscopy ...</td>\n",
       "      <td>2020-07-02</td>\n",
       "      <td>2021-12-01</td>\n",
       "    </tr>\n",
       "    <tr>\n",
       "      <th>73332</th>\n",
       "      <td>COMPLETED</td>\n",
       "      <td>PHASE3</td>\n",
       "      <td>Efficacy Study of Nebulized TD-4208 for Chroni...</td>\n",
       "      <td>A Phase 3, 12-week, Randomized, Double-blind P...</td>\n",
       "      <td>The purpose of this study is to measure the ef...</td>\n",
       "      <td>2015-09</td>\n",
       "      <td>2016-09</td>\n",
       "    </tr>\n",
       "    <tr>\n",
       "      <th>46978</th>\n",
       "      <td>COMPLETED</td>\n",
       "      <td>PHASE3</td>\n",
       "      <td>Efficacy Study of Nebulized TD-4208 for Chroni...</td>\n",
       "      <td>A Phase 3, 12-week, Randomized, Double-blind P...</td>\n",
       "      <td>The purpose of this study is to measure the ef...</td>\n",
       "      <td>2015-09</td>\n",
       "      <td>2016-09</td>\n",
       "    </tr>\n",
       "    <tr>\n",
       "      <th>33567</th>\n",
       "      <td>COMPLETED</td>\n",
       "      <td>PHASE3</td>\n",
       "      <td>Efficacy of Esomeprazole in Patients With Freq...</td>\n",
       "      <td>A Phase III Multi-Center, Randomized, Double-B...</td>\n",
       "      <td>This study will investigate the efficacy of es...</td>\n",
       "      <td>2011-08</td>\n",
       "      <td>2011-10</td>\n",
       "    </tr>\n",
       "    <tr>\n",
       "      <th>20171</th>\n",
       "      <td>COMPLETED</td>\n",
       "      <td>PHASE3</td>\n",
       "      <td>Efficacy of Esomeprazole in Patients With Freq...</td>\n",
       "      <td>A Phase III Multi-Center, Randomized, Double-B...</td>\n",
       "      <td>This study will investigate the efficacy of es...</td>\n",
       "      <td>2011-08</td>\n",
       "      <td>2011-10</td>\n",
       "    </tr>\n",
       "    <tr>\n",
       "      <th>15822</th>\n",
       "      <td>COMPLETED</td>\n",
       "      <td>PHASE3</td>\n",
       "      <td>Phase 3 Papulopustular Rosacea Study</td>\n",
       "      <td>A Phase 3 Randomized, Double Blind, 12 Week Ve...</td>\n",
       "      <td>The purpose of this study is to demonstrate th...</td>\n",
       "      <td>2011-12</td>\n",
       "      <td>2013-08</td>\n",
       "    </tr>\n",
       "    <tr>\n",
       "      <th>72025</th>\n",
       "      <td>COMPLETED</td>\n",
       "      <td>PHASE3</td>\n",
       "      <td>Phase 3 Papulopustular Rosacea Study</td>\n",
       "      <td>A Phase 3 Randomized, Double Blind, 12 Week Ve...</td>\n",
       "      <td>The purpose of this study is to demonstrate th...</td>\n",
       "      <td>2011-12</td>\n",
       "      <td>2013-08</td>\n",
       "    </tr>\n",
       "    <tr>\n",
       "      <th>34082</th>\n",
       "      <td>WITHDRAWN</td>\n",
       "      <td>PHASE3</td>\n",
       "      <td>Study Comparing Product 0405 to a Vehicle Cont...</td>\n",
       "      <td>A Multi-Center, Double-Blind, Randomized, Vehi...</td>\n",
       "      <td>The purpose of this study is to evaluate the s...</td>\n",
       "      <td>2012-06</td>\n",
       "      <td>2013-05</td>\n",
       "    </tr>\n",
       "    <tr>\n",
       "      <th>69914</th>\n",
       "      <td>WITHDRAWN</td>\n",
       "      <td>PHASE3</td>\n",
       "      <td>Study Comparing Product 0405 to a Vehicle Cont...</td>\n",
       "      <td>A Multi-Center, Double-Blind, Randomized, Vehi...</td>\n",
       "      <td>The purpose of this study is to evaluate the s...</td>\n",
       "      <td>2012-06</td>\n",
       "      <td>2013-05</td>\n",
       "    </tr>\n",
       "    <tr>\n",
       "      <th>25832</th>\n",
       "      <td>WITHDRAWN</td>\n",
       "      <td>PHASE3</td>\n",
       "      <td>Study Evaluating Tigecycline Versus Ceftriaxon...</td>\n",
       "      <td>Multicenter, Randomized, And Double-Blind Stud...</td>\n",
       "      <td>The main purpose of this study is to compare t...</td>\n",
       "      <td>2011-01</td>\n",
       "      <td>2014-05</td>\n",
       "    </tr>\n",
       "    <tr>\n",
       "      <th>61675</th>\n",
       "      <td>WITHDRAWN</td>\n",
       "      <td>PHASE3</td>\n",
       "      <td>Study Evaluating Tigecycline Versus Ceftriaxon...</td>\n",
       "      <td>Multicenter, Randomized, And Double-Blind Stud...</td>\n",
       "      <td>The main purpose of this study is to compare t...</td>\n",
       "      <td>2011-01</td>\n",
       "      <td>2014-05</td>\n",
       "    </tr>\n",
       "    <tr>\n",
       "      <th>8070</th>\n",
       "      <td>TERMINATED</td>\n",
       "      <td>PHASE3</td>\n",
       "      <td>Study of the Safety and Effectiveness of Two D...</td>\n",
       "      <td>A Randomized, Double-blind, Placebo-controlled...</td>\n",
       "      <td>The purpose of this study is to evaluate the s...</td>\n",
       "      <td>2013-10</td>\n",
       "      <td>2017-01</td>\n",
       "    </tr>\n",
       "    <tr>\n",
       "      <th>44040</th>\n",
       "      <td>TERMINATED</td>\n",
       "      <td>PHASE3</td>\n",
       "      <td>Study of the Safety and Effectiveness of Two D...</td>\n",
       "      <td>A Randomized, Double-blind, Placebo-controlled...</td>\n",
       "      <td>The purpose of this study is to evaluate the s...</td>\n",
       "      <td>2013-10</td>\n",
       "      <td>2017-01</td>\n",
       "    </tr>\n",
       "    <tr>\n",
       "      <th>57075</th>\n",
       "      <td>COMPLETED</td>\n",
       "      <td>PHASE3</td>\n",
       "      <td>Topical Antifungal Treatment for Tinea Pedis</td>\n",
       "      <td>A Randomized, Multi-Center, Double-Blind, Vehi...</td>\n",
       "      <td>The purpose of this study is to determine if a...</td>\n",
       "      <td>2011-07</td>\n",
       "      <td>2012-03</td>\n",
       "    </tr>\n",
       "    <tr>\n",
       "      <th>23549</th>\n",
       "      <td>COMPLETED</td>\n",
       "      <td>PHASE3</td>\n",
       "      <td>Topical Antifungal Treatment for Tinea Pedis</td>\n",
       "      <td>A Randomized, Multi-Center, Double-Blind, Vehi...</td>\n",
       "      <td>The purpose of this study is to determine if a...</td>\n",
       "      <td>2011-07</td>\n",
       "      <td>2012-03</td>\n",
       "    </tr>\n",
       "  </tbody>\n",
       "</table>\n",
       "</div>"
      ],
      "text/plain": [
       "      Study Status         Phases  \\\n",
       "2648    TERMINATED         PHASE3   \n",
       "71430   TERMINATED         PHASE3   \n",
       "3538     COMPLETED         PHASE3   \n",
       "49258    COMPLETED         PHASE3   \n",
       "53348    COMPLETED         PHASE3   \n",
       "23595    COMPLETED         PHASE3   \n",
       "44741    COMPLETED  PHASE1|PHASE2   \n",
       "75572    COMPLETED  PHASE1|PHASE2   \n",
       "2905     COMPLETED  PHASE1|PHASE2   \n",
       "73332    COMPLETED         PHASE3   \n",
       "46978    COMPLETED         PHASE3   \n",
       "33567    COMPLETED         PHASE3   \n",
       "20171    COMPLETED         PHASE3   \n",
       "15822    COMPLETED         PHASE3   \n",
       "72025    COMPLETED         PHASE3   \n",
       "34082    WITHDRAWN         PHASE3   \n",
       "69914    WITHDRAWN         PHASE3   \n",
       "25832    WITHDRAWN         PHASE3   \n",
       "61675    WITHDRAWN         PHASE3   \n",
       "8070    TERMINATED         PHASE3   \n",
       "44040   TERMINATED         PHASE3   \n",
       "57075    COMPLETED         PHASE3   \n",
       "23549    COMPLETED         PHASE3   \n",
       "\n",
       "                                             Study Title  \\\n",
       "2648   A Phase 3 Safety and Efficacy Study of Fovista...   \n",
       "71430  A Phase 3 Safety and Efficacy Study of Fovista...   \n",
       "3538   A Study of the Efficacy and Safety of DFD-06 C...   \n",
       "49258  A Study of the Efficacy and Safety of DFD-06 C...   \n",
       "53348  Ceftazidime-Avibactam Compared With Doripenem ...   \n",
       "23595  Ceftazidime-Avibactam Compared With Doripenem ...   \n",
       "44741  Effect of Bronchoscopy on the Outcome of Patie...   \n",
       "75572  Effect of Bronchoscopy on the Outcome of Patie...   \n",
       "2905   Effect of Bronchoscopy on the Outcome of Patie...   \n",
       "73332  Efficacy Study of Nebulized TD-4208 for Chroni...   \n",
       "46978  Efficacy Study of Nebulized TD-4208 for Chroni...   \n",
       "33567  Efficacy of Esomeprazole in Patients With Freq...   \n",
       "20171  Efficacy of Esomeprazole in Patients With Freq...   \n",
       "15822               Phase 3 Papulopustular Rosacea Study   \n",
       "72025               Phase 3 Papulopustular Rosacea Study   \n",
       "34082  Study Comparing Product 0405 to a Vehicle Cont...   \n",
       "69914  Study Comparing Product 0405 to a Vehicle Cont...   \n",
       "25832  Study Evaluating Tigecycline Versus Ceftriaxon...   \n",
       "61675  Study Evaluating Tigecycline Versus Ceftriaxon...   \n",
       "8070   Study of the Safety and Effectiveness of Two D...   \n",
       "44040  Study of the Safety and Effectiveness of Two D...   \n",
       "57075       Topical Antifungal Treatment for Tinea Pedis   \n",
       "23549       Topical Antifungal Treatment for Tinea Pedis   \n",
       "\n",
       "                                          official_title  \\\n",
       "2648   A Phase 3 Randomized, Double-masked, Controlle...   \n",
       "71430  A Phase 3 Randomized, Double-masked, Controlle...   \n",
       "3538   A Randomized, Double-Blind, Vehicle-Controlled...   \n",
       "49258  A Randomized, Double-Blind, Vehicle-Controlled...   \n",
       "53348  A Phase III, Randomized, Multicenter, Double-B...   \n",
       "23595  A Phase III, Randomized, Multicenter, Double-B...   \n",
       "44741  Effect of Bronchoscopy on the Outcome of Patie...   \n",
       "75572  Effect of Bronchoscopy on the Outcome of Patie...   \n",
       "2905   Effect of Bronchoscopy on the Outcome of Patie...   \n",
       "73332  A Phase 3, 12-week, Randomized, Double-blind P...   \n",
       "46978  A Phase 3, 12-week, Randomized, Double-blind P...   \n",
       "33567  A Phase III Multi-Center, Randomized, Double-B...   \n",
       "20171  A Phase III Multi-Center, Randomized, Double-B...   \n",
       "15822  A Phase 3 Randomized, Double Blind, 12 Week Ve...   \n",
       "72025  A Phase 3 Randomized, Double Blind, 12 Week Ve...   \n",
       "34082  A Multi-Center, Double-Blind, Randomized, Vehi...   \n",
       "69914  A Multi-Center, Double-Blind, Randomized, Vehi...   \n",
       "25832  Multicenter, Randomized, And Double-Blind Stud...   \n",
       "61675  Multicenter, Randomized, And Double-Blind Stud...   \n",
       "8070   A Randomized, Double-blind, Placebo-controlled...   \n",
       "44040  A Randomized, Double-blind, Placebo-controlled...   \n",
       "57075  A Randomized, Multi-Center, Double-Blind, Vehi...   \n",
       "23549  A Randomized, Multi-Center, Double-Blind, Vehi...   \n",
       "\n",
       "                                           Brief Summary  Start Date  \\\n",
       "2648   The objectives of this study are to evaluate t...     2013-08   \n",
       "71430  The objectives of this study are to evaluate t...     2013-08   \n",
       "3538   This study will compare the efficacy and safet...     2015-12   \n",
       "49258  This study will compare the efficacy and safet...     2015-12   \n",
       "53348  The purpose of this study is to evaluate the e...     2012-10   \n",
       "23595  The purpose of this study is to evaluate the e...     2012-10   \n",
       "44741  to evaluate the effect of use of bronchoscopy ...  2020-07-02   \n",
       "75572  to evaluate the effect of use of bronchoscopy ...  2020-07-02   \n",
       "2905   to evaluate the effect of use of bronchoscopy ...  2020-07-02   \n",
       "73332  The purpose of this study is to measure the ef...     2015-09   \n",
       "46978  The purpose of this study is to measure the ef...     2015-09   \n",
       "33567  This study will investigate the efficacy of es...     2011-08   \n",
       "20171  This study will investigate the efficacy of es...     2011-08   \n",
       "15822  The purpose of this study is to demonstrate th...     2011-12   \n",
       "72025  The purpose of this study is to demonstrate th...     2011-12   \n",
       "34082  The purpose of this study is to evaluate the s...     2012-06   \n",
       "69914  The purpose of this study is to evaluate the s...     2012-06   \n",
       "25832  The main purpose of this study is to compare t...     2011-01   \n",
       "61675  The main purpose of this study is to compare t...     2011-01   \n",
       "8070   The purpose of this study is to evaluate the s...     2013-10   \n",
       "44040  The purpose of this study is to evaluate the s...     2013-10   \n",
       "57075  The purpose of this study is to determine if a...     2011-07   \n",
       "23549  The purpose of this study is to determine if a...     2011-07   \n",
       "\n",
       "      Completion Date  \n",
       "2648          2016-12  \n",
       "71430         2016-12  \n",
       "3538          2016-07  \n",
       "49258         2016-07  \n",
       "53348         2014-08  \n",
       "23595         2014-08  \n",
       "44741      2021-12-01  \n",
       "75572      2021-12-01  \n",
       "2905       2021-12-01  \n",
       "73332         2016-09  \n",
       "46978         2016-09  \n",
       "33567         2011-10  \n",
       "20171         2011-10  \n",
       "15822         2013-08  \n",
       "72025         2013-08  \n",
       "34082         2013-05  \n",
       "69914         2013-05  \n",
       "25832         2014-05  \n",
       "61675         2014-05  \n",
       "8070          2017-01  \n",
       "44040         2017-01  \n",
       "57075         2012-03  \n",
       "23549         2012-03  "
      ]
     },
     "metadata": {},
     "output_type": "display_data"
    },
    {
     "data": {
      "text/plain": [
       "(79204, 31)"
      ]
     },
     "metadata": {},
     "output_type": "display_data"
    }
   ],
   "source": [
    "display(df.duplicated().value_counts())  \n",
    "\n",
    "display(df.describe(include = ['object'])[[\n",
    "    \"nct_id\", 'Study Status', 'Phases', \"Study Title\", \"official_title\", 'Start Date', 'Completion Date'\n",
    "    ]])\n",
    "display(df[df.duplicated(subset = [\n",
    "    'Study Status', 'Phases', \"Study Title\", 'official_title', 'Brief Summary', 'Start Date', 'Completion Date'\n",
    "    ], keep = False)][[\n",
    "        'Study Status', 'Phases', \"Study Title\", 'official_title', 'Brief Summary', 'Start Date', 'Completion Date'\n",
    "        ]].sort_values(by = \"Study Title\"))  \n",
    "\n",
    "df = df.drop_duplicates(subset = [\n",
    "    'Study Status', 'Phases', \"Study Title\", 'official_title', 'Brief Summary', 'Start Date', 'Completion Date'\n",
    "    ], keep = 'first').reset_index(drop = True)\n",
    "\n",
    "display(df.shape)"
   ]
  },
  {
   "cell_type": "markdown",
   "metadata": {},
   "source": [
    "# Columns Format Dtypes"
   ]
  },
  {
   "cell_type": "markdown",
   "metadata": {},
   "source": [
    "## Phases_List\n",
    "- 5 phases and NA: \n",
    "1. Early Phase 1 (Phase 0) --> Not used. Out of this studies purpose\n",
    "2. Phase 1, \n",
    "3. Phase 2, \n",
    "4. Phase 3,  \n",
    "5. Phase 4. \n",
    "6. Not Applicable --> without FDA-defined phases. Regards devices, behavioral trials etc. . --> Not used. Out of this studies purpose\n",
    "\n"
   ]
  },
  {
   "cell_type": "code",
   "execution_count": 232,
   "metadata": {},
   "outputs": [
    {
     "data": {
      "application/vnd.microsoft.datawrangler.viewer.v0+json": {
       "columns": [
        {
         "name": "Phases_List",
         "rawType": "object",
         "type": "string"
        },
        {
         "name": "count",
         "rawType": "int64",
         "type": "integer"
        }
       ],
       "ref": "467f24de-f6a0-4895-ac30-e2cb175c683c",
       "rows": [
        [
         "PHASE1",
         "22233"
        ],
        [
         "PHASE2",
         "21415"
        ],
        [
         "PHASE3",
         "14090"
        ],
        [
         "PHASE4",
         "13352"
        ],
        [
         "PHASE1|PHASE2",
         "5563"
        ],
        [
         "PHASE2|PHASE3",
         "2551"
        ]
       ],
       "shape": {
        "columns": 1,
        "rows": 6
       }
      },
      "text/plain": [
       "Phases_List\n",
       "PHASE1           22233\n",
       "PHASE2           21415\n",
       "PHASE3           14090\n",
       "PHASE4           13352\n",
       "PHASE1|PHASE2     5563\n",
       "PHASE2|PHASE3     2551\n",
       "Name: count, dtype: int64"
      ]
     },
     "metadata": {},
     "output_type": "display_data"
    },
    {
     "data": {
      "text/plain": [
       "(79204, 31)"
      ]
     },
     "metadata": {},
     "output_type": "display_data"
    },
    {
     "data": {
      "application/vnd.microsoft.datawrangler.viewer.v0+json": {
       "columns": [
        {
         "name": "Phases_List",
         "rawType": "object",
         "type": "string"
        },
        {
         "name": "count",
         "rawType": "int64",
         "type": "integer"
        }
       ],
       "ref": "21ff7126-182a-49a1-88d9-a81fac937ecf",
       "rows": [
        [
         "PHASE1",
         "22233"
        ],
        [
         "PHASE2",
         "21415"
        ],
        [
         "PHASE3",
         "14090"
        ],
        [
         "PHASE4",
         "13352"
        ]
       ],
       "shape": {
        "columns": 1,
        "rows": 4
       }
      },
      "text/plain": [
       "Phases_List\n",
       "PHASE1    22233\n",
       "PHASE2    21415\n",
       "PHASE3    14090\n",
       "PHASE4    13352\n",
       "Name: count, dtype: int64"
      ]
     },
     "metadata": {},
     "output_type": "display_data"
    },
    {
     "data": {
      "text/plain": [
       "(71090, 31)"
      ]
     },
     "metadata": {},
     "output_type": "display_data"
    }
   ],
   "source": [
    "df = df.rename(columns = {'Phases':'Phases_List'})\n",
    "display(df[\"Phases_List\"].value_counts(dropna=False))  \n",
    "display(df.shape)\n",
    "\n",
    "# df[\"Phases_List\"] = df[\"Phases_List\"].str.split( \"|\" ) \n",
    "# No apply sort(list(x)) needed here - No duplicated elements with diff list-elem order\n",
    "df = df[(df['Phases_List'] != 'PHASE1|PHASE2') & (df['Phases_List'] != 'PHASE2|PHASE3') ]\n",
    "display(df['Phases_List'].value_counts(dropna = False))\n",
    "display(df.shape)"
   ]
  },
  {
   "cell_type": "markdown",
   "metadata": {},
   "source": [
    "## Study_Status_Bin\n",
    "Information Source: https://clinicaltrials.gov/policy/protocol-definitions#study-status\n",
    "\n",
    "\n",
    "- Withdrawn Studies = Permenantely Stopped as Noted in Data Source. Withdrawn is Replaced as Terminated. "
   ]
  },
  {
   "cell_type": "code",
   "execution_count": 233,
   "metadata": {},
   "outputs": [
    {
     "data": {
      "application/vnd.microsoft.datawrangler.viewer.v0+json": {
       "columns": [
        {
         "name": "Study_Status_Bin",
         "rawType": "category",
         "type": "unknown"
        },
        {
         "name": "count",
         "rawType": "int64",
         "type": "integer"
        }
       ],
       "ref": "f579c46c-cbb6-4485-9aed-5e4a61c81a1f",
       "rows": [
        [
         "COMPLETED",
         "57584"
        ],
        [
         "TERMINATED",
         "13506"
        ]
       ],
       "shape": {
        "columns": 1,
        "rows": 2
       }
      },
      "text/plain": [
       "Study_Status_Bin\n",
       "COMPLETED     57584\n",
       "TERMINATED    13506\n",
       "Name: count, dtype: int64"
      ]
     },
     "metadata": {},
     "output_type": "display_data"
    },
    {
     "data": {
      "text/plain": [
       "(71090, 31)"
      ]
     },
     "metadata": {},
     "output_type": "display_data"
    }
   ],
   "source": [
    "df = df.rename(columns={\"Study Status\": \"Study_Status_Bin\"})\n",
    "df['Study_Status_Bin'] = df['Study_Status_Bin'].replace({\"WITHDRAWN\": \"TERMINATED\"})\n",
    "# df = df[df['Study_Status_Bin'] != 'WITHDRAWN']\n",
    "df[\"Study_Status_Bin\"] = df[\"Study_Status_Bin\"].astype(\"category\")\n",
    "display(df['Study_Status_Bin'].value_counts(dropna=False)) \n",
    "display(df.shape)"
   ]
  },
  {
   "cell_type": "markdown",
   "metadata": {},
   "source": [
    "## Age_List\n",
    "- Directly from csv - Structured format\n",
    "- No NaNs"
   ]
  },
  {
   "cell_type": "code",
   "execution_count": 234,
   "metadata": {},
   "outputs": [
    {
     "data": {
      "application/vnd.microsoft.datawrangler.viewer.v0+json": {
       "columns": [
        {
         "name": "Age",
         "rawType": "object",
         "type": "string"
        },
        {
         "name": "count",
         "rawType": "int64",
         "type": "integer"
        }
       ],
       "ref": "d7e4430e-077e-4a35-bfdf-4318f9768237",
       "rows": [
        [
         "ADULT, OLDER_ADULT",
         "47461"
        ],
        [
         "ADULT",
         "14091"
        ],
        [
         "CHILD",
         "3576"
        ],
        [
         "CHILD, ADULT, OLDER_ADULT",
         "3408"
        ],
        [
         "CHILD, ADULT",
         "1983"
        ],
        [
         "OLDER_ADULT",
         "571"
        ]
       ],
       "shape": {
        "columns": 1,
        "rows": 6
       }
      },
      "text/plain": [
       "Age\n",
       "ADULT, OLDER_ADULT           47461\n",
       "ADULT                        14091\n",
       "CHILD                         3576\n",
       "CHILD, ADULT, OLDER_ADULT     3408\n",
       "CHILD, ADULT                  1983\n",
       "OLDER_ADULT                    571\n",
       "Name: count, dtype: int64"
      ]
     },
     "metadata": {},
     "output_type": "display_data"
    },
    {
     "data": {
      "application/vnd.microsoft.datawrangler.viewer.v0+json": {
       "columns": [
        {
         "name": "Age_List",
         "rawType": "object",
         "type": "unknown"
        },
        {
         "name": "count",
         "rawType": "int64",
         "type": "integer"
        }
       ],
       "ref": "84d4b3b4-cf71-453f-a701-20dd87c019e5",
       "rows": [
        [
         "['ADULT', 'OLDER_ADULT']",
         "47461"
        ],
        [
         "['ADULT']",
         "14091"
        ],
        [
         "['CHILD']",
         "3576"
        ],
        [
         "['CHILD', 'ADULT', 'OLDER_ADULT']",
         "3408"
        ],
        [
         "['CHILD', 'ADULT']",
         "1983"
        ],
        [
         "['OLDER_ADULT']",
         "571"
        ]
       ],
       "shape": {
        "columns": 1,
        "rows": 6
       }
      },
      "text/plain": [
       "Age_List\n",
       "[ADULT, OLDER_ADULT]           47461\n",
       "[ADULT]                        14091\n",
       "[CHILD]                         3576\n",
       "[CHILD, ADULT, OLDER_ADULT]     3408\n",
       "[CHILD, ADULT]                  1983\n",
       "[OLDER_ADULT]                    571\n",
       "Name: count, dtype: int64"
      ]
     },
     "metadata": {},
     "output_type": "display_data"
    }
   ],
   "source": [
    "display(df[\"Age\"].value_counts(dropna=False))  \n",
    " \n",
    "df[\"Age\"] = df[\"Age\"].str.replace(', ', ',').str.split(\",\")   # No apply sort(list(x)) needed here - No duplicated elements with diff list-elem order\n",
    "\n",
    "# display(Counter([elem for row_list in df[\"Age\"].dropna() for elem in row_list]))  \n",
    "# display(set(elem for row_list in df[\"Age\"].dropna() for elem in row_list)) # Unique values in list-type element column\n",
    "\n",
    "df = df.rename(columns = {\"Age\": \"Age_List\"})\n",
    "\n",
    "display(df[\"Age_List\"].value_counts(dropna = False))  \n"
   ]
  },
  {
   "cell_type": "markdown",
   "metadata": {},
   "source": [
    "## Sex_List"
   ]
  },
  {
   "cell_type": "code",
   "execution_count": 235,
   "metadata": {},
   "outputs": [
    {
     "data": {
      "application/vnd.microsoft.datawrangler.viewer.v0+json": {
       "columns": [
        {
         "name": "Sex_List",
         "rawType": "object",
         "type": "unknown"
        },
        {
         "name": "count",
         "rawType": "int64",
         "type": "integer"
        }
       ],
       "ref": "4093c67b-d0e0-45b9-ab3c-f25db43047b3",
       "rows": [
        [
         "ALL",
         "61022"
        ],
        [
         "FEMALE",
         "5312"
        ],
        [
         "MALE",
         "4729"
        ],
        [
         null,
         "27"
        ]
       ],
       "shape": {
        "columns": 1,
        "rows": 4
       }
      },
      "text/plain": [
       "Sex_List\n",
       "ALL       61022\n",
       "FEMALE     5312\n",
       "MALE       4729\n",
       "NaN          27\n",
       "Name: count, dtype: int64"
      ]
     },
     "metadata": {},
     "output_type": "display_data"
    },
    {
     "data": {
      "text/plain": [
       "27"
      ]
     },
     "execution_count": 235,
     "metadata": {},
     "output_type": "execute_result"
    }
   ],
   "source": [
    "df = df.rename(columns = {\"Sex\": \"Sex_List\"})\n",
    "\n",
    "display(df[\"Sex_List\"].value_counts(dropna=False))  \n",
    "\n",
    "# Fillna from my_eligibilities df\n",
    "df = df.merge(my_eligibilities[[\"nct_id\", \"gender\"]], on = \"nct_id\", how = \"left\")\n",
    "df['Sex_List'] = df['Sex_List'].fillna(df['gender'])\n",
    "\n",
    "# Drop db column\n",
    "df = df.drop(columns = ['gender'])\n",
    "\n",
    "df[\"Sex_List\"].isnull().sum()  # Just 1 row/point filled\n"
   ]
  },
  {
   "cell_type": "markdown",
   "metadata": {},
   "source": [
    "### NaNs --> Drop\n",
    "- Fillna from Brief Summary\n",
    "- Remaining nulls --> Dropped as they were too little comparing to dataset"
   ]
  },
  {
   "cell_type": "code",
   "execution_count": 236,
   "metadata": {},
   "outputs": [
    {
     "data": {
      "text/plain": [
       "24"
      ]
     },
     "metadata": {},
     "output_type": "display_data"
    },
    {
     "data": {
      "text/plain": [
       "0"
      ]
     },
     "metadata": {},
     "output_type": "display_data"
    }
   ],
   "source": [
    "# Fillna from Biref Summary\n",
    "# male + female\n",
    "df.loc[ df[\"Sex_List\"].isnull() & df[\"Brief Summary\"].str.contains(r\"(?i)\\bmale\\b|\\bmen\\b\", na=False) & \\\n",
    "       df[\"Brief Summary\"].str.contains(r\"(?i)\\bfemale\\b|\\bwomen\\b\", na=False), \"Sex_List\"] = \"ALL\"\n",
    "# only female\n",
    "df.loc[ df[\"Sex_List\"].isnull() & df[\"Brief Summary\"].str.contains(r\"(?i)\\bfemale\\b|\\bwomen\\b\", na=False) & \\\n",
    "    ~ df[\"Brief Summary\"].str.contains(r\"(?i)\\bmale\\b|\\bmen\\b\", na=False), \"Sex_List\"] = \"FEMALE\"\n",
    "# only male\n",
    "df.loc[ df[\"Sex_List\"].isnull() & df[\"Brief Summary\"].str.contains(r\"(?i)\\bmale\\b|\\bmen\\b\", na=False) & \\\n",
    "       ~ df[\"Brief Summary\"].str.contains(r\"(?i)\\bfemale\\b|\\bwomen\\b\", na=False), \"Sex_List\"] = \"MALE\"\n",
    "\n",
    "display(df[\"Sex_List\"].isnull().sum()) # too little rows were filled from Brief Summary\n",
    "# NaNs --> Drop\n",
    "df = df.dropna(subset=['Sex_List'])\n",
    "display(df[\"Sex_List\"].isnull().sum())\n",
    "\n"
   ]
  },
  {
   "cell_type": "markdown",
   "metadata": {},
   "source": [
    "## Funder_Industry_Bin\n",
    "- Directly from csv - Structured format\n",
    "- No NaNs\n",
    "\n",
    "PRS Source: https://register.clinicaltrials.gov/prs/html/account-organizations.html#page-top\n",
    "Companies Source : https://companiesmarketcap.com/pharmaceuticals/largest-pharmaceutical-companies-by-market-cap/\n",
    "https://clinicaltrials.gov/study-basics/glossary\n",
    "\n",
    "ClinicalTrials.gov Documentation:\n",
    "1. U.S. National Institutes of Health\n",
    "2. Other U.S. Federal agencies (e.g., FDA, Centers for Disease Control and Prevention, or U.S. Department of Veterans Affairs)\n",
    "3. Industry (for example: pharmaceutical and device companies)\n",
    "4. All others (including individuals, universities, and community-based organizations)\n",
    "\n",
    "- Almost all Industry rows = Pharmaceutical"
   ]
  },
  {
   "cell_type": "code",
   "execution_count": 237,
   "metadata": {},
   "outputs": [
    {
     "data": {
      "application/vnd.microsoft.datawrangler.viewer.v0+json": {
       "columns": [
        {
         "name": "Funder_Industry_Bin",
         "rawType": "object",
         "type": "string"
        },
        {
         "name": "count",
         "rawType": "int64",
         "type": "integer"
        }
       ],
       "ref": "db1d1a2d-98c7-4b5e-9a7b-88260473ca40",
       "rows": [
        [
         "INDUSTRY",
         "36515"
        ],
        [
         "OTHER",
         "31578"
        ],
        [
         "NIH",
         "1098"
        ],
        [
         "OTHER_GOV",
         "931"
        ],
        [
         "NETWORK",
         "489"
        ],
        [
         "FED",
         "355"
        ],
        [
         "INDIV",
         "93"
        ],
        [
         "UNKNOWN",
         "7"
        ]
       ],
       "shape": {
        "columns": 1,
        "rows": 8
       }
      },
      "text/plain": [
       "Funder_Industry_Bin\n",
       "INDUSTRY     36515\n",
       "OTHER        31578\n",
       "NIH           1098\n",
       "OTHER_GOV      931\n",
       "NETWORK        489\n",
       "FED            355\n",
       "INDIV           93\n",
       "UNKNOWN          7\n",
       "Name: count, dtype: int64"
      ]
     },
     "metadata": {},
     "output_type": "display_data"
    },
    {
     "data": {
      "application/vnd.microsoft.datawrangler.viewer.v0+json": {
       "columns": [
        {
         "name": "Funder_Industry_Bin",
         "rawType": "object",
         "type": "string"
        },
        {
         "name": "count",
         "rawType": "int64",
         "type": "integer"
        }
       ],
       "ref": "3cb92f06-8c95-4277-8962-ef2f539cdf06",
       "rows": [
        [
         "INDUSTRY",
         "36515"
        ],
        [
         "FUNDER_OTHER",
         "34551"
        ]
       ],
       "shape": {
        "columns": 1,
        "rows": 2
       }
      },
      "text/plain": [
       "Funder_Industry_Bin\n",
       "INDUSTRY        36515\n",
       "FUNDER_OTHER    34551\n",
       "Name: count, dtype: int64"
      ]
     },
     "metadata": {},
     "output_type": "display_data"
    },
    {
     "data": {
      "text/plain": [
       "(71066, 31)"
      ]
     },
     "metadata": {},
     "output_type": "display_data"
    }
   ],
   "source": [
    "df = df.rename(columns = {\"Funder Type\": \"Funder_Industry_Bin\"})\n",
    "display(df[\"Funder_Industry_Bin\"].value_counts(dropna = False))  \n",
    "\n",
    "# Merging Categories into more general \n",
    "# Some categories have too little samples (e.g., Thesis Vizual File)\n",
    "funder_map = {\n",
    "    'OTHER': 'FUNDER_OTHER',\n",
    "    'NETWORK': 'FUNDER_OTHER', \n",
    "    'INDIV': 'FUNDER_OTHER',\n",
    "    'UNKNOWN': 'FUNDER_OTHER',\n",
    "    'AMBIG': 'FUNDER_OTHER',\n",
    "    'INDUSTRY': 'INDUSTRY',\n",
    "    'OTHER_GOV': 'FUNDER_OTHER',  # at great risk of sparsity even if combined with FED and NIH\n",
    "    'FED': 'FUNDER_OTHER',\n",
    "    'NIH': 'FUNDER_OTHER'\n",
    "}\n",
    "df['Funder_Industry_Bin'] = df['Funder_Industry_Bin'].map(funder_map)\n",
    "\n",
    "display(df[\"Funder_Industry_Bin\"].value_counts(dropna=False))  \n",
    "display(df.shape)"
   ]
  },
  {
   "cell_type": "markdown",
   "metadata": {},
   "source": [
    "## Datetime\n",
    "- Source Date input : Filter dates have the format of mm/dd/yyyy. \n",
    "- Dates Displayed in Outputs (after filtering choices menu) have the Format of yyyy-mm-dd (or at least yyyy-mm).\n",
    "- All Datetimes converted to same format : Year-Month is Chosen as Many Dates Include only until Month.\n"
   ]
  },
  {
   "cell_type": "code",
   "execution_count": 238,
   "metadata": {},
   "outputs": [
    {
     "data": {
      "application/vnd.microsoft.datawrangler.viewer.v0+json": {
       "columns": [
        {
         "name": "('Start Date', 'Completion Date')",
         "rawType": "object",
         "type": "unknown"
        },
        {
         "name": "count",
         "rawType": "int64",
         "type": "integer"
        }
       ],
       "ref": "c54d69bc-6414-42be-8c86-01cd994d026d",
       "rows": [
        [
         "(10, 10)",
         "42745"
        ],
        [
         "(7, 7)",
         "24370"
        ],
        [
         "(7, 10)",
         "3444"
        ],
        [
         "(10, 7)",
         "507"
        ]
       ],
       "shape": {
        "columns": 1,
        "rows": 4
       }
      },
      "text/plain": [
       "Start Date  Completion Date\n",
       "10          10                 42745\n",
       "7           7                  24370\n",
       "            10                  3444\n",
       "10          7                    507\n",
       "Name: count, dtype: int64"
      ]
     },
     "metadata": {},
     "output_type": "display_data"
    },
    {
     "data": {
      "application/vnd.microsoft.datawrangler.viewer.v0+json": {
       "columns": [
        {
         "name": "index",
         "rawType": "int64",
         "type": "integer"
        },
        {
         "name": "Start Date",
         "rawType": "period[M]",
         "type": "unknown"
        },
        {
         "name": "Completion Date",
         "rawType": "period[M]",
         "type": "unknown"
        }
       ],
       "ref": "dcf36177-13c6-43a4-b5a1-096099f059a2",
       "rows": [
        [
         "0",
         "2014-06",
         "2014-08"
        ],
        [
         "1",
         "2013-01",
         "2013-10"
        ]
       ],
       "shape": {
        "columns": 2,
        "rows": 2
       }
      },
      "text/html": [
       "<div>\n",
       "<style scoped>\n",
       "    .dataframe tbody tr th:only-of-type {\n",
       "        vertical-align: middle;\n",
       "    }\n",
       "\n",
       "    .dataframe tbody tr th {\n",
       "        vertical-align: top;\n",
       "    }\n",
       "\n",
       "    .dataframe thead th {\n",
       "        text-align: right;\n",
       "    }\n",
       "</style>\n",
       "<table border=\"1\" class=\"dataframe\">\n",
       "  <thead>\n",
       "    <tr style=\"text-align: right;\">\n",
       "      <th></th>\n",
       "      <th>Start Date</th>\n",
       "      <th>Completion Date</th>\n",
       "    </tr>\n",
       "  </thead>\n",
       "  <tbody>\n",
       "    <tr>\n",
       "      <th>0</th>\n",
       "      <td>2014-06</td>\n",
       "      <td>2014-08</td>\n",
       "    </tr>\n",
       "    <tr>\n",
       "      <th>1</th>\n",
       "      <td>2013-01</td>\n",
       "      <td>2013-10</td>\n",
       "    </tr>\n",
       "  </tbody>\n",
       "</table>\n",
       "</div>"
      ],
      "text/plain": [
       "  Start Date Completion Date\n",
       "0    2014-06         2014-08\n",
       "1    2013-01         2013-10"
      ]
     },
     "metadata": {},
     "output_type": "display_data"
    }
   ],
   "source": [
    "# Dates are in yyyy-mm-dd (len=10) and yyyy-mm (len=7) format\n",
    "display(df[[\"Start Date\",\"Completion Date\"]].map(len, na_action = 'ignore').value_counts()) \n",
    "# display(df[[\"Start Date\",\"Completion Date\"]].map(len, na_action = 'ignore').nunique()) \n",
    "\n",
    "df[[\"Start Date\",\"Completion Date\"]] = df[[\"Start Date\",\"Completion Date\"]]\\\n",
    "    .apply(pd.to_datetime, format='%Y-%m', exact=False, errors='coerce')\n",
    "\n",
    "df[[\"Start Date\",\"Completion Date\"]] = df[[\"Start Date\",\"Completion Date\"]]\\\n",
    "    .apply(lambda col: col.dt.to_period('M'))\n",
    "\n",
    "display(df[[\"Start Date\",\"Completion Date\"]].head(2))"
   ]
  },
  {
   "cell_type": "markdown",
   "metadata": {},
   "source": [
    "### Datetime_Year"
   ]
  },
  {
   "cell_type": "code",
   "execution_count": 239,
   "metadata": {},
   "outputs": [
    {
     "data": {
      "application/vnd.microsoft.datawrangler.viewer.v0+json": {
       "columns": [
        {
         "name": "index",
         "rawType": "int64",
         "type": "integer"
        },
        {
         "name": "Start_Date_Year_Counts",
         "rawType": "Int64",
         "type": "integer"
        },
        {
         "name": "Completion_Date_Year_Counts",
         "rawType": "Int64",
         "type": "integer"
        }
       ],
       "ref": "00a76309-5eca-4afc-914b-269d1a784050",
       "rows": [
        [
         "0",
         "2014",
         "2014"
        ],
        [
         "1",
         "2013",
         "2013"
        ],
        [
         "2",
         "2022",
         "2023"
        ],
        [
         "3",
         "2019",
         "2021"
        ],
        [
         "4",
         "2019",
         "2021"
        ],
        [
         "5",
         "2015",
         "2016"
        ],
        [
         "6",
         "2013",
         "2013"
        ],
        [
         "7",
         "2022",
         "2023"
        ],
        [
         "8",
         "2017",
         "2020"
        ],
        [
         "9",
         "2016",
         "2016"
        ],
        [
         "10",
         "2011",
         "2012"
        ],
        [
         "11",
         "2011",
         "2012"
        ],
        [
         "12",
         "2017",
         "2022"
        ],
        [
         "13",
         "2022",
         "2023"
        ],
        [
         "14",
         "2017",
         "2018"
        ],
        [
         "15",
         "2016",
         "2020"
        ],
        [
         "16",
         "2014",
         "2015"
        ],
        [
         "17",
         "2018",
         "2019"
        ],
        [
         "18",
         "2022",
         "2023"
        ],
        [
         "19",
         "2015",
         "2016"
        ],
        [
         "20",
         "2022",
         "2022"
        ],
        [
         "21",
         "2015",
         "2017"
        ],
        [
         "22",
         "2018",
         "2019"
        ],
        [
         "23",
         "2023",
         "2024"
        ],
        [
         "24",
         "2022",
         "2023"
        ],
        [
         "25",
         "2019",
         "2020"
        ],
        [
         "26",
         "2012",
         "2014"
        ],
        [
         "27",
         "2016",
         "2018"
        ],
        [
         "28",
         "2011",
         "2018"
        ],
        [
         "29",
         "2014",
         "2017"
        ],
        [
         "30",
         "2021",
         "2022"
        ],
        [
         "31",
         "2012",
         "2013"
        ],
        [
         "32",
         "2016",
         "2017"
        ],
        [
         "33",
         "2018",
         "2021"
        ],
        [
         "34",
         "2011",
         "2013"
        ],
        [
         "35",
         "2011",
         "2015"
        ],
        [
         "36",
         "2011",
         "2016"
        ],
        [
         "37",
         "2017",
         "2023"
        ],
        [
         "38",
         "2011",
         "2013"
        ],
        [
         "39",
         "2012",
         "2015"
        ],
        [
         "40",
         "2022",
         "2024"
        ],
        [
         "41",
         "2015",
         "2016"
        ],
        [
         "42",
         "2013",
         "2013"
        ],
        [
         "43",
         "2017",
         "2019"
        ],
        [
         "44",
         "2015",
         "2015"
        ],
        [
         "45",
         "2016",
         "2017"
        ],
        [
         "46",
         "2011",
         "2013"
        ],
        [
         "47",
         "2017",
         "2017"
        ],
        [
         "48",
         "2019",
         "2021"
        ],
        [
         "49",
         "2022",
         "2022"
        ]
       ],
       "shape": {
        "columns": 2,
        "rows": 71066
       }
      },
      "text/html": [
       "<div>\n",
       "<style scoped>\n",
       "    .dataframe tbody tr th:only-of-type {\n",
       "        vertical-align: middle;\n",
       "    }\n",
       "\n",
       "    .dataframe tbody tr th {\n",
       "        vertical-align: top;\n",
       "    }\n",
       "\n",
       "    .dataframe thead th {\n",
       "        text-align: right;\n",
       "    }\n",
       "</style>\n",
       "<table border=\"1\" class=\"dataframe\">\n",
       "  <thead>\n",
       "    <tr style=\"text-align: right;\">\n",
       "      <th></th>\n",
       "      <th>Start_Date_Year_Counts</th>\n",
       "      <th>Completion_Date_Year_Counts</th>\n",
       "    </tr>\n",
       "  </thead>\n",
       "  <tbody>\n",
       "    <tr>\n",
       "      <th>0</th>\n",
       "      <td>2014</td>\n",
       "      <td>2014</td>\n",
       "    </tr>\n",
       "    <tr>\n",
       "      <th>1</th>\n",
       "      <td>2013</td>\n",
       "      <td>2013</td>\n",
       "    </tr>\n",
       "    <tr>\n",
       "      <th>2</th>\n",
       "      <td>2022</td>\n",
       "      <td>2023</td>\n",
       "    </tr>\n",
       "    <tr>\n",
       "      <th>3</th>\n",
       "      <td>2019</td>\n",
       "      <td>2021</td>\n",
       "    </tr>\n",
       "    <tr>\n",
       "      <th>4</th>\n",
       "      <td>2019</td>\n",
       "      <td>2021</td>\n",
       "    </tr>\n",
       "    <tr>\n",
       "      <th>...</th>\n",
       "      <td>...</td>\n",
       "      <td>...</td>\n",
       "    </tr>\n",
       "    <tr>\n",
       "      <th>71085</th>\n",
       "      <td>2013</td>\n",
       "      <td>2017</td>\n",
       "    </tr>\n",
       "    <tr>\n",
       "      <th>71086</th>\n",
       "      <td>2014</td>\n",
       "      <td>2015</td>\n",
       "    </tr>\n",
       "    <tr>\n",
       "      <th>71087</th>\n",
       "      <td>2019</td>\n",
       "      <td>2019</td>\n",
       "    </tr>\n",
       "    <tr>\n",
       "      <th>71088</th>\n",
       "      <td>2016</td>\n",
       "      <td>2016</td>\n",
       "    </tr>\n",
       "    <tr>\n",
       "      <th>71089</th>\n",
       "      <td>2019</td>\n",
       "      <td>2020</td>\n",
       "    </tr>\n",
       "  </tbody>\n",
       "</table>\n",
       "<p>71066 rows × 2 columns</p>\n",
       "</div>"
      ],
      "text/plain": [
       "       Start_Date_Year_Counts  Completion_Date_Year_Counts\n",
       "0                        2014                         2014\n",
       "1                        2013                         2013\n",
       "2                        2022                         2023\n",
       "3                        2019                         2021\n",
       "4                        2019                         2021\n",
       "...                       ...                          ...\n",
       "71085                    2013                         2017\n",
       "71086                    2014                         2015\n",
       "71087                    2019                         2019\n",
       "71088                    2016                         2016\n",
       "71089                    2019                         2020\n",
       "\n",
       "[71066 rows x 2 columns]"
      ]
     },
     "metadata": {},
     "output_type": "display_data"
    }
   ],
   "source": [
    "df[[\"Start_Date_Year_Counts\", \"Completion_Date_Year_Counts\"]] = df[[\"Start Date\", \"Completion Date\"]]\\\n",
    "    .apply(lambda x: x.dt.year)\n",
    "\n",
    "df[\"Start_Date_Year_Counts\"] = pd.to_numeric(df[\"Start_Date_Year_Counts\"], errors=\"coerce\").astype(\"Int64\")\n",
    "df[\"Completion_Date_Year_Counts\"] = pd.to_numeric(df[\"Completion_Date_Year_Counts\"], errors=\"coerce\").astype(\"Int64\")\n",
    "\n",
    "display(df[[\"Start_Date_Year_Counts\",\"Completion_Date_Year_Counts\"]])\n"
   ]
  },
  {
   "cell_type": "markdown",
   "metadata": {},
   "source": [
    "### Completion_Gap"
   ]
  },
  {
   "cell_type": "code",
   "execution_count": 240,
   "metadata": {},
   "outputs": [
    {
     "data": {
      "application/vnd.microsoft.datawrangler.viewer.v0+json": {
       "columns": [
        {
         "name": "index",
         "rawType": "int64",
         "type": "integer"
        },
        {
         "name": "Completion_Gap_Counts",
         "rawType": "Int64",
         "type": "integer"
        }
       ],
       "ref": "434d6471-8062-4451-a9a3-2c27fe6619d2",
       "rows": [
        [
         "0",
         "2"
        ],
        [
         "1",
         "9"
        ]
       ],
       "shape": {
        "columns": 1,
        "rows": 2
       }
      },
      "text/html": [
       "<div>\n",
       "<style scoped>\n",
       "    .dataframe tbody tr th:only-of-type {\n",
       "        vertical-align: middle;\n",
       "    }\n",
       "\n",
       "    .dataframe tbody tr th {\n",
       "        vertical-align: top;\n",
       "    }\n",
       "\n",
       "    .dataframe thead th {\n",
       "        text-align: right;\n",
       "    }\n",
       "</style>\n",
       "<table border=\"1\" class=\"dataframe\">\n",
       "  <thead>\n",
       "    <tr style=\"text-align: right;\">\n",
       "      <th></th>\n",
       "      <th>Completion_Gap_Counts</th>\n",
       "    </tr>\n",
       "  </thead>\n",
       "  <tbody>\n",
       "    <tr>\n",
       "      <th>0</th>\n",
       "      <td>2</td>\n",
       "    </tr>\n",
       "    <tr>\n",
       "      <th>1</th>\n",
       "      <td>9</td>\n",
       "    </tr>\n",
       "  </tbody>\n",
       "</table>\n",
       "</div>"
      ],
      "text/plain": [
       "   Completion_Gap_Counts\n",
       "0                      2\n",
       "1                      9"
      ]
     },
     "metadata": {},
     "output_type": "display_data"
    }
   ],
   "source": [
    "df[\"Completion_Gap_Counts\"] = df[\"Completion Date\"] - df[\"Start Date\"]\n",
    "\n",
    "df[[\"Completion_Gap_Counts\"]] = df[[\"Completion_Gap_Counts\"]]\\\n",
    "    .apply(lambda col: col.astype('str').str.strip('< *MonthEnds>')\\\n",
    "           .replace(\"NaT\", np.NaN).replace(\"\", '0').astype('float'))\n",
    "\n",
    "df[[\"Completion_Gap_Counts\",]] = df[[\"Completion_Gap_Counts\"]].convert_dtypes(convert_integer = True)\n",
    "\n",
    "display(df[[\"Completion_Gap_Counts\"]].head(2))\n"
   ]
  },
  {
   "cell_type": "markdown",
   "metadata": {},
   "source": [
    "### Completion_Gap_Log"
   ]
  },
  {
   "cell_type": "code",
   "execution_count": 241,
   "metadata": {},
   "outputs": [],
   "source": [
    "df['Completion_Gap_Log'] = np.log1p(df[\"Completion_Gap_Counts\"]) "
   ]
  },
  {
   "cell_type": "markdown",
   "metadata": {},
   "source": [
    "## Intervention_Type_List\n",
    "\n",
    "Source: https://clinicaltrials.gov/policy/protocol-definitions#arms-groups-interventions\n",
    "\n",
    "ClinicalTrials.gov Documentation:\n",
    "Intervention Type:\n",
    "For each intervention studied in the clinical study, the general type of intervention.\n",
    "\n",
    "- Drug: Including placebo\n",
    "- Device: Including sham\n",
    "- Biological/Vaccine\n",
    "- Procedure/Surgery\n",
    "- Radiation\n",
    "- Behavioral: For example, psychotherapy, lifestyle counseling\n",
    "- Genetic: Including gene transfer, stem cell and recombinant DNA\n",
    "- Dietary Supplement: For example, vitamins, minerals\n",
    "- Combination Product: Combining a drug and device, a biological product and device; a drug and biological product; or a drug,   biological product, and device\n",
    "- Diagnostic Test: For example, imaging, in vitro\n",
    "- Other"
   ]
  },
  {
   "cell_type": "code",
   "execution_count": 242,
   "metadata": {},
   "outputs": [
    {
     "data": {
      "application/vnd.microsoft.datawrangler.viewer.v0+json": {
       "columns": [
        {
         "name": "Intervention_Type_List",
         "rawType": "object",
         "type": "unknown"
        },
        {
         "name": "count",
         "rawType": "int64",
         "type": "integer"
        }
       ],
       "ref": "11da78e8-2bc7-45fa-8f4b-c24523b9c4f7",
       "rows": [
        [
         "['DRUG']",
         "50119"
        ],
        [
         "['INTERV_OTHER']",
         "6699"
        ],
        [
         "['BIOLOGICAL']",
         "4910"
        ],
        [
         "['DEVICE']",
         "1334"
        ],
        [
         "['BIOLOGICAL', 'DRUG']",
         "1326"
        ],
        [
         "['DRUG', 'PROCEDURE']",
         "942"
        ],
        [
         "['DEVICE', 'DRUG']",
         "821"
        ],
        [
         "['PROCEDURE']",
         "716"
        ],
        [
         "['DIETARY_SUPPLEMENT']",
         "681"
        ],
        [
         "['BEHAVIORAL']",
         "607"
        ],
        [
         "['DRUG', 'RADIATION']",
         "509"
        ],
        [
         "['BEHAVIORAL', 'DRUG']",
         "377"
        ],
        [
         "['COMBINATION_PRODUCT']",
         "347"
        ],
        [
         "['DIETARY_SUPPLEMENT', 'DRUG']",
         "246"
        ],
        [
         "['RADIATION']",
         "191"
        ],
        [
         "['COMBINATION_PRODUCT', 'DRUG']",
         "117"
        ],
        [
         "['DRUG', 'PROCEDURE', 'RADIATION']",
         "116"
        ],
        [
         "['BIOLOGICAL', 'PROCEDURE']",
         "110"
        ],
        [
         "['DEVICE', 'PROCEDURE']",
         "102"
        ],
        [
         "['DIAGNOSTIC_TEST', 'DRUG']",
         "85"
        ],
        [
         "['DEVICE', 'DRUG', 'PROCEDURE']",
         "61"
        ],
        [
         "['BIOLOGICAL', 'DEVICE']",
         "58"
        ],
        [
         "['DIAGNOSTIC_TEST']",
         "57"
        ],
        [
         "['GENETIC']",
         "51"
        ],
        [
         "['BIOLOGICAL', 'DRUG', 'PROCEDURE']",
         "45"
        ],
        [
         "['BIOLOGICAL', 'DRUG', 'RADIATION']",
         "44"
        ],
        [
         "['DRUG', 'GENETIC']",
         "26"
        ],
        [
         "['BEHAVIORAL', 'DEVICE']",
         "25"
        ],
        [
         "['COMBINATION_PRODUCT', 'DEVICE']",
         "25"
        ],
        [
         "['BIOLOGICAL', 'RADIATION']",
         "22"
        ],
        [
         "['BEHAVIORAL', 'DIETARY_SUPPLEMENT']",
         "18"
        ],
        [
         "['PROCEDURE', 'RADIATION']",
         "16"
        ],
        [
         "['DIAGNOSTIC_TEST', 'DRUG', 'PROCEDURE']",
         "15"
        ],
        [
         "['BIOLOGICAL', 'COMBINATION_PRODUCT']",
         "14"
        ],
        [
         "['BEHAVIORAL', 'DEVICE', 'DRUG']",
         "13"
        ],
        [
         "['COMBINATION_PRODUCT', 'PROCEDURE']",
         "13"
        ],
        [
         "['BEHAVIORAL', 'DRUG', 'PROCEDURE']",
         "11"
        ],
        [
         "['BIOLOGICAL', 'DRUG', 'PROCEDURE', 'RADIATION']",
         "11"
        ],
        [
         "['BIOLOGICAL', 'DEVICE', 'DRUG']",
         "11"
        ],
        [
         "['BIOLOGICAL', 'DIETARY_SUPPLEMENT', 'DRUG']",
         "9"
        ],
        [
         "['BIOLOGICAL', 'DIETARY_SUPPLEMENT']",
         "9"
        ],
        [
         "['BEHAVIORAL', 'PROCEDURE']",
         "7"
        ],
        [
         "['COMBINATION_PRODUCT', 'DEVICE', 'DRUG']",
         "6"
        ],
        [
         "['DEVICE', 'DRUG', 'RADIATION']",
         "6"
        ],
        [
         "['BIOLOGICAL', 'PROCEDURE', 'RADIATION']",
         "6"
        ],
        [
         "['BEHAVIORAL', 'BIOLOGICAL']",
         "6"
        ],
        [
         "['BEHAVIORAL', 'DIETARY_SUPPLEMENT', 'DRUG']",
         "6"
        ],
        [
         "['DEVICE', 'DRUG', 'PROCEDURE', 'RADIATION']",
         "5"
        ],
        [
         "['BIOLOGICAL', 'DIAGNOSTIC_TEST']",
         "5"
        ],
        [
         "['BIOLOGICAL', 'DEVICE', 'DRUG', 'PROCEDURE']",
         "5"
        ]
       ],
       "shape": {
        "columns": 1,
        "rows": 106
       }
      },
      "text/plain": [
       "Intervention_Type_List\n",
       "[DRUG]                                               50119\n",
       "[INTERV_OTHER]                                        6699\n",
       "[BIOLOGICAL]                                          4910\n",
       "[DEVICE]                                              1334\n",
       "[BIOLOGICAL, DRUG]                                    1326\n",
       "                                                     ...  \n",
       "[COMBINATION_PRODUCT, DRUG, PROCEDURE, RADIATION]        1\n",
       "[BEHAVIORAL, DIETARY_SUPPLEMENT, PROCEDURE]              1\n",
       "[DEVICE, PROCEDURE, RADIATION]                           1\n",
       "[BEHAVIORAL, BIOLOGICAL, DRUG, PROCEDURE]                1\n",
       "[COMBINATION_PRODUCT, DIAGNOSTIC_TEST, PROCEDURE]        1\n",
       "Name: count, Length: 106, dtype: int64"
      ]
     },
     "metadata": {},
     "output_type": "display_data"
    },
    {
     "data": {
      "text/plain": [
       "Counter({'DRUG': 54988,\n",
       "         'INTERV_OTHER': 6699,\n",
       "         'BIOLOGICAL': 6614,\n",
       "         'DEVICE': 2506,\n",
       "         'PROCEDURE': 2211,\n",
       "         'BEHAVIORAL': 1097,\n",
       "         'DIETARY_SUPPLEMENT': 997,\n",
       "         'RADIATION': 957,\n",
       "         'COMBINATION_PRODUCT': 548,\n",
       "         'DIAGNOSTIC_TEST': 192,\n",
       "         'GENETIC': 90})"
      ]
     },
     "metadata": {},
     "output_type": "display_data"
    },
    {
     "data": {
      "text/plain": [
       "0"
      ]
     },
     "metadata": {},
     "output_type": "display_data"
    }
   ],
   "source": [
    "df = df.merge(my_interventions_types[[\"nct_id\", \"intervention_type\"]], on = \"nct_id\", how = \"left\")\n",
    "df = df.rename({\"intervention_type\" : \"Intervention_Type_List\"}, axis = 1)\n",
    "\n",
    "df['Intervention_Type_List'] = df['Intervention_Type_List'].apply(lambda x: ['INTERV_OTHER'] if 'OTHER' in x else x)\n",
    "\n",
    "display(df[\"Intervention_Type_List\"].value_counts(dropna=False))\n",
    "display(Counter([elem for row_list in df[\"Intervention_Type_List\"].dropna() for elem in row_list]))  \n",
    "display(df[\"Intervention_Type_List\"].isnull().sum())  # No Null Values"
   ]
  },
  {
   "cell_type": "markdown",
   "metadata": {},
   "source": [
    "### Merge"
   ]
  },
  {
   "cell_type": "code",
   "execution_count": 243,
   "metadata": {},
   "outputs": [
    {
     "data": {
      "text/plain": [
       "Counter({'DRUG': 54988,\n",
       "         'INTERV_OTHER': 6699,\n",
       "         'BIOLOGICAL': 6614,\n",
       "         'DEVICE': 2506,\n",
       "         'PROCEDURE': 2211,\n",
       "         'INTERV_UNSPES': 1787,\n",
       "         'BEHAVIORAL': 1097,\n",
       "         'DIETARY_SUPPLEMENT': 997})"
      ]
     },
     "metadata": {},
     "output_type": "display_data"
    }
   ],
   "source": [
    "cont_map = { \n",
    "    'COMBINATION_PRODUCT' : 'INTERV_UNSPES',\n",
    "    'DIAGNOSTIC_TEST' : 'INTERV_UNSPES',\n",
    "    'GENETIC' : 'INTERV_UNSPES', \n",
    "    'RADIATION' : 'INTERV_UNSPES'\n",
    "}\n",
    "\n",
    "df['Intervention_Type_List'] = df['Intervention_Type_List'].apply(lambda row: [cont_map.get(val, val) for val in row])\n",
    "display(Counter([elem for row_list in df[\"Intervention_Type_List\"] for elem in row_list]))"
   ]
  },
  {
   "cell_type": "markdown",
   "metadata": {},
   "source": [
    "## Intervention_Type_Counts"
   ]
  },
  {
   "cell_type": "code",
   "execution_count": 244,
   "metadata": {},
   "outputs": [
    {
     "data": {
      "application/vnd.microsoft.datawrangler.viewer.v0+json": {
       "columns": [
        {
         "name": "Intervention_Type_Counts",
         "rawType": "int64",
         "type": "integer"
        },
        {
         "name": "count",
         "rawType": "int64",
         "type": "integer"
        }
       ],
       "ref": "593d8860-9ee3-43d7-b24c-f52b1e934039",
       "rows": [
        [
         "1",
         "65712"
        ],
        [
         "2",
         "4913"
        ],
        [
         "3",
         "404"
        ],
        [
         "4",
         "36"
        ],
        [
         "5",
         "1"
        ]
       ],
       "shape": {
        "columns": 1,
        "rows": 5
       }
      },
      "text/plain": [
       "Intervention_Type_Counts\n",
       "1    65712\n",
       "2     4913\n",
       "3      404\n",
       "4       36\n",
       "5        1\n",
       "Name: count, dtype: int64"
      ]
     },
     "metadata": {},
     "output_type": "display_data"
    },
    {
     "data": {
      "text/plain": [
       "0"
      ]
     },
     "metadata": {},
     "output_type": "display_data"
    },
    {
     "data": {
      "text/plain": [
       "(71066, 37)"
      ]
     },
     "metadata": {},
     "output_type": "display_data"
    }
   ],
   "source": [
    "df[\"Intervention_Type_Counts\"] = df[\"Intervention_Type_List\"].apply(lambda x: len(x)) # no null in Intervention_Type_List\n",
    "display(df[\"Intervention_Type_Counts\"].value_counts(dropna=False))  \n",
    "display(df[\"Intervention_Type_Counts\"].isnull().sum())\n",
    "display(df.shape)"
   ]
  },
  {
   "cell_type": "markdown",
   "metadata": {},
   "source": [
    "## Intervention_Route_List"
   ]
  },
  {
   "cell_type": "code",
   "execution_count": 245,
   "metadata": {},
   "outputs": [],
   "source": [
    "with open(r\".\\thesis_data\\str_oral_injection_surgical_topical.pkl\", \"rb\") as f:\n",
    "    data = pickle.load(f)\n",
    "\n",
    "oral1 = data[\"oral1\"]\n",
    "oral2 = data[\"oral2\"]\n",
    "injection1 = data[\"injection1\"]\n",
    "injection2 = data[\"injection2\"]\n",
    "topical1 = data[\"topical1\"]\n",
    "surgical1 = data[\"surgical1\"]"
   ]
  },
  {
   "cell_type": "markdown",
   "metadata": {},
   "source": [
    "### NaNs --> Fillna text -> Other"
   ]
  },
  {
   "cell_type": "code",
   "execution_count": 246,
   "metadata": {},
   "outputs": [],
   "source": [
    "## Interventions column\n",
    "# Injection\n",
    "df.loc[df['Interventions'].str.contains(injection1, case = False, na = False), 'Injection'] = \"Injection\"\n",
    "df.loc[df['Interventions'].str.lower().str.lower().str.contains(injection2, case = True, na = False), 'Injection'] = \"Injection\"\n",
    "# Oral\n",
    "df.loc[df['Interventions'].str.contains(oral1, case = False, na = False), 'Oral'] = \"Oral\"\n",
    "df.loc[df['Interventions'].str.lower().str.lower().str.contains(oral2, case = True, na = False), 'Oral'] = \"Oral\"\n",
    "# Topical\n",
    "df.loc[df['Interventions'].str.contains(topical1, case = False, na = False), 'Topical'] = \"Topical\"\n",
    "# Surgical\n",
    "df.loc[df['Interventions'].str.contains(surgical1, case = False, na = False), 'Surgical'] = \"Surgical\"\n",
    "\n",
    "## Brief Summary Column \n",
    "# Injection\n",
    "df.loc[df['Brief Summary'].str.contains(injection1, case = False, na = False) & df['Injection'].isnull(),\n",
    "        'Injection'] = \"Injection\"\n",
    "df.loc[df['Brief Summary'].str.lower().str.lower().str.contains(injection2, case = True, na = False) & df['Injection'].isnull(),\n",
    "        'Injection'] = \"Injection\"\n",
    "# Oral\n",
    "df.loc[df['Brief Summary'].str.contains(oral1, case = False, na = False) & df['Oral'].isnull() , 'Oral'] = \"Oral\"\n",
    "df.loc[df['Brief Summary'].str.lower().str.lower().str.contains(oral2, case = True, na = False) & df['Oral'].isnull(),\n",
    "        'Oral'] = \"Oral\"\n",
    "# Topical\n",
    "df.loc[df['Brief Summary'].str.contains(topical1, case = False, na = False) & df['Topical'].isnull()\n",
    "       , 'Topical'] = \"Topical\"\n",
    "# Surgical\n",
    "df.loc[df['Brief Summary'].str.contains(surgical1, case = False, na = False) & df['Topical'].isnull(),\n",
    "        'Surgical'] = \"Surgical\"\n"
   ]
  },
  {
   "cell_type": "code",
   "execution_count": 247,
   "metadata": {},
   "outputs": [
    {
     "data": {
      "application/vnd.microsoft.datawrangler.viewer.v0+json": {
       "columns": [
        {
         "name": "Intervention_Route_List",
         "rawType": "object",
         "type": "unknown"
        },
        {
         "name": "count",
         "rawType": "int64",
         "type": "integer"
        }
       ],
       "ref": "6875cdff-fe83-4b9c-b472-708b3ed26db2",
       "rows": [
        [
         "[]",
         "25977"
        ],
        [
         "['Injection']",
         "16016"
        ],
        [
         "['Oral']",
         "7709"
        ],
        [
         "['Topical']",
         "5171"
        ],
        [
         "['Injection', 'Oral']",
         "3479"
        ],
        [
         "['Injection', 'Surgical']",
         "3323"
        ],
        [
         "['Surgical']",
         "3320"
        ],
        [
         "['Injection', 'Topical']",
         "2988"
        ],
        [
         "['Oral', 'Topical']",
         "877"
        ],
        [
         "['Injection', 'Oral', 'Topical']",
         "717"
        ],
        [
         "['Injection', 'Oral', 'Surgical']",
         "585"
        ],
        [
         "['Oral', 'Surgical']",
         "500"
        ],
        [
         "['Injection', 'Surgical', 'Topical']",
         "229"
        ],
        [
         "['Surgical', 'Topical']",
         "147"
        ],
        [
         "['Injection', 'Oral', 'Surgical', 'Topical']",
         "20"
        ],
        [
         "['Oral', 'Surgical', 'Topical']",
         "8"
        ]
       ],
       "shape": {
        "columns": 1,
        "rows": 16
       }
      },
      "text/plain": [
       "Intervention_Route_List\n",
       "[]                                      25977\n",
       "[Injection]                             16016\n",
       "[Oral]                                   7709\n",
       "[Topical]                                5171\n",
       "[Injection, Oral]                        3479\n",
       "[Injection, Surgical]                    3323\n",
       "[Surgical]                               3320\n",
       "[Injection, Topical]                     2988\n",
       "[Oral, Topical]                           877\n",
       "[Injection, Oral, Topical]                717\n",
       "[Injection, Oral, Surgical]               585\n",
       "[Oral, Surgical]                          500\n",
       "[Injection, Surgical, Topical]            229\n",
       "[Surgical, Topical]                       147\n",
       "[Injection, Oral, Surgical, Topical]       20\n",
       "[Oral, Surgical, Topical]                   8\n",
       "Name: count, dtype: int64"
      ]
     },
     "metadata": {},
     "output_type": "display_data"
    },
    {
     "data": {
      "text/plain": [
       "(71066, 42)"
      ]
     },
     "metadata": {},
     "output_type": "display_data"
    },
    {
     "data": {
      "application/vnd.microsoft.datawrangler.viewer.v0+json": {
       "columns": [
        {
         "name": "Intervention_Route_List",
         "rawType": "object",
         "type": "unknown"
        },
        {
         "name": "count",
         "rawType": "int64",
         "type": "integer"
        }
       ],
       "ref": "fc1abcef-301f-426c-8aa3-075b4a7b0ba5",
       "rows": [
        [
         "['Inter_Route_Other']",
         "25977"
        ],
        [
         "['Injection']",
         "16016"
        ],
        [
         "['Oral']",
         "7709"
        ],
        [
         "['Topical']",
         "5171"
        ],
        [
         "['Injection', 'Oral']",
         "3479"
        ],
        [
         "['Injection', 'Surgical']",
         "3323"
        ],
        [
         "['Surgical']",
         "3320"
        ],
        [
         "['Injection', 'Topical']",
         "2988"
        ],
        [
         "['Oral', 'Topical']",
         "877"
        ],
        [
         "['Injection', 'Oral', 'Topical']",
         "717"
        ],
        [
         "['Injection', 'Oral', 'Surgical']",
         "585"
        ],
        [
         "['Oral', 'Surgical']",
         "500"
        ],
        [
         "['Injection', 'Surgical', 'Topical']",
         "229"
        ],
        [
         "['Surgical', 'Topical']",
         "147"
        ],
        [
         "['Injection', 'Oral', 'Surgical', 'Topical']",
         "20"
        ],
        [
         "['Oral', 'Surgical', 'Topical']",
         "8"
        ]
       ],
       "shape": {
        "columns": 1,
        "rows": 16
       }
      },
      "text/plain": [
       "Intervention_Route_List\n",
       "[Inter_Route_Other]                     25977\n",
       "[Injection]                             16016\n",
       "[Oral]                                   7709\n",
       "[Topical]                                5171\n",
       "[Injection, Oral]                        3479\n",
       "[Injection, Surgical]                    3323\n",
       "[Surgical]                               3320\n",
       "[Injection, Topical]                     2988\n",
       "[Oral, Topical]                           877\n",
       "[Injection, Oral, Topical]                717\n",
       "[Injection, Oral, Surgical]               585\n",
       "[Oral, Surgical]                          500\n",
       "[Injection, Surgical, Topical]            229\n",
       "[Surgical, Topical]                       147\n",
       "[Injection, Oral, Surgical, Topical]       20\n",
       "[Oral, Surgical, Topical]                   8\n",
       "Name: count, dtype: int64"
      ]
     },
     "metadata": {},
     "output_type": "display_data"
    }
   ],
   "source": [
    "df = df.merge(my_intervention_methods[['nct_id', 'interv_method']], on = \"nct_id\", how = \"left\")\n",
    "df = df.rename({\"interv_method\" : \"Intervention_Route_List\"}, axis = 1)\n",
    "\n",
    "df[\"Intervention_Route_List\"] = df[['Injection', 'Oral', 'Topical', 'Surgical']].apply(lambda row: [val for val in row if pd.notna(val) and val != \"None\"], axis=1)\n",
    "df[\"Intervention_Route_List\"] = df['Intervention_Route_List'].apply(lambda x: sorted(set(x)))\n",
    "display(df['Intervention_Route_List'].value_counts(dropna = False))\n",
    "display(df.shape)\n",
    "\n",
    "# Fillna --> 'Other'\n",
    "cond = (df['Intervention_Route_List'].apply(lambda x: isinstance(x, list) and len(x) == 0))\n",
    "\n",
    "df.loc[cond, 'Intervention_Route_List'] = df.loc[cond, 'Intervention_Route_List'].apply(lambda x: ['Inter_Route_Other'])\n",
    "display(df['Intervention_Route_List'].value_counts(dropna = False))"
   ]
  },
  {
   "cell_type": "markdown",
   "metadata": {},
   "source": [
    "## Intervention_Route_Counts"
   ]
  },
  {
   "cell_type": "code",
   "execution_count": 248,
   "metadata": {},
   "outputs": [
    {
     "data": {
      "application/vnd.microsoft.datawrangler.viewer.v0+json": {
       "columns": [
        {
         "name": "Intervention_Route_Counts",
         "rawType": "int64",
         "type": "integer"
        },
        {
         "name": "count",
         "rawType": "int64",
         "type": "integer"
        }
       ],
       "ref": "93dfbd35-00d0-47e8-8437-7a658b0245ad",
       "rows": [
        [
         "1",
         "58193"
        ],
        [
         "2",
         "11314"
        ],
        [
         "3",
         "1539"
        ],
        [
         "4",
         "20"
        ]
       ],
       "shape": {
        "columns": 1,
        "rows": 4
       }
      },
      "text/plain": [
       "Intervention_Route_Counts\n",
       "1    58193\n",
       "2    11314\n",
       "3     1539\n",
       "4       20\n",
       "Name: count, dtype: int64"
      ]
     },
     "execution_count": 248,
     "metadata": {},
     "output_type": "execute_result"
    }
   ],
   "source": [
    "df['Intervention_Route_Counts'] = df['Intervention_Route_List'].apply(lambda x: len(x))  \n",
    "# Inter_Route_Other is a form of 'intervention' other than inj/oral/topical and must be counted.\n",
    "df['Intervention_Route_Counts'].value_counts(dropna = False)"
   ]
  },
  {
   "cell_type": "markdown",
   "metadata": {},
   "source": [
    "## Placebo_Bin"
   ]
  },
  {
   "cell_type": "code",
   "execution_count": 249,
   "metadata": {},
   "outputs": [
    {
     "data": {
      "application/vnd.microsoft.datawrangler.viewer.v0+json": {
       "columns": [
        {
         "name": "Placebo_Bin",
         "rawType": "object",
         "type": "unknown"
        },
        {
         "name": "count",
         "rawType": "int64",
         "type": "integer"
        }
       ],
       "ref": "b9d9f346-692b-472e-b890-8f6b91ca399b",
       "rows": [
        [
         null,
         "50501"
        ],
        [
         "PLACEBO_COMPARATOR",
         "20565"
        ]
       ],
       "shape": {
        "columns": 1,
        "rows": 2
       }
      },
      "text/plain": [
       "Placebo_Bin\n",
       "NaN                   50501\n",
       "PLACEBO_COMPARATOR    20565\n",
       "Name: count, dtype: int64"
      ]
     },
     "metadata": {},
     "output_type": "display_data"
    },
    {
     "data": {
      "application/vnd.microsoft.datawrangler.viewer.v0+json": {
       "columns": [
        {
         "name": "Placebo_Bin",
         "rawType": "object",
         "type": "string"
        },
        {
         "name": "count",
         "rawType": "int64",
         "type": "integer"
        }
       ],
       "ref": "c47ad8f0-f5be-4a19-96d8-35edb9256384",
       "rows": [
        [
         "No",
         "50501"
        ],
        [
         "Yes",
         "20565"
        ]
       ],
       "shape": {
        "columns": 1,
        "rows": 2
       }
      },
      "text/plain": [
       "Placebo_Bin\n",
       "No     50501\n",
       "Yes    20565\n",
       "Name: count, dtype: int64"
      ]
     },
     "metadata": {},
     "output_type": "display_data"
    }
   ],
   "source": [
    "my_placebo2 = my_placebo[my_placebo[\"group_type\"] == \"PLACEBO_COMPARATOR\"]\n",
    "df = df.merge(my_placebo2[[\"nct_id\", \"group_type\"]], on = \"nct_id\", how = \"left\")\n",
    "df = df.rename(columns = {\"group_type\" : \"Placebo_Bin\"})\n",
    "display(df[\"Placebo_Bin\"].value_counts(dropna = False))\n",
    "\n",
    "df[\"Placebo_Bin\"] = df[\"Placebo_Bin\"].replace({np.NaN : \"No\", \"PLACEBO_COMPARATOR\" : \"Yes\"})\n",
    "display(df[\"Placebo_Bin\"].value_counts(dropna = False)) \n"
   ]
  },
  {
   "cell_type": "markdown",
   "metadata": {},
   "source": [
    "## Standard_Care_Bin"
   ]
  },
  {
   "cell_type": "code",
   "execution_count": 250,
   "metadata": {},
   "outputs": [
    {
     "data": {
      "application/vnd.microsoft.datawrangler.viewer.v0+json": {
       "columns": [
        {
         "name": "Standard_Care_Bin",
         "rawType": "object",
         "type": "unknown"
        },
        {
         "name": "count",
         "rawType": "int64",
         "type": "integer"
        }
       ],
       "ref": "ede84c52-1d93-4e96-8cc7-c8a1d8920aab",
       "rows": [
        [
         null,
         "68503"
        ],
        [
         "Yes",
         "2563"
        ]
       ],
       "shape": {
        "columns": 1,
        "rows": 2
       }
      },
      "text/plain": [
       "Standard_Care_Bin\n",
       "NaN    68503\n",
       "Yes     2563\n",
       "Name: count, dtype: int64"
      ]
     },
     "metadata": {},
     "output_type": "display_data"
    },
    {
     "data": {
      "application/vnd.microsoft.datawrangler.viewer.v0+json": {
       "columns": [
        {
         "name": "Standard_Care_Bin",
         "rawType": "object",
         "type": "string"
        },
        {
         "name": "count",
         "rawType": "int64",
         "type": "integer"
        }
       ],
       "ref": "2fdb2a6f-5c7a-4799-b424-cc772b10315a",
       "rows": [
        [
         "No",
         "68503"
        ],
        [
         "Yes",
         "2563"
        ]
       ],
       "shape": {
        "columns": 1,
        "rows": 2
       }
      },
      "text/plain": [
       "Standard_Care_Bin\n",
       "No     68503\n",
       "Yes     2563\n",
       "Name: count, dtype: int64"
      ]
     },
     "metadata": {},
     "output_type": "display_data"
    }
   ],
   "source": [
    "df = df.merge(my_soc[[\"nct_id\", \"Standard_Care\"]], on = \"nct_id\", how = \"left\")\n",
    "df = df.rename(columns={\"Standard_Care\" : \"Standard_Care_Bin\"})\n",
    "display(df[\"Standard_Care_Bin\"].value_counts(dropna=False))\n",
    "\n",
    "df[\"Standard_Care_Bin\"] = df[\"Standard_Care_Bin\"].replace({np.NaN : \"No\"})\n",
    "display(df[\"Standard_Care_Bin\"].value_counts(dropna=False))\n"
   ]
  },
  {
   "cell_type": "markdown",
   "metadata": {},
   "source": [
    "## Healthy_Bin"
   ]
  },
  {
   "cell_type": "code",
   "execution_count": 251,
   "metadata": {},
   "outputs": [
    {
     "data": {
      "application/vnd.microsoft.datawrangler.viewer.v0+json": {
       "columns": [
        {
         "name": "Healthy_Bin",
         "rawType": "object",
         "type": "unknown"
        },
        {
         "name": "count",
         "rawType": "int64",
         "type": "integer"
        }
       ],
       "ref": "d3954585-06fc-4996-8dd6-e910fd21a1a3",
       "rows": [
        [
         "No",
         "51306"
        ],
        [
         "Yes",
         "19735"
        ],
        [
         null,
         "25"
        ]
       ],
       "shape": {
        "columns": 1,
        "rows": 3
       }
      },
      "text/plain": [
       "Healthy_Bin\n",
       "No     51306\n",
       "Yes    19735\n",
       "NaN       25\n",
       "Name: count, dtype: int64"
      ]
     },
     "metadata": {},
     "output_type": "display_data"
    }
   ],
   "source": [
    "df = df.merge(my_eligibilities[[\"nct_id\", \"healthy_volunteers\"]], on = \"nct_id\", how = \"left\")\n",
    "df = df.rename(columns={\"healthy_volunteers\" : \"Healthy_Bin\"})\n",
    "df['Healthy_Bin'] = df['Healthy_Bin'].replace({'Condition' : \"No\", \"Healthy\" : \"Yes\"})\n",
    "display(df[\"Healthy_Bin\"].value_counts(dropna = False))\n"
   ]
  },
  {
   "cell_type": "markdown",
   "metadata": {},
   "source": [
    "### NaN --> Drop"
   ]
  },
  {
   "cell_type": "code",
   "execution_count": 252,
   "metadata": {},
   "outputs": [
    {
     "data": {
      "application/vnd.microsoft.datawrangler.viewer.v0+json": {
       "columns": [
        {
         "name": "Healthy_Bin",
         "rawType": "object",
         "type": "string"
        },
        {
         "name": "count",
         "rawType": "int64",
         "type": "integer"
        }
       ],
       "ref": "b2690900-30f8-46c9-a9b7-d479ffbd097f",
       "rows": [
        [
         "No",
         "51306"
        ],
        [
         "Yes",
         "19735"
        ]
       ],
       "shape": {
        "columns": 1,
        "rows": 2
       }
      },
      "text/plain": [
       "Healthy_Bin\n",
       "No     51306\n",
       "Yes    19735\n",
       "Name: count, dtype: int64"
      ]
     },
     "metadata": {},
     "output_type": "display_data"
    }
   ],
   "source": [
    "df = df.dropna(subset = ['Healthy_Bin'])\n",
    "display(df[\"Healthy_Bin\"].value_counts(dropna = False))\n"
   ]
  },
  {
   "cell_type": "markdown",
   "metadata": {},
   "source": [
    "## Covid_19_Bin"
   ]
  },
  {
   "cell_type": "code",
   "execution_count": 253,
   "metadata": {},
   "outputs": [
    {
     "data": {
      "application/vnd.microsoft.datawrangler.viewer.v0+json": {
       "columns": [
        {
         "name": "Covid_19_Bin",
         "rawType": "object",
         "type": "unknown"
        },
        {
         "name": "count",
         "rawType": "int64",
         "type": "integer"
        }
       ],
       "ref": "011f2716-3b4c-43e3-8909-62fbb6ac2fc2",
       "rows": [
        [
         null,
         "69557"
        ],
        [
         "COVID-19",
         "1484"
        ]
       ],
       "shape": {
        "columns": 1,
        "rows": 2
       }
      },
      "text/plain": [
       "Covid_19_Bin\n",
       "NaN         69557\n",
       "COVID-19     1484\n",
       "Name: count, dtype: int64"
      ]
     },
     "metadata": {},
     "output_type": "display_data"
    },
    {
     "data": {
      "application/vnd.microsoft.datawrangler.viewer.v0+json": {
       "columns": [
        {
         "name": "Covid_19_Bin",
         "rawType": "object",
         "type": "string"
        },
        {
         "name": "count",
         "rawType": "int64",
         "type": "integer"
        }
       ],
       "ref": "e555ad9d-a151-4998-a342-1b0e1b1f40f5",
       "rows": [
        [
         "No",
         "69557"
        ],
        [
         "Yes",
         "1484"
        ]
       ],
       "shape": {
        "columns": 1,
        "rows": 2
       }
      },
      "text/plain": [
       "Covid_19_Bin\n",
       "No     69557\n",
       "Yes     1484\n",
       "Name: count, dtype: int64"
      ]
     },
     "metadata": {},
     "output_type": "display_data"
    },
    {
     "data": {
      "text/plain": [
       "(71041, 47)"
      ]
     },
     "metadata": {},
     "output_type": "display_data"
    }
   ],
   "source": [
    "df = df.merge(my_covid[[\"nct_id\", \"mesh_term\"]], on = \"nct_id\", how = \"left\")\n",
    "df = df.rename(columns={\"mesh_term\" : \"Covid_19_Bin\"})\n",
    "display(df[\"Covid_19_Bin\"].value_counts(dropna=False))\n",
    "df[\"Covid_19_Bin\"] = df[\"Covid_19_Bin\"].replace({np.NaN : \"No\", \"COVID-19\": \"Yes\"})\n",
    "display(df[\"Covid_19_Bin\"].value_counts(dropna=False))\n",
    "display(df.shape)"
   ]
  },
  {
   "cell_type": "markdown",
   "metadata": {},
   "source": [
    "## Conditions_Detail_List\n",
    "- Source MEsH Ontologies and Drugs : https://meshb.nlm.nih.gov/treeView  \n",
    "- Columns: my_conditions['name'] (list like) = df['Conditions'] (text like | seperated)\n"
   ]
  },
  {
   "cell_type": "code",
   "execution_count": 254,
   "metadata": {},
   "outputs": [
    {
     "data": {
      "text/plain": [
       "Counter({'Cond_Detail_Other': 16736,\n",
       "         'Pathological Conditions, Signs and Symptoms': 14915,\n",
       "         'Neoplasms': 13654,\n",
       "         'Nervous System Diseases': 9310,\n",
       "         'Respiratory Tract Diseases': 7469,\n",
       "         'Immune System Diseases': 7415,\n",
       "         'Skin and Connective Tissue Diseases': 7083,\n",
       "         'Bacterial Infections and Mycoses': 6827,\n",
       "         'Female Urogenital Diseases and Pregnancy Complications': 6150,\n",
       "         'Nutritional and Metabolic Diseases': 6128,\n",
       "         'Digestive System Diseases': 5967,\n",
       "         'Cardiovascular Diseases': 5513,\n",
       "         'Male Urogenital Diseases': 5428,\n",
       "         'Virus Diseases': 5002,\n",
       "         'Hemic and Lymphatic Diseases': 4787,\n",
       "         'Endocrine System Diseases': 4739,\n",
       "         'Mental Disorders': 4578,\n",
       "         'Congenital, Hereditary, and Neonatal Diseases and Abnormalities': 3346,\n",
       "         'Musculoskeletal and Neural Physiological Phenomena': 3013,\n",
       "         'Musculoskeletal Diseases': 2873,\n",
       "         'Psychological Phenomena and Processes': 2844,\n",
       "         'Behavior and Behavior Mechanisms': 2366,\n",
       "         'Eye Diseases': 1833,\n",
       "         'Physiological Phenomena': 1290,\n",
       "         'Wounds and Injuries': 1106,\n",
       "         'Chemically-Induced Disorders': 1067,\n",
       "         'Stomatognathic Diseases': 1018,\n",
       "         'Diagnosis': 948,\n",
       "         'Investigative Techniques': 880,\n",
       "         'Otorhinolaryngologic Diseases': 858,\n",
       "         'Cell Physiological Phenomena': 310,\n",
       "         'Environment and Public Health': 149,\n",
       "         'Health Care Quality, Access, and Evaluation': 108,\n",
       "         'Reproductive and Urinary Physiological Phenomena': 75,\n",
       "         'Tissues': 73,\n",
       "         'Physical Phenomena': 65,\n",
       "         'Social Sciences': 65,\n",
       "         'Biological Phenomena': 64,\n",
       "         'Circulatory and Respiratory Physiological Phenomena': 45,\n",
       "         'Health Services Administration': 34,\n",
       "         'Therapeutics': 32,\n",
       "         'Cells': 28,\n",
       "         'Immune System Phenomena': 21,\n",
       "         'Genetic Phenomena': 17,\n",
       "         'Information Science': 17,\n",
       "         'Health Care Facilities, Manpower, and Services': 8,\n",
       "         'Health Care Economics and Organizations': 7,\n",
       "         'Education': 5,\n",
       "         'Human Activities': 4,\n",
       "         'Hemic and Immune Systems': 1,\n",
       "         'Fluids and Secretions': 1,\n",
       "         'Chemical Actions and Uses': 1})"
      ]
     },
     "metadata": {},
     "output_type": "display_data"
    }
   ],
   "source": [
    "df = df.merge(my_conditions[[\"nct_id\", \"heading\"]], on = \"nct_id\", how = \"left\") # my_conditions['name'] = df['Conditions]\n",
    "df = df.rename(columns = {\"heading\" : \"Conditions_Detail_List\"})\n",
    "\n",
    "df[\"Conditions_Detail_List\"] = df[\"Conditions_Detail_List\"].apply(lambda x: [\"Cond_Detail_Other\"] if isinstance(x, list)\\\n",
    "                                                               and len(x) == 0 else x)\n",
    "\n",
    "display(Counter([elem for row_list in df[\"Conditions_Detail_List\"] for elem in row_list]))"
   ]
  },
  {
   "cell_type": "code",
   "execution_count": 255,
   "metadata": {},
   "outputs": [
    {
     "data": {
      "text/plain": [
       "Counter({'Cond_Detail_Other': 16736,\n",
       "         'Pathological Conditions, Signs and Symptoms': 14915,\n",
       "         'Neoplasms': 13654,\n",
       "         'Nervous System Diseases': 9310,\n",
       "         'Respiratory Tract Diseases': 7469,\n",
       "         'Immune System Diseases': 7415,\n",
       "         'Skin and Connective Tissue Diseases': 7083,\n",
       "         'Bacterial Infections and Mycoses': 6827,\n",
       "         'Female Urogenital Diseases and Pregnancy Complications': 6150,\n",
       "         'Nutritional and Metabolic Diseases': 6128,\n",
       "         'Digestive System Diseases': 5967,\n",
       "         'Cardiovascular Diseases': 5513,\n",
       "         'Male Urogenital Diseases': 5428,\n",
       "         'Virus Diseases': 5002,\n",
       "         'Hemic and Lymphatic Diseases': 4787,\n",
       "         'Endocrine System Diseases': 4739,\n",
       "         'Mental Disorders': 4578,\n",
       "         'Congenital, Hereditary, and Neonatal Diseases and Abnormalities': 3346,\n",
       "         'Musculoskeletal and Neural Physiological Phenomena': 3013,\n",
       "         'Musculoskeletal Diseases': 2873,\n",
       "         'Psychological Phenomena and Processes': 2844,\n",
       "         'Behavior and Behavior Mechanisms': 2366,\n",
       "         'Eye Diseases': 1833,\n",
       "         'Physiological Phenomena': 1290,\n",
       "         'Wounds and Injuries': 1106,\n",
       "         'Chemically-Induced Disorders': 1067,\n",
       "         'Stomatognathic Diseases': 1018,\n",
       "         'Diagnosis': 948,\n",
       "         'Investigative Techniques': 880,\n",
       "         'Otorhinolaryngologic Diseases': 858,\n",
       "         'Cell Physiological Phenomena': 310,\n",
       "         'Environment and Public Health': 149,\n",
       "         'Health Care Quality, Access, and Evaluation': 108,\n",
       "         'Reproductive and Urinary Physiological Phenomena': 75,\n",
       "         'Tissues': 73,\n",
       "         'Physical Phenomena': 65,\n",
       "         'Social Sciences': 65,\n",
       "         'Biological Phenomena': 64,\n",
       "         'Circulatory and Respiratory Physiological Phenomena': 45,\n",
       "         'Health Services Administration': 34,\n",
       "         'Therapeutics': 32,\n",
       "         'Cells': 28,\n",
       "         'Immune System Phenomena': 21,\n",
       "         'Genetic Phenomena': 17,\n",
       "         'Information Science': 17,\n",
       "         'Health Care Facilities, Manpower, and Services': 8,\n",
       "         'Health Care Economics and Organizations': 7,\n",
       "         'Education': 5,\n",
       "         'Human Activities': 4,\n",
       "         'Hemic and Immune Systems': 1,\n",
       "         'Fluids and Secretions': 1,\n",
       "         'Chemical Actions and Uses': 1})"
      ]
     },
     "metadata": {},
     "output_type": "display_data"
    },
    {
     "data": {
      "text/plain": [
       "Counter({'Cond_Detail_Other': 16736,\n",
       "         'Pathological Conditions, Signs, Symptoms': 14915,\n",
       "         'Neoplasms': 13654,\n",
       "         'Hemic, Lymphatic, Immune System': 12224,\n",
       "         'Digestive System, Nutritional, Metabolic': 12095,\n",
       "         'Urogenital, Pregnancy': 11653,\n",
       "         'Psychiatry, Psychology, Anthropology, Sociology': 9862,\n",
       "         'Nervous System': 9310,\n",
       "         'Respiratory, Circulatory': 7514,\n",
       "         'Skin, Tissue': 7156,\n",
       "         'Bacterial Infections and Mycoses': 6827,\n",
       "         'Musculoskeletal, Neural': 5886,\n",
       "         'Cardiovascular': 5513,\n",
       "         'Virus Diseases': 5002,\n",
       "         'Endocrine System': 4739,\n",
       "         'Hereditary, Neonatal, Abnormalities': 3346,\n",
       "         'Health Care, Therapeutics': 2183,\n",
       "         'Stomatognathic, Otorhinolaryngologic': 1876,\n",
       "         'Eye': 1833,\n",
       "         'Phenomena, Processes': 1776,\n",
       "         'Wounds, Injuries': 1106,\n",
       "         'Chemical Disorders': 1067})"
      ]
     },
     "metadata": {},
     "output_type": "display_data"
    }
   ],
   "source": [
    "# Merge low sample categries into more general ones based on the subject studyed.\n",
    "cond_map = {\n",
    "## Diseases/Disorders ==========================================================\n",
    "         'Pathological Conditions, Signs and Symptoms': 'Pathological Conditions, Signs, Symptoms',   # Diseases\n",
    "\n",
    "         'Nervous System Diseases': 'Nervous System',\n",
    "\n",
    "         'Cond_Detail_Other': 'Cond_Detail_Other',\n",
    "\n",
    "         'Neoplasms': 'Neoplasms', \n",
    "\n",
    "         'Cardiovascular Diseases': 'Cardiovascular',  \n",
    "\n",
    "         'Skin and Connective Tissue Diseases': 'Skin, Tissue', \n",
    "         'Tissues': 'Skin, Tissue', \n",
    "\n",
    "         'Respiratory Tract Diseases': 'Respiratory, Circulatory', \n",
    "         'Circulatory and Respiratory Physiological Phenomena': 'Respiratory, Circulatory', \n",
    "\n",
    "         'Female Urogenital Diseases and Pregnancy Complications': 'Urogenital, Pregnancy', \n",
    "         'Male Urogenital Diseases': 'Urogenital, Pregnancy', \n",
    "         'Reproductive and Urinary Physiological Phenomena': 'Urogenital, Pregnancy',  \n",
    "         \n",
    "         'Bacterial Infections and Mycoses': 'Bacterial Infections and Mycoses', \n",
    "         'Virus Diseases': 'Virus Diseases', \n",
    "\n",
    "         'Immune System Diseases': 'Hemic, Lymphatic, Immune System', \n",
    "         'Immune System Phenomena': 'Hemic, Lymphatic, Immune System', \n",
    "         'Hemic and Immune Systems': 'Hemic, Lymphatic, Immune System', \n",
    "         'Hemic and Lymphatic Diseases': 'Hemic, Lymphatic, Immune System', \n",
    "         \n",
    "         'Digestive System Diseases': 'Digestive System, Nutritional, Metabolic', \n",
    "         'Nutritional and Metabolic Diseases': 'Digestive System, Nutritional, Metabolic', \n",
    "                  \n",
    "         'Musculoskeletal Diseases': 'Musculoskeletal, Neural', \n",
    "         'Musculoskeletal and Neural Physiological Phenomena': 'Musculoskeletal, Neural', \n",
    "\n",
    "         'Endocrine System Diseases': 'Endocrine System', \n",
    "\n",
    "         'Congenital, Hereditary, and Neonatal Diseases and Abnormalities': 'Hereditary, Neonatal, Abnormalities', \n",
    "\n",
    "         'Wounds and Injuries': 'Wounds, Injuries', \n",
    "\n",
    "         'Eye Diseases': 'Eye', \n",
    "\n",
    "         'Stomatognathic Diseases': 'Stomatognathic, Otorhinolaryngologic', \n",
    "         'Otorhinolaryngologic Diseases': 'Stomatognathic, Otorhinolaryngologic', \n",
    "\n",
    "         'Chemically-Induced Disorders': 'Chemical Disorders',  # Diseases\n",
    "\n",
    "# 'Psychiatry, Psychology, Anthropology, Sociology'\n",
    "         'Psychological Phenomena and Processes': 'Psychiatry, Psychology, Anthropology, Sociology', \n",
    "         'Behavior and Behavior Mechanisms': 'Psychiatry, Psychology, Anthropology, Sociology', \n",
    "         'Mental Disorders': 'Psychiatry, Psychology, Anthropology, Sociology', \n",
    "         'Social Sciences': 'Psychiatry, Psychology, Anthropology, Sociology',   # Anthropology, Sociology\n",
    "         'Human Activities': 'Psychiatry, Psychology, Anthropology, Sociology',  # Anthropology, Sociology\n",
    "         'Education' : 'Psychiatry, Psychology, Anthropology, Sociology',\n",
    "\n",
    "# 'Phenomena, Processes'\n",
    "         'Physiological Phenomena': 'Phenomena, Processes', \n",
    "         'Biological Phenomena': 'Phenomena, Processes', \n",
    "         'Physical Phenomena': 'Phenomena, Processes', \n",
    "         'Genetic Phenomena': 'Phenomena, Processes', \n",
    "         'Cell Physiological Phenomena': 'Phenomena, Processes', \n",
    "         'Cells': 'Phenomena, Processes',  # Anatomy\n",
    "         'Fluids and Secretions': 'Phenomena, Processes',  # Anatomy \n",
    "         'Chemical Actions and Uses': 'Phenomena, Processes',  # Chemicals and Drugs\n",
    "\n",
    "# Health Care, Environment, Diagnostic, Equipment, Other\n",
    "         'Health Care Quality, Access, and Evaluation': 'Health Care, Therapeutics', \n",
    "         'Health Care Economics and Organizations' : 'Health Care, Therapeutics', \n",
    "         'Health Services Administration': 'Health Care, Therapeutics', \n",
    "         'Health Care Facilities, Manpower, and Services': 'Health Care, Therapeutics', \n",
    "         'Environment and Public Health': 'Health Care, Therapeutics', \n",
    "         'Information Science' : 'Health Care, Therapeutics',  \n",
    "         'Diagnosis': 'Health Care, Therapeutics',    \n",
    "         'Investigative Techniques': 'Health Care, Therapeutics',  \n",
    "         'Therapeutics': 'Health Care, Therapeutics', \n",
    "}\n",
    "\n",
    "\n",
    "\n",
    "display(Counter([elem for row_list in df[\"Conditions_Detail_List\"] for elem in row_list]))\n",
    "df['Conditions_Detail_List'] = df['Conditions_Detail_List'].apply(lambda row: [cond_map.get(val, val) for val in row])\n",
    "\n",
    "display(Counter([elem for row_list in df[\"Conditions_Detail_List\"] for elem in row_list]))"
   ]
  },
  {
   "cell_type": "code",
   "execution_count": 256,
   "metadata": {},
   "outputs": [],
   "source": [
    "# Search for Condition/body part worlds in 'Conditions' Column if \n",
    "Conditions2 = pd.DataFrame(sorted(set('|'.join(df.loc[\n",
    "        df['Conditions_Detail_List'].apply(lambda row: (\n",
    "            'Phenomena, Processes' in row or 'Pathological Conditions, Signs, Symptoms' in row or 'Cond_Detail_Other' in row)), \n",
    "            'Conditions'].dropna().astype(str)).replace(', ', '|').split('|'))), columns = ['Conditions2'])\n",
    "\n",
    "# Split Conditions2 into 4 columns --> Keep only the first 4 columns\n",
    "Conditions2 = Conditions2['Conditions2'].str.split(' ', expand = True)\n",
    "Conditions2 = Conditions2.iloc[:, 0:4]\n",
    "Conditions2 = Conditions2.drop_duplicates(keep = 'first').dropna()\n",
    "# Keep worlds of Conditions/Body parts as a list.\n",
    "cond2 = sorted(set(Conditions2[0].tolist())) + sorted(set(Conditions2[1].tolist())) +\\\n",
    "     sorted(set(Conditions2[2].tolist())) + sorted(set(Conditions2[3].tolist()))\n"
   ]
  },
  {
   "cell_type": "markdown",
   "metadata": {},
   "source": [
    "#### NaNs+ --> Fillna text -> Other"
   ]
  },
  {
   "cell_type": "code",
   "execution_count": 257,
   "metadata": {},
   "outputs": [],
   "source": [
    "# Create list of key worlds to search in 'Conditions' to fill Conditions_List/Conditions_Detail_List columns\n",
    "texts = [\n",
    " # a   \n",
    " 'abdominal','abdominis','abnormality','abortion','accident','acne','activities','adrenal','aging','airway','allergy',\n",
    " 'alveolar','alzheimer','anaesthesia','analgesi','analgesia','anemia','anesthesia','anorexia','antibiotic','antibody mediated rejection',\n",
    " 'anticalculus','anticoag','antimicrobial resistance','anxiety','aortic','apnoea','appetite','arthritis','asthma','atheroscler',\n",
    " 'atherosclerotic','attention deficit hyperactivity disorder','autism','avascular','axillary',\n",
    " # b\n",
    " 'bacteria','bacterial','behavior',\"bichat's\",\n",
    " 'bilateral','bile','bioavailability','bioequivalence','bipolar','bladder','bleeding','blood pressure','blood vessels','bone','bones',\n",
    " 'botulinum','bowel','bradycardia','brain','breast','bronchitis','bronchoscopic','buprenorphine','bypass', 'blood sugar',\n",
    " # c\n",
    " 'cancer','cannabis','carcinoma',\n",
    " 'cardiac','cardiovascular','health care','caregiver','carotid','cartilage','cell','cellulite','cerebral','cervical','cervix','cesarean',\n",
    " 'changas','cheek','chemical','chemotherapy','chest','cholesterol','chromosome-negative','cigar','clostridium','coagulation','cocaine',\n",
    " 'coffee','colitis','colon','colonoscopy','connective tissue','constipation','contraception','corneae','coronary','covid','critical ill',\n",
    " 'critically ill','cruciate ligament','cystic fibrosis',\n",
    " # d\n",
    " 'defecation','dementia','dental','depression','dermatitis','dexamethasone-induced','diabet',\n",
    " 'diabetes','diabetic','diaphragm','diarrhea','diet','digestive','donor','drug effect','drug-induced','dyslipidemia','dyspepsia',\n",
    " # e\n",
    " 'ear','eczema','education','encephalitis','endocrine','endometriosis','epilepsy','epithelial','esophageal','esophagus','eustachian',\n",
    " 'exercise','extracorporeal','eye','fat','fever','fevers','fibrosclerotic','fibrosis/tubular','food','foot',\n",
    " # g\n",
    " 'gallbladder','gastric','gastritis','gastro','gastroesophageal','gastrointestinal','gastroretentive','genetic','genitourinary','gingival',\n",
    " 'glaucoma','gout',\n",
    " # h\n",
    " 'haemopoietic','hamstring','hand','healthcare','heart','heart failure','helicobacter pylori','helminth','hematopoietic','hemmorhagic',\n",
    " 'hemodialysis','hemorrhage','hepatic','hepatics','hepatitis','hernia','heroin','hiccup','hip','hormones','hypertension','hypertensive',\n",
    " 'hypothermia','hypovolaemia','hypovolemia','hypoxia','hysterectomy',\n",
    " # i\n",
    " 'ileostomy','immun','immune','incisional','incretin',\n",
    " 'infant','infected','infection','inflammation','inflammatory bowel','inguinal','insomnia','integumentary','interstitial','intestinal',\n",
    " 'intestine','intra-cytoplasmic','intracellular','iris','ischemia','ischemic','jaw',\n",
    " # k\n",
    " 'kidney','knee',\n",
    " # l\n",
    " 'labour','laryngeal','leg','leukemia','ligament','limb','limbus','lipid','liver','lumbar','lung','lupus','lymph nodes','lymphatic','lymphoid',\n",
    " # m\n",
    " 'malaria','masseter','melatonin','menopausal','menopause','menstrual','mental','metabolism','metastatic','methamphetamin',\n",
    " 'migraine','mouth','mucous','muscle','muscles','muscular','musculoskeletal system','mutations','myalgia','myomectomy',\n",
    " # n\n",
    " 'nasal','nausea','neck','neoplasm','nephritis','nerve','nerves','nervous system','neuromuscular','neuropsychiatric','neurotrophic',\n",
    " 'nicotin','nurse','nutri','nutrient',\n",
    " # o\n",
    " 'obese','obesity','occlusive','ocular','oocyte','opioid','osteo','ovaries','oxygen','oxygenation',\n",
    " # p\n",
    " 'pain','pancrea','pancreas','panniculopathy','papillomavirus','papiloma','parathyroid','parkinson','pelvic','pelvis','penis','perianal',\n",
    " 'pghysical activity','pharmacokinetic','pharmacokinetics','phycolog','physical','physical activity','plasma','polyp','popliteal',\n",
    " 'post-lung','postoperative','postprandial','pregnan','prenatal','prolapse','prostate','psoriasis','pulmonary',\n",
    " #r\n",
    " 'radio','radiotherapy-induced',\n",
    " 'rectal','rectum','renal','reproductive','respiratory', r'\\brib\\b', r'\\bsars\\b',\n",
    " # s\n",
    " 'scalp','schizophrenia','scoliosis','sedation','sepsis','shoulder','skeletal','skin','sleep','smok','social','spinal',\n",
    " 'spine','spleen','staphylococcus','stoma','stomach','streptococcus','stress','stroke','sympathetic',\n",
    " # t\n",
    " 'tachycardia','teeth',\n",
    " 'temporomandibular','tendon','tendons','testes','testicles','tetrahydrocannabinol','thoracic','thymus','thyroid','tissue',\n",
    " 'tobacco','tongue','tonsillitis','tooth','toxin-induced','trachea','tracheo','tuberculosis','tumor',\n",
    " # u\n",
    " 'ulceration','unilateral','ureter','urethra','urin','urinary','urine','uter','uterovaginal','uterus','vagina','vaginal','valgus',\n",
    " # v\n",
    " 'vaping','vascular','vasomotor','ventral','verrucous','violence','vision','visual','vitamin','vomiting','vulvar',\n",
    " # w\n",
    " 'white spot lesion','wound','wrinkle', 'weight gain']\n",
    "\n",
    "texts = sorted(set([t.lower() for t in texts]))\n"
   ]
  },
  {
   "cell_type": "code",
   "execution_count": 258,
   "metadata": {},
   "outputs": [
    {
     "data": {
      "text/plain": [
       "16736"
      ]
     },
     "metadata": {},
     "output_type": "display_data"
    },
    {
     "data": {
      "text/plain": [
       "8181"
      ]
     },
     "metadata": {},
     "output_type": "display_data"
    },
    {
     "data": {
      "application/vnd.microsoft.datawrangler.viewer.v0+json": {
       "columns": [
        {
         "name": "Conditions_Detail_List",
         "rawType": "object",
         "type": "unknown"
        },
        {
         "name": "count",
         "rawType": "int64",
         "type": "integer"
        }
       ],
       "ref": "91ae0ea2-504e-4d9f-9305-0cdf29b3ed6c",
       "rows": [
        [
         "['Cond_Detail_Other']",
         "8181"
        ],
        [
         "['Musculoskeletal, Neural', 'Nervous System', 'Pathological Conditions, Signs, Symptoms', 'Psychiatry, Psychology, Anthropology, Sociology']",
         "2542"
        ],
        [
         "['Neoplasms', 'Skin, Tissue']",
         "2384"
        ],
        [
         "['Bacterial Infections and Mycoses', 'Respiratory, Circulatory', 'Virus Diseases']",
         "2337"
        ],
        [
         "['Digestive System, Nutritional, Metabolic']",
         "2325"
        ],
        [
         "['Psychiatry, Psychology, Anthropology, Sociology']",
         "2266"
        ],
        [
         "['Neoplasms']",
         "2197"
        ],
        [
         "['Cardiovascular']",
         "2026"
        ],
        [
         "['Digestive System, Nutritional, Metabolic', 'Endocrine System']",
         "1970"
        ],
        [
         "['Digestive System, Nutritional, Metabolic', 'Neoplasms']",
         "1829"
        ],
        [
         "['Hemic, Lymphatic, Immune System', 'Neoplasms']",
         "1555"
        ],
        [
         "['Bacterial Infections and Mycoses', 'Hemic, Lymphatic, Immune System', 'Urogenital, Pregnancy', 'Virus Diseases']",
         "1312"
        ],
        [
         "['Urogenital, Pregnancy']",
         "1296"
        ],
        [
         "['Pathological Conditions, Signs, Symptoms']",
         "1244"
        ],
        [
         "['Neoplasms', 'Urogenital, Pregnancy']",
         "1238"
        ],
        [
         "['Neoplasms', 'Respiratory, Circulatory']",
         "1225"
        ],
        [
         "['Skin, Tissue']",
         "1110"
        ],
        [
         "['Eye']",
         "1051"
        ],
        [
         "['Nervous System']",
         "920"
        ],
        [
         "['Pathological Conditions, Signs, Symptoms', 'Urogenital, Pregnancy']",
         "895"
        ],
        [
         "['Hemic, Lymphatic, Immune System']",
         "773"
        ],
        [
         "['Pathological Conditions, Signs, Symptoms', 'Respiratory, Circulatory']",
         "766"
        ],
        [
         "['Chemical Disorders', 'Psychiatry, Psychology, Anthropology, Sociology']",
         "725"
        ],
        [
         "['Hemic, Lymphatic, Immune System', 'Respiratory, Circulatory']",
         "712"
        ],
        [
         "['Bacterial Infections and Mycoses']",
         "706"
        ],
        [
         "['Nervous System', 'Pathological Conditions, Signs, Symptoms', 'Psychiatry, Psychology, Anthropology, Sociology']",
         "665"
        ],
        [
         "['Hemic, Lymphatic, Immune System', 'Neoplasms', 'Pathological Conditions, Signs, Symptoms']",
         "627"
        ],
        [
         "['Hemic, Lymphatic, Immune System', 'Musculoskeletal, Neural', 'Skin, Tissue']",
         "610"
        ],
        [
         "['Virus Diseases']",
         "609"
        ],
        [
         "['Musculoskeletal, Neural', 'Skin, Tissue']",
         "545"
        ],
        [
         "['Nervous System', 'Psychiatry, Psychology, Anthropology, Sociology']",
         "540"
        ],
        [
         "['Digestive System, Nutritional, Metabolic', 'Health Care, Therapeutics', 'Pathological Conditions, Signs, Symptoms', 'Phenomena, Processes']",
         "529"
        ],
        [
         "['Bacterial Infections and Mycoses', 'Digestive System, Nutritional, Metabolic', 'Pathological Conditions, Signs, Symptoms', 'Virus Diseases']",
         "510"
        ],
        [
         "['Cardiovascular', 'Hemic, Lymphatic, Immune System', 'Neoplasms']",
         "510"
        ],
        [
         "['Cardiovascular', 'Pathological Conditions, Signs, Symptoms']",
         "493"
        ],
        [
         "['Stomatognathic, Otorhinolaryngologic']",
         "436"
        ],
        [
         "['Digestive System, Nutritional, Metabolic', 'Endocrine System', 'Hemic, Lymphatic, Immune System']",
         "416"
        ],
        [
         "['Hemic, Lymphatic, Immune System', 'Hereditary, Neonatal, Abnormalities', 'Skin, Tissue']",
         "412"
        ],
        [
         "['Digestive System, Nutritional, Metabolic', 'Endocrine System', 'Neoplasms']",
         "378"
        ],
        [
         "['Respiratory, Circulatory']",
         "378"
        ],
        [
         "['Hemic, Lymphatic, Immune System', 'Hereditary, Neonatal, Abnormalities']",
         "375"
        ],
        [
         "['Bacterial Infections and Mycoses', 'Pathological Conditions, Signs, Symptoms']",
         "371"
        ],
        [
         "['Bacterial Infections and Mycoses', 'Digestive System, Nutritional, Metabolic', 'Virus Diseases']",
         "368"
        ],
        [
         "['Cardiovascular', 'Nervous System']",
         "352"
        ],
        [
         "['Endocrine System', 'Neoplasms', 'Urogenital, Pregnancy']",
         "328"
        ],
        [
         "['Neoplasms', 'Pathological Conditions, Signs, Symptoms']",
         "300"
        ],
        [
         "['Digestive System, Nutritional, Metabolic', 'Pathological Conditions, Signs, Symptoms']",
         "294"
        ],
        [
         "['Neoplasms', 'Nervous System']",
         "279"
        ],
        [
         "['Hemic, Lymphatic, Immune System', 'Nervous System']",
         "279"
        ],
        [
         "['Wounds, Injuries']",
         "270"
        ]
       ],
       "shape": {
        "columns": 1,
        "rows": 1932
       }
      },
      "text/plain": [
       "Conditions_Detail_List\n",
       "[Cond_Detail_Other]                                                                                                                                                         8181\n",
       "[Musculoskeletal, Neural, Nervous System, Pathological Conditions, Signs, Symptoms, Psychiatry, Psychology, Anthropology, Sociology]                                        2542\n",
       "[Neoplasms, Skin, Tissue]                                                                                                                                                   2384\n",
       "[Bacterial Infections and Mycoses, Respiratory, Circulatory, Virus Diseases]                                                                                                2337\n",
       "[Digestive System, Nutritional, Metabolic]                                                                                                                                  2325\n",
       "                                                                                                                                                                            ... \n",
       "[Cardiovascular, Chemical Disorders, Psychiatry, Psychology, Anthropology, Sociology]                                                                                          1\n",
       "[Nervous System, Psychiatry, Psychology, Anthropology, Sociology, Stomatognathic, Otorhinolaryngologic]                                                                        1\n",
       "[Digestive System, Nutritional, Metabolic, Neoplasms, Nervous System, Respiratory, Circulatory, Skin, Tissue, Urogenital, Pregnancy, Virus Diseases]                           1\n",
       "[Cardiovascular, Chemical Disorders, Digestive System, Nutritional, Metabolic, Pathological Conditions, Signs, Symptoms, Respiratory, Circulatory]                             1\n",
       "[Cardiovascular, Hereditary, Neonatal, Abnormalities, Musculoskeletal, Neural, Neoplasms, Nervous System, Psychiatry, Psychology, Anthropology, Sociology, Skin, Tissue]       1\n",
       "Name: count, Length: 1932, dtype: int64"
      ]
     },
     "metadata": {},
     "output_type": "display_data"
    }
   ],
   "source": [
    "display(df[\"Conditions_Detail_List\"].apply(lambda x : x == ['Cond_Detail_Other']).sum())\n",
    "\n",
    "# ===============================================================================================================================\n",
    "# Covid-19 Column\n",
    "df.loc[(df['Covid_19_Bin'] == 'Yes') & (df['Conditions_Detail_List'].apply(lambda x: x == ['Cond_Detail_Other'])),'Conditions_Detail_List'] = df.loc[df['Covid_19_Bin'] == 'Yes','Conditions_Detail_List'].apply(\n",
    "    lambda x: ['Respiratory, Circulatory', 'Virus Diseases']) # Top list element.\n",
    "\n",
    "# ===============================================================================================================================\n",
    "# Conditions Column\n",
    "for text in texts:\n",
    "    case = False\n",
    "    try:\n",
    "        # Constraints\n",
    "        constr2 = ((df[\"Conditions\"].str.contains(text, case = case)) & (df['Conditions_Detail_List'].apply(lambda x: x == ['Cond_Detail_Other'])))\n",
    "        # text_new\n",
    "        text_new2 = df.loc[df['Conditions'].str.contains(text, case = case) & df['Conditions_Detail_List'].apply(\n",
    "            lambda x: x != ['Cond_Detail_Other'])]['Conditions_Detail_List'].value_counts(ascending = False).index[0] \n",
    "        # Applying the changes\n",
    "        df.loc[constr2, 'Conditions_Detail_List'] = df.loc[constr2, 'Conditions_Detail_List'].apply(lambda x: text_new2)\n",
    "    \n",
    "    except IndexError:\n",
    "        continue\n",
    "\n",
    "# ===============================================================================================================================\n",
    "texts = r'\\bALS\\b|\\bBPH\\b|\\bACL\\b|\\bALL\\b|\\bAML\\b|\\bARDS\\b|\\bAccidental Falls\\b|\\bAlcohol\\b|\\bHPV\\b|\\\n",
    "    \\bCOPD\\b|\\bPTSD\\b|\\bNSCLC\\b|\\bPCOS\\b|\\bOHSS\\b|\\bOSA\\b|\\bNAFLD\\b|\\bPOH\\b|\\bABPA\\b|\\bIBD\\b|\\\n",
    "    \\bPACU\\b|\\bPIK3CA\\b|\\bAOD\\b|\\bBPF\\b\\bNYHA\\b|\\bIPOM\\b|\\bHIV\\b|\\baids\\b|\\bAIDS\\b|\\badhd\\b'\n",
    "\n",
    "case = True\n",
    "try:\n",
    "# Constraints\n",
    "    constr2 = ((df[\"Conditions\"].str.contains(texts, case = case)) & (df['Conditions_Detail_List'].apply(lambda x: x == ['Cond_Detail_Other'])))\n",
    "# text_new - 1st choice as comments = for most common list description\n",
    "    # text_new2 = df.loc[df['Conditions'].str.contains(texts, case = case) & df['Conditions_Detail_List'].apply(lambda x: x != ['Cond_Detail_Other'])]\\\n",
    "    # ['Conditions_Detail_List'].value_counts(ascending = False).index[0]\n",
    "    \n",
    "# text_new - 1st choice as comments = for most common element description\n",
    "    all_elements2 = [elem for sublist in df.loc[df['Conditions'].str.contains(texts, case=case) & df['Conditions_Detail_List'].apply(lambda x: x != ['Cond_Detail_Other']), 'Conditions_Detail_List'] for elem in sublist]\n",
    "    text_new2 = [Counter(all_elements2).most_common(1)[0][0]]\n",
    "    # Applying the changes\n",
    "    df.loc[constr2, 'Conditions_Detail_List'] = df.loc[constr2, 'Conditions_Detail_List'].apply(lambda x: text_new2)\n",
    "\n",
    "except IndexError:\n",
    "    pass\n",
    "\n",
    "# ===============================================================================================================================\n",
    "# Erase 'Phenomena, Processes' if len_list > 1. They are mostly phenomena due to Conditions. \n",
    "'''\n",
    "df['Conditions_Detail_List'] = df['Conditions_Detail_List'].apply(\n",
    "    lambda row: [elem for elem in row if elem != 'Phenomena, Processes'] if \n",
    "    ('Phenomena, Processes' in row and len(row) >= 2) else row)'''\n",
    "'''\n",
    "# Erase 'Pathological Conditions, Signs, Symptoms' if len_list > 1. They are mostly symptoms due to Conditions. \n",
    "df['Conditions_Detail_List'] = df['Conditions_Detail_List'].apply(\n",
    "    lambda row: [elem for elem in row if elem != 'Pathological Conditions, Signs, Symptoms'] if \n",
    "    ('Pathological Conditions, Signs, Symptoms' in row and len(row) >= 2) else row)'''\n",
    "\n",
    "# ===============================================================================================================================\n",
    "display(df[\"Conditions_Detail_List\"].apply(lambda x : x == ['Cond_Detail_Other']).sum())\n",
    "\n",
    "# Sort/Set\n",
    "df[\"Conditions_Detail_List\"] = df[\"Conditions_Detail_List\"].apply(lambda x: sorted(set(x)))\n",
    "display(df[\"Conditions_Detail_List\"].value_counts(dropna = False))"
   ]
  },
  {
   "cell_type": "markdown",
   "metadata": {},
   "source": [
    "## Adverse_List"
   ]
  },
  {
   "cell_type": "code",
   "execution_count": 259,
   "metadata": {},
   "outputs": [
    {
     "data": {
      "application/vnd.microsoft.datawrangler.viewer.v0+json": {
       "columns": [
        {
         "name": "Adverse_List",
         "rawType": "object",
         "type": "unknown"
        },
        {
         "name": "count",
         "rawType": "int64",
         "type": "integer"
        }
       ],
       "ref": "3d55cbb3-00ed-4094-ad70-d9b1d64ae2ea",
       "rows": [
        [
         "[]",
         "47251"
        ],
        [
         "['Death', 'Other', 'Serious']",
         "10158"
        ],
        [
         "['Other', 'Serious']",
         "5478"
        ],
        [
         "['Other']",
         "4555"
        ],
        [
         "['Death', 'Other']",
         "1922"
        ],
        [
         "['Death']",
         "891"
        ],
        [
         "['Death', 'Serious']",
         "477"
        ],
        [
         "['Serious']",
         "309"
        ]
       ],
       "shape": {
        "columns": 1,
        "rows": 8
       }
      },
      "text/plain": [
       "Adverse_List\n",
       "[]                         47251\n",
       "[Death, Other, Serious]    10158\n",
       "[Other, Serious]            5478\n",
       "[Other]                     4555\n",
       "[Death, Other]              1922\n",
       "[Death]                      891\n",
       "[Death, Serious]             477\n",
       "[Serious]                    309\n",
       "Name: count, dtype: int64"
      ]
     },
     "metadata": {},
     "output_type": "display_data"
    }
   ],
   "source": [
    "df = df.merge(my_adverse[[\"nct_id\", \"event_type\", \"event_sum\"]], on = \"nct_id\", how = \"left\")\n",
    "df = df.rename(columns={\"event_type\" : \"Adverse_List\"})\n",
    "display(df[\"Adverse_List\"].value_counts(dropna=False))"
   ]
  },
  {
   "cell_type": "markdown",
   "metadata": {},
   "source": [
    "### NaNs++ -> None"
   ]
  },
  {
   "cell_type": "code",
   "execution_count": 260,
   "metadata": {},
   "outputs": [
    {
     "data": {
      "application/vnd.microsoft.datawrangler.viewer.v0+json": {
       "columns": [
        {
         "name": "Adverse_List",
         "rawType": "object",
         "type": "unknown"
        },
        {
         "name": "count",
         "rawType": "int64",
         "type": "integer"
        }
       ],
       "ref": "9ee27d1d-ec1a-4c3a-9654-7d728304d8ad",
       "rows": [
        [
         "['Adv_None']",
         "47251"
        ],
        [
         "['Adv_Death', 'Adv_Unspecified', 'Adv_Serious']",
         "10158"
        ],
        [
         "['Adv_Unspecified', 'Adv_Serious']",
         "5478"
        ],
        [
         "['Adv_Unspecified']",
         "4555"
        ],
        [
         "['Adv_Death', 'Adv_Unspecified']",
         "1922"
        ],
        [
         "['Adv_Death']",
         "891"
        ],
        [
         "['Adv_Death', 'Adv_Serious']",
         "477"
        ],
        [
         "['Adv_Serious']",
         "309"
        ]
       ],
       "shape": {
        "columns": 1,
        "rows": 8
       }
      },
      "text/plain": [
       "Adverse_List\n",
       "[Adv_None]                                   47251\n",
       "[Adv_Death, Adv_Unspecified, Adv_Serious]    10158\n",
       "[Adv_Unspecified, Adv_Serious]                5478\n",
       "[Adv_Unspecified]                             4555\n",
       "[Adv_Death, Adv_Unspecified]                  1922\n",
       "[Adv_Death]                                    891\n",
       "[Adv_Death, Adv_Serious]                       477\n",
       "[Adv_Serious]                                  309\n",
       "Name: count, dtype: int64"
      ]
     },
     "metadata": {},
     "output_type": "display_data"
    }
   ],
   "source": [
    "# if NaN here means no adverse recorded!\n",
    "df[\"Adverse_List\"] = df[\"Adverse_List\"].apply(lambda x: ['None'] if (isinstance(x, list) and len(x) == 0) else x) \n",
    "\n",
    "# Unspecified instead of Other because in drop_first for dummy encoing words like other/none are dropped, and this column\n",
    "# already has a none category.\n",
    "df[\"Adverse_List\"] = df[\"Adverse_List\"].apply(lambda row: ['Unspecified' if x == 'Other' else x for x in row])\n",
    "df['Adverse_List'] = df['Adverse_List'].apply(lambda row: ['Adv_' + elem for elem in row])\n",
    "\n",
    "display(df[\"Adverse_List\"].value_counts(dropna=False))"
   ]
  },
  {
   "cell_type": "markdown",
   "metadata": {},
   "source": [
    "## Adverse_Counts\n",
    "- number of adverse noticed at the participants is not the same with non None adverse events noticed above. \n",
    "- Distribution of Adverse_Counts is up to 75% at 0. Only Adverse_Bin is going to be used."
   ]
  },
  {
   "cell_type": "code",
   "execution_count": 261,
   "metadata": {},
   "outputs": [
    {
     "data": {
      "application/vnd.microsoft.datawrangler.viewer.v0+json": {
       "columns": [
        {
         "name": "Adverse_Counts",
         "rawType": "int32",
         "type": "integer"
        },
        {
         "name": "count",
         "rawType": "int64",
         "type": "integer"
        }
       ],
       "ref": "16164c69-e093-4947-a6f4-f19f73833f5a",
       "rows": [
        [
         "0",
         "48003"
        ],
        [
         "1",
         "1202"
        ],
        [
         "3",
         "777"
        ],
        [
         "6",
         "552"
        ],
        [
         "4",
         "465"
        ],
        [
         "2",
         "453"
        ],
        [
         "10",
         "426"
        ],
        [
         "5",
         "422"
        ],
        [
         "7",
         "402"
        ],
        [
         "8",
         "374"
        ],
        [
         "15",
         "352"
        ],
        [
         "9",
         "341"
        ],
        [
         "11",
         "332"
        ],
        [
         "12",
         "325"
        ],
        [
         "13",
         "324"
        ],
        [
         "14",
         "315"
        ],
        [
         "16",
         "297"
        ],
        [
         "21",
         "280"
        ],
        [
         "19",
         "262"
        ],
        [
         "17",
         "259"
        ],
        [
         "18",
         "259"
        ],
        [
         "20",
         "256"
        ],
        [
         "22",
         "236"
        ],
        [
         "25",
         "227"
        ],
        [
         "28",
         "219"
        ],
        [
         "24",
         "219"
        ],
        [
         "23",
         "217"
        ],
        [
         "29",
         "197"
        ],
        [
         "27",
         "195"
        ],
        [
         "30",
         "192"
        ],
        [
         "26",
         "190"
        ],
        [
         "31",
         "179"
        ],
        [
         "33",
         "168"
        ],
        [
         "32",
         "164"
        ],
        [
         "34",
         "161"
        ],
        [
         "35",
         "159"
        ],
        [
         "37",
         "148"
        ],
        [
         "36",
         "147"
        ],
        [
         "42",
         "137"
        ],
        [
         "41",
         "133"
        ],
        [
         "38",
         "133"
        ],
        [
         "39",
         "129"
        ],
        [
         "40",
         "125"
        ],
        [
         "48",
         "119"
        ],
        [
         "43",
         "117"
        ],
        [
         "44",
         "116"
        ],
        [
         "46",
         "116"
        ],
        [
         "50",
         "114"
        ],
        [
         "56",
         "108"
        ],
        [
         "45",
         "104"
        ]
       ],
       "shape": {
        "columns": 1,
        "rows": 1475
       }
      },
      "text/plain": [
       "Adverse_Counts\n",
       "0       48003\n",
       "1        1202\n",
       "3         777\n",
       "6         552\n",
       "4         465\n",
       "        ...  \n",
       "2739        1\n",
       "2629        1\n",
       "996         1\n",
       "1441        1\n",
       "704         1\n",
       "Name: count, Length: 1475, dtype: int64"
      ]
     },
     "metadata": {},
     "output_type": "display_data"
    }
   ],
   "source": [
    "df = df.rename(columns={\"event_sum\" : \"Adverse_Counts\"}) \n",
    "df[\"Adverse_Counts\"] = df[\"Adverse_Counts\"].astype(int)\n",
    "display(df[\"Adverse_Counts\"].value_counts(dropna = False))"
   ]
  },
  {
   "cell_type": "markdown",
   "metadata": {},
   "source": [
    "### NaNs\n",
    "Some rows have Adverse_Counts == 0 however adverse_list == ['Adv_Death']. But we do not know the number of events"
   ]
  },
  {
   "cell_type": "code",
   "execution_count": 262,
   "metadata": {},
   "outputs": [
    {
     "data": {
      "text/plain": [
       "752"
      ]
     },
     "execution_count": 262,
     "metadata": {},
     "output_type": "execute_result"
    }
   ],
   "source": [
    "df.loc[(df['Adverse_Counts'] == 0) & (df['Adverse_List'].apply(lambda x: x == ['Adv_Death'])), 'Adverse_Counts'].shape[0]"
   ]
  },
  {
   "cell_type": "markdown",
   "metadata": {},
   "source": [
    "## Adverse_Counts_Log\n",
    "- Distribution of Adverse_Counts is up to 75% at 0. Only Adverse_Bin is going to be used."
   ]
  },
  {
   "cell_type": "code",
   "execution_count": 263,
   "metadata": {},
   "outputs": [
    {
     "data": {
      "application/vnd.microsoft.datawrangler.viewer.v0+json": {
       "columns": [
        {
         "name": "index",
         "rawType": "object",
         "type": "string"
        },
        {
         "name": "Adverse_Counts_Log",
         "rawType": "float64",
         "type": "float"
        }
       ],
       "ref": "d247713c-ac81-4aa2-992b-fc2c26e37409",
       "rows": [
        [
         "count",
         "71041.0"
        ],
        [
         "mean",
         "1.1940807288973"
        ],
        [
         "std",
         "1.9612209022885918"
        ],
        [
         "min",
         "0.0"
        ],
        [
         "25%",
         "0.0"
        ],
        [
         "50%",
         "0.0"
        ],
        [
         "75%",
         "2.3978952727983707"
        ],
        [
         "max",
         "11.159758646073097"
        ]
       ],
       "shape": {
        "columns": 1,
        "rows": 8
       }
      },
      "text/plain": [
       "count    71041.000000\n",
       "mean         1.194081\n",
       "std          1.961221\n",
       "min          0.000000\n",
       "25%          0.000000\n",
       "50%          0.000000\n",
       "75%          2.397895\n",
       "max         11.159759\n",
       "Name: Adverse_Counts_Log, dtype: float64"
      ]
     },
     "metadata": {},
     "output_type": "display_data"
    }
   ],
   "source": [
    "df['Adverse_Counts_Log'] = np.log1p(df['Adverse_Counts'])\n",
    "display(df['Adverse_Counts_Log'].describe())"
   ]
  },
  {
   "cell_type": "markdown",
   "metadata": {},
   "source": [
    "## Adverse_Bin"
   ]
  },
  {
   "cell_type": "code",
   "execution_count": 264,
   "metadata": {},
   "outputs": [],
   "source": [
    "df.loc[df[\"Adverse_Counts\"] == 0, \"Adverse_Bin\"] = 'No'\n",
    "df.loc[df[\"Adverse_Counts\"] >= 1, \"Adverse_Bin\"] = 'Yes'"
   ]
  },
  {
   "cell_type": "markdown",
   "metadata": {},
   "source": [
    "## Adverse_System_List"
   ]
  },
  {
   "cell_type": "code",
   "execution_count": 265,
   "metadata": {},
   "outputs": [
    {
     "data": {
      "text/plain": [
       "Counter({'Gastrointestinal': 18346,\n",
       "         'Nervous System': 17421,\n",
       "         'General': 16705,\n",
       "         'Infections': 16427,\n",
       "         'Respiratory': 14651,\n",
       "         'Musculoskeletal': 13954,\n",
       "         'Skin': 12865,\n",
       "         'Injury, Poisoning, Procedural': 12054,\n",
       "         'Product Issues, Investigations': 11578,\n",
       "         'Metabolism/ Nutrition': 11203,\n",
       "         'Cardio': 11202,\n",
       "         'Psychiatric, Social': 10701,\n",
       "         'Vascular': 10683,\n",
       "         'Blood, Lymphatic, Endocrine': 10542,\n",
       "         'Renal, Urinary': 9907,\n",
       "         'Eye': 7697,\n",
       "         'Neoplasms': 7239,\n",
       "         'Reproductive, Pregnancy, Breast': 6313,\n",
       "         'Hepatobiliary': 6294,\n",
       "         'Ear': 5018,\n",
       "         'Immune System': 4633,\n",
       "         'Surgical, Medical': 2433})"
      ]
     },
     "metadata": {},
     "output_type": "display_data"
    }
   ],
   "source": [
    "df = df.merge(my_adverse_system[[\"nct_id\", \"organ_system\"]], on = \"nct_id\", how = \"left\")\n",
    "df = df.rename(columns={\"organ_system\" : \"Adverse_System_List\"})\n",
    "display(Counter([elem for row_list in df[\"Adverse_System_List\"].dropna() for elem in row_list]))  "
   ]
  },
  {
   "cell_type": "markdown",
   "metadata": {},
   "source": [
    "### NaNs++ -> None\n",
    "- Number is cose to Adverse_List ~ 43 thousands missing"
   ]
  },
  {
   "cell_type": "code",
   "execution_count": 266,
   "metadata": {},
   "outputs": [
    {
     "data": {
      "application/vnd.microsoft.datawrangler.viewer.v0+json": {
       "columns": [
        {
         "name": "index",
         "rawType": "int64",
         "type": "integer"
        },
        {
         "name": "Adverse_List",
         "rawType": "object",
         "type": "string"
        },
        {
         "name": "Adverse_System_List",
         "rawType": "object",
         "type": "string"
        }
       ],
       "ref": "df735fa0-bb57-4e07-b8e9-94b85d196eb8",
       "rows": [],
       "shape": {
        "columns": 2,
        "rows": 0
       }
      },
      "text/html": [
       "<div>\n",
       "<style scoped>\n",
       "    .dataframe tbody tr th:only-of-type {\n",
       "        vertical-align: middle;\n",
       "    }\n",
       "\n",
       "    .dataframe tbody tr th {\n",
       "        vertical-align: top;\n",
       "    }\n",
       "\n",
       "    .dataframe thead th {\n",
       "        text-align: right;\n",
       "    }\n",
       "</style>\n",
       "<table border=\"1\" class=\"dataframe\">\n",
       "  <thead>\n",
       "    <tr style=\"text-align: right;\">\n",
       "      <th></th>\n",
       "      <th>Adverse_List</th>\n",
       "      <th>Adverse_System_List</th>\n",
       "    </tr>\n",
       "  </thead>\n",
       "  <tbody>\n",
       "  </tbody>\n",
       "</table>\n",
       "</div>"
      ],
      "text/plain": [
       "Empty DataFrame\n",
       "Columns: [Adverse_List, Adverse_System_List]\n",
       "Index: []"
      ]
     },
     "execution_count": 266,
     "metadata": {},
     "output_type": "execute_result"
    }
   ],
   "source": [
    "df[df['Adverse_System_List'].apply(lambda x: x == ['Unspecified'])][['Adverse_List', 'Adverse_System_List' ]]"
   ]
  },
  {
   "cell_type": "code",
   "execution_count": 267,
   "metadata": {},
   "outputs": [
    {
     "data": {
      "application/vnd.microsoft.datawrangler.viewer.v0+json": {
       "columns": [
        {
         "name": "Adverse_System_List",
         "rawType": "object",
         "type": "string"
        },
        {
         "name": "count",
         "rawType": "int64",
         "type": "integer"
        }
       ],
       "ref": "e076db68-0f8c-4796-b057-18b69f7dbf07",
       "rows": [
        [
         "Adv_Syst_None",
         "47235"
        ],
        [
         "Adv_Syst_Gastrointestinal",
         "18346"
        ],
        [
         "Adv_Syst_General",
         "17586"
        ],
        [
         "Adv_Syst_Nervous System",
         "17421"
        ],
        [
         "Adv_Syst_Infections",
         "16427"
        ],
        [
         "Adv_Syst_Respiratory",
         "14651"
        ],
        [
         "Adv_Syst_Musculoskeletal",
         "13954"
        ],
        [
         "Adv_Syst_Skin",
         "12865"
        ],
        [
         "Adv_Syst_Injury, Poisoning, Procedural",
         "12054"
        ],
        [
         "Adv_Syst_Product Issues, Investigations",
         "11578"
        ],
        [
         "Adv_Syst_Metabolism/ Nutrition",
         "11203"
        ],
        [
         "Adv_Syst_Cardio",
         "11202"
        ],
        [
         "Adv_Syst_Psychiatric, Social",
         "10701"
        ],
        [
         "Adv_Syst_Vascular",
         "10683"
        ],
        [
         "Adv_Syst_Blood, Lymphatic, Endocrine",
         "10542"
        ],
        [
         "Adv_Syst_Renal, Urinary",
         "9907"
        ],
        [
         "Adv_Syst_Eye",
         "7697"
        ],
        [
         "Adv_Syst_Neoplasms",
         "7239"
        ],
        [
         "Adv_Syst_Reproductive, Pregnancy, Breast",
         "6313"
        ],
        [
         "Adv_Syst_Hepatobiliary",
         "6294"
        ],
        [
         "Adv_Syst_Ear",
         "5018"
        ],
        [
         "Adv_Syst_Immune System",
         "4633"
        ],
        [
         "Adv_Syst_Surgical, Medical",
         "2433"
        ]
       ],
       "shape": {
        "columns": 1,
        "rows": 23
       }
      },
      "text/plain": [
       "Adverse_System_List\n",
       "Adv_Syst_None                               47235\n",
       "Adv_Syst_Gastrointestinal                   18346\n",
       "Adv_Syst_General                            17586\n",
       "Adv_Syst_Nervous System                     17421\n",
       "Adv_Syst_Infections                         16427\n",
       "Adv_Syst_Respiratory                        14651\n",
       "Adv_Syst_Musculoskeletal                    13954\n",
       "Adv_Syst_Skin                               12865\n",
       "Adv_Syst_Injury, Poisoning, Procedural      12054\n",
       "Adv_Syst_Product Issues, Investigations     11578\n",
       "Adv_Syst_Metabolism/ Nutrition              11203\n",
       "Adv_Syst_Cardio                             11202\n",
       "Adv_Syst_Psychiatric, Social                10701\n",
       "Adv_Syst_Vascular                           10683\n",
       "Adv_Syst_Blood, Lymphatic, Endocrine        10542\n",
       "Adv_Syst_Renal, Urinary                      9907\n",
       "Adv_Syst_Eye                                 7697\n",
       "Adv_Syst_Neoplasms                           7239\n",
       "Adv_Syst_Reproductive, Pregnancy, Breast     6313\n",
       "Adv_Syst_Hepatobiliary                       6294\n",
       "Adv_Syst_Ear                                 5018\n",
       "Adv_Syst_Immune System                       4633\n",
       "Adv_Syst_Surgical, Medical                   2433\n",
       "Name: count, dtype: int64"
      ]
     },
     "metadata": {},
     "output_type": "display_data"
    },
    {
     "data": {
      "text/plain": [
       "Counter({'Adv_Syst_None': 47235,\n",
       "         'Adv_Syst_Gastrointestinal': 18346,\n",
       "         'Adv_Syst_General': 17586,\n",
       "         'Adv_Syst_Nervous System': 17421,\n",
       "         'Adv_Syst_Infections': 16427,\n",
       "         'Adv_Syst_Respiratory': 14651,\n",
       "         'Adv_Syst_Musculoskeletal': 13954,\n",
       "         'Adv_Syst_Skin': 12865,\n",
       "         'Adv_Syst_Injury, Poisoning, Procedural': 12054,\n",
       "         'Adv_Syst_Product Issues, Investigations': 11578,\n",
       "         'Adv_Syst_Metabolism/ Nutrition': 11203,\n",
       "         'Adv_Syst_Cardio': 11202,\n",
       "         'Adv_Syst_Psychiatric, Social': 10701,\n",
       "         'Adv_Syst_Vascular': 10683,\n",
       "         'Adv_Syst_Blood, Lymphatic, Endocrine': 10542,\n",
       "         'Adv_Syst_Renal, Urinary': 9907,\n",
       "         'Adv_Syst_Eye': 7697,\n",
       "         'Adv_Syst_Neoplasms': 7239,\n",
       "         'Adv_Syst_Reproductive, Pregnancy, Breast': 6313,\n",
       "         'Adv_Syst_Hepatobiliary': 6294,\n",
       "         'Adv_Syst_Ear': 5018,\n",
       "         'Adv_Syst_Immune System': 4633,\n",
       "         'Adv_Syst_Surgical, Medical': 2433})"
      ]
     },
     "metadata": {},
     "output_type": "display_data"
    }
   ],
   "source": [
    "# Checked: Only None and Death at Adv_List col for nan in Adverse_System_List col\n",
    "cond1 = (df['Adverse_System_List'].isnull()) & (df['Adverse_List'].apply(lambda x: x == ['Adv_None'])) \n",
    "cond2 = (df['Adverse_System_List'].isnull()) & (df['Adverse_List'].apply(lambda x: x == ['Adv_Death']))\n",
    "\n",
    "df['Adverse_System_List'] = np.where(cond1, 'None', df['Adverse_System_List'])\n",
    "df['Adverse_System_List'] = np.where(cond2, 'General', df['Adverse_System_List'])\n",
    "df['Adverse_System_List'] = df['Adverse_System_List'].apply(lambda x: [x] if isinstance(x, str) else x)\n",
    "\n",
    "df[\"Adverse_System_List\"] = df[\"Adverse_System_List\"].apply(lambda x: sorted(set(x)) if isinstance(x, str) else x)\n",
    "df['Adverse_System_List'] = df['Adverse_System_List'].apply(lambda lst: ['Adv_Syst_' + elem for elem in lst])\n",
    "\n",
    "display(df[\"Adverse_System_List\"].explode().value_counts(dropna=False))\n",
    "display(Counter([elem for row_list in df[\"Adverse_System_List\"] for elem in row_list]))\n"
   ]
  },
  {
   "cell_type": "markdown",
   "metadata": {},
   "source": [
    "## Adverse_System_Counts\n",
    "- How many organ systems where affected"
   ]
  },
  {
   "cell_type": "code",
   "execution_count": 268,
   "metadata": {},
   "outputs": [
    {
     "data": {
      "application/vnd.microsoft.datawrangler.viewer.v0+json": {
       "columns": [
        {
         "name": "Adverse_System_Counts",
         "rawType": "int64",
         "type": "integer"
        },
        {
         "name": "count",
         "rawType": "int64",
         "type": "integer"
        }
       ],
       "ref": "3b1c119f-a61f-42d1-aca5-54286f7b1d81",
       "rows": [
        [
         "0",
         "47235"
        ],
        [
         "1",
         "2560"
        ],
        [
         "2",
         "1364"
        ],
        [
         "3",
         "1206"
        ],
        [
         "4",
         "1163"
        ],
        [
         "6",
         "1120"
        ],
        [
         "5",
         "1101"
        ],
        [
         "8",
         "1098"
        ],
        [
         "18",
         "1088"
        ],
        [
         "7",
         "1082"
        ],
        [
         "17",
         "1073"
        ],
        [
         "9",
         "1059"
        ],
        [
         "12",
         "1057"
        ],
        [
         "11",
         "1020"
        ],
        [
         "19",
         "1014"
        ],
        [
         "16",
         "1003"
        ],
        [
         "10",
         "1001"
        ],
        [
         "15",
         "982"
        ],
        [
         "13",
         "955"
        ],
        [
         "14",
         "952"
        ],
        [
         "20",
         "859"
        ],
        [
         "21",
         "709"
        ],
        [
         "22",
         "340"
        ]
       ],
       "shape": {
        "columns": 1,
        "rows": 23
       }
      },
      "text/plain": [
       "Adverse_System_Counts\n",
       "0     47235\n",
       "1      2560\n",
       "2      1364\n",
       "3      1206\n",
       "4      1163\n",
       "6      1120\n",
       "5      1101\n",
       "8      1098\n",
       "18     1088\n",
       "7      1082\n",
       "17     1073\n",
       "9      1059\n",
       "12     1057\n",
       "11     1020\n",
       "19     1014\n",
       "16     1003\n",
       "10     1001\n",
       "15      982\n",
       "13      955\n",
       "14      952\n",
       "20      859\n",
       "21      709\n",
       "22      340\n",
       "Name: count, dtype: int64"
      ]
     },
     "metadata": {},
     "output_type": "display_data"
    }
   ],
   "source": [
    "df['Adverse_System_Counts'] = df['Adverse_System_List'].apply(\n",
    "    lambda x: len(x) if isinstance(x, list) and x != ['Adv_Syst_None'] else 0)\n",
    "display(df['Adverse_System_Counts'].value_counts(dropna = False))"
   ]
  },
  {
   "cell_type": "markdown",
   "metadata": {},
   "source": [
    "## Adverse_System_Counts_Log"
   ]
  },
  {
   "cell_type": "code",
   "execution_count": 269,
   "metadata": {},
   "outputs": [
    {
     "data": {
      "application/vnd.microsoft.datawrangler.viewer.v0+json": {
       "columns": [
        {
         "name": "index",
         "rawType": "object",
         "type": "string"
        },
        {
         "name": "Adverse_System_Counts_Log",
         "rawType": "float64",
         "type": "float"
        }
       ],
       "ref": "8e73920a-493f-4c84-8969-99ec9fd5edc1",
       "rows": [
        [
         "count",
         "71041.0"
        ],
        [
         "mean",
         "0.7262561722912966"
        ],
        [
         "std",
         "1.1124954998753345"
        ],
        [
         "min",
         "0.0"
        ],
        [
         "25%",
         "0.0"
        ],
        [
         "50%",
         "0.0"
        ],
        [
         "75%",
         "1.6094379124341003"
        ],
        [
         "max",
         "3.1354942159291497"
        ]
       ],
       "shape": {
        "columns": 1,
        "rows": 8
       }
      },
      "text/plain": [
       "count    71041.000000\n",
       "mean         0.726256\n",
       "std          1.112495\n",
       "min          0.000000\n",
       "25%          0.000000\n",
       "50%          0.000000\n",
       "75%          1.609438\n",
       "max          3.135494\n",
       "Name: Adverse_System_Counts_Log, dtype: float64"
      ]
     },
     "execution_count": 269,
     "metadata": {},
     "output_type": "execute_result"
    }
   ],
   "source": [
    "df['Adverse_System_Counts_Log'] = np.log1p(df[\"Adverse_System_Counts\"]) \n",
    "df['Adverse_System_Counts_Log'].describe()"
   ]
  },
  {
   "cell_type": "markdown",
   "metadata": {},
   "source": [
    "## Study Design\n",
    "\n",
    "Source: \n",
    "https://clinicaltrials.gov/policy/protocol-definitions#study-design\n",
    "\n",
    "Clinical Trials.gov Documentation: \n",
    "1. Allocation: \n",
    "The method by which participants are assigned to arms in a clinical trial.\n",
    "- N/A (not applicable): For a single-arm trial\n",
    "- Randomized: Participants are assigned to intervention groups by chance\n",
    "- Nonrandomized: Participants are expressly assigned to intervention groups through a non-random method, such as physician choice \n",
    "2. Intervention_model (Single Group, Crossover etc.)\n",
    "3. Masking  (Blindness, None, Double etc.)\n",
    "4. Primary purpose (Treatment, Screening etc.)\n",
    "\n"
   ]
  },
  {
   "cell_type": "markdown",
   "metadata": {},
   "source": [
    "### Allocation_List"
   ]
  },
  {
   "cell_type": "code",
   "execution_count": 270,
   "metadata": {},
   "outputs": [
    {
     "data": {
      "application/vnd.microsoft.datawrangler.viewer.v0+json": {
       "columns": [
        {
         "name": "Allocation_List",
         "rawType": "object",
         "type": "unknown"
        },
        {
         "name": "count",
         "rawType": "int64",
         "type": "integer"
        }
       ],
       "ref": "d2bebaa0-ad48-475b-a328-dee5e9538340",
       "rows": [
        [
         "RANDOMIZED",
         "46902"
        ],
        [
         "NA",
         "16652"
        ],
        [
         "NON_RANDOMIZED",
         "7266"
        ],
        [
         null,
         "221"
        ]
       ],
       "shape": {
        "columns": 1,
        "rows": 4
       }
      },
      "text/plain": [
       "Allocation_List\n",
       "RANDOMIZED        46902\n",
       "NA                16652\n",
       "NON_RANDOMIZED     7266\n",
       "None                221\n",
       "Name: count, dtype: int64"
      ]
     },
     "metadata": {},
     "output_type": "display_data"
    },
    {
     "data": {
      "text/plain": [
       "(71041, 56)"
      ]
     },
     "metadata": {},
     "output_type": "display_data"
    }
   ],
   "source": [
    "df = df.merge(my_designs[[\"nct_id\", \"allocation\"]], on = \"nct_id\", how = \"left\")\n",
    "df = df.rename(columns = {\"allocation\" : \"Allocation_List\"})\n",
    "display(df[\"Allocation_List\"].value_counts(dropna=False))\n",
    "display(df.shape)"
   ]
  },
  {
   "cell_type": "markdown",
   "metadata": {},
   "source": [
    "#### NaN --> Fillna text + Drop"
   ]
  },
  {
   "cell_type": "code",
   "execution_count": 271,
   "metadata": {},
   "outputs": [
    {
     "data": {
      "application/vnd.microsoft.datawrangler.viewer.v0+json": {
       "columns": [
        {
         "name": "Allocation_List",
         "rawType": "object",
         "type": "unknown"
        },
        {
         "name": "count",
         "rawType": "int64",
         "type": "integer"
        }
       ],
       "ref": "6ec22c81-af66-4007-bef9-766a571eec4a",
       "rows": [
        [
         "RANDOMIZED",
         "46909"
        ],
        [
         "NA_RANDOMIZED",
         "16652"
        ],
        [
         "NON_RANDOMIZED",
         "7281"
        ],
        [
         null,
         "199"
        ]
       ],
       "shape": {
        "columns": 1,
        "rows": 4
       }
      },
      "text/plain": [
       "Allocation_List\n",
       "RANDOMIZED        46909\n",
       "NA_RANDOMIZED     16652\n",
       "NON_RANDOMIZED     7281\n",
       "None                199\n",
       "Name: count, dtype: int64"
      ]
     },
     "metadata": {},
     "output_type": "display_data"
    },
    {
     "data": {
      "application/vnd.microsoft.datawrangler.viewer.v0+json": {
       "columns": [
        {
         "name": "Allocation_List",
         "rawType": "object",
         "type": "string"
        },
        {
         "name": "count",
         "rawType": "int64",
         "type": "integer"
        }
       ],
       "ref": "ea41de02-0863-4c13-9b8d-67ac4b3f72ed",
       "rows": [
        [
         "RANDOMIZED",
         "46909"
        ],
        [
         "NA_RANDOMIZED",
         "16652"
        ],
        [
         "NON_RANDOMIZED",
         "7281"
        ]
       ],
       "shape": {
        "columns": 1,
        "rows": 3
       }
      },
      "text/plain": [
       "Allocation_List\n",
       "RANDOMIZED        46909\n",
       "NA_RANDOMIZED     16652\n",
       "NON_RANDOMIZED     7281\n",
       "Name: count, dtype: int64"
      ]
     },
     "metadata": {},
     "output_type": "display_data"
    }
   ],
   "source": [
    "# Allocation Fillna\n",
    "df.loc[(df[\"Allocation_List\"].isnull()) & (df[\"Brief Summary\"].str.contains(r\"(?i)\\snon.randomized\\s|open label\" , case = False , na = False) ) , \"Allocation_List\"] = \"NON_RANDOMIZED\"\n",
    "df.loc[(df[\"Allocation_List\"].isnull()) & (df[\"Brief Summary\"].str.contains(r\"(?i)\\srandomized\\s\")) & ~(df[\"Brief Summary\"].str.contains(r\"(?i)\\snon.randomized\\s\", case = False , na = False)) , \"Allocation_List\"] = \"RANDOMIZED\"\n",
    "\n",
    "df[\"Allocation_List\"] = df[\"Allocation_List\"].replace({\"NA\" : \"NA_RANDOMIZED\"})\n",
    "display(df[\"Allocation_List\"].value_counts(dropna = False))\n",
    "df = df.dropna(subset = [\"Allocation_List\"])\n",
    "display(df[\"Allocation_List\"].value_counts(dropna = False))\n"
   ]
  },
  {
   "cell_type": "markdown",
   "metadata": {},
   "source": [
    "### Intervention_Model_List"
   ]
  },
  {
   "cell_type": "code",
   "execution_count": 272,
   "metadata": {},
   "outputs": [
    {
     "data": {
      "application/vnd.microsoft.datawrangler.viewer.v0+json": {
       "columns": [
        {
         "name": "Intervention_Model_List",
         "rawType": "object",
         "type": "unknown"
        },
        {
         "name": "count",
         "rawType": "int64",
         "type": "integer"
        }
       ],
       "ref": "d030d0c9-205d-4250-809a-104c560d7048",
       "rows": [
        [
         "PARALLEL",
         "40880"
        ],
        [
         "SINGLE_GROUP",
         "18842"
        ],
        [
         "CROSSOVER",
         "7274"
        ],
        [
         "SEQUENTIAL",
         "3196"
        ],
        [
         "FACTORIAL",
         "564"
        ],
        [
         null,
         "86"
        ]
       ],
       "shape": {
        "columns": 1,
        "rows": 6
       }
      },
      "text/plain": [
       "Intervention_Model_List\n",
       "PARALLEL        40880\n",
       "SINGLE_GROUP    18842\n",
       "CROSSOVER        7274\n",
       "SEQUENTIAL       3196\n",
       "FACTORIAL         564\n",
       "None               86\n",
       "Name: count, dtype: int64"
      ]
     },
     "metadata": {},
     "output_type": "display_data"
    }
   ],
   "source": [
    "df = df.merge(my_designs[[\"nct_id\", \"intervention_model\"]], on = \"nct_id\", how = \"left\")\n",
    "df = df.rename(columns={\"intervention_model\" : \"Intervention_Model_List\"})\n",
    "display(df[\"Intervention_Model_List\"].value_counts(dropna=False))"
   ]
  },
  {
   "cell_type": "markdown",
   "metadata": {},
   "source": [
    "#### NaNs -> Fillna text + Drop"
   ]
  },
  {
   "cell_type": "code",
   "execution_count": 273,
   "metadata": {},
   "outputs": [
    {
     "data": {
      "application/vnd.microsoft.datawrangler.viewer.v0+json": {
       "columns": [
        {
         "name": "Intervention_Model_List",
         "rawType": "object",
         "type": "unknown"
        },
        {
         "name": "count",
         "rawType": "int64",
         "type": "integer"
        }
       ],
       "ref": "92ecc622-4606-410e-9d3f-1249f81404b1",
       "rows": [
        [
         "PARALLEL",
         "40882"
        ],
        [
         "SINGLE_GROUP",
         "18842"
        ],
        [
         "CROSSOVER",
         "7275"
        ],
        [
         "SEQUENTIAL",
         "3201"
        ],
        [
         "FACTORIAL",
         "564"
        ],
        [
         null,
         "78"
        ]
       ],
       "shape": {
        "columns": 1,
        "rows": 6
       }
      },
      "text/plain": [
       "Intervention_Model_List\n",
       "PARALLEL        40882\n",
       "SINGLE_GROUP    18842\n",
       "CROSSOVER        7275\n",
       "SEQUENTIAL       3201\n",
       "FACTORIAL         564\n",
       "None               78\n",
       "Name: count, dtype: int64"
      ]
     },
     "metadata": {},
     "output_type": "display_data"
    },
    {
     "data": {
      "application/vnd.microsoft.datawrangler.viewer.v0+json": {
       "columns": [
        {
         "name": "Intervention_Model_List",
         "rawType": "object",
         "type": "string"
        },
        {
         "name": "count",
         "rawType": "int64",
         "type": "integer"
        }
       ],
       "ref": "6ae5886e-b851-475d-a5cc-e1554c86a0e6",
       "rows": [
        [
         "PARALLEL",
         "40882"
        ],
        [
         "SINGLE_GROUP",
         "18842"
        ],
        [
         "CROSSOVER",
         "7275"
        ],
        [
         "SEQUENTIAL",
         "3201"
        ],
        [
         "FACTORIAL",
         "564"
        ]
       ],
       "shape": {
        "columns": 1,
        "rows": 5
       }
      },
      "text/plain": [
       "Intervention_Model_List\n",
       "PARALLEL        40882\n",
       "SINGLE_GROUP    18842\n",
       "CROSSOVER        7275\n",
       "SEQUENTIAL       3201\n",
       "FACTORIAL         564\n",
       "Name: count, dtype: int64"
      ]
     },
     "metadata": {},
     "output_type": "display_data"
    },
    {
     "data": {
      "text/plain": [
       "(70764, 57)"
      ]
     },
     "metadata": {},
     "output_type": "display_data"
    }
   ],
   "source": [
    "# Fillna Intervention model\n",
    "# display(df.loc[df[\"Intervention_Model\"].isnull() & df[\"Brief Summary\"].str.contains(r\"(?i)PARALLEL|SINGLE GROUP|CROSSOVER|SEQUENTIAL|FACTORIAL\"), \"Brief Summary\"].values[0:2])\n",
    "\n",
    "df.loc[df[\"Intervention_Model_List\"].isnull() & df[\"Brief Summary\"].str.contains(r\"PARALLEL\", case = False), \"Intervention_Model_List\"] = \"PARALLEL\"\n",
    "df.loc[df[\"Intervention_Model_List\"].isnull() & df[\"Brief Summary\"].str.contains(r\"SINGLE GROUP\", case = False), \"Intervention_Model_List\"] = \"SINGLE_GROUP\"\n",
    "df.loc[df[\"Intervention_Model_List\"].isnull() & df[\"Brief Summary\"].str.contains(r\"CROSSOVER\", case = False), \"Intervention_Model_List\"] = \"CROSSOVER\"\n",
    "df.loc[df[\"Intervention_Model_List\"].isnull() & df[\"Brief Summary\"].str.contains(r\"SEQUENTIAL\", case = False), \"Intervention_Model_List\"] = \"SEQUENTIAL\"\n",
    "df.loc[df[\"Intervention_Model_List\"].isnull() & df[\"Brief Summary\"].str.contains(r\"FACTORIAL\", case = False), \"Intervention_Model_List\"] = \"FACTORIAL\"\n",
    "\n",
    "display(df[\"Intervention_Model_List\"].value_counts(dropna=False))\n",
    "df = df.dropna(subset = [\"Intervention_Model_List\"])\n",
    "display(df[\"Intervention_Model_List\"].value_counts(dropna=False))\n",
    "display(df.shape)"
   ]
  },
  {
   "cell_type": "markdown",
   "metadata": {},
   "source": [
    "### Masking_List\n",
    "\n",
    "ClinicalTrials.gov Documentation:\n",
    "•\tMasking\n",
    "A clinical trial design strategy in which one or more parties involved in the trial, such as the investigator or participants, do not know which participants have been assigned which interventions. Types of masking include: open label, single blind masking, and double-blind masking.\n"
   ]
  },
  {
   "cell_type": "code",
   "execution_count": 274,
   "metadata": {},
   "outputs": [
    {
     "data": {
      "application/vnd.microsoft.datawrangler.viewer.v0+json": {
       "columns": [
        {
         "name": "Masking_List",
         "rawType": "object",
         "type": "unknown"
        },
        {
         "name": "count",
         "rawType": "int64",
         "type": "integer"
        }
       ],
       "ref": "668a65d1-e5d2-47da-a92b-78361d1cb51d",
       "rows": [
        [
         "MASK_NONE",
         "36931"
        ],
        [
         "QUADRUPLE",
         "12361"
        ],
        [
         "DOUBLE",
         "10249"
        ],
        [
         "TRIPLE",
         "6495"
        ],
        [
         "SINGLE",
         "4667"
        ],
        [
         null,
         "61"
        ]
       ],
       "shape": {
        "columns": 1,
        "rows": 6
       }
      },
      "text/plain": [
       "Masking_List\n",
       "MASK_NONE    36931\n",
       "QUADRUPLE    12361\n",
       "DOUBLE       10249\n",
       "TRIPLE        6495\n",
       "SINGLE        4667\n",
       "None            61\n",
       "Name: count, dtype: int64"
      ]
     },
     "metadata": {},
     "output_type": "display_data"
    }
   ],
   "source": [
    "df = df.merge(my_designs[[\"nct_id\", \"masking\"]], on = \"nct_id\", how = \"left\")\n",
    "df = df.rename(columns = {\"masking\" : \"Masking_List\"})\n",
    "df['Masking_List'] = df['Masking_List'].replace('NONE', 'MASK_NONE')\n",
    "display(df[\"Masking_List\"].value_counts(dropna=False))"
   ]
  },
  {
   "cell_type": "markdown",
   "metadata": {},
   "source": [
    "#### NaN --> Fillna text + Drop"
   ]
  },
  {
   "cell_type": "code",
   "execution_count": 275,
   "metadata": {},
   "outputs": [
    {
     "data": {
      "application/vnd.microsoft.datawrangler.viewer.v0+json": {
       "columns": [
        {
         "name": "Masking_List",
         "rawType": "object",
         "type": "unknown"
        },
        {
         "name": "count",
         "rawType": "int64",
         "type": "integer"
        }
       ],
       "ref": "7f453bd2-21dd-42e5-99b9-a1840cf27159",
       "rows": [
        [
         "MASK_NONE",
         "36939"
        ],
        [
         "QUADRUPLE",
         "12361"
        ],
        [
         "DOUBLE",
         "10251"
        ],
        [
         "TRIPLE",
         "6495"
        ],
        [
         "SINGLE",
         "4667"
        ],
        [
         null,
         "51"
        ]
       ],
       "shape": {
        "columns": 1,
        "rows": 6
       }
      },
      "text/plain": [
       "Masking_List\n",
       "MASK_NONE    36939\n",
       "QUADRUPLE    12361\n",
       "DOUBLE       10251\n",
       "TRIPLE        6495\n",
       "SINGLE        4667\n",
       "None            51\n",
       "Name: count, dtype: int64"
      ]
     },
     "metadata": {},
     "output_type": "display_data"
    },
    {
     "data": {
      "application/vnd.microsoft.datawrangler.viewer.v0+json": {
       "columns": [
        {
         "name": "Masking_List",
         "rawType": "object",
         "type": "string"
        },
        {
         "name": "count",
         "rawType": "int64",
         "type": "integer"
        }
       ],
       "ref": "2ae28254-862d-427f-a6a8-032d33cff392",
       "rows": [
        [
         "MASK_NONE",
         "36939"
        ],
        [
         "QUADRUPLE",
         "12361"
        ],
        [
         "DOUBLE",
         "10251"
        ],
        [
         "TRIPLE",
         "6495"
        ],
        [
         "SINGLE",
         "4667"
        ]
       ],
       "shape": {
        "columns": 1,
        "rows": 5
       }
      },
      "text/plain": [
       "Masking_List\n",
       "MASK_NONE    36939\n",
       "QUADRUPLE    12361\n",
       "DOUBLE       10251\n",
       "TRIPLE        6495\n",
       "SINGLE        4667\n",
       "Name: count, dtype: int64"
      ]
     },
     "metadata": {},
     "output_type": "display_data"
    },
    {
     "data": {
      "text/plain": [
       "(70713, 58)"
      ]
     },
     "metadata": {},
     "output_type": "display_data"
    }
   ],
   "source": [
    "# Fillna from Brief Summary \n",
    "df.loc[df[\"Masking_List\"].isnull() & df[\"Brief Summary\"].str.contains(r\"(?i)OPEN.LABEL\") , \"Masking_List\"] = \"MASK_NONE\"\n",
    "df.loc[df[\"Masking_List\"].isnull() & df[\"Brief Summary\"].str.contains(r\"(?i)SINGLE.BLIND\") , \"Masking_List\"] = \"SINGLE\"\n",
    "df.loc[df[\"Masking_List\"].isnull() & df[\"Brief Summary\"].str.contains(r\"(?i)DOUBLE.BLIND\") , \"Masking_List\"] = \"DOUBLE\"\n",
    "df.loc[df[\"Masking_List\"].isnull() & df[\"Brief Summary\"].str.contains(r\"(?i)TRIPLE.BLIND\") , \"Masking_List\"] = \"TRIPLE\"\n",
    "df.loc[df[\"Masking_List\"].isnull() & df[\"Brief Summary\"].str.contains(r\"(?i)QUADRUPLE.BLIND\") , \"Masking_List\"] = \"QUADRUPLE\"\n",
    "\n",
    "display(df[\"Masking_List\"].value_counts(dropna = False))\n",
    "df = df.dropna(subset = [\"Masking_List\"])\n",
    "display(df[\"Masking_List\"].value_counts(dropna = False))\n",
    "display(df.shape)"
   ]
  },
  {
   "cell_type": "markdown",
   "metadata": {},
   "source": [
    "### Masking_Detail_List"
   ]
  },
  {
   "cell_type": "code",
   "execution_count": 276,
   "metadata": {},
   "outputs": [],
   "source": [
    "df = df.merge(my_designs[[\"nct_id\", \"masking_detail\"]], on = \"nct_id\", how = \"left\")\n",
    "df = df.rename(columns = {\"masking_detail\" : \"Masking_Detail_List\"})"
   ]
  },
  {
   "cell_type": "markdown",
   "metadata": {},
   "source": [
    "#### NaN --> Fillna + Drop"
   ]
  },
  {
   "cell_type": "code",
   "execution_count": 277,
   "metadata": {},
   "outputs": [
    {
     "data": {
      "application/vnd.microsoft.datawrangler.viewer.v0+json": {
       "columns": [
        {
         "name": "Masking_Detail_List",
         "rawType": "object",
         "type": "unknown"
        },
        {
         "name": "count",
         "rawType": "int64",
         "type": "integer"
        }
       ],
       "ref": "8aa7ea50-1313-42af-89df-1ac7cff19abb",
       "rows": [
        [
         "['MASK_DET_NONE']",
         "36939"
        ],
        [
         "['PARTICIPANT', 'INVESTIGATOR', 'CARE_PROVIDER', 'OUTCOMES_ASSESSOR']",
         "12361"
        ],
        [
         "['INVESTIGATOR', 'PARTICIPANT']",
         "8063"
        ],
        [
         "['INVESTIGATOR', 'CARE_PROVIDER', 'PARTICIPANT']",
         "3497"
        ],
        [
         "['PARTICIPANT', 'INVESTIGATOR', 'OUTCOMES_ASSESSOR']",
         "2456"
        ],
        [
         "['PARTICIPANT']",
         "2160"
        ],
        [
         "['OUTCOMES_ASSESSOR']",
         "1797"
        ],
        [
         "['PARTICIPANT', 'OUTCOMES_ASSESSOR']",
         "938"
        ],
        [
         "['PARTICIPANT', 'CARE_PROVIDER']",
         "674"
        ],
        [
         "['INVESTIGATOR']",
         "607"
        ],
        [
         "['PARTICIPANT', 'CARE_PROVIDER', 'OUTCOMES_ASSESSOR']",
         "461"
        ],
        [
         "['INVESTIGATOR', 'OUTCOMES_ASSESSOR']",
         "307"
        ],
        [
         null,
         "177"
        ],
        [
         "['INVESTIGATOR', 'CARE_PROVIDER', 'OUTCOMES_ASSESSOR']",
         "81"
        ],
        [
         "['CARE_PROVIDER']",
         "79"
        ],
        [
         "['INVESTIGATOR', 'CARE_PROVIDER']",
         "64"
        ],
        [
         "['CARE_PROVIDER', 'OUTCOMES_ASSESSOR']",
         "52"
        ]
       ],
       "shape": {
        "columns": 1,
        "rows": 17
       }
      },
      "text/plain": [
       "Masking_Detail_List\n",
       "[MASK_DET_NONE]                                                  36939\n",
       "[PARTICIPANT, INVESTIGATOR, CARE_PROVIDER, OUTCOMES_ASSESSOR]    12361\n",
       "[INVESTIGATOR, PARTICIPANT]                                       8063\n",
       "[INVESTIGATOR, CARE_PROVIDER, PARTICIPANT]                        3497\n",
       "[PARTICIPANT, INVESTIGATOR, OUTCOMES_ASSESSOR]                    2456\n",
       "[PARTICIPANT]                                                     2160\n",
       "[OUTCOMES_ASSESSOR]                                               1797\n",
       "[PARTICIPANT, OUTCOMES_ASSESSOR]                                   938\n",
       "[PARTICIPANT, CARE_PROVIDER]                                       674\n",
       "[INVESTIGATOR]                                                     607\n",
       "[PARTICIPANT, CARE_PROVIDER, OUTCOMES_ASSESSOR]                    461\n",
       "[INVESTIGATOR, OUTCOMES_ASSESSOR]                                  307\n",
       "NaN                                                                177\n",
       "[INVESTIGATOR, CARE_PROVIDER, OUTCOMES_ASSESSOR]                    81\n",
       "[CARE_PROVIDER]                                                     79\n",
       "[INVESTIGATOR, CARE_PROVIDER]                                       64\n",
       "[CARE_PROVIDER, OUTCOMES_ASSESSOR]                                  52\n",
       "Name: count, dtype: int64"
      ]
     },
     "metadata": {},
     "output_type": "display_data"
    },
    {
     "data": {
      "application/vnd.microsoft.datawrangler.viewer.v0+json": {
       "columns": [
        {
         "name": "Masking_Detail_List",
         "rawType": "object",
         "type": "unknown"
        },
        {
         "name": "count",
         "rawType": "int64",
         "type": "integer"
        }
       ],
       "ref": "fca18916-6661-469b-9983-6f434bb71338",
       "rows": [
        [
         "['MASK_DET_NONE']",
         "36939"
        ],
        [
         "['PARTICIPANT', 'INVESTIGATOR', 'CARE_PROVIDER', 'OUTCOMES_ASSESSOR']",
         "12361"
        ],
        [
         "['INVESTIGATOR', 'PARTICIPANT']",
         "8063"
        ],
        [
         "['INVESTIGATOR', 'CARE_PROVIDER', 'PARTICIPANT']",
         "3497"
        ],
        [
         "['PARTICIPANT', 'INVESTIGATOR', 'OUTCOMES_ASSESSOR']",
         "2456"
        ],
        [
         "['PARTICIPANT']",
         "2160"
        ],
        [
         "['OUTCOMES_ASSESSOR']",
         "1797"
        ],
        [
         "['PARTICIPANT', 'OUTCOMES_ASSESSOR']",
         "938"
        ],
        [
         "['PARTICIPANT', 'CARE_PROVIDER']",
         "674"
        ],
        [
         "['INVESTIGATOR']",
         "607"
        ],
        [
         "['PARTICIPANT', 'CARE_PROVIDER', 'OUTCOMES_ASSESSOR']",
         "461"
        ],
        [
         "['INVESTIGATOR', 'OUTCOMES_ASSESSOR']",
         "307"
        ],
        [
         "['INVESTIGATOR', 'CARE_PROVIDER', 'OUTCOMES_ASSESSOR']",
         "81"
        ],
        [
         "['CARE_PROVIDER']",
         "79"
        ],
        [
         "['INVESTIGATOR', 'CARE_PROVIDER']",
         "64"
        ],
        [
         "['CARE_PROVIDER', 'OUTCOMES_ASSESSOR']",
         "52"
        ]
       ],
       "shape": {
        "columns": 1,
        "rows": 16
       }
      },
      "text/plain": [
       "Masking_Detail_List\n",
       "[MASK_DET_NONE]                                                  36939\n",
       "[PARTICIPANT, INVESTIGATOR, CARE_PROVIDER, OUTCOMES_ASSESSOR]    12361\n",
       "[INVESTIGATOR, PARTICIPANT]                                       8063\n",
       "[INVESTIGATOR, CARE_PROVIDER, PARTICIPANT]                        3497\n",
       "[PARTICIPANT, INVESTIGATOR, OUTCOMES_ASSESSOR]                    2456\n",
       "[PARTICIPANT]                                                     2160\n",
       "[OUTCOMES_ASSESSOR]                                               1797\n",
       "[PARTICIPANT, OUTCOMES_ASSESSOR]                                   938\n",
       "[PARTICIPANT, CARE_PROVIDER]                                       674\n",
       "[INVESTIGATOR]                                                     607\n",
       "[PARTICIPANT, CARE_PROVIDER, OUTCOMES_ASSESSOR]                    461\n",
       "[INVESTIGATOR, OUTCOMES_ASSESSOR]                                  307\n",
       "[INVESTIGATOR, CARE_PROVIDER, OUTCOMES_ASSESSOR]                    81\n",
       "[CARE_PROVIDER]                                                     79\n",
       "[INVESTIGATOR, CARE_PROVIDER]                                       64\n",
       "[CARE_PROVIDER, OUTCOMES_ASSESSOR]                                  52\n",
       "Name: count, dtype: int64"
      ]
     },
     "metadata": {},
     "output_type": "display_data"
    },
    {
     "data": {
      "text/plain": [
       "(70536, 59)"
      ]
     },
     "metadata": {},
     "output_type": "display_data"
    }
   ],
   "source": [
    "# Fillna Masking_Detail\n",
    "# Masking = 'NONE' --> Masking_Details = ['NONE']\n",
    "'''display(df.loc[df[\"Masking_Detail_List\"].apply(    # value_counts for list element columns\n",
    "    lambda x: isinstance(x, list) and len(x) == 0)][\"Masking_List\"].value_counts(dropna=False))'''\n",
    "# For other levels (single, double etc.) no standard person is blinded.\n",
    "'''display(df.loc[df[\"Masking_List\"] == 'SINGLE'][[\"Masking_Detail_List\", \"Masking_List\"]])'''\n",
    "\n",
    "df.loc[(df[\"Masking_Detail_List\"].apply(\n",
    "    lambda x: isinstance(x, list) and len(x) == 0)) & \\\n",
    "        (df[\"Masking_List\"] == \"MASK_NONE\"), \"Masking_Detail_List\"] = \"MASK_DET_NONE\"\n",
    "\n",
    "df[\"Masking_Detail_List\"] = df[\"Masking_Detail_List\"].apply(lambda x: [\"MASK_DET_NONE\"] if x == \"MASK_DET_NONE\" else x)\n",
    "df[\"Masking_Detail_List\"] = df[\"Masking_Detail_List\"].apply(lambda x: np.NaN if isinstance(x, list) and len(x) == 0 else x)\n",
    "\n",
    "display(df[\"Masking_Detail_List\"].value_counts(dropna=False))\n",
    "df = df.dropna(subset = [\"Masking_Detail_List\"])\n",
    "display(df[\"Masking_Detail_List\"].value_counts(dropna=False))\n",
    "display(df.shape)"
   ]
  },
  {
   "cell_type": "code",
   "execution_count": 278,
   "metadata": {},
   "outputs": [
    {
     "data": {
      "application/vnd.microsoft.datawrangler.viewer.v0+json": {
       "columns": [
        {
         "name": "Masking_Detail_List",
         "rawType": "object",
         "type": "unknown"
        },
        {
         "name": "count",
         "rawType": "int64",
         "type": "integer"
        }
       ],
       "ref": "1bca1b8f-d106-4a11-ad0b-4d9029227bd6",
       "rows": [
        [
         "['MASK_DET_NONE']",
         "36939"
        ],
        [
         "['CARE_PROVIDER', 'INVESTIGATOR', 'OUTCOMES_ASSESSOR', 'PARTICIPANT']",
         "12361"
        ],
        [
         "['INVESTIGATOR', 'PARTICIPANT']",
         "8063"
        ],
        [
         "['CARE_PROVIDER', 'INVESTIGATOR', 'PARTICIPANT']",
         "3497"
        ],
        [
         "['INVESTIGATOR', 'OUTCOMES_ASSESSOR', 'PARTICIPANT']",
         "2456"
        ],
        [
         "['PARTICIPANT']",
         "2160"
        ],
        [
         "['OUTCOMES_ASSESSOR']",
         "1797"
        ],
        [
         "['OUTCOMES_ASSESSOR', 'PARTICIPANT']",
         "938"
        ],
        [
         "['CARE_PROVIDER', 'PARTICIPANT']",
         "674"
        ],
        [
         "['INVESTIGATOR']",
         "607"
        ],
        [
         "['CARE_PROVIDER', 'OUTCOMES_ASSESSOR', 'PARTICIPANT']",
         "461"
        ],
        [
         "['INVESTIGATOR', 'OUTCOMES_ASSESSOR']",
         "307"
        ],
        [
         "['CARE_PROVIDER', 'INVESTIGATOR', 'OUTCOMES_ASSESSOR']",
         "81"
        ],
        [
         "['CARE_PROVIDER']",
         "79"
        ],
        [
         "['CARE_PROVIDER', 'INVESTIGATOR']",
         "64"
        ],
        [
         "['CARE_PROVIDER', 'OUTCOMES_ASSESSOR']",
         "52"
        ]
       ],
       "shape": {
        "columns": 1,
        "rows": 16
       }
      },
      "text/plain": [
       "Masking_Detail_List\n",
       "[MASK_DET_NONE]                                                  36939\n",
       "[CARE_PROVIDER, INVESTIGATOR, OUTCOMES_ASSESSOR, PARTICIPANT]    12361\n",
       "[INVESTIGATOR, PARTICIPANT]                                       8063\n",
       "[CARE_PROVIDER, INVESTIGATOR, PARTICIPANT]                        3497\n",
       "[INVESTIGATOR, OUTCOMES_ASSESSOR, PARTICIPANT]                    2456\n",
       "[PARTICIPANT]                                                     2160\n",
       "[OUTCOMES_ASSESSOR]                                               1797\n",
       "[OUTCOMES_ASSESSOR, PARTICIPANT]                                   938\n",
       "[CARE_PROVIDER, PARTICIPANT]                                       674\n",
       "[INVESTIGATOR]                                                     607\n",
       "[CARE_PROVIDER, OUTCOMES_ASSESSOR, PARTICIPANT]                    461\n",
       "[INVESTIGATOR, OUTCOMES_ASSESSOR]                                  307\n",
       "[CARE_PROVIDER, INVESTIGATOR, OUTCOMES_ASSESSOR]                    81\n",
       "[CARE_PROVIDER]                                                     79\n",
       "[CARE_PROVIDER, INVESTIGATOR]                                       64\n",
       "[CARE_PROVIDER, OUTCOMES_ASSESSOR]                                  52\n",
       "Name: count, dtype: int64"
      ]
     },
     "execution_count": 278,
     "metadata": {},
     "output_type": "execute_result"
    }
   ],
   "source": [
    "df['Masking_Detail_List'].apply(lambda x: sorted(set(x))).value_counts()"
   ]
  },
  {
   "cell_type": "code",
   "execution_count": 279,
   "metadata": {},
   "outputs": [
    {
     "data": {
      "application/vnd.microsoft.datawrangler.viewer.v0+json": {
       "columns": [
        {
         "name": "index",
         "rawType": "int64",
         "type": "integer"
        },
        {
         "name": "Masking_Detail_List",
         "rawType": "object",
         "type": "unknown"
        },
        {
         "name": "Masking_List",
         "rawType": "object",
         "type": "string"
        },
        {
         "name": "count",
         "rawType": "int64",
         "type": "integer"
        }
       ],
       "ref": "ca1a17bc-7790-46dc-a50b-f237536c6eff",
       "rows": [
        [
         "0",
         "('MASK_DET_NONE',)",
         "MASK_NONE",
         "36939"
        ],
        [
         "1",
         "('PARTICIPANT', 'INVESTIGATOR', 'CARE_PROVIDER', 'OUTCOMES_ASSESSOR')",
         "QUADRUPLE",
         "12361"
        ],
        [
         "2",
         "('INVESTIGATOR', 'PARTICIPANT')",
         "DOUBLE",
         "8063"
        ],
        [
         "3",
         "('INVESTIGATOR', 'CARE_PROVIDER', 'PARTICIPANT')",
         "TRIPLE",
         "3497"
        ],
        [
         "4",
         "('PARTICIPANT', 'INVESTIGATOR', 'OUTCOMES_ASSESSOR')",
         "TRIPLE",
         "2456"
        ],
        [
         "5",
         "('PARTICIPANT',)",
         "SINGLE",
         "2160"
        ],
        [
         "6",
         "('OUTCOMES_ASSESSOR',)",
         "SINGLE",
         "1797"
        ],
        [
         "7",
         "('PARTICIPANT', 'OUTCOMES_ASSESSOR')",
         "DOUBLE",
         "938"
        ],
        [
         "8",
         "('PARTICIPANT', 'CARE_PROVIDER')",
         "DOUBLE",
         "674"
        ],
        [
         "9",
         "('INVESTIGATOR',)",
         "SINGLE",
         "607"
        ],
        [
         "10",
         "('PARTICIPANT', 'CARE_PROVIDER', 'OUTCOMES_ASSESSOR')",
         "TRIPLE",
         "461"
        ],
        [
         "11",
         "('INVESTIGATOR', 'OUTCOMES_ASSESSOR')",
         "DOUBLE",
         "307"
        ],
        [
         "12",
         "('INVESTIGATOR', 'CARE_PROVIDER', 'OUTCOMES_ASSESSOR')",
         "TRIPLE",
         "81"
        ],
        [
         "13",
         "('CARE_PROVIDER',)",
         "SINGLE",
         "79"
        ],
        [
         "14",
         "('INVESTIGATOR', 'CARE_PROVIDER')",
         "DOUBLE",
         "64"
        ],
        [
         "15",
         "('CARE_PROVIDER', 'OUTCOMES_ASSESSOR')",
         "DOUBLE",
         "52"
        ]
       ],
       "shape": {
        "columns": 3,
        "rows": 16
       }
      },
      "text/html": [
       "<div>\n",
       "<style scoped>\n",
       "    .dataframe tbody tr th:only-of-type {\n",
       "        vertical-align: middle;\n",
       "    }\n",
       "\n",
       "    .dataframe tbody tr th {\n",
       "        vertical-align: top;\n",
       "    }\n",
       "\n",
       "    .dataframe thead th {\n",
       "        text-align: right;\n",
       "    }\n",
       "</style>\n",
       "<table border=\"1\" class=\"dataframe\">\n",
       "  <thead>\n",
       "    <tr style=\"text-align: right;\">\n",
       "      <th></th>\n",
       "      <th>Masking_Detail_List</th>\n",
       "      <th>Masking_List</th>\n",
       "      <th>count</th>\n",
       "    </tr>\n",
       "  </thead>\n",
       "  <tbody>\n",
       "    <tr>\n",
       "      <th>0</th>\n",
       "      <td>(MASK_DET_NONE,)</td>\n",
       "      <td>MASK_NONE</td>\n",
       "      <td>36939</td>\n",
       "    </tr>\n",
       "    <tr>\n",
       "      <th>1</th>\n",
       "      <td>(PARTICIPANT, INVESTIGATOR, CARE_PROVIDER, OUT...</td>\n",
       "      <td>QUADRUPLE</td>\n",
       "      <td>12361</td>\n",
       "    </tr>\n",
       "    <tr>\n",
       "      <th>2</th>\n",
       "      <td>(INVESTIGATOR, PARTICIPANT)</td>\n",
       "      <td>DOUBLE</td>\n",
       "      <td>8063</td>\n",
       "    </tr>\n",
       "    <tr>\n",
       "      <th>3</th>\n",
       "      <td>(INVESTIGATOR, CARE_PROVIDER, PARTICIPANT)</td>\n",
       "      <td>TRIPLE</td>\n",
       "      <td>3497</td>\n",
       "    </tr>\n",
       "    <tr>\n",
       "      <th>4</th>\n",
       "      <td>(PARTICIPANT, INVESTIGATOR, OUTCOMES_ASSESSOR)</td>\n",
       "      <td>TRIPLE</td>\n",
       "      <td>2456</td>\n",
       "    </tr>\n",
       "    <tr>\n",
       "      <th>5</th>\n",
       "      <td>(PARTICIPANT,)</td>\n",
       "      <td>SINGLE</td>\n",
       "      <td>2160</td>\n",
       "    </tr>\n",
       "    <tr>\n",
       "      <th>6</th>\n",
       "      <td>(OUTCOMES_ASSESSOR,)</td>\n",
       "      <td>SINGLE</td>\n",
       "      <td>1797</td>\n",
       "    </tr>\n",
       "    <tr>\n",
       "      <th>7</th>\n",
       "      <td>(PARTICIPANT, OUTCOMES_ASSESSOR)</td>\n",
       "      <td>DOUBLE</td>\n",
       "      <td>938</td>\n",
       "    </tr>\n",
       "    <tr>\n",
       "      <th>8</th>\n",
       "      <td>(PARTICIPANT, CARE_PROVIDER)</td>\n",
       "      <td>DOUBLE</td>\n",
       "      <td>674</td>\n",
       "    </tr>\n",
       "    <tr>\n",
       "      <th>9</th>\n",
       "      <td>(INVESTIGATOR,)</td>\n",
       "      <td>SINGLE</td>\n",
       "      <td>607</td>\n",
       "    </tr>\n",
       "    <tr>\n",
       "      <th>10</th>\n",
       "      <td>(PARTICIPANT, CARE_PROVIDER, OUTCOMES_ASSESSOR)</td>\n",
       "      <td>TRIPLE</td>\n",
       "      <td>461</td>\n",
       "    </tr>\n",
       "    <tr>\n",
       "      <th>11</th>\n",
       "      <td>(INVESTIGATOR, OUTCOMES_ASSESSOR)</td>\n",
       "      <td>DOUBLE</td>\n",
       "      <td>307</td>\n",
       "    </tr>\n",
       "    <tr>\n",
       "      <th>12</th>\n",
       "      <td>(INVESTIGATOR, CARE_PROVIDER, OUTCOMES_ASSESSOR)</td>\n",
       "      <td>TRIPLE</td>\n",
       "      <td>81</td>\n",
       "    </tr>\n",
       "    <tr>\n",
       "      <th>13</th>\n",
       "      <td>(CARE_PROVIDER,)</td>\n",
       "      <td>SINGLE</td>\n",
       "      <td>79</td>\n",
       "    </tr>\n",
       "    <tr>\n",
       "      <th>14</th>\n",
       "      <td>(INVESTIGATOR, CARE_PROVIDER)</td>\n",
       "      <td>DOUBLE</td>\n",
       "      <td>64</td>\n",
       "    </tr>\n",
       "    <tr>\n",
       "      <th>15</th>\n",
       "      <td>(CARE_PROVIDER, OUTCOMES_ASSESSOR)</td>\n",
       "      <td>DOUBLE</td>\n",
       "      <td>52</td>\n",
       "    </tr>\n",
       "  </tbody>\n",
       "</table>\n",
       "</div>"
      ],
      "text/plain": [
       "                                  Masking_Detail_List Masking_List  count\n",
       "0                                    (MASK_DET_NONE,)    MASK_NONE  36939\n",
       "1   (PARTICIPANT, INVESTIGATOR, CARE_PROVIDER, OUT...    QUADRUPLE  12361\n",
       "2                         (INVESTIGATOR, PARTICIPANT)       DOUBLE   8063\n",
       "3          (INVESTIGATOR, CARE_PROVIDER, PARTICIPANT)       TRIPLE   3497\n",
       "4      (PARTICIPANT, INVESTIGATOR, OUTCOMES_ASSESSOR)       TRIPLE   2456\n",
       "5                                      (PARTICIPANT,)       SINGLE   2160\n",
       "6                                (OUTCOMES_ASSESSOR,)       SINGLE   1797\n",
       "7                    (PARTICIPANT, OUTCOMES_ASSESSOR)       DOUBLE    938\n",
       "8                        (PARTICIPANT, CARE_PROVIDER)       DOUBLE    674\n",
       "9                                     (INVESTIGATOR,)       SINGLE    607\n",
       "10    (PARTICIPANT, CARE_PROVIDER, OUTCOMES_ASSESSOR)       TRIPLE    461\n",
       "11                  (INVESTIGATOR, OUTCOMES_ASSESSOR)       DOUBLE    307\n",
       "12   (INVESTIGATOR, CARE_PROVIDER, OUTCOMES_ASSESSOR)       TRIPLE     81\n",
       "13                                   (CARE_PROVIDER,)       SINGLE     79\n",
       "14                      (INVESTIGATOR, CARE_PROVIDER)       DOUBLE     64\n",
       "15                 (CARE_PROVIDER, OUTCOMES_ASSESSOR)       DOUBLE     52"
      ]
     },
     "execution_count": 279,
     "metadata": {},
     "output_type": "execute_result"
    }
   ],
   "source": [
    "df_temp = df.copy()\n",
    "df_temp[\"Masking_Detail_List\"] = df_temp[\"Masking_Detail_List\"].apply(tuple)\n",
    "\n",
    "counts = (df_temp[[\"Masking_Detail_List\", \"Masking_List\"]]\n",
    "    .value_counts().reset_index(name=\"count\"))\n",
    "counts"
   ]
  },
  {
   "cell_type": "markdown",
   "metadata": {},
   "source": [
    "### Primary Purpose_List"
   ]
  },
  {
   "cell_type": "code",
   "execution_count": 280,
   "metadata": {},
   "outputs": [
    {
     "data": {
      "application/vnd.microsoft.datawrangler.viewer.v0+json": {
       "columns": [
        {
         "name": "Primary_Purpose_List",
         "rawType": "object",
         "type": "unknown"
        },
        {
         "name": "count",
         "rawType": "int64",
         "type": "integer"
        }
       ],
       "ref": "2c16a9a0-ad08-411e-a6b9-7050bfffaa32",
       "rows": [
        [
         "TREATMENT",
         "52719"
        ],
        [
         "PREVENTION",
         "6305"
        ],
        [
         "BASIC_SCIENCE",
         "4006"
        ],
        [
         "OTHER",
         "3264"
        ],
        [
         "DIAGNOSTIC",
         "1376"
        ],
        [
         "SUPPORTIVE_CARE",
         "1360"
        ],
        [
         null,
         "947"
        ],
        [
         "HEALTH_SERVICES_RESEARCH",
         "374"
        ],
        [
         "SCREENING",
         "158"
        ],
        [
         "DEVICE_FEASIBILITY",
         "27"
        ]
       ],
       "shape": {
        "columns": 1,
        "rows": 10
       }
      },
      "text/plain": [
       "Primary_Purpose_List\n",
       "TREATMENT                   52719\n",
       "PREVENTION                   6305\n",
       "BASIC_SCIENCE                4006\n",
       "OTHER                        3264\n",
       "DIAGNOSTIC                   1376\n",
       "SUPPORTIVE_CARE              1360\n",
       "None                          947\n",
       "HEALTH_SERVICES_RESEARCH      374\n",
       "SCREENING                     158\n",
       "DEVICE_FEASIBILITY             27\n",
       "Name: count, dtype: int64"
      ]
     },
     "metadata": {},
     "output_type": "display_data"
    }
   ],
   "source": [
    "df = df.merge(my_designs[[\"nct_id\", \"primary_purpose\"]], on = \"nct_id\", how = \"left\")\n",
    "df = df.rename(columns={\"primary_purpose\" : \"Primary_Purpose_List\"})\n",
    "display(df[\"Primary_Purpose_List\"].value_counts(dropna=False))\n"
   ]
  },
  {
   "cell_type": "markdown",
   "metadata": {},
   "source": [
    "#### NaN+ -> Other\n",
    "- Device had too little rows --> Possible sparse data problem "
   ]
  },
  {
   "cell_type": "code",
   "execution_count": 281,
   "metadata": {},
   "outputs": [
    {
     "data": {
      "application/vnd.microsoft.datawrangler.viewer.v0+json": {
       "columns": [
        {
         "name": "Primary_Purpose_List",
         "rawType": "object",
         "type": "string"
        },
        {
         "name": "count",
         "rawType": "int64",
         "type": "integer"
        }
       ],
       "ref": "f7ab1db4-81a2-4525-9664-6165fd58447e",
       "rows": [
        [
         "TREATMENT",
         "52719"
        ],
        [
         "PREVENTION",
         "6305"
        ],
        [
         "PRIM_PURP_OTHER",
         "4211"
        ],
        [
         "BASIC_SCIENCE",
         "4006"
        ],
        [
         "DIAGNOSTIC",
         "1376"
        ],
        [
         "SUPPORTIVE_CARE",
         "1360"
        ],
        [
         "HEALTH_SERVICES_RESEARCH",
         "374"
        ],
        [
         "SCREENING",
         "158"
        ],
        [
         "DEVICE_FEASIBILITY",
         "27"
        ]
       ],
       "shape": {
        "columns": 1,
        "rows": 9
       }
      },
      "text/plain": [
       "Primary_Purpose_List\n",
       "TREATMENT                   52719\n",
       "PREVENTION                   6305\n",
       "PRIM_PURP_OTHER              4211\n",
       "BASIC_SCIENCE                4006\n",
       "DIAGNOSTIC                   1376\n",
       "SUPPORTIVE_CARE              1360\n",
       "HEALTH_SERVICES_RESEARCH      374\n",
       "SCREENING                     158\n",
       "DEVICE_FEASIBILITY             27\n",
       "Name: count, dtype: int64"
      ]
     },
     "metadata": {},
     "output_type": "display_data"
    }
   ],
   "source": [
    "df[\"Primary_Purpose_List\"] = df[\"Primary_Purpose_List\"].replace({np.nan : \"PRIM_PURP_OTHER\", \"OTHER\" : \"PRIM_PURP_OTHER\"})\n",
    "display(df[\"Primary_Purpose_List\"].value_counts(dropna=False))"
   ]
  },
  {
   "cell_type": "markdown",
   "metadata": {},
   "source": [
    "#### Merge"
   ]
  },
  {
   "cell_type": "code",
   "execution_count": 282,
   "metadata": {},
   "outputs": [
    {
     "data": {
      "application/vnd.microsoft.datawrangler.viewer.v0+json": {
       "columns": [
        {
         "name": "Primary_Purpose_List",
         "rawType": "object",
         "type": "string"
        },
        {
         "name": "count",
         "rawType": "int64",
         "type": "integer"
        }
       ],
       "ref": "567c9340-5b17-4531-b1f2-f0be66e3789f",
       "rows": [
        [
         "TREATMENT",
         "52719"
        ],
        [
         "PREVENTION",
         "6305"
        ],
        [
         "PRIM_PURP_OTHER",
         "4770"
        ],
        [
         "BASIC_SCIENCE",
         "4006"
        ],
        [
         "DIAGNOSTIC",
         "1376"
        ],
        [
         "SUPPORTIVE_CARE",
         "1360"
        ]
       ],
       "shape": {
        "columns": 1,
        "rows": 6
       }
      },
      "text/plain": [
       "Primary_Purpose_List\n",
       "TREATMENT          52719\n",
       "PREVENTION          6305\n",
       "PRIM_PURP_OTHER     4770\n",
       "BASIC_SCIENCE       4006\n",
       "DIAGNOSTIC          1376\n",
       "SUPPORTIVE_CARE     1360\n",
       "Name: count, dtype: int64"
      ]
     },
     "execution_count": 282,
     "metadata": {},
     "output_type": "execute_result"
    }
   ],
   "source": [
    "purp_map = { \n",
    "    'DEVICE_FEASIBILITY' : 'PRIM_PURP_OTHER',\n",
    "    'INTERV_OTHER' : 'PRIM_PURP_OTHER',\n",
    "    'SCREENING' : 'PRIM_PURP_OTHER',\n",
    "    'HEALTH_SERVICES_RESEARCH' : 'PRIM_PURP_OTHER'\n",
    "}\n",
    "df['Primary_Purpose_List'] = df['Primary_Purpose_List'].replace(purp_map)\n",
    "df['Primary_Purpose_List'].value_counts()"
   ]
  },
  {
   "cell_type": "markdown",
   "metadata": {},
   "source": [
    "## Arm_Counts"
   ]
  },
  {
   "cell_type": "code",
   "execution_count": 283,
   "metadata": {},
   "outputs": [
    {
     "data": {
      "application/vnd.microsoft.datawrangler.viewer.v0+json": {
       "columns": [
        {
         "name": "Arm_Counts",
         "rawType": "float64",
         "type": "float"
        },
        {
         "name": "count",
         "rawType": "int64",
         "type": "integer"
        }
       ],
       "ref": "3c91a5d4-441e-4c3d-b4fd-99d07ce46ac9",
       "rows": [
        [
         "2.0",
         "34144"
        ],
        [
         "1.0",
         "17023"
        ],
        [
         "3.0",
         "8797"
        ],
        [
         "4.0",
         "5306"
        ],
        [
         "5.0",
         "1668"
        ],
        [
         "6.0",
         "1482"
        ],
        [
         "7.0",
         "464"
        ],
        [
         "8.0",
         "437"
        ],
        [
         null,
         "264"
        ],
        [
         "9.0",
         "248"
        ],
        [
         "10.0",
         "199"
        ],
        [
         "12.0",
         "124"
        ],
        [
         "11.0",
         "101"
        ],
        [
         "13.0",
         "60"
        ],
        [
         "14.0",
         "49"
        ],
        [
         "15.0",
         "41"
        ],
        [
         "16.0",
         "39"
        ],
        [
         "18.0",
         "26"
        ],
        [
         "17.0",
         "17"
        ],
        [
         "19.0",
         "9"
        ],
        [
         "20.0",
         "7"
        ],
        [
         "22.0",
         "7"
        ],
        [
         "24.0",
         "5"
        ],
        [
         "27.0",
         "4"
        ],
        [
         "23.0",
         "3"
        ],
        [
         "25.0",
         "2"
        ],
        [
         "21.0",
         "2"
        ],
        [
         "26.0",
         "2"
        ],
        [
         "31.0",
         "1"
        ],
        [
         "32.0",
         "1"
        ],
        [
         "44.0",
         "1"
        ],
        [
         "43.0",
         "1"
        ],
        [
         "30.0",
         "1"
        ],
        [
         "34.0",
         "1"
        ]
       ],
       "shape": {
        "columns": 1,
        "rows": 34
       }
      },
      "text/plain": [
       "Arm_Counts\n",
       "2.0     34144\n",
       "1.0     17023\n",
       "3.0      8797\n",
       "4.0      5306\n",
       "5.0      1668\n",
       "6.0      1482\n",
       "7.0       464\n",
       "8.0       437\n",
       "NaN       264\n",
       "9.0       248\n",
       "10.0      199\n",
       "12.0      124\n",
       "11.0      101\n",
       "13.0       60\n",
       "14.0       49\n",
       "15.0       41\n",
       "16.0       39\n",
       "18.0       26\n",
       "17.0       17\n",
       "19.0        9\n",
       "20.0        7\n",
       "22.0        7\n",
       "24.0        5\n",
       "27.0        4\n",
       "23.0        3\n",
       "25.0        2\n",
       "21.0        2\n",
       "26.0        2\n",
       "31.0        1\n",
       "32.0        1\n",
       "44.0        1\n",
       "43.0        1\n",
       "30.0        1\n",
       "34.0        1\n",
       "Name: count, dtype: int64"
      ]
     },
     "metadata": {},
     "output_type": "display_data"
    }
   ],
   "source": [
    "df = df.merge(my_studies[[\"nct_id\", \"number_of_arms\"]], on = \"nct_id\", how = \"left\")\n",
    "df = df.rename(columns = {\"number_of_arms\" : \"Arm_Counts\"})\n",
    "display(df['Arm_Counts'].value_counts(dropna = False))"
   ]
  },
  {
   "cell_type": "markdown",
   "metadata": {},
   "source": [
    "#### NaN -> Drop"
   ]
  },
  {
   "cell_type": "code",
   "execution_count": 284,
   "metadata": {},
   "outputs": [
    {
     "data": {
      "application/vnd.microsoft.datawrangler.viewer.v0+json": {
       "columns": [
        {
         "name": "Arm_Counts",
         "rawType": "int32",
         "type": "integer"
        },
        {
         "name": "count",
         "rawType": "int64",
         "type": "integer"
        }
       ],
       "ref": "1ed613d4-e6e4-425c-9851-68207df9aa0d",
       "rows": [
        [
         "2",
         "34144"
        ],
        [
         "1",
         "17023"
        ],
        [
         "3",
         "8797"
        ],
        [
         "4",
         "5306"
        ],
        [
         "5",
         "1668"
        ],
        [
         "6",
         "1482"
        ],
        [
         "7",
         "464"
        ],
        [
         "8",
         "437"
        ],
        [
         "9",
         "248"
        ],
        [
         "10",
         "199"
        ],
        [
         "12",
         "124"
        ],
        [
         "11",
         "101"
        ],
        [
         "13",
         "60"
        ],
        [
         "14",
         "49"
        ],
        [
         "15",
         "41"
        ],
        [
         "16",
         "39"
        ],
        [
         "18",
         "26"
        ],
        [
         "17",
         "17"
        ],
        [
         "19",
         "9"
        ],
        [
         "20",
         "7"
        ],
        [
         "22",
         "7"
        ],
        [
         "24",
         "5"
        ],
        [
         "27",
         "4"
        ],
        [
         "23",
         "3"
        ],
        [
         "25",
         "2"
        ],
        [
         "21",
         "2"
        ],
        [
         "26",
         "2"
        ],
        [
         "31",
         "1"
        ],
        [
         "32",
         "1"
        ],
        [
         "44",
         "1"
        ],
        [
         "43",
         "1"
        ],
        [
         "30",
         "1"
        ],
        [
         "34",
         "1"
        ]
       ],
       "shape": {
        "columns": 1,
        "rows": 33
       }
      },
      "text/plain": [
       "Arm_Counts\n",
       "2     34144\n",
       "1     17023\n",
       "3      8797\n",
       "4      5306\n",
       "5      1668\n",
       "6      1482\n",
       "7       464\n",
       "8       437\n",
       "9       248\n",
       "10      199\n",
       "12      124\n",
       "11      101\n",
       "13       60\n",
       "14       49\n",
       "15       41\n",
       "16       39\n",
       "18       26\n",
       "17       17\n",
       "19        9\n",
       "20        7\n",
       "22        7\n",
       "24        5\n",
       "27        4\n",
       "23        3\n",
       "25        2\n",
       "21        2\n",
       "26        2\n",
       "31        1\n",
       "32        1\n",
       "44        1\n",
       "43        1\n",
       "30        1\n",
       "34        1\n",
       "Name: count, dtype: int64"
      ]
     },
     "metadata": {},
     "output_type": "display_data"
    }
   ],
   "source": [
    "df = df.dropna(subset = [\"Arm_Counts\"])\n",
    "df['Arm_Counts'] = df['Arm_Counts'].astype(int)\n",
    "display(df['Arm_Counts'].value_counts(dropna = False))"
   ]
  },
  {
   "cell_type": "markdown",
   "metadata": {},
   "source": [
    "### Arm_Counts_Log"
   ]
  },
  {
   "cell_type": "code",
   "execution_count": 285,
   "metadata": {},
   "outputs": [
    {
     "data": {
      "application/vnd.microsoft.datawrangler.viewer.v0+json": {
       "columns": [
        {
         "name": "index",
         "rawType": "object",
         "type": "string"
        },
        {
         "name": "Arm_Counts_Log",
         "rawType": "float64",
         "type": "float"
        }
       ],
       "ref": "7141b21a-31e4-4bf2-952e-32d95e47048d",
       "rows": [
        [
         "count",
         "70272.0"
        ],
        [
         "mean",
         "1.142006449821831"
        ],
        [
         "std",
         "0.370124256530915"
        ],
        [
         "min",
         "0.6931471805599453"
        ],
        [
         "25%",
         "1.0986122886681098"
        ],
        [
         "50%",
         "1.0986122886681098"
        ],
        [
         "75%",
         "1.3862943611198906"
        ],
        [
         "max",
         "3.8066624897703196"
        ]
       ],
       "shape": {
        "columns": 1,
        "rows": 8
       }
      },
      "text/plain": [
       "count    70272.000000\n",
       "mean         1.142006\n",
       "std          0.370124\n",
       "min          0.693147\n",
       "25%          1.098612\n",
       "50%          1.098612\n",
       "75%          1.386294\n",
       "max          3.806662\n",
       "Name: Arm_Counts_Log, dtype: float64"
      ]
     },
     "execution_count": 285,
     "metadata": {},
     "output_type": "execute_result"
    }
   ],
   "source": [
    "df['Arm_Counts_Log'] = np.log1p(df[\"Arm_Counts\"]) \n",
    "df['Arm_Counts_Log'].describe()"
   ]
  },
  {
   "cell_type": "markdown",
   "metadata": {},
   "source": [
    "## Locations\n",
    "\n",
    "ClinicalTrials.gov Documenation:\n",
    "•\tLocation\n",
    "A place where a research site for a clinical study can be found. Location information can be searched using a facility name, a city, state, zip code, or country. A location where a study is being conducted may also include contact information.\n",
    "\n",
    "ClinicalTrials.gov Documenation:\n",
    "•\tLocation countries\n",
    "Countries in which research facilities for a study are located. A country is listed only once, even if there is more than one facility in the country. The list includes all countries as of the last update submitted date; any country for which all facilities were removed from the study record are listed under removed location countries.\n"
   ]
  },
  {
   "cell_type": "markdown",
   "metadata": {},
   "source": [
    "### Countries"
   ]
  },
  {
   "cell_type": "code",
   "execution_count": 286,
   "metadata": {},
   "outputs": [
    {
     "data": {
      "application/vnd.microsoft.datawrangler.viewer.v0+json": {
       "columns": [
        {
         "name": "Countries_List",
         "rawType": "object",
         "type": "unknown"
        },
        {
         "name": "count",
         "rawType": "int64",
         "type": "integer"
        }
       ],
       "ref": "62069bdf-7407-4372-b8bb-28304c3f5c12",
       "rows": [
        [
         "['United States']",
         "24543"
        ],
        [
         "['China']",
         "4500"
        ],
        [
         "[]",
         "3962"
        ],
        [
         "['South Korea']",
         "2301"
        ],
        [
         "['United Kingdom']",
         "2065"
        ],
        [
         "['Canada']",
         "1802"
        ],
        [
         "['Germany']",
         "1782"
        ],
        [
         "['France']",
         "1684"
        ],
        [
         "['Japan']",
         "1499"
        ],
        [
         "['Egypt']",
         "1279"
        ],
        [
         "['Spain']",
         "929"
        ],
        [
         "['Italy']",
         "869"
        ],
        [
         "['Netherlands']",
         "862"
        ],
        [
         "['Belgium']",
         "835"
        ],
        [
         "['Brazil']",
         "756"
        ],
        [
         "['Australia']",
         "749"
        ],
        [
         "['Canada', 'United States']",
         "724"
        ],
        [
         "['Denmark']",
         "645"
        ],
        [
         "['India']",
         "491"
        ],
        [
         "['Taiwan']",
         "474"
        ],
        [
         "['Switzerland']",
         "456"
        ],
        [
         "['Russia']",
         "429"
        ],
        [
         "['Turkey (Türkiye)']",
         "388"
        ],
        [
         "['Mexico']",
         "322"
        ],
        [
         "['Sweden']",
         "322"
        ],
        [
         "['Israel']",
         "295"
        ],
        [
         "['Thailand']",
         "283"
        ],
        [
         "['Austria']",
         "265"
        ],
        [
         "['Pakistan']",
         "237"
        ],
        [
         "['Puerto Rico', 'United States']",
         "223"
        ],
        [
         "['Singapore']",
         "222"
        ],
        [
         "['Iran']",
         "208"
        ],
        [
         "['Indonesia']",
         "179"
        ],
        [
         "['Norway']",
         "173"
        ],
        [
         "['South Africa']",
         "169"
        ],
        [
         "['Finland']",
         "165"
        ],
        [
         "['Poland']",
         "150"
        ],
        [
         "['Greece']",
         "130"
        ],
        [
         "['Australia', 'United States']",
         "129"
        ],
        [
         "['United Kingdom', 'United States']",
         "123"
        ],
        [
         "['Hong Kong']",
         "121"
        ],
        [
         "['Bangladesh']",
         "113"
        ],
        [
         "['New Zealand']",
         "110"
        ],
        [
         "['Czechia']",
         "91"
        ],
        [
         "['Vietnam']",
         "90"
        ],
        [
         "['Germany', 'United States']",
         "85"
        ],
        [
         "['Saudi Arabia']",
         "81"
        ],
        [
         "['Argentina']",
         "80"
        ],
        [
         "['Malaysia']",
         "79"
        ],
        [
         "['Chile']",
         "68"
        ]
       ],
       "shape": {
        "columns": 1,
        "rows": 7802
       }
      },
      "text/plain": [
       "Countries_List\n",
       "[United States]                                                                                                                         24543\n",
       "[China]                                                                                                                                  4500\n",
       "[]                                                                                                                                       3962\n",
       "[South Korea]                                                                                                                            2301\n",
       "[United Kingdom]                                                                                                                         2065\n",
       "                                                                                                                                        ...  \n",
       "[France, Israel, South Korea, United Kingdom, United States]                                                                                1\n",
       "[Belgium, Czechia, Israel, Italy, Netherlands, Romania, Russia, Slovakia]                                                                   1\n",
       "[Australia, Belgium, Czechia, Estonia, Germany, Greece, Poland, Russia, Spain]                                                              1\n",
       "[Australia, Canada, France, Germany, Hong Kong, Netherlands, South Korea, Spain, Switzerland, Taiwan, United Kingdom, United States]        1\n",
       "[Argentina, Austria, Colombia, France, Germany, Netherlands, Norway, Sweden, Switzerland, United States]                                    1\n",
       "Name: count, Length: 7802, dtype: int64"
      ]
     },
     "execution_count": 286,
     "metadata": {},
     "output_type": "execute_result"
    }
   ],
   "source": [
    "df = df.merge(my_locations[[\"nct_id\", \"facilities_country\"]], on = \"nct_id\", how = \"left\")\n",
    "df = df.rename(columns = {\"facilities_country\": \"Countries_List\"})\n",
    "df['Countries_List'].value_counts(dropna = False)"
   ]
  },
  {
   "cell_type": "markdown",
   "metadata": {},
   "source": [
    "#### NaN ++ -> Other"
   ]
  },
  {
   "cell_type": "code",
   "execution_count": 287,
   "metadata": {},
   "outputs": [],
   "source": [
    "df['Countries_List'] = df['Countries_List'].apply(lambda x: ['Countr_Other'] if len(x) == 0 else x)"
   ]
  },
  {
   "cell_type": "markdown",
   "metadata": {},
   "source": [
    "### Country_Counts\n"
   ]
  },
  {
   "cell_type": "code",
   "execution_count": 288,
   "metadata": {},
   "outputs": [
    {
     "data": {
      "application/vnd.microsoft.datawrangler.viewer.v0+json": {
       "columns": [
        {
         "name": "Country_Counts",
         "rawType": "int64",
         "type": "integer"
        },
        {
         "name": "count",
         "rawType": "int64",
         "type": "integer"
        }
       ],
       "ref": "4e3b6995-30aa-4e18-b64c-542cbc89c288",
       "rows": [
        [
         "1",
         "54846"
        ],
        [
         "0",
         "3962"
        ],
        [
         "2",
         "3020"
        ],
        [
         "3",
         "1303"
        ],
        [
         "4",
         "1025"
        ],
        [
         "5",
         "814"
        ],
        [
         "6",
         "713"
        ],
        [
         "7",
         "620"
        ],
        [
         "8",
         "530"
        ],
        [
         "9",
         "406"
        ],
        [
         "10",
         "399"
        ],
        [
         "11",
         "332"
        ],
        [
         "12",
         "283"
        ],
        [
         "13",
         "236"
        ],
        [
         "14",
         "223"
        ],
        [
         "15",
         "195"
        ],
        [
         "16",
         "177"
        ],
        [
         "18",
         "145"
        ],
        [
         "19",
         "132"
        ],
        [
         "17",
         "131"
        ],
        [
         "20",
         "91"
        ],
        [
         "21",
         "85"
        ],
        [
         "22",
         "80"
        ],
        [
         "23",
         "63"
        ],
        [
         "24",
         "59"
        ],
        [
         "26",
         "51"
        ],
        [
         "25",
         "47"
        ],
        [
         "28",
         "37"
        ],
        [
         "27",
         "36"
        ],
        [
         "31",
         "33"
        ],
        [
         "29",
         "32"
        ],
        [
         "30",
         "24"
        ],
        [
         "32",
         "21"
        ],
        [
         "33",
         "19"
        ],
        [
         "34",
         "15"
        ],
        [
         "37",
         "13"
        ],
        [
         "35",
         "11"
        ],
        [
         "42",
         "9"
        ],
        [
         "41",
         "8"
        ],
        [
         "36",
         "8"
        ],
        [
         "38",
         "7"
        ],
        [
         "49",
         "5"
        ],
        [
         "40",
         "5"
        ],
        [
         "43",
         "5"
        ],
        [
         "44",
         "4"
        ],
        [
         "48",
         "3"
        ],
        [
         "45",
         "3"
        ],
        [
         "39",
         "2"
        ],
        [
         "59",
         "1"
        ],
        [
         "46",
         "1"
        ]
       ],
       "shape": {
        "columns": 1,
        "rows": 52
       }
      },
      "text/plain": [
       "Country_Counts\n",
       "1     54846\n",
       "0      3962\n",
       "2      3020\n",
       "3      1303\n",
       "4      1025\n",
       "5       814\n",
       "6       713\n",
       "7       620\n",
       "8       530\n",
       "9       406\n",
       "10      399\n",
       "11      332\n",
       "12      283\n",
       "13      236\n",
       "14      223\n",
       "15      195\n",
       "16      177\n",
       "18      145\n",
       "19      132\n",
       "17      131\n",
       "20       91\n",
       "21       85\n",
       "22       80\n",
       "23       63\n",
       "24       59\n",
       "26       51\n",
       "25       47\n",
       "28       37\n",
       "27       36\n",
       "31       33\n",
       "29       32\n",
       "30       24\n",
       "32       21\n",
       "33       19\n",
       "34       15\n",
       "37       13\n",
       "35       11\n",
       "42        9\n",
       "41        8\n",
       "36        8\n",
       "38        7\n",
       "49        5\n",
       "40        5\n",
       "43        5\n",
       "44        4\n",
       "48        3\n",
       "45        3\n",
       "39        2\n",
       "59        1\n",
       "46        1\n",
       "57        1\n",
       "51        1\n",
       "Name: count, dtype: int64"
      ]
     },
     "metadata": {},
     "output_type": "display_data"
    },
    {
     "data": {
      "text/plain": [
       "(70272, 64)"
      ]
     },
     "metadata": {},
     "output_type": "display_data"
    }
   ],
   "source": [
    "df = df.merge(my_locations[[\"nct_id\", \"Country_Counts\"]], on = \"nct_id\", how = \"left\")\n",
    "display(df[\"Country_Counts\"].value_counts(dropna=False))\n",
    "display(df.shape) "
   ]
  },
  {
   "cell_type": "markdown",
   "metadata": {},
   "source": [
    "### Country_Counts_Log"
   ]
  },
  {
   "cell_type": "code",
   "execution_count": 289,
   "metadata": {},
   "outputs": [],
   "source": [
    "df['Country_Counts_Log'] = np.log1p(df['Country_Counts'])"
   ]
  },
  {
   "cell_type": "markdown",
   "metadata": {},
   "source": [
    "### Continents_List"
   ]
  },
  {
   "cell_type": "code",
   "execution_count": 290,
   "metadata": {},
   "outputs": [],
   "source": [
    "Countries = pd.DataFrame(geonamescache.GeonamesCache().get_countries()).transpose().reset_index()\n",
    "Countries = Countries[[\"name\", \"continentcode\"]]\n",
    "Countries = Countries.replace({\"NA\": \"North America\", \"OC\": \"Oceania\", \"EU\": \"Europe\", \"AS\": \"Asia\", \"AF\": \"Africa\", \"SA\": \"South America\"})\n",
    "geo_dict = dict(zip( Countries['name'], Countries['continentcode']))"
   ]
  },
  {
   "cell_type": "markdown",
   "metadata": {},
   "source": [
    "#### NaN++ --> Fillna + Other"
   ]
  },
  {
   "cell_type": "code",
   "execution_count": 291,
   "metadata": {},
   "outputs": [
    {
     "data": {
      "application/vnd.microsoft.datawrangler.viewer.v0+json": {
       "columns": [
        {
         "name": "Continents_List",
         "rawType": "object",
         "type": "unknown"
        },
        {
         "name": "count",
         "rawType": "int64",
         "type": "integer"
        }
       ],
       "ref": "d0d40c7a-c646-4356-a728-ca7a4bd8d3be",
       "rows": [
        [
         "['North America']",
         "27813"
        ],
        [
         "['Europe']",
         "13961"
        ],
        [
         "['Asia']",
         "11798"
        ],
        [
         "['Cont_Other']",
         "4372"
        ],
        [
         "['Europe', 'North America']",
         "2304"
        ],
        [
         "['Africa']",
         "2074"
        ],
        [
         "['Asia', 'Europe', 'North America']",
         "1054"
        ],
        [
         "['South America']",
         "1019"
        ],
        [
         "['Oceania']",
         "924"
        ],
        [
         "['Asia', 'Europe', 'North America', 'Oceania']",
         "699"
        ],
        [
         "['Europe', 'North America', 'Oceania']",
         "507"
        ],
        [
         "['Asia', 'Europe', 'North America', 'Oceania', 'South America']",
         "499"
        ],
        [
         "['Asia', 'Europe', 'North America', 'South America']",
         "375"
        ],
        [
         "['Asia', 'Europe']",
         "350"
        ],
        [
         "['Asia', 'North America']",
         "337"
        ],
        [
         "['Africa', 'Asia', 'Europe', 'North America', 'Oceania', 'South America']",
         "277"
        ],
        [
         "['North America', 'Oceania']",
         "271"
        ],
        [
         "['Europe', 'North America', 'South America']",
         "210"
        ],
        [
         "['Africa', 'Asia', 'Europe', 'North America', 'South America']",
         "207"
        ],
        [
         "['Africa', 'Asia', 'Europe', 'North America']",
         "126"
        ],
        [
         "['Europe', 'Oceania']",
         "111"
        ],
        [
         "['Africa', 'Europe', 'North America']",
         "93"
        ],
        [
         "['North America', 'South America']",
         "85"
        ],
        [
         "['Africa', 'Asia', 'Europe', 'North America', 'Oceania']",
         "74"
        ],
        [
         "['Europe', 'North America', 'Oceania', 'South America']",
         "70"
        ],
        [
         "['Asia', 'North America', 'Oceania']",
         "63"
        ],
        [
         "['Africa', 'Europe', 'North America', 'South America']",
         "62"
        ],
        [
         "['Asia', 'Europe', 'Oceania']",
         "60"
        ],
        [
         "['Asia', 'Oceania']",
         "58"
        ],
        [
         "['Africa', 'Asia']",
         "43"
        ],
        [
         "['Africa', 'Europe']",
         "41"
        ],
        [
         "['Africa', 'North America']",
         "32"
        ],
        [
         "['Africa', 'Asia', 'Europe']",
         "31"
        ],
        [
         "['Europe', 'South America']",
         "28"
        ],
        [
         "['Asia', 'Europe', 'South America']",
         "26"
        ],
        [
         "['Africa', 'Europe', 'North America', 'Oceania', 'South America']",
         "25"
        ],
        [
         "['Africa', 'Europe', 'North America', 'Oceania']",
         "24"
        ],
        [
         "['Africa', 'Asia', 'Europe', 'South America']",
         "20"
        ],
        [
         "['Africa', 'Asia', 'North America', 'South America']",
         "20"
        ],
        [
         "['Asia', 'North America', 'South America']",
         "19"
        ],
        [
         "['Africa', 'Asia', 'North America']",
         "14"
        ],
        [
         "['Asia', 'South America']",
         "12"
        ],
        [
         "['North America', 'Oceania', 'South America']",
         "9"
        ],
        [
         "['Africa', 'North America', 'South America']",
         "9"
        ],
        [
         "['Africa', 'Asia', 'South America']",
         "9"
        ],
        [
         "['Asia', 'Europe', 'Oceania', 'South America']",
         "7"
        ],
        [
         "['Europe', 'Oceania', 'South America']",
         "6"
        ],
        [
         "['Africa', 'North America', 'Oceania']",
         "6"
        ],
        [
         "['Africa', 'Europe', 'Oceania']",
         "6"
        ],
        [
         "['Africa', 'South America']",
         "5"
        ]
       ],
       "shape": {
        "columns": 1,
        "rows": 60
       }
      },
      "text/plain": [
       "Continents_List\n",
       "[North America]                                                  27813\n",
       "[Europe]                                                         13961\n",
       "[Asia]                                                           11798\n",
       "[Cont_Other]                                                      4372\n",
       "[Europe, North America]                                           2304\n",
       "[Africa]                                                          2074\n",
       "[Asia, Europe, North America]                                     1054\n",
       "[South America]                                                   1019\n",
       "[Oceania]                                                          924\n",
       "[Asia, Europe, North America, Oceania]                             699\n",
       "[Europe, North America, Oceania]                                   507\n",
       "[Asia, Europe, North America, Oceania, South America]              499\n",
       "[Asia, Europe, North America, South America]                       375\n",
       "[Asia, Europe]                                                     350\n",
       "[Asia, North America]                                              337\n",
       "[Africa, Asia, Europe, North America, Oceania, South America]      277\n",
       "[North America, Oceania]                                           271\n",
       "[Europe, North America, South America]                             210\n",
       "[Africa, Asia, Europe, North America, South America]               207\n",
       "[Africa, Asia, Europe, North America]                              126\n",
       "[Europe, Oceania]                                                  111\n",
       "[Africa, Europe, North America]                                     93\n",
       "[North America, South America]                                      85\n",
       "[Africa, Asia, Europe, North America, Oceania]                      74\n",
       "[Europe, North America, Oceania, South America]                     70\n",
       "[Asia, North America, Oceania]                                      63\n",
       "[Africa, Europe, North America, South America]                      62\n",
       "[Asia, Europe, Oceania]                                             60\n",
       "[Asia, Oceania]                                                     58\n",
       "[Africa, Asia]                                                      43\n",
       "[Africa, Europe]                                                    41\n",
       "[Africa, North America]                                             32\n",
       "[Africa, Asia, Europe]                                              31\n",
       "[Europe, South America]                                             28\n",
       "[Asia, Europe, South America]                                       26\n",
       "[Africa, Europe, North America, Oceania, South America]             25\n",
       "[Africa, Europe, North America, Oceania]                            24\n",
       "[Africa, Asia, Europe, South America]                               20\n",
       "[Africa, Asia, North America, South America]                        20\n",
       "[Asia, North America, South America]                                19\n",
       "[Africa, Asia, North America]                                       14\n",
       "[Asia, South America]                                               12\n",
       "[North America, Oceania, South America]                              9\n",
       "[Africa, North America, South America]                               9\n",
       "[Africa, Asia, South America]                                        9\n",
       "[Asia, Europe, Oceania, South America]                               7\n",
       "[Europe, Oceania, South America]                                     6\n",
       "[Africa, North America, Oceania]                                     6\n",
       "[Africa, Europe, Oceania]                                            6\n",
       "[Africa, South America]                                              5\n",
       "[Africa, Asia, Europe, Oceania, South America]                       4\n",
       "[Africa, Asia, Europe, Oceania]                                      4\n",
       "[Asia, North America, Oceania, South America]                        4\n",
       "[Africa, Asia, Oceania]                                              3\n",
       "[Oceania, South America]                                             3\n",
       "[Africa, Asia, North America, Oceania, South America]                2\n",
       "[Africa, Europe, South America]                                      2\n",
       "[Africa, Asia, Oceania, South America]                               2\n",
       "[Africa, Oceania]                                                    2\n",
       "[Africa, North America, Oceania, South America]                      1\n",
       "Name: count, dtype: int64"
      ]
     },
     "metadata": {},
     "output_type": "display_data"
    }
   ],
   "source": [
    "df['Continents_List'] = df['Countries_List'].apply(\n",
    "    lambda x: [geo_dict.get(item, 'None') for item in x] if isinstance(x, list) else ['Cont_Other'])\n",
    "\n",
    "df['Continents_List'] = df['Continents_List'].apply(lambda x: [i for i in x if i != 'None']) # matched some '' from geodict\n",
    "df['Continents_List'] = df['Continents_List'].apply(lambda x: ['Cont_Other'] if len(x) == 0 else x)\n",
    "df['Continents_List'] = df['Continents_List'].apply(lambda x: sorted(set(x)))\n",
    "\n",
    "display(df['Continents_List'].value_counts(dropna = False))"
   ]
  },
  {
   "cell_type": "markdown",
   "metadata": {},
   "source": [
    "#### Merge\n",
    "- Based on Sparse file"
   ]
  },
  {
   "cell_type": "code",
   "execution_count": 292,
   "metadata": {},
   "outputs": [
    {
     "data": {
      "text/plain": [
       "Counter({'North America': 35291,\n",
       "         'Europe': 21263,\n",
       "         'Asia': 16197,\n",
       "         'Cont_Other': 4372,\n",
       "         'Oceania': 3721,\n",
       "         'Africa': 3218,\n",
       "         'South America': 3017})"
      ]
     },
     "metadata": {},
     "output_type": "display_data"
    },
    {
     "data": {
      "text/plain": [
       "Counter({'North America': 35291,\n",
       "         'Europe': 21263,\n",
       "         'Asia': 16197,\n",
       "         'Cont_Other': 14328})"
      ]
     },
     "metadata": {},
     "output_type": "display_data"
    }
   ],
   "source": [
    "cont_map = { \n",
    "    'Oceania' : 'Cont_Other',\n",
    "    'Africa' : 'Cont_Other',\n",
    "    'South America' : 'Cont_Other'   \n",
    "}\n",
    "display(Counter([elem for row_list in df[\"Continents_List\"] for elem in row_list]))\n",
    "df['Continents_List'] = df['Continents_List'].apply(lambda row: [cont_map.get(val, val) for val in row])\n",
    "display(Counter([elem for row_list in df[\"Continents_List\"] for elem in row_list]))"
   ]
  },
  {
   "cell_type": "markdown",
   "metadata": {},
   "source": [
    "### Continent_Counts\n",
    "####  NaNs+ --> 0"
   ]
  },
  {
   "cell_type": "code",
   "execution_count": 293,
   "metadata": {},
   "outputs": [
    {
     "data": {
      "application/vnd.microsoft.datawrangler.viewer.v0+json": {
       "columns": [
        {
         "name": "Continent_Counts",
         "rawType": "int64",
         "type": "integer"
        },
        {
         "name": "count",
         "rawType": "int64",
         "type": "integer"
        }
       ],
       "ref": "7b86c1c5-36df-40b1-a1d5-33f253fe5342",
       "rows": [
        [
         "1",
         "53572"
        ],
        [
         "0",
         "8389"
        ],
        [
         "2",
         "3682"
        ],
        [
         "3",
         "2127"
        ],
        [
         "4",
         "1414"
        ],
        [
         "5",
         "811"
        ],
        [
         "6",
         "277"
        ]
       ],
       "shape": {
        "columns": 1,
        "rows": 7
       }
      },
      "text/plain": [
       "Continent_Counts\n",
       "1    53572\n",
       "0     8389\n",
       "2     3682\n",
       "3     2127\n",
       "4     1414\n",
       "5      811\n",
       "6      277\n",
       "Name: count, dtype: int64"
      ]
     },
     "metadata": {},
     "output_type": "display_data"
    }
   ],
   "source": [
    "df[\"Continent_Counts\"] = df[\"Continents_List\"].apply(lambda x: len(x) if isinstance(x, list) and x != ['Cont_Other'] else 0)\n",
    "display(df[\"Continent_Counts\"].value_counts(dropna = False))"
   ]
  },
  {
   "cell_type": "markdown",
   "metadata": {},
   "source": [
    "### Continent_Count_Log"
   ]
  },
  {
   "cell_type": "code",
   "execution_count": 294,
   "metadata": {},
   "outputs": [],
   "source": [
    "df['Continent_Counts_Log'] = np.log1p(df['Continent_Counts'])"
   ]
  },
  {
   "cell_type": "markdown",
   "metadata": {},
   "source": [
    "### City_Counts\n"
   ]
  },
  {
   "cell_type": "code",
   "execution_count": 295,
   "metadata": {},
   "outputs": [
    {
     "data": {
      "application/vnd.microsoft.datawrangler.viewer.v0+json": {
       "columns": [
        {
         "name": "City_Counts",
         "rawType": "int64",
         "type": "integer"
        },
        {
         "name": "count",
         "rawType": "int64",
         "type": "integer"
        }
       ],
       "ref": "604cd71b-20eb-436c-8b64-8b2456026b50",
       "rows": [
        [
         "1",
         "39828"
        ],
        [
         "0",
         "3962"
        ],
        [
         "2",
         "3847"
        ],
        [
         "3",
         "2271"
        ],
        [
         "4",
         "1730"
        ],
        [
         "5",
         "1361"
        ],
        [
         "6",
         "1114"
        ],
        [
         "7",
         "994"
        ],
        [
         "8",
         "869"
        ],
        [
         "10",
         "791"
        ],
        [
         "9",
         "736"
        ],
        [
         "11",
         "591"
        ],
        [
         "12",
         "561"
        ],
        [
         "13",
         "519"
        ],
        [
         "14",
         "484"
        ],
        [
         "15",
         "448"
        ],
        [
         "16",
         "408"
        ],
        [
         "17",
         "364"
        ],
        [
         "18",
         "336"
        ],
        [
         "20",
         "322"
        ],
        [
         "22",
         "292"
        ],
        [
         "21",
         "276"
        ],
        [
         "19",
         "266"
        ],
        [
         "23",
         "250"
        ],
        [
         "24",
         "233"
        ],
        [
         "27",
         "218"
        ],
        [
         "25",
         "211"
        ],
        [
         "30",
         "207"
        ],
        [
         "29",
         "203"
        ],
        [
         "28",
         "201"
        ],
        [
         "31",
         "199"
        ],
        [
         "26",
         "192"
        ],
        [
         "32",
         "173"
        ],
        [
         "35",
         "162"
        ],
        [
         "36",
         "157"
        ],
        [
         "33",
         "149"
        ],
        [
         "34",
         "139"
        ],
        [
         "38",
         "136"
        ],
        [
         "37",
         "126"
        ],
        [
         "41",
         "117"
        ],
        [
         "40",
         "109"
        ],
        [
         "42",
         "107"
        ],
        [
         "47",
         "104"
        ],
        [
         "43",
         "101"
        ],
        [
         "49",
         "100"
        ],
        [
         "39",
         "99"
        ],
        [
         "44",
         "98"
        ],
        [
         "46",
         "96"
        ],
        [
         "48",
         "96"
        ],
        [
         "51",
         "87"
        ]
       ],
       "shape": {
        "columns": 1,
        "rows": 396
       }
      },
      "text/plain": [
       "City_Counts\n",
       "1      39828\n",
       "0       3962\n",
       "2       3847\n",
       "3       2271\n",
       "4       1730\n",
       "       ...  \n",
       "332        1\n",
       "229        1\n",
       "246        1\n",
       "483        1\n",
       "272        1\n",
       "Name: count, Length: 396, dtype: int64"
      ]
     },
     "metadata": {},
     "output_type": "display_data"
    }
   ],
   "source": [
    "df = df.merge(my_locations[[ \"nct_id\", \"City_Counts\"]], on = \"nct_id\", how = \"left\") \n",
    "# Cities already sorted(set(x)) in df_locations --> correct counts\n",
    "display(df[\"City_Counts\"].value_counts(dropna=False))"
   ]
  },
  {
   "cell_type": "markdown",
   "metadata": {},
   "source": [
    "### City_Counts_Log"
   ]
  },
  {
   "cell_type": "code",
   "execution_count": 296,
   "metadata": {},
   "outputs": [],
   "source": [
    "df['City_Counts_Log'] = np.log1p(df['City_Counts'])"
   ]
  },
  {
   "cell_type": "markdown",
   "metadata": {},
   "source": [
    "## Enrollment\n"
   ]
  },
  {
   "cell_type": "markdown",
   "metadata": {},
   "source": [
    "### Enrollment_Counts"
   ]
  },
  {
   "cell_type": "code",
   "execution_count": 297,
   "metadata": {},
   "outputs": [
    {
     "data": {
      "application/vnd.microsoft.datawrangler.viewer.v0+json": {
       "columns": [
        {
         "name": "Enrollment_Counts",
         "rawType": "float64",
         "type": "float"
        },
        {
         "name": "count",
         "rawType": "int64",
         "type": "integer"
        }
       ],
       "ref": "cd3b3659-757f-4180-ab1c-753889847be9",
       "rows": [
        [
         "0.0",
         "3769"
        ],
        [
         "24.0",
         "1581"
        ],
        [
         "20.0",
         "1499"
        ],
        [
         "30.0",
         "1495"
        ],
        [
         "40.0",
         "1376"
        ],
        [
         "60.0",
         "1361"
        ],
        [
         "12.0",
         "1243"
        ],
        [
         "10.0",
         "1118"
        ],
        [
         "16.0",
         "1057"
        ],
        [
         "6.0",
         "924"
        ],
        [
         "32.0",
         "919"
        ],
        [
         "18.0",
         "913"
        ],
        [
         "50.0",
         "902"
        ],
        [
         "36.0",
         "832"
        ],
        [
         "15.0",
         "812"
        ],
        [
         "8.0",
         "787"
        ],
        [
         "100.0",
         "751"
        ],
        [
         "48.0",
         "745"
        ],
        [
         "14.0",
         "701"
        ],
        [
         "25.0",
         "694"
        ],
        [
         "1.0",
         "651"
        ],
        [
         "80.0",
         "642"
        ],
        [
         "28.0",
         "622"
        ],
        [
         "5.0",
         "620"
        ],
        [
         "9.0",
         "616"
        ],
        [
         "3.0",
         "598"
        ],
        [
         "26.0",
         "586"
        ],
        [
         "22.0",
         "584"
        ],
        [
         "2.0",
         "578"
        ],
        [
         "21.0",
         "574"
        ],
        [
         "120.0",
         "543"
        ],
        [
         "13.0",
         "542"
        ],
        [
         "4.0",
         "542"
        ],
        [
         "11.0",
         "536"
        ],
        [
         "17.0",
         "523"
        ],
        [
         "19.0",
         "515"
        ],
        [
         "7.0",
         "511"
        ],
        [
         "34.0",
         "508"
        ],
        [
         "42.0",
         "497"
        ],
        [
         "23.0",
         "475"
        ],
        [
         "31.0",
         "456"
        ],
        [
         "33.0",
         "437"
        ],
        [
         "27.0",
         "435"
        ],
        [
         "44.0",
         "431"
        ],
        [
         "70.0",
         "429"
        ],
        [
         "90.0",
         "428"
        ],
        [
         "45.0",
         "425"
        ],
        [
         "64.0",
         "414"
        ],
        [
         "38.0",
         "393"
        ],
        [
         "35.0",
         "388"
        ]
       ],
       "shape": {
        "columns": 1,
        "rows": 2213
       }
      },
      "text/plain": [
       "Enrollment_Counts\n",
       "0.0         3769\n",
       "24.0        1581\n",
       "20.0        1499\n",
       "30.0        1495\n",
       "40.0        1376\n",
       "            ... \n",
       "7075.0         1\n",
       "1341.0         1\n",
       "865.0          1\n",
       "204438.0       1\n",
       "3231.0         1\n",
       "Name: count, Length: 2213, dtype: int64"
      ]
     },
     "metadata": {},
     "output_type": "display_data"
    }
   ],
   "source": [
    "df = df.rename(columns = {\"Enrollment\": \"Enrollment_Counts\"})\n",
    "display(df[\"Enrollment_Counts\"].value_counts(dropna=False)) "
   ]
  },
  {
   "cell_type": "markdown",
   "metadata": {},
   "source": [
    "#### NaNs --> Fillna db + Drop\n",
    "- No values could be filled from my_terminations table. "
   ]
  },
  {
   "cell_type": "code",
   "execution_count": 298,
   "metadata": {},
   "outputs": [
    {
     "data": {
      "text/plain": [
       "3"
      ]
     },
     "metadata": {},
     "output_type": "display_data"
    },
    {
     "data": {
      "text/plain": [
       "3"
      ]
     },
     "metadata": {},
     "output_type": "display_data"
    },
    {
     "data": {
      "text/plain": [
       "0"
      ]
     },
     "execution_count": 298,
     "metadata": {},
     "output_type": "execute_result"
    }
   ],
   "source": [
    "display(df['Enrollment_Counts'].isnull().sum())\n",
    "# display(df.loc[df['Enrollment_Counts'].isnull()][['Enrollment_Counts', 'Study_Status_Bin']].value_counts()) # was also checked if withdrawn \n",
    "df = df.merge(my_studies[['nct_id', 'enrollment']], on = 'nct_id', how = 'left')\n",
    "df['Enrollment_Counts'] = df['Enrollment_Counts'].fillna(df['enrollment']) # Nothing filled from db\n",
    "\n",
    "display(df['Enrollment_Counts'].isnull().sum())\n",
    "\n",
    "df = df.dropna(subset = [\"Enrollment_Counts\"])\n",
    "df['Enrollment_Counts'] = df['Enrollment_Counts'].astype(int)\n",
    "\n",
    "df['Enrollment_Counts'].isnull().sum()"
   ]
  },
  {
   "cell_type": "markdown",
   "metadata": {},
   "source": [
    "### Enrollment_Log"
   ]
  },
  {
   "cell_type": "code",
   "execution_count": 299,
   "metadata": {},
   "outputs": [
    {
     "data": {
      "application/vnd.microsoft.datawrangler.viewer.v0+json": {
       "columns": [
        {
         "name": "index",
         "rawType": "object",
         "type": "string"
        },
        {
         "name": "Enrollment_Counts_Log",
         "rawType": "float64",
         "type": "float"
        }
       ],
       "ref": "28d2e7f7-d9e9-4409-b915-7e3b099e9807",
       "rows": [
        [
         "count",
         "70269.0"
        ],
        [
         "mean",
         "3.847858919101077"
        ],
        [
         "std",
         "1.63245146775761"
        ],
        [
         "min",
         "0.0"
        ],
        [
         "25%",
         "3.044522437723423"
        ],
        [
         "50%",
         "3.8918202981106265"
        ],
        [
         "75%",
         "4.820281565605037"
        ],
        [
         "max",
         "13.669899643653403"
        ]
       ],
       "shape": {
        "columns": 1,
        "rows": 8
       }
      },
      "text/plain": [
       "count    70269.000000\n",
       "mean         3.847859\n",
       "std          1.632451\n",
       "min          0.000000\n",
       "25%          3.044522\n",
       "50%          3.891820\n",
       "75%          4.820282\n",
       "max         13.669900\n",
       "Name: Enrollment_Counts_Log, dtype: float64"
      ]
     },
     "execution_count": 299,
     "metadata": {},
     "output_type": "execute_result"
    }
   ],
   "source": [
    "df['Enrollment_Counts_Log'] = np.log1p(df['Enrollment_Counts'])\n",
    "df['Enrollment_Counts_Log'].describe()  "
   ]
  },
  {
   "cell_type": "markdown",
   "metadata": {},
   "source": [
    "# Drop Columns"
   ]
  },
  {
   "cell_type": "code",
   "execution_count": 300,
   "metadata": {},
   "outputs": [
    {
     "data": {
      "text/plain": [
       "Index(['Study_Status_Bin', 'Sex_List', 'Age_List', 'Phases_List',\n",
       "       'Enrollment_Counts', 'Funder_Industry_Bin', 'Start_Date_Year_Counts',\n",
       "       'Completion_Date_Year_Counts', 'Completion_Gap_Counts',\n",
       "       'Completion_Gap_Log', 'Intervention_Type_List',\n",
       "       'Intervention_Type_Counts', 'Intervention_Route_List',\n",
       "       'Intervention_Route_Counts', 'Placebo_Bin', 'Standard_Care_Bin',\n",
       "       'Healthy_Bin', 'Covid_19_Bin', 'Conditions_Detail_List', 'Adverse_List',\n",
       "       'Adverse_Counts', 'Adverse_Counts_Log', 'Adverse_Bin',\n",
       "       'Adverse_System_List', 'Adverse_System_Counts',\n",
       "       'Adverse_System_Counts_Log', 'Allocation_List',\n",
       "       'Intervention_Model_List', 'Masking_List', 'Masking_Detail_List',\n",
       "       'Primary_Purpose_List', 'Arm_Counts', 'Arm_Counts_Log',\n",
       "       'Country_Counts', 'Country_Counts_Log', 'Continents_List',\n",
       "       'Continent_Counts', 'Continent_Counts_Log', 'City_Counts',\n",
       "       'City_Counts_Log', 'Enrollment_Counts_Log'],\n",
       "      dtype='object')"
      ]
     },
     "execution_count": 300,
     "metadata": {},
     "output_type": "execute_result"
    }
   ],
   "source": [
    "df = df.drop(columns = [\n",
    "       \"nct_id\",  # Unique identifier not feature, no longer needed for analysis\n",
    "       'Brief Summary', \n",
    "       'Study Title', 'Study URL', 'Acronym', 'Other IDs',  # Unique identifier not feature\n",
    "       'official_title', \n",
    "       'Conditions', 'Interventions', # text data used in other format\n",
    "       'Primary Outcome Measures', 'Secondary Outcome Measures', 'Other Outcome Measures', 'Study Results', # Results not pre-designed features\n",
    "       'Sponsor', 'Collaborators', # used in other format \n",
    "       'Study Type', # All interventional\n",
    "       'Study Design',  # used in other format\n",
    "       'Start Date', 'Primary Completion Date', 'Completion Date', 'First Posted', # used in other format\n",
    "       'Results First Posted', 'Last Update Posted', \n",
    "       'Locations', 'Countries_List', # used in other format\n",
    "       'Study Documents', \n",
    "       'Injection', 'Oral', 'Topical', 'Surgical', \n",
    "       'enrollment',\n",
    "       ], axis = 1)\n",
    "\n",
    "df.columns"
   ]
  },
  {
   "cell_type": "markdown",
   "metadata": {},
   "source": [
    "# Remaining NaNs\n",
    "- SOS Only after dropping columns"
   ]
  },
  {
   "cell_type": "code",
   "execution_count": 301,
   "metadata": {},
   "outputs": [
    {
     "data": {
      "application/vnd.microsoft.datawrangler.viewer.v0+json": {
       "columns": [
        {
         "name": "index",
         "rawType": "object",
         "type": "string"
        },
        {
         "name": "0",
         "rawType": "int64",
         "type": "integer"
        }
       ],
       "ref": "a67f6a25-abba-43a7-974f-756edf630220",
       "rows": [
        [
         "Study_Status_Bin",
         "0"
        ],
        [
         "Sex_List",
         "0"
        ],
        [
         "Age_List",
         "0"
        ],
        [
         "Phases_List",
         "0"
        ],
        [
         "Enrollment_Counts",
         "0"
        ],
        [
         "Funder_Industry_Bin",
         "0"
        ],
        [
         "Start_Date_Year_Counts",
         "0"
        ],
        [
         "Completion_Date_Year_Counts",
         "0"
        ],
        [
         "Completion_Gap_Counts",
         "0"
        ],
        [
         "Completion_Gap_Log",
         "0"
        ],
        [
         "Intervention_Type_List",
         "0"
        ],
        [
         "Intervention_Type_Counts",
         "0"
        ],
        [
         "Intervention_Route_List",
         "0"
        ],
        [
         "Intervention_Route_Counts",
         "0"
        ],
        [
         "Placebo_Bin",
         "0"
        ],
        [
         "Standard_Care_Bin",
         "0"
        ],
        [
         "Healthy_Bin",
         "0"
        ],
        [
         "Covid_19_Bin",
         "0"
        ],
        [
         "Conditions_Detail_List",
         "0"
        ],
        [
         "Adverse_List",
         "0"
        ],
        [
         "Adverse_Counts",
         "0"
        ],
        [
         "Adverse_Counts_Log",
         "0"
        ],
        [
         "Adverse_Bin",
         "0"
        ],
        [
         "Adverse_System_List",
         "0"
        ],
        [
         "Adverse_System_Counts",
         "0"
        ],
        [
         "Adverse_System_Counts_Log",
         "0"
        ],
        [
         "Allocation_List",
         "0"
        ],
        [
         "Intervention_Model_List",
         "0"
        ],
        [
         "Masking_List",
         "0"
        ],
        [
         "Masking_Detail_List",
         "0"
        ],
        [
         "Primary_Purpose_List",
         "0"
        ],
        [
         "Arm_Counts",
         "0"
        ],
        [
         "Arm_Counts_Log",
         "0"
        ],
        [
         "Country_Counts",
         "0"
        ],
        [
         "Country_Counts_Log",
         "0"
        ],
        [
         "Continents_List",
         "0"
        ],
        [
         "Continent_Counts",
         "0"
        ],
        [
         "Continent_Counts_Log",
         "0"
        ],
        [
         "City_Counts",
         "0"
        ],
        [
         "City_Counts_Log",
         "0"
        ],
        [
         "Enrollment_Counts_Log",
         "0"
        ]
       ],
       "shape": {
        "columns": 1,
        "rows": 41
       }
      },
      "text/plain": [
       "Study_Status_Bin               0\n",
       "Sex_List                       0\n",
       "Age_List                       0\n",
       "Phases_List                    0\n",
       "Enrollment_Counts              0\n",
       "Funder_Industry_Bin            0\n",
       "Start_Date_Year_Counts         0\n",
       "Completion_Date_Year_Counts    0\n",
       "Completion_Gap_Counts          0\n",
       "Completion_Gap_Log             0\n",
       "Intervention_Type_List         0\n",
       "Intervention_Type_Counts       0\n",
       "Intervention_Route_List        0\n",
       "Intervention_Route_Counts      0\n",
       "Placebo_Bin                    0\n",
       "Standard_Care_Bin              0\n",
       "Healthy_Bin                    0\n",
       "Covid_19_Bin                   0\n",
       "Conditions_Detail_List         0\n",
       "Adverse_List                   0\n",
       "Adverse_Counts                 0\n",
       "Adverse_Counts_Log             0\n",
       "Adverse_Bin                    0\n",
       "Adverse_System_List            0\n",
       "Adverse_System_Counts          0\n",
       "Adverse_System_Counts_Log      0\n",
       "Allocation_List                0\n",
       "Intervention_Model_List        0\n",
       "Masking_List                   0\n",
       "Masking_Detail_List            0\n",
       "Primary_Purpose_List           0\n",
       "Arm_Counts                     0\n",
       "Arm_Counts_Log                 0\n",
       "Country_Counts                 0\n",
       "Country_Counts_Log             0\n",
       "Continents_List                0\n",
       "Continent_Counts               0\n",
       "Continent_Counts_Log           0\n",
       "City_Counts                    0\n",
       "City_Counts_Log                0\n",
       "Enrollment_Counts_Log          0\n",
       "dtype: int64"
      ]
     },
     "metadata": {},
     "output_type": "display_data"
    }
   ],
   "source": [
    "display(df.isnull().sum())\n",
    "df = df.dropna()"
   ]
  },
  {
   "cell_type": "markdown",
   "metadata": {},
   "source": [
    "# Dfs Split"
   ]
  },
  {
   "cell_type": "code",
   "execution_count": 302,
   "metadata": {},
   "outputs": [
    {
     "data": {
      "application/vnd.microsoft.datawrangler.viewer.v0+json": {
       "columns": [
        {
         "name": "index",
         "rawType": "int64",
         "type": "integer"
        },
        {
         "name": "Study_Status_Bin",
         "rawType": "category",
         "type": "unknown"
        },
        {
         "name": "Sex_List",
         "rawType": "object",
         "type": "string"
        },
        {
         "name": "Age_List",
         "rawType": "object",
         "type": "unknown"
        },
        {
         "name": "Phases_List",
         "rawType": "object",
         "type": "string"
        },
        {
         "name": "Enrollment_Counts",
         "rawType": "int32",
         "type": "integer"
        },
        {
         "name": "Funder_Industry_Bin",
         "rawType": "object",
         "type": "string"
        },
        {
         "name": "Start_Date_Year_Counts",
         "rawType": "Int64",
         "type": "integer"
        },
        {
         "name": "Completion_Date_Year_Counts",
         "rawType": "Int64",
         "type": "integer"
        },
        {
         "name": "Completion_Gap_Counts",
         "rawType": "Int64",
         "type": "integer"
        },
        {
         "name": "Completion_Gap_Log",
         "rawType": "Float64",
         "type": "float"
        },
        {
         "name": "Intervention_Type_List",
         "rawType": "object",
         "type": "unknown"
        },
        {
         "name": "Intervention_Type_Counts",
         "rawType": "int64",
         "type": "integer"
        },
        {
         "name": "Intervention_Route_List",
         "rawType": "object",
         "type": "unknown"
        },
        {
         "name": "Intervention_Route_Counts",
         "rawType": "int64",
         "type": "integer"
        },
        {
         "name": "Placebo_Bin",
         "rawType": "object",
         "type": "string"
        },
        {
         "name": "Standard_Care_Bin",
         "rawType": "object",
         "type": "string"
        },
        {
         "name": "Healthy_Bin",
         "rawType": "object",
         "type": "string"
        },
        {
         "name": "Covid_19_Bin",
         "rawType": "object",
         "type": "string"
        },
        {
         "name": "Conditions_Detail_List",
         "rawType": "object",
         "type": "unknown"
        },
        {
         "name": "Adverse_List",
         "rawType": "object",
         "type": "unknown"
        },
        {
         "name": "Adverse_Counts",
         "rawType": "int32",
         "type": "integer"
        },
        {
         "name": "Adverse_Counts_Log",
         "rawType": "float64",
         "type": "float"
        },
        {
         "name": "Adverse_Bin",
         "rawType": "object",
         "type": "string"
        },
        {
         "name": "Adverse_System_List",
         "rawType": "object",
         "type": "unknown"
        },
        {
         "name": "Adverse_System_Counts",
         "rawType": "int64",
         "type": "integer"
        },
        {
         "name": "Adverse_System_Counts_Log",
         "rawType": "float64",
         "type": "float"
        },
        {
         "name": "Allocation_List",
         "rawType": "object",
         "type": "string"
        },
        {
         "name": "Intervention_Model_List",
         "rawType": "object",
         "type": "string"
        },
        {
         "name": "Masking_List",
         "rawType": "object",
         "type": "string"
        },
        {
         "name": "Masking_Detail_List",
         "rawType": "object",
         "type": "unknown"
        },
        {
         "name": "Primary_Purpose_List",
         "rawType": "object",
         "type": "string"
        },
        {
         "name": "Arm_Counts",
         "rawType": "int32",
         "type": "integer"
        },
        {
         "name": "Arm_Counts_Log",
         "rawType": "float64",
         "type": "float"
        },
        {
         "name": "Country_Counts",
         "rawType": "int64",
         "type": "integer"
        },
        {
         "name": "Country_Counts_Log",
         "rawType": "float64",
         "type": "float"
        },
        {
         "name": "Continents_List",
         "rawType": "object",
         "type": "unknown"
        },
        {
         "name": "Continent_Counts",
         "rawType": "int64",
         "type": "integer"
        },
        {
         "name": "Continent_Counts_Log",
         "rawType": "float64",
         "type": "float"
        },
        {
         "name": "City_Counts",
         "rawType": "int64",
         "type": "integer"
        },
        {
         "name": "City_Counts_Log",
         "rawType": "float64",
         "type": "float"
        },
        {
         "name": "Enrollment_Counts_Log",
         "rawType": "float64",
         "type": "float"
        },
        {
         "name": "PHASE1",
         "rawType": "bool",
         "type": "boolean"
        },
        {
         "name": "PHASE2",
         "rawType": "bool",
         "type": "boolean"
        },
        {
         "name": "PHASE3",
         "rawType": "bool",
         "type": "boolean"
        },
        {
         "name": "PHASE4",
         "rawType": "bool",
         "type": "boolean"
        }
       ],
       "ref": "8279782f-4918-495d-9313-1f603685779f",
       "rows": [
        [
         "0",
         "COMPLETED",
         "MALE",
         "['ADULT']",
         "PHASE1",
         "24",
         "INDUSTRY",
         "2014",
         "2014",
         "2",
         "1.0986122886681098",
         "['DRUG']",
         "1",
         "['Inter_Route_Other']",
         "1",
         "No",
         "No",
         "Yes",
         "No",
         "['Cardiovascular']",
         "['Adv_None']",
         "0",
         "0.0",
         "No",
         "['Adv_Syst_None']",
         "0",
         "0.0",
         "RANDOMIZED",
         "CROSSOVER",
         "MASK_NONE",
         "['MASK_DET_NONE']",
         "TREATMENT",
         "2",
         "1.0986122886681098",
         "1",
         "0.6931471805599453",
         "['Asia']",
         "1",
         "0.6931471805599453",
         "1",
         "0.6931471805599453",
         "3.2188758248682006",
         "True",
         "False",
         "False",
         "False"
        ],
        [
         "1",
         "COMPLETED",
         "MALE",
         "['ADULT']",
         "PHASE1",
         "39",
         "FUNDER_OTHER",
         "2013",
         "2013",
         "9",
         "2.302585092994046",
         "['DRUG']",
         "1",
         "['Inter_Route_Other']",
         "1",
         "Yes",
         "No",
         "Yes",
         "No",
         "['Cond_Detail_Other']",
         "['Adv_None']",
         "0",
         "0.0",
         "No",
         "['Adv_Syst_None']",
         "0",
         "0.0",
         "RANDOMIZED",
         "CROSSOVER",
         "MASK_NONE",
         "['MASK_DET_NONE']",
         "DIAGNOSTIC",
         "3",
         "1.3862943611198906",
         "1",
         "0.6931471805599453",
         "['Asia']",
         "1",
         "0.6931471805599453",
         "1",
         "0.6931471805599453",
         "3.6888794541139363",
         "True",
         "False",
         "False",
         "False"
        ]
       ],
       "shape": {
        "columns": 45,
        "rows": 2
       }
      },
      "text/html": [
       "<div>\n",
       "<style scoped>\n",
       "    .dataframe tbody tr th:only-of-type {\n",
       "        vertical-align: middle;\n",
       "    }\n",
       "\n",
       "    .dataframe tbody tr th {\n",
       "        vertical-align: top;\n",
       "    }\n",
       "\n",
       "    .dataframe thead th {\n",
       "        text-align: right;\n",
       "    }\n",
       "</style>\n",
       "<table border=\"1\" class=\"dataframe\">\n",
       "  <thead>\n",
       "    <tr style=\"text-align: right;\">\n",
       "      <th></th>\n",
       "      <th>Study_Status_Bin</th>\n",
       "      <th>Sex_List</th>\n",
       "      <th>Age_List</th>\n",
       "      <th>Phases_List</th>\n",
       "      <th>Enrollment_Counts</th>\n",
       "      <th>Funder_Industry_Bin</th>\n",
       "      <th>Start_Date_Year_Counts</th>\n",
       "      <th>Completion_Date_Year_Counts</th>\n",
       "      <th>Completion_Gap_Counts</th>\n",
       "      <th>Completion_Gap_Log</th>\n",
       "      <th>Intervention_Type_List</th>\n",
       "      <th>Intervention_Type_Counts</th>\n",
       "      <th>Intervention_Route_List</th>\n",
       "      <th>Intervention_Route_Counts</th>\n",
       "      <th>Placebo_Bin</th>\n",
       "      <th>Standard_Care_Bin</th>\n",
       "      <th>Healthy_Bin</th>\n",
       "      <th>...</th>\n",
       "      <th>Masking_List</th>\n",
       "      <th>Masking_Detail_List</th>\n",
       "      <th>Primary_Purpose_List</th>\n",
       "      <th>Arm_Counts</th>\n",
       "      <th>Arm_Counts_Log</th>\n",
       "      <th>Country_Counts</th>\n",
       "      <th>Country_Counts_Log</th>\n",
       "      <th>Continents_List</th>\n",
       "      <th>Continent_Counts</th>\n",
       "      <th>Continent_Counts_Log</th>\n",
       "      <th>City_Counts</th>\n",
       "      <th>City_Counts_Log</th>\n",
       "      <th>Enrollment_Counts_Log</th>\n",
       "      <th>PHASE1</th>\n",
       "      <th>PHASE2</th>\n",
       "      <th>PHASE3</th>\n",
       "      <th>PHASE4</th>\n",
       "    </tr>\n",
       "  </thead>\n",
       "  <tbody>\n",
       "    <tr>\n",
       "      <th>0</th>\n",
       "      <td>COMPLETED</td>\n",
       "      <td>MALE</td>\n",
       "      <td>[ADULT]</td>\n",
       "      <td>PHASE1</td>\n",
       "      <td>24</td>\n",
       "      <td>INDUSTRY</td>\n",
       "      <td>2014</td>\n",
       "      <td>2014</td>\n",
       "      <td>2</td>\n",
       "      <td>1.098612</td>\n",
       "      <td>[DRUG]</td>\n",
       "      <td>1</td>\n",
       "      <td>[Inter_Route_Other]</td>\n",
       "      <td>1</td>\n",
       "      <td>No</td>\n",
       "      <td>No</td>\n",
       "      <td>Yes</td>\n",
       "      <td>...</td>\n",
       "      <td>MASK_NONE</td>\n",
       "      <td>[MASK_DET_NONE]</td>\n",
       "      <td>TREATMENT</td>\n",
       "      <td>2</td>\n",
       "      <td>1.098612</td>\n",
       "      <td>1</td>\n",
       "      <td>0.693147</td>\n",
       "      <td>[Asia]</td>\n",
       "      <td>1</td>\n",
       "      <td>0.693147</td>\n",
       "      <td>1</td>\n",
       "      <td>0.693147</td>\n",
       "      <td>3.218876</td>\n",
       "      <td>True</td>\n",
       "      <td>False</td>\n",
       "      <td>False</td>\n",
       "      <td>False</td>\n",
       "    </tr>\n",
       "    <tr>\n",
       "      <th>1</th>\n",
       "      <td>COMPLETED</td>\n",
       "      <td>MALE</td>\n",
       "      <td>[ADULT]</td>\n",
       "      <td>PHASE1</td>\n",
       "      <td>39</td>\n",
       "      <td>FUNDER_OTHER</td>\n",
       "      <td>2013</td>\n",
       "      <td>2013</td>\n",
       "      <td>9</td>\n",
       "      <td>2.302585</td>\n",
       "      <td>[DRUG]</td>\n",
       "      <td>1</td>\n",
       "      <td>[Inter_Route_Other]</td>\n",
       "      <td>1</td>\n",
       "      <td>Yes</td>\n",
       "      <td>No</td>\n",
       "      <td>Yes</td>\n",
       "      <td>...</td>\n",
       "      <td>MASK_NONE</td>\n",
       "      <td>[MASK_DET_NONE]</td>\n",
       "      <td>DIAGNOSTIC</td>\n",
       "      <td>3</td>\n",
       "      <td>1.386294</td>\n",
       "      <td>1</td>\n",
       "      <td>0.693147</td>\n",
       "      <td>[Asia]</td>\n",
       "      <td>1</td>\n",
       "      <td>0.693147</td>\n",
       "      <td>1</td>\n",
       "      <td>0.693147</td>\n",
       "      <td>3.688879</td>\n",
       "      <td>True</td>\n",
       "      <td>False</td>\n",
       "      <td>False</td>\n",
       "      <td>False</td>\n",
       "    </tr>\n",
       "  </tbody>\n",
       "</table>\n",
       "<p>2 rows × 45 columns</p>\n",
       "</div>"
      ],
      "text/plain": [
       "  Study_Status_Bin Sex_List Age_List Phases_List  Enrollment_Counts  \\\n",
       "0        COMPLETED     MALE  [ADULT]      PHASE1                 24   \n",
       "1        COMPLETED     MALE  [ADULT]      PHASE1                 39   \n",
       "\n",
       "  Funder_Industry_Bin  Start_Date_Year_Counts  Completion_Date_Year_Counts  \\\n",
       "0            INDUSTRY                    2014                         2014   \n",
       "1        FUNDER_OTHER                    2013                         2013   \n",
       "\n",
       "   Completion_Gap_Counts  Completion_Gap_Log Intervention_Type_List  \\\n",
       "0                      2            1.098612                 [DRUG]   \n",
       "1                      9            2.302585                 [DRUG]   \n",
       "\n",
       "   Intervention_Type_Counts Intervention_Route_List  \\\n",
       "0                         1     [Inter_Route_Other]   \n",
       "1                         1     [Inter_Route_Other]   \n",
       "\n",
       "   Intervention_Route_Counts Placebo_Bin Standard_Care_Bin Healthy_Bin  ...  \\\n",
       "0                          1          No                No         Yes  ...   \n",
       "1                          1         Yes                No         Yes  ...   \n",
       "\n",
       "  Masking_List Masking_Detail_List Primary_Purpose_List  Arm_Counts  \\\n",
       "0    MASK_NONE     [MASK_DET_NONE]            TREATMENT           2   \n",
       "1    MASK_NONE     [MASK_DET_NONE]           DIAGNOSTIC           3   \n",
       "\n",
       "   Arm_Counts_Log Country_Counts Country_Counts_Log  Continents_List  \\\n",
       "0        1.098612              1           0.693147           [Asia]   \n",
       "1        1.386294              1           0.693147           [Asia]   \n",
       "\n",
       "   Continent_Counts Continent_Counts_Log City_Counts City_Counts_Log  \\\n",
       "0                 1             0.693147           1        0.693147   \n",
       "1                 1             0.693147           1        0.693147   \n",
       "\n",
       "  Enrollment_Counts_Log PHASE1  PHASE2  PHASE3  PHASE4  \n",
       "0              3.218876   True   False   False   False  \n",
       "1              3.688879   True   False   False   False  \n",
       "\n",
       "[2 rows x 45 columns]"
      ]
     },
     "execution_count": 302,
     "metadata": {},
     "output_type": "execute_result"
    }
   ],
   "source": [
    "df_dum = df.copy()\n",
    "# mlb = MultiLabelBinarizer() # encode list elements # keep if PHASE1|2 or PHASE 2|3 is kept and divided into 1, 2 or 2, 3\n",
    "# dummies = pd.DataFrame(mlb.fit_transform(df['Phases_List']), columns = mlb.classes_, index = df_dum.index)\n",
    "dummies = pd.get_dummies(df_dum['Phases_List'])\n",
    "df_dum = pd.concat([df_dum, dummies] , axis = 1)\n",
    "df_dum.head(2)"
   ]
  },
  {
   "cell_type": "code",
   "execution_count": 303,
   "metadata": {},
   "outputs": [
    {
     "data": {
      "text/plain": [
       "(21829, 40)"
      ]
     },
     "metadata": {},
     "output_type": "display_data"
    },
    {
     "data": {
      "text/plain": [
       "(21228, 40)"
      ]
     },
     "metadata": {},
     "output_type": "display_data"
    },
    {
     "data": {
      "text/plain": [
       "(13966, 40)"
      ]
     },
     "metadata": {},
     "output_type": "display_data"
    },
    {
     "data": {
      "text/plain": [
       "(13246, 40)"
      ]
     },
     "metadata": {},
     "output_type": "display_data"
    }
   ],
   "source": [
    "df1 = df_dum[df_dum[\"PHASE1\"] == 1].reset_index(drop = True).drop(columns = ['PHASE1','PHASE2', 'PHASE3', 'PHASE4'])\n",
    "df2 = df_dum[df_dum[\"PHASE2\"] == 1].reset_index(drop = True).drop(columns = ['PHASE1','PHASE2', 'PHASE3', 'PHASE4'])\n",
    "df3 = df_dum[df_dum[\"PHASE3\"] == 1].reset_index(drop = True).drop(columns = ['PHASE1','PHASE2', 'PHASE3', 'PHASE4'])\n",
    "df4 = df_dum[df_dum[\"PHASE4\"] == 1].reset_index(drop = True).drop(columns = ['PHASE1','PHASE2', 'PHASE3', 'PHASE4'])\n",
    "\n",
    "df1 = df1.drop(columns = ['Phases_List'], axis = 1)\n",
    "df2 = df2.drop(columns = ['Phases_List'], axis = 1)\n",
    "df3 = df3.drop(columns = ['Phases_List'], axis = 1)\n",
    "df4 = df4.drop(columns = ['Phases_List'], axis = 1)\n",
    "\n",
    "display(df1.shape)\n",
    "display(df2.shape)\n",
    "display(df3.shape)\n",
    "display(df4.shape)\n"
   ]
  },
  {
   "cell_type": "markdown",
   "metadata": {},
   "source": [
    "# Categ_Columns"
   ]
  },
  {
   "cell_type": "markdown",
   "metadata": {},
   "source": [
    "## Functions"
   ]
  },
  {
   "cell_type": "code",
   "execution_count": 304,
   "metadata": {},
   "outputs": [],
   "source": [
    "# dfis\n",
    "dfis = [df1, df2, df3, df4]"
   ]
  },
  {
   "cell_type": "code",
   "execution_count": 305,
   "metadata": {},
   "outputs": [],
   "source": [
    "# def_describe\n",
    "def def_describe(col):\n",
    "    describes = pd.concat([\n",
    "        df1[col].describe(include = 'all'),\n",
    "        df2[col].describe(include = 'all'),\n",
    "        df3[col].describe(include = 'all'),\n",
    "        df4[col].describe(include = 'all'),\n",
    "    ], axis=1)\n",
    "\n",
    "    describes.columns = ['df1', 'df2', 'df3', 'df4']\n",
    "    describes.index.name = col\n",
    "    return describes\n"
   ]
  },
  {
   "cell_type": "code",
   "execution_count": 306,
   "metadata": {},
   "outputs": [],
   "source": [
    "# fun_bins\n",
    "def fun_bins(dfis, col, bin2_val, use_quantile=False):\n",
    "    bins = []\n",
    "    labels = []\n",
    "\n",
    "    for dfi in dfis:\n",
    "        bin1 = dfi[col].min()\n",
    "        bin2 = dfi[col].quantile(bin2_val) if use_quantile else bin2_val\n",
    "        bin3 = dfi[col].max()\n",
    "\n",
    "        bins.append([bin1, bin2, bin3])\n",
    "        labels.append([f\"{int(bin1)}–{int(bin2)}\", f\"{int(bin2)+1}–{int(bin3)}\"])\n",
    "\n",
    "    return bins, labels"
   ]
  },
  {
   "cell_type": "code",
   "execution_count": 307,
   "metadata": {},
   "outputs": [],
   "source": [
    "def fun_bins2(dfis, col, bin1_val, bin2_val):\n",
    "   \n",
    "    bins = []\n",
    "    labels = []\n",
    "\n",
    "    for dfi in dfis:\n",
    "        bin1 = bin1_val  # when min() = median() e.g., 1 --> bin1 = 0, bin2 = 1\n",
    "        bin2 = bin2_val\n",
    "        bin3 = dfi[col].max()\n",
    "\n",
    "        bins.append([bin1, bin2, bin3])\n",
    "        labels.append([f\"{int(bin2_val)}\", f\"{int(bin2_val)+1}–{int(bin3)}\"]) # there is usually no 0 in bvalues\n",
    "\n",
    "    return bins, labels"
   ]
  },
  {
   "cell_type": "markdown",
   "metadata": {},
   "source": [
    "## Enrollment_Categ"
   ]
  },
  {
   "cell_type": "code",
   "execution_count": 308,
   "metadata": {},
   "outputs": [
    {
     "data": {
      "application/vnd.microsoft.datawrangler.viewer.v0+json": {
       "columns": [
        {
         "name": "Enrollment_Counts",
         "rawType": "object",
         "type": "string"
        },
        {
         "name": "df1",
         "rawType": "float64",
         "type": "float"
        },
        {
         "name": "df2",
         "rawType": "float64",
         "type": "float"
        },
        {
         "name": "df3",
         "rawType": "float64",
         "type": "float"
        },
        {
         "name": "df4",
         "rawType": "float64",
         "type": "float"
        }
       ],
       "ref": "01d9aa9f-624d-4d3a-9f49-eaac7aba9237",
       "rows": [
        [
         "count",
         "21829.0",
         "21228.0",
         "13966.0",
         "13246.0"
        ],
        [
         "mean",
         "43.42851252920427",
         "101.34223666855097",
         "587.266361162824",
         "470.6277366752227"
        ],
        [
         "std",
         "89.64840248475495",
         "1016.3088820132626",
         "3422.7240598135677",
         "9615.979739575905"
        ],
        [
         "min",
         "0.0",
         "0.0",
         "0.0",
         "0.0"
        ],
        [
         "25%",
         "15.0",
         "16.0",
         "60.0",
         "25.0"
        ],
        [
         "50%",
         "28.0",
         "44.0",
         "189.5",
         "60.5"
        ],
        [
         "75%",
         "49.0",
         "103.0",
         "459.75",
         "140.0"
        ],
        [
         "max",
         "8231.0",
         "144539.0",
         "204438.0",
         "864493.0"
        ]
       ],
       "shape": {
        "columns": 4,
        "rows": 8
       }
      },
      "text/html": [
       "<div>\n",
       "<style scoped>\n",
       "    .dataframe tbody tr th:only-of-type {\n",
       "        vertical-align: middle;\n",
       "    }\n",
       "\n",
       "    .dataframe tbody tr th {\n",
       "        vertical-align: top;\n",
       "    }\n",
       "\n",
       "    .dataframe thead th {\n",
       "        text-align: right;\n",
       "    }\n",
       "</style>\n",
       "<table border=\"1\" class=\"dataframe\">\n",
       "  <thead>\n",
       "    <tr style=\"text-align: right;\">\n",
       "      <th></th>\n",
       "      <th>df1</th>\n",
       "      <th>df2</th>\n",
       "      <th>df3</th>\n",
       "      <th>df4</th>\n",
       "    </tr>\n",
       "    <tr>\n",
       "      <th>Enrollment_Counts</th>\n",
       "      <th></th>\n",
       "      <th></th>\n",
       "      <th></th>\n",
       "      <th></th>\n",
       "    </tr>\n",
       "  </thead>\n",
       "  <tbody>\n",
       "    <tr>\n",
       "      <th>count</th>\n",
       "      <td>21829.000000</td>\n",
       "      <td>21228.000000</td>\n",
       "      <td>13966.000000</td>\n",
       "      <td>13246.000000</td>\n",
       "    </tr>\n",
       "    <tr>\n",
       "      <th>mean</th>\n",
       "      <td>43.428513</td>\n",
       "      <td>101.342237</td>\n",
       "      <td>587.266361</td>\n",
       "      <td>470.627737</td>\n",
       "    </tr>\n",
       "    <tr>\n",
       "      <th>std</th>\n",
       "      <td>89.648402</td>\n",
       "      <td>1016.308882</td>\n",
       "      <td>3422.724060</td>\n",
       "      <td>9615.979740</td>\n",
       "    </tr>\n",
       "    <tr>\n",
       "      <th>min</th>\n",
       "      <td>0.000000</td>\n",
       "      <td>0.000000</td>\n",
       "      <td>0.000000</td>\n",
       "      <td>0.000000</td>\n",
       "    </tr>\n",
       "    <tr>\n",
       "      <th>25%</th>\n",
       "      <td>15.000000</td>\n",
       "      <td>16.000000</td>\n",
       "      <td>60.000000</td>\n",
       "      <td>25.000000</td>\n",
       "    </tr>\n",
       "    <tr>\n",
       "      <th>50%</th>\n",
       "      <td>28.000000</td>\n",
       "      <td>44.000000</td>\n",
       "      <td>189.500000</td>\n",
       "      <td>60.500000</td>\n",
       "    </tr>\n",
       "    <tr>\n",
       "      <th>75%</th>\n",
       "      <td>49.000000</td>\n",
       "      <td>103.000000</td>\n",
       "      <td>459.750000</td>\n",
       "      <td>140.000000</td>\n",
       "    </tr>\n",
       "    <tr>\n",
       "      <th>max</th>\n",
       "      <td>8231.000000</td>\n",
       "      <td>144539.000000</td>\n",
       "      <td>204438.000000</td>\n",
       "      <td>864493.000000</td>\n",
       "    </tr>\n",
       "  </tbody>\n",
       "</table>\n",
       "</div>"
      ],
      "text/plain": [
       "                            df1            df2            df3            df4\n",
       "Enrollment_Counts                                                           \n",
       "count              21829.000000   21228.000000   13966.000000   13246.000000\n",
       "mean                  43.428513     101.342237     587.266361     470.627737\n",
       "std                   89.648402    1016.308882    3422.724060    9615.979740\n",
       "min                    0.000000       0.000000       0.000000       0.000000\n",
       "25%                   15.000000      16.000000      60.000000      25.000000\n",
       "50%                   28.000000      44.000000     189.500000      60.500000\n",
       "75%                   49.000000     103.000000     459.750000     140.000000\n",
       "max                 8231.000000  144539.000000  204438.000000  864493.000000"
      ]
     },
     "metadata": {},
     "output_type": "display_data"
    },
    {
     "data": {
      "application/vnd.microsoft.datawrangler.viewer.v0+json": {
       "columns": [
        {
         "name": "Enrollment_Categ",
         "rawType": "category",
         "type": "unknown"
        },
        {
         "name": "count",
         "rawType": "int64",
         "type": "integer"
        }
       ],
       "ref": "54e4c477-bc3e-4a53-8339-8a958beaa3fb",
       "rows": [
        [
         "0–28",
         "11165"
        ],
        [
         "29–8231",
         "10664"
        ]
       ],
       "shape": {
        "columns": 1,
        "rows": 2
       }
      },
      "text/plain": [
       "Enrollment_Categ\n",
       "0–28       11165\n",
       "29–8231    10664\n",
       "Name: count, dtype: int64"
      ]
     },
     "execution_count": 308,
     "metadata": {},
     "output_type": "execute_result"
    }
   ],
   "source": [
    "Describe_Enrollment = def_describe('Enrollment_Counts')\n",
    "display(Describe_Enrollment)\n",
    "\n",
    "col = 'Enrollment_Counts'\n",
    "col_categ = 'Enrollment_Categ'\n",
    "bins, labels = fun_bins(dfis, col, bin2_val = 0.5, use_quantile = True)\n",
    "\n",
    "df1[col_categ] = pd.cut(df1[col], bins = bins[0], labels = labels[0], ordered = True, include_lowest = True, right = True)\n",
    "df2[col_categ] = pd.cut(df2[col], bins = bins[1], labels = labels[1], ordered = True, include_lowest = True, right = True)\n",
    "df3[col_categ] = pd.cut(df3[col], bins = bins[2], labels = labels[2], ordered = True, include_lowest = True, right = True)\n",
    "df4[col_categ] = pd.cut(df4[col], bins = bins[3], labels = labels[3], ordered = True, include_lowest = True, right = True)\n",
    "\n",
    "df1[\"Enrollment_Categ\"].value_counts(dropna = False)"
   ]
  },
  {
   "cell_type": "markdown",
   "metadata": {},
   "source": [
    "## Adverse_Categ\n",
    "- Most distributions are around 0, thus if categorised it is equivalent to Adverse Bin. \n"
   ]
  },
  {
   "cell_type": "code",
   "execution_count": 309,
   "metadata": {},
   "outputs": [
    {
     "data": {
      "application/vnd.microsoft.datawrangler.viewer.v0+json": {
       "columns": [
        {
         "name": "Adverse_Counts",
         "rawType": "object",
         "type": "string"
        },
        {
         "name": "df1",
         "rawType": "float64",
         "type": "float"
        },
        {
         "name": "df2",
         "rawType": "float64",
         "type": "float"
        },
        {
         "name": "df3",
         "rawType": "float64",
         "type": "float"
        },
        {
         "name": "df4",
         "rawType": "float64",
         "type": "float"
        }
       ],
       "ref": "98934d0f-90d2-404d-9aec-48b6a10f7b5c",
       "rows": [
        [
         "count",
         "21829.0",
         "21228.0",
         "13966.0",
         "13246.0"
        ],
        [
         "mean",
         "5.224380411379358",
         "34.56401921989825",
         "191.50107403694687",
         "28.577004378680357"
        ],
        [
         "std",
         "40.82543108178764",
         "113.13881426816658",
         "828.2399694588697",
         "652.9446939405176"
        ],
        [
         "min",
         "0.0",
         "0.0",
         "0.0",
         "0.0"
        ],
        [
         "25%",
         "0.0",
         "0.0",
         "0.0",
         "0.0"
        ],
        [
         "50%",
         "0.0",
         "0.0",
         "0.0",
         "0.0"
        ],
        [
         "75%",
         "0.0",
         "27.0",
         "121.0",
         "0.0"
        ],
        [
         "max",
         "3385.0",
         "3915.0",
         "47910.0",
         "70245.0"
        ]
       ],
       "shape": {
        "columns": 4,
        "rows": 8
       }
      },
      "text/html": [
       "<div>\n",
       "<style scoped>\n",
       "    .dataframe tbody tr th:only-of-type {\n",
       "        vertical-align: middle;\n",
       "    }\n",
       "\n",
       "    .dataframe tbody tr th {\n",
       "        vertical-align: top;\n",
       "    }\n",
       "\n",
       "    .dataframe thead th {\n",
       "        text-align: right;\n",
       "    }\n",
       "</style>\n",
       "<table border=\"1\" class=\"dataframe\">\n",
       "  <thead>\n",
       "    <tr style=\"text-align: right;\">\n",
       "      <th></th>\n",
       "      <th>df1</th>\n",
       "      <th>df2</th>\n",
       "      <th>df3</th>\n",
       "      <th>df4</th>\n",
       "    </tr>\n",
       "    <tr>\n",
       "      <th>Adverse_Counts</th>\n",
       "      <th></th>\n",
       "      <th></th>\n",
       "      <th></th>\n",
       "      <th></th>\n",
       "    </tr>\n",
       "  </thead>\n",
       "  <tbody>\n",
       "    <tr>\n",
       "      <th>count</th>\n",
       "      <td>21829.000000</td>\n",
       "      <td>21228.000000</td>\n",
       "      <td>13966.000000</td>\n",
       "      <td>13246.000000</td>\n",
       "    </tr>\n",
       "    <tr>\n",
       "      <th>mean</th>\n",
       "      <td>5.224380</td>\n",
       "      <td>34.564019</td>\n",
       "      <td>191.501074</td>\n",
       "      <td>28.577004</td>\n",
       "    </tr>\n",
       "    <tr>\n",
       "      <th>std</th>\n",
       "      <td>40.825431</td>\n",
       "      <td>113.138814</td>\n",
       "      <td>828.239969</td>\n",
       "      <td>652.944694</td>\n",
       "    </tr>\n",
       "    <tr>\n",
       "      <th>min</th>\n",
       "      <td>0.000000</td>\n",
       "      <td>0.000000</td>\n",
       "      <td>0.000000</td>\n",
       "      <td>0.000000</td>\n",
       "    </tr>\n",
       "    <tr>\n",
       "      <th>25%</th>\n",
       "      <td>0.000000</td>\n",
       "      <td>0.000000</td>\n",
       "      <td>0.000000</td>\n",
       "      <td>0.000000</td>\n",
       "    </tr>\n",
       "    <tr>\n",
       "      <th>50%</th>\n",
       "      <td>0.000000</td>\n",
       "      <td>0.000000</td>\n",
       "      <td>0.000000</td>\n",
       "      <td>0.000000</td>\n",
       "    </tr>\n",
       "    <tr>\n",
       "      <th>75%</th>\n",
       "      <td>0.000000</td>\n",
       "      <td>27.000000</td>\n",
       "      <td>121.000000</td>\n",
       "      <td>0.000000</td>\n",
       "    </tr>\n",
       "    <tr>\n",
       "      <th>max</th>\n",
       "      <td>3385.000000</td>\n",
       "      <td>3915.000000</td>\n",
       "      <td>47910.000000</td>\n",
       "      <td>70245.000000</td>\n",
       "    </tr>\n",
       "  </tbody>\n",
       "</table>\n",
       "</div>"
      ],
      "text/plain": [
       "                         df1           df2           df3           df4\n",
       "Adverse_Counts                                                        \n",
       "count           21829.000000  21228.000000  13966.000000  13246.000000\n",
       "mean                5.224380     34.564019    191.501074     28.577004\n",
       "std                40.825431    113.138814    828.239969    652.944694\n",
       "min                 0.000000      0.000000      0.000000      0.000000\n",
       "25%                 0.000000      0.000000      0.000000      0.000000\n",
       "50%                 0.000000      0.000000      0.000000      0.000000\n",
       "75%                 0.000000     27.000000    121.000000      0.000000\n",
       "max              3385.000000   3915.000000  47910.000000  70245.000000"
      ]
     },
     "execution_count": 309,
     "metadata": {},
     "output_type": "execute_result"
    }
   ],
   "source": [
    "Describe_Adverse = def_describe('Adverse_Counts')\n",
    "Describe_Adverse\n",
    "\n",
    "# Distribution of Adverse_Counts is up to 75% at 0. Only Adverse_Bin is going to be used."
   ]
  },
  {
   "cell_type": "markdown",
   "metadata": {},
   "source": [
    "## Adverse_System_Categ\n",
    "Is about counts of Adverse_System = equal to adverse_categ as they are both combined to count format.\n",
    "Does not have meaning (<=1 , >1) as its similar to Adverse_Bin --> has does not have --> wont be  used\n",
    "\n"
   ]
  },
  {
   "cell_type": "code",
   "execution_count": 310,
   "metadata": {},
   "outputs": [
    {
     "data": {
      "application/vnd.microsoft.datawrangler.viewer.v0+json": {
       "columns": [
        {
         "name": "Adverse_System_Counts",
         "rawType": "object",
         "type": "string"
        },
        {
         "name": "df1",
         "rawType": "float64",
         "type": "float"
        },
        {
         "name": "df2",
         "rawType": "float64",
         "type": "float"
        },
        {
         "name": "df3",
         "rawType": "float64",
         "type": "float"
        },
        {
         "name": "df4",
         "rawType": "float64",
         "type": "float"
        }
       ],
       "ref": "96ae6f90-dc97-40d9-955b-0ab29b0a5496",
       "rows": [
        [
         "count",
         "21829.0",
         "21228.0",
         "13966.0",
         "13246.0"
        ],
        [
         "mean",
         "1.5117504237482249",
         "4.847135858300358",
         "5.723471287412287",
         "1.4987165936886608"
        ],
        [
         "std",
         "4.18608213883753",
         "6.753550686646188",
         "7.3089758202594695",
         "3.7488891338865096"
        ],
        [
         "min",
         "0.0",
         "0.0",
         "0.0",
         "0.0"
        ],
        [
         "25%",
         "0.0",
         "0.0",
         "0.0",
         "0.0"
        ],
        [
         "50%",
         "0.0",
         "0.0",
         "0.0",
         "0.0"
        ],
        [
         "75%",
         "0.0",
         "10.0",
         "12.0",
         "1.0"
        ],
        [
         "max",
         "22.0",
         "22.0",
         "22.0",
         "22.0"
        ]
       ],
       "shape": {
        "columns": 4,
        "rows": 8
       }
      },
      "text/html": [
       "<div>\n",
       "<style scoped>\n",
       "    .dataframe tbody tr th:only-of-type {\n",
       "        vertical-align: middle;\n",
       "    }\n",
       "\n",
       "    .dataframe tbody tr th {\n",
       "        vertical-align: top;\n",
       "    }\n",
       "\n",
       "    .dataframe thead th {\n",
       "        text-align: right;\n",
       "    }\n",
       "</style>\n",
       "<table border=\"1\" class=\"dataframe\">\n",
       "  <thead>\n",
       "    <tr style=\"text-align: right;\">\n",
       "      <th></th>\n",
       "      <th>df1</th>\n",
       "      <th>df2</th>\n",
       "      <th>df3</th>\n",
       "      <th>df4</th>\n",
       "    </tr>\n",
       "    <tr>\n",
       "      <th>Adverse_System_Counts</th>\n",
       "      <th></th>\n",
       "      <th></th>\n",
       "      <th></th>\n",
       "      <th></th>\n",
       "    </tr>\n",
       "  </thead>\n",
       "  <tbody>\n",
       "    <tr>\n",
       "      <th>count</th>\n",
       "      <td>21829.000000</td>\n",
       "      <td>21228.000000</td>\n",
       "      <td>13966.000000</td>\n",
       "      <td>13246.000000</td>\n",
       "    </tr>\n",
       "    <tr>\n",
       "      <th>mean</th>\n",
       "      <td>1.511750</td>\n",
       "      <td>4.847136</td>\n",
       "      <td>5.723471</td>\n",
       "      <td>1.498717</td>\n",
       "    </tr>\n",
       "    <tr>\n",
       "      <th>std</th>\n",
       "      <td>4.186082</td>\n",
       "      <td>6.753551</td>\n",
       "      <td>7.308976</td>\n",
       "      <td>3.748889</td>\n",
       "    </tr>\n",
       "    <tr>\n",
       "      <th>min</th>\n",
       "      <td>0.000000</td>\n",
       "      <td>0.000000</td>\n",
       "      <td>0.000000</td>\n",
       "      <td>0.000000</td>\n",
       "    </tr>\n",
       "    <tr>\n",
       "      <th>25%</th>\n",
       "      <td>0.000000</td>\n",
       "      <td>0.000000</td>\n",
       "      <td>0.000000</td>\n",
       "      <td>0.000000</td>\n",
       "    </tr>\n",
       "    <tr>\n",
       "      <th>50%</th>\n",
       "      <td>0.000000</td>\n",
       "      <td>0.000000</td>\n",
       "      <td>0.000000</td>\n",
       "      <td>0.000000</td>\n",
       "    </tr>\n",
       "    <tr>\n",
       "      <th>75%</th>\n",
       "      <td>0.000000</td>\n",
       "      <td>10.000000</td>\n",
       "      <td>12.000000</td>\n",
       "      <td>1.000000</td>\n",
       "    </tr>\n",
       "    <tr>\n",
       "      <th>max</th>\n",
       "      <td>22.000000</td>\n",
       "      <td>22.000000</td>\n",
       "      <td>22.000000</td>\n",
       "      <td>22.000000</td>\n",
       "    </tr>\n",
       "  </tbody>\n",
       "</table>\n",
       "</div>"
      ],
      "text/plain": [
       "                                df1           df2           df3           df4\n",
       "Adverse_System_Counts                                                        \n",
       "count                  21829.000000  21228.000000  13966.000000  13246.000000\n",
       "mean                       1.511750      4.847136      5.723471      1.498717\n",
       "std                        4.186082      6.753551      7.308976      3.748889\n",
       "min                        0.000000      0.000000      0.000000      0.000000\n",
       "25%                        0.000000      0.000000      0.000000      0.000000\n",
       "50%                        0.000000      0.000000      0.000000      0.000000\n",
       "75%                        0.000000     10.000000     12.000000      1.000000\n",
       "max                       22.000000     22.000000     22.000000     22.000000"
      ]
     },
     "metadata": {},
     "output_type": "display_data"
    },
    {
     "data": {
      "application/vnd.microsoft.datawrangler.viewer.v0+json": {
       "columns": [
        {
         "name": "Adverse_System_Categ",
         "rawType": "category",
         "type": "unknown"
        },
        {
         "name": "count",
         "rawType": "int64",
         "type": "integer"
        }
       ],
       "ref": "18f71714-fd30-4945-abb6-787b1e02bbc6",
       "rows": [
        [
         "0–1",
         "18549"
        ],
        [
         "2–22",
         "3280"
        ]
       ],
       "shape": {
        "columns": 1,
        "rows": 2
       }
      },
      "text/plain": [
       "Adverse_System_Categ\n",
       "0–1     18549\n",
       "2–22     3280\n",
       "Name: count, dtype: int64"
      ]
     },
     "metadata": {},
     "output_type": "display_data"
    }
   ],
   "source": [
    "Describe_Adverse_System = def_describe('Adverse_System_Counts')\n",
    "display(Describe_Adverse_System)\n",
    "\n",
    "col = 'Adverse_System_Counts'\n",
    "col_categ = 'Adverse_System_Categ'\n",
    "bins, labels = fun_bins(dfis, col, bin2_val = 1, use_quantile = False)  \n",
    "\n",
    "df1[col_categ] = pd.cut(df1[col], bins = bins[0], labels = labels[0], ordered = True, include_lowest = True, right = True)\n",
    "df2[col_categ] = pd.cut(df2[col], bins = bins[1], labels = labels[1], ordered = True, include_lowest = True, right = True)\n",
    "df3[col_categ] = pd.cut(df3[col], bins = bins[2], labels = labels[2], ordered = True, include_lowest = True, right = True)\n",
    "df4[col_categ] = pd.cut(df4[col], bins = bins[3], labels = labels[3], ordered = True, include_lowest = True, right = True)\n",
    "\n",
    "display(df1['Adverse_System_Categ'].value_counts(dropna = False))"
   ]
  },
  {
   "cell_type": "markdown",
   "metadata": {},
   "source": [
    "## Arm_Categ\n",
    "- See thsesis_Vizual --> Many data points in specific values. 1-2 many data points and less in >=3. + Skewed --> Visible change after 2 (=median in all dfs) --> Better categorical.\n"
   ]
  },
  {
   "cell_type": "code",
   "execution_count": 311,
   "metadata": {},
   "outputs": [
    {
     "data": {
      "application/vnd.microsoft.datawrangler.viewer.v0+json": {
       "columns": [
        {
         "name": "Arm_Counts",
         "rawType": "object",
         "type": "string"
        },
        {
         "name": "df1",
         "rawType": "float64",
         "type": "float"
        },
        {
         "name": "df2",
         "rawType": "float64",
         "type": "float"
        },
        {
         "name": "df3",
         "rawType": "float64",
         "type": "float"
        },
        {
         "name": "df4",
         "rawType": "float64",
         "type": "float"
        }
       ],
       "ref": "5f655082-2caa-49ff-9da8-081fa34257f4",
       "rows": [
        [
         "count",
         "21829.0",
         "21228.0",
         "13966.0",
         "13246.0"
        ],
        [
         "mean",
         "2.8042054148151543",
         "2.2685132843414357",
         "2.2372905627953603",
         "2.0899894307715536"
        ],
        [
         "std",
         "2.400037164734618",
         "1.5564846531196765",
         "1.0410692634186052",
         "0.9884471426220361"
        ],
        [
         "min",
         "1.0",
         "1.0",
         "1.0",
         "1.0"
        ],
        [
         "25%",
         "1.0",
         "1.0",
         "2.0",
         "2.0"
        ],
        [
         "50%",
         "2.0",
         "2.0",
         "2.0",
         "2.0"
        ],
        [
         "75%",
         "3.0",
         "3.0",
         "2.0",
         "2.0"
        ],
        [
         "max",
         "44.0",
         "43.0",
         "24.0",
         "32.0"
        ]
       ],
       "shape": {
        "columns": 4,
        "rows": 8
       }
      },
      "text/html": [
       "<div>\n",
       "<style scoped>\n",
       "    .dataframe tbody tr th:only-of-type {\n",
       "        vertical-align: middle;\n",
       "    }\n",
       "\n",
       "    .dataframe tbody tr th {\n",
       "        vertical-align: top;\n",
       "    }\n",
       "\n",
       "    .dataframe thead th {\n",
       "        text-align: right;\n",
       "    }\n",
       "</style>\n",
       "<table border=\"1\" class=\"dataframe\">\n",
       "  <thead>\n",
       "    <tr style=\"text-align: right;\">\n",
       "      <th></th>\n",
       "      <th>df1</th>\n",
       "      <th>df2</th>\n",
       "      <th>df3</th>\n",
       "      <th>df4</th>\n",
       "    </tr>\n",
       "    <tr>\n",
       "      <th>Arm_Counts</th>\n",
       "      <th></th>\n",
       "      <th></th>\n",
       "      <th></th>\n",
       "      <th></th>\n",
       "    </tr>\n",
       "  </thead>\n",
       "  <tbody>\n",
       "    <tr>\n",
       "      <th>count</th>\n",
       "      <td>21829.000000</td>\n",
       "      <td>21228.000000</td>\n",
       "      <td>13966.000000</td>\n",
       "      <td>13246.000000</td>\n",
       "    </tr>\n",
       "    <tr>\n",
       "      <th>mean</th>\n",
       "      <td>2.804205</td>\n",
       "      <td>2.268513</td>\n",
       "      <td>2.237291</td>\n",
       "      <td>2.089989</td>\n",
       "    </tr>\n",
       "    <tr>\n",
       "      <th>std</th>\n",
       "      <td>2.400037</td>\n",
       "      <td>1.556485</td>\n",
       "      <td>1.041069</td>\n",
       "      <td>0.988447</td>\n",
       "    </tr>\n",
       "    <tr>\n",
       "      <th>min</th>\n",
       "      <td>1.000000</td>\n",
       "      <td>1.000000</td>\n",
       "      <td>1.000000</td>\n",
       "      <td>1.000000</td>\n",
       "    </tr>\n",
       "    <tr>\n",
       "      <th>25%</th>\n",
       "      <td>1.000000</td>\n",
       "      <td>1.000000</td>\n",
       "      <td>2.000000</td>\n",
       "      <td>2.000000</td>\n",
       "    </tr>\n",
       "    <tr>\n",
       "      <th>50%</th>\n",
       "      <td>2.000000</td>\n",
       "      <td>2.000000</td>\n",
       "      <td>2.000000</td>\n",
       "      <td>2.000000</td>\n",
       "    </tr>\n",
       "    <tr>\n",
       "      <th>75%</th>\n",
       "      <td>3.000000</td>\n",
       "      <td>3.000000</td>\n",
       "      <td>2.000000</td>\n",
       "      <td>2.000000</td>\n",
       "    </tr>\n",
       "    <tr>\n",
       "      <th>max</th>\n",
       "      <td>44.000000</td>\n",
       "      <td>43.000000</td>\n",
       "      <td>24.000000</td>\n",
       "      <td>32.000000</td>\n",
       "    </tr>\n",
       "  </tbody>\n",
       "</table>\n",
       "</div>"
      ],
      "text/plain": [
       "                     df1           df2           df3           df4\n",
       "Arm_Counts                                                        \n",
       "count       21829.000000  21228.000000  13966.000000  13246.000000\n",
       "mean            2.804205      2.268513      2.237291      2.089989\n",
       "std             2.400037      1.556485      1.041069      0.988447\n",
       "min             1.000000      1.000000      1.000000      1.000000\n",
       "25%             1.000000      1.000000      2.000000      2.000000\n",
       "50%             2.000000      2.000000      2.000000      2.000000\n",
       "75%             3.000000      3.000000      2.000000      2.000000\n",
       "max            44.000000     43.000000     24.000000     32.000000"
      ]
     },
     "metadata": {},
     "output_type": "display_data"
    },
    {
     "data": {
      "application/vnd.microsoft.datawrangler.viewer.v0+json": {
       "columns": [
        {
         "name": "Arm_Categ",
         "rawType": "category",
         "type": "unknown"
        },
        {
         "name": "count",
         "rawType": "int64",
         "type": "integer"
        }
       ],
       "ref": "e628e757-74e0-42a2-8b6d-ec5195439137",
       "rows": [
        [
         "1–2",
         "13681"
        ],
        [
         "3–44",
         "8148"
        ]
       ],
       "shape": {
        "columns": 1,
        "rows": 2
       }
      },
      "text/plain": [
       "Arm_Categ\n",
       "1–2     13681\n",
       "3–44     8148\n",
       "Name: count, dtype: int64"
      ]
     },
     "metadata": {},
     "output_type": "display_data"
    }
   ],
   "source": [
    "Describe_Arm = def_describe('Arm_Counts')\n",
    "display(Describe_Arm)\n",
    "\n",
    "col = 'Arm_Counts'\n",
    "col_categ = 'Arm_Categ'\n",
    "bins, labels = fun_bins(dfis, col, bin2_val = 2, use_quantile = False)  \n",
    "# 0.5 bind do not increase monotonically. Use fixed bin2_val = 2\n",
    "\n",
    "df1[col_categ] = pd.cut(df1[col], bins = bins[0], labels = labels[0], ordered = True, include_lowest = True, right = True)\n",
    "df2[col_categ] = pd.cut(df2[col], bins = bins[1], labels = labels[1], ordered = True, include_lowest = True, right = True)\n",
    "df3[col_categ] = pd.cut(df3[col], bins = bins[2], labels = labels[2], ordered = True, include_lowest = True, right = True)\n",
    "df4[col_categ] = pd.cut(df4[col], bins = bins[3], labels = labels[3], ordered = True, include_lowest = True, right = True)\n",
    "\n",
    "display(df1['Arm_Categ'].value_counts(dropna = False))"
   ]
  },
  {
   "cell_type": "markdown",
   "metadata": {},
   "source": [
    "## Intervention_Type_Categ"
   ]
  },
  {
   "cell_type": "code",
   "execution_count": 312,
   "metadata": {},
   "outputs": [
    {
     "data": {
      "application/vnd.microsoft.datawrangler.viewer.v0+json": {
       "columns": [
        {
         "name": "Intervention_Type_Counts",
         "rawType": "object",
         "type": "string"
        },
        {
         "name": "df1",
         "rawType": "float64",
         "type": "float"
        },
        {
         "name": "df2",
         "rawType": "float64",
         "type": "float"
        },
        {
         "name": "df3",
         "rawType": "float64",
         "type": "float"
        },
        {
         "name": "df4",
         "rawType": "float64",
         "type": "float"
        }
       ],
       "ref": "8f5edbc1-67da-4281-a4dd-773d4db4e2ae",
       "rows": [
        [
         "count",
         "21829.0",
         "21228.0",
         "13966.0",
         "13246.0"
        ],
        [
         "mean",
         "1.0628979797517064",
         "1.1032127378933485",
         "1.0743233567234713",
         "1.0894609693492374"
        ],
        [
         "std",
         "0.26549826556461137",
         "0.3421422684418129",
         "0.2771720982585799",
         "0.30436471924231445"
        ],
        [
         "min",
         "1.0",
         "1.0",
         "1.0",
         "1.0"
        ],
        [
         "25%",
         "1.0",
         "1.0",
         "1.0",
         "1.0"
        ],
        [
         "50%",
         "1.0",
         "1.0",
         "1.0",
         "1.0"
        ],
        [
         "75%",
         "1.0",
         "1.0",
         "1.0",
         "1.0"
        ],
        [
         "max",
         "4.0",
         "5.0",
         "4.0",
         "4.0"
        ]
       ],
       "shape": {
        "columns": 4,
        "rows": 8
       }
      },
      "text/html": [
       "<div>\n",
       "<style scoped>\n",
       "    .dataframe tbody tr th:only-of-type {\n",
       "        vertical-align: middle;\n",
       "    }\n",
       "\n",
       "    .dataframe tbody tr th {\n",
       "        vertical-align: top;\n",
       "    }\n",
       "\n",
       "    .dataframe thead th {\n",
       "        text-align: right;\n",
       "    }\n",
       "</style>\n",
       "<table border=\"1\" class=\"dataframe\">\n",
       "  <thead>\n",
       "    <tr style=\"text-align: right;\">\n",
       "      <th></th>\n",
       "      <th>df1</th>\n",
       "      <th>df2</th>\n",
       "      <th>df3</th>\n",
       "      <th>df4</th>\n",
       "    </tr>\n",
       "    <tr>\n",
       "      <th>Intervention_Type_Counts</th>\n",
       "      <th></th>\n",
       "      <th></th>\n",
       "      <th></th>\n",
       "      <th></th>\n",
       "    </tr>\n",
       "  </thead>\n",
       "  <tbody>\n",
       "    <tr>\n",
       "      <th>count</th>\n",
       "      <td>21829.000000</td>\n",
       "      <td>21228.000000</td>\n",
       "      <td>13966.000000</td>\n",
       "      <td>13246.000000</td>\n",
       "    </tr>\n",
       "    <tr>\n",
       "      <th>mean</th>\n",
       "      <td>1.062898</td>\n",
       "      <td>1.103213</td>\n",
       "      <td>1.074323</td>\n",
       "      <td>1.089461</td>\n",
       "    </tr>\n",
       "    <tr>\n",
       "      <th>std</th>\n",
       "      <td>0.265498</td>\n",
       "      <td>0.342142</td>\n",
       "      <td>0.277172</td>\n",
       "      <td>0.304365</td>\n",
       "    </tr>\n",
       "    <tr>\n",
       "      <th>min</th>\n",
       "      <td>1.000000</td>\n",
       "      <td>1.000000</td>\n",
       "      <td>1.000000</td>\n",
       "      <td>1.000000</td>\n",
       "    </tr>\n",
       "    <tr>\n",
       "      <th>25%</th>\n",
       "      <td>1.000000</td>\n",
       "      <td>1.000000</td>\n",
       "      <td>1.000000</td>\n",
       "      <td>1.000000</td>\n",
       "    </tr>\n",
       "    <tr>\n",
       "      <th>50%</th>\n",
       "      <td>1.000000</td>\n",
       "      <td>1.000000</td>\n",
       "      <td>1.000000</td>\n",
       "      <td>1.000000</td>\n",
       "    </tr>\n",
       "    <tr>\n",
       "      <th>75%</th>\n",
       "      <td>1.000000</td>\n",
       "      <td>1.000000</td>\n",
       "      <td>1.000000</td>\n",
       "      <td>1.000000</td>\n",
       "    </tr>\n",
       "    <tr>\n",
       "      <th>max</th>\n",
       "      <td>4.000000</td>\n",
       "      <td>5.000000</td>\n",
       "      <td>4.000000</td>\n",
       "      <td>4.000000</td>\n",
       "    </tr>\n",
       "  </tbody>\n",
       "</table>\n",
       "</div>"
      ],
      "text/plain": [
       "                                   df1           df2           df3  \\\n",
       "Intervention_Type_Counts                                             \n",
       "count                     21829.000000  21228.000000  13966.000000   \n",
       "mean                          1.062898      1.103213      1.074323   \n",
       "std                           0.265498      0.342142      0.277172   \n",
       "min                           1.000000      1.000000      1.000000   \n",
       "25%                           1.000000      1.000000      1.000000   \n",
       "50%                           1.000000      1.000000      1.000000   \n",
       "75%                           1.000000      1.000000      1.000000   \n",
       "max                           4.000000      5.000000      4.000000   \n",
       "\n",
       "                                   df4  \n",
       "Intervention_Type_Counts                \n",
       "count                     13246.000000  \n",
       "mean                          1.089461  \n",
       "std                           0.304365  \n",
       "min                           1.000000  \n",
       "25%                           1.000000  \n",
       "50%                           1.000000  \n",
       "75%                           1.000000  \n",
       "max                           4.000000  "
      ]
     },
     "metadata": {},
     "output_type": "display_data"
    },
    {
     "data": {
      "application/vnd.microsoft.datawrangler.viewer.v0+json": {
       "columns": [
        {
         "name": "Intervention_Type_Categ",
         "rawType": "category",
         "type": "unknown"
        },
        {
         "name": "count",
         "rawType": "int64",
         "type": "integer"
        }
       ],
       "ref": "88a2992e-e251-4052-ab0c-26e5ce85bdb3",
       "rows": [
        [
         "1",
         "20574"
        ],
        [
         "2–4",
         "1255"
        ]
       ],
       "shape": {
        "columns": 1,
        "rows": 2
       }
      },
      "text/plain": [
       "Intervention_Type_Categ\n",
       "1      20574\n",
       "2–4     1255\n",
       "Name: count, dtype: int64"
      ]
     },
     "metadata": {},
     "output_type": "display_data"
    }
   ],
   "source": [
    "Describe_Intervention_Type = def_describe('Intervention_Type_Counts')\n",
    "display(Describe_Intervention_Type)\n",
    "\n",
    "col = 'Intervention_Type_Counts'\n",
    "col_categ = 'Intervention_Type_Categ'\n",
    "\n",
    "bins, labels = fun_bins2(dfis, col, bin1_val = 0.5 , bin2_val = 1)\n",
    "\n",
    "df1[col_categ] = pd.cut(df1[col], bins = bins[0], labels = labels[0], ordered = True, include_lowest = True, right = True)\n",
    "df2[col_categ] = pd.cut(df2[col], bins = bins[1], labels = labels[1], ordered = True, include_lowest = True, right = True)\n",
    "df3[col_categ] = pd.cut(df3[col], bins = bins[2], labels = labels[2], ordered = True, include_lowest = True, right = True)\n",
    "df4[col_categ] = pd.cut(df4[col], bins = bins[3], labels = labels[3], ordered = True, include_lowest = True, right = True)\n",
    "\n",
    "display(df1['Intervention_Type_Categ'].value_counts())"
   ]
  },
  {
   "cell_type": "markdown",
   "metadata": {},
   "source": [
    "## Intervention_Route_Categ"
   ]
  },
  {
   "cell_type": "code",
   "execution_count": 313,
   "metadata": {},
   "outputs": [
    {
     "data": {
      "application/vnd.microsoft.datawrangler.viewer.v0+json": {
       "columns": [
        {
         "name": "Intervention_Route_Counts",
         "rawType": "object",
         "type": "string"
        },
        {
         "name": "df1",
         "rawType": "float64",
         "type": "float"
        },
        {
         "name": "df2",
         "rawType": "float64",
         "type": "float"
        },
        {
         "name": "df3",
         "rawType": "float64",
         "type": "float"
        },
        {
         "name": "df4",
         "rawType": "float64",
         "type": "float"
        }
       ],
       "ref": "bbdff3c3-8150-4d11-89da-8294a2a32210",
       "rows": [
        [
         "count",
         "21829.0",
         "21228.0",
         "13966.0",
         "13246.0"
        ],
        [
         "mean",
         "1.1619405378166658",
         "1.214104013566987",
         "1.1726335385937277",
         "1.2864260908953646"
        ],
        [
         "std",
         "0.41285355452826933",
         "0.46883850865346255",
         "0.4209668290240908",
         "0.516346561986933"
        ],
        [
         "min",
         "1.0",
         "1.0",
         "1.0",
         "1.0"
        ],
        [
         "25%",
         "1.0",
         "1.0",
         "1.0",
         "1.0"
        ],
        [
         "50%",
         "1.0",
         "1.0",
         "1.0",
         "1.0"
        ],
        [
         "75%",
         "1.0",
         "1.0",
         "1.0",
         "2.0"
        ],
        [
         "max",
         "4.0",
         "4.0",
         "4.0",
         "4.0"
        ]
       ],
       "shape": {
        "columns": 4,
        "rows": 8
       }
      },
      "text/html": [
       "<div>\n",
       "<style scoped>\n",
       "    .dataframe tbody tr th:only-of-type {\n",
       "        vertical-align: middle;\n",
       "    }\n",
       "\n",
       "    .dataframe tbody tr th {\n",
       "        vertical-align: top;\n",
       "    }\n",
       "\n",
       "    .dataframe thead th {\n",
       "        text-align: right;\n",
       "    }\n",
       "</style>\n",
       "<table border=\"1\" class=\"dataframe\">\n",
       "  <thead>\n",
       "    <tr style=\"text-align: right;\">\n",
       "      <th></th>\n",
       "      <th>df1</th>\n",
       "      <th>df2</th>\n",
       "      <th>df3</th>\n",
       "      <th>df4</th>\n",
       "    </tr>\n",
       "    <tr>\n",
       "      <th>Intervention_Route_Counts</th>\n",
       "      <th></th>\n",
       "      <th></th>\n",
       "      <th></th>\n",
       "      <th></th>\n",
       "    </tr>\n",
       "  </thead>\n",
       "  <tbody>\n",
       "    <tr>\n",
       "      <th>count</th>\n",
       "      <td>21829.000000</td>\n",
       "      <td>21228.000000</td>\n",
       "      <td>13966.000000</td>\n",
       "      <td>13246.000000</td>\n",
       "    </tr>\n",
       "    <tr>\n",
       "      <th>mean</th>\n",
       "      <td>1.161941</td>\n",
       "      <td>1.214104</td>\n",
       "      <td>1.172634</td>\n",
       "      <td>1.286426</td>\n",
       "    </tr>\n",
       "    <tr>\n",
       "      <th>std</th>\n",
       "      <td>0.412854</td>\n",
       "      <td>0.468839</td>\n",
       "      <td>0.420967</td>\n",
       "      <td>0.516347</td>\n",
       "    </tr>\n",
       "    <tr>\n",
       "      <th>min</th>\n",
       "      <td>1.000000</td>\n",
       "      <td>1.000000</td>\n",
       "      <td>1.000000</td>\n",
       "      <td>1.000000</td>\n",
       "    </tr>\n",
       "    <tr>\n",
       "      <th>25%</th>\n",
       "      <td>1.000000</td>\n",
       "      <td>1.000000</td>\n",
       "      <td>1.000000</td>\n",
       "      <td>1.000000</td>\n",
       "    </tr>\n",
       "    <tr>\n",
       "      <th>50%</th>\n",
       "      <td>1.000000</td>\n",
       "      <td>1.000000</td>\n",
       "      <td>1.000000</td>\n",
       "      <td>1.000000</td>\n",
       "    </tr>\n",
       "    <tr>\n",
       "      <th>75%</th>\n",
       "      <td>1.000000</td>\n",
       "      <td>1.000000</td>\n",
       "      <td>1.000000</td>\n",
       "      <td>2.000000</td>\n",
       "    </tr>\n",
       "    <tr>\n",
       "      <th>max</th>\n",
       "      <td>4.000000</td>\n",
       "      <td>4.000000</td>\n",
       "      <td>4.000000</td>\n",
       "      <td>4.000000</td>\n",
       "    </tr>\n",
       "  </tbody>\n",
       "</table>\n",
       "</div>"
      ],
      "text/plain": [
       "                                    df1           df2           df3  \\\n",
       "Intervention_Route_Counts                                             \n",
       "count                      21829.000000  21228.000000  13966.000000   \n",
       "mean                           1.161941      1.214104      1.172634   \n",
       "std                            0.412854      0.468839      0.420967   \n",
       "min                            1.000000      1.000000      1.000000   \n",
       "25%                            1.000000      1.000000      1.000000   \n",
       "50%                            1.000000      1.000000      1.000000   \n",
       "75%                            1.000000      1.000000      1.000000   \n",
       "max                            4.000000      4.000000      4.000000   \n",
       "\n",
       "                                    df4  \n",
       "Intervention_Route_Counts                \n",
       "count                      13246.000000  \n",
       "mean                           1.286426  \n",
       "std                            0.516347  \n",
       "min                            1.000000  \n",
       "25%                            1.000000  \n",
       "50%                            1.000000  \n",
       "75%                            2.000000  \n",
       "max                            4.000000  "
      ]
     },
     "metadata": {},
     "output_type": "display_data"
    },
    {
     "data": {
      "application/vnd.microsoft.datawrangler.viewer.v0+json": {
       "columns": [
        {
         "name": "Intervention_Route_Categ",
         "rawType": "category",
         "type": "unknown"
        },
        {
         "name": "count",
         "rawType": "int64",
         "type": "integer"
        }
       ],
       "ref": "8f9a4168-a4f6-41a7-9587-3242d9e6442d",
       "rows": [
        [
         "1",
         "18670"
        ],
        [
         "2–4",
         "3159"
        ]
       ],
       "shape": {
        "columns": 1,
        "rows": 2
       }
      },
      "text/plain": [
       "Intervention_Route_Categ\n",
       "1      18670\n",
       "2–4     3159\n",
       "Name: count, dtype: int64"
      ]
     },
     "metadata": {},
     "output_type": "display_data"
    }
   ],
   "source": [
    "Describe_Intervention_Route = def_describe('Intervention_Route_Counts')\n",
    "display(Describe_Intervention_Route)\n",
    "\n",
    "col = 'Intervention_Route_Counts'\n",
    "col_categ = 'Intervention_Route_Categ'\n",
    "\n",
    "bins, labels = fun_bins2(dfis, col, bin1_val = 0.5, bin2_val = 1)\n",
    "\n",
    "df1[col_categ] = pd.cut(df1[col], bins = bins[0], labels = labels[0], ordered = True, include_lowest = True, right = True)\n",
    "df2[col_categ] = pd.cut(df2[col], bins = bins[1], labels = labels[1], ordered = True, include_lowest = True, right = True)\n",
    "df3[col_categ] = pd.cut(df3[col], bins = bins[2], labels = labels[2], ordered = True, include_lowest = True, right = True)\n",
    "df4[col_categ] = pd.cut(df4[col], bins = bins[3], labels = labels[3], ordered = True, include_lowest = True, right = True)\n",
    "\n",
    "display(df1['Intervention_Route_Categ'].value_counts())"
   ]
  },
  {
   "cell_type": "markdown",
   "metadata": {},
   "source": [
    "## City_Categ"
   ]
  },
  {
   "cell_type": "code",
   "execution_count": 314,
   "metadata": {},
   "outputs": [
    {
     "data": {
      "application/vnd.microsoft.datawrangler.viewer.v0+json": {
       "columns": [
        {
         "name": "City_Counts",
         "rawType": "object",
         "type": "string"
        },
        {
         "name": "df1",
         "rawType": "float64",
         "type": "float"
        },
        {
         "name": "df2",
         "rawType": "float64",
         "type": "float"
        },
        {
         "name": "df3",
         "rawType": "float64",
         "type": "float"
        },
        {
         "name": "df4",
         "rawType": "float64",
         "type": "float"
        }
       ],
       "ref": "6d986caf-cea4-4990-b7fe-4aa5699d5c43",
       "rows": [
        [
         "count",
         "21829.0",
         "21228.0",
         "13966.0",
         "13246.0"
        ],
        [
         "mean",
         "2.3773878785102385",
         "10.128273977765216",
         "29.567735930115997",
         "4.325985203080175"
        ],
        [
         "std",
         "4.298291584884773",
         "23.64953686761727",
         "60.15067691072548",
         "17.885615327072706"
        ],
        [
         "min",
         "0.0",
         "0.0",
         "0.0",
         "0.0"
        ],
        [
         "25%",
         "1.0",
         "1.0",
         "1.0",
         "1.0"
        ],
        [
         "50%",
         "1.0",
         "1.0",
         "5.0",
         "1.0"
        ],
        [
         "75%",
         "2.0",
         "9.0",
         "34.0",
         "1.0"
        ],
        [
         "max",
         "104.0",
         "667.0",
         "1064.0",
         "607.0"
        ]
       ],
       "shape": {
        "columns": 4,
        "rows": 8
       }
      },
      "text/html": [
       "<div>\n",
       "<style scoped>\n",
       "    .dataframe tbody tr th:only-of-type {\n",
       "        vertical-align: middle;\n",
       "    }\n",
       "\n",
       "    .dataframe tbody tr th {\n",
       "        vertical-align: top;\n",
       "    }\n",
       "\n",
       "    .dataframe thead th {\n",
       "        text-align: right;\n",
       "    }\n",
       "</style>\n",
       "<table border=\"1\" class=\"dataframe\">\n",
       "  <thead>\n",
       "    <tr style=\"text-align: right;\">\n",
       "      <th></th>\n",
       "      <th>df1</th>\n",
       "      <th>df2</th>\n",
       "      <th>df3</th>\n",
       "      <th>df4</th>\n",
       "    </tr>\n",
       "    <tr>\n",
       "      <th>City_Counts</th>\n",
       "      <th></th>\n",
       "      <th></th>\n",
       "      <th></th>\n",
       "      <th></th>\n",
       "    </tr>\n",
       "  </thead>\n",
       "  <tbody>\n",
       "    <tr>\n",
       "      <th>count</th>\n",
       "      <td>21829.000000</td>\n",
       "      <td>21228.000000</td>\n",
       "      <td>13966.000000</td>\n",
       "      <td>13246.000000</td>\n",
       "    </tr>\n",
       "    <tr>\n",
       "      <th>mean</th>\n",
       "      <td>2.377388</td>\n",
       "      <td>10.128274</td>\n",
       "      <td>29.567736</td>\n",
       "      <td>4.325985</td>\n",
       "    </tr>\n",
       "    <tr>\n",
       "      <th>std</th>\n",
       "      <td>4.298292</td>\n",
       "      <td>23.649537</td>\n",
       "      <td>60.150677</td>\n",
       "      <td>17.885615</td>\n",
       "    </tr>\n",
       "    <tr>\n",
       "      <th>min</th>\n",
       "      <td>0.000000</td>\n",
       "      <td>0.000000</td>\n",
       "      <td>0.000000</td>\n",
       "      <td>0.000000</td>\n",
       "    </tr>\n",
       "    <tr>\n",
       "      <th>25%</th>\n",
       "      <td>1.000000</td>\n",
       "      <td>1.000000</td>\n",
       "      <td>1.000000</td>\n",
       "      <td>1.000000</td>\n",
       "    </tr>\n",
       "    <tr>\n",
       "      <th>50%</th>\n",
       "      <td>1.000000</td>\n",
       "      <td>1.000000</td>\n",
       "      <td>5.000000</td>\n",
       "      <td>1.000000</td>\n",
       "    </tr>\n",
       "    <tr>\n",
       "      <th>75%</th>\n",
       "      <td>2.000000</td>\n",
       "      <td>9.000000</td>\n",
       "      <td>34.000000</td>\n",
       "      <td>1.000000</td>\n",
       "    </tr>\n",
       "    <tr>\n",
       "      <th>max</th>\n",
       "      <td>104.000000</td>\n",
       "      <td>667.000000</td>\n",
       "      <td>1064.000000</td>\n",
       "      <td>607.000000</td>\n",
       "    </tr>\n",
       "  </tbody>\n",
       "</table>\n",
       "</div>"
      ],
      "text/plain": [
       "                      df1           df2           df3           df4\n",
       "City_Counts                                                        \n",
       "count        21829.000000  21228.000000  13966.000000  13246.000000\n",
       "mean             2.377388     10.128274     29.567736      4.325985\n",
       "std              4.298292     23.649537     60.150677     17.885615\n",
       "min              0.000000      0.000000      0.000000      0.000000\n",
       "25%              1.000000      1.000000      1.000000      1.000000\n",
       "50%              1.000000      1.000000      5.000000      1.000000\n",
       "75%              2.000000      9.000000     34.000000      1.000000\n",
       "max            104.000000    667.000000   1064.000000    607.000000"
      ]
     },
     "metadata": {},
     "output_type": "display_data"
    },
    {
     "data": {
      "application/vnd.microsoft.datawrangler.viewer.v0+json": {
       "columns": [
        {
         "name": "City_Categ",
         "rawType": "category",
         "type": "unknown"
        },
        {
         "name": "count",
         "rawType": "int64",
         "type": "integer"
        }
       ],
       "ref": "b815e920-ccc2-4aa3-80f4-8486beea798f",
       "rows": [
        [
         "0–1",
         "16212"
        ],
        [
         "2–104",
         "5617"
        ]
       ],
       "shape": {
        "columns": 1,
        "rows": 2
       }
      },
      "text/plain": [
       "City_Categ\n",
       "0–1      16212\n",
       "2–104     5617\n",
       "Name: count, dtype: int64"
      ]
     },
     "metadata": {},
     "output_type": "display_data"
    }
   ],
   "source": [
    "Describe_City = def_describe('City_Counts')\n",
    "display(Describe_City)\n",
    "\n",
    "col = 'City_Counts'\n",
    "col_categ = 'City_Categ'\n",
    "\n",
    "bins, labels = fun_bins(dfis, col, bin2_val = 1, use_quantile = False)\n",
    "# Almost all distribution at 1, so use fixed bin2_val = 1\n",
    "\n",
    "df1[col_categ] = pd.cut(df1[col], bins = bins[0], labels = labels[0], ordered = True, include_lowest = True, right = True)\n",
    "df2[col_categ] = pd.cut(df2[col], bins = bins[1], labels = labels[1], ordered = True, include_lowest = True, right = True)\n",
    "df3[col_categ] = pd.cut(df3[col], bins = bins[2], labels = labels[2], ordered = True, include_lowest = True, right = True)\n",
    "df4[col_categ] = pd.cut(df4[col], bins = bins[3], labels = labels[3], ordered = True, include_lowest = True, right = True)\n",
    "\n",
    "display(df1['City_Categ'].value_counts(dropna = False))"
   ]
  },
  {
   "cell_type": "markdown",
   "metadata": {},
   "source": [
    "## Country_Categ"
   ]
  },
  {
   "cell_type": "code",
   "execution_count": 315,
   "metadata": {},
   "outputs": [
    {
     "data": {
      "application/vnd.microsoft.datawrangler.viewer.v0+json": {
       "columns": [
        {
         "name": "Country_Counts",
         "rawType": "object",
         "type": "string"
        },
        {
         "name": "df1",
         "rawType": "float64",
         "type": "float"
        },
        {
         "name": "df2",
         "rawType": "float64",
         "type": "float"
        },
        {
         "name": "df3",
         "rawType": "float64",
         "type": "float"
        },
        {
         "name": "df4",
         "rawType": "float64",
         "type": "float"
        }
       ],
       "ref": "2631eab6-af3a-4c02-b35f-fe6c13592161",
       "rows": [
        [
         "count",
         "21829.0",
         "21228.0",
         "13966.0",
         "13246.0"
        ],
        [
         "mean",
         "1.1804480278528562",
         "1.948888260787639",
         "4.086424172991551",
         "1.2340329155971614"
        ],
        [
         "std",
         "1.0540682554855094",
         "2.9367601889102177",
         "6.698577508618437",
         "1.9485356265878753"
        ],
        [
         "min",
         "0.0",
         "0.0",
         "0.0",
         "0.0"
        ],
        [
         "25%",
         "1.0",
         "1.0",
         "1.0",
         "1.0"
        ],
        [
         "50%",
         "1.0",
         "1.0",
         "1.0",
         "1.0"
        ],
        [
         "75%",
         "1.0",
         "1.0",
         "4.0",
         "1.0"
        ],
        [
         "max",
         "33.0",
         "37.0",
         "59.0",
         "42.0"
        ]
       ],
       "shape": {
        "columns": 4,
        "rows": 8
       }
      },
      "text/html": [
       "<div>\n",
       "<style scoped>\n",
       "    .dataframe tbody tr th:only-of-type {\n",
       "        vertical-align: middle;\n",
       "    }\n",
       "\n",
       "    .dataframe tbody tr th {\n",
       "        vertical-align: top;\n",
       "    }\n",
       "\n",
       "    .dataframe thead th {\n",
       "        text-align: right;\n",
       "    }\n",
       "</style>\n",
       "<table border=\"1\" class=\"dataframe\">\n",
       "  <thead>\n",
       "    <tr style=\"text-align: right;\">\n",
       "      <th></th>\n",
       "      <th>df1</th>\n",
       "      <th>df2</th>\n",
       "      <th>df3</th>\n",
       "      <th>df4</th>\n",
       "    </tr>\n",
       "    <tr>\n",
       "      <th>Country_Counts</th>\n",
       "      <th></th>\n",
       "      <th></th>\n",
       "      <th></th>\n",
       "      <th></th>\n",
       "    </tr>\n",
       "  </thead>\n",
       "  <tbody>\n",
       "    <tr>\n",
       "      <th>count</th>\n",
       "      <td>21829.000000</td>\n",
       "      <td>21228.000000</td>\n",
       "      <td>13966.000000</td>\n",
       "      <td>13246.000000</td>\n",
       "    </tr>\n",
       "    <tr>\n",
       "      <th>mean</th>\n",
       "      <td>1.180448</td>\n",
       "      <td>1.948888</td>\n",
       "      <td>4.086424</td>\n",
       "      <td>1.234033</td>\n",
       "    </tr>\n",
       "    <tr>\n",
       "      <th>std</th>\n",
       "      <td>1.054068</td>\n",
       "      <td>2.936760</td>\n",
       "      <td>6.698578</td>\n",
       "      <td>1.948536</td>\n",
       "    </tr>\n",
       "    <tr>\n",
       "      <th>min</th>\n",
       "      <td>0.000000</td>\n",
       "      <td>0.000000</td>\n",
       "      <td>0.000000</td>\n",
       "      <td>0.000000</td>\n",
       "    </tr>\n",
       "    <tr>\n",
       "      <th>25%</th>\n",
       "      <td>1.000000</td>\n",
       "      <td>1.000000</td>\n",
       "      <td>1.000000</td>\n",
       "      <td>1.000000</td>\n",
       "    </tr>\n",
       "    <tr>\n",
       "      <th>50%</th>\n",
       "      <td>1.000000</td>\n",
       "      <td>1.000000</td>\n",
       "      <td>1.000000</td>\n",
       "      <td>1.000000</td>\n",
       "    </tr>\n",
       "    <tr>\n",
       "      <th>75%</th>\n",
       "      <td>1.000000</td>\n",
       "      <td>1.000000</td>\n",
       "      <td>4.000000</td>\n",
       "      <td>1.000000</td>\n",
       "    </tr>\n",
       "    <tr>\n",
       "      <th>max</th>\n",
       "      <td>33.000000</td>\n",
       "      <td>37.000000</td>\n",
       "      <td>59.000000</td>\n",
       "      <td>42.000000</td>\n",
       "    </tr>\n",
       "  </tbody>\n",
       "</table>\n",
       "</div>"
      ],
      "text/plain": [
       "                         df1           df2           df3           df4\n",
       "Country_Counts                                                        \n",
       "count           21829.000000  21228.000000  13966.000000  13246.000000\n",
       "mean                1.180448      1.948888      4.086424      1.234033\n",
       "std                 1.054068      2.936760      6.698578      1.948536\n",
       "min                 0.000000      0.000000      0.000000      0.000000\n",
       "25%                 1.000000      1.000000      1.000000      1.000000\n",
       "50%                 1.000000      1.000000      1.000000      1.000000\n",
       "75%                 1.000000      1.000000      4.000000      1.000000\n",
       "max                33.000000     37.000000     59.000000     42.000000"
      ]
     },
     "metadata": {},
     "output_type": "display_data"
    },
    {
     "data": {
      "application/vnd.microsoft.datawrangler.viewer.v0+json": {
       "columns": [
        {
         "name": "Country_Categ",
         "rawType": "category",
         "type": "unknown"
        },
        {
         "name": "count",
         "rawType": "int64",
         "type": "integer"
        }
       ],
       "ref": "0e619e66-00af-4b14-8b4f-ec97f3355e0d",
       "rows": [
        [
         "0–1",
         "19932"
        ],
        [
         "2–33",
         "1897"
        ]
       ],
       "shape": {
        "columns": 1,
        "rows": 2
       }
      },
      "text/plain": [
       "Country_Categ\n",
       "0–1     19932\n",
       "2–33     1897\n",
       "Name: count, dtype: int64"
      ]
     },
     "metadata": {},
     "output_type": "display_data"
    }
   ],
   "source": [
    "Describe_Country = def_describe('Country_Counts')\n",
    "display(Describe_Country)\n",
    "\n",
    "col = 'Country_Counts'\n",
    "col_categ = 'Country_Categ'\n",
    "\n",
    "bins, labels = fun_bins(dfis, col, bin2_val = 1, use_quantile = False)\n",
    "# Almost all distribution is at 1 country. Use fixed bin2_val = 1\n",
    "\n",
    "df1[col_categ] = pd.cut(df1[col], bins = bins[0], labels = labels[0], ordered = True, include_lowest = True, right = True)\n",
    "df2[col_categ] = pd.cut(df2[col], bins = bins[1], labels = labels[1], ordered = True, include_lowest = True, right = True)\n",
    "df3[col_categ] = pd.cut(df3[col], bins = bins[2], labels = labels[2], ordered = True, include_lowest = True, right = True)\n",
    "df4[col_categ] = pd.cut(df4[col], bins = bins[3], labels = labels[3], ordered = True, include_lowest = True, right = True)\n",
    "\n",
    "display(df1['Country_Categ'].value_counts(dropna = False))"
   ]
  },
  {
   "cell_type": "markdown",
   "metadata": {},
   "source": [
    "## Continent_Categ"
   ]
  },
  {
   "cell_type": "code",
   "execution_count": 316,
   "metadata": {},
   "outputs": [
    {
     "data": {
      "application/vnd.microsoft.datawrangler.viewer.v0+json": {
       "columns": [
        {
         "name": "Continent_Counts",
         "rawType": "object",
         "type": "string"
        },
        {
         "name": "df1",
         "rawType": "float64",
         "type": "float"
        },
        {
         "name": "df2",
         "rawType": "float64",
         "type": "float"
        },
        {
         "name": "df3",
         "rawType": "float64",
         "type": "float"
        },
        {
         "name": "df4",
         "rawType": "float64",
         "type": "float"
        }
       ],
       "ref": "d395fe75-64fa-4ac0-8aa9-a711ce50601d",
       "rows": [
        [
         "count",
         "21829.0",
         "21228.0",
         "13966.0",
         "13246.0"
        ],
        [
         "mean",
         "0.9877227541344084",
         "1.1529583568871302",
         "1.5127452384362021",
         "0.8700739845991242"
        ],
        [
         "std",
         "0.4922297877240388",
         "0.8050795133463414",
         "1.3510079341231171",
         "0.5680161131795837"
        ],
        [
         "min",
         "0.0",
         "0.0",
         "0.0",
         "0.0"
        ],
        [
         "25%",
         "1.0",
         "1.0",
         "1.0",
         "1.0"
        ],
        [
         "50%",
         "1.0",
         "1.0",
         "1.0",
         "1.0"
        ],
        [
         "75%",
         "1.0",
         "1.0",
         "2.0",
         "1.0"
        ],
        [
         "max",
         "6.0",
         "6.0",
         "6.0",
         "6.0"
        ]
       ],
       "shape": {
        "columns": 4,
        "rows": 8
       }
      },
      "text/html": [
       "<div>\n",
       "<style scoped>\n",
       "    .dataframe tbody tr th:only-of-type {\n",
       "        vertical-align: middle;\n",
       "    }\n",
       "\n",
       "    .dataframe tbody tr th {\n",
       "        vertical-align: top;\n",
       "    }\n",
       "\n",
       "    .dataframe thead th {\n",
       "        text-align: right;\n",
       "    }\n",
       "</style>\n",
       "<table border=\"1\" class=\"dataframe\">\n",
       "  <thead>\n",
       "    <tr style=\"text-align: right;\">\n",
       "      <th></th>\n",
       "      <th>df1</th>\n",
       "      <th>df2</th>\n",
       "      <th>df3</th>\n",
       "      <th>df4</th>\n",
       "    </tr>\n",
       "    <tr>\n",
       "      <th>Continent_Counts</th>\n",
       "      <th></th>\n",
       "      <th></th>\n",
       "      <th></th>\n",
       "      <th></th>\n",
       "    </tr>\n",
       "  </thead>\n",
       "  <tbody>\n",
       "    <tr>\n",
       "      <th>count</th>\n",
       "      <td>21829.000000</td>\n",
       "      <td>21228.000000</td>\n",
       "      <td>13966.000000</td>\n",
       "      <td>13246.000000</td>\n",
       "    </tr>\n",
       "    <tr>\n",
       "      <th>mean</th>\n",
       "      <td>0.987723</td>\n",
       "      <td>1.152958</td>\n",
       "      <td>1.512745</td>\n",
       "      <td>0.870074</td>\n",
       "    </tr>\n",
       "    <tr>\n",
       "      <th>std</th>\n",
       "      <td>0.492230</td>\n",
       "      <td>0.805080</td>\n",
       "      <td>1.351008</td>\n",
       "      <td>0.568016</td>\n",
       "    </tr>\n",
       "    <tr>\n",
       "      <th>min</th>\n",
       "      <td>0.000000</td>\n",
       "      <td>0.000000</td>\n",
       "      <td>0.000000</td>\n",
       "      <td>0.000000</td>\n",
       "    </tr>\n",
       "    <tr>\n",
       "      <th>25%</th>\n",
       "      <td>1.000000</td>\n",
       "      <td>1.000000</td>\n",
       "      <td>1.000000</td>\n",
       "      <td>1.000000</td>\n",
       "    </tr>\n",
       "    <tr>\n",
       "      <th>50%</th>\n",
       "      <td>1.000000</td>\n",
       "      <td>1.000000</td>\n",
       "      <td>1.000000</td>\n",
       "      <td>1.000000</td>\n",
       "    </tr>\n",
       "    <tr>\n",
       "      <th>75%</th>\n",
       "      <td>1.000000</td>\n",
       "      <td>1.000000</td>\n",
       "      <td>2.000000</td>\n",
       "      <td>1.000000</td>\n",
       "    </tr>\n",
       "    <tr>\n",
       "      <th>max</th>\n",
       "      <td>6.000000</td>\n",
       "      <td>6.000000</td>\n",
       "      <td>6.000000</td>\n",
       "      <td>6.000000</td>\n",
       "    </tr>\n",
       "  </tbody>\n",
       "</table>\n",
       "</div>"
      ],
      "text/plain": [
       "                           df1           df2           df3           df4\n",
       "Continent_Counts                                                        \n",
       "count             21829.000000  21228.000000  13966.000000  13246.000000\n",
       "mean                  0.987723      1.152958      1.512745      0.870074\n",
       "std                   0.492230      0.805080      1.351008      0.568016\n",
       "min                   0.000000      0.000000      0.000000      0.000000\n",
       "25%                   1.000000      1.000000      1.000000      1.000000\n",
       "50%                   1.000000      1.000000      1.000000      1.000000\n",
       "75%                   1.000000      1.000000      2.000000      1.000000\n",
       "max                   6.000000      6.000000      6.000000      6.000000"
      ]
     },
     "metadata": {},
     "output_type": "display_data"
    },
    {
     "data": {
      "application/vnd.microsoft.datawrangler.viewer.v0+json": {
       "columns": [
        {
         "name": "Continent_Categ",
         "rawType": "category",
         "type": "unknown"
        },
        {
         "name": "count",
         "rawType": "int64",
         "type": "integer"
        }
       ],
       "ref": "9c98db22-fdc1-43ab-b893-1c13e9010b98",
       "rows": [
        [
         "0–1",
         "20510"
        ],
        [
         "2–6",
         "1319"
        ]
       ],
       "shape": {
        "columns": 1,
        "rows": 2
       }
      },
      "text/plain": [
       "Continent_Categ\n",
       "0–1    20510\n",
       "2–6     1319\n",
       "Name: count, dtype: int64"
      ]
     },
     "metadata": {},
     "output_type": "display_data"
    }
   ],
   "source": [
    "Describe_Continent = def_describe('Continent_Counts')\n",
    "display(Describe_Continent)\n",
    "\n",
    "col = 'Continent_Counts'\n",
    "col_categ = 'Continent_Categ'\n",
    "\n",
    "bins, labels = fun_bins(dfis, col, bin2_val = 1, use_quantile = False)\n",
    "# Almost all distribution is at 1 continent. Use fixed bin2_val = 1\n",
    "\n",
    "df1[col_categ] = pd.cut(df1[col], bins = bins[0], labels = labels[0], ordered = True, include_lowest = True, right = True)\n",
    "df2[col_categ] = pd.cut(df2[col], bins = bins[1], labels = labels[1], ordered = True, include_lowest = True, right = True)\n",
    "df3[col_categ] = pd.cut(df3[col], bins = bins[2], labels = labels[2], ordered = True, include_lowest = True, right = True)\n",
    "df4[col_categ] = pd.cut(df4[col], bins = bins[3], labels = labels[3], ordered = True, include_lowest = True, right = True)\n",
    "\n",
    "display(df1['Continent_Categ'].value_counts(dropna = False))"
   ]
  },
  {
   "cell_type": "markdown",
   "metadata": {},
   "source": [
    "## Completion_Gap_Categ\n"
   ]
  },
  {
   "cell_type": "code",
   "execution_count": 317,
   "metadata": {},
   "outputs": [
    {
     "data": {
      "application/vnd.microsoft.datawrangler.viewer.v0+json": {
       "columns": [
        {
         "name": "Completion_Gap_Counts",
         "rawType": "object",
         "type": "string"
        },
        {
         "name": "df1",
         "rawType": "Float64",
         "type": "float"
        },
        {
         "name": "df2",
         "rawType": "Float64",
         "type": "float"
        },
        {
         "name": "df3",
         "rawType": "Float64",
         "type": "float"
        },
        {
         "name": "df4",
         "rawType": "Float64",
         "type": "float"
        }
       ],
       "ref": "129ec45d-2720-4c9d-9bba-26ff0cf48de0",
       "rows": [
        [
         "count",
         "21829.0",
         "21228.0",
         "13966.0",
         "13246.0"
        ],
        [
         "mean",
         "19.16991158550552",
         "31.394526097606935",
         "30.000358012315623",
         "25.543333836629927"
        ],
        [
         "std",
         "21.6752976119854",
         "24.202355924871316",
         "23.107279497738478",
         "20.092805866619052"
        ],
        [
         "min",
         "0.0",
         "0.0",
         "0.0",
         "0.0"
        ],
        [
         "25%",
         "4.0",
         "13.0",
         "13.0",
         "11.0"
        ],
        [
         "50%",
         "11.0",
         "25.0",
         "24.0",
         "21.0"
        ],
        [
         "75%",
         "27.0",
         "43.0",
         "40.0",
         "35.0"
        ],
        [
         "max",
         "160.0",
         "163.0",
         "162.0",
         "149.0"
        ]
       ],
       "shape": {
        "columns": 4,
        "rows": 8
       }
      },
      "text/html": [
       "<div>\n",
       "<style scoped>\n",
       "    .dataframe tbody tr th:only-of-type {\n",
       "        vertical-align: middle;\n",
       "    }\n",
       "\n",
       "    .dataframe tbody tr th {\n",
       "        vertical-align: top;\n",
       "    }\n",
       "\n",
       "    .dataframe thead th {\n",
       "        text-align: right;\n",
       "    }\n",
       "</style>\n",
       "<table border=\"1\" class=\"dataframe\">\n",
       "  <thead>\n",
       "    <tr style=\"text-align: right;\">\n",
       "      <th></th>\n",
       "      <th>df1</th>\n",
       "      <th>df2</th>\n",
       "      <th>df3</th>\n",
       "      <th>df4</th>\n",
       "    </tr>\n",
       "    <tr>\n",
       "      <th>Completion_Gap_Counts</th>\n",
       "      <th></th>\n",
       "      <th></th>\n",
       "      <th></th>\n",
       "      <th></th>\n",
       "    </tr>\n",
       "  </thead>\n",
       "  <tbody>\n",
       "    <tr>\n",
       "      <th>count</th>\n",
       "      <td>21829.0</td>\n",
       "      <td>21228.0</td>\n",
       "      <td>13966.0</td>\n",
       "      <td>13246.0</td>\n",
       "    </tr>\n",
       "    <tr>\n",
       "      <th>mean</th>\n",
       "      <td>19.169912</td>\n",
       "      <td>31.394526</td>\n",
       "      <td>30.000358</td>\n",
       "      <td>25.543334</td>\n",
       "    </tr>\n",
       "    <tr>\n",
       "      <th>std</th>\n",
       "      <td>21.675298</td>\n",
       "      <td>24.202356</td>\n",
       "      <td>23.107279</td>\n",
       "      <td>20.092806</td>\n",
       "    </tr>\n",
       "    <tr>\n",
       "      <th>min</th>\n",
       "      <td>0.0</td>\n",
       "      <td>0.0</td>\n",
       "      <td>0.0</td>\n",
       "      <td>0.0</td>\n",
       "    </tr>\n",
       "    <tr>\n",
       "      <th>25%</th>\n",
       "      <td>4.0</td>\n",
       "      <td>13.0</td>\n",
       "      <td>13.0</td>\n",
       "      <td>11.0</td>\n",
       "    </tr>\n",
       "    <tr>\n",
       "      <th>50%</th>\n",
       "      <td>11.0</td>\n",
       "      <td>25.0</td>\n",
       "      <td>24.0</td>\n",
       "      <td>21.0</td>\n",
       "    </tr>\n",
       "    <tr>\n",
       "      <th>75%</th>\n",
       "      <td>27.0</td>\n",
       "      <td>43.0</td>\n",
       "      <td>40.0</td>\n",
       "      <td>35.0</td>\n",
       "    </tr>\n",
       "    <tr>\n",
       "      <th>max</th>\n",
       "      <td>160.0</td>\n",
       "      <td>163.0</td>\n",
       "      <td>162.0</td>\n",
       "      <td>149.0</td>\n",
       "    </tr>\n",
       "  </tbody>\n",
       "</table>\n",
       "</div>"
      ],
      "text/plain": [
       "                             df1        df2        df3        df4\n",
       "Completion_Gap_Counts                                            \n",
       "count                    21829.0    21228.0    13966.0    13246.0\n",
       "mean                   19.169912  31.394526  30.000358  25.543334\n",
       "std                    21.675298  24.202356  23.107279  20.092806\n",
       "min                          0.0        0.0        0.0        0.0\n",
       "25%                          4.0       13.0       13.0       11.0\n",
       "50%                         11.0       25.0       24.0       21.0\n",
       "75%                         27.0       43.0       40.0       35.0\n",
       "max                        160.0      163.0      162.0      149.0"
      ]
     },
     "metadata": {},
     "output_type": "display_data"
    },
    {
     "data": {
      "application/vnd.microsoft.datawrangler.viewer.v0+json": {
       "columns": [
        {
         "name": "Completion_Gap_Categ",
         "rawType": "category",
         "type": "unknown"
        },
        {
         "name": "count",
         "rawType": "int64",
         "type": "integer"
        }
       ],
       "ref": "98b82433-f228-4cc9-bd84-71d00465c47b",
       "rows": [
        [
         "0–11",
         "11208"
        ],
        [
         "12–160",
         "10621"
        ]
       ],
       "shape": {
        "columns": 1,
        "rows": 2
       }
      },
      "text/plain": [
       "Completion_Gap_Categ\n",
       "0–11      11208\n",
       "12–160    10621\n",
       "Name: count, dtype: int64"
      ]
     },
     "metadata": {},
     "output_type": "display_data"
    }
   ],
   "source": [
    "Describe_Completion_Gap = def_describe('Completion_Gap_Counts')\n",
    "display(Describe_Completion_Gap)\n",
    "\n",
    "col = 'Completion_Gap_Counts'\n",
    "col_categ = 'Completion_Gap_Categ'\n",
    "\n",
    "bins, labels = fun_bins(dfis, col, bin2_val = 0.5, use_quantile = True)\n",
    "\n",
    "df1[col_categ] = pd.cut(df1[col], bins = bins[0], labels = labels[0], ordered = True, include_lowest = True, right = True)\n",
    "df2[col_categ] = pd.cut(df2[col], bins = bins[1], labels = labels[1], ordered = True, include_lowest = True, right = True)\n",
    "df3[col_categ] = pd.cut(df3[col], bins = bins[2], labels = labels[2], ordered = True, include_lowest = True, right = True)\n",
    "df4[col_categ] = pd.cut(df4[col], bins = bins[3], labels = labels[3], ordered = True, include_lowest = True, right = True)\n",
    "\n",
    "display(df1['Completion_Gap_Categ'].value_counts())"
   ]
  },
  {
   "cell_type": "markdown",
   "metadata": {},
   "source": [
    "## Start_Date_Year_Categ"
   ]
  },
  {
   "cell_type": "code",
   "execution_count": 318,
   "metadata": {},
   "outputs": [
    {
     "data": {
      "application/vnd.microsoft.datawrangler.viewer.v0+json": {
       "columns": [
        {
         "name": "Start_Date_Year_Counts",
         "rawType": "object",
         "type": "string"
        },
        {
         "name": "df1",
         "rawType": "Float64",
         "type": "float"
        },
        {
         "name": "df2",
         "rawType": "Float64",
         "type": "float"
        },
        {
         "name": "df3",
         "rawType": "Float64",
         "type": "float"
        },
        {
         "name": "df4",
         "rawType": "Float64",
         "type": "float"
        }
       ],
       "ref": "9571ca65-ca83-4592-bb64-4f2441fe3122",
       "rows": [
        [
         "count",
         "21829.0",
         "21228.0",
         "13966.0",
         "13246.0"
        ],
        [
         "mean",
         "2016.8477713133905",
         "2016.2162238552855",
         "2015.9467277674353",
         "2016.058734712366"
        ],
        [
         "std",
         "3.7251106964819676",
         "3.4755303050628767",
         "3.4857016050035563",
         "3.4545018187413614"
        ],
        [
         "min",
         "2011.0",
         "2011.0",
         "2011.0",
         "2011.0"
        ],
        [
         "25%",
         "2014.0",
         "2013.0",
         "2013.0",
         "2013.0"
        ],
        [
         "50%",
         "2017.0",
         "2016.0",
         "2016.0",
         "2016.0"
        ],
        [
         "75%",
         "2020.0",
         "2019.0",
         "2019.0",
         "2019.0"
        ],
        [
         "max",
         "2024.0",
         "2024.0",
         "2024.0",
         "2024.0"
        ]
       ],
       "shape": {
        "columns": 4,
        "rows": 8
       }
      },
      "text/html": [
       "<div>\n",
       "<style scoped>\n",
       "    .dataframe tbody tr th:only-of-type {\n",
       "        vertical-align: middle;\n",
       "    }\n",
       "\n",
       "    .dataframe tbody tr th {\n",
       "        vertical-align: top;\n",
       "    }\n",
       "\n",
       "    .dataframe thead th {\n",
       "        text-align: right;\n",
       "    }\n",
       "</style>\n",
       "<table border=\"1\" class=\"dataframe\">\n",
       "  <thead>\n",
       "    <tr style=\"text-align: right;\">\n",
       "      <th></th>\n",
       "      <th>df1</th>\n",
       "      <th>df2</th>\n",
       "      <th>df3</th>\n",
       "      <th>df4</th>\n",
       "    </tr>\n",
       "    <tr>\n",
       "      <th>Start_Date_Year_Counts</th>\n",
       "      <th></th>\n",
       "      <th></th>\n",
       "      <th></th>\n",
       "      <th></th>\n",
       "    </tr>\n",
       "  </thead>\n",
       "  <tbody>\n",
       "    <tr>\n",
       "      <th>count</th>\n",
       "      <td>21829.0</td>\n",
       "      <td>21228.0</td>\n",
       "      <td>13966.0</td>\n",
       "      <td>13246.0</td>\n",
       "    </tr>\n",
       "    <tr>\n",
       "      <th>mean</th>\n",
       "      <td>2016.847771</td>\n",
       "      <td>2016.216224</td>\n",
       "      <td>2015.946728</td>\n",
       "      <td>2016.058735</td>\n",
       "    </tr>\n",
       "    <tr>\n",
       "      <th>std</th>\n",
       "      <td>3.725111</td>\n",
       "      <td>3.47553</td>\n",
       "      <td>3.485702</td>\n",
       "      <td>3.454502</td>\n",
       "    </tr>\n",
       "    <tr>\n",
       "      <th>min</th>\n",
       "      <td>2011.0</td>\n",
       "      <td>2011.0</td>\n",
       "      <td>2011.0</td>\n",
       "      <td>2011.0</td>\n",
       "    </tr>\n",
       "    <tr>\n",
       "      <th>25%</th>\n",
       "      <td>2014.0</td>\n",
       "      <td>2013.0</td>\n",
       "      <td>2013.0</td>\n",
       "      <td>2013.0</td>\n",
       "    </tr>\n",
       "    <tr>\n",
       "      <th>50%</th>\n",
       "      <td>2017.0</td>\n",
       "      <td>2016.0</td>\n",
       "      <td>2016.0</td>\n",
       "      <td>2016.0</td>\n",
       "    </tr>\n",
       "    <tr>\n",
       "      <th>75%</th>\n",
       "      <td>2020.0</td>\n",
       "      <td>2019.0</td>\n",
       "      <td>2019.0</td>\n",
       "      <td>2019.0</td>\n",
       "    </tr>\n",
       "    <tr>\n",
       "      <th>max</th>\n",
       "      <td>2024.0</td>\n",
       "      <td>2024.0</td>\n",
       "      <td>2024.0</td>\n",
       "      <td>2024.0</td>\n",
       "    </tr>\n",
       "  </tbody>\n",
       "</table>\n",
       "</div>"
      ],
      "text/plain": [
       "                                df1          df2          df3          df4\n",
       "Start_Date_Year_Counts                                                    \n",
       "count                       21829.0      21228.0      13966.0      13246.0\n",
       "mean                    2016.847771  2016.216224  2015.946728  2016.058735\n",
       "std                        3.725111      3.47553     3.485702     3.454502\n",
       "min                          2011.0       2011.0       2011.0       2011.0\n",
       "25%                          2014.0       2013.0       2013.0       2013.0\n",
       "50%                          2017.0       2016.0       2016.0       2016.0\n",
       "75%                          2020.0       2019.0       2019.0       2019.0\n",
       "max                          2024.0       2024.0       2024.0       2024.0"
      ]
     },
     "metadata": {},
     "output_type": "display_data"
    },
    {
     "data": {
      "application/vnd.microsoft.datawrangler.viewer.v0+json": {
       "columns": [
        {
         "name": "Start_Date_Year_Categ",
         "rawType": "category",
         "type": "unknown"
        },
        {
         "name": "count",
         "rawType": "int64",
         "type": "integer"
        }
       ],
       "ref": "9500c7c2-32e1-4a68-9167-b417fea39cd1",
       "rows": [
        [
         "2011-2018",
         "13900"
        ],
        [
         "2019-2024",
         "7929"
        ]
       ],
       "shape": {
        "columns": 1,
        "rows": 2
       }
      },
      "text/plain": [
       "Start_Date_Year_Categ\n",
       "2011-2018    13900\n",
       "2019-2024     7929\n",
       "Name: count, dtype: int64"
      ]
     },
     "metadata": {},
     "output_type": "display_data"
    }
   ],
   "source": [
    "Describe_Start_Date_Year = def_describe('Start_Date_Year_Counts')\n",
    "display(Describe_Start_Date_Year)\n",
    "\n",
    "col = 'Start_Date_Year_Counts'\n",
    "col_categ = 'Start_Date_Year_Categ'\n",
    "\n",
    "bins = [2011, 2018, 2024] # Covid oriented dates\n",
    "labels = ['2011-2018', '2019-2024']\n",
    "\n",
    "df1[col_categ] = pd.cut(df1[col], bins = bins, labels = labels, ordered = True, include_lowest = True, right = True)\n",
    "df2[col_categ] = pd.cut(df2[col], bins = bins, labels = labels, ordered = True, include_lowest = True, right = True)\n",
    "df3[col_categ] = pd.cut(df3[col], bins = bins, labels = labels, ordered = True, include_lowest = True, right = True)\n",
    "df4[col_categ] = pd.cut(df4[col], bins = bins, labels = labels, ordered = True, include_lowest = True, right = True)\n",
    "\n",
    "display(df1['Start_Date_Year_Categ'].value_counts(dropna = False))"
   ]
  },
  {
   "cell_type": "markdown",
   "metadata": {},
   "source": [
    "## Completion_Date_Year_Categ"
   ]
  },
  {
   "cell_type": "code",
   "execution_count": 319,
   "metadata": {},
   "outputs": [
    {
     "data": {
      "application/vnd.microsoft.datawrangler.viewer.v0+json": {
       "columns": [
        {
         "name": "Completion_Date_Year_Counts",
         "rawType": "object",
         "type": "string"
        },
        {
         "name": "df1",
         "rawType": "Float64",
         "type": "float"
        },
        {
         "name": "df2",
         "rawType": "Float64",
         "type": "float"
        },
        {
         "name": "df3",
         "rawType": "Float64",
         "type": "float"
        },
        {
         "name": "df4",
         "rawType": "Float64",
         "type": "float"
        }
       ],
       "ref": "1692c4c3-5611-40b9-a888-8bdbe23d9c84",
       "rows": [
        [
         "count",
         "21829.0",
         "21228.0",
         "13966.0",
         "13246.0"
        ],
        [
         "mean",
         "2018.4204956708966",
         "2018.8018654607122",
         "2018.4169411427754",
         "2018.1399667824248"
        ],
        [
         "std",
         "3.7647472545981433",
         "3.5112606216489395",
         "3.594533301353282",
         "3.469508029016711"
        ],
        [
         "min",
         "2011.0",
         "2011.0",
         "2011.0",
         "2011.0"
        ],
        [
         "25%",
         "2015.0",
         "2016.0",
         "2015.0",
         "2015.0"
        ],
        [
         "50%",
         "2019.0",
         "2019.0",
         "2018.0",
         "2018.0"
        ],
        [
         "75%",
         "2022.0",
         "2022.0",
         "2022.0",
         "2021.0"
        ],
        [
         "max",
         "2024.0",
         "2024.0",
         "2024.0",
         "2024.0"
        ]
       ],
       "shape": {
        "columns": 4,
        "rows": 8
       }
      },
      "text/html": [
       "<div>\n",
       "<style scoped>\n",
       "    .dataframe tbody tr th:only-of-type {\n",
       "        vertical-align: middle;\n",
       "    }\n",
       "\n",
       "    .dataframe tbody tr th {\n",
       "        vertical-align: top;\n",
       "    }\n",
       "\n",
       "    .dataframe thead th {\n",
       "        text-align: right;\n",
       "    }\n",
       "</style>\n",
       "<table border=\"1\" class=\"dataframe\">\n",
       "  <thead>\n",
       "    <tr style=\"text-align: right;\">\n",
       "      <th></th>\n",
       "      <th>df1</th>\n",
       "      <th>df2</th>\n",
       "      <th>df3</th>\n",
       "      <th>df4</th>\n",
       "    </tr>\n",
       "    <tr>\n",
       "      <th>Completion_Date_Year_Counts</th>\n",
       "      <th></th>\n",
       "      <th></th>\n",
       "      <th></th>\n",
       "      <th></th>\n",
       "    </tr>\n",
       "  </thead>\n",
       "  <tbody>\n",
       "    <tr>\n",
       "      <th>count</th>\n",
       "      <td>21829.0</td>\n",
       "      <td>21228.0</td>\n",
       "      <td>13966.0</td>\n",
       "      <td>13246.0</td>\n",
       "    </tr>\n",
       "    <tr>\n",
       "      <th>mean</th>\n",
       "      <td>2018.420496</td>\n",
       "      <td>2018.801865</td>\n",
       "      <td>2018.416941</td>\n",
       "      <td>2018.139967</td>\n",
       "    </tr>\n",
       "    <tr>\n",
       "      <th>std</th>\n",
       "      <td>3.764747</td>\n",
       "      <td>3.511261</td>\n",
       "      <td>3.594533</td>\n",
       "      <td>3.469508</td>\n",
       "    </tr>\n",
       "    <tr>\n",
       "      <th>min</th>\n",
       "      <td>2011.0</td>\n",
       "      <td>2011.0</td>\n",
       "      <td>2011.0</td>\n",
       "      <td>2011.0</td>\n",
       "    </tr>\n",
       "    <tr>\n",
       "      <th>25%</th>\n",
       "      <td>2015.0</td>\n",
       "      <td>2016.0</td>\n",
       "      <td>2015.0</td>\n",
       "      <td>2015.0</td>\n",
       "    </tr>\n",
       "    <tr>\n",
       "      <th>50%</th>\n",
       "      <td>2019.0</td>\n",
       "      <td>2019.0</td>\n",
       "      <td>2018.0</td>\n",
       "      <td>2018.0</td>\n",
       "    </tr>\n",
       "    <tr>\n",
       "      <th>75%</th>\n",
       "      <td>2022.0</td>\n",
       "      <td>2022.0</td>\n",
       "      <td>2022.0</td>\n",
       "      <td>2021.0</td>\n",
       "    </tr>\n",
       "    <tr>\n",
       "      <th>max</th>\n",
       "      <td>2024.0</td>\n",
       "      <td>2024.0</td>\n",
       "      <td>2024.0</td>\n",
       "      <td>2024.0</td>\n",
       "    </tr>\n",
       "  </tbody>\n",
       "</table>\n",
       "</div>"
      ],
      "text/plain": [
       "                                     df1          df2          df3  \\\n",
       "Completion_Date_Year_Counts                                          \n",
       "count                            21829.0      21228.0      13966.0   \n",
       "mean                         2018.420496  2018.801865  2018.416941   \n",
       "std                             3.764747     3.511261     3.594533   \n",
       "min                               2011.0       2011.0       2011.0   \n",
       "25%                               2015.0       2016.0       2015.0   \n",
       "50%                               2019.0       2019.0       2018.0   \n",
       "75%                               2022.0       2022.0       2022.0   \n",
       "max                               2024.0       2024.0       2024.0   \n",
       "\n",
       "                                     df4  \n",
       "Completion_Date_Year_Counts               \n",
       "count                            13246.0  \n",
       "mean                         2018.139967  \n",
       "std                             3.469508  \n",
       "min                               2011.0  \n",
       "25%                               2015.0  \n",
       "50%                               2018.0  \n",
       "75%                               2021.0  \n",
       "max                               2024.0  "
      ]
     },
     "metadata": {},
     "output_type": "display_data"
    },
    {
     "data": {
      "application/vnd.microsoft.datawrangler.viewer.v0+json": {
       "columns": [
        {
         "name": "Completion_Date_Year_Categ",
         "rawType": "category",
         "type": "unknown"
        },
        {
         "name": "count",
         "rawType": "int64",
         "type": "integer"
        }
       ],
       "ref": "61dc0fa2-7cf9-4947-aba3-14933dad9c85",
       "rows": [
        [
         "2019-2024",
         "11259"
        ],
        [
         "2011-2018",
         "10570"
        ]
       ],
       "shape": {
        "columns": 1,
        "rows": 2
       }
      },
      "text/plain": [
       "Completion_Date_Year_Categ\n",
       "2019-2024    11259\n",
       "2011-2018    10570\n",
       "Name: count, dtype: int64"
      ]
     },
     "metadata": {},
     "output_type": "display_data"
    }
   ],
   "source": [
    "Describe_Completion_Date_Year = def_describe('Completion_Date_Year_Counts')\n",
    "display(Describe_Completion_Date_Year)\n",
    "\n",
    "col = 'Completion_Date_Year_Counts'\n",
    "col_categ = 'Completion_Date_Year_Categ'\n",
    "\n",
    "bins = [2011, 2018, 2024] # Covid oriented dates\n",
    "labels = ['2011-2018', '2019-2024']\n",
    "\n",
    "df1[col_categ] = pd.cut(df1[col], bins = bins, labels = labels, ordered = True, include_lowest = True, right = True)\n",
    "df2[col_categ] = pd.cut(df2[col], bins = bins, labels = labels, ordered = True, include_lowest = True, right = True)\n",
    "df3[col_categ] = pd.cut(df3[col], bins = bins, labels = labels, ordered = True, include_lowest = True, right = True)\n",
    "df4[col_categ] = pd.cut(df4[col], bins = bins, labels = labels, ordered = True, include_lowest = True, right = True)\n",
    "\n",
    "display(df1['Completion_Date_Year_Categ'].value_counts(dropna = False))\n"
   ]
  },
  {
   "cell_type": "markdown",
   "metadata": {},
   "source": [
    "## Describe\n",
    "- Choose a good form for the features, as they are almost all skewed.\n",
    "- For the features having the most of distribution i.e., median is around lower values, e.g., 0,1,2, a categorical format is going to be used. \n",
    "- In contrast, values with wider range of values, and median in higher values, performing a more wide distribution, will be analysed as logarithm. Logarythm scale is chosen in order to correct the skeweness. "
   ]
  },
  {
   "cell_type": "code",
   "execution_count": 320,
   "metadata": {},
   "outputs": [],
   "source": [
    "Describe_Enrollment = Describe_Enrollment.loc['50%'].rename('Enrollment')\n",
    "Describe_Adverse = Describe_Adverse.loc['50%'].rename('Adverse')\n",
    "Describe_Adverse_System = Describe_Adverse_System.loc['50%'].rename('Adverse_System')\n",
    "Describe_Arm = Describe_Arm.loc['50%'].rename('Arm')\n",
    "Describe_Intervention_Type = Describe_Intervention_Type.loc['50%'].rename('Intervention_Type')\n",
    "Describe_Intervention_Route = Describe_Intervention_Route.loc['50%'].rename('Intervention_Route')\n",
    "Describe_City = Describe_City.loc['50%'].rename('City')\n",
    "Describe_Country = Describe_Country.loc['50%'].rename('Country')\n",
    "Describe_Continent = Describe_Continent.loc['50%'].rename('Continent')\n",
    "Describe_Completion_Gap = Describe_Completion_Gap.loc['50%'].rename('Completion_Gap') # year dates not used, as they wont be used fo analysis"
   ]
  },
  {
   "cell_type": "code",
   "execution_count": 321,
   "metadata": {},
   "outputs": [
    {
     "data": {
      "application/vnd.microsoft.datawrangler.viewer.v0+json": {
       "columns": [
        {
         "name": "index",
         "rawType": "object",
         "type": "string"
        },
        {
         "name": "Enrollment",
         "rawType": "Float64",
         "type": "float"
        },
        {
         "name": "Adverse",
         "rawType": "Float64",
         "type": "float"
        },
        {
         "name": "Adverse_System",
         "rawType": "Float64",
         "type": "float"
        },
        {
         "name": "Arm",
         "rawType": "Float64",
         "type": "float"
        },
        {
         "name": "Intervention_Type",
         "rawType": "Float64",
         "type": "float"
        },
        {
         "name": "Intervention_Route",
         "rawType": "Float64",
         "type": "float"
        },
        {
         "name": "City",
         "rawType": "Float64",
         "type": "float"
        },
        {
         "name": "Country",
         "rawType": "Float64",
         "type": "float"
        },
        {
         "name": "Continent",
         "rawType": "Float64",
         "type": "float"
        },
        {
         "name": "Completion_Gap",
         "rawType": "Float64",
         "type": "float"
        }
       ],
       "ref": "1bfa29ca-5c5f-4a68-b0fa-debd233cad4d",
       "rows": [
        [
         "df1",
         "28.0",
         "0.0",
         "0.0",
         "2.0",
         "1.0",
         "1.0",
         "1.0",
         "1.0",
         "1.0",
         "11.0"
        ],
        [
         "df2",
         "44.0",
         "0.0",
         "0.0",
         "2.0",
         "1.0",
         "1.0",
         "1.0",
         "1.0",
         "1.0",
         "25.0"
        ],
        [
         "df3",
         "189.5",
         "0.0",
         "0.0",
         "2.0",
         "1.0",
         "1.0",
         "5.0",
         "1.0",
         "1.0",
         "24.0"
        ],
        [
         "df4",
         "60.5",
         "0.0",
         "0.0",
         "2.0",
         "1.0",
         "1.0",
         "1.0",
         "1.0",
         "1.0",
         "21.0"
        ],
        [
         "Mean",
         "80.5",
         "0.0",
         "0.0",
         "2.0",
         "1.0",
         "1.0",
         "2.0",
         "1.0",
         "1.0",
         "20.25"
        ],
        [
         "Median",
         "52.25",
         "0.0",
         "0.0",
         "2.0",
         "1.0",
         "1.0",
         "1.0",
         "1.0",
         "1.0",
         "22.5"
        ]
       ],
       "shape": {
        "columns": 10,
        "rows": 6
       }
      },
      "text/html": [
       "<div>\n",
       "<style scoped>\n",
       "    .dataframe tbody tr th:only-of-type {\n",
       "        vertical-align: middle;\n",
       "    }\n",
       "\n",
       "    .dataframe tbody tr th {\n",
       "        vertical-align: top;\n",
       "    }\n",
       "\n",
       "    .dataframe thead th {\n",
       "        text-align: right;\n",
       "    }\n",
       "</style>\n",
       "<table border=\"1\" class=\"dataframe\">\n",
       "  <thead>\n",
       "    <tr style=\"text-align: right;\">\n",
       "      <th></th>\n",
       "      <th>Enrollment</th>\n",
       "      <th>Adverse</th>\n",
       "      <th>Adverse_System</th>\n",
       "      <th>Arm</th>\n",
       "      <th>Intervention_Type</th>\n",
       "      <th>Intervention_Route</th>\n",
       "      <th>City</th>\n",
       "      <th>Country</th>\n",
       "      <th>Continent</th>\n",
       "      <th>Completion_Gap</th>\n",
       "    </tr>\n",
       "  </thead>\n",
       "  <tbody>\n",
       "    <tr>\n",
       "      <th>df1</th>\n",
       "      <td>28.0</td>\n",
       "      <td>0.0</td>\n",
       "      <td>0.0</td>\n",
       "      <td>2.0</td>\n",
       "      <td>1.0</td>\n",
       "      <td>1.0</td>\n",
       "      <td>1.0</td>\n",
       "      <td>1.0</td>\n",
       "      <td>1.0</td>\n",
       "      <td>11.0</td>\n",
       "    </tr>\n",
       "    <tr>\n",
       "      <th>df2</th>\n",
       "      <td>44.0</td>\n",
       "      <td>0.0</td>\n",
       "      <td>0.0</td>\n",
       "      <td>2.0</td>\n",
       "      <td>1.0</td>\n",
       "      <td>1.0</td>\n",
       "      <td>1.0</td>\n",
       "      <td>1.0</td>\n",
       "      <td>1.0</td>\n",
       "      <td>25.0</td>\n",
       "    </tr>\n",
       "    <tr>\n",
       "      <th>df3</th>\n",
       "      <td>189.5</td>\n",
       "      <td>0.0</td>\n",
       "      <td>0.0</td>\n",
       "      <td>2.0</td>\n",
       "      <td>1.0</td>\n",
       "      <td>1.0</td>\n",
       "      <td>5.0</td>\n",
       "      <td>1.0</td>\n",
       "      <td>1.0</td>\n",
       "      <td>24.0</td>\n",
       "    </tr>\n",
       "    <tr>\n",
       "      <th>df4</th>\n",
       "      <td>60.5</td>\n",
       "      <td>0.0</td>\n",
       "      <td>0.0</td>\n",
       "      <td>2.0</td>\n",
       "      <td>1.0</td>\n",
       "      <td>1.0</td>\n",
       "      <td>1.0</td>\n",
       "      <td>1.0</td>\n",
       "      <td>1.0</td>\n",
       "      <td>21.0</td>\n",
       "    </tr>\n",
       "    <tr>\n",
       "      <th>Mean</th>\n",
       "      <td>80.5</td>\n",
       "      <td>0.0</td>\n",
       "      <td>0.0</td>\n",
       "      <td>2.0</td>\n",
       "      <td>1.0</td>\n",
       "      <td>1.0</td>\n",
       "      <td>2.0</td>\n",
       "      <td>1.0</td>\n",
       "      <td>1.0</td>\n",
       "      <td>20.25</td>\n",
       "    </tr>\n",
       "    <tr>\n",
       "      <th>Median</th>\n",
       "      <td>52.25</td>\n",
       "      <td>0.0</td>\n",
       "      <td>0.0</td>\n",
       "      <td>2.0</td>\n",
       "      <td>1.0</td>\n",
       "      <td>1.0</td>\n",
       "      <td>1.0</td>\n",
       "      <td>1.0</td>\n",
       "      <td>1.0</td>\n",
       "      <td>22.5</td>\n",
       "    </tr>\n",
       "  </tbody>\n",
       "</table>\n",
       "</div>"
      ],
      "text/plain": [
       "        Enrollment  Adverse  Adverse_System  Arm  Intervention_Type  \\\n",
       "df1           28.0      0.0             0.0  2.0                1.0   \n",
       "df2           44.0      0.0             0.0  2.0                1.0   \n",
       "df3          189.5      0.0             0.0  2.0                1.0   \n",
       "df4           60.5      0.0             0.0  2.0                1.0   \n",
       "Mean          80.5      0.0             0.0  2.0                1.0   \n",
       "Median       52.25      0.0             0.0  2.0                1.0   \n",
       "\n",
       "        Intervention_Route  City  Country  Continent  Completion_Gap  \n",
       "df1                    1.0   1.0      1.0        1.0            11.0  \n",
       "df2                    1.0   1.0      1.0        1.0            25.0  \n",
       "df3                    1.0   5.0      1.0        1.0            24.0  \n",
       "df4                    1.0   1.0      1.0        1.0            21.0  \n",
       "Mean                   1.0   2.0      1.0        1.0           20.25  \n",
       "Median                 1.0   1.0      1.0        1.0            22.5  "
      ]
     },
     "execution_count": 321,
     "metadata": {},
     "output_type": "execute_result"
    }
   ],
   "source": [
    "\n",
    "medians = pd.concat([\n",
    "    Describe_Enrollment,\n",
    "    Describe_Adverse,\n",
    "    Describe_Adverse_System,\n",
    "    Describe_Arm,\n",
    "    Describe_Intervention_Type,\n",
    "    Describe_Intervention_Route,\n",
    "    Describe_City,\n",
    "    Describe_Country,\n",
    "    Describe_Continent,\n",
    "    Describe_Completion_Gap,\n",
    "], axis=1)\n",
    "\n",
    "medians = pd.DataFrame(medians)\n",
    "mean_row = medians.mean(axis=0)\n",
    "median_row = medians.median(axis=0)\n",
    "\n",
    "mean_row.name = \"Mean\"\n",
    "median_row.name = 'Median'\n",
    "medians = pd.concat([medians, mean_row.to_frame().T])\n",
    "medians = pd.concat([medians, median_row.to_frame().T])\n",
    "\n",
    "medians"
   ]
  },
  {
   "cell_type": "markdown",
   "metadata": {},
   "source": [
    "# Save dfis"
   ]
  },
  {
   "cell_type": "code",
   "execution_count": 322,
   "metadata": {},
   "outputs": [],
   "source": [
    "df.to_pickle(r\".\\df_data\\df.pkl\")  # pickle better to save dtypes e.g category, period etc. --> csv does not save dtypes\n",
    "df1.to_pickle(r\".\\df_data\\df1.pkl\")\n",
    "df2.to_pickle(r\".\\df_data\\df2.pkl\")\n",
    "df3.to_pickle(r\".\\df_data\\df3.pkl\")\n",
    "df4.to_pickle(r\".\\df_data\\df4.pkl\")\n",
    "medians.to_pickle(r\".\\df_data\\medians.pkl\")"
   ]
  },
  {
   "cell_type": "markdown",
   "metadata": {},
   "source": [
    "# Unused Columns"
   ]
  },
  {
   "cell_type": "markdown",
   "metadata": {},
   "source": [
    "* Study Results: \n",
    "Was not used for analysis, as they are a result of a Study, not a pre-Designed Study characteristic."
   ]
  },
  {
   "cell_type": "markdown",
   "metadata": {},
   "source": [
    "* Primary Outcome Measures/Secondary Outcome Measures/Other Outcome Measures\n",
    "- Was not used for analysis, as they are a result of a Study, not a pre-Designed Study characteristic.\n",
    "- Primary Outcomes are usually pre-designed, as they are the main purpose of the trial. However, it is also associated with the condition/given drug for the condition field of thw trial. Thus, this study is not instrested in how investigators, express the condition/drug field and main outcome of this condition/drug field. "
   ]
  },
  {
   "cell_type": "markdown",
   "metadata": {},
   "source": [
    "\n",
    "* Study_Documents\n",
    "ClinicalTrials.gov Documentation: https://clinicaltrials.gov/policy/protocol-definitions#a1-upload\n",
    "Refers to the type of documents that the study sponsor or principal investigator may add to their study record. These include a study protocol, statistical analysis plan, and informed consent form.\n",
    "\n",
    "- Was not be used for analysis because:\n",
    "- Thousands of missing values. Almost 2/3 of total rows. \n",
    "- Seems data where just not uploaded to clinical trials.gov/db.\n",
    "- As least Protocol is a nessecary predesigned document. Field seems optional to fill in registry.\n",
    "- Study documents, especially protocol, are nessecary for a trial's design. The filling of this field was only made mandatory  after 2017 in Clinical Trials Registry. So most of the trials have missing values in this field. \n",
    "\n",
    "Documents: \n",
    "- ICF (Informed Consent Form)\n",
    "- SAP (Statistical Analysis Plan)\n",
    "- CSR (Clinical Study Report)  --> did not use because its table has less information for documents\n",
    "- STUDY_PROTOCOL\n",
    "- ANALYTIC_CODE --> did not use because its table has less information for documents"
   ]
  },
  {
   "cell_type": "code",
   "execution_count": 323,
   "metadata": {},
   "outputs": [
    {
     "data": {
      "text/plain": [
       "Index(['Study_Status_Bin', 'Sex_List', 'Age_List', 'Phases_List',\n",
       "       'Enrollment_Counts', 'Funder_Industry_Bin', 'Start_Date_Year_Counts',\n",
       "       'Completion_Date_Year_Counts', 'Completion_Gap_Counts',\n",
       "       'Completion_Gap_Log', 'Intervention_Type_List',\n",
       "       'Intervention_Type_Counts', 'Intervention_Route_List',\n",
       "       'Intervention_Route_Counts', 'Placebo_Bin', 'Standard_Care_Bin',\n",
       "       'Healthy_Bin', 'Covid_19_Bin', 'Conditions_Detail_List', 'Adverse_List',\n",
       "       'Adverse_Counts', 'Adverse_Counts_Log', 'Adverse_Bin',\n",
       "       'Adverse_System_List', 'Adverse_System_Counts',\n",
       "       'Adverse_System_Counts_Log', 'Allocation_List',\n",
       "       'Intervention_Model_List', 'Masking_List', 'Masking_Detail_List',\n",
       "       'Primary_Purpose_List', 'Arm_Counts', 'Arm_Counts_Log',\n",
       "       'Country_Counts', 'Country_Counts_Log', 'Continents_List',\n",
       "       'Continent_Counts', 'Continent_Counts_Log', 'City_Counts',\n",
       "       'City_Counts_Log', 'Enrollment_Counts_Log'],\n",
       "      dtype='object')"
      ]
     },
     "execution_count": 323,
     "metadata": {},
     "output_type": "execute_result"
    }
   ],
   "source": [
    "df.columns"
   ]
  }
 ],
 "metadata": {
  "kernelspec": {
   "display_name": "Python 3",
   "language": "python",
   "name": "python3"
  },
  "language_info": {
   "codemirror_mode": {
    "name": "ipython",
    "version": 3
   },
   "file_extension": ".py",
   "mimetype": "text/x-python",
   "name": "python",
   "nbconvert_exporter": "python",
   "pygments_lexer": "ipython3",
   "version": "3.12.10"
  }
 },
 "nbformat": 4,
 "nbformat_minor": 2
}
