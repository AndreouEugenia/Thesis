{
 "cells": [
  {
   "cell_type": "markdown",
   "metadata": {},
   "source": [
    "# Libraries"
   ]
  },
  {
   "cell_type": "code",
   "execution_count": 1,
   "metadata": {},
   "outputs": [],
   "source": [
    "import pandas as pd\n",
    "import numpy as np\n",
    "import re\n",
    "import geonamescache \n",
    "from collections import Counter\n",
    "from sklearn.preprocessing import MultiLabelBinarizer\n",
    "import pickle\n",
    "\n",
    "import matplotlib.pyplot as plt\n",
    "import seaborn as sns\n"
   ]
  },
  {
   "cell_type": "markdown",
   "metadata": {},
   "source": [
    "# Load Data"
   ]
  },
  {
   "cell_type": "markdown",
   "metadata": {},
   "source": [
    "## Load SQL"
   ]
  },
  {
   "cell_type": "code",
   "execution_count": 2,
   "metadata": {},
   "outputs": [],
   "source": [
    "my_studies = pd.read_pickle(r\".\\df_sql\\my_studies.pkl\")\n",
    "my_conditions = pd.read_pickle(r\".\\df_sql\\my_conditions.pkl\")  \n",
    "my_covid = pd.read_pickle(r\".\\df_sql\\my_covid.pkl\")  \n",
    "my_placebo = pd.read_pickle(r\".\\df_sql\\my_placebo.pkl\")  \n",
    "my_interventions = pd.read_pickle(r\".\\df_sql\\my_interventions.pkl\")  \n",
    "my_interventions_types = pd.read_pickle(r\".\\df_sql\\my_interventions_types.pkl\")  \n",
    "my_soc = pd.read_pickle(r\".\\df_sql\\my_soc.pkl\")  \n",
    "my_intervention_methods2 = pd.read_pickle(r\".\\df_sql\\my_intervention_methods2.pkl\")  \n",
    "my_intervention_methods = pd.read_pickle(r\".\\df_sql\\my_intervention_methods.pkl\")  \n",
    "my_adverse = pd.read_pickle(r\".\\df_sql\\my_adverse.pkl\")  \n",
    "my_adverse_system = pd.read_pickle(r\".\\df_sql\\my_adverse_system.pkl\")  \n",
    "my_designs = pd.read_pickle(r\".\\df_sql\\my_designs.pkl\")  \n",
    "my_eligibilities = pd.read_pickle(r\".\\df_sql\\my_eligibilities.pkl\")  \n",
    "my_locations = pd.read_pickle(r\".\\df_sql\\my_locations.pkl\")  \n"
   ]
  },
  {
   "cell_type": "markdown",
   "metadata": {},
   "source": [
    "## Load Data"
   ]
  },
  {
   "cell_type": "code",
   "execution_count": 3,
   "metadata": {},
   "outputs": [
    {
     "data": {
      "text/plain": [
       "(79217, 31)"
      ]
     },
     "metadata": {},
     "output_type": "display_data"
    },
    {
     "data": {
      "application/vnd.microsoft.datawrangler.viewer.v0+json": {
       "columns": [
        {
         "name": "index",
         "rawType": "int64",
         "type": "integer"
        },
        {
         "name": "nct_id",
         "rawType": "object",
         "type": "string"
        },
        {
         "name": "Study Title",
         "rawType": "object",
         "type": "string"
        },
        {
         "name": "Study URL",
         "rawType": "object",
         "type": "string"
        },
        {
         "name": "Acronym",
         "rawType": "object",
         "type": "unknown"
        },
        {
         "name": "Study Status",
         "rawType": "object",
         "type": "string"
        },
        {
         "name": "Brief Summary",
         "rawType": "object",
         "type": "string"
        },
        {
         "name": "Study Results",
         "rawType": "object",
         "type": "string"
        },
        {
         "name": "Conditions",
         "rawType": "object",
         "type": "string"
        },
        {
         "name": "Interventions",
         "rawType": "object",
         "type": "string"
        },
        {
         "name": "Primary Outcome Measures",
         "rawType": "object",
         "type": "string"
        },
        {
         "name": "Secondary Outcome Measures",
         "rawType": "object",
         "type": "unknown"
        },
        {
         "name": "Other Outcome Measures",
         "rawType": "object",
         "type": "unknown"
        },
        {
         "name": "Sponsor",
         "rawType": "object",
         "type": "string"
        },
        {
         "name": "Collaborators",
         "rawType": "object",
         "type": "unknown"
        },
        {
         "name": "Sex",
         "rawType": "object",
         "type": "string"
        },
        {
         "name": "Age",
         "rawType": "object",
         "type": "string"
        },
        {
         "name": "Phases",
         "rawType": "object",
         "type": "string"
        },
        {
         "name": "Enrollment",
         "rawType": "float64",
         "type": "float"
        },
        {
         "name": "Funder Type",
         "rawType": "object",
         "type": "string"
        },
        {
         "name": "Study Type",
         "rawType": "object",
         "type": "string"
        },
        {
         "name": "Study Design",
         "rawType": "object",
         "type": "string"
        },
        {
         "name": "Other IDs",
         "rawType": "object",
         "type": "string"
        },
        {
         "name": "Start Date",
         "rawType": "object",
         "type": "string"
        },
        {
         "name": "Primary Completion Date",
         "rawType": "object",
         "type": "string"
        },
        {
         "name": "Completion Date",
         "rawType": "object",
         "type": "string"
        },
        {
         "name": "First Posted",
         "rawType": "object",
         "type": "string"
        },
        {
         "name": "Results First Posted",
         "rawType": "object",
         "type": "unknown"
        },
        {
         "name": "Last Update Posted",
         "rawType": "object",
         "type": "string"
        },
        {
         "name": "Locations",
         "rawType": "object",
         "type": "unknown"
        },
        {
         "name": "Study Documents",
         "rawType": "object",
         "type": "unknown"
        },
        {
         "name": "official_title",
         "rawType": "object",
         "type": "string"
        }
       ],
       "ref": "b7fc98ea-367c-4c8c-9cdb-3a1958fce761",
       "rows": [
        [
         "0",
         "NCT02064621",
         "CKD-330 Drug-Drug Interaction Study (Candesartan)",
         "https://clinicaltrials.gov/study/NCT02064621",
         "CKD-330(C)",
         "COMPLETED",
         "The purpose of this study is to evaluate a pharmacokinetic drug interaction and safety of Candesartan between free combination of Candesartan and Amlodipine and Candesartan monotherapy.",
         "NO",
         "Hypertension",
         "DRUG: Candesartan 32mg|DRUG: Candesartan 32mg/Amlodipine 10mg",
         "AUCτ,ss of Candesartan, 1D 0h, 8D 0h, 9D 0h, 1h, 2h, 2.5h, 3h, 3.5h, 4h, 5h, 6h, 8h, 10h, 12h, 10D 0h, 11D 0h|Cmax,ss of Candesartan, 1D 0h, 8D 0h, 9D 0h, 1h, 2h, 2.5h, 3h, 3.5h, 4h, 5h, 6h, 8h, 10h, 12h, 10D 0h, 11D 0h",
         "Tmax,ss of Candesartan, 1D 0h, 8D 0h, 9D 0h, 1h, 2h, 2.5h, 3h, 3.5h, 4h, 5h, 6h, 8h, 10h, 12h, 10D 0h, 11D 0h",
         null,
         "Chong Kun Dang Pharmaceutical",
         null,
         "MALE",
         "ADULT",
         "PHASE1",
         "24.0",
         "INDUSTRY",
         "INTERVENTIONAL",
         "Allocation: RANDOMIZED|Intervention Model: CROSSOVER|Masking: NONE|Primary Purpose: TREATMENT",
         "144HPS13013",
         "2014-06",
         "2014-08",
         "2014-08",
         "2014-02-17",
         null,
         "2014-09-03",
         "Asan Medical Center, Seoul, Songpa-gu, South Korea",
         null,
         "A Randomized, Open-label, Multiple Doses, Crossover Study to Evaluate a Pharmacokinetic Drug Interaction and Safety of Candesartan Between Free Combination of Candesartan and Amlodipine and Candesartan Monotherapy in Healthy Male Volunteers"
        ],
        [
         "1",
         "NCT01756521",
         "A Study Study to Investigate the Effect on QT/QTc Interval of Moxifloxacin After a Single Dose in Healthy Male Subjects",
         "https://clinicaltrials.gov/study/NCT01756521",
         null,
         "COMPLETED",
         "The purpose of this study is to evaluate effect of moxifloxacin on QT/QTc interval in healthy male subjects. Moxifloxacin is a positive control drug used in QT study. In this study, moxifloxacin 400mg and 800mg will be used, to get information on effect of moxifloxacin on QT/QTc interval.",
         "NO",
         "the Effect of Moxifloxacin on QT/QTc Interval",
         "DRUG: Moxifloxacin",
         "QTc (QTcF, QTcB, QTcI), QTc (QTcF, QTcB, QTcI)\n\n* QTcF (Fridericia-corrected QTc)\n* QTcB (Bazett-corrected QTc)\n* QTcI (Individual-corrected QTc)\n\nQTc change: the largest time-matched, baseline-adjusted least squares mean difference time-matched, baseline-adjusted least squares mean difference, Day1 and Day2 of each periods(3 periods)",
         null,
         null,
         "Seoul National University Hospital",
         "Korea National Enterprise for Clinical Trials|The Catholic University of Korea|Seoul National University Bundang Hospital",
         "MALE",
         "ADULT",
         "PHASE1",
         "39.0",
         "OTHER",
         "INTERVENTIONAL",
         "Allocation: RANDOMIZED|Intervention Model: CROSSOVER|Masking: NONE|Primary Purpose: DIAGNOSTIC",
         "MOXI036",
         "2013-01",
         "2013-08",
         "2013-10",
         "2012-12-27",
         null,
         "2016-04-26",
         "Seoul National University Hospital, Seoul, South Korea",
         null,
         "A Multi-center, Randomized, Open-label, Placebo-controlled, 3-way Crossover Study to Investigate the Effect on QT/QTc Interval of Moxifloxacin After a Single Dose in Healthy Male Subjects"
        ],
        [
         "2",
         "NCT03318614",
         "Bifidobacterium Infantis M-63 Improves Mental Health in Irritable Bowel Syndrome Developed After a Major Flood Disaster",
         "https://clinicaltrials.gov/study/NCT03318614",
         null,
         "COMPLETED",
         "A 3-month study was conducted in flood victims from affected villages in the Tumpat district, Kelantan. Participants were given either probiotic, Bifidobacterium infantis M63 (M-63 group) or no probiotics (control group) for three months. At baseline and 3-month, participants were assessed for thewater, sanitation and hygiene (WaSH) practices, abdominal symptoms, breath testing for hydrogen and methane to detect the presence of SIBO and also fecal samples for gut microbiota profiling.",
         "NO",
         "Irritable Bowel Syndrome|Abdominal Pain|Small Intestinal Bacterial Overgrowth",
         "DIETARY_SUPPLEMENT: Probiotics M-63|OTHER: Control group",
         "IBS Symptom Severity Scale (IBS-SSS) scores, IBS-SSS contains five questions that determine severity of abdominal pain, severity of abdominal distension, dissatisfaction with bowel habits and interference with quality of life (QOL) on a 100-point visual analogue scale. Since each question contributes to the score equally, therefore 500 is the maximum score, and higher the score, the severity is worse. For those participants with scores below 175, they have mild IBS, and in general, if scores are below 75, they are considered in remission. No units of measure are used., Three months",
         "36-Item Short Form Survey (SF-36) scores, SF-36 measures four physical components (i.e. physical functioning, role limitations in physical health, bodily pain and general health perception) and four mental components (i.e. social functioning, role limitations due to emotional problems, vitality or energy and mental well-being). Total physical component and total mental component were calculated as the sum of all items in the physical and mental components, respectively. Participants with a higher score in each domain of SF-36 have a better quality of life (QOL) in that domain. No units of measure are used., Three months|Hospital Anxiety and Depression Scale (HADS) scores, The Malay-translated version of 14-item HADS contains four-point Likert responses Participants with higher scores had worse anxiety and depression. No units of measure are used., Three months|Breath-testing for small intestinal bacterial overgrowth (SIBO), Participants were asked to exhale end-expiratory breath samples into a collection bag at baseline. Then they were asked to drink 75 g of glucose in cold water. At intervals of 15 mins for the next 2 hours, breath samples were collected and symptoms recorded. Forty mL of exhaled breath were syringed into the machine (Quintron, Milwaukee, US), and levels of H2 and CH4 (in parts per million or ppm) were determined. For a positive test, the following criteria were applied: a rise in H2 value (≥ 20 ppm) or CH4 values (≥ 10 ppm) above fasting baseline value or a sustained rise in H2 or CH4 of 5 ppm over 3 consecutive breath samples. A rise in breath values as above and reproduction of symptoms were required to diagnose SIBO., Three months|Changes in gut microbiota at the phylum level, Fresh fecal specimens were collected and gut microbial analysis was performed. Changes in gut microbiota at the phylum level were reported in terms of relative abundance., Three months",
         null,
         "Universiti Sains Malaysia",
         "Morinaga Milk Industry Co., LTD",
         "ALL",
         "ADULT, OLDER_ADULT",
         "PHASE2|PHASE3",
         "53.0",
         "OTHER",
         "INTERVENTIONAL",
         "Allocation: NON_RANDOMIZED|Intervention Model: PARALLEL|Masking: NONE|Primary Purpose: TREATMENT",
         "USM/JEPeM/15040133",
         "2015-09",
         "2015-12",
         "2015-12",
         "2017-10-24",
         null,
         "2017-10-24",
         null,
         null,
         "Bifidobacterium Infantis M-63 Improves Mental Health in Irritable Bowel Syndrome Developed After a Major Flood Disaster"
        ],
        [
         "3",
         "NCT03761914",
         "Galinpepimut-S in Combination With Pembrolizumab in Patients With Selected Advanced Cancers",
         "https://clinicaltrials.gov/study/NCT03761914",
         null,
         "COMPLETED",
         "To evaluate the safety, tolerability, and anti-tumor activity of galinpepimut-S in combination with pembrolizumab in patients with selected advanced cancers.",
         "YES",
         "Acute Myelogenous Leukemia|Ovarian Cancer|Colorectal Cancer|Triple-negative Breast Cancer|Small-cell Lung Cancer",
         "BIOLOGICAL: galinpepimut-S|BIOLOGICAL: pembrolizumab|OTHER: Montanide|BIOLOGICAL: GM-CSF",
         "Overall Response Rate (ORR) - Best Overall Response, Percentage of patients who have received at least one dose of pembrolizumab and have responded (and have completed imaging requirements). Best overall response is defined as the best overall visit response in the following order: CR, PR, SD, PD, or UE as measured by RECIST 1.1, 33 months|Overall Response Rate (ORR) - Overall Response Rate, Percentage of patients who have received at least one dose of pembrolizumab and have responded (and have completed imaging requirement). Overall response rate is defined as the proportion of participants with a best overall response of CR or PR as defined by RECIST 1.1, 33 months",
         null,
         "Progression-free Survival (PFS) - Kaplan Meier Estimate, Time from enrollment to date of first confirmed disease progression or death whichever occurred earlier, 33 months|Overall Survival (OS) - Kaplan Meier Estimate, Time from enrollment to date of death from any cause, 33 months",
         "Sellas Life Sciences Group",
         "Merck Sharp & Dohme LLC|LumaBridge",
         "ALL",
         "ADULT, OLDER_ADULT",
         "PHASE1|PHASE2",
         "26.0",
         "INDUSTRY",
         "INTERVENTIONAL",
         "Allocation: NON_RANDOMIZED|Intervention Model: PARALLEL|Masking: NONE|Primary Purpose: TREATMENT",
         "SLS17-201/MK3475-770",
         "2019-09-30",
         "2022-07-05",
         "2022-10-27",
         "2018-12-03",
         "2024-11-19",
         "2024-11-19",
         "St. Joseph Heritage Healthcare, Santa Rosa, California, 95403, United States|Innovative Clinical Research Institute (ICRI), Whittier, California, 90603, United States|Miami Cancer Institute at Baptist Health, Inc., Miami, Florida, 33176, United States|Memorial Sloan Kettering Cancer Center, Basking Ridge, New Jersey, 07920, United States|Memorial Sloan Kettering Cancer Center, Middletown, New Jersey, 07748, United States|Memorial Sloan Kettering Cancer Center, Montvale, New Jersey, 07645, United States|Memorial Sloan Kettering Cancer Center, Commack, New York, 11725, United States|Memorial Sloan Kettering Cancer Center, Harrison, New York, 10604, United States|Memorial Sloan Kettering Cancer Center, Nassau, New York, 11553, United States|Memorial Sloan Kettering Cancer Center, New York, New York, 10065, United States|Oncology Hematology Care, Inc., Cincinnati, Ohio, 45242, United States|MD Anderson Cancer Center, Houston, Texas, 77054, United States",
         "Study Protocol and Statistical Analysis Plan, https://cdn.clinicaltrials.gov/large-docs/14/NCT03761914/Prot_SAP_001.pdf",
         "A Phase 1/2 Study of Galinpepimut-S in Combination With Pembrolizumab (MK 3475) in Patients With Selected Advanced Cancers"
        ],
        [
         "4",
         "NCT05340504",
         "Evaluating the Hypothesized Mechanism of Action of N-acetylcysteine for Bipolar Disorder",
         "https://clinicaltrials.gov/study/NCT05340504",
         null,
         "COMPLETED",
         "This research study evaluates the effects of anFDA-approved medication NAC in individuals with Bipolar Disorder. Participants in the study will will be assigned to two medication conditions and will take both NAC and a matched placebo. The order in which they take each medication will be random. Study medication will be taken for 14 days. There will be 5 study visits, with 2 MRI brain imaging scans completed. Questionnaires and clinical interview measures will be completed at study visits along with consistent assessment of potential side effects from study medication.",
         "YES",
         "Bipolar Disorder|Bipolar I Disorder|Bipolar II Disorder",
         "DRUG: N-Acetyl cysteine|DRUG: Placebo",
         "Change in dACC GSH Levels Through Proton Magnetic Resonance Spectroscopy, Brain GSH levels, balanced with water and CSF-corrected, in dorsal anterior cingulate measured via Proton Magnetic Resonance Spectroscopy, Day 14 of each experimental condition",
         null,
         null,
         "Medical University of South Carolina",
         "Milken Institute",
         "ALL",
         "ADULT",
         "PHASE2",
         "12.0",
         "OTHER",
         "INTERVENTIONAL",
         "Allocation: RANDOMIZED|Intervention Model: CROSSOVER|Masking: TRIPLE (PARTICIPANT, CARE_PROVIDER, INVESTIGATOR)|Primary Purpose: TREATMENT",
         "00117736",
         "2022-05-13",
         "2023-06-21",
         "2023-06-21",
         "2022-04-22",
         "2024-06-26",
         "2024-06-26",
         "Medical University Of South Carolina, Charleston, South Carolina, 29425, United States",
         "Study Protocol and Statistical Analysis Plan, https://cdn.clinicaltrials.gov/large-docs/04/NCT05340504/Prot_SAP_000.pdf",
         "Experimentally Evaluating the Hypothesized Mechanism of Action of N-acetylcysteine for Bipolar Disorder"
        ]
       ],
       "shape": {
        "columns": 31,
        "rows": 5
       }
      },
      "text/html": [
       "<div>\n",
       "<style scoped>\n",
       "    .dataframe tbody tr th:only-of-type {\n",
       "        vertical-align: middle;\n",
       "    }\n",
       "\n",
       "    .dataframe tbody tr th {\n",
       "        vertical-align: top;\n",
       "    }\n",
       "\n",
       "    .dataframe thead th {\n",
       "        text-align: right;\n",
       "    }\n",
       "</style>\n",
       "<table border=\"1\" class=\"dataframe\">\n",
       "  <thead>\n",
       "    <tr style=\"text-align: right;\">\n",
       "      <th></th>\n",
       "      <th>nct_id</th>\n",
       "      <th>Study Title</th>\n",
       "      <th>Study URL</th>\n",
       "      <th>Acronym</th>\n",
       "      <th>Study Status</th>\n",
       "      <th>Brief Summary</th>\n",
       "      <th>Study Results</th>\n",
       "      <th>Conditions</th>\n",
       "      <th>Interventions</th>\n",
       "      <th>Primary Outcome Measures</th>\n",
       "      <th>Secondary Outcome Measures</th>\n",
       "      <th>Other Outcome Measures</th>\n",
       "      <th>Sponsor</th>\n",
       "      <th>Collaborators</th>\n",
       "      <th>Sex</th>\n",
       "      <th>Age</th>\n",
       "      <th>Phases</th>\n",
       "      <th>Enrollment</th>\n",
       "      <th>Funder Type</th>\n",
       "      <th>Study Type</th>\n",
       "      <th>Study Design</th>\n",
       "      <th>Other IDs</th>\n",
       "      <th>Start Date</th>\n",
       "      <th>Primary Completion Date</th>\n",
       "      <th>Completion Date</th>\n",
       "      <th>First Posted</th>\n",
       "      <th>Results First Posted</th>\n",
       "      <th>Last Update Posted</th>\n",
       "      <th>Locations</th>\n",
       "      <th>Study Documents</th>\n",
       "      <th>official_title</th>\n",
       "    </tr>\n",
       "  </thead>\n",
       "  <tbody>\n",
       "    <tr>\n",
       "      <th>0</th>\n",
       "      <td>NCT02064621</td>\n",
       "      <td>CKD-330 Drug-Drug Interaction Study (Candesartan)</td>\n",
       "      <td>https://clinicaltrials.gov/study/NCT02064621</td>\n",
       "      <td>CKD-330(C)</td>\n",
       "      <td>COMPLETED</td>\n",
       "      <td>The purpose of this study is to evaluate a pha...</td>\n",
       "      <td>NO</td>\n",
       "      <td>Hypertension</td>\n",
       "      <td>DRUG: Candesartan 32mg|DRUG: Candesartan 32mg/...</td>\n",
       "      <td>AUCτ,ss of Candesartan, 1D 0h, 8D 0h, 9D 0h, 1...</td>\n",
       "      <td>Tmax,ss of Candesartan, 1D 0h, 8D 0h, 9D 0h, 1...</td>\n",
       "      <td>NaN</td>\n",
       "      <td>Chong Kun Dang Pharmaceutical</td>\n",
       "      <td>NaN</td>\n",
       "      <td>MALE</td>\n",
       "      <td>ADULT</td>\n",
       "      <td>PHASE1</td>\n",
       "      <td>24.0</td>\n",
       "      <td>INDUSTRY</td>\n",
       "      <td>INTERVENTIONAL</td>\n",
       "      <td>Allocation: RANDOMIZED|Intervention Model: CRO...</td>\n",
       "      <td>144HPS13013</td>\n",
       "      <td>2014-06</td>\n",
       "      <td>2014-08</td>\n",
       "      <td>2014-08</td>\n",
       "      <td>2014-02-17</td>\n",
       "      <td>NaN</td>\n",
       "      <td>2014-09-03</td>\n",
       "      <td>Asan Medical Center, Seoul, Songpa-gu, South K...</td>\n",
       "      <td>NaN</td>\n",
       "      <td>A Randomized, Open-label, Multiple Doses, Cros...</td>\n",
       "    </tr>\n",
       "    <tr>\n",
       "      <th>1</th>\n",
       "      <td>NCT01756521</td>\n",
       "      <td>A Study Study to Investigate the Effect on QT/...</td>\n",
       "      <td>https://clinicaltrials.gov/study/NCT01756521</td>\n",
       "      <td>NaN</td>\n",
       "      <td>COMPLETED</td>\n",
       "      <td>The purpose of this study is to evaluate effec...</td>\n",
       "      <td>NO</td>\n",
       "      <td>the Effect of Moxifloxacin on QT/QTc Interval</td>\n",
       "      <td>DRUG: Moxifloxacin</td>\n",
       "      <td>QTc (QTcF, QTcB, QTcI), QTc (QTcF, QTcB, QTcI)...</td>\n",
       "      <td>NaN</td>\n",
       "      <td>NaN</td>\n",
       "      <td>Seoul National University Hospital</td>\n",
       "      <td>Korea National Enterprise for Clinical Trials|...</td>\n",
       "      <td>MALE</td>\n",
       "      <td>ADULT</td>\n",
       "      <td>PHASE1</td>\n",
       "      <td>39.0</td>\n",
       "      <td>OTHER</td>\n",
       "      <td>INTERVENTIONAL</td>\n",
       "      <td>Allocation: RANDOMIZED|Intervention Model: CRO...</td>\n",
       "      <td>MOXI036</td>\n",
       "      <td>2013-01</td>\n",
       "      <td>2013-08</td>\n",
       "      <td>2013-10</td>\n",
       "      <td>2012-12-27</td>\n",
       "      <td>NaN</td>\n",
       "      <td>2016-04-26</td>\n",
       "      <td>Seoul National University Hospital, Seoul, Sou...</td>\n",
       "      <td>NaN</td>\n",
       "      <td>A Multi-center, Randomized, Open-label, Placeb...</td>\n",
       "    </tr>\n",
       "    <tr>\n",
       "      <th>2</th>\n",
       "      <td>NCT03318614</td>\n",
       "      <td>Bifidobacterium Infantis M-63 Improves Mental ...</td>\n",
       "      <td>https://clinicaltrials.gov/study/NCT03318614</td>\n",
       "      <td>NaN</td>\n",
       "      <td>COMPLETED</td>\n",
       "      <td>A 3-month study was conducted in flood victims...</td>\n",
       "      <td>NO</td>\n",
       "      <td>Irritable Bowel Syndrome|Abdominal Pain|Small ...</td>\n",
       "      <td>DIETARY_SUPPLEMENT: Probiotics M-63|OTHER: Con...</td>\n",
       "      <td>IBS Symptom Severity Scale (IBS-SSS) scores, I...</td>\n",
       "      <td>36-Item Short Form Survey (SF-36) scores, SF-3...</td>\n",
       "      <td>NaN</td>\n",
       "      <td>Universiti Sains Malaysia</td>\n",
       "      <td>Morinaga Milk Industry Co., LTD</td>\n",
       "      <td>ALL</td>\n",
       "      <td>ADULT, OLDER_ADULT</td>\n",
       "      <td>PHASE2|PHASE3</td>\n",
       "      <td>53.0</td>\n",
       "      <td>OTHER</td>\n",
       "      <td>INTERVENTIONAL</td>\n",
       "      <td>Allocation: NON_RANDOMIZED|Intervention Model:...</td>\n",
       "      <td>USM/JEPeM/15040133</td>\n",
       "      <td>2015-09</td>\n",
       "      <td>2015-12</td>\n",
       "      <td>2015-12</td>\n",
       "      <td>2017-10-24</td>\n",
       "      <td>NaN</td>\n",
       "      <td>2017-10-24</td>\n",
       "      <td>NaN</td>\n",
       "      <td>NaN</td>\n",
       "      <td>Bifidobacterium Infantis M-63 Improves Mental ...</td>\n",
       "    </tr>\n",
       "    <tr>\n",
       "      <th>3</th>\n",
       "      <td>NCT03761914</td>\n",
       "      <td>Galinpepimut-S in Combination With Pembrolizum...</td>\n",
       "      <td>https://clinicaltrials.gov/study/NCT03761914</td>\n",
       "      <td>NaN</td>\n",
       "      <td>COMPLETED</td>\n",
       "      <td>To evaluate the safety, tolerability, and anti...</td>\n",
       "      <td>YES</td>\n",
       "      <td>Acute Myelogenous Leukemia|Ovarian Cancer|Colo...</td>\n",
       "      <td>BIOLOGICAL: galinpepimut-S|BIOLOGICAL: pembrol...</td>\n",
       "      <td>Overall Response Rate (ORR) - Best Overall Res...</td>\n",
       "      <td>NaN</td>\n",
       "      <td>Progression-free Survival (PFS) - Kaplan Meier...</td>\n",
       "      <td>Sellas Life Sciences Group</td>\n",
       "      <td>Merck Sharp &amp; Dohme LLC|LumaBridge</td>\n",
       "      <td>ALL</td>\n",
       "      <td>ADULT, OLDER_ADULT</td>\n",
       "      <td>PHASE1|PHASE2</td>\n",
       "      <td>26.0</td>\n",
       "      <td>INDUSTRY</td>\n",
       "      <td>INTERVENTIONAL</td>\n",
       "      <td>Allocation: NON_RANDOMIZED|Intervention Model:...</td>\n",
       "      <td>SLS17-201/MK3475-770</td>\n",
       "      <td>2019-09-30</td>\n",
       "      <td>2022-07-05</td>\n",
       "      <td>2022-10-27</td>\n",
       "      <td>2018-12-03</td>\n",
       "      <td>2024-11-19</td>\n",
       "      <td>2024-11-19</td>\n",
       "      <td>St. Joseph Heritage Healthcare, Santa Rosa, Ca...</td>\n",
       "      <td>Study Protocol and Statistical Analysis Plan, ...</td>\n",
       "      <td>A Phase 1/2 Study of Galinpepimut-S in Combina...</td>\n",
       "    </tr>\n",
       "    <tr>\n",
       "      <th>4</th>\n",
       "      <td>NCT05340504</td>\n",
       "      <td>Evaluating the Hypothesized Mechanism of Actio...</td>\n",
       "      <td>https://clinicaltrials.gov/study/NCT05340504</td>\n",
       "      <td>NaN</td>\n",
       "      <td>COMPLETED</td>\n",
       "      <td>This research study evaluates the effects of a...</td>\n",
       "      <td>YES</td>\n",
       "      <td>Bipolar Disorder|Bipolar I Disorder|Bipolar II...</td>\n",
       "      <td>DRUG: N-Acetyl cysteine|DRUG: Placebo</td>\n",
       "      <td>Change in dACC GSH Levels Through Proton Magne...</td>\n",
       "      <td>NaN</td>\n",
       "      <td>NaN</td>\n",
       "      <td>Medical University of South Carolina</td>\n",
       "      <td>Milken Institute</td>\n",
       "      <td>ALL</td>\n",
       "      <td>ADULT</td>\n",
       "      <td>PHASE2</td>\n",
       "      <td>12.0</td>\n",
       "      <td>OTHER</td>\n",
       "      <td>INTERVENTIONAL</td>\n",
       "      <td>Allocation: RANDOMIZED|Intervention Model: CRO...</td>\n",
       "      <td>00117736</td>\n",
       "      <td>2022-05-13</td>\n",
       "      <td>2023-06-21</td>\n",
       "      <td>2023-06-21</td>\n",
       "      <td>2022-04-22</td>\n",
       "      <td>2024-06-26</td>\n",
       "      <td>2024-06-26</td>\n",
       "      <td>Medical University Of South Carolina, Charlest...</td>\n",
       "      <td>Study Protocol and Statistical Analysis Plan, ...</td>\n",
       "      <td>Experimentally Evaluating the Hypothesized Mec...</td>\n",
       "    </tr>\n",
       "  </tbody>\n",
       "</table>\n",
       "</div>"
      ],
      "text/plain": [
       "        nct_id                                        Study Title  \\\n",
       "0  NCT02064621  CKD-330 Drug-Drug Interaction Study (Candesartan)   \n",
       "1  NCT01756521  A Study Study to Investigate the Effect on QT/...   \n",
       "2  NCT03318614  Bifidobacterium Infantis M-63 Improves Mental ...   \n",
       "3  NCT03761914  Galinpepimut-S in Combination With Pembrolizum...   \n",
       "4  NCT05340504  Evaluating the Hypothesized Mechanism of Actio...   \n",
       "\n",
       "                                      Study URL     Acronym Study Status  \\\n",
       "0  https://clinicaltrials.gov/study/NCT02064621  CKD-330(C)    COMPLETED   \n",
       "1  https://clinicaltrials.gov/study/NCT01756521         NaN    COMPLETED   \n",
       "2  https://clinicaltrials.gov/study/NCT03318614         NaN    COMPLETED   \n",
       "3  https://clinicaltrials.gov/study/NCT03761914         NaN    COMPLETED   \n",
       "4  https://clinicaltrials.gov/study/NCT05340504         NaN    COMPLETED   \n",
       "\n",
       "                                       Brief Summary Study Results  \\\n",
       "0  The purpose of this study is to evaluate a pha...            NO   \n",
       "1  The purpose of this study is to evaluate effec...            NO   \n",
       "2  A 3-month study was conducted in flood victims...            NO   \n",
       "3  To evaluate the safety, tolerability, and anti...           YES   \n",
       "4  This research study evaluates the effects of a...           YES   \n",
       "\n",
       "                                          Conditions  \\\n",
       "0                                       Hypertension   \n",
       "1      the Effect of Moxifloxacin on QT/QTc Interval   \n",
       "2  Irritable Bowel Syndrome|Abdominal Pain|Small ...   \n",
       "3  Acute Myelogenous Leukemia|Ovarian Cancer|Colo...   \n",
       "4  Bipolar Disorder|Bipolar I Disorder|Bipolar II...   \n",
       "\n",
       "                                       Interventions  \\\n",
       "0  DRUG: Candesartan 32mg|DRUG: Candesartan 32mg/...   \n",
       "1                                 DRUG: Moxifloxacin   \n",
       "2  DIETARY_SUPPLEMENT: Probiotics M-63|OTHER: Con...   \n",
       "3  BIOLOGICAL: galinpepimut-S|BIOLOGICAL: pembrol...   \n",
       "4              DRUG: N-Acetyl cysteine|DRUG: Placebo   \n",
       "\n",
       "                            Primary Outcome Measures  \\\n",
       "0  AUCτ,ss of Candesartan, 1D 0h, 8D 0h, 9D 0h, 1...   \n",
       "1  QTc (QTcF, QTcB, QTcI), QTc (QTcF, QTcB, QTcI)...   \n",
       "2  IBS Symptom Severity Scale (IBS-SSS) scores, I...   \n",
       "3  Overall Response Rate (ORR) - Best Overall Res...   \n",
       "4  Change in dACC GSH Levels Through Proton Magne...   \n",
       "\n",
       "                          Secondary Outcome Measures  \\\n",
       "0  Tmax,ss of Candesartan, 1D 0h, 8D 0h, 9D 0h, 1...   \n",
       "1                                                NaN   \n",
       "2  36-Item Short Form Survey (SF-36) scores, SF-3...   \n",
       "3                                                NaN   \n",
       "4                                                NaN   \n",
       "\n",
       "                              Other Outcome Measures  \\\n",
       "0                                                NaN   \n",
       "1                                                NaN   \n",
       "2                                                NaN   \n",
       "3  Progression-free Survival (PFS) - Kaplan Meier...   \n",
       "4                                                NaN   \n",
       "\n",
       "                                Sponsor  \\\n",
       "0         Chong Kun Dang Pharmaceutical   \n",
       "1    Seoul National University Hospital   \n",
       "2             Universiti Sains Malaysia   \n",
       "3            Sellas Life Sciences Group   \n",
       "4  Medical University of South Carolina   \n",
       "\n",
       "                                       Collaborators   Sex  \\\n",
       "0                                                NaN  MALE   \n",
       "1  Korea National Enterprise for Clinical Trials|...  MALE   \n",
       "2                    Morinaga Milk Industry Co., LTD   ALL   \n",
       "3                 Merck Sharp & Dohme LLC|LumaBridge   ALL   \n",
       "4                                   Milken Institute   ALL   \n",
       "\n",
       "                  Age         Phases  Enrollment Funder Type      Study Type  \\\n",
       "0               ADULT         PHASE1        24.0    INDUSTRY  INTERVENTIONAL   \n",
       "1               ADULT         PHASE1        39.0       OTHER  INTERVENTIONAL   \n",
       "2  ADULT, OLDER_ADULT  PHASE2|PHASE3        53.0       OTHER  INTERVENTIONAL   \n",
       "3  ADULT, OLDER_ADULT  PHASE1|PHASE2        26.0    INDUSTRY  INTERVENTIONAL   \n",
       "4               ADULT         PHASE2        12.0       OTHER  INTERVENTIONAL   \n",
       "\n",
       "                                        Study Design             Other IDs  \\\n",
       "0  Allocation: RANDOMIZED|Intervention Model: CRO...           144HPS13013   \n",
       "1  Allocation: RANDOMIZED|Intervention Model: CRO...               MOXI036   \n",
       "2  Allocation: NON_RANDOMIZED|Intervention Model:...    USM/JEPeM/15040133   \n",
       "3  Allocation: NON_RANDOMIZED|Intervention Model:...  SLS17-201/MK3475-770   \n",
       "4  Allocation: RANDOMIZED|Intervention Model: CRO...              00117736   \n",
       "\n",
       "   Start Date Primary Completion Date Completion Date First Posted  \\\n",
       "0     2014-06                 2014-08         2014-08   2014-02-17   \n",
       "1     2013-01                 2013-08         2013-10   2012-12-27   \n",
       "2     2015-09                 2015-12         2015-12   2017-10-24   \n",
       "3  2019-09-30              2022-07-05      2022-10-27   2018-12-03   \n",
       "4  2022-05-13              2023-06-21      2023-06-21   2022-04-22   \n",
       "\n",
       "  Results First Posted Last Update Posted  \\\n",
       "0                  NaN         2014-09-03   \n",
       "1                  NaN         2016-04-26   \n",
       "2                  NaN         2017-10-24   \n",
       "3           2024-11-19         2024-11-19   \n",
       "4           2024-06-26         2024-06-26   \n",
       "\n",
       "                                           Locations  \\\n",
       "0  Asan Medical Center, Seoul, Songpa-gu, South K...   \n",
       "1  Seoul National University Hospital, Seoul, Sou...   \n",
       "2                                                NaN   \n",
       "3  St. Joseph Heritage Healthcare, Santa Rosa, Ca...   \n",
       "4  Medical University Of South Carolina, Charlest...   \n",
       "\n",
       "                                     Study Documents  \\\n",
       "0                                                NaN   \n",
       "1                                                NaN   \n",
       "2                                                NaN   \n",
       "3  Study Protocol and Statistical Analysis Plan, ...   \n",
       "4  Study Protocol and Statistical Analysis Plan, ...   \n",
       "\n",
       "                                      official_title  \n",
       "0  A Randomized, Open-label, Multiple Doses, Cros...  \n",
       "1  A Multi-center, Randomized, Open-label, Placeb...  \n",
       "2  Bifidobacterium Infantis M-63 Improves Mental ...  \n",
       "3  A Phase 1/2 Study of Galinpepimut-S in Combina...  \n",
       "4  Experimentally Evaluating the Hypothesized Mec...  "
      ]
     },
     "execution_count": 3,
     "metadata": {},
     "output_type": "execute_result"
    }
   ],
   "source": [
    "df = pd.read_csv(r\".\\thesis_data\\ctg-studies.csv\")\n",
    "pd.set_option('display.max.columns', 35)  # Number of Columns : 35 > 30\n",
    "df = df.rename(columns = {'NCT Number': 'nct_id'})\n",
    "df = df.merge(my_studies[['nct_id', 'official_title']], on = 'nct_id', how = 'left')\n",
    "\n",
    "display(df.shape)\n",
    "df.head()"
   ]
  },
  {
   "cell_type": "markdown",
   "metadata": {},
   "source": [
    "##  Drop Rows\n",
    "Exclude: \n",
    "- clinical trials missing from db but exist in csv.\n",
    "\n"
   ]
  },
  {
   "cell_type": "code",
   "execution_count": 4,
   "metadata": {},
   "outputs": [
    {
     "data": {
      "text/plain": [
       "(79217, 31)"
      ]
     },
     "metadata": {},
     "output_type": "display_data"
    },
    {
     "data": {
      "text/plain": [
       "1"
      ]
     },
     "metadata": {},
     "output_type": "display_data"
    },
    {
     "data": {
      "text/plain": [
       "0"
      ]
     },
     "metadata": {},
     "output_type": "display_data"
    },
    {
     "data": {
      "text/plain": [
       "(79216, 31)"
      ]
     },
     "metadata": {},
     "output_type": "display_data"
    }
   ],
   "source": [
    "display(df.shape)\n",
    "\n",
    "# Drop studies that are not in my_studies table of db and via versa.\n",
    "display(df.loc[~df[\"nct_id\"].isin(my_studies[\"nct_id\"])].shape[0])\n",
    "df = df.drop(df.loc[~df[\"nct_id\"].isin(my_studies[\"nct_id\"])].index)  # Those not in PHASE1|2, 2|3 will also going to be dropped\n",
    "\n",
    "display(df['nct_id'].shape[0] - df[\"nct_id\"].isin(my_studies[\"nct_id\"]).shape[0])\n",
    "df = df[df[\"nct_id\"].isin(my_studies[\"nct_id\"])]\n",
    "\n",
    "display(df.shape)\n"
   ]
  },
  {
   "cell_type": "markdown",
   "metadata": {},
   "source": [
    "### Duplicated Studies\n",
    "\n",
    "- nct_id always unique --> given from Site page\n",
    "\n",
    "ClinicalTrials.gov Documentation:\n",
    "•\tNCT number\n",
    "A unique identification code given to each clinical study record registered on ClinicalTrials.gov. The format is \"NCT\" followed by an 8-digit number (for example, NCT00000419). Also called the ClinicalTrials.gov identifier.\n",
    "\n",
    "ClinicalTrials.gov Documentation:\n",
    "•\tOther study IDs\n",
    "Identifiers or ID numbers other than the NCT number that are assigned to a clinical study by the study's sponsor, funders, or others. These numbers may include unique identifiers from other trial registries and National Institutes of Health grant numbers."
   ]
  },
  {
   "cell_type": "code",
   "execution_count": 5,
   "metadata": {},
   "outputs": [
    {
     "data": {
      "application/vnd.microsoft.datawrangler.viewer.v0+json": {
       "columns": [
        {
         "name": "index",
         "rawType": "bool",
         "type": "boolean"
        },
        {
         "name": "count",
         "rawType": "int64",
         "type": "integer"
        }
       ],
       "ref": "1e1dc309-972e-47ee-b2b8-1a627573c471",
       "rows": [
        [
         "False",
         "79216"
        ]
       ],
       "shape": {
        "columns": 1,
        "rows": 1
       }
      },
      "text/plain": [
       "False    79216\n",
       "Name: count, dtype: int64"
      ]
     },
     "metadata": {},
     "output_type": "display_data"
    },
    {
     "data": {
      "application/vnd.microsoft.datawrangler.viewer.v0+json": {
       "columns": [
        {
         "name": "index",
         "rawType": "object",
         "type": "string"
        },
        {
         "name": "nct_id",
         "rawType": "object",
         "type": "unknown"
        },
        {
         "name": "Study Status",
         "rawType": "object",
         "type": "unknown"
        },
        {
         "name": "Phases",
         "rawType": "object",
         "type": "unknown"
        },
        {
         "name": "Study Title",
         "rawType": "object",
         "type": "unknown"
        },
        {
         "name": "official_title",
         "rawType": "object",
         "type": "unknown"
        },
        {
         "name": "Start Date",
         "rawType": "object",
         "type": "unknown"
        },
        {
         "name": "Completion Date",
         "rawType": "object",
         "type": "unknown"
        }
       ],
       "ref": "2a7cc97a-a586-407b-b345-ddba3cd24408",
       "rows": [
        [
         "count",
         "79216",
         "79216",
         "79216",
         "79216",
         "78268",
         "79216",
         "79216"
        ],
        [
         "unique",
         "79216",
         "3",
         "6",
         "78998",
         "77819",
         "4738",
         "4456"
        ],
        [
         "top",
         "NCT02064621",
         "COMPLETED",
         "PHASE1",
         "Multi-Center Study of New Medications to Treat Vaginal Infections",
         "ACTIV-6: COVID-19 Outpatient Randomized Trial to Evaluate Efficacy of Repurposed Medications",
         "2012-01",
         "2014-12"
        ],
        [
         "freq",
         "1",
         "63543",
         "22233",
         "3",
         "8",
         "653",
         "659"
        ]
       ],
       "shape": {
        "columns": 7,
        "rows": 4
       }
      },
      "text/html": [
       "<div>\n",
       "<style scoped>\n",
       "    .dataframe tbody tr th:only-of-type {\n",
       "        vertical-align: middle;\n",
       "    }\n",
       "\n",
       "    .dataframe tbody tr th {\n",
       "        vertical-align: top;\n",
       "    }\n",
       "\n",
       "    .dataframe thead th {\n",
       "        text-align: right;\n",
       "    }\n",
       "</style>\n",
       "<table border=\"1\" class=\"dataframe\">\n",
       "  <thead>\n",
       "    <tr style=\"text-align: right;\">\n",
       "      <th></th>\n",
       "      <th>nct_id</th>\n",
       "      <th>Study Status</th>\n",
       "      <th>Phases</th>\n",
       "      <th>Study Title</th>\n",
       "      <th>official_title</th>\n",
       "      <th>Start Date</th>\n",
       "      <th>Completion Date</th>\n",
       "    </tr>\n",
       "  </thead>\n",
       "  <tbody>\n",
       "    <tr>\n",
       "      <th>count</th>\n",
       "      <td>79216</td>\n",
       "      <td>79216</td>\n",
       "      <td>79216</td>\n",
       "      <td>79216</td>\n",
       "      <td>78268</td>\n",
       "      <td>79216</td>\n",
       "      <td>79216</td>\n",
       "    </tr>\n",
       "    <tr>\n",
       "      <th>unique</th>\n",
       "      <td>79216</td>\n",
       "      <td>3</td>\n",
       "      <td>6</td>\n",
       "      <td>78998</td>\n",
       "      <td>77819</td>\n",
       "      <td>4738</td>\n",
       "      <td>4456</td>\n",
       "    </tr>\n",
       "    <tr>\n",
       "      <th>top</th>\n",
       "      <td>NCT02064621</td>\n",
       "      <td>COMPLETED</td>\n",
       "      <td>PHASE1</td>\n",
       "      <td>Multi-Center Study of New Medications to Treat...</td>\n",
       "      <td>ACTIV-6: COVID-19 Outpatient Randomized Trial ...</td>\n",
       "      <td>2012-01</td>\n",
       "      <td>2014-12</td>\n",
       "    </tr>\n",
       "    <tr>\n",
       "      <th>freq</th>\n",
       "      <td>1</td>\n",
       "      <td>63543</td>\n",
       "      <td>22233</td>\n",
       "      <td>3</td>\n",
       "      <td>8</td>\n",
       "      <td>653</td>\n",
       "      <td>659</td>\n",
       "    </tr>\n",
       "  </tbody>\n",
       "</table>\n",
       "</div>"
      ],
      "text/plain": [
       "             nct_id Study Status  Phases  \\\n",
       "count         79216        79216   79216   \n",
       "unique        79216            3       6   \n",
       "top     NCT02064621    COMPLETED  PHASE1   \n",
       "freq              1        63543   22233   \n",
       "\n",
       "                                              Study Title  \\\n",
       "count                                               79216   \n",
       "unique                                              78998   \n",
       "top     Multi-Center Study of New Medications to Treat...   \n",
       "freq                                                    3   \n",
       "\n",
       "                                           official_title Start Date  \\\n",
       "count                                               78268      79216   \n",
       "unique                                              77819       4738   \n",
       "top     ACTIV-6: COVID-19 Outpatient Randomized Trial ...    2012-01   \n",
       "freq                                                    8        653   \n",
       "\n",
       "       Completion Date  \n",
       "count            79216  \n",
       "unique            4456  \n",
       "top            2014-12  \n",
       "freq               659  "
      ]
     },
     "metadata": {},
     "output_type": "display_data"
    },
    {
     "data": {
      "application/vnd.microsoft.datawrangler.viewer.v0+json": {
       "columns": [
        {
         "name": "index",
         "rawType": "int64",
         "type": "integer"
        },
        {
         "name": "Study Status",
         "rawType": "object",
         "type": "string"
        },
        {
         "name": "Phases",
         "rawType": "object",
         "type": "string"
        },
        {
         "name": "Study Title",
         "rawType": "object",
         "type": "string"
        },
        {
         "name": "official_title",
         "rawType": "object",
         "type": "string"
        },
        {
         "name": "Brief Summary",
         "rawType": "object",
         "type": "string"
        },
        {
         "name": "Start Date",
         "rawType": "object",
         "type": "string"
        },
        {
         "name": "Completion Date",
         "rawType": "object",
         "type": "string"
        }
       ],
       "ref": "1ebd5607-a508-4b8e-b237-4239377b6f81",
       "rows": [
        [
         "2648",
         "TERMINATED",
         "PHASE3",
         "A Phase 3 Safety and Efficacy Study of Fovista® (E10030) Intravitreous Administration in Combination With Lucentis® Compared to Lucentis® Monotherapy",
         "A Phase 3 Randomized, Double-masked, Controlled Trial to Establish the Safety and Efficacy of Intravitreous Administration of Fovista® (Anti PDGF-B Pegylated Aptamer) Administered in Combination With Lucentis® Compared to Lucentis® Monotherapy in Subjects With Subfoveal Neovascular Age-related Macular Degeneration.",
         "The objectives of this study are to evaluate the safety and efficacy of intravitreal administration of Fovista® administered in combination with Lucentis® compared to Lucentis® monotherapy in subjects with subfoveal choroidal neovascularization secondary to age-related macular degeneration (AMD).",
         "2013-08",
         "2016-12"
        ],
        [
         "71430",
         "TERMINATED",
         "PHASE3",
         "A Phase 3 Safety and Efficacy Study of Fovista® (E10030) Intravitreous Administration in Combination With Lucentis® Compared to Lucentis® Monotherapy",
         "A Phase 3 Randomized, Double-masked, Controlled Trial to Establish the Safety and Efficacy of Intravitreous Administration of Fovista® (Anti PDGF-B Pegylated Aptamer) Administered in Combination With Lucentis® Compared to Lucentis® Monotherapy in Subjects With Subfoveal Neovascular Age-related Macular Degeneration.",
         "The objectives of this study are to evaluate the safety and efficacy of intravitreal administration of Fovista® administered in combination with Lucentis® compared to Lucentis® monotherapy in subjects with subfoveal choroidal neovascularization secondary to age-related macular degeneration (AMD).",
         "2013-08",
         "2016-12"
        ],
        [
         "3538",
         "COMPLETED",
         "PHASE3",
         "A Study of the Efficacy and Safety of DFD-06 Cream in the Treatment of Moderate to Severe Plaque Psoriasis",
         "A Randomized, Double-Blind, Vehicle-Controlled, Multicenter, Parallel Group Study of the Efficacy and Safety of DFD-06 Cream in the Treatment of Moderate to Severe Plaque Psoriasis for 14 Days",
         "This study will compare the efficacy and safety of DFD-06 Cream to Vehicle Cream for topical treatment of moderate to severe plaque psoriasis after 3, 7, and 14 days of treatment.",
         "2015-12",
         "2016-07"
        ],
        [
         "49258",
         "COMPLETED",
         "PHASE3",
         "A Study of the Efficacy and Safety of DFD-06 Cream in the Treatment of Moderate to Severe Plaque Psoriasis",
         "A Randomized, Double-Blind, Vehicle-Controlled, Multicenter, Parallel Group Study of the Efficacy and Safety of DFD-06 Cream in the Treatment of Moderate to Severe Plaque Psoriasis for 14 Days",
         "This study will compare the efficacy and safety of DFD-06 Cream to Vehicle Cream for topical treatment of moderate to severe plaque psoriasis after 3, 7, and 14 days of treatment.",
         "2015-12",
         "2016-07"
        ],
        [
         "53348",
         "COMPLETED",
         "PHASE3",
         "Ceftazidime-Avibactam Compared With Doripenem Followed by Oral Therapy for Hospitalized Adults With Complicated UTIs (Urinary Tract Infections)",
         "A Phase III, Randomized, Multicenter, Double-Blind, Double Dummy, Parallel Group, Comparative Study to Determine the Efficacy, Safety, and Tolerability of Ceftazidime Avibactam (CAZ-AVI, Formerly CAZ104) Versus Doripenem Followed by Appropriate Oral Therapy in the Treatment of Complicated Urinary Tract Infections, Including Acute Pyelonephritis, With a Gram Negative Pathogen in Hospitalized Adults",
         "The purpose of this study is to evaluate the effects of Ceftazidime Avibactam compared to Doripenem for treating hospitalized patients with complicated urinary tract infections, including acute pyelonephritis",
         "2012-10",
         "2014-08"
        ],
        [
         "23595",
         "COMPLETED",
         "PHASE3",
         "Ceftazidime-Avibactam Compared With Doripenem Followed by Oral Therapy for Hospitalized Adults With Complicated UTIs (Urinary Tract Infections)",
         "A Phase III, Randomized, Multicenter, Double-Blind, Double Dummy, Parallel Group, Comparative Study to Determine the Efficacy, Safety, and Tolerability of Ceftazidime Avibactam (CAZ-AVI, Formerly CAZ104) Versus Doripenem Followed by Appropriate Oral Therapy in the Treatment of Complicated Urinary Tract Infections, Including Acute Pyelonephritis, With a Gram Negative Pathogen in Hospitalized Adults",
         "The purpose of this study is to evaluate the effects of Ceftazidime Avibactam compared to Doripenem for treating hospitalized patients with complicated urinary tract infections, including acute pyelonephritis",
         "2012-10",
         "2014-08"
        ],
        [
         "44741",
         "COMPLETED",
         "PHASE1|PHASE2",
         "Effect of Bronchoscopy on the Outcome of Patients With Severe Sepsis With ARDS and Complicated by VAP From Prolonged Ventilation",
         "Effect of Bronchoscopy on the Outcome of Patients With Severe Sepsis With ARDS and Complicated by VAP From Prolonged Ventilation",
         "to evaluate the effect of use of bronchoscopy in the course of sepsis, weaning from the ventilator, duration of ICU stays and mortality rate in septic patients with ARDS due to VAP.",
         "2020-07-02",
         "2021-12-01"
        ],
        [
         "75572",
         "COMPLETED",
         "PHASE1|PHASE2",
         "Effect of Bronchoscopy on the Outcome of Patients With Severe Sepsis With ARDS and Complicated by VAP From Prolonged Ventilation",
         "Effect of Bronchoscopy on the Outcome of Patients With Severe Sepsis With ARDS and Complicated by VAP From Prolonged Ventilation",
         "to evaluate the effect of use of bronchoscopy in the course of sepsis, weaning from the ventilator, duration of ICU stays and mortality rate in septic patients with ARDS due to VAP.",
         "2020-07-02",
         "2021-12-01"
        ],
        [
         "2905",
         "COMPLETED",
         "PHASE1|PHASE2",
         "Effect of Bronchoscopy on the Outcome of Patients With Severe Sepsis With ARDS and Complicated by VAP From Prolonged Ventilation",
         "Effect of Bronchoscopy on the Outcome of Patients With Severe Sepsis With ARDS and Complicated by VAP From Prolonged Ventilation",
         "to evaluate the effect of use of bronchoscopy in the course of sepsis, weaning from the ventilator, duration of ICU stays and mortality rate in septic patients with ARDS due to VAP.",
         "2020-07-02",
         "2021-12-01"
        ],
        [
         "73332",
         "COMPLETED",
         "PHASE3",
         "Efficacy Study of Nebulized TD-4208 for Chronic Obstructive Pulmonary Disease (COPD)",
         "A Phase 3, 12-week, Randomized, Double-blind Placebo-controlled Parallel Group Study of Nebulized TD-4208 in Subjects With Chronic Obstructive Pulmonary Disease",
         "The purpose of this study is to measure the effectiveness and safety of TD 4208, an investigational drug being developed to treat people with moderate to very severe COPD, compared to placebo, a treatment without activity.",
         "2015-09",
         "2016-09"
        ],
        [
         "46978",
         "COMPLETED",
         "PHASE3",
         "Efficacy Study of Nebulized TD-4208 for Chronic Obstructive Pulmonary Disease (COPD)",
         "A Phase 3, 12-week, Randomized, Double-blind Placebo-controlled Parallel Group Study of Nebulized TD-4208 in Subjects With Chronic Obstructive Pulmonary Disease",
         "The purpose of this study is to measure the effectiveness and safety of TD 4208, an investigational drug being developed to treat people with moderate to very severe COPD, compared to placebo, a treatment without activity.",
         "2015-09",
         "2016-09"
        ],
        [
         "33567",
         "COMPLETED",
         "PHASE3",
         "Efficacy of Esomeprazole in Patients With Frequent Heartburn",
         "A Phase III Multi-Center, Randomized, Double-Blind, Placebo-Controlled, Parallel Group Trial of 14 Day Treatment With Esomeprazole 20 mg Once Daily in Subjects With Frequent Heartburn",
         "This study will investigate the efficacy of esomeprazole 20 mg once a day in the treatment of frequent heartburn",
         "2011-08",
         "2011-10"
        ],
        [
         "20171",
         "COMPLETED",
         "PHASE3",
         "Efficacy of Esomeprazole in Patients With Frequent Heartburn",
         "A Phase III Multi-Center, Randomized, Double-Blind, Placebo-Controlled, Parallel Group Trial of 14 Day Treatment With Esomeprazole 20 mg Once Daily in Subjects With Frequent Heartburn",
         "This study will investigate the efficacy of esomeprazole 20 mg once a day in the treatment of frequent heartburn",
         "2011-08",
         "2011-10"
        ],
        [
         "15822",
         "COMPLETED",
         "PHASE3",
         "Phase 3 Papulopustular Rosacea Study",
         "A Phase 3 Randomized, Double Blind, 12 Week Vehicle Controlled, Parallel Group Study Assessing the Efficacy and Safety of CD5024 1 % Cream Versus Vehicle Cream in Subjects With Papulopustular Rosacea, Followed by a 40 Week Investigator Blinded Extension Comparing the Long Term Safety of CD5024 1% Cream Versus Azelaic Acid 15 % Gel.",
         "The purpose of this study is to demonstrate that CD5024 1% cream is more effective than its vehicle when applied once daily, at bed time, during a 12 week period in subjects with Papulopustular Rosacea (PPR) and continues to be safe up to 12 months.",
         "2011-12",
         "2013-08"
        ],
        [
         "72025",
         "COMPLETED",
         "PHASE3",
         "Phase 3 Papulopustular Rosacea Study",
         "A Phase 3 Randomized, Double Blind, 12 Week Vehicle Controlled, Parallel Group Study Assessing the Efficacy and Safety of CD5024 1 % Cream Versus Vehicle Cream in Subjects With Papulopustular Rosacea, Followed by a 40 Week Investigator Blinded Extension Comparing the Long Term Safety of CD5024 1% Cream Versus Azelaic Acid 15 % Gel.",
         "The purpose of this study is to demonstrate that CD5024 1% cream is more effective than its vehicle when applied once daily, at bed time, during a 12 week period in subjects with Papulopustular Rosacea (PPR) and continues to be safe up to 12 months.",
         "2011-12",
         "2013-08"
        ],
        [
         "34082",
         "WITHDRAWN",
         "PHASE3",
         "Study Comparing Product 0405 to a Vehicle Control in the Treatment of Mild to Moderate Atopic Dermatitis in Pediatric Subjects",
         "A Multi-Center, Double-Blind, Randomized, Vehicle-Controlled, Parallel-Group Study Comparing Product 0405 To A Vehicle Control In The Treatment Of Mild To Moderate Atopic Dermatitis In Pediatric Subjects",
         "The purpose of this study is to evaluate the safety and efficacy of product 0405 in pediatric subjects with Mild to Moderate Atopic Dermatitis.",
         "2012-06",
         "2013-05"
        ],
        [
         "69914",
         "WITHDRAWN",
         "PHASE3",
         "Study Comparing Product 0405 to a Vehicle Control in the Treatment of Mild to Moderate Atopic Dermatitis in Pediatric Subjects",
         "A Multi-Center, Double-Blind, Randomized, Vehicle-Controlled, Parallel-Group Study Comparing Product 0405 To A Vehicle Control In The Treatment Of Mild To Moderate Atopic Dermatitis In Pediatric Subjects",
         "The purpose of this study is to evaluate the safety and efficacy of product 0405 in pediatric subjects with Mild to Moderate Atopic Dermatitis.",
         "2012-06",
         "2013-05"
        ],
        [
         "25832",
         "WITHDRAWN",
         "PHASE3",
         "Study Evaluating Tigecycline Versus Ceftriaxone In Complicated Intra-Abdominal Infections & Community Acquired Pneumonia",
         "Multicenter, Randomized, And Double-Blind Study To Evaluate The Safety Of Tigecycline Versus A Ceftriaxone Regimen In The Treatment Of Complicated Intra-Abdominal Infections And Community-Acquired Pneumonia In Subjects Of 8-17 Years",
         "The main purpose of this study is to compare the safety of tigecycline versus a ceftriaxone regimen in pediatric subjects (aged 8 to 17 years) with complicated intra-abdominal infections (cIAI) and community acquired pneumonia (CAP).",
         "2011-01",
         "2014-05"
        ],
        [
         "61675",
         "WITHDRAWN",
         "PHASE3",
         "Study Evaluating Tigecycline Versus Ceftriaxone In Complicated Intra-Abdominal Infections & Community Acquired Pneumonia",
         "Multicenter, Randomized, And Double-Blind Study To Evaluate The Safety Of Tigecycline Versus A Ceftriaxone Regimen In The Treatment Of Complicated Intra-Abdominal Infections And Community-Acquired Pneumonia In Subjects Of 8-17 Years",
         "The main purpose of this study is to compare the safety of tigecycline versus a ceftriaxone regimen in pediatric subjects (aged 8 to 17 years) with complicated intra-abdominal infections (cIAI) and community acquired pneumonia (CAP).",
         "2011-01",
         "2014-05"
        ],
        [
         "8070",
         "TERMINATED",
         "PHASE3",
         "Study of the Safety and Effectiveness of Two Doses of Investigational Study Drug EVP-6124 in Subjects With Alzheimer's Disease",
         "A Randomized, Double-blind, Placebo-controlled, Parallel-Group, 26-Week, Phase 3 Study of 2 Doses of EVP-6124 or Placebo in Subjects With Mild to Moderate Alzheimer's Disease Currently or Previously Receiving an Acetylcholinesterase Inhibitor Medication",
         "The purpose of this study is to evaluate the safety and efficacy of 2 fixed doses of EVP-6124 compared to placebo for 26 weeks in subjects with mild to moderate Alzheimer's disease currently receiving stable treatment or previously treated with an acetylcholinesterase inhibitor.",
         "2013-10",
         "2017-01"
        ],
        [
         "44040",
         "TERMINATED",
         "PHASE3",
         "Study of the Safety and Effectiveness of Two Doses of Investigational Study Drug EVP-6124 in Subjects With Alzheimer's Disease",
         "A Randomized, Double-blind, Placebo-controlled, Parallel-Group, 26-Week, Phase 3 Study of 2 Doses of EVP-6124 or Placebo in Subjects With Mild to Moderate Alzheimer's Disease Currently or Previously Receiving an Acetylcholinesterase Inhibitor Medication",
         "The purpose of this study is to evaluate the safety and efficacy of 2 fixed doses of EVP-6124 compared to placebo for 26 weeks in subjects with mild to moderate Alzheimer's disease currently receiving stable treatment or previously treated with an acetylcholinesterase inhibitor.",
         "2013-10",
         "2017-01"
        ],
        [
         "57075",
         "COMPLETED",
         "PHASE3",
         "Topical Antifungal Treatment for Tinea Pedis",
         "A Randomized, Multi-Center, Double-Blind, Vehicle-Controlled Study Evaluating the Efficacy and Safety of Product 33525 in Subjects With Tinea Pedis",
         "The purpose of this study is to determine if a topical antifungal cream is safe and effective for the treatment of tinea pedis.",
         "2011-07",
         "2012-03"
        ],
        [
         "23549",
         "COMPLETED",
         "PHASE3",
         "Topical Antifungal Treatment for Tinea Pedis",
         "A Randomized, Multi-Center, Double-Blind, Vehicle-Controlled Study Evaluating the Efficacy and Safety of Product 33525 in Subjects With Tinea Pedis",
         "The purpose of this study is to determine if a topical antifungal cream is safe and effective for the treatment of tinea pedis.",
         "2011-07",
         "2012-03"
        ]
       ],
       "shape": {
        "columns": 7,
        "rows": 23
       }
      },
      "text/html": [
       "<div>\n",
       "<style scoped>\n",
       "    .dataframe tbody tr th:only-of-type {\n",
       "        vertical-align: middle;\n",
       "    }\n",
       "\n",
       "    .dataframe tbody tr th {\n",
       "        vertical-align: top;\n",
       "    }\n",
       "\n",
       "    .dataframe thead th {\n",
       "        text-align: right;\n",
       "    }\n",
       "</style>\n",
       "<table border=\"1\" class=\"dataframe\">\n",
       "  <thead>\n",
       "    <tr style=\"text-align: right;\">\n",
       "      <th></th>\n",
       "      <th>Study Status</th>\n",
       "      <th>Phases</th>\n",
       "      <th>Study Title</th>\n",
       "      <th>official_title</th>\n",
       "      <th>Brief Summary</th>\n",
       "      <th>Start Date</th>\n",
       "      <th>Completion Date</th>\n",
       "    </tr>\n",
       "  </thead>\n",
       "  <tbody>\n",
       "    <tr>\n",
       "      <th>2648</th>\n",
       "      <td>TERMINATED</td>\n",
       "      <td>PHASE3</td>\n",
       "      <td>A Phase 3 Safety and Efficacy Study of Fovista...</td>\n",
       "      <td>A Phase 3 Randomized, Double-masked, Controlle...</td>\n",
       "      <td>The objectives of this study are to evaluate t...</td>\n",
       "      <td>2013-08</td>\n",
       "      <td>2016-12</td>\n",
       "    </tr>\n",
       "    <tr>\n",
       "      <th>71430</th>\n",
       "      <td>TERMINATED</td>\n",
       "      <td>PHASE3</td>\n",
       "      <td>A Phase 3 Safety and Efficacy Study of Fovista...</td>\n",
       "      <td>A Phase 3 Randomized, Double-masked, Controlle...</td>\n",
       "      <td>The objectives of this study are to evaluate t...</td>\n",
       "      <td>2013-08</td>\n",
       "      <td>2016-12</td>\n",
       "    </tr>\n",
       "    <tr>\n",
       "      <th>3538</th>\n",
       "      <td>COMPLETED</td>\n",
       "      <td>PHASE3</td>\n",
       "      <td>A Study of the Efficacy and Safety of DFD-06 C...</td>\n",
       "      <td>A Randomized, Double-Blind, Vehicle-Controlled...</td>\n",
       "      <td>This study will compare the efficacy and safet...</td>\n",
       "      <td>2015-12</td>\n",
       "      <td>2016-07</td>\n",
       "    </tr>\n",
       "    <tr>\n",
       "      <th>49258</th>\n",
       "      <td>COMPLETED</td>\n",
       "      <td>PHASE3</td>\n",
       "      <td>A Study of the Efficacy and Safety of DFD-06 C...</td>\n",
       "      <td>A Randomized, Double-Blind, Vehicle-Controlled...</td>\n",
       "      <td>This study will compare the efficacy and safet...</td>\n",
       "      <td>2015-12</td>\n",
       "      <td>2016-07</td>\n",
       "    </tr>\n",
       "    <tr>\n",
       "      <th>53348</th>\n",
       "      <td>COMPLETED</td>\n",
       "      <td>PHASE3</td>\n",
       "      <td>Ceftazidime-Avibactam Compared With Doripenem ...</td>\n",
       "      <td>A Phase III, Randomized, Multicenter, Double-B...</td>\n",
       "      <td>The purpose of this study is to evaluate the e...</td>\n",
       "      <td>2012-10</td>\n",
       "      <td>2014-08</td>\n",
       "    </tr>\n",
       "    <tr>\n",
       "      <th>23595</th>\n",
       "      <td>COMPLETED</td>\n",
       "      <td>PHASE3</td>\n",
       "      <td>Ceftazidime-Avibactam Compared With Doripenem ...</td>\n",
       "      <td>A Phase III, Randomized, Multicenter, Double-B...</td>\n",
       "      <td>The purpose of this study is to evaluate the e...</td>\n",
       "      <td>2012-10</td>\n",
       "      <td>2014-08</td>\n",
       "    </tr>\n",
       "    <tr>\n",
       "      <th>44741</th>\n",
       "      <td>COMPLETED</td>\n",
       "      <td>PHASE1|PHASE2</td>\n",
       "      <td>Effect of Bronchoscopy on the Outcome of Patie...</td>\n",
       "      <td>Effect of Bronchoscopy on the Outcome of Patie...</td>\n",
       "      <td>to evaluate the effect of use of bronchoscopy ...</td>\n",
       "      <td>2020-07-02</td>\n",
       "      <td>2021-12-01</td>\n",
       "    </tr>\n",
       "    <tr>\n",
       "      <th>75572</th>\n",
       "      <td>COMPLETED</td>\n",
       "      <td>PHASE1|PHASE2</td>\n",
       "      <td>Effect of Bronchoscopy on the Outcome of Patie...</td>\n",
       "      <td>Effect of Bronchoscopy on the Outcome of Patie...</td>\n",
       "      <td>to evaluate the effect of use of bronchoscopy ...</td>\n",
       "      <td>2020-07-02</td>\n",
       "      <td>2021-12-01</td>\n",
       "    </tr>\n",
       "    <tr>\n",
       "      <th>2905</th>\n",
       "      <td>COMPLETED</td>\n",
       "      <td>PHASE1|PHASE2</td>\n",
       "      <td>Effect of Bronchoscopy on the Outcome of Patie...</td>\n",
       "      <td>Effect of Bronchoscopy on the Outcome of Patie...</td>\n",
       "      <td>to evaluate the effect of use of bronchoscopy ...</td>\n",
       "      <td>2020-07-02</td>\n",
       "      <td>2021-12-01</td>\n",
       "    </tr>\n",
       "    <tr>\n",
       "      <th>73332</th>\n",
       "      <td>COMPLETED</td>\n",
       "      <td>PHASE3</td>\n",
       "      <td>Efficacy Study of Nebulized TD-4208 for Chroni...</td>\n",
       "      <td>A Phase 3, 12-week, Randomized, Double-blind P...</td>\n",
       "      <td>The purpose of this study is to measure the ef...</td>\n",
       "      <td>2015-09</td>\n",
       "      <td>2016-09</td>\n",
       "    </tr>\n",
       "    <tr>\n",
       "      <th>46978</th>\n",
       "      <td>COMPLETED</td>\n",
       "      <td>PHASE3</td>\n",
       "      <td>Efficacy Study of Nebulized TD-4208 for Chroni...</td>\n",
       "      <td>A Phase 3, 12-week, Randomized, Double-blind P...</td>\n",
       "      <td>The purpose of this study is to measure the ef...</td>\n",
       "      <td>2015-09</td>\n",
       "      <td>2016-09</td>\n",
       "    </tr>\n",
       "    <tr>\n",
       "      <th>33567</th>\n",
       "      <td>COMPLETED</td>\n",
       "      <td>PHASE3</td>\n",
       "      <td>Efficacy of Esomeprazole in Patients With Freq...</td>\n",
       "      <td>A Phase III Multi-Center, Randomized, Double-B...</td>\n",
       "      <td>This study will investigate the efficacy of es...</td>\n",
       "      <td>2011-08</td>\n",
       "      <td>2011-10</td>\n",
       "    </tr>\n",
       "    <tr>\n",
       "      <th>20171</th>\n",
       "      <td>COMPLETED</td>\n",
       "      <td>PHASE3</td>\n",
       "      <td>Efficacy of Esomeprazole in Patients With Freq...</td>\n",
       "      <td>A Phase III Multi-Center, Randomized, Double-B...</td>\n",
       "      <td>This study will investigate the efficacy of es...</td>\n",
       "      <td>2011-08</td>\n",
       "      <td>2011-10</td>\n",
       "    </tr>\n",
       "    <tr>\n",
       "      <th>15822</th>\n",
       "      <td>COMPLETED</td>\n",
       "      <td>PHASE3</td>\n",
       "      <td>Phase 3 Papulopustular Rosacea Study</td>\n",
       "      <td>A Phase 3 Randomized, Double Blind, 12 Week Ve...</td>\n",
       "      <td>The purpose of this study is to demonstrate th...</td>\n",
       "      <td>2011-12</td>\n",
       "      <td>2013-08</td>\n",
       "    </tr>\n",
       "    <tr>\n",
       "      <th>72025</th>\n",
       "      <td>COMPLETED</td>\n",
       "      <td>PHASE3</td>\n",
       "      <td>Phase 3 Papulopustular Rosacea Study</td>\n",
       "      <td>A Phase 3 Randomized, Double Blind, 12 Week Ve...</td>\n",
       "      <td>The purpose of this study is to demonstrate th...</td>\n",
       "      <td>2011-12</td>\n",
       "      <td>2013-08</td>\n",
       "    </tr>\n",
       "    <tr>\n",
       "      <th>34082</th>\n",
       "      <td>WITHDRAWN</td>\n",
       "      <td>PHASE3</td>\n",
       "      <td>Study Comparing Product 0405 to a Vehicle Cont...</td>\n",
       "      <td>A Multi-Center, Double-Blind, Randomized, Vehi...</td>\n",
       "      <td>The purpose of this study is to evaluate the s...</td>\n",
       "      <td>2012-06</td>\n",
       "      <td>2013-05</td>\n",
       "    </tr>\n",
       "    <tr>\n",
       "      <th>69914</th>\n",
       "      <td>WITHDRAWN</td>\n",
       "      <td>PHASE3</td>\n",
       "      <td>Study Comparing Product 0405 to a Vehicle Cont...</td>\n",
       "      <td>A Multi-Center, Double-Blind, Randomized, Vehi...</td>\n",
       "      <td>The purpose of this study is to evaluate the s...</td>\n",
       "      <td>2012-06</td>\n",
       "      <td>2013-05</td>\n",
       "    </tr>\n",
       "    <tr>\n",
       "      <th>25832</th>\n",
       "      <td>WITHDRAWN</td>\n",
       "      <td>PHASE3</td>\n",
       "      <td>Study Evaluating Tigecycline Versus Ceftriaxon...</td>\n",
       "      <td>Multicenter, Randomized, And Double-Blind Stud...</td>\n",
       "      <td>The main purpose of this study is to compare t...</td>\n",
       "      <td>2011-01</td>\n",
       "      <td>2014-05</td>\n",
       "    </tr>\n",
       "    <tr>\n",
       "      <th>61675</th>\n",
       "      <td>WITHDRAWN</td>\n",
       "      <td>PHASE3</td>\n",
       "      <td>Study Evaluating Tigecycline Versus Ceftriaxon...</td>\n",
       "      <td>Multicenter, Randomized, And Double-Blind Stud...</td>\n",
       "      <td>The main purpose of this study is to compare t...</td>\n",
       "      <td>2011-01</td>\n",
       "      <td>2014-05</td>\n",
       "    </tr>\n",
       "    <tr>\n",
       "      <th>8070</th>\n",
       "      <td>TERMINATED</td>\n",
       "      <td>PHASE3</td>\n",
       "      <td>Study of the Safety and Effectiveness of Two D...</td>\n",
       "      <td>A Randomized, Double-blind, Placebo-controlled...</td>\n",
       "      <td>The purpose of this study is to evaluate the s...</td>\n",
       "      <td>2013-10</td>\n",
       "      <td>2017-01</td>\n",
       "    </tr>\n",
       "    <tr>\n",
       "      <th>44040</th>\n",
       "      <td>TERMINATED</td>\n",
       "      <td>PHASE3</td>\n",
       "      <td>Study of the Safety and Effectiveness of Two D...</td>\n",
       "      <td>A Randomized, Double-blind, Placebo-controlled...</td>\n",
       "      <td>The purpose of this study is to evaluate the s...</td>\n",
       "      <td>2013-10</td>\n",
       "      <td>2017-01</td>\n",
       "    </tr>\n",
       "    <tr>\n",
       "      <th>57075</th>\n",
       "      <td>COMPLETED</td>\n",
       "      <td>PHASE3</td>\n",
       "      <td>Topical Antifungal Treatment for Tinea Pedis</td>\n",
       "      <td>A Randomized, Multi-Center, Double-Blind, Vehi...</td>\n",
       "      <td>The purpose of this study is to determine if a...</td>\n",
       "      <td>2011-07</td>\n",
       "      <td>2012-03</td>\n",
       "    </tr>\n",
       "    <tr>\n",
       "      <th>23549</th>\n",
       "      <td>COMPLETED</td>\n",
       "      <td>PHASE3</td>\n",
       "      <td>Topical Antifungal Treatment for Tinea Pedis</td>\n",
       "      <td>A Randomized, Multi-Center, Double-Blind, Vehi...</td>\n",
       "      <td>The purpose of this study is to determine if a...</td>\n",
       "      <td>2011-07</td>\n",
       "      <td>2012-03</td>\n",
       "    </tr>\n",
       "  </tbody>\n",
       "</table>\n",
       "</div>"
      ],
      "text/plain": [
       "      Study Status         Phases  \\\n",
       "2648    TERMINATED         PHASE3   \n",
       "71430   TERMINATED         PHASE3   \n",
       "3538     COMPLETED         PHASE3   \n",
       "49258    COMPLETED         PHASE3   \n",
       "53348    COMPLETED         PHASE3   \n",
       "23595    COMPLETED         PHASE3   \n",
       "44741    COMPLETED  PHASE1|PHASE2   \n",
       "75572    COMPLETED  PHASE1|PHASE2   \n",
       "2905     COMPLETED  PHASE1|PHASE2   \n",
       "73332    COMPLETED         PHASE3   \n",
       "46978    COMPLETED         PHASE3   \n",
       "33567    COMPLETED         PHASE3   \n",
       "20171    COMPLETED         PHASE3   \n",
       "15822    COMPLETED         PHASE3   \n",
       "72025    COMPLETED         PHASE3   \n",
       "34082    WITHDRAWN         PHASE3   \n",
       "69914    WITHDRAWN         PHASE3   \n",
       "25832    WITHDRAWN         PHASE3   \n",
       "61675    WITHDRAWN         PHASE3   \n",
       "8070    TERMINATED         PHASE3   \n",
       "44040   TERMINATED         PHASE3   \n",
       "57075    COMPLETED         PHASE3   \n",
       "23549    COMPLETED         PHASE3   \n",
       "\n",
       "                                             Study Title  \\\n",
       "2648   A Phase 3 Safety and Efficacy Study of Fovista...   \n",
       "71430  A Phase 3 Safety and Efficacy Study of Fovista...   \n",
       "3538   A Study of the Efficacy and Safety of DFD-06 C...   \n",
       "49258  A Study of the Efficacy and Safety of DFD-06 C...   \n",
       "53348  Ceftazidime-Avibactam Compared With Doripenem ...   \n",
       "23595  Ceftazidime-Avibactam Compared With Doripenem ...   \n",
       "44741  Effect of Bronchoscopy on the Outcome of Patie...   \n",
       "75572  Effect of Bronchoscopy on the Outcome of Patie...   \n",
       "2905   Effect of Bronchoscopy on the Outcome of Patie...   \n",
       "73332  Efficacy Study of Nebulized TD-4208 for Chroni...   \n",
       "46978  Efficacy Study of Nebulized TD-4208 for Chroni...   \n",
       "33567  Efficacy of Esomeprazole in Patients With Freq...   \n",
       "20171  Efficacy of Esomeprazole in Patients With Freq...   \n",
       "15822               Phase 3 Papulopustular Rosacea Study   \n",
       "72025               Phase 3 Papulopustular Rosacea Study   \n",
       "34082  Study Comparing Product 0405 to a Vehicle Cont...   \n",
       "69914  Study Comparing Product 0405 to a Vehicle Cont...   \n",
       "25832  Study Evaluating Tigecycline Versus Ceftriaxon...   \n",
       "61675  Study Evaluating Tigecycline Versus Ceftriaxon...   \n",
       "8070   Study of the Safety and Effectiveness of Two D...   \n",
       "44040  Study of the Safety and Effectiveness of Two D...   \n",
       "57075       Topical Antifungal Treatment for Tinea Pedis   \n",
       "23549       Topical Antifungal Treatment for Tinea Pedis   \n",
       "\n",
       "                                          official_title  \\\n",
       "2648   A Phase 3 Randomized, Double-masked, Controlle...   \n",
       "71430  A Phase 3 Randomized, Double-masked, Controlle...   \n",
       "3538   A Randomized, Double-Blind, Vehicle-Controlled...   \n",
       "49258  A Randomized, Double-Blind, Vehicle-Controlled...   \n",
       "53348  A Phase III, Randomized, Multicenter, Double-B...   \n",
       "23595  A Phase III, Randomized, Multicenter, Double-B...   \n",
       "44741  Effect of Bronchoscopy on the Outcome of Patie...   \n",
       "75572  Effect of Bronchoscopy on the Outcome of Patie...   \n",
       "2905   Effect of Bronchoscopy on the Outcome of Patie...   \n",
       "73332  A Phase 3, 12-week, Randomized, Double-blind P...   \n",
       "46978  A Phase 3, 12-week, Randomized, Double-blind P...   \n",
       "33567  A Phase III Multi-Center, Randomized, Double-B...   \n",
       "20171  A Phase III Multi-Center, Randomized, Double-B...   \n",
       "15822  A Phase 3 Randomized, Double Blind, 12 Week Ve...   \n",
       "72025  A Phase 3 Randomized, Double Blind, 12 Week Ve...   \n",
       "34082  A Multi-Center, Double-Blind, Randomized, Vehi...   \n",
       "69914  A Multi-Center, Double-Blind, Randomized, Vehi...   \n",
       "25832  Multicenter, Randomized, And Double-Blind Stud...   \n",
       "61675  Multicenter, Randomized, And Double-Blind Stud...   \n",
       "8070   A Randomized, Double-blind, Placebo-controlled...   \n",
       "44040  A Randomized, Double-blind, Placebo-controlled...   \n",
       "57075  A Randomized, Multi-Center, Double-Blind, Vehi...   \n",
       "23549  A Randomized, Multi-Center, Double-Blind, Vehi...   \n",
       "\n",
       "                                           Brief Summary  Start Date  \\\n",
       "2648   The objectives of this study are to evaluate t...     2013-08   \n",
       "71430  The objectives of this study are to evaluate t...     2013-08   \n",
       "3538   This study will compare the efficacy and safet...     2015-12   \n",
       "49258  This study will compare the efficacy and safet...     2015-12   \n",
       "53348  The purpose of this study is to evaluate the e...     2012-10   \n",
       "23595  The purpose of this study is to evaluate the e...     2012-10   \n",
       "44741  to evaluate the effect of use of bronchoscopy ...  2020-07-02   \n",
       "75572  to evaluate the effect of use of bronchoscopy ...  2020-07-02   \n",
       "2905   to evaluate the effect of use of bronchoscopy ...  2020-07-02   \n",
       "73332  The purpose of this study is to measure the ef...     2015-09   \n",
       "46978  The purpose of this study is to measure the ef...     2015-09   \n",
       "33567  This study will investigate the efficacy of es...     2011-08   \n",
       "20171  This study will investigate the efficacy of es...     2011-08   \n",
       "15822  The purpose of this study is to demonstrate th...     2011-12   \n",
       "72025  The purpose of this study is to demonstrate th...     2011-12   \n",
       "34082  The purpose of this study is to evaluate the s...     2012-06   \n",
       "69914  The purpose of this study is to evaluate the s...     2012-06   \n",
       "25832  The main purpose of this study is to compare t...     2011-01   \n",
       "61675  The main purpose of this study is to compare t...     2011-01   \n",
       "8070   The purpose of this study is to evaluate the s...     2013-10   \n",
       "44040  The purpose of this study is to evaluate the s...     2013-10   \n",
       "57075  The purpose of this study is to determine if a...     2011-07   \n",
       "23549  The purpose of this study is to determine if a...     2011-07   \n",
       "\n",
       "      Completion Date  \n",
       "2648          2016-12  \n",
       "71430         2016-12  \n",
       "3538          2016-07  \n",
       "49258         2016-07  \n",
       "53348         2014-08  \n",
       "23595         2014-08  \n",
       "44741      2021-12-01  \n",
       "75572      2021-12-01  \n",
       "2905       2021-12-01  \n",
       "73332         2016-09  \n",
       "46978         2016-09  \n",
       "33567         2011-10  \n",
       "20171         2011-10  \n",
       "15822         2013-08  \n",
       "72025         2013-08  \n",
       "34082         2013-05  \n",
       "69914         2013-05  \n",
       "25832         2014-05  \n",
       "61675         2014-05  \n",
       "8070          2017-01  \n",
       "44040         2017-01  \n",
       "57075         2012-03  \n",
       "23549         2012-03  "
      ]
     },
     "metadata": {},
     "output_type": "display_data"
    },
    {
     "data": {
      "text/plain": [
       "(79204, 31)"
      ]
     },
     "metadata": {},
     "output_type": "display_data"
    }
   ],
   "source": [
    "display(df.duplicated().value_counts())  \n",
    "\n",
    "display(df.describe(include = ['object'])[[\n",
    "    \"nct_id\", 'Study Status', 'Phases', \"Study Title\", \"official_title\", 'Start Date', 'Completion Date'\n",
    "    ]])\n",
    "display(df[df.duplicated(subset = [\n",
    "    'Study Status', 'Phases', \"Study Title\", 'official_title', 'Brief Summary', 'Start Date', 'Completion Date'\n",
    "    ], keep = False)][[\n",
    "        'Study Status', 'Phases', \"Study Title\", 'official_title', 'Brief Summary', 'Start Date', 'Completion Date'\n",
    "        ]].sort_values(by = \"Study Title\"))  \n",
    "\n",
    "df = df.drop_duplicates(subset = [\n",
    "    'Study Status', 'Phases', \"Study Title\", 'official_title', 'Brief Summary', 'Start Date', 'Completion Date'\n",
    "    ], keep = 'first').reset_index(drop = True)\n",
    "\n",
    "display(df.shape)"
   ]
  },
  {
   "cell_type": "markdown",
   "metadata": {},
   "source": [
    "# Columns Format Dtypes"
   ]
  },
  {
   "cell_type": "markdown",
   "metadata": {},
   "source": [
    "## Phases_List\n",
    "- 5 phases and NA: \n",
    "1. Early Phase 1 (Phase 0) --> Not used. Out of this studies purpose\n",
    "2. Phase 1, \n",
    "3. Phase 2, \n",
    "4. Phase 3,  \n",
    "5. Phase 4. \n",
    "6. Not Applicable --> without FDA-defined phases. Regards devices, behavioral trials etc. . --> Not used. Out of this studies purpose\n",
    "\n"
   ]
  },
  {
   "cell_type": "code",
   "execution_count": 6,
   "metadata": {},
   "outputs": [
    {
     "data": {
      "application/vnd.microsoft.datawrangler.viewer.v0+json": {
       "columns": [
        {
         "name": "Phases_List",
         "rawType": "object",
         "type": "string"
        },
        {
         "name": "count",
         "rawType": "int64",
         "type": "integer"
        }
       ],
       "ref": "783cfb77-298f-4a5f-b26f-29e2ed308177",
       "rows": [
        [
         "PHASE1",
         "22233"
        ],
        [
         "PHASE2",
         "21415"
        ],
        [
         "PHASE3",
         "14090"
        ],
        [
         "PHASE4",
         "13352"
        ],
        [
         "PHASE1|PHASE2",
         "5563"
        ],
        [
         "PHASE2|PHASE3",
         "2551"
        ]
       ],
       "shape": {
        "columns": 1,
        "rows": 6
       }
      },
      "text/plain": [
       "Phases_List\n",
       "PHASE1           22233\n",
       "PHASE2           21415\n",
       "PHASE3           14090\n",
       "PHASE4           13352\n",
       "PHASE1|PHASE2     5563\n",
       "PHASE2|PHASE3     2551\n",
       "Name: count, dtype: int64"
      ]
     },
     "metadata": {},
     "output_type": "display_data"
    },
    {
     "data": {
      "text/plain": [
       "(79204, 31)"
      ]
     },
     "metadata": {},
     "output_type": "display_data"
    },
    {
     "data": {
      "application/vnd.microsoft.datawrangler.viewer.v0+json": {
       "columns": [
        {
         "name": "Phases_List",
         "rawType": "object",
         "type": "unknown"
        },
        {
         "name": "count",
         "rawType": "int64",
         "type": "integer"
        }
       ],
       "ref": "4727addd-1c64-4435-ab1b-7abcec554165",
       "rows": [
        [
         "['PHASE1']",
         "22233"
        ],
        [
         "['PHASE2']",
         "21415"
        ],
        [
         "['PHASE3']",
         "14090"
        ],
        [
         "['PHASE4']",
         "13352"
        ],
        [
         "['PHASE1', 'PHASE2']",
         "5563"
        ],
        [
         "['PHASE2', 'PHASE3']",
         "2551"
        ]
       ],
       "shape": {
        "columns": 1,
        "rows": 6
       }
      },
      "text/plain": [
       "Phases_List\n",
       "[PHASE1]            22233\n",
       "[PHASE2]            21415\n",
       "[PHASE3]            14090\n",
       "[PHASE4]            13352\n",
       "[PHASE1, PHASE2]     5563\n",
       "[PHASE2, PHASE3]     2551\n",
       "Name: count, dtype: int64"
      ]
     },
     "metadata": {},
     "output_type": "display_data"
    },
    {
     "data": {
      "text/plain": [
       "(79204, 31)"
      ]
     },
     "metadata": {},
     "output_type": "display_data"
    }
   ],
   "source": [
    "df = df.rename(columns = {'Phases':'Phases_List'})\n",
    "display(df[\"Phases_List\"].value_counts(dropna=False))  \n",
    "display(df.shape)\n",
    "\n",
    "df[\"Phases_List\"] = df[\"Phases_List\"].str.split( \"|\" ) \n",
    "# No apply sort(list(x)) needed here - No duplicated elements with diff list-elem order\n",
    "\n",
    "display(df['Phases_List'].value_counts(dropna = False))\n",
    "display(df.shape)"
   ]
  },
  {
   "cell_type": "markdown",
   "metadata": {},
   "source": [
    "## Study_Status_Bin\n",
    "Information Source: https://clinicaltrials.gov/policy/protocol-definitions#study-status\n",
    "\n",
    "\n",
    "- Withdrawn Studies = Permenantely Stopped as Noted in Data Source. Withdrawn is Replaced as Terminated. "
   ]
  },
  {
   "cell_type": "code",
   "execution_count": 7,
   "metadata": {},
   "outputs": [
    {
     "data": {
      "application/vnd.microsoft.datawrangler.viewer.v0+json": {
       "columns": [
        {
         "name": "Study_Status_Bin",
         "rawType": "category",
         "type": "unknown"
        },
        {
         "name": "count",
         "rawType": "int64",
         "type": "integer"
        }
       ],
       "ref": "f4983acd-43b2-48e4-b056-4536d48d2280",
       "rows": [
        [
         "COMPLETED",
         "63535"
        ],
        [
         "TERMINATED",
         "15669"
        ]
       ],
       "shape": {
        "columns": 1,
        "rows": 2
       }
      },
      "text/plain": [
       "Study_Status_Bin\n",
       "COMPLETED     63535\n",
       "TERMINATED    15669\n",
       "Name: count, dtype: int64"
      ]
     },
     "metadata": {},
     "output_type": "display_data"
    },
    {
     "data": {
      "text/plain": [
       "(79204, 31)"
      ]
     },
     "metadata": {},
     "output_type": "display_data"
    }
   ],
   "source": [
    "df = df.rename(columns={\"Study Status\": \"Study_Status_Bin\"})\n",
    "df['Study_Status_Bin'] = df['Study_Status_Bin'].replace({\"WITHDRAWN\": \"TERMINATED\"})\n",
    "df[\"Study_Status_Bin\"] = df[\"Study_Status_Bin\"].astype(\"category\")\n",
    "display(df['Study_Status_Bin'].value_counts(dropna=False)) \n",
    "display(df.shape)"
   ]
  },
  {
   "cell_type": "markdown",
   "metadata": {},
   "source": [
    "## Age_List\n",
    "- Directly from csv - Structured format\n",
    "- No NaNs"
   ]
  },
  {
   "cell_type": "code",
   "execution_count": 8,
   "metadata": {},
   "outputs": [
    {
     "data": {
      "application/vnd.microsoft.datawrangler.viewer.v0+json": {
       "columns": [
        {
         "name": "Age",
         "rawType": "object",
         "type": "string"
        },
        {
         "name": "count",
         "rawType": "int64",
         "type": "integer"
        }
       ],
       "ref": "3068acd2-7ffe-4bad-aba9-dca8b3c16acc",
       "rows": [
        [
         "ADULT, OLDER_ADULT",
         "53235"
        ],
        [
         "ADULT",
         "15101"
        ],
        [
         "CHILD",
         "4038"
        ],
        [
         "CHILD, ADULT, OLDER_ADULT",
         "3860"
        ],
        [
         "CHILD, ADULT",
         "2349"
        ],
        [
         "OLDER_ADULT",
         "621"
        ]
       ],
       "shape": {
        "columns": 1,
        "rows": 6
       }
      },
      "text/plain": [
       "Age\n",
       "ADULT, OLDER_ADULT           53235\n",
       "ADULT                        15101\n",
       "CHILD                         4038\n",
       "CHILD, ADULT, OLDER_ADULT     3860\n",
       "CHILD, ADULT                  2349\n",
       "OLDER_ADULT                    621\n",
       "Name: count, dtype: int64"
      ]
     },
     "metadata": {},
     "output_type": "display_data"
    },
    {
     "data": {
      "application/vnd.microsoft.datawrangler.viewer.v0+json": {
       "columns": [
        {
         "name": "Age_List",
         "rawType": "object",
         "type": "unknown"
        },
        {
         "name": "count",
         "rawType": "int64",
         "type": "integer"
        }
       ],
       "ref": "98d200b6-4bc9-468e-845c-dc89ff959be6",
       "rows": [
        [
         "['ADULT', 'OLDER_ADULT']",
         "53235"
        ],
        [
         "['ADULT']",
         "15101"
        ],
        [
         "['CHILD']",
         "4038"
        ],
        [
         "['CHILD', 'ADULT', 'OLDER_ADULT']",
         "3860"
        ],
        [
         "['CHILD', 'ADULT']",
         "2349"
        ],
        [
         "['OLDER_ADULT']",
         "621"
        ]
       ],
       "shape": {
        "columns": 1,
        "rows": 6
       }
      },
      "text/plain": [
       "Age_List\n",
       "[ADULT, OLDER_ADULT]           53235\n",
       "[ADULT]                        15101\n",
       "[CHILD]                         4038\n",
       "[CHILD, ADULT, OLDER_ADULT]     3860\n",
       "[CHILD, ADULT]                  2349\n",
       "[OLDER_ADULT]                    621\n",
       "Name: count, dtype: int64"
      ]
     },
     "metadata": {},
     "output_type": "display_data"
    }
   ],
   "source": [
    "display(df[\"Age\"].value_counts(dropna=False))  \n",
    " \n",
    "df[\"Age\"] = df[\"Age\"].str.replace(', ', ',').str.split(\",\")   # No apply sort(list(x)) needed here - No duplicated elements with diff list-elem order\n",
    "\n",
    "# display(Counter([elem for row_list in df[\"Age\"].dropna() for elem in row_list]))  \n",
    "# display(set(elem for row_list in df[\"Age\"].dropna() for elem in row_list)) # Unique values in list-type element column\n",
    "\n",
    "df = df.rename(columns = {\"Age\": \"Age_List\"})\n",
    "\n",
    "display(df[\"Age_List\"].value_counts(dropna = False))  \n"
   ]
  },
  {
   "cell_type": "markdown",
   "metadata": {},
   "source": [
    "## Sex_List"
   ]
  },
  {
   "cell_type": "code",
   "execution_count": 9,
   "metadata": {},
   "outputs": [
    {
     "data": {
      "application/vnd.microsoft.datawrangler.viewer.v0+json": {
       "columns": [
        {
         "name": "Sex_List",
         "rawType": "object",
         "type": "unknown"
        },
        {
         "name": "count",
         "rawType": "int64",
         "type": "integer"
        }
       ],
       "ref": "f11dd11b-fc8b-416a-9e9c-0c1c1bb46293",
       "rows": [
        [
         "ALL",
         "68232"
        ],
        [
         "FEMALE",
         "5865"
        ],
        [
         "MALE",
         "5077"
        ],
        [
         null,
         "30"
        ]
       ],
       "shape": {
        "columns": 1,
        "rows": 4
       }
      },
      "text/plain": [
       "Sex_List\n",
       "ALL       68232\n",
       "FEMALE     5865\n",
       "MALE       5077\n",
       "NaN          30\n",
       "Name: count, dtype: int64"
      ]
     },
     "metadata": {},
     "output_type": "display_data"
    },
    {
     "data": {
      "text/plain": [
       "30"
      ]
     },
     "execution_count": 9,
     "metadata": {},
     "output_type": "execute_result"
    }
   ],
   "source": [
    "df = df.rename(columns = {\"Sex\": \"Sex_List\"})\n",
    "\n",
    "display(df[\"Sex_List\"].value_counts(dropna=False))  \n",
    "\n",
    "# Fillna from my_eligibilities df\n",
    "df = df.merge(my_eligibilities[[\"nct_id\", \"gender\"]], on = \"nct_id\", how = \"left\")\n",
    "df['Sex_List'] = df['Sex_List'].fillna(df['gender'])\n",
    "\n",
    "# Drop db column\n",
    "df = df.drop(columns = ['gender'])\n",
    "\n",
    "df[\"Sex_List\"].isnull().sum()  # Just 1 row/point filled\n"
   ]
  },
  {
   "cell_type": "markdown",
   "metadata": {},
   "source": [
    "### NaNs --> Drop\n",
    "- Fillna from Brief Summary\n",
    "- Remaining nulls --> Dropped as they were too little comparing to dataset"
   ]
  },
  {
   "cell_type": "code",
   "execution_count": 10,
   "metadata": {},
   "outputs": [
    {
     "data": {
      "text/plain": [
       "27"
      ]
     },
     "metadata": {},
     "output_type": "display_data"
    },
    {
     "data": {
      "text/plain": [
       "0"
      ]
     },
     "metadata": {},
     "output_type": "display_data"
    }
   ],
   "source": [
    "# Fillna from Biref Summary\n",
    "# male + female\n",
    "df.loc[ df[\"Sex_List\"].isnull() & df[\"Brief Summary\"].str.contains(r\"(?i)\\bmale\\b|\\bmen\\b\", na=False) & \\\n",
    "       df[\"Brief Summary\"].str.contains(r\"(?i)\\bfemale\\b|\\bwomen\\b\", na=False), \"Sex_List\"] = \"ALL\"\n",
    "# only female\n",
    "df.loc[ df[\"Sex_List\"].isnull() & df[\"Brief Summary\"].str.contains(r\"(?i)\\bfemale\\b|\\bwomen\\b\", na=False) & \\\n",
    "    ~ df[\"Brief Summary\"].str.contains(r\"(?i)\\bmale\\b|\\bmen\\b\", na=False), \"Sex_List\"] = \"FEMALE\"\n",
    "# only male\n",
    "df.loc[ df[\"Sex_List\"].isnull() & df[\"Brief Summary\"].str.contains(r\"(?i)\\bmale\\b|\\bmen\\b\", na=False) & \\\n",
    "       ~ df[\"Brief Summary\"].str.contains(r\"(?i)\\bfemale\\b|\\bwomen\\b\", na=False), \"Sex_List\"] = \"MALE\"\n",
    "\n",
    "display(df[\"Sex_List\"].isnull().sum()) # too little rows were filled from Brief Summary\n",
    "# NaNs --> Drop\n",
    "df = df.dropna(subset=['Sex_List'])\n",
    "display(df[\"Sex_List\"].isnull().sum())\n",
    "\n"
   ]
  },
  {
   "cell_type": "markdown",
   "metadata": {},
   "source": [
    "## Funder_Industry_Bin\n",
    "- Directly from csv - Structured format\n",
    "- No NaNs\n",
    "\n",
    "PRS Source: https://register.clinicaltrials.gov/prs/html/account-organizations.html#page-top\n",
    "Companies Source : https://companiesmarketcap.com/pharmaceuticals/largest-pharmaceutical-companies-by-market-cap/\n",
    "https://clinicaltrials.gov/study-basics/glossary\n",
    "\n",
    "ClinicalTrials.gov Documentation:\n",
    "1. U.S. National Institutes of Health\n",
    "2. Other U.S. Federal agencies (e.g., FDA, Centers for Disease Control and Prevention, or U.S. Department of Veterans Affairs)\n",
    "3. Industry (for example: pharmaceutical and device companies)\n",
    "4. All others (including individuals, universities, and community-based organizations)\n",
    "\n",
    "- Almost all Industry rows = Pharmaceutical"
   ]
  },
  {
   "cell_type": "code",
   "execution_count": 11,
   "metadata": {},
   "outputs": [
    {
     "data": {
      "application/vnd.microsoft.datawrangler.viewer.v0+json": {
       "columns": [
        {
         "name": "Funder_Industry_Bin",
         "rawType": "object",
         "type": "string"
        },
        {
         "name": "count",
         "rawType": "int64",
         "type": "integer"
        }
       ],
       "ref": "706c1e6f-03c6-4621-99af-6ecb7e56e3da",
       "rows": [
        [
         "INDUSTRY",
         "39525"
        ],
        [
         "OTHER",
         "36193"
        ],
        [
         "NIH",
         "1289"
        ],
        [
         "OTHER_GOV",
         "1089"
        ],
        [
         "NETWORK",
         "555"
        ],
        [
         "FED",
         "416"
        ],
        [
         "INDIV",
         "103"
        ],
        [
         "UNKNOWN",
         "7"
        ]
       ],
       "shape": {
        "columns": 1,
        "rows": 8
       }
      },
      "text/plain": [
       "Funder_Industry_Bin\n",
       "INDUSTRY     39525\n",
       "OTHER        36193\n",
       "NIH           1289\n",
       "OTHER_GOV     1089\n",
       "NETWORK        555\n",
       "FED            416\n",
       "INDIV          103\n",
       "UNKNOWN          7\n",
       "Name: count, dtype: int64"
      ]
     },
     "metadata": {},
     "output_type": "display_data"
    },
    {
     "data": {
      "application/vnd.microsoft.datawrangler.viewer.v0+json": {
       "columns": [
        {
         "name": "Funder_Industry_Bin",
         "rawType": "object",
         "type": "string"
        },
        {
         "name": "count",
         "rawType": "int64",
         "type": "integer"
        }
       ],
       "ref": "95428b9a-fdd1-4dca-8c02-2f36155f59de",
       "rows": [
        [
         "FUNDER_OTHER",
         "39652"
        ],
        [
         "INDUSTRY",
         "39525"
        ]
       ],
       "shape": {
        "columns": 1,
        "rows": 2
       }
      },
      "text/plain": [
       "Funder_Industry_Bin\n",
       "FUNDER_OTHER    39652\n",
       "INDUSTRY        39525\n",
       "Name: count, dtype: int64"
      ]
     },
     "metadata": {},
     "output_type": "display_data"
    },
    {
     "data": {
      "text/plain": [
       "(79177, 31)"
      ]
     },
     "metadata": {},
     "output_type": "display_data"
    }
   ],
   "source": [
    "df = df.rename(columns = {\"Funder Type\": \"Funder_Industry_Bin\"})\n",
    "display(df[\"Funder_Industry_Bin\"].value_counts(dropna = False))  \n",
    "\n",
    "# Merging Categories into more general \n",
    "# Some categories have too little samples (e.g., Thesis Vizual File)\n",
    "funder_map = {\n",
    "    'OTHER': 'FUNDER_OTHER',\n",
    "    'NETWORK': 'FUNDER_OTHER', \n",
    "    'INDIV': 'FUNDER_OTHER',\n",
    "    'UNKNOWN': 'FUNDER_OTHER',\n",
    "    'AMBIG': 'FUNDER_OTHER',\n",
    "    'INDUSTRY': 'INDUSTRY',\n",
    "    'OTHER_GOV': 'FUNDER_OTHER',  # at great risk of sparsity even if combined with FED and NIH\n",
    "    'FED': 'FUNDER_OTHER',\n",
    "    'NIH': 'FUNDER_OTHER'\n",
    "}\n",
    "df['Funder_Industry_Bin'] = df['Funder_Industry_Bin'].map(funder_map)\n",
    "\n",
    "display(df[\"Funder_Industry_Bin\"].value_counts(dropna=False))  \n",
    "display(df.shape)"
   ]
  },
  {
   "cell_type": "markdown",
   "metadata": {},
   "source": [
    "## Datetime\n",
    "- Source Date input : Filter dates have the format of mm/dd/yyyy. \n",
    "- Dates Displayed in Outputs (after filtering choices menu) have the Format of yyyy-mm-dd (or at least yyyy-mm).\n",
    "- All Datetimes converted to same format : Year-Month is Chosen as Many Dates Include only until Month.\n"
   ]
  },
  {
   "cell_type": "code",
   "execution_count": 12,
   "metadata": {},
   "outputs": [
    {
     "data": {
      "application/vnd.microsoft.datawrangler.viewer.v0+json": {
       "columns": [
        {
         "name": "('Start Date', 'Completion Date')",
         "rawType": "object",
         "type": "unknown"
        },
        {
         "name": "count",
         "rawType": "int64",
         "type": "integer"
        }
       ],
       "ref": "43099125-9cad-4e32-ad59-9bb82d29a8de",
       "rows": [
        [
         "(10, 10)",
         "47571"
        ],
        [
         "(7, 7)",
         "27042"
        ],
        [
         "(7, 10)",
         "3985"
        ],
        [
         "(10, 7)",
         "579"
        ]
       ],
       "shape": {
        "columns": 1,
        "rows": 4
       }
      },
      "text/plain": [
       "Start Date  Completion Date\n",
       "10          10                 47571\n",
       "7           7                  27042\n",
       "            10                  3985\n",
       "10          7                    579\n",
       "Name: count, dtype: int64"
      ]
     },
     "metadata": {},
     "output_type": "display_data"
    },
    {
     "data": {
      "application/vnd.microsoft.datawrangler.viewer.v0+json": {
       "columns": [
        {
         "name": "index",
         "rawType": "int64",
         "type": "integer"
        },
        {
         "name": "Start Date",
         "rawType": "period[M]",
         "type": "unknown"
        },
        {
         "name": "Completion Date",
         "rawType": "period[M]",
         "type": "unknown"
        }
       ],
       "ref": "77fba77b-4234-4202-b362-dd88f94c7b95",
       "rows": [
        [
         "0",
         "2014-06",
         "2014-08"
        ],
        [
         "1",
         "2013-01",
         "2013-10"
        ]
       ],
       "shape": {
        "columns": 2,
        "rows": 2
       }
      },
      "text/html": [
       "<div>\n",
       "<style scoped>\n",
       "    .dataframe tbody tr th:only-of-type {\n",
       "        vertical-align: middle;\n",
       "    }\n",
       "\n",
       "    .dataframe tbody tr th {\n",
       "        vertical-align: top;\n",
       "    }\n",
       "\n",
       "    .dataframe thead th {\n",
       "        text-align: right;\n",
       "    }\n",
       "</style>\n",
       "<table border=\"1\" class=\"dataframe\">\n",
       "  <thead>\n",
       "    <tr style=\"text-align: right;\">\n",
       "      <th></th>\n",
       "      <th>Start Date</th>\n",
       "      <th>Completion Date</th>\n",
       "    </tr>\n",
       "  </thead>\n",
       "  <tbody>\n",
       "    <tr>\n",
       "      <th>0</th>\n",
       "      <td>2014-06</td>\n",
       "      <td>2014-08</td>\n",
       "    </tr>\n",
       "    <tr>\n",
       "      <th>1</th>\n",
       "      <td>2013-01</td>\n",
       "      <td>2013-10</td>\n",
       "    </tr>\n",
       "  </tbody>\n",
       "</table>\n",
       "</div>"
      ],
      "text/plain": [
       "  Start Date Completion Date\n",
       "0    2014-06         2014-08\n",
       "1    2013-01         2013-10"
      ]
     },
     "metadata": {},
     "output_type": "display_data"
    }
   ],
   "source": [
    "# Dates are in yyyy-mm-dd (len=10) and yyyy-mm (len=7) format\n",
    "display(df[[\"Start Date\",\"Completion Date\"]].map(len, na_action = 'ignore').value_counts()) \n",
    "# display(df[[\"Start Date\",\"Completion Date\"]].map(len, na_action = 'ignore').nunique()) \n",
    "\n",
    "df[[\"Start Date\",\"Completion Date\"]] = df[[\"Start Date\",\"Completion Date\"]]\\\n",
    "    .apply(pd.to_datetime, format='%Y-%m', exact=False, errors='coerce')\n",
    "\n",
    "df[[\"Start Date\",\"Completion Date\"]] = df[[\"Start Date\",\"Completion Date\"]]\\\n",
    "    .apply(lambda col: col.dt.to_period('M'))\n",
    "\n",
    "display(df[[\"Start Date\",\"Completion Date\"]].head(2))"
   ]
  },
  {
   "cell_type": "markdown",
   "metadata": {},
   "source": [
    "### Datetime_Year"
   ]
  },
  {
   "cell_type": "code",
   "execution_count": 13,
   "metadata": {},
   "outputs": [
    {
     "data": {
      "application/vnd.microsoft.datawrangler.viewer.v0+json": {
       "columns": [
        {
         "name": "index",
         "rawType": "int64",
         "type": "integer"
        },
        {
         "name": "Start_Date_Year_Counts",
         "rawType": "Int64",
         "type": "integer"
        },
        {
         "name": "Completion_Date_Year_Counts",
         "rawType": "Int64",
         "type": "integer"
        }
       ],
       "ref": "2a54e080-73a1-44a7-9cf9-2904365f4ee1",
       "rows": [
        [
         "0",
         "2014",
         "2014"
        ],
        [
         "1",
         "2013",
         "2013"
        ],
        [
         "2",
         "2015",
         "2015"
        ],
        [
         "3",
         "2019",
         "2022"
        ],
        [
         "4",
         "2022",
         "2023"
        ],
        [
         "5",
         "2019",
         "2021"
        ],
        [
         "6",
         "2019",
         "2021"
        ],
        [
         "7",
         "2015",
         "2016"
        ],
        [
         "8",
         "2013",
         "2013"
        ],
        [
         "9",
         "2022",
         "2023"
        ],
        [
         "10",
         "2017",
         "2020"
        ],
        [
         "11",
         "2017",
         "2020"
        ],
        [
         "12",
         "2016",
         "2016"
        ],
        [
         "13",
         "2011",
         "2012"
        ],
        [
         "14",
         "2011",
         "2012"
        ],
        [
         "15",
         "2014",
         "2016"
        ],
        [
         "16",
         "2017",
         "2022"
        ],
        [
         "17",
         "2022",
         "2023"
        ],
        [
         "18",
         "2017",
         "2018"
        ],
        [
         "19",
         "2016",
         "2020"
        ],
        [
         "20",
         "2014",
         "2015"
        ],
        [
         "21",
         "2018",
         "2019"
        ],
        [
         "22",
         "2022",
         "2023"
        ],
        [
         "23",
         "2015",
         "2016"
        ],
        [
         "24",
         "2022",
         "2022"
        ],
        [
         "25",
         "2015",
         "2017"
        ],
        [
         "26",
         "2018",
         "2019"
        ],
        [
         "27",
         "2020",
         "2023"
        ],
        [
         "28",
         "2023",
         "2024"
        ],
        [
         "29",
         "2022",
         "2023"
        ],
        [
         "30",
         "2019",
         "2020"
        ],
        [
         "31",
         "2012",
         "2014"
        ],
        [
         "32",
         "2016",
         "2018"
        ],
        [
         "33",
         "2011",
         "2018"
        ],
        [
         "34",
         "2014",
         "2017"
        ],
        [
         "35",
         "2021",
         "2022"
        ],
        [
         "36",
         "2012",
         "2013"
        ],
        [
         "37",
         "2016",
         "2017"
        ],
        [
         "38",
         "2019",
         "2022"
        ],
        [
         "39",
         "2018",
         "2021"
        ],
        [
         "40",
         "2011",
         "2013"
        ],
        [
         "41",
         "2011",
         "2015"
        ],
        [
         "42",
         "2011",
         "2016"
        ],
        [
         "43",
         "2017",
         "2023"
        ],
        [
         "44",
         "2011",
         "2013"
        ],
        [
         "45",
         "2012",
         "2015"
        ],
        [
         "46",
         "2022",
         "2024"
        ],
        [
         "47",
         "2021",
         "2022"
        ],
        [
         "48",
         "2015",
         "2016"
        ],
        [
         "49",
         "2013",
         "2013"
        ]
       ],
       "shape": {
        "columns": 2,
        "rows": 79177
       }
      },
      "text/html": [
       "<div>\n",
       "<style scoped>\n",
       "    .dataframe tbody tr th:only-of-type {\n",
       "        vertical-align: middle;\n",
       "    }\n",
       "\n",
       "    .dataframe tbody tr th {\n",
       "        vertical-align: top;\n",
       "    }\n",
       "\n",
       "    .dataframe thead th {\n",
       "        text-align: right;\n",
       "    }\n",
       "</style>\n",
       "<table border=\"1\" class=\"dataframe\">\n",
       "  <thead>\n",
       "    <tr style=\"text-align: right;\">\n",
       "      <th></th>\n",
       "      <th>Start_Date_Year_Counts</th>\n",
       "      <th>Completion_Date_Year_Counts</th>\n",
       "    </tr>\n",
       "  </thead>\n",
       "  <tbody>\n",
       "    <tr>\n",
       "      <th>0</th>\n",
       "      <td>2014</td>\n",
       "      <td>2014</td>\n",
       "    </tr>\n",
       "    <tr>\n",
       "      <th>1</th>\n",
       "      <td>2013</td>\n",
       "      <td>2013</td>\n",
       "    </tr>\n",
       "    <tr>\n",
       "      <th>2</th>\n",
       "      <td>2015</td>\n",
       "      <td>2015</td>\n",
       "    </tr>\n",
       "    <tr>\n",
       "      <th>3</th>\n",
       "      <td>2019</td>\n",
       "      <td>2022</td>\n",
       "    </tr>\n",
       "    <tr>\n",
       "      <th>4</th>\n",
       "      <td>2022</td>\n",
       "      <td>2023</td>\n",
       "    </tr>\n",
       "    <tr>\n",
       "      <th>...</th>\n",
       "      <td>...</td>\n",
       "      <td>...</td>\n",
       "    </tr>\n",
       "    <tr>\n",
       "      <th>79199</th>\n",
       "      <td>2014</td>\n",
       "      <td>2015</td>\n",
       "    </tr>\n",
       "    <tr>\n",
       "      <th>79200</th>\n",
       "      <td>2011</td>\n",
       "      <td>2017</td>\n",
       "    </tr>\n",
       "    <tr>\n",
       "      <th>79201</th>\n",
       "      <td>2019</td>\n",
       "      <td>2019</td>\n",
       "    </tr>\n",
       "    <tr>\n",
       "      <th>79202</th>\n",
       "      <td>2016</td>\n",
       "      <td>2016</td>\n",
       "    </tr>\n",
       "    <tr>\n",
       "      <th>79203</th>\n",
       "      <td>2019</td>\n",
       "      <td>2020</td>\n",
       "    </tr>\n",
       "  </tbody>\n",
       "</table>\n",
       "<p>79177 rows × 2 columns</p>\n",
       "</div>"
      ],
      "text/plain": [
       "       Start_Date_Year_Counts  Completion_Date_Year_Counts\n",
       "0                        2014                         2014\n",
       "1                        2013                         2013\n",
       "2                        2015                         2015\n",
       "3                        2019                         2022\n",
       "4                        2022                         2023\n",
       "...                       ...                          ...\n",
       "79199                    2014                         2015\n",
       "79200                    2011                         2017\n",
       "79201                    2019                         2019\n",
       "79202                    2016                         2016\n",
       "79203                    2019                         2020\n",
       "\n",
       "[79177 rows x 2 columns]"
      ]
     },
     "metadata": {},
     "output_type": "display_data"
    }
   ],
   "source": [
    "df[[\"Start_Date_Year_Counts\", \"Completion_Date_Year_Counts\"]] = df[[\"Start Date\", \"Completion Date\"]]\\\n",
    "    .apply(lambda x: x.dt.year)\n",
    "\n",
    "df[\"Start_Date_Year_Counts\"] = pd.to_numeric(df[\"Start_Date_Year_Counts\"], errors=\"coerce\").astype(\"Int64\")\n",
    "df[\"Completion_Date_Year_Counts\"] = pd.to_numeric(df[\"Completion_Date_Year_Counts\"], errors=\"coerce\").astype(\"Int64\")\n",
    "\n",
    "display(df[[\"Start_Date_Year_Counts\",\"Completion_Date_Year_Counts\"]])\n"
   ]
  },
  {
   "cell_type": "markdown",
   "metadata": {},
   "source": [
    "### Completion_Gap"
   ]
  },
  {
   "cell_type": "code",
   "execution_count": 14,
   "metadata": {},
   "outputs": [
    {
     "data": {
      "application/vnd.microsoft.datawrangler.viewer.v0+json": {
       "columns": [
        {
         "name": "index",
         "rawType": "int64",
         "type": "integer"
        },
        {
         "name": "Completion_Gap_Counts",
         "rawType": "Int64",
         "type": "integer"
        }
       ],
       "ref": "9cdf4de0-30e9-4d11-8d03-096f7de7b5e4",
       "rows": [
        [
         "0",
         "2"
        ],
        [
         "1",
         "9"
        ]
       ],
       "shape": {
        "columns": 1,
        "rows": 2
       }
      },
      "text/html": [
       "<div>\n",
       "<style scoped>\n",
       "    .dataframe tbody tr th:only-of-type {\n",
       "        vertical-align: middle;\n",
       "    }\n",
       "\n",
       "    .dataframe tbody tr th {\n",
       "        vertical-align: top;\n",
       "    }\n",
       "\n",
       "    .dataframe thead th {\n",
       "        text-align: right;\n",
       "    }\n",
       "</style>\n",
       "<table border=\"1\" class=\"dataframe\">\n",
       "  <thead>\n",
       "    <tr style=\"text-align: right;\">\n",
       "      <th></th>\n",
       "      <th>Completion_Gap_Counts</th>\n",
       "    </tr>\n",
       "  </thead>\n",
       "  <tbody>\n",
       "    <tr>\n",
       "      <th>0</th>\n",
       "      <td>2</td>\n",
       "    </tr>\n",
       "    <tr>\n",
       "      <th>1</th>\n",
       "      <td>9</td>\n",
       "    </tr>\n",
       "  </tbody>\n",
       "</table>\n",
       "</div>"
      ],
      "text/plain": [
       "   Completion_Gap_Counts\n",
       "0                      2\n",
       "1                      9"
      ]
     },
     "metadata": {},
     "output_type": "display_data"
    }
   ],
   "source": [
    "df[\"Completion_Gap_Counts\"] = df[\"Completion Date\"] - df[\"Start Date\"]\n",
    "\n",
    "df[[\"Completion_Gap_Counts\"]] = df[[\"Completion_Gap_Counts\"]]\\\n",
    "    .apply(lambda col: col.astype('str').str.strip('< *MonthEnds>')\\\n",
    "           .replace(\"NaT\", np.NaN).replace(\"\", '0').astype('float'))\n",
    "\n",
    "df[[\"Completion_Gap_Counts\",]] = df[[\"Completion_Gap_Counts\"]].convert_dtypes(convert_integer = True)\n",
    "\n",
    "display(df[[\"Completion_Gap_Counts\"]].head(2))\n"
   ]
  },
  {
   "cell_type": "markdown",
   "metadata": {},
   "source": [
    "### Completion_Gap_Log"
   ]
  },
  {
   "cell_type": "code",
   "execution_count": 15,
   "metadata": {},
   "outputs": [],
   "source": [
    "df['Completion_Gap_Log'] = np.log1p(df[\"Completion_Gap_Counts\"]) "
   ]
  },
  {
   "cell_type": "markdown",
   "metadata": {},
   "source": [
    "## Intervention_Type_List\n",
    "\n",
    "Source: https://clinicaltrials.gov/policy/protocol-definitions#arms-groups-interventions\n",
    "\n",
    "ClinicalTrials.gov Documentation:\n",
    "Intervention Type:\n",
    "For each intervention studied in the clinical study, the general type of intervention.\n",
    "\n",
    "- Drug: Including placebo\n",
    "- Device: Including sham\n",
    "- Biological/Vaccine\n",
    "- Procedure/Surgery\n",
    "- Radiation\n",
    "- Behavioral: For example, psychotherapy, lifestyle counseling\n",
    "- Genetic: Including gene transfer, stem cell and recombinant DNA\n",
    "- Dietary Supplement: For example, vitamins, minerals\n",
    "- Combination Product: Combining a drug and device, a biological product and device; a drug and biological product; or a drug,   biological product, and device\n",
    "- Diagnostic Test: For example, imaging, in vitro\n",
    "- Other"
   ]
  },
  {
   "cell_type": "code",
   "execution_count": 16,
   "metadata": {},
   "outputs": [
    {
     "data": {
      "application/vnd.microsoft.datawrangler.viewer.v0+json": {
       "columns": [
        {
         "name": "Intervention_Type_List",
         "rawType": "object",
         "type": "unknown"
        },
        {
         "name": "count",
         "rawType": "int64",
         "type": "integer"
        }
       ],
       "ref": "86c1f8f6-5057-4579-80be-165631ccea87",
       "rows": [
        [
         "['DRUG']",
         "54796"
        ],
        [
         "['INTERV_OTHER']",
         "7607"
        ],
        [
         "['BIOLOGICAL']",
         "5747"
        ],
        [
         "['BIOLOGICAL', 'DRUG']",
         "1616"
        ],
        [
         "['DEVICE']",
         "1559"
        ],
        [
         "['DRUG', 'PROCEDURE']",
         "1050"
        ],
        [
         "['DEVICE', 'DRUG']",
         "918"
        ],
        [
         "['PROCEDURE']",
         "859"
        ],
        [
         "['DIETARY_SUPPLEMENT']",
         "836"
        ],
        [
         "['BEHAVIORAL']",
         "759"
        ],
        [
         "['DRUG', 'RADIATION']",
         "592"
        ],
        [
         "['BEHAVIORAL', 'DRUG']",
         "416"
        ],
        [
         "['COMBINATION_PRODUCT']",
         "412"
        ],
        [
         "['DIETARY_SUPPLEMENT', 'DRUG']",
         "276"
        ],
        [
         "['RADIATION']",
         "225"
        ],
        [
         "['BIOLOGICAL', 'PROCEDURE']",
         "136"
        ],
        [
         "['COMBINATION_PRODUCT', 'DRUG']",
         "129"
        ],
        [
         "['DRUG', 'PROCEDURE', 'RADIATION']",
         "125"
        ],
        [
         "['DEVICE', 'PROCEDURE']",
         "118"
        ],
        [
         "['GENETIC']",
         "98"
        ],
        [
         "['DIAGNOSTIC_TEST', 'DRUG']",
         "93"
        ],
        [
         "['BIOLOGICAL', 'DEVICE']",
         "84"
        ],
        [
         "['DEVICE', 'DRUG', 'PROCEDURE']",
         "70"
        ],
        [
         "['BIOLOGICAL', 'DRUG', 'PROCEDURE']",
         "68"
        ],
        [
         "['DIAGNOSTIC_TEST']",
         "64"
        ],
        [
         "['BIOLOGICAL', 'DRUG', 'RADIATION']",
         "60"
        ],
        [
         "['DRUG', 'GENETIC']",
         "37"
        ],
        [
         "['BEHAVIORAL', 'DEVICE']",
         "35"
        ],
        [
         "['BIOLOGICAL', 'RADIATION']",
         "27"
        ],
        [
         "['COMBINATION_PRODUCT', 'DEVICE']",
         "27"
        ],
        [
         "['BEHAVIORAL', 'DIETARY_SUPPLEMENT']",
         "20"
        ],
        [
         "['PROCEDURE', 'RADIATION']",
         "19"
        ],
        [
         "['BIOLOGICAL', 'COMBINATION_PRODUCT']",
         "18"
        ],
        [
         "['DIAGNOSTIC_TEST', 'DRUG', 'PROCEDURE']",
         "15"
        ],
        [
         "['BEHAVIORAL', 'DRUG', 'PROCEDURE']",
         "14"
        ],
        [
         "['BIOLOGICAL', 'DEVICE', 'DRUG']",
         "14"
        ],
        [
         "['BEHAVIORAL', 'DEVICE', 'DRUG']",
         "13"
        ],
        [
         "['COMBINATION_PRODUCT', 'PROCEDURE']",
         "13"
        ],
        [
         "['BIOLOGICAL', 'DRUG', 'PROCEDURE', 'RADIATION']",
         "12"
        ],
        [
         "['BIOLOGICAL', 'DIETARY_SUPPLEMENT']",
         "9"
        ],
        [
         "['BIOLOGICAL', 'DIETARY_SUPPLEMENT', 'DRUG']",
         "9"
        ],
        [
         "['BEHAVIORAL', 'PROCEDURE']",
         "9"
        ],
        [
         "['BEHAVIORAL', 'DIETARY_SUPPLEMENT', 'DRUG']",
         "7"
        ],
        [
         "['DEVICE', 'DRUG', 'RADIATION']",
         "7"
        ],
        [
         "['COMBINATION_PRODUCT', 'DEVICE', 'DRUG']",
         "6"
        ],
        [
         "['BIOLOGICAL', 'PROCEDURE', 'RADIATION']",
         "6"
        ],
        [
         "['BEHAVIORAL', 'BIOLOGICAL']",
         "6"
        ],
        [
         "['DEVICE', 'DRUG', 'PROCEDURE', 'RADIATION']",
         "5"
        ],
        [
         "['COMBINATION_PRODUCT', 'DIETARY_SUPPLEMENT']",
         "5"
        ],
        [
         "['DIETARY_SUPPLEMENT', 'PROCEDURE']",
         "5"
        ]
       ],
       "shape": {
        "columns": 1,
        "rows": 110
       }
      },
      "text/plain": [
       "Intervention_Type_List\n",
       "[DRUG]                                               54796\n",
       "[INTERV_OTHER]                                        7607\n",
       "[BIOLOGICAL]                                          5747\n",
       "[BIOLOGICAL, DRUG]                                    1616\n",
       "[DEVICE]                                              1559\n",
       "                                                     ...  \n",
       "[DIAGNOSTIC_TEST, DRUG, GENETIC]                         1\n",
       "[BEHAVIORAL, DRUG, GENETIC]                              1\n",
       "[BIOLOGICAL, COMBINATION_PRODUCT, DEVICE]                1\n",
       "[DEVICE, PROCEDURE, RADIATION]                           1\n",
       "[COMBINATION_PRODUCT, DIAGNOSTIC_TEST, PROCEDURE]        1\n",
       "Name: count, Length: 110, dtype: int64"
      ]
     },
     "metadata": {},
     "output_type": "display_data"
    },
    {
     "data": {
      "text/plain": [
       "Counter({'DRUG': 60420,\n",
       "         'BIOLOGICAL': 7852,\n",
       "         'INTERV_OTHER': 7607,\n",
       "         'DEVICE': 2900,\n",
       "         'PROCEDURE': 2558,\n",
       "         'BEHAVIORAL': 1312,\n",
       "         'DIETARY_SUPPLEMENT': 1188,\n",
       "         'RADIATION': 1115,\n",
       "         'COMBINATION_PRODUCT': 637,\n",
       "         'DIAGNOSTIC_TEST': 210,\n",
       "         'GENETIC': 154})"
      ]
     },
     "metadata": {},
     "output_type": "display_data"
    },
    {
     "data": {
      "text/plain": [
       "0"
      ]
     },
     "metadata": {},
     "output_type": "display_data"
    }
   ],
   "source": [
    "df = df.merge(my_interventions_types[[\"nct_id\", \"intervention_type\"]], on = \"nct_id\", how = \"left\")\n",
    "df = df.rename({\"intervention_type\" : \"Intervention_Type_List\"}, axis = 1)\n",
    "\n",
    "df['Intervention_Type_List'] = df['Intervention_Type_List'].apply(lambda x: ['INTERV_OTHER'] if 'OTHER' in x else x)\n",
    "\n",
    "display(df[\"Intervention_Type_List\"].value_counts(dropna=False))\n",
    "display(Counter([elem for row_list in df[\"Intervention_Type_List\"].dropna() for elem in row_list]))  \n",
    "display(df[\"Intervention_Type_List\"].isnull().sum())  # No Null Values"
   ]
  },
  {
   "cell_type": "markdown",
   "metadata": {},
   "source": [
    "### Merge"
   ]
  },
  {
   "cell_type": "code",
   "execution_count": 17,
   "metadata": {},
   "outputs": [
    {
     "data": {
      "text/plain": [
       "Counter({'DRUG': 60420,\n",
       "         'BIOLOGICAL': 7852,\n",
       "         'INTERV_OTHER': 7607,\n",
       "         'DEVICE': 2900,\n",
       "         'PROCEDURE': 2558,\n",
       "         'BEHAVIORAL': 1312,\n",
       "         'DIETARY_SUPPLEMENT': 1188,\n",
       "         'RADIATION': 1115,\n",
       "         'INTERV_UNSPES': 1001})"
      ]
     },
     "metadata": {},
     "output_type": "display_data"
    }
   ],
   "source": [
    "cont_map = { \n",
    "    'COMBINATION_PRODUCT' : 'INTERV_UNSPES',\n",
    "    'DIAGNOSTIC_TEST' : 'INTERV_UNSPES',\n",
    "    'GENETIC' : 'INTERV_UNSPES'   \n",
    "}\n",
    "\n",
    "df['Intervention_Type_List'] = df['Intervention_Type_List'].apply(lambda row: [cont_map.get(val, val) for val in row])\n",
    "display(Counter([elem for row_list in df[\"Intervention_Type_List\"] for elem in row_list]))"
   ]
  },
  {
   "cell_type": "markdown",
   "metadata": {},
   "source": [
    "## Intervention_Type_Counts"
   ]
  },
  {
   "cell_type": "code",
   "execution_count": 18,
   "metadata": {},
   "outputs": [
    {
     "data": {
      "application/vnd.microsoft.datawrangler.viewer.v0+json": {
       "columns": [
        {
         "name": "Intervention_Type_Counts",
         "rawType": "int64",
         "type": "integer"
        },
        {
         "name": "count",
         "rawType": "int64",
         "type": "integer"
        }
       ],
       "ref": "76105418-7f41-479b-a352-e20155d742df",
       "rows": [
        [
         "1",
         "72962"
        ],
        [
         "2",
         "5695"
        ],
        [
         "3",
         "480"
        ],
        [
         "4",
         "39"
        ],
        [
         "5",
         "1"
        ]
       ],
       "shape": {
        "columns": 1,
        "rows": 5
       }
      },
      "text/plain": [
       "Intervention_Type_Counts\n",
       "1    72962\n",
       "2     5695\n",
       "3      480\n",
       "4       39\n",
       "5        1\n",
       "Name: count, dtype: int64"
      ]
     },
     "metadata": {},
     "output_type": "display_data"
    },
    {
     "data": {
      "text/plain": [
       "0"
      ]
     },
     "metadata": {},
     "output_type": "display_data"
    },
    {
     "data": {
      "text/plain": [
       "(79177, 37)"
      ]
     },
     "metadata": {},
     "output_type": "display_data"
    }
   ],
   "source": [
    "df[\"Intervention_Type_Counts\"] = df[\"Intervention_Type_List\"].apply(lambda x: len(x)) # no null in Intervention_Type_List\n",
    "display(df[\"Intervention_Type_Counts\"].value_counts(dropna=False))  \n",
    "display(df[\"Intervention_Type_Counts\"].isnull().sum())\n",
    "display(df.shape)"
   ]
  },
  {
   "cell_type": "markdown",
   "metadata": {},
   "source": [
    "## Intervention_Route_List"
   ]
  },
  {
   "cell_type": "code",
   "execution_count": 19,
   "metadata": {},
   "outputs": [],
   "source": [
    "with open(r\".\\thesis_data\\str_oral_injection_surgical_topical.pkl\", \"rb\") as f:\n",
    "    data = pickle.load(f)\n",
    "\n",
    "oral1 = data[\"oral1\"]\n",
    "oral2 = data[\"oral2\"]\n",
    "injection1 = data[\"injection1\"]\n",
    "injection2 = data[\"injection2\"]\n",
    "topical1 = data[\"topical1\"]\n",
    "surgical1 = data[\"surgical1\"]"
   ]
  },
  {
   "cell_type": "markdown",
   "metadata": {},
   "source": [
    "### NaNs --> Fillna text -> Other"
   ]
  },
  {
   "cell_type": "code",
   "execution_count": 20,
   "metadata": {},
   "outputs": [],
   "source": [
    "## Interventions column\n",
    "# Injection\n",
    "df.loc[df['Interventions'].str.contains(injection1, case = False, na = False), 'Injection'] = \"Injection\"\n",
    "df.loc[df['Interventions'].str.lower().str.lower().str.contains(injection2, case = True, na = False), 'Injection'] = \"Injection\"\n",
    "# Oral\n",
    "df.loc[df['Interventions'].str.contains(oral1, case = False, na = False), 'Oral'] = \"Oral\"\n",
    "df.loc[df['Interventions'].str.lower().str.lower().str.contains(oral2, case = True, na = False), 'Oral'] = \"Oral\"\n",
    "# Topical\n",
    "df.loc[df['Interventions'].str.contains(topical1, case = False, na = False), 'Topical'] = \"Topical\"\n",
    "# Surgical\n",
    "df.loc[df['Interventions'].str.contains(surgical1, case = False, na = False), 'Surgical'] = \"Surgical\"\n",
    "\n",
    "## Brief Summary Column \n",
    "# Injection\n",
    "df.loc[df['Brief Summary'].str.contains(injection1, case = False, na = False) & df['Injection'].isnull(),\n",
    "        'Injection'] = \"Injection\"\n",
    "df.loc[df['Brief Summary'].str.lower().str.lower().str.contains(injection2, case = True, na = False) & df['Injection'].isnull(),\n",
    "        'Injection'] = \"Injection\"\n",
    "# Oral\n",
    "df.loc[df['Brief Summary'].str.contains(oral1, case = False, na = False) & df['Oral'].isnull() , 'Oral'] = \"Oral\"\n",
    "df.loc[df['Brief Summary'].str.lower().str.lower().str.contains(oral2, case = True, na = False) & df['Oral'].isnull(),\n",
    "        'Oral'] = \"Oral\"\n",
    "# Topical\n",
    "df.loc[df['Brief Summary'].str.contains(topical1, case = False, na = False) & df['Topical'].isnull()\n",
    "       , 'Topical'] = \"Topical\"\n",
    "# Surgical\n",
    "df.loc[df['Brief Summary'].str.contains(surgical1, case = False, na = False) & df['Topical'].isnull(),\n",
    "        'Surgical'] = \"Surgical\"\n"
   ]
  },
  {
   "cell_type": "code",
   "execution_count": 21,
   "metadata": {},
   "outputs": [
    {
     "data": {
      "application/vnd.microsoft.datawrangler.viewer.v0+json": {
       "columns": [
        {
         "name": "Intervention_Route_List",
         "rawType": "object",
         "type": "unknown"
        },
        {
         "name": "count",
         "rawType": "int64",
         "type": "integer"
        }
       ],
       "ref": "be2bc8cc-faf7-40e0-814c-6536f0016240",
       "rows": [
        [
         "[]",
         "28921"
        ],
        [
         "['Injection']",
         "17960"
        ],
        [
         "['Oral']",
         "8320"
        ],
        [
         "['Topical']",
         "5732"
        ],
        [
         "['Injection', 'Surgical']",
         "3848"
        ],
        [
         "['Injection', 'Oral']",
         "3817"
        ],
        [
         "['Surgical']",
         "3705"
        ],
        [
         "['Injection', 'Topical']",
         "3412"
        ],
        [
         "['Oral', 'Topical']",
         "958"
        ],
        [
         "['Injection', 'Oral', 'Topical']",
         "819"
        ],
        [
         "['Injection', 'Oral', 'Surgical']",
         "659"
        ],
        [
         "['Oral', 'Surgical']",
         "572"
        ],
        [
         "['Injection', 'Surgical', 'Topical']",
         "252"
        ],
        [
         "['Surgical', 'Topical']",
         "169"
        ],
        [
         "['Injection', 'Oral', 'Surgical', 'Topical']",
         "22"
        ],
        [
         "['Oral', 'Surgical', 'Topical']",
         "11"
        ]
       ],
       "shape": {
        "columns": 1,
        "rows": 16
       }
      },
      "text/plain": [
       "Intervention_Route_List\n",
       "[]                                      28921\n",
       "[Injection]                             17960\n",
       "[Oral]                                   8320\n",
       "[Topical]                                5732\n",
       "[Injection, Surgical]                    3848\n",
       "[Injection, Oral]                        3817\n",
       "[Surgical]                               3705\n",
       "[Injection, Topical]                     3412\n",
       "[Oral, Topical]                           958\n",
       "[Injection, Oral, Topical]                819\n",
       "[Injection, Oral, Surgical]               659\n",
       "[Oral, Surgical]                          572\n",
       "[Injection, Surgical, Topical]            252\n",
       "[Surgical, Topical]                       169\n",
       "[Injection, Oral, Surgical, Topical]       22\n",
       "[Oral, Surgical, Topical]                  11\n",
       "Name: count, dtype: int64"
      ]
     },
     "metadata": {},
     "output_type": "display_data"
    },
    {
     "data": {
      "text/plain": [
       "(79177, 42)"
      ]
     },
     "metadata": {},
     "output_type": "display_data"
    },
    {
     "data": {
      "application/vnd.microsoft.datawrangler.viewer.v0+json": {
       "columns": [
        {
         "name": "Intervention_Route_List",
         "rawType": "object",
         "type": "unknown"
        },
        {
         "name": "count",
         "rawType": "int64",
         "type": "integer"
        }
       ],
       "ref": "15acdb14-03af-43f2-8d5d-a264abac7e0c",
       "rows": [
        [
         "['Inter_Route_Other']",
         "28921"
        ],
        [
         "['Injection']",
         "17960"
        ],
        [
         "['Oral']",
         "8320"
        ],
        [
         "['Topical']",
         "5732"
        ],
        [
         "['Injection', 'Surgical']",
         "3848"
        ],
        [
         "['Injection', 'Oral']",
         "3817"
        ],
        [
         "['Surgical']",
         "3705"
        ],
        [
         "['Injection', 'Topical']",
         "3412"
        ],
        [
         "['Oral', 'Topical']",
         "958"
        ],
        [
         "['Injection', 'Oral', 'Topical']",
         "819"
        ],
        [
         "['Injection', 'Oral', 'Surgical']",
         "659"
        ],
        [
         "['Oral', 'Surgical']",
         "572"
        ],
        [
         "['Injection', 'Surgical', 'Topical']",
         "252"
        ],
        [
         "['Surgical', 'Topical']",
         "169"
        ],
        [
         "['Injection', 'Oral', 'Surgical', 'Topical']",
         "22"
        ],
        [
         "['Oral', 'Surgical', 'Topical']",
         "11"
        ]
       ],
       "shape": {
        "columns": 1,
        "rows": 16
       }
      },
      "text/plain": [
       "Intervention_Route_List\n",
       "[Inter_Route_Other]                     28921\n",
       "[Injection]                             17960\n",
       "[Oral]                                   8320\n",
       "[Topical]                                5732\n",
       "[Injection, Surgical]                    3848\n",
       "[Injection, Oral]                        3817\n",
       "[Surgical]                               3705\n",
       "[Injection, Topical]                     3412\n",
       "[Oral, Topical]                           958\n",
       "[Injection, Oral, Topical]                819\n",
       "[Injection, Oral, Surgical]               659\n",
       "[Oral, Surgical]                          572\n",
       "[Injection, Surgical, Topical]            252\n",
       "[Surgical, Topical]                       169\n",
       "[Injection, Oral, Surgical, Topical]       22\n",
       "[Oral, Surgical, Topical]                  11\n",
       "Name: count, dtype: int64"
      ]
     },
     "metadata": {},
     "output_type": "display_data"
    }
   ],
   "source": [
    "df = df.merge(my_intervention_methods[['nct_id', 'interv_method']], on = \"nct_id\", how = \"left\")\n",
    "df = df.rename({\"interv_method\" : \"Intervention_Route_List\"}, axis = 1)\n",
    "\n",
    "df[\"Intervention_Route_List\"] = df[['Injection', 'Oral', 'Topical', 'Surgical']].apply(lambda row: [val for val in row if pd.notna(val) and val != \"None\"], axis=1)\n",
    "df[\"Intervention_Route_List\"] = df['Intervention_Route_List'].apply(lambda x: sorted(set(x)))\n",
    "display(df['Intervention_Route_List'].value_counts(dropna = False))\n",
    "display(df.shape)\n",
    "\n",
    "# Fillna --> 'Other'\n",
    "cond = (df['Intervention_Route_List'].apply(lambda x: isinstance(x, list) and len(x) == 0))\n",
    "\n",
    "df.loc[cond, 'Intervention_Route_List'] = df.loc[cond, 'Intervention_Route_List'].apply(lambda x: ['Inter_Route_Other'])\n",
    "display(df['Intervention_Route_List'].value_counts(dropna = False))"
   ]
  },
  {
   "cell_type": "markdown",
   "metadata": {},
   "source": [
    "## Intervention_Route_Counts"
   ]
  },
  {
   "cell_type": "code",
   "execution_count": 22,
   "metadata": {},
   "outputs": [
    {
     "data": {
      "application/vnd.microsoft.datawrangler.viewer.v0+json": {
       "columns": [
        {
         "name": "Intervention_Route_Counts",
         "rawType": "int64",
         "type": "integer"
        },
        {
         "name": "count",
         "rawType": "int64",
         "type": "integer"
        }
       ],
       "ref": "0648a344-dc69-45fc-8860-49e08afa1920",
       "rows": [
        [
         "1",
         "64638"
        ],
        [
         "2",
         "12776"
        ],
        [
         "3",
         "1741"
        ],
        [
         "4",
         "22"
        ]
       ],
       "shape": {
        "columns": 1,
        "rows": 4
       }
      },
      "text/plain": [
       "Intervention_Route_Counts\n",
       "1    64638\n",
       "2    12776\n",
       "3     1741\n",
       "4       22\n",
       "Name: count, dtype: int64"
      ]
     },
     "execution_count": 22,
     "metadata": {},
     "output_type": "execute_result"
    }
   ],
   "source": [
    "df['Intervention_Route_Counts'] = df['Intervention_Route_List'].apply(lambda x: len(x))  \n",
    "# Inter_Route_Other is a form of 'intervention' other than inj/oral/topical and must be counted.\n",
    "df['Intervention_Route_Counts'].value_counts(dropna = False)"
   ]
  },
  {
   "cell_type": "markdown",
   "metadata": {},
   "source": [
    "## Placebo_Bin"
   ]
  },
  {
   "cell_type": "code",
   "execution_count": 23,
   "metadata": {},
   "outputs": [
    {
     "data": {
      "application/vnd.microsoft.datawrangler.viewer.v0+json": {
       "columns": [
        {
         "name": "Placebo_Bin",
         "rawType": "object",
         "type": "unknown"
        },
        {
         "name": "count",
         "rawType": "int64",
         "type": "integer"
        }
       ],
       "ref": "da97a0b4-614b-49bf-8a9a-b742d6b112e1",
       "rows": [
        [
         null,
         "56385"
        ],
        [
         "PLACEBO_COMPARATOR",
         "22792"
        ]
       ],
       "shape": {
        "columns": 1,
        "rows": 2
       }
      },
      "text/plain": [
       "Placebo_Bin\n",
       "NaN                   56385\n",
       "PLACEBO_COMPARATOR    22792\n",
       "Name: count, dtype: int64"
      ]
     },
     "metadata": {},
     "output_type": "display_data"
    },
    {
     "data": {
      "application/vnd.microsoft.datawrangler.viewer.v0+json": {
       "columns": [
        {
         "name": "Placebo_Bin",
         "rawType": "object",
         "type": "string"
        },
        {
         "name": "count",
         "rawType": "int64",
         "type": "integer"
        }
       ],
       "ref": "800f65cc-f00a-4638-83b3-93532114f2a6",
       "rows": [
        [
         "No",
         "56385"
        ],
        [
         "Yes",
         "22792"
        ]
       ],
       "shape": {
        "columns": 1,
        "rows": 2
       }
      },
      "text/plain": [
       "Placebo_Bin\n",
       "No     56385\n",
       "Yes    22792\n",
       "Name: count, dtype: int64"
      ]
     },
     "metadata": {},
     "output_type": "display_data"
    }
   ],
   "source": [
    "my_placebo2 = my_placebo[my_placebo[\"group_type\"] == \"PLACEBO_COMPARATOR\"]\n",
    "df = df.merge(my_placebo2[[\"nct_id\", \"group_type\"]], on = \"nct_id\", how = \"left\")\n",
    "df = df.rename(columns = {\"group_type\" : \"Placebo_Bin\"})\n",
    "display(df[\"Placebo_Bin\"].value_counts(dropna = False))\n",
    "\n",
    "df[\"Placebo_Bin\"] = df[\"Placebo_Bin\"].replace({np.NaN : \"No\", \"PLACEBO_COMPARATOR\" : \"Yes\"})\n",
    "display(df[\"Placebo_Bin\"].value_counts(dropna = False)) \n"
   ]
  },
  {
   "cell_type": "markdown",
   "metadata": {},
   "source": [
    "## Standard_Care_Bin"
   ]
  },
  {
   "cell_type": "code",
   "execution_count": 24,
   "metadata": {},
   "outputs": [
    {
     "data": {
      "application/vnd.microsoft.datawrangler.viewer.v0+json": {
       "columns": [
        {
         "name": "Standard_Care_Bin",
         "rawType": "object",
         "type": "unknown"
        },
        {
         "name": "count",
         "rawType": "int64",
         "type": "integer"
        }
       ],
       "ref": "fd32bd53-16ac-44ae-955f-bca9d420729c",
       "rows": [
        [
         null,
         "76225"
        ],
        [
         "Yes",
         "2952"
        ]
       ],
       "shape": {
        "columns": 1,
        "rows": 2
       }
      },
      "text/plain": [
       "Standard_Care_Bin\n",
       "NaN    76225\n",
       "Yes     2952\n",
       "Name: count, dtype: int64"
      ]
     },
     "metadata": {},
     "output_type": "display_data"
    },
    {
     "data": {
      "application/vnd.microsoft.datawrangler.viewer.v0+json": {
       "columns": [
        {
         "name": "Standard_Care_Bin",
         "rawType": "object",
         "type": "string"
        },
        {
         "name": "count",
         "rawType": "int64",
         "type": "integer"
        }
       ],
       "ref": "05e90002-34ec-4048-a191-6da71b2f3fe2",
       "rows": [
        [
         "No",
         "76225"
        ],
        [
         "Yes",
         "2952"
        ]
       ],
       "shape": {
        "columns": 1,
        "rows": 2
       }
      },
      "text/plain": [
       "Standard_Care_Bin\n",
       "No     76225\n",
       "Yes     2952\n",
       "Name: count, dtype: int64"
      ]
     },
     "metadata": {},
     "output_type": "display_data"
    }
   ],
   "source": [
    "df = df.merge(my_soc[[\"nct_id\", \"Standard_Care\"]], on = \"nct_id\", how = \"left\")\n",
    "df = df.rename(columns={\"Standard_Care\" : \"Standard_Care_Bin\"})\n",
    "display(df[\"Standard_Care_Bin\"].value_counts(dropna=False))\n",
    "\n",
    "df[\"Standard_Care_Bin\"] = df[\"Standard_Care_Bin\"].replace({np.NaN : \"No\"})\n",
    "display(df[\"Standard_Care_Bin\"].value_counts(dropna=False))\n"
   ]
  },
  {
   "cell_type": "markdown",
   "metadata": {},
   "source": [
    "## Healthy_Bin"
   ]
  },
  {
   "cell_type": "code",
   "execution_count": 25,
   "metadata": {},
   "outputs": [
    {
     "data": {
      "application/vnd.microsoft.datawrangler.viewer.v0+json": {
       "columns": [
        {
         "name": "Healthy_Bin",
         "rawType": "object",
         "type": "unknown"
        },
        {
         "name": "count",
         "rawType": "int64",
         "type": "integer"
        }
       ],
       "ref": "2244e7a5-ef89-48d1-9c94-1140d4e79738",
       "rows": [
        [
         "No",
         "58087"
        ],
        [
         "Yes",
         "21063"
        ],
        [
         null,
         "27"
        ]
       ],
       "shape": {
        "columns": 1,
        "rows": 3
       }
      },
      "text/plain": [
       "Healthy_Bin\n",
       "No     58087\n",
       "Yes    21063\n",
       "NaN       27\n",
       "Name: count, dtype: int64"
      ]
     },
     "metadata": {},
     "output_type": "display_data"
    }
   ],
   "source": [
    "df = df.merge(my_eligibilities[[\"nct_id\", \"healthy_volunteers\"]], on = \"nct_id\", how = \"left\")\n",
    "df = df.rename(columns={\"healthy_volunteers\" : \"Healthy_Bin\"})\n",
    "df['Healthy_Bin'] = df['Healthy_Bin'].replace({'Condition' : \"No\", \"Healthy\" : \"Yes\"})\n",
    "display(df[\"Healthy_Bin\"].value_counts(dropna = False))\n"
   ]
  },
  {
   "cell_type": "markdown",
   "metadata": {},
   "source": [
    "### NaN --> Drop"
   ]
  },
  {
   "cell_type": "code",
   "execution_count": 26,
   "metadata": {},
   "outputs": [
    {
     "data": {
      "application/vnd.microsoft.datawrangler.viewer.v0+json": {
       "columns": [
        {
         "name": "Healthy_Bin",
         "rawType": "object",
         "type": "string"
        },
        {
         "name": "count",
         "rawType": "int64",
         "type": "integer"
        }
       ],
       "ref": "e66543b4-8dc3-4dcf-b948-d40d0cd1b434",
       "rows": [
        [
         "No",
         "58087"
        ],
        [
         "Yes",
         "21063"
        ]
       ],
       "shape": {
        "columns": 1,
        "rows": 2
       }
      },
      "text/plain": [
       "Healthy_Bin\n",
       "No     58087\n",
       "Yes    21063\n",
       "Name: count, dtype: int64"
      ]
     },
     "metadata": {},
     "output_type": "display_data"
    }
   ],
   "source": [
    "df = df.dropna(subset = ['Healthy_Bin'])\n",
    "display(df[\"Healthy_Bin\"].value_counts(dropna = False))\n"
   ]
  },
  {
   "cell_type": "markdown",
   "metadata": {},
   "source": [
    "## Covid_19_Bin"
   ]
  },
  {
   "cell_type": "code",
   "execution_count": 27,
   "metadata": {},
   "outputs": [
    {
     "data": {
      "application/vnd.microsoft.datawrangler.viewer.v0+json": {
       "columns": [
        {
         "name": "Covid_19_Bin",
         "rawType": "object",
         "type": "unknown"
        },
        {
         "name": "count",
         "rawType": "int64",
         "type": "integer"
        }
       ],
       "ref": "867b4862-29b8-4128-abd9-f0ff102639be",
       "rows": [
        [
         null,
         "77342"
        ],
        [
         "COVID-19",
         "1808"
        ]
       ],
       "shape": {
        "columns": 1,
        "rows": 2
       }
      },
      "text/plain": [
       "Covid_19_Bin\n",
       "NaN         77342\n",
       "COVID-19     1808\n",
       "Name: count, dtype: int64"
      ]
     },
     "metadata": {},
     "output_type": "display_data"
    },
    {
     "data": {
      "application/vnd.microsoft.datawrangler.viewer.v0+json": {
       "columns": [
        {
         "name": "Covid_19_Bin",
         "rawType": "object",
         "type": "string"
        },
        {
         "name": "count",
         "rawType": "int64",
         "type": "integer"
        }
       ],
       "ref": "ca80a4bc-1df4-4928-9dc7-e451260da842",
       "rows": [
        [
         "No",
         "77342"
        ],
        [
         "Yes",
         "1808"
        ]
       ],
       "shape": {
        "columns": 1,
        "rows": 2
       }
      },
      "text/plain": [
       "Covid_19_Bin\n",
       "No     77342\n",
       "Yes     1808\n",
       "Name: count, dtype: int64"
      ]
     },
     "metadata": {},
     "output_type": "display_data"
    },
    {
     "data": {
      "text/plain": [
       "(79150, 47)"
      ]
     },
     "metadata": {},
     "output_type": "display_data"
    }
   ],
   "source": [
    "df = df.merge(my_covid[[\"nct_id\", \"mesh_term\"]], on = \"nct_id\", how = \"left\")\n",
    "df = df.rename(columns={\"mesh_term\" : \"Covid_19_Bin\"})\n",
    "display(df[\"Covid_19_Bin\"].value_counts(dropna=False))\n",
    "df[\"Covid_19_Bin\"] = df[\"Covid_19_Bin\"].replace({np.NaN : \"No\", \"COVID-19\": \"Yes\"})\n",
    "display(df[\"Covid_19_Bin\"].value_counts(dropna=False))\n",
    "display(df.shape)"
   ]
  },
  {
   "cell_type": "markdown",
   "metadata": {},
   "source": [
    "## Conditions_Detail_List\n",
    "- Source MEsH Ontologies and Drugs : https://meshb.nlm.nih.gov/treeView  \n",
    "- Columns: my_conditions['name'] (list like) = df['Conditions'] (text like | seperated)\n"
   ]
  },
  {
   "cell_type": "code",
   "execution_count": 28,
   "metadata": {},
   "outputs": [
    {
     "data": {
      "text/plain": [
       "Counter({'Cond_Detail_Other': 18115,\n",
       "         'Pathological Conditions, Signs and Symptoms': 16648,\n",
       "         'Neoplasms': 15998,\n",
       "         'Nervous System Diseases': 10507,\n",
       "         'Respiratory Tract Diseases': 8521,\n",
       "         'Immune System Diseases': 8370,\n",
       "         'Skin and Connective Tissue Diseases': 7970,\n",
       "         'Bacterial Infections and Mycoses': 7621,\n",
       "         'Female Urogenital Diseases and Pregnancy Complications': 6906,\n",
       "         'Digestive System Diseases': 6762,\n",
       "         'Nutritional and Metabolic Diseases': 6719,\n",
       "         'Cardiovascular Diseases': 6167,\n",
       "         'Male Urogenital Diseases': 6076,\n",
       "         'Virus Diseases': 5669,\n",
       "         'Hemic and Lymphatic Diseases': 5654,\n",
       "         'Endocrine System Diseases': 5248,\n",
       "         'Mental Disorders': 5144,\n",
       "         'Congenital, Hereditary, and Neonatal Diseases and Abnormalities': 3913,\n",
       "         'Musculoskeletal and Neural Physiological Phenomena': 3271,\n",
       "         'Musculoskeletal Diseases': 3193,\n",
       "         'Psychological Phenomena and Processes': 3069,\n",
       "         'Behavior and Behavior Mechanisms': 2677,\n",
       "         'Eye Diseases': 2098,\n",
       "         'Physiological Phenomena': 1429,\n",
       "         'Wounds and Injuries': 1294,\n",
       "         'Chemically-Induced Disorders': 1215,\n",
       "         'Stomatognathic Diseases': 1214,\n",
       "         'Diagnosis': 1051,\n",
       "         'Otorhinolaryngologic Diseases': 973,\n",
       "         'Investigative Techniques': 972,\n",
       "         'Cell Physiological Phenomena': 348,\n",
       "         'Environment and Public Health': 158,\n",
       "         'Health Care Quality, Access, and Evaluation': 122,\n",
       "         'Tissues': 92,\n",
       "         'Reproductive and Urinary Physiological Phenomena': 88,\n",
       "         'Biological Phenomena': 83,\n",
       "         'Social Sciences': 78,\n",
       "         'Physical Phenomena': 73,\n",
       "         'Circulatory and Respiratory Physiological Phenomena': 49,\n",
       "         'Health Services Administration': 38,\n",
       "         'Therapeutics': 34,\n",
       "         'Cells': 28,\n",
       "         'Information Science': 25,\n",
       "         'Immune System Phenomena': 21,\n",
       "         'Genetic Phenomena': 20,\n",
       "         'Health Care Facilities, Manpower, and Services': 10,\n",
       "         'Health Care Economics and Organizations': 7,\n",
       "         'Education': 7,\n",
       "         'Human Activities': 6,\n",
       "         'Hemic and Immune Systems': 1,\n",
       "         'Fluids and Secretions': 1,\n",
       "         'Chemical Actions and Uses': 1})"
      ]
     },
     "metadata": {},
     "output_type": "display_data"
    }
   ],
   "source": [
    "df = df.merge(my_conditions[[\"nct_id\", \"heading\"]], on = \"nct_id\", how = \"left\") # my_conditions['name'] = df['Conditions]\n",
    "df = df.rename(columns = {\"heading\" : \"Conditions_Detail_List\"})\n",
    "\n",
    "df[\"Conditions_Detail_List\"] = df[\"Conditions_Detail_List\"].apply(lambda x: [\"Cond_Detail_Other\"] if isinstance(x, list)\\\n",
    "                                                               and len(x) == 0 else x)\n",
    "\n",
    "display(Counter([elem for row_list in df[\"Conditions_Detail_List\"] for elem in row_list]))"
   ]
  },
  {
   "cell_type": "code",
   "execution_count": 29,
   "metadata": {},
   "outputs": [
    {
     "data": {
      "text/plain": [
       "Counter({'Cond_Detail_Other': 18115,\n",
       "         'Pathological Conditions, Signs and Symptoms': 16648,\n",
       "         'Neoplasms': 15998,\n",
       "         'Nervous System Diseases': 10507,\n",
       "         'Respiratory Tract Diseases': 8521,\n",
       "         'Immune System Diseases': 8370,\n",
       "         'Skin and Connective Tissue Diseases': 7970,\n",
       "         'Bacterial Infections and Mycoses': 7621,\n",
       "         'Female Urogenital Diseases and Pregnancy Complications': 6906,\n",
       "         'Digestive System Diseases': 6762,\n",
       "         'Nutritional and Metabolic Diseases': 6719,\n",
       "         'Cardiovascular Diseases': 6167,\n",
       "         'Male Urogenital Diseases': 6076,\n",
       "         'Virus Diseases': 5669,\n",
       "         'Hemic and Lymphatic Diseases': 5654,\n",
       "         'Endocrine System Diseases': 5248,\n",
       "         'Mental Disorders': 5144,\n",
       "         'Congenital, Hereditary, and Neonatal Diseases and Abnormalities': 3913,\n",
       "         'Musculoskeletal and Neural Physiological Phenomena': 3271,\n",
       "         'Musculoskeletal Diseases': 3193,\n",
       "         'Psychological Phenomena and Processes': 3069,\n",
       "         'Behavior and Behavior Mechanisms': 2677,\n",
       "         'Eye Diseases': 2098,\n",
       "         'Physiological Phenomena': 1429,\n",
       "         'Wounds and Injuries': 1294,\n",
       "         'Chemically-Induced Disorders': 1215,\n",
       "         'Stomatognathic Diseases': 1214,\n",
       "         'Diagnosis': 1051,\n",
       "         'Otorhinolaryngologic Diseases': 973,\n",
       "         'Investigative Techniques': 972,\n",
       "         'Cell Physiological Phenomena': 348,\n",
       "         'Environment and Public Health': 158,\n",
       "         'Health Care Quality, Access, and Evaluation': 122,\n",
       "         'Tissues': 92,\n",
       "         'Reproductive and Urinary Physiological Phenomena': 88,\n",
       "         'Biological Phenomena': 83,\n",
       "         'Social Sciences': 78,\n",
       "         'Physical Phenomena': 73,\n",
       "         'Circulatory and Respiratory Physiological Phenomena': 49,\n",
       "         'Health Services Administration': 38,\n",
       "         'Therapeutics': 34,\n",
       "         'Cells': 28,\n",
       "         'Information Science': 25,\n",
       "         'Immune System Phenomena': 21,\n",
       "         'Genetic Phenomena': 20,\n",
       "         'Health Care Facilities, Manpower, and Services': 10,\n",
       "         'Health Care Economics and Organizations': 7,\n",
       "         'Education': 7,\n",
       "         'Human Activities': 6,\n",
       "         'Hemic and Immune Systems': 1,\n",
       "         'Fluids and Secretions': 1,\n",
       "         'Chemical Actions and Uses': 1})"
      ]
     },
     "metadata": {},
     "output_type": "display_data"
    },
    {
     "data": {
      "text/plain": [
       "Counter({'Cond_Detail_Other': 18115,\n",
       "         'Pathological Conditions, Signs, Symptoms': 16648,\n",
       "         'Neoplasms': 15998,\n",
       "         'Hemic, Lymphatic, Immune System': 14046,\n",
       "         'Digestive System, Nutritional, Metabolic': 13481,\n",
       "         'Urogenital, Pregnancy': 13070,\n",
       "         'Psychiatry, Psychology, Anthropology, Sociology': 10981,\n",
       "         'Nervous System': 10507,\n",
       "         'Respiratory, Circulatory': 8570,\n",
       "         'Skin, Tissue': 8062,\n",
       "         'Bacterial Infections and Mycoses': 7621,\n",
       "         'Musculoskeletal, Neural': 6464,\n",
       "         'Cardiovascular': 6167,\n",
       "         'Virus Diseases': 5669,\n",
       "         'Endocrine System': 5248,\n",
       "         'Hereditary, Neonatal, Abnormalities': 3913,\n",
       "         'Health Care, Therapeutics': 2417,\n",
       "         'Stomatognathic, Otorhinolaryngologic': 2187,\n",
       "         'Eye': 2098,\n",
       "         'Phenomena, Processes': 1983,\n",
       "         'Wounds, Injuries': 1294,\n",
       "         'Chemical Disorders': 1215})"
      ]
     },
     "metadata": {},
     "output_type": "display_data"
    }
   ],
   "source": [
    "# Merge low sample categries into more general ones based on the subject studyed.\n",
    "cond_map = {\n",
    "## Diseases/Disorders ==========================================================\n",
    "         'Pathological Conditions, Signs and Symptoms': 'Pathological Conditions, Signs, Symptoms',   # Diseases\n",
    "\n",
    "         'Nervous System Diseases': 'Nervous System',\n",
    "\n",
    "         'Cond_Detail_Other': 'Cond_Detail_Other',\n",
    "\n",
    "         'Neoplasms': 'Neoplasms', \n",
    "\n",
    "         'Cardiovascular Diseases': 'Cardiovascular',  \n",
    "\n",
    "         'Skin and Connective Tissue Diseases': 'Skin, Tissue', \n",
    "         'Tissues': 'Skin, Tissue', \n",
    "\n",
    "         'Respiratory Tract Diseases': 'Respiratory, Circulatory', \n",
    "         'Circulatory and Respiratory Physiological Phenomena': 'Respiratory, Circulatory', \n",
    "\n",
    "         'Female Urogenital Diseases and Pregnancy Complications': 'Urogenital, Pregnancy', \n",
    "         'Male Urogenital Diseases': 'Urogenital, Pregnancy', \n",
    "         'Reproductive and Urinary Physiological Phenomena': 'Urogenital, Pregnancy',  \n",
    "         \n",
    "         'Bacterial Infections and Mycoses': 'Bacterial Infections and Mycoses', \n",
    "         'Virus Diseases': 'Virus Diseases', \n",
    "\n",
    "         'Immune System Diseases': 'Hemic, Lymphatic, Immune System', \n",
    "         'Immune System Phenomena': 'Hemic, Lymphatic, Immune System', \n",
    "         'Hemic and Immune Systems': 'Hemic, Lymphatic, Immune System', \n",
    "         'Hemic and Lymphatic Diseases': 'Hemic, Lymphatic, Immune System', \n",
    "         \n",
    "         'Digestive System Diseases': 'Digestive System, Nutritional, Metabolic', \n",
    "         'Nutritional and Metabolic Diseases': 'Digestive System, Nutritional, Metabolic', \n",
    "                  \n",
    "         'Musculoskeletal Diseases': 'Musculoskeletal, Neural', \n",
    "         'Musculoskeletal and Neural Physiological Phenomena': 'Musculoskeletal, Neural', \n",
    "\n",
    "         'Endocrine System Diseases': 'Endocrine System', \n",
    "\n",
    "         'Congenital, Hereditary, and Neonatal Diseases and Abnormalities': 'Hereditary, Neonatal, Abnormalities', \n",
    "\n",
    "         'Wounds and Injuries': 'Wounds, Injuries', \n",
    "\n",
    "         'Eye Diseases': 'Eye', \n",
    "\n",
    "         'Stomatognathic Diseases': 'Stomatognathic, Otorhinolaryngologic', \n",
    "         'Otorhinolaryngologic Diseases': 'Stomatognathic, Otorhinolaryngologic', \n",
    "\n",
    "         'Chemically-Induced Disorders': 'Chemical Disorders',  # Diseases\n",
    "\n",
    "# 'Psychiatry, Psychology, Anthropology, Sociology'\n",
    "         'Psychological Phenomena and Processes': 'Psychiatry, Psychology, Anthropology, Sociology', \n",
    "         'Behavior and Behavior Mechanisms': 'Psychiatry, Psychology, Anthropology, Sociology', \n",
    "         'Mental Disorders': 'Psychiatry, Psychology, Anthropology, Sociology', \n",
    "         'Social Sciences': 'Psychiatry, Psychology, Anthropology, Sociology',   # Anthropology, Sociology\n",
    "         'Human Activities': 'Psychiatry, Psychology, Anthropology, Sociology',  # Anthropology, Sociology\n",
    "         'Education' : 'Psychiatry, Psychology, Anthropology, Sociology',\n",
    "\n",
    "# 'Phenomena, Processes'\n",
    "         'Physiological Phenomena': 'Phenomena, Processes', \n",
    "         'Biological Phenomena': 'Phenomena, Processes', \n",
    "         'Physical Phenomena': 'Phenomena, Processes', \n",
    "         'Genetic Phenomena': 'Phenomena, Processes', \n",
    "         'Cell Physiological Phenomena': 'Phenomena, Processes', \n",
    "         'Cells': 'Phenomena, Processes',  # Anatomy\n",
    "         'Fluids and Secretions': 'Phenomena, Processes',  # Anatomy \n",
    "         'Chemical Actions and Uses': 'Phenomena, Processes',  # Chemicals and Drugs\n",
    "\n",
    "# Health Care, Environment, Diagnostic, Equipment, Other\n",
    "         'Health Care Quality, Access, and Evaluation': 'Health Care, Therapeutics', \n",
    "         'Health Care Economics and Organizations' : 'Health Care, Therapeutics', \n",
    "         'Health Services Administration': 'Health Care, Therapeutics', \n",
    "         'Health Care Facilities, Manpower, and Services': 'Health Care, Therapeutics', \n",
    "         'Environment and Public Health': 'Health Care, Therapeutics', \n",
    "         'Information Science' : 'Health Care, Therapeutics',  \n",
    "         'Diagnosis': 'Health Care, Therapeutics',    \n",
    "         'Investigative Techniques': 'Health Care, Therapeutics',  \n",
    "         'Therapeutics': 'Health Care, Therapeutics', \n",
    "}\n",
    "\n",
    "\n",
    "\n",
    "display(Counter([elem for row_list in df[\"Conditions_Detail_List\"] for elem in row_list]))\n",
    "df['Conditions_Detail_List'] = df['Conditions_Detail_List'].apply(lambda row: [cond_map.get(val, val) for val in row])\n",
    "\n",
    "display(Counter([elem for row_list in df[\"Conditions_Detail_List\"] for elem in row_list]))"
   ]
  },
  {
   "cell_type": "code",
   "execution_count": 30,
   "metadata": {},
   "outputs": [],
   "source": [
    "# Search for Condition/body part worlds in 'Conditions' Column if \n",
    "Conditions2 = pd.DataFrame(sorted(set('|'.join(df.loc[\n",
    "        df['Conditions_Detail_List'].apply(lambda row: (\n",
    "            'Phenomena, Processes' in row or 'Pathological Conditions, Signs, Symptoms' in row or 'Cond_Detail_Other' in row)), \n",
    "            'Conditions'].dropna().astype(str)).replace(', ', '|').split('|'))), columns = ['Conditions2'])\n",
    "\n",
    "# Split Conditions2 into 4 columns --> Keep only the first 4 columns\n",
    "Conditions2 = Conditions2['Conditions2'].str.split(' ', expand = True)\n",
    "Conditions2 = Conditions2.iloc[:, 0:4]\n",
    "Conditions2 = Conditions2.drop_duplicates(keep = 'first').dropna()\n",
    "# Keep worlds of Conditions/Body parts as a list.\n",
    "cond2 = sorted(set(Conditions2[0].tolist())) + sorted(set(Conditions2[1].tolist())) +\\\n",
    "     sorted(set(Conditions2[2].tolist())) + sorted(set(Conditions2[3].tolist()))\n"
   ]
  },
  {
   "cell_type": "markdown",
   "metadata": {},
   "source": [
    "#### NaNs+ --> Fillna text -> Other"
   ]
  },
  {
   "cell_type": "code",
   "execution_count": 31,
   "metadata": {},
   "outputs": [],
   "source": [
    "# Create list of key worlds to search in 'Conditions' to fill Conditions_List/Conditions_Detail_List columns\n",
    "texts = [\n",
    " # a   \n",
    " 'abdominal','abdominis','abnormality','abortion','accident','acne','activities','adrenal','aging','airway','allergy',\n",
    " 'alveolar','alzheimer','anaesthesia','analgesi','analgesia','anemia','anesthesia','anorexia','antibiotic','antibody mediated rejection',\n",
    " 'anticalculus','anticoag','antimicrobial resistance','anxiety','aortic','apnoea','appetite','arthritis','asthma','atheroscler',\n",
    " 'atherosclerotic','attention deficit hyperactivity disorder','autism','avascular','axillary',\n",
    " # b\n",
    " 'bacteria','bacterial','behavior',\"bichat's\",\n",
    " 'bilateral','bile','bioavailability','bioequivalence','bipolar','bladder','bleeding','blood pressure','blood vessels','bone','bones',\n",
    " 'botulinum','bowel','bradycardia','brain','breast','bronchitis','bronchoscopic','buprenorphine','bypass', 'blood sugar',\n",
    " # c\n",
    " 'cancer','cannabis','carcinoma',\n",
    " 'cardiac','cardiovascular','health care','caregiver','carotid','cartilage','cell','cellulite','cerebral','cervical','cervix','cesarean',\n",
    " 'changas','cheek','chemical','chemotherapy','chest','cholesterol','chromosome-negative','cigar','clostridium','coagulation','cocaine',\n",
    " 'coffee','colitis','colon','colonoscopy','connective tissue','constipation','contraception','corneae','coronary','covid','critical ill',\n",
    " 'critically ill','cruciate ligament','cystic fibrosis',\n",
    " # d\n",
    " 'defecation','dementia','dental','depression','dermatitis','dexamethasone-induced','diabet',\n",
    " 'diabetes','diabetic','diaphragm','diarrhea','diet','digestive','donor','drug effect','drug-induced','dyslipidemia','dyspepsia',\n",
    " # e\n",
    " 'ear','eczema','education','encephalitis','endocrine','endometriosis','epilepsy','epithelial','esophageal','esophagus','eustachian',\n",
    " 'exercise','extracorporeal','eye','fat','fever','fevers','fibrosclerotic','fibrosis/tubular','food','foot',\n",
    " # g\n",
    " 'gallbladder','gastric','gastritis','gastro','gastroesophageal','gastrointestinal','gastroretentive','genetic','genitourinary','gingival',\n",
    " 'glaucoma','gout',\n",
    " # h\n",
    " 'haemopoietic','hamstring','hand','healthcare','heart','heart failure','helicobacter pylori','helminth','hematopoietic','hemmorhagic',\n",
    " 'hemodialysis','hemorrhage','hepatic','hepatics','hepatitis','hernia','heroin','hiccup','hip','hormones','hypertension','hypertensive',\n",
    " 'hypothermia','hypovolaemia','hypovolemia','hypoxia','hysterectomy',\n",
    " # i\n",
    " 'ileostomy','immun','immune','incisional','incretin',\n",
    " 'infant','infected','infection','inflammation','inflammatory bowel','inguinal','insomnia','integumentary','interstitial','intestinal',\n",
    " 'intestine','intra-cytoplasmic','intracellular','iris','ischemia','ischemic','jaw',\n",
    " # k\n",
    " 'kidney','knee',\n",
    " # l\n",
    " 'labour','laryngeal','leg','leukemia','ligament','limb','limbus','lipid','liver','lumbar','lung','lupus','lymph nodes','lymphatic','lymphoid',\n",
    " # m\n",
    " 'malaria','masseter','melatonin','menopausal','menopause','menstrual','mental','metabolism','metastatic','methamphetamin',\n",
    " 'migraine','mouth','mucous','muscle','muscles','muscular','musculoskeletal system','mutations','myalgia','myomectomy',\n",
    " # n\n",
    " 'nasal','nausea','neck','neoplasm','nephritis','nerve','nerves','nervous system','neuromuscular','neuropsychiatric','neurotrophic',\n",
    " 'nicotin','nurse','nutri','nutrient',\n",
    " # o\n",
    " 'obese','obesity','occlusive','ocular','oocyte','opioid','osteo','ovaries','oxygen','oxygenation',\n",
    " # p\n",
    " 'pain','pancrea','pancreas','panniculopathy','papillomavirus','papiloma','parathyroid','parkinson','pelvic','pelvis','penis','perianal',\n",
    " 'pghysical activity','pharmacokinetic','pharmacokinetics','phycolog','physical','physical activity','plasma','polyp','popliteal',\n",
    " 'post-lung','postoperative','postprandial','pregnan','prenatal','prolapse','prostate','psoriasis','pulmonary',\n",
    " #r\n",
    " 'radio','radiotherapy-induced',\n",
    " 'rectal','rectum','renal','reproductive','respiratory', r'\\brib\\b', r'\\bsars\\b',\n",
    " # s\n",
    " 'scalp','schizophrenia','scoliosis','sedation','sepsis','shoulder','skeletal','skin','sleep','smok','social','spinal',\n",
    " 'spine','spleen','staphylococcus','stoma','stomach','streptococcus','stress','stroke','sympathetic',\n",
    " # t\n",
    " 'tachycardia','teeth',\n",
    " 'temporomandibular','tendon','tendons','testes','testicles','tetrahydrocannabinol','thoracic','thymus','thyroid','tissue',\n",
    " 'tobacco','tongue','tonsillitis','tooth','toxin-induced','trachea','tracheo','tuberculosis','tumor',\n",
    " # u\n",
    " 'ulceration','unilateral','ureter','urethra','urin','urinary','urine','uter','uterovaginal','uterus','vagina','vaginal','valgus',\n",
    " # v\n",
    " 'vaping','vascular','vasomotor','ventral','verrucous','violence','vision','visual','vitamin','vomiting','vulvar',\n",
    " # w\n",
    " 'white spot lesion','wound','wrinkle', 'weight gain']\n",
    "\n",
    "texts = sorted(set([t.lower() for t in texts]))\n"
   ]
  },
  {
   "cell_type": "code",
   "execution_count": 32,
   "metadata": {},
   "outputs": [
    {
     "data": {
      "text/plain": [
       "18115"
      ]
     },
     "metadata": {},
     "output_type": "display_data"
    },
    {
     "data": {
      "text/plain": [
       "8584"
      ]
     },
     "metadata": {},
     "output_type": "display_data"
    },
    {
     "data": {
      "application/vnd.microsoft.datawrangler.viewer.v0+json": {
       "columns": [
        {
         "name": "Conditions_Detail_List",
         "rawType": "object",
         "type": "unknown"
        },
        {
         "name": "count",
         "rawType": "int64",
         "type": "integer"
        }
       ],
       "ref": "d0627008-e06a-4a78-9fbb-a353f810de02",
       "rows": [
        [
         "['Cond_Detail_Other']",
         "8584"
        ],
        [
         "['Neoplasms', 'Skin, Tissue']",
         "2760"
        ],
        [
         "['Musculoskeletal, Neural', 'Nervous System', 'Pathological Conditions, Signs, Symptoms', 'Psychiatry, Psychology, Anthropology, Sociology']",
         "2738"
        ],
        [
         "['Bacterial Infections and Mycoses', 'Respiratory, Circulatory', 'Virus Diseases']",
         "2721"
        ],
        [
         "['Psychiatry, Psychology, Anthropology, Sociology']",
         "2526"
        ],
        [
         "['Digestive System, Nutritional, Metabolic']",
         "2500"
        ],
        [
         "['Neoplasms']",
         "2498"
        ],
        [
         "['Cardiovascular']",
         "2186"
        ],
        [
         "['Digestive System, Nutritional, Metabolic', 'Neoplasms']",
         "2146"
        ],
        [
         "['Digestive System, Nutritional, Metabolic', 'Endocrine System']",
         "2053"
        ],
        [
         "['Hemic, Lymphatic, Immune System', 'Neoplasms']",
         "1880"
        ],
        [
         "['Bacterial Infections and Mycoses', 'Hemic, Lymphatic, Immune System', 'Urogenital, Pregnancy', 'Virus Diseases']",
         "1479"
        ],
        [
         "['Neoplasms', 'Urogenital, Pregnancy']",
         "1459"
        ],
        [
         "['Urogenital, Pregnancy']",
         "1434"
        ],
        [
         "['Neoplasms', 'Respiratory, Circulatory']",
         "1413"
        ],
        [
         "['Pathological Conditions, Signs, Symptoms']",
         "1379"
        ],
        [
         "['Eye']",
         "1172"
        ],
        [
         "['Skin, Tissue']",
         "1156"
        ],
        [
         "['Nervous System']",
         "1017"
        ],
        [
         "['Pathological Conditions, Signs, Symptoms', 'Urogenital, Pregnancy']",
         "982"
        ],
        [
         "['Hemic, Lymphatic, Immune System']",
         "875"
        ],
        [
         "['Chemical Disorders', 'Psychiatry, Psychology, Anthropology, Sociology']",
         "834"
        ],
        [
         "['Pathological Conditions, Signs, Symptoms', 'Respiratory, Circulatory']",
         "794"
        ],
        [
         "['Hemic, Lymphatic, Immune System', 'Neoplasms', 'Pathological Conditions, Signs, Symptoms']",
         "767"
        ],
        [
         "['Bacterial Infections and Mycoses']",
         "760"
        ],
        [
         "['Hemic, Lymphatic, Immune System', 'Respiratory, Circulatory']",
         "746"
        ],
        [
         "['Nervous System', 'Pathological Conditions, Signs, Symptoms', 'Psychiatry, Psychology, Anthropology, Sociology']",
         "725"
        ],
        [
         "['Virus Diseases']",
         "669"
        ],
        [
         "['Hemic, Lymphatic, Immune System', 'Musculoskeletal, Neural', 'Skin, Tissue']",
         "651"
        ],
        [
         "['Musculoskeletal, Neural', 'Skin, Tissue']",
         "623"
        ],
        [
         "['Cardiovascular', 'Hemic, Lymphatic, Immune System', 'Neoplasms']",
         "613"
        ],
        [
         "['Nervous System', 'Psychiatry, Psychology, Anthropology, Sociology']",
         "600"
        ],
        [
         "['Digestive System, Nutritional, Metabolic', 'Health Care, Therapeutics', 'Pathological Conditions, Signs, Symptoms', 'Phenomena, Processes']",
         "575"
        ],
        [
         "['Bacterial Infections and Mycoses', 'Digestive System, Nutritional, Metabolic', 'Pathological Conditions, Signs, Symptoms', 'Virus Diseases']",
         "547"
        ],
        [
         "['Cardiovascular', 'Pathological Conditions, Signs, Symptoms']",
         "528"
        ],
        [
         "['Stomatognathic, Otorhinolaryngologic']",
         "505"
        ],
        [
         "['Digestive System, Nutritional, Metabolic', 'Endocrine System', 'Neoplasms']",
         "465"
        ],
        [
         "['Digestive System, Nutritional, Metabolic', 'Endocrine System', 'Hemic, Lymphatic, Immune System']",
         "463"
        ],
        [
         "['Hemic, Lymphatic, Immune System', 'Hereditary, Neonatal, Abnormalities']",
         "447"
        ],
        [
         "['Hemic, Lymphatic, Immune System', 'Hereditary, Neonatal, Abnormalities', 'Skin, Tissue']",
         "445"
        ],
        [
         "['Bacterial Infections and Mycoses', 'Pathological Conditions, Signs, Symptoms']",
         "414"
        ],
        [
         "['Respiratory, Circulatory']",
         "411"
        ],
        [
         "['Cardiovascular', 'Nervous System']",
         "406"
        ],
        [
         "['Bacterial Infections and Mycoses', 'Digestive System, Nutritional, Metabolic', 'Virus Diseases']",
         "395"
        ],
        [
         "['Endocrine System', 'Neoplasms', 'Urogenital, Pregnancy']",
         "379"
        ],
        [
         "['Neoplasms', 'Pathological Conditions, Signs, Symptoms']",
         "336"
        ],
        [
         "['Digestive System, Nutritional, Metabolic', 'Pathological Conditions, Signs, Symptoms']",
         "332"
        ],
        [
         "['Neoplasms', 'Nervous System']",
         "332"
        ],
        [
         "['Wounds, Injuries']",
         "316"
        ],
        [
         "['Hemic, Lymphatic, Immune System', 'Nervous System']",
         "313"
        ]
       ],
       "shape": {
        "columns": 1,
        "rows": 2081
       }
      },
      "text/plain": [
       "Conditions_Detail_List\n",
       "[Cond_Detail_Other]                                                                                                                                                         8584\n",
       "[Neoplasms, Skin, Tissue]                                                                                                                                                   2760\n",
       "[Musculoskeletal, Neural, Nervous System, Pathological Conditions, Signs, Symptoms, Psychiatry, Psychology, Anthropology, Sociology]                                        2738\n",
       "[Bacterial Infections and Mycoses, Respiratory, Circulatory, Virus Diseases]                                                                                                2721\n",
       "[Psychiatry, Psychology, Anthropology, Sociology]                                                                                                                           2526\n",
       "                                                                                                                                                                            ... \n",
       "[Bacterial Infections and Mycoses, Hemic, Lymphatic, Immune System, Respiratory, Circulatory, Stomatognathic, Otorhinolaryngologic, Virus Diseases]                            1\n",
       "[Cardiovascular, Hemic, Lymphatic, Immune System, Pathological Conditions, Signs, Symptoms, Urogenital, Pregnancy]                                                             1\n",
       "[Bacterial Infections and Mycoses, Musculoskeletal, Neural, Pathological Conditions, Signs, Symptoms, Wounds, Injuries]                                                        1\n",
       "[Cardiovascular, Pathological Conditions, Signs, Symptoms, Phenomena, Processes, Psychiatry, Psychology, Anthropology, Sociology]                                              1\n",
       "[Cardiovascular, Hereditary, Neonatal, Abnormalities, Musculoskeletal, Neural, Neoplasms, Nervous System, Psychiatry, Psychology, Anthropology, Sociology, Skin, Tissue]       1\n",
       "Name: count, Length: 2081, dtype: int64"
      ]
     },
     "metadata": {},
     "output_type": "display_data"
    }
   ],
   "source": [
    "display(df[\"Conditions_Detail_List\"].apply(lambda x : x == ['Cond_Detail_Other']).sum())\n",
    "\n",
    "# ===============================================================================================================================\n",
    "# Covid-19 Column\n",
    "df.loc[(df['Covid_19_Bin'] == 'Yes') & (df['Conditions_Detail_List'].apply(lambda x: x == ['Cond_Detail_Other'])),'Conditions_Detail_List'] = df.loc[df['Covid_19_Bin'] == 'Yes','Conditions_Detail_List'].apply(\n",
    "    lambda x: ['Respiratory, Circulatory', 'Virus Diseases']) # Top list element.\n",
    "\n",
    "# ===============================================================================================================================\n",
    "# Conditions Column\n",
    "for text in texts:\n",
    "    case = False\n",
    "    try:\n",
    "        # Constraints\n",
    "        constr2 = ((df[\"Conditions\"].str.contains(text, case = case)) & (df['Conditions_Detail_List'].apply(lambda x: x == ['Cond_Detail_Other'])))\n",
    "        # text_new\n",
    "        text_new2 = df.loc[df['Conditions'].str.contains(text, case = case) & df['Conditions_Detail_List'].apply(\n",
    "            lambda x: x != ['Cond_Detail_Other'])]['Conditions_Detail_List'].value_counts(ascending = False).index[0] \n",
    "        # Applying the changes\n",
    "        df.loc[constr2, 'Conditions_Detail_List'] = df.loc[constr2, 'Conditions_Detail_List'].apply(lambda x: text_new2)\n",
    "    \n",
    "    except IndexError:\n",
    "        continue\n",
    "\n",
    "# ===============================================================================================================================\n",
    "texts = r'\\bALS\\b|\\bBPH\\b|\\bACL\\b|\\bALL\\b|\\bAML\\b|\\bARDS\\b|\\bAccidental Falls\\b|\\bAlcohol\\b|\\bHPV\\b|\\\n",
    "    \\bCOPD\\b|\\bPTSD\\b|\\bNSCLC\\b|\\bPCOS\\b|\\bOHSS\\b|\\bOSA\\b|\\bNAFLD\\b|\\bPOH\\b|\\bABPA\\b|\\bIBD\\b|\\\n",
    "    \\bPACU\\b|\\bPIK3CA\\b|\\bAOD\\b|\\bBPF\\b\\bNYHA\\b|\\bIPOM\\b|\\bHIV\\b|\\baids\\b|\\bAIDS\\b|\\badhd\\b'\n",
    "\n",
    "case = True\n",
    "try:\n",
    "# Constraints\n",
    "    constr2 = ((df[\"Conditions\"].str.contains(texts, case = case)) & (df['Conditions_Detail_List'].apply(lambda x: x == ['Cond_Detail_Other'])))\n",
    "# text_new - 1st choice as comments = for most common list description\n",
    "    # text_new2 = df.loc[df['Conditions'].str.contains(texts, case = case) & df['Conditions_Detail_List'].apply(lambda x: x != ['Cond_Detail_Other'])]\\\n",
    "    # ['Conditions_Detail_List'].value_counts(ascending = False).index[0]\n",
    "    \n",
    "# text_new - 1st choice as comments = for most common element description\n",
    "    all_elements2 = [elem for sublist in df.loc[df['Conditions'].str.contains(texts, case=case) & df['Conditions_Detail_List'].apply(lambda x: x != ['Cond_Detail_Other']), 'Conditions_Detail_List'] for elem in sublist]\n",
    "    text_new2 = [Counter(all_elements2).most_common(1)[0][0]]\n",
    "    # Applying the changes\n",
    "    df.loc[constr2, 'Conditions_Detail_List'] = df.loc[constr2, 'Conditions_Detail_List'].apply(lambda x: text_new2)\n",
    "\n",
    "except IndexError:\n",
    "    pass\n",
    "\n",
    "# ===============================================================================================================================\n",
    "# Erase 'Phenomena, Processes' if len_list > 1. They are mostly phenomena due to Conditions. \n",
    "'''\n",
    "df['Conditions_Detail_List'] = df['Conditions_Detail_List'].apply(\n",
    "    lambda row: [elem for elem in row if elem != 'Phenomena, Processes'] if \n",
    "    ('Phenomena, Processes' in row and len(row) >= 2) else row)'''\n",
    "'''\n",
    "# Erase 'Pathological Conditions, Signs, Symptoms' if len_list > 1. They are mostly symptoms due to Conditions. \n",
    "df['Conditions_Detail_List'] = df['Conditions_Detail_List'].apply(\n",
    "    lambda row: [elem for elem in row if elem != 'Pathological Conditions, Signs, Symptoms'] if \n",
    "    ('Pathological Conditions, Signs, Symptoms' in row and len(row) >= 2) else row)'''\n",
    "\n",
    "# ===============================================================================================================================\n",
    "display(df[\"Conditions_Detail_List\"].apply(lambda x : x == ['Cond_Detail_Other']).sum())\n",
    "\n",
    "# Sort/Set\n",
    "df[\"Conditions_Detail_List\"] = df[\"Conditions_Detail_List\"].apply(lambda x: sorted(set(x)))\n",
    "display(df[\"Conditions_Detail_List\"].value_counts(dropna = False))"
   ]
  },
  {
   "cell_type": "markdown",
   "metadata": {},
   "source": [
    "## Adverse_List"
   ]
  },
  {
   "cell_type": "code",
   "execution_count": 33,
   "metadata": {},
   "outputs": [
    {
     "data": {
      "application/vnd.microsoft.datawrangler.viewer.v0+json": {
       "columns": [
        {
         "name": "Adverse_List",
         "rawType": "object",
         "type": "unknown"
        },
        {
         "name": "count",
         "rawType": "int64",
         "type": "integer"
        }
       ],
       "ref": "cd374a7b-1de2-43be-aca7-d7ac0423edf4",
       "rows": [
        [
         "[]",
         "52492"
        ],
        [
         "['Death', 'Other', 'Serious']",
         "11511"
        ],
        [
         "['Other', 'Serious']",
         "6138"
        ],
        [
         "['Other']",
         "5064"
        ],
        [
         "['Death', 'Other']",
         "2089"
        ],
        [
         "['Death']",
         "991"
        ],
        [
         "['Death', 'Serious']",
         "532"
        ],
        [
         "['Serious']",
         "333"
        ]
       ],
       "shape": {
        "columns": 1,
        "rows": 8
       }
      },
      "text/plain": [
       "Adverse_List\n",
       "[]                         52492\n",
       "[Death, Other, Serious]    11511\n",
       "[Other, Serious]            6138\n",
       "[Other]                     5064\n",
       "[Death, Other]              2089\n",
       "[Death]                      991\n",
       "[Death, Serious]             532\n",
       "[Serious]                    333\n",
       "Name: count, dtype: int64"
      ]
     },
     "metadata": {},
     "output_type": "display_data"
    }
   ],
   "source": [
    "df = df.merge(my_adverse[[\"nct_id\", \"event_type\", \"event_sum\"]], on = \"nct_id\", how = \"left\")\n",
    "df = df.rename(columns={\"event_type\" : \"Adverse_List\"})\n",
    "display(df[\"Adverse_List\"].value_counts(dropna=False))"
   ]
  },
  {
   "cell_type": "markdown",
   "metadata": {},
   "source": [
    "### NaNs++ -> None"
   ]
  },
  {
   "cell_type": "code",
   "execution_count": 34,
   "metadata": {},
   "outputs": [
    {
     "data": {
      "application/vnd.microsoft.datawrangler.viewer.v0+json": {
       "columns": [
        {
         "name": "Adverse_List",
         "rawType": "object",
         "type": "unknown"
        },
        {
         "name": "count",
         "rawType": "int64",
         "type": "integer"
        }
       ],
       "ref": "d73e545e-8f5f-44a2-9cfe-6cd5085a6e89",
       "rows": [
        [
         "['Adv_None']",
         "52492"
        ],
        [
         "['Adv_Death', 'Adv_Unspecified', 'Adv_Serious']",
         "11511"
        ],
        [
         "['Adv_Unspecified', 'Adv_Serious']",
         "6138"
        ],
        [
         "['Adv_Unspecified']",
         "5064"
        ],
        [
         "['Adv_Death', 'Adv_Unspecified']",
         "2089"
        ],
        [
         "['Adv_Death']",
         "991"
        ],
        [
         "['Adv_Death', 'Adv_Serious']",
         "532"
        ],
        [
         "['Adv_Serious']",
         "333"
        ]
       ],
       "shape": {
        "columns": 1,
        "rows": 8
       }
      },
      "text/plain": [
       "Adverse_List\n",
       "[Adv_None]                                   52492\n",
       "[Adv_Death, Adv_Unspecified, Adv_Serious]    11511\n",
       "[Adv_Unspecified, Adv_Serious]                6138\n",
       "[Adv_Unspecified]                             5064\n",
       "[Adv_Death, Adv_Unspecified]                  2089\n",
       "[Adv_Death]                                    991\n",
       "[Adv_Death, Adv_Serious]                       532\n",
       "[Adv_Serious]                                  333\n",
       "Name: count, dtype: int64"
      ]
     },
     "metadata": {},
     "output_type": "display_data"
    }
   ],
   "source": [
    "# if NaN here means no adverse recorded!\n",
    "df[\"Adverse_List\"] = df[\"Adverse_List\"].apply(lambda x: ['None'] if (isinstance(x, list) and len(x) == 0) else x) \n",
    "\n",
    "# Unspecified instead of Other because in drop_first for dummy encoing words like other/none are dropped, and this column\n",
    "# already has a none category.\n",
    "df[\"Adverse_List\"] = df[\"Adverse_List\"].apply(lambda row: ['Unspecified' if x == 'Other' else x for x in row])\n",
    "df['Adverse_List'] = df['Adverse_List'].apply(lambda row: ['Adv_' + elem for elem in row])\n",
    "\n",
    "display(df[\"Adverse_List\"].value_counts(dropna=False))"
   ]
  },
  {
   "cell_type": "markdown",
   "metadata": {},
   "source": [
    "## Adverse_Counts\n",
    "- number of adverse noticed at the participants is not the same with non None adverse events noticed above. \n",
    "- Distribution of Adverse_Counts is up to 75% at 0. Only Adverse_Bin is going to be used."
   ]
  },
  {
   "cell_type": "code",
   "execution_count": 35,
   "metadata": {},
   "outputs": [
    {
     "data": {
      "application/vnd.microsoft.datawrangler.viewer.v0+json": {
       "columns": [
        {
         "name": "Adverse_Counts",
         "rawType": "int32",
         "type": "integer"
        },
        {
         "name": "count",
         "rawType": "int64",
         "type": "integer"
        }
       ],
       "ref": "9cd7a446-6bb3-4e86-b9fc-dc5d95f9647a",
       "rows": [
        [
         "0",
         "53326"
        ],
        [
         "1",
         "1342"
        ],
        [
         "3",
         "897"
        ],
        [
         "6",
         "635"
        ],
        [
         "4",
         "531"
        ],
        [
         "2",
         "514"
        ],
        [
         "10",
         "500"
        ],
        [
         "5",
         "472"
        ],
        [
         "7",
         "456"
        ],
        [
         "8",
         "431"
        ],
        [
         "9",
         "407"
        ],
        [
         "15",
         "390"
        ],
        [
         "12",
         "386"
        ],
        [
         "13",
         "381"
        ],
        [
         "11",
         "379"
        ],
        [
         "14",
         "357"
        ],
        [
         "16",
         "340"
        ],
        [
         "21",
         "323"
        ],
        [
         "17",
         "304"
        ],
        [
         "18",
         "294"
        ],
        [
         "19",
         "286"
        ],
        [
         "20",
         "280"
        ],
        [
         "22",
         "266"
        ],
        [
         "25",
         "255"
        ],
        [
         "23",
         "254"
        ],
        [
         "28",
         "249"
        ],
        [
         "24",
         "249"
        ],
        [
         "27",
         "224"
        ],
        [
         "29",
         "220"
        ],
        [
         "26",
         "216"
        ],
        [
         "31",
         "212"
        ],
        [
         "30",
         "204"
        ],
        [
         "33",
         "192"
        ],
        [
         "35",
         "180"
        ],
        [
         "32",
         "180"
        ],
        [
         "34",
         "174"
        ],
        [
         "37",
         "172"
        ],
        [
         "36",
         "168"
        ],
        [
         "42",
         "152"
        ],
        [
         "41",
         "152"
        ],
        [
         "38",
         "147"
        ],
        [
         "39",
         "147"
        ],
        [
         "40",
         "143"
        ],
        [
         "43",
         "136"
        ],
        [
         "44",
         "131"
        ],
        [
         "48",
         "130"
        ],
        [
         "46",
         "127"
        ],
        [
         "50",
         "126"
        ],
        [
         "45",
         "121"
        ],
        [
         "49",
         "119"
        ]
       ],
       "shape": {
        "columns": 1,
        "rows": 1507
       }
      },
      "text/plain": [
       "Adverse_Counts\n",
       "0       53326\n",
       "1        1342\n",
       "3         897\n",
       "6         635\n",
       "4         531\n",
       "        ...  \n",
       "1622        1\n",
       "2739        1\n",
       "2629        1\n",
       "996         1\n",
       "704         1\n",
       "Name: count, Length: 1507, dtype: int64"
      ]
     },
     "metadata": {},
     "output_type": "display_data"
    }
   ],
   "source": [
    "df = df.rename(columns={\"event_sum\" : \"Adverse_Counts\"}) \n",
    "df[\"Adverse_Counts\"] = df[\"Adverse_Counts\"].astype(int)\n",
    "display(df[\"Adverse_Counts\"].value_counts(dropna = False))"
   ]
  },
  {
   "cell_type": "markdown",
   "metadata": {},
   "source": [
    "### NaNs\n",
    "Some rows have Adverse_Counts == 0 however adverse_list == ['Adv_Death']. But we do not know the number of events"
   ]
  },
  {
   "cell_type": "code",
   "execution_count": 36,
   "metadata": {},
   "outputs": [
    {
     "data": {
      "text/plain": [
       "834"
      ]
     },
     "execution_count": 36,
     "metadata": {},
     "output_type": "execute_result"
    }
   ],
   "source": [
    "df.loc[(df['Adverse_Counts'] == 0) & (df['Adverse_List'].apply(lambda x: x == ['Adv_Death'])), 'Adverse_Counts'].shape[0]"
   ]
  },
  {
   "cell_type": "markdown",
   "metadata": {},
   "source": [
    "## Adverse_Counts_Log\n",
    "- Distribution of Adverse_Counts is up to 75% at 0. Only Adverse_Bin is going to be used."
   ]
  },
  {
   "cell_type": "code",
   "execution_count": 37,
   "metadata": {},
   "outputs": [
    {
     "data": {
      "application/vnd.microsoft.datawrangler.viewer.v0+json": {
       "columns": [
        {
         "name": "index",
         "rawType": "object",
         "type": "string"
        },
        {
         "name": "Adverse_Counts_Log",
         "rawType": "float64",
         "type": "float"
        }
       ],
       "ref": "a4596ee4-5bb1-47da-b927-b45238d02c45",
       "rows": [
        [
         "count",
         "79150.0"
        ],
        [
         "mean",
         "1.1911072880016726"
        ],
        [
         "std",
         "1.9482270159870492"
        ],
        [
         "min",
         "0.0"
        ],
        [
         "25%",
         "0.0"
        ],
        [
         "50%",
         "0.0"
        ],
        [
         "75%",
         "2.3978952727983707"
        ],
        [
         "max",
         "11.159758646073097"
        ]
       ],
       "shape": {
        "columns": 1,
        "rows": 8
       }
      },
      "text/plain": [
       "count    79150.000000\n",
       "mean         1.191107\n",
       "std          1.948227\n",
       "min          0.000000\n",
       "25%          0.000000\n",
       "50%          0.000000\n",
       "75%          2.397895\n",
       "max         11.159759\n",
       "Name: Adverse_Counts_Log, dtype: float64"
      ]
     },
     "metadata": {},
     "output_type": "display_data"
    }
   ],
   "source": [
    "df['Adverse_Counts_Log'] = np.log1p(df['Adverse_Counts'])\n",
    "display(df['Adverse_Counts_Log'].describe())"
   ]
  },
  {
   "cell_type": "markdown",
   "metadata": {},
   "source": [
    "## Adverse_Bin"
   ]
  },
  {
   "cell_type": "code",
   "execution_count": 38,
   "metadata": {},
   "outputs": [],
   "source": [
    "df.loc[df[\"Adverse_Counts\"] == 0, \"Adverse_Bin\"] = 'No'\n",
    "df.loc[df[\"Adverse_Counts\"] >= 1, \"Adverse_Bin\"] = 'Yes'"
   ]
  },
  {
   "cell_type": "markdown",
   "metadata": {},
   "source": [
    "## Adverse_System_List"
   ]
  },
  {
   "cell_type": "code",
   "execution_count": 39,
   "metadata": {},
   "outputs": [
    {
     "data": {
      "text/plain": [
       "Counter({'Gastrointestinal': 20619,\n",
       "         'Nervous System': 19514,\n",
       "         'General': 18888,\n",
       "         'Infections': 18405,\n",
       "         'Respiratory': 16590,\n",
       "         'Musculoskeletal': 15763,\n",
       "         'Skin': 14705,\n",
       "         'Injury, Poisoning, Procedural': 13516,\n",
       "         'Product Issues, Investigations': 13197,\n",
       "         'Metabolism/ Nutrition': 12817,\n",
       "         'Cardio': 12777,\n",
       "         'Psychiatric, Social': 12219,\n",
       "         'Blood, Lymphatic, Endocrine': 12200,\n",
       "         'Vascular': 12185,\n",
       "         'Renal, Urinary': 11375,\n",
       "         'Eye': 8933,\n",
       "         'Neoplasms': 8149,\n",
       "         'Reproductive, Pregnancy, Breast': 7169,\n",
       "         'Hepatobiliary': 7144,\n",
       "         'Ear': 5862,\n",
       "         'Immune System': 5402,\n",
       "         'Surgical, Medical': 2724})"
      ]
     },
     "metadata": {},
     "output_type": "display_data"
    }
   ],
   "source": [
    "df = df.merge(my_adverse_system[[\"nct_id\", \"organ_system\"]], on = \"nct_id\", how = \"left\")\n",
    "df = df.rename(columns={\"organ_system\" : \"Adverse_System_List\"})\n",
    "display(Counter([elem for row_list in df[\"Adverse_System_List\"].dropna() for elem in row_list]))  "
   ]
  },
  {
   "cell_type": "markdown",
   "metadata": {},
   "source": [
    "### NaNs++ -> None\n",
    "- Number is cose to Adverse_List ~ 43 thousands missing"
   ]
  },
  {
   "cell_type": "code",
   "execution_count": 41,
   "metadata": {},
   "outputs": [
    {
     "data": {
      "application/vnd.microsoft.datawrangler.viewer.v0+json": {
       "columns": [
        {
         "name": "index",
         "rawType": "int64",
         "type": "integer"
        },
        {
         "name": "Adverse_List",
         "rawType": "object",
         "type": "unknown"
        },
        {
         "name": "Adverse_System_List",
         "rawType": "object",
         "type": "unknown"
        }
       ],
       "ref": "78cac357-0aba-4c70-b47c-a7de1753cf7f",
       "rows": [
        [
         "41",
         "['Adv_Death', 'Adv_Serious']",
         "['General']"
        ],
        [
         "262",
         "['Adv_Death', 'Adv_Unspecified']",
         "['General']"
        ],
        [
         "534",
         "['Adv_Death', 'Adv_Unspecified', 'Adv_Serious']",
         "['General']"
        ],
        [
         "639",
         "['Adv_Unspecified']",
         "['General']"
        ],
        [
         "1116",
         "['Adv_Unspecified']",
         "['General']"
        ],
        [
         "1701",
         "['Adv_Serious']",
         "['General']"
        ],
        [
         "2426",
         "['Adv_Serious']",
         "['General']"
        ],
        [
         "2438",
         "['Adv_Unspecified']",
         "['General']"
        ],
        [
         "2508",
         "['Adv_Unspecified']",
         "['General']"
        ],
        [
         "2625",
         "['Adv_Unspecified']",
         "['General']"
        ],
        [
         "3215",
         "['Adv_Unspecified']",
         "['General']"
        ],
        [
         "3466",
         "['Adv_Death', 'Adv_Serious']",
         "['General']"
        ],
        [
         "3490",
         "['Adv_Unspecified']",
         "['General']"
        ],
        [
         "3611",
         "['Adv_Death', 'Adv_Unspecified']",
         "['General']"
        ],
        [
         "3744",
         "['Adv_Unspecified']",
         "['General']"
        ],
        [
         "3955",
         "['Adv_Unspecified']",
         "['General']"
        ],
        [
         "4012",
         "['Adv_Unspecified']",
         "['General']"
        ],
        [
         "4911",
         "['Adv_Death', 'Adv_Unspecified']",
         "['General']"
        ],
        [
         "5521",
         "['Adv_Unspecified']",
         "['General']"
        ],
        [
         "5855",
         "['Adv_Unspecified']",
         "['General']"
        ],
        [
         "5868",
         "['Adv_Unspecified']",
         "['General']"
        ],
        [
         "6873",
         "['Adv_Death', 'Adv_Serious']",
         "['General']"
        ],
        [
         "7087",
         "['Adv_Death', 'Adv_Unspecified']",
         "['General']"
        ],
        [
         "7243",
         "['Adv_Unspecified']",
         "['General']"
        ],
        [
         "7978",
         "['Adv_Serious']",
         "['General']"
        ],
        [
         "8021",
         "['Adv_Unspecified']",
         "['General']"
        ],
        [
         "8433",
         "['Adv_Unspecified', 'Adv_Serious']",
         "['General']"
        ],
        [
         "8568",
         "['Adv_Unspecified']",
         "['General']"
        ],
        [
         "9216",
         "['Adv_Death', 'Adv_Unspecified']",
         "['General']"
        ],
        [
         "9539",
         "['Adv_Unspecified']",
         "['General']"
        ],
        [
         "9861",
         "['Adv_Unspecified']",
         "['General']"
        ],
        [
         "10057",
         "['Adv_Death', 'Adv_Unspecified']",
         "['General']"
        ],
        [
         "10639",
         "['Adv_Unspecified']",
         "['General']"
        ],
        [
         "10777",
         "['Adv_Unspecified']",
         "['General']"
        ],
        [
         "10819",
         "['Adv_Death', 'Adv_Unspecified']",
         "['General']"
        ],
        [
         "11196",
         "['Adv_Unspecified']",
         "['General']"
        ],
        [
         "11919",
         "['Adv_Death', 'Adv_Unspecified']",
         "['General']"
        ],
        [
         "12524",
         "['Adv_Unspecified']",
         "['General']"
        ],
        [
         "12785",
         "['Adv_Unspecified']",
         "['General']"
        ],
        [
         "12792",
         "['Adv_Death', 'Adv_Unspecified']",
         "['General']"
        ],
        [
         "13292",
         "['Adv_Unspecified']",
         "['General']"
        ],
        [
         "13407",
         "['Adv_Unspecified']",
         "['General']"
        ],
        [
         "13460",
         "['Adv_Unspecified']",
         "['General']"
        ],
        [
         "13496",
         "['Adv_Death', 'Adv_Serious']",
         "['General']"
        ],
        [
         "13518",
         "['Adv_Unspecified']",
         "['General']"
        ],
        [
         "13584",
         "['Adv_Unspecified']",
         "['General']"
        ],
        [
         "13736",
         "['Adv_Serious']",
         "['General']"
        ],
        [
         "13749",
         "['Adv_Unspecified']",
         "['General']"
        ],
        [
         "13977",
         "['Adv_Death', 'Adv_Serious']",
         "['General']"
        ],
        [
         "14818",
         "['Adv_Unspecified']",
         "['General']"
        ]
       ],
       "shape": {
        "columns": 2,
        "rows": 263
       }
      },
      "text/html": [
       "<div>\n",
       "<style scoped>\n",
       "    .dataframe tbody tr th:only-of-type {\n",
       "        vertical-align: middle;\n",
       "    }\n",
       "\n",
       "    .dataframe tbody tr th {\n",
       "        vertical-align: top;\n",
       "    }\n",
       "\n",
       "    .dataframe thead th {\n",
       "        text-align: right;\n",
       "    }\n",
       "</style>\n",
       "<table border=\"1\" class=\"dataframe\">\n",
       "  <thead>\n",
       "    <tr style=\"text-align: right;\">\n",
       "      <th></th>\n",
       "      <th>Adverse_List</th>\n",
       "      <th>Adverse_System_List</th>\n",
       "    </tr>\n",
       "  </thead>\n",
       "  <tbody>\n",
       "    <tr>\n",
       "      <th>41</th>\n",
       "      <td>[Adv_Death, Adv_Serious]</td>\n",
       "      <td>[General]</td>\n",
       "    </tr>\n",
       "    <tr>\n",
       "      <th>262</th>\n",
       "      <td>[Adv_Death, Adv_Unspecified]</td>\n",
       "      <td>[General]</td>\n",
       "    </tr>\n",
       "    <tr>\n",
       "      <th>534</th>\n",
       "      <td>[Adv_Death, Adv_Unspecified, Adv_Serious]</td>\n",
       "      <td>[General]</td>\n",
       "    </tr>\n",
       "    <tr>\n",
       "      <th>639</th>\n",
       "      <td>[Adv_Unspecified]</td>\n",
       "      <td>[General]</td>\n",
       "    </tr>\n",
       "    <tr>\n",
       "      <th>1116</th>\n",
       "      <td>[Adv_Unspecified]</td>\n",
       "      <td>[General]</td>\n",
       "    </tr>\n",
       "    <tr>\n",
       "      <th>...</th>\n",
       "      <td>...</td>\n",
       "      <td>...</td>\n",
       "    </tr>\n",
       "    <tr>\n",
       "      <th>77795</th>\n",
       "      <td>[Adv_Death, Adv_Serious]</td>\n",
       "      <td>[General]</td>\n",
       "    </tr>\n",
       "    <tr>\n",
       "      <th>78006</th>\n",
       "      <td>[Adv_Unspecified]</td>\n",
       "      <td>[General]</td>\n",
       "    </tr>\n",
       "    <tr>\n",
       "      <th>78379</th>\n",
       "      <td>[Adv_Death, Adv_Unspecified, Adv_Serious]</td>\n",
       "      <td>[General]</td>\n",
       "    </tr>\n",
       "    <tr>\n",
       "      <th>78439</th>\n",
       "      <td>[Adv_Death, Adv_Serious]</td>\n",
       "      <td>[General]</td>\n",
       "    </tr>\n",
       "    <tr>\n",
       "      <th>78664</th>\n",
       "      <td>[Adv_Unspecified]</td>\n",
       "      <td>[General]</td>\n",
       "    </tr>\n",
       "  </tbody>\n",
       "</table>\n",
       "<p>263 rows × 2 columns</p>\n",
       "</div>"
      ],
      "text/plain": [
       "                                    Adverse_List Adverse_System_List\n",
       "41                      [Adv_Death, Adv_Serious]           [General]\n",
       "262                 [Adv_Death, Adv_Unspecified]           [General]\n",
       "534    [Adv_Death, Adv_Unspecified, Adv_Serious]           [General]\n",
       "639                            [Adv_Unspecified]           [General]\n",
       "1116                           [Adv_Unspecified]           [General]\n",
       "...                                          ...                 ...\n",
       "77795                   [Adv_Death, Adv_Serious]           [General]\n",
       "78006                          [Adv_Unspecified]           [General]\n",
       "78379  [Adv_Death, Adv_Unspecified, Adv_Serious]           [General]\n",
       "78439                   [Adv_Death, Adv_Serious]           [General]\n",
       "78664                          [Adv_Unspecified]           [General]\n",
       "\n",
       "[263 rows x 2 columns]"
      ]
     },
     "execution_count": 41,
     "metadata": {},
     "output_type": "execute_result"
    }
   ],
   "source": [
    "df[df['Adverse_System_List'].apply(lambda x: x == ['General'])][['Adverse_List', 'Adverse_System_List' ]]"
   ]
  },
  {
   "cell_type": "code",
   "execution_count": 42,
   "metadata": {},
   "outputs": [
    {
     "data": {
      "application/vnd.microsoft.datawrangler.viewer.v0+json": {
       "columns": [
        {
         "name": "Adverse_System_List",
         "rawType": "object",
         "type": "string"
        },
        {
         "name": "count",
         "rawType": "int64",
         "type": "integer"
        }
       ],
       "ref": "83594aaa-4b96-4dab-a735-444544a30649",
       "rows": [
        [
         "Adv_Syst_None",
         "52472"
        ],
        [
         "Adv_Syst_Gastrointestinal",
         "20619"
        ],
        [
         "Adv_Syst_General",
         "19866"
        ],
        [
         "Adv_Syst_Nervous System",
         "19514"
        ],
        [
         "Adv_Syst_Infections",
         "18405"
        ],
        [
         "Adv_Syst_Respiratory",
         "16590"
        ],
        [
         "Adv_Syst_Musculoskeletal",
         "15763"
        ],
        [
         "Adv_Syst_Skin",
         "14705"
        ],
        [
         "Adv_Syst_Injury, Poisoning, Procedural",
         "13516"
        ],
        [
         "Adv_Syst_Product Issues, Investigations",
         "13197"
        ],
        [
         "Adv_Syst_Metabolism/ Nutrition",
         "12817"
        ],
        [
         "Adv_Syst_Cardio",
         "12777"
        ],
        [
         "Adv_Syst_Psychiatric, Social",
         "12219"
        ],
        [
         "Adv_Syst_Blood, Lymphatic, Endocrine",
         "12200"
        ],
        [
         "Adv_Syst_Vascular",
         "12185"
        ],
        [
         "Adv_Syst_Renal, Urinary",
         "11375"
        ],
        [
         "Adv_Syst_Eye",
         "8933"
        ],
        [
         "Adv_Syst_Neoplasms",
         "8149"
        ],
        [
         "Adv_Syst_Reproductive, Pregnancy, Breast",
         "7169"
        ],
        [
         "Adv_Syst_Hepatobiliary",
         "7144"
        ],
        [
         "Adv_Syst_Ear",
         "5862"
        ],
        [
         "Adv_Syst_Immune System",
         "5402"
        ],
        [
         "Adv_Syst_Surgical, Medical",
         "2724"
        ]
       ],
       "shape": {
        "columns": 1,
        "rows": 23
       }
      },
      "text/plain": [
       "Adverse_System_List\n",
       "Adv_Syst_None                               52472\n",
       "Adv_Syst_Gastrointestinal                   20619\n",
       "Adv_Syst_General                            19866\n",
       "Adv_Syst_Nervous System                     19514\n",
       "Adv_Syst_Infections                         18405\n",
       "Adv_Syst_Respiratory                        16590\n",
       "Adv_Syst_Musculoskeletal                    15763\n",
       "Adv_Syst_Skin                               14705\n",
       "Adv_Syst_Injury, Poisoning, Procedural      13516\n",
       "Adv_Syst_Product Issues, Investigations     13197\n",
       "Adv_Syst_Metabolism/ Nutrition              12817\n",
       "Adv_Syst_Cardio                             12777\n",
       "Adv_Syst_Psychiatric, Social                12219\n",
       "Adv_Syst_Blood, Lymphatic, Endocrine        12200\n",
       "Adv_Syst_Vascular                           12185\n",
       "Adv_Syst_Renal, Urinary                     11375\n",
       "Adv_Syst_Eye                                 8933\n",
       "Adv_Syst_Neoplasms                           8149\n",
       "Adv_Syst_Reproductive, Pregnancy, Breast     7169\n",
       "Adv_Syst_Hepatobiliary                       7144\n",
       "Adv_Syst_Ear                                 5862\n",
       "Adv_Syst_Immune System                       5402\n",
       "Adv_Syst_Surgical, Medical                   2724\n",
       "Name: count, dtype: int64"
      ]
     },
     "metadata": {},
     "output_type": "display_data"
    },
    {
     "data": {
      "text/plain": [
       "Counter({'Adv_Syst_None': 52472,\n",
       "         'Adv_Syst_Gastrointestinal': 20619,\n",
       "         'Adv_Syst_General': 19866,\n",
       "         'Adv_Syst_Nervous System': 19514,\n",
       "         'Adv_Syst_Infections': 18405,\n",
       "         'Adv_Syst_Respiratory': 16590,\n",
       "         'Adv_Syst_Musculoskeletal': 15763,\n",
       "         'Adv_Syst_Skin': 14705,\n",
       "         'Adv_Syst_Injury, Poisoning, Procedural': 13516,\n",
       "         'Adv_Syst_Product Issues, Investigations': 13197,\n",
       "         'Adv_Syst_Metabolism/ Nutrition': 12817,\n",
       "         'Adv_Syst_Cardio': 12777,\n",
       "         'Adv_Syst_Psychiatric, Social': 12219,\n",
       "         'Adv_Syst_Blood, Lymphatic, Endocrine': 12200,\n",
       "         'Adv_Syst_Vascular': 12185,\n",
       "         'Adv_Syst_Renal, Urinary': 11375,\n",
       "         'Adv_Syst_Eye': 8933,\n",
       "         'Adv_Syst_Neoplasms': 8149,\n",
       "         'Adv_Syst_Reproductive, Pregnancy, Breast': 7169,\n",
       "         'Adv_Syst_Hepatobiliary': 7144,\n",
       "         'Adv_Syst_Ear': 5862,\n",
       "         'Adv_Syst_Immune System': 5402,\n",
       "         'Adv_Syst_Surgical, Medical': 2724})"
      ]
     },
     "metadata": {},
     "output_type": "display_data"
    }
   ],
   "source": [
    "# Checked: Only None and Death at Adv_List col for nan in Adverse_System_List col\n",
    "cond1 = (df['Adverse_System_List'].isnull()) & (df['Adverse_List'].apply(lambda x: x == ['Adv_None'])) \n",
    "cond2 = (df['Adverse_System_List'].isnull()) & (df['Adverse_List'].apply(lambda x: x == ['Adv_Death']))\n",
    "\n",
    "df['Adverse_System_List'] = np.where(cond1, 'None', df['Adverse_System_List'])\n",
    "df['Adverse_System_List'] = np.where(cond2, 'General', df['Adverse_System_List'])\n",
    "df['Adverse_System_List'] = df['Adverse_System_List'].apply(lambda x: [x] if isinstance(x, str) else x)\n",
    "\n",
    "df[\"Adverse_System_List\"] = df[\"Adverse_System_List\"].apply(lambda x: sorted(set(x)) if isinstance(x, str) else x)\n",
    "df['Adverse_System_List'] = df['Adverse_System_List'].apply(lambda lst: ['Adv_Syst_' + elem for elem in lst])\n",
    "\n",
    "display(df[\"Adverse_System_List\"].explode().value_counts(dropna=False))\n",
    "display(Counter([elem for row_list in df[\"Adverse_System_List\"] for elem in row_list]))\n"
   ]
  },
  {
   "cell_type": "markdown",
   "metadata": {},
   "source": [
    "## Adverse_System_Counts\n",
    "- How many organ systems where affected"
   ]
  },
  {
   "cell_type": "code",
   "execution_count": 43,
   "metadata": {},
   "outputs": [
    {
     "data": {
      "application/vnd.microsoft.datawrangler.viewer.v0+json": {
       "columns": [
        {
         "name": "Adverse_System_Counts",
         "rawType": "int64",
         "type": "integer"
        },
        {
         "name": "count",
         "rawType": "int64",
         "type": "integer"
        }
       ],
       "ref": "06abb24e-aa6f-455e-9d6f-ab6e2f8660c9",
       "rows": [
        [
         "0",
         "52472"
        ],
        [
         "1",
         "2857"
        ],
        [
         "2",
         "1513"
        ],
        [
         "3",
         "1342"
        ],
        [
         "4",
         "1284"
        ],
        [
         "18",
         "1257"
        ],
        [
         "17",
         "1222"
        ],
        [
         "6",
         "1217"
        ],
        [
         "5",
         "1212"
        ],
        [
         "8",
         "1205"
        ],
        [
         "19",
         "1192"
        ],
        [
         "7",
         "1183"
        ],
        [
         "9",
         "1155"
        ],
        [
         "16",
         "1147"
        ],
        [
         "12",
         "1144"
        ],
        [
         "11",
         "1123"
        ],
        [
         "10",
         "1099"
        ],
        [
         "15",
         "1094"
        ],
        [
         "13",
         "1063"
        ],
        [
         "14",
         "1054"
        ],
        [
         "20",
         "1046"
        ],
        [
         "21",
         "886"
        ],
        [
         "22",
         "383"
        ]
       ],
       "shape": {
        "columns": 1,
        "rows": 23
       }
      },
      "text/plain": [
       "Adverse_System_Counts\n",
       "0     52472\n",
       "1      2857\n",
       "2      1513\n",
       "3      1342\n",
       "4      1284\n",
       "18     1257\n",
       "17     1222\n",
       "6      1217\n",
       "5      1212\n",
       "8      1205\n",
       "19     1192\n",
       "7      1183\n",
       "9      1155\n",
       "16     1147\n",
       "12     1144\n",
       "11     1123\n",
       "10     1099\n",
       "15     1094\n",
       "13     1063\n",
       "14     1054\n",
       "20     1046\n",
       "21      886\n",
       "22      383\n",
       "Name: count, dtype: int64"
      ]
     },
     "metadata": {},
     "output_type": "display_data"
    }
   ],
   "source": [
    "df['Adverse_System_Counts'] = df['Adverse_System_List'].apply(\n",
    "    lambda x: len(x) if isinstance(x, list) and x != ['Adv_Syst_None'] else 0)\n",
    "display(df['Adverse_System_Counts'].value_counts(dropna = False))"
   ]
  },
  {
   "cell_type": "markdown",
   "metadata": {},
   "source": [
    "## Adverse_System_Counts_Log"
   ]
  },
  {
   "cell_type": "code",
   "execution_count": 44,
   "metadata": {},
   "outputs": [
    {
     "data": {
      "application/vnd.microsoft.datawrangler.viewer.v0+json": {
       "columns": [
        {
         "name": "index",
         "rawType": "object",
         "type": "string"
        },
        {
         "name": "Adverse_System_Counts_Log",
         "rawType": "float64",
         "type": "float"
        }
       ],
       "ref": "6e2abc26-63ca-4bd1-a61c-baa663cbd109",
       "rows": [
        [
         "count",
         "79150.0"
        ],
        [
         "mean",
         "0.7341407220675265"
        ],
        [
         "std",
         "1.1198660997176737"
        ],
        [
         "min",
         "0.0"
        ],
        [
         "25%",
         "0.0"
        ],
        [
         "50%",
         "0.0"
        ],
        [
         "75%",
         "1.6094379124341003"
        ],
        [
         "max",
         "3.1354942159291497"
        ]
       ],
       "shape": {
        "columns": 1,
        "rows": 8
       }
      },
      "text/plain": [
       "count    79150.000000\n",
       "mean         0.734141\n",
       "std          1.119866\n",
       "min          0.000000\n",
       "25%          0.000000\n",
       "50%          0.000000\n",
       "75%          1.609438\n",
       "max          3.135494\n",
       "Name: Adverse_System_Counts_Log, dtype: float64"
      ]
     },
     "execution_count": 44,
     "metadata": {},
     "output_type": "execute_result"
    }
   ],
   "source": [
    "df['Adverse_System_Counts_Log'] = np.log1p(df[\"Adverse_System_Counts\"]) \n",
    "df['Adverse_System_Counts_Log'].describe()"
   ]
  },
  {
   "cell_type": "markdown",
   "metadata": {},
   "source": [
    "## Study Design\n",
    "\n",
    "Source: \n",
    "https://clinicaltrials.gov/policy/protocol-definitions#study-design\n",
    "\n",
    "Clinical Trials.gov Documentation: \n",
    "1. Allocation: \n",
    "The method by which participants are assigned to arms in a clinical trial.\n",
    "- N/A (not applicable): For a single-arm trial\n",
    "- Randomized: Participants are assigned to intervention groups by chance\n",
    "- Nonrandomized: Participants are expressly assigned to intervention groups through a non-random method, such as physician choice \n",
    "2. Intervention_model (Single Group, Crossover etc.)\n",
    "3. Masking  (Blindness, None, Double etc.)\n",
    "4. Primary purpose (Treatment, Screening etc.)\n",
    "\n"
   ]
  },
  {
   "cell_type": "markdown",
   "metadata": {},
   "source": [
    "### Allocation_List"
   ]
  },
  {
   "cell_type": "code",
   "execution_count": 45,
   "metadata": {},
   "outputs": [
    {
     "data": {
      "application/vnd.microsoft.datawrangler.viewer.v0+json": {
       "columns": [
        {
         "name": "Allocation_List",
         "rawType": "object",
         "type": "unknown"
        },
        {
         "name": "count",
         "rawType": "int64",
         "type": "integer"
        }
       ],
       "ref": "75befb21-c1db-4f4e-a218-e23c602a7793",
       "rows": [
        [
         "RANDOMIZED",
         "51573"
        ],
        [
         "NA",
         "18811"
        ],
        [
         "NON_RANDOMIZED",
         "8522"
        ],
        [
         null,
         "244"
        ]
       ],
       "shape": {
        "columns": 1,
        "rows": 4
       }
      },
      "text/plain": [
       "Allocation_List\n",
       "RANDOMIZED        51573\n",
       "NA                18811\n",
       "NON_RANDOMIZED     8522\n",
       "None                244\n",
       "Name: count, dtype: int64"
      ]
     },
     "metadata": {},
     "output_type": "display_data"
    },
    {
     "data": {
      "text/plain": [
       "(79150, 56)"
      ]
     },
     "metadata": {},
     "output_type": "display_data"
    }
   ],
   "source": [
    "df = df.merge(my_designs[[\"nct_id\", \"allocation\"]], on = \"nct_id\", how = \"left\")\n",
    "df = df.rename(columns = {\"allocation\" : \"Allocation_List\"})\n",
    "display(df[\"Allocation_List\"].value_counts(dropna=False))\n",
    "display(df.shape)"
   ]
  },
  {
   "cell_type": "markdown",
   "metadata": {},
   "source": [
    "#### NaN --> Fillna text + Drop"
   ]
  },
  {
   "cell_type": "code",
   "execution_count": 46,
   "metadata": {},
   "outputs": [
    {
     "data": {
      "application/vnd.microsoft.datawrangler.viewer.v0+json": {
       "columns": [
        {
         "name": "Allocation_List",
         "rawType": "object",
         "type": "unknown"
        },
        {
         "name": "count",
         "rawType": "int64",
         "type": "integer"
        }
       ],
       "ref": "864661ea-e8cd-4458-b01b-d7097a194afc",
       "rows": [
        [
         "RANDOMIZED",
         "51580"
        ],
        [
         "NA_RANDOMIZED",
         "18811"
        ],
        [
         "NON_RANDOMIZED",
         "8538"
        ],
        [
         null,
         "221"
        ]
       ],
       "shape": {
        "columns": 1,
        "rows": 4
       }
      },
      "text/plain": [
       "Allocation_List\n",
       "RANDOMIZED        51580\n",
       "NA_RANDOMIZED     18811\n",
       "NON_RANDOMIZED     8538\n",
       "None                221\n",
       "Name: count, dtype: int64"
      ]
     },
     "metadata": {},
     "output_type": "display_data"
    },
    {
     "data": {
      "application/vnd.microsoft.datawrangler.viewer.v0+json": {
       "columns": [
        {
         "name": "Allocation_List",
         "rawType": "object",
         "type": "string"
        },
        {
         "name": "count",
         "rawType": "int64",
         "type": "integer"
        }
       ],
       "ref": "58c170b8-8b37-4b49-b6f9-e0af0cb36ae1",
       "rows": [
        [
         "RANDOMIZED",
         "51580"
        ],
        [
         "NA_RANDOMIZED",
         "18811"
        ],
        [
         "NON_RANDOMIZED",
         "8538"
        ]
       ],
       "shape": {
        "columns": 1,
        "rows": 3
       }
      },
      "text/plain": [
       "Allocation_List\n",
       "RANDOMIZED        51580\n",
       "NA_RANDOMIZED     18811\n",
       "NON_RANDOMIZED     8538\n",
       "Name: count, dtype: int64"
      ]
     },
     "metadata": {},
     "output_type": "display_data"
    }
   ],
   "source": [
    "# Allocation Fillna\n",
    "df.loc[(df[\"Allocation_List\"].isnull()) & (df[\"Brief Summary\"].str.contains(r\"(?i)\\snon.randomized\\s|open label\" , case = False , na = False) ) , \"Allocation_List\"] = \"NON_RANDOMIZED\"\n",
    "df.loc[(df[\"Allocation_List\"].isnull()) & (df[\"Brief Summary\"].str.contains(r\"(?i)\\srandomized\\s\")) & ~(df[\"Brief Summary\"].str.contains(r\"(?i)\\snon.randomized\\s\", case = False , na = False)) , \"Allocation_List\"] = \"RANDOMIZED\"\n",
    "\n",
    "df[\"Allocation_List\"] = df[\"Allocation_List\"].replace({\"NA\" : \"NA_RANDOMIZED\"})\n",
    "display(df[\"Allocation_List\"].value_counts(dropna = False))\n",
    "df = df.dropna(subset = [\"Allocation_List\"])\n",
    "display(df[\"Allocation_List\"].value_counts(dropna = False))\n"
   ]
  },
  {
   "cell_type": "markdown",
   "metadata": {},
   "source": [
    "### Intervention_Model_List"
   ]
  },
  {
   "cell_type": "code",
   "execution_count": 47,
   "metadata": {},
   "outputs": [
    {
     "data": {
      "application/vnd.microsoft.datawrangler.viewer.v0+json": {
       "columns": [
        {
         "name": "Intervention_Model_List",
         "rawType": "object",
         "type": "unknown"
        },
        {
         "name": "count",
         "rawType": "int64",
         "type": "integer"
        }
       ],
       "ref": "62eae805-b558-47e9-89a5-87df36d9760c",
       "rows": [
        [
         "PARALLEL",
         "45258"
        ],
        [
         "SINGLE_GROUP",
         "21305"
        ],
        [
         "CROSSOVER",
         "7721"
        ],
        [
         "SEQUENTIAL",
         "3920"
        ],
        [
         "FACTORIAL",
         "634"
        ],
        [
         null,
         "91"
        ]
       ],
       "shape": {
        "columns": 1,
        "rows": 6
       }
      },
      "text/plain": [
       "Intervention_Model_List\n",
       "PARALLEL        45258\n",
       "SINGLE_GROUP    21305\n",
       "CROSSOVER        7721\n",
       "SEQUENTIAL       3920\n",
       "FACTORIAL         634\n",
       "None               91\n",
       "Name: count, dtype: int64"
      ]
     },
     "metadata": {},
     "output_type": "display_data"
    }
   ],
   "source": [
    "df = df.merge(my_designs[[\"nct_id\", \"intervention_model\"]], on = \"nct_id\", how = \"left\")\n",
    "df = df.rename(columns={\"intervention_model\" : \"Intervention_Model_List\"})\n",
    "display(df[\"Intervention_Model_List\"].value_counts(dropna=False))"
   ]
  },
  {
   "cell_type": "markdown",
   "metadata": {},
   "source": [
    "#### NaNs -> Fillna text + Drop"
   ]
  },
  {
   "cell_type": "code",
   "execution_count": 48,
   "metadata": {},
   "outputs": [
    {
     "data": {
      "application/vnd.microsoft.datawrangler.viewer.v0+json": {
       "columns": [
        {
         "name": "Intervention_Model_List",
         "rawType": "object",
         "type": "unknown"
        },
        {
         "name": "count",
         "rawType": "int64",
         "type": "integer"
        }
       ],
       "ref": "090b4b8c-d425-47a1-9625-1576c6f8f2c8",
       "rows": [
        [
         "PARALLEL",
         "45260"
        ],
        [
         "SINGLE_GROUP",
         "21305"
        ],
        [
         "CROSSOVER",
         "7722"
        ],
        [
         "SEQUENTIAL",
         "3925"
        ],
        [
         "FACTORIAL",
         "634"
        ],
        [
         null,
         "83"
        ]
       ],
       "shape": {
        "columns": 1,
        "rows": 6
       }
      },
      "text/plain": [
       "Intervention_Model_List\n",
       "PARALLEL        45260\n",
       "SINGLE_GROUP    21305\n",
       "CROSSOVER        7722\n",
       "SEQUENTIAL       3925\n",
       "FACTORIAL         634\n",
       "None               83\n",
       "Name: count, dtype: int64"
      ]
     },
     "metadata": {},
     "output_type": "display_data"
    },
    {
     "data": {
      "application/vnd.microsoft.datawrangler.viewer.v0+json": {
       "columns": [
        {
         "name": "Intervention_Model_List",
         "rawType": "object",
         "type": "string"
        },
        {
         "name": "count",
         "rawType": "int64",
         "type": "integer"
        }
       ],
       "ref": "243749e8-e7a8-497c-ada0-2692ca12b46e",
       "rows": [
        [
         "PARALLEL",
         "45260"
        ],
        [
         "SINGLE_GROUP",
         "21305"
        ],
        [
         "CROSSOVER",
         "7722"
        ],
        [
         "SEQUENTIAL",
         "3925"
        ],
        [
         "FACTORIAL",
         "634"
        ]
       ],
       "shape": {
        "columns": 1,
        "rows": 5
       }
      },
      "text/plain": [
       "Intervention_Model_List\n",
       "PARALLEL        45260\n",
       "SINGLE_GROUP    21305\n",
       "CROSSOVER        7722\n",
       "SEQUENTIAL       3925\n",
       "FACTORIAL         634\n",
       "Name: count, dtype: int64"
      ]
     },
     "metadata": {},
     "output_type": "display_data"
    },
    {
     "data": {
      "text/plain": [
       "(78846, 57)"
      ]
     },
     "metadata": {},
     "output_type": "display_data"
    }
   ],
   "source": [
    "# Fillna Intervention model\n",
    "# display(df.loc[df[\"Intervention_Model\"].isnull() & df[\"Brief Summary\"].str.contains(r\"(?i)PARALLEL|SINGLE GROUP|CROSSOVER|SEQUENTIAL|FACTORIAL\"), \"Brief Summary\"].values[0:2])\n",
    "\n",
    "df.loc[df[\"Intervention_Model_List\"].isnull() & df[\"Brief Summary\"].str.contains(r\"PARALLEL\", case = False), \"Intervention_Model_List\"] = \"PARALLEL\"\n",
    "df.loc[df[\"Intervention_Model_List\"].isnull() & df[\"Brief Summary\"].str.contains(r\"SINGLE GROUP\", case = False), \"Intervention_Model_List\"] = \"SINGLE_GROUP\"\n",
    "df.loc[df[\"Intervention_Model_List\"].isnull() & df[\"Brief Summary\"].str.contains(r\"CROSSOVER\", case = False), \"Intervention_Model_List\"] = \"CROSSOVER\"\n",
    "df.loc[df[\"Intervention_Model_List\"].isnull() & df[\"Brief Summary\"].str.contains(r\"SEQUENTIAL\", case = False), \"Intervention_Model_List\"] = \"SEQUENTIAL\"\n",
    "df.loc[df[\"Intervention_Model_List\"].isnull() & df[\"Brief Summary\"].str.contains(r\"FACTORIAL\", case = False), \"Intervention_Model_List\"] = \"FACTORIAL\"\n",
    "\n",
    "display(df[\"Intervention_Model_List\"].value_counts(dropna=False))\n",
    "df = df.dropna(subset = [\"Intervention_Model_List\"])\n",
    "display(df[\"Intervention_Model_List\"].value_counts(dropna=False))\n",
    "display(df.shape)"
   ]
  },
  {
   "cell_type": "markdown",
   "metadata": {},
   "source": [
    "### Masking_List\n",
    "\n",
    "ClinicalTrials.gov Documentation:\n",
    "•\tMasking\n",
    "A clinical trial design strategy in which one or more parties involved in the trial, such as the investigator or participants, do not know which participants have been assigned which interventions. Types of masking include: open label, single blind masking, and double-blind masking.\n"
   ]
  },
  {
   "cell_type": "code",
   "execution_count": 49,
   "metadata": {},
   "outputs": [
    {
     "data": {
      "application/vnd.microsoft.datawrangler.viewer.v0+json": {
       "columns": [
        {
         "name": "Masking_List",
         "rawType": "object",
         "type": "unknown"
        },
        {
         "name": "count",
         "rawType": "int64",
         "type": "integer"
        }
       ],
       "ref": "45d00d90-0879-49af-8a90-2c544353fa56",
       "rows": [
        [
         "MASK_NONE",
         "41476"
        ],
        [
         "QUADRUPLE",
         "13694"
        ],
        [
         "DOUBLE",
         "11173"
        ],
        [
         "TRIPLE",
         "7197"
        ],
        [
         "SINGLE",
         "5241"
        ],
        [
         null,
         "65"
        ]
       ],
       "shape": {
        "columns": 1,
        "rows": 6
       }
      },
      "text/plain": [
       "Masking_List\n",
       "MASK_NONE    41476\n",
       "QUADRUPLE    13694\n",
       "DOUBLE       11173\n",
       "TRIPLE        7197\n",
       "SINGLE        5241\n",
       "None            65\n",
       "Name: count, dtype: int64"
      ]
     },
     "metadata": {},
     "output_type": "display_data"
    }
   ],
   "source": [
    "df = df.merge(my_designs[[\"nct_id\", \"masking\"]], on = \"nct_id\", how = \"left\")\n",
    "df = df.rename(columns = {\"masking\" : \"Masking_List\"})\n",
    "df['Masking_List'] = df['Masking_List'].replace('NONE', 'MASK_NONE')\n",
    "display(df[\"Masking_List\"].value_counts(dropna=False))"
   ]
  },
  {
   "cell_type": "markdown",
   "metadata": {},
   "source": [
    "#### NaN --> Fillna text + Drop"
   ]
  },
  {
   "cell_type": "code",
   "execution_count": 50,
   "metadata": {},
   "outputs": [
    {
     "data": {
      "application/vnd.microsoft.datawrangler.viewer.v0+json": {
       "columns": [
        {
         "name": "Masking_List",
         "rawType": "object",
         "type": "unknown"
        },
        {
         "name": "count",
         "rawType": "int64",
         "type": "integer"
        }
       ],
       "ref": "bedfb16e-f42e-4d9c-85b9-a3bba7713046",
       "rows": [
        [
         "MASK_NONE",
         "41485"
        ],
        [
         "QUADRUPLE",
         "13694"
        ],
        [
         "DOUBLE",
         "11175"
        ],
        [
         "TRIPLE",
         "7197"
        ],
        [
         "SINGLE",
         "5241"
        ],
        [
         null,
         "54"
        ]
       ],
       "shape": {
        "columns": 1,
        "rows": 6
       }
      },
      "text/plain": [
       "Masking_List\n",
       "MASK_NONE    41485\n",
       "QUADRUPLE    13694\n",
       "DOUBLE       11175\n",
       "TRIPLE        7197\n",
       "SINGLE        5241\n",
       "None            54\n",
       "Name: count, dtype: int64"
      ]
     },
     "metadata": {},
     "output_type": "display_data"
    },
    {
     "data": {
      "application/vnd.microsoft.datawrangler.viewer.v0+json": {
       "columns": [
        {
         "name": "Masking_List",
         "rawType": "object",
         "type": "string"
        },
        {
         "name": "count",
         "rawType": "int64",
         "type": "integer"
        }
       ],
       "ref": "167d21ae-0d6e-4304-ab00-d1b8e691e0ce",
       "rows": [
        [
         "MASK_NONE",
         "41485"
        ],
        [
         "QUADRUPLE",
         "13694"
        ],
        [
         "DOUBLE",
         "11175"
        ],
        [
         "TRIPLE",
         "7197"
        ],
        [
         "SINGLE",
         "5241"
        ]
       ],
       "shape": {
        "columns": 1,
        "rows": 5
       }
      },
      "text/plain": [
       "Masking_List\n",
       "MASK_NONE    41485\n",
       "QUADRUPLE    13694\n",
       "DOUBLE       11175\n",
       "TRIPLE        7197\n",
       "SINGLE        5241\n",
       "Name: count, dtype: int64"
      ]
     },
     "metadata": {},
     "output_type": "display_data"
    },
    {
     "data": {
      "text/plain": [
       "(78792, 58)"
      ]
     },
     "metadata": {},
     "output_type": "display_data"
    }
   ],
   "source": [
    "# Fillna from Brief Summary \n",
    "df.loc[df[\"Masking_List\"].isnull() & df[\"Brief Summary\"].str.contains(r\"(?i)OPEN.LABEL\") , \"Masking_List\"] = \"MASK_NONE\"\n",
    "df.loc[df[\"Masking_List\"].isnull() & df[\"Brief Summary\"].str.contains(r\"(?i)SINGLE.BLIND\") , \"Masking_List\"] = \"SINGLE\"\n",
    "df.loc[df[\"Masking_List\"].isnull() & df[\"Brief Summary\"].str.contains(r\"(?i)DOUBLE.BLIND\") , \"Masking_List\"] = \"DOUBLE\"\n",
    "df.loc[df[\"Masking_List\"].isnull() & df[\"Brief Summary\"].str.contains(r\"(?i)TRIPLE.BLIND\") , \"Masking_List\"] = \"TRIPLE\"\n",
    "df.loc[df[\"Masking_List\"].isnull() & df[\"Brief Summary\"].str.contains(r\"(?i)QUADRUPLE.BLIND\") , \"Masking_List\"] = \"QUADRUPLE\"\n",
    "\n",
    "display(df[\"Masking_List\"].value_counts(dropna = False))\n",
    "df = df.dropna(subset = [\"Masking_List\"])\n",
    "display(df[\"Masking_List\"].value_counts(dropna = False))\n",
    "display(df.shape)"
   ]
  },
  {
   "cell_type": "markdown",
   "metadata": {},
   "source": [
    "### Masking_Detail_List"
   ]
  },
  {
   "cell_type": "code",
   "execution_count": 51,
   "metadata": {},
   "outputs": [],
   "source": [
    "df = df.merge(my_designs[[\"nct_id\", \"masking_detail\"]], on = \"nct_id\", how = \"left\")\n",
    "df = df.rename(columns = {\"masking_detail\" : \"Masking_Detail_List\"})"
   ]
  },
  {
   "cell_type": "markdown",
   "metadata": {},
   "source": [
    "#### NaN --> Fillna + Drop"
   ]
  },
  {
   "cell_type": "code",
   "execution_count": 52,
   "metadata": {},
   "outputs": [
    {
     "data": {
      "application/vnd.microsoft.datawrangler.viewer.v0+json": {
       "columns": [
        {
         "name": "Masking_Detail_List",
         "rawType": "object",
         "type": "unknown"
        },
        {
         "name": "count",
         "rawType": "int64",
         "type": "integer"
        }
       ],
       "ref": "96a7f503-de7f-4a4e-8656-73033a81d722",
       "rows": [
        [
         "['MASK_DET_NONE']",
         "41485"
        ],
        [
         "['PARTICIPANT', 'INVESTIGATOR', 'CARE_PROVIDER', 'OUTCOMES_ASSESSOR']",
         "13694"
        ],
        [
         "['INVESTIGATOR', 'PARTICIPANT']",
         "8711"
        ],
        [
         "['INVESTIGATOR', 'CARE_PROVIDER', 'PARTICIPANT']",
         "3868"
        ],
        [
         "['PARTICIPANT', 'INVESTIGATOR', 'OUTCOMES_ASSESSOR']",
         "2700"
        ],
        [
         "['PARTICIPANT']",
         "2390"
        ],
        [
         "['OUTCOMES_ASSESSOR']",
         "2048"
        ],
        [
         "['PARTICIPANT', 'OUTCOMES_ASSESSOR']",
         "1072"
        ],
        [
         "['PARTICIPANT', 'CARE_PROVIDER']",
         "762"
        ],
        [
         "['INVESTIGATOR']",
         "680"
        ],
        [
         "['PARTICIPANT', 'CARE_PROVIDER', 'OUTCOMES_ASSESSOR']",
         "532"
        ],
        [
         "['INVESTIGATOR', 'OUTCOMES_ASSESSOR']",
         "345"
        ],
        [
         null,
         "181"
        ],
        [
         "['CARE_PROVIDER']",
         "98"
        ],
        [
         "['INVESTIGATOR', 'CARE_PROVIDER', 'OUTCOMES_ASSESSOR']",
         "97"
        ],
        [
         "['INVESTIGATOR', 'CARE_PROVIDER']",
         "68"
        ],
        [
         "['CARE_PROVIDER', 'OUTCOMES_ASSESSOR']",
         "61"
        ]
       ],
       "shape": {
        "columns": 1,
        "rows": 17
       }
      },
      "text/plain": [
       "Masking_Detail_List\n",
       "[MASK_DET_NONE]                                                  41485\n",
       "[PARTICIPANT, INVESTIGATOR, CARE_PROVIDER, OUTCOMES_ASSESSOR]    13694\n",
       "[INVESTIGATOR, PARTICIPANT]                                       8711\n",
       "[INVESTIGATOR, CARE_PROVIDER, PARTICIPANT]                        3868\n",
       "[PARTICIPANT, INVESTIGATOR, OUTCOMES_ASSESSOR]                    2700\n",
       "[PARTICIPANT]                                                     2390\n",
       "[OUTCOMES_ASSESSOR]                                               2048\n",
       "[PARTICIPANT, OUTCOMES_ASSESSOR]                                  1072\n",
       "[PARTICIPANT, CARE_PROVIDER]                                       762\n",
       "[INVESTIGATOR]                                                     680\n",
       "[PARTICIPANT, CARE_PROVIDER, OUTCOMES_ASSESSOR]                    532\n",
       "[INVESTIGATOR, OUTCOMES_ASSESSOR]                                  345\n",
       "NaN                                                                181\n",
       "[CARE_PROVIDER]                                                     98\n",
       "[INVESTIGATOR, CARE_PROVIDER, OUTCOMES_ASSESSOR]                    97\n",
       "[INVESTIGATOR, CARE_PROVIDER]                                       68\n",
       "[CARE_PROVIDER, OUTCOMES_ASSESSOR]                                  61\n",
       "Name: count, dtype: int64"
      ]
     },
     "metadata": {},
     "output_type": "display_data"
    },
    {
     "data": {
      "application/vnd.microsoft.datawrangler.viewer.v0+json": {
       "columns": [
        {
         "name": "Masking_Detail_List",
         "rawType": "object",
         "type": "unknown"
        },
        {
         "name": "count",
         "rawType": "int64",
         "type": "integer"
        }
       ],
       "ref": "a069949b-0e8c-4c3c-9115-f2d17cddda0b",
       "rows": [
        [
         "['MASK_DET_NONE']",
         "41485"
        ],
        [
         "['PARTICIPANT', 'INVESTIGATOR', 'CARE_PROVIDER', 'OUTCOMES_ASSESSOR']",
         "13694"
        ],
        [
         "['INVESTIGATOR', 'PARTICIPANT']",
         "8711"
        ],
        [
         "['INVESTIGATOR', 'CARE_PROVIDER', 'PARTICIPANT']",
         "3868"
        ],
        [
         "['PARTICIPANT', 'INVESTIGATOR', 'OUTCOMES_ASSESSOR']",
         "2700"
        ],
        [
         "['PARTICIPANT']",
         "2390"
        ],
        [
         "['OUTCOMES_ASSESSOR']",
         "2048"
        ],
        [
         "['PARTICIPANT', 'OUTCOMES_ASSESSOR']",
         "1072"
        ],
        [
         "['PARTICIPANT', 'CARE_PROVIDER']",
         "762"
        ],
        [
         "['INVESTIGATOR']",
         "680"
        ],
        [
         "['PARTICIPANT', 'CARE_PROVIDER', 'OUTCOMES_ASSESSOR']",
         "532"
        ],
        [
         "['INVESTIGATOR', 'OUTCOMES_ASSESSOR']",
         "345"
        ],
        [
         "['CARE_PROVIDER']",
         "98"
        ],
        [
         "['INVESTIGATOR', 'CARE_PROVIDER', 'OUTCOMES_ASSESSOR']",
         "97"
        ],
        [
         "['INVESTIGATOR', 'CARE_PROVIDER']",
         "68"
        ],
        [
         "['CARE_PROVIDER', 'OUTCOMES_ASSESSOR']",
         "61"
        ]
       ],
       "shape": {
        "columns": 1,
        "rows": 16
       }
      },
      "text/plain": [
       "Masking_Detail_List\n",
       "[MASK_DET_NONE]                                                  41485\n",
       "[PARTICIPANT, INVESTIGATOR, CARE_PROVIDER, OUTCOMES_ASSESSOR]    13694\n",
       "[INVESTIGATOR, PARTICIPANT]                                       8711\n",
       "[INVESTIGATOR, CARE_PROVIDER, PARTICIPANT]                        3868\n",
       "[PARTICIPANT, INVESTIGATOR, OUTCOMES_ASSESSOR]                    2700\n",
       "[PARTICIPANT]                                                     2390\n",
       "[OUTCOMES_ASSESSOR]                                               2048\n",
       "[PARTICIPANT, OUTCOMES_ASSESSOR]                                  1072\n",
       "[PARTICIPANT, CARE_PROVIDER]                                       762\n",
       "[INVESTIGATOR]                                                     680\n",
       "[PARTICIPANT, CARE_PROVIDER, OUTCOMES_ASSESSOR]                    532\n",
       "[INVESTIGATOR, OUTCOMES_ASSESSOR]                                  345\n",
       "[CARE_PROVIDER]                                                     98\n",
       "[INVESTIGATOR, CARE_PROVIDER, OUTCOMES_ASSESSOR]                    97\n",
       "[INVESTIGATOR, CARE_PROVIDER]                                       68\n",
       "[CARE_PROVIDER, OUTCOMES_ASSESSOR]                                  61\n",
       "Name: count, dtype: int64"
      ]
     },
     "metadata": {},
     "output_type": "display_data"
    },
    {
     "data": {
      "text/plain": [
       "(78611, 59)"
      ]
     },
     "metadata": {},
     "output_type": "display_data"
    }
   ],
   "source": [
    "# Fillna Masking_Detail\n",
    "# Masking = 'NONE' --> Masking_Details = ['NONE']\n",
    "'''display(df.loc[df[\"Masking_Detail_List\"].apply(    # value_counts for list element columns\n",
    "    lambda x: isinstance(x, list) and len(x) == 0)][\"Masking_List\"].value_counts(dropna=False))'''\n",
    "# For other levels (single, double etc.) no standard person is blinded.\n",
    "'''display(df.loc[df[\"Masking_List\"] == 'SINGLE'][[\"Masking_Detail_List\", \"Masking_List\"]])'''\n",
    "\n",
    "df.loc[(df[\"Masking_Detail_List\"].apply(\n",
    "    lambda x: isinstance(x, list) and len(x) == 0)) & \\\n",
    "        (df[\"Masking_List\"] == \"MASK_NONE\"), \"Masking_Detail_List\"] = \"MASK_DET_NONE\"\n",
    "\n",
    "df[\"Masking_Detail_List\"] = df[\"Masking_Detail_List\"].apply(lambda x: [\"MASK_DET_NONE\"] if x == \"MASK_DET_NONE\" else x)\n",
    "df[\"Masking_Detail_List\"] = df[\"Masking_Detail_List\"].apply(lambda x: np.NaN if isinstance(x, list) and len(x) == 0 else x)\n",
    "\n",
    "display(df[\"Masking_Detail_List\"].value_counts(dropna=False))\n",
    "df = df.dropna(subset = [\"Masking_Detail_List\"])\n",
    "display(df[\"Masking_Detail_List\"].value_counts(dropna=False))\n",
    "display(df.shape)"
   ]
  },
  {
   "cell_type": "code",
   "execution_count": 53,
   "metadata": {},
   "outputs": [
    {
     "data": {
      "application/vnd.microsoft.datawrangler.viewer.v0+json": {
       "columns": [
        {
         "name": "Masking_Detail_List",
         "rawType": "object",
         "type": "unknown"
        },
        {
         "name": "count",
         "rawType": "int64",
         "type": "integer"
        }
       ],
       "ref": "6a7156e7-b2e3-4ea4-9707-1d0ea2c835db",
       "rows": [
        [
         "['MASK_DET_NONE']",
         "41485"
        ],
        [
         "['CARE_PROVIDER', 'INVESTIGATOR', 'OUTCOMES_ASSESSOR', 'PARTICIPANT']",
         "13694"
        ],
        [
         "['INVESTIGATOR', 'PARTICIPANT']",
         "8711"
        ],
        [
         "['CARE_PROVIDER', 'INVESTIGATOR', 'PARTICIPANT']",
         "3868"
        ],
        [
         "['INVESTIGATOR', 'OUTCOMES_ASSESSOR', 'PARTICIPANT']",
         "2700"
        ],
        [
         "['PARTICIPANT']",
         "2390"
        ],
        [
         "['OUTCOMES_ASSESSOR']",
         "2048"
        ],
        [
         "['OUTCOMES_ASSESSOR', 'PARTICIPANT']",
         "1072"
        ],
        [
         "['CARE_PROVIDER', 'PARTICIPANT']",
         "762"
        ],
        [
         "['INVESTIGATOR']",
         "680"
        ],
        [
         "['CARE_PROVIDER', 'OUTCOMES_ASSESSOR', 'PARTICIPANT']",
         "532"
        ],
        [
         "['INVESTIGATOR', 'OUTCOMES_ASSESSOR']",
         "345"
        ],
        [
         "['CARE_PROVIDER']",
         "98"
        ],
        [
         "['CARE_PROVIDER', 'INVESTIGATOR', 'OUTCOMES_ASSESSOR']",
         "97"
        ],
        [
         "['CARE_PROVIDER', 'INVESTIGATOR']",
         "68"
        ],
        [
         "['CARE_PROVIDER', 'OUTCOMES_ASSESSOR']",
         "61"
        ]
       ],
       "shape": {
        "columns": 1,
        "rows": 16
       }
      },
      "text/plain": [
       "Masking_Detail_List\n",
       "[MASK_DET_NONE]                                                  41485\n",
       "[CARE_PROVIDER, INVESTIGATOR, OUTCOMES_ASSESSOR, PARTICIPANT]    13694\n",
       "[INVESTIGATOR, PARTICIPANT]                                       8711\n",
       "[CARE_PROVIDER, INVESTIGATOR, PARTICIPANT]                        3868\n",
       "[INVESTIGATOR, OUTCOMES_ASSESSOR, PARTICIPANT]                    2700\n",
       "[PARTICIPANT]                                                     2390\n",
       "[OUTCOMES_ASSESSOR]                                               2048\n",
       "[OUTCOMES_ASSESSOR, PARTICIPANT]                                  1072\n",
       "[CARE_PROVIDER, PARTICIPANT]                                       762\n",
       "[INVESTIGATOR]                                                     680\n",
       "[CARE_PROVIDER, OUTCOMES_ASSESSOR, PARTICIPANT]                    532\n",
       "[INVESTIGATOR, OUTCOMES_ASSESSOR]                                  345\n",
       "[CARE_PROVIDER]                                                     98\n",
       "[CARE_PROVIDER, INVESTIGATOR, OUTCOMES_ASSESSOR]                    97\n",
       "[CARE_PROVIDER, INVESTIGATOR]                                       68\n",
       "[CARE_PROVIDER, OUTCOMES_ASSESSOR]                                  61\n",
       "Name: count, dtype: int64"
      ]
     },
     "execution_count": 53,
     "metadata": {},
     "output_type": "execute_result"
    }
   ],
   "source": [
    "df['Masking_Detail_List'].apply(lambda x: sorted(set(x))).value_counts()"
   ]
  },
  {
   "cell_type": "code",
   "execution_count": 54,
   "metadata": {},
   "outputs": [
    {
     "data": {
      "application/vnd.microsoft.datawrangler.viewer.v0+json": {
       "columns": [
        {
         "name": "index",
         "rawType": "int64",
         "type": "integer"
        },
        {
         "name": "Masking_Detail_List",
         "rawType": "object",
         "type": "unknown"
        },
        {
         "name": "Masking_List",
         "rawType": "object",
         "type": "string"
        },
        {
         "name": "count",
         "rawType": "int64",
         "type": "integer"
        }
       ],
       "ref": "b40e83db-b2be-4c98-8bb0-e39607a7e356",
       "rows": [
        [
         "0",
         "('MASK_DET_NONE',)",
         "MASK_NONE",
         "41485"
        ],
        [
         "1",
         "('PARTICIPANT', 'INVESTIGATOR', 'CARE_PROVIDER', 'OUTCOMES_ASSESSOR')",
         "QUADRUPLE",
         "13694"
        ],
        [
         "2",
         "('INVESTIGATOR', 'PARTICIPANT')",
         "DOUBLE",
         "8711"
        ],
        [
         "3",
         "('INVESTIGATOR', 'CARE_PROVIDER', 'PARTICIPANT')",
         "TRIPLE",
         "3868"
        ],
        [
         "4",
         "('PARTICIPANT', 'INVESTIGATOR', 'OUTCOMES_ASSESSOR')",
         "TRIPLE",
         "2700"
        ],
        [
         "5",
         "('PARTICIPANT',)",
         "SINGLE",
         "2390"
        ],
        [
         "6",
         "('OUTCOMES_ASSESSOR',)",
         "SINGLE",
         "2048"
        ],
        [
         "7",
         "('PARTICIPANT', 'OUTCOMES_ASSESSOR')",
         "DOUBLE",
         "1072"
        ],
        [
         "8",
         "('PARTICIPANT', 'CARE_PROVIDER')",
         "DOUBLE",
         "762"
        ],
        [
         "9",
         "('INVESTIGATOR',)",
         "SINGLE",
         "680"
        ],
        [
         "10",
         "('PARTICIPANT', 'CARE_PROVIDER', 'OUTCOMES_ASSESSOR')",
         "TRIPLE",
         "532"
        ],
        [
         "11",
         "('INVESTIGATOR', 'OUTCOMES_ASSESSOR')",
         "DOUBLE",
         "345"
        ],
        [
         "12",
         "('CARE_PROVIDER',)",
         "SINGLE",
         "98"
        ],
        [
         "13",
         "('INVESTIGATOR', 'CARE_PROVIDER', 'OUTCOMES_ASSESSOR')",
         "TRIPLE",
         "97"
        ],
        [
         "14",
         "('INVESTIGATOR', 'CARE_PROVIDER')",
         "DOUBLE",
         "68"
        ],
        [
         "15",
         "('CARE_PROVIDER', 'OUTCOMES_ASSESSOR')",
         "DOUBLE",
         "61"
        ]
       ],
       "shape": {
        "columns": 3,
        "rows": 16
       }
      },
      "text/html": [
       "<div>\n",
       "<style scoped>\n",
       "    .dataframe tbody tr th:only-of-type {\n",
       "        vertical-align: middle;\n",
       "    }\n",
       "\n",
       "    .dataframe tbody tr th {\n",
       "        vertical-align: top;\n",
       "    }\n",
       "\n",
       "    .dataframe thead th {\n",
       "        text-align: right;\n",
       "    }\n",
       "</style>\n",
       "<table border=\"1\" class=\"dataframe\">\n",
       "  <thead>\n",
       "    <tr style=\"text-align: right;\">\n",
       "      <th></th>\n",
       "      <th>Masking_Detail_List</th>\n",
       "      <th>Masking_List</th>\n",
       "      <th>count</th>\n",
       "    </tr>\n",
       "  </thead>\n",
       "  <tbody>\n",
       "    <tr>\n",
       "      <th>0</th>\n",
       "      <td>(MASK_DET_NONE,)</td>\n",
       "      <td>MASK_NONE</td>\n",
       "      <td>41485</td>\n",
       "    </tr>\n",
       "    <tr>\n",
       "      <th>1</th>\n",
       "      <td>(PARTICIPANT, INVESTIGATOR, CARE_PROVIDER, OUT...</td>\n",
       "      <td>QUADRUPLE</td>\n",
       "      <td>13694</td>\n",
       "    </tr>\n",
       "    <tr>\n",
       "      <th>2</th>\n",
       "      <td>(INVESTIGATOR, PARTICIPANT)</td>\n",
       "      <td>DOUBLE</td>\n",
       "      <td>8711</td>\n",
       "    </tr>\n",
       "    <tr>\n",
       "      <th>3</th>\n",
       "      <td>(INVESTIGATOR, CARE_PROVIDER, PARTICIPANT)</td>\n",
       "      <td>TRIPLE</td>\n",
       "      <td>3868</td>\n",
       "    </tr>\n",
       "    <tr>\n",
       "      <th>4</th>\n",
       "      <td>(PARTICIPANT, INVESTIGATOR, OUTCOMES_ASSESSOR)</td>\n",
       "      <td>TRIPLE</td>\n",
       "      <td>2700</td>\n",
       "    </tr>\n",
       "    <tr>\n",
       "      <th>5</th>\n",
       "      <td>(PARTICIPANT,)</td>\n",
       "      <td>SINGLE</td>\n",
       "      <td>2390</td>\n",
       "    </tr>\n",
       "    <tr>\n",
       "      <th>6</th>\n",
       "      <td>(OUTCOMES_ASSESSOR,)</td>\n",
       "      <td>SINGLE</td>\n",
       "      <td>2048</td>\n",
       "    </tr>\n",
       "    <tr>\n",
       "      <th>7</th>\n",
       "      <td>(PARTICIPANT, OUTCOMES_ASSESSOR)</td>\n",
       "      <td>DOUBLE</td>\n",
       "      <td>1072</td>\n",
       "    </tr>\n",
       "    <tr>\n",
       "      <th>8</th>\n",
       "      <td>(PARTICIPANT, CARE_PROVIDER)</td>\n",
       "      <td>DOUBLE</td>\n",
       "      <td>762</td>\n",
       "    </tr>\n",
       "    <tr>\n",
       "      <th>9</th>\n",
       "      <td>(INVESTIGATOR,)</td>\n",
       "      <td>SINGLE</td>\n",
       "      <td>680</td>\n",
       "    </tr>\n",
       "    <tr>\n",
       "      <th>10</th>\n",
       "      <td>(PARTICIPANT, CARE_PROVIDER, OUTCOMES_ASSESSOR)</td>\n",
       "      <td>TRIPLE</td>\n",
       "      <td>532</td>\n",
       "    </tr>\n",
       "    <tr>\n",
       "      <th>11</th>\n",
       "      <td>(INVESTIGATOR, OUTCOMES_ASSESSOR)</td>\n",
       "      <td>DOUBLE</td>\n",
       "      <td>345</td>\n",
       "    </tr>\n",
       "    <tr>\n",
       "      <th>12</th>\n",
       "      <td>(CARE_PROVIDER,)</td>\n",
       "      <td>SINGLE</td>\n",
       "      <td>98</td>\n",
       "    </tr>\n",
       "    <tr>\n",
       "      <th>13</th>\n",
       "      <td>(INVESTIGATOR, CARE_PROVIDER, OUTCOMES_ASSESSOR)</td>\n",
       "      <td>TRIPLE</td>\n",
       "      <td>97</td>\n",
       "    </tr>\n",
       "    <tr>\n",
       "      <th>14</th>\n",
       "      <td>(INVESTIGATOR, CARE_PROVIDER)</td>\n",
       "      <td>DOUBLE</td>\n",
       "      <td>68</td>\n",
       "    </tr>\n",
       "    <tr>\n",
       "      <th>15</th>\n",
       "      <td>(CARE_PROVIDER, OUTCOMES_ASSESSOR)</td>\n",
       "      <td>DOUBLE</td>\n",
       "      <td>61</td>\n",
       "    </tr>\n",
       "  </tbody>\n",
       "</table>\n",
       "</div>"
      ],
      "text/plain": [
       "                                  Masking_Detail_List Masking_List  count\n",
       "0                                    (MASK_DET_NONE,)    MASK_NONE  41485\n",
       "1   (PARTICIPANT, INVESTIGATOR, CARE_PROVIDER, OUT...    QUADRUPLE  13694\n",
       "2                         (INVESTIGATOR, PARTICIPANT)       DOUBLE   8711\n",
       "3          (INVESTIGATOR, CARE_PROVIDER, PARTICIPANT)       TRIPLE   3868\n",
       "4      (PARTICIPANT, INVESTIGATOR, OUTCOMES_ASSESSOR)       TRIPLE   2700\n",
       "5                                      (PARTICIPANT,)       SINGLE   2390\n",
       "6                                (OUTCOMES_ASSESSOR,)       SINGLE   2048\n",
       "7                    (PARTICIPANT, OUTCOMES_ASSESSOR)       DOUBLE   1072\n",
       "8                        (PARTICIPANT, CARE_PROVIDER)       DOUBLE    762\n",
       "9                                     (INVESTIGATOR,)       SINGLE    680\n",
       "10    (PARTICIPANT, CARE_PROVIDER, OUTCOMES_ASSESSOR)       TRIPLE    532\n",
       "11                  (INVESTIGATOR, OUTCOMES_ASSESSOR)       DOUBLE    345\n",
       "12                                   (CARE_PROVIDER,)       SINGLE     98\n",
       "13   (INVESTIGATOR, CARE_PROVIDER, OUTCOMES_ASSESSOR)       TRIPLE     97\n",
       "14                      (INVESTIGATOR, CARE_PROVIDER)       DOUBLE     68\n",
       "15                 (CARE_PROVIDER, OUTCOMES_ASSESSOR)       DOUBLE     61"
      ]
     },
     "execution_count": 54,
     "metadata": {},
     "output_type": "execute_result"
    }
   ],
   "source": [
    "df_temp = df.copy()\n",
    "df_temp[\"Masking_Detail_List\"] = df_temp[\"Masking_Detail_List\"].apply(tuple)\n",
    "\n",
    "counts = (df_temp[[\"Masking_Detail_List\", \"Masking_List\"]]\n",
    "    .value_counts().reset_index(name=\"count\"))\n",
    "counts"
   ]
  },
  {
   "cell_type": "markdown",
   "metadata": {},
   "source": [
    "### Primary Purpose_List"
   ]
  },
  {
   "cell_type": "code",
   "execution_count": 55,
   "metadata": {},
   "outputs": [
    {
     "data": {
      "application/vnd.microsoft.datawrangler.viewer.v0+json": {
       "columns": [
        {
         "name": "Primary_Purpose_List",
         "rawType": "object",
         "type": "unknown"
        },
        {
         "name": "count",
         "rawType": "int64",
         "type": "integer"
        }
       ],
       "ref": "c3adbd0e-42b4-4e38-bad1-5e14e1ccdd59",
       "rows": [
        [
         "TREATMENT",
         "59304"
        ],
        [
         "PREVENTION",
         "7064"
        ],
        [
         "BASIC_SCIENCE",
         "4216"
        ],
        [
         "OTHER",
         "3403"
        ],
        [
         "DIAGNOSTIC",
         "1533"
        ],
        [
         "SUPPORTIVE_CARE",
         "1497"
        ],
        [
         null,
         "980"
        ],
        [
         "HEALTH_SERVICES_RESEARCH",
         "415"
        ],
        [
         "SCREENING",
         "169"
        ],
        [
         "DEVICE_FEASIBILITY",
         "30"
        ]
       ],
       "shape": {
        "columns": 1,
        "rows": 10
       }
      },
      "text/plain": [
       "Primary_Purpose_List\n",
       "TREATMENT                   59304\n",
       "PREVENTION                   7064\n",
       "BASIC_SCIENCE                4216\n",
       "OTHER                        3403\n",
       "DIAGNOSTIC                   1533\n",
       "SUPPORTIVE_CARE              1497\n",
       "None                          980\n",
       "HEALTH_SERVICES_RESEARCH      415\n",
       "SCREENING                     169\n",
       "DEVICE_FEASIBILITY             30\n",
       "Name: count, dtype: int64"
      ]
     },
     "metadata": {},
     "output_type": "display_data"
    }
   ],
   "source": [
    "df = df.merge(my_designs[[\"nct_id\", \"primary_purpose\"]], on = \"nct_id\", how = \"left\")\n",
    "df = df.rename(columns={\"primary_purpose\" : \"Primary_Purpose_List\"})\n",
    "display(df[\"Primary_Purpose_List\"].value_counts(dropna=False))\n"
   ]
  },
  {
   "cell_type": "markdown",
   "metadata": {},
   "source": [
    "#### NaN+ -> Other\n",
    "- Device had too little rows --> Possible sparse data problem "
   ]
  },
  {
   "cell_type": "code",
   "execution_count": 56,
   "metadata": {},
   "outputs": [
    {
     "data": {
      "application/vnd.microsoft.datawrangler.viewer.v0+json": {
       "columns": [
        {
         "name": "Primary_Purpose_List",
         "rawType": "object",
         "type": "string"
        },
        {
         "name": "count",
         "rawType": "int64",
         "type": "integer"
        }
       ],
       "ref": "c70ef31a-6a8b-4959-a426-b10d04874a5f",
       "rows": [
        [
         "TREATMENT",
         "59304"
        ],
        [
         "PREVENTION",
         "7064"
        ],
        [
         "PRIM_PURP_OTHER",
         "4383"
        ],
        [
         "BASIC_SCIENCE",
         "4216"
        ],
        [
         "DIAGNOSTIC",
         "1533"
        ],
        [
         "SUPPORTIVE_CARE",
         "1497"
        ],
        [
         "HEALTH_SERVICES_RESEARCH",
         "415"
        ],
        [
         "SCREENING",
         "169"
        ],
        [
         "DEVICE_FEASIBILITY",
         "30"
        ]
       ],
       "shape": {
        "columns": 1,
        "rows": 9
       }
      },
      "text/plain": [
       "Primary_Purpose_List\n",
       "TREATMENT                   59304\n",
       "PREVENTION                   7064\n",
       "PRIM_PURP_OTHER              4383\n",
       "BASIC_SCIENCE                4216\n",
       "DIAGNOSTIC                   1533\n",
       "SUPPORTIVE_CARE              1497\n",
       "HEALTH_SERVICES_RESEARCH      415\n",
       "SCREENING                     169\n",
       "DEVICE_FEASIBILITY             30\n",
       "Name: count, dtype: int64"
      ]
     },
     "metadata": {},
     "output_type": "display_data"
    }
   ],
   "source": [
    "df[\"Primary_Purpose_List\"] = df[\"Primary_Purpose_List\"].replace({np.nan : \"PRIM_PURP_OTHER\", \"OTHER\" : \"PRIM_PURP_OTHER\"})\n",
    "display(df[\"Primary_Purpose_List\"].value_counts(dropna=False))\n"
   ]
  },
  {
   "cell_type": "markdown",
   "metadata": {},
   "source": [
    "#### Merge"
   ]
  },
  {
   "cell_type": "code",
   "execution_count": 57,
   "metadata": {},
   "outputs": [
    {
     "data": {
      "application/vnd.microsoft.datawrangler.viewer.v0+json": {
       "columns": [
        {
         "name": "Primary_Purpose_List",
         "rawType": "object",
         "type": "string"
        },
        {
         "name": "count",
         "rawType": "int64",
         "type": "integer"
        }
       ],
       "ref": "240db30d-1fd6-45cd-9985-97d780718252",
       "rows": [
        [
         "TREATMENT",
         "59304"
        ],
        [
         "PREVENTION",
         "7064"
        ],
        [
         "PRIM_PURP_OTHER",
         "4997"
        ],
        [
         "BASIC_SCIENCE",
         "4216"
        ],
        [
         "DIAGNOSTIC",
         "1533"
        ],
        [
         "SUPPORTIVE_CARE",
         "1497"
        ]
       ],
       "shape": {
        "columns": 1,
        "rows": 6
       }
      },
      "text/plain": [
       "Primary_Purpose_List\n",
       "TREATMENT          59304\n",
       "PREVENTION          7064\n",
       "PRIM_PURP_OTHER     4997\n",
       "BASIC_SCIENCE       4216\n",
       "DIAGNOSTIC          1533\n",
       "SUPPORTIVE_CARE     1497\n",
       "Name: count, dtype: int64"
      ]
     },
     "execution_count": 57,
     "metadata": {},
     "output_type": "execute_result"
    }
   ],
   "source": [
    "purp_map = { \n",
    "    'DEVICE_FEASIBILITY' : 'PRIM_PURP_OTHER',\n",
    "    'INTERV_OTHER' : 'PRIM_PURP_OTHER',\n",
    "    'SCREENING' : 'PRIM_PURP_OTHER',\n",
    "    'HEALTH_SERVICES_RESEARCH' : 'PRIM_PURP_OTHER'\n",
    "}\n",
    "df['Primary_Purpose_List'] = df['Primary_Purpose_List'].replace(purp_map)\n",
    "df['Primary_Purpose_List'].value_counts()"
   ]
  },
  {
   "cell_type": "markdown",
   "metadata": {},
   "source": [
    "## Arm_Counts"
   ]
  },
  {
   "cell_type": "code",
   "execution_count": 58,
   "metadata": {},
   "outputs": [
    {
     "data": {
      "application/vnd.microsoft.datawrangler.viewer.v0+json": {
       "columns": [
        {
         "name": "Arm_Counts",
         "rawType": "float64",
         "type": "float"
        },
        {
         "name": "count",
         "rawType": "int64",
         "type": "integer"
        }
       ],
       "ref": "03247cd6-83c2-4cb5-a206-78beaed602c7",
       "rows": [
        [
         "2.0",
         "37678"
        ],
        [
         "1.0",
         "19189"
        ],
        [
         "3.0",
         "9798"
        ],
        [
         "4.0",
         "5915"
        ],
        [
         "5.0",
         "1886"
        ],
        [
         "6.0",
         "1668"
        ],
        [
         "7.0",
         "538"
        ],
        [
         "8.0",
         "519"
        ],
        [
         null,
         "307"
        ],
        [
         "9.0",
         "287"
        ],
        [
         "10.0",
         "229"
        ],
        [
         "12.0",
         "140"
        ],
        [
         "11.0",
         "113"
        ],
        [
         "13.0",
         "73"
        ],
        [
         "14.0",
         "61"
        ],
        [
         "15.0",
         "49"
        ],
        [
         "16.0",
         "41"
        ],
        [
         "18.0",
         "30"
        ],
        [
         "17.0",
         "19"
        ],
        [
         "19.0",
         "12"
        ],
        [
         "20.0",
         "11"
        ],
        [
         "22.0",
         "9"
        ],
        [
         "21.0",
         "7"
        ],
        [
         "24.0",
         "5"
        ],
        [
         "23.0",
         "5"
        ],
        [
         "25.0",
         "4"
        ],
        [
         "27.0",
         "4"
        ],
        [
         "32.0",
         "3"
        ],
        [
         "26.0",
         "2"
        ],
        [
         "30.0",
         "2"
        ],
        [
         "37.0",
         "1"
        ],
        [
         "29.0",
         "1"
        ],
        [
         "31.0",
         "1"
        ],
        [
         "44.0",
         "1"
        ],
        [
         "28.0",
         "1"
        ],
        [
         "43.0",
         "1"
        ],
        [
         "34.0",
         "1"
        ]
       ],
       "shape": {
        "columns": 1,
        "rows": 37
       }
      },
      "text/plain": [
       "Arm_Counts\n",
       "2.0     37678\n",
       "1.0     19189\n",
       "3.0      9798\n",
       "4.0      5915\n",
       "5.0      1886\n",
       "6.0      1668\n",
       "7.0       538\n",
       "8.0       519\n",
       "NaN       307\n",
       "9.0       287\n",
       "10.0      229\n",
       "12.0      140\n",
       "11.0      113\n",
       "13.0       73\n",
       "14.0       61\n",
       "15.0       49\n",
       "16.0       41\n",
       "18.0       30\n",
       "17.0       19\n",
       "19.0       12\n",
       "20.0       11\n",
       "22.0        9\n",
       "21.0        7\n",
       "24.0        5\n",
       "23.0        5\n",
       "25.0        4\n",
       "27.0        4\n",
       "32.0        3\n",
       "26.0        2\n",
       "30.0        2\n",
       "37.0        1\n",
       "29.0        1\n",
       "31.0        1\n",
       "44.0        1\n",
       "28.0        1\n",
       "43.0        1\n",
       "34.0        1\n",
       "Name: count, dtype: int64"
      ]
     },
     "metadata": {},
     "output_type": "display_data"
    }
   ],
   "source": [
    "df = df.merge(my_studies[[\"nct_id\", \"number_of_arms\"]], on = \"nct_id\", how = \"left\")\n",
    "df = df.rename(columns = {\"number_of_arms\" : \"Arm_Counts\"})\n",
    "display(df['Arm_Counts'].value_counts(dropna = False))\n"
   ]
  },
  {
   "cell_type": "markdown",
   "metadata": {},
   "source": [
    "#### NaN -> Drop"
   ]
  },
  {
   "cell_type": "code",
   "execution_count": 59,
   "metadata": {},
   "outputs": [
    {
     "data": {
      "application/vnd.microsoft.datawrangler.viewer.v0+json": {
       "columns": [
        {
         "name": "Arm_Counts",
         "rawType": "int32",
         "type": "integer"
        },
        {
         "name": "count",
         "rawType": "int64",
         "type": "integer"
        }
       ],
       "ref": "7aa18517-3fb4-4faa-8d51-fd1ff65431bb",
       "rows": [
        [
         "2",
         "37678"
        ],
        [
         "1",
         "19189"
        ],
        [
         "3",
         "9798"
        ],
        [
         "4",
         "5915"
        ],
        [
         "5",
         "1886"
        ],
        [
         "6",
         "1668"
        ],
        [
         "7",
         "538"
        ],
        [
         "8",
         "519"
        ],
        [
         "9",
         "287"
        ],
        [
         "10",
         "229"
        ],
        [
         "12",
         "140"
        ],
        [
         "11",
         "113"
        ],
        [
         "13",
         "73"
        ],
        [
         "14",
         "61"
        ],
        [
         "15",
         "49"
        ],
        [
         "16",
         "41"
        ],
        [
         "18",
         "30"
        ],
        [
         "17",
         "19"
        ],
        [
         "19",
         "12"
        ],
        [
         "20",
         "11"
        ],
        [
         "22",
         "9"
        ],
        [
         "21",
         "7"
        ],
        [
         "24",
         "5"
        ],
        [
         "23",
         "5"
        ],
        [
         "25",
         "4"
        ],
        [
         "27",
         "4"
        ],
        [
         "32",
         "3"
        ],
        [
         "26",
         "2"
        ],
        [
         "30",
         "2"
        ],
        [
         "37",
         "1"
        ],
        [
         "29",
         "1"
        ],
        [
         "31",
         "1"
        ],
        [
         "44",
         "1"
        ],
        [
         "28",
         "1"
        ],
        [
         "43",
         "1"
        ],
        [
         "34",
         "1"
        ]
       ],
       "shape": {
        "columns": 1,
        "rows": 36
       }
      },
      "text/plain": [
       "Arm_Counts\n",
       "2     37678\n",
       "1     19189\n",
       "3      9798\n",
       "4      5915\n",
       "5      1886\n",
       "6      1668\n",
       "7       538\n",
       "8       519\n",
       "9       287\n",
       "10      229\n",
       "12      140\n",
       "11      113\n",
       "13       73\n",
       "14       61\n",
       "15       49\n",
       "16       41\n",
       "18       30\n",
       "17       19\n",
       "19       12\n",
       "20       11\n",
       "22        9\n",
       "21        7\n",
       "24        5\n",
       "23        5\n",
       "25        4\n",
       "27        4\n",
       "32        3\n",
       "26        2\n",
       "30        2\n",
       "37        1\n",
       "29        1\n",
       "31        1\n",
       "44        1\n",
       "28        1\n",
       "43        1\n",
       "34        1\n",
       "Name: count, dtype: int64"
      ]
     },
     "metadata": {},
     "output_type": "display_data"
    }
   ],
   "source": [
    "df = df.dropna(subset = [\"Arm_Counts\"])\n",
    "df['Arm_Counts'] = df['Arm_Counts'].astype(int)\n",
    "display(df['Arm_Counts'].value_counts(dropna = False))"
   ]
  },
  {
   "cell_type": "markdown",
   "metadata": {},
   "source": [
    "### Arm_Counts_Log"
   ]
  },
  {
   "cell_type": "code",
   "execution_count": 60,
   "metadata": {},
   "outputs": [
    {
     "data": {
      "application/vnd.microsoft.datawrangler.viewer.v0+json": {
       "columns": [
        {
         "name": "index",
         "rawType": "object",
         "type": "string"
        },
        {
         "name": "Arm_Counts_Log",
         "rawType": "float64",
         "type": "float"
        }
       ],
       "ref": "3bbfb4e8-47e1-4df3-8043-96011623bde9",
       "rows": [
        [
         "count",
         "78304.0"
        ],
        [
         "mean",
         "1.1431185475627161"
        ],
        [
         "std",
         "0.374653798084749"
        ],
        [
         "min",
         "0.6931471805599453"
        ],
        [
         "25%",
         "1.0986122886681098"
        ],
        [
         "50%",
         "1.0986122886681098"
        ],
        [
         "75%",
         "1.3862943611198906"
        ],
        [
         "max",
         "3.8066624897703196"
        ]
       ],
       "shape": {
        "columns": 1,
        "rows": 8
       }
      },
      "text/plain": [
       "count    78304.000000\n",
       "mean         1.143119\n",
       "std          0.374654\n",
       "min          0.693147\n",
       "25%          1.098612\n",
       "50%          1.098612\n",
       "75%          1.386294\n",
       "max          3.806662\n",
       "Name: Arm_Counts_Log, dtype: float64"
      ]
     },
     "execution_count": 60,
     "metadata": {},
     "output_type": "execute_result"
    }
   ],
   "source": [
    "df['Arm_Counts_Log'] = np.log1p(df[\"Arm_Counts\"]) \n",
    "df['Arm_Counts_Log'].describe()"
   ]
  },
  {
   "cell_type": "markdown",
   "metadata": {},
   "source": [
    "## Locations\n",
    "\n",
    "ClinicalTrials.gov Documenation:\n",
    "•\tLocation\n",
    "A place where a research site for a clinical study can be found. Location information can be searched using a facility name, a city, state, zip code, or country. A location where a study is being conducted may also include contact information.\n",
    "\n",
    "ClinicalTrials.gov Documenation:\n",
    "•\tLocation countries\n",
    "Countries in which research facilities for a study are located. A country is listed only once, even if there is more than one facility in the country. The list includes all countries as of the last update submitted date; any country for which all facilities were removed from the study record are listed under removed location countries.\n"
   ]
  },
  {
   "cell_type": "markdown",
   "metadata": {},
   "source": [
    "### Countries"
   ]
  },
  {
   "cell_type": "code",
   "execution_count": 61,
   "metadata": {},
   "outputs": [
    {
     "data": {
      "application/vnd.microsoft.datawrangler.viewer.v0+json": {
       "columns": [
        {
         "name": "Countries_List",
         "rawType": "object",
         "type": "unknown"
        },
        {
         "name": "count",
         "rawType": "int64",
         "type": "integer"
        }
       ],
       "ref": "2bd3c68b-8b99-4925-8b92-4e45818f981d",
       "rows": [
        [
         "['United States']",
         "27463"
        ],
        [
         "['China']",
         "5042"
        ],
        [
         "[]",
         "4419"
        ],
        [
         "['South Korea']",
         "2443"
        ],
        [
         "['United Kingdom']",
         "2246"
        ],
        [
         "['Canada']",
         "2021"
        ],
        [
         "['Germany']",
         "1906"
        ],
        [
         "['France']",
         "1877"
        ],
        [
         "['Japan']",
         "1612"
        ],
        [
         "['Egypt']",
         "1563"
        ],
        [
         "['Spain']",
         "1044"
        ],
        [
         "['Netherlands']",
         "947"
        ],
        [
         "['Italy']",
         "917"
        ],
        [
         "['Belgium']",
         "876"
        ],
        [
         "['Brazil']",
         "851"
        ],
        [
         "['Australia']",
         "824"
        ],
        [
         "['Canada', 'United States']",
         "803"
        ],
        [
         "['Denmark']",
         "712"
        ],
        [
         "['India']",
         "567"
        ],
        [
         "['Taiwan']",
         "527"
        ],
        [
         "['Switzerland']",
         "501"
        ],
        [
         "['Russia']",
         "488"
        ],
        [
         "['Turkey (Türkiye)']",
         "407"
        ],
        [
         "['Sweden']",
         "376"
        ],
        [
         "['Israel']",
         "371"
        ],
        [
         "['Mexico']",
         "348"
        ],
        [
         "['Thailand']",
         "320"
        ],
        [
         "['Austria']",
         "290"
        ],
        [
         "['Pakistan']",
         "279"
        ],
        [
         "['Iran']",
         "267"
        ],
        [
         "['Singapore']",
         "242"
        ],
        [
         "['Puerto Rico', 'United States']",
         "237"
        ],
        [
         "['Indonesia']",
         "229"
        ],
        [
         "['Norway']",
         "212"
        ],
        [
         "['South Africa']",
         "193"
        ],
        [
         "['Finland']",
         "178"
        ],
        [
         "['Poland']",
         "170"
        ],
        [
         "['United Kingdom', 'United States']",
         "161"
        ],
        [
         "['Greece']",
         "153"
        ],
        [
         "['Australia', 'United States']",
         "150"
        ],
        [
         "['Hong Kong']",
         "138"
        ],
        [
         "['Bangladesh']",
         "133"
        ],
        [
         "['New Zealand']",
         "115"
        ],
        [
         "['Vietnam']",
         "111"
        ],
        [
         "['Czechia']",
         "99"
        ],
        [
         "['Saudi Arabia']",
         "98"
        ],
        [
         "['Malaysia']",
         "93"
        ],
        [
         "['Argentina']",
         "90"
        ],
        [
         "['Germany', 'United States']",
         "89"
        ],
        [
         "['Chile']",
         "78"
        ]
       ],
       "shape": {
        "columns": 1,
        "rows": 8426
       }
      },
      "text/plain": [
       "Countries_List\n",
       "[United States]                                                                                                                         27463\n",
       "[China]                                                                                                                                  5042\n",
       "[]                                                                                                                                       4419\n",
       "[South Korea]                                                                                                                            2443\n",
       "[United Kingdom]                                                                                                                         2246\n",
       "                                                                                                                                        ...  \n",
       "[Belgium, Czechia, Israel, Italy, Netherlands, Romania, Russia, Slovakia]                                                                   1\n",
       "[Australia, Belgium, Czechia, Estonia, Germany, Greece, Poland, Russia, Spain]                                                              1\n",
       "[Australia, Canada, France, Germany, Hong Kong, Netherlands, South Korea, Spain, Switzerland, Taiwan, United Kingdom, United States]        1\n",
       "[Austria, Germany, Latvia, Poland, United States]                                                                                           1\n",
       "[Argentina, Austria, Colombia, France, Germany, Netherlands, Norway, Sweden, Switzerland, United States]                                    1\n",
       "Name: count, Length: 8426, dtype: int64"
      ]
     },
     "execution_count": 61,
     "metadata": {},
     "output_type": "execute_result"
    }
   ],
   "source": [
    "df = df.merge(my_locations[[\"nct_id\", \"facilities_country\"]], on = \"nct_id\", how = \"left\")\n",
    "df = df.rename(columns = {\"facilities_country\": \"Countries_List\"})\n",
    "df['Countries_List'].value_counts(dropna = False)"
   ]
  },
  {
   "cell_type": "markdown",
   "metadata": {},
   "source": [
    "#### NaN ++ -> Other"
   ]
  },
  {
   "cell_type": "code",
   "execution_count": 62,
   "metadata": {},
   "outputs": [],
   "source": [
    "df['Countries_List'] = df['Countries_List'].apply(lambda x: ['Countr_Other'] if len(x) == 0 else x)"
   ]
  },
  {
   "cell_type": "markdown",
   "metadata": {},
   "source": [
    "### Country_Counts\n"
   ]
  },
  {
   "cell_type": "code",
   "execution_count": 63,
   "metadata": {},
   "outputs": [
    {
     "data": {
      "application/vnd.microsoft.datawrangler.viewer.v0+json": {
       "columns": [
        {
         "name": "Country_Counts",
         "rawType": "int64",
         "type": "integer"
        },
        {
         "name": "count",
         "rawType": "int64",
         "type": "integer"
        }
       ],
       "ref": "988e4a50-e205-4716-8b0d-332516f60099",
       "rows": [
        [
         "1",
         "61203"
        ],
        [
         "0",
         "4419"
        ],
        [
         "2",
         "3430"
        ],
        [
         "3",
         "1495"
        ],
        [
         "4",
         "1158"
        ],
        [
         "5",
         "932"
        ],
        [
         "6",
         "796"
        ],
        [
         "7",
         "679"
        ],
        [
         "8",
         "582"
        ],
        [
         "9",
         "448"
        ],
        [
         "10",
         "427"
        ],
        [
         "11",
         "349"
        ],
        [
         "12",
         "297"
        ],
        [
         "13",
         "251"
        ],
        [
         "14",
         "230"
        ],
        [
         "15",
         "200"
        ],
        [
         "16",
         "182"
        ],
        [
         "18",
         "150"
        ],
        [
         "17",
         "137"
        ],
        [
         "19",
         "132"
        ],
        [
         "20",
         "97"
        ],
        [
         "21",
         "86"
        ],
        [
         "22",
         "83"
        ],
        [
         "23",
         "68"
        ],
        [
         "24",
         "61"
        ],
        [
         "26",
         "53"
        ],
        [
         "25",
         "49"
        ],
        [
         "28",
         "38"
        ],
        [
         "27",
         "36"
        ],
        [
         "29",
         "35"
        ],
        [
         "31",
         "33"
        ],
        [
         "30",
         "24"
        ],
        [
         "32",
         "21"
        ],
        [
         "33",
         "19"
        ],
        [
         "34",
         "15"
        ],
        [
         "37",
         "13"
        ],
        [
         "35",
         "11"
        ],
        [
         "42",
         "9"
        ],
        [
         "41",
         "8"
        ],
        [
         "36",
         "8"
        ],
        [
         "38",
         "7"
        ],
        [
         "49",
         "5"
        ],
        [
         "44",
         "5"
        ],
        [
         "40",
         "5"
        ],
        [
         "43",
         "5"
        ],
        [
         "48",
         "3"
        ],
        [
         "45",
         "3"
        ],
        [
         "46",
         "2"
        ],
        [
         "39",
         "2"
        ],
        [
         "59",
         "1"
        ]
       ],
       "shape": {
        "columns": 1,
        "rows": 52
       }
      },
      "text/plain": [
       "Country_Counts\n",
       "1     61203\n",
       "0      4419\n",
       "2      3430\n",
       "3      1495\n",
       "4      1158\n",
       "5       932\n",
       "6       796\n",
       "7       679\n",
       "8       582\n",
       "9       448\n",
       "10      427\n",
       "11      349\n",
       "12      297\n",
       "13      251\n",
       "14      230\n",
       "15      200\n",
       "16      182\n",
       "18      150\n",
       "17      137\n",
       "19      132\n",
       "20       97\n",
       "21       86\n",
       "22       83\n",
       "23       68\n",
       "24       61\n",
       "26       53\n",
       "25       49\n",
       "28       38\n",
       "27       36\n",
       "29       35\n",
       "31       33\n",
       "30       24\n",
       "32       21\n",
       "33       19\n",
       "34       15\n",
       "37       13\n",
       "35       11\n",
       "42        9\n",
       "41        8\n",
       "36        8\n",
       "38        7\n",
       "49        5\n",
       "44        5\n",
       "40        5\n",
       "43        5\n",
       "48        3\n",
       "45        3\n",
       "46        2\n",
       "39        2\n",
       "59        1\n",
       "57        1\n",
       "51        1\n",
       "Name: count, dtype: int64"
      ]
     },
     "metadata": {},
     "output_type": "display_data"
    },
    {
     "data": {
      "text/plain": [
       "(78304, 64)"
      ]
     },
     "metadata": {},
     "output_type": "display_data"
    }
   ],
   "source": [
    "df = df.merge(my_locations[[\"nct_id\", \"Country_Counts\"]], on = \"nct_id\", how = \"left\")\n",
    "display(df[\"Country_Counts\"].value_counts(dropna=False))\n",
    "display(df.shape) "
   ]
  },
  {
   "cell_type": "markdown",
   "metadata": {},
   "source": [
    "### Country_Counts_Log"
   ]
  },
  {
   "cell_type": "code",
   "execution_count": 64,
   "metadata": {},
   "outputs": [],
   "source": [
    "df['Country_Counts_Log'] = np.log1p(df['Country_Counts'])"
   ]
  },
  {
   "cell_type": "markdown",
   "metadata": {},
   "source": [
    "### Continents_List"
   ]
  },
  {
   "cell_type": "code",
   "execution_count": 65,
   "metadata": {},
   "outputs": [],
   "source": [
    "Countries = pd.DataFrame(geonamescache.GeonamesCache().get_countries()).transpose().reset_index()\n",
    "Countries = Countries[[\"name\", \"continentcode\"]]\n",
    "Countries = Countries.replace({\"NA\": \"North America\", \"OC\": \"Oceania\", \"EU\": \"Europe\", \"AS\": \"Asia\", \"AF\": \"Africa\", \"SA\": \"South America\"})\n",
    "geo_dict = dict(zip( Countries['name'], Countries['continentcode']))"
   ]
  },
  {
   "cell_type": "markdown",
   "metadata": {},
   "source": [
    "#### NaN++ --> Fillna + Other"
   ]
  },
  {
   "cell_type": "code",
   "execution_count": 66,
   "metadata": {},
   "outputs": [
    {
     "data": {
      "application/vnd.microsoft.datawrangler.viewer.v0+json": {
       "columns": [
        {
         "name": "Continents_List",
         "rawType": "object",
         "type": "unknown"
        },
        {
         "name": "count",
         "rawType": "int64",
         "type": "integer"
        }
       ],
       "ref": "8a4581d3-814b-49fd-8be2-c89063df743c",
       "rows": [
        [
         "['North America']",
         "31103"
        ],
        [
         "['Europe']",
         "15345"
        ],
        [
         "['Asia']",
         "13188"
        ],
        [
         "['Cont_Other']",
         "4852"
        ],
        [
         "['Europe', 'North America']",
         "2620"
        ],
        [
         "['Africa']",
         "2461"
        ],
        [
         "['South America']",
         "1158"
        ],
        [
         "['Asia', 'Europe', 'North America']",
         "1153"
        ],
        [
         "['Oceania']",
         "1009"
        ],
        [
         "['Asia', 'Europe', 'North America', 'Oceania']",
         "764"
        ],
        [
         "['Europe', 'North America', 'Oceania']",
         "586"
        ],
        [
         "['Asia', 'Europe', 'North America', 'Oceania', 'South America']",
         "513"
        ],
        [
         "['Asia', 'Europe', 'North America', 'South America']",
         "390"
        ],
        [
         "['Asia', 'Europe']",
         "378"
        ],
        [
         "['Asia', 'North America']",
         "377"
        ],
        [
         "['North America', 'Oceania']",
         "301"
        ],
        [
         "['Africa', 'Asia', 'Europe', 'North America', 'Oceania', 'South America']",
         "287"
        ],
        [
         "['Europe', 'North America', 'South America']",
         "226"
        ],
        [
         "['Africa', 'Asia', 'Europe', 'North America', 'South America']",
         "217"
        ],
        [
         "['Africa', 'Asia', 'Europe', 'North America']",
         "129"
        ],
        [
         "['Europe', 'Oceania']",
         "123"
        ],
        [
         "['North America', 'South America']",
         "99"
        ],
        [
         "['Africa', 'Europe', 'North America']",
         "97"
        ],
        [
         "['Europe', 'North America', 'Oceania', 'South America']",
         "86"
        ],
        [
         "['Africa', 'Asia', 'Europe', 'North America', 'Oceania']",
         "82"
        ],
        [
         "['Asia', 'North America', 'Oceania']",
         "76"
        ],
        [
         "['Asia', 'Oceania']",
         "73"
        ],
        [
         "['Africa', 'Europe', 'North America', 'South America']",
         "65"
        ],
        [
         "['Asia', 'Europe', 'Oceania']",
         "64"
        ],
        [
         "['Africa', 'Asia']",
         "51"
        ],
        [
         "['Africa', 'Europe']",
         "49"
        ],
        [
         "['Africa', 'North America']",
         "47"
        ],
        [
         "['Africa', 'Asia', 'Europe']",
         "37"
        ],
        [
         "['Europe', 'South America']",
         "32"
        ],
        [
         "['Africa', 'Europe', 'North America', 'Oceania', 'South America']",
         "26"
        ],
        [
         "['Asia', 'Europe', 'South America']",
         "26"
        ],
        [
         "['Africa', 'Europe', 'North America', 'Oceania']",
         "24"
        ],
        [
         "['Africa', 'Asia', 'North America', 'South America']",
         "22"
        ],
        [
         "['Africa', 'Asia', 'Europe', 'South America']",
         "22"
        ],
        [
         "['Africa', 'Asia', 'North America']",
         "20"
        ],
        [
         "['Asia', 'North America', 'South America']",
         "20"
        ],
        [
         "['Asia', 'South America']",
         "12"
        ],
        [
         "['Africa', 'North America', 'South America']",
         "11"
        ],
        [
         "['North America', 'Oceania', 'South America']",
         "11"
        ],
        [
         "['Africa', 'Asia', 'South America']",
         "9"
        ],
        [
         "['Africa', 'South America']",
         "7"
        ],
        [
         "['Asia', 'Europe', 'Oceania', 'South America']",
         "7"
        ],
        [
         "['Africa', 'Europe', 'Oceania']",
         "6"
        ],
        [
         "['Europe', 'Oceania', 'South America']",
         "6"
        ],
        [
         "['Africa', 'North America', 'Oceania']",
         "6"
        ]
       ],
       "shape": {
        "columns": 1,
        "rows": 60
       }
      },
      "text/plain": [
       "Continents_List\n",
       "[North America]                                                  31103\n",
       "[Europe]                                                         15345\n",
       "[Asia]                                                           13188\n",
       "[Cont_Other]                                                      4852\n",
       "[Europe, North America]                                           2620\n",
       "[Africa]                                                          2461\n",
       "[South America]                                                   1158\n",
       "[Asia, Europe, North America]                                     1153\n",
       "[Oceania]                                                         1009\n",
       "[Asia, Europe, North America, Oceania]                             764\n",
       "[Europe, North America, Oceania]                                   586\n",
       "[Asia, Europe, North America, Oceania, South America]              513\n",
       "[Asia, Europe, North America, South America]                       390\n",
       "[Asia, Europe]                                                     378\n",
       "[Asia, North America]                                              377\n",
       "[North America, Oceania]                                           301\n",
       "[Africa, Asia, Europe, North America, Oceania, South America]      287\n",
       "[Europe, North America, South America]                             226\n",
       "[Africa, Asia, Europe, North America, South America]               217\n",
       "[Africa, Asia, Europe, North America]                              129\n",
       "[Europe, Oceania]                                                  123\n",
       "[North America, South America]                                      99\n",
       "[Africa, Europe, North America]                                     97\n",
       "[Europe, North America, Oceania, South America]                     86\n",
       "[Africa, Asia, Europe, North America, Oceania]                      82\n",
       "[Asia, North America, Oceania]                                      76\n",
       "[Asia, Oceania]                                                     73\n",
       "[Africa, Europe, North America, South America]                      65\n",
       "[Asia, Europe, Oceania]                                             64\n",
       "[Africa, Asia]                                                      51\n",
       "[Africa, Europe]                                                    49\n",
       "[Africa, North America]                                             47\n",
       "[Africa, Asia, Europe]                                              37\n",
       "[Europe, South America]                                             32\n",
       "[Africa, Europe, North America, Oceania, South America]             26\n",
       "[Asia, Europe, South America]                                       26\n",
       "[Africa, Europe, North America, Oceania]                            24\n",
       "[Africa, Asia, North America, South America]                        22\n",
       "[Africa, Asia, Europe, South America]                               22\n",
       "[Africa, Asia, North America]                                       20\n",
       "[Asia, North America, South America]                                20\n",
       "[Asia, South America]                                               12\n",
       "[Africa, North America, South America]                              11\n",
       "[North America, Oceania, South America]                             11\n",
       "[Africa, Asia, South America]                                        9\n",
       "[Africa, South America]                                              7\n",
       "[Asia, Europe, Oceania, South America]                               7\n",
       "[Africa, Europe, Oceania]                                            6\n",
       "[Europe, Oceania, South America]                                     6\n",
       "[Africa, North America, Oceania]                                     6\n",
       "[Africa, Europe, South America]                                      5\n",
       "[Africa, Asia, Europe, Oceania]                                      5\n",
       "[Africa, Asia, Europe, Oceania, South America]                       4\n",
       "[Asia, North America, Oceania, South America]                        4\n",
       "[Africa, Asia, Oceania]                                              3\n",
       "[Oceania, South America]                                             3\n",
       "[Africa, Asia, North America, Oceania, South America]                2\n",
       "[Africa, Asia, Oceania, South America]                               2\n",
       "[Africa, Oceania]                                                    2\n",
       "[Africa, North America, Oceania, South America]                      1\n",
       "Name: count, dtype: int64"
      ]
     },
     "metadata": {},
     "output_type": "display_data"
    }
   ],
   "source": [
    "df['Continents_List'] = df['Countries_List'].apply(\n",
    "    lambda x: [geo_dict.get(item, 'None') for item in x] if isinstance(x, list) else ['Cont_Other'])\n",
    "\n",
    "df['Continents_List'] = df['Continents_List'].apply(lambda x: [i for i in x if i != 'None']) # matched some '' from geodict\n",
    "df['Continents_List'] = df['Continents_List'].apply(lambda x: ['Cont_Other'] if len(x) == 0 else x)\n",
    "df['Continents_List'] = df['Continents_List'].apply(lambda x: sorted(set(x)))\n",
    "\n",
    "display(df['Continents_List'].value_counts(dropna = False))\n"
   ]
  },
  {
   "cell_type": "markdown",
   "metadata": {},
   "source": [
    "#### Merge\n",
    "- Based on Sparse file"
   ]
  },
  {
   "cell_type": "code",
   "execution_count": 67,
   "metadata": {},
   "outputs": [
    {
     "data": {
      "text/plain": [
       "Counter({'North America': 39365,\n",
       "         'Europe': 23374,\n",
       "         'Asia': 17937,\n",
       "         'Cont_Other': 4852,\n",
       "         'Oceania': 4076,\n",
       "         'Africa': 3699,\n",
       "         'South America': 3273})"
      ]
     },
     "metadata": {},
     "output_type": "display_data"
    },
    {
     "data": {
      "text/plain": [
       "Counter({'North America': 39365,\n",
       "         'Europe': 23374,\n",
       "         'Asia': 17937,\n",
       "         'Cont_Other': 15900})"
      ]
     },
     "metadata": {},
     "output_type": "display_data"
    }
   ],
   "source": [
    "cont_map = { \n",
    "    'Oceania' : 'Cont_Other',\n",
    "    'Africa' : 'Cont_Other',\n",
    "    'South America' : 'Cont_Other'   \n",
    "}\n",
    "display(Counter([elem for row_list in df[\"Continents_List\"] for elem in row_list]))\n",
    "df['Continents_List'] = df['Continents_List'].apply(lambda row: [cont_map.get(val, val) for val in row])\n",
    "display(Counter([elem for row_list in df[\"Continents_List\"] for elem in row_list]))\n"
   ]
  },
  {
   "cell_type": "markdown",
   "metadata": {},
   "source": [
    "### Continent_Counts\n",
    "####  NaNs+ --> 0"
   ]
  },
  {
   "cell_type": "code",
   "execution_count": 68,
   "metadata": {},
   "outputs": [
    {
     "data": {
      "application/vnd.microsoft.datawrangler.viewer.v0+json": {
       "columns": [
        {
         "name": "Continent_Counts",
         "rawType": "int64",
         "type": "integer"
        },
        {
         "name": "count",
         "rawType": "int64",
         "type": "integer"
        }
       ],
       "ref": "4eef17a9-9c3b-4411-90a3-cc4cea934526",
       "rows": [
        [
         "1",
         "59636"
        ],
        [
         "0",
         "9480"
        ],
        [
         "2",
         "4174"
        ],
        [
         "3",
         "2362"
        ],
        [
         "4",
         "1521"
        ],
        [
         "5",
         "844"
        ],
        [
         "6",
         "287"
        ]
       ],
       "shape": {
        "columns": 1,
        "rows": 7
       }
      },
      "text/plain": [
       "Continent_Counts\n",
       "1    59636\n",
       "0     9480\n",
       "2     4174\n",
       "3     2362\n",
       "4     1521\n",
       "5      844\n",
       "6      287\n",
       "Name: count, dtype: int64"
      ]
     },
     "metadata": {},
     "output_type": "display_data"
    },
    {
     "data": {
      "text/plain": [
       "(78304, 67)"
      ]
     },
     "metadata": {},
     "output_type": "display_data"
    }
   ],
   "source": [
    "df[\"Continent_Counts\"] = df[\"Continents_List\"].apply(lambda x: len(x) if isinstance(x, list) and x != ['Cont_Other'] else 0)\n",
    "display(df[\"Continent_Counts\"].value_counts(dropna = False))\n",
    "display(df.shape)"
   ]
  },
  {
   "cell_type": "markdown",
   "metadata": {},
   "source": [
    "### Continent_Count_Log"
   ]
  },
  {
   "cell_type": "code",
   "execution_count": 69,
   "metadata": {},
   "outputs": [],
   "source": [
    "df['Continent_Counts_Log'] = np.log1p(df['Continent_Counts'])"
   ]
  },
  {
   "cell_type": "markdown",
   "metadata": {},
   "source": [
    "### City_Counts\n"
   ]
  },
  {
   "cell_type": "code",
   "execution_count": 70,
   "metadata": {},
   "outputs": [
    {
     "data": {
      "application/vnd.microsoft.datawrangler.viewer.v0+json": {
       "columns": [
        {
         "name": "City_Counts",
         "rawType": "int64",
         "type": "integer"
        },
        {
         "name": "count",
         "rawType": "int64",
         "type": "integer"
        }
       ],
       "ref": "b13792a2-bdf6-42e5-bd7d-5e00c43eb98e",
       "rows": [
        [
         "1",
         "44411"
        ],
        [
         "0",
         "4419"
        ],
        [
         "2",
         "4384"
        ],
        [
         "3",
         "2587"
        ],
        [
         "4",
         "1950"
        ],
        [
         "5",
         "1579"
        ],
        [
         "6",
         "1304"
        ],
        [
         "7",
         "1113"
        ],
        [
         "8",
         "980"
        ],
        [
         "10",
         "909"
        ],
        [
         "9",
         "849"
        ],
        [
         "11",
         "671"
        ],
        [
         "12",
         "630"
        ],
        [
         "13",
         "587"
        ],
        [
         "14",
         "546"
        ],
        [
         "15",
         "500"
        ],
        [
         "16",
         "454"
        ],
        [
         "17",
         "396"
        ],
        [
         "18",
         "372"
        ],
        [
         "20",
         "361"
        ],
        [
         "22",
         "319"
        ],
        [
         "19",
         "309"
        ],
        [
         "21",
         "307"
        ],
        [
         "23",
         "279"
        ],
        [
         "24",
         "254"
        ],
        [
         "27",
         "232"
        ],
        [
         "25",
         "228"
        ],
        [
         "30",
         "221"
        ],
        [
         "28",
         "220"
        ],
        [
         "29",
         "214"
        ],
        [
         "26",
         "212"
        ],
        [
         "31",
         "205"
        ],
        [
         "32",
         "183"
        ],
        [
         "35",
         "175"
        ],
        [
         "36",
         "168"
        ],
        [
         "33",
         "161"
        ],
        [
         "34",
         "151"
        ],
        [
         "38",
         "149"
        ],
        [
         "37",
         "134"
        ],
        [
         "41",
         "126"
        ],
        [
         "40",
         "119"
        ],
        [
         "42",
         "114"
        ],
        [
         "43",
         "109"
        ],
        [
         "47",
         "109"
        ],
        [
         "49",
         "109"
        ],
        [
         "39",
         "105"
        ],
        [
         "46",
         "104"
        ],
        [
         "44",
         "103"
        ],
        [
         "48",
         "102"
        ],
        [
         "51",
         "97"
        ]
       ],
       "shape": {
        "columns": 1,
        "rows": 402
       }
      },
      "text/plain": [
       "City_Counts\n",
       "1      44411\n",
       "0       4419\n",
       "2       4384\n",
       "3       2587\n",
       "4       1950\n",
       "       ...  \n",
       "243        1\n",
       "441        1\n",
       "338        1\n",
       "298        1\n",
       "272        1\n",
       "Name: count, Length: 402, dtype: int64"
      ]
     },
     "metadata": {},
     "output_type": "display_data"
    },
    {
     "data": {
      "text/plain": [
       "(78304, 69)"
      ]
     },
     "metadata": {},
     "output_type": "display_data"
    }
   ],
   "source": [
    "df = df.merge(my_locations[[ \"nct_id\", \"City_Counts\"]], on = \"nct_id\", how = \"left\") \n",
    "# Cities already sorted(set(x)) in df_locations --> correct counts\n",
    "display(df[\"City_Counts\"].value_counts(dropna=False))\n",
    "display(df.shape) "
   ]
  },
  {
   "cell_type": "markdown",
   "metadata": {},
   "source": [
    "### City_Counts_Log"
   ]
  },
  {
   "cell_type": "code",
   "execution_count": 71,
   "metadata": {},
   "outputs": [],
   "source": [
    "df['City_Counts_Log'] = np.log1p(df['City_Counts'])"
   ]
  },
  {
   "cell_type": "markdown",
   "metadata": {},
   "source": [
    "## Enrollment\n"
   ]
  },
  {
   "cell_type": "markdown",
   "metadata": {},
   "source": [
    "### Enrollment_Counts"
   ]
  },
  {
   "cell_type": "code",
   "execution_count": 72,
   "metadata": {},
   "outputs": [
    {
     "data": {
      "application/vnd.microsoft.datawrangler.viewer.v0+json": {
       "columns": [
        {
         "name": "Enrollment_Counts",
         "rawType": "float64",
         "type": "float"
        },
        {
         "name": "count",
         "rawType": "int64",
         "type": "integer"
        }
       ],
       "ref": "b7bae957-2bf7-4714-9f6c-c63a37d9b915",
       "rows": [
        [
         "0.0",
         "4374"
        ],
        [
         "20.0",
         "1714"
        ],
        [
         "24.0",
         "1704"
        ],
        [
         "30.0",
         "1698"
        ],
        [
         "40.0",
         "1540"
        ],
        [
         "60.0",
         "1524"
        ],
        [
         "12.0",
         "1416"
        ],
        [
         "10.0",
         "1301"
        ],
        [
         "16.0",
         "1152"
        ],
        [
         "6.0",
         "1052"
        ],
        [
         "50.0",
         "1031"
        ],
        [
         "18.0",
         "1010"
        ],
        [
         "32.0",
         "982"
        ],
        [
         "15.0",
         "957"
        ],
        [
         "36.0",
         "919"
        ],
        [
         "8.0",
         "886"
        ],
        [
         "100.0",
         "835"
        ],
        [
         "48.0",
         "809"
        ],
        [
         "25.0",
         "786"
        ],
        [
         "14.0",
         "784"
        ],
        [
         "1.0",
         "739"
        ],
        [
         "9.0",
         "727"
        ],
        [
         "5.0",
         "725"
        ],
        [
         "80.0",
         "705"
        ],
        [
         "3.0",
         "697"
        ],
        [
         "28.0",
         "692"
        ],
        [
         "2.0",
         "670"
        ],
        [
         "22.0",
         "665"
        ],
        [
         "26.0",
         "654"
        ],
        [
         "21.0",
         "645"
        ],
        [
         "13.0",
         "636"
        ],
        [
         "4.0",
         "628"
        ],
        [
         "11.0",
         "618"
        ],
        [
         "120.0",
         "602"
        ],
        [
         "17.0",
         "593"
        ],
        [
         "7.0",
         "587"
        ],
        [
         "19.0",
         "582"
        ],
        [
         "34.0",
         "562"
        ],
        [
         "23.0",
         "549"
        ],
        [
         "42.0",
         "543"
        ],
        [
         "27.0",
         "508"
        ],
        [
         "31.0",
         "508"
        ],
        [
         "90.0",
         "496"
        ],
        [
         "33.0",
         "494"
        ],
        [
         "70.0",
         "485"
        ],
        [
         "45.0",
         "477"
        ],
        [
         "44.0",
         "460"
        ],
        [
         "64.0",
         "454"
        ],
        [
         "38.0",
         "444"
        ],
        [
         "35.0",
         "433"
        ]
       ],
       "shape": {
        "columns": 1,
        "rows": 2269
       }
      },
      "text/plain": [
       "Enrollment_Counts\n",
       "0.0       4374\n",
       "20.0      1714\n",
       "24.0      1704\n",
       "30.0      1698\n",
       "40.0      1540\n",
       "          ... \n",
       "3250.0       1\n",
       "7075.0       1\n",
       "1341.0       1\n",
       "1061.0       1\n",
       "3231.0       1\n",
       "Name: count, Length: 2269, dtype: int64"
      ]
     },
     "metadata": {},
     "output_type": "display_data"
    }
   ],
   "source": [
    "df = df.rename(columns = {\"Enrollment\": \"Enrollment_Counts\"})\n",
    "display(df[\"Enrollment_Counts\"].value_counts(dropna=False)) "
   ]
  },
  {
   "cell_type": "markdown",
   "metadata": {},
   "source": [
    "#### NaNs --> Fillna db + Drop\n",
    "- No values could be filled from my_terminations table. "
   ]
  },
  {
   "cell_type": "code",
   "execution_count": null,
   "metadata": {},
   "outputs": [
    {
     "data": {
      "text/plain": [
       "3"
      ]
     },
     "metadata": {},
     "output_type": "display_data"
    },
    {
     "data": {
      "application/vnd.microsoft.datawrangler.viewer.v0+json": {
       "columns": [
        {
         "name": "('Enrollment_Counts', 'Study_Status_Bin')",
         "rawType": "object",
         "type": "string"
        },
        {
         "name": "count",
         "rawType": "int64",
         "type": "integer"
        }
       ],
       "ref": "78858a80-1aa3-43ed-8f96-10335c73c23c",
       "rows": [],
       "shape": {
        "columns": 1,
        "rows": 0
       }
      },
      "text/plain": [
       "Series([], Name: count, dtype: int64)"
      ]
     },
     "metadata": {},
     "output_type": "display_data"
    },
    {
     "data": {
      "text/plain": [
       "3"
      ]
     },
     "metadata": {},
     "output_type": "display_data"
    },
    {
     "data": {
      "text/plain": [
       "0"
      ]
     },
     "execution_count": 74,
     "metadata": {},
     "output_type": "execute_result"
    }
   ],
   "source": [
    "display(df['Enrollment_Counts'].isnull().sum())\n",
    "# display(df.loc[df['Enrollment_Counts'].isnull()][['Enrollment_Counts', 'Study_Status_Bin']].value_counts()) # was also checked if withdrawn \n",
    "df = df.merge(my_studies[['nct_id', 'enrollment']], on = 'nct_id', how = 'left')\n",
    "df['Enrollment_Counts'] = df['Enrollment_Counts'].fillna(df['enrollment']) # Nothing filled from db\n",
    "\n",
    "display(df['Enrollment_Counts'].isnull().sum())\n",
    "\n",
    "df = df.dropna(subset = [\"Enrollment_Counts\"])\n",
    "df['Enrollment_Counts'] = df['Enrollment_Counts'].astype(int)\n",
    "\n",
    "df['Enrollment_Counts'].isnull().sum()"
   ]
  },
  {
   "cell_type": "markdown",
   "metadata": {},
   "source": [
    "### Enrollment_Log"
   ]
  },
  {
   "cell_type": "code",
   "execution_count": 75,
   "metadata": {},
   "outputs": [
    {
     "data": {
      "application/vnd.microsoft.datawrangler.viewer.v0+json": {
       "columns": [
        {
         "name": "index",
         "rawType": "object",
         "type": "string"
        },
        {
         "name": "Enrollment_Counts_Log",
         "rawType": "float64",
         "type": "float"
        }
       ],
       "ref": "387f5751-66d3-44f1-9012-fd21e485f29b",
       "rows": [
        [
         "count",
         "78301.0"
        ],
        [
         "mean",
         "3.81124110899283"
        ],
        [
         "std",
         "1.632356990258785"
        ],
        [
         "min",
         "0.0"
        ],
        [
         "25%",
         "2.995732273553991"
        ],
        [
         "50%",
         "3.8501476017100584"
        ],
        [
         "75%",
         "4.795790545596741"
        ],
        [
         "max",
         "13.669899643653403"
        ]
       ],
       "shape": {
        "columns": 1,
        "rows": 8
       }
      },
      "text/plain": [
       "count    78301.000000\n",
       "mean         3.811241\n",
       "std          1.632357\n",
       "min          0.000000\n",
       "25%          2.995732\n",
       "50%          3.850148\n",
       "75%          4.795791\n",
       "max         13.669900\n",
       "Name: Enrollment_Counts_Log, dtype: float64"
      ]
     },
     "execution_count": 75,
     "metadata": {},
     "output_type": "execute_result"
    }
   ],
   "source": [
    "df['Enrollment_Counts_Log'] = np.log1p(df['Enrollment_Counts'])\n",
    "df['Enrollment_Counts_Log'].describe()  "
   ]
  },
  {
   "cell_type": "markdown",
   "metadata": {},
   "source": [
    "# Drop Columns"
   ]
  },
  {
   "cell_type": "code",
   "execution_count": 76,
   "metadata": {},
   "outputs": [
    {
     "data": {
      "text/plain": [
       "Index(['Study_Status_Bin', 'Sex_List', 'Age_List', 'Phases_List',\n",
       "       'Enrollment_Counts', 'Funder_Industry_Bin', 'Start_Date_Year_Counts',\n",
       "       'Completion_Date_Year_Counts', 'Completion_Gap_Counts',\n",
       "       'Completion_Gap_Log', 'Intervention_Type_List',\n",
       "       'Intervention_Type_Counts', 'Intervention_Route_List',\n",
       "       'Intervention_Route_Counts', 'Placebo_Bin', 'Standard_Care_Bin',\n",
       "       'Healthy_Bin', 'Covid_19_Bin', 'Conditions_Detail_List', 'Adverse_List',\n",
       "       'Adverse_Counts', 'Adverse_Counts_Log', 'Adverse_Bin',\n",
       "       'Adverse_System_List', 'Adverse_System_Counts',\n",
       "       'Adverse_System_Counts_Log', 'Allocation_List',\n",
       "       'Intervention_Model_List', 'Masking_List', 'Masking_Detail_List',\n",
       "       'Primary_Purpose_List', 'Arm_Counts', 'Arm_Counts_Log',\n",
       "       'Country_Counts', 'Country_Counts_Log', 'Continents_List',\n",
       "       'Continent_Counts', 'Continent_Counts_Log', 'City_Counts',\n",
       "       'City_Counts_Log', 'Enrollment_Counts_Log'],\n",
       "      dtype='object')"
      ]
     },
     "execution_count": 76,
     "metadata": {},
     "output_type": "execute_result"
    }
   ],
   "source": [
    "df = df.drop(columns = [\n",
    "       \"nct_id\",  # Unique identifier not feature, no longer needed for analysis\n",
    "       'Brief Summary', \n",
    "       'Study Title', 'Study URL', 'Acronym', 'Other IDs',  # Unique identifier not feature\n",
    "       'official_title', \n",
    "       'Conditions', 'Interventions', # text data used in other format\n",
    "       'Primary Outcome Measures', 'Secondary Outcome Measures', 'Other Outcome Measures', 'Study Results', # Results not pre-designed features\n",
    "       'Sponsor', 'Collaborators', # used in other format \n",
    "       'Study Type', # All interventional\n",
    "       'Study Design',  # used in other format\n",
    "       'Start Date', 'Primary Completion Date', 'Completion Date', 'First Posted', # used in other format\n",
    "       'Results First Posted', 'Last Update Posted', \n",
    "       'Locations', 'Countries_List', # used in other format\n",
    "       'Study Documents', \n",
    "       'Injection', 'Oral', 'Topical', 'Surgical', \n",
    "       'enrollment',\n",
    "       ], axis = 1)\n",
    "\n",
    "df.columns"
   ]
  },
  {
   "cell_type": "markdown",
   "metadata": {},
   "source": [
    "# Remaining NaNs\n",
    "- SOS Only after dropping columns"
   ]
  },
  {
   "cell_type": "code",
   "execution_count": 77,
   "metadata": {},
   "outputs": [
    {
     "data": {
      "application/vnd.microsoft.datawrangler.viewer.v0+json": {
       "columns": [
        {
         "name": "index",
         "rawType": "object",
         "type": "string"
        },
        {
         "name": "0",
         "rawType": "int64",
         "type": "integer"
        }
       ],
       "ref": "4c065bbb-b422-4fa9-a8bf-da15b6461cf3",
       "rows": [
        [
         "Study_Status_Bin",
         "0"
        ],
        [
         "Sex_List",
         "0"
        ],
        [
         "Age_List",
         "0"
        ],
        [
         "Phases_List",
         "0"
        ],
        [
         "Enrollment_Counts",
         "0"
        ],
        [
         "Funder_Industry_Bin",
         "0"
        ],
        [
         "Start_Date_Year_Counts",
         "0"
        ],
        [
         "Completion_Date_Year_Counts",
         "0"
        ],
        [
         "Completion_Gap_Counts",
         "0"
        ],
        [
         "Completion_Gap_Log",
         "0"
        ],
        [
         "Intervention_Type_List",
         "0"
        ],
        [
         "Intervention_Type_Counts",
         "0"
        ],
        [
         "Intervention_Route_List",
         "0"
        ],
        [
         "Intervention_Route_Counts",
         "0"
        ],
        [
         "Placebo_Bin",
         "0"
        ],
        [
         "Standard_Care_Bin",
         "0"
        ],
        [
         "Healthy_Bin",
         "0"
        ],
        [
         "Covid_19_Bin",
         "0"
        ],
        [
         "Conditions_Detail_List",
         "0"
        ],
        [
         "Adverse_List",
         "0"
        ],
        [
         "Adverse_Counts",
         "0"
        ],
        [
         "Adverse_Counts_Log",
         "0"
        ],
        [
         "Adverse_Bin",
         "0"
        ],
        [
         "Adverse_System_List",
         "0"
        ],
        [
         "Adverse_System_Counts",
         "0"
        ],
        [
         "Adverse_System_Counts_Log",
         "0"
        ],
        [
         "Allocation_List",
         "0"
        ],
        [
         "Intervention_Model_List",
         "0"
        ],
        [
         "Masking_List",
         "0"
        ],
        [
         "Masking_Detail_List",
         "0"
        ],
        [
         "Primary_Purpose_List",
         "0"
        ],
        [
         "Arm_Counts",
         "0"
        ],
        [
         "Arm_Counts_Log",
         "0"
        ],
        [
         "Country_Counts",
         "0"
        ],
        [
         "Country_Counts_Log",
         "0"
        ],
        [
         "Continents_List",
         "0"
        ],
        [
         "Continent_Counts",
         "0"
        ],
        [
         "Continent_Counts_Log",
         "0"
        ],
        [
         "City_Counts",
         "0"
        ],
        [
         "City_Counts_Log",
         "0"
        ],
        [
         "Enrollment_Counts_Log",
         "0"
        ]
       ],
       "shape": {
        "columns": 1,
        "rows": 41
       }
      },
      "text/plain": [
       "Study_Status_Bin               0\n",
       "Sex_List                       0\n",
       "Age_List                       0\n",
       "Phases_List                    0\n",
       "Enrollment_Counts              0\n",
       "Funder_Industry_Bin            0\n",
       "Start_Date_Year_Counts         0\n",
       "Completion_Date_Year_Counts    0\n",
       "Completion_Gap_Counts          0\n",
       "Completion_Gap_Log             0\n",
       "Intervention_Type_List         0\n",
       "Intervention_Type_Counts       0\n",
       "Intervention_Route_List        0\n",
       "Intervention_Route_Counts      0\n",
       "Placebo_Bin                    0\n",
       "Standard_Care_Bin              0\n",
       "Healthy_Bin                    0\n",
       "Covid_19_Bin                   0\n",
       "Conditions_Detail_List         0\n",
       "Adverse_List                   0\n",
       "Adverse_Counts                 0\n",
       "Adverse_Counts_Log             0\n",
       "Adverse_Bin                    0\n",
       "Adverse_System_List            0\n",
       "Adverse_System_Counts          0\n",
       "Adverse_System_Counts_Log      0\n",
       "Allocation_List                0\n",
       "Intervention_Model_List        0\n",
       "Masking_List                   0\n",
       "Masking_Detail_List            0\n",
       "Primary_Purpose_List           0\n",
       "Arm_Counts                     0\n",
       "Arm_Counts_Log                 0\n",
       "Country_Counts                 0\n",
       "Country_Counts_Log             0\n",
       "Continents_List                0\n",
       "Continent_Counts               0\n",
       "Continent_Counts_Log           0\n",
       "City_Counts                    0\n",
       "City_Counts_Log                0\n",
       "Enrollment_Counts_Log          0\n",
       "dtype: int64"
      ]
     },
     "metadata": {},
     "output_type": "display_data"
    }
   ],
   "source": [
    "display(df.isnull().sum())\n",
    "df = df.dropna()"
   ]
  },
  {
   "cell_type": "markdown",
   "metadata": {},
   "source": [
    "# Dfs Split"
   ]
  },
  {
   "cell_type": "code",
   "execution_count": 78,
   "metadata": {},
   "outputs": [
    {
     "data": {
      "application/vnd.microsoft.datawrangler.viewer.v0+json": {
       "columns": [
        {
         "name": "index",
         "rawType": "int64",
         "type": "integer"
        },
        {
         "name": "Study_Status_Bin",
         "rawType": "category",
         "type": "unknown"
        },
        {
         "name": "Sex_List",
         "rawType": "object",
         "type": "string"
        },
        {
         "name": "Age_List",
         "rawType": "object",
         "type": "unknown"
        },
        {
         "name": "Phases_List",
         "rawType": "object",
         "type": "unknown"
        },
        {
         "name": "Enrollment_Counts",
         "rawType": "int32",
         "type": "integer"
        },
        {
         "name": "Funder_Industry_Bin",
         "rawType": "object",
         "type": "string"
        },
        {
         "name": "Start_Date_Year_Counts",
         "rawType": "Int64",
         "type": "integer"
        },
        {
         "name": "Completion_Date_Year_Counts",
         "rawType": "Int64",
         "type": "integer"
        },
        {
         "name": "Completion_Gap_Counts",
         "rawType": "Int64",
         "type": "integer"
        },
        {
         "name": "Completion_Gap_Log",
         "rawType": "Float64",
         "type": "float"
        },
        {
         "name": "Intervention_Type_List",
         "rawType": "object",
         "type": "unknown"
        },
        {
         "name": "Intervention_Type_Counts",
         "rawType": "int64",
         "type": "integer"
        },
        {
         "name": "Intervention_Route_List",
         "rawType": "object",
         "type": "unknown"
        },
        {
         "name": "Intervention_Route_Counts",
         "rawType": "int64",
         "type": "integer"
        },
        {
         "name": "Placebo_Bin",
         "rawType": "object",
         "type": "string"
        },
        {
         "name": "Standard_Care_Bin",
         "rawType": "object",
         "type": "string"
        },
        {
         "name": "Healthy_Bin",
         "rawType": "object",
         "type": "string"
        },
        {
         "name": "Covid_19_Bin",
         "rawType": "object",
         "type": "string"
        },
        {
         "name": "Conditions_Detail_List",
         "rawType": "object",
         "type": "unknown"
        },
        {
         "name": "Adverse_List",
         "rawType": "object",
         "type": "unknown"
        },
        {
         "name": "Adverse_Counts",
         "rawType": "int32",
         "type": "integer"
        },
        {
         "name": "Adverse_Counts_Log",
         "rawType": "float64",
         "type": "float"
        },
        {
         "name": "Adverse_Bin",
         "rawType": "object",
         "type": "string"
        },
        {
         "name": "Adverse_System_List",
         "rawType": "object",
         "type": "unknown"
        },
        {
         "name": "Adverse_System_Counts",
         "rawType": "int64",
         "type": "integer"
        },
        {
         "name": "Adverse_System_Counts_Log",
         "rawType": "float64",
         "type": "float"
        },
        {
         "name": "Allocation_List",
         "rawType": "object",
         "type": "string"
        },
        {
         "name": "Intervention_Model_List",
         "rawType": "object",
         "type": "string"
        },
        {
         "name": "Masking_List",
         "rawType": "object",
         "type": "string"
        },
        {
         "name": "Masking_Detail_List",
         "rawType": "object",
         "type": "unknown"
        },
        {
         "name": "Primary_Purpose_List",
         "rawType": "object",
         "type": "string"
        },
        {
         "name": "Arm_Counts",
         "rawType": "int32",
         "type": "integer"
        },
        {
         "name": "Arm_Counts_Log",
         "rawType": "float64",
         "type": "float"
        },
        {
         "name": "Country_Counts",
         "rawType": "int64",
         "type": "integer"
        },
        {
         "name": "Country_Counts_Log",
         "rawType": "float64",
         "type": "float"
        },
        {
         "name": "Continents_List",
         "rawType": "object",
         "type": "unknown"
        },
        {
         "name": "Continent_Counts",
         "rawType": "int64",
         "type": "integer"
        },
        {
         "name": "Continent_Counts_Log",
         "rawType": "float64",
         "type": "float"
        },
        {
         "name": "City_Counts",
         "rawType": "int64",
         "type": "integer"
        },
        {
         "name": "City_Counts_Log",
         "rawType": "float64",
         "type": "float"
        },
        {
         "name": "Enrollment_Counts_Log",
         "rawType": "float64",
         "type": "float"
        },
        {
         "name": "PHASE1",
         "rawType": "int32",
         "type": "integer"
        },
        {
         "name": "PHASE2",
         "rawType": "int32",
         "type": "integer"
        },
        {
         "name": "PHASE3",
         "rawType": "int32",
         "type": "integer"
        },
        {
         "name": "PHASE4",
         "rawType": "int32",
         "type": "integer"
        }
       ],
       "ref": "ee959c09-4000-4a63-88b7-bcdad2460b9e",
       "rows": [
        [
         "0",
         "COMPLETED",
         "MALE",
         "['ADULT']",
         "['PHASE1']",
         "24",
         "INDUSTRY",
         "2014",
         "2014",
         "2",
         "1.0986122886681098",
         "['DRUG']",
         "1",
         "['Inter_Route_Other']",
         "1",
         "No",
         "No",
         "Yes",
         "No",
         "['Cardiovascular']",
         "['Adv_None']",
         "0",
         "0.0",
         "No",
         "['Adv_Syst_None']",
         "0",
         "0.0",
         "RANDOMIZED",
         "CROSSOVER",
         "MASK_NONE",
         "['MASK_DET_NONE']",
         "TREATMENT",
         "2",
         "1.0986122886681098",
         "1",
         "0.6931471805599453",
         "['Asia']",
         "1",
         "0.6931471805599453",
         "1",
         "0.6931471805599453",
         "3.2188758248682006",
         "1",
         "0",
         "0",
         "0"
        ],
        [
         "1",
         "COMPLETED",
         "MALE",
         "['ADULT']",
         "['PHASE1']",
         "39",
         "FUNDER_OTHER",
         "2013",
         "2013",
         "9",
         "2.302585092994046",
         "['DRUG']",
         "1",
         "['Inter_Route_Other']",
         "1",
         "Yes",
         "No",
         "Yes",
         "No",
         "['Cond_Detail_Other']",
         "['Adv_None']",
         "0",
         "0.0",
         "No",
         "['Adv_Syst_None']",
         "0",
         "0.0",
         "RANDOMIZED",
         "CROSSOVER",
         "MASK_NONE",
         "['MASK_DET_NONE']",
         "DIAGNOSTIC",
         "3",
         "1.3862943611198906",
         "1",
         "0.6931471805599453",
         "['Asia']",
         "1",
         "0.6931471805599453",
         "1",
         "0.6931471805599453",
         "3.6888794541139363",
         "1",
         "0",
         "0",
         "0"
        ]
       ],
       "shape": {
        "columns": 45,
        "rows": 2
       }
      },
      "text/html": [
       "<div>\n",
       "<style scoped>\n",
       "    .dataframe tbody tr th:only-of-type {\n",
       "        vertical-align: middle;\n",
       "    }\n",
       "\n",
       "    .dataframe tbody tr th {\n",
       "        vertical-align: top;\n",
       "    }\n",
       "\n",
       "    .dataframe thead th {\n",
       "        text-align: right;\n",
       "    }\n",
       "</style>\n",
       "<table border=\"1\" class=\"dataframe\">\n",
       "  <thead>\n",
       "    <tr style=\"text-align: right;\">\n",
       "      <th></th>\n",
       "      <th>Study_Status_Bin</th>\n",
       "      <th>Sex_List</th>\n",
       "      <th>Age_List</th>\n",
       "      <th>Phases_List</th>\n",
       "      <th>Enrollment_Counts</th>\n",
       "      <th>Funder_Industry_Bin</th>\n",
       "      <th>Start_Date_Year_Counts</th>\n",
       "      <th>Completion_Date_Year_Counts</th>\n",
       "      <th>Completion_Gap_Counts</th>\n",
       "      <th>Completion_Gap_Log</th>\n",
       "      <th>Intervention_Type_List</th>\n",
       "      <th>Intervention_Type_Counts</th>\n",
       "      <th>Intervention_Route_List</th>\n",
       "      <th>Intervention_Route_Counts</th>\n",
       "      <th>Placebo_Bin</th>\n",
       "      <th>Standard_Care_Bin</th>\n",
       "      <th>Healthy_Bin</th>\n",
       "      <th>...</th>\n",
       "      <th>Masking_List</th>\n",
       "      <th>Masking_Detail_List</th>\n",
       "      <th>Primary_Purpose_List</th>\n",
       "      <th>Arm_Counts</th>\n",
       "      <th>Arm_Counts_Log</th>\n",
       "      <th>Country_Counts</th>\n",
       "      <th>Country_Counts_Log</th>\n",
       "      <th>Continents_List</th>\n",
       "      <th>Continent_Counts</th>\n",
       "      <th>Continent_Counts_Log</th>\n",
       "      <th>City_Counts</th>\n",
       "      <th>City_Counts_Log</th>\n",
       "      <th>Enrollment_Counts_Log</th>\n",
       "      <th>PHASE1</th>\n",
       "      <th>PHASE2</th>\n",
       "      <th>PHASE3</th>\n",
       "      <th>PHASE4</th>\n",
       "    </tr>\n",
       "  </thead>\n",
       "  <tbody>\n",
       "    <tr>\n",
       "      <th>0</th>\n",
       "      <td>COMPLETED</td>\n",
       "      <td>MALE</td>\n",
       "      <td>[ADULT]</td>\n",
       "      <td>[PHASE1]</td>\n",
       "      <td>24</td>\n",
       "      <td>INDUSTRY</td>\n",
       "      <td>2014</td>\n",
       "      <td>2014</td>\n",
       "      <td>2</td>\n",
       "      <td>1.098612</td>\n",
       "      <td>[DRUG]</td>\n",
       "      <td>1</td>\n",
       "      <td>[Inter_Route_Other]</td>\n",
       "      <td>1</td>\n",
       "      <td>No</td>\n",
       "      <td>No</td>\n",
       "      <td>Yes</td>\n",
       "      <td>...</td>\n",
       "      <td>MASK_NONE</td>\n",
       "      <td>[MASK_DET_NONE]</td>\n",
       "      <td>TREATMENT</td>\n",
       "      <td>2</td>\n",
       "      <td>1.098612</td>\n",
       "      <td>1</td>\n",
       "      <td>0.693147</td>\n",
       "      <td>[Asia]</td>\n",
       "      <td>1</td>\n",
       "      <td>0.693147</td>\n",
       "      <td>1</td>\n",
       "      <td>0.693147</td>\n",
       "      <td>3.218876</td>\n",
       "      <td>1</td>\n",
       "      <td>0</td>\n",
       "      <td>0</td>\n",
       "      <td>0</td>\n",
       "    </tr>\n",
       "    <tr>\n",
       "      <th>1</th>\n",
       "      <td>COMPLETED</td>\n",
       "      <td>MALE</td>\n",
       "      <td>[ADULT]</td>\n",
       "      <td>[PHASE1]</td>\n",
       "      <td>39</td>\n",
       "      <td>FUNDER_OTHER</td>\n",
       "      <td>2013</td>\n",
       "      <td>2013</td>\n",
       "      <td>9</td>\n",
       "      <td>2.302585</td>\n",
       "      <td>[DRUG]</td>\n",
       "      <td>1</td>\n",
       "      <td>[Inter_Route_Other]</td>\n",
       "      <td>1</td>\n",
       "      <td>Yes</td>\n",
       "      <td>No</td>\n",
       "      <td>Yes</td>\n",
       "      <td>...</td>\n",
       "      <td>MASK_NONE</td>\n",
       "      <td>[MASK_DET_NONE]</td>\n",
       "      <td>DIAGNOSTIC</td>\n",
       "      <td>3</td>\n",
       "      <td>1.386294</td>\n",
       "      <td>1</td>\n",
       "      <td>0.693147</td>\n",
       "      <td>[Asia]</td>\n",
       "      <td>1</td>\n",
       "      <td>0.693147</td>\n",
       "      <td>1</td>\n",
       "      <td>0.693147</td>\n",
       "      <td>3.688879</td>\n",
       "      <td>1</td>\n",
       "      <td>0</td>\n",
       "      <td>0</td>\n",
       "      <td>0</td>\n",
       "    </tr>\n",
       "  </tbody>\n",
       "</table>\n",
       "<p>2 rows × 45 columns</p>\n",
       "</div>"
      ],
      "text/plain": [
       "  Study_Status_Bin Sex_List Age_List Phases_List  Enrollment_Counts  \\\n",
       "0        COMPLETED     MALE  [ADULT]    [PHASE1]                 24   \n",
       "1        COMPLETED     MALE  [ADULT]    [PHASE1]                 39   \n",
       "\n",
       "  Funder_Industry_Bin  Start_Date_Year_Counts  Completion_Date_Year_Counts  \\\n",
       "0            INDUSTRY                    2014                         2014   \n",
       "1        FUNDER_OTHER                    2013                         2013   \n",
       "\n",
       "   Completion_Gap_Counts  Completion_Gap_Log Intervention_Type_List  \\\n",
       "0                      2            1.098612                 [DRUG]   \n",
       "1                      9            2.302585                 [DRUG]   \n",
       "\n",
       "   Intervention_Type_Counts Intervention_Route_List  \\\n",
       "0                         1     [Inter_Route_Other]   \n",
       "1                         1     [Inter_Route_Other]   \n",
       "\n",
       "   Intervention_Route_Counts Placebo_Bin Standard_Care_Bin Healthy_Bin  ...  \\\n",
       "0                          1          No                No         Yes  ...   \n",
       "1                          1         Yes                No         Yes  ...   \n",
       "\n",
       "  Masking_List Masking_Detail_List Primary_Purpose_List  Arm_Counts  \\\n",
       "0    MASK_NONE     [MASK_DET_NONE]            TREATMENT           2   \n",
       "1    MASK_NONE     [MASK_DET_NONE]           DIAGNOSTIC           3   \n",
       "\n",
       "   Arm_Counts_Log Country_Counts Country_Counts_Log  Continents_List  \\\n",
       "0        1.098612              1           0.693147           [Asia]   \n",
       "1        1.386294              1           0.693147           [Asia]   \n",
       "\n",
       "   Continent_Counts Continent_Counts_Log City_Counts City_Counts_Log  \\\n",
       "0                 1             0.693147           1        0.693147   \n",
       "1                 1             0.693147           1        0.693147   \n",
       "\n",
       "  Enrollment_Counts_Log PHASE1  PHASE2  PHASE3  PHASE4  \n",
       "0              3.218876      1       0       0       0  \n",
       "1              3.688879      1       0       0       0  \n",
       "\n",
       "[2 rows x 45 columns]"
      ]
     },
     "execution_count": 78,
     "metadata": {},
     "output_type": "execute_result"
    }
   ],
   "source": [
    "df_dum = df.copy()\n",
    "mlb = MultiLabelBinarizer() # encode list elements\n",
    "dummies = pd.DataFrame(mlb.fit_transform(df['Phases_List']), columns = mlb.classes_, index = df_dum.index)\n",
    "df_dum = pd.concat([df_dum, dummies] , axis = 1)\n",
    "df_dum.head(2)"
   ]
  },
  {
   "cell_type": "code",
   "execution_count": 79,
   "metadata": {},
   "outputs": [
    {
     "data": {
      "text/plain": [
       "(27324, 40)"
      ]
     },
     "metadata": {},
     "output_type": "display_data"
    },
    {
     "data": {
      "text/plain": [
       "(29260, 40)"
      ]
     },
     "metadata": {},
     "output_type": "display_data"
    },
    {
     "data": {
      "text/plain": [
       "(16503, 40)"
      ]
     },
     "metadata": {},
     "output_type": "display_data"
    },
    {
     "data": {
      "text/plain": [
       "(13246, 40)"
      ]
     },
     "metadata": {},
     "output_type": "display_data"
    }
   ],
   "source": [
    "df1 = df_dum[df_dum[\"PHASE1\"] == 1].reset_index(drop = True).drop(columns = ['PHASE1','PHASE2', 'PHASE3', 'PHASE4'])\n",
    "df2 = df_dum[df_dum[\"PHASE2\"] == 1].reset_index(drop = True).drop(columns = ['PHASE1','PHASE2', 'PHASE3', 'PHASE4'])\n",
    "df3 = df_dum[df_dum[\"PHASE3\"] == 1].reset_index(drop = True).drop(columns = ['PHASE1','PHASE2', 'PHASE3', 'PHASE4'])\n",
    "df4 = df_dum[df_dum[\"PHASE4\"] == 1].reset_index(drop = True).drop(columns = ['PHASE1','PHASE2', 'PHASE3', 'PHASE4'])\n",
    "\n",
    "df1 = df1.drop(columns = ['Phases_List'], axis = 1)\n",
    "df2 = df2.drop(columns = ['Phases_List'], axis = 1)\n",
    "df3 = df3.drop(columns = ['Phases_List'], axis = 1)\n",
    "df4 = df4.drop(columns = ['Phases_List'], axis = 1)\n",
    "\n",
    "display(df1.shape)\n",
    "display(df2.shape)\n",
    "display(df3.shape)\n",
    "display(df4.shape)\n"
   ]
  },
  {
   "cell_type": "markdown",
   "metadata": {},
   "source": [
    "# Categ_Columns"
   ]
  },
  {
   "cell_type": "markdown",
   "metadata": {},
   "source": [
    "## Functions"
   ]
  },
  {
   "cell_type": "code",
   "execution_count": 80,
   "metadata": {},
   "outputs": [],
   "source": [
    "# dfis\n",
    "dfis = [df1, df2, df3, df4]"
   ]
  },
  {
   "cell_type": "code",
   "execution_count": 81,
   "metadata": {},
   "outputs": [],
   "source": [
    "# def_describe\n",
    "def def_describe(col):\n",
    "    describes = pd.concat([\n",
    "        df1[col].describe(include = 'all'),\n",
    "        df2[col].describe(include = 'all'),\n",
    "        df3[col].describe(include = 'all'),\n",
    "        df4[col].describe(include = 'all'),\n",
    "    ], axis=1)\n",
    "\n",
    "    describes.columns = ['df1', 'df2', 'df3', 'df4']\n",
    "    describes.index.name = col\n",
    "    return describes\n"
   ]
  },
  {
   "cell_type": "code",
   "execution_count": 82,
   "metadata": {},
   "outputs": [],
   "source": [
    "# fun_bins\n",
    "def fun_bins(dfis, col, bin2_val, use_quantile=False):\n",
    "    bins = []\n",
    "    labels = []\n",
    "\n",
    "    for dfi in dfis:\n",
    "        bin1 = dfi[col].min()\n",
    "        bin2 = dfi[col].quantile(bin2_val) if use_quantile else bin2_val\n",
    "        bin3 = dfi[col].max()\n",
    "\n",
    "        bins.append([bin1, bin2, bin3])\n",
    "        labels.append([f\"{int(bin1)}–{int(bin2)}\", f\"{int(bin2)+1}–{int(bin3)}\"])\n",
    "\n",
    "    return bins, labels"
   ]
  },
  {
   "cell_type": "code",
   "execution_count": 83,
   "metadata": {},
   "outputs": [],
   "source": [
    "def fun_bins2(dfis, col, bin1_val, bin2_val):\n",
    "   \n",
    "    bins = []\n",
    "    labels = []\n",
    "\n",
    "    for dfi in dfis:\n",
    "        bin1 = bin1_val  # when min() = median() e.g., 1 --> bin1 = 0, bin2 = 1\n",
    "        bin2 = bin2_val\n",
    "        bin3 = dfi[col].max()\n",
    "\n",
    "        bins.append([bin1, bin2, bin3])\n",
    "        labels.append([f\"{int(bin2_val)}\", f\"{int(bin2_val)+1}–{int(bin3)}\"]) # there is usually no 0 in bvalues\n",
    "\n",
    "    return bins, labels"
   ]
  },
  {
   "cell_type": "markdown",
   "metadata": {},
   "source": [
    "## Enrollment_Categ"
   ]
  },
  {
   "cell_type": "code",
   "execution_count": 84,
   "metadata": {},
   "outputs": [
    {
     "data": {
      "application/vnd.microsoft.datawrangler.viewer.v0+json": {
       "columns": [
        {
         "name": "Enrollment_Counts",
         "rawType": "object",
         "type": "string"
        },
        {
         "name": "df1",
         "rawType": "float64",
         "type": "float"
        },
        {
         "name": "df2",
         "rawType": "float64",
         "type": "float"
        },
        {
         "name": "df3",
         "rawType": "float64",
         "type": "float"
        },
        {
         "name": "df4",
         "rawType": "float64",
         "type": "float"
        }
       ],
       "ref": "f273ecda-58d4-4dd1-8897-89e676452235",
       "rows": [
        [
         "count",
         "27324.0",
         "29260.0",
         "16503.0",
         "13246.0"
        ],
        [
         "mean",
         "46.986495388669304",
         "110.91271360218728",
         "542.9265588074895",
         "470.6277366752227"
        ],
        [
         "std",
         "107.27128221488118",
         "1085.208354432697",
         "3266.42853261527",
         "9615.979739575905"
        ],
        [
         "min",
         "0.0",
         "0.0",
         "0.0",
         "0.0"
        ],
        [
         "25%",
         "14.0",
         "15.0",
         "51.0",
         "25.0"
        ],
        [
         "50%",
         "28.0",
         "41.0",
         "158.0",
         "60.5"
        ],
        [
         "75%",
         "51.0",
         "100.0",
         "417.0",
         "140.0"
        ],
        [
         "max",
         "8231.0",
         "144539.0",
         "204438.0",
         "864493.0"
        ]
       ],
       "shape": {
        "columns": 4,
        "rows": 8
       }
      },
      "text/html": [
       "<div>\n",
       "<style scoped>\n",
       "    .dataframe tbody tr th:only-of-type {\n",
       "        vertical-align: middle;\n",
       "    }\n",
       "\n",
       "    .dataframe tbody tr th {\n",
       "        vertical-align: top;\n",
       "    }\n",
       "\n",
       "    .dataframe thead th {\n",
       "        text-align: right;\n",
       "    }\n",
       "</style>\n",
       "<table border=\"1\" class=\"dataframe\">\n",
       "  <thead>\n",
       "    <tr style=\"text-align: right;\">\n",
       "      <th></th>\n",
       "      <th>df1</th>\n",
       "      <th>df2</th>\n",
       "      <th>df3</th>\n",
       "      <th>df4</th>\n",
       "    </tr>\n",
       "    <tr>\n",
       "      <th>Enrollment_Counts</th>\n",
       "      <th></th>\n",
       "      <th></th>\n",
       "      <th></th>\n",
       "      <th></th>\n",
       "    </tr>\n",
       "  </thead>\n",
       "  <tbody>\n",
       "    <tr>\n",
       "      <th>count</th>\n",
       "      <td>27324.000000</td>\n",
       "      <td>29260.000000</td>\n",
       "      <td>16503.000000</td>\n",
       "      <td>13246.000000</td>\n",
       "    </tr>\n",
       "    <tr>\n",
       "      <th>mean</th>\n",
       "      <td>46.986495</td>\n",
       "      <td>110.912714</td>\n",
       "      <td>542.926559</td>\n",
       "      <td>470.627737</td>\n",
       "    </tr>\n",
       "    <tr>\n",
       "      <th>std</th>\n",
       "      <td>107.271282</td>\n",
       "      <td>1085.208354</td>\n",
       "      <td>3266.428533</td>\n",
       "      <td>9615.979740</td>\n",
       "    </tr>\n",
       "    <tr>\n",
       "      <th>min</th>\n",
       "      <td>0.000000</td>\n",
       "      <td>0.000000</td>\n",
       "      <td>0.000000</td>\n",
       "      <td>0.000000</td>\n",
       "    </tr>\n",
       "    <tr>\n",
       "      <th>25%</th>\n",
       "      <td>14.000000</td>\n",
       "      <td>15.000000</td>\n",
       "      <td>51.000000</td>\n",
       "      <td>25.000000</td>\n",
       "    </tr>\n",
       "    <tr>\n",
       "      <th>50%</th>\n",
       "      <td>28.000000</td>\n",
       "      <td>41.000000</td>\n",
       "      <td>158.000000</td>\n",
       "      <td>60.500000</td>\n",
       "    </tr>\n",
       "    <tr>\n",
       "      <th>75%</th>\n",
       "      <td>51.000000</td>\n",
       "      <td>100.000000</td>\n",
       "      <td>417.000000</td>\n",
       "      <td>140.000000</td>\n",
       "    </tr>\n",
       "    <tr>\n",
       "      <th>max</th>\n",
       "      <td>8231.000000</td>\n",
       "      <td>144539.000000</td>\n",
       "      <td>204438.000000</td>\n",
       "      <td>864493.000000</td>\n",
       "    </tr>\n",
       "  </tbody>\n",
       "</table>\n",
       "</div>"
      ],
      "text/plain": [
       "                            df1            df2            df3            df4\n",
       "Enrollment_Counts                                                           \n",
       "count              27324.000000   29260.000000   16503.000000   13246.000000\n",
       "mean                  46.986495     110.912714     542.926559     470.627737\n",
       "std                  107.271282    1085.208354    3266.428533    9615.979740\n",
       "min                    0.000000       0.000000       0.000000       0.000000\n",
       "25%                   14.000000      15.000000      51.000000      25.000000\n",
       "50%                   28.000000      41.000000     158.000000      60.500000\n",
       "75%                   51.000000     100.000000     417.000000     140.000000\n",
       "max                 8231.000000  144539.000000  204438.000000  864493.000000"
      ]
     },
     "metadata": {},
     "output_type": "display_data"
    },
    {
     "data": {
      "application/vnd.microsoft.datawrangler.viewer.v0+json": {
       "columns": [
        {
         "name": "Enrollment_Categ",
         "rawType": "category",
         "type": "unknown"
        },
        {
         "name": "count",
         "rawType": "int64",
         "type": "integer"
        }
       ],
       "ref": "d21c0ede-47c0-4284-a98a-d7039ebb5464",
       "rows": [
        [
         "0–28",
         "13978"
        ],
        [
         "29–8231",
         "13346"
        ]
       ],
       "shape": {
        "columns": 1,
        "rows": 2
       }
      },
      "text/plain": [
       "Enrollment_Categ\n",
       "0–28       13978\n",
       "29–8231    13346\n",
       "Name: count, dtype: int64"
      ]
     },
     "execution_count": 84,
     "metadata": {},
     "output_type": "execute_result"
    }
   ],
   "source": [
    "Describe_Enrollment = def_describe('Enrollment_Counts')\n",
    "display(Describe_Enrollment)\n",
    "\n",
    "col = 'Enrollment_Counts'\n",
    "col_categ = 'Enrollment_Categ'\n",
    "bins, labels = fun_bins(dfis, col, bin2_val = 0.5, use_quantile = True)\n",
    "\n",
    "df1[col_categ] = pd.cut(df1[col], bins = bins[0], labels = labels[0], ordered = True, include_lowest = True, right = True)\n",
    "df2[col_categ] = pd.cut(df2[col], bins = bins[1], labels = labels[1], ordered = True, include_lowest = True, right = True)\n",
    "df3[col_categ] = pd.cut(df3[col], bins = bins[2], labels = labels[2], ordered = True, include_lowest = True, right = True)\n",
    "df4[col_categ] = pd.cut(df4[col], bins = bins[3], labels = labels[3], ordered = True, include_lowest = True, right = True)\n",
    "\n",
    "df1[\"Enrollment_Categ\"].value_counts(dropna = False)\n"
   ]
  },
  {
   "cell_type": "markdown",
   "metadata": {},
   "source": [
    "## Adverse_Categ\n",
    "- Most distributions are around 0, thus if categorised it is equivalent to Adverse Bin. \n"
   ]
  },
  {
   "cell_type": "code",
   "execution_count": 85,
   "metadata": {},
   "outputs": [
    {
     "data": {
      "application/vnd.microsoft.datawrangler.viewer.v0+json": {
       "columns": [
        {
         "name": "Adverse_Counts",
         "rawType": "object",
         "type": "string"
        },
        {
         "name": "df1",
         "rawType": "float64",
         "type": "float"
        },
        {
         "name": "df2",
         "rawType": "float64",
         "type": "float"
        },
        {
         "name": "df3",
         "rawType": "float64",
         "type": "float"
        },
        {
         "name": "df4",
         "rawType": "float64",
         "type": "float"
        }
       ],
       "ref": "155613cb-c514-4fe6-af97-723793e4b7f5",
       "rows": [
        [
         "count",
         "27324.0",
         "29260.0",
         "16503.0",
         "13246.0"
        ],
        [
         "mean",
         "9.932806324110672",
         "34.175768967874234",
         "168.6603041871175",
         "28.577004378680357"
        ],
        [
         "std",
         "62.074198450346316",
         "130.25346117656113",
         "770.0363623711085",
         "652.9446939405176"
        ],
        [
         "min",
         "0.0",
         "0.0",
         "0.0",
         "0.0"
        ],
        [
         "25%",
         "0.0",
         "0.0",
         "0.0",
         "0.0"
        ],
        [
         "50%",
         "0.0",
         "0.0",
         "0.0",
         "0.0"
        ],
        [
         "75%",
         "0.0",
         "22.0",
         "93.0",
         "0.0"
        ],
        [
         "max",
         "3385.0",
         "5862.0",
         "47910.0",
         "70245.0"
        ]
       ],
       "shape": {
        "columns": 4,
        "rows": 8
       }
      },
      "text/html": [
       "<div>\n",
       "<style scoped>\n",
       "    .dataframe tbody tr th:only-of-type {\n",
       "        vertical-align: middle;\n",
       "    }\n",
       "\n",
       "    .dataframe tbody tr th {\n",
       "        vertical-align: top;\n",
       "    }\n",
       "\n",
       "    .dataframe thead th {\n",
       "        text-align: right;\n",
       "    }\n",
       "</style>\n",
       "<table border=\"1\" class=\"dataframe\">\n",
       "  <thead>\n",
       "    <tr style=\"text-align: right;\">\n",
       "      <th></th>\n",
       "      <th>df1</th>\n",
       "      <th>df2</th>\n",
       "      <th>df3</th>\n",
       "      <th>df4</th>\n",
       "    </tr>\n",
       "    <tr>\n",
       "      <th>Adverse_Counts</th>\n",
       "      <th></th>\n",
       "      <th></th>\n",
       "      <th></th>\n",
       "      <th></th>\n",
       "    </tr>\n",
       "  </thead>\n",
       "  <tbody>\n",
       "    <tr>\n",
       "      <th>count</th>\n",
       "      <td>27324.000000</td>\n",
       "      <td>29260.000000</td>\n",
       "      <td>16503.000000</td>\n",
       "      <td>13246.000000</td>\n",
       "    </tr>\n",
       "    <tr>\n",
       "      <th>mean</th>\n",
       "      <td>9.932806</td>\n",
       "      <td>34.175769</td>\n",
       "      <td>168.660304</td>\n",
       "      <td>28.577004</td>\n",
       "    </tr>\n",
       "    <tr>\n",
       "      <th>std</th>\n",
       "      <td>62.074198</td>\n",
       "      <td>130.253461</td>\n",
       "      <td>770.036362</td>\n",
       "      <td>652.944694</td>\n",
       "    </tr>\n",
       "    <tr>\n",
       "      <th>min</th>\n",
       "      <td>0.000000</td>\n",
       "      <td>0.000000</td>\n",
       "      <td>0.000000</td>\n",
       "      <td>0.000000</td>\n",
       "    </tr>\n",
       "    <tr>\n",
       "      <th>25%</th>\n",
       "      <td>0.000000</td>\n",
       "      <td>0.000000</td>\n",
       "      <td>0.000000</td>\n",
       "      <td>0.000000</td>\n",
       "    </tr>\n",
       "    <tr>\n",
       "      <th>50%</th>\n",
       "      <td>0.000000</td>\n",
       "      <td>0.000000</td>\n",
       "      <td>0.000000</td>\n",
       "      <td>0.000000</td>\n",
       "    </tr>\n",
       "    <tr>\n",
       "      <th>75%</th>\n",
       "      <td>0.000000</td>\n",
       "      <td>22.000000</td>\n",
       "      <td>93.000000</td>\n",
       "      <td>0.000000</td>\n",
       "    </tr>\n",
       "    <tr>\n",
       "      <th>max</th>\n",
       "      <td>3385.000000</td>\n",
       "      <td>5862.000000</td>\n",
       "      <td>47910.000000</td>\n",
       "      <td>70245.000000</td>\n",
       "    </tr>\n",
       "  </tbody>\n",
       "</table>\n",
       "</div>"
      ],
      "text/plain": [
       "                         df1           df2           df3           df4\n",
       "Adverse_Counts                                                        \n",
       "count           27324.000000  29260.000000  16503.000000  13246.000000\n",
       "mean                9.932806     34.175769    168.660304     28.577004\n",
       "std                62.074198    130.253461    770.036362    652.944694\n",
       "min                 0.000000      0.000000      0.000000      0.000000\n",
       "25%                 0.000000      0.000000      0.000000      0.000000\n",
       "50%                 0.000000      0.000000      0.000000      0.000000\n",
       "75%                 0.000000     22.000000     93.000000      0.000000\n",
       "max              3385.000000   5862.000000  47910.000000  70245.000000"
      ]
     },
     "execution_count": 85,
     "metadata": {},
     "output_type": "execute_result"
    }
   ],
   "source": [
    "Describe_Adverse = def_describe('Adverse_Counts')\n",
    "Describe_Adverse\n",
    "\n",
    "# Distribution of Adverse_Counts is up to 75% at 0. Only Adverse_Bin is going to be used."
   ]
  },
  {
   "cell_type": "markdown",
   "metadata": {},
   "source": [
    "## Adverse_System_Categ\n",
    "Is about counts of Adverse_System = equal to adverse_categ as they are both combined to count format.\n",
    "Does not have meaning (<=1 , >1) as its similar to Adverse_Bin --> has does not have --> wont be  used\n",
    "\n"
   ]
  },
  {
   "cell_type": "code",
   "execution_count": 86,
   "metadata": {},
   "outputs": [
    {
     "data": {
      "application/vnd.microsoft.datawrangler.viewer.v0+json": {
       "columns": [
        {
         "name": "Adverse_System_Counts",
         "rawType": "object",
         "type": "string"
        },
        {
         "name": "df1",
         "rawType": "float64",
         "type": "float"
        },
        {
         "name": "df2",
         "rawType": "float64",
         "type": "float"
        },
        {
         "name": "df3",
         "rawType": "float64",
         "type": "float"
        },
        {
         "name": "df4",
         "rawType": "float64",
         "type": "float"
        }
       ],
       "ref": "24b79d56-6f2d-4d3b-aba5-777c8fdea8ee",
       "rows": [
        [
         "count",
         "27324.0",
         "29260.0",
         "16503.0",
         "13246.0"
        ],
        [
         "mean",
         "2.1765846874542527",
         "4.615105946684894",
         "5.187178088832334",
         "1.4987165936886608"
        ],
        [
         "std",
         "5.137080662583411",
         "6.7681482594079565",
         "7.125979986627921",
         "3.7488891338865096"
        ],
        [
         "min",
         "0.0",
         "0.0",
         "0.0",
         "0.0"
        ],
        [
         "25%",
         "0.0",
         "0.0",
         "0.0",
         "0.0"
        ],
        [
         "50%",
         "0.0",
         "0.0",
         "0.0",
         "0.0"
        ],
        [
         "75%",
         "0.0",
         "9.0",
         "10.0",
         "1.0"
        ],
        [
         "max",
         "22.0",
         "22.0",
         "22.0",
         "22.0"
        ]
       ],
       "shape": {
        "columns": 4,
        "rows": 8
       }
      },
      "text/html": [
       "<div>\n",
       "<style scoped>\n",
       "    .dataframe tbody tr th:only-of-type {\n",
       "        vertical-align: middle;\n",
       "    }\n",
       "\n",
       "    .dataframe tbody tr th {\n",
       "        vertical-align: top;\n",
       "    }\n",
       "\n",
       "    .dataframe thead th {\n",
       "        text-align: right;\n",
       "    }\n",
       "</style>\n",
       "<table border=\"1\" class=\"dataframe\">\n",
       "  <thead>\n",
       "    <tr style=\"text-align: right;\">\n",
       "      <th></th>\n",
       "      <th>df1</th>\n",
       "      <th>df2</th>\n",
       "      <th>df3</th>\n",
       "      <th>df4</th>\n",
       "    </tr>\n",
       "    <tr>\n",
       "      <th>Adverse_System_Counts</th>\n",
       "      <th></th>\n",
       "      <th></th>\n",
       "      <th></th>\n",
       "      <th></th>\n",
       "    </tr>\n",
       "  </thead>\n",
       "  <tbody>\n",
       "    <tr>\n",
       "      <th>count</th>\n",
       "      <td>27324.000000</td>\n",
       "      <td>29260.000000</td>\n",
       "      <td>16503.000000</td>\n",
       "      <td>13246.000000</td>\n",
       "    </tr>\n",
       "    <tr>\n",
       "      <th>mean</th>\n",
       "      <td>2.176585</td>\n",
       "      <td>4.615106</td>\n",
       "      <td>5.187178</td>\n",
       "      <td>1.498717</td>\n",
       "    </tr>\n",
       "    <tr>\n",
       "      <th>std</th>\n",
       "      <td>5.137081</td>\n",
       "      <td>6.768148</td>\n",
       "      <td>7.125980</td>\n",
       "      <td>3.748889</td>\n",
       "    </tr>\n",
       "    <tr>\n",
       "      <th>min</th>\n",
       "      <td>0.000000</td>\n",
       "      <td>0.000000</td>\n",
       "      <td>0.000000</td>\n",
       "      <td>0.000000</td>\n",
       "    </tr>\n",
       "    <tr>\n",
       "      <th>25%</th>\n",
       "      <td>0.000000</td>\n",
       "      <td>0.000000</td>\n",
       "      <td>0.000000</td>\n",
       "      <td>0.000000</td>\n",
       "    </tr>\n",
       "    <tr>\n",
       "      <th>50%</th>\n",
       "      <td>0.000000</td>\n",
       "      <td>0.000000</td>\n",
       "      <td>0.000000</td>\n",
       "      <td>0.000000</td>\n",
       "    </tr>\n",
       "    <tr>\n",
       "      <th>75%</th>\n",
       "      <td>0.000000</td>\n",
       "      <td>9.000000</td>\n",
       "      <td>10.000000</td>\n",
       "      <td>1.000000</td>\n",
       "    </tr>\n",
       "    <tr>\n",
       "      <th>max</th>\n",
       "      <td>22.000000</td>\n",
       "      <td>22.000000</td>\n",
       "      <td>22.000000</td>\n",
       "      <td>22.000000</td>\n",
       "    </tr>\n",
       "  </tbody>\n",
       "</table>\n",
       "</div>"
      ],
      "text/plain": [
       "                                df1           df2           df3           df4\n",
       "Adverse_System_Counts                                                        \n",
       "count                  27324.000000  29260.000000  16503.000000  13246.000000\n",
       "mean                       2.176585      4.615106      5.187178      1.498717\n",
       "std                        5.137081      6.768148      7.125980      3.748889\n",
       "min                        0.000000      0.000000      0.000000      0.000000\n",
       "25%                        0.000000      0.000000      0.000000      0.000000\n",
       "50%                        0.000000      0.000000      0.000000      0.000000\n",
       "75%                        0.000000      9.000000     10.000000      1.000000\n",
       "max                       22.000000     22.000000     22.000000     22.000000"
      ]
     },
     "metadata": {},
     "output_type": "display_data"
    },
    {
     "data": {
      "application/vnd.microsoft.datawrangler.viewer.v0+json": {
       "columns": [
        {
         "name": "Adverse_System_Categ",
         "rawType": "category",
         "type": "unknown"
        },
        {
         "name": "count",
         "rawType": "int64",
         "type": "integer"
        }
       ],
       "ref": "189cc80c-9446-4d3e-a2db-a3a973f4eca2",
       "rows": [
        [
         "0–1",
         "22017"
        ],
        [
         "2–22",
         "5307"
        ]
       ],
       "shape": {
        "columns": 1,
        "rows": 2
       }
      },
      "text/plain": [
       "Adverse_System_Categ\n",
       "0–1     22017\n",
       "2–22     5307\n",
       "Name: count, dtype: int64"
      ]
     },
     "metadata": {},
     "output_type": "display_data"
    }
   ],
   "source": [
    "Describe_Adverse_System = def_describe('Adverse_System_Counts')\n",
    "display(Describe_Adverse_System)\n",
    "\n",
    "col = 'Adverse_System_Counts'\n",
    "col_categ = 'Adverse_System_Categ'\n",
    "bins, labels = fun_bins(dfis, col, bin2_val = 1, use_quantile = False)  \n",
    "\n",
    "df1[col_categ] = pd.cut(df1[col], bins = bins[0], labels = labels[0], ordered = True, include_lowest = True, right = True)\n",
    "df2[col_categ] = pd.cut(df2[col], bins = bins[1], labels = labels[1], ordered = True, include_lowest = True, right = True)\n",
    "df3[col_categ] = pd.cut(df3[col], bins = bins[2], labels = labels[2], ordered = True, include_lowest = True, right = True)\n",
    "df4[col_categ] = pd.cut(df4[col], bins = bins[3], labels = labels[3], ordered = True, include_lowest = True, right = True)\n",
    "\n",
    "display(df1['Adverse_System_Categ'].value_counts(dropna = False))"
   ]
  },
  {
   "cell_type": "markdown",
   "metadata": {},
   "source": [
    "## Arm_Categ\n",
    "- See thsesis_Vizual --> Many data points in specific values. 1-2 many data points and less in >=3. + Skewed --> Visible change after 2 (=median in all dfs) --> Better categorical.\n"
   ]
  },
  {
   "cell_type": "code",
   "execution_count": 87,
   "metadata": {},
   "outputs": [
    {
     "data": {
      "application/vnd.microsoft.datawrangler.viewer.v0+json": {
       "columns": [
        {
         "name": "Arm_Counts",
         "rawType": "object",
         "type": "string"
        },
        {
         "name": "df1",
         "rawType": "float64",
         "type": "float"
        },
        {
         "name": "df2",
         "rawType": "float64",
         "type": "float"
        },
        {
         "name": "df3",
         "rawType": "float64",
         "type": "float"
        },
        {
         "name": "df4",
         "rawType": "float64",
         "type": "float"
        }
       ],
       "ref": "750109ce-f4bb-4f77-a3d0-c1064c84e4e3",
       "rows": [
        [
         "count",
         "27324.0",
         "29260.0",
         "16503.0",
         "13246.0"
        ],
        [
         "mean",
         "2.755489679402723",
         "2.335919343814081",
         "2.263891413682361",
         "2.0899894307715536"
        ],
        [
         "std",
         "2.3964819656148864",
         "1.7522987472290108",
         "1.1623656834870968",
         "0.9884471426220361"
        ],
        [
         "min",
         "1.0",
         "1.0",
         "1.0",
         "1.0"
        ],
        [
         "25%",
         "1.0",
         "1.0",
         "2.0",
         "2.0"
        ],
        [
         "50%",
         "2.0",
         "2.0",
         "2.0",
         "2.0"
        ],
        [
         "75%",
         "3.0",
         "3.0",
         "2.0",
         "2.0"
        ],
        [
         "max",
         "44.0",
         "43.0",
         "32.0",
         "32.0"
        ]
       ],
       "shape": {
        "columns": 4,
        "rows": 8
       }
      },
      "text/html": [
       "<div>\n",
       "<style scoped>\n",
       "    .dataframe tbody tr th:only-of-type {\n",
       "        vertical-align: middle;\n",
       "    }\n",
       "\n",
       "    .dataframe tbody tr th {\n",
       "        vertical-align: top;\n",
       "    }\n",
       "\n",
       "    .dataframe thead th {\n",
       "        text-align: right;\n",
       "    }\n",
       "</style>\n",
       "<table border=\"1\" class=\"dataframe\">\n",
       "  <thead>\n",
       "    <tr style=\"text-align: right;\">\n",
       "      <th></th>\n",
       "      <th>df1</th>\n",
       "      <th>df2</th>\n",
       "      <th>df3</th>\n",
       "      <th>df4</th>\n",
       "    </tr>\n",
       "    <tr>\n",
       "      <th>Arm_Counts</th>\n",
       "      <th></th>\n",
       "      <th></th>\n",
       "      <th></th>\n",
       "      <th></th>\n",
       "    </tr>\n",
       "  </thead>\n",
       "  <tbody>\n",
       "    <tr>\n",
       "      <th>count</th>\n",
       "      <td>27324.000000</td>\n",
       "      <td>29260.000000</td>\n",
       "      <td>16503.000000</td>\n",
       "      <td>13246.000000</td>\n",
       "    </tr>\n",
       "    <tr>\n",
       "      <th>mean</th>\n",
       "      <td>2.755490</td>\n",
       "      <td>2.335919</td>\n",
       "      <td>2.263891</td>\n",
       "      <td>2.089989</td>\n",
       "    </tr>\n",
       "    <tr>\n",
       "      <th>std</th>\n",
       "      <td>2.396482</td>\n",
       "      <td>1.752299</td>\n",
       "      <td>1.162366</td>\n",
       "      <td>0.988447</td>\n",
       "    </tr>\n",
       "    <tr>\n",
       "      <th>min</th>\n",
       "      <td>1.000000</td>\n",
       "      <td>1.000000</td>\n",
       "      <td>1.000000</td>\n",
       "      <td>1.000000</td>\n",
       "    </tr>\n",
       "    <tr>\n",
       "      <th>25%</th>\n",
       "      <td>1.000000</td>\n",
       "      <td>1.000000</td>\n",
       "      <td>2.000000</td>\n",
       "      <td>2.000000</td>\n",
       "    </tr>\n",
       "    <tr>\n",
       "      <th>50%</th>\n",
       "      <td>2.000000</td>\n",
       "      <td>2.000000</td>\n",
       "      <td>2.000000</td>\n",
       "      <td>2.000000</td>\n",
       "    </tr>\n",
       "    <tr>\n",
       "      <th>75%</th>\n",
       "      <td>3.000000</td>\n",
       "      <td>3.000000</td>\n",
       "      <td>2.000000</td>\n",
       "      <td>2.000000</td>\n",
       "    </tr>\n",
       "    <tr>\n",
       "      <th>max</th>\n",
       "      <td>44.000000</td>\n",
       "      <td>43.000000</td>\n",
       "      <td>32.000000</td>\n",
       "      <td>32.000000</td>\n",
       "    </tr>\n",
       "  </tbody>\n",
       "</table>\n",
       "</div>"
      ],
      "text/plain": [
       "                     df1           df2           df3           df4\n",
       "Arm_Counts                                                        \n",
       "count       27324.000000  29260.000000  16503.000000  13246.000000\n",
       "mean            2.755490      2.335919      2.263891      2.089989\n",
       "std             2.396482      1.752299      1.162366      0.988447\n",
       "min             1.000000      1.000000      1.000000      1.000000\n",
       "25%             1.000000      1.000000      2.000000      2.000000\n",
       "50%             2.000000      2.000000      2.000000      2.000000\n",
       "75%             3.000000      3.000000      2.000000      2.000000\n",
       "max            44.000000     43.000000     32.000000     32.000000"
      ]
     },
     "metadata": {},
     "output_type": "display_data"
    },
    {
     "data": {
      "application/vnd.microsoft.datawrangler.viewer.v0+json": {
       "columns": [
        {
         "name": "Arm_Categ",
         "rawType": "category",
         "type": "unknown"
        },
        {
         "name": "count",
         "rawType": "int64",
         "type": "integer"
        }
       ],
       "ref": "e83510a4-61f5-4c8d-b24e-6654baee62e1",
       "rows": [
        [
         "1–2",
         "17491"
        ],
        [
         "3–44",
         "9833"
        ]
       ],
       "shape": {
        "columns": 1,
        "rows": 2
       }
      },
      "text/plain": [
       "Arm_Categ\n",
       "1–2     17491\n",
       "3–44     9833\n",
       "Name: count, dtype: int64"
      ]
     },
     "metadata": {},
     "output_type": "display_data"
    }
   ],
   "source": [
    "Describe_Arm = def_describe('Arm_Counts')\n",
    "display(Describe_Arm)\n",
    "\n",
    "col = 'Arm_Counts'\n",
    "col_categ = 'Arm_Categ'\n",
    "bins, labels = fun_bins(dfis, col, bin2_val = 2, use_quantile = False)  \n",
    "# 0.5 bind do not increase monotonically. Use fixed bin2_val = 2\n",
    "\n",
    "df1[col_categ] = pd.cut(df1[col], bins = bins[0], labels = labels[0], ordered = True, include_lowest = True, right = True)\n",
    "df2[col_categ] = pd.cut(df2[col], bins = bins[1], labels = labels[1], ordered = True, include_lowest = True, right = True)\n",
    "df3[col_categ] = pd.cut(df3[col], bins = bins[2], labels = labels[2], ordered = True, include_lowest = True, right = True)\n",
    "df4[col_categ] = pd.cut(df4[col], bins = bins[3], labels = labels[3], ordered = True, include_lowest = True, right = True)\n",
    "\n",
    "display(df1['Arm_Categ'].value_counts(dropna = False))"
   ]
  },
  {
   "cell_type": "markdown",
   "metadata": {},
   "source": [
    "## Intervention_Type_Categ"
   ]
  },
  {
   "cell_type": "code",
   "execution_count": 88,
   "metadata": {},
   "outputs": [
    {
     "data": {
      "application/vnd.microsoft.datawrangler.viewer.v0+json": {
       "columns": [
        {
         "name": "Intervention_Type_Counts",
         "rawType": "object",
         "type": "string"
        },
        {
         "name": "df1",
         "rawType": "float64",
         "type": "float"
        },
        {
         "name": "df2",
         "rawType": "float64",
         "type": "float"
        },
        {
         "name": "df3",
         "rawType": "float64",
         "type": "float"
        },
        {
         "name": "df4",
         "rawType": "float64",
         "type": "float"
        }
       ],
       "ref": "80b4708f-451c-4233-a230-eeda16ba6297",
       "rows": [
        [
         "count",
         "27324.0",
         "29260.0",
         "16503.0",
         "13246.0"
        ],
        [
         "mean",
         "1.0758673693456302",
         "1.106971975393028",
         "1.0773798703266073",
         "1.0894609693492374"
        ],
        [
         "std",
         "0.2907475937677261",
         "0.3450309684947204",
         "0.2824166690980216",
         "0.30436471924231445"
        ],
        [
         "min",
         "1.0",
         "1.0",
         "1.0",
         "1.0"
        ],
        [
         "25%",
         "1.0",
         "1.0",
         "1.0",
         "1.0"
        ],
        [
         "50%",
         "1.0",
         "1.0",
         "1.0",
         "1.0"
        ],
        [
         "75%",
         "1.0",
         "1.0",
         "1.0",
         "1.0"
        ],
        [
         "max",
         "4.0",
         "5.0",
         "4.0",
         "4.0"
        ]
       ],
       "shape": {
        "columns": 4,
        "rows": 8
       }
      },
      "text/html": [
       "<div>\n",
       "<style scoped>\n",
       "    .dataframe tbody tr th:only-of-type {\n",
       "        vertical-align: middle;\n",
       "    }\n",
       "\n",
       "    .dataframe tbody tr th {\n",
       "        vertical-align: top;\n",
       "    }\n",
       "\n",
       "    .dataframe thead th {\n",
       "        text-align: right;\n",
       "    }\n",
       "</style>\n",
       "<table border=\"1\" class=\"dataframe\">\n",
       "  <thead>\n",
       "    <tr style=\"text-align: right;\">\n",
       "      <th></th>\n",
       "      <th>df1</th>\n",
       "      <th>df2</th>\n",
       "      <th>df3</th>\n",
       "      <th>df4</th>\n",
       "    </tr>\n",
       "    <tr>\n",
       "      <th>Intervention_Type_Counts</th>\n",
       "      <th></th>\n",
       "      <th></th>\n",
       "      <th></th>\n",
       "      <th></th>\n",
       "    </tr>\n",
       "  </thead>\n",
       "  <tbody>\n",
       "    <tr>\n",
       "      <th>count</th>\n",
       "      <td>27324.000000</td>\n",
       "      <td>29260.000000</td>\n",
       "      <td>16503.000000</td>\n",
       "      <td>13246.000000</td>\n",
       "    </tr>\n",
       "    <tr>\n",
       "      <th>mean</th>\n",
       "      <td>1.075867</td>\n",
       "      <td>1.106972</td>\n",
       "      <td>1.077380</td>\n",
       "      <td>1.089461</td>\n",
       "    </tr>\n",
       "    <tr>\n",
       "      <th>std</th>\n",
       "      <td>0.290748</td>\n",
       "      <td>0.345031</td>\n",
       "      <td>0.282417</td>\n",
       "      <td>0.304365</td>\n",
       "    </tr>\n",
       "    <tr>\n",
       "      <th>min</th>\n",
       "      <td>1.000000</td>\n",
       "      <td>1.000000</td>\n",
       "      <td>1.000000</td>\n",
       "      <td>1.000000</td>\n",
       "    </tr>\n",
       "    <tr>\n",
       "      <th>25%</th>\n",
       "      <td>1.000000</td>\n",
       "      <td>1.000000</td>\n",
       "      <td>1.000000</td>\n",
       "      <td>1.000000</td>\n",
       "    </tr>\n",
       "    <tr>\n",
       "      <th>50%</th>\n",
       "      <td>1.000000</td>\n",
       "      <td>1.000000</td>\n",
       "      <td>1.000000</td>\n",
       "      <td>1.000000</td>\n",
       "    </tr>\n",
       "    <tr>\n",
       "      <th>75%</th>\n",
       "      <td>1.000000</td>\n",
       "      <td>1.000000</td>\n",
       "      <td>1.000000</td>\n",
       "      <td>1.000000</td>\n",
       "    </tr>\n",
       "    <tr>\n",
       "      <th>max</th>\n",
       "      <td>4.000000</td>\n",
       "      <td>5.000000</td>\n",
       "      <td>4.000000</td>\n",
       "      <td>4.000000</td>\n",
       "    </tr>\n",
       "  </tbody>\n",
       "</table>\n",
       "</div>"
      ],
      "text/plain": [
       "                                   df1           df2           df3  \\\n",
       "Intervention_Type_Counts                                             \n",
       "count                     27324.000000  29260.000000  16503.000000   \n",
       "mean                          1.075867      1.106972      1.077380   \n",
       "std                           0.290748      0.345031      0.282417   \n",
       "min                           1.000000      1.000000      1.000000   \n",
       "25%                           1.000000      1.000000      1.000000   \n",
       "50%                           1.000000      1.000000      1.000000   \n",
       "75%                           1.000000      1.000000      1.000000   \n",
       "max                           4.000000      5.000000      4.000000   \n",
       "\n",
       "                                   df4  \n",
       "Intervention_Type_Counts                \n",
       "count                     13246.000000  \n",
       "mean                          1.089461  \n",
       "std                           0.304365  \n",
       "min                           1.000000  \n",
       "25%                           1.000000  \n",
       "50%                           1.000000  \n",
       "75%                           1.000000  \n",
       "max                           4.000000  "
      ]
     },
     "metadata": {},
     "output_type": "display_data"
    },
    {
     "data": {
      "application/vnd.microsoft.datawrangler.viewer.v0+json": {
       "columns": [
        {
         "name": "Intervention_Type_Categ",
         "rawType": "category",
         "type": "unknown"
        },
        {
         "name": "count",
         "rawType": "int64",
         "type": "integer"
        }
       ],
       "ref": "df36d397-7919-4e34-a31d-98310677e5c7",
       "rows": [
        [
         "1",
         "25437"
        ],
        [
         "2–4",
         "1887"
        ]
       ],
       "shape": {
        "columns": 1,
        "rows": 2
       }
      },
      "text/plain": [
       "Intervention_Type_Categ\n",
       "1      25437\n",
       "2–4     1887\n",
       "Name: count, dtype: int64"
      ]
     },
     "metadata": {},
     "output_type": "display_data"
    }
   ],
   "source": [
    "Describe_Intervention_Type = def_describe('Intervention_Type_Counts')\n",
    "display(Describe_Intervention_Type)\n",
    "\n",
    "col = 'Intervention_Type_Counts'\n",
    "col_categ = 'Intervention_Type_Categ'\n",
    "\n",
    "bins, labels = fun_bins2(dfis, col, bin1_val = 0.5 , bin2_val = 1)\n",
    "\n",
    "df1[col_categ] = pd.cut(df1[col], bins = bins[0], labels = labels[0], ordered = True, include_lowest = True, right = True)\n",
    "df2[col_categ] = pd.cut(df2[col], bins = bins[1], labels = labels[1], ordered = True, include_lowest = True, right = True)\n",
    "df3[col_categ] = pd.cut(df3[col], bins = bins[2], labels = labels[2], ordered = True, include_lowest = True, right = True)\n",
    "df4[col_categ] = pd.cut(df4[col], bins = bins[3], labels = labels[3], ordered = True, include_lowest = True, right = True)\n",
    "\n",
    "display(df1['Intervention_Type_Categ'].value_counts())"
   ]
  },
  {
   "cell_type": "markdown",
   "metadata": {},
   "source": [
    "## Intervention_Route_Categ"
   ]
  },
  {
   "cell_type": "code",
   "execution_count": 89,
   "metadata": {},
   "outputs": [
    {
     "data": {
      "application/vnd.microsoft.datawrangler.viewer.v0+json": {
       "columns": [
        {
         "name": "Intervention_Route_Counts",
         "rawType": "object",
         "type": "string"
        },
        {
         "name": "df1",
         "rawType": "float64",
         "type": "float"
        },
        {
         "name": "df2",
         "rawType": "float64",
         "type": "float"
        },
        {
         "name": "df3",
         "rawType": "float64",
         "type": "float"
        },
        {
         "name": "df4",
         "rawType": "float64",
         "type": "float"
        }
       ],
       "ref": "1488e859-e27e-4a93-9fbe-8eda29270a49",
       "rows": [
        [
         "count",
         "27324.0",
         "29260.0",
         "16503.0",
         "13246.0"
        ],
        [
         "mean",
         "1.1729980969111404",
         "1.2185235816814763",
         "1.1859055929224989",
         "1.2864260908953646"
        ],
        [
         "std",
         "0.4250870162830209",
         "0.4713595756696459",
         "0.434655125619975",
         "0.516346561986933"
        ],
        [
         "min",
         "1.0",
         "1.0",
         "1.0",
         "1.0"
        ],
        [
         "25%",
         "1.0",
         "1.0",
         "1.0",
         "1.0"
        ],
        [
         "50%",
         "1.0",
         "1.0",
         "1.0",
         "1.0"
        ],
        [
         "75%",
         "1.0",
         "1.0",
         "1.0",
         "2.0"
        ],
        [
         "max",
         "4.0",
         "4.0",
         "4.0",
         "4.0"
        ]
       ],
       "shape": {
        "columns": 4,
        "rows": 8
       }
      },
      "text/html": [
       "<div>\n",
       "<style scoped>\n",
       "    .dataframe tbody tr th:only-of-type {\n",
       "        vertical-align: middle;\n",
       "    }\n",
       "\n",
       "    .dataframe tbody tr th {\n",
       "        vertical-align: top;\n",
       "    }\n",
       "\n",
       "    .dataframe thead th {\n",
       "        text-align: right;\n",
       "    }\n",
       "</style>\n",
       "<table border=\"1\" class=\"dataframe\">\n",
       "  <thead>\n",
       "    <tr style=\"text-align: right;\">\n",
       "      <th></th>\n",
       "      <th>df1</th>\n",
       "      <th>df2</th>\n",
       "      <th>df3</th>\n",
       "      <th>df4</th>\n",
       "    </tr>\n",
       "    <tr>\n",
       "      <th>Intervention_Route_Counts</th>\n",
       "      <th></th>\n",
       "      <th></th>\n",
       "      <th></th>\n",
       "      <th></th>\n",
       "    </tr>\n",
       "  </thead>\n",
       "  <tbody>\n",
       "    <tr>\n",
       "      <th>count</th>\n",
       "      <td>27324.000000</td>\n",
       "      <td>29260.000000</td>\n",
       "      <td>16503.000000</td>\n",
       "      <td>13246.000000</td>\n",
       "    </tr>\n",
       "    <tr>\n",
       "      <th>mean</th>\n",
       "      <td>1.172998</td>\n",
       "      <td>1.218524</td>\n",
       "      <td>1.185906</td>\n",
       "      <td>1.286426</td>\n",
       "    </tr>\n",
       "    <tr>\n",
       "      <th>std</th>\n",
       "      <td>0.425087</td>\n",
       "      <td>0.471360</td>\n",
       "      <td>0.434655</td>\n",
       "      <td>0.516347</td>\n",
       "    </tr>\n",
       "    <tr>\n",
       "      <th>min</th>\n",
       "      <td>1.000000</td>\n",
       "      <td>1.000000</td>\n",
       "      <td>1.000000</td>\n",
       "      <td>1.000000</td>\n",
       "    </tr>\n",
       "    <tr>\n",
       "      <th>25%</th>\n",
       "      <td>1.000000</td>\n",
       "      <td>1.000000</td>\n",
       "      <td>1.000000</td>\n",
       "      <td>1.000000</td>\n",
       "    </tr>\n",
       "    <tr>\n",
       "      <th>50%</th>\n",
       "      <td>1.000000</td>\n",
       "      <td>1.000000</td>\n",
       "      <td>1.000000</td>\n",
       "      <td>1.000000</td>\n",
       "    </tr>\n",
       "    <tr>\n",
       "      <th>75%</th>\n",
       "      <td>1.000000</td>\n",
       "      <td>1.000000</td>\n",
       "      <td>1.000000</td>\n",
       "      <td>2.000000</td>\n",
       "    </tr>\n",
       "    <tr>\n",
       "      <th>max</th>\n",
       "      <td>4.000000</td>\n",
       "      <td>4.000000</td>\n",
       "      <td>4.000000</td>\n",
       "      <td>4.000000</td>\n",
       "    </tr>\n",
       "  </tbody>\n",
       "</table>\n",
       "</div>"
      ],
      "text/plain": [
       "                                    df1           df2           df3  \\\n",
       "Intervention_Route_Counts                                             \n",
       "count                      27324.000000  29260.000000  16503.000000   \n",
       "mean                           1.172998      1.218524      1.185906   \n",
       "std                            0.425087      0.471360      0.434655   \n",
       "min                            1.000000      1.000000      1.000000   \n",
       "25%                            1.000000      1.000000      1.000000   \n",
       "50%                            1.000000      1.000000      1.000000   \n",
       "75%                            1.000000      1.000000      1.000000   \n",
       "max                            4.000000      4.000000      4.000000   \n",
       "\n",
       "                                    df4  \n",
       "Intervention_Route_Counts                \n",
       "count                      13246.000000  \n",
       "mean                           1.286426  \n",
       "std                            0.516347  \n",
       "min                            1.000000  \n",
       "25%                            1.000000  \n",
       "50%                            1.000000  \n",
       "75%                            2.000000  \n",
       "max                            4.000000  "
      ]
     },
     "metadata": {},
     "output_type": "display_data"
    },
    {
     "data": {
      "application/vnd.microsoft.datawrangler.viewer.v0+json": {
       "columns": [
        {
         "name": "Intervention_Route_Categ",
         "rawType": "category",
         "type": "unknown"
        },
        {
         "name": "count",
         "rawType": "int64",
         "type": "integer"
        }
       ],
       "ref": "3a1d4bd0-cfb9-4d94-8b6c-5eb2b1f4c306",
       "rows": [
        [
         "1",
         "23106"
        ],
        [
         "2–4",
         "4218"
        ]
       ],
       "shape": {
        "columns": 1,
        "rows": 2
       }
      },
      "text/plain": [
       "Intervention_Route_Categ\n",
       "1      23106\n",
       "2–4     4218\n",
       "Name: count, dtype: int64"
      ]
     },
     "metadata": {},
     "output_type": "display_data"
    }
   ],
   "source": [
    "Describe_Intervention_Route = def_describe('Intervention_Route_Counts')\n",
    "display(Describe_Intervention_Route)\n",
    "\n",
    "col = 'Intervention_Route_Counts'\n",
    "col_categ = 'Intervention_Route_Categ'\n",
    "\n",
    "bins, labels = fun_bins2(dfis, col, bin1_val = 0.5, bin2_val = 1)\n",
    "\n",
    "df1[col_categ] = pd.cut(df1[col], bins = bins[0], labels = labels[0], ordered = True, include_lowest = True, right = True)\n",
    "df2[col_categ] = pd.cut(df2[col], bins = bins[1], labels = labels[1], ordered = True, include_lowest = True, right = True)\n",
    "df3[col_categ] = pd.cut(df3[col], bins = bins[2], labels = labels[2], ordered = True, include_lowest = True, right = True)\n",
    "df4[col_categ] = pd.cut(df4[col], bins = bins[3], labels = labels[3], ordered = True, include_lowest = True, right = True)\n",
    "\n",
    "display(df1['Intervention_Route_Categ'].value_counts())"
   ]
  },
  {
   "cell_type": "markdown",
   "metadata": {},
   "source": [
    "## City_Categ"
   ]
  },
  {
   "cell_type": "code",
   "execution_count": 90,
   "metadata": {},
   "outputs": [
    {
     "data": {
      "application/vnd.microsoft.datawrangler.viewer.v0+json": {
       "columns": [
        {
         "name": "City_Counts",
         "rawType": "object",
         "type": "string"
        },
        {
         "name": "df1",
         "rawType": "float64",
         "type": "float"
        },
        {
         "name": "df2",
         "rawType": "float64",
         "type": "float"
        },
        {
         "name": "df3",
         "rawType": "float64",
         "type": "float"
        },
        {
         "name": "df4",
         "rawType": "float64",
         "type": "float"
        }
       ],
       "ref": "c69b0fdc-d456-4588-94a7-4eb0e335bee7",
       "rows": [
        [
         "count",
         "27324.0",
         "29260.0",
         "16503.0",
         "13246.0"
        ],
        [
         "mean",
         "2.8659054311228225",
         "9.018762816131238",
         "26.384111979640064",
         "4.325985203080175"
        ],
        [
         "std",
         "6.140913441879502",
         "22.804192460901554",
         "57.23925832734951",
         "17.885615327072706"
        ],
        [
         "min",
         "0.0",
         "0.0",
         "0.0",
         "0.0"
        ],
        [
         "25%",
         "1.0",
         "1.0",
         "1.0",
         "1.0"
        ],
        [
         "50%",
         "1.0",
         "1.0",
         "2.0",
         "1.0"
        ],
        [
         "75%",
         "2.0",
         "8.0",
         "28.0",
         "1.0"
        ],
        [
         "max",
         "282.0",
         "667.0",
         "1064.0",
         "607.0"
        ]
       ],
       "shape": {
        "columns": 4,
        "rows": 8
       }
      },
      "text/html": [
       "<div>\n",
       "<style scoped>\n",
       "    .dataframe tbody tr th:only-of-type {\n",
       "        vertical-align: middle;\n",
       "    }\n",
       "\n",
       "    .dataframe tbody tr th {\n",
       "        vertical-align: top;\n",
       "    }\n",
       "\n",
       "    .dataframe thead th {\n",
       "        text-align: right;\n",
       "    }\n",
       "</style>\n",
       "<table border=\"1\" class=\"dataframe\">\n",
       "  <thead>\n",
       "    <tr style=\"text-align: right;\">\n",
       "      <th></th>\n",
       "      <th>df1</th>\n",
       "      <th>df2</th>\n",
       "      <th>df3</th>\n",
       "      <th>df4</th>\n",
       "    </tr>\n",
       "    <tr>\n",
       "      <th>City_Counts</th>\n",
       "      <th></th>\n",
       "      <th></th>\n",
       "      <th></th>\n",
       "      <th></th>\n",
       "    </tr>\n",
       "  </thead>\n",
       "  <tbody>\n",
       "    <tr>\n",
       "      <th>count</th>\n",
       "      <td>27324.000000</td>\n",
       "      <td>29260.000000</td>\n",
       "      <td>16503.000000</td>\n",
       "      <td>13246.000000</td>\n",
       "    </tr>\n",
       "    <tr>\n",
       "      <th>mean</th>\n",
       "      <td>2.865905</td>\n",
       "      <td>9.018763</td>\n",
       "      <td>26.384112</td>\n",
       "      <td>4.325985</td>\n",
       "    </tr>\n",
       "    <tr>\n",
       "      <th>std</th>\n",
       "      <td>6.140913</td>\n",
       "      <td>22.804192</td>\n",
       "      <td>57.239258</td>\n",
       "      <td>17.885615</td>\n",
       "    </tr>\n",
       "    <tr>\n",
       "      <th>min</th>\n",
       "      <td>0.000000</td>\n",
       "      <td>0.000000</td>\n",
       "      <td>0.000000</td>\n",
       "      <td>0.000000</td>\n",
       "    </tr>\n",
       "    <tr>\n",
       "      <th>25%</th>\n",
       "      <td>1.000000</td>\n",
       "      <td>1.000000</td>\n",
       "      <td>1.000000</td>\n",
       "      <td>1.000000</td>\n",
       "    </tr>\n",
       "    <tr>\n",
       "      <th>50%</th>\n",
       "      <td>1.000000</td>\n",
       "      <td>1.000000</td>\n",
       "      <td>2.000000</td>\n",
       "      <td>1.000000</td>\n",
       "    </tr>\n",
       "    <tr>\n",
       "      <th>75%</th>\n",
       "      <td>2.000000</td>\n",
       "      <td>8.000000</td>\n",
       "      <td>28.000000</td>\n",
       "      <td>1.000000</td>\n",
       "    </tr>\n",
       "    <tr>\n",
       "      <th>max</th>\n",
       "      <td>282.000000</td>\n",
       "      <td>667.000000</td>\n",
       "      <td>1064.000000</td>\n",
       "      <td>607.000000</td>\n",
       "    </tr>\n",
       "  </tbody>\n",
       "</table>\n",
       "</div>"
      ],
      "text/plain": [
       "                      df1           df2           df3           df4\n",
       "City_Counts                                                        \n",
       "count        27324.000000  29260.000000  16503.000000  13246.000000\n",
       "mean             2.865905      9.018763     26.384112      4.325985\n",
       "std              6.140913     22.804192     57.239258     17.885615\n",
       "min              0.000000      0.000000      0.000000      0.000000\n",
       "25%              1.000000      1.000000      1.000000      1.000000\n",
       "50%              1.000000      1.000000      2.000000      1.000000\n",
       "75%              2.000000      8.000000     28.000000      1.000000\n",
       "max            282.000000    667.000000   1064.000000    607.000000"
      ]
     },
     "metadata": {},
     "output_type": "display_data"
    },
    {
     "data": {
      "application/vnd.microsoft.datawrangler.viewer.v0+json": {
       "columns": [
        {
         "name": "City_Categ",
         "rawType": "category",
         "type": "unknown"
        },
        {
         "name": "count",
         "rawType": "int64",
         "type": "integer"
        }
       ],
       "ref": "da144574-eeea-48e1-aa4b-c58ba97a5be1",
       "rows": [
        [
         "0–1",
         "19496"
        ],
        [
         "2–282",
         "7828"
        ]
       ],
       "shape": {
        "columns": 1,
        "rows": 2
       }
      },
      "text/plain": [
       "City_Categ\n",
       "0–1      19496\n",
       "2–282     7828\n",
       "Name: count, dtype: int64"
      ]
     },
     "metadata": {},
     "output_type": "display_data"
    }
   ],
   "source": [
    "Describe_City = def_describe('City_Counts')\n",
    "display(Describe_City)\n",
    "\n",
    "col = 'City_Counts'\n",
    "col_categ = 'City_Categ'\n",
    "\n",
    "bins, labels = fun_bins(dfis, col, bin2_val = 1, use_quantile = False)\n",
    "# Almost all distribution at 1, so use fixed bin2_val = 1\n",
    "\n",
    "df1[col_categ] = pd.cut(df1[col], bins = bins[0], labels = labels[0], ordered = True, include_lowest = True, right = True)\n",
    "df2[col_categ] = pd.cut(df2[col], bins = bins[1], labels = labels[1], ordered = True, include_lowest = True, right = True)\n",
    "df3[col_categ] = pd.cut(df3[col], bins = bins[2], labels = labels[2], ordered = True, include_lowest = True, right = True)\n",
    "df4[col_categ] = pd.cut(df4[col], bins = bins[3], labels = labels[3], ordered = True, include_lowest = True, right = True)\n",
    "\n",
    "display(df1['City_Categ'].value_counts(dropna = False))"
   ]
  },
  {
   "cell_type": "markdown",
   "metadata": {},
   "source": [
    "## Country_Categ"
   ]
  },
  {
   "cell_type": "code",
   "execution_count": 91,
   "metadata": {},
   "outputs": [
    {
     "data": {
      "application/vnd.microsoft.datawrangler.viewer.v0+json": {
       "columns": [
        {
         "name": "Country_Counts",
         "rawType": "object",
         "type": "string"
        },
        {
         "name": "df1",
         "rawType": "float64",
         "type": "float"
        },
        {
         "name": "df2",
         "rawType": "float64",
         "type": "float"
        },
        {
         "name": "df3",
         "rawType": "float64",
         "type": "float"
        },
        {
         "name": "df4",
         "rawType": "float64",
         "type": "float"
        }
       ],
       "ref": "5ef617a6-93ae-4d40-8a18-0216ef229600",
       "rows": [
        [
         "count",
         "27324.0",
         "29260.0",
         "16503.0",
         "13246.0"
        ],
        [
         "mean",
         "1.2362758014931927",
         "1.8422077922077922",
         "3.7321093134581593",
         "1.2340329155971614"
        ],
        [
         "std",
         "1.208108053002304",
         "2.7817035455918746",
         "6.348113812811992",
         "1.9485356265878753"
        ],
        [
         "min",
         "0.0",
         "0.0",
         "0.0",
         "0.0"
        ],
        [
         "25%",
         "1.0",
         "1.0",
         "1.0",
         "1.0"
        ],
        [
         "50%",
         "1.0",
         "1.0",
         "1.0",
         "1.0"
        ],
        [
         "75%",
         "1.0",
         "1.0",
         "3.0",
         "1.0"
        ],
        [
         "max",
         "33.0",
         "46.0",
         "59.0",
         "42.0"
        ]
       ],
       "shape": {
        "columns": 4,
        "rows": 8
       }
      },
      "text/html": [
       "<div>\n",
       "<style scoped>\n",
       "    .dataframe tbody tr th:only-of-type {\n",
       "        vertical-align: middle;\n",
       "    }\n",
       "\n",
       "    .dataframe tbody tr th {\n",
       "        vertical-align: top;\n",
       "    }\n",
       "\n",
       "    .dataframe thead th {\n",
       "        text-align: right;\n",
       "    }\n",
       "</style>\n",
       "<table border=\"1\" class=\"dataframe\">\n",
       "  <thead>\n",
       "    <tr style=\"text-align: right;\">\n",
       "      <th></th>\n",
       "      <th>df1</th>\n",
       "      <th>df2</th>\n",
       "      <th>df3</th>\n",
       "      <th>df4</th>\n",
       "    </tr>\n",
       "    <tr>\n",
       "      <th>Country_Counts</th>\n",
       "      <th></th>\n",
       "      <th></th>\n",
       "      <th></th>\n",
       "      <th></th>\n",
       "    </tr>\n",
       "  </thead>\n",
       "  <tbody>\n",
       "    <tr>\n",
       "      <th>count</th>\n",
       "      <td>27324.000000</td>\n",
       "      <td>29260.000000</td>\n",
       "      <td>16503.000000</td>\n",
       "      <td>13246.000000</td>\n",
       "    </tr>\n",
       "    <tr>\n",
       "      <th>mean</th>\n",
       "      <td>1.236276</td>\n",
       "      <td>1.842208</td>\n",
       "      <td>3.732109</td>\n",
       "      <td>1.234033</td>\n",
       "    </tr>\n",
       "    <tr>\n",
       "      <th>std</th>\n",
       "      <td>1.208108</td>\n",
       "      <td>2.781704</td>\n",
       "      <td>6.348114</td>\n",
       "      <td>1.948536</td>\n",
       "    </tr>\n",
       "    <tr>\n",
       "      <th>min</th>\n",
       "      <td>0.000000</td>\n",
       "      <td>0.000000</td>\n",
       "      <td>0.000000</td>\n",
       "      <td>0.000000</td>\n",
       "    </tr>\n",
       "    <tr>\n",
       "      <th>25%</th>\n",
       "      <td>1.000000</td>\n",
       "      <td>1.000000</td>\n",
       "      <td>1.000000</td>\n",
       "      <td>1.000000</td>\n",
       "    </tr>\n",
       "    <tr>\n",
       "      <th>50%</th>\n",
       "      <td>1.000000</td>\n",
       "      <td>1.000000</td>\n",
       "      <td>1.000000</td>\n",
       "      <td>1.000000</td>\n",
       "    </tr>\n",
       "    <tr>\n",
       "      <th>75%</th>\n",
       "      <td>1.000000</td>\n",
       "      <td>1.000000</td>\n",
       "      <td>3.000000</td>\n",
       "      <td>1.000000</td>\n",
       "    </tr>\n",
       "    <tr>\n",
       "      <th>max</th>\n",
       "      <td>33.000000</td>\n",
       "      <td>46.000000</td>\n",
       "      <td>59.000000</td>\n",
       "      <td>42.000000</td>\n",
       "    </tr>\n",
       "  </tbody>\n",
       "</table>\n",
       "</div>"
      ],
      "text/plain": [
       "                         df1           df2           df3           df4\n",
       "Country_Counts                                                        \n",
       "count           27324.000000  29260.000000  16503.000000  13246.000000\n",
       "mean                1.236276      1.842208      3.732109      1.234033\n",
       "std                 1.208108      2.781704      6.348114      1.948536\n",
       "min                 0.000000      0.000000      0.000000      0.000000\n",
       "25%                 1.000000      1.000000      1.000000      1.000000\n",
       "50%                 1.000000      1.000000      1.000000      1.000000\n",
       "75%                 1.000000      1.000000      3.000000      1.000000\n",
       "max                33.000000     46.000000     59.000000     42.000000"
      ]
     },
     "metadata": {},
     "output_type": "display_data"
    },
    {
     "data": {
      "application/vnd.microsoft.datawrangler.viewer.v0+json": {
       "columns": [
        {
         "name": "Country_Categ",
         "rawType": "category",
         "type": "unknown"
        },
        {
         "name": "count",
         "rawType": "int64",
         "type": "integer"
        }
       ],
       "ref": "382fb683-3100-4573-a7b8-9be1dcc6ae67",
       "rows": [
        [
         "0–1",
         "24569"
        ],
        [
         "2–33",
         "2755"
        ]
       ],
       "shape": {
        "columns": 1,
        "rows": 2
       }
      },
      "text/plain": [
       "Country_Categ\n",
       "0–1     24569\n",
       "2–33     2755\n",
       "Name: count, dtype: int64"
      ]
     },
     "metadata": {},
     "output_type": "display_data"
    }
   ],
   "source": [
    "Describe_Country = def_describe('Country_Counts')\n",
    "display(Describe_Country)\n",
    "\n",
    "col = 'Country_Counts'\n",
    "col_categ = 'Country_Categ'\n",
    "\n",
    "bins, labels = fun_bins(dfis, col, bin2_val = 1, use_quantile = False)\n",
    "# Almost all distribution is at 1 country. Use fixed bin2_val = 1\n",
    "\n",
    "df1[col_categ] = pd.cut(df1[col], bins = bins[0], labels = labels[0], ordered = True, include_lowest = True, right = True)\n",
    "df2[col_categ] = pd.cut(df2[col], bins = bins[1], labels = labels[1], ordered = True, include_lowest = True, right = True)\n",
    "df3[col_categ] = pd.cut(df3[col], bins = bins[2], labels = labels[2], ordered = True, include_lowest = True, right = True)\n",
    "df4[col_categ] = pd.cut(df4[col], bins = bins[3], labels = labels[3], ordered = True, include_lowest = True, right = True)\n",
    "\n",
    "display(df1['Country_Categ'].value_counts(dropna = False))"
   ]
  },
  {
   "cell_type": "markdown",
   "metadata": {},
   "source": [
    "## Continent_Categ"
   ]
  },
  {
   "cell_type": "code",
   "execution_count": 92,
   "metadata": {},
   "outputs": [
    {
     "data": {
      "application/vnd.microsoft.datawrangler.viewer.v0+json": {
       "columns": [
        {
         "name": "Continent_Counts",
         "rawType": "object",
         "type": "string"
        },
        {
         "name": "df1",
         "rawType": "float64",
         "type": "float"
        },
        {
         "name": "df2",
         "rawType": "float64",
         "type": "float"
        },
        {
         "name": "df3",
         "rawType": "float64",
         "type": "float"
        },
        {
         "name": "df4",
         "rawType": "float64",
         "type": "float"
        }
       ],
       "ref": "0d6a848f-345a-452f-92da-69d21dadaec2",
       "rows": [
        [
         "count",
         "27324.0",
         "29260.0",
         "16503.0",
         "13246.0"
        ],
        [
         "mean",
         "1.004647928560972",
         "1.1237525632262475",
         "1.4326486093437556",
         "0.8700739845991242"
        ],
        [
         "std",
         "0.5256099056378348",
         "0.7858869104705857",
         "1.3044326722254636",
         "0.5680161131795837"
        ],
        [
         "min",
         "0.0",
         "0.0",
         "0.0",
         "0.0"
        ],
        [
         "25%",
         "1.0",
         "1.0",
         "1.0",
         "1.0"
        ],
        [
         "50%",
         "1.0",
         "1.0",
         "1.0",
         "1.0"
        ],
        [
         "75%",
         "1.0",
         "1.0",
         "1.0",
         "1.0"
        ],
        [
         "max",
         "6.0",
         "6.0",
         "6.0",
         "6.0"
        ]
       ],
       "shape": {
        "columns": 4,
        "rows": 8
       }
      },
      "text/html": [
       "<div>\n",
       "<style scoped>\n",
       "    .dataframe tbody tr th:only-of-type {\n",
       "        vertical-align: middle;\n",
       "    }\n",
       "\n",
       "    .dataframe tbody tr th {\n",
       "        vertical-align: top;\n",
       "    }\n",
       "\n",
       "    .dataframe thead th {\n",
       "        text-align: right;\n",
       "    }\n",
       "</style>\n",
       "<table border=\"1\" class=\"dataframe\">\n",
       "  <thead>\n",
       "    <tr style=\"text-align: right;\">\n",
       "      <th></th>\n",
       "      <th>df1</th>\n",
       "      <th>df2</th>\n",
       "      <th>df3</th>\n",
       "      <th>df4</th>\n",
       "    </tr>\n",
       "    <tr>\n",
       "      <th>Continent_Counts</th>\n",
       "      <th></th>\n",
       "      <th></th>\n",
       "      <th></th>\n",
       "      <th></th>\n",
       "    </tr>\n",
       "  </thead>\n",
       "  <tbody>\n",
       "    <tr>\n",
       "      <th>count</th>\n",
       "      <td>27324.000000</td>\n",
       "      <td>29260.000000</td>\n",
       "      <td>16503.000000</td>\n",
       "      <td>13246.000000</td>\n",
       "    </tr>\n",
       "    <tr>\n",
       "      <th>mean</th>\n",
       "      <td>1.004648</td>\n",
       "      <td>1.123753</td>\n",
       "      <td>1.432649</td>\n",
       "      <td>0.870074</td>\n",
       "    </tr>\n",
       "    <tr>\n",
       "      <th>std</th>\n",
       "      <td>0.525610</td>\n",
       "      <td>0.785887</td>\n",
       "      <td>1.304433</td>\n",
       "      <td>0.568016</td>\n",
       "    </tr>\n",
       "    <tr>\n",
       "      <th>min</th>\n",
       "      <td>0.000000</td>\n",
       "      <td>0.000000</td>\n",
       "      <td>0.000000</td>\n",
       "      <td>0.000000</td>\n",
       "    </tr>\n",
       "    <tr>\n",
       "      <th>25%</th>\n",
       "      <td>1.000000</td>\n",
       "      <td>1.000000</td>\n",
       "      <td>1.000000</td>\n",
       "      <td>1.000000</td>\n",
       "    </tr>\n",
       "    <tr>\n",
       "      <th>50%</th>\n",
       "      <td>1.000000</td>\n",
       "      <td>1.000000</td>\n",
       "      <td>1.000000</td>\n",
       "      <td>1.000000</td>\n",
       "    </tr>\n",
       "    <tr>\n",
       "      <th>75%</th>\n",
       "      <td>1.000000</td>\n",
       "      <td>1.000000</td>\n",
       "      <td>1.000000</td>\n",
       "      <td>1.000000</td>\n",
       "    </tr>\n",
       "    <tr>\n",
       "      <th>max</th>\n",
       "      <td>6.000000</td>\n",
       "      <td>6.000000</td>\n",
       "      <td>6.000000</td>\n",
       "      <td>6.000000</td>\n",
       "    </tr>\n",
       "  </tbody>\n",
       "</table>\n",
       "</div>"
      ],
      "text/plain": [
       "                           df1           df2           df3           df4\n",
       "Continent_Counts                                                        \n",
       "count             27324.000000  29260.000000  16503.000000  13246.000000\n",
       "mean                  1.004648      1.123753      1.432649      0.870074\n",
       "std                   0.525610      0.785887      1.304433      0.568016\n",
       "min                   0.000000      0.000000      0.000000      0.000000\n",
       "25%                   1.000000      1.000000      1.000000      1.000000\n",
       "50%                   1.000000      1.000000      1.000000      1.000000\n",
       "75%                   1.000000      1.000000      1.000000      1.000000\n",
       "max                   6.000000      6.000000      6.000000      6.000000"
      ]
     },
     "metadata": {},
     "output_type": "display_data"
    },
    {
     "data": {
      "application/vnd.microsoft.datawrangler.viewer.v0+json": {
       "columns": [
        {
         "name": "Continent_Categ",
         "rawType": "category",
         "type": "unknown"
        },
        {
         "name": "count",
         "rawType": "int64",
         "type": "integer"
        }
       ],
       "ref": "8ad996b2-5f3b-4731-9d32-2672f71f0b4d",
       "rows": [
        [
         "0–1",
         "25388"
        ],
        [
         "2–6",
         "1936"
        ]
       ],
       "shape": {
        "columns": 1,
        "rows": 2
       }
      },
      "text/plain": [
       "Continent_Categ\n",
       "0–1    25388\n",
       "2–6     1936\n",
       "Name: count, dtype: int64"
      ]
     },
     "metadata": {},
     "output_type": "display_data"
    }
   ],
   "source": [
    "Describe_Continent = def_describe('Continent_Counts')\n",
    "display(Describe_Continent)\n",
    "\n",
    "col = 'Continent_Counts'\n",
    "col_categ = 'Continent_Categ'\n",
    "\n",
    "bins, labels = fun_bins(dfis, col, bin2_val = 1, use_quantile = False)\n",
    "# Almost all distribution is at 1 continent. Use fixed bin2_val = 1\n",
    "\n",
    "df1[col_categ] = pd.cut(df1[col], bins = bins[0], labels = labels[0], ordered = True, include_lowest = True, right = True)\n",
    "df2[col_categ] = pd.cut(df2[col], bins = bins[1], labels = labels[1], ordered = True, include_lowest = True, right = True)\n",
    "df3[col_categ] = pd.cut(df3[col], bins = bins[2], labels = labels[2], ordered = True, include_lowest = True, right = True)\n",
    "df4[col_categ] = pd.cut(df4[col], bins = bins[3], labels = labels[3], ordered = True, include_lowest = True, right = True)\n",
    "\n",
    "display(df1['Continent_Categ'].value_counts(dropna = False))"
   ]
  },
  {
   "cell_type": "markdown",
   "metadata": {},
   "source": [
    "## Completion_Gap_Categ\n"
   ]
  },
  {
   "cell_type": "code",
   "execution_count": 93,
   "metadata": {},
   "outputs": [
    {
     "data": {
      "application/vnd.microsoft.datawrangler.viewer.v0+json": {
       "columns": [
        {
         "name": "Completion_Gap_Counts",
         "rawType": "object",
         "type": "string"
        },
        {
         "name": "df1",
         "rawType": "Float64",
         "type": "float"
        },
        {
         "name": "df2",
         "rawType": "Float64",
         "type": "float"
        },
        {
         "name": "df3",
         "rawType": "Float64",
         "type": "float"
        },
        {
         "name": "df4",
         "rawType": "Float64",
         "type": "float"
        }
       ],
       "ref": "8493cd17-0291-41f5-a2d2-1a030af613f3",
       "rows": [
        [
         "count",
         "27324.0",
         "29260.0",
         "16503.0",
         "13246.0"
        ],
        [
         "mean",
         "22.4380398184746",
         "31.8607997265892",
         "29.7007816760589",
         "25.543333836629927"
        ],
        [
         "std",
         "23.42183845501548",
         "24.308620999531882",
         "22.87491935544035",
         "20.092805866619052"
        ],
        [
         "min",
         "0.0",
         "0.0",
         "0.0",
         "0.0"
        ],
        [
         "25%",
         "5.0",
         "13.0",
         "13.0",
         "11.0"
        ],
        [
         "50%",
         "14.0",
         "26.0",
         "24.0",
         "21.0"
        ],
        [
         "75%",
         "33.0",
         "44.0",
         "40.0",
         "35.0"
        ],
        [
         "max",
         "160.0",
         "163.0",
         "162.0",
         "149.0"
        ]
       ],
       "shape": {
        "columns": 4,
        "rows": 8
       }
      },
      "text/html": [
       "<div>\n",
       "<style scoped>\n",
       "    .dataframe tbody tr th:only-of-type {\n",
       "        vertical-align: middle;\n",
       "    }\n",
       "\n",
       "    .dataframe tbody tr th {\n",
       "        vertical-align: top;\n",
       "    }\n",
       "\n",
       "    .dataframe thead th {\n",
       "        text-align: right;\n",
       "    }\n",
       "</style>\n",
       "<table border=\"1\" class=\"dataframe\">\n",
       "  <thead>\n",
       "    <tr style=\"text-align: right;\">\n",
       "      <th></th>\n",
       "      <th>df1</th>\n",
       "      <th>df2</th>\n",
       "      <th>df3</th>\n",
       "      <th>df4</th>\n",
       "    </tr>\n",
       "    <tr>\n",
       "      <th>Completion_Gap_Counts</th>\n",
       "      <th></th>\n",
       "      <th></th>\n",
       "      <th></th>\n",
       "      <th></th>\n",
       "    </tr>\n",
       "  </thead>\n",
       "  <tbody>\n",
       "    <tr>\n",
       "      <th>count</th>\n",
       "      <td>27324.0</td>\n",
       "      <td>29260.0</td>\n",
       "      <td>16503.0</td>\n",
       "      <td>13246.0</td>\n",
       "    </tr>\n",
       "    <tr>\n",
       "      <th>mean</th>\n",
       "      <td>22.43804</td>\n",
       "      <td>31.8608</td>\n",
       "      <td>29.700782</td>\n",
       "      <td>25.543334</td>\n",
       "    </tr>\n",
       "    <tr>\n",
       "      <th>std</th>\n",
       "      <td>23.421838</td>\n",
       "      <td>24.308621</td>\n",
       "      <td>22.874919</td>\n",
       "      <td>20.092806</td>\n",
       "    </tr>\n",
       "    <tr>\n",
       "      <th>min</th>\n",
       "      <td>0.0</td>\n",
       "      <td>0.0</td>\n",
       "      <td>0.0</td>\n",
       "      <td>0.0</td>\n",
       "    </tr>\n",
       "    <tr>\n",
       "      <th>25%</th>\n",
       "      <td>5.0</td>\n",
       "      <td>13.0</td>\n",
       "      <td>13.0</td>\n",
       "      <td>11.0</td>\n",
       "    </tr>\n",
       "    <tr>\n",
       "      <th>50%</th>\n",
       "      <td>14.0</td>\n",
       "      <td>26.0</td>\n",
       "      <td>24.0</td>\n",
       "      <td>21.0</td>\n",
       "    </tr>\n",
       "    <tr>\n",
       "      <th>75%</th>\n",
       "      <td>33.0</td>\n",
       "      <td>44.0</td>\n",
       "      <td>40.0</td>\n",
       "      <td>35.0</td>\n",
       "    </tr>\n",
       "    <tr>\n",
       "      <th>max</th>\n",
       "      <td>160.0</td>\n",
       "      <td>163.0</td>\n",
       "      <td>162.0</td>\n",
       "      <td>149.0</td>\n",
       "    </tr>\n",
       "  </tbody>\n",
       "</table>\n",
       "</div>"
      ],
      "text/plain": [
       "                             df1        df2        df3        df4\n",
       "Completion_Gap_Counts                                            \n",
       "count                    27324.0    29260.0    16503.0    13246.0\n",
       "mean                    22.43804    31.8608  29.700782  25.543334\n",
       "std                    23.421838  24.308621  22.874919  20.092806\n",
       "min                          0.0        0.0        0.0        0.0\n",
       "25%                          5.0       13.0       13.0       11.0\n",
       "50%                         14.0       26.0       24.0       21.0\n",
       "75%                         33.0       44.0       40.0       35.0\n",
       "max                        160.0      163.0      162.0      149.0"
      ]
     },
     "metadata": {},
     "output_type": "display_data"
    },
    {
     "data": {
      "application/vnd.microsoft.datawrangler.viewer.v0+json": {
       "columns": [
        {
         "name": "Completion_Gap_Categ",
         "rawType": "category",
         "type": "unknown"
        },
        {
         "name": "count",
         "rawType": "int64",
         "type": "integer"
        }
       ],
       "ref": "b231734d-c6bb-4c12-9330-829c0430cf83",
       "rows": [
        [
         "0–14",
         "13940"
        ],
        [
         "15–160",
         "13384"
        ]
       ],
       "shape": {
        "columns": 1,
        "rows": 2
       }
      },
      "text/plain": [
       "Completion_Gap_Categ\n",
       "0–14      13940\n",
       "15–160    13384\n",
       "Name: count, dtype: int64"
      ]
     },
     "metadata": {},
     "output_type": "display_data"
    }
   ],
   "source": [
    "Describe_Completion_Gap = def_describe('Completion_Gap_Counts')\n",
    "display(Describe_Completion_Gap)\n",
    "\n",
    "col = 'Completion_Gap_Counts'\n",
    "col_categ = 'Completion_Gap_Categ'\n",
    "\n",
    "bins, labels = fun_bins(dfis, col, bin2_val = 0.5, use_quantile = True)\n",
    "\n",
    "df1[col_categ] = pd.cut(df1[col], bins = bins[0], labels = labels[0], ordered = True, include_lowest = True, right = True)\n",
    "df2[col_categ] = pd.cut(df2[col], bins = bins[1], labels = labels[1], ordered = True, include_lowest = True, right = True)\n",
    "df3[col_categ] = pd.cut(df3[col], bins = bins[2], labels = labels[2], ordered = True, include_lowest = True, right = True)\n",
    "df4[col_categ] = pd.cut(df4[col], bins = bins[3], labels = labels[3], ordered = True, include_lowest = True, right = True)\n",
    "\n",
    "display(df1['Completion_Gap_Categ'].value_counts())"
   ]
  },
  {
   "cell_type": "markdown",
   "metadata": {},
   "source": [
    "## Start_Date_Year_Categ"
   ]
  },
  {
   "cell_type": "code",
   "execution_count": 94,
   "metadata": {},
   "outputs": [
    {
     "data": {
      "application/vnd.microsoft.datawrangler.viewer.v0+json": {
       "columns": [
        {
         "name": "Start_Date_Year_Counts",
         "rawType": "object",
         "type": "string"
        },
        {
         "name": "df1",
         "rawType": "Float64",
         "type": "float"
        },
        {
         "name": "df2",
         "rawType": "Float64",
         "type": "float"
        },
        {
         "name": "df3",
         "rawType": "Float64",
         "type": "float"
        },
        {
         "name": "df4",
         "rawType": "Float64",
         "type": "float"
        }
       ],
       "ref": "f566ca03-8e20-46de-957a-1d6a43b71c72",
       "rows": [
        [
         "count",
         "27324.0",
         "29260.0",
         "16503.0",
         "13246.0"
        ],
        [
         "mean",
         "2016.7473649538867",
         "2016.2596377306904",
         "2016.0210870750773",
         "2016.058734712366"
        ],
        [
         "std",
         "3.669283431237615",
         "3.46796963107242",
         "3.4954882159733147",
         "3.4545018187413614"
        ],
        [
         "min",
         "2011.0",
         "2011.0",
         "2011.0",
         "2011.0"
        ],
        [
         "25%",
         "2014.0",
         "2013.0",
         "2013.0",
         "2013.0"
        ],
        [
         "50%",
         "2017.0",
         "2016.0",
         "2016.0",
         "2016.0"
        ],
        [
         "75%",
         "2020.0",
         "2019.0",
         "2019.0",
         "2019.0"
        ],
        [
         "max",
         "2024.0",
         "2024.0",
         "2024.0",
         "2024.0"
        ]
       ],
       "shape": {
        "columns": 4,
        "rows": 8
       }
      },
      "text/html": [
       "<div>\n",
       "<style scoped>\n",
       "    .dataframe tbody tr th:only-of-type {\n",
       "        vertical-align: middle;\n",
       "    }\n",
       "\n",
       "    .dataframe tbody tr th {\n",
       "        vertical-align: top;\n",
       "    }\n",
       "\n",
       "    .dataframe thead th {\n",
       "        text-align: right;\n",
       "    }\n",
       "</style>\n",
       "<table border=\"1\" class=\"dataframe\">\n",
       "  <thead>\n",
       "    <tr style=\"text-align: right;\">\n",
       "      <th></th>\n",
       "      <th>df1</th>\n",
       "      <th>df2</th>\n",
       "      <th>df3</th>\n",
       "      <th>df4</th>\n",
       "    </tr>\n",
       "    <tr>\n",
       "      <th>Start_Date_Year_Counts</th>\n",
       "      <th></th>\n",
       "      <th></th>\n",
       "      <th></th>\n",
       "      <th></th>\n",
       "    </tr>\n",
       "  </thead>\n",
       "  <tbody>\n",
       "    <tr>\n",
       "      <th>count</th>\n",
       "      <td>27324.0</td>\n",
       "      <td>29260.0</td>\n",
       "      <td>16503.0</td>\n",
       "      <td>13246.0</td>\n",
       "    </tr>\n",
       "    <tr>\n",
       "      <th>mean</th>\n",
       "      <td>2016.747365</td>\n",
       "      <td>2016.259638</td>\n",
       "      <td>2016.021087</td>\n",
       "      <td>2016.058735</td>\n",
       "    </tr>\n",
       "    <tr>\n",
       "      <th>std</th>\n",
       "      <td>3.669283</td>\n",
       "      <td>3.46797</td>\n",
       "      <td>3.495488</td>\n",
       "      <td>3.454502</td>\n",
       "    </tr>\n",
       "    <tr>\n",
       "      <th>min</th>\n",
       "      <td>2011.0</td>\n",
       "      <td>2011.0</td>\n",
       "      <td>2011.0</td>\n",
       "      <td>2011.0</td>\n",
       "    </tr>\n",
       "    <tr>\n",
       "      <th>25%</th>\n",
       "      <td>2014.0</td>\n",
       "      <td>2013.0</td>\n",
       "      <td>2013.0</td>\n",
       "      <td>2013.0</td>\n",
       "    </tr>\n",
       "    <tr>\n",
       "      <th>50%</th>\n",
       "      <td>2017.0</td>\n",
       "      <td>2016.0</td>\n",
       "      <td>2016.0</td>\n",
       "      <td>2016.0</td>\n",
       "    </tr>\n",
       "    <tr>\n",
       "      <th>75%</th>\n",
       "      <td>2020.0</td>\n",
       "      <td>2019.0</td>\n",
       "      <td>2019.0</td>\n",
       "      <td>2019.0</td>\n",
       "    </tr>\n",
       "    <tr>\n",
       "      <th>max</th>\n",
       "      <td>2024.0</td>\n",
       "      <td>2024.0</td>\n",
       "      <td>2024.0</td>\n",
       "      <td>2024.0</td>\n",
       "    </tr>\n",
       "  </tbody>\n",
       "</table>\n",
       "</div>"
      ],
      "text/plain": [
       "                                df1          df2          df3          df4\n",
       "Start_Date_Year_Counts                                                    \n",
       "count                       27324.0      29260.0      16503.0      13246.0\n",
       "mean                    2016.747365  2016.259638  2016.021087  2016.058735\n",
       "std                        3.669283      3.46797     3.495488     3.454502\n",
       "min                          2011.0       2011.0       2011.0       2011.0\n",
       "25%                          2014.0       2013.0       2013.0       2013.0\n",
       "50%                          2017.0       2016.0       2016.0       2016.0\n",
       "75%                          2020.0       2019.0       2019.0       2019.0\n",
       "max                          2024.0       2024.0       2024.0       2024.0"
      ]
     },
     "metadata": {},
     "output_type": "display_data"
    },
    {
     "data": {
      "application/vnd.microsoft.datawrangler.viewer.v0+json": {
       "columns": [
        {
         "name": "Start_Date_Year_Categ",
         "rawType": "category",
         "type": "unknown"
        },
        {
         "name": "count",
         "rawType": "int64",
         "type": "integer"
        }
       ],
       "ref": "6a367158-1947-4f49-b0fa-fd8c9e6a9a69",
       "rows": [
        [
         "2011-2018",
         "17745"
        ],
        [
         "2019-2024",
         "9579"
        ]
       ],
       "shape": {
        "columns": 1,
        "rows": 2
       }
      },
      "text/plain": [
       "Start_Date_Year_Categ\n",
       "2011-2018    17745\n",
       "2019-2024     9579\n",
       "Name: count, dtype: int64"
      ]
     },
     "metadata": {},
     "output_type": "display_data"
    }
   ],
   "source": [
    "Describe_Start_Date_Year = def_describe('Start_Date_Year_Counts')\n",
    "display(Describe_Start_Date_Year)\n",
    "\n",
    "col = 'Start_Date_Year_Counts'\n",
    "col_categ = 'Start_Date_Year_Categ'\n",
    "\n",
    "bins = [2011, 2018, 2024] # Covid oriented dates\n",
    "labels = ['2011-2018', '2019-2024']\n",
    "\n",
    "df1[col_categ] = pd.cut(df1[col], bins = bins, labels = labels, ordered = True, include_lowest = True, right = True)\n",
    "df2[col_categ] = pd.cut(df2[col], bins = bins, labels = labels, ordered = True, include_lowest = True, right = True)\n",
    "df3[col_categ] = pd.cut(df3[col], bins = bins, labels = labels, ordered = True, include_lowest = True, right = True)\n",
    "df4[col_categ] = pd.cut(df4[col], bins = bins, labels = labels, ordered = True, include_lowest = True, right = True)\n",
    "\n",
    "display(df1['Start_Date_Year_Categ'].value_counts(dropna = False))"
   ]
  },
  {
   "cell_type": "markdown",
   "metadata": {},
   "source": [
    "## Completion_Date_Year_Categ"
   ]
  },
  {
   "cell_type": "code",
   "execution_count": 95,
   "metadata": {},
   "outputs": [
    {
     "data": {
      "application/vnd.microsoft.datawrangler.viewer.v0+json": {
       "columns": [
        {
         "name": "Completion_Date_Year_Counts",
         "rawType": "object",
         "type": "string"
        },
        {
         "name": "df1",
         "rawType": "Float64",
         "type": "float"
        },
        {
         "name": "df2",
         "rawType": "Float64",
         "type": "float"
        },
        {
         "name": "df3",
         "rawType": "Float64",
         "type": "float"
        },
        {
         "name": "df4",
         "rawType": "Float64",
         "type": "float"
        }
       ],
       "ref": "f9231476-8fe6-4112-af3a-f4b3b1c9a749",
       "rows": [
        [
         "count",
         "27324.0",
         "29260.0",
         "16503.0",
         "13246.0"
        ],
        [
         "mean",
         "2018.5891523935002",
         "2018.8804169514697",
         "2018.4631279161365",
         "2018.1399667824248"
        ],
        [
         "std",
         "3.7114366620956307",
         "3.493019990915116",
         "3.576029094254934",
         "3.469508029016711"
        ],
        [
         "min",
         "2011.0",
         "2011.0",
         "2011.0",
         "2011.0"
        ],
        [
         "25%",
         "2016.0",
         "2016.0",
         "2015.0",
         "2015.0"
        ],
        [
         "50%",
         "2019.0",
         "2019.0",
         "2019.0",
         "2018.0"
        ],
        [
         "75%",
         "2022.0",
         "2022.0",
         "2022.0",
         "2021.0"
        ],
        [
         "max",
         "2024.0",
         "2024.0",
         "2024.0",
         "2024.0"
        ]
       ],
       "shape": {
        "columns": 4,
        "rows": 8
       }
      },
      "text/html": [
       "<div>\n",
       "<style scoped>\n",
       "    .dataframe tbody tr th:only-of-type {\n",
       "        vertical-align: middle;\n",
       "    }\n",
       "\n",
       "    .dataframe tbody tr th {\n",
       "        vertical-align: top;\n",
       "    }\n",
       "\n",
       "    .dataframe thead th {\n",
       "        text-align: right;\n",
       "    }\n",
       "</style>\n",
       "<table border=\"1\" class=\"dataframe\">\n",
       "  <thead>\n",
       "    <tr style=\"text-align: right;\">\n",
       "      <th></th>\n",
       "      <th>df1</th>\n",
       "      <th>df2</th>\n",
       "      <th>df3</th>\n",
       "      <th>df4</th>\n",
       "    </tr>\n",
       "    <tr>\n",
       "      <th>Completion_Date_Year_Counts</th>\n",
       "      <th></th>\n",
       "      <th></th>\n",
       "      <th></th>\n",
       "      <th></th>\n",
       "    </tr>\n",
       "  </thead>\n",
       "  <tbody>\n",
       "    <tr>\n",
       "      <th>count</th>\n",
       "      <td>27324.0</td>\n",
       "      <td>29260.0</td>\n",
       "      <td>16503.0</td>\n",
       "      <td>13246.0</td>\n",
       "    </tr>\n",
       "    <tr>\n",
       "      <th>mean</th>\n",
       "      <td>2018.589152</td>\n",
       "      <td>2018.880417</td>\n",
       "      <td>2018.463128</td>\n",
       "      <td>2018.139967</td>\n",
       "    </tr>\n",
       "    <tr>\n",
       "      <th>std</th>\n",
       "      <td>3.711437</td>\n",
       "      <td>3.49302</td>\n",
       "      <td>3.576029</td>\n",
       "      <td>3.469508</td>\n",
       "    </tr>\n",
       "    <tr>\n",
       "      <th>min</th>\n",
       "      <td>2011.0</td>\n",
       "      <td>2011.0</td>\n",
       "      <td>2011.0</td>\n",
       "      <td>2011.0</td>\n",
       "    </tr>\n",
       "    <tr>\n",
       "      <th>25%</th>\n",
       "      <td>2016.0</td>\n",
       "      <td>2016.0</td>\n",
       "      <td>2015.0</td>\n",
       "      <td>2015.0</td>\n",
       "    </tr>\n",
       "    <tr>\n",
       "      <th>50%</th>\n",
       "      <td>2019.0</td>\n",
       "      <td>2019.0</td>\n",
       "      <td>2019.0</td>\n",
       "      <td>2018.0</td>\n",
       "    </tr>\n",
       "    <tr>\n",
       "      <th>75%</th>\n",
       "      <td>2022.0</td>\n",
       "      <td>2022.0</td>\n",
       "      <td>2022.0</td>\n",
       "      <td>2021.0</td>\n",
       "    </tr>\n",
       "    <tr>\n",
       "      <th>max</th>\n",
       "      <td>2024.0</td>\n",
       "      <td>2024.0</td>\n",
       "      <td>2024.0</td>\n",
       "      <td>2024.0</td>\n",
       "    </tr>\n",
       "  </tbody>\n",
       "</table>\n",
       "</div>"
      ],
      "text/plain": [
       "                                     df1          df2          df3  \\\n",
       "Completion_Date_Year_Counts                                          \n",
       "count                            27324.0      29260.0      16503.0   \n",
       "mean                         2018.589152  2018.880417  2018.463128   \n",
       "std                             3.711437      3.49302     3.576029   \n",
       "min                               2011.0       2011.0       2011.0   \n",
       "25%                               2016.0       2016.0       2015.0   \n",
       "50%                               2019.0       2019.0       2019.0   \n",
       "75%                               2022.0       2022.0       2022.0   \n",
       "max                               2024.0       2024.0       2024.0   \n",
       "\n",
       "                                     df4  \n",
       "Completion_Date_Year_Counts               \n",
       "count                            13246.0  \n",
       "mean                         2018.139967  \n",
       "std                             3.469508  \n",
       "min                               2011.0  \n",
       "25%                               2015.0  \n",
       "50%                               2018.0  \n",
       "75%                               2021.0  \n",
       "max                               2024.0  "
      ]
     },
     "metadata": {},
     "output_type": "display_data"
    },
    {
     "data": {
      "application/vnd.microsoft.datawrangler.viewer.v0+json": {
       "columns": [
        {
         "name": "Completion_Date_Year_Categ",
         "rawType": "category",
         "type": "unknown"
        },
        {
         "name": "count",
         "rawType": "int64",
         "type": "integer"
        }
       ],
       "ref": "955d5237-22fc-452e-8658-c2585adf68e0",
       "rows": [
        [
         "2019-2024",
         "14618"
        ],
        [
         "2011-2018",
         "12706"
        ]
       ],
       "shape": {
        "columns": 1,
        "rows": 2
       }
      },
      "text/plain": [
       "Completion_Date_Year_Categ\n",
       "2019-2024    14618\n",
       "2011-2018    12706\n",
       "Name: count, dtype: int64"
      ]
     },
     "metadata": {},
     "output_type": "display_data"
    }
   ],
   "source": [
    "Describe_Completion_Date_Year = def_describe('Completion_Date_Year_Counts')\n",
    "display(Describe_Completion_Date_Year)\n",
    "\n",
    "col = 'Completion_Date_Year_Counts'\n",
    "col_categ = 'Completion_Date_Year_Categ'\n",
    "\n",
    "bins = [2011, 2018, 2024] # Covid oriented dates\n",
    "labels = ['2011-2018', '2019-2024']\n",
    "\n",
    "df1[col_categ] = pd.cut(df1[col], bins = bins, labels = labels, ordered = True, include_lowest = True, right = True)\n",
    "df2[col_categ] = pd.cut(df2[col], bins = bins, labels = labels, ordered = True, include_lowest = True, right = True)\n",
    "df3[col_categ] = pd.cut(df3[col], bins = bins, labels = labels, ordered = True, include_lowest = True, right = True)\n",
    "df4[col_categ] = pd.cut(df4[col], bins = bins, labels = labels, ordered = True, include_lowest = True, right = True)\n",
    "\n",
    "display(df1['Completion_Date_Year_Categ'].value_counts(dropna = False))\n"
   ]
  },
  {
   "cell_type": "markdown",
   "metadata": {},
   "source": [
    "## Describe\n",
    "- Choose a good form for the features, as they are almost all skewed.\n",
    "- For the features having the most of distribution i.e., median is around lower values, e.g., 0,1,2, a categorical format is going to be used. \n",
    "- In contrast, values with wider range of values, and median in higher values, performing a more wide distribution, will be analysed as logarithm. Logarythm scale is chosen in order to correct the skeweness. "
   ]
  },
  {
   "cell_type": "code",
   "execution_count": 96,
   "metadata": {},
   "outputs": [],
   "source": [
    "Describe_Enrollment = Describe_Enrollment.loc['50%'].rename('Enrollment')\n",
    "Describe_Adverse = Describe_Adverse.loc['50%'].rename('Adverse')\n",
    "Describe_Adverse_System = Describe_Adverse_System.loc['50%'].rename('Adverse_System')\n",
    "Describe_Arm = Describe_Arm.loc['50%'].rename('Arm')\n",
    "Describe_Intervention_Type = Describe_Intervention_Type.loc['50%'].rename('Intervention_Type')\n",
    "Describe_Intervention_Route = Describe_Intervention_Route.loc['50%'].rename('Intervention_Route')\n",
    "Describe_City = Describe_City.loc['50%'].rename('City')\n",
    "Describe_Country = Describe_Country.loc['50%'].rename('Country')\n",
    "Describe_Continent = Describe_Continent.loc['50%'].rename('Continent')\n",
    "Describe_Completion_Gap = Describe_Completion_Gap.loc['50%'].rename('Completion_Gap') # year dates not used, as they wont be used fo analysis"
   ]
  },
  {
   "cell_type": "code",
   "execution_count": 97,
   "metadata": {},
   "outputs": [
    {
     "data": {
      "application/vnd.microsoft.datawrangler.viewer.v0+json": {
       "columns": [
        {
         "name": "index",
         "rawType": "object",
         "type": "string"
        },
        {
         "name": "Enrollment",
         "rawType": "Float64",
         "type": "float"
        },
        {
         "name": "Adverse",
         "rawType": "Float64",
         "type": "float"
        },
        {
         "name": "Adverse_System",
         "rawType": "Float64",
         "type": "float"
        },
        {
         "name": "Arm",
         "rawType": "Float64",
         "type": "float"
        },
        {
         "name": "Intervention_Type",
         "rawType": "Float64",
         "type": "float"
        },
        {
         "name": "Intervention_Route",
         "rawType": "Float64",
         "type": "float"
        },
        {
         "name": "City",
         "rawType": "Float64",
         "type": "float"
        },
        {
         "name": "Country",
         "rawType": "Float64",
         "type": "float"
        },
        {
         "name": "Continent",
         "rawType": "Float64",
         "type": "float"
        },
        {
         "name": "Completion_Gap",
         "rawType": "Float64",
         "type": "float"
        }
       ],
       "ref": "2d2205ce-98a1-44b8-b406-a3008d8dd710",
       "rows": [
        [
         "df1",
         "28.0",
         "0.0",
         "0.0",
         "2.0",
         "1.0",
         "1.0",
         "1.0",
         "1.0",
         "1.0",
         "14.0"
        ],
        [
         "df2",
         "41.0",
         "0.0",
         "0.0",
         "2.0",
         "1.0",
         "1.0",
         "1.0",
         "1.0",
         "1.0",
         "26.0"
        ],
        [
         "df3",
         "158.0",
         "0.0",
         "0.0",
         "2.0",
         "1.0",
         "1.0",
         "2.0",
         "1.0",
         "1.0",
         "24.0"
        ],
        [
         "df4",
         "60.5",
         "0.0",
         "0.0",
         "2.0",
         "1.0",
         "1.0",
         "1.0",
         "1.0",
         "1.0",
         "21.0"
        ],
        [
         "Mean",
         "71.875",
         "0.0",
         "0.0",
         "2.0",
         "1.0",
         "1.0",
         "1.25",
         "1.0",
         "1.0",
         "21.25"
        ],
        [
         "Median",
         "50.75",
         "0.0",
         "0.0",
         "2.0",
         "1.0",
         "1.0",
         "1.0",
         "1.0",
         "1.0",
         "22.5"
        ]
       ],
       "shape": {
        "columns": 10,
        "rows": 6
       }
      },
      "text/html": [
       "<div>\n",
       "<style scoped>\n",
       "    .dataframe tbody tr th:only-of-type {\n",
       "        vertical-align: middle;\n",
       "    }\n",
       "\n",
       "    .dataframe tbody tr th {\n",
       "        vertical-align: top;\n",
       "    }\n",
       "\n",
       "    .dataframe thead th {\n",
       "        text-align: right;\n",
       "    }\n",
       "</style>\n",
       "<table border=\"1\" class=\"dataframe\">\n",
       "  <thead>\n",
       "    <tr style=\"text-align: right;\">\n",
       "      <th></th>\n",
       "      <th>Enrollment</th>\n",
       "      <th>Adverse</th>\n",
       "      <th>Adverse_System</th>\n",
       "      <th>Arm</th>\n",
       "      <th>Intervention_Type</th>\n",
       "      <th>Intervention_Route</th>\n",
       "      <th>City</th>\n",
       "      <th>Country</th>\n",
       "      <th>Continent</th>\n",
       "      <th>Completion_Gap</th>\n",
       "    </tr>\n",
       "  </thead>\n",
       "  <tbody>\n",
       "    <tr>\n",
       "      <th>df1</th>\n",
       "      <td>28.0</td>\n",
       "      <td>0.0</td>\n",
       "      <td>0.0</td>\n",
       "      <td>2.0</td>\n",
       "      <td>1.0</td>\n",
       "      <td>1.0</td>\n",
       "      <td>1.0</td>\n",
       "      <td>1.0</td>\n",
       "      <td>1.0</td>\n",
       "      <td>14.0</td>\n",
       "    </tr>\n",
       "    <tr>\n",
       "      <th>df2</th>\n",
       "      <td>41.0</td>\n",
       "      <td>0.0</td>\n",
       "      <td>0.0</td>\n",
       "      <td>2.0</td>\n",
       "      <td>1.0</td>\n",
       "      <td>1.0</td>\n",
       "      <td>1.0</td>\n",
       "      <td>1.0</td>\n",
       "      <td>1.0</td>\n",
       "      <td>26.0</td>\n",
       "    </tr>\n",
       "    <tr>\n",
       "      <th>df3</th>\n",
       "      <td>158.0</td>\n",
       "      <td>0.0</td>\n",
       "      <td>0.0</td>\n",
       "      <td>2.0</td>\n",
       "      <td>1.0</td>\n",
       "      <td>1.0</td>\n",
       "      <td>2.0</td>\n",
       "      <td>1.0</td>\n",
       "      <td>1.0</td>\n",
       "      <td>24.0</td>\n",
       "    </tr>\n",
       "    <tr>\n",
       "      <th>df4</th>\n",
       "      <td>60.5</td>\n",
       "      <td>0.0</td>\n",
       "      <td>0.0</td>\n",
       "      <td>2.0</td>\n",
       "      <td>1.0</td>\n",
       "      <td>1.0</td>\n",
       "      <td>1.0</td>\n",
       "      <td>1.0</td>\n",
       "      <td>1.0</td>\n",
       "      <td>21.0</td>\n",
       "    </tr>\n",
       "    <tr>\n",
       "      <th>Mean</th>\n",
       "      <td>71.875</td>\n",
       "      <td>0.0</td>\n",
       "      <td>0.0</td>\n",
       "      <td>2.0</td>\n",
       "      <td>1.0</td>\n",
       "      <td>1.0</td>\n",
       "      <td>1.25</td>\n",
       "      <td>1.0</td>\n",
       "      <td>1.0</td>\n",
       "      <td>21.25</td>\n",
       "    </tr>\n",
       "    <tr>\n",
       "      <th>Median</th>\n",
       "      <td>50.75</td>\n",
       "      <td>0.0</td>\n",
       "      <td>0.0</td>\n",
       "      <td>2.0</td>\n",
       "      <td>1.0</td>\n",
       "      <td>1.0</td>\n",
       "      <td>1.0</td>\n",
       "      <td>1.0</td>\n",
       "      <td>1.0</td>\n",
       "      <td>22.5</td>\n",
       "    </tr>\n",
       "  </tbody>\n",
       "</table>\n",
       "</div>"
      ],
      "text/plain": [
       "        Enrollment  Adverse  Adverse_System  Arm  Intervention_Type  \\\n",
       "df1           28.0      0.0             0.0  2.0                1.0   \n",
       "df2           41.0      0.0             0.0  2.0                1.0   \n",
       "df3          158.0      0.0             0.0  2.0                1.0   \n",
       "df4           60.5      0.0             0.0  2.0                1.0   \n",
       "Mean        71.875      0.0             0.0  2.0                1.0   \n",
       "Median       50.75      0.0             0.0  2.0                1.0   \n",
       "\n",
       "        Intervention_Route  City  Country  Continent  Completion_Gap  \n",
       "df1                    1.0   1.0      1.0        1.0            14.0  \n",
       "df2                    1.0   1.0      1.0        1.0            26.0  \n",
       "df3                    1.0   2.0      1.0        1.0            24.0  \n",
       "df4                    1.0   1.0      1.0        1.0            21.0  \n",
       "Mean                   1.0  1.25      1.0        1.0           21.25  \n",
       "Median                 1.0   1.0      1.0        1.0            22.5  "
      ]
     },
     "execution_count": 97,
     "metadata": {},
     "output_type": "execute_result"
    }
   ],
   "source": [
    "\n",
    "medians = pd.concat([\n",
    "    Describe_Enrollment,\n",
    "    Describe_Adverse,\n",
    "    Describe_Adverse_System,\n",
    "    Describe_Arm,\n",
    "    Describe_Intervention_Type,\n",
    "    Describe_Intervention_Route,\n",
    "    Describe_City,\n",
    "    Describe_Country,\n",
    "    Describe_Continent,\n",
    "    Describe_Completion_Gap,\n",
    "], axis=1)\n",
    "\n",
    "medians = pd.DataFrame(medians)\n",
    "mean_row = medians.mean(axis=0)\n",
    "median_row = medians.median(axis=0)\n",
    "\n",
    "mean_row.name = \"Mean\"\n",
    "median_row.name = 'Median'\n",
    "medians = pd.concat([medians, mean_row.to_frame().T])\n",
    "medians = pd.concat([medians, median_row.to_frame().T])\n",
    "\n",
    "medians"
   ]
  },
  {
   "cell_type": "markdown",
   "metadata": {},
   "source": [
    "# Save dfis"
   ]
  },
  {
   "cell_type": "code",
   "execution_count": 98,
   "metadata": {},
   "outputs": [],
   "source": [
    "df.to_pickle(r\".\\df_data\\df.pkl\")  # pickle better to save dtypes e.g category, period etc. --> csv does not save dtypes\n",
    "df1.to_pickle(r\".\\df_data\\df1.pkl\")\n",
    "df2.to_pickle(r\".\\df_data\\df2.pkl\")\n",
    "df3.to_pickle(r\".\\df_data\\df3.pkl\")\n",
    "df4.to_pickle(r\".\\df_data\\df4.pkl\")\n",
    "medians.to_pickle(r\".\\df_data\\medians.pkl\")"
   ]
  },
  {
   "cell_type": "markdown",
   "metadata": {},
   "source": [
    "# Unused Columns"
   ]
  },
  {
   "cell_type": "markdown",
   "metadata": {},
   "source": [
    "* Study Results: \n",
    "Was not used for analysis, as they are a result of a Study, not a pre-Designed Study characteristic."
   ]
  },
  {
   "cell_type": "markdown",
   "metadata": {},
   "source": [
    "* Primary Outcome Measures/Secondary Outcome Measures/Other Outcome Measures\n",
    "- Was not used for analysis, as they are a result of a Study, not a pre-Designed Study characteristic.\n",
    "- Primary Outcomes are usually pre-designed, as they are the main purpose of the trial. However, it is also associated with the condition/given drug for the condition field of thw trial. Thus, this study is not instrested in how investigators, express the condition/drug field and main outcome of this condition/drug field. "
   ]
  },
  {
   "cell_type": "markdown",
   "metadata": {},
   "source": [
    "\n",
    "* Study_Documents\n",
    "ClinicalTrials.gov Documentation: https://clinicaltrials.gov/policy/protocol-definitions#a1-upload\n",
    "Refers to the type of documents that the study sponsor or principal investigator may add to their study record. These include a study protocol, statistical analysis plan, and informed consent form.\n",
    "\n",
    "- Was not be used for analysis because:\n",
    "- Thousands of missing values. Almost 2/3 of total rows. \n",
    "- Seems data where just not uploaded to clinical trials.gov/db.\n",
    "- As least Protocol is a nessecary predesigned document. Field seems optional to fill in registry.\n",
    "- Study documents, especially protocol, are nessecary for a trial's design. The filling of this field was only made mandatory  after 2017 in Clinical Trials Registry. So most of the trials have missing values in this field. \n",
    "\n",
    "Documents: \n",
    "- ICF (Informed Consent Form)\n",
    "- SAP (Statistical Analysis Plan)\n",
    "- CSR (Clinical Study Report)  --> did not use because its table has less information for documents\n",
    "- STUDY_PROTOCOL\n",
    "- ANALYTIC_CODE --> did not use because its table has less information for documents"
   ]
  },
  {
   "cell_type": "code",
   "execution_count": 99,
   "metadata": {},
   "outputs": [
    {
     "data": {
      "text/plain": [
       "Index(['Study_Status_Bin', 'Sex_List', 'Age_List', 'Phases_List',\n",
       "       'Enrollment_Counts', 'Funder_Industry_Bin', 'Start_Date_Year_Counts',\n",
       "       'Completion_Date_Year_Counts', 'Completion_Gap_Counts',\n",
       "       'Completion_Gap_Log', 'Intervention_Type_List',\n",
       "       'Intervention_Type_Counts', 'Intervention_Route_List',\n",
       "       'Intervention_Route_Counts', 'Placebo_Bin', 'Standard_Care_Bin',\n",
       "       'Healthy_Bin', 'Covid_19_Bin', 'Conditions_Detail_List', 'Adverse_List',\n",
       "       'Adverse_Counts', 'Adverse_Counts_Log', 'Adverse_Bin',\n",
       "       'Adverse_System_List', 'Adverse_System_Counts',\n",
       "       'Adverse_System_Counts_Log', 'Allocation_List',\n",
       "       'Intervention_Model_List', 'Masking_List', 'Masking_Detail_List',\n",
       "       'Primary_Purpose_List', 'Arm_Counts', 'Arm_Counts_Log',\n",
       "       'Country_Counts', 'Country_Counts_Log', 'Continents_List',\n",
       "       'Continent_Counts', 'Continent_Counts_Log', 'City_Counts',\n",
       "       'City_Counts_Log', 'Enrollment_Counts_Log'],\n",
       "      dtype='object')"
      ]
     },
     "execution_count": 99,
     "metadata": {},
     "output_type": "execute_result"
    }
   ],
   "source": [
    "df.columns"
   ]
  }
 ],
 "metadata": {
  "kernelspec": {
   "display_name": "Python 3",
   "language": "python",
   "name": "python3"
  },
  "language_info": {
   "codemirror_mode": {
    "name": "ipython",
    "version": 3
   },
   "file_extension": ".py",
   "mimetype": "text/x-python",
   "name": "python",
   "nbconvert_exporter": "python",
   "pygments_lexer": "ipython3",
   "version": "3.12.10"
  }
 },
 "nbformat": 4,
 "nbformat_minor": 2
}
