{
 "cells": [
  {
   "cell_type": "markdown",
   "id": "bc95e67d",
   "metadata": {},
   "source": [
    "# Libraries"
   ]
  },
  {
   "cell_type": "code",
   "execution_count": 8,
   "id": "3d9a8bd4",
   "metadata": {},
   "outputs": [],
   "source": [
    "import pandas as pd\n",
    "import seaborn as sns\n"
   ]
  },
  {
   "cell_type": "markdown",
   "id": "957060fa",
   "metadata": {},
   "source": [
    "# Load Data\n",
    "- Only on train data. \n",
    "- Test data are 'unseen' --> no sparsity check. "
   ]
  },
  {
   "cell_type": "code",
   "execution_count": 9,
   "id": "09c775bc",
   "metadata": {},
   "outputs": [],
   "source": [
    "df1 = pd.read_pickle(r\".\\df_dummies\\df1_dummies.pkl\")\n",
    "df2 = pd.read_pickle(r\".\\df_dummies\\df2_dummies.pkl\")\n",
    "df3 = pd.read_pickle(r\".\\df_dummies\\df3_dummies.pkl\")\n",
    "df4 = pd.read_pickle(r\".\\df_dummies\\df4_dummies.pkl\")\n"
   ]
  },
  {
   "cell_type": "markdown",
   "id": "6f1caa67",
   "metadata": {},
   "source": [
    "# Resample"
   ]
  },
  {
   "cell_type": "code",
   "execution_count": 10,
   "id": "80705142",
   "metadata": {},
   "outputs": [],
   "source": [
    "def fun_res(dfi):\n",
    "\n",
    "    X = dfi.drop(\"Study_Status_Bin\", axis = 1)\n",
    "    y = dfi[\"Study_Status_Bin\"]\n",
    "\n",
    "    X_train_tts, X_test_tts, y_train_tts, y_test_tts = train_test_split(X, y, test_size = 0.2, stratify = y, random_state = 42)\n",
    "\n",
    "    res = RandomUnderSampler(sampling_strategy = 'auto', random_state = 42)\n",
    "    X_train_res, y_train_res = res.fit_resample(X_train_tts, y_train_tts) \n",
    "    \n",
    "    X_train_res = pd.DataFrame(X_train_res)\n",
    "\n",
    "    return X_train_res, y_train_res\n",
    "\n",
    "X_train1, y_train1 = fun_res(df1)\n",
    "X_train2, y_train2 = fun_res(df2)\n",
    "X_train3, y_train3 = fun_res(df3)\n",
    "X_train4, y_train4 = fun_res(df4)"
   ]
  },
  {
   "cell_type": "markdown",
   "id": "17da5035",
   "metadata": {},
   "source": [
    "# Create X_y dfs"
   ]
  },
  {
   "cell_type": "code",
   "execution_count": 11,
   "id": "0b9e55cb",
   "metadata": {},
   "outputs": [],
   "source": [
    "df1_train = pd.concat([X_train1, y_train1], axis=1)  # X_train y_train have same index\n",
    "df2_train = pd.concat([X_train2, y_train2], axis=1)  # X_train y_train have same index\n",
    "df3_train = pd.concat([X_train3, y_train3], axis=1)  # X_train y_train have same index\n",
    "df4_train = pd.concat([X_train4, y_train4], axis=1)  # X_train y_train have same index"
   ]
  },
  {
   "cell_type": "markdown",
   "id": "695bca6b",
   "metadata": {},
   "source": [
    "# Function"
   ]
  },
  {
   "cell_type": "code",
   "execution_count": 12,
   "id": "977d13f9",
   "metadata": {},
   "outputs": [],
   "source": [
    "# there are no categ_cols. Dropped all due to obvious high spasity risk seen at distribution plots.(see vizual file distributios)\n",
    "# All dfis same cols \n",
    "def fun_sparse(i, dfi, categ_cols):\n",
    "    pivot_tables = []\n",
    "\n",
    "    for col in dfi[categ_cols].columns:\n",
    "        pivot_table = pd.pivot_table(\n",
    "            data = dfi,\n",
    "            index = col,\n",
    "            columns = \"Study_Status_Bin\",\n",
    "            aggfunc = \"size\",\n",
    "            fill_value = 0,\n",
    "            observed = False\n",
    "        ).reset_index()\n",
    "        # Change Column/Element Names of Pivot\n",
    "        pivot_table['Variables'] = col + ' = ' + pivot_table[col].astype(str)\n",
    "        pivot_table.drop(columns=[col], inplace=True)    \n",
    "        # Reindex Column of value\n",
    "        final_cols = ['Variables'] + [c for c in pivot_table.columns if c != 'Variables']\n",
    "        pivot_table = pivot_table[final_cols]\n",
    "        # Connect pivots\n",
    "        pivot_tables.append(pivot_table)\n",
    "    # Merge all pivots\n",
    "    pivot_merged = pd.concat(pivot_tables, ignore_index = True)\n",
    "    pivot_merged = pivot_merged.rename(columns = {0 : f'0 - df{i}', 1 : f'1 - df{i}'})\n",
    "    \n",
    "    return pivot_merged\n"
   ]
  },
  {
   "cell_type": "markdown",
   "id": "0f0c1329",
   "metadata": {},
   "source": [
    "# Categ Pivot"
   ]
  },
  {
   "cell_type": "code",
   "execution_count": 13,
   "id": "7e31d306",
   "metadata": {},
   "outputs": [
    {
     "data": {
      "application/vnd.microsoft.datawrangler.viewer.v0+json": {
       "columns": [
        {
         "name": "index",
         "rawType": "int64",
         "type": "integer"
        },
        {
         "name": "Variables",
         "rawType": "object",
         "type": "string"
        },
        {
         "name": "0 - df1",
         "rawType": "int64",
         "type": "integer"
        },
        {
         "name": "1 - df1",
         "rawType": "int64",
         "type": "integer"
        },
        {
         "name": "0 - df2",
         "rawType": "int64",
         "type": "integer"
        },
        {
         "name": "1 - df2",
         "rawType": "int64",
         "type": "integer"
        },
        {
         "name": "0 - df3",
         "rawType": "int64",
         "type": "integer"
        },
        {
         "name": "1 - df3",
         "rawType": "int64",
         "type": "integer"
        },
        {
         "name": "0 - df4",
         "rawType": "int64",
         "type": "integer"
        },
        {
         "name": "1 - df4",
         "rawType": "int64",
         "type": "integer"
        }
       ],
       "ref": "f663d454-b251-4007-9532-e8336c609da1",
       "rows": [
        [
         "0",
         "Funder_Industry_Bin = 0",
         "694",
         "1104",
         "2367",
         "2619",
         "679",
         "820",
         "1502",
         "1539"
        ],
        [
         "1",
         "Funder_Industry_Bin = 1",
         "1852",
         "1442",
         "1972",
         "1720",
         "1248",
         "1107",
         "345",
         "308"
        ],
        [
         "2",
         "Healthy_Bin = 0",
         "977",
         "1935",
         "3817",
         "4095",
         "1655",
         "1789",
         "1390",
         "1561"
        ],
        [
         "3",
         "Healthy_Bin = 1",
         "1569",
         "611",
         "522",
         "244",
         "272",
         "138",
         "457",
         "286"
        ],
        [
         "4",
         "Placebo_Bin = 0",
         "2058",
         "2154",
         "2754",
         "3052",
         "1198",
         "1114",
         "1411",
         "1383"
        ],
        [
         "5",
         "Placebo_Bin = 1",
         "488",
         "392",
         "1585",
         "1287",
         "729",
         "813",
         "436",
         "464"
        ],
        [
         "6",
         "Standard_Care_Bin = 0",
         "2519",
         "2455",
         "4169",
         "4061",
         "1856",
         "1783",
         "1771",
         "1705"
        ],
        [
         "7",
         "Standard_Care_Bin = 1",
         "27",
         "91",
         "170",
         "278",
         "71",
         "144",
         "76",
         "142"
        ]
       ],
       "shape": {
        "columns": 9,
        "rows": 8
       }
      },
      "text/html": [
       "<div>\n",
       "<style scoped>\n",
       "    .dataframe tbody tr th:only-of-type {\n",
       "        vertical-align: middle;\n",
       "    }\n",
       "\n",
       "    .dataframe tbody tr th {\n",
       "        vertical-align: top;\n",
       "    }\n",
       "\n",
       "    .dataframe thead th {\n",
       "        text-align: right;\n",
       "    }\n",
       "</style>\n",
       "<table border=\"1\" class=\"dataframe\">\n",
       "  <thead>\n",
       "    <tr style=\"text-align: right;\">\n",
       "      <th>Study_Status_Bin</th>\n",
       "      <th>Variables</th>\n",
       "      <th>0 - df1</th>\n",
       "      <th>1 - df1</th>\n",
       "      <th>0 - df2</th>\n",
       "      <th>1 - df2</th>\n",
       "      <th>0 - df3</th>\n",
       "      <th>1 - df3</th>\n",
       "      <th>0 - df4</th>\n",
       "      <th>1 - df4</th>\n",
       "    </tr>\n",
       "  </thead>\n",
       "  <tbody>\n",
       "    <tr>\n",
       "      <th>0</th>\n",
       "      <td>Funder_Industry_Bin = 0</td>\n",
       "      <td>694</td>\n",
       "      <td>1104</td>\n",
       "      <td>2367</td>\n",
       "      <td>2619</td>\n",
       "      <td>679</td>\n",
       "      <td>820</td>\n",
       "      <td>1502</td>\n",
       "      <td>1539</td>\n",
       "    </tr>\n",
       "    <tr>\n",
       "      <th>1</th>\n",
       "      <td>Funder_Industry_Bin = 1</td>\n",
       "      <td>1852</td>\n",
       "      <td>1442</td>\n",
       "      <td>1972</td>\n",
       "      <td>1720</td>\n",
       "      <td>1248</td>\n",
       "      <td>1107</td>\n",
       "      <td>345</td>\n",
       "      <td>308</td>\n",
       "    </tr>\n",
       "    <tr>\n",
       "      <th>2</th>\n",
       "      <td>Healthy_Bin = 0</td>\n",
       "      <td>977</td>\n",
       "      <td>1935</td>\n",
       "      <td>3817</td>\n",
       "      <td>4095</td>\n",
       "      <td>1655</td>\n",
       "      <td>1789</td>\n",
       "      <td>1390</td>\n",
       "      <td>1561</td>\n",
       "    </tr>\n",
       "    <tr>\n",
       "      <th>3</th>\n",
       "      <td>Healthy_Bin = 1</td>\n",
       "      <td>1569</td>\n",
       "      <td>611</td>\n",
       "      <td>522</td>\n",
       "      <td>244</td>\n",
       "      <td>272</td>\n",
       "      <td>138</td>\n",
       "      <td>457</td>\n",
       "      <td>286</td>\n",
       "    </tr>\n",
       "    <tr>\n",
       "      <th>4</th>\n",
       "      <td>Placebo_Bin = 0</td>\n",
       "      <td>2058</td>\n",
       "      <td>2154</td>\n",
       "      <td>2754</td>\n",
       "      <td>3052</td>\n",
       "      <td>1198</td>\n",
       "      <td>1114</td>\n",
       "      <td>1411</td>\n",
       "      <td>1383</td>\n",
       "    </tr>\n",
       "    <tr>\n",
       "      <th>5</th>\n",
       "      <td>Placebo_Bin = 1</td>\n",
       "      <td>488</td>\n",
       "      <td>392</td>\n",
       "      <td>1585</td>\n",
       "      <td>1287</td>\n",
       "      <td>729</td>\n",
       "      <td>813</td>\n",
       "      <td>436</td>\n",
       "      <td>464</td>\n",
       "    </tr>\n",
       "    <tr>\n",
       "      <th>6</th>\n",
       "      <td>Standard_Care_Bin = 0</td>\n",
       "      <td>2519</td>\n",
       "      <td>2455</td>\n",
       "      <td>4169</td>\n",
       "      <td>4061</td>\n",
       "      <td>1856</td>\n",
       "      <td>1783</td>\n",
       "      <td>1771</td>\n",
       "      <td>1705</td>\n",
       "    </tr>\n",
       "    <tr>\n",
       "      <th>7</th>\n",
       "      <td>Standard_Care_Bin = 1</td>\n",
       "      <td>27</td>\n",
       "      <td>91</td>\n",
       "      <td>170</td>\n",
       "      <td>278</td>\n",
       "      <td>71</td>\n",
       "      <td>144</td>\n",
       "      <td>76</td>\n",
       "      <td>142</td>\n",
       "    </tr>\n",
       "  </tbody>\n",
       "</table>\n",
       "</div>"
      ],
      "text/plain": [
       "Study_Status_Bin                Variables  0 - df1  1 - df1  0 - df2  1 - df2  \\\n",
       "0                 Funder_Industry_Bin = 0      694     1104     2367     2619   \n",
       "1                 Funder_Industry_Bin = 1     1852     1442     1972     1720   \n",
       "2                         Healthy_Bin = 0      977     1935     3817     4095   \n",
       "3                         Healthy_Bin = 1     1569      611      522      244   \n",
       "4                         Placebo_Bin = 0     2058     2154     2754     3052   \n",
       "5                         Placebo_Bin = 1      488      392     1585     1287   \n",
       "6                   Standard_Care_Bin = 0     2519     2455     4169     4061   \n",
       "7                   Standard_Care_Bin = 1       27       91      170      278   \n",
       "\n",
       "Study_Status_Bin  0 - df3  1 - df3  0 - df4  1 - df4  \n",
       "0                     679      820     1502     1539  \n",
       "1                    1248     1107      345      308  \n",
       "2                    1655     1789     1390     1561  \n",
       "3                     272      138      457      286  \n",
       "4                    1198     1114     1411     1383  \n",
       "5                     729      813      436      464  \n",
       "6                    1856     1783     1771     1705  \n",
       "7                      71      144       76      142  "
      ]
     },
     "execution_count": 13,
     "metadata": {},
     "output_type": "execute_result"
    }
   ],
   "source": [
    "# train sets\n",
    "categ_cols = [col for col in df3_train.columns if '_Categ' in col or '_Bin' in col and 'Study_Status_Bin' not in col]  \n",
    "\n",
    "pivot_merged1 = fun_sparse(1, df1_train, categ_cols)\n",
    "pivot_merged2 = fun_sparse(2, df2_train, categ_cols)\n",
    "pivot_merged3 = fun_sparse(3, df3_train, categ_cols)\n",
    "pivot_merged4 = fun_sparse(4, df4_train, categ_cols)\n",
    "\n",
    "all_pivots = [pivot_merged1, pivot_merged2, pivot_merged3, pivot_merged4]\n",
    "pivot_merged_train_categ = reduce(lambda left, right: pd.merge(left, right, on=\"Variables\", how=\"outer\"), all_pivots) \n",
    "pivot_merged_train_categ\n"
   ]
  },
  {
   "cell_type": "markdown",
   "id": "ff55510e",
   "metadata": {},
   "source": [
    "# List pivot"
   ]
  },
  {
   "cell_type": "code",
   "execution_count": 14,
   "id": "605ef595",
   "metadata": {},
   "outputs": [
    {
     "data": {
      "application/vnd.microsoft.datawrangler.viewer.v0+json": {
       "columns": [
        {
         "name": "index",
         "rawType": "int64",
         "type": "integer"
        },
        {
         "name": "Variables",
         "rawType": "object",
         "type": "string"
        },
        {
         "name": "0 - df1",
         "rawType": "int64",
         "type": "integer"
        },
        {
         "name": "1 - df1",
         "rawType": "int64",
         "type": "integer"
        },
        {
         "name": "0 - df2",
         "rawType": "int64",
         "type": "integer"
        },
        {
         "name": "1 - df2",
         "rawType": "int64",
         "type": "integer"
        },
        {
         "name": "0 - df3",
         "rawType": "int64",
         "type": "integer"
        },
        {
         "name": "1 - df3",
         "rawType": "int64",
         "type": "integer"
        },
        {
         "name": "0 - df4",
         "rawType": "int64",
         "type": "integer"
        },
        {
         "name": "1 - df4",
         "rawType": "int64",
         "type": "integer"
        }
       ],
       "ref": "1b74d00e-2f02-44c1-85e1-fcb632c3ba5d",
       "rows": [
        [
         "0",
         "Adverse_List_Adv_Death = 0",
         "2363",
         "2333",
         "3209",
         "3308",
         "1289",
         "1479",
         "1582",
         "1656"
        ],
        [
         "1",
         "Adverse_List_Adv_Death = 1",
         "183",
         "213",
         "1130",
         "1031",
         "638",
         "448",
         "265",
         "191"
        ],
        [
         "2",
         "Adverse_List_Adv_Serious = 0",
         "2396",
         "2303",
         "2832",
         "3093",
         "1065",
         "1350",
         "1586",
         "1692"
        ],
        [
         "3",
         "Adverse_List_Adv_Serious = 1",
         "150",
         "243",
         "1507",
         "1246",
         "862",
         "577",
         "261",
         "155"
        ],
        [
         "4",
         "Adverse_List_Adv_Unspecified = 0",
         "2158",
         "2167",
         "2414",
         "2714",
         "991",
         "1252",
         "1438",
         "1571"
        ],
        [
         "5",
         "Adverse_List_Adv_Unspecified = 1",
         "388",
         "379",
         "1925",
         "1625",
         "936",
         "675",
         "409",
         "276"
        ],
        [
         "6",
         "Adverse_System_List_Adv_Syst_Blood, Lymphatic, Endocrine = 0",
         "2413",
         "2321",
         "3292",
         "3347",
         "1475",
         "1544",
         "1729",
         "1776"
        ],
        [
         "7",
         "Adverse_System_List_Adv_Syst_Blood, Lymphatic, Endocrine = 1",
         "133",
         "225",
         "1047",
         "992",
         "452",
         "383",
         "118",
         "71"
        ],
        [
         "8",
         "Adverse_System_List_Adv_Syst_Cardio = 0",
         "2410",
         "2352",
         "3290",
         "3561",
         "1349",
         "1525",
         "1680",
         "1761"
        ],
        [
         "9",
         "Adverse_System_List_Adv_Syst_Cardio = 1",
         "136",
         "194",
         "1049",
         "778",
         "578",
         "402",
         "167",
         "86"
        ],
        [
         "10",
         "Adverse_System_List_Adv_Syst_Ear = 0",
         "2475",
         "2455",
         "3852",
         "3980",
         "1679",
         "1736",
         "1791",
         "1818"
        ],
        [
         "11",
         "Adverse_System_List_Adv_Syst_Ear = 1",
         "71",
         "91",
         "487",
         "359",
         "248",
         "191",
         "56",
         "29"
        ],
        [
         "12",
         "Adverse_System_List_Adv_Syst_Eye = 0",
         "2421",
         "2389",
         "3620",
         "3791",
         "1549",
         "1668",
         "1774",
         "1801"
        ],
        [
         "13",
         "Adverse_System_List_Adv_Syst_Eye = 1",
         "125",
         "157",
         "719",
         "548",
         "378",
         "259",
         "73",
         "46"
        ],
        [
         "14",
         "Adverse_System_List_Adv_Syst_Gastrointestinal = 0",
         "2240",
         "2221",
         "2671",
         "2979",
         "1119",
         "1357",
         "1572",
         "1677"
        ],
        [
         "15",
         "Adverse_System_List_Adv_Syst_Gastrointestinal = 1",
         "306",
         "325",
         "1668",
         "1360",
         "808",
         "570",
         "275",
         "170"
        ],
        [
         "16",
         "Adverse_System_List_Adv_Syst_General = 0",
         "2269",
         "2225",
         "2752",
         "3016",
         "1175",
         "1376",
         "1554",
         "1629"
        ],
        [
         "17",
         "Adverse_System_List_Adv_Syst_General = 1",
         "277",
         "321",
         "1587",
         "1323",
         "752",
         "551",
         "293",
         "218"
        ],
        [
         "18",
         "Adverse_System_List_Adv_Syst_Hepatobiliary = 0",
         "2490",
         "2453",
         "3770",
         "3946",
         "1517",
         "1666",
         "1783",
         "1813"
        ],
        [
         "19",
         "Adverse_System_List_Adv_Syst_Hepatobiliary = 1",
         "56",
         "93",
         "569",
         "393",
         "410",
         "261",
         "64",
         "34"
        ],
        [
         "20",
         "Adverse_System_List_Adv_Syst_Immune System = 0",
         "2487",
         "2459",
         "3911",
         "4041",
         "1650",
         "1764",
         "1784",
         "1828"
        ],
        [
         "21",
         "Adverse_System_List_Adv_Syst_Immune System = 1",
         "59",
         "87",
         "428",
         "298",
         "277",
         "163",
         "63",
         "19"
        ],
        [
         "22",
         "Adverse_System_List_Adv_Syst_Infections = 0",
         "2300",
         "2278",
         "2865",
         "3148",
         "1114",
         "1357",
         "1641",
         "1739"
        ],
        [
         "23",
         "Adverse_System_List_Adv_Syst_Infections = 1",
         "246",
         "268",
         "1474",
         "1191",
         "813",
         "570",
         "206",
         "108"
        ],
        [
         "24",
         "Adverse_System_List_Adv_Syst_Injury, Poisoning, Procedural = 0",
         "2373",
         "2344",
         "3319",
         "3562",
         "1273",
         "1474",
         "1716",
         "1777"
        ],
        [
         "25",
         "Adverse_System_List_Adv_Syst_Injury, Poisoning, Procedural = 1",
         "173",
         "202",
         "1020",
         "777",
         "654",
         "453",
         "131",
         "70"
        ],
        [
         "26",
         "Adverse_System_List_Adv_Syst_Metabolism/ Nutrition = 0",
         "2413",
         "2302",
         "3257",
         "3367",
         "1409",
         "1515",
         "1738",
         "1783"
        ],
        [
         "27",
         "Adverse_System_List_Adv_Syst_Metabolism/ Nutrition = 1",
         "133",
         "244",
         "1082",
         "972",
         "518",
         "412",
         "109",
         "64"
        ],
        [
         "28",
         "Adverse_System_List_Adv_Syst_Musculoskeletal = 0",
         "2309",
         "2285",
         "3058",
         "3299",
         "1313",
         "1460",
         "1677",
         "1749"
        ],
        [
         "29",
         "Adverse_System_List_Adv_Syst_Musculoskeletal = 1",
         "237",
         "261",
         "1281",
         "1040",
         "614",
         "467",
         "170",
         "98"
        ],
        [
         "30",
         "Adverse_System_List_Adv_Syst_Neoplasms = 0",
         "2489",
         "2432",
         "3749",
         "3919",
         "1428",
         "1635",
         "1765",
         "1816"
        ],
        [
         "31",
         "Adverse_System_List_Adv_Syst_Neoplasms = 1",
         "57",
         "114",
         "590",
         "420",
         "499",
         "292",
         "82",
         "31"
        ],
        [
         "32",
         "Adverse_System_List_Adv_Syst_Nervous System = 0",
         "2233",
         "2233",
         "2776",
         "3138",
         "1115",
         "1378",
         "1619",
         "1721"
        ],
        [
         "33",
         "Adverse_System_List_Adv_Syst_Nervous System = 1",
         "313",
         "313",
         "1563",
         "1201",
         "812",
         "549",
         "228",
         "126"
        ],
        [
         "34",
         "Adverse_System_List_Adv_Syst_Product Issues, Investigations = 0",
         "2361",
         "2285",
         "3223",
         "3310",
         "1429",
         "1483",
         "1747",
         "1777"
        ],
        [
         "35",
         "Adverse_System_List_Adv_Syst_Product Issues, Investigations = 1",
         "185",
         "261",
         "1116",
         "1029",
         "498",
         "444",
         "100",
         "70"
        ],
        [
         "36",
         "Adverse_System_List_Adv_Syst_Psychiatric, Social = 0",
         "2412",
         "2346",
         "3319",
         "3539",
         "1395",
         "1524",
         "1723",
         "1785"
        ],
        [
         "37",
         "Adverse_System_List_Adv_Syst_Psychiatric, Social = 1",
         "134",
         "200",
         "1020",
         "800",
         "532",
         "403",
         "124",
         "62"
        ],
        [
         "38",
         "Adverse_System_List_Adv_Syst_Renal, Urinary = 0",
         "2413",
         "2353",
         "3390",
         "3576",
         "1428",
         "1565",
         "1717",
         "1771"
        ],
        [
         "39",
         "Adverse_System_List_Adv_Syst_Renal, Urinary = 1",
         "133",
         "193",
         "949",
         "763",
         "499",
         "362",
         "130",
         "76"
        ],
        [
         "40",
         "Adverse_System_List_Adv_Syst_Reproductive, Pregnancy, Breast = 0",
         "2465",
         "2449",
         "3782",
         "3959",
         "1570",
         "1697",
         "1767",
         "1804"
        ],
        [
         "41",
         "Adverse_System_List_Adv_Syst_Reproductive, Pregnancy, Breast = 1",
         "81",
         "97",
         "557",
         "380",
         "357",
         "230",
         "80",
         "43"
        ],
        [
         "42",
         "Adverse_System_List_Adv_Syst_Respiratory = 0",
         "2324",
         "2286",
         "2963",
         "3214",
         "1232",
         "1433",
         "1646",
         "1735"
        ],
        [
         "43",
         "Adverse_System_List_Adv_Syst_Respiratory = 1",
         "222",
         "260",
         "1376",
         "1125",
         "695",
         "494",
         "201",
         "112"
        ],
        [
         "44",
         "Adverse_System_List_Adv_Syst_Skin = 0",
         "2329",
         "2282",
         "3100",
         "3312",
         "1401",
         "1520",
         "1682",
         "1758"
        ],
        [
         "45",
         "Adverse_System_List_Adv_Syst_Skin = 1",
         "217",
         "264",
         "1239",
         "1027",
         "526",
         "407",
         "165",
         "89"
        ],
        [
         "46",
         "Adverse_System_List_Adv_Syst_Surgical, Medical = 0",
         "2526",
         "2524",
         "4149",
         "4219",
         "1782",
         "1829",
         "1804",
         "1818"
        ],
        [
         "47",
         "Adverse_System_List_Adv_Syst_Surgical, Medical = 1",
         "20",
         "22",
         "190",
         "120",
         "145",
         "98",
         "43",
         "29"
        ],
        [
         "48",
         "Adverse_System_List_Adv_Syst_Vascular = 0",
         "2410",
         "2333",
         "3318",
         "3487",
         "1401",
         "1532",
         "1723",
         "1779"
        ],
        [
         "49",
         "Adverse_System_List_Adv_Syst_Vascular = 1",
         "136",
         "213",
         "1021",
         "852",
         "526",
         "395",
         "124",
         "68"
        ]
       ],
       "shape": {
        "columns": 9,
        "rows": 180
       }
      },
      "text/html": [
       "<div>\n",
       "<style scoped>\n",
       "    .dataframe tbody tr th:only-of-type {\n",
       "        vertical-align: middle;\n",
       "    }\n",
       "\n",
       "    .dataframe tbody tr th {\n",
       "        vertical-align: top;\n",
       "    }\n",
       "\n",
       "    .dataframe thead th {\n",
       "        text-align: right;\n",
       "    }\n",
       "</style>\n",
       "<table border=\"1\" class=\"dataframe\">\n",
       "  <thead>\n",
       "    <tr style=\"text-align: right;\">\n",
       "      <th>Study_Status_Bin</th>\n",
       "      <th>Variables</th>\n",
       "      <th>0 - df1</th>\n",
       "      <th>1 - df1</th>\n",
       "      <th>0 - df2</th>\n",
       "      <th>1 - df2</th>\n",
       "      <th>0 - df3</th>\n",
       "      <th>1 - df3</th>\n",
       "      <th>0 - df4</th>\n",
       "      <th>1 - df4</th>\n",
       "    </tr>\n",
       "  </thead>\n",
       "  <tbody>\n",
       "    <tr>\n",
       "      <th>0</th>\n",
       "      <td>Adverse_List_Adv_Death = 0</td>\n",
       "      <td>2363</td>\n",
       "      <td>2333</td>\n",
       "      <td>3209</td>\n",
       "      <td>3308</td>\n",
       "      <td>1289</td>\n",
       "      <td>1479</td>\n",
       "      <td>1582</td>\n",
       "      <td>1656</td>\n",
       "    </tr>\n",
       "    <tr>\n",
       "      <th>1</th>\n",
       "      <td>Adverse_List_Adv_Death = 1</td>\n",
       "      <td>183</td>\n",
       "      <td>213</td>\n",
       "      <td>1130</td>\n",
       "      <td>1031</td>\n",
       "      <td>638</td>\n",
       "      <td>448</td>\n",
       "      <td>265</td>\n",
       "      <td>191</td>\n",
       "    </tr>\n",
       "    <tr>\n",
       "      <th>2</th>\n",
       "      <td>Adverse_List_Adv_Serious = 0</td>\n",
       "      <td>2396</td>\n",
       "      <td>2303</td>\n",
       "      <td>2832</td>\n",
       "      <td>3093</td>\n",
       "      <td>1065</td>\n",
       "      <td>1350</td>\n",
       "      <td>1586</td>\n",
       "      <td>1692</td>\n",
       "    </tr>\n",
       "    <tr>\n",
       "      <th>3</th>\n",
       "      <td>Adverse_List_Adv_Serious = 1</td>\n",
       "      <td>150</td>\n",
       "      <td>243</td>\n",
       "      <td>1507</td>\n",
       "      <td>1246</td>\n",
       "      <td>862</td>\n",
       "      <td>577</td>\n",
       "      <td>261</td>\n",
       "      <td>155</td>\n",
       "    </tr>\n",
       "    <tr>\n",
       "      <th>4</th>\n",
       "      <td>Adverse_List_Adv_Unspecified = 0</td>\n",
       "      <td>2158</td>\n",
       "      <td>2167</td>\n",
       "      <td>2414</td>\n",
       "      <td>2714</td>\n",
       "      <td>991</td>\n",
       "      <td>1252</td>\n",
       "      <td>1438</td>\n",
       "      <td>1571</td>\n",
       "    </tr>\n",
       "    <tr>\n",
       "      <th>...</th>\n",
       "      <td>...</td>\n",
       "      <td>...</td>\n",
       "      <td>...</td>\n",
       "      <td>...</td>\n",
       "      <td>...</td>\n",
       "      <td>...</td>\n",
       "      <td>...</td>\n",
       "      <td>...</td>\n",
       "      <td>...</td>\n",
       "    </tr>\n",
       "    <tr>\n",
       "      <th>175</th>\n",
       "      <td>Primary_Purpose_List_TREATMENT = 1</td>\n",
       "      <td>1609</td>\n",
       "      <td>1977</td>\n",
       "      <td>3632</td>\n",
       "      <td>3812</td>\n",
       "      <td>1563</td>\n",
       "      <td>1633</td>\n",
       "      <td>1237</td>\n",
       "      <td>1342</td>\n",
       "    </tr>\n",
       "    <tr>\n",
       "      <th>176</th>\n",
       "      <td>Sex_List_FEMALE = 0</td>\n",
       "      <td>2443</td>\n",
       "      <td>2413</td>\n",
       "      <td>3950</td>\n",
       "      <td>4053</td>\n",
       "      <td>1763</td>\n",
       "      <td>1766</td>\n",
       "      <td>1638</td>\n",
       "      <td>1644</td>\n",
       "    </tr>\n",
       "    <tr>\n",
       "      <th>177</th>\n",
       "      <td>Sex_List_FEMALE = 1</td>\n",
       "      <td>103</td>\n",
       "      <td>133</td>\n",
       "      <td>389</td>\n",
       "      <td>286</td>\n",
       "      <td>164</td>\n",
       "      <td>161</td>\n",
       "      <td>209</td>\n",
       "      <td>203</td>\n",
       "    </tr>\n",
       "    <tr>\n",
       "      <th>178</th>\n",
       "      <td>Sex_List_MALE = 0</td>\n",
       "      <td>2147</td>\n",
       "      <td>2388</td>\n",
       "      <td>4177</td>\n",
       "      <td>4164</td>\n",
       "      <td>1875</td>\n",
       "      <td>1871</td>\n",
       "      <td>1787</td>\n",
       "      <td>1805</td>\n",
       "    </tr>\n",
       "    <tr>\n",
       "      <th>179</th>\n",
       "      <td>Sex_List_MALE = 1</td>\n",
       "      <td>399</td>\n",
       "      <td>158</td>\n",
       "      <td>162</td>\n",
       "      <td>175</td>\n",
       "      <td>52</td>\n",
       "      <td>56</td>\n",
       "      <td>60</td>\n",
       "      <td>42</td>\n",
       "    </tr>\n",
       "  </tbody>\n",
       "</table>\n",
       "<p>180 rows × 9 columns</p>\n",
       "</div>"
      ],
      "text/plain": [
       "Study_Status_Bin                           Variables  0 - df1  1 - df1  \\\n",
       "0                         Adverse_List_Adv_Death = 0     2363     2333   \n",
       "1                         Adverse_List_Adv_Death = 1      183      213   \n",
       "2                       Adverse_List_Adv_Serious = 0     2396     2303   \n",
       "3                       Adverse_List_Adv_Serious = 1      150      243   \n",
       "4                   Adverse_List_Adv_Unspecified = 0     2158     2167   \n",
       "..                                               ...      ...      ...   \n",
       "175               Primary_Purpose_List_TREATMENT = 1     1609     1977   \n",
       "176                              Sex_List_FEMALE = 0     2443     2413   \n",
       "177                              Sex_List_FEMALE = 1      103      133   \n",
       "178                                Sex_List_MALE = 0     2147     2388   \n",
       "179                                Sex_List_MALE = 1      399      158   \n",
       "\n",
       "Study_Status_Bin  0 - df2  1 - df2  0 - df3  1 - df3  0 - df4  1 - df4  \n",
       "0                    3209     3308     1289     1479     1582     1656  \n",
       "1                    1130     1031      638      448      265      191  \n",
       "2                    2832     3093     1065     1350     1586     1692  \n",
       "3                    1507     1246      862      577      261      155  \n",
       "4                    2414     2714      991     1252     1438     1571  \n",
       "..                    ...      ...      ...      ...      ...      ...  \n",
       "175                  3632     3812     1563     1633     1237     1342  \n",
       "176                  3950     4053     1763     1766     1638     1644  \n",
       "177                   389      286      164      161      209      203  \n",
       "178                  4177     4164     1875     1871     1787     1805  \n",
       "179                   162      175       52       56       60       42  \n",
       "\n",
       "[180 rows x 9 columns]"
      ]
     },
     "execution_count": 14,
     "metadata": {},
     "output_type": "execute_result"
    }
   ],
   "source": [
    "# train sets\n",
    "list_cols = [col for col in df3_train.columns if '_List' in col and 'Study_Status_Bin' not in col]  \n",
    "\n",
    "pivot_merged1 = fun_sparse(1, df1_train, list_cols)\n",
    "pivot_merged2 = fun_sparse(2, df2_train, list_cols)\n",
    "pivot_merged3 = fun_sparse(3, df3_train, list_cols)\n",
    "pivot_merged4 = fun_sparse(4, df4_train, list_cols)\n",
    "\n",
    "all_pivots = [pivot_merged1, pivot_merged2, pivot_merged3, pivot_merged4]\n",
    "pivot_merged_train_list = reduce(lambda left, right: pd.merge(left, right, on=\"Variables\", how=\"outer\"), all_pivots) \n",
    "pivot_merged_train_list\n",
    "\n"
   ]
  },
  {
   "cell_type": "markdown",
   "id": "2cbde80a",
   "metadata": {},
   "source": [
    "# Zeros"
   ]
  },
  {
   "cell_type": "code",
   "execution_count": 15,
   "id": "0eba212f",
   "metadata": {},
   "outputs": [],
   "source": [
    "def fun_zeros(pivot_merged, count):\n",
    "    sparse = pivot_merged[((pivot_merged.select_dtypes(include='number') < count).any(axis=1))]\n",
    "\n",
    "    return sparse"
   ]
  },
  {
   "cell_type": "code",
   "execution_count": 16,
   "id": "c55c23fb",
   "metadata": {},
   "outputs": [
    {
     "data": {
      "application/vnd.microsoft.datawrangler.viewer.v0+json": {
       "columns": [
        {
         "name": "index",
         "rawType": "int64",
         "type": "integer"
        },
        {
         "name": "Variables",
         "rawType": "object",
         "type": "string"
        },
        {
         "name": "0 - df1",
         "rawType": "int64",
         "type": "integer"
        },
        {
         "name": "1 - df1",
         "rawType": "int64",
         "type": "integer"
        },
        {
         "name": "0 - df2",
         "rawType": "int64",
         "type": "integer"
        },
        {
         "name": "1 - df2",
         "rawType": "int64",
         "type": "integer"
        },
        {
         "name": "0 - df3",
         "rawType": "int64",
         "type": "integer"
        },
        {
         "name": "1 - df3",
         "rawType": "int64",
         "type": "integer"
        },
        {
         "name": "0 - df4",
         "rawType": "int64",
         "type": "integer"
        },
        {
         "name": "1 - df4",
         "rawType": "int64",
         "type": "integer"
        }
       ],
       "ref": "ac9851cd-6391-4b05-a388-41f07d7c0be1",
       "rows": [],
       "shape": {
        "columns": 9,
        "rows": 0
       }
      },
      "text/html": [
       "<div>\n",
       "<style scoped>\n",
       "    .dataframe tbody tr th:only-of-type {\n",
       "        vertical-align: middle;\n",
       "    }\n",
       "\n",
       "    .dataframe tbody tr th {\n",
       "        vertical-align: top;\n",
       "    }\n",
       "\n",
       "    .dataframe thead th {\n",
       "        text-align: right;\n",
       "    }\n",
       "</style>\n",
       "<table border=\"1\" class=\"dataframe\">\n",
       "  <thead>\n",
       "    <tr style=\"text-align: right;\">\n",
       "      <th>Study_Status_Bin</th>\n",
       "      <th>Variables</th>\n",
       "      <th>0 - df1</th>\n",
       "      <th>1 - df1</th>\n",
       "      <th>0 - df2</th>\n",
       "      <th>1 - df2</th>\n",
       "      <th>0 - df3</th>\n",
       "      <th>1 - df3</th>\n",
       "      <th>0 - df4</th>\n",
       "      <th>1 - df4</th>\n",
       "    </tr>\n",
       "  </thead>\n",
       "  <tbody>\n",
       "  </tbody>\n",
       "</table>\n",
       "</div>"
      ],
      "text/plain": [
       "Empty DataFrame\n",
       "Columns: [Variables, 0 - df1, 1 - df1, 0 - df2, 1 - df2, 0 - df3, 1 - df3, 0 - df4, 1 - df4]\n",
       "Index: []"
      ]
     },
     "metadata": {},
     "output_type": "display_data"
    },
    {
     "data": {
      "application/vnd.microsoft.datawrangler.viewer.v0+json": {
       "columns": [
        {
         "name": "index",
         "rawType": "int64",
         "type": "integer"
        },
        {
         "name": "Variables",
         "rawType": "object",
         "type": "string"
        },
        {
         "name": "0 - df1",
         "rawType": "int64",
         "type": "integer"
        },
        {
         "name": "1 - df1",
         "rawType": "int64",
         "type": "integer"
        },
        {
         "name": "0 - df2",
         "rawType": "int64",
         "type": "integer"
        },
        {
         "name": "1 - df2",
         "rawType": "int64",
         "type": "integer"
        },
        {
         "name": "0 - df3",
         "rawType": "int64",
         "type": "integer"
        },
        {
         "name": "1 - df3",
         "rawType": "int64",
         "type": "integer"
        },
        {
         "name": "0 - df4",
         "rawType": "int64",
         "type": "integer"
        },
        {
         "name": "1 - df4",
         "rawType": "int64",
         "type": "integer"
        }
       ],
       "ref": "4c280fdc-ba5c-443b-b219-156fed00aa39",
       "rows": [
        [
         "59",
         "BEHAVIORAL_x_Funder_Industry_List = 1",
         "0",
         "1",
         "14",
         "6",
         "3",
         "1",
         "1",
         "1"
        ],
        [
         "113",
         "DIETARY_SUPPLEMENT_x_Funder_Industry_List = 1",
         "5",
         "3",
         "23",
         "12",
         "7",
         "6",
         "5",
         "1"
        ],
        [
         "117",
         "INTERV_UNSPES_x_Funder_Industry_List = 1",
         "16",
         "27",
         "24",
         "39",
         "20",
         "22",
         "4",
         "5"
        ],
        [
         "165",
         "PROCEDURE_x_Funder_Industry_List = 1",
         "9",
         "8",
         "15",
         "12",
         "12",
         "13",
         "4",
         "7"
        ]
       ],
       "shape": {
        "columns": 9,
        "rows": 4
       }
      },
      "text/html": [
       "<div>\n",
       "<style scoped>\n",
       "    .dataframe tbody tr th:only-of-type {\n",
       "        vertical-align: middle;\n",
       "    }\n",
       "\n",
       "    .dataframe tbody tr th {\n",
       "        vertical-align: top;\n",
       "    }\n",
       "\n",
       "    .dataframe thead th {\n",
       "        text-align: right;\n",
       "    }\n",
       "</style>\n",
       "<table border=\"1\" class=\"dataframe\">\n",
       "  <thead>\n",
       "    <tr style=\"text-align: right;\">\n",
       "      <th>Study_Status_Bin</th>\n",
       "      <th>Variables</th>\n",
       "      <th>0 - df1</th>\n",
       "      <th>1 - df1</th>\n",
       "      <th>0 - df2</th>\n",
       "      <th>1 - df2</th>\n",
       "      <th>0 - df3</th>\n",
       "      <th>1 - df3</th>\n",
       "      <th>0 - df4</th>\n",
       "      <th>1 - df4</th>\n",
       "    </tr>\n",
       "  </thead>\n",
       "  <tbody>\n",
       "    <tr>\n",
       "      <th>59</th>\n",
       "      <td>BEHAVIORAL_x_Funder_Industry_List = 1</td>\n",
       "      <td>0</td>\n",
       "      <td>1</td>\n",
       "      <td>14</td>\n",
       "      <td>6</td>\n",
       "      <td>3</td>\n",
       "      <td>1</td>\n",
       "      <td>1</td>\n",
       "      <td>1</td>\n",
       "    </tr>\n",
       "    <tr>\n",
       "      <th>113</th>\n",
       "      <td>DIETARY_SUPPLEMENT_x_Funder_Industry_List = 1</td>\n",
       "      <td>5</td>\n",
       "      <td>3</td>\n",
       "      <td>23</td>\n",
       "      <td>12</td>\n",
       "      <td>7</td>\n",
       "      <td>6</td>\n",
       "      <td>5</td>\n",
       "      <td>1</td>\n",
       "    </tr>\n",
       "    <tr>\n",
       "      <th>117</th>\n",
       "      <td>INTERV_UNSPES_x_Funder_Industry_List = 1</td>\n",
       "      <td>16</td>\n",
       "      <td>27</td>\n",
       "      <td>24</td>\n",
       "      <td>39</td>\n",
       "      <td>20</td>\n",
       "      <td>22</td>\n",
       "      <td>4</td>\n",
       "      <td>5</td>\n",
       "    </tr>\n",
       "    <tr>\n",
       "      <th>165</th>\n",
       "      <td>PROCEDURE_x_Funder_Industry_List = 1</td>\n",
       "      <td>9</td>\n",
       "      <td>8</td>\n",
       "      <td>15</td>\n",
       "      <td>12</td>\n",
       "      <td>12</td>\n",
       "      <td>13</td>\n",
       "      <td>4</td>\n",
       "      <td>7</td>\n",
       "    </tr>\n",
       "  </tbody>\n",
       "</table>\n",
       "</div>"
      ],
      "text/plain": [
       "Study_Status_Bin                                      Variables  0 - df1  \\\n",
       "59                        BEHAVIORAL_x_Funder_Industry_List = 1        0   \n",
       "113               DIETARY_SUPPLEMENT_x_Funder_Industry_List = 1        5   \n",
       "117                    INTERV_UNSPES_x_Funder_Industry_List = 1       16   \n",
       "165                        PROCEDURE_x_Funder_Industry_List = 1        9   \n",
       "\n",
       "Study_Status_Bin  1 - df1  0 - df2  1 - df2  0 - df3  1 - df3  0 - df4  \\\n",
       "59                      1       14        6        3        1        1   \n",
       "113                     3       23       12        7        6        5   \n",
       "117                    27       24       39       20       22        4   \n",
       "165                     8       15       12       12       13        4   \n",
       "\n",
       "Study_Status_Bin  1 - df4  \n",
       "59                      1  \n",
       "113                     1  \n",
       "117                     5  \n",
       "165                     7  "
      ]
     },
     "metadata": {},
     "output_type": "display_data"
    }
   ],
   "source": [
    "# train sets\n",
    "sparse_categ_train = fun_zeros(pivot_merged_train_categ, 5)  # Bin columns are all ok\n",
    "display(sparse_categ_train)\n",
    "sparse_list_train = fun_zeros(pivot_merged_train_list, 5)\n",
    "display(sparse_list_train)\n"
   ]
  },
  {
   "cell_type": "markdown",
   "id": "584d9452",
   "metadata": {},
   "source": [
    "# Merge/Drop Categories for sparse data. \n",
    "- Some categories have been merged from Thesis_data file from whole dataset (df). Those were obviously much less compared to dataset. \n",
    "- Some categories have been merged fom vizual file. As they created sparse data and inf coeffs in logisitc models output. IN vizual file there was no train_test split, so they were already obviously sparse.\n",
    "- Some categories were merged after displayed here as 'risky for sparse' data. They were not merged in this file, in order to not to have different merged levels spare in files. \n",
    "\n",
    "- Some columns were dropped here. These columns are iteraction dummy columns, which had too little sample e.g, < 5\n"
   ]
  },
  {
   "cell_type": "code",
   "execution_count": 17,
   "id": "f5d6afda",
   "metadata": {},
   "outputs": [],
   "source": [
    "def fun_drop_cols(dfi):\n",
    "    cols = ['BEHAVIORAL_x_Funder_Industry_List', 'DIETARY_SUPPLEMENT_x_Funder_Industry_List', \n",
    "     'INTERV_UNSPES_x_Funder_Industry_List', 'PROCEDURE_x_Funder_Industry_List']\n",
    "    dfi = dfi.drop(columns = cols, axis = 1)\n",
    "    return dfi\n",
    "\n",
    "df1 = fun_drop_cols(df1)\n",
    "df2 = fun_drop_cols(df2)\n",
    "df3 = fun_drop_cols(df3)\n",
    "df4 = fun_drop_cols(df4)"
   ]
  },
  {
   "cell_type": "markdown",
   "id": "930270f2",
   "metadata": {},
   "source": [
    "# Save Dfis"
   ]
  },
  {
   "cell_type": "code",
   "execution_count": 18,
   "id": "4657e548",
   "metadata": {},
   "outputs": [],
   "source": [
    "df1.to_pickle(r\".\\df_sparse\\df1_sparse.pkl\")\n",
    "df2.to_pickle(r\".\\df_sparse\\df2_sparse.pkl\")\n",
    "df3.to_pickle(r\".\\df_sparse\\df3_sparse.pkl\")\n",
    "df4.to_pickle(r\".\\df_sparse\\df4_sparse.pkl\")"
   ]
  }
 ],
 "metadata": {
  "kernelspec": {
   "display_name": "Python 3",
   "language": "python",
   "name": "python3"
  },
  "language_info": {
   "codemirror_mode": {
    "name": "ipython",
    "version": 3
   },
   "file_extension": ".py",
   "mimetype": "text/x-python",
   "name": "python",
   "nbconvert_exporter": "python",
   "pygments_lexer": "ipython3",
   "version": "3.12.10"
  }
 },
 "nbformat": 4,
 "nbformat_minor": 5
}
