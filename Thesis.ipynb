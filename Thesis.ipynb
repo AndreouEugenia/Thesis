{
 "cells": [
  {
   "cell_type": "markdown",
   "metadata": {},
   "source": [
    "# Libraries"
   ]
  },
  {
   "cell_type": "code",
   "execution_count": 161,
   "metadata": {},
   "outputs": [],
   "source": [
    "import pandas as pd\n",
    "import numpy as np\n",
    "import datetime as dt\n",
    "import time\n",
    "import geonamescache \n",
    "from geopy.geocoders import Nominatim\n",
    "from geopy.geocoders import GoogleV3\n",
    "import re\n",
    "import pycountry\n",
    "from collections import Counter\n",
    "from sklearn.preprocessing import MultiLabelBinarizer\n",
    "from sklearn.preprocessing import OrdinalEncoder\n",
    "import pickle\n"
   ]
  },
  {
   "cell_type": "markdown",
   "metadata": {},
   "source": [
    "# 1) Sql Tables"
   ]
  },
  {
   "cell_type": "code",
   "execution_count": 162,
   "metadata": {},
   "outputs": [],
   "source": [
    "my_studies = pd.read_pickle(\"my_studies.pkl\")\n",
    "my_terminations = pd.read_pickle(\"my_terminations.pkl\")  \n",
    "my_terminations2 = pd.read_pickle(\"my_terminations2.pkl\")  \n",
    "my_conditions = pd.read_pickle(\"my_conditions.pkl\")  \n",
    "my_covid = pd.read_pickle(\"my_covid.pkl\")  \n",
    "my_placebo = pd.read_pickle(\"my_placebo.pkl\")  \n",
    "my_interventions = pd.read_pickle(\"my_interventions.pkl\")  \n",
    "my_interventions_types = pd.read_pickle(\"my_interventions_types.pkl\")  \n",
    "my_soc = pd.read_pickle(\"my_soc.pkl\")  \n",
    "my_intervention_methods2 = pd.read_pickle(\"my_intervention_methods2.pkl\")  \n",
    "my_intervention_methods = pd.read_pickle(\"my_intervention_methods.pkl\")  \n",
    "my_adverse = pd.read_pickle(\"my_adverse.pkl\")  \n",
    "my_adverse_system = pd.read_pickle(\"my_adverse_system.pkl\")  \n",
    "my_designs = pd.read_pickle(\"my_designs.pkl\")  \n",
    "my_eligibilities = pd.read_pickle(\"my_eligibilities.pkl\")  \n",
    "my_outcomes = pd.read_pickle(\"my_outcomes.pkl\")  \n",
    "my_locations = pd.read_pickle(\"my_locations.pkl\")  \n",
    "my_documents = pd.read_pickle(\"my_documents.pkl\")  "
   ]
  },
  {
   "cell_type": "markdown",
   "metadata": {},
   "source": [
    "# 2) Load Data"
   ]
  },
  {
   "cell_type": "markdown",
   "metadata": {},
   "source": [
    "### Load Data"
   ]
  },
  {
   "cell_type": "code",
   "execution_count": 163,
   "metadata": {},
   "outputs": [
    {
     "data": {
      "application/vnd.microsoft.datawrangler.viewer.v0+json": {
       "columns": [
        {
         "name": "index",
         "rawType": "int64",
         "type": "integer"
        },
        {
         "name": "nct_id",
         "rawType": "object",
         "type": "string"
        },
        {
         "name": "Study Title",
         "rawType": "object",
         "type": "string"
        },
        {
         "name": "Study URL",
         "rawType": "object",
         "type": "string"
        },
        {
         "name": "Acronym",
         "rawType": "object",
         "type": "unknown"
        },
        {
         "name": "Study Status",
         "rawType": "object",
         "type": "string"
        },
        {
         "name": "Brief Summary",
         "rawType": "object",
         "type": "string"
        },
        {
         "name": "Study Results",
         "rawType": "object",
         "type": "string"
        },
        {
         "name": "Conditions",
         "rawType": "object",
         "type": "string"
        },
        {
         "name": "Interventions",
         "rawType": "object",
         "type": "string"
        },
        {
         "name": "Primary Outcome Measures",
         "rawType": "object",
         "type": "string"
        },
        {
         "name": "Secondary Outcome Measures",
         "rawType": "object",
         "type": "string"
        },
        {
         "name": "Other Outcome Measures",
         "rawType": "object",
         "type": "unknown"
        },
        {
         "name": "Sponsor",
         "rawType": "object",
         "type": "string"
        },
        {
         "name": "Collaborators",
         "rawType": "object",
         "type": "unknown"
        },
        {
         "name": "Sex",
         "rawType": "object",
         "type": "string"
        },
        {
         "name": "Age",
         "rawType": "object",
         "type": "string"
        },
        {
         "name": "Phases",
         "rawType": "object",
         "type": "unknown"
        },
        {
         "name": "Enrollment",
         "rawType": "float64",
         "type": "float"
        },
        {
         "name": "Funder Type",
         "rawType": "object",
         "type": "string"
        },
        {
         "name": "Study Type",
         "rawType": "object",
         "type": "string"
        },
        {
         "name": "Study Design",
         "rawType": "object",
         "type": "string"
        },
        {
         "name": "Other IDs",
         "rawType": "object",
         "type": "string"
        },
        {
         "name": "Start Date",
         "rawType": "object",
         "type": "string"
        },
        {
         "name": "Primary Completion Date",
         "rawType": "object",
         "type": "string"
        },
        {
         "name": "Completion Date",
         "rawType": "object",
         "type": "string"
        },
        {
         "name": "First Posted",
         "rawType": "object",
         "type": "string"
        },
        {
         "name": "Results First Posted",
         "rawType": "object",
         "type": "unknown"
        },
        {
         "name": "Last Update Posted",
         "rawType": "object",
         "type": "string"
        },
        {
         "name": "Locations",
         "rawType": "object",
         "type": "string"
        },
        {
         "name": "Study Documents",
         "rawType": "object",
         "type": "unknown"
        }
       ],
       "ref": "9f0e4d31-79dd-4b3d-95ce-ea0d6834e900",
       "rows": [
        [
         "0",
         "NCT04385680",
         "Chlorhexidine Vaginal Preparation for Reduction of Post-cesarean Endometritis and Sepsis",
         "https://clinicaltrials.gov/study/NCT04385680",
         null,
         "COMPLETED",
         "The study aims to assess the beneficial value of vaginal preparation with chlorhexidine gluconate 0.05% before cesarean delivery of cases in labor in reduction of postoperative endometritis, fever and wound complications compared to no preparation or using saline only.",
         "NO",
         "Postpartum Endometritis|Wound Infection|Chlorhexidine Adverse Reaction|Postoperative Fever",
         "DRUG: Chlorhexidine Gluconate vaginal solution 0.05%",
         "post-cesarean endometritis, uterine fundal tenderness on bimanual examination ( physical examination: suprapubic tenderness, pain elicited by cervical motion, tenderness in parametrium, all during bimanual examination) + with fever (An oral temperature of 38°C or higher within the first 10 days postpartum or 38.7°C within the first 24 hours postpartum) ± purulent lochia requiring antibiotic therapy ( initial antibiotic will be started then waiting for proper therapy according to culture and sensitivity, First 10 days post-cesarean|Postoperative wound infection, erythema, warmth, tenderness, purulent drainage from the incision site, with or without fever, requiring antibiotic therapy., First month after cesarean",
         "Significant leukocytosis, increase of WBCs count \\> 50% from preoperative count, First 10 days postcesarean|Chlorhexidine adverse drug reaction, maternal or neonatal allergy or irritation, First 10 days|incidence of hospital readmission, percent of cases needed readmission in both arms, One month|length of hospital stay, duration of hospitalization due to endometritis, One month",
         null,
         "Zagazig University",
         null,
         "FEMALE",
         "ADULT, OLDER_ADULT",
         "PHASE1|PHASE2",
         "840.0",
         "OTHER_GOV",
         "INTERVENTIONAL",
         "Allocation: RANDOMIZED|Intervention Model: PARALLEL|Masking: SINGLE (PARTICIPANT)|Primary Purpose: PREVENTION",
         "chlorhex. post cs endometritis",
         "2020-05-15",
         "2022-03-10",
         "2022-08-30",
         "2020-05-13",
         null,
         "2022-09-23",
         "Armed Forces Hospitals Southern Region, Khamis Mushait, 62411, Saudi Arabia",
         null
        ],
        [
         "1",
         "NCT05017480",
         "A Study to Evaluate the Efficacy and Safety of CBP-201 in Moderate to Severe Atopic Dermatitis in China",
         "https://clinicaltrials.gov/study/NCT05017480",
         null,
         "COMPLETED",
         "This study will evaluate the efficacy and safety of CBP-201 in Chinese subjects with moderate to severe atopic dermatitis.",
         "YES",
         "Moderate-to-severe Atopic Dermatitis",
         "DRUG: CBP-201|DRUG: Placebo",
         "Investigator Global Assessment (IGA) (0-1), The percentage of subjects whose IGA score is 0-1 and decreased by ≥2 points\n\nThe Validated Investigator Global Assessment for AD (vIGA-AD™) Scale is a 5-point classification scale based on the overall appearance of the skin lesions at a specific time point (0=clear; 1=almost clear; 2=mild; 3=moderate; 4=severe)., Baseline to Week16",
         "Eczema Area and Severity Index (EASI)-75, The percentage of subjects achieving EASI-75 (EASI score is decreased by ≥75% from baseline)\n\nThe total EASI score ranges from 0 (lowest) to 72 (highest); the higher the score, the higher the severity of AD (more severe)., Baseline to Week16|Change in Peak Pruritus Numerical Rating Scale(PP-NRS) (Decreased by ≥ 4 Points), The percentage of subjects whose weekly average PP-NRS is decreased by ≥ 4 points\n\nThe score ranges from 0 to 10, in which 0 represents \"no pruritus\" and 10 \"worst imaginable pruritus\"., Baseline to Week16|Change in Peak Pruritus Numerical Rating Scale(PP-NRS) (Decreased by ≥ 3 Points), The percentage of subjects whose weekly average PP-NRS is decreased by ≥ 3 points\n\nThe score ranges from 0 to 10, in which 0 represents \"no pruritus\" and 10 \"worst imaginable pruritus\"., Baseline to Week16|Change in the Weekly Average Peak Pruritus Numerical Rating Scale(PP-NRS), Change in the weekly average PP-NRS\n\nThe score ranges from 0 to 10, in which 0 represents \"no pruritus\" and 10 \"worst imaginable pruritus\"., Baseline to Week16|Eczema Area and Severity Index (EASI)-90, The percentage of subjects achieving EASI-90 (EASI score is decreased by ≥90% from baseline)\n\nThe total EASI score ranges from 0 (lowest) to 72 (highest); the higher the score, the higher the severity of AD (more severe)., Baseline to Week16|Percentage Change in the Weekly Average Peak Pruritus Numerical Rating Scale(PP-NRS), Percentage change in the weekly average PP-NRS\n\nThe score ranges from 0 to 10, in which 0 represents \"no pruritus\" and 10 \"worst imaginable pruritus\"., Baseline to Week16",
         null,
         "Suzhou Connect Biopharmaceuticals, Ltd.",
         null,
         "ALL",
         "CHILD, ADULT, OLDER_ADULT",
         "PHASE2",
         "330.0",
         "INDUSTRY",
         "INTERVENTIONAL",
         "Allocation: RANDOMIZED|Intervention Model: PARALLEL|Masking: QUADRUPLE (PARTICIPANT, CARE_PROVIDER, INVESTIGATOR, OUTCOMES_ASSESSOR)|Primary Purpose: TREATMENT",
         "CBP-201-CN002",
         "2021-08-31",
         "2022-12-01",
         "2023-09-28",
         "2021-08-23",
         "2024-05-01",
         "2024-05-01",
         "Connect Investigative Site 33, Hefei, Anhui, China|Connect Investigative Site 01, Beijing, Beijing, China|Connect Investigative Site 02, Beijing, Beijing, China|Connect Investigative Site 03, Beijing, Beijing, China|Connect Investigative Site 17, Beijing, Beijing, China|Connect Investigative Site 47, Beijing, Beijing, China|Connect Investigative Site 28, Chongqing, Chongqing, China|Connect Investigative Site 29, Chongqing, Chongqing, China|Connect Investigative Site 30, Chongqing, Chongqing, China|Connect Investigative Site 36, Chongqing, Chongqing, China|Connect Investigative Site 38, Fuzhou, Fujian, China|Connect Investigative Site 07, Guangzhou, Guangdong, China|Connect Investigative Site 25, Guangzhou, Guangdong, China|Connect Investigative Site 37, Guangzhou, Guangdong, China|Connect Investigative Site 46, Guangzhou, Guangdong, China|Connect Investigative Site 48, Guangzhou, Guangdong, China|Connect Investigative Site 43, Shaoguan, Guangdong, China|Connect Investigative Site 52, Shenzhen, Guangdong, China|Connect Investigative Site 41, Haikou, Hainan, China|Connect Investigative Site 42, Haikou, Hainan, China|Connect Investigative Site 20, Zhengzhou, He'an, China|Connect Investigative Site 32, Shijiazhuang, Hebei, China|Connect Investigative Site 45, Nanyang, Henan, China|Connect Investigative Site 54, Xinxiang, Henan, China|Connect Investigative Site 49, Wuhan, Hubei, China|Connect Investigative Site 35, Baotou, Inner Mongolia, China|Connect Investigative Site 26, Nanjing, Jiangsu, China|Connect Investigative Site 18, Suzhou, Jiangsu, China|Connect Investigative Site 55, Wuxi, Jiangsu, China|Connect Investigative Site 10, Zhenjiang, Jiangsu, China|Connect Investigative Site 34, Nanchang, Jiangxi, China|Connect Investigative Site 44, Yinchuan, Ningxia, China|Connect Investigative Site 11, Jinan, Shandong, China|Connect Investigative Site 50, Jinan, Shandong, China|Connect Investigative Site 51, Jinan, Shandong, China|Connect Investigative Site 12, Yantai, Shandong, China|Connect Investigative Site 08, Taiyuan, Shanxi, China|Connect Investigative Site 24, Taiyuan, Shanxi, China|Connect Investigative Site 39, Yuncheng, Shanxi, China|Connect Investigative Site 05, Tianjin, Tianjin, China|Connect Investigative Site 06, Tianjin, Tianjin, China|Connect Investigative Site 13, Shanxi, Xi'an, China|Connect Investigative Site 22, Ürümqi, Xinjiang, China|Connect Investigative Site 53, Qujing, Yunnan, China|Connect Investigative Site 14, Hangzhou, Zhejiang, China|Connect Investigative Site 15, Hangzhou, Zhejiang, China|Connect Investigative Site 16, Hangzhou, Zhejiang, China|Connect Investigative Site 19, Jinhua, Zhejiang, China",
         "Study Protocol, https://cdn.clinicaltrials.gov/large-docs/80/NCT05017480/Prot_000.pdf|Statistical Analysis Plan, https://cdn.clinicaltrials.gov/large-docs/80/NCT05017480/SAP_001.pdf"
        ],
        [
         "2",
         "NCT01136980",
         "Randomized EsophyX Versus Sham / Placebo Controlled TIF Trial: The RESPECT Study",
         "https://clinicaltrials.gov/study/NCT01136980",
         "RESPECT",
         "COMPLETED",
         "The objective of the study is to evaluate the relative merits, safety and effectiveness of the EsophyX transoral device in performing an advanced TIF procedure in patients with \"troublesome symptoms\" as defined by the Montreal consensus definition while on PPIs compared with sham and placebo controls.",
         "YES",
         "Gastroesophageal Reflux Disease|Hiatal Hernia",
         "DEVICE: TIF Transoral Fundoplication|OTHER: Sham placebo procedure",
         "Number of Participants With a Clinically Significant Reduction in Gastroesophageal Reflux Disease (GERD) Symptoms (Specifically \"Troublesome\" Regurgitation With or Without Heartburn as Assessed by the RDQ Per the Montreal Consensus Definition,, Primary efficacy Hypothesis 1: At 6-month follow-up, the proportion of Transesophageal Incisionless Fundoplication (TIF)2+Placebo pts who are free of \"troublesome\" symptoms will be statistically significantly larger than those randomized to the Sham+PPI (Proton Pump Inhibitor) treatment group., 6 month follow up",
         "Normalization of Esophageal Acid Exposure - as Measured by DeMeester Score, DeMeester Score is a composite score taking into consideration reflux episodes, percentage of time pH is \\< 4 and others. DMS was first reported in 1974 by Johnson and DeMeester. It is a composite score that measures acid exposure during prolonged ambulatory pH monitoring. The parameters that constitute the score are:\n\n1. total number of episodes of reflux, - reflux is undesirable, therefore lower numbers are better, higher numbers are worse. Ideally there would be zero reflux episodes.\n2. % total time esophageal pH \\< 4, upright position and supine position, respectively - pH \\< 4 is undesirable, therefor lower percentages are better\n3. number of episodes longer than 5 minutes, - lower is better\n4. maximal reflux duration, (reflux is undesirable - lower is better\n5. total percentage of time with pH below 4 - below 4 is undesirable - lower is better\n\nThe composite score can be obtained by adding the scores calculated for each of the six components., 6 months post procedure",
         null,
         "EndoGastric Solutions",
         null,
         "ALL",
         "ADULT, OLDER_ADULT",
         null,
         "129.0",
         "INDUSTRY",
         "INTERVENTIONAL",
         "Allocation: RANDOMIZED|Intervention Model: PARALLEL|Masking: SINGLE (PARTICIPANT)|Primary Purpose: TREATMENT",
         "D01010",
         "2011-04",
         "2015-04",
         "2018-03",
         "2010-06-04",
         "2021-12-03",
         "2021-12-03",
         "Cedars Sinai Medical Center, Los Angeles, California, 90048, United States|SurgOne PC, Englewood, Colorado, 80110, United States|Northwestern University, Chicago, Illinois, 60611, United States|Ohio State University Hospital, Columbus, Ohio, 43211, United States|The Oregon Clinic, Portland, Oregon, 97210, United States|Oregon Health and Science University, Portland, Oregon, 97239, United States|University of Texas, Health Science Center at Houston, Houston, Texas, 77401, United States|Reston Surgical Associates, Reston, Virginia, 20190, United States|University of Washington, Seattle, Washington, 98195, United States",
         null
        ],
        [
         "3",
         "NCT01560780",
         "Prasugrel for Prevention of Early Saphenous Vein Graft Thrombosis",
         "https://clinicaltrials.gov/study/NCT01560780",
         null,
         "COMPLETED",
         "This is a randomized-controlled clinical trial that will randomize 120 patients undergoing clinically-indicated coronary artery bypass graft surgery to prasugrel at a dose of 10 mg daily or matching placebo for 12 months, starting at the time of hospital dismissal from surgery. The primary goal of the study is to determine whether prasugrel administration will prevent thrombus (clot) formation within a saphenous vein graft at 12 months, as examined by optical coherence tomography.",
         "YES",
         "Coronary Artery Bypass",
         "DRUG: Prasugrel|DRUG: Placebo",
         "Prevalence of Intragraft Thrombus at 12-month Follow-up Optical Coherence Tomography Imaging, Number of patients with intragraft thrombus seen at 12 month follow-up by optical coherence tomography in imaged saphenous vein graft, 12 months",
         "Number of Patients With Severe Bleeding Using the Global Utilization of Streptokinase and t-PA for Occluded Coronary Arteries (GUSTO) Criteria, Number of patients with major bleeding defined by the Global Utilization of Streptokinase and t-PA for Occluded Coronary Arteries criteria., 12 months|Number of Patients With Angiographic Saphenous Vein Graft Failure, Number of patients with angiographic saphenous vein graft failure (defined as =75% SVG diameter stenosis in at least one saphenous vein graft), 12 months|Total Target Saphenous Vein Graft Atheroma Volume, as Assessed by Intravascular Ultrasonography, Total target saphenous vein graft atheroma volume (mm3) as assessed by Intravascular ultrasound imaging in imaged saphenous vein grafts., 12 months|Saphenous Vein Graft Lipid Core Burden Index, as Assessed at Near-infrared Intracoronary Spectroscopy, Lipid core burden as measured by Lipid Core Burden Index on near infrared intracoronary spectroscopy imaging of saphenous vein graft. Lipid Core Burden Index is defined as the fraction of pixels within the scanned region with a probability \\>0.60 that a lipid core plaque is present (calculated by an algorithm developed to identify the NIRS signals associated with the molecular structure of lipids), multiplied by 1000 using EchoPlaque software (INDEC Medical Systems; Los Altos, CA) . Thus, the lipid core burden index (LCBI) is a quantitative summary metric of the probability of the presence of lipid within the scanned region, with a range of 0-1000, with higher indices indicating a higher proportion of pixels with a \\>0.6 probability of lipid being present in the pullback of the catheter along the length of the entire vessel., 12 months|Major Adverse Cardiac Events, Defined as the Composite of Death, Acute Coronary Syndrome, or Coronary Revascularization) During Follow-up, Number of patients with the composite outcome of death, acute coronary syndrome, or coronary revascularization., 12 months|Normalized Total Target Saphenous Vein Graft Atheroma Volume, as Assessed by Intravascular Ultrasonography, On IVUS images, atheroma volume was defined as the sum of the cross-sectional areas between the leading edges of the lumen and external elastic membrane. Total Target SVG atheroma volume was calculated as:\n\n∑(EEM area - Lumen area).\n\nNormalized atheroma volume represents the atheroma volume corrected for pullback length, and this parameter was calculated as:\n\n∑(EEM area - Lumen area)/number of frames in pullback, 12 months",
         null,
         "VA Office of Research and Development",
         null,
         "ALL",
         "ADULT, OLDER_ADULT",
         "PHASE3",
         "84.0",
         "FED",
         "INTERVENTIONAL",
         "Allocation: RANDOMIZED|Intervention Model: PARALLEL|Masking: QUADRUPLE (PARTICIPANT, CARE_PROVIDER, INVESTIGATOR, OUTCOMES_ASSESSOR)|Primary Purpose: TREATMENT",
         "CLIN-007-11F",
         "2013-02-01",
         "2018-04-30",
         "2018-05-31",
         "2012-03-22",
         "2019-10-09",
         "2019-10-30",
         "San Francisco VA Medical Center, San Francisco, CA, San Francisco, California, 94121, United States|North Florida/South Georgia Veterans Health System, Gainesville, FL, Gainesville, Florida, 32608, United States|Jesse Brown VA Medical Center Community-Based Outpatient Clinic Lake Side Divison, Chicago, IL, Chicago, Illinois, 60611, United States|VA North Texas Health Care System Dallas VA Medical Center, Dallas, TX, Dallas, Texas, 75216, United States",
         "Study Protocol and Statistical Analysis Plan, https://cdn.clinicaltrials.gov/large-docs/80/NCT01560780/Prot_SAP_000.pdf"
        ],
        [
         "4",
         "NCT03447080",
         "Co-ingestion of Rice Bran Soymilk or Plain Soymilk With White Bread: Effects on the Glycaemic and Insulinaemic Response",
         "https://clinicaltrials.gov/study/NCT03447080",
         null,
         "COMPLETED",
         "bread and that rice-bran soymilk will have an additional beneficial effect on the glucose and insulin The proposed research project is important because it will provide, for the first time, evidence on the benefits of the addition of rice-bran to soymilk by measuring the acute effect on the glycaemic and insulinaemic response in co-consumption with a high GI meal in Asians. Investigators hypothesize that soymilk will lower the glycaemic and insulinaemic response of white response. This will have an important implication for public health as investigators will understand better how additional dietary fibre can improve the local diet which is typically of high GI values. Ultimately, results from this project will enable the development of dietary recommendations for better glycaemic control in Asian people.",
         "NO",
         "Diabetes Mellitus, Type 2",
         "OTHER: Control|OTHER: Control|OTHER: Ricebran soybean milk|OTHER: Soybean milk",
         "Change in postprandial blood glucose over 180 minutes period, Blood obtained through fingerprick, analysed using Hemocue analyser., 180 minutes",
         "Change in postprandial plasma insulin over 180 minutes period, Venous blood obtain through cannula, analysed using Cobas analyser., 180 minutes",
         null,
         "Singapore Institute of Food and Biotechnology Innovation",
         null,
         "MALE",
         "ADULT",
         null,
         "17.0",
         "OTHER_GOV",
         "INTERVENTIONAL",
         "Allocation: RANDOMIZED|Intervention Model: CROSSOVER|Masking: NONE|Primary Purpose: OTHER",
         "2017/00286",
         "2017-06-02",
         "2019-01-18",
         "2019-01-18",
         "2018-02-27",
         null,
         "2019-05-13",
         "Clinical Nutrition Reseach Centre, Singapore, 117599, Singapore",
         null
        ]
       ],
       "shape": {
        "columns": 30,
        "rows": 5
       }
      },
      "text/html": [
       "<div>\n",
       "<style scoped>\n",
       "    .dataframe tbody tr th:only-of-type {\n",
       "        vertical-align: middle;\n",
       "    }\n",
       "\n",
       "    .dataframe tbody tr th {\n",
       "        vertical-align: top;\n",
       "    }\n",
       "\n",
       "    .dataframe thead th {\n",
       "        text-align: right;\n",
       "    }\n",
       "</style>\n",
       "<table border=\"1\" class=\"dataframe\">\n",
       "  <thead>\n",
       "    <tr style=\"text-align: right;\">\n",
       "      <th></th>\n",
       "      <th>nct_id</th>\n",
       "      <th>Study Title</th>\n",
       "      <th>Study URL</th>\n",
       "      <th>Acronym</th>\n",
       "      <th>Study Status</th>\n",
       "      <th>Brief Summary</th>\n",
       "      <th>Study Results</th>\n",
       "      <th>Conditions</th>\n",
       "      <th>Interventions</th>\n",
       "      <th>Primary Outcome Measures</th>\n",
       "      <th>Secondary Outcome Measures</th>\n",
       "      <th>Other Outcome Measures</th>\n",
       "      <th>Sponsor</th>\n",
       "      <th>Collaborators</th>\n",
       "      <th>Sex</th>\n",
       "      <th>Age</th>\n",
       "      <th>Phases</th>\n",
       "      <th>Enrollment</th>\n",
       "      <th>Funder Type</th>\n",
       "      <th>Study Type</th>\n",
       "      <th>Study Design</th>\n",
       "      <th>Other IDs</th>\n",
       "      <th>Start Date</th>\n",
       "      <th>Primary Completion Date</th>\n",
       "      <th>Completion Date</th>\n",
       "      <th>First Posted</th>\n",
       "      <th>Results First Posted</th>\n",
       "      <th>Last Update Posted</th>\n",
       "      <th>Locations</th>\n",
       "      <th>Study Documents</th>\n",
       "    </tr>\n",
       "  </thead>\n",
       "  <tbody>\n",
       "    <tr>\n",
       "      <th>0</th>\n",
       "      <td>NCT04385680</td>\n",
       "      <td>Chlorhexidine Vaginal Preparation for Reductio...</td>\n",
       "      <td>https://clinicaltrials.gov/study/NCT04385680</td>\n",
       "      <td>NaN</td>\n",
       "      <td>COMPLETED</td>\n",
       "      <td>The study aims to assess the beneficial value ...</td>\n",
       "      <td>NO</td>\n",
       "      <td>Postpartum Endometritis|Wound Infection|Chlorh...</td>\n",
       "      <td>DRUG: Chlorhexidine Gluconate vaginal solution...</td>\n",
       "      <td>post-cesarean endometritis, uterine fundal ten...</td>\n",
       "      <td>Significant leukocytosis, increase of WBCs cou...</td>\n",
       "      <td>NaN</td>\n",
       "      <td>Zagazig University</td>\n",
       "      <td>NaN</td>\n",
       "      <td>FEMALE</td>\n",
       "      <td>ADULT, OLDER_ADULT</td>\n",
       "      <td>PHASE1|PHASE2</td>\n",
       "      <td>840.0</td>\n",
       "      <td>OTHER_GOV</td>\n",
       "      <td>INTERVENTIONAL</td>\n",
       "      <td>Allocation: RANDOMIZED|Intervention Model: PAR...</td>\n",
       "      <td>chlorhex. post cs endometritis</td>\n",
       "      <td>2020-05-15</td>\n",
       "      <td>2022-03-10</td>\n",
       "      <td>2022-08-30</td>\n",
       "      <td>2020-05-13</td>\n",
       "      <td>NaN</td>\n",
       "      <td>2022-09-23</td>\n",
       "      <td>Armed Forces Hospitals Southern Region, Khamis...</td>\n",
       "      <td>NaN</td>\n",
       "    </tr>\n",
       "    <tr>\n",
       "      <th>1</th>\n",
       "      <td>NCT05017480</td>\n",
       "      <td>A Study to Evaluate the Efficacy and Safety of...</td>\n",
       "      <td>https://clinicaltrials.gov/study/NCT05017480</td>\n",
       "      <td>NaN</td>\n",
       "      <td>COMPLETED</td>\n",
       "      <td>This study will evaluate the efficacy and safe...</td>\n",
       "      <td>YES</td>\n",
       "      <td>Moderate-to-severe Atopic Dermatitis</td>\n",
       "      <td>DRUG: CBP-201|DRUG: Placebo</td>\n",
       "      <td>Investigator Global Assessment (IGA) (0-1), Th...</td>\n",
       "      <td>Eczema Area and Severity Index (EASI)-75, The ...</td>\n",
       "      <td>NaN</td>\n",
       "      <td>Suzhou Connect Biopharmaceuticals, Ltd.</td>\n",
       "      <td>NaN</td>\n",
       "      <td>ALL</td>\n",
       "      <td>CHILD, ADULT, OLDER_ADULT</td>\n",
       "      <td>PHASE2</td>\n",
       "      <td>330.0</td>\n",
       "      <td>INDUSTRY</td>\n",
       "      <td>INTERVENTIONAL</td>\n",
       "      <td>Allocation: RANDOMIZED|Intervention Model: PAR...</td>\n",
       "      <td>CBP-201-CN002</td>\n",
       "      <td>2021-08-31</td>\n",
       "      <td>2022-12-01</td>\n",
       "      <td>2023-09-28</td>\n",
       "      <td>2021-08-23</td>\n",
       "      <td>2024-05-01</td>\n",
       "      <td>2024-05-01</td>\n",
       "      <td>Connect Investigative Site 33, Hefei, Anhui, C...</td>\n",
       "      <td>Study Protocol, https://cdn.clinicaltrials.gov...</td>\n",
       "    </tr>\n",
       "    <tr>\n",
       "      <th>2</th>\n",
       "      <td>NCT01136980</td>\n",
       "      <td>Randomized EsophyX Versus Sham / Placebo Contr...</td>\n",
       "      <td>https://clinicaltrials.gov/study/NCT01136980</td>\n",
       "      <td>RESPECT</td>\n",
       "      <td>COMPLETED</td>\n",
       "      <td>The objective of the study is to evaluate the ...</td>\n",
       "      <td>YES</td>\n",
       "      <td>Gastroesophageal Reflux Disease|Hiatal Hernia</td>\n",
       "      <td>DEVICE: TIF Transoral Fundoplication|OTHER: Sh...</td>\n",
       "      <td>Number of Participants With a Clinically Signi...</td>\n",
       "      <td>Normalization of Esophageal Acid Exposure - as...</td>\n",
       "      <td>NaN</td>\n",
       "      <td>EndoGastric Solutions</td>\n",
       "      <td>NaN</td>\n",
       "      <td>ALL</td>\n",
       "      <td>ADULT, OLDER_ADULT</td>\n",
       "      <td>NaN</td>\n",
       "      <td>129.0</td>\n",
       "      <td>INDUSTRY</td>\n",
       "      <td>INTERVENTIONAL</td>\n",
       "      <td>Allocation: RANDOMIZED|Intervention Model: PAR...</td>\n",
       "      <td>D01010</td>\n",
       "      <td>2011-04</td>\n",
       "      <td>2015-04</td>\n",
       "      <td>2018-03</td>\n",
       "      <td>2010-06-04</td>\n",
       "      <td>2021-12-03</td>\n",
       "      <td>2021-12-03</td>\n",
       "      <td>Cedars Sinai Medical Center, Los Angeles, Cali...</td>\n",
       "      <td>NaN</td>\n",
       "    </tr>\n",
       "    <tr>\n",
       "      <th>3</th>\n",
       "      <td>NCT01560780</td>\n",
       "      <td>Prasugrel for Prevention of Early Saphenous Ve...</td>\n",
       "      <td>https://clinicaltrials.gov/study/NCT01560780</td>\n",
       "      <td>NaN</td>\n",
       "      <td>COMPLETED</td>\n",
       "      <td>This is a randomized-controlled clinical trial...</td>\n",
       "      <td>YES</td>\n",
       "      <td>Coronary Artery Bypass</td>\n",
       "      <td>DRUG: Prasugrel|DRUG: Placebo</td>\n",
       "      <td>Prevalence of Intragraft Thrombus at 12-month ...</td>\n",
       "      <td>Number of Patients With Severe Bleeding Using ...</td>\n",
       "      <td>NaN</td>\n",
       "      <td>VA Office of Research and Development</td>\n",
       "      <td>NaN</td>\n",
       "      <td>ALL</td>\n",
       "      <td>ADULT, OLDER_ADULT</td>\n",
       "      <td>PHASE3</td>\n",
       "      <td>84.0</td>\n",
       "      <td>FED</td>\n",
       "      <td>INTERVENTIONAL</td>\n",
       "      <td>Allocation: RANDOMIZED|Intervention Model: PAR...</td>\n",
       "      <td>CLIN-007-11F</td>\n",
       "      <td>2013-02-01</td>\n",
       "      <td>2018-04-30</td>\n",
       "      <td>2018-05-31</td>\n",
       "      <td>2012-03-22</td>\n",
       "      <td>2019-10-09</td>\n",
       "      <td>2019-10-30</td>\n",
       "      <td>San Francisco VA Medical Center, San Francisco...</td>\n",
       "      <td>Study Protocol and Statistical Analysis Plan, ...</td>\n",
       "    </tr>\n",
       "    <tr>\n",
       "      <th>4</th>\n",
       "      <td>NCT03447080</td>\n",
       "      <td>Co-ingestion of Rice Bran Soymilk or Plain Soy...</td>\n",
       "      <td>https://clinicaltrials.gov/study/NCT03447080</td>\n",
       "      <td>NaN</td>\n",
       "      <td>COMPLETED</td>\n",
       "      <td>bread and that rice-bran soymilk will have an ...</td>\n",
       "      <td>NO</td>\n",
       "      <td>Diabetes Mellitus, Type 2</td>\n",
       "      <td>OTHER: Control|OTHER: Control|OTHER: Ricebran ...</td>\n",
       "      <td>Change in postprandial blood glucose over 180 ...</td>\n",
       "      <td>Change in postprandial plasma insulin over 180...</td>\n",
       "      <td>NaN</td>\n",
       "      <td>Singapore Institute of Food and Biotechnology ...</td>\n",
       "      <td>NaN</td>\n",
       "      <td>MALE</td>\n",
       "      <td>ADULT</td>\n",
       "      <td>NaN</td>\n",
       "      <td>17.0</td>\n",
       "      <td>OTHER_GOV</td>\n",
       "      <td>INTERVENTIONAL</td>\n",
       "      <td>Allocation: RANDOMIZED|Intervention Model: CRO...</td>\n",
       "      <td>2017/00286</td>\n",
       "      <td>2017-06-02</td>\n",
       "      <td>2019-01-18</td>\n",
       "      <td>2019-01-18</td>\n",
       "      <td>2018-02-27</td>\n",
       "      <td>NaN</td>\n",
       "      <td>2019-05-13</td>\n",
       "      <td>Clinical Nutrition Reseach Centre, Singapore, ...</td>\n",
       "      <td>NaN</td>\n",
       "    </tr>\n",
       "  </tbody>\n",
       "</table>\n",
       "</div>"
      ],
      "text/plain": [
       "        nct_id                                        Study Title  \\\n",
       "0  NCT04385680  Chlorhexidine Vaginal Preparation for Reductio...   \n",
       "1  NCT05017480  A Study to Evaluate the Efficacy and Safety of...   \n",
       "2  NCT01136980  Randomized EsophyX Versus Sham / Placebo Contr...   \n",
       "3  NCT01560780  Prasugrel for Prevention of Early Saphenous Ve...   \n",
       "4  NCT03447080  Co-ingestion of Rice Bran Soymilk or Plain Soy...   \n",
       "\n",
       "                                      Study URL  Acronym Study Status  \\\n",
       "0  https://clinicaltrials.gov/study/NCT04385680      NaN    COMPLETED   \n",
       "1  https://clinicaltrials.gov/study/NCT05017480      NaN    COMPLETED   \n",
       "2  https://clinicaltrials.gov/study/NCT01136980  RESPECT    COMPLETED   \n",
       "3  https://clinicaltrials.gov/study/NCT01560780      NaN    COMPLETED   \n",
       "4  https://clinicaltrials.gov/study/NCT03447080      NaN    COMPLETED   \n",
       "\n",
       "                                       Brief Summary Study Results  \\\n",
       "0  The study aims to assess the beneficial value ...            NO   \n",
       "1  This study will evaluate the efficacy and safe...           YES   \n",
       "2  The objective of the study is to evaluate the ...           YES   \n",
       "3  This is a randomized-controlled clinical trial...           YES   \n",
       "4  bread and that rice-bran soymilk will have an ...            NO   \n",
       "\n",
       "                                          Conditions  \\\n",
       "0  Postpartum Endometritis|Wound Infection|Chlorh...   \n",
       "1               Moderate-to-severe Atopic Dermatitis   \n",
       "2      Gastroesophageal Reflux Disease|Hiatal Hernia   \n",
       "3                             Coronary Artery Bypass   \n",
       "4                          Diabetes Mellitus, Type 2   \n",
       "\n",
       "                                       Interventions  \\\n",
       "0  DRUG: Chlorhexidine Gluconate vaginal solution...   \n",
       "1                        DRUG: CBP-201|DRUG: Placebo   \n",
       "2  DEVICE: TIF Transoral Fundoplication|OTHER: Sh...   \n",
       "3                      DRUG: Prasugrel|DRUG: Placebo   \n",
       "4  OTHER: Control|OTHER: Control|OTHER: Ricebran ...   \n",
       "\n",
       "                            Primary Outcome Measures  \\\n",
       "0  post-cesarean endometritis, uterine fundal ten...   \n",
       "1  Investigator Global Assessment (IGA) (0-1), Th...   \n",
       "2  Number of Participants With a Clinically Signi...   \n",
       "3  Prevalence of Intragraft Thrombus at 12-month ...   \n",
       "4  Change in postprandial blood glucose over 180 ...   \n",
       "\n",
       "                          Secondary Outcome Measures Other Outcome Measures  \\\n",
       "0  Significant leukocytosis, increase of WBCs cou...                    NaN   \n",
       "1  Eczema Area and Severity Index (EASI)-75, The ...                    NaN   \n",
       "2  Normalization of Esophageal Acid Exposure - as...                    NaN   \n",
       "3  Number of Patients With Severe Bleeding Using ...                    NaN   \n",
       "4  Change in postprandial plasma insulin over 180...                    NaN   \n",
       "\n",
       "                                             Sponsor Collaborators     Sex  \\\n",
       "0                                 Zagazig University           NaN  FEMALE   \n",
       "1            Suzhou Connect Biopharmaceuticals, Ltd.           NaN     ALL   \n",
       "2                              EndoGastric Solutions           NaN     ALL   \n",
       "3              VA Office of Research and Development           NaN     ALL   \n",
       "4  Singapore Institute of Food and Biotechnology ...           NaN    MALE   \n",
       "\n",
       "                         Age         Phases  Enrollment Funder Type  \\\n",
       "0         ADULT, OLDER_ADULT  PHASE1|PHASE2       840.0   OTHER_GOV   \n",
       "1  CHILD, ADULT, OLDER_ADULT         PHASE2       330.0    INDUSTRY   \n",
       "2         ADULT, OLDER_ADULT            NaN       129.0    INDUSTRY   \n",
       "3         ADULT, OLDER_ADULT         PHASE3        84.0         FED   \n",
       "4                      ADULT            NaN        17.0   OTHER_GOV   \n",
       "\n",
       "       Study Type                                       Study Design  \\\n",
       "0  INTERVENTIONAL  Allocation: RANDOMIZED|Intervention Model: PAR...   \n",
       "1  INTERVENTIONAL  Allocation: RANDOMIZED|Intervention Model: PAR...   \n",
       "2  INTERVENTIONAL  Allocation: RANDOMIZED|Intervention Model: PAR...   \n",
       "3  INTERVENTIONAL  Allocation: RANDOMIZED|Intervention Model: PAR...   \n",
       "4  INTERVENTIONAL  Allocation: RANDOMIZED|Intervention Model: CRO...   \n",
       "\n",
       "                        Other IDs  Start Date Primary Completion Date  \\\n",
       "0  chlorhex. post cs endometritis  2020-05-15              2022-03-10   \n",
       "1                   CBP-201-CN002  2021-08-31              2022-12-01   \n",
       "2                          D01010     2011-04                 2015-04   \n",
       "3                    CLIN-007-11F  2013-02-01              2018-04-30   \n",
       "4                      2017/00286  2017-06-02              2019-01-18   \n",
       "\n",
       "  Completion Date First Posted Results First Posted Last Update Posted  \\\n",
       "0      2022-08-30   2020-05-13                  NaN         2022-09-23   \n",
       "1      2023-09-28   2021-08-23           2024-05-01         2024-05-01   \n",
       "2         2018-03   2010-06-04           2021-12-03         2021-12-03   \n",
       "3      2018-05-31   2012-03-22           2019-10-09         2019-10-30   \n",
       "4      2019-01-18   2018-02-27                  NaN         2019-05-13   \n",
       "\n",
       "                                           Locations  \\\n",
       "0  Armed Forces Hospitals Southern Region, Khamis...   \n",
       "1  Connect Investigative Site 33, Hefei, Anhui, C...   \n",
       "2  Cedars Sinai Medical Center, Los Angeles, Cali...   \n",
       "3  San Francisco VA Medical Center, San Francisco...   \n",
       "4  Clinical Nutrition Reseach Centre, Singapore, ...   \n",
       "\n",
       "                                     Study Documents  \n",
       "0                                                NaN  \n",
       "1  Study Protocol, https://cdn.clinicaltrials.gov...  \n",
       "2                                                NaN  \n",
       "3  Study Protocol and Statistical Analysis Plan, ...  \n",
       "4                                                NaN  "
      ]
     },
     "execution_count": 163,
     "metadata": {},
     "output_type": "execute_result"
    }
   ],
   "source": [
    "df = pd.read_csv(r\"C:\\Users\\Eugenia\\OneDrive\\Documents\\THESIS\\ctg-studies.csv\")\n",
    "pd.set_option('display.max.columns', 35)  # Number of Columns : 35 > 30\n",
    "df = df.rename(columns={'NCT Number': 'nct_id'})\n",
    "\n",
    "df.head()"
   ]
  },
  {
   "cell_type": "markdown",
   "metadata": {},
   "source": [
    "### Duplicated Studies\n",
    "\n",
    "- nct_id always unique --> given from Site page"
   ]
  },
  {
   "cell_type": "code",
   "execution_count": 164,
   "metadata": {},
   "outputs": [
    {
     "data": {
      "text/plain": [
       "(177601, 31)"
      ]
     },
     "metadata": {},
     "output_type": "display_data"
    },
    {
     "data": {
      "text/plain": [
       "(177601, 31)"
      ]
     },
     "metadata": {},
     "output_type": "display_data"
    },
    {
     "data": {
      "application/vnd.microsoft.datawrangler.viewer.v0+json": {
       "columns": [
        {
         "name": "index",
         "rawType": "object",
         "type": "string"
        },
        {
         "name": "nct_id",
         "rawType": "object",
         "type": "unknown"
        },
        {
         "name": "Study Title",
         "rawType": "object",
         "type": "unknown"
        },
        {
         "name": "official_title",
         "rawType": "object",
         "type": "unknown"
        },
        {
         "name": "Acronym",
         "rawType": "object",
         "type": "unknown"
        },
        {
         "name": "Other IDs",
         "rawType": "object",
         "type": "unknown"
        }
       ],
       "ref": "42ce460d-eb9d-4ce7-8046-7ca928c6e43d",
       "rows": [
        [
         "count",
         "177601",
         "177601",
         "175206",
         "48070",
         "177585"
        ],
        [
         "unique",
         "177601",
         "177257",
         "174270",
         "40297",
         "175579"
        ],
        [
         "top",
         "NCT04385680",
         "Sun Protection Factor Assay",
         "Sun Protection Factor (SPF) Assay: UVA Protection Factor Assay Minimal Persistent Pigment-Darkening Dose",
         "RCT",
         "1"
        ],
        [
         "freq",
         "1",
         "14",
         "23",
         "70",
         "90"
        ]
       ],
       "shape": {
        "columns": 5,
        "rows": 4
       }
      },
      "text/html": [
       "<div>\n",
       "<style scoped>\n",
       "    .dataframe tbody tr th:only-of-type {\n",
       "        vertical-align: middle;\n",
       "    }\n",
       "\n",
       "    .dataframe tbody tr th {\n",
       "        vertical-align: top;\n",
       "    }\n",
       "\n",
       "    .dataframe thead th {\n",
       "        text-align: right;\n",
       "    }\n",
       "</style>\n",
       "<table border=\"1\" class=\"dataframe\">\n",
       "  <thead>\n",
       "    <tr style=\"text-align: right;\">\n",
       "      <th></th>\n",
       "      <th>nct_id</th>\n",
       "      <th>Study Title</th>\n",
       "      <th>official_title</th>\n",
       "      <th>Acronym</th>\n",
       "      <th>Other IDs</th>\n",
       "    </tr>\n",
       "  </thead>\n",
       "  <tbody>\n",
       "    <tr>\n",
       "      <th>count</th>\n",
       "      <td>177601</td>\n",
       "      <td>177601</td>\n",
       "      <td>175206</td>\n",
       "      <td>48070</td>\n",
       "      <td>177585</td>\n",
       "    </tr>\n",
       "    <tr>\n",
       "      <th>unique</th>\n",
       "      <td>177601</td>\n",
       "      <td>177257</td>\n",
       "      <td>174270</td>\n",
       "      <td>40297</td>\n",
       "      <td>175579</td>\n",
       "    </tr>\n",
       "    <tr>\n",
       "      <th>top</th>\n",
       "      <td>NCT04385680</td>\n",
       "      <td>Sun Protection Factor Assay</td>\n",
       "      <td>Sun Protection Factor (SPF) Assay: UVA Protect...</td>\n",
       "      <td>RCT</td>\n",
       "      <td>1</td>\n",
       "    </tr>\n",
       "    <tr>\n",
       "      <th>freq</th>\n",
       "      <td>1</td>\n",
       "      <td>14</td>\n",
       "      <td>23</td>\n",
       "      <td>70</td>\n",
       "      <td>90</td>\n",
       "    </tr>\n",
       "  </tbody>\n",
       "</table>\n",
       "</div>"
      ],
      "text/plain": [
       "             nct_id                  Study Title  \\\n",
       "count        177601                       177601   \n",
       "unique       177601                       177257   \n",
       "top     NCT04385680  Sun Protection Factor Assay   \n",
       "freq              1                           14   \n",
       "\n",
       "                                           official_title Acronym Other IDs  \n",
       "count                                              175206   48070    177585  \n",
       "unique                                             174270   40297    175579  \n",
       "top     Sun Protection Factor (SPF) Assay: UVA Protect...     RCT         1  \n",
       "freq                                                   23      70        90  "
      ]
     },
     "metadata": {},
     "output_type": "display_data"
    },
    {
     "data": {
      "application/vnd.microsoft.datawrangler.viewer.v0+json": {
       "columns": [
        {
         "name": "index",
         "rawType": "int64",
         "type": "integer"
        },
        {
         "name": "nct_id",
         "rawType": "object",
         "type": "string"
        },
        {
         "name": "Study Title",
         "rawType": "object",
         "type": "string"
        },
        {
         "name": "Study URL",
         "rawType": "object",
         "type": "string"
        },
        {
         "name": "Acronym",
         "rawType": "object",
         "type": "unknown"
        },
        {
         "name": "Study Status",
         "rawType": "object",
         "type": "string"
        },
        {
         "name": "Brief Summary",
         "rawType": "object",
         "type": "string"
        },
        {
         "name": "Study Results",
         "rawType": "object",
         "type": "string"
        },
        {
         "name": "Conditions",
         "rawType": "object",
         "type": "string"
        },
        {
         "name": "Interventions",
         "rawType": "object",
         "type": "string"
        },
        {
         "name": "Primary Outcome Measures",
         "rawType": "object",
         "type": "string"
        },
        {
         "name": "Secondary Outcome Measures",
         "rawType": "object",
         "type": "string"
        },
        {
         "name": "Other Outcome Measures",
         "rawType": "object",
         "type": "unknown"
        },
        {
         "name": "Sponsor",
         "rawType": "object",
         "type": "string"
        },
        {
         "name": "Collaborators",
         "rawType": "object",
         "type": "unknown"
        },
        {
         "name": "Sex",
         "rawType": "object",
         "type": "string"
        },
        {
         "name": "Age",
         "rawType": "object",
         "type": "string"
        },
        {
         "name": "Phases",
         "rawType": "object",
         "type": "unknown"
        },
        {
         "name": "Enrollment",
         "rawType": "float64",
         "type": "float"
        },
        {
         "name": "Funder Type",
         "rawType": "object",
         "type": "string"
        },
        {
         "name": "Study Type",
         "rawType": "object",
         "type": "string"
        },
        {
         "name": "Study Design",
         "rawType": "object",
         "type": "string"
        },
        {
         "name": "Other IDs",
         "rawType": "object",
         "type": "string"
        },
        {
         "name": "Start Date",
         "rawType": "object",
         "type": "string"
        },
        {
         "name": "Primary Completion Date",
         "rawType": "object",
         "type": "string"
        },
        {
         "name": "Completion Date",
         "rawType": "object",
         "type": "string"
        },
        {
         "name": "First Posted",
         "rawType": "object",
         "type": "string"
        },
        {
         "name": "Results First Posted",
         "rawType": "object",
         "type": "unknown"
        },
        {
         "name": "Last Update Posted",
         "rawType": "object",
         "type": "string"
        },
        {
         "name": "Locations",
         "rawType": "object",
         "type": "unknown"
        },
        {
         "name": "Study Documents",
         "rawType": "object",
         "type": "unknown"
        },
        {
         "name": "official_title",
         "rawType": "object",
         "type": "string"
        }
       ],
       "ref": "716fab24-54e7-46f8-8d04-6706791560ca",
       "rows": [
        [
         "94774",
         "NCT02692599",
         "Safety and Immunogenicity Study of Live Attenuated Mumps Vaccines in Healthy Infants",
         "https://clinicaltrials.gov/study/NCT02692599",
         null,
         "COMPLETED",
         "The purpose of this study is to evaluate the immunogenicity and safety of a live attenuated mumps vaccine in healthy infants between 8 - 18 months old with a commercialized live attenuated mumps vaccine as the control vaccine.",
         "NO",
         "Mumps",
         "BIOLOGICAL: investigational live attenuated mumps vaccine|BIOLOGICAL: control live attenuated mumps vaccine",
         "The seroconversion rates (SCRs) of susceptible subjects in each group, Subjects whose pre-immune HI antibody level \\< 1:2 are considered susceptible; among these subjects, those with post-immune HI antibody level ≥ 1:2 are considered seroconverted., 28 days",
         "The incidences of adverse events (AEs) of each group, AEs occurred within 28 days after injection will be collected., 28 days|The incidences of serious adverse events (SAEs) of each group, SAEs occurred within 28 days after injection will be collected., 28 days|The post-immune geometric mean titers (GMTs) of susceptible subjects in each group, Subjects whose pre-immune HI antibody level \\< 1:2 are considered susceptible., 28 days|The overall SCRs of each group, Subjects whose pre-immune HI antibody level \\< 1:2 and post-immune antibody level ≥ 1:2, or those whose pre-immune antibody level ≥ 1:2 and the increase of post-immune HI antibody level ≥ 4 folds are considered seroconverted., 28 days|The overall post-immune GMTs of each group, The GMTs of all the subjects in each group., 28 days",
         null,
         "Sinovac (Dalian) Vaccine Technology Co., Ltd.",
         null,
         "ALL",
         "CHILD",
         "PHASE3",
         "1150.0",
         "INDUSTRY",
         "INTERVENTIONAL",
         "Allocation: RANDOMIZED|Intervention Model: PARALLEL|Masking: DOUBLE (PARTICIPANT, OUTCOMES_ASSESSOR)|Primary Purpose: PREVENTION",
         "PRO-MUMPS-3001",
         "2016-01",
         "2016-03",
         "2016-07-15",
         "2016-02-26",
         null,
         "2017-10-26",
         "Dingxing County Center for Disease Control and Prevention, Baoding, Hebei, 072650, China",
         null,
         "A Blind, Randomized and Controlled Clinical Trial With Live Attenuated Mumps Vaccines in Healthy Infants"
        ],
        [
         "170597",
         "NCT05065177",
         "Safety and Immunogenicity Study of Live Attenuated Mumps Vaccines in Healthy Infants",
         "https://clinicaltrials.gov/study/NCT05065177",
         null,
         "COMPLETED",
         "The purpose of this study is to evaluate the immunogenicity and safety of a live attenuated mumps vaccine in healthy infants between 8 - 18 months old with a commercialized live attenuated mumps vaccine as the control vaccine.",
         "NO",
         "Mumps",
         "BIOLOGICAL: Investigational live attenuated mumps vaccine|BIOLOGICAL: control live attenuated mumps vaccine",
         "The seroconversion rates (SCRs) of susceptible subjects in each group, Subjects whose pre-immune HI antibody level \\< 1:2 are considered susceptible; among these subjects, those with post-immune HI antibody level ≥ 1:2 are considered seroconverted., 28 days",
         "The incidences of adverse events (AEs) of each group, AEs occurred within 28 days after injection will be collected., 28 days|The incidences of serious adverse events (SAEs) of each group, SAEs occurred within 28 days after injection will be collected., 28 days|The post-immune geometric mean titers (GMTs) of susceptible subjects in each group, Subjects whose pre-immune HI antibody level \\< 1:2 are considered susceptible., 28 days|The overall SCRs of each group, Subjects whose pre-immune HI antibody level \\< 1:2 and post-immune antibody level ≥ 1:2, or those whose pre-immune antibody level ≥ 1:2 and the increase of post-immune HI antibody level ≥ 4 folds are considered seroconverted., 28 days|The overall post-immune GMTs of each group, The GMTs of all the subjects in each group., 28 days",
         null,
         "Sinovac Research and Development Co., Ltd.",
         null,
         "ALL",
         "CHILD",
         "PHASE3",
         "1140.0",
         "INDUSTRY",
         "INTERVENTIONAL",
         "Allocation: RANDOMIZED|Intervention Model: PARALLEL|Masking: SINGLE (OUTCOMES_ASSESSOR)|Primary Purpose: PREVENTION",
         "PRO-MUMPS-3001",
         "2016-01",
         "2016-03",
         "2016-04",
         "2021-10-01",
         null,
         "2021-10-01",
         "Dingxing County Center for Disease Control and Prevention, Dingxing, Hebei, 072650, China",
         null,
         "A Blind, Randomized and Controlled Clinical Trial With Live Attenuated Mumps Vaccines in Healthy Infants"
        ],
        [
         "2866",
         "NCT01602874",
         "Study Evaluating Tigecycline Versus Ceftriaxone In Complicated Intra-Abdominal Infections & Community Acquired Pneumonia",
         "https://clinicaltrials.gov/study/NCT01602874",
         null,
         "WITHDRAWN",
         "The main purpose of this study is to compare the safety of tigecycline versus a ceftriaxone regimen in pediatric subjects (aged 8 to 17 years) with complicated intra-abdominal infections (cIAI) and community acquired pneumonia (CAP).",
         "NO",
         "Community Acquired Bacterial Pneumonia|Complicated Intra-Abdominal Infection",
         "DRUG: Tigecycline|DRUG: Tigecycline|DRUG: cIAI: Ceftriaxone with metronidazole, plus if applicable aminoglycoside|DRUG: CAP: Ceftriaxone, plus if applicable oral clarithromycin",
         "Clinical efficacy response (cure, failure, or indeterminate) at the test of cure (TOC) visit for 2 co-primary populations: the clinically evaluable (CE) and clinical modified Intent-to-Treat (c-mITT) populations, 2 to 7 weeks for cIAI and 2 to 5 weeks for CAP",
         "Clinical response at the IV last day of therapy (LDOT) for co-primary populations: the CE and c-mITT populations, 5 days to 4 weeks for cIAI and 5 days to 2 weeks for CAP|Clinical response at follow up (FUP) visits for co-primary populations: the CE and c-mITT populations, 5 to 9 weeks for cIAI and 5 to 7 weeks for CAP|Microbiological response at the subject and the pathogen level, 5 to 9 weeks for cIAI and 5 to 7 weeks for CAP|Response rate by pathogen and minimum inhibitory concentration (MIC) value, 5 to 9 weeks for cIAI and 5 to 7 weeks for CAP|Response rates for polymicrobial/monomicrobial infections, and susceptibility evaluations, 5 to 9 weeks for cIAI and 5 to 7 weeks for CAP",
         null,
         "Pfizer",
         null,
         "ALL",
         "CHILD",
         "PHASE3",
         "0.0",
         "INDUSTRY",
         "INTERVENTIONAL",
         "Allocation: RANDOMIZED|Intervention Model: PARALLEL|Masking: QUADRUPLE (PARTICIPANT, CARE_PROVIDER, INVESTIGATOR, OUTCOMES_ASSESSOR)|Primary Purpose: TREATMENT",
         "3074K4-3340|B1811003",
         "2011-01",
         "2014-05",
         "2014-05",
         "2012-05-21",
         null,
         "2013-02-22",
         null,
         null,
         "Multicenter, Randomized, And Double-Blind Study To Evaluate The Safety Of Tigecycline Versus A Ceftriaxone Regimen In The Treatment Of Complicated Intra-Abdominal Infections And Community-Acquired Pneumonia In Subjects Of 8-17 Years"
        ],
        [
         "140890",
         "NCT00914888",
         "Study Evaluating Tigecycline Versus Ceftriaxone In Complicated Intra-Abdominal Infections & Community Acquired Pneumonia",
         "https://clinicaltrials.gov/study/NCT00914888",
         null,
         "WITHDRAWN",
         "The main purpose of this study is to compare the safety of tigecycline versus a ceftriaxone regimen in pediatric subjects (aged 8 to 17 years) with complicated intra-abdominal infections (cIAI) and community acquired pneumonia (CAP).",
         "NO",
         "Community Acquired Bacterial Pneumonia|Complicated Intra-Abdominal Infection",
         "DRUG: Tigecycline|DRUG: Tigecycline|DRUG: cIAI: Ceftriaxone with metronidazole, plus if applicable aminoglycoside|DRUG: CAP: Ceftriaxone, plus if applicable oral clarithromycin",
         "Clinical efficacy response (cure, failure, or indeterminate) at the test of cure (TOC) visit for 2 co-primary populations: the clinically evaluable (CE) and clinical modified Intent-to-Treat (c-mITT) populations, 2 to 7 weeks for cIAI and 2 to 5 weeks for CAP",
         "Clinical response at the IV last day of therapy (LDOT) for co-primary populations: the CE and c-mITT populations, 5 days to 4 weeks for cIAI and 5 days to 2 weeks for CAP|Clinical response at follow up (FUP) visits for co-primary populations: the CE and c-mITT populations, 5 to 9 weeks for cIAI and 5 to 7 weeks for CAP|Microbiological response at the subject and the pathogen level, 5 to 9 weeks for cIAI and 5 to 7 weeks for CAP|Response rate by pathogen and minimum inhibitory concentration (MIC) value, 5 to 9 weeks for cIAI and 5 to 7 weeks for CAP|Response rates for polymicrobial/monomicrobial infections, and susceptibility evaluations, 5 to 9 weeks for cIAI and 5 to 7 weeks for CAP",
         null,
         "Wyeth is now a wholly owned subsidiary of Pfizer",
         null,
         "ALL",
         "CHILD",
         "PHASE3",
         "0.0",
         "INDUSTRY",
         "INTERVENTIONAL",
         "Allocation: RANDOMIZED|Intervention Model: PARALLEL|Masking: QUADRUPLE (PARTICIPANT, CARE_PROVIDER, INVESTIGATOR, OUTCOMES_ASSESSOR)|Primary Purpose: TREATMENT",
         "3074K4-3340|B1811003",
         "2011-01",
         "2014-05",
         "2014-05",
         "2009-06-05",
         null,
         "2012-06-07",
         null,
         null,
         "Multicenter, Randomized, And Double-Blind Study To Evaluate The Safety Of Tigecycline Versus A Ceftriaxone Regimen In The Treatment Of Complicated Intra-Abdominal Infections And Community-Acquired Pneumonia In Subjects Of 8-17 Years"
        ],
        [
         "15703",
         "NCT04043130",
         "The Evaluation of Pulse: A Mobile Health App and Teen Pregnancy Prevention Program",
         "https://clinicaltrials.gov/study/NCT04043130",
         null,
         "COMPLETED",
         "This study used a randomized controlled design to evaluate the efficacy of a new mobile app, Pulse, in reducing the incidence of unprotected sex among young women. Pulse is a web-based mobile health application that can be accessed through mobile smartphones and computers. Pulse was designed to increase highly effective birth control use and reproductive and sexual health care utilization, and ultimately decrease teen pregnancy. The sample was comprised of 2,317 women aged 18-20 who, at enrollment, were not pregnant or trying to become pregnant, had daily access to a smartphone, were currently living in the United States or a U.S. territory, and spoke English. Most of the sample (86%) identified as Black and/or Latinx. The evaluation team enrolled participants over a two and a half year enrollment period using social media, including Facebook and Instagram.\n\nUsers accessed Pulse autonomously, on their own terms, and in their own time and place. The app consists of 6 sections and includes 3 hours of unique content. It does not require the user to follow a specific sequence of content viewed; however, all users received a monetary incentive after registering with the app. Young women randomized to the intervention condition were given access to Pulse indefinitely and received daily text messages related to sexual health for 6 weeks. Control participants were directed to a free general health/fitness web-based mobile application, also called Pulse, and received text messages related to general health for 6 weeks. The control and treatment apps look and feel similar aesthetically but contain different content. Participants in both the intervention and comparison groups received a baseline survey, a 6-week follow-up survey, and a 6-month follow-up survey (the 6-month follow-up survey was only administered to participants recruited between November 2018 and March 2019). Participants also received incentives for completing the baseline and post-intervention surveys. Both surveys were conducted online via an electronic survey platform. This study was conducted as a Rigorous Evaluation of New or Innovative Approaches to Prevent Teen Pregnancy funded by the U.S. Department of Health and Human Services' Office of Adolescent Health.",
         "NO",
         "Unprotected Sex|Contraceptive Usage",
         "BEHAVIORAL: Pulse",
         "Unprotected sex, no contraceptive, Ever having sexual intercourse without using any method of contraception (among full sample), Baseline (unprotected sex in the past 3 months)|Unprotected sex, no contraceptive, Ever having sexual intercourse without using any method of contraception (among full sample), 6-week post-baseline (in the past 6 weeks)|Unprotected sex, no contraceptive, Ever having sexual intercourse without using any method of contraception (among full sample), 6-months post-baseline (in the past 3 months)|Unprotected sex, no highly effective contraceptive, Ever having sexual intercourse without using a hormonal or LARC method of contraception (among full sample), Baseline (unprotected sex in the past 3 months)|Unprotected sex, no highly effective contraceptive, Ever having sexual intercourse without using a hormonal or LARC method of contraception (among full sample), 6-week post-baseline (in the past 6 weeks)|Unprotected sex, no highly effective contraceptive, Ever having sexual intercourse without using a hormonal or LARC method of contraception (among full sample), 6-months post-baseline (in the past 3 months)",
         "Reproductive and sexual health care utilization (among full sample), Visiting a health care provider for reproductive or sexual health services within the past 6 weeks for the 1st follow-up survey, 6-week post-baseline (in the past 6 weeks)|Reproductive and sexual health care utilization (among full sample), Visiting a health care provider for reproductive or sexual health services within the past 6 months for the 1st follow up survey, 6-months post-baseline (in the past 6 months)",
         null,
         "Child Trends",
         "Healthy Teen Network|Ewald and Wasserman|MetaMedia Training International, Inc.",
         "FEMALE",
         "ADULT",
         null,
         "2317.0",
         "OTHER",
         "INTERVENTIONAL",
         "Allocation: RANDOMIZED|Intervention Model: PARALLEL|Masking: NONE|Primary Purpose: PREVENTION",
         "TP2AH000038",
         "2016-11",
         "2019-11",
         "2020-06",
         "2019-08-02",
         null,
         "2020-06-16",
         "Healthy Teen Network, Baltimore, Maryland, 21202, United States",
         null,
         "The Evaluation of Pulse: A Mobile Health App and Teen Pregnancy Prevention Program"
        ],
        [
         "157402",
         "NCT03253783",
         "The Evaluation of Pulse: A Mobile Health App and Teen Pregnancy Prevention Program",
         "https://clinicaltrials.gov/study/NCT03253783",
         null,
         "COMPLETED",
         "This study uses a randomized controlled design to evaluate the efficacy of a new mobile app, Pulse, in reducing the incidence of unprotected sex among young women. Pulse is a web-based mobile health application that can be accessed through mobile smartphones and computers. Pulse was designed to increase highly effective birth control use and reproductive and sexual health care utilization, and ultimately decrease teen pregnancy. The sample is comprised of women with the following characteristics at study enrollment: aged 18-20, not pregnant or trying to become pregnant, has daily access to a smartphone, currently living in the United States or a U.S. territory, and speaks either English or Spanish. Most of the sample (at least 70%) will be women who identify as Black and/or Latina. The evaluation team plans to enroll up to 1,300 participants over a one-year enrollment period using social media, including Facebook, Instagram, and Twitter.\n\nUsers access Pulse autonomously, on their own terms, and in their own time and place. The app consists of 6 sections and includes 3 hours of unique content. It does not require the user to follow a specific sequence of content viewed; however, all users will receive a monetary incentive after registering with the apps. Youth randomized to the intervention condition are given access to Pulse indefinitely and receive daily text messages related to sexual health for 6 weeks. Control participants are directed to a free general health/fitness web-based mobile application, also called Pulse, and receive text messages related to general health for 6 weeks. The control and treatment apps look and feel similar aesthetically but contain different content. Participants in both the intervention and comparison groups receive a baseline survey and a 6-week follow-up survey. Participants will also receive incentives once they complete the baseline and post-intervention survey. Both surveys are conducted online via an electronic survey platform. This study is being conducted as a Rigorous Evaluation of New or Innovative Approaches to Prevent Teen Pregnancy funded by the U.S. Department of Health and Human Services' Office of Adolescent Health.",
         "NO",
         "Unprotected Sex|Contraceptive Usage|Reproductive and Sexual Health Care Utilization",
         "BEHAVIORAL: Pulse",
         "Unprotected sex, no contraceptive, Ever having sexual intercourse without using any method of contraception (among full sample), 6-week post-baseline (in the past 6 weeks)|Unprotected sex, no highly effective contraceptive, Ever having sexual intercourse without using a hormonal or LARC method of contraception (among full sample), 6-week post-baseline (in the past 6 weeks)",
         "Reproductive and sexual health care utilization (among full sample), Visiting a health care provider for reproductive or sexual health services within the past 6 weeks for the 1st follow-up survey, 6-weeks post-baseline",
         null,
         "Healthy Teen Network",
         "Child Trends|Ewald and Wasserman|Meta Media",
         "FEMALE",
         "ADULT",
         null,
         "1304.0",
         "OTHER",
         "INTERVENTIONAL",
         "Allocation: |Intervention Model: |Masking: NONE|Primary Purpose: PREVENTION",
         "TP2AH000038",
         "2016-11",
         "2017-12",
         "2018-01",
         "2017-08-18",
         null,
         "2018-01-23",
         "Healthy Teen Network, Baltimore, Maryland, 21202, United States",
         null,
         "The Evaluation of Pulse: A Mobile Health App and Teen Pregnancy Prevention Program"
        ],
        [
         "11512",
         "NCT04761731",
         "To Evaluate the Efficacy and Safety of ADVAGRAF® After Treatment With a Tacrolimus in New Liver Transplant Recipients",
         "https://clinicaltrials.gov/study/NCT04761731",
         "Assign",
         "COMPLETED",
         "This study's objective is to evaluate the incidence rate of acute rejection reactions after 24 weeks treatment with ADVAGRAF® following 3 months treatment with tacrolimus in new liver transplant recipients.\n\nTreatment conversion will take place from twice daily tacrolimus to once daily tacrolimus (ADVAGRAF) 3 months after transplant in new liver transplant recipients.",
         "NO",
         "Liver Transplantation",
         "DRUG: ADVAGRAF®",
         "Incidence rate of biopsy confirmed acute rejection, Incidence rate of acute rejection reactions (%) = number of subjects with at least one acute rejection reaction 1)/total number of subjects in the relevant analysis set \\* 100, 24 weeks within",
         "Severity of biopsy confirmed acute rejection, Severity of acute rejection reactions is defined as the highest severity in a subject who had at least one acute rejection reaction., within 24 weeks|Survival rates of subjects and transplanted organs, The survival rate of transplant organs is determined by the loss of transplant organs in the 24th week. Transplant organ loss is defined as re-transplant surgery or death. The date of the transplant's disappearance is the first time one of these events has occurred., at 24 weeks|compliance, The dosage compliance level is checked by the questionnaire at each visit based on the total amount of the IPs that should have been taken., at 24 weeks",
         null,
         "Linical Korea",
         "Astellas Pharma Korea, Inc.|National Cancer Center, Korea",
         "ALL",
         "ADULT, OLDER_ADULT",
         "PHASE4",
         "31.0",
         "INDUSTRY",
         "INTERVENTIONAL",
         "Allocation: NA|Intervention Model: SINGLE_GROUP|Masking: NONE|Primary Purpose: SCREENING",
         "Assign",
         "2015-07",
         "2017-12-14",
         "2017-12-14",
         "2021-02-21",
         null,
         "2021-02-21",
         null,
         null,
         "A Single Center, Single Arm, Open-label Study to Evaluate the Efficacy and Safety of Tacrolimus Modified Release, ADVAGRAF® After Treatment With a Tacrolimus in New Liver Transplant Recipients"
        ],
        [
         "20192",
         "NCT03423225",
         "To Evaluate the Efficacy and Safety of ADVAGRAF® After Treatment With a Tacrolimus in New Liver Transplant Recipients",
         "https://clinicaltrials.gov/study/NCT03423225",
         null,
         "COMPLETED",
         "This study's objective is to evaluate the incidence rate of acute rejection reactions after 24 weeks treatment with ADVAGRAF® following 3 months treatment with tacrolimus in new liver transplant recipients.\n\nTreatment conversion will take place from twice daily tacrolimus to once daily tacrolimus (ADVAGRAF) 3 months after transplant in new liver transplant recipients.",
         "NO",
         "Liver Transplantation",
         "DRUG: ADVAGRAF®",
         "Incidence rate of acute rejection reaction confirmed by biopsy within 24 weeks after conversion, Incidence rate of acute rejection reaction (%) = The number of subjects with at least one acute rejection reaction / Total number of subjects included in the analysis group \\* 100 number of subjects in the relevant analysis set \\* 100, within 24 weeks",
         "Severity of acute rejection reaction confirmed by biopsy within 24 weeks after conversion, Severity of acute rejection reactions is defined as the highest severity in a subject who had at least one acute rejection reaction., within 24 weeks|Survival rates of subjects after conversion, at week 24|Survival rate of transplanted organs after conversion, at week 24|Blood concentration of tacrolimus, at week -4, week 0, week 2, week 4, week 8, week 16 and week 24",
         null,
         "Kim, Seoung-Hoon",
         "Astellas Pharma Korea, Inc.|Linical Korea",
         "ALL",
         "ADULT, OLDER_ADULT",
         "PHASE4",
         "31.0",
         "OTHER_GOV",
         "INTERVENTIONAL",
         "Allocation: NA|Intervention Model: SINGLE_GROUP|Masking: NONE|Primary Purpose: SCREENING",
         "Assign",
         "2016-03-22",
         "2017-07-18",
         "2017-12-14",
         "2018-02-06",
         null,
         "2018-02-06",
         null,
         null,
         "A Single Center, Single Arm, Open-label Study to Evaluate the Efficacy and Safety of Tacrolimus Modified Release, ADVAGRAF® After Treatment With a Tacrolimus in New Liver Transplant Recipients"
        ]
       ],
       "shape": {
        "columns": 31,
        "rows": 8
       }
      },
      "text/html": [
       "<div>\n",
       "<style scoped>\n",
       "    .dataframe tbody tr th:only-of-type {\n",
       "        vertical-align: middle;\n",
       "    }\n",
       "\n",
       "    .dataframe tbody tr th {\n",
       "        vertical-align: top;\n",
       "    }\n",
       "\n",
       "    .dataframe thead th {\n",
       "        text-align: right;\n",
       "    }\n",
       "</style>\n",
       "<table border=\"1\" class=\"dataframe\">\n",
       "  <thead>\n",
       "    <tr style=\"text-align: right;\">\n",
       "      <th></th>\n",
       "      <th>nct_id</th>\n",
       "      <th>Study Title</th>\n",
       "      <th>Study URL</th>\n",
       "      <th>Acronym</th>\n",
       "      <th>Study Status</th>\n",
       "      <th>Brief Summary</th>\n",
       "      <th>Study Results</th>\n",
       "      <th>Conditions</th>\n",
       "      <th>Interventions</th>\n",
       "      <th>Primary Outcome Measures</th>\n",
       "      <th>Secondary Outcome Measures</th>\n",
       "      <th>Other Outcome Measures</th>\n",
       "      <th>Sponsor</th>\n",
       "      <th>Collaborators</th>\n",
       "      <th>Sex</th>\n",
       "      <th>Age</th>\n",
       "      <th>Phases</th>\n",
       "      <th>Enrollment</th>\n",
       "      <th>Funder Type</th>\n",
       "      <th>Study Type</th>\n",
       "      <th>Study Design</th>\n",
       "      <th>Other IDs</th>\n",
       "      <th>Start Date</th>\n",
       "      <th>Primary Completion Date</th>\n",
       "      <th>Completion Date</th>\n",
       "      <th>First Posted</th>\n",
       "      <th>Results First Posted</th>\n",
       "      <th>Last Update Posted</th>\n",
       "      <th>Locations</th>\n",
       "      <th>Study Documents</th>\n",
       "      <th>official_title</th>\n",
       "    </tr>\n",
       "  </thead>\n",
       "  <tbody>\n",
       "    <tr>\n",
       "      <th>94774</th>\n",
       "      <td>NCT02692599</td>\n",
       "      <td>Safety and Immunogenicity Study of Live Attenu...</td>\n",
       "      <td>https://clinicaltrials.gov/study/NCT02692599</td>\n",
       "      <td>NaN</td>\n",
       "      <td>COMPLETED</td>\n",
       "      <td>The purpose of this study is to evaluate the i...</td>\n",
       "      <td>NO</td>\n",
       "      <td>Mumps</td>\n",
       "      <td>BIOLOGICAL: investigational live attenuated mu...</td>\n",
       "      <td>The seroconversion rates (SCRs) of susceptible...</td>\n",
       "      <td>The incidences of adverse events (AEs) of each...</td>\n",
       "      <td>NaN</td>\n",
       "      <td>Sinovac (Dalian) Vaccine Technology Co., Ltd.</td>\n",
       "      <td>NaN</td>\n",
       "      <td>ALL</td>\n",
       "      <td>CHILD</td>\n",
       "      <td>PHASE3</td>\n",
       "      <td>1150.0</td>\n",
       "      <td>INDUSTRY</td>\n",
       "      <td>INTERVENTIONAL</td>\n",
       "      <td>Allocation: RANDOMIZED|Intervention Model: PAR...</td>\n",
       "      <td>PRO-MUMPS-3001</td>\n",
       "      <td>2016-01</td>\n",
       "      <td>2016-03</td>\n",
       "      <td>2016-07-15</td>\n",
       "      <td>2016-02-26</td>\n",
       "      <td>NaN</td>\n",
       "      <td>2017-10-26</td>\n",
       "      <td>Dingxing County Center for Disease Control and...</td>\n",
       "      <td>NaN</td>\n",
       "      <td>A Blind, Randomized and Controlled Clinical Tr...</td>\n",
       "    </tr>\n",
       "    <tr>\n",
       "      <th>170597</th>\n",
       "      <td>NCT05065177</td>\n",
       "      <td>Safety and Immunogenicity Study of Live Attenu...</td>\n",
       "      <td>https://clinicaltrials.gov/study/NCT05065177</td>\n",
       "      <td>NaN</td>\n",
       "      <td>COMPLETED</td>\n",
       "      <td>The purpose of this study is to evaluate the i...</td>\n",
       "      <td>NO</td>\n",
       "      <td>Mumps</td>\n",
       "      <td>BIOLOGICAL: Investigational live attenuated mu...</td>\n",
       "      <td>The seroconversion rates (SCRs) of susceptible...</td>\n",
       "      <td>The incidences of adverse events (AEs) of each...</td>\n",
       "      <td>NaN</td>\n",
       "      <td>Sinovac Research and Development Co., Ltd.</td>\n",
       "      <td>NaN</td>\n",
       "      <td>ALL</td>\n",
       "      <td>CHILD</td>\n",
       "      <td>PHASE3</td>\n",
       "      <td>1140.0</td>\n",
       "      <td>INDUSTRY</td>\n",
       "      <td>INTERVENTIONAL</td>\n",
       "      <td>Allocation: RANDOMIZED|Intervention Model: PAR...</td>\n",
       "      <td>PRO-MUMPS-3001</td>\n",
       "      <td>2016-01</td>\n",
       "      <td>2016-03</td>\n",
       "      <td>2016-04</td>\n",
       "      <td>2021-10-01</td>\n",
       "      <td>NaN</td>\n",
       "      <td>2021-10-01</td>\n",
       "      <td>Dingxing County Center for Disease Control and...</td>\n",
       "      <td>NaN</td>\n",
       "      <td>A Blind, Randomized and Controlled Clinical Tr...</td>\n",
       "    </tr>\n",
       "    <tr>\n",
       "      <th>2866</th>\n",
       "      <td>NCT01602874</td>\n",
       "      <td>Study Evaluating Tigecycline Versus Ceftriaxon...</td>\n",
       "      <td>https://clinicaltrials.gov/study/NCT01602874</td>\n",
       "      <td>NaN</td>\n",
       "      <td>WITHDRAWN</td>\n",
       "      <td>The main purpose of this study is to compare t...</td>\n",
       "      <td>NO</td>\n",
       "      <td>Community Acquired Bacterial Pneumonia|Complic...</td>\n",
       "      <td>DRUG: Tigecycline|DRUG: Tigecycline|DRUG: cIAI...</td>\n",
       "      <td>Clinical efficacy response (cure, failure, or ...</td>\n",
       "      <td>Clinical response at the IV last day of therap...</td>\n",
       "      <td>NaN</td>\n",
       "      <td>Pfizer</td>\n",
       "      <td>NaN</td>\n",
       "      <td>ALL</td>\n",
       "      <td>CHILD</td>\n",
       "      <td>PHASE3</td>\n",
       "      <td>0.0</td>\n",
       "      <td>INDUSTRY</td>\n",
       "      <td>INTERVENTIONAL</td>\n",
       "      <td>Allocation: RANDOMIZED|Intervention Model: PAR...</td>\n",
       "      <td>3074K4-3340|B1811003</td>\n",
       "      <td>2011-01</td>\n",
       "      <td>2014-05</td>\n",
       "      <td>2014-05</td>\n",
       "      <td>2012-05-21</td>\n",
       "      <td>NaN</td>\n",
       "      <td>2013-02-22</td>\n",
       "      <td>NaN</td>\n",
       "      <td>NaN</td>\n",
       "      <td>Multicenter, Randomized, And Double-Blind Stud...</td>\n",
       "    </tr>\n",
       "    <tr>\n",
       "      <th>140890</th>\n",
       "      <td>NCT00914888</td>\n",
       "      <td>Study Evaluating Tigecycline Versus Ceftriaxon...</td>\n",
       "      <td>https://clinicaltrials.gov/study/NCT00914888</td>\n",
       "      <td>NaN</td>\n",
       "      <td>WITHDRAWN</td>\n",
       "      <td>The main purpose of this study is to compare t...</td>\n",
       "      <td>NO</td>\n",
       "      <td>Community Acquired Bacterial Pneumonia|Complic...</td>\n",
       "      <td>DRUG: Tigecycline|DRUG: Tigecycline|DRUG: cIAI...</td>\n",
       "      <td>Clinical efficacy response (cure, failure, or ...</td>\n",
       "      <td>Clinical response at the IV last day of therap...</td>\n",
       "      <td>NaN</td>\n",
       "      <td>Wyeth is now a wholly owned subsidiary of Pfizer</td>\n",
       "      <td>NaN</td>\n",
       "      <td>ALL</td>\n",
       "      <td>CHILD</td>\n",
       "      <td>PHASE3</td>\n",
       "      <td>0.0</td>\n",
       "      <td>INDUSTRY</td>\n",
       "      <td>INTERVENTIONAL</td>\n",
       "      <td>Allocation: RANDOMIZED|Intervention Model: PAR...</td>\n",
       "      <td>3074K4-3340|B1811003</td>\n",
       "      <td>2011-01</td>\n",
       "      <td>2014-05</td>\n",
       "      <td>2014-05</td>\n",
       "      <td>2009-06-05</td>\n",
       "      <td>NaN</td>\n",
       "      <td>2012-06-07</td>\n",
       "      <td>NaN</td>\n",
       "      <td>NaN</td>\n",
       "      <td>Multicenter, Randomized, And Double-Blind Stud...</td>\n",
       "    </tr>\n",
       "    <tr>\n",
       "      <th>15703</th>\n",
       "      <td>NCT04043130</td>\n",
       "      <td>The Evaluation of Pulse: A Mobile Health App a...</td>\n",
       "      <td>https://clinicaltrials.gov/study/NCT04043130</td>\n",
       "      <td>NaN</td>\n",
       "      <td>COMPLETED</td>\n",
       "      <td>This study used a randomized controlled design...</td>\n",
       "      <td>NO</td>\n",
       "      <td>Unprotected Sex|Contraceptive Usage</td>\n",
       "      <td>BEHAVIORAL: Pulse</td>\n",
       "      <td>Unprotected sex, no contraceptive, Ever having...</td>\n",
       "      <td>Reproductive and sexual health care utilizatio...</td>\n",
       "      <td>NaN</td>\n",
       "      <td>Child Trends</td>\n",
       "      <td>Healthy Teen Network|Ewald and Wasserman|MetaM...</td>\n",
       "      <td>FEMALE</td>\n",
       "      <td>ADULT</td>\n",
       "      <td>NaN</td>\n",
       "      <td>2317.0</td>\n",
       "      <td>OTHER</td>\n",
       "      <td>INTERVENTIONAL</td>\n",
       "      <td>Allocation: RANDOMIZED|Intervention Model: PAR...</td>\n",
       "      <td>TP2AH000038</td>\n",
       "      <td>2016-11</td>\n",
       "      <td>2019-11</td>\n",
       "      <td>2020-06</td>\n",
       "      <td>2019-08-02</td>\n",
       "      <td>NaN</td>\n",
       "      <td>2020-06-16</td>\n",
       "      <td>Healthy Teen Network, Baltimore, Maryland, 212...</td>\n",
       "      <td>NaN</td>\n",
       "      <td>The Evaluation of Pulse: A Mobile Health App a...</td>\n",
       "    </tr>\n",
       "    <tr>\n",
       "      <th>157402</th>\n",
       "      <td>NCT03253783</td>\n",
       "      <td>The Evaluation of Pulse: A Mobile Health App a...</td>\n",
       "      <td>https://clinicaltrials.gov/study/NCT03253783</td>\n",
       "      <td>NaN</td>\n",
       "      <td>COMPLETED</td>\n",
       "      <td>This study uses a randomized controlled design...</td>\n",
       "      <td>NO</td>\n",
       "      <td>Unprotected Sex|Contraceptive Usage|Reproducti...</td>\n",
       "      <td>BEHAVIORAL: Pulse</td>\n",
       "      <td>Unprotected sex, no contraceptive, Ever having...</td>\n",
       "      <td>Reproductive and sexual health care utilizatio...</td>\n",
       "      <td>NaN</td>\n",
       "      <td>Healthy Teen Network</td>\n",
       "      <td>Child Trends|Ewald and Wasserman|Meta Media</td>\n",
       "      <td>FEMALE</td>\n",
       "      <td>ADULT</td>\n",
       "      <td>NaN</td>\n",
       "      <td>1304.0</td>\n",
       "      <td>OTHER</td>\n",
       "      <td>INTERVENTIONAL</td>\n",
       "      <td>Allocation: |Intervention Model: |Masking: NON...</td>\n",
       "      <td>TP2AH000038</td>\n",
       "      <td>2016-11</td>\n",
       "      <td>2017-12</td>\n",
       "      <td>2018-01</td>\n",
       "      <td>2017-08-18</td>\n",
       "      <td>NaN</td>\n",
       "      <td>2018-01-23</td>\n",
       "      <td>Healthy Teen Network, Baltimore, Maryland, 212...</td>\n",
       "      <td>NaN</td>\n",
       "      <td>The Evaluation of Pulse: A Mobile Health App a...</td>\n",
       "    </tr>\n",
       "    <tr>\n",
       "      <th>11512</th>\n",
       "      <td>NCT04761731</td>\n",
       "      <td>To Evaluate the Efficacy and Safety of ADVAGRA...</td>\n",
       "      <td>https://clinicaltrials.gov/study/NCT04761731</td>\n",
       "      <td>Assign</td>\n",
       "      <td>COMPLETED</td>\n",
       "      <td>This study's objective is to evaluate the inci...</td>\n",
       "      <td>NO</td>\n",
       "      <td>Liver Transplantation</td>\n",
       "      <td>DRUG: ADVAGRAF®</td>\n",
       "      <td>Incidence rate of biopsy confirmed acute rejec...</td>\n",
       "      <td>Severity of biopsy confirmed acute rejection, ...</td>\n",
       "      <td>NaN</td>\n",
       "      <td>Linical Korea</td>\n",
       "      <td>Astellas Pharma Korea, Inc.|National Cancer Ce...</td>\n",
       "      <td>ALL</td>\n",
       "      <td>ADULT, OLDER_ADULT</td>\n",
       "      <td>PHASE4</td>\n",
       "      <td>31.0</td>\n",
       "      <td>INDUSTRY</td>\n",
       "      <td>INTERVENTIONAL</td>\n",
       "      <td>Allocation: NA|Intervention Model: SINGLE_GROU...</td>\n",
       "      <td>Assign</td>\n",
       "      <td>2015-07</td>\n",
       "      <td>2017-12-14</td>\n",
       "      <td>2017-12-14</td>\n",
       "      <td>2021-02-21</td>\n",
       "      <td>NaN</td>\n",
       "      <td>2021-02-21</td>\n",
       "      <td>NaN</td>\n",
       "      <td>NaN</td>\n",
       "      <td>A Single Center, Single Arm, Open-label Study ...</td>\n",
       "    </tr>\n",
       "    <tr>\n",
       "      <th>20192</th>\n",
       "      <td>NCT03423225</td>\n",
       "      <td>To Evaluate the Efficacy and Safety of ADVAGRA...</td>\n",
       "      <td>https://clinicaltrials.gov/study/NCT03423225</td>\n",
       "      <td>NaN</td>\n",
       "      <td>COMPLETED</td>\n",
       "      <td>This study's objective is to evaluate the inci...</td>\n",
       "      <td>NO</td>\n",
       "      <td>Liver Transplantation</td>\n",
       "      <td>DRUG: ADVAGRAF®</td>\n",
       "      <td>Incidence rate of acute rejection reaction con...</td>\n",
       "      <td>Severity of acute rejection reaction confirmed...</td>\n",
       "      <td>NaN</td>\n",
       "      <td>Kim, Seoung-Hoon</td>\n",
       "      <td>Astellas Pharma Korea, Inc.|Linical Korea</td>\n",
       "      <td>ALL</td>\n",
       "      <td>ADULT, OLDER_ADULT</td>\n",
       "      <td>PHASE4</td>\n",
       "      <td>31.0</td>\n",
       "      <td>OTHER_GOV</td>\n",
       "      <td>INTERVENTIONAL</td>\n",
       "      <td>Allocation: NA|Intervention Model: SINGLE_GROU...</td>\n",
       "      <td>Assign</td>\n",
       "      <td>2016-03-22</td>\n",
       "      <td>2017-07-18</td>\n",
       "      <td>2017-12-14</td>\n",
       "      <td>2018-02-06</td>\n",
       "      <td>NaN</td>\n",
       "      <td>2018-02-06</td>\n",
       "      <td>NaN</td>\n",
       "      <td>NaN</td>\n",
       "      <td>A Single Center, Single Arm, Open-label Study ...</td>\n",
       "    </tr>\n",
       "  </tbody>\n",
       "</table>\n",
       "</div>"
      ],
      "text/plain": [
       "             nct_id                                        Study Title  \\\n",
       "94774   NCT02692599  Safety and Immunogenicity Study of Live Attenu...   \n",
       "170597  NCT05065177  Safety and Immunogenicity Study of Live Attenu...   \n",
       "2866    NCT01602874  Study Evaluating Tigecycline Versus Ceftriaxon...   \n",
       "140890  NCT00914888  Study Evaluating Tigecycline Versus Ceftriaxon...   \n",
       "15703   NCT04043130  The Evaluation of Pulse: A Mobile Health App a...   \n",
       "157402  NCT03253783  The Evaluation of Pulse: A Mobile Health App a...   \n",
       "11512   NCT04761731  To Evaluate the Efficacy and Safety of ADVAGRA...   \n",
       "20192   NCT03423225  To Evaluate the Efficacy and Safety of ADVAGRA...   \n",
       "\n",
       "                                           Study URL Acronym Study Status  \\\n",
       "94774   https://clinicaltrials.gov/study/NCT02692599     NaN    COMPLETED   \n",
       "170597  https://clinicaltrials.gov/study/NCT05065177     NaN    COMPLETED   \n",
       "2866    https://clinicaltrials.gov/study/NCT01602874     NaN    WITHDRAWN   \n",
       "140890  https://clinicaltrials.gov/study/NCT00914888     NaN    WITHDRAWN   \n",
       "15703   https://clinicaltrials.gov/study/NCT04043130     NaN    COMPLETED   \n",
       "157402  https://clinicaltrials.gov/study/NCT03253783     NaN    COMPLETED   \n",
       "11512   https://clinicaltrials.gov/study/NCT04761731  Assign    COMPLETED   \n",
       "20192   https://clinicaltrials.gov/study/NCT03423225     NaN    COMPLETED   \n",
       "\n",
       "                                            Brief Summary Study Results  \\\n",
       "94774   The purpose of this study is to evaluate the i...            NO   \n",
       "170597  The purpose of this study is to evaluate the i...            NO   \n",
       "2866    The main purpose of this study is to compare t...            NO   \n",
       "140890  The main purpose of this study is to compare t...            NO   \n",
       "15703   This study used a randomized controlled design...            NO   \n",
       "157402  This study uses a randomized controlled design...            NO   \n",
       "11512   This study's objective is to evaluate the inci...            NO   \n",
       "20192   This study's objective is to evaluate the inci...            NO   \n",
       "\n",
       "                                               Conditions  \\\n",
       "94774                                               Mumps   \n",
       "170597                                              Mumps   \n",
       "2866    Community Acquired Bacterial Pneumonia|Complic...   \n",
       "140890  Community Acquired Bacterial Pneumonia|Complic...   \n",
       "15703                 Unprotected Sex|Contraceptive Usage   \n",
       "157402  Unprotected Sex|Contraceptive Usage|Reproducti...   \n",
       "11512                               Liver Transplantation   \n",
       "20192                               Liver Transplantation   \n",
       "\n",
       "                                            Interventions  \\\n",
       "94774   BIOLOGICAL: investigational live attenuated mu...   \n",
       "170597  BIOLOGICAL: Investigational live attenuated mu...   \n",
       "2866    DRUG: Tigecycline|DRUG: Tigecycline|DRUG: cIAI...   \n",
       "140890  DRUG: Tigecycline|DRUG: Tigecycline|DRUG: cIAI...   \n",
       "15703                                   BEHAVIORAL: Pulse   \n",
       "157402                                  BEHAVIORAL: Pulse   \n",
       "11512                                     DRUG: ADVAGRAF®   \n",
       "20192                                     DRUG: ADVAGRAF®   \n",
       "\n",
       "                                 Primary Outcome Measures  \\\n",
       "94774   The seroconversion rates (SCRs) of susceptible...   \n",
       "170597  The seroconversion rates (SCRs) of susceptible...   \n",
       "2866    Clinical efficacy response (cure, failure, or ...   \n",
       "140890  Clinical efficacy response (cure, failure, or ...   \n",
       "15703   Unprotected sex, no contraceptive, Ever having...   \n",
       "157402  Unprotected sex, no contraceptive, Ever having...   \n",
       "11512   Incidence rate of biopsy confirmed acute rejec...   \n",
       "20192   Incidence rate of acute rejection reaction con...   \n",
       "\n",
       "                               Secondary Outcome Measures  \\\n",
       "94774   The incidences of adverse events (AEs) of each...   \n",
       "170597  The incidences of adverse events (AEs) of each...   \n",
       "2866    Clinical response at the IV last day of therap...   \n",
       "140890  Clinical response at the IV last day of therap...   \n",
       "15703   Reproductive and sexual health care utilizatio...   \n",
       "157402  Reproductive and sexual health care utilizatio...   \n",
       "11512   Severity of biopsy confirmed acute rejection, ...   \n",
       "20192   Severity of acute rejection reaction confirmed...   \n",
       "\n",
       "       Other Outcome Measures  \\\n",
       "94774                     NaN   \n",
       "170597                    NaN   \n",
       "2866                      NaN   \n",
       "140890                    NaN   \n",
       "15703                     NaN   \n",
       "157402                    NaN   \n",
       "11512                     NaN   \n",
       "20192                     NaN   \n",
       "\n",
       "                                                 Sponsor  \\\n",
       "94774      Sinovac (Dalian) Vaccine Technology Co., Ltd.   \n",
       "170597        Sinovac Research and Development Co., Ltd.   \n",
       "2866                                              Pfizer   \n",
       "140890  Wyeth is now a wholly owned subsidiary of Pfizer   \n",
       "15703                                       Child Trends   \n",
       "157402                              Healthy Teen Network   \n",
       "11512                                      Linical Korea   \n",
       "20192                                   Kim, Seoung-Hoon   \n",
       "\n",
       "                                            Collaborators     Sex  \\\n",
       "94774                                                 NaN     ALL   \n",
       "170597                                                NaN     ALL   \n",
       "2866                                                  NaN     ALL   \n",
       "140890                                                NaN     ALL   \n",
       "15703   Healthy Teen Network|Ewald and Wasserman|MetaM...  FEMALE   \n",
       "157402        Child Trends|Ewald and Wasserman|Meta Media  FEMALE   \n",
       "11512   Astellas Pharma Korea, Inc.|National Cancer Ce...     ALL   \n",
       "20192           Astellas Pharma Korea, Inc.|Linical Korea     ALL   \n",
       "\n",
       "                       Age  Phases  Enrollment Funder Type      Study Type  \\\n",
       "94774                CHILD  PHASE3      1150.0    INDUSTRY  INTERVENTIONAL   \n",
       "170597               CHILD  PHASE3      1140.0    INDUSTRY  INTERVENTIONAL   \n",
       "2866                 CHILD  PHASE3         0.0    INDUSTRY  INTERVENTIONAL   \n",
       "140890               CHILD  PHASE3         0.0    INDUSTRY  INTERVENTIONAL   \n",
       "15703                ADULT     NaN      2317.0       OTHER  INTERVENTIONAL   \n",
       "157402               ADULT     NaN      1304.0       OTHER  INTERVENTIONAL   \n",
       "11512   ADULT, OLDER_ADULT  PHASE4        31.0    INDUSTRY  INTERVENTIONAL   \n",
       "20192   ADULT, OLDER_ADULT  PHASE4        31.0   OTHER_GOV  INTERVENTIONAL   \n",
       "\n",
       "                                             Study Design  \\\n",
       "94774   Allocation: RANDOMIZED|Intervention Model: PAR...   \n",
       "170597  Allocation: RANDOMIZED|Intervention Model: PAR...   \n",
       "2866    Allocation: RANDOMIZED|Intervention Model: PAR...   \n",
       "140890  Allocation: RANDOMIZED|Intervention Model: PAR...   \n",
       "15703   Allocation: RANDOMIZED|Intervention Model: PAR...   \n",
       "157402  Allocation: |Intervention Model: |Masking: NON...   \n",
       "11512   Allocation: NA|Intervention Model: SINGLE_GROU...   \n",
       "20192   Allocation: NA|Intervention Model: SINGLE_GROU...   \n",
       "\n",
       "                   Other IDs  Start Date Primary Completion Date  \\\n",
       "94774         PRO-MUMPS-3001     2016-01                 2016-03   \n",
       "170597        PRO-MUMPS-3001     2016-01                 2016-03   \n",
       "2866    3074K4-3340|B1811003     2011-01                 2014-05   \n",
       "140890  3074K4-3340|B1811003     2011-01                 2014-05   \n",
       "15703            TP2AH000038     2016-11                 2019-11   \n",
       "157402           TP2AH000038     2016-11                 2017-12   \n",
       "11512                 Assign     2015-07              2017-12-14   \n",
       "20192                 Assign  2016-03-22              2017-07-18   \n",
       "\n",
       "       Completion Date First Posted Results First Posted Last Update Posted  \\\n",
       "94774       2016-07-15   2016-02-26                  NaN         2017-10-26   \n",
       "170597         2016-04   2021-10-01                  NaN         2021-10-01   \n",
       "2866           2014-05   2012-05-21                  NaN         2013-02-22   \n",
       "140890         2014-05   2009-06-05                  NaN         2012-06-07   \n",
       "15703          2020-06   2019-08-02                  NaN         2020-06-16   \n",
       "157402         2018-01   2017-08-18                  NaN         2018-01-23   \n",
       "11512       2017-12-14   2021-02-21                  NaN         2021-02-21   \n",
       "20192       2017-12-14   2018-02-06                  NaN         2018-02-06   \n",
       "\n",
       "                                                Locations Study Documents  \\\n",
       "94774   Dingxing County Center for Disease Control and...             NaN   \n",
       "170597  Dingxing County Center for Disease Control and...             NaN   \n",
       "2866                                                  NaN             NaN   \n",
       "140890                                                NaN             NaN   \n",
       "15703   Healthy Teen Network, Baltimore, Maryland, 212...             NaN   \n",
       "157402  Healthy Teen Network, Baltimore, Maryland, 212...             NaN   \n",
       "11512                                                 NaN             NaN   \n",
       "20192                                                 NaN             NaN   \n",
       "\n",
       "                                           official_title  \n",
       "94774   A Blind, Randomized and Controlled Clinical Tr...  \n",
       "170597  A Blind, Randomized and Controlled Clinical Tr...  \n",
       "2866    Multicenter, Randomized, And Double-Blind Stud...  \n",
       "140890  Multicenter, Randomized, And Double-Blind Stud...  \n",
       "15703   The Evaluation of Pulse: A Mobile Health App a...  \n",
       "157402  The Evaluation of Pulse: A Mobile Health App a...  \n",
       "11512   A Single Center, Single Arm, Open-label Study ...  \n",
       "20192   A Single Center, Single Arm, Open-label Study ...  "
      ]
     },
     "metadata": {},
     "output_type": "display_data"
    }
   ],
   "source": [
    "df = df.merge(my_studies[['nct_id', 'official_title']], on = 'nct_id', how = 'left')\n",
    "\n",
    "# Shape before\n",
    "display(df.shape)  \n",
    "df.drop_duplicates()  \n",
    "display(df.shape)  # Shape after --> Same --> No duplicate rows in all columns\n",
    "\n",
    "# Non Unique Study Title or IDs (But not in all columns) --> # Some Studies have Same Study Title but Different nct_id\n",
    "display(df.describe(include = ['object'])[[\"nct_id\", \"Study Title\", \"official_title\", \"Acronym\", \"Other IDs\"]])\n",
    "display(df[df.duplicated(subset = [\"Study Title\", \"Other IDs\"], keep = False)].sort_values(by = \"Study Title\"))  # Some even have Same Other IDs which is given by Sponsors, Study itself etc.\n",
    "\n"
   ]
  },
  {
   "cell_type": "markdown",
   "metadata": {},
   "source": [
    "##  Drop Rows"
   ]
  },
  {
   "cell_type": "code",
   "execution_count": 165,
   "metadata": {},
   "outputs": [
    {
     "data": {
      "text/plain": [
       "(177586, 31)"
      ]
     },
     "metadata": {},
     "output_type": "display_data"
    }
   ],
   "source": [
    "df = df.drop(df[~df[\"nct_id\"].isin(my_studies[\"nct_id\"])].index)  # Leipoun 15 ereunes apo th bash --> sxetikes me Devide + Diagnostics + etc. = display(177601-177586)\n",
    "display(df.shape)"
   ]
  },
  {
   "cell_type": "markdown",
   "metadata": {},
   "source": [
    "# 3) Columns Format Dtypes"
   ]
  },
  {
   "cell_type": "markdown",
   "metadata": {},
   "source": [
    "## Study Status\n",
    "Information Source: https://clinicaltrials.gov/policy/protocol-definitions#study-status\n",
    "- Withdrawn Studies = Permenantely Stopped as Noted in Data Source. Withdrawn is Replaced as Terminated. "
   ]
  },
  {
   "cell_type": "code",
   "execution_count": 166,
   "metadata": {},
   "outputs": [
    {
     "data": {
      "application/vnd.microsoft.datawrangler.viewer.v0+json": {
       "columns": [
        {
         "name": "Study Status",
         "rawType": "object",
         "type": "string"
        },
        {
         "name": "count",
         "rawType": "int64",
         "type": "integer"
        }
       ],
       "ref": "cf73b27b-688e-453c-b6e1-4d1d9d96981e",
       "rows": [
        [
         "COMPLETED",
         "151707"
        ],
        [
         "TERMINATED",
         "17478"
        ],
        [
         "WITHDRAWN",
         "8401"
        ]
       ],
       "shape": {
        "columns": 1,
        "rows": 3
       }
      },
      "text/plain": [
       "Study Status\n",
       "COMPLETED     151707\n",
       "TERMINATED     17478\n",
       "WITHDRAWN       8401\n",
       "Name: count, dtype: int64"
      ]
     },
     "metadata": {},
     "output_type": "display_data"
    },
    {
     "data": {
      "application/vnd.microsoft.datawrangler.viewer.v0+json": {
       "columns": [
        {
         "name": "Study Status",
         "rawType": "category",
         "type": "unknown"
        },
        {
         "name": "count",
         "rawType": "int64",
         "type": "integer"
        }
       ],
       "ref": "98fccb75-1bc0-482c-8617-433056822519",
       "rows": [
        [
         "COMPLETED",
         "151707"
        ],
        [
         "TERMINATED",
         "25879"
        ]
       ],
       "shape": {
        "columns": 1,
        "rows": 2
       }
      },
      "text/plain": [
       "Study Status\n",
       "COMPLETED     151707\n",
       "TERMINATED     25879\n",
       "Name: count, dtype: int64"
      ]
     },
     "metadata": {},
     "output_type": "display_data"
    },
    {
     "data": {
      "text/plain": [
       "(177586, 31)"
      ]
     },
     "metadata": {},
     "output_type": "display_data"
    }
   ],
   "source": [
    "display(df['Study Status'].value_counts(dropna=False))  # No null values\n",
    "\n",
    "df[\"Study Status\"] = df[\"Study Status\"].replace(\"WITHDRAWN\", \"TERMINATED\") # Replace \"WITHDRAWN\" with \"TERMINATED\" : withdrawn studies are permanently stopped based on Source\n",
    "df[\"Study Status\"] = df[\"Study Status\"].astype(\"category\")\n",
    "display(df['Study Status'].value_counts(dropna = False))  # No null values\n",
    "display(df.shape)"
   ]
  },
  {
   "cell_type": "markdown",
   "metadata": {},
   "source": [
    "## Age_List"
   ]
  },
  {
   "cell_type": "code",
   "execution_count": 167,
   "metadata": {},
   "outputs": [
    {
     "data": {
      "application/vnd.microsoft.datawrangler.viewer.v0+json": {
       "columns": [
        {
         "name": "Age",
         "rawType": "object",
         "type": "string"
        },
        {
         "name": "count",
         "rawType": "int64",
         "type": "integer"
        }
       ],
       "ref": "93635053-e4ce-4946-a244-ff400b1755cc",
       "rows": [
        [
         "ADULT, OLDER_ADULT",
         "113474"
        ],
        [
         "ADULT",
         "32525"
        ],
        [
         "CHILD",
         "11733"
        ],
        [
         "CHILD, ADULT, OLDER_ADULT",
         "10558"
        ],
        [
         "CHILD, ADULT",
         "6475"
        ],
        [
         "OLDER_ADULT",
         "2821"
        ]
       ],
       "shape": {
        "columns": 1,
        "rows": 6
       }
      },
      "text/plain": [
       "Age\n",
       "ADULT, OLDER_ADULT           113474\n",
       "ADULT                         32525\n",
       "CHILD                         11733\n",
       "CHILD, ADULT, OLDER_ADULT     10558\n",
       "CHILD, ADULT                   6475\n",
       "OLDER_ADULT                    2821\n",
       "Name: count, dtype: int64"
      ]
     },
     "metadata": {},
     "output_type": "display_data"
    },
    {
     "data": {
      "text/plain": [
       "Counter({'ADULT': 163032, 'OLDER_ADULT': 126853, 'CHILD': 28766})"
      ]
     },
     "metadata": {},
     "output_type": "display_data"
    },
    {
     "data": {
      "application/vnd.microsoft.datawrangler.viewer.v0+json": {
       "columns": [
        {
         "name": "Age_List",
         "rawType": "object",
         "type": "unknown"
        },
        {
         "name": "count",
         "rawType": "int64",
         "type": "integer"
        }
       ],
       "ref": "9a4f6b92-1c2e-4b91-8e5c-fba56b5eae85",
       "rows": [
        [
         "['ADULT', 'OLDER_ADULT']",
         "113474"
        ],
        [
         "['ADULT']",
         "32525"
        ],
        [
         "['CHILD']",
         "11733"
        ],
        [
         "['CHILD', 'ADULT', 'OLDER_ADULT']",
         "10558"
        ],
        [
         "['CHILD', 'ADULT']",
         "6475"
        ],
        [
         "['OLDER_ADULT']",
         "2821"
        ]
       ],
       "shape": {
        "columns": 1,
        "rows": 6
       }
      },
      "text/plain": [
       "Age_List\n",
       "[ADULT, OLDER_ADULT]           113474\n",
       "[ADULT]                         32525\n",
       "[CHILD]                         11733\n",
       "[CHILD, ADULT, OLDER_ADULT]     10558\n",
       "[CHILD, ADULT]                   6475\n",
       "[OLDER_ADULT]                    2821\n",
       "Name: count, dtype: int64"
      ]
     },
     "metadata": {},
     "output_type": "display_data"
    },
    {
     "data": {
      "text/plain": [
       "(177586, 31)"
      ]
     },
     "metadata": {},
     "output_type": "display_data"
    }
   ],
   "source": [
    "display(df[\"Age\"].value_counts(dropna=False))  \n",
    " \n",
    "df[\"Age\"] = df[\"Age\"].str.replace(', ', ',').str.split(\",\")   # No apply sort(list(x)) needed here - No duplicated elements with diff list-elem order\n",
    "\n",
    "display(Counter([elem for row_list in df[\"Age\"].dropna() for elem in row_list]))  \n",
    "# display(set(elem for row_list in df[\"Age\"].dropna() for elem in row_list)) # Unique values in a list type element column\n",
    "df = df.rename(columns = {\"Age\": \"Age_List\"})\n",
    "\n",
    "display(df[\"Age_List\"].value_counts(dropna=False))  \n",
    "display(df.shape)"
   ]
  },
  {
   "cell_type": "markdown",
   "metadata": {},
   "source": [
    "## Sex"
   ]
  },
  {
   "cell_type": "code",
   "execution_count": 168,
   "metadata": {},
   "outputs": [
    {
     "data": {
      "application/vnd.microsoft.datawrangler.viewer.v0+json": {
       "columns": [
        {
         "name": "Sex",
         "rawType": "object",
         "type": "unknown"
        },
        {
         "name": "count",
         "rawType": "int64",
         "type": "integer"
        }
       ],
       "ref": "ea88facd-5b9d-4541-966c-9e5808c125da",
       "rows": [
        [
         "ALL",
         "151315"
        ],
        [
         "FEMALE",
         "17076"
        ],
        [
         "MALE",
         "9100"
        ],
        [
         null,
         "95"
        ]
       ],
       "shape": {
        "columns": 1,
        "rows": 4
       }
      },
      "text/plain": [
       "Sex\n",
       "ALL       151315\n",
       "FEMALE     17076\n",
       "MALE        9100\n",
       "NaN           95\n",
       "Name: count, dtype: int64"
      ]
     },
     "metadata": {},
     "output_type": "display_data"
    },
    {
     "data": {
      "application/vnd.microsoft.datawrangler.viewer.v0+json": {
       "columns": [
        {
         "name": "Sex",
         "rawType": "object",
         "type": "unknown"
        },
        {
         "name": "count",
         "rawType": "int64",
         "type": "integer"
        }
       ],
       "ref": "6844de8d-a40e-412a-9985-b76d3d01feca",
       "rows": [
        [
         "ALL",
         "151321"
        ],
        [
         "FEMALE",
         "17080"
        ],
        [
         "MALE",
         "9100"
        ],
        [
         null,
         "85"
        ]
       ],
       "shape": {
        "columns": 1,
        "rows": 4
       }
      },
      "text/plain": [
       "Sex\n",
       "ALL       151321\n",
       "FEMALE     17080\n",
       "MALE        9100\n",
       "None          85\n",
       "Name: count, dtype: int64"
      ]
     },
     "metadata": {},
     "output_type": "display_data"
    },
    {
     "data": {
      "text/plain": [
       "(177586, 31)"
      ]
     },
     "metadata": {},
     "output_type": "display_data"
    }
   ],
   "source": [
    "display(df[\"Sex\"].value_counts(dropna=False))  \n",
    "\n",
    "# Fillna from my_eligibilities df\n",
    "df = df.merge(my_eligibilities[[\"nct_id\", \"gender\"]], on = \"nct_id\", how = \"left\")\n",
    "df['Sex'] = df['Sex'].fillna(df['gender'])\n",
    "df = df.drop(columns=['gender'])\n",
    "df[\"Sex\"].isnull().sum()  # Just 1 row/point filled\n",
    "\n",
    "# Fillna from Brief Summary\n",
    "df.loc[ df[\"Sex\"].isnull() & df[\"Brief Summary\"].str.contains(r\"(?i)\\bmale\\b|\\bmen\\b\", na=False) & \\\n",
    "                 df[\"Brief Summary\"].str.contains(r\"(?i)\\bfemale\\b|\\bwomen\\b\", na=False), \"Sex\"] = \"ALL\"\n",
    "\n",
    "df.loc[ df[\"Sex\"].isnull() & ~ df[\"Brief Summary\"].str.contains(r\"(?i)\\bmale\\b|\\bmen\\b\", na=False) & \\\n",
    "                 df[\"Brief Summary\"].str.contains(r\"(?i)\\bfemale\\b|\\bwomen\\b\", na=False), \"Sex\"] = \"FEMALE\"\n",
    "\n",
    "df.loc[ df[\"Sex\"].isnull() & df[\"Brief Summary\"].str.contains(r\"(?i)\\bmale\\b|\\bmen\\b\", na=False) & \\\n",
    "                ~ df[\"Brief Summary\"].str.contains(r\"(?i)\\bfemale\\b|\\bwomen\\b\", na=False), \"Sex\"] = \"MALE\"\n",
    "\n",
    "display(df[\"Sex\"].value_counts(dropna=False))\n",
    "display(df.shape)"
   ]
  },
  {
   "cell_type": "markdown",
   "metadata": {},
   "source": [
    "## Funder"
   ]
  },
  {
   "cell_type": "markdown",
   "metadata": {},
   "source": [
    "### Funder_Type\n",
    "\n",
    "PRS Source: https://register.clinicaltrials.gov/prs/html/account-organizations.html#page-top\n",
    "Companies Source : https://companiesmarketcap.com/pharmaceuticals/largest-pharmaceutical-companies-by-market-cap/\n",
    "1. U.S. National Institutes of Health\n",
    "2. Other U.S. Federal agencies (for example, Food and Drug Administration, Centers for Disease Control and Prevention, or U.S. Department of Veterans Affairs)\n",
    "3. Industry (for example: pharmaceutical and device companies)\n",
    "4. All others (including individuals, universities, and community-based organizations)"
   ]
  },
  {
   "cell_type": "code",
   "execution_count": 169,
   "metadata": {},
   "outputs": [
    {
     "data": {
      "application/vnd.microsoft.datawrangler.viewer.v0+json": {
       "columns": [
        {
         "name": "Funder_Type",
         "rawType": "object",
         "type": "string"
        },
        {
         "name": "count",
         "rawType": "int64",
         "type": "integer"
        }
       ],
       "ref": "aa9224d8-d9e7-4a5f-8ede-0675becb128e",
       "rows": [
        [
         "OTHER",
         "120444"
        ],
        [
         "INDUSTRY",
         "49624"
        ],
        [
         "OTHER_GOV",
         "3443"
        ],
        [
         "FED",
         "1628"
        ],
        [
         "NIH",
         "1391"
        ],
        [
         "NETWORK",
         "871"
        ],
        [
         "INDIV",
         "170"
        ],
        [
         "UNKNOWN",
         "13"
        ],
        [
         "AMBIG",
         "2"
        ]
       ],
       "shape": {
        "columns": 1,
        "rows": 9
       }
      },
      "text/plain": [
       "Funder_Type\n",
       "OTHER        120444\n",
       "INDUSTRY      49624\n",
       "OTHER_GOV      3443\n",
       "FED            1628\n",
       "NIH            1391\n",
       "NETWORK         871\n",
       "INDIV           170\n",
       "UNKNOWN          13\n",
       "AMBIG             2\n",
       "Name: count, dtype: int64"
      ]
     },
     "metadata": {},
     "output_type": "display_data"
    },
    {
     "data": {
      "text/plain": [
       "(177586, 31)"
      ]
     },
     "metadata": {},
     "output_type": "display_data"
    }
   ],
   "source": [
    "df = df.rename(columns={\"Funder Type\": \"Funder_Type\"})\n",
    "display(df[\"Funder_Type\"].value_counts(dropna=False))  \n",
    "display(df.shape)"
   ]
  },
  {
   "cell_type": "markdown",
   "metadata": {},
   "source": [
    "### Sponsor_Collab_List"
   ]
  },
  {
   "cell_type": "code",
   "execution_count": 170,
   "metadata": {},
   "outputs": [
    {
     "data": {
      "text/plain": [
       "\"180 life sciences|2seventy bio|3m|4d molecular therapeutics|89bio|a. nattermann|aadi bioscience|aah|aardvark therapeutics|aarti drugs|abbott india|abbott|abbvie|abcellera|abeona therapeutics|abiomed|abivax|abraxis bioscience|absci|ac immune|acadia pharmaceuticals|acadia|acceleron|acelyrin|acg group|achieve life sciences|aci limited|aclaris therapeutics|acme laboratories|acorda|acrivon therapeutics|act|actavis|actelion|actinium pharmaceuticals|acumen pharmaceuticals|acura|adagene|adaptimmune therapeutics|adaptive biotechnologies|adc therapeutics|adcock ingram|addex therapeutics|adial pharmaceuticals|adicet bio|adlai nortye|adma biologics|advanced accelerator applications|advanz|advaxis|adverum biotechnologies|aeon biopharma|aerie|aerovate therapeutics|affimed|aft pharmaceuticals|agenus|agios pharmaceuticals|agios|aileron therapeutics|aim immunotech|ajanta|akbarieh|akebia therapeutics|akero therapeutics|akeso|akorn|alaunos therapeutics|alcon|aldeyra therapeutics|alector|alembic pharmaceuticals|alembic|alexion|algeta|alimera|alk-abelló|alk-abellγ³|alkaloid|alkem laboratories|alkem|alkermes|allakos|allen & hanburys|allergan|allergy therapeutics|alliance pharma|alligator bioscience ab|allogene therapeutics|allovir|allozyne|almirall|alnylam pharmaceuticals|alnylam|alphabetical listing—defunct firms|alphapharm|altamira therapeutics|altana|alteogen|altimmune|alto neuroscience|alumis|alvogen|alvotech|alx oncology|alza|alzheon|amag|amarin corporation|ambit|ameridose|amersham plc|amgen|amicus therapeutics|amneal pharmaceuticals|amneal|amphastar pharmaceuticals|amphastar|ampio pharmaceuticals|amrutanjan healthcare|amylin|amylyx pharmaceuticals|an2 therapeutics|anacor|anaptysbio|anavex life sciences|angelini|angiotech|ani pharmaceuticals|anixa biosciences|annexin|annexon|annovis bio|anthera|antibe|antibiotice iași|antikamnia|apellis pharmaceuticals|aplia|apogee therapeutics|apotex|apothécure|applied therapeutics|aprea therapeutics|apricus|aptalis|aptorum group|aptose biosciences|aquestive therapeutics|arab pharmaceutical manufacturing|arbutus biopharma|arbutus|arcellx|arcturus therapeutics|arcutis biotherapeutics|ardelyx|arena|argenx|ariad|armata pharmaceuticals|array|arrivent biopharma|arrowhead pharmaceuticals|arrowhead|ars pharmaceuticals|artiva biotherapeutics|arvinas|aryogen|ascendis pharma|aspen pharmacare|assertio therapeutics|assertio|astellas pharma|astellas|astex|astra|astrazeneca|atai life sciences|atara biotherapeutics|atea pharmaceuticals|athira pharma|atossa therapeutics|atyr pharma|atyr|aura biosciences|aurinia pharmaceuticals|aurobindo pharma|aurobindo|aurora|australian pharmaceutical industries|autolus therapeutics|avacta group|avadel pharmaceuticals|avalon globocare|avalon pharma (middle east pharmaceutical)|avax|avella|aventis|avidity biosciences|axsome therapeutics|ayrton|aytu bioscience|azitra|b. braun|bachem|barinthus biotherapeutics|barkat|barr|basilea pharmaceutica|bausch & lomb|bausch health|bavarian nordic|baxalta|baxter|bayer|bb biotech|bcm|beacon|beam therapeutics|beam|beecham group|behestan darou|beigene|belite bio|bellerophon therapeutics|bengal chemicals and pharmaceuticals|benitec biopharma|benitec|berlin chemie|besins healthcare|beximco|beyondspring|bharat biotech|bial|bicara therapeutics|bicycle therapeutics|bio farma|bioaffinity technologies|bioage labs|bioarctic ab|bioatla|biocon|biocryst pharmaceuticals|biocryst|bioderma|biofrontera|biogen|biohaven|bioinvent|biolex|biolinerx|biomarin pharmaceutical|biomarin|biomérieux|biondvax|bionova|biontech|biora therapeutics|bio-techne|biotest|biotie therapies|biovail|bioverativ|biovest|biovista|bioxcel therapeutics|bliss gvs pharma|block drug|bluebird bio|bluepharma|blueprint medicines|boehringer ingelheim|boehringer mannheim|boiron|bosnalijek|botanix pharmaceuticals|boundless bio|bracco|bradley|brainstorm cell therapeutics|bridgebio pharma|bright minds biosciences|bristol-myers squibb|british biotech|btg|buckley's|bullfrog ai|c4 therapeutics|cabaletta bio|cadila|cadrenal therapeutics|calcutta chemical company|calithera biosciences|cambridge antibody technology|camp4 therapeutics|camurus|can fite biopharma|canadian plasma resources|cancervax|cangene|cansinobio|capricor therapeutics|capsugel|captor therapeutics|cara therapeutics|carefusion|cargo therapeutics|carisma therapeutics|cartesian therapeutics|casi pharmaceuticals|cassava sciences|catalent|catalyst pharmaceuticals|catalyst|cathay drug|cederroth|celesio|celgene|celldex therapeutics|cellectis|celltech|celltrion|celon pharma|cel-sci|celularity|cencora|centessa pharmaceuticals|century|cephalon|ceragenix|cereno scientific|cerevel|cervomed|cfr|cg oncology|chemidex|cheng fong|cheplapharm arzneimittel|chiesi|chimerix|china resources pharmaceutical group|chiron corporation|chiroscience|chong kun dang|chugai pharmaceutical|chugai|cingulate|cinnagen|cipla|citius pharmaceuticals|civica rx|clearside biomedical|clicks group|clinuvel pharmaceuticals|clovis oncology|cobel darou|coco|cocrystal pharma|codexis|cogent biosciences|coherus biosciences|collegium pharmaceutical|combe|compass therapeutics|compugen|concord|context therapeutics|contineum therapeutics|corbus pharmaceuticals|corcept therapeutics|corcept|cormedix|corvus pharmaceuticals|cosmo pharmaceuticals|covidien|coya therapeutics|creative biomart|crinetics pharmaceuticals|crispr therapeutics|crookes healthcare|crucell|csl|csl behring|cspc zhongrun|cspc|cubist|cue biopharma|cullinan therapeutics|curevac|curevac|curis|cutter|cvs health|cybin|cyclacel|cyclerion therapeutics|cynapsus|cytokinetics|cytomed therapeutics|cytomx therapeutics|cytosorbents|cytrx|dabur|daewoong|daiichi sankyo|daiichi sankyε\\x8d|danco|dare bioscience|darou pakhsh|dawa|dawakhana shifaul amraz|day one biopharmaceuticals|dbv technologies|debiopharm|dechra|delix|denali therapeutics|dentsply sirona|dermapharm|design therapeutics|deurali-janta|diamyd medical|diffusion|disc medicine|dishman carbogen amcis|distillers|divis laboratories|divi's laboratories|docmorris|douglas|dr. reddy's|dr. reddy's laboratories|dri healthcare trust|drug houses of australia|dynavax technologies|dyne therapeutics|eagle pharmaceuticals|editas medicine|effector therapeutics|eisai|élan|elanco|elder|electrocore|eledon pharmaceuticals|elevation oncology|eli lilly|eli lilly and company|emcure|emergent biosolutions|emergent|empire|ems|enanta pharmaceuticals|endo|endocyte|engene|enliven therapeutics|ensysce biosciences|entera bio|entrada therapeutics|epitopoietic research corporation|epix|equillium|erasca|eskayef|esperion therapeutics|esperion|essa pharma|esteve|eterna therapeutics|euroapi|evofem biosciences|evoke pharma|evolus|evotec|excision biotherapeutics|exelgyn|exelixis|exozymes|eyenovia|eyepoint pharmaceuticals|f. h. faulding & co|fabre-kramer|faes farma|fagron|fareva|farmitalia|faron|fate therapeutics|fdc india|fermentek|ferring|fibrogen|financiγ¨re de tubize|fisons|flavorx|flexion|foghorn therapeutics|forest|formycon ag|fortress biotech|fortress|fortune pharmacal|fosun|fresenius|fulcrum therapeutics|fulhold|futura medical|g.d. searle|g.f. harvey company|galapagos nv|galderma group|galderma|galectin therapeutics|galena|galenica|galenika|galmed pharmaceuticals|gamida cell|gedeon richter|gelteq limited|genelux|genenta science|genentech|general|generation bio|genetics institute|genfit|genmab|genomma lab internacional|genoway|genprex|genset|gensight biologics|genzyme|geron|gh research|giaconda|gilead sciences|gilead|ginkgo bioworks|gland pharma|glatt group|glaukos|glaxosmithkline|glaxosmithkline pakistan|glenmark pharmaceuticals|glenmark|glycomimetics|gossamer bio|gpc biotech|grace therapeutics|graceway|granules india|green cross|greenwich lifesciences|grifols|grindeks|gritstone bio|grünenthal|gsk|gtx|guangzhou|guerbet|gulf pharmaceutical industries|gw|gyre therapeutics|h. k. mulford|hafslund nycomed|hal allergy group|halozyme therapeutics|hanhong|hanmi pharmaceutical|hanmi|hansoh pharma|hansoh|harbin|harmony biosciences|harrow health|hebei yuxing bio-engineering co. ltd|help remedies|hepion pharmaceuticals|heron therapeutics|herron|hester biosciences|hetero drugs|hikal|hikma pharmaceuticals|hikma|hillevax|himispherx|hindustan antibiotics|hisamitsu|hoechst|hookipa pharma|horizon|hospira|hoth therapeutics|hovid|hovione|huadong medicine|hualan biological engineering|human genome sciences|hutchmed|hypera|ibio|icad|icon plc|ideaya biosciences|idorsia|ifm|igm biosciences|ikena oncology|il|i-mab biopharma|immatics|immix biopharma|immuneering|immunic|immunitybio|immunocore|immunogen|immunome|immunomedics|immunoprecise antibodies|immunovant|immuron|immutep|imugene|imunon|incannex healthcare|incepta|incyte|indian drugs and pharmaceuticals|indivior plc|indoco remedies|infant bacterial therapeutics ab|inflarx|inhibrx|inmune bio|innate pharma|innoviva|inotiv|inovio pharmaceuticals|inozyme pharma|insmed|instil bio|institute for oneworld health|insys|intarcia|intas|intellia therapeutics|intensity therapeutics|intercure|intra-cellular therapies|inventiva|invivyd|io biotech|ionis pharmaceuticals|ionis|iovance biotherapeutics|ipca laboratories|ipca|ipsen|ironwood pharmaceuticals|ista|iteos therapeutics|iterum therapeutics|ith|jaber ebne hayyan|jaguar health|james woolley, sons and co.|jamjoom pharmaceuticals factory company|janone|janssen|janux therapeutics|jasper therapeutics|jazz pharmaceuticals|jazz|jcr pharmaceuticals|jenapharm|jennerex|jerini|jiangsu hengrui medicine|jiangsu hengrui|jilin aodong medicine|jn-international medical corporation|johnson & johnson|jointown|jones|journey medical|jubilant pharmova|julphar|juno|kadmon|kala pharmaceuticals|kalbe farma|kalvista pharmaceuticals|kamada|kangmei|kannalife|karyopharm therapeutics|kentam products limited|kerala state drugs and pharmaceuticals limited|keros therapeutics|kezar life sciences|kimia farma|kinetic concepts|king|kiniksa pharmaceuticals|kissei pharmaceutical|kissei|kite|knight|knoll|kobayashi pharmaceutical|kodiak sciences|korro bio|kronos bio|krystal biotech|kunming|kura oncology|kv|kymera therapeutics|kyorin pharmaceutical|kyowa kirin|kyowa kirin|kyverna therapeutics|labcorp|laboratoires expanscience|laboratoires pierre fabre|laboratoires servier|laboratorio reig jofre|laboratorios farmaceuticos rovi|lakeshore biopharma|lantern pharma|larimar therapeutics|laurus labs|lava therapeutics|lavipharm|lawley|leadiant|leap therapeutics|legend biotech|leiner health products|lenz therapeutics|leo|lexeo therapeutics|lexicon pharmaceuticals|lexicon|lianbio|lifecore biomedical|lifse|ligand|lijun|liminal|lineage cell therapeutics|lion|lipella pharmaceuticals|lipocine|liquidia technologies|locus|loghman|longeveron|lonza|lucy scientific discovery|lumos pharma|lundbeck|lundbeck seattle|lupin limited|lyell immunopharma|lyra therapeutics|macrogenics|madrigal pharmaceuticals|maia biotechnology|mallinckrodt pharmaceuticals|mallinckrodt|mangoceuticals|mankind pharma|mankind|mannkind corp|mannkind corporation|mapp|marathon|maravai lifesciences|marinus pharmaceuticals|marksans pharma|martek|martin dow|massone |matinas biopharma|maxcyte|maxygen|mayne pharma group|mayne|maze therapeutics|mbx biosciences|mcguff|mcneil consumer healthcare|meda|medac|medarex|medherant|medicinova|medigene ag|medimmune|medios ag|medivation|medivir|mediwound|medochemie|medpace|meiji seika|meiragtx|melinta|melior discovery|menarini|mentholatum|merck|merck & co.|merck group|merck kgaa|mereo biopharma group|meridian medical technologies|merrimack|mersana therapeutics|merus|merz|mesoblast|metsera|meyer brothers|microgen|miles laboratories|milestone pharmaceuticals|mind medicine (mindmed)|mindmed|mineralys therapeutics|minerva neurosciences|mink therapeutics|mirum pharmaceuticals|mitsubishi tanabe|mochida pharmaceutical|mochida|moderna|molecular partners|monopar therapeutics|monte rosa therapeutics|moonlake immunotherapeutics|movetis|mundipharma|mural oncology|mustang|mylan|mymd pharmaceuticals|myrexis|myriad genetics|naari |nanjing ange|nanobiotix|nanoform finland|nanoviricides|napp|natco pharma|natco|nativita|nautilus biotechnology|nectar lifesciences|nederlandsche cocaïnefabriek|neilmed|neimeth|nektar therapeutics|nektar|nereus|neuland laboratories|neumora therapeutics|neuphoria therapeutics|neuren pharmaceuticals|neurocrine biosciences|neurogene|neurolixis|neuropathix|new england compounding center|newamsterdam pharma company|newron pharmaceuticals|nicox|nippon kayaku|nippon shinyaku|nippon soda|nipro corporation|nkarta|north china|northwest biotherapeutics|norwich pharma services|novabay|novartis|novartis gene therapies|novavax|novo nordisk|novobiotic|noxxon|nrx pharmaceuticals|nucana|nurix therapeutics|nuvalent|nuvation bio|nuvectis pharma|nuvelo|nxera pharma|nycomed|nykode therapeutics|nymox pharmaceutical|ocean biomedical|octapharma|ocugen|ocular therapeutix|oculis holding ag|ocuphire pharma|okyo pharma|olainfarm|olema pharmaceuticals|omega therapeutics|omega|omeros corporation|omniab|oncodesign precision medicine|oncolytics biotech|oncolytics|onkure therapeutics|ono pharmaceutical|ono|onyx|opsona|opthea|optinose|oragenics|oramed pharmaceuticals|oramed|orchestra biomed|orchid|orexigen|orexo|organon|organon & co.|organovo|oric pharmaceuticals|orifarm|orion corporation|orion|ortho|ortho-mcneil|oryzon genomics|os therapies|ose immunotherapeutics|osi|otis clapp|otsuka holdings|otsuka|outlook therapeutics|ovation|ovid therapeutics|oxford biomedica|oystershell nv|painceptor|painreform|palatin technologies|panacea biotec|panaxia|par|parke-davis|passage bio|path|patheon|paxmedica|pds biotechnology|pepgen|peptidream|perrigo|perseidjv|perspective therapeutics|petros pharmaceuticals|pfizer|pfizer uk|pharma mar|pharma nord|pharmaceutical product development|pharmacia & upjohn|pharmacia|pharmacosmos|pharmaniaga|pharmanutra|pharmascience|pharmasgp|pharmavite|pharming group|pharmstandard|pharvaris|phathom pharmaceuticals|phibro animal health|phio pharmaceuticals|phoenix pharmahandel|photocure|pieris pharmaceuticals|piramal group|piramal pharma|pku healthcare|plexxikon|pliant therapeutics|pliva|pluri|pmv pharmaceuticals|polypeptide group|portage biotech|portola|poulenc frères|powderject|prasco|praxis precision medicines|precigen|precision biosciences|precision|prelude therapeutics|prime medicine|probi ab|procaps group|procter & gamble|profound|prokidney|prometic life sciences|promomed|proqr|protagonist therapeutics|protalix biotherapeutics|protalix|protara therapeutics|protein sciences|protek|proteolix|proteon|prothena|psivida|ptc therapeutics|pulmatrix|puma biotechnology|puma|purdue|puretech health|pyxis oncology|q32 bio|quantum|quark|quince therapeutics|quoin pharmaceuticals|race oncology|rafael holdings|ranbaxy laboratories|rani therapeutics|rapport therapeutics|rapt therapeutics|ratiopharm|reata|recherche et industrie thérapeutiques|reckitt|recordati|recursion pharmaceuticals|redhill biopharma|regencell bioscience|regeneron pharmaceuticals|regeneron|regenxbio|regulus therapeutics|regulus|rein therapeutics|relay therapeutics|reliant|relmada therapeutics|renata|renovaro biosciences|renovo|repare therapeutics|repligen|replimune|repros|retrotope|revolution medicines|rezolute|rhône-poulenc|rhythm pharmaceuticals|richter gedeon|rigel pharmaceuticals|roche|rocket pharmaceuticals|rockwell medical|rohto pharmaceutical|rohto|roivant sciences|romat|rosepharma|roussel uclaf|rowell|royalty pharma|rpg life sciences|rpg|r-pharm|rubicon research|rvl pharmaceuticals|ryukakusan|s. e. massengill|sage therapeutics|sagimet biosciences|saidal|salix|salubris|samsung biologics|sana biotechnology|sandoz group|sangamo therapeutics|sangamo|sanitas|sankogan|sanofi|sanofi india limited|sanofi pasteur|santaris|santen pharmaceutical|santen|santhera pharmaceuticals|sarepta therapeutics|sarepta|sato|savara|schering ag|schering-plough|scholar rock holding|schott pharma|scilex holding|scioderm|scpharmaceuticals|scynexis|seagen|seelos therapeutics|sellas life sciences|selvita|sensorion|senti biosciences|seppic|septerna|sequent scientific|seres therapeutics|serina therapeutics|serono|serum institute of india|servier|shanghai|shattuck labs|sheffield|shenzhen kangtai|shinpoong pharm|shionogi|shire|sido muncul|siegfried holding|siga technologies|siga|sigma healthcare|sihuan|silence therapeutics|silence|simcere|sino biopharmaceutical|sino|sinopharm|sinopharm group|sinovac|sionna therapeutics|skye bioscience|smith, kline & french|smnith|soleno therapeutics|sol-gel technologies|solid biosciences|soligenix|solopharm|solvay|somnogen canada inc|sonoma pharmaceuticals|sparc|spark|spc|spectrum|spero therapeutics|sphere fluidics|spimaco (saudi pharmaceutical industries and medical appliances corporation)|spotlight innovation|springworks therapeutics|spruce biosciences|spyre therapeutics|square|stada arzneimittel|stada arzneimittel|stallergenes greer|starwin|sterling|stiefel|stoke therapeutics|strides pharma|strides|structure therapeutics|stryker|sucampo|sumitomo chemical|sumitomo pharma|sumitomo|summit therapeutics|sun pharmaceutical|sun|sunovion|supernus pharmaceuticals|sutro biopharma|sutro|swedish orphan biovitrum|syndax pharmaceuticals|synlogic|syntex|synthaverse|synthon|syros pharmaceuticals|taisho|takeda pharmaceutical|takeda|talis biomedical|talphera|tango therapeutics|tanox|taro|tarsus pharmaceuticals|tasly|taysha gene therapies|tectonic therapeutic|teijin|telesta|telix pharmaceuticals|telomir pharmaceuticals|temmler|tempest therapeutics|tenaya therapeutics|terapia ranbaxy|terns pharmaceuticals|teva active pharmaceutical ingredients|teva canada|teva pharmaceutical industries|teva|tevogen bio|tg therapeutics|tharimmune|theramex|therapeuticsmd|theraplix|theratechnologies|theravance biopharma|third harmonic bio|this is a\\xa0dynamic list\\xa0and may never be able to satisfy particular standards for completeness. you can help by\\xa0adding missing items\\xa0with\\xa0reliable sources.|thornton & ross|tibotec|tilray|titan pharmaceuticals|tiziana life sciences|tme|tonix pharmaceuticals|tonix|torque|torrent pharmaceuticals|torrent|tourmaline bio|towa pharmaceutical|transgene sa|transgene|travere therapeutics|trevena|trevi therapeutics|troikaa|trubion|tscan therapeutics|ttk group|turing|turnstone biologics|tyra biosciences|ucb|ultragenyx pharmaceutical|unichem|unilab|unilever|union de pharmacologie scientifique appliquée|uniqure|united therapeutics|unity biotechnology|upjohn|upstream bio|urogen pharma|usv|vaccinex|valneva se|vanda pharmaceuticals|vaxart|vaxcyte|vaxxinity|vbi vaccines|vectura|veloxis|ventyx biosciences|vera therapeutics|veranova|verastem oncology|vericel|vernalis group|vernalis plc|vernalis research|verona pharma|verrica pharmaceuticals|vertex pharmaceuticals|vertex|veru|verve therapeutics|vetoquinol|vianex|viatris|vigil neuroscience|viiv healthcare|viking therapeutics|vincerx pharma|viracta therapeutics|virbac sa|viridian therapeutics|viromed|viropharma|vistagen therapeutics|vistin pharma|vivani medical|vivimed labs|vor biopharma|voyager therapeutics|vtv therapeutics|vyne therapeutics|walgreens boots alliance|warner chilcott|warner-lambert|wave life sciences|weifa|werewolf therapeutics|west pharmaceutical|wilson therapeutics|wockhardt|wörwag|wuxi apptec|wuxi biologics|wyeth|x4 pharmaceuticals|xbiotech|xencor|xenetic biosciences|xenon pharmaceuticals|xeris pharmaceuticals|xiangxue|xilio therapeutics|xoma|yangtze river|y-mabs therapeutics|yuhan|yunnan baiyao group|zai lab|zambon|zandu realty|zealand pharma|zealand|zenas biopharma|zeneca|zentalis pharmaceuticals|zentiva|zeria pharmaceutical|zeria|zevra therapeutics|zoetis|zomedica pharmaceuticals|zonite|zura bio|zydus lifesciences|zydus|zymeworks|zymogenetics\""
      ]
     },
     "metadata": {},
     "output_type": "display_data"
    },
    {
     "data": {
      "application/vnd.microsoft.datawrangler.viewer.v0+json": {
       "columns": [
        {
         "name": "index",
         "rawType": "int64",
         "type": "integer"
        },
        {
         "name": "Pharma",
         "rawType": "object",
         "type": "string"
        }
       ],
       "ref": "784c8adb-a002-4255-be88-003b3ed65c60",
       "rows": [
        [
         "0",
         "180 Life Sciences"
        ],
        [
         "1",
         "2seventy bio"
        ],
        [
         "2",
         "3M"
        ],
        [
         "3",
         "4D Molecular Therapeutics"
        ],
        [
         "4",
         "89bio"
        ],
        [
         "5",
         "A. Nattermann"
        ],
        [
         "6",
         "Aadi Bioscience"
        ],
        [
         "7",
         "AAH"
        ],
        [
         "8",
         "Aardvark Therapeutics"
        ],
        [
         "9",
         "Aarti Drugs"
        ],
        [
         "10",
         "Abbott India"
        ],
        [
         "11",
         "Abbott"
        ],
        [
         "12",
         "AbbVie"
        ],
        [
         "13",
         "AbCellera"
        ],
        [
         "14",
         "Abeona Therapeutics"
        ],
        [
         "15",
         "Abiomed"
        ],
        [
         "16",
         "Abivax"
        ],
        [
         "17",
         "Abraxis BioScience"
        ],
        [
         "18",
         "Absci"
        ],
        [
         "19",
         "AC Immune"
        ],
        [
         "20",
         "ACADIA Pharmaceuticals"
        ],
        [
         "21",
         "Acadia"
        ],
        [
         "22",
         "Acceleron"
        ],
        [
         "23",
         "ACELYRIN"
        ],
        [
         "24",
         "ACG Group"
        ],
        [
         "25",
         "Achieve Life Sciences"
        ],
        [
         "26",
         "ACI Limited"
        ],
        [
         "27",
         "Aclaris Therapeutics"
        ],
        [
         "28",
         "ACME Laboratories"
        ],
        [
         "29",
         "Acorda"
        ],
        [
         "30",
         "Acrivon Therapeutics"
        ],
        [
         "31",
         "ACT"
        ],
        [
         "32",
         "Actavis"
        ],
        [
         "33",
         "Actelion"
        ],
        [
         "34",
         "Actinium Pharmaceuticals"
        ],
        [
         "35",
         "Acumen Pharmaceuticals"
        ],
        [
         "36",
         "Acura"
        ],
        [
         "37",
         "Adagene"
        ],
        [
         "38",
         "Adaptimmune Therapeutics"
        ],
        [
         "39",
         "Adaptive Biotechnologies"
        ],
        [
         "40",
         "ADC Therapeutics"
        ],
        [
         "41",
         "Adcock Ingram"
        ],
        [
         "42",
         "Addex Therapeutics"
        ],
        [
         "43",
         "Adial Pharmaceuticals"
        ],
        [
         "44",
         "Adicet Bio"
        ],
        [
         "45",
         "Adlai Nortye"
        ],
        [
         "46",
         "ADMA Biologics"
        ],
        [
         "47",
         "Advanced Accelerator Applications"
        ],
        [
         "48",
         "Advanz"
        ],
        [
         "49",
         "Advaxis"
        ]
       ],
       "shape": {
        "columns": 1,
        "rows": 1389
       }
      },
      "text/plain": [
       "0               180 Life Sciences\n",
       "1                    2seventy bio\n",
       "2                              3M\n",
       "3       4D Molecular Therapeutics\n",
       "4                           89bio\n",
       "                  ...            \n",
       "1437                     Zura Bio\n",
       "1438           Zydus Lifesciences\n",
       "1439                        Zydus\n",
       "1440                    Zymeworks\n",
       "1442                 ZymoGenetics\n",
       "Name: Pharma, Length: 1389, dtype: object"
      ]
     },
     "execution_count": 170,
     "metadata": {},
     "output_type": "execute_result"
    }
   ],
   "source": [
    "pharma = pd.read_csv(r\"C:\\Users\\Eugenia\\OneDrive\\Documents\\THESIS\\Pharmaceuticals.csv\")\n",
    "pharma = pharma.rename(columns = {pharma.columns[0]: 'Pharma'})\n",
    "pharma[\"Pharma\"] = pharma[\"Pharma\"].apply(lambda x: x.rstrip(\"\\xa0\"))\n",
    "pharma = pharma.drop_duplicates(subset=[\"Pharma\"]) \n",
    "pharma = pharma[\"Pharma\"]\n",
    "\n",
    "pattern = '|'.join(pharma.unique()).lower()  # Create a regex pattern from the pharma list\n",
    "display(pattern)\n",
    "pharma\n"
   ]
  },
  {
   "cell_type": "code",
   "execution_count": 171,
   "metadata": {},
   "outputs": [
    {
     "data": {
      "text/plain": [
       "0"
      ]
     },
     "metadata": {},
     "output_type": "display_data"
    },
    {
     "name": "stderr",
     "output_type": "stream",
     "text": [
      "C:\\Users\\Eugenia\\AppData\\Local\\Temp\\ipykernel_22612\\1377431076.py:4: UserWarning: This pattern is interpreted as a regular expression, and has match groups. To actually get the groups, use str.extract.\n",
      "  df.loc[df[\"Sponsor\"].str.lower().str.contains(pattern, case = False, na=False) == True, \"Sponsor_Type\"] = \"Pharmaceutical\"\n"
     ]
    },
    {
     "data": {
      "application/vnd.microsoft.datawrangler.viewer.v0+json": {
       "columns": [
        {
         "name": "Sponsor_Type",
         "rawType": "object",
         "type": "string"
        },
        {
         "name": "count",
         "rawType": "int64",
         "type": "integer"
        }
       ],
       "ref": "2da3c7d3-7c6c-41aa-a93e-9dca8a8989b3",
       "rows": [
        [
         "University",
         "77065"
        ],
        [
         "Other",
         "46697"
        ],
        [
         "Pharmaceutical",
         "39629"
        ],
        [
         "Hospital",
         "14195"
        ]
       ],
       "shape": {
        "columns": 1,
        "rows": 4
       }
      },
      "text/plain": [
       "Sponsor_Type\n",
       "University        77065\n",
       "Other             46697\n",
       "Pharmaceutical    39629\n",
       "Hospital          14195\n",
       "Name: count, dtype: int64"
      ]
     },
     "metadata": {},
     "output_type": "display_data"
    },
    {
     "data": {
      "text/plain": [
       "(177586, 32)"
      ]
     },
     "metadata": {},
     "output_type": "display_data"
    }
   ],
   "source": [
    "# Sponsor\n",
    "display(df[\"Sponsor\"].isnull().sum()) \n",
    "\n",
    "df.loc[df[\"Sponsor\"].str.lower().str.contains(pattern, case = False, na=False) == True, \"Sponsor_Type\"] = \"Pharmaceutical\"\n",
    "df.loc[df[\"Sponsor\"].str.lower().str.contains(\"pharm|farma\", case = False, na = False) == True, \"Sponsor_Type\"] = \"Pharmaceutical\"\n",
    "df.loc[df[\"Sponsor\"].str.lower().str.contains(\"hosp|hopital|clinic\", case = False, na = False) == True, \"Sponsor_Type\"] = \"Hospital\"\n",
    "df.loc[df[\"Sponsor\"].str.lower().str.contains(\"univer|college|school\", case = False, na = False) == True, \"Sponsor_Type\"] = \"University\"\n",
    "df.loc[(df[\"Sponsor_Type\"].isnull()), 'Sponsor_Type'] = \"Other\" \n",
    "\n",
    "display(df[\"Sponsor_Type\"].value_counts(dropna=False))\n",
    "display(df.shape)"
   ]
  },
  {
   "cell_type": "code",
   "execution_count": 172,
   "metadata": {},
   "outputs": [
    {
     "data": {
      "text/plain": [
       "119854"
      ]
     },
     "metadata": {},
     "output_type": "display_data"
    },
    {
     "name": "stderr",
     "output_type": "stream",
     "text": [
      "C:\\Users\\Eugenia\\AppData\\Local\\Temp\\ipykernel_22612\\3376380700.py:4: UserWarning: This pattern is interpreted as a regular expression, and has match groups. To actually get the groups, use str.extract.\n",
      "  df.loc[df[\"Collaborators\"].str.lower().str.contains(pattern, case = False, na=False) == True, \"Collaborator_Type\"] = \"Pharmaceutical\"\n"
     ]
    },
    {
     "data": {
      "application/vnd.microsoft.datawrangler.viewer.v0+json": {
       "columns": [
        {
         "name": "Collaborator_Type",
         "rawType": "object",
         "type": "unknown"
        },
        {
         "name": "count",
         "rawType": "int64",
         "type": "integer"
        }
       ],
       "ref": "78170447-796a-4616-8187-9904dc85879f",
       "rows": [
        [
         null,
         "119854"
        ],
        [
         "Other",
         "22160"
        ],
        [
         "University",
         "16578"
        ],
        [
         "Pharmaceutical",
         "15057"
        ],
        [
         "Hospital",
         "3937"
        ]
       ],
       "shape": {
        "columns": 1,
        "rows": 5
       }
      },
      "text/plain": [
       "Collaborator_Type\n",
       "NaN               119854\n",
       "Other              22160\n",
       "University         16578\n",
       "Pharmaceutical     15057\n",
       "Hospital            3937\n",
       "Name: count, dtype: int64"
      ]
     },
     "metadata": {},
     "output_type": "display_data"
    },
    {
     "data": {
      "text/plain": [
       "(177586, 33)"
      ]
     },
     "metadata": {},
     "output_type": "display_data"
    }
   ],
   "source": [
    "# Collaborators\n",
    "display(df[\"Collaborators\"].isnull().sum()) \n",
    "\n",
    "df.loc[df[\"Collaborators\"].str.lower().str.contains(pattern, case = False, na=False) == True, \"Collaborator_Type\"] = \"Pharmaceutical\"\n",
    "df.loc[df[\"Collaborators\"].str.lower().str.contains(\"pharm|farma\", case = False, na = False) == True, \"Collaborator_Type\"] = \"Pharmaceutical\"\n",
    "df.loc[df[\"Collaborators\"].str.lower().str.contains(\"hosp|hopital|clinic\", case = False, na = False) == True, \"Collaborator_Type\"] = \"Hospital\"\n",
    "df.loc[df[\"Collaborators\"].str.lower().str.contains(\"univer|college|school\", case = False, na = False) == True, \"Collaborator_Type\"] = \"University\"\n",
    "\n",
    "df.loc[(df[\"Collaborator_Type\"].isnull()) & df[\"Collaborators\"].notnull() , 'Collaborator_Type'] = \"Other\" \n",
    "\n",
    "display(df[\"Collaborator_Type\"].value_counts(dropna=False))\n",
    "display(df.shape)"
   ]
  },
  {
   "cell_type": "code",
   "execution_count": 173,
   "metadata": {},
   "outputs": [
    {
     "data": {
      "application/vnd.microsoft.datawrangler.viewer.v0+json": {
       "columns": [
        {
         "name": "Sponsor_Collab_List",
         "rawType": "object",
         "type": "unknown"
        },
        {
         "name": "count",
         "rawType": "int64",
         "type": "integer"
        }
       ],
       "ref": "2a952015-0177-4c19-ac24-5740be9da822",
       "rows": [
        [
         "['University']",
         "58037"
        ],
        [
         "['Other']",
         "35746"
        ],
        [
         "['Pharmaceutical']",
         "35342"
        ],
        [
         "['Other', 'University']",
         "16378"
        ],
        [
         "['Hospital']",
         "10097"
        ],
        [
         "['Pharmaceutical', 'University']",
         "7224"
        ],
        [
         "['Other', 'Pharmaceutical']",
         "7102"
        ],
        [
         "['Hospital', 'University']",
         "3297"
        ],
        [
         "['Hospital', 'Other']",
         "2893"
        ],
        [
         "['Hospital', 'Pharmaceutical']",
         "1470"
        ]
       ],
       "shape": {
        "columns": 1,
        "rows": 10
       }
      },
      "text/plain": [
       "Sponsor_Collab_List\n",
       "[University]                    58037\n",
       "[Other]                         35746\n",
       "[Pharmaceutical]                35342\n",
       "[Other, University]             16378\n",
       "[Hospital]                      10097\n",
       "[Pharmaceutical, University]     7224\n",
       "[Other, Pharmaceutical]          7102\n",
       "[Hospital, University]           3297\n",
       "[Hospital, Other]                2893\n",
       "[Hospital, Pharmaceutical]       1470\n",
       "Name: count, dtype: int64"
      ]
     },
     "metadata": {},
     "output_type": "display_data"
    },
    {
     "data": {
      "text/plain": [
       "(177586, 34)"
      ]
     },
     "metadata": {},
     "output_type": "display_data"
    }
   ],
   "source": [
    "df[\"Sponsor_Collab_List\"] = df[['Sponsor_Type', 'Collaborator_Type']].apply(lambda row: [val for val in row if pd.notna(val) and val != \"None\"],axis=1)\n",
    "df[\"Sponsor_Collab_List\"] = df[\"Sponsor_Collab_List\"].apply(lambda x: sorted(set(x)))\n",
    "\n",
    "display(df[\"Sponsor_Collab_List\"].value_counts(dropna = False))\n",
    "display(df.shape)"
   ]
  },
  {
   "cell_type": "markdown",
   "metadata": {},
   "source": [
    "## Study_Documents\n",
    "\n",
    "Source of unique values: https://clinicaltrials.gov/policy/protocol-definitions#a1-upload\n",
    "\n",
    "These include : \n",
    "- ICF (Informed Consent Form)\n",
    "- SAP (Statistical Analysis Plan)\n",
    "- CSR (Clinical Study Report)  --> did not use because its table has less information for documents\n",
    "- STUDY_PROTOCOL\n",
    "- ANALYTIC_CODE --> did not use because its table has less information for documents"
   ]
  },
  {
   "cell_type": "markdown",
   "metadata": {},
   "source": [
    "### Study_Documents_List"
   ]
  },
  {
   "cell_type": "code",
   "execution_count": 174,
   "metadata": {},
   "outputs": [
    {
     "data": {
      "text/plain": [
       "Counter({'None': 145696,\n",
       "         'Protocol': 30401,\n",
       "         'Analysis Plan': 29512,\n",
       "         'Consent Form': 7460})"
      ]
     },
     "metadata": {},
     "output_type": "display_data"
    }
   ],
   "source": [
    "df = df.merge(my_documents[[\"nct_id\", \"Study_Documents\"]], on = \"nct_id\", how = \"left\")\n",
    "df[\"Study_Documents\"] = df[\"Study_Documents\"].apply(lambda x: ['None'] if (isinstance(x, list) and len(x) == 0) else x)\n",
    "display(Counter([elem for row_list in df[\"Study_Documents\"].dropna() for elem in row_list]))\n",
    "\n",
    "df = df.rename(columns = {\"Study_Documents\": \"Study_Documents_List\"})\n"
   ]
  },
  {
   "cell_type": "markdown",
   "metadata": {},
   "source": [
    "### Document_Counts"
   ]
  },
  {
   "cell_type": "code",
   "execution_count": null,
   "metadata": {},
   "outputs": [
    {
     "data": {
      "application/vnd.microsoft.datawrangler.viewer.v0+json": {
       "columns": [
        {
         "name": "Document_Counts",
         "rawType": "int64",
         "type": "integer"
        },
        {
         "name": "count",
         "rawType": "int64",
         "type": "integer"
        }
       ],
       "ref": "6f788aee-6bc4-423b-89c4-78e11eee38ff",
       "rows": [
        [
         "0",
         "145696"
        ],
        [
         "2",
         "23627"
        ],
        [
         "3",
         "5928"
        ],
        [
         "1",
         "2335"
        ]
       ],
       "shape": {
        "columns": 1,
        "rows": 4
       }
      },
      "text/plain": [
       "Document_Counts\n",
       "0    145696\n",
       "2     23627\n",
       "3      5928\n",
       "1      2335\n",
       "Name: count, dtype: int64"
      ]
     },
     "metadata": {},
     "output_type": "display_data"
    },
    {
     "data": {
      "text/plain": [
       "(177586, 36)"
      ]
     },
     "metadata": {},
     "output_type": "display_data"
    }
   ],
   "source": [
    "# \" Document_Counts\" Column\n",
    "df[\"Document_Counts\"] = df[\"Study_Documents_List\"].apply(lambda x: len(x) if x != [\"None\"] else 0)\n",
    "display(df[\"Document_Counts\"].value_counts(dropna=False))\n",
    "display(df.shape)"
   ]
  },
  {
   "cell_type": "code",
   "execution_count": 176,
   "metadata": {},
   "outputs": [
    {
     "data": {
      "application/vnd.microsoft.datawrangler.viewer.v0+json": {
       "columns": [
        {
         "name": "Study_Documents_List",
         "rawType": "object",
         "type": "unknown"
        },
        {
         "name": "count",
         "rawType": "int64",
         "type": "integer"
        }
       ],
       "ref": "bb79609e-8a5f-4bb2-8d1d-cf238bc54c85",
       "rows": [
        [
         "['None']",
         "145696"
        ],
        [
         "['Analysis Plan', 'Protocol']",
         "23269"
        ],
        [
         "['Consent Form', 'Analysis Plan', 'Protocol']",
         "5928"
        ],
        [
         "['Consent Form']",
         "1174"
        ],
        [
         "['Protocol']",
         "872"
        ],
        [
         "['Consent Form', 'Protocol']",
         "332"
        ],
        [
         "['Analysis Plan']",
         "289"
        ],
        [
         "['Consent Form', 'Analysis Plan']",
         "26"
        ]
       ],
       "shape": {
        "columns": 1,
        "rows": 8
       }
      },
      "text/plain": [
       "Study_Documents_List\n",
       "[None]                                     145696\n",
       "[Analysis Plan, Protocol]                   23269\n",
       "[Consent Form, Analysis Plan, Protocol]      5928\n",
       "[Consent Form]                               1174\n",
       "[Protocol]                                    872\n",
       "[Consent Form, Protocol]                      332\n",
       "[Analysis Plan]                               289\n",
       "[Consent Form, Analysis Plan]                  26\n",
       "Name: count, dtype: int64"
      ]
     },
     "metadata": {},
     "output_type": "display_data"
    },
    {
     "data": {
      "text/plain": [
       "(177586, 36)"
      ]
     },
     "metadata": {},
     "output_type": "display_data"
    }
   ],
   "source": [
    "df[\"Study_Documents_List\"] = df[\"Study_Documents_List\"].apply(lambda x: [\"None\"] if x == [] else x)  # So not to be dropped\n",
    "display(df[\"Study_Documents_List\"].value_counts(dropna=False))\n",
    "display(df.shape)"
   ]
  },
  {
   "cell_type": "markdown",
   "metadata": {},
   "source": [
    "### Document_Counts_Bin\n"
   ]
  },
  {
   "cell_type": "code",
   "execution_count": 177,
   "metadata": {},
   "outputs": [
    {
     "data": {
      "application/vnd.microsoft.datawrangler.viewer.v0+json": {
       "columns": [
        {
         "name": "Document_Counts_Bin",
         "rawType": "object",
         "type": "string"
        },
        {
         "name": "count",
         "rawType": "int64",
         "type": "integer"
        }
       ],
       "ref": "d3d04402-f2ee-4175-9caa-d289bad5e8f7",
       "rows": [
        [
         "No",
         "145696"
        ],
        [
         "Yes",
         "31890"
        ]
       ],
       "shape": {
        "columns": 1,
        "rows": 2
       }
      },
      "text/plain": [
       "Document_Counts_Bin\n",
       "No     145696\n",
       "Yes     31890\n",
       "Name: count, dtype: int64"
      ]
     },
     "metadata": {},
     "output_type": "display_data"
    },
    {
     "data": {
      "text/plain": [
       "(177586, 37)"
      ]
     },
     "metadata": {},
     "output_type": "display_data"
    }
   ],
   "source": [
    "df[\"Document_Counts_Bin\"] = \"No\"\n",
    "df.loc[df[\"Document_Counts\"] != 0, \"Document_Counts_Bin\"] = \"Yes\"\n",
    "display(df[\"Document_Counts_Bin\"].value_counts(dropna=False))\n",
    "display(df.shape)"
   ]
  },
  {
   "cell_type": "markdown",
   "metadata": {},
   "source": [
    "## Datetime\n",
    "\n",
    "- Source Date input : Filter dates have the format of mm/dd/yyyy. Dates Displayed in Outputs (after filtering choices menu) have the Format of yyyyy-mm-dd (or at least yyyy-mm).\n",
    "- All Datetimes converted to same format : Year-Month is Chosen as Many Dates Include only until Month.\n"
   ]
  },
  {
   "cell_type": "code",
   "execution_count": 178,
   "metadata": {},
   "outputs": [
    {
     "data": {
      "application/vnd.microsoft.datawrangler.viewer.v0+json": {
       "columns": [
        {
         "name": "index",
         "rawType": "object",
         "type": "string"
        },
        {
         "name": "0",
         "rawType": "int64",
         "type": "integer"
        }
       ],
       "ref": "1cfbd873-df72-45ca-b775-018d5e6c2234",
       "rows": [
        [
         "Start Date",
         "2"
        ],
        [
         "Completion Date",
         "2"
        ]
       ],
       "shape": {
        "columns": 1,
        "rows": 2
       }
      },
      "text/plain": [
       "Start Date         2\n",
       "Completion Date    2\n",
       "dtype: int64"
      ]
     },
     "metadata": {},
     "output_type": "display_data"
    },
    {
     "data": {
      "application/vnd.microsoft.datawrangler.viewer.v0+json": {
       "columns": [
        {
         "name": "index",
         "rawType": "int64",
         "type": "integer"
        },
        {
         "name": "Start Date",
         "rawType": "object",
         "type": "string"
        },
        {
         "name": "Completion Date",
         "rawType": "object",
         "type": "string"
        }
       ],
       "ref": "50366010-bbb9-4fdd-968e-03aed01b9408",
       "rows": [
        [
         "0",
         "2020-05-15",
         "2022-08-30"
        ],
        [
         "1",
         "2021-08-31",
         "2023-09-28"
        ]
       ],
       "shape": {
        "columns": 2,
        "rows": 2
       }
      },
      "text/html": [
       "<div>\n",
       "<style scoped>\n",
       "    .dataframe tbody tr th:only-of-type {\n",
       "        vertical-align: middle;\n",
       "    }\n",
       "\n",
       "    .dataframe tbody tr th {\n",
       "        vertical-align: top;\n",
       "    }\n",
       "\n",
       "    .dataframe thead th {\n",
       "        text-align: right;\n",
       "    }\n",
       "</style>\n",
       "<table border=\"1\" class=\"dataframe\">\n",
       "  <thead>\n",
       "    <tr style=\"text-align: right;\">\n",
       "      <th></th>\n",
       "      <th>Start Date</th>\n",
       "      <th>Completion Date</th>\n",
       "    </tr>\n",
       "  </thead>\n",
       "  <tbody>\n",
       "    <tr>\n",
       "      <th>0</th>\n",
       "      <td>2020-05-15</td>\n",
       "      <td>2022-08-30</td>\n",
       "    </tr>\n",
       "    <tr>\n",
       "      <th>1</th>\n",
       "      <td>2021-08-31</td>\n",
       "      <td>2023-09-28</td>\n",
       "    </tr>\n",
       "  </tbody>\n",
       "</table>\n",
       "</div>"
      ],
      "text/plain": [
       "   Start Date Completion Date\n",
       "0  2020-05-15      2022-08-30\n",
       "1  2021-08-31      2023-09-28"
      ]
     },
     "execution_count": 178,
     "metadata": {},
     "output_type": "execute_result"
    }
   ],
   "source": [
    "display(df[[\"Start Date\",\"Completion Date\"]].map(len , na_action = 'ignore').nunique()) # Dates are in yyyy-mm-dd (len=10) and yyyy-mm (len=7) format\n",
    "df[[\"Start Date\",\"Completion Date\"]].head(2)"
   ]
  },
  {
   "cell_type": "code",
   "execution_count": 179,
   "metadata": {},
   "outputs": [
    {
     "data": {
      "application/vnd.microsoft.datawrangler.viewer.v0+json": {
       "columns": [
        {
         "name": "index",
         "rawType": "int64",
         "type": "integer"
        },
        {
         "name": "Start Date",
         "rawType": "period[M]",
         "type": "unknown"
        },
        {
         "name": "Completion Date",
         "rawType": "period[M]",
         "type": "unknown"
        }
       ],
       "ref": "4a67b70b-5202-472a-ab73-4f92599c6e49",
       "rows": [
        [
         "0",
         "2020-05",
         "2022-08"
        ],
        [
         "1",
         "2021-08",
         "2023-09"
        ]
       ],
       "shape": {
        "columns": 2,
        "rows": 2
       }
      },
      "text/html": [
       "<div>\n",
       "<style scoped>\n",
       "    .dataframe tbody tr th:only-of-type {\n",
       "        vertical-align: middle;\n",
       "    }\n",
       "\n",
       "    .dataframe tbody tr th {\n",
       "        vertical-align: top;\n",
       "    }\n",
       "\n",
       "    .dataframe thead th {\n",
       "        text-align: right;\n",
       "    }\n",
       "</style>\n",
       "<table border=\"1\" class=\"dataframe\">\n",
       "  <thead>\n",
       "    <tr style=\"text-align: right;\">\n",
       "      <th></th>\n",
       "      <th>Start Date</th>\n",
       "      <th>Completion Date</th>\n",
       "    </tr>\n",
       "  </thead>\n",
       "  <tbody>\n",
       "    <tr>\n",
       "      <th>0</th>\n",
       "      <td>2020-05</td>\n",
       "      <td>2022-08</td>\n",
       "    </tr>\n",
       "    <tr>\n",
       "      <th>1</th>\n",
       "      <td>2021-08</td>\n",
       "      <td>2023-09</td>\n",
       "    </tr>\n",
       "  </tbody>\n",
       "</table>\n",
       "</div>"
      ],
      "text/plain": [
       "  Start Date Completion Date\n",
       "0    2020-05         2022-08\n",
       "1    2021-08         2023-09"
      ]
     },
     "metadata": {},
     "output_type": "display_data"
    }
   ],
   "source": [
    "df[[\"Start Date\",\"Completion Date\"]] = df[[\"Start Date\",\"Completion Date\"]].apply(pd.to_datetime, format='%Y-%m', exact=False, errors='coerce')\n",
    "df[[\"Start Date\",\"Completion Date\"]] = df[[\"Start Date\",\"Completion Date\"]].apply(lambda col: col.dt.to_period('M'))\n",
    "\n",
    "display(df[[\"Start Date\",\"Completion Date\"]].head(2))\n"
   ]
  },
  {
   "cell_type": "markdown",
   "metadata": {},
   "source": [
    "### Datetime_Year"
   ]
  },
  {
   "cell_type": "code",
   "execution_count": 180,
   "metadata": {},
   "outputs": [
    {
     "data": {
      "application/vnd.microsoft.datawrangler.viewer.v0+json": {
       "columns": [
        {
         "name": "index",
         "rawType": "int64",
         "type": "integer"
        },
        {
         "name": "Start_Date_Year",
         "rawType": "Int64",
         "type": "integer"
        },
        {
         "name": "Completion_Date_Year",
         "rawType": "Int64",
         "type": "integer"
        }
       ],
       "ref": "0058362f-7698-4b3f-9b72-bbf4dd8201d8",
       "rows": [
        [
         "0",
         "2020",
         "2022"
        ],
        [
         "1",
         "2021",
         "2023"
        ]
       ],
       "shape": {
        "columns": 2,
        "rows": 2
       }
      },
      "text/html": [
       "<div>\n",
       "<style scoped>\n",
       "    .dataframe tbody tr th:only-of-type {\n",
       "        vertical-align: middle;\n",
       "    }\n",
       "\n",
       "    .dataframe tbody tr th {\n",
       "        vertical-align: top;\n",
       "    }\n",
       "\n",
       "    .dataframe thead th {\n",
       "        text-align: right;\n",
       "    }\n",
       "</style>\n",
       "<table border=\"1\" class=\"dataframe\">\n",
       "  <thead>\n",
       "    <tr style=\"text-align: right;\">\n",
       "      <th></th>\n",
       "      <th>Start_Date_Year</th>\n",
       "      <th>Completion_Date_Year</th>\n",
       "    </tr>\n",
       "  </thead>\n",
       "  <tbody>\n",
       "    <tr>\n",
       "      <th>0</th>\n",
       "      <td>2020</td>\n",
       "      <td>2022</td>\n",
       "    </tr>\n",
       "    <tr>\n",
       "      <th>1</th>\n",
       "      <td>2021</td>\n",
       "      <td>2023</td>\n",
       "    </tr>\n",
       "  </tbody>\n",
       "</table>\n",
       "</div>"
      ],
      "text/plain": [
       "   Start_Date_Year  Completion_Date_Year\n",
       "0             2020                  2022\n",
       "1             2021                  2023"
      ]
     },
     "metadata": {},
     "output_type": "display_data"
    }
   ],
   "source": [
    "df[[\"Start_Date_Year\",\"Completion_Date_Year\"]] = df[[\"Start Date\",\"Completion Date\"]].apply(lambda x: x.dt.year.mask(x.isna(), np.NaN))  \n",
    "\n",
    "df[[\"Start_Date_Year\",\"Completion_Date_Year\"]] = df[[\"Start_Date_Year\",\"Completion_Date_Year\"]].apply(lambda x: x.convert_dtypes(convert_integer = True))\n",
    "\n",
    "display(df[[\"Start_Date_Year\",\"Completion_Date_Year\"]].head(2))\n"
   ]
  },
  {
   "cell_type": "markdown",
   "metadata": {},
   "source": [
    "### Date_Year_Categ"
   ]
  },
  {
   "cell_type": "code",
   "execution_count": 181,
   "metadata": {},
   "outputs": [
    {
     "data": {
      "text/plain": [
       "(177586, 41)"
      ]
     },
     "metadata": {},
     "output_type": "display_data"
    },
    {
     "data": {
      "application/vnd.microsoft.datawrangler.viewer.v0+json": {
       "columns": [
        {
         "name": "index",
         "rawType": "int64",
         "type": "integer"
        },
        {
         "name": "Start_Date_Year_Categ",
         "rawType": "category",
         "type": "unknown"
        },
        {
         "name": "Completion_Date_Year_Categ",
         "rawType": "category",
         "type": "unknown"
        }
       ],
       "ref": "d8db136e-b829-432a-977c-59d22d2f47eb",
       "rows": [
        [
         "0",
         "(2019, 2024]",
         "(2019, 2024]"
        ],
        [
         "1",
         "(2019, 2024]",
         "(2019, 2024]"
        ],
        [
         "2",
         "(2010, 2019]",
         "(2010, 2019]"
        ]
       ],
       "shape": {
        "columns": 2,
        "rows": 3
       }
      },
      "text/html": [
       "<div>\n",
       "<style scoped>\n",
       "    .dataframe tbody tr th:only-of-type {\n",
       "        vertical-align: middle;\n",
       "    }\n",
       "\n",
       "    .dataframe tbody tr th {\n",
       "        vertical-align: top;\n",
       "    }\n",
       "\n",
       "    .dataframe thead th {\n",
       "        text-align: right;\n",
       "    }\n",
       "</style>\n",
       "<table border=\"1\" class=\"dataframe\">\n",
       "  <thead>\n",
       "    <tr style=\"text-align: right;\">\n",
       "      <th></th>\n",
       "      <th>Start_Date_Year_Categ</th>\n",
       "      <th>Completion_Date_Year_Categ</th>\n",
       "    </tr>\n",
       "  </thead>\n",
       "  <tbody>\n",
       "    <tr>\n",
       "      <th>0</th>\n",
       "      <td>(2019, 2024]</td>\n",
       "      <td>(2019, 2024]</td>\n",
       "    </tr>\n",
       "    <tr>\n",
       "      <th>1</th>\n",
       "      <td>(2019, 2024]</td>\n",
       "      <td>(2019, 2024]</td>\n",
       "    </tr>\n",
       "    <tr>\n",
       "      <th>2</th>\n",
       "      <td>(2010, 2019]</td>\n",
       "      <td>(2010, 2019]</td>\n",
       "    </tr>\n",
       "  </tbody>\n",
       "</table>\n",
       "</div>"
      ],
      "text/plain": [
       "  Start_Date_Year_Categ Completion_Date_Year_Categ\n",
       "0          (2019, 2024]               (2019, 2024]\n",
       "1          (2019, 2024]               (2019, 2024]\n",
       "2          (2010, 2019]               (2010, 2019]"
      ]
     },
     "execution_count": 181,
     "metadata": {},
     "output_type": "execute_result"
    }
   ],
   "source": [
    "df[[\"Start_Date_Year_Categ\",\"Completion_Date_Year_Categ\"]] = df[[\"Start_Date_Year\",\"Completion_Date_Year\"]]\\\n",
    "        .apply(lambda col: pd.cut(col, bins = [col.min()-1, 2019, col.max()], ordered = True, include_lowest = False))\n",
    "display(df.shape)\n",
    "df[[\"Start_Date_Year_Categ\",\"Completion_Date_Year_Categ\"]].head(3)\n",
    "\n"
   ]
  },
  {
   "cell_type": "markdown",
   "metadata": {},
   "source": [
    "### Datetime_Gaps"
   ]
  },
  {
   "cell_type": "code",
   "execution_count": 182,
   "metadata": {},
   "outputs": [
    {
     "data": {
      "application/vnd.microsoft.datawrangler.viewer.v0+json": {
       "columns": [
        {
         "name": "index",
         "rawType": "int64",
         "type": "integer"
        },
        {
         "name": "Completion_Gap",
         "rawType": "Int64",
         "type": "integer"
        }
       ],
       "ref": "6f7f8f16-813a-4a41-8134-6732751d5cd3",
       "rows": [
        [
         "0",
         "27"
        ],
        [
         "1",
         "25"
        ],
        [
         "2",
         "83"
        ],
        [
         "3",
         "63"
        ],
        [
         "4",
         "19"
        ]
       ],
       "shape": {
        "columns": 1,
        "rows": 5
       }
      },
      "text/html": [
       "<div>\n",
       "<style scoped>\n",
       "    .dataframe tbody tr th:only-of-type {\n",
       "        vertical-align: middle;\n",
       "    }\n",
       "\n",
       "    .dataframe tbody tr th {\n",
       "        vertical-align: top;\n",
       "    }\n",
       "\n",
       "    .dataframe thead th {\n",
       "        text-align: right;\n",
       "    }\n",
       "</style>\n",
       "<table border=\"1\" class=\"dataframe\">\n",
       "  <thead>\n",
       "    <tr style=\"text-align: right;\">\n",
       "      <th></th>\n",
       "      <th>Completion_Gap</th>\n",
       "    </tr>\n",
       "  </thead>\n",
       "  <tbody>\n",
       "    <tr>\n",
       "      <th>0</th>\n",
       "      <td>27</td>\n",
       "    </tr>\n",
       "    <tr>\n",
       "      <th>1</th>\n",
       "      <td>25</td>\n",
       "    </tr>\n",
       "    <tr>\n",
       "      <th>2</th>\n",
       "      <td>83</td>\n",
       "    </tr>\n",
       "    <tr>\n",
       "      <th>3</th>\n",
       "      <td>63</td>\n",
       "    </tr>\n",
       "    <tr>\n",
       "      <th>4</th>\n",
       "      <td>19</td>\n",
       "    </tr>\n",
       "  </tbody>\n",
       "</table>\n",
       "</div>"
      ],
      "text/plain": [
       "   Completion_Gap\n",
       "0              27\n",
       "1              25\n",
       "2              83\n",
       "3              63\n",
       "4              19"
      ]
     },
     "metadata": {},
     "output_type": "display_data"
    },
    {
     "data": {
      "application/vnd.microsoft.datawrangler.viewer.v0+json": {
       "columns": [
        {
         "name": "index",
         "rawType": "object",
         "type": "string"
        },
        {
         "name": "Completion_Gap",
         "rawType": "Float64",
         "type": "float"
        }
       ],
       "ref": "e25b6f3d-879e-4937-871e-bd061416f7af",
       "rows": [
        [
         "count",
         "177586.0"
        ],
        [
         "mean",
         "24.60597682249727"
        ],
        [
         "std",
         "21.61230729331168"
        ],
        [
         "min",
         "0.0"
        ],
        [
         "25%",
         "9.0"
        ],
        [
         "50%",
         "19.0"
        ],
        [
         "75%",
         "35.0"
        ],
        [
         "max",
         "163.0"
        ]
       ],
       "shape": {
        "columns": 1,
        "rows": 8
       }
      },
      "text/html": [
       "<div>\n",
       "<style scoped>\n",
       "    .dataframe tbody tr th:only-of-type {\n",
       "        vertical-align: middle;\n",
       "    }\n",
       "\n",
       "    .dataframe tbody tr th {\n",
       "        vertical-align: top;\n",
       "    }\n",
       "\n",
       "    .dataframe thead th {\n",
       "        text-align: right;\n",
       "    }\n",
       "</style>\n",
       "<table border=\"1\" class=\"dataframe\">\n",
       "  <thead>\n",
       "    <tr style=\"text-align: right;\">\n",
       "      <th></th>\n",
       "      <th>Completion_Gap</th>\n",
       "    </tr>\n",
       "  </thead>\n",
       "  <tbody>\n",
       "    <tr>\n",
       "      <th>count</th>\n",
       "      <td>177586.0</td>\n",
       "    </tr>\n",
       "    <tr>\n",
       "      <th>mean</th>\n",
       "      <td>24.605977</td>\n",
       "    </tr>\n",
       "    <tr>\n",
       "      <th>std</th>\n",
       "      <td>21.612307</td>\n",
       "    </tr>\n",
       "    <tr>\n",
       "      <th>min</th>\n",
       "      <td>0.0</td>\n",
       "    </tr>\n",
       "    <tr>\n",
       "      <th>25%</th>\n",
       "      <td>9.0</td>\n",
       "    </tr>\n",
       "    <tr>\n",
       "      <th>50%</th>\n",
       "      <td>19.0</td>\n",
       "    </tr>\n",
       "    <tr>\n",
       "      <th>75%</th>\n",
       "      <td>35.0</td>\n",
       "    </tr>\n",
       "    <tr>\n",
       "      <th>max</th>\n",
       "      <td>163.0</td>\n",
       "    </tr>\n",
       "  </tbody>\n",
       "</table>\n",
       "</div>"
      ],
      "text/plain": [
       "       Completion_Gap\n",
       "count        177586.0\n",
       "mean        24.605977\n",
       "std         21.612307\n",
       "min               0.0\n",
       "25%               9.0\n",
       "50%              19.0\n",
       "75%              35.0\n",
       "max             163.0"
      ]
     },
     "execution_count": 182,
     "metadata": {},
     "output_type": "execute_result"
    }
   ],
   "source": [
    "df[\"Completion_Gap\"] = df[\"Completion Date\"] - df[\"Start Date\"]\n",
    "\n",
    "df[[\"Completion_Gap\"]] = df[[\"Completion_Gap\"]].apply(lambda col: col.astype('str').str.strip('< *MonthEnds>').replace(\"NaT\", np.NaN).replace(\"\", '0').astype('float'))\n",
    "df[[\"Completion_Gap\",]] = df[[\"Completion_Gap\"]].convert_dtypes(convert_integer = True)\n",
    "\n",
    "display(df[[\"Completion_Gap\"]].head())\n",
    "df[[\"Completion_Gap\"]].describe()"
   ]
  },
  {
   "cell_type": "markdown",
   "metadata": {},
   "source": [
    "### Datetime_Year Categorize\n"
   ]
  },
  {
   "cell_type": "code",
   "execution_count": 183,
   "metadata": {},
   "outputs": [
    {
     "data": {
      "application/vnd.microsoft.datawrangler.viewer.v0+json": {
       "columns": [
        {
         "name": "index",
         "rawType": "int64",
         "type": "integer"
        },
        {
         "name": "Start_Date_Year",
         "rawType": "Int64",
         "type": "integer"
        }
       ],
       "ref": "0f828a6a-0906-41b2-815a-911d265a2a50",
       "rows": [
        [
         "0",
         "2020"
        ],
        [
         "1",
         "2021"
        ]
       ],
       "shape": {
        "columns": 1,
        "rows": 2
       }
      },
      "text/plain": [
       "0    2020\n",
       "1    2021\n",
       "Name: Start_Date_Year, dtype: Int64"
      ]
     },
     "execution_count": 183,
     "metadata": {},
     "output_type": "execute_result"
    }
   ],
   "source": [
    "# df[[\"Start_Date_Year\", \"Completion_Date_Year\"]] = df[[\"Start_Date_Year\", \"Completion_Date_Year\"]].apply(lambda col: pd.Categorical(col, ordered = True))\n",
    "df[\"Start_Date_Year\"].head(2)\n"
   ]
  },
  {
   "cell_type": "code",
   "execution_count": 184,
   "metadata": {},
   "outputs": [
    {
     "data": {
      "application/vnd.microsoft.datawrangler.viewer.v0+json": {
       "columns": [
        {
         "name": "index",
         "rawType": "object",
         "type": "string"
        },
        {
         "name": "0",
         "rawType": "int64",
         "type": "integer"
        }
       ],
       "ref": "9af2aaa2-5964-465d-9cb5-8ab0593a69d6",
       "rows": [
        [
         "Start_Date_Year",
         "0"
        ],
        [
         "Completion_Date_Year",
         "0"
        ]
       ],
       "shape": {
        "columns": 1,
        "rows": 2
       }
      },
      "text/plain": [
       "Start_Date_Year         0\n",
       "Completion_Date_Year    0\n",
       "dtype: int64"
      ]
     },
     "execution_count": 184,
     "metadata": {},
     "output_type": "execute_result"
    }
   ],
   "source": [
    "df[[\"Start_Date_Year\", \"Completion_Date_Year\"]].isnull().sum()"
   ]
  },
  {
   "cell_type": "markdown",
   "metadata": {},
   "source": [
    "## Interventions\n",
    "\n",
    "- Source of unique values: https://clinicaltrials.gov/policy/protocol-definitions#arms-groups-interventions"
   ]
  },
  {
   "cell_type": "markdown",
   "metadata": {},
   "source": [
    "### Intervention_Method_List"
   ]
  },
  {
   "cell_type": "code",
   "execution_count": 185,
   "metadata": {},
   "outputs": [],
   "source": [
    "with open(\"intervention_methods.pkl\", \"rb\") as f:\n",
    "    data = pickle.load(f)\n",
    "\n",
    "oral1 = data[\"oral1\"]\n",
    "oral2 = data[\"oral2\"]\n",
    "injection1 = data[\"injection1\"]\n",
    "injection2 = data[\"injection2\"]\n",
    "topical1 = data[\"topical1\"]\n"
   ]
  },
  {
   "cell_type": "code",
   "execution_count": 186,
   "metadata": {},
   "outputs": [],
   "source": [
    "# Injection\n",
    "df.loc[df['Brief Summary'].str.lower().str.contains(injection1, case = False, na = False) == True, 'Injection'] = \"Injection\"\n",
    "df.loc[df['Brief Summary'].str.lower().str.lower().str.contains(injection2, case = True, na = False) == True, 'Injection'] = \"Injection\"\n",
    "\n",
    "# Oral\n",
    "df.loc[df['Brief Summary'].str.lower().str.contains(oral1, case = False, na = False) == True, 'Oral'] = \"Oral\"\n",
    "df.loc[df['Brief Summary'].str.lower().str.lower().str.contains(oral2, case = True, na = False) == True, 'Oral'] = \"Oral\"\n",
    "\n",
    "# Topical\n",
    "df.loc[df['Brief Summary'].str.lower().str.contains(topical1, case = False, na = False) == True, 'Topical'] = \"Topical\"\n"
   ]
  },
  {
   "cell_type": "code",
   "execution_count": 187,
   "metadata": {},
   "outputs": [
    {
     "data": {
      "application/vnd.microsoft.datawrangler.viewer.v0+json": {
       "columns": [
        {
         "name": "Intervention_Method_List",
         "rawType": "object",
         "type": "unknown"
        },
        {
         "name": "count",
         "rawType": "int64",
         "type": "integer"
        }
       ],
       "ref": "23d347aa-da4b-405b-b501-1c6b2619fc47",
       "rows": [
        [
         null,
         "97977"
        ],
        [
         "['Injection']",
         "33013"
        ],
        [
         "['Oral']",
         "21849"
        ],
        [
         "['Topical']",
         "11641"
        ],
        [
         "['Injection', 'Oral']",
         "5394"
        ],
        [
         "['Injection', 'Topical']",
         "4800"
        ],
        [
         "['Oral', 'Topical']",
         "1945"
        ],
        [
         "['Injection', 'Oral', 'Topical']",
         "967"
        ]
       ],
       "shape": {
        "columns": 1,
        "rows": 8
       }
      },
      "text/plain": [
       "Intervention_Method_List\n",
       "NaN                           97977\n",
       "[Injection]                   33013\n",
       "[Oral]                        21849\n",
       "[Topical]                     11641\n",
       "[Injection, Oral]              5394\n",
       "[Injection, Topical]           4800\n",
       "[Oral, Topical]                1945\n",
       "[Injection, Oral, Topical]      967\n",
       "Name: count, dtype: int64"
      ]
     },
     "metadata": {},
     "output_type": "display_data"
    },
    {
     "data": {
      "text/plain": [
       "(177586, 46)"
      ]
     },
     "metadata": {},
     "output_type": "display_data"
    },
    {
     "data": {
      "application/vnd.microsoft.datawrangler.viewer.v0+json": {
       "columns": [
        {
         "name": "index",
         "rawType": "int64",
         "type": "integer"
        },
        {
         "name": "Intervention_Method_List",
         "rawType": "object",
         "type": "unknown"
        }
       ],
       "ref": "cb667fce-b9d9-470b-a0b0-c0538eaa75e7",
       "rows": [
        [
         "0",
         "['Topical']"
        ],
        [
         "1",
         "['Injection']"
        ]
       ],
       "shape": {
        "columns": 1,
        "rows": 2
       }
      },
      "text/plain": [
       "0      [Topical]\n",
       "1    [Injection]\n",
       "Name: Intervention_Method_List, dtype: object"
      ]
     },
     "execution_count": 187,
     "metadata": {},
     "output_type": "execute_result"
    }
   ],
   "source": [
    "df = df.merge(my_intervention_methods[['nct_id', 'Interv_method']], on = \"nct_id\", how = \"left\")\n",
    "df = df.rename({\"Interv_method\" : \"Intervention_Method_List\"}, axis = 1)\n",
    "\n",
    "display(df['Intervention_Method_List'].value_counts(dropna = False))\n",
    "display(df.shape)\n",
    "df[\"Intervention_Method_List\"].head(2)"
   ]
  },
  {
   "cell_type": "code",
   "execution_count": 188,
   "metadata": {},
   "outputs": [
    {
     "data": {
      "application/vnd.microsoft.datawrangler.viewer.v0+json": {
       "columns": [
        {
         "name": "Intervention_Method_List",
         "rawType": "object",
         "type": "unknown"
        },
        {
         "name": "count",
         "rawType": "int64",
         "type": "integer"
        }
       ],
       "ref": "1ecf4c53-dfc6-48be-8d9b-d89cf02e6618",
       "rows": [
        [
         "['Unknown']",
         "91906"
        ],
        [
         "['Injection']",
         "42399"
        ],
        [
         "['Topical']",
         "13449"
        ],
        [
         "['Oral']",
         "11004"
        ],
        [
         "['Injection', 'Topical']",
         "9791"
        ],
        [
         "['Injection', 'Oral']",
         "5675"
        ],
        [
         "['Injection', 'Oral', 'Topical']",
         "1698"
        ],
        [
         "['Oral', 'Topical']",
         "1664"
        ]
       ],
       "shape": {
        "columns": 1,
        "rows": 8
       }
      },
      "text/plain": [
       "Intervention_Method_List\n",
       "[Unknown]                     91906\n",
       "[Injection]                   42399\n",
       "[Topical]                     13449\n",
       "[Oral]                        11004\n",
       "[Injection, Topical]           9791\n",
       "[Injection, Oral]              5675\n",
       "[Injection, Oral, Topical]     1698\n",
       "[Oral, Topical]                1664\n",
       "Name: count, dtype: int64"
      ]
     },
     "metadata": {},
     "output_type": "display_data"
    },
    {
     "data": {
      "text/plain": [
       "(177586, 46)"
      ]
     },
     "metadata": {},
     "output_type": "display_data"
    }
   ],
   "source": [
    "def interv(row):    \n",
    "    methods = []\n",
    "    for col in ['Injection', 'Oral', 'Topical']:\n",
    "        if pd.notna(row[col]) and row[col] not in methods:\n",
    "            methods.append(row[col])\n",
    "    return methods\n",
    "\n",
    "df['Intervention_Method_List'] = df.apply(interv, axis=1)\n",
    "df['Intervention_Method_List'] = df['Intervention_Method_List'].apply(lambda x: sorted(set(x)))\n",
    "df['Intervention_Method_List'] = df['Intervention_Method_List'].apply(lambda x: [\"Unknown\"] if isinstance(x, list) and len(x) == 0 else x)\n",
    "\n",
    "display(df['Intervention_Method_List'].value_counts(dropna=False))\n",
    "display(df.shape)"
   ]
  },
  {
   "cell_type": "code",
   "execution_count": 189,
   "metadata": {},
   "outputs": [],
   "source": [
    "df = df.drop(columns = ['Injection', 'Oral', 'Topical'] , axis = 1)"
   ]
  },
  {
   "cell_type": "markdown",
   "metadata": {},
   "source": [
    "### Intervention_Type_List"
   ]
  },
  {
   "cell_type": "code",
   "execution_count": 190,
   "metadata": {},
   "outputs": [
    {
     "data": {
      "application/vnd.microsoft.datawrangler.viewer.v0+json": {
       "columns": [
        {
         "name": "Intervention_Type_List",
         "rawType": "object",
         "type": "unknown"
        },
        {
         "name": "count",
         "rawType": "int64",
         "type": "integer"
        }
       ],
       "ref": "95c00e6e-6250-4a66-a53b-41022ad49988",
       "rows": [
        [
         "['DRUG']",
         "59601"
        ],
        [
         "['OTHER']",
         "27134"
        ],
        [
         "['BEHAVIORAL']",
         "20997"
        ],
        [
         "['DEVICE']",
         "20567"
        ],
        [
         "['PROCEDURE']",
         "10267"
        ],
        [
         "['BIOLOGICAL']",
         "6203"
        ],
        [
         "['DIETARY_SUPPLEMENT']",
         "5972"
        ],
        [
         "['DRUG', 'OTHER']",
         "4800"
        ],
        [
         "['DEVICE', 'OTHER']",
         "2044"
        ],
        [
         "['DIAGNOSTIC_TEST']",
         "1940"
        ],
        [
         "['BEHAVIORAL', 'OTHER']",
         "1721"
        ],
        [
         "['BIOLOGICAL', 'DRUG']",
         "1636"
        ],
        [
         "['DRUG', 'PROCEDURE']",
         "1550"
        ],
        [
         "['DEVICE', 'DRUG']",
         "1441"
        ],
        [
         "['DIETARY_SUPPLEMENT', 'OTHER']",
         "1180"
        ],
        [
         "['BIOLOGICAL', 'OTHER']",
         "1055"
        ],
        [
         "['DEVICE', 'PROCEDURE']",
         "1014"
        ],
        [
         "['RADIATION']",
         "764"
        ],
        [
         "['DRUG', 'RADIATION']",
         "619"
        ],
        [
         "['OTHER', 'PROCEDURE']",
         "611"
        ],
        [
         "['COMBINATION_PRODUCT']",
         "611"
        ],
        [
         "['BEHAVIORAL', 'DRUG']",
         "599"
        ],
        [
         "['BEHAVIORAL', 'DEVICE']",
         "566"
        ],
        [
         "['DIETARY_SUPPLEMENT', 'DRUG']",
         "440"
        ],
        [
         "['BIOLOGICAL', 'DRUG', 'OTHER']",
         "253"
        ],
        [
         "['GENETIC']",
         "213"
        ],
        [
         "['BIOLOGICAL', 'PROCEDURE']",
         "179"
        ],
        [
         "['DRUG', 'OTHER', 'PROCEDURE']",
         "178"
        ],
        [
         "['DEVICE', 'DRUG', 'PROCEDURE']",
         "158"
        ],
        [
         "['BEHAVIORAL', 'DIETARY_SUPPLEMENT']",
         "155"
        ],
        [
         "['COMBINATION_PRODUCT', 'DRUG']",
         "155"
        ],
        [
         "['DRUG', 'PROCEDURE', 'RADIATION']",
         "137"
        ],
        [
         "['DEVICE', 'DRUG', 'OTHER']",
         "137"
        ],
        [
         "['BEHAVIORAL', 'PROCEDURE']",
         "124"
        ],
        [
         "['DIAGNOSTIC_TEST', 'DRUG']",
         "123"
        ],
        [
         "['BIOLOGICAL', 'DEVICE']",
         "117"
        ],
        [
         "['BEHAVIORAL', 'DRUG', 'OTHER']",
         "100"
        ],
        [
         "['DIAGNOSTIC_TEST', 'OTHER']",
         "92"
        ],
        [
         "['PROCEDURE', 'RADIATION']",
         "92"
        ],
        [
         "['OTHER', 'RADIATION']",
         "85"
        ],
        [
         "['BIOLOGICAL', 'DRUG', 'PROCEDURE']",
         "83"
        ],
        [
         "['DEVICE', 'DIAGNOSTIC_TEST']",
         "71"
        ],
        [
         "['DIETARY_SUPPLEMENT', 'DRUG', 'OTHER']",
         "69"
        ],
        [
         "['DRUG', 'OTHER', 'RADIATION']",
         "69"
        ],
        [
         "['BEHAVIORAL', 'DEVICE', 'OTHER']",
         "64"
        ],
        [
         "['BIOLOGICAL', 'DRUG', 'RADIATION']",
         "63"
        ],
        [
         "['DEVICE', 'OTHER', 'PROCEDURE']",
         "61"
        ],
        [
         "['COMBINATION_PRODUCT', 'OTHER']",
         "55"
        ],
        [
         "['BEHAVIORAL', 'DIETARY_SUPPLEMENT', 'OTHER']",
         "43"
        ],
        [
         "['DEVICE', 'RADIATION']",
         "42"
        ]
       ],
       "shape": {
        "columns": 1,
        "rows": 248
       }
      },
      "text/plain": [
       "Intervention_Type_List\n",
       "[DRUG]                                              59601\n",
       "[OTHER]                                             27134\n",
       "[BEHAVIORAL]                                        20997\n",
       "[DEVICE]                                            20567\n",
       "[PROCEDURE]                                         10267\n",
       "                                                    ...  \n",
       "[DIAGNOSTIC_TEST, DIETARY_SUPPLEMENT, PROCEDURE]        1\n",
       "[BEHAVIORAL, DRUG, OTHER, RADIATION]                    1\n",
       "[DEVICE, GENETIC, RADIATION]                            1\n",
       "[BEHAVIORAL, DRUG, GENETIC]                             1\n",
       "[BIOLOGICAL, DEVICE, OTHER, RADIATION]                  1\n",
       "Name: count, Length: 248, dtype: int64"
      ]
     },
     "metadata": {},
     "output_type": "display_data"
    },
    {
     "data": {
      "text/plain": [
       "{'BEHAVIORAL',\n",
       " 'BIOLOGICAL',\n",
       " 'COMBINATION_PRODUCT',\n",
       " 'DEVICE',\n",
       " 'DIAGNOSTIC_TEST',\n",
       " 'DIETARY_SUPPLEMENT',\n",
       " 'DRUG',\n",
       " 'GENETIC',\n",
       " 'OTHER',\n",
       " 'PROCEDURE',\n",
       " 'RADIATION'}"
      ]
     },
     "metadata": {},
     "output_type": "display_data"
    },
    {
     "data": {
      "text/plain": [
       "0"
      ]
     },
     "metadata": {},
     "output_type": "display_data"
    },
    {
     "data": {
      "text/plain": [
       "(177586, 44)"
      ]
     },
     "metadata": {},
     "output_type": "display_data"
    }
   ],
   "source": [
    "df = df.merge(my_interventions_types[[\"nct_id\", \"intervention_type\"]], on = \"nct_id\", how = \"left\")\n",
    "df = df.rename({\"intervention_type\" : \"Intervention_Type_List\"}, axis = 1)\n",
    "display(df[\"Intervention_Type_List\"].value_counts(dropna=False))\n",
    "display(set(elem for row_list in df[\"Intervention_Type_List\"] for elem in row_list))\n",
    "display(df[\"Intervention_Type_List\"].isnull().sum())  # No Null Values\n",
    "display(df.shape)"
   ]
  },
  {
   "cell_type": "markdown",
   "metadata": {},
   "source": [
    "### Intevention_Counts"
   ]
  },
  {
   "cell_type": "code",
   "execution_count": null,
   "metadata": {},
   "outputs": [
    {
     "data": {
      "application/vnd.microsoft.datawrangler.viewer.v0+json": {
       "columns": [
        {
         "name": "Intervention_Counts",
         "rawType": "int64",
         "type": "integer"
        },
        {
         "name": "count",
         "rawType": "int64",
         "type": "integer"
        }
       ],
       "ref": "130360b5-b6dd-42ab-96c9-c233686c22c5",
       "rows": [
        [
         "1",
         "154269"
        ],
        [
         "2",
         "21012"
        ],
        [
         "3",
         "2008"
        ],
        [
         "4",
         "255"
        ],
        [
         "5",
         "41"
        ],
        [
         "6",
         "1"
        ]
       ],
       "shape": {
        "columns": 1,
        "rows": 6
       }
      },
      "text/plain": [
       "Intervention_Counts\n",
       "1    154269\n",
       "2     21012\n",
       "3      2008\n",
       "4       255\n",
       "5        41\n",
       "6         1\n",
       "Name: count, dtype: int64"
      ]
     },
     "metadata": {},
     "output_type": "display_data"
    },
    {
     "data": {
      "text/plain": [
       "0"
      ]
     },
     "metadata": {},
     "output_type": "display_data"
    },
    {
     "data": {
      "text/plain": [
       "(177586, 45)"
      ]
     },
     "metadata": {},
     "output_type": "display_data"
    }
   ],
   "source": [
    "# Intevention_Counts\" Column\n",
    "df[\"Intervention_Counts\"] = df[\"Intervention_Type_List\"].apply(lambda x: len(x)) # no null in Intervention_Type_List\n",
    "display(df[\"Intervention_Counts\"].value_counts(dropna=False))  \n",
    "display(df[\"Intervention_Counts\"].isnull().sum())\n",
    "display(df.shape)"
   ]
  },
  {
   "cell_type": "markdown",
   "metadata": {},
   "source": [
    "## Placebo_Bin"
   ]
  },
  {
   "cell_type": "code",
   "execution_count": 192,
   "metadata": {},
   "outputs": [
    {
     "data": {
      "application/vnd.microsoft.datawrangler.viewer.v0+json": {
       "columns": [
        {
         "name": "Placebo_Bin",
         "rawType": "object",
         "type": "unknown"
        },
        {
         "name": "count",
         "rawType": "int64",
         "type": "integer"
        }
       ],
       "ref": "4b784b1e-59b0-4d4f-91cd-69da79ccd87f",
       "rows": [
        [
         null,
         "144416"
        ],
        [
         "PLACEBO_COMPARATOR",
         "33170"
        ]
       ],
       "shape": {
        "columns": 1,
        "rows": 2
       }
      },
      "text/plain": [
       "Placebo_Bin\n",
       "NaN                   144416\n",
       "PLACEBO_COMPARATOR     33170\n",
       "Name: count, dtype: int64"
      ]
     },
     "metadata": {},
     "output_type": "display_data"
    },
    {
     "data": {
      "application/vnd.microsoft.datawrangler.viewer.v0+json": {
       "columns": [
        {
         "name": "Placebo_Bin",
         "rawType": "object",
         "type": "string"
        },
        {
         "name": "count",
         "rawType": "int64",
         "type": "integer"
        }
       ],
       "ref": "a074e825-3710-45fa-8da2-89b90b6f1c49",
       "rows": [
        [
         "No",
         "144416"
        ],
        [
         "Yes",
         "33170"
        ]
       ],
       "shape": {
        "columns": 1,
        "rows": 2
       }
      },
      "text/plain": [
       "Placebo_Bin\n",
       "No     144416\n",
       "Yes     33170\n",
       "Name: count, dtype: int64"
      ]
     },
     "metadata": {},
     "output_type": "display_data"
    },
    {
     "data": {
      "text/plain": [
       "(177586, 46)"
      ]
     },
     "metadata": {},
     "output_type": "display_data"
    }
   ],
   "source": [
    "my_placebo2 = my_placebo[my_placebo[\"group_type\"] == \"PLACEBO_COMPARATOR\"]\n",
    "df = df.merge(my_placebo2[[\"nct_id\", \"group_type\"]], on = \"nct_id\", how = \"left\")\n",
    "df = df.rename(columns={\"group_type\" : \"Placebo_Bin\"})\n",
    "display(df[\"Placebo_Bin\"].value_counts(dropna = False))\n",
    "\n",
    "df[\"Placebo_Bin\"] = df[\"Placebo_Bin\"].replace({np.NaN : \"No\", \"PLACEBO_COMPARATOR\" : \"Yes\"})\n",
    "display(df[\"Placebo_Bin\"].value_counts(dropna = False)) \n",
    "display(df.shape)\n"
   ]
  },
  {
   "cell_type": "markdown",
   "metadata": {},
   "source": [
    "## Standard_Care_Bin"
   ]
  },
  {
   "cell_type": "code",
   "execution_count": 193,
   "metadata": {},
   "outputs": [
    {
     "data": {
      "application/vnd.microsoft.datawrangler.viewer.v0+json": {
       "columns": [
        {
         "name": "Standard_Care_Bin",
         "rawType": "object",
         "type": "unknown"
        },
        {
         "name": "count",
         "rawType": "int64",
         "type": "integer"
        }
       ],
       "ref": "445a1fbe-ddfb-4497-8925-34b6d778f376",
       "rows": [
        [
         null,
         "170012"
        ],
        [
         "ACTIVE_COMPARATOR",
         "7574"
        ]
       ],
       "shape": {
        "columns": 1,
        "rows": 2
       }
      },
      "text/plain": [
       "Standard_Care_Bin\n",
       "NaN                  170012\n",
       "ACTIVE_COMPARATOR      7574\n",
       "Name: count, dtype: int64"
      ]
     },
     "metadata": {},
     "output_type": "display_data"
    },
    {
     "data": {
      "application/vnd.microsoft.datawrangler.viewer.v0+json": {
       "columns": [
        {
         "name": "Standard_Care_Bin",
         "rawType": "object",
         "type": "string"
        },
        {
         "name": "count",
         "rawType": "int64",
         "type": "integer"
        }
       ],
       "ref": "e50fc476-3e2a-43e5-b3bb-44f1e38820ec",
       "rows": [
        [
         "No",
         "170012"
        ],
        [
         "Yes",
         "7574"
        ]
       ],
       "shape": {
        "columns": 1,
        "rows": 2
       }
      },
      "text/plain": [
       "Standard_Care_Bin\n",
       "No     170012\n",
       "Yes      7574\n",
       "Name: count, dtype: int64"
      ]
     },
     "metadata": {},
     "output_type": "display_data"
    },
    {
     "data": {
      "text/plain": [
       "(177586, 47)"
      ]
     },
     "metadata": {},
     "output_type": "display_data"
    }
   ],
   "source": [
    "df = df.merge(my_soc[[\"nct_id\", \"group_type\"]], on = \"nct_id\", how = \"left\")\n",
    "df = df.rename(columns={\"group_type\" : \"Standard_Care_Bin\"})\n",
    "display(df[\"Standard_Care_Bin\"].value_counts(dropna=False))\n",
    "\n",
    "df[\"Standard_Care_Bin\"] = df[\"Standard_Care_Bin\"].replace({np.NaN : \"No\", \"ACTIVE_COMPARATOR\" : \"Yes\"})\n",
    "display(df[\"Standard_Care_Bin\"].value_counts(dropna=False))\n",
    "display(df.shape)\n"
   ]
  },
  {
   "cell_type": "markdown",
   "metadata": {},
   "source": [
    "## Healthy_Bin"
   ]
  },
  {
   "cell_type": "code",
   "execution_count": 194,
   "metadata": {},
   "outputs": [
    {
     "data": {
      "application/vnd.microsoft.datawrangler.viewer.v0+json": {
       "columns": [
        {
         "name": "Healthy_Bin",
         "rawType": "object",
         "type": "unknown"
        },
        {
         "name": "count",
         "rawType": "int64",
         "type": "integer"
        }
       ],
       "ref": "5cd2fb26-1241-4572-91fd-9e51009dcf78",
       "rows": [
        [
         "No",
         "118750"
        ],
        [
         "Yes",
         "58770"
        ],
        [
         null,
         "66"
        ]
       ],
       "shape": {
        "columns": 1,
        "rows": 3
       }
      },
      "text/plain": [
       "Healthy_Bin\n",
       "No     118750\n",
       "Yes     58770\n",
       "NaN        66\n",
       "Name: count, dtype: int64"
      ]
     },
     "metadata": {},
     "output_type": "display_data"
    },
    {
     "data": {
      "text/plain": [
       "(177586, 48)"
      ]
     },
     "metadata": {},
     "output_type": "display_data"
    }
   ],
   "source": [
    "df = df.merge(my_eligibilities[[\"nct_id\", \"healthy_volunteers\"]], on = \"nct_id\", how = \"left\")\n",
    "df = df.rename(columns={\"healthy_volunteers\" : \"Healthy_Bin\"})\n",
    "df['Healthy_Bin'] = df['Healthy_Bin'].replace({'Condition' : \"No\", \"Healthy\" : \"Yes\"})\n",
    "\n",
    "display(df[\"Healthy_Bin\"].value_counts(dropna = False))\n",
    "display(df.shape)"
   ]
  },
  {
   "cell_type": "markdown",
   "metadata": {},
   "source": [
    "## Arm_Counts"
   ]
  },
  {
   "cell_type": "code",
   "execution_count": 195,
   "metadata": {},
   "outputs": [
    {
     "data": {
      "application/vnd.microsoft.datawrangler.viewer.v0+json": {
       "columns": [
        {
         "name": "Arm_Counts",
         "rawType": "float64",
         "type": "float"
        },
        {
         "name": "count",
         "rawType": "int64",
         "type": "integer"
        }
       ],
       "ref": "b6e9fd4f-7b7a-4112-a89a-f7a9077d0fbb",
       "rows": [
        [
         "2.0",
         "98050"
        ],
        [
         "1.0",
         "40766"
        ],
        [
         "3.0",
         "20491"
        ],
        [
         "4.0",
         "9911"
        ],
        [
         "5.0",
         "2529"
        ],
        [
         "6.0",
         "2254"
        ],
        [
         null,
         "910"
        ],
        [
         "8.0",
         "682"
        ],
        [
         "7.0",
         "635"
        ],
        [
         "9.0",
         "348"
        ],
        [
         "10.0",
         "269"
        ],
        [
         "12.0",
         "174"
        ],
        [
         "11.0",
         "127"
        ],
        [
         "13.0",
         "80"
        ],
        [
         "16.0",
         "77"
        ],
        [
         "14.0",
         "74"
        ],
        [
         "15.0",
         "50"
        ],
        [
         "18.0",
         "43"
        ],
        [
         "17.0",
         "21"
        ],
        [
         "20.0",
         "15"
        ],
        [
         "32.0",
         "13"
        ],
        [
         "19.0",
         "12"
        ],
        [
         "24.0",
         "11"
        ],
        [
         "22.0",
         "9"
        ],
        [
         "21.0",
         "7"
        ],
        [
         "23.0",
         "6"
        ],
        [
         "25.0",
         "4"
        ],
        [
         "27.0",
         "4"
        ],
        [
         "30.0",
         "3"
        ],
        [
         "26.0",
         "3"
        ],
        [
         "40.0",
         "1"
        ],
        [
         "37.0",
         "1"
        ],
        [
         "29.0",
         "1"
        ],
        [
         "43.0",
         "1"
        ],
        [
         "44.0",
         "1"
        ],
        [
         "31.0",
         "1"
        ],
        [
         "34.0",
         "1"
        ],
        [
         "28.0",
         "1"
        ]
       ],
       "shape": {
        "columns": 1,
        "rows": 38
       }
      },
      "text/plain": [
       "Arm_Counts\n",
       "2.0     98050\n",
       "1.0     40766\n",
       "3.0     20491\n",
       "4.0      9911\n",
       "5.0      2529\n",
       "6.0      2254\n",
       "NaN       910\n",
       "8.0       682\n",
       "7.0       635\n",
       "9.0       348\n",
       "10.0      269\n",
       "12.0      174\n",
       "11.0      127\n",
       "13.0       80\n",
       "16.0       77\n",
       "14.0       74\n",
       "15.0       50\n",
       "18.0       43\n",
       "17.0       21\n",
       "20.0       15\n",
       "32.0       13\n",
       "19.0       12\n",
       "24.0       11\n",
       "22.0        9\n",
       "21.0        7\n",
       "23.0        6\n",
       "25.0        4\n",
       "27.0        4\n",
       "30.0        3\n",
       "26.0        3\n",
       "40.0        1\n",
       "37.0        1\n",
       "29.0        1\n",
       "43.0        1\n",
       "44.0        1\n",
       "31.0        1\n",
       "34.0        1\n",
       "28.0        1\n",
       "Name: count, dtype: int64"
      ]
     },
     "metadata": {},
     "output_type": "display_data"
    },
    {
     "data": {
      "text/plain": [
       "(177586, 49)"
      ]
     },
     "metadata": {},
     "output_type": "display_data"
    }
   ],
   "source": [
    "df = df.merge(my_studies[[\"nct_id\", \"number_of_arms\"]], on = \"nct_id\", how = \"left\")\n",
    "df = df.rename(columns = {\"number_of_arms\" : \"Arm_Counts\"})\n",
    "display(df['Arm_Counts'].value_counts(dropna = False))\n",
    "display(df.shape)"
   ]
  },
  {
   "cell_type": "markdown",
   "metadata": {},
   "source": [
    "## Conditions\n",
    "- Source MEsH Ontologies and Drugs : https://meshb.nlm.nih.gov/treeView  "
   ]
  },
  {
   "cell_type": "markdown",
   "metadata": {},
   "source": [
    "### Covid_19_Bin"
   ]
  },
  {
   "cell_type": "code",
   "execution_count": 196,
   "metadata": {},
   "outputs": [
    {
     "data": {
      "application/vnd.microsoft.datawrangler.viewer.v0+json": {
       "columns": [
        {
         "name": "Covid_19_Bin",
         "rawType": "object",
         "type": "unknown"
        },
        {
         "name": "count",
         "rawType": "int64",
         "type": "integer"
        }
       ],
       "ref": "c87af1c1-ee1f-4ae7-ab60-72d64233de2b",
       "rows": [
        [
         null,
         "174786"
        ],
        [
         "COVID-19",
         "2800"
        ]
       ],
       "shape": {
        "columns": 1,
        "rows": 2
       }
      },
      "text/plain": [
       "Covid_19_Bin\n",
       "NaN         174786\n",
       "COVID-19      2800\n",
       "Name: count, dtype: int64"
      ]
     },
     "metadata": {},
     "output_type": "display_data"
    },
    {
     "data": {
      "application/vnd.microsoft.datawrangler.viewer.v0+json": {
       "columns": [
        {
         "name": "Covid_19_Bin",
         "rawType": "object",
         "type": "string"
        },
        {
         "name": "count",
         "rawType": "int64",
         "type": "integer"
        }
       ],
       "ref": "5a3eec8f-a593-448f-ac13-508cbb186a91",
       "rows": [
        [
         "No",
         "174786"
        ],
        [
         "Yes",
         "2800"
        ]
       ],
       "shape": {
        "columns": 1,
        "rows": 2
       }
      },
      "text/plain": [
       "Covid_19_Bin\n",
       "No     174786\n",
       "Yes      2800\n",
       "Name: count, dtype: int64"
      ]
     },
     "metadata": {},
     "output_type": "display_data"
    },
    {
     "data": {
      "text/plain": [
       "(177586, 50)"
      ]
     },
     "metadata": {},
     "output_type": "display_data"
    }
   ],
   "source": [
    "df = df.merge(my_covid[[\"nct_id\", \"mesh_term\"]], on = \"nct_id\", how = \"left\")\n",
    "df = df.rename(columns={\"mesh_term\" : \"Covid_19_Bin\"})\n",
    "display(df[\"Covid_19_Bin\"].value_counts(dropna=False))\n",
    "df[\"Covid_19_Bin\"] = df[\"Covid_19_Bin\"].replace({np.NaN : \"No\", \"COVID-19\": \"Yes\"})\n",
    "display(df[\"Covid_19_Bin\"].value_counts(dropna=False))\n",
    "display(df.shape)"
   ]
  },
  {
   "cell_type": "markdown",
   "metadata": {},
   "source": [
    "### Conditions_List"
   ]
  },
  {
   "cell_type": "code",
   "execution_count": 198,
   "metadata": {},
   "outputs": [
    {
     "data": {
      "application/vnd.microsoft.datawrangler.viewer.v0+json": {
       "columns": [
        {
         "name": "Conditions_List",
         "rawType": "object",
         "type": "unknown"
        },
        {
         "name": "count",
         "rawType": "int64",
         "type": "integer"
        }
       ],
       "ref": "85cb929d-eb58-4378-b7b4-cff9b4abd438",
       "rows": [
        [
         "['Diseases']",
         "105207"
        ],
        [
         "[]",
         "39471"
        ],
        [
         "['Diseases', 'Psychiatry, Psychology']",
         "9740"
        ],
        [
         "['Psychiatry, Psychology']",
         "7711"
        ],
        [
         "['Diseases', 'Phenomena, Processes', 'Psychiatry, Psychology']",
         "7489"
        ],
        [
         "['Diagnostic, Equipment', 'Diseases', 'Phenomena, Processes']",
         "3820"
        ],
        [
         "['Diseases', 'Phenomena, Processes']",
         "2330"
        ],
        [
         "['Diseases', 'Health Care']",
         "374"
        ],
        [
         "['Anthropology, Sociology', 'Psychiatry, Psychology']",
         "326"
        ],
        [
         "['Diagnostic, Equipment', 'Diseases', 'Phenomena, Processes', 'Psychiatry, Psychology']",
         "280"
        ],
        [
         "['Anatomy', 'Diseases', 'Phenomena, Processes']",
         "262"
        ],
        [
         "['Diseases', 'Health Care', 'Phenomena, Processes']",
         "130"
        ],
        [
         "['Diagnostic, Equipment', 'Diseases']",
         "120"
        ],
        [
         "['Diagnostic, Equipment', 'Diseases', 'Psychiatry, Psychology']",
         "106"
        ],
        [
         "['Anthropology, Sociology', 'Diseases', 'Psychiatry, Psychology']",
         "47"
        ],
        [
         "['Anatomy', 'Diseases']",
         "46"
        ],
        [
         "['Diseases', 'Health Care', 'Phenomena, Processes', 'Psychiatry, Psychology']",
         "44"
        ],
        [
         "['Diseases', 'Health Care', 'Psychiatry, Psychology']",
         "36"
        ],
        [
         "['Anthropology, Sociology', 'Diseases']",
         "13"
        ],
        [
         "['Anthropology, Sociology', 'Diseases', 'Health Care', 'Psychiatry, Psychology']",
         "11"
        ],
        [
         "['Anthropology, Sociology', 'Diseases', 'Health Care']",
         "7"
        ],
        [
         "['Anthropology, Sociology', 'Diseases', 'Phenomena, Processes']",
         "3"
        ],
        [
         "['Chemicals, Drugs', 'Diseases']",
         "3"
        ],
        [
         "['Diagnostic, Equipment', 'Diseases', 'Health Care', 'Phenomena, Processes']",
         "2"
        ],
        [
         "['Anthropology, Sociology', 'Diagnostic, Equipment', 'Diseases', 'Phenomena, Processes', 'Psychiatry, Psychology']",
         "2"
        ],
        [
         "['Anatomy', 'Diseases', 'Phenomena, Processes', 'Psychiatry, Psychology']",
         "2"
        ],
        [
         "['Anthropology, Sociology', 'Diseases', 'Phenomena, Processes', 'Psychiatry, Psychology']",
         "1"
        ],
        [
         "['Anthropology, Sociology', 'Diseases', 'Health Care', 'Phenomena, Processes', 'Psychiatry, Psychology']",
         "1"
        ],
        [
         "['Anthropology, Sociology', 'Diagnostic, Equipment', 'Diseases', 'Health Care', 'Psychiatry, Psychology']",
         "1"
        ],
        [
         "['Diagnostic, Equipment', 'Diseases', 'Health Care', 'Psychiatry, Psychology']",
         "1"
        ]
       ],
       "shape": {
        "columns": 1,
        "rows": 30
       }
      },
      "text/plain": [
       "Conditions_List\n",
       "[Diseases]                                                                                                  105207\n",
       "[]                                                                                                           39471\n",
       "[Diseases, Psychiatry, Psychology]                                                                            9740\n",
       "[Psychiatry, Psychology]                                                                                      7711\n",
       "[Diseases, Phenomena, Processes, Psychiatry, Psychology]                                                      7489\n",
       "[Diagnostic, Equipment, Diseases, Phenomena, Processes]                                                       3820\n",
       "[Diseases, Phenomena, Processes]                                                                              2330\n",
       "[Diseases, Health Care]                                                                                        374\n",
       "[Anthropology, Sociology, Psychiatry, Psychology]                                                              326\n",
       "[Diagnostic, Equipment, Diseases, Phenomena, Processes, Psychiatry, Psychology]                                280\n",
       "[Anatomy, Diseases, Phenomena, Processes]                                                                      262\n",
       "[Diseases, Health Care, Phenomena, Processes]                                                                  130\n",
       "[Diagnostic, Equipment, Diseases]                                                                              120\n",
       "[Diagnostic, Equipment, Diseases, Psychiatry, Psychology]                                                      106\n",
       "[Anthropology, Sociology, Diseases, Psychiatry, Psychology]                                                     47\n",
       "[Anatomy, Diseases]                                                                                             46\n",
       "[Diseases, Health Care, Phenomena, Processes, Psychiatry, Psychology]                                           44\n",
       "[Diseases, Health Care, Psychiatry, Psychology]                                                                 36\n",
       "[Anthropology, Sociology, Diseases]                                                                             13\n",
       "[Anthropology, Sociology, Diseases, Health Care, Psychiatry, Psychology]                                        11\n",
       "[Anthropology, Sociology, Diseases, Health Care]                                                                 7\n",
       "[Anthropology, Sociology, Diseases, Phenomena, Processes]                                                        3\n",
       "[Chemicals, Drugs, Diseases]                                                                                     3\n",
       "[Diagnostic, Equipment, Diseases, Health Care, Phenomena, Processes]                                             2\n",
       "[Anthropology, Sociology, Diagnostic, Equipment, Diseases, Phenomena, Processes, Psychiatry, Psychology]         2\n",
       "[Anatomy, Diseases, Phenomena, Processes, Psychiatry, Psychology]                                                2\n",
       "[Anthropology, Sociology, Diseases, Phenomena, Processes, Psychiatry, Psychology]                                1\n",
       "[Anthropology, Sociology, Diseases, Health Care, Phenomena, Processes, Psychiatry, Psychology]                   1\n",
       "[Anthropology, Sociology, Diagnostic, Equipment, Diseases, Health Care, Psychiatry, Psychology]                  1\n",
       "[Diagnostic, Equipment, Diseases, Health Care, Psychiatry, Psychology]                                           1\n",
       "Name: count, dtype: int64"
      ]
     },
     "metadata": {},
     "output_type": "display_data"
    },
    {
     "data": {
      "text/plain": [
       "Counter({'Diseases': 130078,\n",
       "         'None': 39471,\n",
       "         'Psychiatry, Psychology': 25798,\n",
       "         'Phenomena, Processes': 14366,\n",
       "         'Diagnostic, Equipment': 4332,\n",
       "         'Health Care': 607,\n",
       "         'Anthropology, Sociology': 412,\n",
       "         'Anatomy': 310,\n",
       "         'Chemicals, Drugs': 3})"
      ]
     },
     "metadata": {},
     "output_type": "display_data"
    },
    {
     "data": {
      "text/plain": [
       "(177586, 51)"
      ]
     },
     "metadata": {},
     "output_type": "display_data"
    }
   ],
   "source": [
    "df = df.merge(my_conditions[[\"nct_id\", \"Category\"]], on = \"nct_id\", how = \"left\")\n",
    "df = df.rename(columns = {\"Category\" : \"Conditions_List\"})\n",
    "display(df[\"Conditions_List\"].value_counts(dropna=False))\n",
    "df[\"Conditions_List\"] = df[\"Conditions_List\"].apply(lambda x: [\"None\"] if isinstance(x, list) and len(x) == 0 else x)\n",
    "\n",
    "display(Counter([elem for row_list in df[\"Conditions_List\"] for elem in row_list]))\n",
    "display(df.shape)"
   ]
  },
  {
   "cell_type": "code",
   "execution_count": 199,
   "metadata": {},
   "outputs": [
    {
     "data": {
      "application/vnd.microsoft.datawrangler.viewer.v0+json": {
       "columns": [
        {
         "name": "index",
         "rawType": "int64",
         "type": "integer"
        },
        {
         "name": "Conditions",
         "rawType": "object",
         "type": "string"
        },
        {
         "name": "Intervention_Type_List",
         "rawType": "object",
         "type": "unknown"
        },
        {
         "name": "Healthy_Bin",
         "rawType": "object",
         "type": "unknown"
        }
       ],
       "ref": "1ba1a076-30af-4529-85d2-c802278f72be",
       "rows": [
        [
         "20",
         "Specific Positive Memories|Specific Positive Future Events|Resilience|Mental Wellbeing",
         "['BEHAVIORAL']",
         "No"
        ],
        [
         "22",
         "Granulocyte/ Polymorphonuclear Cells",
         "['DEVICE']",
         "Yes"
        ],
        [
         "30",
         "Study is Open to Seniors Age 50 or Older",
         "['BEHAVIORAL']",
         "Yes"
        ],
        [
         "32",
         "COPD",
         "['BEHAVIORAL', 'DEVICE']",
         "No"
        ],
        [
         "34",
         "Malaria|Plasmodium Falciparum",
         "['BIOLOGICAL']",
         "Yes"
        ],
        [
         "42",
         "Healthy Volunteers",
         "['OTHER']",
         "Yes"
        ],
        [
         "46",
         "Healthy",
         "['OTHER']",
         "Yes"
        ],
        [
         "54",
         "Brain Health",
         "['DEVICE']",
         "Yes"
        ],
        [
         "60",
         "Back; Instability",
         "['OTHER']",
         "Yes"
        ],
        [
         "62",
         "Colorectal Disease",
         "['DIETARY_SUPPLEMENT']",
         "No"
        ],
        [
         "67",
         "Autologous Fat Graft Harvesting, SVF-gel Preparation and Filling|CO2 Fractional Laser Treatment by Using Acupulse Device",
         "['DEVICE']",
         "No"
        ],
        [
         "79",
         "Diabetes",
         "['DEVICE']",
         "No"
        ],
        [
         "82",
         "Quality of Life",
         "['BEHAVIORAL']",
         "No"
        ],
        [
         "89",
         "Contraceptive Behavior",
         "['BEHAVIORAL']",
         "Yes"
        ],
        [
         "91",
         "Evaluate the Effect of a Talking Tracheostomy Tube on Quality of Life",
         "['DEVICE']",
         "No"
        ],
        [
         "93",
         "Sympathetic Nerve Activity",
         "['OTHER']",
         "Yes"
        ],
        [
         "104",
         "Complementary Feeding",
         "['BEHAVIORAL']",
         "Yes"
        ],
        [
         "117",
         "Anesthesia",
         "['OTHER']",
         "No"
        ],
        [
         "121",
         "Healthy",
         "['DIETARY_SUPPLEMENT']",
         "Yes"
        ],
        [
         "123",
         "Chondral Lesion Plus Partial Medial Meniscectomy",
         "['DEVICE']",
         "No"
        ],
        [
         "126",
         "Infection by Streptococcus Group B",
         "['BIOLOGICAL']",
         "Yes"
        ],
        [
         "132",
         "No Medical Condition",
         "['OTHER', 'PROCEDURE']",
         "Yes"
        ],
        [
         "134",
         "Angioplasty|Anaesthesia and Analgesia",
         "['OTHER', 'PROCEDURE']",
         "No"
        ],
        [
         "145",
         "Alertness",
         "['OTHER']",
         "Yes"
        ],
        [
         "155",
         "Health Behavior|Physical Activity",
         "['BEHAVIORAL']",
         "Yes"
        ],
        [
         "159",
         "Care Givers|Health|Care of the Elderly|Health Care Delivery|Mobility and Independence",
         "['DEVICE']",
         "No"
        ],
        [
         "168",
         "Failed Induction of Labor",
         "['DEVICE']",
         "No"
        ],
        [
         "173",
         "Restoration of Primary Molars With CAD/CAM Crowns",
         "['OTHER']",
         "Yes"
        ],
        [
         "180",
         "Motor Activity",
         "['OTHER']",
         "Yes"
        ],
        [
         "194",
         "Amputees|Prosthesis User|Artificial Limbs",
         "['OTHER']",
         "No"
        ],
        [
         "197",
         "Patient Engagement",
         "['BEHAVIORAL']",
         "Yes"
        ],
        [
         "199",
         "ALL",
         "['OTHER']",
         "No"
        ],
        [
         "215",
         "Psychological Distress|Self-Assessment|Mood Change",
         "['BEHAVIORAL']",
         "Yes"
        ],
        [
         "225",
         "Meningococcal Vaccine",
         "['BIOLOGICAL']",
         "Yes"
        ],
        [
         "228",
         "Healthy",
         "['DEVICE']",
         "Yes"
        ],
        [
         "237",
         "Sleep|Sleep Restriction",
         "['BEHAVIORAL']",
         "Yes"
        ],
        [
         "241",
         "Blood Pressure|Cerebrovascular Reactivity",
         "['OTHER']",
         "Yes"
        ],
        [
         "243",
         "Gun Violence Prevention",
         "['BEHAVIORAL']",
         "Yes"
        ],
        [
         "247",
         "Electronic Cigarettes",
         "['OTHER']",
         "Yes"
        ],
        [
         "251",
         "Tobacco Prevention",
         "['OTHER']",
         "Yes"
        ],
        [
         "252",
         "Airway Morbidity",
         "['DEVICE']",
         "No"
        ],
        [
         "277",
         "Volunteers",
         "['OTHER']",
         "Yes"
        ],
        [
         "289",
         "Infant Development",
         "['DIETARY_SUPPLEMENT']",
         "Yes"
        ],
        [
         "296",
         "Patient Specific Computational Modeling",
         "['DIAGNOSTIC_TEST', 'OTHER']",
         "Yes"
        ],
        [
         "300",
         "Smoking Cessation",
         "['BEHAVIORAL', 'DEVICE', 'DRUG']",
         "Yes"
        ],
        [
         "301",
         "Complication of Surgical Procedure",
         "['DEVICE']",
         "No"
        ],
        [
         "308",
         "Healthy",
         "['DIETARY_SUPPLEMENT']",
         "Yes"
        ],
        [
         "314",
         "Debonding|Orthodontic Brackets",
         "['DEVICE']",
         "Yes"
        ],
        [
         "316",
         "Scaphoid Fracture",
         "['PROCEDURE']",
         "No"
        ],
        [
         "341",
         "Intubation|Laryngoscopy",
         "['DEVICE']",
         "No"
        ]
       ],
       "shape": {
        "columns": 3,
        "rows": 27510
       }
      },
      "text/html": [
       "<div>\n",
       "<style scoped>\n",
       "    .dataframe tbody tr th:only-of-type {\n",
       "        vertical-align: middle;\n",
       "    }\n",
       "\n",
       "    .dataframe tbody tr th {\n",
       "        vertical-align: top;\n",
       "    }\n",
       "\n",
       "    .dataframe thead th {\n",
       "        text-align: right;\n",
       "    }\n",
       "</style>\n",
       "<table border=\"1\" class=\"dataframe\">\n",
       "  <thead>\n",
       "    <tr style=\"text-align: right;\">\n",
       "      <th></th>\n",
       "      <th>Conditions</th>\n",
       "      <th>Intervention_Type_List</th>\n",
       "      <th>Healthy_Bin</th>\n",
       "    </tr>\n",
       "  </thead>\n",
       "  <tbody>\n",
       "    <tr>\n",
       "      <th>20</th>\n",
       "      <td>Specific Positive Memories|Specific Positive F...</td>\n",
       "      <td>[BEHAVIORAL]</td>\n",
       "      <td>No</td>\n",
       "    </tr>\n",
       "    <tr>\n",
       "      <th>22</th>\n",
       "      <td>Granulocyte/ Polymorphonuclear Cells</td>\n",
       "      <td>[DEVICE]</td>\n",
       "      <td>Yes</td>\n",
       "    </tr>\n",
       "    <tr>\n",
       "      <th>30</th>\n",
       "      <td>Study is Open to Seniors Age 50 or Older</td>\n",
       "      <td>[BEHAVIORAL]</td>\n",
       "      <td>Yes</td>\n",
       "    </tr>\n",
       "    <tr>\n",
       "      <th>32</th>\n",
       "      <td>COPD</td>\n",
       "      <td>[BEHAVIORAL, DEVICE]</td>\n",
       "      <td>No</td>\n",
       "    </tr>\n",
       "    <tr>\n",
       "      <th>34</th>\n",
       "      <td>Malaria|Plasmodium Falciparum</td>\n",
       "      <td>[BIOLOGICAL]</td>\n",
       "      <td>Yes</td>\n",
       "    </tr>\n",
       "    <tr>\n",
       "      <th>...</th>\n",
       "      <td>...</td>\n",
       "      <td>...</td>\n",
       "      <td>...</td>\n",
       "    </tr>\n",
       "    <tr>\n",
       "      <th>177554</th>\n",
       "      <td>Intravenous Catheterization</td>\n",
       "      <td>[OTHER]</td>\n",
       "      <td>Yes</td>\n",
       "    </tr>\n",
       "    <tr>\n",
       "      <th>177558</th>\n",
       "      <td>Healthy</td>\n",
       "      <td>[DEVICE]</td>\n",
       "      <td>Yes</td>\n",
       "    </tr>\n",
       "    <tr>\n",
       "      <th>177571</th>\n",
       "      <td>Healthy Volunteers</td>\n",
       "      <td>[OTHER]</td>\n",
       "      <td>Yes</td>\n",
       "    </tr>\n",
       "    <tr>\n",
       "      <th>177573</th>\n",
       "      <td>Cancer|Health Literacy|Health Insurance|Health...</td>\n",
       "      <td>[BEHAVIORAL]</td>\n",
       "      <td>Yes</td>\n",
       "    </tr>\n",
       "    <tr>\n",
       "      <th>177581</th>\n",
       "      <td>Virtual Reality|Vaccination|Pain|Nursing</td>\n",
       "      <td>[OTHER]</td>\n",
       "      <td>Yes</td>\n",
       "    </tr>\n",
       "  </tbody>\n",
       "</table>\n",
       "<p>27510 rows × 3 columns</p>\n",
       "</div>"
      ],
      "text/plain": [
       "                                               Conditions  \\\n",
       "20      Specific Positive Memories|Specific Positive F...   \n",
       "22                   Granulocyte/ Polymorphonuclear Cells   \n",
       "30               Study is Open to Seniors Age 50 or Older   \n",
       "32                                                   COPD   \n",
       "34                          Malaria|Plasmodium Falciparum   \n",
       "...                                                   ...   \n",
       "177554                        Intravenous Catheterization   \n",
       "177558                                            Healthy   \n",
       "177571                                 Healthy Volunteers   \n",
       "177573  Cancer|Health Literacy|Health Insurance|Health...   \n",
       "177581           Virtual Reality|Vaccination|Pain|Nursing   \n",
       "\n",
       "       Intervention_Type_List Healthy_Bin  \n",
       "20               [BEHAVIORAL]          No  \n",
       "22                   [DEVICE]         Yes  \n",
       "30               [BEHAVIORAL]         Yes  \n",
       "32       [BEHAVIORAL, DEVICE]          No  \n",
       "34               [BIOLOGICAL]         Yes  \n",
       "...                       ...         ...  \n",
       "177554                [OTHER]         Yes  \n",
       "177558               [DEVICE]         Yes  \n",
       "177571                [OTHER]         Yes  \n",
       "177573           [BEHAVIORAL]         Yes  \n",
       "177581                [OTHER]         Yes  \n",
       "\n",
       "[27510 rows x 3 columns]"
      ]
     },
     "execution_count": 199,
     "metadata": {},
     "output_type": "execute_result"
    }
   ],
   "source": [
    "df.loc[df['Conditions_List'].apply(lambda x: x== ['None']) & df['Intervention_Type_List'].apply(lambda x: x!= ['DRUG'])][['Conditions', 'Intervention_Type_List', 'Healthy_Bin']]"
   ]
  },
  {
   "cell_type": "markdown",
   "metadata": {},
   "source": [
    "### Comorbidity_Counts"
   ]
  },
  {
   "cell_type": "code",
   "execution_count": 200,
   "metadata": {},
   "outputs": [
    {
     "data": {
      "application/vnd.microsoft.datawrangler.viewer.v0+json": {
       "columns": [
        {
         "name": "Comorbidity_Counts",
         "rawType": "int64",
         "type": "integer"
        },
        {
         "name": "count",
         "rawType": "int64",
         "type": "integer"
        }
       ],
       "ref": "c1b1a27a-4b0a-4da5-a64f-dde53fa3be09",
       "rows": [
        [
         "2",
         "42791"
        ],
        [
         "0",
         "39471"
        ],
        [
         "1",
         "38826"
        ],
        [
         "3",
         "27620"
        ],
        [
         "4",
         "16568"
        ],
        [
         "5",
         "8283"
        ],
        [
         "6",
         "2486"
        ],
        [
         "7",
         "1028"
        ],
        [
         "8",
         "360"
        ],
        [
         "9",
         "95"
        ],
        [
         "10",
         "34"
        ],
        [
         "11",
         "12"
        ],
        [
         "14",
         "4"
        ],
        [
         "13",
         "3"
        ],
        [
         "12",
         "3"
        ],
        [
         "16",
         "1"
        ],
        [
         "15",
         "1"
        ]
       ],
       "shape": {
        "columns": 1,
        "rows": 17
       }
      },
      "text/plain": [
       "Comorbidity_Counts\n",
       "2     42791\n",
       "0     39471\n",
       "1     38826\n",
       "3     27620\n",
       "4     16568\n",
       "5      8283\n",
       "6      2486\n",
       "7      1028\n",
       "8       360\n",
       "9        95\n",
       "10       34\n",
       "11       12\n",
       "14        4\n",
       "13        3\n",
       "12        3\n",
       "16        1\n",
       "15        1\n",
       "Name: count, dtype: int64"
      ]
     },
     "metadata": {},
     "output_type": "display_data"
    },
    {
     "data": {
      "text/plain": [
       "(177586, 52)"
      ]
     },
     "metadata": {},
     "output_type": "display_data"
    }
   ],
   "source": [
    "df = df.merge(my_conditions[[\"nct_id\", \"Comorbidity\"]], on = \"nct_id\", how = \"left\")\n",
    "df = df.rename(columns = {\"Comorbidity\" : \"Comorbidity_Counts\"})\n",
    "\n",
    "display(df[\"Comorbidity_Counts\"].value_counts(dropna=False))\n",
    "display(df.shape)"
   ]
  },
  {
   "cell_type": "markdown",
   "metadata": {},
   "source": [
    "### Comorbidity_Bin\n"
   ]
  },
  {
   "cell_type": "code",
   "execution_count": 201,
   "metadata": {},
   "outputs": [
    {
     "data": {
      "application/vnd.microsoft.datawrangler.viewer.v0+json": {
       "columns": [
        {
         "name": "Comorbidity_Bin",
         "rawType": "object",
         "type": "string"
        },
        {
         "name": "count",
         "rawType": "int64",
         "type": "integer"
        }
       ],
       "ref": "a8724e13-c718-4bf3-b69c-7a7ca6ac9912",
       "rows": [
        [
         "Yes",
         "177586"
        ]
       ],
       "shape": {
        "columns": 1,
        "rows": 1
       }
      },
      "text/plain": [
       "Comorbidity_Bin\n",
       "Yes    177586\n",
       "Name: count, dtype: int64"
      ]
     },
     "execution_count": 201,
     "metadata": {},
     "output_type": "execute_result"
    }
   ],
   "source": [
    "df['Comorbidity_Bin'] = df.loc[df[\"Comorbidity_Counts\"] <= 1, \"Comorbidity_Bin\"] = 'No'\n",
    "df['Comorbidity_Bin'] = df.loc[df[\"Comorbidity_Counts\"] >= 2, \"Comorbidity_Bin\"] = 'Yes'\n",
    "\n",
    "df['Comorbidity_Bin'].value_counts(dropna = False)"
   ]
  },
  {
   "cell_type": "markdown",
   "metadata": {},
   "source": [
    "## Adverse"
   ]
  },
  {
   "cell_type": "markdown",
   "metadata": {},
   "source": [
    "### Adverse_List"
   ]
  },
  {
   "cell_type": "code",
   "execution_count": 202,
   "metadata": {},
   "outputs": [
    {
     "data": {
      "application/vnd.microsoft.datawrangler.viewer.v0+json": {
       "columns": [
        {
         "name": "Adverse_List",
         "rawType": "object",
         "type": "unknown"
        },
        {
         "name": "count",
         "rawType": "int64",
         "type": "integer"
        }
       ],
       "ref": "b67801de-5102-4cd0-9d4e-978a4225b384",
       "rows": [
        [
         "['None']",
         "144050"
        ],
        [
         "['Death', 'Other', 'Serious']",
         "12233"
        ],
        [
         "['Other', 'Serious']",
         "6847"
        ],
        [
         "['Other']",
         "6822"
        ],
        [
         "['Death']",
         "3070"
        ],
        [
         "['Death', 'Other']",
         "2827"
        ],
        [
         "['Death', 'Serious']",
         "1038"
        ],
        [
         "['Serious']",
         "699"
        ]
       ],
       "shape": {
        "columns": 1,
        "rows": 8
       }
      },
      "text/plain": [
       "Adverse_List\n",
       "[None]                     144050\n",
       "[Death, Other, Serious]     12233\n",
       "[Other, Serious]             6847\n",
       "[Other]                      6822\n",
       "[Death]                      3070\n",
       "[Death, Other]               2827\n",
       "[Death, Serious]             1038\n",
       "[Serious]                     699\n",
       "Name: count, dtype: int64"
      ]
     },
     "metadata": {},
     "output_type": "display_data"
    },
    {
     "data": {
      "text/plain": [
       "(177586, 54)"
      ]
     },
     "metadata": {},
     "output_type": "display_data"
    }
   ],
   "source": [
    "df = df.merge(my_adverse[[\"nct_id\", \"event_type\"]], on = \"nct_id\", how = \"left\")\n",
    "df = df.rename(columns={\"event_type\" : \"Adverse_List\"})\n",
    "df[\"Adverse_List\"] = df[\"Adverse_List\"].apply(lambda x: ['None'] if (isinstance(x, list) and len(x) == 0) else x)\n",
    "\n",
    "display(df[\"Adverse_List\"].value_counts(dropna=False))\n",
    "display(df.shape)"
   ]
  },
  {
   "cell_type": "markdown",
   "metadata": {},
   "source": [
    "### Adverse_Counts"
   ]
  },
  {
   "cell_type": "code",
   "execution_count": 203,
   "metadata": {},
   "outputs": [
    {
     "data": {
      "application/vnd.microsoft.datawrangler.viewer.v0+json": {
       "columns": [
        {
         "name": "Adverse_Counts",
         "rawType": "float64",
         "type": "float"
        },
        {
         "name": "count",
         "rawType": "int64",
         "type": "integer"
        }
       ],
       "ref": "1bdd0bd5-fec0-431f-9027-da3d92c3b305",
       "rows": [
        [
         "0.0",
         "146459"
        ],
        [
         "1.0",
         "2494"
        ],
        [
         "3.0",
         "1401"
        ],
        [
         "2.0",
         "856"
        ],
        [
         "6.0",
         "855"
        ],
        [
         "4.0",
         "756"
        ],
        [
         "5.0",
         "724"
        ],
        [
         "7.0",
         "641"
        ],
        [
         "10.0",
         "618"
        ],
        [
         "8.0",
         "581"
        ],
        [
         "9.0",
         "544"
        ],
        [
         "13.0",
         "470"
        ],
        [
         "11.0",
         "470"
        ],
        [
         "12.0",
         "466"
        ],
        [
         "15.0",
         "455"
        ],
        [
         "14.0",
         "432"
        ],
        [
         "16.0",
         "399"
        ],
        [
         "17.0",
         "363"
        ],
        [
         "19.0",
         "355"
        ],
        [
         "21.0",
         "349"
        ],
        [
         "18.0",
         "348"
        ],
        [
         "20.0",
         "327"
        ],
        [
         "22.0",
         "324"
        ],
        [
         "23.0",
         "287"
        ],
        [
         "25.0",
         "283"
        ],
        [
         "24.0",
         "280"
        ],
        [
         "28.0",
         "277"
        ],
        [
         "27.0",
         "264"
        ],
        [
         "31.0",
         "246"
        ],
        [
         "26.0",
         "245"
        ],
        [
         "29.0",
         "237"
        ],
        [
         "30.0",
         "227"
        ],
        [
         "33.0",
         "214"
        ],
        [
         "32.0",
         "198"
        ],
        [
         "36.0",
         "198"
        ],
        [
         "35.0",
         "193"
        ],
        [
         "37.0",
         "192"
        ],
        [
         "34.0",
         "191"
        ],
        [
         "39.0",
         "182"
        ],
        [
         "42.0",
         "169"
        ],
        [
         "40.0",
         "169"
        ],
        [
         "41.0",
         "162"
        ],
        [
         "38.0",
         "158"
        ],
        [
         "44.0",
         "157"
        ],
        [
         "43.0",
         "153"
        ],
        [
         "48.0",
         "149"
        ],
        [
         "46.0",
         "140"
        ],
        [
         "50.0",
         "139"
        ],
        [
         "45.0",
         "136"
        ],
        [
         "55.0",
         "135"
        ]
       ],
       "shape": {
        "columns": 1,
        "rows": 1542
       }
      },
      "text/plain": [
       "Adverse_Counts\n",
       "0.0       146459\n",
       "1.0         2494\n",
       "3.0         1401\n",
       "2.0          856\n",
       "6.0          855\n",
       "           ...  \n",
       "846.0          1\n",
       "3960.0         1\n",
       "4298.0         1\n",
       "1301.0         1\n",
       "1144.0         1\n",
       "Name: count, Length: 1542, dtype: int64"
      ]
     },
     "metadata": {},
     "output_type": "display_data"
    },
    {
     "data": {
      "text/plain": [
       "0"
      ]
     },
     "metadata": {},
     "output_type": "display_data"
    },
    {
     "data": {
      "text/plain": [
       "(177586, 55)"
      ]
     },
     "metadata": {},
     "output_type": "display_data"
    }
   ],
   "source": [
    "df = df.merge(my_adverse[[\"nct_id\",\"event_sum\"]], on = \"nct_id\", how = \"left\")\n",
    "df = df.rename(columns={\"event_sum\" : \"Adverse_Counts\"}) # number of adverse noticed at the participants \n",
    "display(df[\"Adverse_Counts\"].value_counts(dropna=False))\n",
    "display(df[\"Adverse_Counts\"].isnull().sum())\n",
    "display(df.shape)"
   ]
  },
  {
   "cell_type": "markdown",
   "metadata": {},
   "source": [
    "### Adverse_System_List"
   ]
  },
  {
   "cell_type": "code",
   "execution_count": 204,
   "metadata": {},
   "outputs": [
    {
     "data": {
      "application/vnd.microsoft.datawrangler.viewer.v0+json": {
       "columns": [
        {
         "name": "Adverse_System_List",
         "rawType": "object",
         "type": "unknown"
        },
        {
         "name": "count",
         "rawType": "int64",
         "type": "integer"
        }
       ],
       "ref": "3397cad9-7ce5-462d-8b80-17bbf4597fec",
       "rows": [
        [
         null,
         "147041"
        ],
        [
         "['General']",
         "551"
        ],
        [
         "['Skin, Subcutaneous']",
         "485"
        ],
        [
         "['Gastrointestinal']",
         "452"
        ],
        [
         "['Nervous System']",
         "297"
        ],
        [
         "['Cardiac']",
         "221"
        ],
        [
         "['Eye']",
         "221"
        ],
        [
         "['Respiratory']",
         "218"
        ],
        [
         "['Musculoskeletal']",
         "199"
        ],
        [
         "['Blood, Lymphatic', 'Cardiac', 'Ear', 'Endocrine', 'Eye', 'Gastrointestinal', 'General', 'Hepatobiliary', 'Immune System', 'Infection', 'Injury, Poisoning, Procedural', 'Investigations', 'Metabolism, Nutrition', 'Musculoskeletal', 'Neoplasms', 'Nervous System', 'Psychiatric', 'Renal, Urinary', 'Reproductive, Breast', 'Respiratory', 'Skin, Subcutaneous', 'Vascular']",
         "187"
        ],
        [
         "['Infection']",
         "171"
        ],
        [
         "['Psychiatric']",
         "165"
        ],
        [
         "['Gastrointestinal', 'Nervous System']",
         "161"
        ],
        [
         "['Surgical, Medical']",
         "153"
        ],
        [
         "['Injury, Poisoning, Procedural']",
         "135"
        ],
        [
         "['Gastrointestinal', 'General']",
         "131"
        ],
        [
         "['Blood, Lymphatic', 'Cardiac', 'Ear', 'Eye', 'Gastrointestinal', 'General', 'Hepatobiliary', 'Immune System', 'Infection', 'Injury, Poisoning, Procedural', 'Investigations', 'Metabolism, Nutrition', 'Musculoskeletal', 'Neoplasms', 'Nervous System', 'Psychiatric', 'Renal, Urinary', 'Reproductive, Breast', 'Respiratory', 'Skin, Subcutaneous', 'Vascular']",
         "107"
        ],
        [
         "['Investigations']",
         "96"
        ],
        [
         "['Blood, Lymphatic']",
         "87"
        ],
        [
         "['Blood, Lymphatic', 'Cardiac', 'Ear', 'Endocrine', 'Eye', 'Gastrointestinal', 'General', 'Hepatobiliary', 'Immune System', 'Infection', 'Injury, Poisoning, Procedural', 'Investigations', 'Metabolism, Nutrition', 'Musculoskeletal', 'Neoplasms', 'Nervous System', 'Psychiatric', 'Renal, Urinary', 'Reproductive, Breast', 'Respiratory', 'Skin, Subcutaneous', 'Surgical, Medical', 'Vascular']",
         "85"
        ],
        [
         "['Blood, Lymphatic', 'Cardiac', 'Ear', 'Endocrine', 'Eye', 'Gastrointestinal', 'General', 'Hepatobiliary', 'Infection', 'Injury, Poisoning, Procedural', 'Investigations', 'Metabolism, Nutrition', 'Musculoskeletal', 'Neoplasms', 'Nervous System', 'Psychiatric', 'Renal, Urinary', 'Reproductive, Breast', 'Respiratory', 'Skin, Subcutaneous', 'Vascular']",
         "84"
        ],
        [
         "['Gastrointestinal', 'General', 'Nervous System']",
         "77"
        ],
        [
         "['Renal, Urinary']",
         "77"
        ],
        [
         "['Pregnancy, Puerperium, Perinatal']",
         "73"
        ],
        [
         "['Endocrine']",
         "71"
        ],
        [
         "['Blood, Lymphatic', 'Cardiac', 'Ear', 'Eye', 'Gastrointestinal', 'General', 'Hepatobiliary', 'Infection', 'Injury, Poisoning, Procedural', 'Investigations', 'Metabolism, Nutrition', 'Musculoskeletal', 'Neoplasms', 'Nervous System', 'Psychiatric', 'Renal, Urinary', 'Reproductive, Breast', 'Respiratory', 'Skin, Subcutaneous', 'Vascular']",
         "66"
        ],
        [
         "['Vascular']",
         "63"
        ],
        [
         "['General', 'Nervous System']",
         "62"
        ],
        [
         "['Gastrointestinal', 'Infection']",
         "62"
        ],
        [
         "['Blood, Lymphatic', 'Cardiac', 'Ear', 'Endocrine', 'Eye', 'Gastrointestinal', 'General', 'Immune System', 'Infection', 'Injury, Poisoning, Procedural', 'Investigations', 'Metabolism, Nutrition', 'Musculoskeletal', 'Neoplasms', 'Nervous System', 'Psychiatric', 'Renal, Urinary', 'Reproductive, Breast', 'Respiratory', 'Skin, Subcutaneous', 'Vascular']",
         "60"
        ],
        [
         "['Gastrointestinal', 'Skin, Subcutaneous']",
         "57"
        ],
        [
         "['General', 'Infection']",
         "56"
        ],
        [
         "['General', 'Skin, Subcutaneous']",
         "54"
        ],
        [
         "['Blood, Lymphatic', 'Cardiac', 'Eye', 'Gastrointestinal', 'General', 'Hepatobiliary', 'Infection', 'Injury, Poisoning, Procedural', 'Investigations', 'Metabolism, Nutrition', 'Musculoskeletal', 'Neoplasms', 'Nervous System', 'Psychiatric', 'Renal, Urinary', 'Respiratory', 'Skin, Subcutaneous', 'Vascular']",
         "54"
        ],
        [
         "['Blood, Lymphatic', 'Cardiac', 'Endocrine', 'Eye', 'Gastrointestinal', 'General', 'Hepatobiliary', 'Immune System', 'Infection', 'Injury, Poisoning, Procedural', 'Investigations', 'Metabolism, Nutrition', 'Musculoskeletal', 'Neoplasms', 'Nervous System', 'Psychiatric', 'Renal, Urinary', 'Reproductive, Breast', 'Respiratory', 'Skin, Subcutaneous', 'Vascular']",
         "50"
        ],
        [
         "['Reproductive, Breast']",
         "49"
        ],
        [
         "['Product Issues']",
         "49"
        ],
        [
         "['Nervous System', 'Skin, Subcutaneous']",
         "47"
        ],
        [
         "['Blood, Lymphatic', 'Cardiac', 'Ear', 'Endocrine', 'Eye', 'Gastrointestinal', 'General', 'Hepatobiliary', 'Immune System', 'Infection', 'Injury, Poisoning, Procedural', 'Investigations', 'Metabolism, Nutrition', 'Musculoskeletal', 'Neoplasms', 'Nervous System', 'Product Issues', 'Psychiatric', 'Renal, Urinary', 'Reproductive, Breast', 'Respiratory', 'Skin, Subcutaneous', 'Vascular']",
         "47"
        ],
        [
         "['Blood, Lymphatic', 'Cardiac', 'Ear', 'Endocrine', 'Eye', 'Gastrointestinal', 'General', 'Hepatobiliary', 'Immune System', 'Infection', 'Injury, Poisoning, Procedural', 'Investigations', 'Metabolism, Nutrition', 'Musculoskeletal', 'Neoplasms', 'Nervous System', 'Psychiatric', 'Renal, Urinary', 'Respiratory', 'Skin, Subcutaneous', 'Vascular']",
         "46"
        ],
        [
         "['Blood, Lymphatic', 'Cardiac', 'Eye', 'Gastrointestinal', 'General', 'Hepatobiliary', 'Immune System', 'Infection', 'Injury, Poisoning, Procedural', 'Investigations', 'Metabolism, Nutrition', 'Musculoskeletal', 'Neoplasms', 'Nervous System', 'Psychiatric', 'Renal, Urinary', 'Reproductive, Breast', 'Respiratory', 'Skin, Subcutaneous', 'Vascular']",
         "45"
        ],
        [
         "['Blood, Lymphatic', 'Cardiac', 'Ear', 'Eye', 'Gastrointestinal', 'General', 'Infection', 'Injury, Poisoning, Procedural', 'Investigations', 'Metabolism, Nutrition', 'Musculoskeletal', 'Neoplasms', 'Nervous System', 'Psychiatric', 'Renal, Urinary', 'Reproductive, Breast', 'Respiratory', 'Skin, Subcutaneous', 'Vascular']",
         "45"
        ],
        [
         "['Blood, Lymphatic', 'Cardiac', 'Eye', 'Gastrointestinal', 'General', 'Hepatobiliary', 'Infection', 'Injury, Poisoning, Procedural', 'Investigations', 'Metabolism, Nutrition', 'Musculoskeletal', 'Neoplasms', 'Nervous System', 'Psychiatric', 'Renal, Urinary', 'Reproductive, Breast', 'Respiratory', 'Skin, Subcutaneous', 'Vascular']",
         "44"
        ],
        [
         "['Blood, Lymphatic', 'Cardiac', 'Congenital, Genetic', 'Ear', 'Endocrine', 'Eye', 'Gastrointestinal', 'General', 'Hepatobiliary', 'Immune System', 'Infection', 'Injury, Poisoning, Procedural', 'Investigations', 'Metabolism, Nutrition', 'Musculoskeletal', 'Neoplasms', 'Nervous System', 'Psychiatric', 'Renal, Urinary', 'Reproductive, Breast', 'Respiratory', 'Skin, Subcutaneous', 'Surgical, Medical', 'Vascular']",
         "44"
        ],
        [
         "['Infection', 'Nervous System']",
         "44"
        ],
        [
         "['Blood, Lymphatic', 'Cardiac', 'Congenital, Genetic', 'Ear', 'Endocrine', 'Eye', 'Gastrointestinal', 'General', 'Hepatobiliary', 'Immune System', 'Infection', 'Injury, Poisoning, Procedural', 'Investigations', 'Metabolism, Nutrition', 'Musculoskeletal', 'Neoplasms', 'Nervous System', 'Psychiatric', 'Renal, Urinary', 'Reproductive, Breast', 'Respiratory', 'Skin, Subcutaneous', 'Vascular']",
         "43"
        ],
        [
         "['Social']",
         "43"
        ],
        [
         "['Blood, Lymphatic', 'Cardiac', 'Congenital, Genetic', 'Ear', 'Endocrine', 'Eye', 'Gastrointestinal', 'General', 'Hepatobiliary', 'Immune System', 'Infection', 'Injury, Poisoning, Procedural', 'Investigations', 'Metabolism, Nutrition', 'Musculoskeletal', 'Neoplasms', 'Nervous System', 'Product Issues', 'Psychiatric', 'Renal, Urinary', 'Reproductive, Breast', 'Respiratory', 'Skin, Subcutaneous', 'Surgical, Medical', 'Vascular']",
         "42"
        ],
        [
         "['General', 'Respiratory']",
         "41"
        ],
        [
         "['Blood, Lymphatic', 'Cardiac', 'Endocrine', 'Eye', 'Gastrointestinal', 'General', 'Hepatobiliary', 'Infection', 'Injury, Poisoning, Procedural', 'Investigations', 'Metabolism, Nutrition', 'Musculoskeletal', 'Neoplasms', 'Nervous System', 'Psychiatric', 'Renal, Urinary', 'Reproductive, Breast', 'Respiratory', 'Skin, Subcutaneous', 'Vascular']",
         "40"
        ]
       ],
       "shape": {
        "columns": 1,
        "rows": 16193
       }
      },
      "text/plain": [
       "Adverse_System_List\n",
       "NaN                                                                                                                                                                                                                                                                                              147041\n",
       "[General]                                                                                                                                                                                                                                                                                           551\n",
       "[Skin, Subcutaneous]                                                                                                                                                                                                                                                                                485\n",
       "[Gastrointestinal]                                                                                                                                                                                                                                                                                  452\n",
       "[Nervous System]                                                                                                                                                                                                                                                                                    297\n",
       "                                                                                                                                                                                                                                                                                                  ...  \n",
       "[Ear, Immune System, Musculoskeletal]                                                                                                                                                                                                                                                                 1\n",
       "[Ear, Eye, Gastrointestinal, General, Infection, Injury, Poisoning, Procedural, Metabolism, Nutrition, Musculoskeletal, Nervous System, Psychiatric, Reproductive, Breast, Respiratory, Skin, Subcutaneous, Vascular]                                                                                 1\n",
       "[Blood, Lymphatic, Cardiac, Ear, Endocrine, Gastrointestinal, General, Immune System, Infection, Injury, Poisoning, Procedural, Psychiatric, Surgical, Medical]                                                                                                                                       1\n",
       "[Blood, Lymphatic, Cardiac, Ear, Endocrine, Eye, Gastrointestinal, General, Hepatobiliary, Immune System, Infection, Injury, Poisoning, Procedural, Investigations, Metabolism, Nutrition, Musculoskeletal, Neoplasms, Nervous System, Reproductive, Breast, Respiratory, Skin, Subcutaneous]         1\n",
       "[Blood, Lymphatic, Cardiac, Gastrointestinal, General, Renal, Urinary, Respiratory, Vascular]                                                                                                                                                                                                         1\n",
       "Name: count, Length: 16193, dtype: int64"
      ]
     },
     "execution_count": 204,
     "metadata": {},
     "output_type": "execute_result"
    }
   ],
   "source": [
    "df = df.merge(my_adverse_system[[\"nct_id\", \"organ_system\"]], on = \"nct_id\", how = \"left\")\n",
    "df = df.rename(columns={\"organ_system\" : \"Adverse_System_List\"})\n",
    "df[\"Adverse_System_List\"].value_counts(dropna=False)\n"
   ]
  },
  {
   "cell_type": "code",
   "execution_count": 205,
   "metadata": {},
   "outputs": [
    {
     "data": {
      "application/vnd.microsoft.datawrangler.viewer.v0+json": {
       "columns": [
        {
         "name": "Adverse_System_List",
         "rawType": "object",
         "type": "unknown"
        },
        {
         "name": "count",
         "rawType": "int64",
         "type": "integer"
        }
       ],
       "ref": "6c396aaa-29b6-47ba-b485-96e60e55645f",
       "rows": [
        [
         "['None']",
         "143998"
        ],
        [
         "['Death']",
         "3043"
        ],
        [
         "['General']",
         "551"
        ],
        [
         "['Skin, Subcutaneous']",
         "485"
        ],
        [
         "['Gastrointestinal']",
         "452"
        ],
        [
         "['Nervous System']",
         "297"
        ],
        [
         "['Eye']",
         "221"
        ],
        [
         "['Cardiac']",
         "221"
        ],
        [
         "['Respiratory']",
         "218"
        ],
        [
         "['Musculoskeletal']",
         "199"
        ],
        [
         "['Blood, Lymphatic', 'Cardiac', 'Ear', 'Endocrine', 'Eye', 'Gastrointestinal', 'General', 'Hepatobiliary', 'Immune System', 'Infection', 'Injury, Poisoning, Procedural', 'Investigations', 'Metabolism, Nutrition', 'Musculoskeletal', 'Neoplasms', 'Nervous System', 'Psychiatric', 'Renal, Urinary', 'Reproductive, Breast', 'Respiratory', 'Skin, Subcutaneous', 'Vascular']",
         "187"
        ],
        [
         "['Infection']",
         "171"
        ],
        [
         "['Psychiatric']",
         "165"
        ],
        [
         "['Gastrointestinal', 'Nervous System']",
         "161"
        ],
        [
         "['Surgical, Medical']",
         "153"
        ],
        [
         "['Injury, Poisoning, Procedural']",
         "135"
        ],
        [
         "['Gastrointestinal', 'General']",
         "131"
        ],
        [
         "['Blood, Lymphatic', 'Cardiac', 'Ear', 'Eye', 'Gastrointestinal', 'General', 'Hepatobiliary', 'Immune System', 'Infection', 'Injury, Poisoning, Procedural', 'Investigations', 'Metabolism, Nutrition', 'Musculoskeletal', 'Neoplasms', 'Nervous System', 'Psychiatric', 'Renal, Urinary', 'Reproductive, Breast', 'Respiratory', 'Skin, Subcutaneous', 'Vascular']",
         "107"
        ],
        [
         "['Investigations']",
         "96"
        ],
        [
         "['Blood, Lymphatic']",
         "87"
        ],
        [
         "['Blood, Lymphatic', 'Cardiac', 'Ear', 'Endocrine', 'Eye', 'Gastrointestinal', 'General', 'Hepatobiliary', 'Immune System', 'Infection', 'Injury, Poisoning, Procedural', 'Investigations', 'Metabolism, Nutrition', 'Musculoskeletal', 'Neoplasms', 'Nervous System', 'Psychiatric', 'Renal, Urinary', 'Reproductive, Breast', 'Respiratory', 'Skin, Subcutaneous', 'Surgical, Medical', 'Vascular']",
         "85"
        ],
        [
         "['Blood, Lymphatic', 'Cardiac', 'Ear', 'Endocrine', 'Eye', 'Gastrointestinal', 'General', 'Hepatobiliary', 'Infection', 'Injury, Poisoning, Procedural', 'Investigations', 'Metabolism, Nutrition', 'Musculoskeletal', 'Neoplasms', 'Nervous System', 'Psychiatric', 'Renal, Urinary', 'Reproductive, Breast', 'Respiratory', 'Skin, Subcutaneous', 'Vascular']",
         "84"
        ],
        [
         "['Renal, Urinary']",
         "77"
        ],
        [
         "['Gastrointestinal', 'General', 'Nervous System']",
         "77"
        ],
        [
         "['Pregnancy, Puerperium, Perinatal']",
         "73"
        ],
        [
         "['Endocrine']",
         "71"
        ],
        [
         "['Blood, Lymphatic', 'Cardiac', 'Ear', 'Eye', 'Gastrointestinal', 'General', 'Hepatobiliary', 'Infection', 'Injury, Poisoning, Procedural', 'Investigations', 'Metabolism, Nutrition', 'Musculoskeletal', 'Neoplasms', 'Nervous System', 'Psychiatric', 'Renal, Urinary', 'Reproductive, Breast', 'Respiratory', 'Skin, Subcutaneous', 'Vascular']",
         "66"
        ],
        [
         "['Vascular']",
         "63"
        ],
        [
         "['General', 'Nervous System']",
         "62"
        ],
        [
         "['Gastrointestinal', 'Infection']",
         "62"
        ],
        [
         "['Blood, Lymphatic', 'Cardiac', 'Ear', 'Endocrine', 'Eye', 'Gastrointestinal', 'General', 'Immune System', 'Infection', 'Injury, Poisoning, Procedural', 'Investigations', 'Metabolism, Nutrition', 'Musculoskeletal', 'Neoplasms', 'Nervous System', 'Psychiatric', 'Renal, Urinary', 'Reproductive, Breast', 'Respiratory', 'Skin, Subcutaneous', 'Vascular']",
         "60"
        ],
        [
         "['Gastrointestinal', 'Skin, Subcutaneous']",
         "57"
        ],
        [
         "['General', 'Infection']",
         "56"
        ],
        [
         "['Blood, Lymphatic', 'Cardiac', 'Eye', 'Gastrointestinal', 'General', 'Hepatobiliary', 'Infection', 'Injury, Poisoning, Procedural', 'Investigations', 'Metabolism, Nutrition', 'Musculoskeletal', 'Neoplasms', 'Nervous System', 'Psychiatric', 'Renal, Urinary', 'Respiratory', 'Skin, Subcutaneous', 'Vascular']",
         "54"
        ],
        [
         "['General', 'Skin, Subcutaneous']",
         "54"
        ],
        [
         "['Blood, Lymphatic', 'Cardiac', 'Endocrine', 'Eye', 'Gastrointestinal', 'General', 'Hepatobiliary', 'Immune System', 'Infection', 'Injury, Poisoning, Procedural', 'Investigations', 'Metabolism, Nutrition', 'Musculoskeletal', 'Neoplasms', 'Nervous System', 'Psychiatric', 'Renal, Urinary', 'Reproductive, Breast', 'Respiratory', 'Skin, Subcutaneous', 'Vascular']",
         "50"
        ],
        [
         "['Product Issues']",
         "49"
        ],
        [
         "['Reproductive, Breast']",
         "49"
        ],
        [
         "['Nervous System', 'Skin, Subcutaneous']",
         "47"
        ],
        [
         "['Blood, Lymphatic', 'Cardiac', 'Ear', 'Endocrine', 'Eye', 'Gastrointestinal', 'General', 'Hepatobiliary', 'Immune System', 'Infection', 'Injury, Poisoning, Procedural', 'Investigations', 'Metabolism, Nutrition', 'Musculoskeletal', 'Neoplasms', 'Nervous System', 'Product Issues', 'Psychiatric', 'Renal, Urinary', 'Reproductive, Breast', 'Respiratory', 'Skin, Subcutaneous', 'Vascular']",
         "47"
        ],
        [
         "['Blood, Lymphatic', 'Cardiac', 'Ear', 'Endocrine', 'Eye', 'Gastrointestinal', 'General', 'Hepatobiliary', 'Immune System', 'Infection', 'Injury, Poisoning, Procedural', 'Investigations', 'Metabolism, Nutrition', 'Musculoskeletal', 'Neoplasms', 'Nervous System', 'Psychiatric', 'Renal, Urinary', 'Respiratory', 'Skin, Subcutaneous', 'Vascular']",
         "46"
        ],
        [
         "['Blood, Lymphatic', 'Cardiac', 'Eye', 'Gastrointestinal', 'General', 'Hepatobiliary', 'Immune System', 'Infection', 'Injury, Poisoning, Procedural', 'Investigations', 'Metabolism, Nutrition', 'Musculoskeletal', 'Neoplasms', 'Nervous System', 'Psychiatric', 'Renal, Urinary', 'Reproductive, Breast', 'Respiratory', 'Skin, Subcutaneous', 'Vascular']",
         "45"
        ],
        [
         "['Blood, Lymphatic', 'Cardiac', 'Ear', 'Eye', 'Gastrointestinal', 'General', 'Infection', 'Injury, Poisoning, Procedural', 'Investigations', 'Metabolism, Nutrition', 'Musculoskeletal', 'Neoplasms', 'Nervous System', 'Psychiatric', 'Renal, Urinary', 'Reproductive, Breast', 'Respiratory', 'Skin, Subcutaneous', 'Vascular']",
         "45"
        ],
        [
         "['Blood, Lymphatic', 'Cardiac', 'Congenital, Genetic', 'Ear', 'Endocrine', 'Eye', 'Gastrointestinal', 'General', 'Hepatobiliary', 'Immune System', 'Infection', 'Injury, Poisoning, Procedural', 'Investigations', 'Metabolism, Nutrition', 'Musculoskeletal', 'Neoplasms', 'Nervous System', 'Psychiatric', 'Renal, Urinary', 'Reproductive, Breast', 'Respiratory', 'Skin, Subcutaneous', 'Surgical, Medical', 'Vascular']",
         "44"
        ],
        [
         "['Infection', 'Nervous System']",
         "44"
        ],
        [
         "['Blood, Lymphatic', 'Cardiac', 'Eye', 'Gastrointestinal', 'General', 'Hepatobiliary', 'Infection', 'Injury, Poisoning, Procedural', 'Investigations', 'Metabolism, Nutrition', 'Musculoskeletal', 'Neoplasms', 'Nervous System', 'Psychiatric', 'Renal, Urinary', 'Reproductive, Breast', 'Respiratory', 'Skin, Subcutaneous', 'Vascular']",
         "44"
        ],
        [
         "['Social']",
         "43"
        ],
        [
         "['Blood, Lymphatic', 'Cardiac', 'Congenital, Genetic', 'Ear', 'Endocrine', 'Eye', 'Gastrointestinal', 'General', 'Hepatobiliary', 'Immune System', 'Infection', 'Injury, Poisoning, Procedural', 'Investigations', 'Metabolism, Nutrition', 'Musculoskeletal', 'Neoplasms', 'Nervous System', 'Psychiatric', 'Renal, Urinary', 'Reproductive, Breast', 'Respiratory', 'Skin, Subcutaneous', 'Vascular']",
         "43"
        ],
        [
         "['Blood, Lymphatic', 'Cardiac', 'Congenital, Genetic', 'Ear', 'Endocrine', 'Eye', 'Gastrointestinal', 'General', 'Hepatobiliary', 'Immune System', 'Infection', 'Injury, Poisoning, Procedural', 'Investigations', 'Metabolism, Nutrition', 'Musculoskeletal', 'Neoplasms', 'Nervous System', 'Product Issues', 'Psychiatric', 'Renal, Urinary', 'Reproductive, Breast', 'Respiratory', 'Skin, Subcutaneous', 'Surgical, Medical', 'Vascular']",
         "42"
        ],
        [
         "['General', 'Respiratory']",
         "41"
        ]
       ],
       "shape": {
        "columns": 1,
        "rows": 16194
       }
      },
      "text/plain": [
       "Adverse_System_List\n",
       "[None]                                                                                                                                                                                                                                                                                           143998\n",
       "[Death]                                                                                                                                                                                                                                                                                            3043\n",
       "[General]                                                                                                                                                                                                                                                                                           551\n",
       "[Skin, Subcutaneous]                                                                                                                                                                                                                                                                                485\n",
       "[Gastrointestinal]                                                                                                                                                                                                                                                                                  452\n",
       "                                                                                                                                                                                                                                                                                                  ...  \n",
       "[Ear, Immune System, Musculoskeletal]                                                                                                                                                                                                                                                                 1\n",
       "[Ear, Eye, Gastrointestinal, General, Infection, Injury, Poisoning, Procedural, Metabolism, Nutrition, Musculoskeletal, Nervous System, Psychiatric, Reproductive, Breast, Respiratory, Skin, Subcutaneous, Vascular]                                                                                 1\n",
       "[Blood, Lymphatic, Cardiac, Ear, Endocrine, Gastrointestinal, General, Immune System, Infection, Injury, Poisoning, Procedural, Psychiatric, Surgical, Medical]                                                                                                                                       1\n",
       "[Blood, Lymphatic, Cardiac, Ear, Endocrine, Eye, Gastrointestinal, General, Hepatobiliary, Immune System, Infection, Injury, Poisoning, Procedural, Investigations, Metabolism, Nutrition, Musculoskeletal, Neoplasms, Nervous System, Reproductive, Breast, Respiratory, Skin, Subcutaneous]         1\n",
       "[Blood, Lymphatic, Cardiac, Gastrointestinal, General, Renal, Urinary, Respiratory, Vascular]                                                                                                                                                                                                         1\n",
       "Name: count, Length: 16194, dtype: int64"
      ]
     },
     "metadata": {},
     "output_type": "display_data"
    },
    {
     "data": {
      "text/plain": [
       "(177586, 56)"
      ]
     },
     "metadata": {},
     "output_type": "display_data"
    }
   ],
   "source": [
    "\n",
    "df.loc[(df[\"Adverse_System_List\"].isnull() & df[\"Adverse_List\"].apply(lambda x: x == [\"None\"])), \"Adverse_System_List\"] = \"None\"\n",
    "df.loc[(df[\"Adverse_System_List\"].isnull() & df[\"Adverse_List\"].apply(lambda x: x == [\"Death\"])), \"Adverse_System_List\"] = \"Death\"  \n",
    "\n",
    "df['Adverse_System_List'] = df['Adverse_System_List'].apply(lambda x: ['None'] if x== 'None' else x)\n",
    "df['Adverse_System_List'] = df['Adverse_System_List'].apply(lambda x: ['Death'] if x== 'Death' else x)\n",
    "\n",
    "\n",
    "df[\"Adverse_System_List\"] = df[\"Adverse_System_List\"].apply(lambda x: sorted(set(x)) if isinstance(x, str) else x)\n",
    "\n",
    "display(df[\"Adverse_System_List\"].value_counts(dropna=False))\n",
    "display(df.shape)"
   ]
  },
  {
   "cell_type": "markdown",
   "metadata": {},
   "source": [
    "### Adverse_System_Counts"
   ]
  },
  {
   "cell_type": "code",
   "execution_count": 206,
   "metadata": {},
   "outputs": [
    {
     "data": {
      "application/vnd.microsoft.datawrangler.viewer.v0+json": {
       "columns": [
        {
         "name": "Adverse_System_Counts",
         "rawType": "int64",
         "type": "integer"
        },
        {
         "name": "count",
         "rawType": "int64",
         "type": "integer"
        }
       ],
       "ref": "2da5c32b-d6d7-485f-b666-9e2eb60ff168",
       "rows": [
        [
         "0",
         "143998"
        ],
        [
         "1",
         "7065"
        ],
        [
         "2",
         "2336"
        ],
        [
         "3",
         "1892"
        ],
        [
         "4",
         "1661"
        ],
        [
         "5",
         "1475"
        ],
        [
         "6",
         "1416"
        ],
        [
         "7",
         "1319"
        ],
        [
         "8",
         "1303"
        ],
        [
         "9",
         "1239"
        ],
        [
         "12",
         "1165"
        ],
        [
         "10",
         "1164"
        ],
        [
         "11",
         "1151"
        ],
        [
         "17",
         "1099"
        ],
        [
         "14",
         "1074"
        ],
        [
         "13",
         "1074"
        ],
        [
         "18",
         "1059"
        ],
        [
         "16",
         "1032"
        ],
        [
         "15",
         "1027"
        ],
        [
         "19",
         "1021"
        ],
        [
         "20",
         "919"
        ],
        [
         "21",
         "784"
        ],
        [
         "22",
         "583"
        ],
        [
         "23",
         "362"
        ],
        [
         "24",
         "205"
        ],
        [
         "25",
         "107"
        ],
        [
         "26",
         "39"
        ],
        [
         "27",
         "17"
        ]
       ],
       "shape": {
        "columns": 1,
        "rows": 28
       }
      },
      "text/plain": [
       "Adverse_System_Counts\n",
       "0     143998\n",
       "1       7065\n",
       "2       2336\n",
       "3       1892\n",
       "4       1661\n",
       "5       1475\n",
       "6       1416\n",
       "7       1319\n",
       "8       1303\n",
       "9       1239\n",
       "12      1165\n",
       "10      1164\n",
       "11      1151\n",
       "17      1099\n",
       "14      1074\n",
       "13      1074\n",
       "18      1059\n",
       "16      1032\n",
       "15      1027\n",
       "19      1021\n",
       "20       919\n",
       "21       784\n",
       "22       583\n",
       "23       362\n",
       "24       205\n",
       "25       107\n",
       "26        39\n",
       "27        17\n",
       "Name: count, dtype: int64"
      ]
     },
     "metadata": {},
     "output_type": "display_data"
    }
   ],
   "source": [
    "df['Adverse_System_Counts'] = df['Adverse_System_List'].apply(lambda x: len(x) if isinstance(x, list) and x != ['None'] else 0)\n",
    "display(df['Adverse_System_Counts'].value_counts(dropna = False))"
   ]
  },
  {
   "cell_type": "markdown",
   "metadata": {},
   "source": [
    "### Adverse_System_Counts_Log\n"
   ]
  },
  {
   "cell_type": "code",
   "execution_count": 207,
   "metadata": {},
   "outputs": [
    {
     "data": {
      "application/vnd.microsoft.datawrangler.viewer.v0+json": {
       "columns": [
        {
         "name": "index",
         "rawType": "object",
         "type": "string"
        },
        {
         "name": "Adverse_System_Counts_Log",
         "rawType": "float64",
         "type": "float"
        }
       ],
       "ref": "ac2b311f-edcd-4cc0-be00-c62d4645ddb9",
       "rows": [
        [
         "count",
         "177586.0"
        ],
        [
         "mean",
         "0.36893003617992476"
        ],
        [
         "std",
         "0.8504321848780866"
        ],
        [
         "min",
         "0.0"
        ],
        [
         "25%",
         "0.0"
        ],
        [
         "50%",
         "0.0"
        ],
        [
         "75%",
         "0.0"
        ],
        [
         "max",
         "3.332204510175204"
        ]
       ],
       "shape": {
        "columns": 1,
        "rows": 8
       }
      },
      "text/plain": [
       "count    177586.000000\n",
       "mean          0.368930\n",
       "std           0.850432\n",
       "min           0.000000\n",
       "25%           0.000000\n",
       "50%           0.000000\n",
       "75%           0.000000\n",
       "max           3.332205\n",
       "Name: Adverse_System_Counts_Log, dtype: float64"
      ]
     },
     "execution_count": 207,
     "metadata": {},
     "output_type": "execute_result"
    }
   ],
   "source": [
    "df['Adverse_System_Counts_Log'] = np.log1p(df[\"Adverse_System_Counts\"]) \n",
    "df['Adverse_System_Counts_Log'].describe()"
   ]
  },
  {
   "cell_type": "markdown",
   "metadata": {},
   "source": [
    "## Termination"
   ]
  },
  {
   "cell_type": "code",
   "execution_count": 208,
   "metadata": {},
   "outputs": [
    {
     "data": {
      "application/vnd.microsoft.datawrangler.viewer.v0+json": {
       "columns": [
        {
         "name": "Termination",
         "rawType": "object",
         "type": "string"
        },
        {
         "name": "count",
         "rawType": "int64",
         "type": "integer"
        }
       ],
       "ref": "13f3039b-7dd0-4bdf-b772-9814a04c6bb1",
       "rows": [
        [
         "None",
         "153617"
        ],
        [
         "Enrollment",
         "9947"
        ],
        [
         "Cther",
         "5779"
        ],
        [
         "Fund",
         "4816"
        ],
        [
         "Administration",
         "1799"
        ],
        [
         "Efficacy",
         "1271"
        ],
        [
         "Supply",
         "357"
        ]
       ],
       "shape": {
        "columns": 1,
        "rows": 7
       }
      },
      "text/plain": [
       "Termination\n",
       "None              153617\n",
       "Enrollment          9947\n",
       "Cther               5779\n",
       "Fund                4816\n",
       "Administration      1799\n",
       "Efficacy            1271\n",
       "Supply               357\n",
       "Name: count, dtype: int64"
      ]
     },
     "metadata": {},
     "output_type": "display_data"
    },
    {
     "data": {
      "text/plain": [
       "0"
      ]
     },
     "metadata": {},
     "output_type": "display_data"
    },
    {
     "data": {
      "text/plain": [
       "(177586, 59)"
      ]
     },
     "metadata": {},
     "output_type": "display_data"
    }
   ],
   "source": [
    "df = df.merge(my_terminations[[\"nct_id\", \"why_stopped\"]], on = \"nct_id\", how = \"left\")\n",
    "df = df.rename(columns={\"why_stopped\" : \"Termination\"})\n",
    "df.loc[(df['Termination'].isnull()) & (df['Study Status'] =='TERMINATED'), 'Termination'] = np.NaN\n",
    "df[\"Termination\"] = df[\"Termination\"].replace({np.NaN : \"None\"})\n",
    "display(df['Termination'].value_counts(dropna=False))  \n",
    "display(df[\"Termination\"].isnull().sum())  \n",
    "display(df.shape)"
   ]
  },
  {
   "cell_type": "markdown",
   "metadata": {},
   "source": [
    "## Study Design\n",
    "\n",
    "Source of Unique Values: \n",
    "https://clinicaltrials.gov/policy/protocol-definitions#study-design\n",
    "\n",
    "Split Study Design into 4 columns --> \n",
    "1. Allocation (Randomized-Non Randomized) --> N/A (not applicable): For a single-arm trial --> https://clinicaltrials.gov/policy/protocol-definitions#study-sponsor-collaborators\n",
    "2. Intervention_model (Single Grup, Crossover etc.)\n",
    "3. Masking  (Blindness, None, Double etc.)\n",
    "4. Primary purpose (Treatment, Screening etc.)\n"
   ]
  },
  {
   "cell_type": "markdown",
   "metadata": {},
   "source": [
    "### Allocation \n"
   ]
  },
  {
   "cell_type": "code",
   "execution_count": 209,
   "metadata": {},
   "outputs": [
    {
     "data": {
      "application/vnd.microsoft.datawrangler.viewer.v0+json": {
       "columns": [
        {
         "name": "Allocation",
         "rawType": "object",
         "type": "unknown"
        },
        {
         "name": "count",
         "rawType": "int64",
         "type": "integer"
        }
       ],
       "ref": "d710eac4-0d43-43ce-ba19-16f08ec37de8",
       "rows": [
        [
         "RANDOMIZED",
         "120394"
        ],
        [
         "NA",
         "40258"
        ],
        [
         "NON_RANDOMIZED",
         "16531"
        ],
        [
         null,
         "403"
        ]
       ],
       "shape": {
        "columns": 1,
        "rows": 4
       }
      },
      "text/plain": [
       "Allocation\n",
       "RANDOMIZED        120394\n",
       "NA                 40258\n",
       "NON_RANDOMIZED     16531\n",
       "None                 403\n",
       "Name: count, dtype: int64"
      ]
     },
     "metadata": {},
     "output_type": "display_data"
    },
    {
     "data": {
      "text/plain": [
       "(177586, 60)"
      ]
     },
     "metadata": {},
     "output_type": "display_data"
    }
   ],
   "source": [
    "df = df.merge(my_designs[[\"nct_id\", \"allocation\"]], on = \"nct_id\", how = \"left\")\n",
    "df = df.rename(columns={\"allocation\" : \"Allocation\"})\n",
    "display(df[\"Allocation\"].value_counts(dropna=False))\n",
    "display(df.shape)"
   ]
  },
  {
   "cell_type": "code",
   "execution_count": 210,
   "metadata": {},
   "outputs": [
    {
     "data": {
      "application/vnd.microsoft.datawrangler.viewer.v0+json": {
       "columns": [
        {
         "name": "Allocation",
         "rawType": "object",
         "type": "unknown"
        },
        {
         "name": "count",
         "rawType": "int64",
         "type": "integer"
        }
       ],
       "ref": "d3d4fe32-9f59-4826-b724-a572a305482f",
       "rows": [
        [
         "RANDOMIZED",
         "120407"
        ],
        [
         "NOT_APPLICABLE",
         "40258"
        ],
        [
         "NON_RANDOMIZED",
         "16549"
        ],
        [
         null,
         "372"
        ]
       ],
       "shape": {
        "columns": 1,
        "rows": 4
       }
      },
      "text/plain": [
       "Allocation\n",
       "RANDOMIZED        120407\n",
       "NOT_APPLICABLE     40258\n",
       "NON_RANDOMIZED     16549\n",
       "None                 372\n",
       "Name: count, dtype: int64"
      ]
     },
     "metadata": {},
     "output_type": "display_data"
    },
    {
     "data": {
      "text/plain": [
       "(177586, 60)"
      ]
     },
     "metadata": {},
     "output_type": "display_data"
    }
   ],
   "source": [
    "# Allocation Fillna\n",
    "df.loc[(df[\"Allocation\"].isnull()) & (df[\"Brief Summary\"].str.contains(r\"(?i)\\snon.randomized\\s|open label\" , case = False , na = False) ) , \"Allocation\"] = \"NON_RANDOMIZED\"\n",
    "df.loc[(df[\"Allocation\"].isnull()) & (df[\"Brief Summary\"].str.contains(r\"(?i)\\srandomized\\s\")) & ~(df[\"Brief Summary\"].str.contains(r\"(?i)\\snon.randomized\\s\", case = False , na = False)) , \"Allocation\"] = \"RANDOMIZED\"\n",
    "\n",
    "df[\"Allocation\"] = df[\"Allocation\"].replace({\"NA\" : \"NOT_APPLICABLE\"})\n",
    "display(df[\"Allocation\"].value_counts(dropna=False))\n",
    "display(df.shape)"
   ]
  },
  {
   "cell_type": "markdown",
   "metadata": {},
   "source": [
    "### Intervention_Model"
   ]
  },
  {
   "cell_type": "code",
   "execution_count": 211,
   "metadata": {},
   "outputs": [
    {
     "data": {
      "application/vnd.microsoft.datawrangler.viewer.v0+json": {
       "columns": [
        {
         "name": "Intervention_Model",
         "rawType": "object",
         "type": "unknown"
        },
        {
         "name": "count",
         "rawType": "int64",
         "type": "integer"
        }
       ],
       "ref": "afc3c4ee-afe7-4ca2-bf37-5eadb49c9f3d",
       "rows": [
        [
         "PARALLEL",
         "107157"
        ],
        [
         "SINGLE_GROUP",
         "45310"
        ],
        [
         "CROSSOVER",
         "17496"
        ],
        [
         "SEQUENTIAL",
         "5076"
        ],
        [
         "FACTORIAL",
         "2338"
        ],
        [
         null,
         "209"
        ]
       ],
       "shape": {
        "columns": 1,
        "rows": 6
       }
      },
      "text/plain": [
       "Intervention_Model\n",
       "PARALLEL        107157\n",
       "SINGLE_GROUP     45310\n",
       "CROSSOVER        17496\n",
       "SEQUENTIAL        5076\n",
       "FACTORIAL         2338\n",
       "None               209\n",
       "Name: count, dtype: int64"
      ]
     },
     "metadata": {},
     "output_type": "display_data"
    },
    {
     "data": {
      "text/plain": [
       "(177586, 61)"
      ]
     },
     "metadata": {},
     "output_type": "display_data"
    }
   ],
   "source": [
    "df = df.merge(my_designs[[\"nct_id\", \"intervention_model\"]], on = \"nct_id\", how = \"left\")\n",
    "df = df.rename(columns={\"intervention_model\" : \"Intervention_Model\"})\n",
    "display(df[\"Intervention_Model\"].value_counts(dropna=False))\n",
    "display(df.shape)"
   ]
  },
  {
   "cell_type": "code",
   "execution_count": 212,
   "metadata": {},
   "outputs": [
    {
     "data": {
      "application/vnd.microsoft.datawrangler.viewer.v0+json": {
       "columns": [
        {
         "name": "Intervention_Model",
         "rawType": "object",
         "type": "unknown"
        },
        {
         "name": "count",
         "rawType": "int64",
         "type": "integer"
        }
       ],
       "ref": "874c52dc-af1a-4305-8d8e-746eda9f4a56",
       "rows": [
        [
         "PARALLEL",
         "107159"
        ],
        [
         "SINGLE_GROUP",
         "45310"
        ],
        [
         "CROSSOVER",
         "17498"
        ],
        [
         "SEQUENTIAL",
         "5082"
        ],
        [
         "FACTORIAL",
         "2338"
        ],
        [
         null,
         "199"
        ]
       ],
       "shape": {
        "columns": 1,
        "rows": 6
       }
      },
      "text/plain": [
       "Intervention_Model\n",
       "PARALLEL        107159\n",
       "SINGLE_GROUP     45310\n",
       "CROSSOVER        17498\n",
       "SEQUENTIAL        5082\n",
       "FACTORIAL         2338\n",
       "None               199\n",
       "Name: count, dtype: int64"
      ]
     },
     "metadata": {},
     "output_type": "display_data"
    },
    {
     "data": {
      "text/plain": [
       "(177586, 61)"
      ]
     },
     "metadata": {},
     "output_type": "display_data"
    }
   ],
   "source": [
    "# Fillna Intervention model\n",
    "# display(df.loc[df[\"Intervention_Model\"].isnull() & df[\"Brief Summary\"].str.contains(r\"(?i)PARALLEL|SINGLE GROUP|CROSSOVER|SEQUENTIAL|FACTORIAL\"), \"Brief Summary\"].values[0:2])\n",
    "\n",
    "df.loc[df[\"Intervention_Model\"].isnull() & df[\"Brief Summary\"].str.contains(r\"PARALLEL\", case = False), \"Intervention_Model\"] = \"PARALLEL\"\n",
    "df.loc[df[\"Intervention_Model\"].isnull() & df[\"Brief Summary\"].str.contains(r\"SINGLE GROUP\", case = False), \"Intervention_Model\"] = \"SINGLE_GROUP\"\n",
    "df.loc[df[\"Intervention_Model\"].isnull() & df[\"Brief Summary\"].str.contains(r\"CROSSOVER\", case = False), \"Intervention_Model\"] = \"CROSSOVER\"\n",
    "df.loc[df[\"Intervention_Model\"].isnull() & df[\"Brief Summary\"].str.contains(r\"SEQUENTIAL\", case = False), \"Intervention_Model\"] = \"SEQUENTIAL\"\n",
    "df.loc[df[\"Intervention_Model\"].isnull() & df[\"Brief Summary\"].str.contains(r\"FACTORIAL\", case = False), \"Intervention_Model\"] = \"FACTORIAL\"\n",
    "\n",
    "display(df[\"Intervention_Model\"].value_counts(dropna=False))\n",
    "display(df.shape)"
   ]
  },
  {
   "cell_type": "markdown",
   "metadata": {},
   "source": [
    "### Masking"
   ]
  },
  {
   "cell_type": "code",
   "execution_count": 213,
   "metadata": {},
   "outputs": [
    {
     "data": {
      "application/vnd.microsoft.datawrangler.viewer.v0+json": {
       "columns": [
        {
         "name": "Masking",
         "rawType": "object",
         "type": "unknown"
        },
        {
         "name": "count",
         "rawType": "int64",
         "type": "integer"
        }
       ],
       "ref": "e82a4afb-30d5-4b9c-b2dd-d71e84e87372",
       "rows": [
        [
         "NONE",
         "93879"
        ],
        [
         "SINGLE",
         "28519"
        ],
        [
         "DOUBLE",
         "24101"
        ],
        [
         "QUADRUPLE",
         "17726"
        ],
        [
         "TRIPLE",
         "13100"
        ],
        [
         null,
         "261"
        ]
       ],
       "shape": {
        "columns": 1,
        "rows": 6
       }
      },
      "text/plain": [
       "Masking\n",
       "NONE         93879\n",
       "SINGLE       28519\n",
       "DOUBLE       24101\n",
       "QUADRUPLE    17726\n",
       "TRIPLE       13100\n",
       "None           261\n",
       "Name: count, dtype: int64"
      ]
     },
     "metadata": {},
     "output_type": "display_data"
    },
    {
     "data": {
      "text/plain": [
       "(177586, 62)"
      ]
     },
     "metadata": {},
     "output_type": "display_data"
    }
   ],
   "source": [
    "df = df.merge(my_designs[[\"nct_id\", \"masking\"]], on = \"nct_id\", how = \"left\")\n",
    "df = df.rename(columns={\"masking\" : \"Masking\"})\n",
    "display(df[\"Masking\"].value_counts(dropna=False))\n",
    "display(df.shape)"
   ]
  },
  {
   "cell_type": "code",
   "execution_count": 214,
   "metadata": {},
   "outputs": [
    {
     "data": {
      "application/vnd.microsoft.datawrangler.viewer.v0+json": {
       "columns": [
        {
         "name": "Masking",
         "rawType": "object",
         "type": "unknown"
        },
        {
         "name": "count",
         "rawType": "int64",
         "type": "integer"
        }
       ],
       "ref": "7fbae047-1242-4b64-bc9b-1f8f0574e699",
       "rows": [
        [
         "NONE",
         "93890"
        ],
        [
         "SINGLE",
         "28519"
        ],
        [
         "DOUBLE",
         "24105"
        ],
        [
         "QUADRUPLE",
         "17726"
        ],
        [
         "TRIPLE",
         "13100"
        ],
        [
         null,
         "246"
        ]
       ],
       "shape": {
        "columns": 1,
        "rows": 6
       }
      },
      "text/plain": [
       "Masking\n",
       "NONE         93890\n",
       "SINGLE       28519\n",
       "DOUBLE       24105\n",
       "QUADRUPLE    17726\n",
       "TRIPLE       13100\n",
       "None           246\n",
       "Name: count, dtype: int64"
      ]
     },
     "metadata": {},
     "output_type": "display_data"
    },
    {
     "data": {
      "text/plain": [
       "(177586, 62)"
      ]
     },
     "metadata": {},
     "output_type": "display_data"
    }
   ],
   "source": [
    "# Fillna Masking \n",
    "df.loc[df[\"Masking\"].isnull() & df[\"Brief Summary\"].str.contains(r\"(?i)OPEN.LABEL\") , \"Masking\"] = \"NONE\"\n",
    "df.loc[df[\"Masking\"].isnull() & df[\"Brief Summary\"].str.contains(r\"(?i)SINGLE.BLIND\") , \"Masking\"] = \"SINGLE\"\n",
    "df.loc[df[\"Masking\"].isnull() & df[\"Brief Summary\"].str.contains(r\"(?i)DOUBLE.BLIND\") , \"Masking\"] = \"DOUBLE\"\n",
    "df.loc[df[\"Masking\"].isnull() & df[\"Brief Summary\"].str.contains(r\"(?i)TRIPLE.BLIND\") , \"Masking\"] = \"TRIPLE\"\n",
    "df.loc[df[\"Masking\"].isnull() & df[\"Brief Summary\"].str.contains(r\"(?i)QUADRUPLE.BLIND\") , \"Masking\"] = \"QUADRUPLE\"\n",
    "\n",
    "display(df[\"Masking\"].value_counts(dropna = False))\n",
    "display(df.shape)"
   ]
  },
  {
   "cell_type": "markdown",
   "metadata": {},
   "source": [
    "### Masking_Detail_List"
   ]
  },
  {
   "cell_type": "code",
   "execution_count": 215,
   "metadata": {},
   "outputs": [],
   "source": [
    "df = df.merge(my_designs[[\"nct_id\", \"masking_detail\"]], on = \"nct_id\", how = \"left\")\n",
    "df = df.rename(columns={\"masking_detail\" : \"Masking_Detail_List\"})"
   ]
  },
  {
   "cell_type": "code",
   "execution_count": 216,
   "metadata": {},
   "outputs": [
    {
     "data": {
      "application/vnd.microsoft.datawrangler.viewer.v0+json": {
       "columns": [
        {
         "name": "Masking",
         "rawType": "object",
         "type": "unknown"
        },
        {
         "name": "count",
         "rawType": "int64",
         "type": "integer"
        }
       ],
       "ref": "a9aa4477-e117-4609-96ba-9ff78e54debc",
       "rows": [
        [
         "NONE",
         "93890"
        ],
        [
         null,
         "246"
        ],
        [
         "DOUBLE",
         "171"
        ],
        [
         "SINGLE",
         "35"
        ]
       ],
       "shape": {
        "columns": 1,
        "rows": 4
       }
      },
      "text/plain": [
       "Masking\n",
       "NONE      93890\n",
       "None        246\n",
       "DOUBLE      171\n",
       "SINGLE       35\n",
       "Name: count, dtype: int64"
      ]
     },
     "execution_count": 216,
     "metadata": {},
     "output_type": "execute_result"
    }
   ],
   "source": [
    "df.loc[df[\"Masking_Detail_List\"].apply(lambda x: isinstance(x, list) and len(x) == 0)][\"Masking\"].value_counts(dropna=False)  \n"
   ]
  },
  {
   "cell_type": "code",
   "execution_count": 217,
   "metadata": {},
   "outputs": [
    {
     "data": {
      "application/vnd.microsoft.datawrangler.viewer.v0+json": {
       "columns": [
        {
         "name": "Masking_Detail_List",
         "rawType": "object",
         "type": "unknown"
        },
        {
         "name": "count",
         "rawType": "int64",
         "type": "integer"
        }
       ],
       "ref": "d7fac2a3-751c-4255-9bc1-ce4fb220a4fb",
       "rows": [
        [
         "['NONE']",
         "93890"
        ],
        [
         "['OUTCOMES_ASSESSOR', 'INVESTIGATOR', 'PARTICIPANT', 'CARE_PROVIDER']",
         "17726"
        ],
        [
         "['PARTICIPANT', 'INVESTIGATOR']",
         "13168"
        ],
        [
         "['OUTCOMES_ASSESSOR']",
         "12450"
        ],
        [
         "['PARTICIPANT']",
         "12017"
        ],
        [
         "['OUTCOMES_ASSESSOR', 'INVESTIGATOR', 'PARTICIPANT']",
         "5776"
        ],
        [
         "['OUTCOMES_ASSESSOR', 'PARTICIPANT']",
         "5618"
        ],
        [
         "['PARTICIPANT', 'INVESTIGATOR', 'CARE_PROVIDER']",
         "5238"
        ],
        [
         "['INVESTIGATOR']",
         "3378"
        ],
        [
         "['OUTCOMES_ASSESSOR', 'INVESTIGATOR']",
         "2609"
        ],
        [
         "['PARTICIPANT', 'CARE_PROVIDER']",
         "1866"
        ],
        [
         "['OUTCOMES_ASSESSOR', 'PARTICIPANT', 'CARE_PROVIDER']",
         "1591"
        ],
        [
         "['CARE_PROVIDER']",
         "639"
        ],
        [
         "['OUTCOMES_ASSESSOR', 'INVESTIGATOR', 'CARE_PROVIDER']",
         "495"
        ],
        [
         null,
         "452"
        ],
        [
         "['OUTCOMES_ASSESSOR', 'CARE_PROVIDER']",
         "439"
        ],
        [
         "['INVESTIGATOR', 'CARE_PROVIDER']",
         "234"
        ]
       ],
       "shape": {
        "columns": 1,
        "rows": 17
       }
      },
      "text/plain": [
       "Masking_Detail_List\n",
       "[NONE]                                                           93890\n",
       "[OUTCOMES_ASSESSOR, INVESTIGATOR, PARTICIPANT, CARE_PROVIDER]    17726\n",
       "[PARTICIPANT, INVESTIGATOR]                                      13168\n",
       "[OUTCOMES_ASSESSOR]                                              12450\n",
       "[PARTICIPANT]                                                    12017\n",
       "[OUTCOMES_ASSESSOR, INVESTIGATOR, PARTICIPANT]                    5776\n",
       "[OUTCOMES_ASSESSOR, PARTICIPANT]                                  5618\n",
       "[PARTICIPANT, INVESTIGATOR, CARE_PROVIDER]                        5238\n",
       "[INVESTIGATOR]                                                    3378\n",
       "[OUTCOMES_ASSESSOR, INVESTIGATOR]                                 2609\n",
       "[PARTICIPANT, CARE_PROVIDER]                                      1866\n",
       "[OUTCOMES_ASSESSOR, PARTICIPANT, CARE_PROVIDER]                   1591\n",
       "[CARE_PROVIDER]                                                    639\n",
       "[OUTCOMES_ASSESSOR, INVESTIGATOR, CARE_PROVIDER]                   495\n",
       "NaN                                                                452\n",
       "[OUTCOMES_ASSESSOR, CARE_PROVIDER]                                 439\n",
       "[INVESTIGATOR, CARE_PROVIDER]                                      234\n",
       "Name: count, dtype: int64"
      ]
     },
     "metadata": {},
     "output_type": "display_data"
    },
    {
     "data": {
      "text/plain": [
       "(177586, 63)"
      ]
     },
     "metadata": {},
     "output_type": "display_data"
    }
   ],
   "source": [
    "# Fillna Masking_Detail\n",
    "df.loc[df[\"Masking_Detail_List\"].apply(lambda x: isinstance(x, list) and len(x) == 0)][\"Masking\"].value_counts(dropna=False)  # Masking = 'NONE' --> Masking_Details = ['NONE']\n",
    "df.loc[(df[\"Masking_Detail_List\"].apply(lambda x: isinstance(x, list) and len(x) == 0)) & (df[\"Masking\"] == \"NONE\"), \"Masking_Detail_List\"] = \"NONE\"\n",
    "df[\"Masking_Detail_List\"] = df[\"Masking_Detail_List\"].apply(lambda x: [\"NONE\"] if x == \"NONE\" else x)\n",
    "df[\"Masking_Detail_List\"] = df[\"Masking_Detail_List\"].apply(lambda x: np.NaN if isinstance(x, list) and len(x) == 0 else x)\n",
    "\n",
    "display(df[\"Masking_Detail_List\"].value_counts(dropna=False))\n",
    "display(df.shape)"
   ]
  },
  {
   "cell_type": "markdown",
   "metadata": {},
   "source": [
    "### Primary Purpose"
   ]
  },
  {
   "cell_type": "code",
   "execution_count": 218,
   "metadata": {},
   "outputs": [
    {
     "data": {
      "application/vnd.microsoft.datawrangler.viewer.v0+json": {
       "columns": [
        {
         "name": "Primary_Purpose",
         "rawType": "object",
         "type": "string"
        },
        {
         "name": "count",
         "rawType": "int64",
         "type": "integer"
        }
       ],
       "ref": "eb05b53f-9824-4abd-82cb-ead3fa3939fc",
       "rows": [
        [
         "TREATMENT",
         "103582"
        ],
        [
         "PREVENTION",
         "19900"
        ],
        [
         "OTHER",
         "13198"
        ],
        [
         "SUPPORTIVE_CARE",
         "11431"
        ],
        [
         "BASIC_SCIENCE",
         "11308"
        ],
        [
         "DIAGNOSTIC",
         "7819"
        ],
        [
         "HEALTH_SERVICES_RESEARCH",
         "5448"
        ],
        [
         "UNKNOWN",
         "2352"
        ],
        [
         "SCREENING",
         "1760"
        ],
        [
         "DEVICE_FEASIBILITY",
         "788"
        ]
       ],
       "shape": {
        "columns": 1,
        "rows": 10
       }
      },
      "text/plain": [
       "Primary_Purpose\n",
       "TREATMENT                   103582\n",
       "PREVENTION                   19900\n",
       "OTHER                        13198\n",
       "SUPPORTIVE_CARE              11431\n",
       "BASIC_SCIENCE                11308\n",
       "DIAGNOSTIC                    7819\n",
       "HEALTH_SERVICES_RESEARCH      5448\n",
       "UNKNOWN                       2352\n",
       "SCREENING                     1760\n",
       "DEVICE_FEASIBILITY             788\n",
       "Name: count, dtype: int64"
      ]
     },
     "metadata": {},
     "output_type": "display_data"
    },
    {
     "data": {
      "text/plain": [
       "(177586, 64)"
      ]
     },
     "metadata": {},
     "output_type": "display_data"
    }
   ],
   "source": [
    "df = df.merge(my_designs[[\"nct_id\", \"primary_purpose\"]], on = \"nct_id\", how = \"left\")\n",
    "df = df.rename(columns={\"primary_purpose\" : \"Primary_Purpose\"})\n",
    "df[\"Primary_Purpose\"] = df[\"Primary_Purpose\"].replace({np.NaN : \"UNKNOWN\"})\n",
    "display(df[\"Primary_Purpose\"].value_counts(dropna=False))\n",
    "display(df.shape)"
   ]
  },
  {
   "cell_type": "markdown",
   "metadata": {},
   "source": [
    "## Outcomes"
   ]
  },
  {
   "cell_type": "code",
   "execution_count": 219,
   "metadata": {},
   "outputs": [],
   "source": [
    "df = df.drop(columns = ['Primary Outcome Measures', 'Secondary Outcome Measures','Other Outcome Measures'] , axis = 1)"
   ]
  },
  {
   "cell_type": "markdown",
   "metadata": {},
   "source": [
    "### Outcomes_List"
   ]
  },
  {
   "cell_type": "code",
   "execution_count": 220,
   "metadata": {},
   "outputs": [
    {
     "data": {
      "application/vnd.microsoft.datawrangler.viewer.v0+json": {
       "columns": [
        {
         "name": "Outcomes_List",
         "rawType": "object",
         "type": "unknown"
        },
        {
         "name": "count",
         "rawType": "int64",
         "type": "integer"
        }
       ],
       "ref": "dbda4208-af46-4983-a1c8-be010a4ab418",
       "rows": [
        [
         "[]",
         "135774"
        ],
        [
         "['PRIMARY', 'SECONDARY']",
         "29859"
        ],
        [
         "['PRIMARY']",
         "7551"
        ],
        [
         "['OTHER_PRE_SPECIFIED', 'PRIMARY', 'SECONDARY']",
         "3395"
        ],
        [
         "['OTHER_PRE_SPECIFIED', 'PRIMARY']",
         "464"
        ],
        [
         "['POST_HOC', 'PRIMARY', 'SECONDARY']",
         "381"
        ],
        [
         "['OTHER_PRE_SPECIFIED', 'POST_HOC', 'PRIMARY', 'SECONDARY']",
         "110"
        ],
        [
         "['POST_HOC', 'PRIMARY']",
         "42"
        ],
        [
         "['OTHER_PRE_SPECIFIED', 'POST_HOC', 'PRIMARY']",
         "10"
        ]
       ],
       "shape": {
        "columns": 1,
        "rows": 9
       }
      },
      "text/plain": [
       "Outcomes_List\n",
       "[]                                                     135774\n",
       "[PRIMARY, SECONDARY]                                    29859\n",
       "[PRIMARY]                                                7551\n",
       "[OTHER_PRE_SPECIFIED, PRIMARY, SECONDARY]                3395\n",
       "[OTHER_PRE_SPECIFIED, PRIMARY]                            464\n",
       "[POST_HOC, PRIMARY, SECONDARY]                            381\n",
       "[OTHER_PRE_SPECIFIED, POST_HOC, PRIMARY, SECONDARY]       110\n",
       "[POST_HOC, PRIMARY]                                        42\n",
       "[OTHER_PRE_SPECIFIED, POST_HOC, PRIMARY]                   10\n",
       "Name: count, dtype: int64"
      ]
     },
     "metadata": {},
     "output_type": "display_data"
    },
    {
     "data": {
      "text/plain": [
       "(177586, 62)"
      ]
     },
     "metadata": {},
     "output_type": "display_data"
    }
   ],
   "source": [
    "df = df.merge(my_outcomes[[\"nct_id\", \"outcome_type\"]], on = \"nct_id\", how = \"left\")\n",
    "df = df.rename(columns={\"outcome_type\" : \"Outcomes_List\"})\n",
    "display(df[\"Outcomes_List\"].value_counts(dropna=False))\n",
    "df[\"Outcomes_List\"] = df[\"Outcomes_List\"].apply(lambda x: ['None'] if (isinstance(x, list) and len(x) == 0) else x)\n",
    "display(df.shape)"
   ]
  },
  {
   "cell_type": "markdown",
   "metadata": {},
   "source": [
    "### Outcomes_Counts"
   ]
  },
  {
   "cell_type": "code",
   "execution_count": 221,
   "metadata": {},
   "outputs": [
    {
     "data": {
      "application/vnd.microsoft.datawrangler.viewer.v0+json": {
       "columns": [
        {
         "name": "Outcomes_Counts",
         "rawType": "int64",
         "type": "integer"
        },
        {
         "name": "count",
         "rawType": "int64",
         "type": "integer"
        }
       ],
       "ref": "0dd742c6-8ba8-4f45-98fd-24b7bc0717c1",
       "rows": [
        [
         "0",
         "135774"
        ],
        [
         "2",
         "30365"
        ],
        [
         "1",
         "7551"
        ],
        [
         "3",
         "3786"
        ],
        [
         "4",
         "110"
        ]
       ],
       "shape": {
        "columns": 1,
        "rows": 5
       }
      },
      "text/plain": [
       "Outcomes_Counts\n",
       "0    135774\n",
       "2     30365\n",
       "1      7551\n",
       "3      3786\n",
       "4       110\n",
       "Name: count, dtype: int64"
      ]
     },
     "metadata": {},
     "output_type": "display_data"
    },
    {
     "data": {
      "text/plain": [
       "(177586, 63)"
      ]
     },
     "metadata": {},
     "output_type": "display_data"
    }
   ],
   "source": [
    "df[\"Outcomes_Counts\"] = df[\"Outcomes_List\"].apply(lambda x: len(x) if x != [\"None\"] else 0)\n",
    "display(df[\"Outcomes_Counts\"].value_counts(dropna=False))\n",
    "display(df.shape)"
   ]
  },
  {
   "cell_type": "markdown",
   "metadata": {},
   "source": [
    "### Outcomes_Bin \n"
   ]
  },
  {
   "cell_type": "code",
   "execution_count": 222,
   "metadata": {},
   "outputs": [
    {
     "data": {
      "application/vnd.microsoft.datawrangler.viewer.v0+json": {
       "columns": [
        {
         "name": "Outcomes_Bin",
         "rawType": "object",
         "type": "string"
        },
        {
         "name": "count",
         "rawType": "int64",
         "type": "integer"
        }
       ],
       "ref": "625c45c6-40a1-4e58-b582-123e32b0cc49",
       "rows": [
        [
         "No",
         "135774"
        ],
        [
         "Yes",
         "41812"
        ]
       ],
       "shape": {
        "columns": 1,
        "rows": 2
       }
      },
      "text/plain": [
       "Outcomes_Bin\n",
       "No     135774\n",
       "Yes     41812\n",
       "Name: count, dtype: int64"
      ]
     },
     "metadata": {},
     "output_type": "display_data"
    }
   ],
   "source": [
    "df[\"Outcomes_Bin\"] = \"No\"\n",
    "df.loc[df[\"Outcomes_Counts\"] != 0, \"Outcomes_Bin\"] = \"Yes\"\n",
    "display(df[\"Outcomes_Bin\"].value_counts(dropna=False))"
   ]
  },
  {
   "cell_type": "markdown",
   "metadata": {},
   "source": [
    "## Locations"
   ]
  },
  {
   "cell_type": "code",
   "execution_count": 223,
   "metadata": {},
   "outputs": [
    {
     "data": {
      "application/vnd.microsoft.datawrangler.viewer.v0+json": {
       "columns": [
        {
         "name": "Countries",
         "rawType": "object",
         "type": "unknown"
        },
        {
         "name": "count",
         "rawType": "int64",
         "type": "integer"
        }
       ],
       "ref": "5247a942-1e72-45a7-b1fc-6147480af775",
       "rows": [
        [
         "['United States']",
         "59268"
        ],
        [
         "['None']",
         "11520"
        ],
        [
         "['China']",
         "7839"
        ],
        [
         "['France']",
         "7124"
        ],
        [
         "['Turkey']",
         "6573"
        ],
        [
         "['Canada']",
         "6201"
        ],
        [
         "['United Kingdom']",
         "5518"
        ],
        [
         "['Egypt']",
         "5018"
        ],
        [
         "['South Korea']",
         "4288"
        ],
        [
         "['Germany']",
         "3883"
        ],
        [
         "['Spain']",
         "3850"
        ],
        [
         "['Italy']",
         "2755"
        ],
        [
         "['Denmark']",
         "2691"
        ],
        [
         "['Brazil']",
         "2555"
        ],
        [
         "['Belgium']",
         "2158"
        ],
        [
         "['Netherlands']",
         "2114"
        ],
        [
         "['Taiwan']",
         "2061"
        ],
        [
         "['Switzerland']",
         "1964"
        ],
        [
         "['Pakistan']",
         "1950"
        ],
        [
         "['Japan']",
         "1811"
        ],
        [
         "['Sweden']",
         "1591"
        ],
        [
         "['India']",
         "1263"
        ],
        [
         "['Israel']",
         "1187"
        ],
        [
         "['Australia']",
         "1146"
        ],
        [
         "['Norway']",
         "1013"
        ],
        [
         "['Canada', 'United States']",
         "973"
        ],
        [
         "['Thailand']",
         "773"
        ],
        [
         "['Hong Kong']",
         "770"
        ],
        [
         "['Mexico']",
         "711"
        ],
        [
         "['Russian Federation']",
         "698"
        ],
        [
         "['Austria']",
         "687"
        ],
        [
         "['Singapore']",
         "646"
        ],
        [
         "['Poland']",
         "617"
        ],
        [
         "['Finland']",
         "529"
        ],
        [
         "['Greece']",
         "526"
        ],
        [
         "['Indonesia']",
         "520"
        ],
        [
         "['Iran, Islamic Republic of']",
         "476"
        ],
        [
         "['Saudi Arabia']",
         "473"
        ],
        [
         "['Malaysia']",
         "397"
        ],
        [
         "['Portugal']",
         "373"
        ],
        [
         "['South Africa']",
         "361"
        ],
        [
         "['Ireland']",
         "325"
        ],
        [
         "['Vietnam']",
         "278"
        ],
        [
         "['Chile']",
         "277"
        ],
        [
         "['Puerto Rico', 'United States']",
         "259"
        ],
        [
         "['Czechia']",
         "249"
        ],
        [
         "['Colombia']",
         "245"
        ],
        [
         "['Kenya']",
         "230"
        ],
        [
         "['Bangladesh']",
         "229"
        ],
        [
         "['Uganda']",
         "224"
        ]
       ],
       "shape": {
        "columns": 1,
        "rows": 9467
       }
      },
      "text/plain": [
       "Countries\n",
       "[United States]                                                                                                                                                                                                  59268\n",
       "[None]                                                                                                                                                                                                           11520\n",
       "[China]                                                                                                                                                                                                           7839\n",
       "[France]                                                                                                                                                                                                          7124\n",
       "[Turkey]                                                                                                                                                                                                          6573\n",
       "                                                                                                                                                                                                                 ...  \n",
       "[Australia, Dominican Republic, France, Mexico, Netherlands, Spain, Thailand, United Kingdom, United States]                                                                                                         1\n",
       "[Germany, Hungary, Italy, Netherlands, Portugal, Romania, Slovakia]                                                                                                                                                  1\n",
       "[Belgium, Denmark, Netherlands, Spain, United States]                                                                                                                                                                1\n",
       "[Argentina, Australia, Belgium, Brazil, Canada, Czechia, Denmark, Finland, France, Germany, Israel, Italy, Japan, Netherlands, Russian Federation, Spain, Sweden, Switzerland, United Kingdom, United States]        1\n",
       "[Belgium, Canada, Finland, United States]                                                                                                                                                                            1\n",
       "Name: count, Length: 9467, dtype: int64"
      ]
     },
     "metadata": {},
     "output_type": "display_data"
    },
    {
     "data": {
      "text/plain": [
       "(177586, 65)"
      ]
     },
     "metadata": {},
     "output_type": "display_data"
    }
   ],
   "source": [
    "# Countries\n",
    "df = df.merge(my_locations[[ \"nct_id\",\"facilities_country\"]], on = \"nct_id\", how = \"left\") # already sorted(set(x)) in df_locations\n",
    "df = df.rename(columns={\"facilities_country\" : \"Countries\"}) \n",
    "df[\"Countries\"] = df[\"Countries\"].apply(lambda x: ['None'] if isinstance(x, list) and len(x) == 0 else x)\n",
    "display(df[\"Countries\"].value_counts(dropna=False))\n",
    "display(df.shape)"
   ]
  },
  {
   "cell_type": "markdown",
   "metadata": {},
   "source": [
    "### Country_Counts"
   ]
  },
  {
   "cell_type": "code",
   "execution_count": 224,
   "metadata": {},
   "outputs": [
    {
     "data": {
      "application/vnd.microsoft.datawrangler.viewer.v0+json": {
       "columns": [
        {
         "name": "Country_Counts",
         "rawType": "int64",
         "type": "integer"
        },
        {
         "name": "count",
         "rawType": "int64",
         "type": "integer"
        }
       ],
       "ref": "e413198e-1635-4adb-b1de-43c4078b7e15",
       "rows": [
        [
         "1",
         "151043"
        ],
        [
         "0",
         "11520"
        ],
        [
         "2",
         "4665"
        ],
        [
         "3",
         "1905"
        ],
        [
         "4",
         "1403"
        ],
        [
         "5",
         "1058"
        ],
        [
         "6",
         "882"
        ],
        [
         "7",
         "740"
        ],
        [
         "8",
         "628"
        ],
        [
         "9",
         "475"
        ],
        [
         "10",
         "450"
        ],
        [
         "11",
         "368"
        ],
        [
         "12",
         "307"
        ],
        [
         "13",
         "259"
        ],
        [
         "14",
         "233"
        ],
        [
         "15",
         "206"
        ],
        [
         "16",
         "183"
        ],
        [
         "18",
         "150"
        ],
        [
         "17",
         "145"
        ],
        [
         "19",
         "136"
        ],
        [
         "20",
         "98"
        ],
        [
         "21",
         "89"
        ],
        [
         "22",
         "85"
        ],
        [
         "23",
         "68"
        ],
        [
         "24",
         "63"
        ],
        [
         "26",
         "53"
        ],
        [
         "25",
         "52"
        ],
        [
         "28",
         "40"
        ],
        [
         "27",
         "39"
        ],
        [
         "29",
         "37"
        ],
        [
         "31",
         "34"
        ],
        [
         "30",
         "26"
        ],
        [
         "32",
         "21"
        ],
        [
         "33",
         "18"
        ],
        [
         "34",
         "15"
        ],
        [
         "37",
         "14"
        ],
        [
         "35",
         "11"
        ],
        [
         "42",
         "9"
        ],
        [
         "36",
         "9"
        ],
        [
         "41",
         "8"
        ],
        [
         "38",
         "7"
        ],
        [
         "49",
         "6"
        ],
        [
         "44",
         "5"
        ],
        [
         "40",
         "5"
        ],
        [
         "43",
         "5"
        ],
        [
         "45",
         "3"
        ],
        [
         "48",
         "3"
        ],
        [
         "39",
         "2"
        ],
        [
         "46",
         "2"
        ],
        [
         "51",
         "1"
        ]
       ],
       "shape": {
        "columns": 1,
        "rows": 52
       }
      },
      "text/plain": [
       "Country_Counts\n",
       "1     151043\n",
       "0      11520\n",
       "2       4665\n",
       "3       1905\n",
       "4       1403\n",
       "5       1058\n",
       "6        882\n",
       "7        740\n",
       "8        628\n",
       "9        475\n",
       "10       450\n",
       "11       368\n",
       "12       307\n",
       "13       259\n",
       "14       233\n",
       "15       206\n",
       "16       183\n",
       "18       150\n",
       "17       145\n",
       "19       136\n",
       "20        98\n",
       "21        89\n",
       "22        85\n",
       "23        68\n",
       "24        63\n",
       "26        53\n",
       "25        52\n",
       "28        40\n",
       "27        39\n",
       "29        37\n",
       "31        34\n",
       "30        26\n",
       "32        21\n",
       "33        18\n",
       "34        15\n",
       "37        14\n",
       "35        11\n",
       "42         9\n",
       "36         9\n",
       "41         8\n",
       "38         7\n",
       "49         6\n",
       "44         5\n",
       "40         5\n",
       "43         5\n",
       "45         3\n",
       "48         3\n",
       "39         2\n",
       "46         2\n",
       "51         1\n",
       "57         1\n",
       "59         1\n",
       "Name: count, dtype: int64"
      ]
     },
     "metadata": {},
     "output_type": "display_data"
    },
    {
     "data": {
      "text/plain": [
       "(177586, 66)"
      ]
     },
     "metadata": {},
     "output_type": "display_data"
    }
   ],
   "source": [
    "df = df.merge(my_locations[[ \"nct_id\",\"Country_Counts\"]], on = \"nct_id\", how = \"left\")\n",
    "display(df[\"Country_Counts\"].value_counts(dropna=False))\n",
    "display(df.shape) "
   ]
  },
  {
   "cell_type": "markdown",
   "metadata": {},
   "source": [
    "### Continents_List\n"
   ]
  },
  {
   "cell_type": "code",
   "execution_count": 225,
   "metadata": {},
   "outputs": [
    {
     "data": {
      "application/vnd.microsoft.datawrangler.viewer.v0+json": {
       "columns": [
        {
         "name": "Continents_List",
         "rawType": "object",
         "type": "unknown"
        },
        {
         "name": "count",
         "rawType": "int64",
         "type": "integer"
        }
       ],
       "ref": "ad7f5218-8daf-4c59-be16-ed70553fa033",
       "rows": [
        [
         "['North America']",
         "67782"
        ],
        [
         "['Europe']",
         "41614"
        ],
        [
         "['Asia']",
         "32456"
        ],
        [
         "['None']",
         "13063"
        ],
        [
         "['Africa']",
         "7184"
        ],
        [
         "['South America']",
         "3422"
        ],
        [
         "['Europe', 'North America']",
         "2653"
        ],
        [
         "['Oceania']",
         "1427"
        ],
        [
         "['Asia', 'Europe', 'North America']",
         "977"
        ],
        [
         "['Asia', 'Europe', 'North America', 'Oceania']",
         "585"
        ],
        [
         "['Europe', 'North America', 'Oceania']",
         "556"
        ],
        [
         "['Asia', 'North America']",
         "470"
        ],
        [
         "['Asia', 'Europe']",
         "391"
        ],
        [
         "['North America', 'Oceania']",
         "342"
        ],
        [
         "['Asia', 'Europe', 'None', 'North America', 'Oceania', 'South America']",
         "323"
        ],
        [
         "['Asia', 'Europe', 'None', 'North America']",
         "276"
        ],
        [
         "['Europe', 'None', 'North America']",
         "273"
        ],
        [
         "['Africa', 'Asia', 'Europe', 'None', 'North America', 'Oceania', 'South America']",
         "234"
        ],
        [
         "['Europe', 'None']",
         "224"
        ],
        [
         "['Asia', 'Europe', 'None', 'North America', 'Oceania']",
         "218"
        ],
        [
         "['Asia', 'Europe', 'North America', 'South America']",
         "211"
        ],
        [
         "['Asia', 'Europe', 'North America', 'Oceania', 'South America']",
         "209"
        ],
        [
         "['Asia', 'Europe', 'None', 'North America', 'South America']",
         "208"
        ],
        [
         "['Europe', 'Oceania']",
         "183"
        ],
        [
         "['Africa', 'Asia', 'Europe', 'None', 'North America', 'South America']",
         "162"
        ],
        [
         "['Europe', 'North America', 'South America']",
         "152"
        ],
        [
         "['Asia', 'Europe', 'None']",
         "115"
        ],
        [
         "['North America', 'South America']",
         "109"
        ],
        [
         "['Africa', 'North America']",
         "95"
        ],
        [
         "['Asia', 'North America', 'Oceania']",
         "83"
        ],
        [
         "['Africa', 'Asia', 'Europe', 'North America']",
         "83"
        ],
        [
         "['Asia', 'Oceania']",
         "81"
        ],
        [
         "['Africa', 'Asia']",
         "73"
        ],
        [
         "['Europe', 'None', 'North America', 'South America']",
         "72"
        ],
        [
         "['Africa', 'Asia', 'Europe', 'North America', 'Oceania', 'South America']",
         "66"
        ],
        [
         "['Asia', 'Europe', 'Oceania']",
         "64"
        ],
        [
         "['Africa', 'Asia', 'Europe', 'North America', 'South America']",
         "63"
        ],
        [
         "['Africa', 'Europe', 'North America']",
         "60"
        ],
        [
         "['Africa', 'Europe']",
         "57"
        ],
        [
         "['Africa', 'Asia', 'Europe', 'North America', 'Oceania']",
         "56"
        ],
        [
         "['Europe', 'North America', 'Oceania', 'South America']",
         "54"
        ],
        [
         "['Europe', 'None', 'North America', 'Oceania']",
         "53"
        ],
        [
         "['Africa', 'Asia', 'Europe', 'None', 'North America']",
         "49"
        ],
        [
         "['Asia', 'None']",
         "45"
        ],
        [
         "['Europe', 'South America']",
         "45"
        ],
        [
         "['Africa', 'Asia', 'Europe', 'None', 'North America', 'Oceania']",
         "35"
        ],
        [
         "['Africa', 'None']",
         "34"
        ],
        [
         "['Africa', 'Europe', 'North America', 'South America']",
         "33"
        ],
        [
         "['Asia', 'North America', 'South America']",
         "28"
        ],
        [
         "['Africa', 'Asia', 'Europe']",
         "28"
        ]
       ],
       "shape": {
        "columns": 1,
        "rows": 114
       }
      },
      "text/plain": [
       "Continents_List\n",
       "[North America]                                    67782\n",
       "[Europe]                                           41614\n",
       "[Asia]                                             32456\n",
       "[None]                                             13063\n",
       "[Africa]                                            7184\n",
       "                                                   ...  \n",
       "[Africa, Asia, None, South America]                    1\n",
       "[Asia, None, South America]                            1\n",
       "[Africa, None, South America]                          1\n",
       "[Asia, None, North America, Oceania]                   1\n",
       "[Africa, North America, Oceania, South America]        1\n",
       "Name: count, Length: 114, dtype: int64"
      ]
     },
     "metadata": {},
     "output_type": "display_data"
    },
    {
     "data": {
      "text/plain": [
       "(177586, 67)"
      ]
     },
     "metadata": {},
     "output_type": "display_data"
    }
   ],
   "source": [
    "Countries = pd.DataFrame(geonamescache.GeonamesCache().get_countries()).transpose().reset_index()\n",
    "Countries = Countries[[\"name\", \"continentcode\"]]\n",
    "Countries = Countries.replace({\"NA\": \"North America\", \"OC\": \"Oceania\", \"EU\": \"Europe\", \"AS\": \"Asia\", \"AF\": \"Africa\", \"SA\": \"South America\"})\n",
    "geo_dict = dict(zip( Countries['name'], Countries['continentcode']))\n",
    "\n",
    "df['Continents_List'] = df['Countries'].apply(lambda x: [geo_dict.get(item, \"None\") for item in x] if isinstance(x, list) else [\"None\"])\n",
    "df['Continents_List'] = df['Continents_List'].apply(lambda x: [\"None\"] if len(x) == 0 else x)\n",
    "df['Continents_List'] = df['Continents_List'].apply(lambda x: sorted(set(x)))\n",
    "\n",
    "display(df['Continents_List'].value_counts(dropna = False))\n",
    "display(df.shape)"
   ]
  },
  {
   "cell_type": "markdown",
   "metadata": {},
   "source": [
    "### Continent_Counts"
   ]
  },
  {
   "cell_type": "code",
   "execution_count": 226,
   "metadata": {},
   "outputs": [
    {
     "data": {
      "application/vnd.microsoft.datawrangler.viewer.v0+json": {
       "columns": [
        {
         "name": "Continent_Counts",
         "rawType": "int64",
         "type": "integer"
        },
        {
         "name": "count",
         "rawType": "int64",
         "type": "integer"
        }
       ],
       "ref": "be4bd3bc-08f7-4783-96fb-2c5b0bf3ff7c",
       "rows": [
        [
         "1",
         "153885"
        ],
        [
         "0",
         "13063"
        ],
        [
         "2",
         "4869"
        ],
        [
         "3",
         "2506"
        ],
        [
         "4",
         "1534"
        ],
        [
         "5",
         "896"
        ],
        [
         "6",
         "599"
        ],
        [
         "7",
         "234"
        ]
       ],
       "shape": {
        "columns": 1,
        "rows": 8
       }
      },
      "text/plain": [
       "Continent_Counts\n",
       "1    153885\n",
       "0     13063\n",
       "2      4869\n",
       "3      2506\n",
       "4      1534\n",
       "5       896\n",
       "6       599\n",
       "7       234\n",
       "Name: count, dtype: int64"
      ]
     },
     "metadata": {},
     "output_type": "display_data"
    },
    {
     "data": {
      "text/plain": [
       "(177586, 68)"
      ]
     },
     "metadata": {},
     "output_type": "display_data"
    }
   ],
   "source": [
    "df[\"Continent_Counts\"] = df[\"Continents_List\"].apply(lambda x: len(x) if isinstance(x, list) and x !=['None'] else 0)\n",
    "display(df[\"Continent_Counts\"].value_counts(dropna = False))\n",
    "display(df.shape)"
   ]
  },
  {
   "cell_type": "markdown",
   "metadata": {},
   "source": [
    "### City_Counts"
   ]
  },
  {
   "cell_type": "code",
   "execution_count": 227,
   "metadata": {},
   "outputs": [
    {
     "data": {
      "application/vnd.microsoft.datawrangler.viewer.v0+json": {
       "columns": [
        {
         "name": "City_Counts",
         "rawType": "int64",
         "type": "integer"
        },
        {
         "name": "count",
         "rawType": "int64",
         "type": "integer"
        }
       ],
       "ref": "cc45e667-780d-4dfe-81f0-79062d461cfb",
       "rows": [
        [
         "1",
         "124904"
        ],
        [
         "0",
         "11520"
        ],
        [
         "2",
         "9011"
        ],
        [
         "3",
         "4379"
        ],
        [
         "4",
         "3085"
        ],
        [
         "5",
         "2307"
        ],
        [
         "6",
         "1862"
        ],
        [
         "7",
         "1560"
        ],
        [
         "8",
         "1307"
        ],
        [
         "10",
         "1133"
        ],
        [
         "9",
         "1092"
        ],
        [
         "11",
         "856"
        ],
        [
         "12",
         "790"
        ],
        [
         "13",
         "715"
        ],
        [
         "14",
         "641"
        ],
        [
         "15",
         "614"
        ],
        [
         "16",
         "526"
        ],
        [
         "17",
         "466"
        ],
        [
         "18",
         "430"
        ],
        [
         "20",
         "413"
        ],
        [
         "19",
         "376"
        ],
        [
         "22",
         "364"
        ],
        [
         "21",
         "360"
        ],
        [
         "23",
         "304"
        ],
        [
         "24",
         "279"
        ],
        [
         "25",
         "249"
        ],
        [
         "26",
         "247"
        ],
        [
         "28",
         "245"
        ],
        [
         "27",
         "242"
        ],
        [
         "30",
         "238"
        ],
        [
         "29",
         "225"
        ],
        [
         "31",
         "220"
        ],
        [
         "32",
         "185"
        ],
        [
         "36",
         "184"
        ],
        [
         "33",
         "180"
        ],
        [
         "35",
         "176"
        ],
        [
         "34",
         "170"
        ],
        [
         "38",
         "158"
        ],
        [
         "37",
         "140"
        ],
        [
         "41",
         "132"
        ],
        [
         "40",
         "131"
        ],
        [
         "43",
         "127"
        ],
        [
         "48",
         "118"
        ],
        [
         "47",
         "117"
        ],
        [
         "49",
         "115"
        ],
        [
         "44",
         "113"
        ],
        [
         "42",
         "110"
        ],
        [
         "39",
         "109"
        ],
        [
         "46",
         "101"
        ],
        [
         "45",
         "101"
        ]
       ],
       "shape": {
        "columns": 1,
        "rows": 398
       }
      },
      "text/plain": [
       "City_Counts\n",
       "1      124904\n",
       "0       11520\n",
       "2        9011\n",
       "3        4379\n",
       "4        3085\n",
       "        ...  \n",
       "313         1\n",
       "242         1\n",
       "306         1\n",
       "232         1\n",
       "342         1\n",
       "Name: count, Length: 398, dtype: int64"
      ]
     },
     "metadata": {},
     "output_type": "display_data"
    },
    {
     "data": {
      "text/plain": [
       "(177586, 69)"
      ]
     },
     "metadata": {},
     "output_type": "display_data"
    }
   ],
   "source": [
    "df = df.merge(my_locations[[ \"nct_id\",\"City_Counts\"]], on = \"nct_id\", how = \"left\") # Cities already sorted(set(x)) in df_locations --> correct counts\n",
    "display(df[\"City_Counts\"].value_counts(dropna=False))\n",
    "display(df.shape) "
   ]
  },
  {
   "cell_type": "markdown",
   "metadata": {},
   "source": [
    "## Enrollment\n"
   ]
  },
  {
   "cell_type": "markdown",
   "metadata": {},
   "source": [
    "### Enrollment\n"
   ]
  },
  {
   "cell_type": "code",
   "execution_count": 228,
   "metadata": {},
   "outputs": [
    {
     "data": {
      "application/vnd.microsoft.datawrangler.viewer.v0+json": {
       "columns": [
        {
         "name": "Enrollment",
         "rawType": "float64",
         "type": "float"
        },
        {
         "name": "count",
         "rawType": "int64",
         "type": "integer"
        }
       ],
       "ref": "778417f0-bb93-4e7d-9e62-aeab54965e87",
       "rows": [
        [
         "0.0",
         "8396"
        ],
        [
         "60.0",
         "5056"
        ],
        [
         "30.0",
         "4996"
        ],
        [
         "20.0",
         "4781"
        ],
        [
         "40.0",
         "4606"
        ],
        [
         "50.0",
         "3199"
        ],
        [
         "10.0",
         "3167"
        ],
        [
         "24.0",
         "3116"
        ],
        [
         "12.0",
         "2829"
        ],
        [
         "100.0",
         "2516"
        ],
        [
         "15.0",
         "2201"
        ],
        [
         "80.0",
         "2142"
        ],
        [
         "16.0",
         "2127"
        ],
        [
         "32.0",
         "1985"
        ],
        [
         "18.0",
         "1916"
        ],
        [
         "36.0",
         "1891"
        ],
        [
         "6.0",
         "1765"
        ],
        [
         "25.0",
         "1728"
        ],
        [
         "14.0",
         "1630"
        ],
        [
         "120.0",
         "1614"
        ],
        [
         "8.0",
         "1612"
        ],
        [
         "48.0",
         "1597"
        ],
        [
         "22.0",
         "1585"
        ],
        [
         "28.0",
         "1571"
        ],
        [
         "21.0",
         "1471"
        ],
        [
         "26.0",
         "1426"
        ],
        [
         "5.0",
         "1410"
        ],
        [
         "90.0",
         "1409"
        ],
        [
         "70.0",
         "1390"
        ],
        [
         "34.0",
         "1375"
        ],
        [
         "9.0",
         "1337"
        ],
        [
         "42.0",
         "1333"
        ],
        [
         "45.0",
         "1309"
        ],
        [
         "11.0",
         "1276"
        ],
        [
         "13.0",
         "1275"
        ],
        [
         "1.0",
         "1267"
        ],
        [
         "2.0",
         "1226"
        ],
        [
         "3.0",
         "1223"
        ],
        [
         "44.0",
         "1202"
        ],
        [
         "19.0",
         "1193"
        ],
        [
         "23.0",
         "1192"
        ],
        [
         "4.0",
         "1185"
        ],
        [
         "17.0",
         "1174"
        ],
        [
         "31.0",
         "1140"
        ],
        [
         "7.0",
         "1136"
        ],
        [
         "38.0",
         "1109"
        ],
        [
         "35.0",
         "1107"
        ],
        [
         "33.0",
         "1069"
        ],
        [
         "27.0",
         "1052"
        ],
        [
         "52.0",
         "1048"
        ]
       ],
       "shape": {
        "columns": 1,
        "rows": 3907
       }
      },
      "text/plain": [
       "Enrollment\n",
       "0.0        8396\n",
       "60.0       5056\n",
       "30.0       4996\n",
       "20.0       4781\n",
       "40.0       4606\n",
       "           ... \n",
       "4485.0        1\n",
       "2164.0        1\n",
       "27395.0       1\n",
       "5219.0        1\n",
       "2367.0        1\n",
       "Name: count, Length: 3907, dtype: int64"
      ]
     },
     "metadata": {},
     "output_type": "display_data"
    },
    {
     "data": {
      "text/plain": [
       "54"
      ]
     },
     "metadata": {},
     "output_type": "display_data"
    },
    {
     "data": {
      "application/vnd.microsoft.datawrangler.viewer.v0+json": {
       "columns": [
        {
         "name": "index",
         "rawType": "int64",
         "type": "integer"
        },
        {
         "name": "Enrollment",
         "rawType": "float64",
         "type": "float"
        }
       ],
       "ref": "645d4276-bc80-40dc-8e70-f8a8ce6a2510",
       "rows": [
        [
         "0",
         "840.0"
        ],
        [
         "1",
         "330.0"
        ]
       ],
       "shape": {
        "columns": 1,
        "rows": 2
       }
      },
      "text/plain": [
       "0    840.0\n",
       "1    330.0\n",
       "Name: Enrollment, dtype: float64"
      ]
     },
     "metadata": {},
     "output_type": "display_data"
    },
    {
     "data": {
      "text/plain": [
       "(177586, 69)"
      ]
     },
     "metadata": {},
     "output_type": "display_data"
    }
   ],
   "source": [
    "display(df[\"Enrollment\"].value_counts(dropna=False)) # useful for qcut\n",
    "display(df[\"Enrollment\"].isnull().sum()) # Null values\n",
    "display(df[\"Enrollment\"].head(2)) # useful for qcut\n",
    "display(df.shape)"
   ]
  },
  {
   "cell_type": "markdown",
   "metadata": {},
   "source": [
    "### Enrollment_Log\n"
   ]
  },
  {
   "cell_type": "code",
   "execution_count": 229,
   "metadata": {},
   "outputs": [
    {
     "data": {
      "application/vnd.microsoft.datawrangler.viewer.v0+json": {
       "columns": [
        {
         "name": "index",
         "rawType": "object",
         "type": "string"
        },
        {
         "name": "Enrollment_Log",
         "rawType": "float64",
         "type": "float"
        }
       ],
       "ref": "309c30d4-a7db-4c74-8cfc-6f0ec089d12a",
       "rows": [
        [
         "count",
         "177532.0"
        ],
        [
         "mean",
         "3.8928189138178744"
        ],
        [
         "std",
         "1.5878539006746468"
        ],
        [
         "min",
         "0.0"
        ],
        [
         "25%",
         "3.091042453358316"
        ],
        [
         "50%",
         "3.9318256327243257"
        ],
        [
         "75%",
         "4.74493212836325"
        ],
        [
         "max",
         "16.817285189648924"
        ]
       ],
       "shape": {
        "columns": 1,
        "rows": 8
       }
      },
      "text/plain": [
       "count    177532.000000\n",
       "mean          3.892819\n",
       "std           1.587854\n",
       "min           0.000000\n",
       "25%           3.091042\n",
       "50%           3.931826\n",
       "75%           4.744932\n",
       "max          16.817285\n",
       "Name: Enrollment_Log, dtype: float64"
      ]
     },
     "execution_count": 229,
     "metadata": {},
     "output_type": "execute_result"
    }
   ],
   "source": [
    "df['Enrollment_Log'] = np.log1p(df['Enrollment'])\n",
    "df['Enrollment_Log'].describe()  "
   ]
  },
  {
   "cell_type": "markdown",
   "metadata": {},
   "source": [
    "## Phases\n",
    "\n",
    "- 5 phases and NA: \n",
    "1. Early Phase 1 --> formerly listed as Phase 0, \n",
    "2. Phase 1, \n",
    "3. Phase 2, \n",
    "4. Phase 3,  \n",
    "5. Phase 4. \n",
    "6. Not Applicable --> used to describe trials without FDA-defined phases, including trials of devices or behavioral interventions.\n",
    "\n"
   ]
  },
  {
   "cell_type": "markdown",
   "metadata": {},
   "source": [
    "### Phases"
   ]
  },
  {
   "cell_type": "code",
   "execution_count": 230,
   "metadata": {},
   "outputs": [
    {
     "data": {
      "application/vnd.microsoft.datawrangler.viewer.v0+json": {
       "columns": [
        {
         "name": "Phases",
         "rawType": "object",
         "type": "unknown"
        },
        {
         "name": "count",
         "rawType": "int64",
         "type": "integer"
        }
       ],
       "ref": "8a1c73b5-5b45-435c-8463-87d63985ea5c",
       "rows": [
        [
         "['NOT_APPLICABLE']",
         "97831"
        ],
        [
         "['PHASE1']",
         "21764"
        ],
        [
         "['PHASE2']",
         "20896"
        ],
        [
         "['PHASE3']",
         "13817"
        ],
        [
         "['PHASE4']",
         "13073"
        ],
        [
         "['PHASE1', 'PHASE2']",
         "5411"
        ],
        [
         "['PHASE2', 'PHASE3']",
         "2490"
        ],
        [
         "['PHASE0']",
         "2304"
        ]
       ],
       "shape": {
        "columns": 1,
        "rows": 8
       }
      },
      "text/plain": [
       "Phases\n",
       "[NOT_APPLICABLE]    97831\n",
       "[PHASE1]            21764\n",
       "[PHASE2]            20896\n",
       "[PHASE3]            13817\n",
       "[PHASE4]            13073\n",
       "[PHASE1, PHASE2]     5411\n",
       "[PHASE2, PHASE3]     2490\n",
       "[PHASE0]             2304\n",
       "Name: count, dtype: int64"
      ]
     },
     "metadata": {},
     "output_type": "display_data"
    },
    {
     "data": {
      "text/plain": [
       "(177586, 70)"
      ]
     },
     "metadata": {},
     "output_type": "display_data"
    }
   ],
   "source": [
    "# Same with db and csv\n",
    "df[\"Phases\"] = df[\"Phases\"].replace({np.NaN : \"NOT_APPLICABLE\", \"EARLY_PHASE1\" : \"PHASE0\"})  \n",
    "df[\"Phases\"] = df[\"Phases\"].str.split( \"|\" )  # No apply sort(list(x)) needed here - No duplicated elements with diff list-elem order\n",
    "\n",
    "display(df[\"Phases\"].value_counts(dropna=False))  \n",
    "display(df.shape)"
   ]
  },
  {
   "cell_type": "markdown",
   "metadata": {},
   "source": [
    "# 4) Drop Cols"
   ]
  },
  {
   "cell_type": "code",
   "execution_count": 231,
   "metadata": {},
   "outputs": [],
   "source": [
    "df = df.drop(columns = [\"Study Title\", \"official_title\", \"Other IDs\", \"Acronym\", \"Study URL\",\"Study Type\", \"Study Results\", 'Brief Summary', \"Locations\", \\\n",
    "                        \"Study Design\", \"Interventions\",\"Start Date\", \"Completion Date\", \"First Posted\", \"Results First Posted\",\"Last Update Posted\",\\\n",
    "                        \"Primary Completion Date\", \"First Posted\", \"Results First Posted\", \"Last Update Posted\", \"Primary Completion Date\", \"Conditions\",\\\n",
    "                        'Sponsor', 'Collaborators', 'Sponsor_Type', 'Collaborator_Type', \"Countries\", \"Study Documents\"] , axis = 1) "
   ]
  },
  {
   "cell_type": "markdown",
   "metadata": {},
   "source": [
    "# 5) NaN Check"
   ]
  },
  {
   "cell_type": "code",
   "execution_count": 232,
   "metadata": {},
   "outputs": [
    {
     "data": {
      "application/vnd.microsoft.datawrangler.viewer.v0+json": {
       "columns": [
        {
         "name": "index",
         "rawType": "object",
         "type": "string"
        },
        {
         "name": "0",
         "rawType": "int64",
         "type": "integer"
        }
       ],
       "ref": "4f86b3de-b687-455c-92e9-233060e6e9ab",
       "rows": [
        [
         "Arm_Counts",
         "910"
        ],
        [
         "Masking_Detail_List",
         "452"
        ],
        [
         "Allocation",
         "372"
        ],
        [
         "Masking",
         "246"
        ],
        [
         "Intervention_Model",
         "199"
        ],
        [
         "Sex",
         "85"
        ],
        [
         "Healthy_Bin",
         "66"
        ],
        [
         "Enrollment_Log",
         "54"
        ],
        [
         "Enrollment",
         "54"
        ],
        [
         "Outcomes_Bin",
         "0"
        ],
        [
         "Adverse_System_Counts_Log",
         "0"
        ],
        [
         "Adverse_List",
         "0"
        ],
        [
         "City_Counts",
         "0"
        ],
        [
         "Continent_Counts",
         "0"
        ],
        [
         "Adverse_Counts",
         "0"
        ],
        [
         "Adverse_System_List",
         "0"
        ],
        [
         "Adverse_System_Counts",
         "0"
        ],
        [
         "Termination",
         "0"
        ],
        [
         "Outcomes_Counts",
         "0"
        ],
        [
         "Continents_List",
         "0"
        ],
        [
         "Country_Counts",
         "0"
        ],
        [
         "Comorbidity_Counts",
         "0"
        ],
        [
         "Primary_Purpose",
         "0"
        ],
        [
         "Outcomes_List",
         "0"
        ],
        [
         "Comorbidity_Bin",
         "0"
        ],
        [
         "nct_id",
         "0"
        ],
        [
         "Conditions_List",
         "0"
        ],
        [
         "Study Status",
         "0"
        ],
        [
         "Age_List",
         "0"
        ],
        [
         "Phases",
         "0"
        ],
        [
         "Funder_Type",
         "0"
        ],
        [
         "Sponsor_Collab_List",
         "0"
        ],
        [
         "Study_Documents_List",
         "0"
        ],
        [
         "Document_Counts",
         "0"
        ],
        [
         "Document_Counts_Bin",
         "0"
        ],
        [
         "Start_Date_Year",
         "0"
        ],
        [
         "Completion_Date_Year",
         "0"
        ],
        [
         "Start_Date_Year_Categ",
         "0"
        ],
        [
         "Completion_Date_Year_Categ",
         "0"
        ],
        [
         "Completion_Gap",
         "0"
        ],
        [
         "Intervention_Method_List",
         "0"
        ],
        [
         "Intervention_Type_List",
         "0"
        ],
        [
         "Intervention_Counts",
         "0"
        ],
        [
         "Placebo_Bin",
         "0"
        ],
        [
         "Standard_Care_Bin",
         "0"
        ],
        [
         "Covid_19_Bin",
         "0"
        ]
       ],
       "shape": {
        "columns": 1,
        "rows": 46
       }
      },
      "text/plain": [
       "Arm_Counts                    910\n",
       "Masking_Detail_List           452\n",
       "Allocation                    372\n",
       "Masking                       246\n",
       "Intervention_Model            199\n",
       "Sex                            85\n",
       "Healthy_Bin                    66\n",
       "Enrollment_Log                 54\n",
       "Enrollment                     54\n",
       "Outcomes_Bin                    0\n",
       "Adverse_System_Counts_Log       0\n",
       "Adverse_List                    0\n",
       "City_Counts                     0\n",
       "Continent_Counts                0\n",
       "Adverse_Counts                  0\n",
       "Adverse_System_List             0\n",
       "Adverse_System_Counts           0\n",
       "Termination                     0\n",
       "Outcomes_Counts                 0\n",
       "Continents_List                 0\n",
       "Country_Counts                  0\n",
       "Comorbidity_Counts              0\n",
       "Primary_Purpose                 0\n",
       "Outcomes_List                   0\n",
       "Comorbidity_Bin                 0\n",
       "nct_id                          0\n",
       "Conditions_List                 0\n",
       "Study Status                    0\n",
       "Age_List                        0\n",
       "Phases                          0\n",
       "Funder_Type                     0\n",
       "Sponsor_Collab_List             0\n",
       "Study_Documents_List            0\n",
       "Document_Counts                 0\n",
       "Document_Counts_Bin             0\n",
       "Start_Date_Year                 0\n",
       "Completion_Date_Year            0\n",
       "Start_Date_Year_Categ           0\n",
       "Completion_Date_Year_Categ      0\n",
       "Completion_Gap                  0\n",
       "Intervention_Method_List        0\n",
       "Intervention_Type_List          0\n",
       "Intervention_Counts             0\n",
       "Placebo_Bin                     0\n",
       "Standard_Care_Bin               0\n",
       "Covid_19_Bin                    0\n",
       "dtype: int64"
      ]
     },
     "execution_count": 232,
     "metadata": {},
     "output_type": "execute_result"
    }
   ],
   "source": [
    "df.isnull().sum().sort_values(ascending=False)"
   ]
  },
  {
   "cell_type": "markdown",
   "metadata": {},
   "source": [
    "# 6) Dfs Split"
   ]
  },
  {
   "cell_type": "code",
   "execution_count": 233,
   "metadata": {},
   "outputs": [
    {
     "data": {
      "application/vnd.microsoft.datawrangler.viewer.v0+json": {
       "columns": [
        {
         "name": "index",
         "rawType": "int64",
         "type": "integer"
        },
        {
         "name": "nct_id",
         "rawType": "object",
         "type": "string"
        },
        {
         "name": "Study Status",
         "rawType": "category",
         "type": "unknown"
        },
        {
         "name": "Sex",
         "rawType": "object",
         "type": "string"
        },
        {
         "name": "Age_List",
         "rawType": "object",
         "type": "unknown"
        },
        {
         "name": "Phases",
         "rawType": "object",
         "type": "unknown"
        },
        {
         "name": "Enrollment",
         "rawType": "float64",
         "type": "float"
        },
        {
         "name": "Funder_Type",
         "rawType": "object",
         "type": "string"
        },
        {
         "name": "Sponsor_Collab_List",
         "rawType": "object",
         "type": "unknown"
        },
        {
         "name": "Study_Documents_List",
         "rawType": "object",
         "type": "unknown"
        },
        {
         "name": "Document_Counts",
         "rawType": "int64",
         "type": "integer"
        },
        {
         "name": "Document_Counts_Bin",
         "rawType": "object",
         "type": "string"
        },
        {
         "name": "Start_Date_Year",
         "rawType": "Int64",
         "type": "integer"
        },
        {
         "name": "Completion_Date_Year",
         "rawType": "Int64",
         "type": "integer"
        },
        {
         "name": "Start_Date_Year_Categ",
         "rawType": "category",
         "type": "unknown"
        },
        {
         "name": "Completion_Date_Year_Categ",
         "rawType": "category",
         "type": "unknown"
        },
        {
         "name": "Completion_Gap",
         "rawType": "Int64",
         "type": "integer"
        },
        {
         "name": "Intervention_Method_List",
         "rawType": "object",
         "type": "unknown"
        },
        {
         "name": "Intervention_Type_List",
         "rawType": "object",
         "type": "unknown"
        },
        {
         "name": "Intervention_Counts",
         "rawType": "int64",
         "type": "integer"
        },
        {
         "name": "Placebo_Bin",
         "rawType": "object",
         "type": "string"
        },
        {
         "name": "Standard_Care_Bin",
         "rawType": "object",
         "type": "string"
        },
        {
         "name": "Healthy_Bin",
         "rawType": "object",
         "type": "string"
        },
        {
         "name": "Arm_Counts",
         "rawType": "float64",
         "type": "float"
        },
        {
         "name": "Covid_19_Bin",
         "rawType": "object",
         "type": "string"
        },
        {
         "name": "Conditions_List",
         "rawType": "object",
         "type": "unknown"
        },
        {
         "name": "Comorbidity_Counts",
         "rawType": "int64",
         "type": "integer"
        },
        {
         "name": "Comorbidity_Bin",
         "rawType": "object",
         "type": "string"
        },
        {
         "name": "Adverse_List",
         "rawType": "object",
         "type": "unknown"
        },
        {
         "name": "Adverse_Counts",
         "rawType": "float64",
         "type": "float"
        },
        {
         "name": "Adverse_System_List",
         "rawType": "object",
         "type": "unknown"
        },
        {
         "name": "Adverse_System_Counts",
         "rawType": "int64",
         "type": "integer"
        },
        {
         "name": "Adverse_System_Counts_Log",
         "rawType": "float64",
         "type": "float"
        },
        {
         "name": "Termination",
         "rawType": "object",
         "type": "string"
        },
        {
         "name": "Allocation",
         "rawType": "object",
         "type": "string"
        },
        {
         "name": "Intervention_Model",
         "rawType": "object",
         "type": "string"
        },
        {
         "name": "Masking",
         "rawType": "object",
         "type": "string"
        },
        {
         "name": "Masking_Detail_List",
         "rawType": "object",
         "type": "unknown"
        },
        {
         "name": "Primary_Purpose",
         "rawType": "object",
         "type": "string"
        },
        {
         "name": "Outcomes_List",
         "rawType": "object",
         "type": "unknown"
        },
        {
         "name": "Outcomes_Counts",
         "rawType": "int64",
         "type": "integer"
        },
        {
         "name": "Outcomes_Bin",
         "rawType": "object",
         "type": "string"
        },
        {
         "name": "Country_Counts",
         "rawType": "int64",
         "type": "integer"
        },
        {
         "name": "Continents_List",
         "rawType": "object",
         "type": "unknown"
        },
        {
         "name": "Continent_Counts",
         "rawType": "int64",
         "type": "integer"
        },
        {
         "name": "City_Counts",
         "rawType": "int64",
         "type": "integer"
        },
        {
         "name": "Enrollment_Log",
         "rawType": "float64",
         "type": "float"
        },
        {
         "name": "NOT_APPLICABLE",
         "rawType": "int32",
         "type": "integer"
        },
        {
         "name": "PHASE0",
         "rawType": "int32",
         "type": "integer"
        },
        {
         "name": "PHASE1",
         "rawType": "int32",
         "type": "integer"
        },
        {
         "name": "PHASE2",
         "rawType": "int32",
         "type": "integer"
        },
        {
         "name": "PHASE3",
         "rawType": "int32",
         "type": "integer"
        },
        {
         "name": "PHASE4",
         "rawType": "int32",
         "type": "integer"
        }
       ],
       "ref": "63b3e8f8-57bc-4c63-a54d-f2299366f715",
       "rows": [
        [
         "0",
         "NCT04385680",
         "COMPLETED",
         "FEMALE",
         "['ADULT', 'OLDER_ADULT']",
         "['PHASE1', 'PHASE2']",
         "840.0",
         "OTHER_GOV",
         "['University']",
         "['None']",
         "0",
         "No",
         "2020",
         "2022",
         "(2019, 2024]",
         "(2019, 2024]",
         "27",
         "['Topical']",
         "['DRUG']",
         "1",
         "No",
         "No",
         "No",
         "2.0",
         "No",
         "['Diseases']",
         "2",
         "Yes",
         "['None']",
         "0.0",
         "['None']",
         "0",
         "0.0",
         "None",
         "RANDOMIZED",
         "PARALLEL",
         "SINGLE",
         "['PARTICIPANT']",
         "PREVENTION",
         "['None']",
         "0",
         "No",
         "1",
         "['Asia']",
         "1",
         "1",
         "6.734591659972948",
         "0",
         "0",
         "1",
         "1",
         "0",
         "0"
        ],
        [
         "1",
         "NCT05017480",
         "COMPLETED",
         "ALL",
         "['CHILD', 'ADULT', 'OLDER_ADULT']",
         "['PHASE2']",
         "330.0",
         "INDUSTRY",
         "['Pharmaceutical']",
         "['Analysis Plan', 'Protocol']",
         "2",
         "Yes",
         "2021",
         "2023",
         "(2019, 2024]",
         "(2019, 2024]",
         "25",
         "['Unknown']",
         "['DRUG']",
         "1",
         "Yes",
         "No",
         "No",
         "2.0",
         "No",
         "['Diseases']",
         "3",
         "Yes",
         "['Other', 'Serious']",
         "314.0",
         "['Cardiac', 'Endocrine', 'Eye', 'Gastrointestinal', 'General', 'Infection', 'Injury, Poisoning, Procedural', 'Metabolism, Nutrition', 'Musculoskeletal', 'Skin, Subcutaneous', 'Vascular']",
         "11",
         "2.4849066497880004",
         "None",
         "RANDOMIZED",
         "PARALLEL",
         "QUADRUPLE",
         "['OUTCOMES_ASSESSOR', 'INVESTIGATOR', 'PARTICIPANT', 'CARE_PROVIDER']",
         "TREATMENT",
         "['PRIMARY', 'SECONDARY']",
         "2",
         "Yes",
         "1",
         "['Asia']",
         "1",
         "30",
         "5.802118375377063",
         "0",
         "0",
         "0",
         "1",
         "0",
         "0"
        ]
       ],
       "shape": {
        "columns": 52,
        "rows": 2
       }
      },
      "text/html": [
       "<div>\n",
       "<style scoped>\n",
       "    .dataframe tbody tr th:only-of-type {\n",
       "        vertical-align: middle;\n",
       "    }\n",
       "\n",
       "    .dataframe tbody tr th {\n",
       "        vertical-align: top;\n",
       "    }\n",
       "\n",
       "    .dataframe thead th {\n",
       "        text-align: right;\n",
       "    }\n",
       "</style>\n",
       "<table border=\"1\" class=\"dataframe\">\n",
       "  <thead>\n",
       "    <tr style=\"text-align: right;\">\n",
       "      <th></th>\n",
       "      <th>nct_id</th>\n",
       "      <th>Study Status</th>\n",
       "      <th>Sex</th>\n",
       "      <th>Age_List</th>\n",
       "      <th>Phases</th>\n",
       "      <th>Enrollment</th>\n",
       "      <th>Funder_Type</th>\n",
       "      <th>Sponsor_Collab_List</th>\n",
       "      <th>Study_Documents_List</th>\n",
       "      <th>Document_Counts</th>\n",
       "      <th>Document_Counts_Bin</th>\n",
       "      <th>Start_Date_Year</th>\n",
       "      <th>Completion_Date_Year</th>\n",
       "      <th>Start_Date_Year_Categ</th>\n",
       "      <th>Completion_Date_Year_Categ</th>\n",
       "      <th>Completion_Gap</th>\n",
       "      <th>Intervention_Method_List</th>\n",
       "      <th>...</th>\n",
       "      <th>Masking</th>\n",
       "      <th>Masking_Detail_List</th>\n",
       "      <th>Primary_Purpose</th>\n",
       "      <th>Outcomes_List</th>\n",
       "      <th>Outcomes_Counts</th>\n",
       "      <th>Outcomes_Bin</th>\n",
       "      <th>Country_Counts</th>\n",
       "      <th>Continents_List</th>\n",
       "      <th>Continent_Counts</th>\n",
       "      <th>City_Counts</th>\n",
       "      <th>Enrollment_Log</th>\n",
       "      <th>NOT_APPLICABLE</th>\n",
       "      <th>PHASE0</th>\n",
       "      <th>PHASE1</th>\n",
       "      <th>PHASE2</th>\n",
       "      <th>PHASE3</th>\n",
       "      <th>PHASE4</th>\n",
       "    </tr>\n",
       "  </thead>\n",
       "  <tbody>\n",
       "    <tr>\n",
       "      <th>0</th>\n",
       "      <td>NCT04385680</td>\n",
       "      <td>COMPLETED</td>\n",
       "      <td>FEMALE</td>\n",
       "      <td>[ADULT, OLDER_ADULT]</td>\n",
       "      <td>[PHASE1, PHASE2]</td>\n",
       "      <td>840.0</td>\n",
       "      <td>OTHER_GOV</td>\n",
       "      <td>[University]</td>\n",
       "      <td>[None]</td>\n",
       "      <td>0</td>\n",
       "      <td>No</td>\n",
       "      <td>2020</td>\n",
       "      <td>2022</td>\n",
       "      <td>(2019, 2024]</td>\n",
       "      <td>(2019, 2024]</td>\n",
       "      <td>27</td>\n",
       "      <td>[Topical]</td>\n",
       "      <td>...</td>\n",
       "      <td>SINGLE</td>\n",
       "      <td>[PARTICIPANT]</td>\n",
       "      <td>PREVENTION</td>\n",
       "      <td>[None]</td>\n",
       "      <td>0</td>\n",
       "      <td>No</td>\n",
       "      <td>1</td>\n",
       "      <td>[Asia]</td>\n",
       "      <td>1</td>\n",
       "      <td>1</td>\n",
       "      <td>6.734592</td>\n",
       "      <td>0</td>\n",
       "      <td>0</td>\n",
       "      <td>1</td>\n",
       "      <td>1</td>\n",
       "      <td>0</td>\n",
       "      <td>0</td>\n",
       "    </tr>\n",
       "    <tr>\n",
       "      <th>1</th>\n",
       "      <td>NCT05017480</td>\n",
       "      <td>COMPLETED</td>\n",
       "      <td>ALL</td>\n",
       "      <td>[CHILD, ADULT, OLDER_ADULT]</td>\n",
       "      <td>[PHASE2]</td>\n",
       "      <td>330.0</td>\n",
       "      <td>INDUSTRY</td>\n",
       "      <td>[Pharmaceutical]</td>\n",
       "      <td>[Analysis Plan, Protocol]</td>\n",
       "      <td>2</td>\n",
       "      <td>Yes</td>\n",
       "      <td>2021</td>\n",
       "      <td>2023</td>\n",
       "      <td>(2019, 2024]</td>\n",
       "      <td>(2019, 2024]</td>\n",
       "      <td>25</td>\n",
       "      <td>[Unknown]</td>\n",
       "      <td>...</td>\n",
       "      <td>QUADRUPLE</td>\n",
       "      <td>[OUTCOMES_ASSESSOR, INVESTIGATOR, PARTICIPANT,...</td>\n",
       "      <td>TREATMENT</td>\n",
       "      <td>[PRIMARY, SECONDARY]</td>\n",
       "      <td>2</td>\n",
       "      <td>Yes</td>\n",
       "      <td>1</td>\n",
       "      <td>[Asia]</td>\n",
       "      <td>1</td>\n",
       "      <td>30</td>\n",
       "      <td>5.802118</td>\n",
       "      <td>0</td>\n",
       "      <td>0</td>\n",
       "      <td>0</td>\n",
       "      <td>1</td>\n",
       "      <td>0</td>\n",
       "      <td>0</td>\n",
       "    </tr>\n",
       "  </tbody>\n",
       "</table>\n",
       "<p>2 rows × 52 columns</p>\n",
       "</div>"
      ],
      "text/plain": [
       "        nct_id Study Status     Sex                     Age_List  \\\n",
       "0  NCT04385680    COMPLETED  FEMALE         [ADULT, OLDER_ADULT]   \n",
       "1  NCT05017480    COMPLETED     ALL  [CHILD, ADULT, OLDER_ADULT]   \n",
       "\n",
       "             Phases  Enrollment Funder_Type Sponsor_Collab_List  \\\n",
       "0  [PHASE1, PHASE2]       840.0   OTHER_GOV        [University]   \n",
       "1          [PHASE2]       330.0    INDUSTRY    [Pharmaceutical]   \n",
       "\n",
       "        Study_Documents_List  Document_Counts Document_Counts_Bin  \\\n",
       "0                     [None]                0                  No   \n",
       "1  [Analysis Plan, Protocol]                2                 Yes   \n",
       "\n",
       "   Start_Date_Year  Completion_Date_Year Start_Date_Year_Categ  \\\n",
       "0             2020                  2022          (2019, 2024]   \n",
       "1             2021                  2023          (2019, 2024]   \n",
       "\n",
       "  Completion_Date_Year_Categ  Completion_Gap Intervention_Method_List  ...  \\\n",
       "0               (2019, 2024]              27                [Topical]  ...   \n",
       "1               (2019, 2024]              25                [Unknown]  ...   \n",
       "\n",
       "     Masking                                Masking_Detail_List  \\\n",
       "0     SINGLE                                      [PARTICIPANT]   \n",
       "1  QUADRUPLE  [OUTCOMES_ASSESSOR, INVESTIGATOR, PARTICIPANT,...   \n",
       "\n",
       "  Primary_Purpose         Outcomes_List Outcomes_Counts  Outcomes_Bin  \\\n",
       "0      PREVENTION                [None]               0            No   \n",
       "1       TREATMENT  [PRIMARY, SECONDARY]               2           Yes   \n",
       "\n",
       "  Country_Counts Continents_List  Continent_Counts City_Counts Enrollment_Log  \\\n",
       "0              1          [Asia]                 1           1       6.734592   \n",
       "1              1          [Asia]                 1          30       5.802118   \n",
       "\n",
       "   NOT_APPLICABLE PHASE0  PHASE1  PHASE2 PHASE3 PHASE4  \n",
       "0               0      0       1       1      0      0  \n",
       "1               0      0       0       1      0      0  \n",
       "\n",
       "[2 rows x 52 columns]"
      ]
     },
     "execution_count": 233,
     "metadata": {},
     "output_type": "execute_result"
    }
   ],
   "source": [
    "mlb = MultiLabelBinarizer()\n",
    "dummies = pd.DataFrame(mlb.fit_transform(df['Phases']), columns = mlb.classes_, index = df.index)\n",
    "df = pd.concat([df, dummies] , axis = 1)\n",
    "df.head(2)"
   ]
  },
  {
   "cell_type": "code",
   "execution_count": null,
   "metadata": {},
   "outputs": [
    {
     "data": {
      "text/plain": [
       "(2304, 46)"
      ]
     },
     "metadata": {},
     "output_type": "display_data"
    },
    {
     "data": {
      "text/plain": [
       "(27175, 46)"
      ]
     },
     "metadata": {},
     "output_type": "display_data"
    },
    {
     "data": {
      "text/plain": [
       "(28797, 46)"
      ]
     },
     "metadata": {},
     "output_type": "display_data"
    },
    {
     "data": {
      "text/plain": [
       "(16307, 46)"
      ]
     },
     "metadata": {},
     "output_type": "display_data"
    },
    {
     "data": {
      "text/plain": [
       "(13073, 46)"
      ]
     },
     "metadata": {},
     "output_type": "display_data"
    },
    {
     "data": {
      "text/plain": [
       "(97831, 46)"
      ]
     },
     "metadata": {},
     "output_type": "display_data"
    }
   ],
   "source": [
    "df0 = df[df[\"PHASE0\"] == 1].reset_index(drop = True).drop(columns = ['NOT_APPLICABLE', 'PHASE0', 'PHASE1','PHASE2', 'PHASE3', 'PHASE4'])\n",
    "df1 = df[df[\"PHASE1\"] == 1].reset_index(drop = True).drop(columns = ['NOT_APPLICABLE', 'PHASE0', 'PHASE1','PHASE2', 'PHASE3', 'PHASE4'])\n",
    "df2 = df[df[\"PHASE2\"] == 1].reset_index(drop = True).drop(columns = ['NOT_APPLICABLE', 'PHASE0', 'PHASE1','PHASE2', 'PHASE3', 'PHASE4'])\n",
    "df3 = df[df[\"PHASE3\"] == 1].reset_index(drop = True).drop(columns = ['NOT_APPLICABLE', 'PHASE0', 'PHASE1','PHASE2', 'PHASE3', 'PHASE4'])\n",
    "df4 = df[df[\"PHASE4\"] == 1].reset_index(drop = True).drop(columns = ['NOT_APPLICABLE', 'PHASE0', 'PHASE1','PHASE2', 'PHASE3', 'PHASE4'])\n",
    "df5 = df[df[\"NOT_APPLICABLE\"] == 1].reset_index(drop = True).drop(columns = ['NOT_APPLICABLE', 'PHASE0', 'PHASE1','PHASE2', 'PHASE3', 'PHASE4'])\n",
    "\n",
    "display(df0.shape)\n",
    "display(df1.shape)\n",
    "display(df2.shape)\n",
    "display(df3.shape)\n",
    "display(df4.shape)\n",
    "display(df5.shape)"
   ]
  },
  {
   "cell_type": "markdown",
   "metadata": {},
   "source": [
    "## Count_Categ_Columns"
   ]
  },
  {
   "cell_type": "code",
   "execution_count": 235,
   "metadata": {},
   "outputs": [
    {
     "data": {
      "text/plain": [
       "54"
      ]
     },
     "metadata": {},
     "output_type": "display_data"
    },
    {
     "data": {
      "application/vnd.microsoft.datawrangler.viewer.v0+json": {
       "columns": [
        {
         "name": "index",
         "rawType": "int64",
         "type": "integer"
        },
        {
         "name": "nct_id",
         "rawType": "object",
         "type": "string"
        },
        {
         "name": "Study Status",
         "rawType": "category",
         "type": "unknown"
        },
        {
         "name": "Termination",
         "rawType": "object",
         "type": "string"
        },
        {
         "name": "why_stopped",
         "rawType": "object",
         "type": "unknown"
        }
       ],
       "ref": "23a5a7e2-efca-4b94-baf9-da9249958cc3",
       "rows": [
        [
         "0",
         "NCT01899235",
         "TERMINATED",
         "Enrollment",
         "Slow recruitment"
        ],
        [
         "1",
         "NCT01444118",
         "TERMINATED",
         "Efficacy",
         "The early termination is not related to safety/toxicity but to initiate new Phase III with biomarker to enrich population \\& to further strengthen OS benefit"
        ],
        [
         "2",
         "NCT01705808",
         "TERMINATED",
         "None",
         null
        ],
        [
         "3",
         "NCT01801943",
         "TERMINATED",
         "Enrollment",
         "participants are no longer being examined or receiving intervention"
        ],
        [
         "4",
         "NCT02267551",
         "TERMINATED",
         "Enrollment",
         "low enrollment"
        ]
       ],
       "shape": {
        "columns": 4,
        "rows": 5
       }
      },
      "text/html": [
       "<div>\n",
       "<style scoped>\n",
       "    .dataframe tbody tr th:only-of-type {\n",
       "        vertical-align: middle;\n",
       "    }\n",
       "\n",
       "    .dataframe tbody tr th {\n",
       "        vertical-align: top;\n",
       "    }\n",
       "\n",
       "    .dataframe thead th {\n",
       "        text-align: right;\n",
       "    }\n",
       "</style>\n",
       "<table border=\"1\" class=\"dataframe\">\n",
       "  <thead>\n",
       "    <tr style=\"text-align: right;\">\n",
       "      <th></th>\n",
       "      <th>nct_id</th>\n",
       "      <th>Study Status</th>\n",
       "      <th>Termination</th>\n",
       "      <th>why_stopped</th>\n",
       "    </tr>\n",
       "  </thead>\n",
       "  <tbody>\n",
       "    <tr>\n",
       "      <th>0</th>\n",
       "      <td>NCT01899235</td>\n",
       "      <td>TERMINATED</td>\n",
       "      <td>Enrollment</td>\n",
       "      <td>Slow recruitment</td>\n",
       "    </tr>\n",
       "    <tr>\n",
       "      <th>1</th>\n",
       "      <td>NCT01444118</td>\n",
       "      <td>TERMINATED</td>\n",
       "      <td>Efficacy</td>\n",
       "      <td>The early termination is not related to safety...</td>\n",
       "    </tr>\n",
       "    <tr>\n",
       "      <th>2</th>\n",
       "      <td>NCT01705808</td>\n",
       "      <td>TERMINATED</td>\n",
       "      <td>None</td>\n",
       "      <td>None</td>\n",
       "    </tr>\n",
       "    <tr>\n",
       "      <th>3</th>\n",
       "      <td>NCT01801943</td>\n",
       "      <td>TERMINATED</td>\n",
       "      <td>Enrollment</td>\n",
       "      <td>participants are no longer being examined or r...</td>\n",
       "    </tr>\n",
       "    <tr>\n",
       "      <th>4</th>\n",
       "      <td>NCT02267551</td>\n",
       "      <td>TERMINATED</td>\n",
       "      <td>Enrollment</td>\n",
       "      <td>low enrollment</td>\n",
       "    </tr>\n",
       "  </tbody>\n",
       "</table>\n",
       "</div>"
      ],
      "text/plain": [
       "        nct_id Study Status Termination  \\\n",
       "0  NCT01899235   TERMINATED  Enrollment   \n",
       "1  NCT01444118   TERMINATED    Efficacy   \n",
       "2  NCT01705808   TERMINATED        None   \n",
       "3  NCT01801943   TERMINATED  Enrollment   \n",
       "4  NCT02267551   TERMINATED  Enrollment   \n",
       "\n",
       "                                         why_stopped  \n",
       "0                                   Slow recruitment  \n",
       "1  The early termination is not related to safety...  \n",
       "2                                               None  \n",
       "3  participants are no longer being examined or r...  \n",
       "4                                     low enrollment  "
      ]
     },
     "execution_count": 235,
     "metadata": {},
     "output_type": "execute_result"
    }
   ],
   "source": [
    "display(df['Enrollment'].isnull().sum())\n",
    "df_test = df.loc[(df['Enrollment'].isnull()) & (df['Study Status'] == 'TERMINATED')][['nct_id', 'Study Status', 'Termination']]\n",
    "df_test = pd.merge(left = df_test, right =  my_terminations2[['nct_id', 'why_stopped']], on='nct_id', how ='left')\n",
    "df_test # --> No values to be filled as 0"
   ]
  },
  {
   "cell_type": "markdown",
   "metadata": {},
   "source": [
    "### Enrollment_Categ"
   ]
  },
  {
   "cell_type": "code",
   "execution_count": 236,
   "metadata": {},
   "outputs": [
    {
     "data": {
      "application/vnd.microsoft.datawrangler.viewer.v0+json": {
       "columns": [
        {
         "name": "index",
         "rawType": "object",
         "type": "string"
        },
        {
         "name": "Enrollment",
         "rawType": "float64",
         "type": "float"
        }
       ],
       "ref": "6e971f2a-04f7-4c59-8a58-c9793e1a4fbc",
       "rows": [
        [
         "count",
         "2304.0"
        ],
        [
         "mean",
         "49.03125"
        ],
        [
         "std",
         "207.34201698179515"
        ],
        [
         "min",
         "0.0"
        ],
        [
         "25%",
         "7.0"
        ],
        [
         "50%",
         "20.0"
        ],
        [
         "75%",
         "43.0"
        ],
        [
         "max",
         "5998.0"
        ]
       ],
       "shape": {
        "columns": 1,
        "rows": 8
       }
      },
      "text/plain": [
       "count    2304.000000\n",
       "mean       49.031250\n",
       "std       207.342017\n",
       "min         0.000000\n",
       "25%         7.000000\n",
       "50%        20.000000\n",
       "75%        43.000000\n",
       "max      5998.000000\n",
       "Name: Enrollment, dtype: float64"
      ]
     },
     "metadata": {},
     "output_type": "display_data"
    },
    {
     "data": {
      "application/vnd.microsoft.datawrangler.viewer.v0+json": {
       "columns": [
        {
         "name": "index",
         "rawType": "object",
         "type": "string"
        },
        {
         "name": "Enrollment",
         "rawType": "float64",
         "type": "float"
        }
       ],
       "ref": "2e50a59e-4271-4b98-b037-61efc7ff0699",
       "rows": [
        [
         "count",
         "27167.0"
        ],
        [
         "mean",
         "46.90996429491663"
        ],
        [
         "std",
         "107.31639163379673"
        ],
        [
         "min",
         "0.0"
        ],
        [
         "25%",
         "14.0"
        ],
        [
         "50%",
         "28.0"
        ],
        [
         "75%",
         "51.0"
        ],
        [
         "max",
         "8231.0"
        ]
       ],
       "shape": {
        "columns": 1,
        "rows": 8
       }
      },
      "text/plain": [
       "count    27167.000000\n",
       "mean        46.909964\n",
       "std        107.316392\n",
       "min          0.000000\n",
       "25%         14.000000\n",
       "50%         28.000000\n",
       "75%         51.000000\n",
       "max       8231.000000\n",
       "Name: Enrollment, dtype: float64"
      ]
     },
     "metadata": {},
     "output_type": "display_data"
    },
    {
     "data": {
      "application/vnd.microsoft.datawrangler.viewer.v0+json": {
       "columns": [
        {
         "name": "index",
         "rawType": "object",
         "type": "string"
        },
        {
         "name": "Enrollment",
         "rawType": "float64",
         "type": "float"
        }
       ],
       "ref": "c1a431e7-96ea-437c-b8a5-4993e7f43c2f",
       "rows": [
        [
         "count",
         "28791.0"
        ],
        [
         "mean",
         "111.0113577159529"
        ],
        [
         "std",
         "1093.74062028884"
        ],
        [
         "min",
         "0.0"
        ],
        [
         "25%",
         "15.0"
        ],
        [
         "50%",
         "41.0"
        ],
        [
         "75%",
         "100.0"
        ],
        [
         "max",
         "144539.0"
        ]
       ],
       "shape": {
        "columns": 1,
        "rows": 8
       }
      },
      "text/plain": [
       "count     28791.000000\n",
       "mean        111.011358\n",
       "std        1093.740620\n",
       "min           0.000000\n",
       "25%          15.000000\n",
       "50%          41.000000\n",
       "75%         100.000000\n",
       "max      144539.000000\n",
       "Name: Enrollment, dtype: float64"
      ]
     },
     "metadata": {},
     "output_type": "display_data"
    },
    {
     "data": {
      "application/vnd.microsoft.datawrangler.viewer.v0+json": {
       "columns": [
        {
         "name": "index",
         "rawType": "object",
         "type": "string"
        },
        {
         "name": "Enrollment",
         "rawType": "float64",
         "type": "float"
        }
       ],
       "ref": "3436f506-a7d2-4c08-8fc3-95bcf2df225a",
       "rows": [
        [
         "count",
         "16299.0"
        ],
        [
         "mean",
         "568.0066261733849"
        ],
        [
         "std",
         "4944.84530564686"
        ],
        [
         "min",
         "0.0"
        ],
        [
         "25%",
         "52.0"
        ],
        [
         "50%",
         "159.0"
        ],
        [
         "75%",
         "419.0"
        ],
        [
         "max",
         "477102.0"
        ]
       ],
       "shape": {
        "columns": 1,
        "rows": 8
       }
      },
      "text/plain": [
       "count     16299.000000\n",
       "mean        568.006626\n",
       "std        4944.845306\n",
       "min           0.000000\n",
       "25%          52.000000\n",
       "50%         159.000000\n",
       "75%         419.000000\n",
       "max      477102.000000\n",
       "Name: Enrollment, dtype: float64"
      ]
     },
     "metadata": {},
     "output_type": "display_data"
    },
    {
     "data": {
      "application/vnd.microsoft.datawrangler.viewer.v0+json": {
       "columns": [
        {
         "name": "index",
         "rawType": "object",
         "type": "string"
        },
        {
         "name": "Enrollment",
         "rawType": "float64",
         "type": "float"
        }
       ],
       "ref": "b00e47dc-5d3c-45e9-9d03-6530b5823e3e",
       "rows": [
        [
         "count",
         "13070.0"
        ],
        [
         "mean",
         "390.85998469778116"
        ],
        [
         "std",
         "5927.643854819752"
        ],
        [
         "min",
         "0.0"
        ],
        [
         "25%",
         "25.0"
        ],
        [
         "50%",
         "60.0"
        ],
        [
         "75%",
         "139.75"
        ],
        [
         "max",
         "393387.0"
        ]
       ],
       "shape": {
        "columns": 1,
        "rows": 8
       }
      },
      "text/plain": [
       "count     13070.000000\n",
       "mean        390.859985\n",
       "std        5927.643855\n",
       "min           0.000000\n",
       "25%          25.000000\n",
       "50%          60.000000\n",
       "75%         139.750000\n",
       "max      393387.000000\n",
       "Name: Enrollment, dtype: float64"
      ]
     },
     "metadata": {},
     "output_type": "display_data"
    },
    {
     "data": {
      "application/vnd.microsoft.datawrangler.viewer.v0+json": {
       "columns": [
        {
         "name": "index",
         "rawType": "object",
         "type": "string"
        },
        {
         "name": "Enrollment",
         "rawType": "float64",
         "type": "float"
        }
       ],
       "ref": "a6e931e8-faa2-4818-90f4-9bc03d2fcffa",
       "rows": [
        [
         "count",
         "97801.0"
        ],
        [
         "mean",
         "1065.2572161838837"
        ],
        [
         "std",
         "78888.49264842864"
        ],
        [
         "min",
         "0.0"
        ],
        [
         "25%",
         "24.0"
        ],
        [
         "50%",
         "52.0"
        ],
        [
         "75%",
         "112.0"
        ],
        [
         "max",
         "20121212.0"
        ]
       ],
       "shape": {
        "columns": 1,
        "rows": 8
       }
      },
      "text/plain": [
       "count    9.780100e+04\n",
       "mean     1.065257e+03\n",
       "std      7.888849e+04\n",
       "min      0.000000e+00\n",
       "25%      2.400000e+01\n",
       "50%      5.200000e+01\n",
       "75%      1.120000e+02\n",
       "max      2.012121e+07\n",
       "Name: Enrollment, dtype: float64"
      ]
     },
     "metadata": {},
     "output_type": "display_data"
    },
    {
     "data": {
      "application/vnd.microsoft.datawrangler.viewer.v0+json": {
       "columns": [
        {
         "name": "index",
         "rawType": "int64",
         "type": "integer"
        },
        {
         "name": "Enrollment_Categ",
         "rawType": "category",
         "type": "unknown"
        }
       ],
       "ref": "c2c499b3-e164-4fb8-9990-dcca4bd19523",
       "rows": [
        [
         "0",
         "(0.0, 20.0]"
        ],
        [
         "1",
         "(20.0, 5998.0]"
        ],
        [
         "2",
         "(20.0, 5998.0]"
        ],
        [
         "3",
         "(0.0, 20.0]"
        ],
        [
         "4",
         "(20.0, 5998.0]"
        ],
        [
         "5",
         "(20.0, 5998.0]"
        ],
        [
         "6",
         "(0.0, 20.0]"
        ],
        [
         "7",
         "(20.0, 5998.0]"
        ],
        [
         "8",
         "(0.0, 20.0]"
        ],
        [
         "9",
         "(0.0, 20.0]"
        ],
        [
         "10",
         "(0.0, 20.0]"
        ],
        [
         "11",
         "(0.0, 20.0]"
        ],
        [
         "12",
         null
        ],
        [
         "13",
         "(0.0, 20.0]"
        ],
        [
         "14",
         "(20.0, 5998.0]"
        ],
        [
         "15",
         "(0.0, 20.0]"
        ],
        [
         "16",
         "(20.0, 5998.0]"
        ],
        [
         "17",
         "(20.0, 5998.0]"
        ],
        [
         "18",
         "(20.0, 5998.0]"
        ],
        [
         "19",
         "(0.0, 20.0]"
        ],
        [
         "20",
         "(0.0, 20.0]"
        ],
        [
         "21",
         "(20.0, 5998.0]"
        ],
        [
         "22",
         "(20.0, 5998.0]"
        ],
        [
         "23",
         null
        ],
        [
         "24",
         "(20.0, 5998.0]"
        ],
        [
         "25",
         "(0.0, 20.0]"
        ],
        [
         "26",
         "(0.0, 20.0]"
        ],
        [
         "27",
         "(0.0, 20.0]"
        ],
        [
         "28",
         "(0.0, 20.0]"
        ],
        [
         "29",
         "(20.0, 5998.0]"
        ],
        [
         "30",
         "(0.0, 20.0]"
        ],
        [
         "31",
         "(0.0, 20.0]"
        ],
        [
         "32",
         "(20.0, 5998.0]"
        ],
        [
         "33",
         "(20.0, 5998.0]"
        ],
        [
         "34",
         "(20.0, 5998.0]"
        ],
        [
         "35",
         "(0.0, 20.0]"
        ],
        [
         "36",
         "(20.0, 5998.0]"
        ],
        [
         "37",
         "(20.0, 5998.0]"
        ],
        [
         "38",
         "(0.0, 20.0]"
        ],
        [
         "39",
         "(0.0, 20.0]"
        ],
        [
         "40",
         "(0.0, 20.0]"
        ],
        [
         "41",
         "(20.0, 5998.0]"
        ],
        [
         "42",
         null
        ],
        [
         "43",
         "(0.0, 20.0]"
        ],
        [
         "44",
         "(20.0, 5998.0]"
        ],
        [
         "45",
         "(20.0, 5998.0]"
        ],
        [
         "46",
         "(20.0, 5998.0]"
        ],
        [
         "47",
         "(20.0, 5998.0]"
        ],
        [
         "48",
         "(0.0, 20.0]"
        ],
        [
         "49",
         "(0.0, 20.0]"
        ]
       ],
       "shape": {
        "columns": 1,
        "rows": 2304
       }
      },
      "text/plain": [
       "0          (0.0, 20.0]\n",
       "1       (20.0, 5998.0]\n",
       "2       (20.0, 5998.0]\n",
       "3          (0.0, 20.0]\n",
       "4       (20.0, 5998.0]\n",
       "             ...      \n",
       "2299       (0.0, 20.0]\n",
       "2300    (20.0, 5998.0]\n",
       "2301    (20.0, 5998.0]\n",
       "2302       (0.0, 20.0]\n",
       "2303       (0.0, 20.0]\n",
       "Name: Enrollment_Categ, Length: 2304, dtype: category\n",
       "Categories (2, interval[float64, right]): [(0.0, 20.0] < (20.0, 5998.0]]"
      ]
     },
     "metadata": {},
     "output_type": "display_data"
    },
    {
     "data": {
      "text/plain": [
       "(177586, 52)"
      ]
     },
     "metadata": {},
     "output_type": "display_data"
    }
   ],
   "source": [
    "display(df0['Enrollment'].describe())\n",
    "display(df1['Enrollment'].describe())\n",
    "display(df2['Enrollment'].describe())\n",
    "display(df3['Enrollment'].describe())\n",
    "display(df4['Enrollment'].describe())\n",
    "display(df5['Enrollment'].describe())\n",
    "\n",
    "df0['Enrollment_Categ'] = pd.cut(df0[\"Enrollment\"], bins = [df0[\"Enrollment\"].min(), df0[\"Enrollment\"].median(), df0[\"Enrollment\"].max()], ordered = True, include_lowest = False)\n",
    "df1['Enrollment_Categ'] = pd.cut(df1[\"Enrollment\"], bins = [df1[\"Enrollment\"].min(), df1[\"Enrollment\"].median(), df1[\"Enrollment\"].max()], ordered = True, include_lowest = False)\n",
    "df2['Enrollment_Categ'] = pd.cut(df2[\"Enrollment\"], bins = [df2[\"Enrollment\"].min(), df2[\"Enrollment\"].median(), df2[\"Enrollment\"].max()], ordered = True, include_lowest = False)\n",
    "df3['Enrollment_Categ'] = pd.cut(df3[\"Enrollment\"], bins = [df3[\"Enrollment\"].min(), df3[\"Enrollment\"].median(), df3[\"Enrollment\"].max()], ordered = True, include_lowest = False)\n",
    "df4['Enrollment_Categ'] = pd.cut(df4[\"Enrollment\"], bins = [df4[\"Enrollment\"].min(), df4[\"Enrollment\"].median(), df4[\"Enrollment\"].max()], ordered = True, include_lowest = False)\n",
    "df5['Enrollment_Categ'] = pd.cut(df5[\"Enrollment\"], bins = [df5[\"Enrollment\"].min(), df5[\"Enrollment\"].median(), df5[\"Enrollment\"].max()], ordered = True, include_lowest = False)\n",
    "\n",
    "display(df0[\"Enrollment_Categ\"])\n",
    "display(df.shape)"
   ]
  },
  {
   "cell_type": "markdown",
   "metadata": {},
   "source": [
    "### Document_Counts_Categ"
   ]
  },
  {
   "cell_type": "code",
   "execution_count": 237,
   "metadata": {},
   "outputs": [
    {
     "data": {
      "application/vnd.microsoft.datawrangler.viewer.v0+json": {
       "columns": [
        {
         "name": "index",
         "rawType": "object",
         "type": "string"
        },
        {
         "name": "Document_Counts",
         "rawType": "float64",
         "type": "float"
        }
       ],
       "ref": "a0fe87e7-cc9b-4582-ba16-5f19fe3f95ca",
       "rows": [
        [
         "count",
         "2304.0"
        ],
        [
         "mean",
         "0.3138020833333333"
        ],
        [
         "std",
         "0.80168111840686"
        ],
        [
         "min",
         "0.0"
        ],
        [
         "25%",
         "0.0"
        ],
        [
         "50%",
         "0.0"
        ],
        [
         "75%",
         "0.0"
        ],
        [
         "max",
         "3.0"
        ]
       ],
       "shape": {
        "columns": 1,
        "rows": 8
       }
      },
      "text/plain": [
       "count    2304.000000\n",
       "mean        0.313802\n",
       "std         0.801681\n",
       "min         0.000000\n",
       "25%         0.000000\n",
       "50%         0.000000\n",
       "75%         0.000000\n",
       "max         3.000000\n",
       "Name: Document_Counts, dtype: float64"
      ]
     },
     "metadata": {},
     "output_type": "display_data"
    },
    {
     "data": {
      "application/vnd.microsoft.datawrangler.viewer.v0+json": {
       "columns": [
        {
         "name": "index",
         "rawType": "object",
         "type": "string"
        },
        {
         "name": "Document_Counts",
         "rawType": "float64",
         "type": "float"
        }
       ],
       "ref": "f4f48486-b4da-4ee4-92e4-19665161521f",
       "rows": [
        [
         "count",
         "27175.0"
        ],
        [
         "mean",
         "0.3198528058877645"
        ],
        [
         "std",
         "0.7717752161702764"
        ],
        [
         "min",
         "0.0"
        ],
        [
         "25%",
         "0.0"
        ],
        [
         "50%",
         "0.0"
        ],
        [
         "75%",
         "0.0"
        ],
        [
         "max",
         "3.0"
        ]
       ],
       "shape": {
        "columns": 1,
        "rows": 8
       }
      },
      "text/plain": [
       "count    27175.000000\n",
       "mean         0.319853\n",
       "std          0.771775\n",
       "min          0.000000\n",
       "25%          0.000000\n",
       "50%          0.000000\n",
       "75%          0.000000\n",
       "max          3.000000\n",
       "Name: Document_Counts, dtype: float64"
      ]
     },
     "metadata": {},
     "output_type": "display_data"
    },
    {
     "data": {
      "application/vnd.microsoft.datawrangler.viewer.v0+json": {
       "columns": [
        {
         "name": "index",
         "rawType": "object",
         "type": "string"
        },
        {
         "name": "Document_Counts",
         "rawType": "float64",
         "type": "float"
        }
       ],
       "ref": "b2c08bc6-cd1f-4666-b5f3-d5b7e3562732",
       "rows": [
        [
         "count",
         "28797.0"
        ],
        [
         "mean",
         "0.6696530888634232"
        ],
        [
         "std",
         "1.010337075187928"
        ],
        [
         "min",
         "0.0"
        ],
        [
         "25%",
         "0.0"
        ],
        [
         "50%",
         "0.0"
        ],
        [
         "75%",
         "2.0"
        ],
        [
         "max",
         "3.0"
        ]
       ],
       "shape": {
        "columns": 1,
        "rows": 8
       }
      },
      "text/plain": [
       "count    28797.000000\n",
       "mean         0.669653\n",
       "std          1.010337\n",
       "min          0.000000\n",
       "25%          0.000000\n",
       "50%          0.000000\n",
       "75%          2.000000\n",
       "max          3.000000\n",
       "Name: Document_Counts, dtype: float64"
      ]
     },
     "metadata": {},
     "output_type": "display_data"
    },
    {
     "data": {
      "application/vnd.microsoft.datawrangler.viewer.v0+json": {
       "columns": [
        {
         "name": "index",
         "rawType": "object",
         "type": "string"
        },
        {
         "name": "Document_Counts",
         "rawType": "float64",
         "type": "float"
        }
       ],
       "ref": "11a8445f-0e06-4e8d-a196-eaf15a7022fa",
       "rows": [
        [
         "count",
         "16307.0"
        ],
        [
         "mean",
         "0.6038511068866131"
        ],
        [
         "std",
         "0.9511842680276928"
        ],
        [
         "min",
         "0.0"
        ],
        [
         "25%",
         "0.0"
        ],
        [
         "50%",
         "0.0"
        ],
        [
         "75%",
         "2.0"
        ],
        [
         "max",
         "3.0"
        ]
       ],
       "shape": {
        "columns": 1,
        "rows": 8
       }
      },
      "text/plain": [
       "count    16307.000000\n",
       "mean         0.603851\n",
       "std          0.951184\n",
       "min          0.000000\n",
       "25%          0.000000\n",
       "50%          0.000000\n",
       "75%          2.000000\n",
       "max          3.000000\n",
       "Name: Document_Counts, dtype: float64"
      ]
     },
     "metadata": {},
     "output_type": "display_data"
    },
    {
     "data": {
      "application/vnd.microsoft.datawrangler.viewer.v0+json": {
       "columns": [
        {
         "name": "index",
         "rawType": "object",
         "type": "string"
        },
        {
         "name": "Document_Counts",
         "rawType": "float64",
         "type": "float"
        }
       ],
       "ref": "0403db44-3383-4700-bf7c-b387afcc597e",
       "rows": [
        [
         "count",
         "13073.0"
        ],
        [
         "mean",
         "0.4543716055993269"
        ],
        [
         "std",
         "0.8995201640916145"
        ],
        [
         "min",
         "0.0"
        ],
        [
         "25%",
         "0.0"
        ],
        [
         "50%",
         "0.0"
        ],
        [
         "75%",
         "0.0"
        ],
        [
         "max",
         "3.0"
        ]
       ],
       "shape": {
        "columns": 1,
        "rows": 8
       }
      },
      "text/plain": [
       "count    13073.000000\n",
       "mean         0.454372\n",
       "std          0.899520\n",
       "min          0.000000\n",
       "25%          0.000000\n",
       "50%          0.000000\n",
       "75%          0.000000\n",
       "max          3.000000\n",
       "Name: Document_Counts, dtype: float64"
      ]
     },
     "metadata": {},
     "output_type": "display_data"
    },
    {
     "data": {
      "application/vnd.microsoft.datawrangler.viewer.v0+json": {
       "columns": [
        {
         "name": "index",
         "rawType": "object",
         "type": "string"
        },
        {
         "name": "Document_Counts",
         "rawType": "float64",
         "type": "float"
        }
       ],
       "ref": "b7b5491b-22cf-4aa1-8842-6f82905a26c0",
       "rows": [
        [
         "count",
         "97831.0"
        ],
        [
         "mean",
         "0.2833457697457861"
        ],
        [
         "std",
         "0.7570423416490262"
        ],
        [
         "min",
         "0.0"
        ],
        [
         "25%",
         "0.0"
        ],
        [
         "50%",
         "0.0"
        ],
        [
         "75%",
         "0.0"
        ],
        [
         "max",
         "3.0"
        ]
       ],
       "shape": {
        "columns": 1,
        "rows": 8
       }
      },
      "text/plain": [
       "count    97831.000000\n",
       "mean         0.283346\n",
       "std          0.757042\n",
       "min          0.000000\n",
       "25%          0.000000\n",
       "50%          0.000000\n",
       "75%          0.000000\n",
       "max          3.000000\n",
       "Name: Document_Counts, dtype: float64"
      ]
     },
     "metadata": {},
     "output_type": "display_data"
    },
    {
     "data": {
      "application/vnd.microsoft.datawrangler.viewer.v0+json": {
       "columns": [
        {
         "name": "index",
         "rawType": "int64",
         "type": "integer"
        },
        {
         "name": "Document_Counts_Categ",
         "rawType": "category",
         "type": "unknown"
        }
       ],
       "ref": "e5ba9fcc-43b9-44b3-81fe-b0cbe6f59f08",
       "rows": [
        [
         "0",
         null
        ],
        [
         "1",
         null
        ],
        [
         "2",
         null
        ],
        [
         "3",
         null
        ],
        [
         "4",
         null
        ]
       ],
       "shape": {
        "columns": 1,
        "rows": 5
       }
      },
      "text/plain": [
       "0    NaN\n",
       "1    NaN\n",
       "2    NaN\n",
       "3    NaN\n",
       "4    NaN\n",
       "Name: Document_Counts_Categ, dtype: category\n",
       "Categories (2, interval[int64, right]): [(0, 1] < (1, 3]]"
      ]
     },
     "execution_count": 237,
     "metadata": {},
     "output_type": "execute_result"
    }
   ],
   "source": [
    "display(df0['Document_Counts'].describe())\n",
    "display(df1['Document_Counts'].describe())\n",
    "display(df2['Document_Counts'].describe())\n",
    "display(df3['Document_Counts'].describe())\n",
    "display(df4['Document_Counts'].describe())\n",
    "display(df5['Document_Counts'].describe())\n",
    "\n",
    "df0['Document_Counts_Categ'] = pd.cut(df0[\"Document_Counts\"], bins = [df0['Document_Counts'].min(), 1, df0['Document_Counts'].max()], ordered = True, include_lowest = False)\n",
    "df1['Document_Counts_Categ'] = pd.cut(df1[\"Document_Counts\"], bins = [df1['Document_Counts'].min(), 1, df1['Document_Counts'].max()], ordered = True, include_lowest = False)\n",
    "df2['Document_Counts_Categ'] = pd.cut(df2[\"Document_Counts\"], bins = [df2['Document_Counts'].min(), 1, df2['Document_Counts'].max()], ordered = True, include_lowest = False)\n",
    "df3['Document_Counts_Categ'] = pd.cut(df3[\"Document_Counts\"], bins = [df3['Document_Counts'].min(), 1, df3['Document_Counts'].max()], ordered = True, include_lowest = False)\n",
    "df4['Document_Counts_Categ'] = pd.cut(df4[\"Document_Counts\"], bins = [df4['Document_Counts'].min(), 1, df4['Document_Counts'].max()], ordered = True, include_lowest = False)\n",
    "df5['Document_Counts_Categ'] = pd.cut(df5[\"Document_Counts\"], bins = [df5['Document_Counts'].min(), 1, df5['Document_Counts'].max()], ordered = True, include_lowest = False)\n",
    "\n",
    "df0[\"Document_Counts_Categ\"].head()\n"
   ]
  },
  {
   "cell_type": "markdown",
   "metadata": {},
   "source": [
    "### Outcomes_Counts_Categ"
   ]
  },
  {
   "cell_type": "code",
   "execution_count": 253,
   "metadata": {},
   "outputs": [
    {
     "data": {
      "application/vnd.microsoft.datawrangler.viewer.v0+json": {
       "columns": [
        {
         "name": "index",
         "rawType": "object",
         "type": "string"
        },
        {
         "name": "Outcomes_Counts",
         "rawType": "float64",
         "type": "float"
        }
       ],
       "ref": "1aa353b2-9768-48ca-9449-ac8f545b256a",
       "rows": [
        [
         "count",
         "2304.0"
        ],
        [
         "mean",
         "0.2439236111111111"
        ],
        [
         "std",
         "0.6585932621226837"
        ],
        [
         "min",
         "0.0"
        ],
        [
         "25%",
         "0.0"
        ],
        [
         "50%",
         "0.0"
        ],
        [
         "75%",
         "0.0"
        ],
        [
         "max",
         "4.0"
        ]
       ],
       "shape": {
        "columns": 1,
        "rows": 8
       }
      },
      "text/plain": [
       "count    2304.000000\n",
       "mean        0.243924\n",
       "std         0.658593\n",
       "min         0.000000\n",
       "25%         0.000000\n",
       "50%         0.000000\n",
       "75%         0.000000\n",
       "max         4.000000\n",
       "Name: Outcomes_Counts, dtype: float64"
      ]
     },
     "metadata": {},
     "output_type": "display_data"
    },
    {
     "data": {
      "application/vnd.microsoft.datawrangler.viewer.v0+json": {
       "columns": [
        {
         "name": "index",
         "rawType": "object",
         "type": "string"
        },
        {
         "name": "Outcomes_Counts",
         "rawType": "float64",
         "type": "float"
        }
       ],
       "ref": "86aca167-17d9-4941-8274-a76ecc55fd47",
       "rows": [
        [
         "count",
         "27175.0"
        ],
        [
         "mean",
         "0.40529898804047837"
        ],
        [
         "std",
         "0.8094813541832665"
        ],
        [
         "min",
         "0.0"
        ],
        [
         "25%",
         "0.0"
        ],
        [
         "50%",
         "0.0"
        ],
        [
         "75%",
         "0.0"
        ],
        [
         "max",
         "4.0"
        ]
       ],
       "shape": {
        "columns": 1,
        "rows": 8
       }
      },
      "text/plain": [
       "count    27175.000000\n",
       "mean         0.405299\n",
       "std          0.809481\n",
       "min          0.000000\n",
       "25%          0.000000\n",
       "50%          0.000000\n",
       "75%          0.000000\n",
       "max          4.000000\n",
       "Name: Outcomes_Counts, dtype: float64"
      ]
     },
     "metadata": {},
     "output_type": "display_data"
    },
    {
     "data": {
      "application/vnd.microsoft.datawrangler.viewer.v0+json": {
       "columns": [
        {
         "name": "index",
         "rawType": "object",
         "type": "string"
        },
        {
         "name": "Outcomes_Counts",
         "rawType": "float64",
         "type": "float"
        }
       ],
       "ref": "83b6c8cd-9e19-40a3-9dc5-a4e0c5021be8",
       "rows": [
        [
         "count",
         "28797.0"
        ],
        [
         "mean",
         "0.8561655728027225"
        ],
        [
         "std",
         "1.0267676967701136"
        ],
        [
         "min",
         "0.0"
        ],
        [
         "25%",
         "0.0"
        ],
        [
         "50%",
         "0.0"
        ],
        [
         "75%",
         "2.0"
        ],
        [
         "max",
         "4.0"
        ]
       ],
       "shape": {
        "columns": 1,
        "rows": 8
       }
      },
      "text/plain": [
       "count    28797.000000\n",
       "mean         0.856166\n",
       "std          1.026768\n",
       "min          0.000000\n",
       "25%          0.000000\n",
       "50%          0.000000\n",
       "75%          2.000000\n",
       "max          4.000000\n",
       "Name: Outcomes_Counts, dtype: float64"
      ]
     },
     "metadata": {},
     "output_type": "display_data"
    },
    {
     "data": {
      "application/vnd.microsoft.datawrangler.viewer.v0+json": {
       "columns": [
        {
         "name": "index",
         "rawType": "object",
         "type": "string"
        },
        {
         "name": "Outcomes_Counts",
         "rawType": "float64",
         "type": "float"
        }
       ],
       "ref": "1b667cfa-65cc-45d2-a9d0-ac514a2c6b0c",
       "rows": [
        [
         "count",
         "16307.0"
        ],
        [
         "mean",
         "0.9188078739191758"
        ],
        [
         "std",
         "1.0333724191551121"
        ],
        [
         "min",
         "0.0"
        ],
        [
         "25%",
         "0.0"
        ],
        [
         "50%",
         "0.0"
        ],
        [
         "75%",
         "2.0"
        ],
        [
         "max",
         "4.0"
        ]
       ],
       "shape": {
        "columns": 1,
        "rows": 8
       }
      },
      "text/plain": [
       "count    16307.000000\n",
       "mean         0.918808\n",
       "std          1.033372\n",
       "min          0.000000\n",
       "25%          0.000000\n",
       "50%          0.000000\n",
       "75%          2.000000\n",
       "max          4.000000\n",
       "Name: Outcomes_Counts, dtype: float64"
      ]
     },
     "metadata": {},
     "output_type": "display_data"
    },
    {
     "data": {
      "application/vnd.microsoft.datawrangler.viewer.v0+json": {
       "columns": [
        {
         "name": "index",
         "rawType": "object",
         "type": "string"
        },
        {
         "name": "Outcomes_Counts",
         "rawType": "float64",
         "type": "float"
        }
       ],
       "ref": "662db890-fff4-4e3c-96e9-f1e1bf1f31e1",
       "rows": [
        [
         "count",
         "13073.0"
        ],
        [
         "mean",
         "0.6326015451694332"
        ],
        [
         "std",
         "0.9427615600171444"
        ],
        [
         "min",
         "0.0"
        ],
        [
         "25%",
         "0.0"
        ],
        [
         "50%",
         "0.0"
        ],
        [
         "75%",
         "2.0"
        ],
        [
         "max",
         "4.0"
        ]
       ],
       "shape": {
        "columns": 1,
        "rows": 8
       }
      },
      "text/plain": [
       "count    13073.000000\n",
       "mean         0.632602\n",
       "std          0.942762\n",
       "min          0.000000\n",
       "25%          0.000000\n",
       "50%          0.000000\n",
       "75%          2.000000\n",
       "max          4.000000\n",
       "Name: Outcomes_Counts, dtype: float64"
      ]
     },
     "metadata": {},
     "output_type": "display_data"
    },
    {
     "data": {
      "application/vnd.microsoft.datawrangler.viewer.v0+json": {
       "columns": [
        {
         "name": "index",
         "rawType": "object",
         "type": "string"
        },
        {
         "name": "Outcomes_Counts",
         "rawType": "float64",
         "type": "float"
        }
       ],
       "ref": "192be736-ead9-4ddc-9da8-73526823e991",
       "rows": [
        [
         "count",
         "97831.0"
        ],
        [
         "mean",
         "0.2681052018276415"
        ],
        [
         "std",
         "0.6897481541943278"
        ],
        [
         "min",
         "0.0"
        ],
        [
         "25%",
         "0.0"
        ],
        [
         "50%",
         "0.0"
        ],
        [
         "75%",
         "0.0"
        ],
        [
         "max",
         "4.0"
        ]
       ],
       "shape": {
        "columns": 1,
        "rows": 8
       }
      },
      "text/plain": [
       "count    97831.000000\n",
       "mean         0.268105\n",
       "std          0.689748\n",
       "min          0.000000\n",
       "25%          0.000000\n",
       "50%          0.000000\n",
       "75%          0.000000\n",
       "max          4.000000\n",
       "Name: Outcomes_Counts, dtype: float64"
      ]
     },
     "metadata": {},
     "output_type": "display_data"
    },
    {
     "data": {
      "application/vnd.microsoft.datawrangler.viewer.v0+json": {
       "columns": [
        {
         "name": "index",
         "rawType": "int64",
         "type": "integer"
        },
        {
         "name": "Outcomes_Counts_Categ",
         "rawType": "category",
         "type": "unknown"
        }
       ],
       "ref": "d1366952-ca4d-4de6-9615-f2d9fe49bb49",
       "rows": [
        [
         "0",
         null
        ],
        [
         "1",
         null
        ],
        [
         "2",
         null
        ],
        [
         "3",
         null
        ],
        [
         "4",
         null
        ]
       ],
       "shape": {
        "columns": 1,
        "rows": 5
       }
      },
      "text/plain": [
       "0    NaN\n",
       "1    NaN\n",
       "2    NaN\n",
       "3    NaN\n",
       "4    NaN\n",
       "Name: Outcomes_Counts_Categ, dtype: category\n",
       "Categories (2, interval[int64, right]): [(0, 1] < (1, 4]]"
      ]
     },
     "execution_count": 253,
     "metadata": {},
     "output_type": "execute_result"
    }
   ],
   "source": [
    "display(df0['Outcomes_Counts'].describe())\n",
    "display(df1['Outcomes_Counts'].describe())\n",
    "display(df2['Outcomes_Counts'].describe())\n",
    "display(df3['Outcomes_Counts'].describe())\n",
    "display(df4['Outcomes_Counts'].describe())\n",
    "display(df5['Outcomes_Counts'].describe())\n",
    "\n",
    "df0['Outcomes_Counts_Categ'] = pd.cut(df0[\"Outcomes_Counts\"], bins = [df0['Outcomes_Counts'].min(), 1, df0['Outcomes_Counts'].max()], ordered = True, include_lowest = False)\n",
    "df1['Outcomes_Counts_Categ'] = pd.cut(df1[\"Outcomes_Counts\"], bins = [df1['Outcomes_Counts'].min(), 1, df1['Outcomes_Counts'].max()], ordered = True, include_lowest = False)\n",
    "df2['Outcomes_Counts_Categ'] = pd.cut(df2[\"Outcomes_Counts\"], bins = [df2['Outcomes_Counts'].min(), 1, df2['Outcomes_Counts'].max()], ordered = True, include_lowest = False)\n",
    "df3['Outcomes_Counts_Categ'] = pd.cut(df3[\"Outcomes_Counts\"], bins = [df3['Outcomes_Counts'].min(), 1, df3['Outcomes_Counts'].max()], ordered = True, include_lowest = False)\n",
    "df4['Outcomes_Counts_Categ'] = pd.cut(df4[\"Outcomes_Counts\"], bins = [df4['Outcomes_Counts'].min(), 1, df4['Outcomes_Counts'].max()], ordered = True, include_lowest = False)\n",
    "df5['Outcomes_Counts_Categ'] = pd.cut(df5[\"Outcomes_Counts\"], bins = [df5['Outcomes_Counts'].min(), 1, df5['Outcomes_Counts'].max()], ordered = True, include_lowest = False)\n",
    "\n",
    "df0[\"Outcomes_Counts_Categ\"].head()"
   ]
  },
  {
   "cell_type": "markdown",
   "metadata": {},
   "source": [
    "### Adverse_Counts_Categ\n",
    "- Many values out of main distribution (around 0) --> No pd.Cut --> use just binary (Adverse_Bin)?"
   ]
  },
  {
   "cell_type": "code",
   "execution_count": 238,
   "metadata": {},
   "outputs": [
    {
     "data": {
      "application/vnd.microsoft.datawrangler.viewer.v0+json": {
       "columns": [
        {
         "name": "index",
         "rawType": "object",
         "type": "string"
        },
        {
         "name": "Adverse_Counts",
         "rawType": "float64",
         "type": "float"
        }
       ],
       "ref": "13f27215-75fd-4170-b802-05c540bed4a0",
       "rows": [
        [
         "count",
         "2304.0"
        ],
        [
         "mean",
         "0.98046875"
        ],
        [
         "std",
         "6.281295804515613"
        ],
        [
         "min",
         "0.0"
        ],
        [
         "25%",
         "0.0"
        ],
        [
         "50%",
         "0.0"
        ],
        [
         "75%",
         "0.0"
        ],
        [
         "max",
         "130.0"
        ]
       ],
       "shape": {
        "columns": 1,
        "rows": 8
       }
      },
      "text/plain": [
       "count    2304.000000\n",
       "mean        0.980469\n",
       "std         6.281296\n",
       "min         0.000000\n",
       "25%         0.000000\n",
       "50%         0.000000\n",
       "75%         0.000000\n",
       "max       130.000000\n",
       "Name: Adverse_Counts, dtype: float64"
      ]
     },
     "metadata": {},
     "output_type": "display_data"
    },
    {
     "data": {
      "application/vnd.microsoft.datawrangler.viewer.v0+json": {
       "columns": [
        {
         "name": "index",
         "rawType": "object",
         "type": "string"
        },
        {
         "name": "Adverse_Counts",
         "rawType": "float64",
         "type": "float"
        }
       ],
       "ref": "4bd05f07-8cf8-4363-9aee-3d5e6fb429cc",
       "rows": [
        [
         "count",
         "27175.0"
        ],
        [
         "mean",
         "9.194921803127874"
        ],
        [
         "std",
         "58.66726419100898"
        ],
        [
         "min",
         "0.0"
        ],
        [
         "25%",
         "0.0"
        ],
        [
         "50%",
         "0.0"
        ],
        [
         "75%",
         "0.0"
        ],
        [
         "max",
         "3385.0"
        ]
       ],
       "shape": {
        "columns": 1,
        "rows": 8
       }
      },
      "text/plain": [
       "count    27175.000000\n",
       "mean         9.194922\n",
       "std         58.667264\n",
       "min          0.000000\n",
       "25%          0.000000\n",
       "50%          0.000000\n",
       "75%          0.000000\n",
       "max       3385.000000\n",
       "Name: Adverse_Counts, dtype: float64"
      ]
     },
     "metadata": {},
     "output_type": "display_data"
    },
    {
     "data": {
      "application/vnd.microsoft.datawrangler.viewer.v0+json": {
       "columns": [
        {
         "name": "index",
         "rawType": "object",
         "type": "string"
        },
        {
         "name": "Adverse_Counts",
         "rawType": "float64",
         "type": "float"
        }
       ],
       "ref": "be2fdf42-c7eb-4786-aa25-086cd881cff8",
       "rows": [
        [
         "count",
         "28797.0"
        ],
        [
         "mean",
         "32.399242976698964"
        ],
        [
         "std",
         "123.02192138610893"
        ],
        [
         "min",
         "0.0"
        ],
        [
         "25%",
         "0.0"
        ],
        [
         "50%",
         "0.0"
        ],
        [
         "75%",
         "19.0"
        ],
        [
         "max",
         "5288.0"
        ]
       ],
       "shape": {
        "columns": 1,
        "rows": 8
       }
      },
      "text/plain": [
       "count    28797.000000\n",
       "mean        32.399243\n",
       "std        123.021921\n",
       "min          0.000000\n",
       "25%          0.000000\n",
       "50%          0.000000\n",
       "75%         19.000000\n",
       "max       5288.000000\n",
       "Name: Adverse_Counts, dtype: float64"
      ]
     },
     "metadata": {},
     "output_type": "display_data"
    },
    {
     "data": {
      "application/vnd.microsoft.datawrangler.viewer.v0+json": {
       "columns": [
        {
         "name": "index",
         "rawType": "object",
         "type": "string"
        },
        {
         "name": "Adverse_Counts",
         "rawType": "float64",
         "type": "float"
        }
       ],
       "ref": "df9a0f63-c638-43fc-a20a-cd2682e682ab",
       "rows": [
        [
         "count",
         "16307.0"
        ],
        [
         "mean",
         "162.88888207518244"
        ],
        [
         "std",
         "738.4284130489451"
        ],
        [
         "min",
         "0.0"
        ],
        [
         "25%",
         "0.0"
        ],
        [
         "50%",
         "0.0"
        ],
        [
         "75%",
         "87.0"
        ],
        [
         "max",
         "47910.0"
        ]
       ],
       "shape": {
        "columns": 1,
        "rows": 8
       }
      },
      "text/plain": [
       "count    16307.000000\n",
       "mean       162.888882\n",
       "std        738.428413\n",
       "min          0.000000\n",
       "25%          0.000000\n",
       "50%          0.000000\n",
       "75%         87.000000\n",
       "max      47910.000000\n",
       "Name: Adverse_Counts, dtype: float64"
      ]
     },
     "metadata": {},
     "output_type": "display_data"
    },
    {
     "data": {
      "application/vnd.microsoft.datawrangler.viewer.v0+json": {
       "columns": [
        {
         "name": "index",
         "rawType": "object",
         "type": "string"
        },
        {
         "name": "Adverse_Counts",
         "rawType": "float64",
         "type": "float"
        }
       ],
       "ref": "42a67171-83b0-4d1c-a373-790e40e54cba",
       "rows": [
        [
         "count",
         "13073.0"
        ],
        [
         "mean",
         "28.14388434177312"
        ],
        [
         "std",
         "655.3970646085841"
        ],
        [
         "min",
         "0.0"
        ],
        [
         "25%",
         "0.0"
        ],
        [
         "50%",
         "0.0"
        ],
        [
         "75%",
         "0.0"
        ],
        [
         "max",
         "70245.0"
        ]
       ],
       "shape": {
        "columns": 1,
        "rows": 8
       }
      },
      "text/plain": [
       "count    13073.000000\n",
       "mean        28.143884\n",
       "std        655.397065\n",
       "min          0.000000\n",
       "25%          0.000000\n",
       "50%          0.000000\n",
       "75%          0.000000\n",
       "max      70245.000000\n",
       "Name: Adverse_Counts, dtype: float64"
      ]
     },
     "metadata": {},
     "output_type": "display_data"
    },
    {
     "data": {
      "application/vnd.microsoft.datawrangler.viewer.v0+json": {
       "columns": [
        {
         "name": "index",
         "rawType": "object",
         "type": "string"
        },
        {
         "name": "Adverse_Counts",
         "rawType": "float64",
         "type": "float"
        }
       ],
       "ref": "b61368fe-dc10-4b7d-b89e-fbc6aee62749",
       "rows": [
        [
         "count",
         "97831.0"
        ],
        [
         "mean",
         "5.300630679436988"
        ],
        [
         "std",
         "158.29616966168948"
        ],
        [
         "min",
         "0.0"
        ],
        [
         "25%",
         "0.0"
        ],
        [
         "50%",
         "0.0"
        ],
        [
         "75%",
         "0.0"
        ],
        [
         "max",
         "28085.0"
        ]
       ],
       "shape": {
        "columns": 1,
        "rows": 8
       }
      },
      "text/plain": [
       "count    97831.000000\n",
       "mean         5.300631\n",
       "std        158.296170\n",
       "min          0.000000\n",
       "25%          0.000000\n",
       "50%          0.000000\n",
       "75%          0.000000\n",
       "max      28085.000000\n",
       "Name: Adverse_Counts, dtype: float64"
      ]
     },
     "metadata": {},
     "output_type": "display_data"
    },
    {
     "data": {
      "application/vnd.microsoft.datawrangler.viewer.v0+json": {
       "columns": [
        {
         "name": "index",
         "rawType": "object",
         "type": "string"
        },
        {
         "name": "Adverse_Counts_Log",
         "rawType": "float64",
         "type": "float"
        }
       ],
       "ref": "d0fa9399-079f-49df-9123-fbcc6c016724",
       "rows": [
        [
         "count",
         "2304.0"
        ],
        [
         "mean",
         "0.15855609811374877"
        ],
        [
         "std",
         "0.6138212598526426"
        ],
        [
         "min",
         "0.0"
        ],
        [
         "25%",
         "0.0"
        ],
        [
         "50%",
         "0.0"
        ],
        [
         "75%",
         "0.0"
        ],
        [
         "max",
         "4.875197323201151"
        ]
       ],
       "shape": {
        "columns": 1,
        "rows": 8
       }
      },
      "text/plain": [
       "count    2304.000000\n",
       "mean        0.158556\n",
       "std         0.613821\n",
       "min         0.000000\n",
       "25%         0.000000\n",
       "50%         0.000000\n",
       "75%         0.000000\n",
       "max         4.875197\n",
       "Name: Adverse_Counts_Log, dtype: float64"
      ]
     },
     "metadata": {},
     "output_type": "display_data"
    }
   ],
   "source": [
    "display(df0['Adverse_Counts'].describe())\n",
    "display(df1['Adverse_Counts'].describe())\n",
    "display(df2['Adverse_Counts'].describe())\n",
    "display(df3['Adverse_Counts'].describe())\n",
    "display(df4['Adverse_Counts'].describe())\n",
    "display(df5['Adverse_Counts'].describe())\n",
    "\n",
    "df0['Adverse_Counts_Log'] = np.log1p(df0['Adverse_Counts'])\n",
    "df1['Adverse_Counts_Log'] = np.log1p(df1['Adverse_Counts'])\n",
    "df2['Adverse_Counts_Log'] = np.log1p(df2['Adverse_Counts'])\n",
    "df3['Adverse_Counts_Log'] = np.log1p(df3['Adverse_Counts'])\n",
    "df4['Adverse_Counts_Log'] = np.log1p(df4['Adverse_Counts'])\n",
    "df5['Adverse_Counts_Log'] = np.log1p(df5['Adverse_Counts'])\n",
    "\n",
    "display(df0['Adverse_Counts_Log'].describe())\n"
   ]
  },
  {
   "cell_type": "markdown",
   "metadata": {},
   "source": [
    "### Completion_Gap_Categ"
   ]
  },
  {
   "cell_type": "code",
   "execution_count": 239,
   "metadata": {},
   "outputs": [
    {
     "data": {
      "application/vnd.microsoft.datawrangler.viewer.v0+json": {
       "columns": [
        {
         "name": "index",
         "rawType": "object",
         "type": "string"
        },
        {
         "name": "Completion_Gap",
         "rawType": "Float64",
         "type": "float"
        }
       ],
       "ref": "215d2cad-43ca-4d95-8324-75d1fdca95c3",
       "rows": [
        [
         "count",
         "2304.0"
        ],
        [
         "mean",
         "24.924913194444443"
        ],
        [
         "std",
         "20.113227145382556"
        ],
        [
         "min",
         "0.0"
        ],
        [
         "25%",
         "10.0"
        ],
        [
         "50%",
         "20.0"
        ],
        [
         "75%",
         "35.0"
        ],
        [
         "max",
         "128.0"
        ]
       ],
       "shape": {
        "columns": 1,
        "rows": 8
       }
      },
      "text/plain": [
       "count       2304.0\n",
       "mean     24.924913\n",
       "std      20.113227\n",
       "min            0.0\n",
       "25%           10.0\n",
       "50%           20.0\n",
       "75%           35.0\n",
       "max          128.0\n",
       "Name: Completion_Gap, dtype: Float64"
      ]
     },
     "metadata": {},
     "output_type": "display_data"
    },
    {
     "data": {
      "application/vnd.microsoft.datawrangler.viewer.v0+json": {
       "columns": [
        {
         "name": "index",
         "rawType": "object",
         "type": "string"
        },
        {
         "name": "Completion_Gap",
         "rawType": "Float64",
         "type": "float"
        }
       ],
       "ref": "cfacf822-1cd5-4bbd-9a42-ef95216bcd3d",
       "rows": [
        [
         "count",
         "27175.0"
        ],
        [
         "mean",
         "22.270542778288867"
        ],
        [
         "std",
         "23.265676683559047"
        ],
        [
         "min",
         "0.0"
        ],
        [
         "25%",
         "5.0"
        ],
        [
         "50%",
         "14.0"
        ],
        [
         "75%",
         "33.0"
        ],
        [
         "max",
         "150.0"
        ]
       ],
       "shape": {
        "columns": 1,
        "rows": 8
       }
      },
      "text/plain": [
       "count      27175.0\n",
       "mean     22.270543\n",
       "std      23.265677\n",
       "min            0.0\n",
       "25%            5.0\n",
       "50%           14.0\n",
       "75%           33.0\n",
       "max          150.0\n",
       "Name: Completion_Gap, dtype: Float64"
      ]
     },
     "metadata": {},
     "output_type": "display_data"
    },
    {
     "data": {
      "application/vnd.microsoft.datawrangler.viewer.v0+json": {
       "columns": [
        {
         "name": "index",
         "rawType": "object",
         "type": "string"
        },
        {
         "name": "Completion_Gap",
         "rawType": "Float64",
         "type": "float"
        }
       ],
       "ref": "a9663c51-d49a-4251-bf7d-02704d8281b7",
       "rows": [
        [
         "count",
         "28797.0"
        ],
        [
         "mean",
         "31.597353891030316"
        ],
        [
         "std",
         "24.07006972664585"
        ],
        [
         "min",
         "0.0"
        ],
        [
         "25%",
         "13.0"
        ],
        [
         "50%",
         "25.0"
        ],
        [
         "75%",
         "44.0"
        ],
        [
         "max",
         "163.0"
        ]
       ],
       "shape": {
        "columns": 1,
        "rows": 8
       }
      },
      "text/plain": [
       "count      28797.0\n",
       "mean     31.597354\n",
       "std       24.07007\n",
       "min            0.0\n",
       "25%           13.0\n",
       "50%           25.0\n",
       "75%           44.0\n",
       "max          163.0\n",
       "Name: Completion_Gap, dtype: Float64"
      ]
     },
     "metadata": {},
     "output_type": "display_data"
    },
    {
     "data": {
      "application/vnd.microsoft.datawrangler.viewer.v0+json": {
       "columns": [
        {
         "name": "index",
         "rawType": "object",
         "type": "string"
        },
        {
         "name": "Completion_Gap",
         "rawType": "Float64",
         "type": "float"
        }
       ],
       "ref": "18ab522d-302b-4e59-bc25-d568eb7648d6",
       "rows": [
        [
         "count",
         "16307.0"
        ],
        [
         "mean",
         "29.56055681609125"
        ],
        [
         "std",
         "22.722841923585836"
        ],
        [
         "min",
         "0.0"
        ],
        [
         "25%",
         "13.0"
        ],
        [
         "50%",
         "24.0"
        ],
        [
         "75%",
         "40.0"
        ],
        [
         "max",
         "160.0"
        ]
       ],
       "shape": {
        "columns": 1,
        "rows": 8
       }
      },
      "text/plain": [
       "count      16307.0\n",
       "mean     29.560557\n",
       "std      22.722842\n",
       "min            0.0\n",
       "25%           13.0\n",
       "50%           24.0\n",
       "75%           40.0\n",
       "max          160.0\n",
       "Name: Completion_Gap, dtype: Float64"
      ]
     },
     "metadata": {},
     "output_type": "display_data"
    },
    {
     "data": {
      "application/vnd.microsoft.datawrangler.viewer.v0+json": {
       "columns": [
        {
         "name": "index",
         "rawType": "object",
         "type": "string"
        },
        {
         "name": "Completion_Gap",
         "rawType": "Float64",
         "type": "float"
        }
       ],
       "ref": "4dfd6eec-010e-40e0-a108-f3d7024dee77",
       "rows": [
        [
         "count",
         "13073.0"
        ],
        [
         "mean",
         "25.4288227644764"
        ],
        [
         "std",
         "19.978733375761113"
        ],
        [
         "min",
         "0.0"
        ],
        [
         "25%",
         "11.0"
        ],
        [
         "50%",
         "21.0"
        ],
        [
         "75%",
         "35.0"
        ],
        [
         "max",
         "149.0"
        ]
       ],
       "shape": {
        "columns": 1,
        "rows": 8
       }
      },
      "text/plain": [
       "count      13073.0\n",
       "mean     25.428823\n",
       "std      19.978733\n",
       "min            0.0\n",
       "25%           11.0\n",
       "50%           21.0\n",
       "75%           35.0\n",
       "max          149.0\n",
       "Name: Completion_Gap, dtype: Float64"
      ]
     },
     "metadata": {},
     "output_type": "display_data"
    },
    {
     "data": {
      "application/vnd.microsoft.datawrangler.viewer.v0+json": {
       "columns": [
        {
         "name": "index",
         "rawType": "object",
         "type": "string"
        },
        {
         "name": "Completion_Gap",
         "rawType": "Float64",
         "type": "float"
        }
       ],
       "ref": "8d9bbcc3-e108-4160-af1b-f22beb99c929",
       "rows": [
        [
         "count",
         "97831.0"
        ],
        [
         "mean",
         "22.925442855536588"
        ],
        [
         "std",
         "20.21751244003296"
        ],
        [
         "min",
         "0.0"
        ],
        [
         "25%",
         "8.0"
        ],
        [
         "50%",
         "17.0"
        ],
        [
         "75%",
         "32.0"
        ],
        [
         "max",
         "157.0"
        ]
       ],
       "shape": {
        "columns": 1,
        "rows": 8
       }
      },
      "text/plain": [
       "count      97831.0\n",
       "mean     22.925443\n",
       "std      20.217512\n",
       "min            0.0\n",
       "25%            8.0\n",
       "50%           17.0\n",
       "75%           32.0\n",
       "max          157.0\n",
       "Name: Completion_Gap, dtype: Float64"
      ]
     },
     "metadata": {},
     "output_type": "display_data"
    },
    {
     "data": {
      "application/vnd.microsoft.datawrangler.viewer.v0+json": {
       "columns": [
        {
         "name": "Completion_Gap_Categ",
         "rawType": "category",
         "type": "unknown"
        },
        {
         "name": "count",
         "rawType": "int64",
         "type": "integer"
        }
       ],
       "ref": "e7738c67-6059-4396-a4c1-44b0bde260ed",
       "rows": [
        [
         "(20.0, 128.0]",
         "1120"
        ],
        [
         "(0.0, 20.0]",
         "1111"
        ]
       ],
       "shape": {
        "columns": 1,
        "rows": 2
       }
      },
      "text/plain": [
       "Completion_Gap_Categ\n",
       "(20.0, 128.0]    1120\n",
       "(0.0, 20.0]      1111\n",
       "Name: count, dtype: int64"
      ]
     },
     "metadata": {},
     "output_type": "display_data"
    }
   ],
   "source": [
    "display(df0['Completion_Gap'].describe())\n",
    "display(df1['Completion_Gap'].describe())\n",
    "display(df2['Completion_Gap'].describe())\n",
    "display(df3['Completion_Gap'].describe())\n",
    "display(df4['Completion_Gap'].describe())\n",
    "display(df5['Completion_Gap'].describe())\n",
    "\n",
    "df0['Completion_Gap_Categ'] = pd.cut(df0[\"Completion_Gap\"], bins = [df0[\"Completion_Gap\"].min(), df0[\"Completion_Gap\"].median(), df0[\"Completion_Gap\"].max()], ordered = True, include_lowest = False)\n",
    "df1['Completion_Gap_Categ'] = pd.cut(df1[\"Completion_Gap\"], bins = [df1[\"Completion_Gap\"].min(), df1[\"Completion_Gap\"].median(), df1[\"Completion_Gap\"].max()], ordered = True, include_lowest = False)\n",
    "df2['Completion_Gap_Categ'] = pd.cut(df2[\"Completion_Gap\"], bins = [df2[\"Completion_Gap\"].min(), df2[\"Completion_Gap\"].median(), df2[\"Completion_Gap\"].max()], ordered = True, include_lowest = False)\n",
    "df3['Completion_Gap_Categ'] = pd.cut(df3[\"Completion_Gap\"], bins = [df3[\"Completion_Gap\"].min(), df3[\"Completion_Gap\"].median(), df3[\"Completion_Gap\"].max()], ordered = True, include_lowest = False)\n",
    "df4['Completion_Gap_Categ'] = pd.cut(df4[\"Completion_Gap\"], bins = [df4[\"Completion_Gap\"].min(), df4[\"Completion_Gap\"].median(), df4[\"Completion_Gap\"].max()], ordered = True, include_lowest = False)\n",
    "df5['Completion_Gap_Categ'] = pd.cut(df5[\"Completion_Gap\"], bins = [df5[\"Completion_Gap\"].min(), df5[\"Completion_Gap\"].median(), df5[\"Completion_Gap\"].max()], ordered = True, include_lowest = False)\n",
    "\n",
    "display(df0['Completion_Gap_Categ'].value_counts())"
   ]
  },
  {
   "cell_type": "markdown",
   "metadata": {},
   "source": [
    "### Intervention_Counts_Categ"
   ]
  },
  {
   "cell_type": "code",
   "execution_count": 257,
   "metadata": {},
   "outputs": [
    {
     "data": {
      "application/vnd.microsoft.datawrangler.viewer.v0+json": {
       "columns": [
        {
         "name": "index",
         "rawType": "object",
         "type": "string"
        },
        {
         "name": "Intervention_Counts",
         "rawType": "float64",
         "type": "float"
        }
       ],
       "ref": "86b78075-7488-4461-8f62-b9e8af38f363",
       "rows": [
        [
         "count",
         "2304.0"
        ],
        [
         "mean",
         "1.2808159722222223"
        ],
        [
         "std",
         "0.5447065226518428"
        ],
        [
         "min",
         "1.0"
        ],
        [
         "25%",
         "1.0"
        ],
        [
         "50%",
         "1.0"
        ],
        [
         "75%",
         "1.0"
        ],
        [
         "max",
         "4.0"
        ]
       ],
       "shape": {
        "columns": 1,
        "rows": 8
       }
      },
      "text/plain": [
       "count    2304.000000\n",
       "mean        1.280816\n",
       "std         0.544707\n",
       "min         1.000000\n",
       "25%         1.000000\n",
       "50%         1.000000\n",
       "75%         1.000000\n",
       "max         4.000000\n",
       "Name: Intervention_Counts, dtype: float64"
      ]
     },
     "metadata": {},
     "output_type": "display_data"
    },
    {
     "data": {
      "application/vnd.microsoft.datawrangler.viewer.v0+json": {
       "columns": [
        {
         "name": "index",
         "rawType": "object",
         "type": "string"
        },
        {
         "name": "Intervention_Counts",
         "rawType": "float64",
         "type": "float"
        }
       ],
       "ref": "70f45e93-38e1-49c2-842b-77f0be29d051",
       "rows": [
        [
         "count",
         "27175.0"
        ],
        [
         "mean",
         "1.1628702851885924"
        ],
        [
         "std",
         "0.4381666289956498"
        ],
        [
         "min",
         "1.0"
        ],
        [
         "25%",
         "1.0"
        ],
        [
         "50%",
         "1.0"
        ],
        [
         "75%",
         "1.0"
        ],
        [
         "max",
         "6.0"
        ]
       ],
       "shape": {
        "columns": 1,
        "rows": 8
       }
      },
      "text/plain": [
       "count    27175.000000\n",
       "mean         1.162870\n",
       "std          0.438167\n",
       "min          1.000000\n",
       "25%          1.000000\n",
       "50%          1.000000\n",
       "75%          1.000000\n",
       "max          6.000000\n",
       "Name: Intervention_Counts, dtype: float64"
      ]
     },
     "metadata": {},
     "output_type": "display_data"
    },
    {
     "data": {
      "application/vnd.microsoft.datawrangler.viewer.v0+json": {
       "columns": [
        {
         "name": "index",
         "rawType": "object",
         "type": "string"
        },
        {
         "name": "Intervention_Counts",
         "rawType": "float64",
         "type": "float"
        }
       ],
       "ref": "4ff41c25-f194-4501-ace1-63708ad495b9",
       "rows": [
        [
         "count",
         "28797.0"
        ],
        [
         "mean",
         "1.2256137792131125"
        ],
        [
         "std",
         "0.4972904523664991"
        ],
        [
         "min",
         "1.0"
        ],
        [
         "25%",
         "1.0"
        ],
        [
         "50%",
         "1.0"
        ],
        [
         "75%",
         "1.0"
        ],
        [
         "max",
         "6.0"
        ]
       ],
       "shape": {
        "columns": 1,
        "rows": 8
       }
      },
      "text/plain": [
       "count    28797.000000\n",
       "mean         1.225614\n",
       "std          0.497290\n",
       "min          1.000000\n",
       "25%          1.000000\n",
       "50%          1.000000\n",
       "75%          1.000000\n",
       "max          6.000000\n",
       "Name: Intervention_Counts, dtype: float64"
      ]
     },
     "metadata": {},
     "output_type": "display_data"
    },
    {
     "data": {
      "application/vnd.microsoft.datawrangler.viewer.v0+json": {
       "columns": [
        {
         "name": "index",
         "rawType": "object",
         "type": "string"
        },
        {
         "name": "Intervention_Counts",
         "rawType": "float64",
         "type": "float"
        }
       ],
       "ref": "d0fa6f59-f498-41f2-9b4f-ed21b9360d48",
       "rows": [
        [
         "count",
         "16307.0"
        ],
        [
         "mean",
         "1.1665542405102103"
        ],
        [
         "std",
         "0.4034104793986473"
        ],
        [
         "min",
         "1.0"
        ],
        [
         "25%",
         "1.0"
        ],
        [
         "50%",
         "1.0"
        ],
        [
         "75%",
         "1.0"
        ],
        [
         "max",
         "5.0"
        ]
       ],
       "shape": {
        "columns": 1,
        "rows": 8
       }
      },
      "text/plain": [
       "count    16307.000000\n",
       "mean         1.166554\n",
       "std          0.403410\n",
       "min          1.000000\n",
       "25%          1.000000\n",
       "50%          1.000000\n",
       "75%          1.000000\n",
       "max          5.000000\n",
       "Name: Intervention_Counts, dtype: float64"
      ]
     },
     "metadata": {},
     "output_type": "display_data"
    },
    {
     "data": {
      "application/vnd.microsoft.datawrangler.viewer.v0+json": {
       "columns": [
        {
         "name": "index",
         "rawType": "object",
         "type": "string"
        },
        {
         "name": "Intervention_Counts",
         "rawType": "float64",
         "type": "float"
        }
       ],
       "ref": "daba477c-42be-4ad4-9ece-3dee34e31397",
       "rows": [
        [
         "count",
         "13073.0"
        ],
        [
         "mean",
         "1.166832402661975"
        ],
        [
         "std",
         "0.409601947430937"
        ],
        [
         "min",
         "1.0"
        ],
        [
         "25%",
         "1.0"
        ],
        [
         "50%",
         "1.0"
        ],
        [
         "75%",
         "1.0"
        ],
        [
         "max",
         "5.0"
        ]
       ],
       "shape": {
        "columns": 1,
        "rows": 8
       }
      },
      "text/plain": [
       "count    13073.000000\n",
       "mean         1.166832\n",
       "std          0.409602\n",
       "min          1.000000\n",
       "25%          1.000000\n",
       "50%          1.000000\n",
       "75%          1.000000\n",
       "max          5.000000\n",
       "Name: Intervention_Counts, dtype: float64"
      ]
     },
     "metadata": {},
     "output_type": "display_data"
    },
    {
     "data": {
      "application/vnd.microsoft.datawrangler.viewer.v0+json": {
       "columns": [
        {
         "name": "index",
         "rawType": "object",
         "type": "string"
        },
        {
         "name": "Intervention_Counts",
         "rawType": "float64",
         "type": "float"
        }
       ],
       "ref": "c57e6d86-d8fe-47f8-ac8f-e351b3c1a324",
       "rows": [
        [
         "count",
         "97831.0"
        ],
        [
         "mean",
         "1.1155155318866208"
        ],
        [
         "std",
         "0.35074953655410485"
        ],
        [
         "min",
         "1.0"
        ],
        [
         "25%",
         "1.0"
        ],
        [
         "50%",
         "1.0"
        ],
        [
         "75%",
         "1.0"
        ],
        [
         "max",
         "5.0"
        ]
       ],
       "shape": {
        "columns": 1,
        "rows": 8
       }
      },
      "text/plain": [
       "count    97831.000000\n",
       "mean         1.115516\n",
       "std          0.350750\n",
       "min          1.000000\n",
       "25%          1.000000\n",
       "50%          1.000000\n",
       "75%          1.000000\n",
       "max          5.000000\n",
       "Name: Intervention_Counts, dtype: float64"
      ]
     },
     "metadata": {},
     "output_type": "display_data"
    },
    {
     "data": {
      "application/vnd.microsoft.datawrangler.viewer.v0+json": {
       "columns": [
        {
         "name": "Intervention_Counts_Categ",
         "rawType": "category",
         "type": "unknown"
        },
        {
         "name": "count",
         "rawType": "int64",
         "type": "integer"
        }
       ],
       "ref": "b6c98d2a-e625-4cba-ae28-b7d65aa03c3d",
       "rows": [
        [
         "(0, 1]",
         "1757"
        ],
        [
         "(1, 4]",
         "547"
        ]
       ],
       "shape": {
        "columns": 1,
        "rows": 2
       }
      },
      "text/plain": [
       "Intervention_Counts_Categ\n",
       "(0, 1]    1757\n",
       "(1, 4]     547\n",
       "Name: count, dtype: int64"
      ]
     },
     "metadata": {},
     "output_type": "display_data"
    }
   ],
   "source": [
    "display(df0['Intervention_Counts'].describe())\n",
    "display(df1['Intervention_Counts'].describe())\n",
    "display(df2['Intervention_Counts'].describe())\n",
    "display(df3['Intervention_Counts'].describe())\n",
    "display(df4['Intervention_Counts'].describe())\n",
    "display(df5['Intervention_Counts'].describe())\n",
    "\n",
    "df0['Intervention_Counts_Categ'] = pd.cut(df0[\"Intervention_Counts\"], bins = [0, 1, df0[\"Intervention_Counts\"].max()], ordered = True, include_lowest = False)\n",
    "df1['Intervention_Counts_Categ'] = pd.cut(df1[\"Intervention_Counts\"], bins = [0, 1, df1[\"Intervention_Counts\"].max()], ordered = True, include_lowest = False)\n",
    "df2['Intervention_Counts_Categ'] = pd.cut(df2[\"Intervention_Counts\"], bins = [0, 1, df2[\"Intervention_Counts\"].max()], ordered = True, include_lowest = False)\n",
    "df3['Intervention_Counts_Categ'] = pd.cut(df3[\"Intervention_Counts\"], bins = [0, 1, df3[\"Intervention_Counts\"].max()], ordered = True, include_lowest = False)\n",
    "df4['Intervention_Counts_Categ'] = pd.cut(df4[\"Intervention_Counts\"], bins = [0, 1, df4[\"Intervention_Counts\"].max()], ordered = True, include_lowest = False)\n",
    "df5['Intervention_Counts_Categ'] = pd.cut(df5[\"Intervention_Counts\"], bins = [0, 1, df5[\"Intervention_Counts\"].max()], ordered = True, include_lowest = False)\n",
    "\n",
    "display(df0['Intervention_Counts_Categ'].value_counts())"
   ]
  },
  {
   "cell_type": "markdown",
   "metadata": {},
   "source": [
    "### Comorbidity_Counts_Categ\n",
    "- See plots --> Comorbidity has a \"cutpoint\" at 2 counts in most Phases"
   ]
  },
  {
   "cell_type": "code",
   "execution_count": 241,
   "metadata": {},
   "outputs": [
    {
     "data": {
      "application/vnd.microsoft.datawrangler.viewer.v0+json": {
       "columns": [
        {
         "name": "index",
         "rawType": "object",
         "type": "string"
        },
        {
         "name": "Comorbidity_Counts",
         "rawType": "float64",
         "type": "float"
        }
       ],
       "ref": "5b8a93c2-aca8-4d3f-b892-09ef2bc2d071",
       "rows": [
        [
         "count",
         "2304.0"
        ],
        [
         "mean",
         "1.9149305555555556"
        ],
        [
         "std",
         "1.5838588762986157"
        ],
        [
         "min",
         "0.0"
        ],
        [
         "25%",
         "1.0"
        ],
        [
         "50%",
         "2.0"
        ],
        [
         "75%",
         "3.0"
        ],
        [
         "max",
         "10.0"
        ]
       ],
       "shape": {
        "columns": 1,
        "rows": 8
       }
      },
      "text/plain": [
       "count    2304.000000\n",
       "mean        1.914931\n",
       "std         1.583859\n",
       "min         0.000000\n",
       "25%         1.000000\n",
       "50%         2.000000\n",
       "75%         3.000000\n",
       "max        10.000000\n",
       "Name: Comorbidity_Counts, dtype: float64"
      ]
     },
     "metadata": {},
     "output_type": "display_data"
    },
    {
     "data": {
      "application/vnd.microsoft.datawrangler.viewer.v0+json": {
       "columns": [
        {
         "name": "index",
         "rawType": "object",
         "type": "string"
        },
        {
         "name": "Comorbidity_Counts",
         "rawType": "float64",
         "type": "float"
        }
       ],
       "ref": "59ae7420-0a4c-44f1-98c0-a1b5df2d0d87",
       "rows": [
        [
         "count",
         "27175.0"
        ],
        [
         "mean",
         "1.6650965961361546"
        ],
        [
         "std",
         "1.567863819800224"
        ],
        [
         "min",
         "0.0"
        ],
        [
         "25%",
         "0.0"
        ],
        [
         "50%",
         "1.0"
        ],
        [
         "75%",
         "3.0"
        ],
        [
         "max",
         "14.0"
        ]
       ],
       "shape": {
        "columns": 1,
        "rows": 8
       }
      },
      "text/plain": [
       "count    27175.000000\n",
       "mean         1.665097\n",
       "std          1.567864\n",
       "min          0.000000\n",
       "25%          0.000000\n",
       "50%          1.000000\n",
       "75%          3.000000\n",
       "max         14.000000\n",
       "Name: Comorbidity_Counts, dtype: float64"
      ]
     },
     "metadata": {},
     "output_type": "display_data"
    },
    {
     "data": {
      "application/vnd.microsoft.datawrangler.viewer.v0+json": {
       "columns": [
        {
         "name": "index",
         "rawType": "object",
         "type": "string"
        },
        {
         "name": "Comorbidity_Counts",
         "rawType": "float64",
         "type": "float"
        }
       ],
       "ref": "1a8a110a-6141-411a-a5d9-259bba3d7461",
       "rows": [
        [
         "count",
         "28797.0"
        ],
        [
         "mean",
         "2.365072750633747"
        ],
        [
         "std",
         "1.425452143520333"
        ],
        [
         "min",
         "0.0"
        ],
        [
         "25%",
         "1.0"
        ],
        [
         "50%",
         "2.0"
        ],
        [
         "75%",
         "3.0"
        ],
        [
         "max",
         "13.0"
        ]
       ],
       "shape": {
        "columns": 1,
        "rows": 8
       }
      },
      "text/plain": [
       "count    28797.000000\n",
       "mean         2.365073\n",
       "std          1.425452\n",
       "min          0.000000\n",
       "25%          1.000000\n",
       "50%          2.000000\n",
       "75%          3.000000\n",
       "max         13.000000\n",
       "Name: Comorbidity_Counts, dtype: float64"
      ]
     },
     "metadata": {},
     "output_type": "display_data"
    },
    {
     "data": {
      "application/vnd.microsoft.datawrangler.viewer.v0+json": {
       "columns": [
        {
         "name": "index",
         "rawType": "object",
         "type": "string"
        },
        {
         "name": "Comorbidity_Counts",
         "rawType": "float64",
         "type": "float"
        }
       ],
       "ref": "4901c8b7-48f6-473c-a94c-52ac17b90554",
       "rows": [
        [
         "count",
         "16307.0"
        ],
        [
         "mean",
         "2.2750352609308884"
        ],
        [
         "std",
         "1.4413057023850013"
        ],
        [
         "min",
         "0.0"
        ],
        [
         "25%",
         "1.0"
        ],
        [
         "50%",
         "2.0"
        ],
        [
         "75%",
         "3.0"
        ],
        [
         "max",
         "10.0"
        ]
       ],
       "shape": {
        "columns": 1,
        "rows": 8
       }
      },
      "text/plain": [
       "count    16307.000000\n",
       "mean         2.275035\n",
       "std          1.441306\n",
       "min          0.000000\n",
       "25%          1.000000\n",
       "50%          2.000000\n",
       "75%          3.000000\n",
       "max         10.000000\n",
       "Name: Comorbidity_Counts, dtype: float64"
      ]
     },
     "metadata": {},
     "output_type": "display_data"
    },
    {
     "data": {
      "application/vnd.microsoft.datawrangler.viewer.v0+json": {
       "columns": [
        {
         "name": "index",
         "rawType": "object",
         "type": "string"
        },
        {
         "name": "Comorbidity_Counts",
         "rawType": "float64",
         "type": "float"
        }
       ],
       "ref": "830846b4-0a77-4842-b837-30d4b20c74bd",
       "rows": [
        [
         "count",
         "13073.0"
        ],
        [
         "mean",
         "2.064790025242867"
        ],
        [
         "std",
         "1.5977465304508005"
        ],
        [
         "min",
         "0.0"
        ],
        [
         "25%",
         "1.0"
        ],
        [
         "50%",
         "2.0"
        ],
        [
         "75%",
         "3.0"
        ],
        [
         "max",
         "14.0"
        ]
       ],
       "shape": {
        "columns": 1,
        "rows": 8
       }
      },
      "text/plain": [
       "count    13073.000000\n",
       "mean         2.064790\n",
       "std          1.597747\n",
       "min          0.000000\n",
       "25%          1.000000\n",
       "50%          2.000000\n",
       "75%          3.000000\n",
       "max         14.000000\n",
       "Name: Comorbidity_Counts, dtype: float64"
      ]
     },
     "metadata": {},
     "output_type": "display_data"
    },
    {
     "data": {
      "application/vnd.microsoft.datawrangler.viewer.v0+json": {
       "columns": [
        {
         "name": "index",
         "rawType": "object",
         "type": "string"
        },
        {
         "name": "Comorbidity_Counts",
         "rawType": "float64",
         "type": "float"
        }
       ],
       "ref": "dbf02fc1-e233-42d3-bdeb-d35cee3d02d0",
       "rows": [
        [
         "count",
         "97831.0"
        ],
        [
         "mean",
         "1.81816602099539"
        ],
        [
         "std",
         "1.6334073522316812"
        ],
        [
         "min",
         "0.0"
        ],
        [
         "25%",
         "0.0"
        ],
        [
         "50%",
         "2.0"
        ],
        [
         "75%",
         "3.0"
        ],
        [
         "max",
         "16.0"
        ]
       ],
       "shape": {
        "columns": 1,
        "rows": 8
       }
      },
      "text/plain": [
       "count    97831.000000\n",
       "mean         1.818166\n",
       "std          1.633407\n",
       "min          0.000000\n",
       "25%          0.000000\n",
       "50%          2.000000\n",
       "75%          3.000000\n",
       "max         16.000000\n",
       "Name: Comorbidity_Counts, dtype: float64"
      ]
     },
     "metadata": {},
     "output_type": "display_data"
    },
    {
     "data": {
      "application/vnd.microsoft.datawrangler.viewer.v0+json": {
       "columns": [
        {
         "name": "Comorbidity_Counts_Categ",
         "rawType": "category",
         "type": "unknown"
        },
        {
         "name": "count",
         "rawType": "int64",
         "type": "integer"
        }
       ],
       "ref": "3cd8fa4a-c860-4868-b75e-0ce99098dff2",
       "rows": [
        [
         "(0.0, 3.0]",
         "1465"
        ],
        [
         null,
         "500"
        ],
        [
         "(3.0, 10.0]",
         "339"
        ]
       ],
       "shape": {
        "columns": 1,
        "rows": 3
       }
      },
      "text/plain": [
       "Comorbidity_Counts_Categ\n",
       "(0.0, 3.0]     1465\n",
       "NaN             500\n",
       "(3.0, 10.0]     339\n",
       "Name: count, dtype: int64"
      ]
     },
     "execution_count": 241,
     "metadata": {},
     "output_type": "execute_result"
    }
   ],
   "source": [
    "display(df0['Comorbidity_Counts'].describe())\n",
    "display(df1['Comorbidity_Counts'].describe())\n",
    "display(df2['Comorbidity_Counts'].describe())\n",
    "display(df3['Comorbidity_Counts'].describe())\n",
    "display(df4['Comorbidity_Counts'].describe())\n",
    "display(df5['Comorbidity_Counts'].describe())\n",
    "\n",
    "df0['Comorbidity_Counts_Categ'] = pd.cut(df0[\"Comorbidity_Counts\"], bins = [0, df0[\"Comorbidity_Counts\"].quantile(0.75), df0[\"Comorbidity_Counts\"].max()], ordered = True, include_lowest = False) \n",
    "df1['Comorbidity_Counts_Categ'] = pd.cut(df1[\"Comorbidity_Counts\"], bins = [0, df1[\"Comorbidity_Counts\"].quantile(0.75), df1[\"Comorbidity_Counts\"].max()], ordered = True, include_lowest = False) \n",
    "df2['Comorbidity_Counts_Categ'] = pd.cut(df2[\"Comorbidity_Counts\"], bins = [0, df2[\"Comorbidity_Counts\"].quantile(0.75), df2[\"Comorbidity_Counts\"].max()], ordered = True, include_lowest = False) \n",
    "df3['Comorbidity_Counts_Categ'] = pd.cut(df3[\"Comorbidity_Counts\"], bins = [0, df3[\"Comorbidity_Counts\"].quantile(0.75), df3[\"Comorbidity_Counts\"].max()], ordered = True, include_lowest = False) \n",
    "df4['Comorbidity_Counts_Categ'] = pd.cut(df4[\"Comorbidity_Counts\"], bins = [0, df4[\"Comorbidity_Counts\"].quantile(0.75), df4[\"Comorbidity_Counts\"].max()], ordered = True, include_lowest = False) \n",
    "df5['Comorbidity_Counts_Categ'] = pd.cut(df5[\"Comorbidity_Counts\"], bins = [0, df5[\"Comorbidity_Counts\"].quantile(0.75), df5[\"Comorbidity_Counts\"].max()], ordered = True, include_lowest = False) \n",
    "\n",
    "df0['Comorbidity_Counts_Categ'].value_counts(dropna = False)"
   ]
  },
  {
   "cell_type": "markdown",
   "metadata": {},
   "source": [
    "### Adverse_System_Counts_Categ"
   ]
  },
  {
   "cell_type": "code",
   "execution_count": 242,
   "metadata": {},
   "outputs": [
    {
     "data": {
      "application/vnd.microsoft.datawrangler.viewer.v0+json": {
       "columns": [
        {
         "name": "index",
         "rawType": "object",
         "type": "string"
        },
        {
         "name": "Adverse_System_Counts",
         "rawType": "float64",
         "type": "float"
        }
       ],
       "ref": "6009e65f-c261-4824-9c25-e9ee23582f17",
       "rows": [
        [
         "count",
         "2304.0"
        ],
        [
         "mean",
         "0.3932291666666667"
        ],
        [
         "std",
         "1.8695789340904052"
        ],
        [
         "min",
         "0.0"
        ],
        [
         "25%",
         "0.0"
        ],
        [
         "50%",
         "0.0"
        ],
        [
         "75%",
         "0.0"
        ],
        [
         "max",
         "21.0"
        ]
       ],
       "shape": {
        "columns": 1,
        "rows": 8
       }
      },
      "text/plain": [
       "count    2304.000000\n",
       "mean        0.393229\n",
       "std         1.869579\n",
       "min         0.000000\n",
       "25%         0.000000\n",
       "50%         0.000000\n",
       "75%         0.000000\n",
       "max        21.000000\n",
       "Name: Adverse_System_Counts, dtype: float64"
      ]
     },
     "metadata": {},
     "output_type": "display_data"
    },
    {
     "data": {
      "application/vnd.microsoft.datawrangler.viewer.v0+json": {
       "columns": [
        {
         "name": "index",
         "rawType": "object",
         "type": "string"
        },
        {
         "name": "Adverse_System_Counts",
         "rawType": "float64",
         "type": "float"
        }
       ],
       "ref": "1064190d-9b5b-40eb-a6bf-aadf0b97c2ca",
       "rows": [
        [
         "count",
         "27175.0"
        ],
        [
         "mean",
         "2.0821343146274147"
        ],
        [
         "std",
         "5.120196108745509"
        ],
        [
         "min",
         "0.0"
        ],
        [
         "25%",
         "0.0"
        ],
        [
         "50%",
         "0.0"
        ],
        [
         "75%",
         "0.0"
        ],
        [
         "max",
         "26.0"
        ]
       ],
       "shape": {
        "columns": 1,
        "rows": 8
       }
      },
      "text/plain": [
       "count    27175.000000\n",
       "mean         2.082134\n",
       "std          5.120196\n",
       "min          0.000000\n",
       "25%          0.000000\n",
       "50%          0.000000\n",
       "75%          0.000000\n",
       "max         26.000000\n",
       "Name: Adverse_System_Counts, dtype: float64"
      ]
     },
     "metadata": {},
     "output_type": "display_data"
    },
    {
     "data": {
      "application/vnd.microsoft.datawrangler.viewer.v0+json": {
       "columns": [
        {
         "name": "index",
         "rawType": "object",
         "type": "string"
        },
        {
         "name": "Adverse_System_Counts",
         "rawType": "float64",
         "type": "float"
        }
       ],
       "ref": "5e0a9783-5f57-488e-9c92-5136dc9608b5",
       "rows": [
        [
         "count",
         "28797.0"
        ],
        [
         "mean",
         "4.487863319095739"
        ],
        [
         "std",
         "6.858169161074217"
        ],
        [
         "min",
         "0.0"
        ],
        [
         "25%",
         "0.0"
        ],
        [
         "50%",
         "0.0"
        ],
        [
         "75%",
         "8.0"
        ],
        [
         "max",
         "27.0"
        ]
       ],
       "shape": {
        "columns": 1,
        "rows": 8
       }
      },
      "text/plain": [
       "count    28797.000000\n",
       "mean         4.487863\n",
       "std          6.858169\n",
       "min          0.000000\n",
       "25%          0.000000\n",
       "50%          0.000000\n",
       "75%          8.000000\n",
       "max         27.000000\n",
       "Name: Adverse_System_Counts, dtype: float64"
      ]
     },
     "metadata": {},
     "output_type": "display_data"
    },
    {
     "data": {
      "application/vnd.microsoft.datawrangler.viewer.v0+json": {
       "columns": [
        {
         "name": "index",
         "rawType": "object",
         "type": "string"
        },
        {
         "name": "Adverse_System_Counts",
         "rawType": "float64",
         "type": "float"
        }
       ],
       "ref": "12098d3a-4ac0-4a7a-b306-ef72f04ff582",
       "rows": [
        [
         "count",
         "16307.0"
        ],
        [
         "mean",
         "5.228490832157969"
        ],
        [
         "std",
         "7.4143568533018245"
        ],
        [
         "min",
         "0.0"
        ],
        [
         "25%",
         "0.0"
        ],
        [
         "50%",
         "0.0"
        ],
        [
         "75%",
         "10.0"
        ],
        [
         "max",
         "27.0"
        ]
       ],
       "shape": {
        "columns": 1,
        "rows": 8
       }
      },
      "text/plain": [
       "count    16307.000000\n",
       "mean         5.228491\n",
       "std          7.414357\n",
       "min          0.000000\n",
       "25%          0.000000\n",
       "50%          0.000000\n",
       "75%         10.000000\n",
       "max         27.000000\n",
       "Name: Adverse_System_Counts, dtype: float64"
      ]
     },
     "metadata": {},
     "output_type": "display_data"
    },
    {
     "data": {
      "application/vnd.microsoft.datawrangler.viewer.v0+json": {
       "columns": [
        {
         "name": "index",
         "rawType": "object",
         "type": "string"
        },
        {
         "name": "Adverse_System_Counts",
         "rawType": "float64",
         "type": "float"
        }
       ],
       "ref": "dd8214a1-9ca6-4f61-a123-77dd5eb0509c",
       "rows": [
        [
         "count",
         "13073.0"
        ],
        [
         "mean",
         "1.506234223208139"
        ],
        [
         "std",
         "3.857523585445869"
        ],
        [
         "min",
         "0.0"
        ],
        [
         "25%",
         "0.0"
        ],
        [
         "50%",
         "0.0"
        ],
        [
         "75%",
         "1.0"
        ],
        [
         "max",
         "27.0"
        ]
       ],
       "shape": {
        "columns": 1,
        "rows": 8
       }
      },
      "text/plain": [
       "count    13073.000000\n",
       "mean         1.506234\n",
       "std          3.857524\n",
       "min          0.000000\n",
       "25%          0.000000\n",
       "50%          0.000000\n",
       "75%          1.000000\n",
       "max         27.000000\n",
       "Name: Adverse_System_Counts, dtype: float64"
      ]
     },
     "metadata": {},
     "output_type": "display_data"
    },
    {
     "data": {
      "application/vnd.microsoft.datawrangler.viewer.v0+json": {
       "columns": [
        {
         "name": "index",
         "rawType": "object",
         "type": "string"
        },
        {
         "name": "Adverse_System_Counts",
         "rawType": "float64",
         "type": "float"
        }
       ],
       "ref": "8d78c8f5-1338-462a-8e54-0acb56d0b14e",
       "rows": [
        [
         "count",
         "97831.0"
        ],
        [
         "mean",
         "0.3140824483037074"
        ],
        [
         "std",
         "1.6961278019975699"
        ],
        [
         "min",
         "0.0"
        ],
        [
         "25%",
         "0.0"
        ],
        [
         "50%",
         "0.0"
        ],
        [
         "75%",
         "0.0"
        ],
        [
         "max",
         "27.0"
        ]
       ],
       "shape": {
        "columns": 1,
        "rows": 8
       }
      },
      "text/plain": [
       "count    97831.000000\n",
       "mean         0.314082\n",
       "std          1.696128\n",
       "min          0.000000\n",
       "25%          0.000000\n",
       "50%          0.000000\n",
       "75%          0.000000\n",
       "max         27.000000\n",
       "Name: Adverse_System_Counts, dtype: float64"
      ]
     },
     "metadata": {},
     "output_type": "display_data"
    },
    {
     "data": {
      "application/vnd.microsoft.datawrangler.viewer.v0+json": {
       "columns": [
        {
         "name": "Adverse_System_Counts_Categ",
         "rawType": "category",
         "type": "unknown"
        },
        {
         "name": "count",
         "rawType": "int64",
         "type": "integer"
        }
       ],
       "ref": "609c26b7-eb66-499c-bf90-efdb1e6e6df3",
       "rows": [
        [
         null,
         "2096"
        ],
        [
         "(1, 21]",
         "130"
        ],
        [
         "(0, 1]",
         "78"
        ]
       ],
       "shape": {
        "columns": 1,
        "rows": 3
       }
      },
      "text/plain": [
       "Adverse_System_Counts_Categ\n",
       "NaN            2096\n",
       "(1.0, 21.0]     130\n",
       "(0.0, 1.0]       78\n",
       "Name: count, dtype: int64"
      ]
     },
     "execution_count": 242,
     "metadata": {},
     "output_type": "execute_result"
    }
   ],
   "source": [
    "display(df0['Adverse_System_Counts'].describe())\n",
    "display(df1['Adverse_System_Counts'].describe())\n",
    "display(df2['Adverse_System_Counts'].describe())\n",
    "display(df3['Adverse_System_Counts'].describe())\n",
    "display(df4['Adverse_System_Counts'].describe())\n",
    "display(df5['Adverse_System_Counts'].describe())\n",
    "\n",
    "df0['Adverse_System_Counts_Categ'] = pd.cut(df0[\"Adverse_System_Counts\"], bins = [0, 1, df0[\"Adverse_System_Counts\"].max()], ordered = True, include_lowest = False)  \n",
    "df1['Adverse_System_Counts_Categ'] = pd.cut(df1[\"Adverse_System_Counts\"], bins = [0, 1, df1[\"Adverse_System_Counts\"].max()], ordered = True, include_lowest = False)  \n",
    "df2['Adverse_System_Counts_Categ'] = pd.cut(df2[\"Adverse_System_Counts\"], bins = [0, 1, df2[\"Adverse_System_Counts\"].max()], ordered = True, include_lowest = False)  \n",
    "df3['Adverse_System_Counts_Categ'] = pd.cut(df3[\"Adverse_System_Counts\"], bins = [0, 1, df3[\"Adverse_System_Counts\"].max()], ordered = True, include_lowest = False)  \n",
    "df4['Adverse_System_Counts_Categ'] = pd.cut(df4[\"Adverse_System_Counts\"], bins = [0, 1, df4[\"Adverse_System_Counts\"].max()], ordered = True, include_lowest = False)  \n",
    "df5['Adverse_System_Counts_Categ'] = pd.cut(df5[\"Adverse_System_Counts\"], bins = [0, 1, df5[\"Adverse_System_Counts\"].max()], ordered = True, include_lowest = False)  \n",
    "\n",
    "df0['Adverse_System_Counts_Categ'].value_counts(dropna = False)"
   ]
  },
  {
   "cell_type": "markdown",
   "metadata": {},
   "source": [
    "### City_Counts_Categ"
   ]
  },
  {
   "cell_type": "code",
   "execution_count": 243,
   "metadata": {},
   "outputs": [
    {
     "data": {
      "application/vnd.microsoft.datawrangler.viewer.v0+json": {
       "columns": [
        {
         "name": "index",
         "rawType": "object",
         "type": "string"
        },
        {
         "name": "City_Counts",
         "rawType": "float64",
         "type": "float"
        }
       ],
       "ref": "761a1b4c-dd49-478b-8901-5bafbdffe33e",
       "rows": [
        [
         "count",
         "2304.0"
        ],
        [
         "mean",
         "1.2282986111111112"
        ],
        [
         "std",
         "3.785609044276428"
        ],
        [
         "min",
         "0.0"
        ],
        [
         "25%",
         "1.0"
        ],
        [
         "50%",
         "1.0"
        ],
        [
         "75%",
         "1.0"
        ],
        [
         "max",
         "156.0"
        ]
       ],
       "shape": {
        "columns": 1,
        "rows": 8
       }
      },
      "text/plain": [
       "count    2304.000000\n",
       "mean        1.228299\n",
       "std         3.785609\n",
       "min         0.000000\n",
       "25%         1.000000\n",
       "50%         1.000000\n",
       "75%         1.000000\n",
       "max       156.000000\n",
       "Name: City_Counts, dtype: float64"
      ]
     },
     "metadata": {},
     "output_type": "display_data"
    },
    {
     "data": {
      "application/vnd.microsoft.datawrangler.viewer.v0+json": {
       "columns": [
        {
         "name": "index",
         "rawType": "object",
         "type": "string"
        },
        {
         "name": "City_Counts",
         "rawType": "float64",
         "type": "float"
        }
       ],
       "ref": "75f78b58-c42e-4d9c-b0b1-e0cdf30616c5",
       "rows": [
        [
         "count",
         "27175.0"
        ],
        [
         "mean",
         "2.8654277828886845"
        ],
        [
         "std",
         "6.149534013267592"
        ],
        [
         "min",
         "0.0"
        ],
        [
         "25%",
         "1.0"
        ],
        [
         "50%",
         "1.0"
        ],
        [
         "75%",
         "2.0"
        ],
        [
         "max",
         "282.0"
        ]
       ],
       "shape": {
        "columns": 1,
        "rows": 8
       }
      },
      "text/plain": [
       "count    27175.000000\n",
       "mean         2.865428\n",
       "std          6.149534\n",
       "min          0.000000\n",
       "25%          1.000000\n",
       "50%          1.000000\n",
       "75%          2.000000\n",
       "max        282.000000\n",
       "Name: City_Counts, dtype: float64"
      ]
     },
     "metadata": {},
     "output_type": "display_data"
    },
    {
     "data": {
      "application/vnd.microsoft.datawrangler.viewer.v0+json": {
       "columns": [
        {
         "name": "index",
         "rawType": "object",
         "type": "string"
        },
        {
         "name": "City_Counts",
         "rawType": "float64",
         "type": "float"
        }
       ],
       "ref": "bf70a040-ed89-4104-b238-8bf62133f2e0",
       "rows": [
        [
         "count",
         "28797.0"
        ],
        [
         "mean",
         "9.132513803521201"
        ],
        [
         "std",
         "22.76980989183421"
        ],
        [
         "min",
         "0.0"
        ],
        [
         "25%",
         "1.0"
        ],
        [
         "50%",
         "1.0"
        ],
        [
         "75%",
         "8.0"
        ],
        [
         "max",
         "666.0"
        ]
       ],
       "shape": {
        "columns": 1,
        "rows": 8
       }
      },
      "text/plain": [
       "count    28797.000000\n",
       "mean         9.132514\n",
       "std         22.769810\n",
       "min          0.000000\n",
       "25%          1.000000\n",
       "50%          1.000000\n",
       "75%          8.000000\n",
       "max        666.000000\n",
       "Name: City_Counts, dtype: float64"
      ]
     },
     "metadata": {},
     "output_type": "display_data"
    },
    {
     "data": {
      "application/vnd.microsoft.datawrangler.viewer.v0+json": {
       "columns": [
        {
         "name": "index",
         "rawType": "object",
         "type": "string"
        },
        {
         "name": "City_Counts",
         "rawType": "float64",
         "type": "float"
        }
       ],
       "ref": "af693d37-0b61-4077-a815-3c38ac188303",
       "rows": [
        [
         "count",
         "16307.0"
        ],
        [
         "mean",
         "27.06359232231557"
        ],
        [
         "std",
         "58.38947982112477"
        ],
        [
         "min",
         "0.0"
        ],
        [
         "25%",
         "1.0"
        ],
        [
         "50%",
         "3.0"
        ],
        [
         "75%",
         "29.0"
        ],
        [
         "max",
         "1087.0"
        ]
       ],
       "shape": {
        "columns": 1,
        "rows": 8
       }
      },
      "text/plain": [
       "count    16307.000000\n",
       "mean        27.063592\n",
       "std         58.389480\n",
       "min          0.000000\n",
       "25%          1.000000\n",
       "50%          3.000000\n",
       "75%         29.000000\n",
       "max       1087.000000\n",
       "Name: City_Counts, dtype: float64"
      ]
     },
     "metadata": {},
     "output_type": "display_data"
    },
    {
     "data": {
      "application/vnd.microsoft.datawrangler.viewer.v0+json": {
       "columns": [
        {
         "name": "index",
         "rawType": "object",
         "type": "string"
        },
        {
         "name": "City_Counts",
         "rawType": "float64",
         "type": "float"
        }
       ],
       "ref": "09ae04b1-63e2-4448-a9cb-792919c69f73",
       "rows": [
        [
         "count",
         "13073.0"
        ],
        [
         "mean",
         "4.422397307427523"
        ],
        [
         "std",
         "18.304550608677822"
        ],
        [
         "min",
         "0.0"
        ],
        [
         "25%",
         "1.0"
        ],
        [
         "50%",
         "1.0"
        ],
        [
         "75%",
         "1.0"
        ],
        [
         "max",
         "617.0"
        ]
       ],
       "shape": {
        "columns": 1,
        "rows": 8
       }
      },
      "text/plain": [
       "count    13073.000000\n",
       "mean         4.422397\n",
       "std         18.304551\n",
       "min          0.000000\n",
       "25%          1.000000\n",
       "50%          1.000000\n",
       "75%          1.000000\n",
       "max        617.000000\n",
       "Name: City_Counts, dtype: float64"
      ]
     },
     "metadata": {},
     "output_type": "display_data"
    },
    {
     "data": {
      "application/vnd.microsoft.datawrangler.viewer.v0+json": {
       "columns": [
        {
         "name": "index",
         "rawType": "object",
         "type": "string"
        },
        {
         "name": "City_Counts",
         "rawType": "float64",
         "type": "float"
        }
       ],
       "ref": "a16e2959-cfcf-4b4b-b071-0c7f91fd6e62",
       "rows": [
        [
         "count",
         "97831.0"
        ],
        [
         "mean",
         "1.5819627725363126"
        ],
        [
         "std",
         "4.980604856015326"
        ],
        [
         "min",
         "0.0"
        ],
        [
         "25%",
         "1.0"
        ],
        [
         "50%",
         "1.0"
        ],
        [
         "75%",
         "1.0"
        ],
        [
         "max",
         "691.0"
        ]
       ],
       "shape": {
        "columns": 1,
        "rows": 8
       }
      },
      "text/plain": [
       "count    97831.000000\n",
       "mean         1.581963\n",
       "std          4.980605\n",
       "min          0.000000\n",
       "25%          1.000000\n",
       "50%          1.000000\n",
       "75%          1.000000\n",
       "max        691.000000\n",
       "Name: City_Counts, dtype: float64"
      ]
     },
     "metadata": {},
     "output_type": "display_data"
    },
    {
     "data": {
      "application/vnd.microsoft.datawrangler.viewer.v0+json": {
       "columns": [
        {
         "name": "City_Counts_Categ",
         "rawType": "category",
         "type": "unknown"
        },
        {
         "name": "count",
         "rawType": "int64",
         "type": "integer"
        }
       ],
       "ref": "9d8df52e-18d3-45db-a6d6-9bb7ef2c1686",
       "rows": [
        [
         "(0, 1]",
         "1992"
        ],
        [
         null,
         "159"
        ],
        [
         "(1, 156]",
         "153"
        ]
       ],
       "shape": {
        "columns": 1,
        "rows": 3
       }
      },
      "text/plain": [
       "City_Counts_Categ\n",
       "(0.0, 1.0]      1992\n",
       "NaN              159\n",
       "(1.0, 156.0]     153\n",
       "Name: count, dtype: int64"
      ]
     },
     "execution_count": 243,
     "metadata": {},
     "output_type": "execute_result"
    }
   ],
   "source": [
    "display(df0['City_Counts'].describe())\n",
    "display(df1['City_Counts'].describe())\n",
    "display(df2['City_Counts'].describe())\n",
    "display(df3['City_Counts'].describe())\n",
    "display(df4['City_Counts'].describe())\n",
    "display(df5['City_Counts'].describe())\n",
    "\n",
    "df0['City_Counts_Categ'] = pd.cut(df0[\"City_Counts\"], bins = [0, 1, df0[\"City_Counts\"].max()], ordered = True, include_lowest = False)  \n",
    "df1['City_Counts_Categ'] = pd.cut(df1[\"City_Counts\"], bins = [0, 1, df1[\"City_Counts\"].max()], ordered = True, include_lowest = False)  \n",
    "df2['City_Counts_Categ'] = pd.cut(df2[\"City_Counts\"], bins = [0, 1, df2[\"City_Counts\"].max()], ordered = True, include_lowest = False)  \n",
    "df3['City_Counts_Categ'] = pd.cut(df3[\"City_Counts\"], bins = [0, 1, df3[\"City_Counts\"].max()], ordered = True, include_lowest = False)  \n",
    "df4['City_Counts_Categ'] = pd.cut(df4[\"City_Counts\"], bins = [0, 1, df4[\"City_Counts\"].max()], ordered = True, include_lowest = False)  \n",
    "df5['City_Counts_Categ'] = pd.cut(df5[\"City_Counts\"], bins = [0, 1, df5[\"City_Counts\"].max()], ordered = True, include_lowest = False)  \n",
    "\n",
    "df0['City_Counts_Categ'].value_counts(dropna = False)"
   ]
  },
  {
   "cell_type": "markdown",
   "metadata": {},
   "source": [
    "### Country_Counts_Categ"
   ]
  },
  {
   "cell_type": "code",
   "execution_count": 244,
   "metadata": {},
   "outputs": [
    {
     "data": {
      "application/vnd.microsoft.datawrangler.viewer.v0+json": {
       "columns": [
        {
         "name": "index",
         "rawType": "object",
         "type": "string"
        },
        {
         "name": "Country_Counts",
         "rawType": "float64",
         "type": "float"
        }
       ],
       "ref": "5b11fe0b-596c-4045-a9b0-fa7a9b1bf927",
       "rows": [
        [
         "count",
         "2304.0"
        ],
        [
         "mean",
         "0.9609375"
        ],
        [
         "std",
         "0.4567648394316636"
        ],
        [
         "min",
         "0.0"
        ],
        [
         "25%",
         "1.0"
        ],
        [
         "50%",
         "1.0"
        ],
        [
         "75%",
         "1.0"
        ],
        [
         "max",
         "10.0"
        ]
       ],
       "shape": {
        "columns": 1,
        "rows": 8
       }
      },
      "text/plain": [
       "count    2304.000000\n",
       "mean        0.960938\n",
       "std         0.456765\n",
       "min         0.000000\n",
       "25%         1.000000\n",
       "50%         1.000000\n",
       "75%         1.000000\n",
       "max        10.000000\n",
       "Name: Country_Counts, dtype: float64"
      ]
     },
     "metadata": {},
     "output_type": "display_data"
    },
    {
     "data": {
      "application/vnd.microsoft.datawrangler.viewer.v0+json": {
       "columns": [
        {
         "name": "index",
         "rawType": "object",
         "type": "string"
        },
        {
         "name": "Country_Counts",
         "rawType": "float64",
         "type": "float"
        }
       ],
       "ref": "f85a7f49-4895-48dc-b45f-c139bf2bca7d",
       "rows": [
        [
         "count",
         "27175.0"
        ],
        [
         "mean",
         "1.2373873045078196"
        ],
        [
         "std",
         "1.216826148395249"
        ],
        [
         "min",
         "0.0"
        ],
        [
         "25%",
         "1.0"
        ],
        [
         "50%",
         "1.0"
        ],
        [
         "75%",
         "1.0"
        ],
        [
         "max",
         "33.0"
        ]
       ],
       "shape": {
        "columns": 1,
        "rows": 8
       }
      },
      "text/plain": [
       "count    27175.000000\n",
       "mean         1.237387\n",
       "std          1.216826\n",
       "min          0.000000\n",
       "25%          1.000000\n",
       "50%          1.000000\n",
       "75%          1.000000\n",
       "max         33.000000\n",
       "Name: Country_Counts, dtype: float64"
      ]
     },
     "metadata": {},
     "output_type": "display_data"
    },
    {
     "data": {
      "application/vnd.microsoft.datawrangler.viewer.v0+json": {
       "columns": [
        {
         "name": "index",
         "rawType": "object",
         "type": "string"
        },
        {
         "name": "Country_Counts",
         "rawType": "float64",
         "type": "float"
        }
       ],
       "ref": "3a1103a4-51b5-443f-99d2-872b568b4625",
       "rows": [
        [
         "count",
         "28797.0"
        ],
        [
         "mean",
         "1.8548807167413273"
        ],
        [
         "std",
         "2.8093600777100107"
        ],
        [
         "min",
         "0.0"
        ],
        [
         "25%",
         "1.0"
        ],
        [
         "50%",
         "1.0"
        ],
        [
         "75%",
         "1.0"
        ],
        [
         "max",
         "46.0"
        ]
       ],
       "shape": {
        "columns": 1,
        "rows": 8
       }
      },
      "text/plain": [
       "count    28797.000000\n",
       "mean         1.854881\n",
       "std          2.809360\n",
       "min          0.000000\n",
       "25%          1.000000\n",
       "50%          1.000000\n",
       "75%          1.000000\n",
       "max         46.000000\n",
       "Name: Country_Counts, dtype: float64"
      ]
     },
     "metadata": {},
     "output_type": "display_data"
    },
    {
     "data": {
      "application/vnd.microsoft.datawrangler.viewer.v0+json": {
       "columns": [
        {
         "name": "index",
         "rawType": "object",
         "type": "string"
        },
        {
         "name": "Country_Counts",
         "rawType": "float64",
         "type": "float"
        }
       ],
       "ref": "4f08c55e-63fb-4dcb-b67e-5c7424107ba6",
       "rows": [
        [
         "count",
         "16307.0"
        ],
        [
         "mean",
         "3.7823634022199055"
        ],
        [
         "std",
         "6.402418359947119"
        ],
        [
         "min",
         "0.0"
        ],
        [
         "25%",
         "1.0"
        ],
        [
         "50%",
         "1.0"
        ],
        [
         "75%",
         "3.0"
        ],
        [
         "max",
         "59.0"
        ]
       ],
       "shape": {
        "columns": 1,
        "rows": 8
       }
      },
      "text/plain": [
       "count    16307.000000\n",
       "mean         3.782363\n",
       "std          6.402418\n",
       "min          0.000000\n",
       "25%          1.000000\n",
       "50%          1.000000\n",
       "75%          3.000000\n",
       "max         59.000000\n",
       "Name: Country_Counts, dtype: float64"
      ]
     },
     "metadata": {},
     "output_type": "display_data"
    },
    {
     "data": {
      "application/vnd.microsoft.datawrangler.viewer.v0+json": {
       "columns": [
        {
         "name": "index",
         "rawType": "object",
         "type": "string"
        },
        {
         "name": "Country_Counts",
         "rawType": "float64",
         "type": "float"
        }
       ],
       "ref": "e3efe957-28e6-4fa8-96ec-17b4f9dc5e7f",
       "rows": [
        [
         "count",
         "13073.0"
        ],
        [
         "mean",
         "1.2371299625181673"
        ],
        [
         "std",
         "1.9671198928645488"
        ],
        [
         "min",
         "0.0"
        ],
        [
         "25%",
         "1.0"
        ],
        [
         "50%",
         "1.0"
        ],
        [
         "75%",
         "1.0"
        ],
        [
         "max",
         "42.0"
        ]
       ],
       "shape": {
        "columns": 1,
        "rows": 8
       }
      },
      "text/plain": [
       "count    13073.00000\n",
       "mean         1.23713\n",
       "std          1.96712\n",
       "min          0.00000\n",
       "25%          1.00000\n",
       "50%          1.00000\n",
       "75%          1.00000\n",
       "max         42.00000\n",
       "Name: Country_Counts, dtype: float64"
      ]
     },
     "metadata": {},
     "output_type": "display_data"
    },
    {
     "data": {
      "application/vnd.microsoft.datawrangler.viewer.v0+json": {
       "columns": [
        {
         "name": "index",
         "rawType": "object",
         "type": "string"
        },
        {
         "name": "Country_Counts",
         "rawType": "float64",
         "type": "float"
        }
       ],
       "ref": "d9d6c78e-1275-4394-9300-98f0d03b22b6",
       "rows": [
        [
         "count",
         "97831.0"
        ],
        [
         "mean",
         "0.9886947899949914"
        ],
        [
         "std",
         "0.6569010009513992"
        ],
        [
         "min",
         "0.0"
        ],
        [
         "25%",
         "1.0"
        ],
        [
         "50%",
         "1.0"
        ],
        [
         "75%",
         "1.0"
        ],
        [
         "max",
         "49.0"
        ]
       ],
       "shape": {
        "columns": 1,
        "rows": 8
       }
      },
      "text/plain": [
       "count    97831.000000\n",
       "mean         0.988695\n",
       "std          0.656901\n",
       "min          0.000000\n",
       "25%          1.000000\n",
       "50%          1.000000\n",
       "75%          1.000000\n",
       "max         49.000000\n",
       "Name: Country_Counts, dtype: float64"
      ]
     },
     "metadata": {},
     "output_type": "display_data"
    },
    {
     "data": {
      "application/vnd.microsoft.datawrangler.viewer.v0+json": {
       "columns": [
        {
         "name": "Country_Counts_Categ",
         "rawType": "category",
         "type": "unknown"
        },
        {
         "name": "count",
         "rawType": "int64",
         "type": "integer"
        }
       ],
       "ref": "c19ef1ea-6836-45c4-b316-7f86be6e16ea",
       "rows": [
        [
         "(0, 1]",
         "2118"
        ],
        [
         null,
         "159"
        ],
        [
         "(1, 10]",
         "27"
        ]
       ],
       "shape": {
        "columns": 1,
        "rows": 3
       }
      },
      "text/plain": [
       "Country_Counts_Categ\n",
       "(0.0, 1.0]     2118\n",
       "NaN             159\n",
       "(1.0, 10.0]      27\n",
       "Name: count, dtype: int64"
      ]
     },
     "execution_count": 244,
     "metadata": {},
     "output_type": "execute_result"
    }
   ],
   "source": [
    "display(df0['Country_Counts'].describe())\n",
    "display(df1['Country_Counts'].describe())\n",
    "display(df2['Country_Counts'].describe())\n",
    "display(df3['Country_Counts'].describe())\n",
    "display(df4['Country_Counts'].describe())\n",
    "display(df5['Country_Counts'].describe())\n",
    "\n",
    "df0['Country_Counts_Categ'] = pd.cut(df0[\"Country_Counts\"], bins = [0, 1, df0[\"Country_Counts\"].max()], ordered = True, include_lowest = False) \n",
    "df1['Country_Counts_Categ'] = pd.cut(df1[\"Country_Counts\"], bins = [0, 1, df1[\"Country_Counts\"].max()], ordered = True, include_lowest = False) \n",
    "df2['Country_Counts_Categ'] = pd.cut(df2[\"Country_Counts\"], bins = [0, 1, df2[\"Country_Counts\"].max()], ordered = True, include_lowest = False) \n",
    "df3['Country_Counts_Categ'] = pd.cut(df3[\"Country_Counts\"], bins = [0, 1, df3[\"Country_Counts\"].max()], ordered = True, include_lowest = False) \n",
    "df4['Country_Counts_Categ'] = pd.cut(df4[\"Country_Counts\"], bins = [0, 1, df4[\"Country_Counts\"].max()], ordered = True, include_lowest = False) \n",
    "df5['Country_Counts_Categ'] = pd.cut(df5[\"Country_Counts\"], bins = [0, 1, df5[\"Country_Counts\"].max()], ordered = True, include_lowest = False) \n",
    "\n",
    "df0['Country_Counts_Categ'].value_counts(dropna = False)"
   ]
  },
  {
   "cell_type": "markdown",
   "metadata": {},
   "source": [
    "### Continent_Counts_Categ"
   ]
  },
  {
   "cell_type": "code",
   "execution_count": 245,
   "metadata": {},
   "outputs": [
    {
     "data": {
      "application/vnd.microsoft.datawrangler.viewer.v0+json": {
       "columns": [
        {
         "name": "index",
         "rawType": "object",
         "type": "string"
        },
        {
         "name": "Continent_Counts",
         "rawType": "float64",
         "type": "float"
        }
       ],
       "ref": "55a80c4a-a633-4268-9cff-f4e38ee8779f",
       "rows": [
        [
         "count",
         "2304.0"
        ],
        [
         "mean",
         "0.9340277777777778"
        ],
        [
         "std",
         "0.2810965920477991"
        ],
        [
         "min",
         "0.0"
        ],
        [
         "25%",
         "1.0"
        ],
        [
         "50%",
         "1.0"
        ],
        [
         "75%",
         "1.0"
        ],
        [
         "max",
         "3.0"
        ]
       ],
       "shape": {
        "columns": 1,
        "rows": 8
       }
      },
      "text/plain": [
       "count    2304.000000\n",
       "mean        0.934028\n",
       "std         0.281097\n",
       "min         0.000000\n",
       "25%         1.000000\n",
       "50%         1.000000\n",
       "75%         1.000000\n",
       "max         3.000000\n",
       "Name: Continent_Counts, dtype: float64"
      ]
     },
     "metadata": {},
     "output_type": "display_data"
    },
    {
     "data": {
      "application/vnd.microsoft.datawrangler.viewer.v0+json": {
       "columns": [
        {
         "name": "index",
         "rawType": "object",
         "type": "string"
        },
        {
         "name": "Continent_Counts",
         "rawType": "float64",
         "type": "float"
        }
       ],
       "ref": "47f2c8e8-e617-49f4-b863-8f9b6b5aa9c9",
       "rows": [
        [
         "count",
         "27175.0"
        ],
        [
         "mean",
         "1.0504139834406623"
        ],
        [
         "std",
         "0.504448921409264"
        ],
        [
         "min",
         "0.0"
        ],
        [
         "25%",
         "1.0"
        ],
        [
         "50%",
         "1.0"
        ],
        [
         "75%",
         "1.0"
        ],
        [
         "max",
         "7.0"
        ]
       ],
       "shape": {
        "columns": 1,
        "rows": 8
       }
      },
      "text/plain": [
       "count    27175.000000\n",
       "mean         1.050414\n",
       "std          0.504449\n",
       "min          0.000000\n",
       "25%          1.000000\n",
       "50%          1.000000\n",
       "75%          1.000000\n",
       "max          7.000000\n",
       "Name: Continent_Counts, dtype: float64"
      ]
     },
     "metadata": {},
     "output_type": "display_data"
    },
    {
     "data": {
      "application/vnd.microsoft.datawrangler.viewer.v0+json": {
       "columns": [
        {
         "name": "index",
         "rawType": "object",
         "type": "string"
        },
        {
         "name": "Continent_Counts",
         "rawType": "float64",
         "type": "float"
        }
       ],
       "ref": "051e93fd-c9cc-4f1b-b9ff-0dcd96b32433",
       "rows": [
        [
         "count",
         "28797.0"
        ],
        [
         "mean",
         "1.1965829773934784"
        ],
        [
         "std",
         "0.8337274936807055"
        ],
        [
         "min",
         "0.0"
        ],
        [
         "25%",
         "1.0"
        ],
        [
         "50%",
         "1.0"
        ],
        [
         "75%",
         "1.0"
        ],
        [
         "max",
         "7.0"
        ]
       ],
       "shape": {
        "columns": 1,
        "rows": 8
       }
      },
      "text/plain": [
       "count    28797.000000\n",
       "mean         1.196583\n",
       "std          0.833727\n",
       "min          0.000000\n",
       "25%          1.000000\n",
       "50%          1.000000\n",
       "75%          1.000000\n",
       "max          7.000000\n",
       "Name: Continent_Counts, dtype: float64"
      ]
     },
     "metadata": {},
     "output_type": "display_data"
    },
    {
     "data": {
      "application/vnd.microsoft.datawrangler.viewer.v0+json": {
       "columns": [
        {
         "name": "index",
         "rawType": "object",
         "type": "string"
        },
        {
         "name": "Continent_Counts",
         "rawType": "float64",
         "type": "float"
        }
       ],
       "ref": "bb62f765-fd0f-4df3-a011-64ae68906969",
       "rows": [
        [
         "count",
         "16307.0"
        ],
        [
         "mean",
         "1.5936101060894095"
        ],
        [
         "std",
         "1.4783663005154044"
        ],
        [
         "min",
         "0.0"
        ],
        [
         "25%",
         "1.0"
        ],
        [
         "50%",
         "1.0"
        ],
        [
         "75%",
         "1.0"
        ],
        [
         "max",
         "7.0"
        ]
       ],
       "shape": {
        "columns": 1,
        "rows": 8
       }
      },
      "text/plain": [
       "count    16307.000000\n",
       "mean         1.593610\n",
       "std          1.478366\n",
       "min          0.000000\n",
       "25%          1.000000\n",
       "50%          1.000000\n",
       "75%          1.000000\n",
       "max          7.000000\n",
       "Name: Continent_Counts, dtype: float64"
      ]
     },
     "metadata": {},
     "output_type": "display_data"
    },
    {
     "data": {
      "application/vnd.microsoft.datawrangler.viewer.v0+json": {
       "columns": [
        {
         "name": "index",
         "rawType": "object",
         "type": "string"
        },
        {
         "name": "Continent_Counts",
         "rawType": "float64",
         "type": "float"
        }
       ],
       "ref": "3e3b265c-1910-481d-be7a-a720b1ce9547",
       "rows": [
        [
         "count",
         "13073.0"
        ],
        [
         "mean",
         "0.986231163466687"
        ],
        [
         "std",
         "0.5352850744043302"
        ],
        [
         "min",
         "0.0"
        ],
        [
         "25%",
         "1.0"
        ],
        [
         "50%",
         "1.0"
        ],
        [
         "75%",
         "1.0"
        ],
        [
         "max",
         "7.0"
        ]
       ],
       "shape": {
        "columns": 1,
        "rows": 8
       }
      },
      "text/plain": [
       "count    13073.000000\n",
       "mean         0.986231\n",
       "std          0.535285\n",
       "min          0.000000\n",
       "25%          1.000000\n",
       "50%          1.000000\n",
       "75%          1.000000\n",
       "max          7.000000\n",
       "Name: Continent_Counts, dtype: float64"
      ]
     },
     "metadata": {},
     "output_type": "display_data"
    },
    {
     "data": {
      "application/vnd.microsoft.datawrangler.viewer.v0+json": {
       "columns": [
        {
         "name": "index",
         "rawType": "object",
         "type": "string"
        },
        {
         "name": "Continent_Counts",
         "rawType": "float64",
         "type": "float"
        }
       ],
       "ref": "8c5642cf-5e51-4ced-b0d1-801d9140e5ba",
       "rows": [
        [
         "count",
         "97831.0"
        ],
        [
         "mean",
         "0.9386084165550796"
        ],
        [
         "std",
         "0.3192883158202594"
        ],
        [
         "min",
         "0.0"
        ],
        [
         "25%",
         "1.0"
        ],
        [
         "50%",
         "1.0"
        ],
        [
         "75%",
         "1.0"
        ],
        [
         "max",
         "7.0"
        ]
       ],
       "shape": {
        "columns": 1,
        "rows": 8
       }
      },
      "text/plain": [
       "count    97831.000000\n",
       "mean         0.938608\n",
       "std          0.319288\n",
       "min          0.000000\n",
       "25%          1.000000\n",
       "50%          1.000000\n",
       "75%          1.000000\n",
       "max          7.000000\n",
       "Name: Continent_Counts, dtype: float64"
      ]
     },
     "metadata": {},
     "output_type": "display_data"
    },
    {
     "data": {
      "application/vnd.microsoft.datawrangler.viewer.v0+json": {
       "columns": [
        {
         "name": "Continent_Counts_Categ",
         "rawType": "category",
         "type": "unknown"
        },
        {
         "name": "count",
         "rawType": "int64",
         "type": "integer"
        }
       ],
       "ref": "f4695a39-e8c7-4990-b1dc-7c23b49c7bca",
       "rows": [
        [
         "(0, 1]",
         "2121"
        ],
        [
         null,
         "169"
        ],
        [
         "(1, 3]",
         "14"
        ]
       ],
       "shape": {
        "columns": 1,
        "rows": 3
       }
      },
      "text/plain": [
       "Continent_Counts_Categ\n",
       "(0.0, 1.0]    2121\n",
       "NaN            169\n",
       "(1.0, 3.0]      14\n",
       "Name: count, dtype: int64"
      ]
     },
     "execution_count": 245,
     "metadata": {},
     "output_type": "execute_result"
    }
   ],
   "source": [
    "display(df0['Continent_Counts'].describe())\n",
    "display(df1['Continent_Counts'].describe())\n",
    "display(df2['Continent_Counts'].describe())\n",
    "display(df3['Continent_Counts'].describe())\n",
    "display(df4['Continent_Counts'].describe())\n",
    "display(df5['Continent_Counts'].describe())\n",
    "\n",
    "df0['Continent_Counts_Categ'] = pd.cut(df0[\"Continent_Counts\"], bins = [0, 1, df0[\"Continent_Counts\"].max()], ordered = True, include_lowest = False) \n",
    "df1['Continent_Counts_Categ'] = pd.cut(df1[\"Continent_Counts\"], bins = [0, 1, df1[\"Continent_Counts\"].max()], ordered = True, include_lowest = False) \n",
    "df2['Continent_Counts_Categ'] = pd.cut(df2[\"Continent_Counts\"], bins = [0, 1, df2[\"Continent_Counts\"].max()], ordered = True, include_lowest = False) \n",
    "df3['Continent_Counts_Categ'] = pd.cut(df3[\"Continent_Counts\"], bins = [0, 1, df3[\"Continent_Counts\"].max()], ordered = True, include_lowest = False) \n",
    "df4['Continent_Counts_Categ'] = pd.cut(df4[\"Continent_Counts\"], bins = [0, 1, df4[\"Continent_Counts\"].max()], ordered = True, include_lowest = False) \n",
    "df5['Continent_Counts_Categ'] = pd.cut(df5[\"Continent_Counts\"], bins = [0, 1, df5[\"Continent_Counts\"].max()], ordered = True, include_lowest = False) \n",
    "\n",
    "df0['Continent_Counts_Categ'].value_counts(dropna = False)"
   ]
  },
  {
   "cell_type": "markdown",
   "metadata": {},
   "source": [
    "### Arm_Counts_Categ\n",
    "- See thsesis_Vizual --> Many data points in specific values. 1-2 many data points and less in >=3. + Skewed --> Visible change after 2 (=median in all dfs) --> Better categorical."
   ]
  },
  {
   "cell_type": "code",
   "execution_count": 246,
   "metadata": {},
   "outputs": [
    {
     "data": {
      "application/vnd.microsoft.datawrangler.viewer.v0+json": {
       "columns": [
        {
         "name": "index",
         "rawType": "object",
         "type": "string"
        },
        {
         "name": "Arm_Counts",
         "rawType": "float64",
         "type": "float"
        }
       ],
       "ref": "f35f537e-acf9-4066-9f79-a064a7f1f579",
       "rows": [
        [
         "count",
         "2281.0"
        ],
        [
         "mean",
         "1.9351161771153003"
        ],
        [
         "std",
         "1.4099267733587444"
        ],
        [
         "min",
         "1.0"
        ],
        [
         "25%",
         "1.0"
        ],
        [
         "50%",
         "2.0"
        ],
        [
         "75%",
         "2.0"
        ],
        [
         "max",
         "40.0"
        ]
       ],
       "shape": {
        "columns": 1,
        "rows": 8
       }
      },
      "text/plain": [
       "count    2281.000000\n",
       "mean        1.935116\n",
       "std         1.409927\n",
       "min         1.000000\n",
       "25%         1.000000\n",
       "50%         2.000000\n",
       "75%         2.000000\n",
       "max        40.000000\n",
       "Name: Arm_Counts, dtype: float64"
      ]
     },
     "metadata": {},
     "output_type": "display_data"
    },
    {
     "data": {
      "application/vnd.microsoft.datawrangler.viewer.v0+json": {
       "columns": [
        {
         "name": "index",
         "rawType": "object",
         "type": "string"
        },
        {
         "name": "Arm_Counts",
         "rawType": "float64",
         "type": "float"
        }
       ],
       "ref": "2f71ea35-0a21-4a07-8c44-3b926727e2f9",
       "rows": [
        [
         "count",
         "26980.0"
        ],
        [
         "mean",
         "2.7543365455893256"
        ],
        [
         "std",
         "2.402644911250985"
        ],
        [
         "min",
         "1.0"
        ],
        [
         "25%",
         "1.0"
        ],
        [
         "50%",
         "2.0"
        ],
        [
         "75%",
         "3.0"
        ],
        [
         "max",
         "44.0"
        ]
       ],
       "shape": {
        "columns": 1,
        "rows": 8
       }
      },
      "text/plain": [
       "count    26980.000000\n",
       "mean         2.754337\n",
       "std          2.402645\n",
       "min          1.000000\n",
       "25%          1.000000\n",
       "50%          2.000000\n",
       "75%          3.000000\n",
       "max         44.000000\n",
       "Name: Arm_Counts, dtype: float64"
      ]
     },
     "metadata": {},
     "output_type": "display_data"
    },
    {
     "data": {
      "application/vnd.microsoft.datawrangler.viewer.v0+json": {
       "columns": [
        {
         "name": "index",
         "rawType": "object",
         "type": "string"
        },
        {
         "name": "Arm_Counts",
         "rawType": "float64",
         "type": "float"
        }
       ],
       "ref": "843ae741-5da7-4d7c-a33e-36317195bd4c",
       "rows": [
        [
         "count",
         "28674.0"
        ],
        [
         "mean",
         "2.3365418148845642"
        ],
        [
         "std",
         "1.7536761462796377"
        ],
        [
         "min",
         "1.0"
        ],
        [
         "25%",
         "1.0"
        ],
        [
         "50%",
         "2.0"
        ],
        [
         "75%",
         "3.0"
        ],
        [
         "max",
         "43.0"
        ]
       ],
       "shape": {
        "columns": 1,
        "rows": 8
       }
      },
      "text/plain": [
       "count    28674.000000\n",
       "mean         2.336542\n",
       "std          1.753676\n",
       "min          1.000000\n",
       "25%          1.000000\n",
       "50%          2.000000\n",
       "75%          3.000000\n",
       "max         43.000000\n",
       "Name: Arm_Counts, dtype: float64"
      ]
     },
     "metadata": {},
     "output_type": "display_data"
    },
    {
     "data": {
      "application/vnd.microsoft.datawrangler.viewer.v0+json": {
       "columns": [
        {
         "name": "index",
         "rawType": "object",
         "type": "string"
        },
        {
         "name": "Arm_Counts",
         "rawType": "float64",
         "type": "float"
        }
       ],
       "ref": "7e233842-87e2-4c6f-bb2e-e28990ce2b2a",
       "rows": [
        [
         "count",
         "16281.0"
        ],
        [
         "mean",
         "2.264848596523555"
        ],
        [
         "std",
         "1.1670636848342388"
        ],
        [
         "min",
         "1.0"
        ],
        [
         "25%",
         "2.0"
        ],
        [
         "50%",
         "2.0"
        ],
        [
         "75%",
         "2.0"
        ],
        [
         "max",
         "32.0"
        ]
       ],
       "shape": {
        "columns": 1,
        "rows": 8
       }
      },
      "text/plain": [
       "count    16281.000000\n",
       "mean         2.264849\n",
       "std          1.167064\n",
       "min          1.000000\n",
       "25%          2.000000\n",
       "50%          2.000000\n",
       "75%          2.000000\n",
       "max         32.000000\n",
       "Name: Arm_Counts, dtype: float64"
      ]
     },
     "metadata": {},
     "output_type": "display_data"
    },
    {
     "data": {
      "application/vnd.microsoft.datawrangler.viewer.v0+json": {
       "columns": [
        {
         "name": "index",
         "rawType": "object",
         "type": "string"
        },
        {
         "name": "Arm_Counts",
         "rawType": "float64",
         "type": "float"
        }
       ],
       "ref": "9f1438ac-d805-4d77-bbd4-69b2ed0069fb",
       "rows": [
        [
         "count",
         "13030.0"
        ],
        [
         "mean",
         "2.085111281657713"
        ],
        [
         "std",
         "0.9867730499784423"
        ],
        [
         "min",
         "1.0"
        ],
        [
         "25%",
         "2.0"
        ],
        [
         "50%",
         "2.0"
        ],
        [
         "75%",
         "2.0"
        ],
        [
         "max",
         "32.0"
        ]
       ],
       "shape": {
        "columns": 1,
        "rows": 8
       }
      },
      "text/plain": [
       "count    13030.000000\n",
       "mean         2.085111\n",
       "std          0.986773\n",
       "min          1.000000\n",
       "25%          2.000000\n",
       "50%          2.000000\n",
       "75%          2.000000\n",
       "max         32.000000\n",
       "Name: Arm_Counts, dtype: float64"
      ]
     },
     "metadata": {},
     "output_type": "display_data"
    },
    {
     "data": {
      "application/vnd.microsoft.datawrangler.viewer.v0+json": {
       "columns": [
        {
         "name": "index",
         "rawType": "object",
         "type": "string"
        },
        {
         "name": "Arm_Counts",
         "rawType": "float64",
         "type": "float"
        }
       ],
       "ref": "2c688e6c-9588-40e4-b3a1-5146fefd7e3f",
       "rows": [
        [
         "count",
         "97286.0"
        ],
        [
         "mean",
         "2.0648603087802972"
        ],
        [
         "std",
         "1.0634529240252664"
        ],
        [
         "min",
         "1.0"
        ],
        [
         "25%",
         "2.0"
        ],
        [
         "50%",
         "2.0"
        ],
        [
         "75%",
         "2.0"
        ],
        [
         "max",
         "32.0"
        ]
       ],
       "shape": {
        "columns": 1,
        "rows": 8
       }
      },
      "text/plain": [
       "count    97286.000000\n",
       "mean         2.064860\n",
       "std          1.063453\n",
       "min          1.000000\n",
       "25%          2.000000\n",
       "50%          2.000000\n",
       "75%          2.000000\n",
       "max         32.000000\n",
       "Name: Arm_Counts, dtype: float64"
      ]
     },
     "metadata": {},
     "output_type": "display_data"
    },
    {
     "data": {
      "application/vnd.microsoft.datawrangler.viewer.v0+json": {
       "columns": [
        {
         "name": "Arm_Counts_Categ",
         "rawType": "category",
         "type": "unknown"
        },
        {
         "name": "count",
         "rawType": "int64",
         "type": "integer"
        }
       ],
       "ref": "169a8bbe-37bf-4452-869b-5ac7cc28ed72",
       "rows": [
        [
         "(0.0, 2.0]",
         "1893"
        ],
        [
         "(2.0, 40.0]",
         "388"
        ],
        [
         null,
         "23"
        ]
       ],
       "shape": {
        "columns": 1,
        "rows": 3
       }
      },
      "text/plain": [
       "Arm_Counts_Categ\n",
       "(0.0, 2.0]     1893\n",
       "(2.0, 40.0]     388\n",
       "NaN              23\n",
       "Name: count, dtype: int64"
      ]
     },
     "execution_count": 246,
     "metadata": {},
     "output_type": "execute_result"
    }
   ],
   "source": [
    "display(df0['Arm_Counts'].describe())\n",
    "display(df1['Arm_Counts'].describe())\n",
    "display(df2['Arm_Counts'].describe())\n",
    "display(df3['Arm_Counts'].describe())\n",
    "display(df4['Arm_Counts'].describe())\n",
    "display(df5['Arm_Counts'].describe())\n",
    "\n",
    "df0['Arm_Counts_Categ'] = pd.cut(df0[\"Arm_Counts\"], bins = [0, 2, df0[\"Arm_Counts\"].max()], ordered = True, include_lowest = False)  \n",
    "df1['Arm_Counts_Categ'] = pd.cut(df1[\"Arm_Counts\"], bins = [0, 2, df1[\"Arm_Counts\"].max()], ordered = True, include_lowest = False)  \n",
    "df2['Arm_Counts_Categ'] = pd.cut(df2[\"Arm_Counts\"], bins = [0, 2, df2[\"Arm_Counts\"].max()], ordered = True, include_lowest = False)  \n",
    "df3['Arm_Counts_Categ'] = pd.cut(df3[\"Arm_Counts\"], bins = [0, 2, df3[\"Arm_Counts\"].max()], ordered = True, include_lowest = False)  \n",
    "df4['Arm_Counts_Categ'] = pd.cut(df4[\"Arm_Counts\"], bins = [0, 2, df4[\"Arm_Counts\"].max()], ordered = True, include_lowest = False)  \n",
    "df5['Arm_Counts_Categ'] = pd.cut(df5[\"Arm_Counts\"], bins = [0, 2, df5[\"Arm_Counts\"].max()], ordered = True, include_lowest = False)  \n",
    "\n",
    "df0['Arm_Counts_Categ'].value_counts(dropna = False)"
   ]
  },
  {
   "cell_type": "markdown",
   "metadata": {},
   "source": [
    "## Fillna [] list columns"
   ]
  },
  {
   "cell_type": "code",
   "execution_count": 249,
   "metadata": {},
   "outputs": [],
   "source": [
    "def fill_list(dfis, cols):\n",
    "    for dfi, col in zip(dfis, cols):\n",
    "        dfi[col] = dfi[col].apply(lambda x: [\"None\"] if x == [] else x)  # So not to be dropped\n",
    "\n",
    "dfis = [df0, df1, df2, df3, df4, df5]\n",
    "cols = ['Study_Documents_List', 'Conditions_List', 'Conditions_List', 'Outcomes_List', 'Adverse_List', 'Adverse_System_List', 'Masking_Detail_List', 'Outcomes_List', 'Continents_List']\n",
    "fill_list(dfis, cols)\n"
   ]
  },
  {
   "cell_type": "markdown",
   "metadata": {},
   "source": [
    "# 7) Save Dfs"
   ]
  },
  {
   "cell_type": "code",
   "execution_count": 259,
   "metadata": {},
   "outputs": [],
   "source": [
    "df.to_pickle(\"df.pkl\")  # pickle better to save dtypes e.g category, period etc. --> csv does not save dtypes\n",
    "df0.to_pickle(\"df0.pkl\")\n",
    "df1.to_pickle(\"df1.pkl\")\n",
    "df2.to_pickle(\"df2.pkl\")\n",
    "df3.to_pickle(\"df3.pkl\")\n",
    "df4.to_pickle(\"df4.pkl\")\n",
    "df5.to_pickle(\"df5.pkl\")\n"
   ]
  }
 ],
 "metadata": {
  "kernelspec": {
   "display_name": "Python 3",
   "language": "python",
   "name": "python3"
  },
  "language_info": {
   "codemirror_mode": {
    "name": "ipython",
    "version": 3
   },
   "file_extension": ".py",
   "mimetype": "text/x-python",
   "name": "python",
   "nbconvert_exporter": "python",
   "pygments_lexer": "ipython3",
   "version": "3.12.10"
  }
 },
 "nbformat": 4,
 "nbformat_minor": 2
}
